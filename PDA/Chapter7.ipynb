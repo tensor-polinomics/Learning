{
 "cells": [
  {
   "cell_type": "markdown",
   "id": "09d1ae51",
   "metadata": {},
   "source": [
    "# Chapter 7. Data Cleaning and Preparation\n",
    "\n",
    "## Handling Missing Data\n",
    "\n",
    "*pandas* use `NaN` to represent missing data, which is called a *sentinel* value.\n",
    "\n",
    "## Data Transformation\n",
    "## Extension Data Types\n",
    "## String Manipulation\n",
    "## Categorical Data"
   ]
  },
  {
   "cell_type": "code",
   "execution_count": 1,
   "id": "9c98bc7d",
   "metadata": {},
   "outputs": [],
   "source": [
    "import numpy as np\n",
    "import pandas as pd\n",
    "import matplotlib.pyplot as plt"
   ]
  },
  {
   "cell_type": "code",
   "execution_count": 5,
   "id": "7e70b13a",
   "metadata": {},
   "outputs": [
    {
     "data": {
      "application/vnd.microsoft.datawrangler.viewer.v0+json": {
       "columns": [
        {
         "name": "index",
         "rawType": "int64",
         "type": "integer"
        },
        {
         "name": "0",
         "rawType": "float64",
         "type": "float"
        }
       ],
       "ref": "88ebbe5e-c3b2-458a-9ccc-d5b39bb3e7ee",
       "rows": [
        [
         "0",
         "1.2"
        ],
        [
         "1",
         "-3.5"
        ],
        [
         "2",
         null
        ],
        [
         "3",
         null
        ],
        [
         "4",
         "0.0"
        ]
       ],
       "shape": {
        "columns": 1,
        "rows": 5
       }
      },
      "text/plain": [
       "0    1.2\n",
       "1   -3.5\n",
       "2    NaN\n",
       "3    NaN\n",
       "4    0.0\n",
       "dtype: float64"
      ]
     },
     "execution_count": 5,
     "metadata": {},
     "output_type": "execute_result"
    }
   ],
   "source": [
    "float_data = pd.Series([1.2, -3.5, np.nan, None, 0])\n",
    "float_data.isna()\n",
    "float_data"
   ]
  },
  {
   "cell_type": "code",
   "execution_count": null,
   "id": "d7a01d4e",
   "metadata": {},
   "outputs": [],
   "source": []
  }
 ],
 "metadata": {
  "kernelspec": {
   "display_name": "Python 3.12 (l5)",
   "language": "python",
   "name": "l5-312"
  },
  "language_info": {
   "codemirror_mode": {
    "name": "ipython",
    "version": 3
   },
   "file_extension": ".py",
   "mimetype": "text/x-python",
   "name": "python",
   "nbconvert_exporter": "python",
   "pygments_lexer": "ipython3",
   "version": "3.13.7"
  }
 },
 "nbformat": 4,
 "nbformat_minor": 5
}
