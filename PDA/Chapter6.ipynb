{
 "cells": [
  {
   "cell_type": "markdown",
   "id": "787a9563",
   "metadata": {},
   "source": [
    "# Chapter 6. Data Loading, Storage, and File Formats\n",
    "\n",
    "In this chapter, we mostly work with data I/O, called data loading or parsing.\n",
    "\n",
    "## Reading and Writing Data in Text Format\n",
    "\n",
    "*pandas* has a number of built-in functions to read data in different formats:\n",
    "- `read_csv`, `read_fwf`, `read_clipboard`, `read_excel`\n",
    "- `read_html`, `read_xml`, `read_json`\n",
    "- `read_parquet`, `read_pickle`, `read_sql`, `read_sql_table`\n",
    "\n",
    "There are a number of common parameters:\n",
    "- *Indexing* allows you to decide which columns to load, whether to get column names from the file, etc.\n",
    "- *Type inference and data conversion* includes user-defined value conversions and custom list of missing value markers.\n",
    "- *Data and time parsing* includes the ability to combine date and time information spread over multiple columns.\n",
    "- *Interating* support for iterating over chunks of very large files.\n",
    "- *Other data cleaning* techniques"
   ]
  },
  {
   "cell_type": "code",
   "execution_count": 1,
   "id": "9588336f",
   "metadata": {},
   "outputs": [],
   "source": [
    "import numpy as np\n",
    "import pandas as pd\n",
    "import matplotlib.pyplot as plt"
   ]
  },
  {
   "cell_type": "code",
   "execution_count": 2,
   "id": "a7e481df",
   "metadata": {},
   "outputs": [
    {
     "data": {
      "application/vnd.microsoft.datawrangler.viewer.v0+json": {
       "columns": [
        {
         "name": "index",
         "rawType": "int64",
         "type": "integer"
        },
        {
         "name": "a",
         "rawType": "int64",
         "type": "integer"
        },
        {
         "name": "b",
         "rawType": "int64",
         "type": "integer"
        },
        {
         "name": "c",
         "rawType": "int64",
         "type": "integer"
        },
        {
         "name": "d",
         "rawType": "int64",
         "type": "integer"
        },
        {
         "name": "message",
         "rawType": "object",
         "type": "string"
        }
       ],
       "ref": "15c3b2b0-c090-41d1-a29f-76c3c04c39f2",
       "rows": [
        [
         "0",
         "1",
         "2",
         "3",
         "4",
         "hello"
        ],
        [
         "1",
         "5",
         "6",
         "7",
         "8",
         "world"
        ],
        [
         "2",
         "9",
         "10",
         "11",
         "12",
         "foo"
        ]
       ],
       "shape": {
        "columns": 5,
        "rows": 3
       }
      },
      "text/html": [
       "<div>\n",
       "<style scoped>\n",
       "    .dataframe tbody tr th:only-of-type {\n",
       "        vertical-align: middle;\n",
       "    }\n",
       "\n",
       "    .dataframe tbody tr th {\n",
       "        vertical-align: top;\n",
       "    }\n",
       "\n",
       "    .dataframe thead th {\n",
       "        text-align: right;\n",
       "    }\n",
       "</style>\n",
       "<table border=\"1\" class=\"dataframe\">\n",
       "  <thead>\n",
       "    <tr style=\"text-align: right;\">\n",
       "      <th></th>\n",
       "      <th>a</th>\n",
       "      <th>b</th>\n",
       "      <th>c</th>\n",
       "      <th>d</th>\n",
       "      <th>message</th>\n",
       "    </tr>\n",
       "  </thead>\n",
       "  <tbody>\n",
       "    <tr>\n",
       "      <th>0</th>\n",
       "      <td>1</td>\n",
       "      <td>2</td>\n",
       "      <td>3</td>\n",
       "      <td>4</td>\n",
       "      <td>hello</td>\n",
       "    </tr>\n",
       "    <tr>\n",
       "      <th>1</th>\n",
       "      <td>5</td>\n",
       "      <td>6</td>\n",
       "      <td>7</td>\n",
       "      <td>8</td>\n",
       "      <td>world</td>\n",
       "    </tr>\n",
       "    <tr>\n",
       "      <th>2</th>\n",
       "      <td>9</td>\n",
       "      <td>10</td>\n",
       "      <td>11</td>\n",
       "      <td>12</td>\n",
       "      <td>foo</td>\n",
       "    </tr>\n",
       "  </tbody>\n",
       "</table>\n",
       "</div>"
      ],
      "text/plain": [
       "   a   b   c   d message\n",
       "0  1   2   3   4   hello\n",
       "1  5   6   7   8   world\n",
       "2  9  10  11  12     foo"
      ]
     },
     "execution_count": 2,
     "metadata": {},
     "output_type": "execute_result"
    }
   ],
   "source": [
    "# Loading a tiny sample data with header\n",
    "df = pd.read_csv('examples/ex1.csv')\n",
    "df"
   ]
  },
  {
   "cell_type": "code",
   "execution_count": 3,
   "id": "abfe6db8",
   "metadata": {},
   "outputs": [
    {
     "data": {
      "application/vnd.microsoft.datawrangler.viewer.v0+json": {
       "columns": [
        {
         "name": "index",
         "rawType": "int64",
         "type": "integer"
        },
        {
         "name": "0",
         "rawType": "int64",
         "type": "integer"
        },
        {
         "name": "1",
         "rawType": "int64",
         "type": "integer"
        },
        {
         "name": "2",
         "rawType": "int64",
         "type": "integer"
        },
        {
         "name": "3",
         "rawType": "int64",
         "type": "integer"
        },
        {
         "name": "4",
         "rawType": "object",
         "type": "string"
        }
       ],
       "ref": "4c6bffaf-c1a4-4f61-8b21-bd3075877f7d",
       "rows": [
        [
         "0",
         "1",
         "2",
         "3",
         "4",
         "hello"
        ],
        [
         "1",
         "5",
         "6",
         "7",
         "8",
         "world"
        ],
        [
         "2",
         "9",
         "10",
         "11",
         "12",
         "foo"
        ]
       ],
       "shape": {
        "columns": 5,
        "rows": 3
       }
      },
      "text/html": [
       "<div>\n",
       "<style scoped>\n",
       "    .dataframe tbody tr th:only-of-type {\n",
       "        vertical-align: middle;\n",
       "    }\n",
       "\n",
       "    .dataframe tbody tr th {\n",
       "        vertical-align: top;\n",
       "    }\n",
       "\n",
       "    .dataframe thead th {\n",
       "        text-align: right;\n",
       "    }\n",
       "</style>\n",
       "<table border=\"1\" class=\"dataframe\">\n",
       "  <thead>\n",
       "    <tr style=\"text-align: right;\">\n",
       "      <th></th>\n",
       "      <th>0</th>\n",
       "      <th>1</th>\n",
       "      <th>2</th>\n",
       "      <th>3</th>\n",
       "      <th>4</th>\n",
       "    </tr>\n",
       "  </thead>\n",
       "  <tbody>\n",
       "    <tr>\n",
       "      <th>0</th>\n",
       "      <td>1</td>\n",
       "      <td>2</td>\n",
       "      <td>3</td>\n",
       "      <td>4</td>\n",
       "      <td>hello</td>\n",
       "    </tr>\n",
       "    <tr>\n",
       "      <th>1</th>\n",
       "      <td>5</td>\n",
       "      <td>6</td>\n",
       "      <td>7</td>\n",
       "      <td>8</td>\n",
       "      <td>world</td>\n",
       "    </tr>\n",
       "    <tr>\n",
       "      <th>2</th>\n",
       "      <td>9</td>\n",
       "      <td>10</td>\n",
       "      <td>11</td>\n",
       "      <td>12</td>\n",
       "      <td>foo</td>\n",
       "    </tr>\n",
       "  </tbody>\n",
       "</table>\n",
       "</div>"
      ],
      "text/plain": [
       "   0   1   2   3      4\n",
       "0  1   2   3   4  hello\n",
       "1  5   6   7   8  world\n",
       "2  9  10  11  12    foo"
      ]
     },
     "execution_count": 3,
     "metadata": {},
     "output_type": "execute_result"
    }
   ],
   "source": [
    "# Loading a tiny sample data without header\n",
    "pd.read_csv('examples/ex2.csv', header=None)"
   ]
  },
  {
   "cell_type": "code",
   "execution_count": 4,
   "id": "5448173c",
   "metadata": {},
   "outputs": [
    {
     "data": {
      "application/vnd.microsoft.datawrangler.viewer.v0+json": {
       "columns": [
        {
         "name": "message",
         "rawType": "object",
         "type": "string"
        },
        {
         "name": "a",
         "rawType": "int64",
         "type": "integer"
        },
        {
         "name": "b",
         "rawType": "int64",
         "type": "integer"
        },
        {
         "name": "c",
         "rawType": "int64",
         "type": "integer"
        },
        {
         "name": "d",
         "rawType": "int64",
         "type": "integer"
        }
       ],
       "ref": "80de9630-4327-493b-8c25-113b5ef78e6d",
       "rows": [
        [
         "hello",
         "1",
         "2",
         "3",
         "4"
        ],
        [
         "world",
         "5",
         "6",
         "7",
         "8"
        ],
        [
         "foo",
         "9",
         "10",
         "11",
         "12"
        ]
       ],
       "shape": {
        "columns": 4,
        "rows": 3
       }
      },
      "text/html": [
       "<div>\n",
       "<style scoped>\n",
       "    .dataframe tbody tr th:only-of-type {\n",
       "        vertical-align: middle;\n",
       "    }\n",
       "\n",
       "    .dataframe tbody tr th {\n",
       "        vertical-align: top;\n",
       "    }\n",
       "\n",
       "    .dataframe thead th {\n",
       "        text-align: right;\n",
       "    }\n",
       "</style>\n",
       "<table border=\"1\" class=\"dataframe\">\n",
       "  <thead>\n",
       "    <tr style=\"text-align: right;\">\n",
       "      <th></th>\n",
       "      <th>a</th>\n",
       "      <th>b</th>\n",
       "      <th>c</th>\n",
       "      <th>d</th>\n",
       "    </tr>\n",
       "    <tr>\n",
       "      <th>message</th>\n",
       "      <th></th>\n",
       "      <th></th>\n",
       "      <th></th>\n",
       "      <th></th>\n",
       "    </tr>\n",
       "  </thead>\n",
       "  <tbody>\n",
       "    <tr>\n",
       "      <th>hello</th>\n",
       "      <td>1</td>\n",
       "      <td>2</td>\n",
       "      <td>3</td>\n",
       "      <td>4</td>\n",
       "    </tr>\n",
       "    <tr>\n",
       "      <th>world</th>\n",
       "      <td>5</td>\n",
       "      <td>6</td>\n",
       "      <td>7</td>\n",
       "      <td>8</td>\n",
       "    </tr>\n",
       "    <tr>\n",
       "      <th>foo</th>\n",
       "      <td>9</td>\n",
       "      <td>10</td>\n",
       "      <td>11</td>\n",
       "      <td>12</td>\n",
       "    </tr>\n",
       "  </tbody>\n",
       "</table>\n",
       "</div>"
      ],
      "text/plain": [
       "         a   b   c   d\n",
       "message               \n",
       "hello    1   2   3   4\n",
       "world    5   6   7   8\n",
       "foo      9  10  11  12"
      ]
     },
     "execution_count": 4,
     "metadata": {},
     "output_type": "execute_result"
    }
   ],
   "source": [
    "pd.read_csv('examples/ex2.csv', names=['a', 'b', 'c', 'd', 'message'], index_col='message')"
   ]
  },
  {
   "cell_type": "code",
   "execution_count": 5,
   "id": "96e27084",
   "metadata": {},
   "outputs": [
    {
     "data": {
      "application/vnd.microsoft.datawrangler.viewer.v0+json": {
       "columns": [
        {
         "name": "('key1', 'key2')",
         "rawType": "object",
         "type": "unknown"
        },
        {
         "name": "value1",
         "rawType": "int64",
         "type": "integer"
        },
        {
         "name": "value2",
         "rawType": "int64",
         "type": "integer"
        }
       ],
       "ref": "95458c42-5973-48a0-a7db-45ea391ef9d3",
       "rows": [
        [
         "('one', 'a')",
         "1",
         "2"
        ],
        [
         "('one', 'b')",
         "3",
         "4"
        ],
        [
         "('one', 'c')",
         "5",
         "6"
        ],
        [
         "('one', 'd')",
         "7",
         "8"
        ],
        [
         "('two', 'a')",
         "9",
         "10"
        ],
        [
         "('two', 'b')",
         "11",
         "12"
        ],
        [
         "('two', 'c')",
         "13",
         "14"
        ],
        [
         "('two', 'd')",
         "15",
         "16"
        ]
       ],
       "shape": {
        "columns": 2,
        "rows": 8
       }
      },
      "text/html": [
       "<div>\n",
       "<style scoped>\n",
       "    .dataframe tbody tr th:only-of-type {\n",
       "        vertical-align: middle;\n",
       "    }\n",
       "\n",
       "    .dataframe tbody tr th {\n",
       "        vertical-align: top;\n",
       "    }\n",
       "\n",
       "    .dataframe thead th {\n",
       "        text-align: right;\n",
       "    }\n",
       "</style>\n",
       "<table border=\"1\" class=\"dataframe\">\n",
       "  <thead>\n",
       "    <tr style=\"text-align: right;\">\n",
       "      <th></th>\n",
       "      <th></th>\n",
       "      <th>value1</th>\n",
       "      <th>value2</th>\n",
       "    </tr>\n",
       "    <tr>\n",
       "      <th>key1</th>\n",
       "      <th>key2</th>\n",
       "      <th></th>\n",
       "      <th></th>\n",
       "    </tr>\n",
       "  </thead>\n",
       "  <tbody>\n",
       "    <tr>\n",
       "      <th rowspan=\"4\" valign=\"top\">one</th>\n",
       "      <th>a</th>\n",
       "      <td>1</td>\n",
       "      <td>2</td>\n",
       "    </tr>\n",
       "    <tr>\n",
       "      <th>b</th>\n",
       "      <td>3</td>\n",
       "      <td>4</td>\n",
       "    </tr>\n",
       "    <tr>\n",
       "      <th>c</th>\n",
       "      <td>5</td>\n",
       "      <td>6</td>\n",
       "    </tr>\n",
       "    <tr>\n",
       "      <th>d</th>\n",
       "      <td>7</td>\n",
       "      <td>8</td>\n",
       "    </tr>\n",
       "    <tr>\n",
       "      <th rowspan=\"4\" valign=\"top\">two</th>\n",
       "      <th>a</th>\n",
       "      <td>9</td>\n",
       "      <td>10</td>\n",
       "    </tr>\n",
       "    <tr>\n",
       "      <th>b</th>\n",
       "      <td>11</td>\n",
       "      <td>12</td>\n",
       "    </tr>\n",
       "    <tr>\n",
       "      <th>c</th>\n",
       "      <td>13</td>\n",
       "      <td>14</td>\n",
       "    </tr>\n",
       "    <tr>\n",
       "      <th>d</th>\n",
       "      <td>15</td>\n",
       "      <td>16</td>\n",
       "    </tr>\n",
       "  </tbody>\n",
       "</table>\n",
       "</div>"
      ],
      "text/plain": [
       "           value1  value2\n",
       "key1 key2                \n",
       "one  a          1       2\n",
       "     b          3       4\n",
       "     c          5       6\n",
       "     d          7       8\n",
       "two  a          9      10\n",
       "     b         11      12\n",
       "     c         13      14\n",
       "     d         15      16"
      ]
     },
     "execution_count": 5,
     "metadata": {},
     "output_type": "execute_result"
    }
   ],
   "source": [
    "pd.read_csv('examples/csv_mindex.csv', index_col=[\"key1\", \"key2\"])"
   ]
  },
  {
   "cell_type": "code",
   "execution_count": 6,
   "id": "831ff4e7",
   "metadata": {},
   "outputs": [
    {
     "data": {
      "application/vnd.microsoft.datawrangler.viewer.v0+json": {
       "columns": [
        {
         "name": "index",
         "rawType": "object",
         "type": "string"
        },
        {
         "name": "A",
         "rawType": "float64",
         "type": "float"
        },
        {
         "name": "B",
         "rawType": "float64",
         "type": "float"
        },
        {
         "name": "C",
         "rawType": "float64",
         "type": "float"
        }
       ],
       "ref": "32343968-51c9-461e-ade8-fa265ecd0b18",
       "rows": [
        [
         "aaa",
         "-0.264438",
         "-1.026059",
         "-0.6195"
        ],
        [
         "bbb",
         "0.927272",
         "0.302904",
         "-0.032399"
        ],
        [
         "ccc",
         "-0.264273",
         "-0.386314",
         "-0.217601"
        ],
        [
         "ddd",
         "-0.871858",
         "-0.348382",
         "1.100491"
        ]
       ],
       "shape": {
        "columns": 3,
        "rows": 4
       }
      },
      "text/html": [
       "<div>\n",
       "<style scoped>\n",
       "    .dataframe tbody tr th:only-of-type {\n",
       "        vertical-align: middle;\n",
       "    }\n",
       "\n",
       "    .dataframe tbody tr th {\n",
       "        vertical-align: top;\n",
       "    }\n",
       "\n",
       "    .dataframe thead th {\n",
       "        text-align: right;\n",
       "    }\n",
       "</style>\n",
       "<table border=\"1\" class=\"dataframe\">\n",
       "  <thead>\n",
       "    <tr style=\"text-align: right;\">\n",
       "      <th></th>\n",
       "      <th>A</th>\n",
       "      <th>B</th>\n",
       "      <th>C</th>\n",
       "    </tr>\n",
       "  </thead>\n",
       "  <tbody>\n",
       "    <tr>\n",
       "      <th>aaa</th>\n",
       "      <td>-0.264438</td>\n",
       "      <td>-1.026059</td>\n",
       "      <td>-0.619500</td>\n",
       "    </tr>\n",
       "    <tr>\n",
       "      <th>bbb</th>\n",
       "      <td>0.927272</td>\n",
       "      <td>0.302904</td>\n",
       "      <td>-0.032399</td>\n",
       "    </tr>\n",
       "    <tr>\n",
       "      <th>ccc</th>\n",
       "      <td>-0.264273</td>\n",
       "      <td>-0.386314</td>\n",
       "      <td>-0.217601</td>\n",
       "    </tr>\n",
       "    <tr>\n",
       "      <th>ddd</th>\n",
       "      <td>-0.871858</td>\n",
       "      <td>-0.348382</td>\n",
       "      <td>1.100491</td>\n",
       "    </tr>\n",
       "  </tbody>\n",
       "</table>\n",
       "</div>"
      ],
      "text/plain": [
       "            A         B         C\n",
       "aaa -0.264438 -1.026059 -0.619500\n",
       "bbb  0.927272  0.302904 -0.032399\n",
       "ccc -0.264273 -0.386314 -0.217601\n",
       "ddd -0.871858 -0.348382  1.100491"
      ]
     },
     "execution_count": 6,
     "metadata": {},
     "output_type": "execute_result"
    }
   ],
   "source": [
    "# Original code in the book receives some warning\n",
    "# add \\escape and engine to clarify\n",
    "pd.read_csv(\"examples/ex3.txt\", sep=\"\\\\s+\", engine=\"python\")"
   ]
  },
  {
   "cell_type": "code",
   "execution_count": 7,
   "id": "7d454dcf",
   "metadata": {},
   "outputs": [
    {
     "data": {
      "application/vnd.microsoft.datawrangler.viewer.v0+json": {
       "columns": [
        {
         "name": "index",
         "rawType": "int64",
         "type": "integer"
        },
        {
         "name": "a",
         "rawType": "int64",
         "type": "integer"
        },
        {
         "name": "b",
         "rawType": "int64",
         "type": "integer"
        },
        {
         "name": "c",
         "rawType": "int64",
         "type": "integer"
        },
        {
         "name": "d",
         "rawType": "int64",
         "type": "integer"
        },
        {
         "name": "message",
         "rawType": "object",
         "type": "string"
        }
       ],
       "ref": "62de69c3-fd04-4050-bc3b-2a5e6dcc5f80",
       "rows": [
        [
         "0",
         "1",
         "2",
         "3",
         "4",
         "hello"
        ],
        [
         "1",
         "5",
         "6",
         "7",
         "8",
         "world"
        ],
        [
         "2",
         "9",
         "10",
         "11",
         "12",
         "foo"
        ]
       ],
       "shape": {
        "columns": 5,
        "rows": 3
       }
      },
      "text/html": [
       "<div>\n",
       "<style scoped>\n",
       "    .dataframe tbody tr th:only-of-type {\n",
       "        vertical-align: middle;\n",
       "    }\n",
       "\n",
       "    .dataframe tbody tr th {\n",
       "        vertical-align: top;\n",
       "    }\n",
       "\n",
       "    .dataframe thead th {\n",
       "        text-align: right;\n",
       "    }\n",
       "</style>\n",
       "<table border=\"1\" class=\"dataframe\">\n",
       "  <thead>\n",
       "    <tr style=\"text-align: right;\">\n",
       "      <th></th>\n",
       "      <th>a</th>\n",
       "      <th>b</th>\n",
       "      <th>c</th>\n",
       "      <th>d</th>\n",
       "      <th>message</th>\n",
       "    </tr>\n",
       "  </thead>\n",
       "  <tbody>\n",
       "    <tr>\n",
       "      <th>0</th>\n",
       "      <td>1</td>\n",
       "      <td>2</td>\n",
       "      <td>3</td>\n",
       "      <td>4</td>\n",
       "      <td>hello</td>\n",
       "    </tr>\n",
       "    <tr>\n",
       "      <th>1</th>\n",
       "      <td>5</td>\n",
       "      <td>6</td>\n",
       "      <td>7</td>\n",
       "      <td>8</td>\n",
       "      <td>world</td>\n",
       "    </tr>\n",
       "    <tr>\n",
       "      <th>2</th>\n",
       "      <td>9</td>\n",
       "      <td>10</td>\n",
       "      <td>11</td>\n",
       "      <td>12</td>\n",
       "      <td>foo</td>\n",
       "    </tr>\n",
       "  </tbody>\n",
       "</table>\n",
       "</div>"
      ],
      "text/plain": [
       "   a   b   c   d message\n",
       "0  1   2   3   4   hello\n",
       "1  5   6   7   8   world\n",
       "2  9  10  11  12     foo"
      ]
     },
     "execution_count": 7,
     "metadata": {},
     "output_type": "execute_result"
    }
   ],
   "source": [
    "pd.read_csv(\"examples/ex4.csv\", skiprows=[0, 2, 3])"
   ]
  },
  {
   "cell_type": "code",
   "execution_count": 8,
   "id": "4b65c7db",
   "metadata": {},
   "outputs": [
    {
     "data": {
      "application/vnd.microsoft.datawrangler.viewer.v0+json": {
       "columns": [
        {
         "name": "index",
         "rawType": "int64",
         "type": "integer"
        },
        {
         "name": "something",
         "rawType": "object",
         "type": "string"
        },
        {
         "name": "a",
         "rawType": "int64",
         "type": "integer"
        },
        {
         "name": "b",
         "rawType": "int64",
         "type": "integer"
        },
        {
         "name": "c",
         "rawType": "float64",
         "type": "float"
        },
        {
         "name": "d",
         "rawType": "int64",
         "type": "integer"
        },
        {
         "name": "message",
         "rawType": "object",
         "type": "unknown"
        }
       ],
       "ref": "aaa9e2f5-47c1-4ea6-b13b-af12f7e8f728",
       "rows": [
        [
         "0",
         "one",
         "1",
         "2",
         "3.0",
         "4",
         null
        ],
        [
         "1",
         "two",
         "5",
         "6",
         null,
         "8",
         "world"
        ],
        [
         "2",
         "three",
         "9",
         "10",
         "11.0",
         "12",
         "foo"
        ]
       ],
       "shape": {
        "columns": 6,
        "rows": 3
       }
      },
      "text/html": [
       "<div>\n",
       "<style scoped>\n",
       "    .dataframe tbody tr th:only-of-type {\n",
       "        vertical-align: middle;\n",
       "    }\n",
       "\n",
       "    .dataframe tbody tr th {\n",
       "        vertical-align: top;\n",
       "    }\n",
       "\n",
       "    .dataframe thead th {\n",
       "        text-align: right;\n",
       "    }\n",
       "</style>\n",
       "<table border=\"1\" class=\"dataframe\">\n",
       "  <thead>\n",
       "    <tr style=\"text-align: right;\">\n",
       "      <th></th>\n",
       "      <th>something</th>\n",
       "      <th>a</th>\n",
       "      <th>b</th>\n",
       "      <th>c</th>\n",
       "      <th>d</th>\n",
       "      <th>message</th>\n",
       "    </tr>\n",
       "  </thead>\n",
       "  <tbody>\n",
       "    <tr>\n",
       "      <th>0</th>\n",
       "      <td>one</td>\n",
       "      <td>1</td>\n",
       "      <td>2</td>\n",
       "      <td>3.0</td>\n",
       "      <td>4</td>\n",
       "      <td>NaN</td>\n",
       "    </tr>\n",
       "    <tr>\n",
       "      <th>1</th>\n",
       "      <td>two</td>\n",
       "      <td>5</td>\n",
       "      <td>6</td>\n",
       "      <td>NaN</td>\n",
       "      <td>8</td>\n",
       "      <td>world</td>\n",
       "    </tr>\n",
       "    <tr>\n",
       "      <th>2</th>\n",
       "      <td>three</td>\n",
       "      <td>9</td>\n",
       "      <td>10</td>\n",
       "      <td>11.0</td>\n",
       "      <td>12</td>\n",
       "      <td>foo</td>\n",
       "    </tr>\n",
       "  </tbody>\n",
       "</table>\n",
       "</div>"
      ],
      "text/plain": [
       "  something  a   b     c   d message\n",
       "0       one  1   2   3.0   4     NaN\n",
       "1       two  5   6   NaN   8   world\n",
       "2     three  9  10  11.0  12     foo"
      ]
     },
     "execution_count": 8,
     "metadata": {},
     "output_type": "execute_result"
    }
   ],
   "source": [
    "pd.read_csv(\"examples/ex5.csv\")"
   ]
  },
  {
   "cell_type": "code",
   "execution_count": 9,
   "id": "e7b7368c",
   "metadata": {},
   "outputs": [
    {
     "data": {
      "application/vnd.microsoft.datawrangler.viewer.v0+json": {
       "columns": [
        {
         "name": "index",
         "rawType": "int64",
         "type": "integer"
        },
        {
         "name": "one",
         "rawType": "float64",
         "type": "float"
        },
        {
         "name": "two",
         "rawType": "float64",
         "type": "float"
        },
        {
         "name": "three",
         "rawType": "float64",
         "type": "float"
        },
        {
         "name": "four",
         "rawType": "float64",
         "type": "float"
        },
        {
         "name": "key",
         "rawType": "object",
         "type": "string"
        }
       ],
       "ref": "cbde6938-5c2b-48be-86d6-d5a5d9ddf9ab",
       "rows": [
        [
         "0",
         "0.467976300189",
         "-0.0386485396255",
         "-0.295344251987",
         "-1.82472622729",
         "L"
        ],
        [
         "1",
         "-0.358893469543",
         "1.40445260007",
         "0.704964644926",
         "-0.200638304015",
         "B"
        ],
        [
         "2",
         "-0.50184039929",
         "0.659253707223",
         "-0.421690619312",
         "-0.0576883018364",
         "G"
        ],
        [
         "3",
         "0.204886212202",
         "1.07413396504",
         "1.38836131252",
         "-0.982404023494",
         "R"
        ],
        [
         "4",
         "0.354627914484",
         "-0.133115852296",
         "0.283762637978",
         "-0.837062961653",
         "Q"
        ],
        [
         "5",
         "1.81748001608",
         "0.742272722638",
         "0.419394843928",
         "-2.25103520513",
         "Q"
        ],
        [
         "6",
         "-0.776764319165",
         "0.935517747061",
         "-0.332871759623",
         "-1.87564085416",
         "U"
        ],
        [
         "7",
         "-0.913134961617",
         "1.53062351168",
         "-0.572656719239",
         "0.477252252981",
         "K"
        ],
        [
         "8",
         "0.358479538224",
         "-0.49757199147",
         "-0.367016188009",
         "0.507701778685",
         "S"
        ],
        [
         "9",
         "-1.74087710829",
         "-1.16041658062",
         "-1.63783027929",
         "2.17220101238",
         "G"
        ],
        [
         "10",
         "0.24056373835",
         "-0.328249185208",
         "1.25215525783",
         "1.07279626643",
         "8"
        ],
        [
         "11",
         "0.764018252198",
         "1.16547617218",
         "-0.639544262638",
         "1.49525751956",
         "R"
        ],
        [
         "12",
         "0.571034923177",
         "-0.310537224251",
         "0.582437274651",
         "-0.2987651796",
         "1"
        ],
        [
         "13",
         "2.31765810894",
         "0.430709506296",
         "-1.33421573445",
         "0.199679483557",
         "P"
        ],
        [
         "14",
         "1.54777073472",
         "-1.11975292512",
         "-2.27763354506",
         "0.329585909852",
         "J"
        ],
        [
         "15",
         "-1.31060811665",
         "0.401719086645",
         "-1.00098707369",
         "1.15670834954",
         "E"
        ],
        [
         "16",
         "-0.0884964396951",
         "0.634711729043",
         "0.153323985774",
         "0.415334751149",
         "B"
        ],
        [
         "17",
         "-0.0186628260149",
         "-0.247487241047",
         "-1.44652215689",
         "0.750937748749",
         "A"
        ],
        [
         "18",
         "-0.0701272145463",
         "-1.57909726069",
         "0.120891794918",
         "0.671431885035",
         "F"
        ],
        [
         "19",
         "-0.194677940725",
         "-0.492039150308",
         "2.35960484963",
         "0.319810396195",
         "H"
        ],
        [
         "20",
         "-0.248617847177",
         "0.868706587235",
         "-0.492226143765",
         "-0.717959381922",
         "W"
        ],
        [
         "21",
         "-1.09154895394",
         "-0.867110226119",
         "-0.647760443099",
         "-0.832561559975",
         "C"
        ],
        [
         "22",
         "0.641404300148",
         "-0.138821578977",
         "-0.621962804042",
         "-0.284839425379",
         "C"
        ],
        [
         "23",
         "1.21640846838",
         "0.99268666512",
         "0.165161778012",
         "-0.0696186082242",
         "V"
        ],
        [
         "24",
         "-0.564474180519",
         "0.792832268133",
         "0.747052842907",
         "0.57167515791",
         "I"
        ],
        [
         "25",
         "1.75987899507",
         "-0.515665834496",
         "-0.230480686323",
         "1.36231722352",
         "S"
        ],
        [
         "26",
         "0.126266090531",
         "0.309281375664",
         "0.38281996138",
         "-0.239199054993",
         "L"
        ],
        [
         "27",
         "1.33436047951",
         "-0.100152166835",
         "-0.840730552173",
         "-0.643966598255",
         "6"
        ],
        [
         "28",
         "-0.737620017711",
         "0.278087463151",
         "-0.053235240431",
         "-0.950971590734",
         "J"
        ],
        [
         "29",
         "-1.1484864849",
         "-0.986292150868",
         "-0.144963115417",
         "0.124362404338",
         "Y"
        ],
        [
         "30",
         "1.63059449241",
         "0.243886206002",
         "0.468368306354",
         "1.25804787443",
         "F"
        ],
        [
         "31",
         "1.04488953219",
         "0.0807175385621",
         "0.857885542829",
         "-0.298381802517",
         "J"
        ],
        [
         "32",
         "-0.262542542362",
         "-1.61519874791",
         "-1.08723871374",
         "0.759029075237",
         "T"
        ],
        [
         "33",
         "0.0201440713103",
         "1.10779156618",
         "-0.559435335039",
         "-0.481925210095",
         "M"
        ],
        [
         "34",
         "-1.20391554609",
         "1.88534310731",
         "-0.0804704068388",
         "0.25064589327",
         "J"
        ],
        [
         "35",
         "0.366914548813",
         "-2.43008643092",
         "-1.05344696342",
         "0.346278884194",
         "A"
        ],
        [
         "36",
         "0.434220473424",
         "-0.0798625386706",
         "-0.422976747932",
         "-0.0742721760915",
         "I"
        ],
        [
         "37",
         "0.0406656980213",
         "-1.81021570262",
         "-0.189192727269",
         "1.22926636581",
         "G"
        ],
        [
         "38",
         "1.33845943246",
         "0.338489099729",
         "-0.213446105129",
         "2.32592341971",
         "Q"
        ],
        [
         "39",
         "0.572981073363",
         "0.782663875351",
         "1.30767321124",
         "1.61995725335",
         "X"
        ],
        [
         "40",
         "0.762428447112",
         "-0.648528798886",
         "1.93651473707",
         "-1.15966561312",
         "J"
        ],
        [
         "41",
         "-1.25204557796",
         "-1.53853949038",
         "1.0422813822",
         "0.623835121823",
         "A"
        ],
        [
         "42",
         "-0.0475302140596",
         "-0.494310199706",
         "-0.165460018905",
         "0.472929032513",
         "J"
        ],
        [
         "43",
         "0.124547711991",
         "0.730791450242",
         "-0.25752685093",
         "-1.51125664924",
         "G"
        ],
        [
         "44",
         "0.801889237656",
         "-0.462780621429",
         "-1.73462083332",
         "0.674768319362",
         "R"
        ],
        [
         "45",
         "-0.992306666472",
         "-1.09683007882",
         "-2.0617943017",
         "0.035390605957",
         "R"
        ],
        [
         "46",
         "-0.109662774864",
         "2.57709376617",
         "0.91356252242",
         "0.613594050216",
         "V"
        ],
        [
         "47",
         "-0.541680906279",
         "1.5100313553",
         "0.467944825377",
         "0.553225037837",
         "N"
        ],
        [
         "48",
         "-0.0795865737601",
         "-0.609923697841",
         "0.35383422895",
         "1.10803005914",
         "M"
        ],
        [
         "49",
         "-0.0437516462601",
         "-0.410666385961",
         "-0.729599036366",
         "0.263223371713",
         "P"
        ]
       ],
       "shape": {
        "columns": 5,
        "rows": 10000
       }
      },
      "text/html": [
       "<div>\n",
       "<style scoped>\n",
       "    .dataframe tbody tr th:only-of-type {\n",
       "        vertical-align: middle;\n",
       "    }\n",
       "\n",
       "    .dataframe tbody tr th {\n",
       "        vertical-align: top;\n",
       "    }\n",
       "\n",
       "    .dataframe thead th {\n",
       "        text-align: right;\n",
       "    }\n",
       "</style>\n",
       "<table border=\"1\" class=\"dataframe\">\n",
       "  <thead>\n",
       "    <tr style=\"text-align: right;\">\n",
       "      <th></th>\n",
       "      <th>one</th>\n",
       "      <th>two</th>\n",
       "      <th>three</th>\n",
       "      <th>four</th>\n",
       "      <th>key</th>\n",
       "    </tr>\n",
       "  </thead>\n",
       "  <tbody>\n",
       "    <tr>\n",
       "      <th>0</th>\n",
       "      <td>0.467976</td>\n",
       "      <td>-0.038649</td>\n",
       "      <td>-0.295344</td>\n",
       "      <td>-1.824726</td>\n",
       "      <td>L</td>\n",
       "    </tr>\n",
       "    <tr>\n",
       "      <th>1</th>\n",
       "      <td>-0.358893</td>\n",
       "      <td>1.404453</td>\n",
       "      <td>0.704965</td>\n",
       "      <td>-0.200638</td>\n",
       "      <td>B</td>\n",
       "    </tr>\n",
       "    <tr>\n",
       "      <th>2</th>\n",
       "      <td>-0.501840</td>\n",
       "      <td>0.659254</td>\n",
       "      <td>-0.421691</td>\n",
       "      <td>-0.057688</td>\n",
       "      <td>G</td>\n",
       "    </tr>\n",
       "    <tr>\n",
       "      <th>3</th>\n",
       "      <td>0.204886</td>\n",
       "      <td>1.074134</td>\n",
       "      <td>1.388361</td>\n",
       "      <td>-0.982404</td>\n",
       "      <td>R</td>\n",
       "    </tr>\n",
       "    <tr>\n",
       "      <th>4</th>\n",
       "      <td>0.354628</td>\n",
       "      <td>-0.133116</td>\n",
       "      <td>0.283763</td>\n",
       "      <td>-0.837063</td>\n",
       "      <td>Q</td>\n",
       "    </tr>\n",
       "    <tr>\n",
       "      <th>...</th>\n",
       "      <td>...</td>\n",
       "      <td>...</td>\n",
       "      <td>...</td>\n",
       "      <td>...</td>\n",
       "      <td>...</td>\n",
       "    </tr>\n",
       "    <tr>\n",
       "      <th>9995</th>\n",
       "      <td>2.311896</td>\n",
       "      <td>-0.417070</td>\n",
       "      <td>-1.409599</td>\n",
       "      <td>-0.515821</td>\n",
       "      <td>L</td>\n",
       "    </tr>\n",
       "    <tr>\n",
       "      <th>9996</th>\n",
       "      <td>-0.479893</td>\n",
       "      <td>-0.650419</td>\n",
       "      <td>0.745152</td>\n",
       "      <td>-0.646038</td>\n",
       "      <td>E</td>\n",
       "    </tr>\n",
       "    <tr>\n",
       "      <th>9997</th>\n",
       "      <td>0.523331</td>\n",
       "      <td>0.787112</td>\n",
       "      <td>0.486066</td>\n",
       "      <td>1.093156</td>\n",
       "      <td>K</td>\n",
       "    </tr>\n",
       "    <tr>\n",
       "      <th>9998</th>\n",
       "      <td>-0.362559</td>\n",
       "      <td>0.598894</td>\n",
       "      <td>-1.843201</td>\n",
       "      <td>0.887292</td>\n",
       "      <td>G</td>\n",
       "    </tr>\n",
       "    <tr>\n",
       "      <th>9999</th>\n",
       "      <td>-0.096376</td>\n",
       "      <td>-1.012999</td>\n",
       "      <td>-0.657431</td>\n",
       "      <td>-0.573315</td>\n",
       "      <td>0</td>\n",
       "    </tr>\n",
       "  </tbody>\n",
       "</table>\n",
       "<p>10000 rows × 5 columns</p>\n",
       "</div>"
      ],
      "text/plain": [
       "           one       two     three      four key\n",
       "0     0.467976 -0.038649 -0.295344 -1.824726   L\n",
       "1    -0.358893  1.404453  0.704965 -0.200638   B\n",
       "2    -0.501840  0.659254 -0.421691 -0.057688   G\n",
       "3     0.204886  1.074134  1.388361 -0.982404   R\n",
       "4     0.354628 -0.133116  0.283763 -0.837063   Q\n",
       "...        ...       ...       ...       ...  ..\n",
       "9995  2.311896 -0.417070 -1.409599 -0.515821   L\n",
       "9996 -0.479893 -0.650419  0.745152 -0.646038   E\n",
       "9997  0.523331  0.787112  0.486066  1.093156   K\n",
       "9998 -0.362559  0.598894 -1.843201  0.887292   G\n",
       "9999 -0.096376 -1.012999 -0.657431 -0.573315   0\n",
       "\n",
       "[10000 rows x 5 columns]"
      ]
     },
     "execution_count": 9,
     "metadata": {},
     "output_type": "execute_result"
    }
   ],
   "source": [
    "# Setting up display\n",
    "pd.options.display.max_rows = 10\n",
    "\n",
    "# Load a large file by chunks\n",
    "result = pd.read_csv(\"examples/ex6.csv\")\n",
    "result"
   ]
  },
  {
   "cell_type": "code",
   "execution_count": 10,
   "id": "1464810f",
   "metadata": {},
   "outputs": [
    {
     "data": {
      "application/vnd.microsoft.datawrangler.viewer.v0+json": {
       "columns": [
        {
         "name": "index",
         "rawType": "int64",
         "type": "integer"
        },
        {
         "name": "one",
         "rawType": "float64",
         "type": "float"
        },
        {
         "name": "two",
         "rawType": "float64",
         "type": "float"
        },
        {
         "name": "three",
         "rawType": "float64",
         "type": "float"
        },
        {
         "name": "four",
         "rawType": "float64",
         "type": "float"
        },
        {
         "name": "key",
         "rawType": "object",
         "type": "string"
        }
       ],
       "ref": "6cff9b4b-d81d-437e-8810-7c908fdce18a",
       "rows": [
        [
         "0",
         "0.467976300189",
         "-0.0386485396255",
         "-0.295344251987",
         "-1.82472622729",
         "L"
        ],
        [
         "1",
         "-0.358893469543",
         "1.40445260007",
         "0.704964644926",
         "-0.200638304015",
         "B"
        ],
        [
         "2",
         "-0.50184039929",
         "0.659253707223",
         "-0.421690619312",
         "-0.0576883018364",
         "G"
        ],
        [
         "3",
         "0.204886212202",
         "1.07413396504",
         "1.38836131252",
         "-0.982404023494",
         "R"
        ],
        [
         "4",
         "0.354627914484",
         "-0.133115852296",
         "0.283762637978",
         "-0.837062961653",
         "Q"
        ]
       ],
       "shape": {
        "columns": 5,
        "rows": 5
       }
      },
      "text/html": [
       "<div>\n",
       "<style scoped>\n",
       "    .dataframe tbody tr th:only-of-type {\n",
       "        vertical-align: middle;\n",
       "    }\n",
       "\n",
       "    .dataframe tbody tr th {\n",
       "        vertical-align: top;\n",
       "    }\n",
       "\n",
       "    .dataframe thead th {\n",
       "        text-align: right;\n",
       "    }\n",
       "</style>\n",
       "<table border=\"1\" class=\"dataframe\">\n",
       "  <thead>\n",
       "    <tr style=\"text-align: right;\">\n",
       "      <th></th>\n",
       "      <th>one</th>\n",
       "      <th>two</th>\n",
       "      <th>three</th>\n",
       "      <th>four</th>\n",
       "      <th>key</th>\n",
       "    </tr>\n",
       "  </thead>\n",
       "  <tbody>\n",
       "    <tr>\n",
       "      <th>0</th>\n",
       "      <td>0.467976</td>\n",
       "      <td>-0.038649</td>\n",
       "      <td>-0.295344</td>\n",
       "      <td>-1.824726</td>\n",
       "      <td>L</td>\n",
       "    </tr>\n",
       "    <tr>\n",
       "      <th>1</th>\n",
       "      <td>-0.358893</td>\n",
       "      <td>1.404453</td>\n",
       "      <td>0.704965</td>\n",
       "      <td>-0.200638</td>\n",
       "      <td>B</td>\n",
       "    </tr>\n",
       "    <tr>\n",
       "      <th>2</th>\n",
       "      <td>-0.501840</td>\n",
       "      <td>0.659254</td>\n",
       "      <td>-0.421691</td>\n",
       "      <td>-0.057688</td>\n",
       "      <td>G</td>\n",
       "    </tr>\n",
       "    <tr>\n",
       "      <th>3</th>\n",
       "      <td>0.204886</td>\n",
       "      <td>1.074134</td>\n",
       "      <td>1.388361</td>\n",
       "      <td>-0.982404</td>\n",
       "      <td>R</td>\n",
       "    </tr>\n",
       "    <tr>\n",
       "      <th>4</th>\n",
       "      <td>0.354628</td>\n",
       "      <td>-0.133116</td>\n",
       "      <td>0.283763</td>\n",
       "      <td>-0.837063</td>\n",
       "      <td>Q</td>\n",
       "    </tr>\n",
       "  </tbody>\n",
       "</table>\n",
       "</div>"
      ],
      "text/plain": [
       "        one       two     three      four key\n",
       "0  0.467976 -0.038649 -0.295344 -1.824726   L\n",
       "1 -0.358893  1.404453  0.704965 -0.200638   B\n",
       "2 -0.501840  0.659254 -0.421691 -0.057688   G\n",
       "3  0.204886  1.074134  1.388361 -0.982404   R\n",
       "4  0.354628 -0.133116  0.283763 -0.837063   Q"
      ]
     },
     "execution_count": 10,
     "metadata": {},
     "output_type": "execute_result"
    }
   ],
   "source": [
    "# read five rows and examine first\n",
    "pd.read_csv(\"examples/ex6.csv\", nrows=5)"
   ]
  },
  {
   "cell_type": "code",
   "execution_count": 11,
   "id": "2a1dc72a",
   "metadata": {},
   "outputs": [
    {
     "data": {
      "text/plain": [
       "<pandas.io.parsers.readers.TextFileReader at 0x196c0034d50>"
      ]
     },
     "execution_count": 11,
     "metadata": {},
     "output_type": "execute_result"
    }
   ],
   "source": [
    "# read in chunks\n",
    "chunker = pd.read_csv(\"examples/ex6.csv\", chunksize=1000)\n",
    "chunker # <pandas.io.parsers.readers.TextFileReader at 0x15e3cfa5950>"
   ]
  },
  {
   "cell_type": "code",
   "execution_count": 12,
   "id": "b3a3f073",
   "metadata": {},
   "outputs": [
    {
     "data": {
      "text/plain": [
       "np.float64(10000.0)"
      ]
     },
     "execution_count": 12,
     "metadata": {},
     "output_type": "execute_result"
    }
   ],
   "source": [
    "# frequency table for the \"key\" column\n",
    "tot = pd.Series([], dtype='int64')\n",
    "\n",
    "for piece in chunker:\n",
    "    tot = tot.add(piece[\"key\"].value_counts(), fill_value=0)\n",
    "\n",
    "tot = tot.sort_values(ascending=False)\n",
    "tot.sum()"
   ]
  },
  {
   "cell_type": "code",
   "execution_count": 13,
   "id": "55714b86",
   "metadata": {},
   "outputs": [],
   "source": [
    "# Writing data to text file\n",
    "data = pd.read_csv(\"examples/ex5.csv\")\n",
    "data.to_csv(\"examples/out.csv\")"
   ]
  },
  {
   "cell_type": "code",
   "execution_count": 14,
   "id": "61d5eabf",
   "metadata": {},
   "outputs": [
    {
     "name": "stdout",
     "output_type": "stream",
     "text": [
      "|something|a|b|c|d|message\n",
      "0|one|1|2|3.0|4|NA\n",
      "1|two|5|6|NA|8|world\n",
      "2|three|9|10|11.0|12|foo\n"
     ]
    }
   ],
   "source": [
    "import sys\n",
    "data.to_csv(sys.stdout, sep=\"|\", na_rep=\"NA\")"
   ]
  },
  {
   "cell_type": "code",
   "execution_count": 15,
   "id": "c112a03c",
   "metadata": {},
   "outputs": [
    {
     "name": "stdout",
     "output_type": "stream",
     "text": [
      "a,b\n",
      "1,2\n",
      "5,6\n",
      "9,10\n"
     ]
    }
   ],
   "source": [
    "data.to_csv(sys.stdout,index=False, columns=['a', 'b'])"
   ]
  },
  {
   "cell_type": "code",
   "execution_count": 16,
   "id": "e2c7463a",
   "metadata": {},
   "outputs": [
    {
     "data": {
      "text/plain": [
       "'\\n{\"name\": \"Wes\",\\n \"cities_lived\": [\"Akron\", \"Nashville\", \"New York\", \"San Francisco\"],\\n \"pet\": null,\\n \"siblings\": [{\"name\": \"Scott\", \"age\": 34, \"hobbies\": [\"guitars\", \"soccer\"]},\\n              {\"name\": \"Katie\", \"age\": 42, \"hobbies\": [\"diving\", \"art\"]}]\\n}\\n'"
      ]
     },
     "execution_count": 16,
     "metadata": {},
     "output_type": "execute_result"
    }
   ],
   "source": [
    "# A JAON file\n",
    "obj = \"\"\"\n",
    "{\"name\": \"Wes\",\n",
    " \"cities_lived\": [\"Akron\", \"Nashville\", \"New York\", \"San Francisco\"],\n",
    " \"pet\": null,\n",
    " \"siblings\": [{\"name\": \"Scott\", \"age\": 34, \"hobbies\": [\"guitars\", \"soccer\"]},\n",
    "              {\"name\": \"Katie\", \"age\": 42, \"hobbies\": [\"diving\", \"art\"]}]\n",
    "}\n",
    "\"\"\"\n",
    "obj"
   ]
  },
  {
   "cell_type": "code",
   "execution_count": 17,
   "id": "97a29931",
   "metadata": {},
   "outputs": [
    {
     "data": {
      "text/plain": [
       "{'name': 'Wes',\n",
       " 'cities_lived': ['Akron', 'Nashville', 'New York', 'San Francisco'],\n",
       " 'pet': None,\n",
       " 'siblings': [{'name': 'Scott', 'age': 34, 'hobbies': ['guitars', 'soccer']},\n",
       "  {'name': 'Katie', 'age': 42, 'hobbies': ['diving', 'art']}]}"
      ]
     },
     "execution_count": 17,
     "metadata": {},
     "output_type": "execute_result"
    }
   ],
   "source": [
    "# read json file\n",
    "import json\n",
    "result = json.loads(obj)\n",
    "result"
   ]
  },
  {
   "cell_type": "code",
   "execution_count": 18,
   "id": "62dc32df",
   "metadata": {},
   "outputs": [
    {
     "data": {
      "text/plain": [
       "'{\"name\": \"Wes\", \"cities_lived\": [\"Akron\", \"Nashville\", \"New York\", \"San Francisco\"], \"pet\": null, \"siblings\": [{\"name\": \"Scott\", \"age\": 34, \"hobbies\": [\"guitars\", \"soccer\"]}, {\"name\": \"Katie\", \"age\": 42, \"hobbies\": [\"diving\", \"art\"]}]}'"
      ]
     },
     "execution_count": 18,
     "metadata": {},
     "output_type": "execute_result"
    }
   ],
   "source": [
    "# save to json\n",
    "asjson = json.dumps(result)\n",
    "asjson"
   ]
  },
  {
   "cell_type": "code",
   "execution_count": 19,
   "id": "c6555ae0",
   "metadata": {},
   "outputs": [
    {
     "data": {
      "application/vnd.microsoft.datawrangler.viewer.v0+json": {
       "columns": [
        {
         "name": "name",
         "rawType": "object",
         "type": "string"
        },
        {
         "name": "age",
         "rawType": "int64",
         "type": "integer"
        },
        {
         "name": "hobbies",
         "rawType": "object",
         "type": "unknown"
        }
       ],
       "ref": "1fa10ba3-53d1-4be2-8e42-10c42dd27863",
       "rows": [
        [
         "Scott",
         "34",
         "['guitars', 'soccer']"
        ],
        [
         "Katie",
         "42",
         "['diving', 'art']"
        ]
       ],
       "shape": {
        "columns": 2,
        "rows": 2
       }
      },
      "text/html": [
       "<div>\n",
       "<style scoped>\n",
       "    .dataframe tbody tr th:only-of-type {\n",
       "        vertical-align: middle;\n",
       "    }\n",
       "\n",
       "    .dataframe tbody tr th {\n",
       "        vertical-align: top;\n",
       "    }\n",
       "\n",
       "    .dataframe thead th {\n",
       "        text-align: right;\n",
       "    }\n",
       "</style>\n",
       "<table border=\"1\" class=\"dataframe\">\n",
       "  <thead>\n",
       "    <tr style=\"text-align: right;\">\n",
       "      <th></th>\n",
       "      <th>age</th>\n",
       "      <th>hobbies</th>\n",
       "    </tr>\n",
       "    <tr>\n",
       "      <th>name</th>\n",
       "      <th></th>\n",
       "      <th></th>\n",
       "    </tr>\n",
       "  </thead>\n",
       "  <tbody>\n",
       "    <tr>\n",
       "      <th>Scott</th>\n",
       "      <td>34</td>\n",
       "      <td>[guitars, soccer]</td>\n",
       "    </tr>\n",
       "    <tr>\n",
       "      <th>Katie</th>\n",
       "      <td>42</td>\n",
       "      <td>[diving, art]</td>\n",
       "    </tr>\n",
       "  </tbody>\n",
       "</table>\n",
       "</div>"
      ],
      "text/plain": [
       "       age            hobbies\n",
       "name                         \n",
       "Scott   34  [guitars, soccer]\n",
       "Katie   42      [diving, art]"
      ]
     },
     "execution_count": 19,
     "metadata": {},
     "output_type": "execute_result"
    }
   ],
   "source": [
    "siblings = pd.DataFrame(result[\"siblings\"], columns=[\"name\", \"age\", \"hobbies\"])\n",
    "siblings = siblings.set_index('name')\n",
    "siblings"
   ]
  },
  {
   "cell_type": "code",
   "execution_count": 20,
   "id": "5a37ed6a",
   "metadata": {},
   "outputs": [
    {
     "data": {
      "application/vnd.microsoft.datawrangler.viewer.v0+json": {
       "columns": [
        {
         "name": "name",
         "rawType": "object",
         "type": "string"
        },
        {
         "name": "age",
         "rawType": "int64",
         "type": "integer"
        },
        {
         "name": "hobby_0",
         "rawType": "object",
         "type": "string"
        },
        {
         "name": "hobby_1",
         "rawType": "object",
         "type": "string"
        }
       ],
       "ref": "472b7bc1-40ee-449e-af5f-15d75b9b9d46",
       "rows": [
        [
         "Scott",
         "34",
         "guitars",
         "soccer"
        ],
        [
         "Katie",
         "42",
         "diving",
         "art"
        ]
       ],
       "shape": {
        "columns": 3,
        "rows": 2
       }
      },
      "text/html": [
       "<div>\n",
       "<style scoped>\n",
       "    .dataframe tbody tr th:only-of-type {\n",
       "        vertical-align: middle;\n",
       "    }\n",
       "\n",
       "    .dataframe tbody tr th {\n",
       "        vertical-align: top;\n",
       "    }\n",
       "\n",
       "    .dataframe thead th {\n",
       "        text-align: right;\n",
       "    }\n",
       "</style>\n",
       "<table border=\"1\" class=\"dataframe\">\n",
       "  <thead>\n",
       "    <tr style=\"text-align: right;\">\n",
       "      <th></th>\n",
       "      <th>age</th>\n",
       "      <th>hobby_0</th>\n",
       "      <th>hobby_1</th>\n",
       "    </tr>\n",
       "    <tr>\n",
       "      <th>name</th>\n",
       "      <th></th>\n",
       "      <th></th>\n",
       "      <th></th>\n",
       "    </tr>\n",
       "  </thead>\n",
       "  <tbody>\n",
       "    <tr>\n",
       "      <th>Scott</th>\n",
       "      <td>34</td>\n",
       "      <td>guitars</td>\n",
       "      <td>soccer</td>\n",
       "    </tr>\n",
       "    <tr>\n",
       "      <th>Katie</th>\n",
       "      <td>42</td>\n",
       "      <td>diving</td>\n",
       "      <td>art</td>\n",
       "    </tr>\n",
       "  </tbody>\n",
       "</table>\n",
       "</div>"
      ],
      "text/plain": [
       "       age  hobby_0 hobby_1\n",
       "name                       \n",
       "Scott   34  guitars  soccer\n",
       "Katie   42   diving     art"
      ]
     },
     "execution_count": 20,
     "metadata": {},
     "output_type": "execute_result"
    }
   ],
   "source": [
    "# unpack the \"hobbies\" list column\n",
    "hobbies_cols = pd.DataFrame(siblings[\"hobbies\"].to_list(), index=siblings.index).add_prefix(\"hobby_\")\n",
    "\n",
    "# join to the original df\n",
    "siblings = siblings.drop(columns=\"hobbies\").join(hobbies_cols)\n",
    "siblings"
   ]
  },
  {
   "cell_type": "code",
   "execution_count": 21,
   "id": "d85f3cee",
   "metadata": {},
   "outputs": [
    {
     "data": {
      "application/vnd.microsoft.datawrangler.viewer.v0+json": {
       "columns": [
        {
         "name": "index",
         "rawType": "int64",
         "type": "integer"
        },
        {
         "name": "a",
         "rawType": "int64",
         "type": "integer"
        },
        {
         "name": "b",
         "rawType": "int64",
         "type": "integer"
        },
        {
         "name": "c",
         "rawType": "int64",
         "type": "integer"
        }
       ],
       "ref": "2366d4c9-13ce-42b0-8802-fffb33f668bf",
       "rows": [
        [
         "0",
         "1",
         "2",
         "3"
        ],
        [
         "1",
         "4",
         "5",
         "6"
        ],
        [
         "2",
         "7",
         "8",
         "9"
        ]
       ],
       "shape": {
        "columns": 3,
        "rows": 3
       }
      },
      "text/html": [
       "<div>\n",
       "<style scoped>\n",
       "    .dataframe tbody tr th:only-of-type {\n",
       "        vertical-align: middle;\n",
       "    }\n",
       "\n",
       "    .dataframe tbody tr th {\n",
       "        vertical-align: top;\n",
       "    }\n",
       "\n",
       "    .dataframe thead th {\n",
       "        text-align: right;\n",
       "    }\n",
       "</style>\n",
       "<table border=\"1\" class=\"dataframe\">\n",
       "  <thead>\n",
       "    <tr style=\"text-align: right;\">\n",
       "      <th></th>\n",
       "      <th>a</th>\n",
       "      <th>b</th>\n",
       "      <th>c</th>\n",
       "    </tr>\n",
       "  </thead>\n",
       "  <tbody>\n",
       "    <tr>\n",
       "      <th>0</th>\n",
       "      <td>1</td>\n",
       "      <td>2</td>\n",
       "      <td>3</td>\n",
       "    </tr>\n",
       "    <tr>\n",
       "      <th>1</th>\n",
       "      <td>4</td>\n",
       "      <td>5</td>\n",
       "      <td>6</td>\n",
       "    </tr>\n",
       "    <tr>\n",
       "      <th>2</th>\n",
       "      <td>7</td>\n",
       "      <td>8</td>\n",
       "      <td>9</td>\n",
       "    </tr>\n",
       "  </tbody>\n",
       "</table>\n",
       "</div>"
      ],
      "text/plain": [
       "   a  b  c\n",
       "0  1  2  3\n",
       "1  4  5  6\n",
       "2  7  8  9"
      ]
     },
     "execution_count": 21,
     "metadata": {},
     "output_type": "execute_result"
    }
   ],
   "source": [
    "ex_json = pd.read_json(\"examples/example.json\")\n",
    "ex_json"
   ]
  },
  {
   "cell_type": "code",
   "execution_count": 22,
   "id": "3fb3fd52",
   "metadata": {},
   "outputs": [
    {
     "name": "stdout",
     "output_type": "stream",
     "text": [
      "{\"a\":{\"0\":1,\"1\":4,\"2\":7},\"b\":{\"0\":2,\"1\":5,\"2\":8},\"c\":{\"0\":3,\"1\":6,\"2\":9}}"
     ]
    }
   ],
   "source": [
    "ex_json.to_json(sys.stdout)"
   ]
  },
  {
   "cell_type": "code",
   "execution_count": 23,
   "id": "2b401c4f",
   "metadata": {},
   "outputs": [
    {
     "data": {
      "application/vnd.microsoft.datawrangler.viewer.v0+json": {
       "columns": [
        {
         "name": "Closing Date",
         "rawType": "int32",
         "type": "integer"
        },
        {
         "name": "count",
         "rawType": "int64",
         "type": "integer"
        }
       ],
       "ref": "c5c23bab-8f4b-4c87-9c25-13087ff134c2",
       "rows": [
        [
         "2010",
         "157"
        ],
        [
         "2009",
         "140"
        ],
        [
         "2011",
         "92"
        ],
        [
         "2012",
         "51"
        ],
        [
         "2008",
         "25"
        ],
        [
         "2013",
         "24"
        ],
        [
         "2014",
         "18"
        ],
        [
         "2002",
         "11"
        ],
        [
         "2015",
         "8"
        ],
        [
         "2016",
         "5"
        ],
        [
         "2004",
         "4"
        ],
        [
         "2001",
         "4"
        ],
        [
         "2007",
         "3"
        ],
        [
         "2003",
         "3"
        ],
        [
         "2000",
         "2"
        ]
       ],
       "shape": {
        "columns": 1,
        "rows": 15
       }
      },
      "text/plain": [
       "Closing Date\n",
       "2010    157\n",
       "2009    140\n",
       "2011     92\n",
       "2012     51\n",
       "2008     25\n",
       "       ... \n",
       "2004      4\n",
       "2001      4\n",
       "2007      3\n",
       "2003      3\n",
       "2000      2\n",
       "Name: count, Length: 15, dtype: int64"
      ]
     },
     "execution_count": 23,
     "metadata": {},
     "output_type": "execute_result"
    }
   ],
   "source": [
    "tables = pd.read_html(\"examples/fdic_failed_bank_list.html\")\n",
    "len(tables)\n",
    "failures = tables[0]\n",
    "failures.head()\n",
    "close_timestamps = pd.to_datetime(failures[\"Closing Date\"])\n",
    "close_timestamps.dt.year.value_counts()"
   ]
  },
  {
   "cell_type": "code",
   "execution_count": 24,
   "id": "b21254db",
   "metadata": {},
   "outputs": [],
   "source": [
    "from lxml import objectify\n",
    "path = \"pydata-book/datasets/mta_perf/Performance_MNR.xml\""
   ]
  },
  {
   "cell_type": "code",
   "execution_count": 25,
   "id": "66515074",
   "metadata": {},
   "outputs": [
    {
     "data": {
      "application/vnd.microsoft.datawrangler.viewer.v0+json": {
       "columns": [
        {
         "name": "index",
         "rawType": "int64",
         "type": "integer"
        },
        {
         "name": "AGENCY_NAME",
         "rawType": "object",
         "type": "string"
        },
        {
         "name": "INDICATOR_NAME",
         "rawType": "object",
         "type": "string"
        },
        {
         "name": "DESCRIPTION",
         "rawType": "object",
         "type": "string"
        },
        {
         "name": "PERIOD_YEAR",
         "rawType": "int64",
         "type": "integer"
        },
        {
         "name": "PERIOD_MONTH",
         "rawType": "int64",
         "type": "integer"
        },
        {
         "name": "CATEGORY",
         "rawType": "object",
         "type": "string"
        },
        {
         "name": "FREQUENCY",
         "rawType": "object",
         "type": "string"
        },
        {
         "name": "INDICATOR_UNIT",
         "rawType": "object",
         "type": "string"
        },
        {
         "name": "YTD_TARGET",
         "rawType": "object",
         "type": "unknown"
        },
        {
         "name": "YTD_ACTUAL",
         "rawType": "object",
         "type": "unknown"
        },
        {
         "name": "MONTHLY_TARGET",
         "rawType": "object",
         "type": "unknown"
        },
        {
         "name": "MONTHLY_ACTUAL",
         "rawType": "object",
         "type": "unknown"
        }
       ],
       "ref": "255e90ad-907f-4b3f-adb0-bf0d47c8ad60",
       "rows": [
        [
         "0",
         "Metro-North Railroad",
         "On-Time Performance (West of Hudson)",
         "Percent of commuter trains that arrive at their destinations within 5 minutes and 59 seconds of the scheduled time. West of Hudson services include the Pascack Valley and Port Jervis lines. Metro-North Railroad contracts with New Jersey Transit to operate service on these lines.\n",
         "2008",
         "1",
         "Service Indicators",
         "M",
         "%",
         "95.0",
         "96.9",
         "95.0",
         "96.9"
        ],
        [
         "1",
         "Metro-North Railroad",
         "On-Time Performance (West of Hudson)",
         "Percent of commuter trains that arrive at their destinations within 5 minutes and 59 seconds of the scheduled time. West of Hudson services include the Pascack Valley and Port Jervis lines. Metro-North Railroad contracts with New Jersey Transit to operate service on these lines.\n",
         "2008",
         "2",
         "Service Indicators",
         "M",
         "%",
         "95.0",
         "96.0",
         "95.0",
         "95.0"
        ],
        [
         "2",
         "Metro-North Railroad",
         "On-Time Performance (West of Hudson)",
         "Percent of commuter trains that arrive at their destinations within 5 minutes and 59 seconds of the scheduled time. West of Hudson services include the Pascack Valley and Port Jervis lines. Metro-North Railroad contracts with New Jersey Transit to operate service on these lines.\n",
         "2008",
         "3",
         "Service Indicators",
         "M",
         "%",
         "95.0",
         "96.3",
         "95.0",
         "96.9"
        ],
        [
         "3",
         "Metro-North Railroad",
         "On-Time Performance (West of Hudson)",
         "Percent of commuter trains that arrive at their destinations within 5 minutes and 59 seconds of the scheduled time. West of Hudson services include the Pascack Valley and Port Jervis lines. Metro-North Railroad contracts with New Jersey Transit to operate service on these lines.\n",
         "2008",
         "4",
         "Service Indicators",
         "M",
         "%",
         "95.0",
         "96.8",
         "95.0",
         "98.3"
        ],
        [
         "4",
         "Metro-North Railroad",
         "On-Time Performance (West of Hudson)",
         "Percent of commuter trains that arrive at their destinations within 5 minutes and 59 seconds of the scheduled time. West of Hudson services include the Pascack Valley and Port Jervis lines. Metro-North Railroad contracts with New Jersey Transit to operate service on these lines.\n",
         "2008",
         "5",
         "Service Indicators",
         "M",
         "%",
         "95.0",
         "96.6",
         "95.0",
         "95.8"
        ]
       ],
       "shape": {
        "columns": 12,
        "rows": 5
       }
      },
      "text/html": [
       "<div>\n",
       "<style scoped>\n",
       "    .dataframe tbody tr th:only-of-type {\n",
       "        vertical-align: middle;\n",
       "    }\n",
       "\n",
       "    .dataframe tbody tr th {\n",
       "        vertical-align: top;\n",
       "    }\n",
       "\n",
       "    .dataframe thead th {\n",
       "        text-align: right;\n",
       "    }\n",
       "</style>\n",
       "<table border=\"1\" class=\"dataframe\">\n",
       "  <thead>\n",
       "    <tr style=\"text-align: right;\">\n",
       "      <th></th>\n",
       "      <th>AGENCY_NAME</th>\n",
       "      <th>INDICATOR_NAME</th>\n",
       "      <th>DESCRIPTION</th>\n",
       "      <th>PERIOD_YEAR</th>\n",
       "      <th>PERIOD_MONTH</th>\n",
       "      <th>CATEGORY</th>\n",
       "      <th>FREQUENCY</th>\n",
       "      <th>INDICATOR_UNIT</th>\n",
       "      <th>YTD_TARGET</th>\n",
       "      <th>YTD_ACTUAL</th>\n",
       "      <th>MONTHLY_TARGET</th>\n",
       "      <th>MONTHLY_ACTUAL</th>\n",
       "    </tr>\n",
       "  </thead>\n",
       "  <tbody>\n",
       "    <tr>\n",
       "      <th>0</th>\n",
       "      <td>Metro-North Railroad</td>\n",
       "      <td>On-Time Performance (West of Hudson)</td>\n",
       "      <td>Percent of commuter trains that arrive at thei...</td>\n",
       "      <td>2008</td>\n",
       "      <td>1</td>\n",
       "      <td>Service Indicators</td>\n",
       "      <td>M</td>\n",
       "      <td>%</td>\n",
       "      <td>95.0</td>\n",
       "      <td>96.9</td>\n",
       "      <td>95.0</td>\n",
       "      <td>96.9</td>\n",
       "    </tr>\n",
       "    <tr>\n",
       "      <th>1</th>\n",
       "      <td>Metro-North Railroad</td>\n",
       "      <td>On-Time Performance (West of Hudson)</td>\n",
       "      <td>Percent of commuter trains that arrive at thei...</td>\n",
       "      <td>2008</td>\n",
       "      <td>2</td>\n",
       "      <td>Service Indicators</td>\n",
       "      <td>M</td>\n",
       "      <td>%</td>\n",
       "      <td>95.0</td>\n",
       "      <td>96.0</td>\n",
       "      <td>95.0</td>\n",
       "      <td>95.0</td>\n",
       "    </tr>\n",
       "    <tr>\n",
       "      <th>2</th>\n",
       "      <td>Metro-North Railroad</td>\n",
       "      <td>On-Time Performance (West of Hudson)</td>\n",
       "      <td>Percent of commuter trains that arrive at thei...</td>\n",
       "      <td>2008</td>\n",
       "      <td>3</td>\n",
       "      <td>Service Indicators</td>\n",
       "      <td>M</td>\n",
       "      <td>%</td>\n",
       "      <td>95.0</td>\n",
       "      <td>96.3</td>\n",
       "      <td>95.0</td>\n",
       "      <td>96.9</td>\n",
       "    </tr>\n",
       "    <tr>\n",
       "      <th>3</th>\n",
       "      <td>Metro-North Railroad</td>\n",
       "      <td>On-Time Performance (West of Hudson)</td>\n",
       "      <td>Percent of commuter trains that arrive at thei...</td>\n",
       "      <td>2008</td>\n",
       "      <td>4</td>\n",
       "      <td>Service Indicators</td>\n",
       "      <td>M</td>\n",
       "      <td>%</td>\n",
       "      <td>95.0</td>\n",
       "      <td>96.8</td>\n",
       "      <td>95.0</td>\n",
       "      <td>98.3</td>\n",
       "    </tr>\n",
       "    <tr>\n",
       "      <th>4</th>\n",
       "      <td>Metro-North Railroad</td>\n",
       "      <td>On-Time Performance (West of Hudson)</td>\n",
       "      <td>Percent of commuter trains that arrive at thei...</td>\n",
       "      <td>2008</td>\n",
       "      <td>5</td>\n",
       "      <td>Service Indicators</td>\n",
       "      <td>M</td>\n",
       "      <td>%</td>\n",
       "      <td>95.0</td>\n",
       "      <td>96.6</td>\n",
       "      <td>95.0</td>\n",
       "      <td>95.8</td>\n",
       "    </tr>\n",
       "  </tbody>\n",
       "</table>\n",
       "</div>"
      ],
      "text/plain": [
       "            AGENCY_NAME                        INDICATOR_NAME  \\\n",
       "0  Metro-North Railroad  On-Time Performance (West of Hudson)   \n",
       "1  Metro-North Railroad  On-Time Performance (West of Hudson)   \n",
       "2  Metro-North Railroad  On-Time Performance (West of Hudson)   \n",
       "3  Metro-North Railroad  On-Time Performance (West of Hudson)   \n",
       "4  Metro-North Railroad  On-Time Performance (West of Hudson)   \n",
       "\n",
       "                                         DESCRIPTION  PERIOD_YEAR  \\\n",
       "0  Percent of commuter trains that arrive at thei...         2008   \n",
       "1  Percent of commuter trains that arrive at thei...         2008   \n",
       "2  Percent of commuter trains that arrive at thei...         2008   \n",
       "3  Percent of commuter trains that arrive at thei...         2008   \n",
       "4  Percent of commuter trains that arrive at thei...         2008   \n",
       "\n",
       "   PERIOD_MONTH            CATEGORY FREQUENCY INDICATOR_UNIT YTD_TARGET  \\\n",
       "0             1  Service Indicators         M              %       95.0   \n",
       "1             2  Service Indicators         M              %       95.0   \n",
       "2             3  Service Indicators         M              %       95.0   \n",
       "3             4  Service Indicators         M              %       95.0   \n",
       "4             5  Service Indicators         M              %       95.0   \n",
       "\n",
       "  YTD_ACTUAL MONTHLY_TARGET MONTHLY_ACTUAL  \n",
       "0       96.9           95.0           96.9  \n",
       "1       96.0           95.0           95.0  \n",
       "2       96.3           95.0           96.9  \n",
       "3       96.8           95.0           98.3  \n",
       "4       96.6           95.0           95.8  "
      ]
     },
     "execution_count": 25,
     "metadata": {},
     "output_type": "execute_result"
    }
   ],
   "source": [
    "# Read XML/HTML pages\n",
    "path = r\"../pydata-book/datasets/mta_perf/Performance_MNR.xml\"\n",
    "with open(path) as f:\n",
    "    parsed = objectify.parse(f)\n",
    "\n",
    "root = parsed.getroot()\n",
    "\n",
    "data = []\n",
    "\n",
    "skip_fields = [\"PARENT_SEQ\", \"INDICATOR_SEQ\",\n",
    "               \"DESIRED_CHANGE\", \"DECIMAL_PLACES\"]\n",
    "\n",
    "for elt in root.INDICATOR:\n",
    "    el_data = {}\n",
    "    for child in elt.getchildren():\n",
    "        if child.tag in skip_fields:\n",
    "            continue\n",
    "        el_data[child.tag] = child.pyval\n",
    "    data.append(el_data)\n",
    "\n",
    "perf = pd.DataFrame(data)\n",
    "perf.head()"
   ]
  },
  {
   "cell_type": "code",
   "execution_count": 26,
   "id": "f065d742",
   "metadata": {},
   "outputs": [
    {
     "data": {
      "application/vnd.microsoft.datawrangler.viewer.v0+json": {
       "columns": [
        {
         "name": "index",
         "rawType": "int64",
         "type": "integer"
        },
        {
         "name": "INDICATOR_SEQ",
         "rawType": "int64",
         "type": "integer"
        },
        {
         "name": "PARENT_SEQ",
         "rawType": "float64",
         "type": "float"
        },
        {
         "name": "AGENCY_NAME",
         "rawType": "object",
         "type": "string"
        },
        {
         "name": "INDICATOR_NAME",
         "rawType": "object",
         "type": "string"
        },
        {
         "name": "DESCRIPTION",
         "rawType": "object",
         "type": "string"
        },
        {
         "name": "PERIOD_YEAR",
         "rawType": "int64",
         "type": "integer"
        },
        {
         "name": "PERIOD_MONTH",
         "rawType": "int64",
         "type": "integer"
        },
        {
         "name": "CATEGORY",
         "rawType": "object",
         "type": "string"
        },
        {
         "name": "FREQUENCY",
         "rawType": "object",
         "type": "string"
        },
        {
         "name": "DESIRED_CHANGE",
         "rawType": "object",
         "type": "string"
        },
        {
         "name": "INDICATOR_UNIT",
         "rawType": "object",
         "type": "string"
        },
        {
         "name": "DECIMAL_PLACES",
         "rawType": "int64",
         "type": "integer"
        },
        {
         "name": "YTD_TARGET",
         "rawType": "object",
         "type": "string"
        },
        {
         "name": "YTD_ACTUAL",
         "rawType": "object",
         "type": "string"
        },
        {
         "name": "MONTHLY_TARGET",
         "rawType": "object",
         "type": "string"
        },
        {
         "name": "MONTHLY_ACTUAL",
         "rawType": "object",
         "type": "string"
        }
       ],
       "ref": "49367acc-4306-4ffb-bc11-8c71c04140a6",
       "rows": [
        [
         "0",
         "28445",
         null,
         "Metro-North Railroad",
         "On-Time Performance (West of Hudson)",
         "Percent of commuter trains that arrive at their destinations within 5 minutes and 59 seconds of the scheduled time. West of Hudson services include the Pascack Valley and Port Jervis lines. Metro-North Railroad contracts with New Jersey Transit to operate service on these lines.\n",
         "2008",
         "1",
         "Service Indicators",
         "M",
         "U",
         "%",
         "1",
         "95.00",
         "96.90",
         "95.00",
         "96.90"
        ],
        [
         "1",
         "28445",
         null,
         "Metro-North Railroad",
         "On-Time Performance (West of Hudson)",
         "Percent of commuter trains that arrive at their destinations within 5 minutes and 59 seconds of the scheduled time. West of Hudson services include the Pascack Valley and Port Jervis lines. Metro-North Railroad contracts with New Jersey Transit to operate service on these lines.\n",
         "2008",
         "2",
         "Service Indicators",
         "M",
         "U",
         "%",
         "1",
         "95.00",
         "96.00",
         "95.00",
         "95.00"
        ],
        [
         "2",
         "28445",
         null,
         "Metro-North Railroad",
         "On-Time Performance (West of Hudson)",
         "Percent of commuter trains that arrive at their destinations within 5 minutes and 59 seconds of the scheduled time. West of Hudson services include the Pascack Valley and Port Jervis lines. Metro-North Railroad contracts with New Jersey Transit to operate service on these lines.\n",
         "2008",
         "3",
         "Service Indicators",
         "M",
         "U",
         "%",
         "1",
         "95.00",
         "96.30",
         "95.00",
         "96.90"
        ],
        [
         "3",
         "28445",
         null,
         "Metro-North Railroad",
         "On-Time Performance (West of Hudson)",
         "Percent of commuter trains that arrive at their destinations within 5 minutes and 59 seconds of the scheduled time. West of Hudson services include the Pascack Valley and Port Jervis lines. Metro-North Railroad contracts with New Jersey Transit to operate service on these lines.\n",
         "2008",
         "4",
         "Service Indicators",
         "M",
         "U",
         "%",
         "1",
         "95.00",
         "96.80",
         "95.00",
         "98.30"
        ],
        [
         "4",
         "28445",
         null,
         "Metro-North Railroad",
         "On-Time Performance (West of Hudson)",
         "Percent of commuter trains that arrive at their destinations within 5 minutes and 59 seconds of the scheduled time. West of Hudson services include the Pascack Valley and Port Jervis lines. Metro-North Railroad contracts with New Jersey Transit to operate service on these lines.\n",
         "2008",
         "5",
         "Service Indicators",
         "M",
         "U",
         "%",
         "1",
         "95.00",
         "96.60",
         "95.00",
         "95.80"
        ],
        [
         "5",
         "28445",
         null,
         "Metro-North Railroad",
         "On-Time Performance (West of Hudson)",
         "Percent of commuter trains that arrive at their destinations within 5 minutes and 59 seconds of the scheduled time. West of Hudson services include the Pascack Valley and Port Jervis lines. Metro-North Railroad contracts with New Jersey Transit to operate service on these lines.\n",
         "2008",
         "6",
         "Service Indicators",
         "M",
         "U",
         "%",
         "1",
         "95.00",
         "96.20",
         "95.00",
         "94.40"
        ],
        [
         "6",
         "28445",
         null,
         "Metro-North Railroad",
         "On-Time Performance (West of Hudson)",
         "Percent of commuter trains that arrive at their destinations within 5 minutes and 59 seconds of the scheduled time. West of Hudson services include the Pascack Valley and Port Jervis lines. Metro-North Railroad contracts with New Jersey Transit to operate service on these lines.\n",
         "2008",
         "7",
         "Service Indicators",
         "M",
         "U",
         "%",
         "1",
         "95.00",
         "96.20",
         "95.00",
         "96.00"
        ],
        [
         "7",
         "28445",
         null,
         "Metro-North Railroad",
         "On-Time Performance (West of Hudson)",
         "Percent of commuter trains that arrive at their destinations within 5 minutes and 59 seconds of the scheduled time. West of Hudson services include the Pascack Valley and Port Jervis lines. Metro-North Railroad contracts with New Jersey Transit to operate service on these lines.\n",
         "2008",
         "8",
         "Service Indicators",
         "M",
         "U",
         "%",
         "1",
         "95.00",
         "96.20",
         "95.00",
         "96.40"
        ],
        [
         "8",
         "28445",
         null,
         "Metro-North Railroad",
         "On-Time Performance (West of Hudson)",
         "Percent of commuter trains that arrive at their destinations within 5 minutes and 59 seconds of the scheduled time. West of Hudson services include the Pascack Valley and Port Jervis lines. Metro-North Railroad contracts with New Jersey Transit to operate service on these lines.\n",
         "2008",
         "9",
         "Service Indicators",
         "M",
         "U",
         "%",
         "1",
         "95.00",
         "95.90",
         "95.00",
         "93.70"
        ],
        [
         "9",
         "28445",
         null,
         "Metro-North Railroad",
         "On-Time Performance (West of Hudson)",
         "Percent of commuter trains that arrive at their destinations within 5 minutes and 59 seconds of the scheduled time. West of Hudson services include the Pascack Valley and Port Jervis lines. Metro-North Railroad contracts with New Jersey Transit to operate service on these lines.\n",
         "2008",
         "10",
         "Service Indicators",
         "M",
         "U",
         "%",
         "1",
         "95.00",
         "96.00",
         "95.00",
         "96.40"
        ]
       ],
       "shape": {
        "columns": 16,
        "rows": 10
       }
      },
      "text/html": [
       "<div>\n",
       "<style scoped>\n",
       "    .dataframe tbody tr th:only-of-type {\n",
       "        vertical-align: middle;\n",
       "    }\n",
       "\n",
       "    .dataframe tbody tr th {\n",
       "        vertical-align: top;\n",
       "    }\n",
       "\n",
       "    .dataframe thead th {\n",
       "        text-align: right;\n",
       "    }\n",
       "</style>\n",
       "<table border=\"1\" class=\"dataframe\">\n",
       "  <thead>\n",
       "    <tr style=\"text-align: right;\">\n",
       "      <th></th>\n",
       "      <th>INDICATOR_SEQ</th>\n",
       "      <th>PARENT_SEQ</th>\n",
       "      <th>AGENCY_NAME</th>\n",
       "      <th>INDICATOR_NAME</th>\n",
       "      <th>DESCRIPTION</th>\n",
       "      <th>PERIOD_YEAR</th>\n",
       "      <th>PERIOD_MONTH</th>\n",
       "      <th>CATEGORY</th>\n",
       "      <th>FREQUENCY</th>\n",
       "      <th>DESIRED_CHANGE</th>\n",
       "      <th>INDICATOR_UNIT</th>\n",
       "      <th>DECIMAL_PLACES</th>\n",
       "      <th>YTD_TARGET</th>\n",
       "      <th>YTD_ACTUAL</th>\n",
       "      <th>MONTHLY_TARGET</th>\n",
       "      <th>MONTHLY_ACTUAL</th>\n",
       "    </tr>\n",
       "  </thead>\n",
       "  <tbody>\n",
       "    <tr>\n",
       "      <th>0</th>\n",
       "      <td>28445</td>\n",
       "      <td>NaN</td>\n",
       "      <td>Metro-North Railroad</td>\n",
       "      <td>On-Time Performance (West of Hudson)</td>\n",
       "      <td>Percent of commuter trains that arrive at thei...</td>\n",
       "      <td>2008</td>\n",
       "      <td>1</td>\n",
       "      <td>Service Indicators</td>\n",
       "      <td>M</td>\n",
       "      <td>U</td>\n",
       "      <td>%</td>\n",
       "      <td>1</td>\n",
       "      <td>95.00</td>\n",
       "      <td>96.90</td>\n",
       "      <td>95.00</td>\n",
       "      <td>96.90</td>\n",
       "    </tr>\n",
       "    <tr>\n",
       "      <th>1</th>\n",
       "      <td>28445</td>\n",
       "      <td>NaN</td>\n",
       "      <td>Metro-North Railroad</td>\n",
       "      <td>On-Time Performance (West of Hudson)</td>\n",
       "      <td>Percent of commuter trains that arrive at thei...</td>\n",
       "      <td>2008</td>\n",
       "      <td>2</td>\n",
       "      <td>Service Indicators</td>\n",
       "      <td>M</td>\n",
       "      <td>U</td>\n",
       "      <td>%</td>\n",
       "      <td>1</td>\n",
       "      <td>95.00</td>\n",
       "      <td>96.00</td>\n",
       "      <td>95.00</td>\n",
       "      <td>95.00</td>\n",
       "    </tr>\n",
       "    <tr>\n",
       "      <th>2</th>\n",
       "      <td>28445</td>\n",
       "      <td>NaN</td>\n",
       "      <td>Metro-North Railroad</td>\n",
       "      <td>On-Time Performance (West of Hudson)</td>\n",
       "      <td>Percent of commuter trains that arrive at thei...</td>\n",
       "      <td>2008</td>\n",
       "      <td>3</td>\n",
       "      <td>Service Indicators</td>\n",
       "      <td>M</td>\n",
       "      <td>U</td>\n",
       "      <td>%</td>\n",
       "      <td>1</td>\n",
       "      <td>95.00</td>\n",
       "      <td>96.30</td>\n",
       "      <td>95.00</td>\n",
       "      <td>96.90</td>\n",
       "    </tr>\n",
       "    <tr>\n",
       "      <th>3</th>\n",
       "      <td>28445</td>\n",
       "      <td>NaN</td>\n",
       "      <td>Metro-North Railroad</td>\n",
       "      <td>On-Time Performance (West of Hudson)</td>\n",
       "      <td>Percent of commuter trains that arrive at thei...</td>\n",
       "      <td>2008</td>\n",
       "      <td>4</td>\n",
       "      <td>Service Indicators</td>\n",
       "      <td>M</td>\n",
       "      <td>U</td>\n",
       "      <td>%</td>\n",
       "      <td>1</td>\n",
       "      <td>95.00</td>\n",
       "      <td>96.80</td>\n",
       "      <td>95.00</td>\n",
       "      <td>98.30</td>\n",
       "    </tr>\n",
       "    <tr>\n",
       "      <th>4</th>\n",
       "      <td>28445</td>\n",
       "      <td>NaN</td>\n",
       "      <td>Metro-North Railroad</td>\n",
       "      <td>On-Time Performance (West of Hudson)</td>\n",
       "      <td>Percent of commuter trains that arrive at thei...</td>\n",
       "      <td>2008</td>\n",
       "      <td>5</td>\n",
       "      <td>Service Indicators</td>\n",
       "      <td>M</td>\n",
       "      <td>U</td>\n",
       "      <td>%</td>\n",
       "      <td>1</td>\n",
       "      <td>95.00</td>\n",
       "      <td>96.60</td>\n",
       "      <td>95.00</td>\n",
       "      <td>95.80</td>\n",
       "    </tr>\n",
       "    <tr>\n",
       "      <th>5</th>\n",
       "      <td>28445</td>\n",
       "      <td>NaN</td>\n",
       "      <td>Metro-North Railroad</td>\n",
       "      <td>On-Time Performance (West of Hudson)</td>\n",
       "      <td>Percent of commuter trains that arrive at thei...</td>\n",
       "      <td>2008</td>\n",
       "      <td>6</td>\n",
       "      <td>Service Indicators</td>\n",
       "      <td>M</td>\n",
       "      <td>U</td>\n",
       "      <td>%</td>\n",
       "      <td>1</td>\n",
       "      <td>95.00</td>\n",
       "      <td>96.20</td>\n",
       "      <td>95.00</td>\n",
       "      <td>94.40</td>\n",
       "    </tr>\n",
       "    <tr>\n",
       "      <th>6</th>\n",
       "      <td>28445</td>\n",
       "      <td>NaN</td>\n",
       "      <td>Metro-North Railroad</td>\n",
       "      <td>On-Time Performance (West of Hudson)</td>\n",
       "      <td>Percent of commuter trains that arrive at thei...</td>\n",
       "      <td>2008</td>\n",
       "      <td>7</td>\n",
       "      <td>Service Indicators</td>\n",
       "      <td>M</td>\n",
       "      <td>U</td>\n",
       "      <td>%</td>\n",
       "      <td>1</td>\n",
       "      <td>95.00</td>\n",
       "      <td>96.20</td>\n",
       "      <td>95.00</td>\n",
       "      <td>96.00</td>\n",
       "    </tr>\n",
       "    <tr>\n",
       "      <th>7</th>\n",
       "      <td>28445</td>\n",
       "      <td>NaN</td>\n",
       "      <td>Metro-North Railroad</td>\n",
       "      <td>On-Time Performance (West of Hudson)</td>\n",
       "      <td>Percent of commuter trains that arrive at thei...</td>\n",
       "      <td>2008</td>\n",
       "      <td>8</td>\n",
       "      <td>Service Indicators</td>\n",
       "      <td>M</td>\n",
       "      <td>U</td>\n",
       "      <td>%</td>\n",
       "      <td>1</td>\n",
       "      <td>95.00</td>\n",
       "      <td>96.20</td>\n",
       "      <td>95.00</td>\n",
       "      <td>96.40</td>\n",
       "    </tr>\n",
       "    <tr>\n",
       "      <th>8</th>\n",
       "      <td>28445</td>\n",
       "      <td>NaN</td>\n",
       "      <td>Metro-North Railroad</td>\n",
       "      <td>On-Time Performance (West of Hudson)</td>\n",
       "      <td>Percent of commuter trains that arrive at thei...</td>\n",
       "      <td>2008</td>\n",
       "      <td>9</td>\n",
       "      <td>Service Indicators</td>\n",
       "      <td>M</td>\n",
       "      <td>U</td>\n",
       "      <td>%</td>\n",
       "      <td>1</td>\n",
       "      <td>95.00</td>\n",
       "      <td>95.90</td>\n",
       "      <td>95.00</td>\n",
       "      <td>93.70</td>\n",
       "    </tr>\n",
       "    <tr>\n",
       "      <th>9</th>\n",
       "      <td>28445</td>\n",
       "      <td>NaN</td>\n",
       "      <td>Metro-North Railroad</td>\n",
       "      <td>On-Time Performance (West of Hudson)</td>\n",
       "      <td>Percent of commuter trains that arrive at thei...</td>\n",
       "      <td>2008</td>\n",
       "      <td>10</td>\n",
       "      <td>Service Indicators</td>\n",
       "      <td>M</td>\n",
       "      <td>U</td>\n",
       "      <td>%</td>\n",
       "      <td>1</td>\n",
       "      <td>95.00</td>\n",
       "      <td>96.00</td>\n",
       "      <td>95.00</td>\n",
       "      <td>96.40</td>\n",
       "    </tr>\n",
       "  </tbody>\n",
       "</table>\n",
       "</div>"
      ],
      "text/plain": [
       "   INDICATOR_SEQ  PARENT_SEQ           AGENCY_NAME  \\\n",
       "0          28445         NaN  Metro-North Railroad   \n",
       "1          28445         NaN  Metro-North Railroad   \n",
       "2          28445         NaN  Metro-North Railroad   \n",
       "3          28445         NaN  Metro-North Railroad   \n",
       "4          28445         NaN  Metro-North Railroad   \n",
       "5          28445         NaN  Metro-North Railroad   \n",
       "6          28445         NaN  Metro-North Railroad   \n",
       "7          28445         NaN  Metro-North Railroad   \n",
       "8          28445         NaN  Metro-North Railroad   \n",
       "9          28445         NaN  Metro-North Railroad   \n",
       "\n",
       "                         INDICATOR_NAME  \\\n",
       "0  On-Time Performance (West of Hudson)   \n",
       "1  On-Time Performance (West of Hudson)   \n",
       "2  On-Time Performance (West of Hudson)   \n",
       "3  On-Time Performance (West of Hudson)   \n",
       "4  On-Time Performance (West of Hudson)   \n",
       "5  On-Time Performance (West of Hudson)   \n",
       "6  On-Time Performance (West of Hudson)   \n",
       "7  On-Time Performance (West of Hudson)   \n",
       "8  On-Time Performance (West of Hudson)   \n",
       "9  On-Time Performance (West of Hudson)   \n",
       "\n",
       "                                         DESCRIPTION  PERIOD_YEAR  \\\n",
       "0  Percent of commuter trains that arrive at thei...         2008   \n",
       "1  Percent of commuter trains that arrive at thei...         2008   \n",
       "2  Percent of commuter trains that arrive at thei...         2008   \n",
       "3  Percent of commuter trains that arrive at thei...         2008   \n",
       "4  Percent of commuter trains that arrive at thei...         2008   \n",
       "5  Percent of commuter trains that arrive at thei...         2008   \n",
       "6  Percent of commuter trains that arrive at thei...         2008   \n",
       "7  Percent of commuter trains that arrive at thei...         2008   \n",
       "8  Percent of commuter trains that arrive at thei...         2008   \n",
       "9  Percent of commuter trains that arrive at thei...         2008   \n",
       "\n",
       "   PERIOD_MONTH            CATEGORY FREQUENCY DESIRED_CHANGE INDICATOR_UNIT  \\\n",
       "0             1  Service Indicators         M              U              %   \n",
       "1             2  Service Indicators         M              U              %   \n",
       "2             3  Service Indicators         M              U              %   \n",
       "3             4  Service Indicators         M              U              %   \n",
       "4             5  Service Indicators         M              U              %   \n",
       "5             6  Service Indicators         M              U              %   \n",
       "6             7  Service Indicators         M              U              %   \n",
       "7             8  Service Indicators         M              U              %   \n",
       "8             9  Service Indicators         M              U              %   \n",
       "9            10  Service Indicators         M              U              %   \n",
       "\n",
       "   DECIMAL_PLACES YTD_TARGET YTD_ACTUAL MONTHLY_TARGET MONTHLY_ACTUAL  \n",
       "0               1      95.00      96.90          95.00          96.90  \n",
       "1               1      95.00      96.00          95.00          95.00  \n",
       "2               1      95.00      96.30          95.00          96.90  \n",
       "3               1      95.00      96.80          95.00          98.30  \n",
       "4               1      95.00      96.60          95.00          95.80  \n",
       "5               1      95.00      96.20          95.00          94.40  \n",
       "6               1      95.00      96.20          95.00          96.00  \n",
       "7               1      95.00      96.20          95.00          96.40  \n",
       "8               1      95.00      95.90          95.00          93.70  \n",
       "9               1      95.00      96.00          95.00          96.40  "
      ]
     },
     "execution_count": 26,
     "metadata": {},
     "output_type": "execute_result"
    }
   ],
   "source": [
    "perf2 = pd.read_xml(path)\n",
    "perf2.head(10)"
   ]
  },
  {
   "cell_type": "code",
   "execution_count": 27,
   "id": "6d250202",
   "metadata": {},
   "outputs": [
    {
     "data": {
      "application/vnd.microsoft.datawrangler.viewer.v0+json": {
       "columns": [
        {
         "name": "index",
         "rawType": "int64",
         "type": "integer"
        },
        {
         "name": "a",
         "rawType": "int64",
         "type": "integer"
        },
        {
         "name": "b",
         "rawType": "int64",
         "type": "integer"
        },
        {
         "name": "c",
         "rawType": "int64",
         "type": "integer"
        },
        {
         "name": "d",
         "rawType": "int64",
         "type": "integer"
        },
        {
         "name": "message",
         "rawType": "object",
         "type": "string"
        }
       ],
       "ref": "1b86bcd9-4355-4a9e-a5d1-c3f471b4d2d3",
       "rows": [
        [
         "0",
         "1",
         "2",
         "3",
         "4",
         "hello"
        ],
        [
         "1",
         "5",
         "6",
         "7",
         "8",
         "world"
        ],
        [
         "2",
         "9",
         "10",
         "11",
         "12",
         "foo"
        ]
       ],
       "shape": {
        "columns": 5,
        "rows": 3
       }
      },
      "text/html": [
       "<div>\n",
       "<style scoped>\n",
       "    .dataframe tbody tr th:only-of-type {\n",
       "        vertical-align: middle;\n",
       "    }\n",
       "\n",
       "    .dataframe tbody tr th {\n",
       "        vertical-align: top;\n",
       "    }\n",
       "\n",
       "    .dataframe thead th {\n",
       "        text-align: right;\n",
       "    }\n",
       "</style>\n",
       "<table border=\"1\" class=\"dataframe\">\n",
       "  <thead>\n",
       "    <tr style=\"text-align: right;\">\n",
       "      <th></th>\n",
       "      <th>a</th>\n",
       "      <th>b</th>\n",
       "      <th>c</th>\n",
       "      <th>d</th>\n",
       "      <th>message</th>\n",
       "    </tr>\n",
       "  </thead>\n",
       "  <tbody>\n",
       "    <tr>\n",
       "      <th>0</th>\n",
       "      <td>1</td>\n",
       "      <td>2</td>\n",
       "      <td>3</td>\n",
       "      <td>4</td>\n",
       "      <td>hello</td>\n",
       "    </tr>\n",
       "    <tr>\n",
       "      <th>1</th>\n",
       "      <td>5</td>\n",
       "      <td>6</td>\n",
       "      <td>7</td>\n",
       "      <td>8</td>\n",
       "      <td>world</td>\n",
       "    </tr>\n",
       "    <tr>\n",
       "      <th>2</th>\n",
       "      <td>9</td>\n",
       "      <td>10</td>\n",
       "      <td>11</td>\n",
       "      <td>12</td>\n",
       "      <td>foo</td>\n",
       "    </tr>\n",
       "  </tbody>\n",
       "</table>\n",
       "</div>"
      ],
      "text/plain": [
       "   a   b   c   d message\n",
       "0  1   2   3   4   hello\n",
       "1  5   6   7   8   world\n",
       "2  9  10  11  12     foo"
      ]
     },
     "execution_count": 27,
     "metadata": {},
     "output_type": "execute_result"
    }
   ],
   "source": [
    "df.to_pickle(\"examples/df_pickle\")\n",
    "pd.read_pickle(\"examples/df_pickle\")"
   ]
  },
  {
   "cell_type": "code",
   "execution_count": 28,
   "id": "7d7ab195",
   "metadata": {},
   "outputs": [
    {
     "name": "stdout",
     "output_type": "stream",
     "text": [
      "pyarrow version: 21.0.0\n"
     ]
    }
   ],
   "source": [
    "try:\n",
    "    import pyarrow as pa\n",
    "    print(\"pyarrow version:\", pa.__version__)\n",
    "except ImportError:\n",
    "    print(\"pyarrow is NOT installed\")\n"
   ]
  },
  {
   "cell_type": "code",
   "execution_count": 29,
   "id": "6ef673ea",
   "metadata": {},
   "outputs": [
    {
     "data": {
      "application/vnd.microsoft.datawrangler.viewer.v0+json": {
       "columns": [
        {
         "name": "index",
         "rawType": "int64",
         "type": "integer"
        },
        {
         "name": "a",
         "rawType": "int64",
         "type": "integer"
        },
        {
         "name": "b",
         "rawType": "int64",
         "type": "integer"
        },
        {
         "name": "c",
         "rawType": "int64",
         "type": "integer"
        },
        {
         "name": "d",
         "rawType": "int64",
         "type": "integer"
        },
        {
         "name": "message",
         "rawType": "object",
         "type": "string"
        }
       ],
       "ref": "d07229b0-bf7a-4e24-9f85-93060ebfebaf",
       "rows": [
        [
         "0",
         "1",
         "2",
         "3",
         "4",
         "hello"
        ],
        [
         "1",
         "5",
         "6",
         "7",
         "8",
         "world"
        ],
        [
         "2",
         "9",
         "10",
         "11",
         "12",
         "foo"
        ]
       ],
       "shape": {
        "columns": 5,
        "rows": 3
       }
      },
      "text/html": [
       "<div>\n",
       "<style scoped>\n",
       "    .dataframe tbody tr th:only-of-type {\n",
       "        vertical-align: middle;\n",
       "    }\n",
       "\n",
       "    .dataframe tbody tr th {\n",
       "        vertical-align: top;\n",
       "    }\n",
       "\n",
       "    .dataframe thead th {\n",
       "        text-align: right;\n",
       "    }\n",
       "</style>\n",
       "<table border=\"1\" class=\"dataframe\">\n",
       "  <thead>\n",
       "    <tr style=\"text-align: right;\">\n",
       "      <th></th>\n",
       "      <th>a</th>\n",
       "      <th>b</th>\n",
       "      <th>c</th>\n",
       "      <th>d</th>\n",
       "      <th>message</th>\n",
       "    </tr>\n",
       "  </thead>\n",
       "  <tbody>\n",
       "    <tr>\n",
       "      <th>0</th>\n",
       "      <td>1</td>\n",
       "      <td>2</td>\n",
       "      <td>3</td>\n",
       "      <td>4</td>\n",
       "      <td>hello</td>\n",
       "    </tr>\n",
       "    <tr>\n",
       "      <th>1</th>\n",
       "      <td>5</td>\n",
       "      <td>6</td>\n",
       "      <td>7</td>\n",
       "      <td>8</td>\n",
       "      <td>world</td>\n",
       "    </tr>\n",
       "    <tr>\n",
       "      <th>2</th>\n",
       "      <td>9</td>\n",
       "      <td>10</td>\n",
       "      <td>11</td>\n",
       "      <td>12</td>\n",
       "      <td>foo</td>\n",
       "    </tr>\n",
       "  </tbody>\n",
       "</table>\n",
       "</div>"
      ],
      "text/plain": [
       "   a   b   c   d message\n",
       "0  1   2   3   4   hello\n",
       "1  5   6   7   8   world\n",
       "2  9  10  11  12     foo"
      ]
     },
     "execution_count": 29,
     "metadata": {},
     "output_type": "execute_result"
    }
   ],
   "source": [
    "xlsx = pd.ExcelFile(\"examples/ex1.xlsx\")\n",
    "xlsx.sheet_names\n",
    "xlsx.parse(sheet_name=\"Sheet1\", index_col=0)"
   ]
  },
  {
   "cell_type": "code",
   "execution_count": 30,
   "id": "dad95635",
   "metadata": {},
   "outputs": [
    {
     "name": "stderr",
     "output_type": "stream",
     "text": [
      "C:\\Users\\yluo\\AppData\\Local\\Temp\\ipykernel_1928\\679774290.py:2: FutureWarning: Starting with pandas version 3.0 all arguments of to_excel except for the argument 'excel_writer' will be keyword-only.\n",
      "  df.to_excel(writer, \"Sheet1\")\n"
     ]
    }
   ],
   "source": [
    "writer = pd.ExcelWriter(\"examples/ex2.xlsx\")\n",
    "df.to_excel(writer, \"Sheet1\")"
   ]
  },
  {
   "cell_type": "markdown",
   "id": "d45c8fcd",
   "metadata": {},
   "source": [
    "## Interacting with Web APIs\n",
    "\n",
    "## Interacting with Databases"
   ]
  },
  {
   "cell_type": "code",
   "execution_count": 31,
   "id": "e3517555",
   "metadata": {},
   "outputs": [],
   "source": [
    "import sqlite3"
   ]
  },
  {
   "cell_type": "code",
   "execution_count": 32,
   "id": "f6e9dfcd",
   "metadata": {},
   "outputs": [],
   "source": [
    "query = \"\"\"\n",
    "CREATE TABLE test\n",
    "(a VARCHAR(20), b VARCHAR(20),\n",
    "c REAL, d INTEGER);\"\"\""
   ]
  },
  {
   "cell_type": "code",
   "execution_count": 33,
   "id": "df491456",
   "metadata": {},
   "outputs": [
    {
     "data": {
      "text/plain": [
       "<sqlite3.Cursor at 0x196c010c240>"
      ]
     },
     "execution_count": 33,
     "metadata": {},
     "output_type": "execute_result"
    }
   ],
   "source": [
    "con = sqlite3.connect('mydata.sqlite')\n",
    "con.execute(query)"
   ]
  },
  {
   "cell_type": "code",
   "execution_count": 34,
   "id": "ca6e6c35",
   "metadata": {},
   "outputs": [],
   "source": [
    "data = [\n",
    "    (\"Atlanta\", \"Georgia\", 1.25, 6),\n",
    "    (\"Tallahassee\", \"Florida\", 2.6, 3),\n",
    "    (\"Sacramento\", \"California\", 1.7, 5),\n",
    "    (\"Boston\", \"Massachusett\", -1.8, 12),\n",
    "]\n",
    "stmt = 'INSERT INTO test VALUES(?, ?, ?, ?)'\n",
    "\n",
    "con.executemany(stmt, data)\n",
    "con.commit()"
   ]
  },
  {
   "cell_type": "code",
   "execution_count": 35,
   "id": "e118150c",
   "metadata": {},
   "outputs": [
    {
     "data": {
      "text/plain": [
       "[('Atlanta', 'Georgia', 1.25, 6),\n",
       " ('Tallahassee', 'Florida', 2.6, 3),\n",
       " ('Sacramento', 'California', 1.7, 5),\n",
       " ('Boston', 'Massachusett', -1.8, 12)]"
      ]
     },
     "execution_count": 35,
     "metadata": {},
     "output_type": "execute_result"
    }
   ],
   "source": [
    "cursor = con.execute('SELECT * FROM test')\n",
    "rows = cursor.fetchall()\n",
    "rows"
   ]
  },
  {
   "cell_type": "code",
   "execution_count": 37,
   "id": "8794c493",
   "metadata": {},
   "outputs": [
    {
     "data": {
      "text/plain": [
       "(('a', None, None, None, None, None, None),\n",
       " ('b', None, None, None, None, None, None),\n",
       " ('c', None, None, None, None, None, None),\n",
       " ('d', None, None, None, None, None, None))"
      ]
     },
     "execution_count": 37,
     "metadata": {},
     "output_type": "execute_result"
    }
   ],
   "source": [
    "cursor.description"
   ]
  },
  {
   "cell_type": "code",
   "execution_count": 38,
   "id": "4d6df162",
   "metadata": {},
   "outputs": [
    {
     "data": {
      "application/vnd.microsoft.datawrangler.viewer.v0+json": {
       "columns": [
        {
         "name": "index",
         "rawType": "int64",
         "type": "integer"
        },
        {
         "name": "a",
         "rawType": "object",
         "type": "string"
        },
        {
         "name": "b",
         "rawType": "object",
         "type": "string"
        },
        {
         "name": "c",
         "rawType": "float64",
         "type": "float"
        },
        {
         "name": "d",
         "rawType": "int64",
         "type": "integer"
        }
       ],
       "ref": "470acfb6-842c-407f-8005-2acfff37d5d7",
       "rows": [
        [
         "0",
         "Atlanta",
         "Georgia",
         "1.25",
         "6"
        ],
        [
         "1",
         "Tallahassee",
         "Florida",
         "2.6",
         "3"
        ],
        [
         "2",
         "Sacramento",
         "California",
         "1.7",
         "5"
        ],
        [
         "3",
         "Boston",
         "Massachusett",
         "-1.8",
         "12"
        ]
       ],
       "shape": {
        "columns": 4,
        "rows": 4
       }
      },
      "text/html": [
       "<div>\n",
       "<style scoped>\n",
       "    .dataframe tbody tr th:only-of-type {\n",
       "        vertical-align: middle;\n",
       "    }\n",
       "\n",
       "    .dataframe tbody tr th {\n",
       "        vertical-align: top;\n",
       "    }\n",
       "\n",
       "    .dataframe thead th {\n",
       "        text-align: right;\n",
       "    }\n",
       "</style>\n",
       "<table border=\"1\" class=\"dataframe\">\n",
       "  <thead>\n",
       "    <tr style=\"text-align: right;\">\n",
       "      <th></th>\n",
       "      <th>a</th>\n",
       "      <th>b</th>\n",
       "      <th>c</th>\n",
       "      <th>d</th>\n",
       "    </tr>\n",
       "  </thead>\n",
       "  <tbody>\n",
       "    <tr>\n",
       "      <th>0</th>\n",
       "      <td>Atlanta</td>\n",
       "      <td>Georgia</td>\n",
       "      <td>1.25</td>\n",
       "      <td>6</td>\n",
       "    </tr>\n",
       "    <tr>\n",
       "      <th>1</th>\n",
       "      <td>Tallahassee</td>\n",
       "      <td>Florida</td>\n",
       "      <td>2.60</td>\n",
       "      <td>3</td>\n",
       "    </tr>\n",
       "    <tr>\n",
       "      <th>2</th>\n",
       "      <td>Sacramento</td>\n",
       "      <td>California</td>\n",
       "      <td>1.70</td>\n",
       "      <td>5</td>\n",
       "    </tr>\n",
       "    <tr>\n",
       "      <th>3</th>\n",
       "      <td>Boston</td>\n",
       "      <td>Massachusett</td>\n",
       "      <td>-1.80</td>\n",
       "      <td>12</td>\n",
       "    </tr>\n",
       "  </tbody>\n",
       "</table>\n",
       "</div>"
      ],
      "text/plain": [
       "             a             b     c   d\n",
       "0      Atlanta       Georgia  1.25   6\n",
       "1  Tallahassee       Florida  2.60   3\n",
       "2   Sacramento    California  1.70   5\n",
       "3       Boston  Massachusett -1.80  12"
      ]
     },
     "execution_count": 38,
     "metadata": {},
     "output_type": "execute_result"
    }
   ],
   "source": [
    "pd.DataFrame(rows, columns=[x[0] for x in cursor.description])"
   ]
  },
  {
   "cell_type": "code",
   "execution_count": 40,
   "id": "c141c695",
   "metadata": {},
   "outputs": [],
   "source": [
    "import sqlalchemy as sqla"
   ]
  },
  {
   "cell_type": "code",
   "execution_count": null,
   "id": "2a2cdfb8",
   "metadata": {},
   "outputs": [],
   "source": []
  }
 ],
 "metadata": {
  "kernelspec": {
   "display_name": "Python 3.12 (l5)",
   "language": "python",
   "name": "l5-312"
  },
  "language_info": {
   "codemirror_mode": {
    "name": "ipython",
    "version": 3
   },
   "file_extension": ".py",
   "mimetype": "text/x-python",
   "name": "python",
   "nbconvert_exporter": "python",
   "pygments_lexer": "ipython3",
   "version": "3.13.7"
  }
 },
 "nbformat": 4,
 "nbformat_minor": 5
}
