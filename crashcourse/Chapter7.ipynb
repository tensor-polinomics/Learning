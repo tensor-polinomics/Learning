{
 "cells": [
  {
   "cell_type": "markdown",
   "metadata": {},
   "source": [
    "# Chapter 7. User Input and While Loops\n",
    "\n",
    "This chapter covers two important topics. First, we will show you how to take user input with `input()` function, which your program will work with. Next, you will learn how to keep your program running, as long as certain conditions remain true, with the `while` loop.\n",
    "\n",
    "## The `input()` Function\n",
    "\n",
    "Once your program reaches `input()`, it pauses until your user submit their answer, which will be assigned to a variable.\n",
    "\n",
    "### Writing Prompts\n",
    "\n",
    "Your prompt has to be concise but more importantly clear. You can write long prompts spanning multiple lines. In this case, you should first wrap your prompt in a variable, and build it up with `+=`."
   ]
  },
  {
   "cell_type": "code",
   "execution_count": 13,
   "metadata": {},
   "outputs": [
    {
     "name": "stdout",
     "output_type": "stream",
     "text": [
      "Welcome to the liberation day!\n",
      "The original type of age is: <class 'str'>\n",
      "The new type of age is: <class 'int'>\n",
      "Hello, Abraham Lincoln! You are 50 years old.\n"
     ]
    }
   ],
   "source": [
    "# A simple input example\n",
    "message = input(\"Enter a message: \")\n",
    "print(message)\n",
    "\n",
    "name = input(\"Enter your name: \")\n",
    "age = input(\"Enter your age: \") # age is read as a string by default\n",
    "print(f\"The original type of age is: {type(age)}\")\n",
    "age = int(age)  # Convert the string input to an integer\n",
    "print(f\"The new type of age is: {type(age)}\")\n",
    "print(f\"Hello, {name}! You are {age} years old.\")"
   ]
  },
  {
   "cell_type": "markdown",
   "metadata": {},
   "source": [
    "## Using `int()` and `float()` to Accept Numerical Input\n",
    "\n",
    "All inputs from users are stored as strings. If you ask for a numerical input, you can convert it to numbers with `int()` (converting to integers) or `float()` (converting to float).\n",
    "\n",
    "## The Modulo Operator\n",
    "\n",
    "As a reminder, the integer division and modulo (remainder) operators in Python are `//` and `%`, respectively (in R, they are `%/%` and `%%`, respectively)."
   ]
  },
  {
   "cell_type": "code",
   "execution_count": 18,
   "metadata": {},
   "outputs": [
    {
     "name": "stdout",
     "output_type": "stream",
     "text": [
      "Hello, Eric!\n",
      "Your number 23 is odd.\n"
     ]
    }
   ],
   "source": [
    "# Write multiple lines of input\n",
    "prompt = \"If you tell me something, I will repeat it back to you.\\n\"\n",
    "prompt += \"What is your first name?\\n\"\n",
    "name = input(prompt)\n",
    "print(f\"Hello, {name}!\")\n",
    "\n",
    "# Examples of using modulo operator\n",
    "prompt = f\"Hi, {name}, enter an integer: \"\n",
    "number = int(input(prompt))\n",
    "if number % 2 == 0:\n",
    "    print(f\"Your number {number} is even.\")\n",
    "else:\n",
    "    print(f\"Your number {number} is odd.\")"
   ]
  },
  {
   "cell_type": "code",
   "execution_count": 25,
   "metadata": {},
   "outputs": [
    {
     "name": "stdout",
     "output_type": "stream",
     "text": [
      "Sorry, we don't have any Porsches available right now.\n",
      "120 is a multiple of 10.\n"
     ]
    }
   ],
   "source": [
    "# Exercises 7.1/7.2\n",
    "car = input(\"What kind of car would you like to rent? \")\n",
    "if car.lower() == \"porsche\":\n",
    "    print(\"Sorry, we don't have any Porsches available right now.\")\n",
    "else:\n",
    "    print(f\"Let me if if I can find you a {car.title()}.\")\n",
    "\n",
    "# 7.3\n",
    "number = int(input(\"Enter a number: \"))\n",
    "if number % 10 == 0:\n",
    "    print(f\"{number} is a multiple of 10.\")\n",
    "else:\n",
    "    print(f\"{number} is not a multiple of 10.\")"
   ]
  },
  {
   "cell_type": "markdown",
   "metadata": {},
   "source": [
    "## Introducing `while` Loop\n",
    "\n",
    "The `for` loop pre-specifies how many iterations you would like to take. On the other hand, the `while` loop runs as long as (*while*) the condition remains true. Note, it is critical that you set a stop condition. Otherwise, the `while` loop will run forever.\n",
    "\n",
    "## `while` Loop\n",
    "\n",
    "In a simple case, the `while` loop below serves the same purpose as a `for` loop (but with an extra counter).\n",
    "\n",
    "## Users Choose when to Quit\n",
    "\n",
    "In many cases, you will let user decide when to quit, by setting an exit condition conditional on their `input`."
   ]
  },
  {
   "cell_type": "code",
   "execution_count": 29,
   "metadata": {},
   "outputs": [
    {
     "name": "stdout",
     "output_type": "stream",
     "text": [
      "Count is: 0\n",
      "Count is: 1\n",
      "Count is: 2\n",
      "Count is: 3\n",
      "Count is: 4\n",
      "You said: hi\n",
      "You said: never mind\n",
      "You said: quite\n",
      "Exiting the program. Goodbye!\n"
     ]
    }
   ],
   "source": [
    "# Replicating a for loop with a while loop (same as for count in range(5):)\n",
    "count = 0\n",
    "while count < 5:\n",
    "    print(f\"Count is: {count}\")\n",
    "    count += 1  # Increment the count by 1\n",
    "\n",
    "# User will decide when to stop the loop\n",
    "prompt = \"\\nTell me something, and I will repeat it back to you.\"\n",
    "prompt += \"\\nEnter 'quit' to end the program. \"\n",
    "message = \"\"\n",
    "while message != 'quit':\n",
    "    message = input(prompt)\n",
    "    if message != 'quit':\n",
    "        print(f\"You said: {message}\")\n",
    "    else:\n",
    "        print(\"Exiting the program. Goodbye!\")"
   ]
  },
  {
   "cell_type": "markdown",
   "metadata": {},
   "source": [
    "## Using a Flag\n",
    "\n",
    "For a program that depends on many conditions, it is typically easier to set a *flag* variable, so your `while` loop only depends on one condition.\n",
    "\n",
    "## Using `break` to Exit a Loop\n",
    "\n",
    "Sometimes, once certain condition is met, you want your program to immediately break away from the loop. In this case, you can use the `break` statement. **Note: the `break` statement can be used inside of any loops, including `for` loops.**\n",
    "\n",
    "## Using `continue` in a Loop\n",
    "\n",
    "Instead of breaking out of a loop completely, sometimes, you want your code to continue to run after meeting a condition. In this case, you can use `continue` statement.\n",
    "\n",
    "## Avoiding Infinite Loops\n",
    "\n",
    "Unlike `for` loop, you need to specifically design an end condition for `while` loop. Otherwise, your code will run forever. You can press ```Ctrl+C``` to terminate your code."
   ]
  },
  {
   "cell_type": "code",
   "execution_count": 31,
   "metadata": {},
   "outputs": [
    {
     "name": "stdout",
     "output_type": "stream",
     "text": [
      "You said: hello\n",
      "You said: whatever\n",
      "Exiting the program. Goodbye!\n",
      "You said: another try\n"
     ]
    }
   ],
   "source": [
    "# Repeat the same example with a flag variable\n",
    "prompt = \"\\nTell me something, and I will repeat it back to you.\"\n",
    "prompt += \"\\nEnter 'quit' to end the program. \"\n",
    "message = \"\"\n",
    "\n",
    "active = True # initialize a flag variable to control the loop\n",
    "while active:\n",
    "    message = input(prompt)\n",
    "    if message != 'quit':\n",
    "        print(f\"You said: {message}\")\n",
    "    else:\n",
    "        active = False  # Set the flag to False to exit the loop\n",
    "        print(\"Exiting the program. Goodbye!\")\n",
    "\n",
    "# Use of the break statement to exit a loop early\n",
    "prompt = \"\\nTell me something, and I will repeat it back to you.\"\n",
    "prompt += \"\\nEnter 'quit' to end the program. \"\n",
    "message = \"\"\n",
    "\n",
    "active = True # initialize a flag variable to control the loop\n",
    "while active:\n",
    "    message = input(prompt)\n",
    "    if message != 'quit':\n",
    "        print(f\"You said: {message}\")\n",
    "    else:\n",
    "        break"
   ]
  },
  {
   "cell_type": "code",
   "execution_count": null,
   "metadata": {},
   "outputs": [
    {
     "name": "stdout",
     "output_type": "stream",
     "text": [
      "Using continue statement to skip even numbers:\n",
      "1 3 5 7 9 \n",
      "Using while loop to print only odd numbers:\n",
      "1 3 5 7 9 "
     ]
    }
   ],
   "source": [
    "# continue statement example\n",
    "print(\"Using continue statement to skip even numbers:\")\n",
    "count = 0\n",
    "while count < 10:\n",
    "    count += 1\n",
    "    if count % 2 == 0:\n",
    "        continue\n",
    "    print(count, end=' ')  # Print only odd numbers, skipping even ones\n",
    "\n",
    "# Obviously, in this case, it's simpler to make the condition for odd numbers in the while loop itself:\n",
    "print(\"\\nUsing while loop to print only odd numbers:\")\n",
    "count = 0\n",
    "while count < 10:\n",
    "    count += 1\n",
    "    if count % 2 == 1:\n",
    "        print(count, end =' ')  # Print only odd numbers"
   ]
  },
  {
   "cell_type": "code",
   "execution_count": 50,
   "metadata": {},
   "outputs": [
    {
     "name": "stdout",
     "output_type": "stream",
     "text": [
      "Pepper has been added to your pizza.\n",
      "Cheese has been added to your pizza.\n",
      "pepper, cheese\n"
     ]
    }
   ],
   "source": [
    "# Exercise 7.4\n",
    "prompt = \"Tell me what toppings you would like on your pizza: \"\n",
    "prompt += \"\\nEnter 'quit' when you are finished. \"\n",
    "toppings = []\n",
    "active = True\n",
    "\n",
    "while active:\n",
    "    topping = input(prompt)\n",
    "    if topping.lower() == 'quit':\n",
    "        active = False\n",
    "    else:\n",
    "        toppings.append(topping)\n",
    "        print(f\"{topping.title()} has been added to your pizza.\")\n",
    "print(', '.join(toppings))"
   ]
  },
  {
   "cell_type": "code",
   "execution_count": 52,
   "metadata": {},
   "outputs": [
    {
     "name": "stdout",
     "output_type": "stream",
     "text": [
      "Your ticket costs $10.\n",
      "Your ticket is free!\n",
      "Your ticket is free!\n",
      "Your ticket costs $15.\n",
      "Your ticket costs $15.\n",
      "Your ticket is free!\n",
      "Your ticket is free!\n",
      "Exiting the program. Goodbye!\n"
     ]
    }
   ],
   "source": [
    "# 7.5\n",
    "prompt = \"Enter your age and I will tell you the cost of your ticket:\"\n",
    "prompt += \"Enter 'quit' to exist. \"\n",
    "while True:\n",
    "    age = input(prompt)\n",
    "    if age == 'quit':\n",
    "        print(\"Exiting the program. Goodbye!\")\n",
    "        break\n",
    "    elif int(age) < 3:        \n",
    "        print(\"Your ticket is free!\")\n",
    "    elif int(age) < 12:\n",
    "        print(\"Your ticket costs $10.\")\n",
    "    else:\n",
    "        print(\"Your ticket costs $15.\") "
   ]
  },
  {
   "cell_type": "markdown",
   "metadata": {},
   "source": [
    "## Using a `while` Loop with Lists and Dictionaries\n",
    "\n",
    "You access items in a list with `for` loop. However, to modify items in a list, you normally should use `while` loop.\n",
    "\n",
    "### Moving Items from One List to Another\n",
    "\n",
    "For example, you have a list of unconfirmed users. You perform validation on each user and then move them to a separate confirmed user list. This is precisely what `while` loop can do.\n",
    "\n",
    "### Removing All Instances of Specific Values from a List\n",
    "\n",
    "In [Chapter 3](Chapter3.html), we learned the `remove()` method, which remove an item from a list by matching its value. However, `remove()` only remove the first instance. If you have multiple items with the same value, you can combine a `while` loop with `remove()`.\n",
    "\n",
    "### Filling a Dictionary with User Input\n",
    "\n",
    "We have learned how to prompt user input with `while` loop. In this section, we will collect user survey data and put it in a dictionary, which can be retrieved later."
   ]
  },
  {
   "cell_type": "code",
   "execution_count": 62,
   "metadata": {},
   "outputs": [
    {
     "name": "stdout",
     "output_type": "stream",
     "text": [
      "Verifying user: Candace\n",
      "User Candace has been verified.\n",
      "Verifying user: Brian\n",
      "User Brian has been verified.\n",
      "Verifying user: Alice\n",
      "User Alice has been verified.\n",
      "All users have been verified!\n",
      "\n",
      "Original list of pets: ['dog', 'cat', 'dog', 'goldfish', 'cat', 'rabbit', 'cat']\n",
      "List after removing all 'cat': ['dog', 'dog', 'goldfish', 'rabbit']\n",
      "\n",
      "--- Poll Results ---\n",
      "Eric's favorite programming language is Python.\n",
      "Adam's favorite programming language is C.\n"
     ]
    }
   ],
   "source": [
    "# Moving items from one to another list\n",
    "unconfirmed_users = ['alice', 'brian', 'candace']\n",
    "confirmed_users = []\n",
    "\n",
    "while unconfirmed_users:\n",
    "    current_user = unconfirmed_users.pop()  # Remove the last user from unconfirmed_users\n",
    "    print(f\"Verifying user: {current_user.title()}\")\n",
    "    print(f\"User {current_user.title()} has been verified.\")\n",
    "    confirmed_users.append(current_user)  # Add the verified user to confirmed_users\n",
    "print(\"All users have been verified!\")\n",
    "\n",
    "# Removing multiple items with the same value from a list\n",
    "pets = ['dog', 'cat', 'dog', 'goldfish', 'cat', 'rabbit', 'cat']\n",
    "print(\"\\nOriginal list of pets:\", pets)\n",
    "while 'cat' in pets:\n",
    "    pets.remove('cat')\n",
    "print(\"List after removing all 'cat':\", pets)\n",
    "\n",
    "# Filing a dictionary with user input\n",
    "responses = {} # setting up an empty dictionary to store responses\n",
    "pooling_active = True # setting up a flag\n",
    "\n",
    "while pooling_active:\n",
    "    name = input(\"\\nWhat is your name? \")\n",
    "    response = input(\"What's your favorite programming language? \")\n",
    "    responses[name] = response  # Store the response in the dictionary\n",
    "    repeat = input(\"Anyone else behind you would like to take the survey (yes/no) \").lower()\n",
    "    if repeat == 'no':\n",
    "        pooling_active = False  # Exit the loop\n",
    "\n",
    "print(\"\\n--- Poll Results ---\")\n",
    "for name, response in responses.items():\n",
    "    print(f\"{name.title()}'s favorite programming language is {response.title()}.\")"
   ]
  },
  {
   "cell_type": "code",
   "execution_count": 79,
   "metadata": {},
   "outputs": [
    {
     "name": "stdout",
     "output_type": "stream",
     "text": [
      "Milktea is ready\n",
      "Black Cofee is ready\n",
      "Apple Juice is ready\n",
      "Finished orders: ['Milktea', 'Black Cofee', 'Apple Juice']\n",
      "\n",
      "We have ran out of Milktea\n",
      "Black Cofee is ready\n",
      "Apple Juice is ready\n",
      "Finished orders: ['Black Cofee', 'Apple Juice']\n",
      "\n",
      "We have the following people taking the survey: \n",
      "Eric: Paris\n",
      "Adam: Amsterdam\n"
     ]
    }
   ],
   "source": [
    "# Exercise 7.8\n",
    "active_orders = ['Apple Juice', 'black Cofee', 'Milktea']\n",
    "finished_orders = []\n",
    "\n",
    "while active_orders:\n",
    "\tcurrent_order = active_orders.pop().title()\n",
    "\tprint(f\"{current_order} is ready\")\n",
    "\tfinished_orders.append(current_order)\n",
    "print(f\"Finished orders: {finished_orders}\")\n",
    "\n",
    "# 7.9\n",
    "active_orders = ['Apple Juice', 'Milktea', 'Black Cofee', 'Milktea']\n",
    "finished_orders = []\n",
    "\n",
    "# remove Milktea\n",
    "print(\"\\nWe have ran out of Milktea\")\n",
    "while 'Milktea' in active_orders:\n",
    "    active_orders.remove('Milktea')\n",
    "\n",
    "while active_orders:\t\n",
    "\tcurrent_order = active_orders.pop().title()\n",
    "\tprint(f\"{current_order} is ready\")\n",
    "\tfinished_orders.append(current_order)\n",
    "print(f\"Finished orders: {finished_orders}\")\n",
    "\n",
    "# 7.10\n",
    "places = {} # set a dictionary\n",
    "active = True # set a flag\n",
    "\n",
    "while active:\n",
    "\tname = input(\"\\nWhat's your name? \")\n",
    "\tplace = input(\"Where would you like to go for next vacation? \")\n",
    "\tplaces[name] = place\n",
    "\trepeat = input(\"Anyone behind you would like to take the survey (yes/no)? \").lower()\n",
    "\tif repeat == 'no':\n",
    "\t\tactive = False\n",
    "\n",
    "print(\"\\nWe have the following people taking the survey: \")\n",
    "for name, place in places.items():\n",
    "\tprint(f\"{name.title()}: {place.title()}\")"
   ]
  }
 ],
 "metadata": {
  "kernelspec": {
   "display_name": "env_learning",
   "language": "python",
   "name": "python3"
  },
  "language_info": {
   "codemirror_mode": {
    "name": "ipython",
    "version": 3
   },
   "file_extension": ".py",
   "mimetype": "text/x-python",
   "name": "python",
   "nbconvert_exporter": "python",
   "pygments_lexer": "ipython3",
   "version": "3.12.9"
  }
 },
 "nbformat": 4,
 "nbformat_minor": 2
}
