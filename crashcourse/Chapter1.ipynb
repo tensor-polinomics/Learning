{
 "cells": [
  {
   "cell_type": "markdown",
   "metadata": {},
   "source": [
    "# Python Crash Course\n",
    "\n",
    "## Chapter 1. Getting Started\n",
    "\n",
    "There are a few different ways to invoke Python:\n",
    "\n",
    "- Python Shell\n",
    "- Windows Shell (type `python`). You can check your Python version with `python --version`.\n",
    "- VS Code\n",
    "- Jupyter Notebook or JupyterLab online\n",
    "- Google Colab\n",
    "\n",
    "To run your Python code from the terminal window, you need to do the following:\n",
    "\n",
    "- Change to your current directory, using `cd xxx\\xxx\\xxx`\n",
    "- Calling Python script file with `python fileName.py`\n",
    "\n",
    "In this book, we will use Jupyter Notebook within VS Code.\n",
    "\n",
    "- With Python, you should first create a virtual environment, for a new project. I would recommend doing so within Anaconda. You should never use the \"base\" environment.\n",
    "- If you have not done so, you need to install Python and then Jupyter Notebook extensions.\n",
    "- The first time you start a new project, you need to choose a Python virtual environment, by clicking Ctrl+Shift+P and then type \"Python: Select Interpreter\"."
   ]
  },
  {
   "cell_type": "code",
   "execution_count": 1,
   "metadata": {},
   "outputs": [
    {
     "name": "stdout",
     "output_type": "stream",
     "text": [
      "Hello World\n"
     ]
    }
   ],
   "source": [
    "# Your first code in any programming language is always \"Hello World\"!\n",
    "print(\"Hello World\")"
   ]
  },
  {
   "cell_type": "markdown",
   "metadata": {},
   "source": [
    "Sometimes, you want to create Python script files and run them separately from command prompt. It is mostly for batch processing, when you do not need to watch how the code is executed.\n",
    "\n",
    "In Windows, you execute your Python files using *Windows PowerShell*, with the following steps:\n",
    "\n",
    "- You need to change to the directory where your Python script is located using `cd drive:/directory`. Note that we recommend to use `/` instead of `\\` even in Windows.\n",
    "- Next, you type `python file_name.py`."
   ]
  }
 ],
 "metadata": {
  "kernelspec": {
   "display_name": "env_learning",
   "language": "python",
   "name": "python3"
  },
  "language_info": {
   "codemirror_mode": {
    "name": "ipython",
    "version": 3
   },
   "file_extension": ".py",
   "mimetype": "text/x-python",
   "name": "python",
   "nbconvert_exporter": "python",
   "pygments_lexer": "ipython3",
   "version": "3.12.9"
  }
 },
 "nbformat": 4,
 "nbformat_minor": 2
}
