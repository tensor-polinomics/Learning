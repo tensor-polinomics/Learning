{
 "cells": [
  {
   "cell_type": "markdown",
   "metadata": {},
   "source": [
    "# Python Tutorial\n",
    "This is my first document writting in VS Code about Python programming language! The main source is Python Tutorial provided by [Python.org](https://docs.python.org/3/tutorial)."
   ]
  },
  {
   "cell_type": "markdown",
   "metadata": {},
   "source": [
    "## A Quick Start"
   ]
  },
  {
   "cell_type": "code",
   "execution_count": 4,
   "metadata": {},
   "outputs": [
    {
     "name": "stdout",
     "output_type": "stream",
     "text": [
      "Hello World, from Jupyter Notebook!\n"
     ]
    }
   ],
   "source": [
    "print(\"Hello World, from Jupyter Notebook!\")"
   ]
  },
  {
   "cell_type": "code",
   "execution_count": 5,
   "metadata": {},
   "outputs": [
    {
     "name": "stdout",
     "output_type": "stream",
     "text": [
      "Don't fall off!\n"
     ]
    }
   ],
   "source": [
    "# slightly more complex example\n",
    "the_world_is_flat = True\n",
    "if the_world_is_flat:\n",
    "    print(\"Don't fall off!\")"
   ]
  },
  {
   "cell_type": "code",
   "execution_count": 6,
   "metadata": {},
   "outputs": [
    {
     "name": "stdout",
     "output_type": "stream",
     "text": [
      "1\n",
      "# This is not a comment\n"
     ]
    }
   ],
   "source": [
    "spam = 1 # This is a comment\n",
    "text = \"# This is not a comment\"\n",
    "print(spam)\n",
    "print(text)"
   ]
  },
  {
   "cell_type": "markdown",
   "metadata": {},
   "source": [
    "## An Informal Introduction"
   ]
  },
  {
   "cell_type": "markdown",
   "metadata": {},
   "source": [
    "### Simply numerical calculation\n",
    "- Integer division is `//`, while the modular division is computed with `%`. These are different from R's syntax (`%/%` and `%%`).\n",
    "- Exponential operator is `**` (versus `^` in R)."
   ]
  },
  {
   "cell_type": "code",
   "execution_count": 7,
   "metadata": {},
   "outputs": [
    {
     "name": "stdout",
     "output_type": "stream",
     "text": [
      "1.6\n",
      "1\n",
      "3\n"
     ]
    }
   ],
   "source": [
    "print(8 / 5) # regular division\n",
    "print(8 // 5) # integer division\n",
    "print(8 % 5) # modular division"
   ]
  },
  {
   "cell_type": "markdown",
   "metadata": {},
   "source": [
    "### Simple String Operations\n",
    "- Strings can be quoted using with single `'` or double `\"` quotes, which are the same as R.\n",
    "- You can escape quotes with a `\\`, e.g., `\\'`, or mixing single and double quotes.\n",
    "- To see strings clearly, you should use `print()` function.\n",
    "- If you don't want to use escape `\\`, you can use raw strings, by adding an `r` before the first quote.\n",
    "- String literals can span multiple lines. One way to do so is using triple-quotes: `\"\"\"...\"\"\"` or `'''...'''`.\n",
    "- Strings can be concatenated with `+`. To repeat the same string, you can use `n * str`."
   ]
  },
  {
   "cell_type": "code",
   "execution_count": 8,
   "metadata": {},
   "outputs": [
    {
     "name": "stdout",
     "output_type": "stream",
     "text": [
      "First line.\n",
      "Second Line.\n",
      "c:\\some\\name\n",
      "Usage: thingy [OPTIONS]\n",
      "     -h                        Display this usage message\n",
      "     -H hostname               Hostname to connect to\n",
      "\n",
      "apple apple apple orange\n"
     ]
    }
   ],
   "source": [
    "'doesn\\'t'\n",
    "x = \"First line.\\nSecond Line.\"\n",
    "print(x)\n",
    "print(r'c:\\some\\name') # raw string\n",
    "\n",
    "# Multiple lines can be written using triple quotes\n",
    "print(\"\"\"\\\n",
    "Usage: thingy [OPTIONS]\n",
    "     -h                        Display this usage message\n",
    "     -H hostname               Hostname to connect to\n",
    "\"\"\")\n",
    "\n",
    "# string concatenation\n",
    "print(3 * \"apple \" + \"orange\")"
   ]
  },
  {
   "cell_type": "markdown",
   "metadata": {},
   "source": [
    "- String literals next to each other are automatically concatenated, which is particularly useful when you want to break long strings.\n",
    "- If you want to concatenate variables with a literal, you need to use `+`."
   ]
  },
  {
   "cell_type": "code",
   "execution_count": 9,
   "metadata": {},
   "outputs": [
    {
     "name": "stdout",
     "output_type": "stream",
     "text": [
      "This is a long string that I want to break up into multiple lines.\n"
     ]
    },
    {
     "data": {
      "text/plain": [
       "'Python'"
      ]
     },
     "execution_count": 9,
     "metadata": {},
     "output_type": "execute_result"
    }
   ],
   "source": [
    "\"Py\" \"thon\" # This is the same as \"Py\" + \"thon\"\n",
    "\n",
    "long_string = (\"This is a long string that \"\n",
    "               \"I want to break up into multiple lines.\")\n",
    "print(long_string)\n",
    "\n",
    "prefix = \"Py\"\n",
    "prefix + \"thon\" # This is the same as \"Py\" + \"thon\""
   ]
  },
  {
   "cell_type": "markdown",
   "metadata": {},
   "source": [
    "- Strings can be subsetted using `string[position]`. Please note that Python's position starts from 0.\n",
    "- You can also slice a string, with `string[start, end]`, where `start` is included and `end` is not. Therefore, `string[:i] + string[i:]` returns the full `string`. The length of a slice is `end - start`.\n",
    "- Out-of-range subsetting results an error, while out-of-range slicing gives us a decent outcome without an error.\n",
    "- Python strings are immutable (different from R). You can, however, re-assign a string.\n",
    "- The length of a string can be computed with `len(string)`."
   ]
  },
  {
   "cell_type": "code",
   "execution_count": 10,
   "metadata": {},
   "outputs": [
    {
     "name": "stdout",
     "output_type": "stream",
     "text": [
      "l\n",
      "on\n",
      "word\n",
      "wo\n",
      "longAord\n"
     ]
    },
    {
     "data": {
      "text/plain": [
       "8"
      ]
     },
     "execution_count": 10,
     "metadata": {},
     "output_type": "execute_result"
    }
   ],
   "source": [
    "string = \"longword\"\n",
    "print(string[0])\n",
    "print(string[1:3])\n",
    "print(string[4:])\n",
    "print(string[-4:-2])\n",
    "\n",
    "string = string[0:4] + \"A\" + string[5:]\n",
    "print(string)\n",
    "\n",
    "len(string)"
   ]
  },
  {
   "cell_type": "markdown",
   "metadata": {},
   "source": [
    "### Python Lists\n",
    "\n",
    "The simplest Python compound data type is *list*. It include multiple data values separated by comma, included between square brackets. Items within a list are typically of the same type (although they don't have to).\n",
    "\n",
    "- You can index (select), slice, and concatenate lists similar to how you would deal with strings.\n",
    "- Unlike strings, lists are mutable, so you can change its elements directly.\n",
    "- You can use list.append() method to add new items at the end.\n",
    "- Since assignment in Python never copies data. When you assign a list of a variable, the variable refers to the existing list. Therefore, changes to the list will be reflected in the variable as well.\n",
    "- If you don't want to change the original list, you can make a *shallow* copy, with `new_list = old_list[:]`.\n",
    "- You can remove elements of a list with `list[start, end] = []` or even remove all elements with `list[:] = []`.\n",
    "- `len()` also computes the length (i.e., number of elements) in a list.\n",
    "- You can also nest lists, i.e., one list contains other lists."
   ]
  },
  {
   "cell_type": "code",
   "execution_count": 11,
   "metadata": {},
   "outputs": [
    {
     "name": "stdout",
     "output_type": "stream",
     "text": [
      "[1, 2, 3, 4, 5]\n",
      "1\n",
      "[3]\n",
      "[1, 2, 3, 4, 5, 6, 7, 8, 9, 10]\n",
      "[1, 2, 100, 4, 5]\n",
      "[1, 2, 100, 4, 5, 200]\n",
      "['red', 'green', 'blue', 'yellow']\n",
      "['red', 'green', 'blue', 'yellow']\n",
      "[[1, 2, 3, 4, 5], ['a', 'b', 'c', 'd', 'e']]\n"
     ]
    }
   ],
   "source": [
    "# a simple list\n",
    "list_numbers = [1, 2, 3, 4, 5]\n",
    "print(list_numbers)\n",
    "\n",
    "# Basic list operations\n",
    "print(list_numbers[0])\n",
    "print(list_numbers[2:3])\n",
    "\n",
    "print(list_numbers + [6, 7, 8, 9, 10])\n",
    "\n",
    "list_numbers[2] = 100\n",
    "print(list_numbers)\n",
    "\n",
    "list_numbers.append(200)\n",
    "print(list_numbers)\n",
    "\n",
    "# make changes to one list will be reflected in the other\n",
    "rgb = ['red', 'green', 'blue']\n",
    "rgb2 = rgb\n",
    "rgb.append('yellow')\n",
    "print(rgb2)\n",
    "\n",
    "# shallow copy\n",
    "rgb3 = rgb[:]\n",
    "rgb.append('purple')\n",
    "print(rgb3)\n",
    "\n",
    "# len() function\n",
    "len(rgb3)\n",
    "\n",
    "# nested list\n",
    "list_numbers = [1, 2, 3, 4, 5]\n",
    "list_letters = ['a', 'b', 'c', 'd', 'e']\n",
    "list_nested = [list_numbers, list_letters]\n",
    "print(list_nested)"
   ]
  },
  {
   "cell_type": "markdown",
   "metadata": {},
   "source": [
    "### First Steps towards Programming"
   ]
  },
  {
   "cell_type": "code",
   "execution_count": 12,
   "metadata": {},
   "outputs": [
    {
     "name": "stdout",
     "output_type": "stream",
     "text": [
      "before:  0 1\n",
      "after:  1 1\n",
      "before:  1 1\n",
      "after:  1 2\n",
      "before:  1 2\n",
      "after:  2 3\n",
      "before:  2 3\n",
      "after:  3 5\n",
      "before:  3 5\n",
      "after:  5 8\n",
      "before:  5 8\n",
      "after:  8 13\n",
      "before:  8 13\n",
      "after:  13 21\n"
     ]
    }
   ],
   "source": [
    "# Fibonacci series:\n",
    "# the sum of two elements defines the next\n",
    "\n",
    "a, b = 0, 1\n",
    "while a < 10:\n",
    "    print(\"before: \", a, b)\n",
    "    a, b = b, a+b\n",
    "    print(\"after: \", a, b)"
   ]
  },
  {
   "cell_type": "markdown",
   "metadata": {},
   "source": [
    "## Control Flow Tools\n",
    "In this section, we will learn a few sets of control flow tools:\n",
    "\n",
    "- Conditional statements such as `if... else...\"\n",
    "- `for` and `while` loops\n",
    "- `break` and `continue`\n",
    "- `pass` and `match` statements\n",
    "- functions, arguments, lambda expressions, documentation strings"
   ]
  },
  {
   "cell_type": "markdown",
   "metadata": {},
   "source": [
    "### `if` Statements\n",
    "\n",
    "The `if` statement could have optional `elif` (multiple) and `else` (a catch-all term). Python uses lazy evaluation, so once the first match is found, the rest is ignored. If you have multiple conditions, you may consider to use `match` statement instead."
   ]
  },
  {
   "cell_type": "code",
   "execution_count": 13,
   "metadata": {},
   "outputs": [
    {
     "name": "stdout",
     "output_type": "stream",
     "text": [
      "Larger positive integer\n"
     ]
    }
   ],
   "source": [
    "x = int(12)\n",
    "if x < 0:\n",
    "    x = 0\n",
    "    print('Negative changed to zero')\n",
    "elif x == 0:\n",
    "    print('Zero')\n",
    "elif x == 1:\n",
    "    print('Single')\n",
    "else:\n",
    "    print('Larger positive integer')"
   ]
  },
  {
   "cell_type": "markdown",
   "metadata": {},
   "source": [
    "### `for` Loop"
   ]
  },
  {
   "cell_type": "code",
   "execution_count": 14,
   "metadata": {},
   "outputs": [
    {
     "name": "stdout",
     "output_type": "stream",
     "text": [
      "cat 3\n",
      "window 6\n",
      "defenestrate 12\n"
     ]
    }
   ],
   "source": [
    "words = [\"cat\", \"window\", \"defenestrate\"]\n",
    "for word in words:\n",
    "    print(word, len(word))\n"
   ]
  },
  {
   "cell_type": "code",
   "execution_count": 15,
   "metadata": {},
   "outputs": [
    {
     "name": "stdout",
     "output_type": "stream",
     "text": [
      "{'Hans': 'Active', 'John': 'Active'}\n"
     ]
    }
   ],
   "source": [
    "# For Python dictionaries, you can use the key, value in dict.items() syntax to iterate over the key-value pairs of the dictionary.\n",
    "users = {\"Hans\": \"Active\", \"Peter\": \"Inactive\", \"John\": \"Active\"}\n",
    "\n",
    "# To extract active users\n",
    "active_users = {}\n",
    "for user, status in users.items():\n",
    "    if status == \"Active\":\n",
    "        active_users[user] = status\n",
    "print(active_users)"
   ]
  },
  {
   "cell_type": "markdown",
   "metadata": {},
   "source": [
    "## The `range()` Function\n",
    "If you need to iterate over a sequence of numbers, the built-in `range()` function comes in handy. You can use it in a few ways:\n",
    "\n",
    "- range(n) returns numbers from 0 to n-1 (total of n numbers)\n",
    "- range(start, end) returns numbers from start to end-1 (again m-n numbers)\n",
    "- range(start, end, step)\n",
    "- to iterate over the indices of a sequence, you can combine `range()` with `len()` (range(len(listName)))"
   ]
  },
  {
   "cell_type": "code",
   "execution_count": 16,
   "metadata": {},
   "outputs": [
    {
     "name": "stdout",
     "output_type": "stream",
     "text": [
      "0 :  Mary\n",
      "1 :  had\n",
      "2 :  a\n",
      "3 :  little\n",
      "4 :  lamb\n"
     ]
    }
   ],
   "source": [
    "a = [\"Mary\", \"had\", \"a\", \"little\", \"lamb\"]\n",
    "for i in range(len(a)):\n",
    "    print(i, \": \", a[i])"
   ]
  },
  {
   "cell_type": "markdown",
   "metadata": {},
   "source": [
    "An object is *iterable*, meaning you can iterate each item in the object. Examples of iterable objects include lists and dictionaries. You can use `for` loop on iterable objects. You may also apply functions such as `sum()` on these objects."
   ]
  },
  {
   "cell_type": "code",
   "execution_count": 17,
   "metadata": {},
   "outputs": [
    {
     "data": {
      "text/plain": [
       "6"
      ]
     },
     "execution_count": 17,
     "metadata": {},
     "output_type": "execute_result"
    }
   ],
   "source": [
    "sum(range(4)) # 0 + 1 + 2 + 3"
   ]
  },
  {
   "cell_type": "markdown",
   "metadata": {},
   "source": [
    "### `break` and `continue` Statements\n",
    "- The `break` statement breaks out the innermost `for` or `while` loop.\n",
    "- The `continue` statement continues with the next iteration of the loop."
   ]
  },
  {
   "cell_type": "code",
   "execution_count": 18,
   "metadata": {},
   "outputs": [
    {
     "name": "stdout",
     "output_type": "stream",
     "text": [
      "i = 0, j = 0\n",
      "i = 0, j = 1\n",
      "i = 1, j = 0\n",
      "i = 1, j = 1\n",
      "i = 2, j = 0\n",
      "i = 2, j = 1\n",
      "i = 3, j = 0\n",
      "i = 3, j = 1\n",
      "done with break\n",
      "\n",
      "i = 0, j = 0\n",
      "i = 0, j = 1\n",
      "found a '2' in inner loop\n",
      "i = 0, j = 3\n",
      "i = 1, j = 0\n",
      "i = 1, j = 1\n",
      "found a '2' in inner loop\n",
      "i = 1, j = 3\n",
      "i = 2, j = 0\n",
      "i = 2, j = 1\n",
      "found a '2' in inner loop\n",
      "i = 2, j = 3\n",
      "i = 3, j = 0\n",
      "i = 3, j = 1\n",
      "found a '2' in inner loop\n",
      "i = 3, j = 3\n"
     ]
    }
   ],
   "source": [
    "# break\n",
    "for i in range(4):\n",
    "    for j in range(4):\n",
    "        if j == 2:\n",
    "            break\n",
    "        print(f\"i = {i}, j = {j}\")\n",
    "print(\"done with break\\n\")\n",
    "\n",
    "# continue\n",
    "for i in range(4):\n",
    "    for j in range(4):\n",
    "        if j == 2:\n",
    "            print(\"found a '2' in inner loop\")\n",
    "            continue\n",
    "        print(f\"i = {i}, j = {j}\")"
   ]
  },
  {
   "cell_type": "markdown",
   "metadata": {},
   "source": [
    "### `else` Clauses on Loops\n",
    "In a `for` or `while` loop with the `break` statement, we can pair it with an `else` clause. If the `break` statement is triggered, the `else` clause is ignored; otherwise, the `else` clause executes. In the `while` loop, `else` is executed after the loop's condition becomes false. Note that the use of `else` in this case is different from typical `if... else...`. Here is an example of searching for prime numbers:"
   ]
  },
  {
   "cell_type": "code",
   "execution_count": 19,
   "metadata": {},
   "outputs": [
    {
     "name": "stdout",
     "output_type": "stream",
     "text": [
      "2 is a prime number\n",
      "3 is a prime number\n",
      "4 equals 2 * 2\n",
      "5 is a prime number\n",
      "6 equals 2 * 3\n",
      "7 is a prime number\n",
      "8 equals 2 * 4\n",
      "9 equals 3 * 3\n"
     ]
    }
   ],
   "source": [
    "for n in range(2, 10):\n",
    "    for x in range(2, n):\n",
    "        if n % x == 0:\n",
    "            print(n, \"equals\", x, \"*\", n//x)\n",
    "            break\n",
    "    else:\n",
    "        # loop fell through without finding a factor\n",
    "        print(n, \"is a prime number\")"
   ]
  },
  {
   "cell_type": "markdown",
   "metadata": {},
   "source": [
    "### `pass` Statements\n",
    "The `pass` statement does nothing. It can be used when a statement is required syntactically, but the program requires no action. It can also be used as a temperary placeholder."
   ]
  },
  {
   "cell_type": "code",
   "execution_count": 20,
   "metadata": {},
   "outputs": [],
   "source": [
    "def initlog(*args):\n",
    "    pass    # Remember to implement this!"
   ]
  },
  {
   "cell_type": "markdown",
   "metadata": {},
   "source": [
    "### `match` Statements\n",
    "A `match` statement takes an expression and compares its value to a series of patterns. It's somewhat similar to a `switch` statment in C/Java, but has far more functionalies. Here is a simple example. Note that the `_` in the last case is a *wildcard*, so the last branch will always execute if none of the conditions above is met."
   ]
  },
  {
   "cell_type": "code",
   "execution_count": 21,
   "metadata": {},
   "outputs": [],
   "source": [
    "def http_error(status):\n",
    "    match status:\n",
    "        case 400:\n",
    "            return \"Bad request\"\n",
    "        case 404:\n",
    "            return \"Not found\"\n",
    "        case 418:\n",
    "            return \"I'm a teapot\"\n",
    "        case _:\n",
    "            return \"Something else\""
   ]
  },
  {
   "cell_type": "markdown",
   "metadata": {},
   "source": [
    "### Defining Functions\n",
    "\n",
    "Use `def` to define a function. Remember to always add a *docstring*.\n",
    "\n",
    "A *method* is a function associated with an object and is used as `obj.methodname()`. In the example below, we use `result.append(a)` to add newly computed Fibonacci number to the existing list."
   ]
  },
  {
   "cell_type": "code",
   "execution_count": 22,
   "metadata": {},
   "outputs": [
    {
     "name": "stdout",
     "output_type": "stream",
     "text": [
      "0 1 1 2 3 5 8 13 21 34 55 89 \n",
      "0 1 1 2 3 5 8 13 21 34 55 89 144 \n"
     ]
    },
    {
     "data": {
      "text/plain": [
       "[0, 1, 1, 2, 3, 5, 8, 13, 21, 34, 55, 89]"
      ]
     },
     "execution_count": 22,
     "metadata": {},
     "output_type": "execute_result"
    }
   ],
   "source": [
    "# Define a function to compute Fibonacci series\n",
    "def fib(n):\n",
    "    a, b = 0, 1\n",
    "    while a < n:\n",
    "        print(a, end=' ')\n",
    "        a, b = b, a+b\n",
    "    print()\n",
    "    \n",
    "# Now call the function we just defined\n",
    "fib(100)\n",
    "\n",
    "# You can re-assign your function to a different name\n",
    "f = fib\n",
    "f(200)\n",
    "\n",
    "# A better function that return the Fibonacci series as a list\n",
    "def fib2(n):\n",
    "    result = []\n",
    "    a, b = 0, 1\n",
    "    while a < n:\n",
    "        result.append(a)\n",
    "        a, b = b, a+b\n",
    "    return result\n",
    "\n",
    "# Let's test it\n",
    "fib2(100)"
   ]
  },
  {
   "cell_type": "markdown",
   "metadata": {},
   "source": [
    "### More on Functions\n",
    "There are three forms to add arguments to functions.\n",
    "#### Default Argument Values\n",
    "When you put a value after an argument in your function definition, that value becomes the default value. If a user doesn't give an explicit value for that argument, the default value will be used."
   ]
  },
  {
   "cell_type": "code",
   "execution_count": 23,
   "metadata": {},
   "outputs": [],
   "source": [
    "def ask_ok(prompt, retries=4, reminder='Please try again!'):\n",
    "    while True:\n",
    "        ok = input(prompt)\n",
    "        if ok in ('y', 'ye', 'yes'):\n",
    "            return True\n",
    "        if ok in ('n', 'no', 'nop', 'nope'):\n",
    "            return False\n",
    "        retries = retries - 1\n",
    "        if retries < 0:\n",
    "            raise ValueError('invalid user response')\n",
    "        print(reminder)"
   ]
  },
  {
   "cell_type": "markdown",
   "metadata": {},
   "source": [
    "#### Keyword Arguments"
   ]
  },
  {
   "cell_type": "code",
   "execution_count": 26,
   "metadata": {},
   "outputs": [
    {
     "name": "stdout",
     "output_type": "stream",
     "text": [
      "-- This parrort wouldn't voom if you put 1000 volts through it.\n",
      "-- Lovely plumage, the Norwegian Blue\n",
      "-- It's a stiff !\n",
      "\n",
      "-- This parrort wouldn't voom if you put 1000 volts through it.\n",
      "-- Lovely plumage, the Norwegian Blue\n",
      "-- It's a stiff !\n",
      "\n",
      "-- This parrort wouldn't VOOOOOM if you put 1000000 volts through it.\n",
      "-- Lovely plumage, the Norwegian Blue\n",
      "-- It's a stiff !\n",
      "\n",
      "-- This parrort wouldn't VOOOOOM if you put 1000000 volts through it.\n",
      "-- Lovely plumage, the Blue\n",
      "-- It's a stiff !\n",
      "\n",
      "-- This parrort wouldn't jump if you put a million volts through it.\n",
      "-- Lovely plumage, the Norwegian Blue\n",
      "-- It's bereft of life !\n",
      "\n",
      "-- This parrort wouldn't voom if you put a thousand volts through it.\n",
      "-- Lovely plumage, the Norwegian Blue\n",
      "-- It's pushing up the daisies !\n",
      "\n"
     ]
    }
   ],
   "source": [
    "def parrort(voltage, state='a stiff', action='voom', type='Norwegian Blue'):\n",
    "    print(\"-- This parrort wouldn't\", action, end=' ')\n",
    "    print(\"if you put\", voltage, \"volts through it.\")\n",
    "    print(\"-- Lovely plumage, the\", type)\n",
    "    print(\"-- It's\", state, \"!\\n\")\n",
    "    \n",
    "parrort(1000)\n",
    "parrort(voltage=1000)\n",
    "parrort(voltage=1000000, action='VOOOOOM')\n",
    "parrort(voltage=1000000, action='VOOOOOM', type='Blue')\n",
    "parrort('a million', 'bereft of life', 'jump')\n",
    "parrort('a thousand', state='pushing up the daisies')"
   ]
  }
 ],
 "metadata": {
  "kernelspec": {
   "display_name": "Python 3",
   "language": "python",
   "name": "python3"
  },
  "language_info": {
   "codemirror_mode": {
    "name": "ipython",
    "version": 3
   },
   "file_extension": ".py",
   "mimetype": "text/x-python",
   "name": "python",
   "nbconvert_exporter": "python",
   "pygments_lexer": "ipython3",
   "version": "3.12.9"
  }
 },
 "nbformat": 4,
 "nbformat_minor": 2
}
