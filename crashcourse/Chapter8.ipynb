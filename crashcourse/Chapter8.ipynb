{
 "cells": [
  {
   "cell_type": "markdown",
   "metadata": {},
   "source": [
    "# Chapter 8. Functions\n",
    "\n",
    "For data scientists, how to write functions is one of the most useful skills. For almost any repetitive tasks, you should consider to wrap such tasks in a function. In this chapter, you will learn how to write various functions, from displaying information to processing data.\n",
    "\n",
    "Next, if you have multiple functions that perform related tasks, you may want to put them in a module, which help organize your main program files.\n",
    "\n",
    "## Defining a Function\n",
    "\n",
    "The basic syntax of writing a function is as follows:\n",
    "\n",
    "```\n",
    "def function_name():\n",
    "    \"\"\"docstring\"\"\"\n",
    "    body\n",
    "```\n",
    "The way that you call your function is the same as any other built-in Python functions.\n",
    "\n",
    "### Parsing Information to a Function\n",
    "\n",
    "For most functions, you need to pass some information to them. For instance, in the example above, we want to greet users by their names.\n",
    "\n",
    "### Arguments and Parameters\n",
    "\n",
    "In the code example below, `username` is a parameter. When you call the function and insert 'sarah', which becomes an argument. In this case, the argument 'sarah' was passed to the function `greet_user()`. **Note: In most cases, people use argument and parameter interchangeably.**"
   ]
  },
  {
   "cell_type": "code",
   "execution_count": 7,
   "metadata": {},
   "outputs": [
    {
     "name": "stdout",
     "output_type": "stream",
     "text": [
      "Hello! Welcome to the Python programming world.\n",
      "Let's learn and have fun together!\n",
      "Hello Sarah! Welcome to the Python programming world.\n",
      "Let's learn and have fun together!\n"
     ]
    }
   ],
   "source": [
    "# Define a simple function\n",
    "def greet_user():\n",
    "    \"\"\"Display a simple greeting.\"\"\"\n",
    "    print(\"Hello! Welcome to the Python programming world.\")\n",
    "    print(\"Let's learn and have fun together!\")\n",
    "\n",
    "greet_user()\n",
    "\n",
    "# Add name as a parameter to the function\n",
    "def greet_user(username):\n",
    "    \"\"\"Display a simple greeting.\"\"\"\n",
    "    print(f\"Hello {username.title()}! Welcome to the Python programming world.\")\n",
    "    print(\"Let's learn and have fun together!\")\n",
    "\n",
    "greet_user('sarah')"
   ]
  },
  {
   "cell_type": "code",
   "execution_count": 9,
   "metadata": {},
   "outputs": [
    {
     "name": "stdout",
     "output_type": "stream",
     "text": [
      "You have learned how to write functions.\n",
      "Your favorite book must be Python Crash Course!\n"
     ]
    }
   ],
   "source": [
    "# Exercise 8.1\n",
    "def display_message():\n",
    "\t\"\"\" print what you've learned \"\"\"\n",
    "\tprint(\"You have learned how to write functions.\")\n",
    "\t\n",
    "display_message()\n",
    "\n",
    "# Exercise 8.2\n",
    "def fav_book(title):\n",
    "\t\"\"\" display your favorite book \"\"\"\n",
    "\tprint(f\"Your favorite book must be {title.title()}!\")\n",
    "\t\n",
    "fav_book(\"Python Crash Course\")"
   ]
  },
  {
   "cell_type": "markdown",
   "metadata": {},
   "source": [
    "## Passing Arguments\n",
    "\n",
    "Most functions have multiple parameters. These parameters can be specified either by position or by name (called *keyword argument*), where each argument consists a variable name and a value (or lists and dictionaries of values).\n",
    "\n",
    "### Positional Arguments\n",
    "\n",
    "When you make a function call, you can pass arguments in the same order as in function definition, which is called *positional arguments\". When you use positional arguments, you need to ensure you pass your arguments in the correct order.\n",
    "\n",
    "### Multiple Function Calls\n",
    "\n",
    "One of the primary reasons of writing functions is because you can use them repeatedly.\n",
    "\n",
    "### Keyword Arguments\n",
    "\n",
    "It requires more efforts, but it is safer to use keyword arguments when you call a function. The function definition stays the same, but you specify each parameter explicitly in your function calls.\n",
    "\n",
    "### Default Values\n",
    "\n",
    "When you define your functions, you can add optional default values. In this case, it simplify your users' experience, if the default value is used often.\n",
    "\n",
    "### Equivalent Function Calls\n",
    "\n",
    "There are typically many ways to call a function, e.g., positional and keyword arguments. Make sure you follow the rules."
   ]
  },
  {
   "cell_type": "code",
   "execution_count": 14,
   "metadata": {},
   "outputs": [
    {
     "name": "stdout",
     "output_type": "stream",
     "text": [
      "I have a cat.\n",
      "My cat's name is Cosmos.\n",
      "I have a hamster.\n",
      "My hamster's name is Chubby.\n",
      "I have a hamster.\n",
      "My hamster's name is Chubby, who is 3 years old.\n",
      "I have a cat.\n",
      "My cat's name is Bella, who is 5 years old.\n"
     ]
    }
   ],
   "source": [
    "# Positional Arguments\n",
    "def describe_pet(type, name):\n",
    "\t\"\"\"Display information about a pet.\"\"\"\n",
    "\tprint(f\"I have a {type}.\")\n",
    "\tprint(f\"My {type}'s name is {name.title()}.\")\n",
    "\t\n",
    "describe_pet('cat', 'cosmos')\n",
    "\n",
    "# Keyword Arguments\n",
    "describe_pet(name = 'Chubby', type = 'hamster')\n",
    "\n",
    "# Default Values\n",
    "def describe_pet(name, age = 5, type = 'cat'):\n",
    "\t\"\"\"Display information about a pet, with defaults.\"\"\"\n",
    "\tprint(f\"I have a {type}.\")\n",
    "\tprint(f\"My {type}'s name is {name.title()}, who is {age} years old.\")\n",
    "\t\n",
    "describe_pet(name='Chubby', age=3, type='hamster')  # Using keyword arguments\n",
    "describe_pet(name='Bella')  # age and type will use default values"
   ]
  },
  {
   "cell_type": "code",
   "execution_count": null,
   "metadata": {},
   "outputs": [
    {
     "name": "stdout",
     "output_type": "stream",
     "text": [
      "Your size Large shirt will be made with Hello Python! on it.\n",
      "Your size M shirt will be made with I love coding! on it.\n"
     ]
    }
   ],
   "source": [
    "# Exercises 8.3/8.4\n",
    "def make_shirt(text, size = 'M'):\n",
    "\t\"\"\"make shirt with specified size and text.\"\"\"\n",
    "\tprint(f\"Your size {size.title()} shirt will be made with {text} on it.\")\n",
    "\n",
    "make_shirt(\"Hello Python!\", 'large')\n",
    "make_shirt(\"I love coding!\")"
   ]
  },
  {
   "cell_type": "markdown",
   "metadata": {},
   "source": [
    "## Return Values\n",
    "\n",
    "More often than displaying messages on the screen, your functions return a value or a set of values (called *return value*). The `return` statement within a function definition sends it back to the line that called the function. Return values allow you to move the heavy lifting work into functions, which dramatically simplifies the body of your program.\n",
    "\n",
    "### Returning a Simple Value\n",
    "\n",
    "When your function returns a value, and when you call the function, you need to provide a variable that the return value can be assigned to.\n",
    "\n",
    "### Making an Argument Optional\n",
    "\n",
    "Sometimes, certain arguments should be made optional. For example, in our `get_formatted_name()` function, if we want to add a middle name, it should be made optional (not everyone has a middle name).\n",
    "\n",
    "### Returning a Dictionary\n",
    "\n",
    "A function can return any kind of value, including more complicated data structures such as lists and dictionaries. Here is a function that takes in parts of a name and returns a dictionary representing a person. For optional argument, you could assign the default `None`.\n",
    "\n",
    "### Using a Function with a `while` Loop\n",
    "\n",
    "One of the common ways to use functions is to call them inside of loops."
   ]
  },
  {
   "cell_type": "code",
   "execution_count": 31,
   "metadata": {},
   "outputs": [
    {
     "name": "stdout",
     "output_type": "stream",
     "text": [
      "Richard Feynman\n",
      "Richard Feynman\n",
      "Julius Robert Oppenheimer\n",
      "{'first': 'Richard', 'middle': '', 'last': 'Feynman'}\n",
      "{'first': 'Julius', 'middle': 'Robert', 'last': 'Oppenheimer'}\n"
     ]
    }
   ],
   "source": [
    "# Simple function with a return value\n",
    "def get_formatted_name(first, last):\n",
    "\t\"\"\"Return a full name.\"\"\"\n",
    "\tfull_name = f\"{first.title()} {last.title()}\"\n",
    "\treturn full_name\n",
    "\t\n",
    "scientist = get_formatted_name('Richard', 'Feynman')\n",
    "print(scientist)\n",
    "\n",
    "# Add optional middle name\n",
    "def get_formatted_name(first, last, middle = ''):\n",
    "\t\"\"\"Return a full name.\"\"\"\n",
    "\tif middle:\n",
    "\t\tfull_name = f\"{first.title()} {middle.title()} {last.title()}\"\n",
    "\telse:\n",
    "\t\tfull_name = f\"{first.title()} {last.title()}\"\n",
    "\treturn full_name\n",
    "\t\n",
    "scientist = get_formatted_name('Richard', 'Feynman')\n",
    "print(scientist)\n",
    "scientist = get_formatted_name('Julius', 'Oppenheimer', 'Robert')\n",
    "print(scientist)\n",
    "\n",
    "# Return a dictionary\n",
    "def build_person(first, last, middle = None):\n",
    "\t\"\"\"Return a dictionary representing a person.\"\"\"\n",
    "\tif middle:\n",
    "\t\tperson = {'first': first.title(), 'middle': middle.title(), 'last': last.title()}\n",
    "\telse:\n",
    "\t\tperson = {'first': first.title(), 'middle': '', 'last': last.title()}\n",
    "\treturn person\n",
    "\t\n",
    "scientist = build_person('Richard', 'Feynman')\n",
    "print(scientist)\n",
    "scientist = build_person('julius', 'oppenheimer', 'robert')\n",
    "print(scientist)"
   ]
  },
  {
   "cell_type": "code",
   "execution_count": 26,
   "metadata": {},
   "outputs": [
    {
     "name": "stdout",
     "output_type": "stream",
     "text": [
      "\n",
      "Please tell me your name:\n",
      "(Enter 'q' at anytime to quit.)\n",
      "Hello, Julius Robert Oppheimer\n",
      "\n",
      "Please tell me your name:\n",
      "(Enter 'q' at anytime to quit.)\n",
      "Hello, Richard Feynman\n",
      "\n",
      "Please tell me your name:\n",
      "(Enter 'q' at anytime to quit.)\n"
     ]
    }
   ],
   "source": [
    "# Call get_formatted_name() inside a while loop\n",
    "while True:\n",
    "\tprint(\"\\nPlease tell me your name:\")\n",
    "\tprint(\"(Enter 'q' at anytime to quit.)\")\n",
    "\t\n",
    "\tfirst = input(\"First Name: \")\t\n",
    "\tif first == 'q':\n",
    "\t\tbreak\n",
    "\t\n",
    "\tmiddle = input(\"Middle Name: \")\n",
    "\tif middle == 'q':\n",
    "\t\tbreak\n",
    "\t\n",
    "\tlast = input(\"Last Name: \")\n",
    "\tif last == 'q':\n",
    "\t\tbreak\n",
    "\t\n",
    "\tfull_name = get_formatted_name(first, last, middle)\n",
    "\tprint(f\"Hello, {full_name}\")"
   ]
  },
  {
   "cell_type": "code",
   "execution_count": null,
   "metadata": {},
   "outputs": [
    {
     "name": "stdout",
     "output_type": "stream",
     "text": [
      "New York is in United States.\n",
      "Toronto is in Canada.\n",
      "{'name': 'regression', 'algorithm': 'OLS', 'complexity': 'Low'}\n",
      "{'name': 'xgBoost', 'algorithm': 'Boosting', 'complexity': 'NA'}\n"
     ]
    }
   ],
   "source": [
    "# Exercise 8.6\n",
    "def city_country(city, country):\n",
    "\t\"\"\"Display a city in a country.\"\"\"\n",
    "\tprint(f\"{city.title()} is in {country.title()}.\")\n",
    "\t\n",
    "city_country('New York', 'United States')\n",
    "city_country('toronto', 'canada')\n",
    "\n",
    "# 8.7\n",
    "def make_model(name, algo, complexity = None):\n",
    "\t\"\"\"Make an analytical model and save in a dictionary\"\"\"\n",
    "\tif complexity:\n",
    "\t\tmodel = {'name': name, 'algorithm': algo, 'complexity': complexity}\n",
    "\telse:\n",
    "\t\tmodel = {'name': name, 'algorithm': algo, 'complexity': 'NA'}\n",
    "\treturn model\n",
    "\n",
    "regression = make_model('regression', 'OLS', 'Low')\n",
    "xgBoost = make_model('xgBoost', 'Boosting')\n",
    "print(regression)\n",
    "print(xgBoost)"
   ]
  },
  {
   "cell_type": "code",
   "execution_count": 36,
   "metadata": {},
   "outputs": [
    {
     "name": "stdout",
     "output_type": "stream",
     "text": [
      "\n",
      "Please add your model to the system:\n",
      "(Type 'q' to exit)\n",
      "{'name': 'PCA', 'algorithm': 'PCA', 'complexity': 'Low'}\n",
      "\n",
      "Please add your model to the system:\n",
      "(Type 'q' to exit)\n",
      "{'name': 'k-Mean', 'algorithm': 'Clustering', 'complexity': 'Medium'}\n",
      "\n",
      "Please add your model to the system:\n",
      "(Type 'q' to exit)\n"
     ]
    }
   ],
   "source": [
    "# Exercise 8.8\n",
    "while True:\n",
    "\tprint(\"\\nPlease add your model to the system:\")\n",
    "\tprint(\"(Type 'q' to exit)\")\n",
    "\t\n",
    "\tname = input(\"Model Name: \")\n",
    "\tif name == 'q':\n",
    "\t\tbreak\n",
    "\t\n",
    "\talgo = input(\"Algorithm Used: \")\n",
    "\tif algo == 'q':\n",
    "\t\tbreak\n",
    "\n",
    "\tcomplexity = input(\"Model Complexity (High/Medium/Low: \")\n",
    "\tif complexity == 'q':\n",
    "\t\tbreak\n",
    "\t\n",
    "\tmodel = make_model(name, algo, complexity)\n",
    "\tprint(model)"
   ]
  },
  {
   "cell_type": "markdown",
   "metadata": {},
   "source": [
    "## Passing a List\n",
    "\n",
    "We have discussed how to use a function inside of a `while` loop. Now, let's see how a function can take a list as an input. When you pass a list to a function, the function gets direct access to the contents of the list. Let's create a simple function `greet_users()` to greet each person in the provided list.\n",
    "\n",
    "### Modifying a List in a Function\n",
    "\n",
    "In [Chapter 7](Chapter7.html), we learned how to use `while` loop to modify lists. Now, let's further improve our code with functions. **Note: It is important to organize your functions, so each function should have only one specific purpose.**\n",
    "\n",
    "### Preventing a Function from Modifying a List\n",
    "\n",
    "Sometimes, you want your function to perform its intended purpose, but you also want to keep the original list intact. In this case, you can call your function on a copy of the list, instead of the list itself, with `function_name(list_name[:])`. Remember that using `[:]` means that you are copying a list. You should do this only if it's necessary. For large lists, processing on lists is more efficient than processing on their copies."
   ]
  },
  {
   "cell_type": "code",
   "execution_count": 44,
   "metadata": {},
   "outputs": [
    {
     "name": "stdout",
     "output_type": "stream",
     "text": [
      "Hello, Hannah, great to see you here!\n",
      "Hello, Ty, great to see you here!\n",
      "Hello, Margot, great to see you here!\n",
      "Nobody in the list :(\n",
      "Printing model: dodecahedron\n",
      "Printing model: robot pendant\n",
      "Printing model: phone case\n",
      "\n",
      "The following models have been printed:\n",
      "dodecahedron\n",
      "robot pendant\n",
      "phone case\n",
      "Printing model: dodecahedron\n",
      "Printing model: robot pendant\n",
      "Printing model: phone case\n",
      "\n",
      "The following models have been printed:\n",
      "dodecahedron\n",
      "robot pendant\n",
      "phone case\n",
      "Original list: []\n",
      "\n",
      "The following models have been printed:\n",
      "Original list (with copy): ['phone case', 'robot pendant', 'dodecahedron']\n"
     ]
    }
   ],
   "source": [
    "# Passing a list to a function\n",
    "def greet_users(names):\n",
    "\tif names:\n",
    "\t\tfor name in names:\n",
    "\t\t\tprint(f\"Hello, {name.title()}, great to see you here!\")\n",
    "\telse:\n",
    "\t\tprint(\"Nobody in the list :(\")\n",
    "\n",
    "usernames = ['hannah', 'ty', 'margot']\n",
    "greet_users(usernames)\n",
    "usernames = []\n",
    "greet_users(usernames)\n",
    "\n",
    "# Using loop without functions\n",
    "# Start with some designs that need to be printed.\n",
    "unprinted_designs = ['phone case', 'robot pendant', 'dodecahedron']\n",
    "completed_models = []\n",
    "\n",
    "# Simulate printing each design, until none are left.\n",
    "#  Move each design to completed_models after printing.\n",
    "while unprinted_designs:\n",
    "\tcurrent_design = unprinted_designs.pop()\n",
    "\tprint(f\"Printing model: {current_design}\")\n",
    "\tcompleted_models.append(current_design)\n",
    "\n",
    "# Display all completed models.\n",
    "print(\"\\nThe following models have been printed:\")\n",
    "for completed_model in completed_models:\n",
    "\tprint(completed_model)\n",
    "\t\n",
    "# Using functions to organize the printing process\n",
    "# A function that prints designs\n",
    "def print_models(unprinted_design, completed_models):\n",
    "\t\"\"\"Simulate print design\"\"\"\n",
    "\twhile unprinted_designs:\n",
    "\t\tcurrent_design = unprinted_designs.pop()\n",
    "\t\tprint(f\"Printing model: {current_design}\")\n",
    "\t\tcompleted_models.append(current_design)\n",
    "\n",
    "# A function that shows finished products\n",
    "def show_completed_models(completed_models):\n",
    "\tprint(\"\\nThe following models have been printed:\")\n",
    "\tfor completed_model in completed_models:\n",
    "\t\tprint(completed_model)\n",
    "\t\t\n",
    "unprinted_designs = ['phone case', 'robot pendant', 'dodecahedron']\n",
    "completed_models = []\n",
    "\n",
    "print_models(unprinted_designs, completed_models)\n",
    "show_completed_models(completed_models)\n",
    "print(f\"Original list: {unprinted_designs}\")\n",
    "\n",
    "# Process on a copy of a list instead of modifying the original list\n",
    "unprinted_designs1 = ['phone case', 'robot pendant', 'dodecahedron']\n",
    "completed_models = []\n",
    "\n",
    "print_models(unprinted_designs1[:], completed_models)\n",
    "show_completed_models(completed_models)\n",
    "print(f\"Original list (with copy): {unprinted_designs1}\")"
   ]
  },
  {
   "cell_type": "code",
   "execution_count": 48,
   "metadata": {},
   "outputs": [
    {
     "name": "stdout",
     "output_type": "stream",
     "text": [
      "Hello\n",
      "oh well\n",
      "Have a good day\n",
      "Sending messages...\n",
      "Have a good day\n",
      "oh well\n",
      "Hello\n",
      "Output: \n",
      "Have a good day\n",
      "oh well\n",
      "Hello\n",
      "Original list after sending messages:\n"
     ]
    }
   ],
   "source": [
    "# Exercise 8.9\n",
    "def show_messages(texts):\n",
    "\t\"\"\"Show messages\"\"\"\n",
    "\tfor text in texts:\n",
    "\t\tprint(text)\n",
    "\n",
    "texts = ['Hello', \"oh well\", 'Have a good day']\n",
    "show_messages(texts)\n",
    "\n",
    "# 8.10\n",
    "def send_messages(input_text, output_text):\n",
    "\t\"\"\"Send messages\"\"\"\n",
    "\twhile input_text:\n",
    "\t\tcurrent = input_text.pop()\n",
    "\t\tprint(current)\n",
    "\t\toutput_text.append(current)\n",
    "\t\t\n",
    "\n",
    "\n",
    "texts = ['Hello', \"oh well\", 'Have a good day']\n",
    "output_text = []\n",
    "print(\"Sending messages...\")\n",
    "send_messages(texts, output_text)\n",
    "print(\"Output: \")\n",
    "show_messages(output_text)\n",
    "print(\"Original list after sending messages:\")\n",
    "show_messages(texts)"
   ]
  },
  {
   "cell_type": "markdown",
   "metadata": {},
   "source": [
    "## Passing an Arbitrary Number of Arguments\n",
    "\n",
    "Sometimes, you don't know exactly how many arguments will be passed into a function call. In this case, you define such a parameter with varying arguments as `*parameter`.\n",
    "\n",
    "### Mixing Positional and Arbitrary Arguments\n",
    "\n",
    "You can certainly mix parameters with and without varying arguments. However, the one with varying arguments must always be put at the last. Remember that in the previous section we discussed parameters with default values? Those parameters should also be placed ahead of the one with varying arguments.\n",
    "\n",
    "*You often see the generic parameter name `*args`.*\n",
    "\n",
    "### Using Arbitrary Keyword Arguments\n",
    "\n",
    "Sometimes, you want to accept an arbitrary number of arguments, but you don't know ahead of time what kind of information will be passed to the function. In this case, you can write function that accept as many key-value pairs as the calling statement provides, with `**kwargs`. These key-value pairs will be automatically placed into the return value `kwargs` (which is a dictionary). *You often see the generic parameter name `**kwargs`.*\n"
   ]
  },
  {
   "cell_type": "code",
   "execution_count": 58,
   "metadata": {},
   "outputs": [
    {
     "name": "stdout",
     "output_type": "stream",
     "text": [
      "('pepperoni',)\n",
      "('mushrooms', 'green peppers', 'extra cheese')\n",
      "\n",
      "Making a pizza with the following toppings:\n",
      "- pepperoni\n",
      "\n",
      "Making a pizza with the following toppings:\n",
      "- mushrooms\n",
      "- green peppers\n",
      "- extra cheese\n",
      "\n",
      "Making a Medium-pizza with the following toppings:\n",
      "- ('pepperoni',)\n",
      "\n",
      "Making a 12in-pizza with the following toppings:\n",
      "- ('mushrooms', 'green peppers', 'extra cheese')\n",
      "- ('mushrooms', 'green peppers', 'extra cheese')\n",
      "- ('mushrooms', 'green peppers', 'extra cheese')\n",
      "\n",
      "New user profile created:\n",
      "{'location': 'princeton', 'field': 'physics', 'first': 'albert', 'last': 'einstein'}\n"
     ]
    }
   ],
   "source": [
    "# A function with varying number of arguments\n",
    "def make_pizza(*toppings):\n",
    "\t\"\"\"Print the list of toppings\"\"\"\n",
    "\tprint(toppings)\n",
    "\n",
    "make_pizza('pepperoni')\n",
    "make_pizza('mushrooms', 'green peppers', 'extra cheese')\n",
    "\n",
    "# A better organization of the function with varying number of arguments\n",
    "def make_pizza(*toppings):\n",
    "\t\"\"\"Print the list of toppings\"\"\"\n",
    "\tprint(\"\\nMaking a pizza with the following toppings:\")\n",
    "\tfor topping in toppings:\n",
    "\t\tprint(f\"- {topping}\")\n",
    "\n",
    "make_pizza('pepperoni')\n",
    "make_pizza('mushrooms', 'green peppers', 'extra cheese')\n",
    "\n",
    "# A function with mixed parameters\n",
    "def make_pizza(size, *toppings):\n",
    "\t\"\"\"Print the list of toppings\"\"\"\n",
    "\tprint(f\"\\nMaking a {size}-pizza with the following toppings:\")\n",
    "\tfor topping in toppings:\n",
    "\t\tprint(f\"- {toppings}\")\n",
    "\n",
    "make_pizza('Medium', 'pepperoni')\n",
    "make_pizza('12in', 'mushrooms', 'green peppers', 'extra cheese')\n",
    "\n",
    "# A function that takes in arbitrary keyword arguments\n",
    "def build_profile(first, last, **user_info):\n",
    "\t\"\"\"Build a dictionary containing a user profile\"\"\"\n",
    "\tuser_info['first'] = first\n",
    "\tuser_info['last'] = last\n",
    "\treturn user_info\n",
    "\t\n",
    "user_profile = build_profile('albert', 'einstein',\n",
    "                            location='princeton',\n",
    "                            field='physics')\n",
    "print(\"\\nNew user profile created:\")\n",
    "print(user_profile)"
   ]
  },
  {
   "cell_type": "code",
   "execution_count": 64,
   "metadata": {},
   "outputs": [
    {
     "name": "stdout",
     "output_type": "stream",
     "text": [
      "('spaCy',)\n",
      "('spaCy', 'NLTN', 'Numpy')\n",
      "{'color': 'blue', 'tow_package': True, 'manufacturer': 'subaru', 'make': 'outback'}\n"
     ]
    }
   ],
   "source": [
    "# Exercise 8.12\n",
    "def download_packages(*packages):\n",
    "\t\"\"\"Download supplied packages\"\"\"\n",
    "\tprint(packages)\n",
    "\n",
    "download_packages(\"spaCy\")\n",
    "download_packages('spaCy', 'NLTN', 'Numpy')\n",
    "\n",
    "# 8.13\n",
    "def make_car(manufacturer, make, **car_profile):\n",
    "\t\"\"\"Store car information\"\"\"\n",
    "\tcar_profile['manufacturer'] = manufacturer\n",
    "\tcar_profile['make'] = make\n",
    "\treturn car_profile\n",
    "\t\n",
    "car = make_car('subaru', 'outback', color='blue', tow_package=True)\n",
    "print(car)"
   ]
  },
  {
   "cell_type": "markdown",
   "metadata": {},
   "source": [
    "## Storing your Functions in Modules\n",
    "\n",
    "To better organize your code, you may want to store related functions in a separate file called a *module*. Then you can *import* that module into your main program. An `import` statement tells Python to make the code in a module available in the currently running program file.\n",
    "\n",
    "Once you have your modules, you can go one step further by compiling your modules, so users will not be able to see your source code (e.g., compiled bytecode `.pyc` file). You can also use a Python package manager such as `setuptools` or `wheel`.\n",
    "\n",
    "If you want to run your code on Python shell, you may want to follow:\n",
    "\n",
    "- Import the directory management module with `import os`\n",
    "- Change your current directory to the folder where your Python file (.py) is stored with `os.chdir(r\"drive:/folder/\")`\n",
    "- Execute your Python code with `exec(open(\"python_code.py\").read())`\n",
    "\n",
    "### Importing an Entire Module\n",
    "\n",
    "The first approach is to import the entire module and make every function available:\n",
    "\n",
    "- `import module_name`\n",
    "- You can then call a function in the module with `module_name.function_name()`\n",
    "\n",
    "### Importing Specific Functions\n",
    "\n",
    "If you only need one or a few specific functions from a module, you can import only those functions:\n",
    "\n",
    "- `from module_name import function_name1, function_name2, ...`\n",
    "- Then you can call these functions directly without the `module_name` prefix.\n",
    "\n",
    "### Using as to Give a Function an Alias\n",
    "\n",
    "If the name of a function you are importing might conflict with an existing name in your program (or other modules you may use), or if the function name is unnecessarily long, you can use a short name, called *alias*, with a `as` keyword:\n",
    "\n",
    "- `from module_name import function_name as fn` (here `fn` is my alias)\n",
    "- Then, you can call the function with `fn`.\n",
    "\n",
    "### Using as to Give a Module an Alias\n",
    "\n",
    "You can also import the entire module and give it an alias:\n",
    "\n",
    "- `import module_name as mo`\n",
    "- Then, you can call any function in the moduel with `mo.function_name()`. This is very common within the data science world, e.g., `import panda as pd`.\n",
    "\n",
    "### Importing all Functions in a Module\n",
    "\n",
    "Lastly, you can tell Python to import all functions in a module by using the asterisk (`*`) operator:\n",
    "\n",
    "- `from module_name import *`\n",
    "- This is equivalent to have all your functions in the same file as your main program. You should be careful of using this practice with large modules that you are not familiar with, because imported functions may have the same names as the functions you created."
   ]
  },
  {
   "cell_type": "code",
   "execution_count": 65,
   "metadata": {},
   "outputs": [
    {
     "name": "stdout",
     "output_type": "stream",
     "text": [
      "\n",
      "Making a 16-inch pizza with the following toppings:\n",
      "- pepperoni\n",
      "\n",
      "Making a 12-inch pizza with the following toppings:\n",
      "- mushrooms\n",
      "- green peppers\n",
      "- extra cheese\n"
     ]
    }
   ],
   "source": [
    "# Importing the pizza module\n",
    "import pizza\n",
    "\n",
    "pizza.make_pizza(16, 'pepperoni')\n",
    "pizza.make_pizza(12, 'mushrooms', 'green peppers', 'extra cheese')"
   ]
  },
  {
   "cell_type": "markdown",
   "metadata": {},
   "source": [
    "## Styling Functions\n",
    "\n",
    "Some general guidances on functions:\n",
    "\n",
    "- Function names should be descriptive.\n",
    "- You may consider to use verbs for function names.\n",
    "- You should generally use lowercase letters and underscores only.\n",
    "- You should always have a docstring for every function.\n",
    "- If you specify a default value for a parameter, non spaces should be used on either side of the equal sign. The same applies to keyword arguments in function calls. This is different from R's style guide.\n",
    "- All `import` statements should be written at the beginning of a file."
   ]
  }
 ],
 "metadata": {
  "kernelspec": {
   "display_name": "env_learning",
   "language": "python",
   "name": "python3"
  },
  "language_info": {
   "codemirror_mode": {
    "name": "ipython",
    "version": 3
   },
   "file_extension": ".py",
   "mimetype": "text/x-python",
   "name": "python",
   "nbconvert_exporter": "python",
   "pygments_lexer": "ipython3",
   "version": "3.12.9"
  }
 },
 "nbformat": 4,
 "nbformat_minor": 2
}
