{
 "cells": [
  {
   "cell_type": "markdown",
   "id": "e32b7eda",
   "metadata": {},
   "source": [
    "# Chapter 11. Testing Your Code\n",
    "\n",
    "In this chapter, we will learn how to test your code. We will leverage the `pytest` library. First, you need to install the `pytest` library using Anaconda. Note: we will use Anaconda instead of pip to install and manage Python libraries/packages.\n",
    "\n",
    "## Testing a Function\n",
    "\n",
    "We will start to learn how to test and make sure you functions work as they are designed. This is especially important as you modify your functions.\n",
    "\n",
    "### Unit Tests and Test Cases\n",
    "\n",
    "A *unit test* verifies that one specific aspect of a function's behavior is correct. A *test case* is a collection of unit tests that together prove tht a function behaves as it is supposed to, within a full range of situations you expect it to handle. A test case with *full coverage* includes a full range of unit tests covering all the possible ways you can use a function.\n",
    "\n",
    "### A Passing Test\n",
    "\n",
    "To start our testing, we first write a test function. A test function must start with `test_`, because this is how `pytest` looks for. In the test file, you need to include the following:\n",
    "\n",
    "- Import the function you want to test;\n",
    "- Define a test function, e.g., `def test_function_name`. The name must start with `test_`, so `pytest` can discover them.\n",
    "- Then, you call your test function.\n",
    "- Lastly, you `assert` whether the return value from your function call meets your expectation.\n",
    "\n",
    "### Running a Test\n",
    "\n",
    "To run a test, you need to first navigate to the folder where your functions are saved. In this example, open your Terminal window and type `cd 'h:\\My Drive\\ESL\\PythonLearning\\CrashCourse\\Code'`. Then, you type `pytest` in the Terminal window.\n",
    "\n",
    "### A Failing Test\n",
    "\n",
    "If you get an error message when you run `pytest`, you should go back to revise your functions (not your test function).\n",
    "\n",
    "### Responding to a Failed Test\n",
    "\n",
    "### Adding New Tests\n",
    "\n",
    "As you expand your functions, you need to add new test cases."
   ]
  },
  {
   "cell_type": "code",
   "execution_count": null,
   "id": "07f2116c",
   "metadata": {},
   "outputs": [
    {
     "name": "stdout",
     "output_type": "stream",
     "text": [
      "Chapter 11\n"
     ]
    }
   ],
   "source": [
    "# See \\Code\\name_function.py and test_name_function.py"
   ]
  },
  {
   "cell_type": "code",
   "execution_count": 1,
   "id": "64736b37",
   "metadata": {},
   "outputs": [],
   "source": [
    "# Exercise2 11.1 + 11.2\n",
    "# See \\Code\\chap11\\city_functions.py and test_city_functions.py"
   ]
  },
  {
   "cell_type": "markdown",
   "id": "5bac6c58",
   "metadata": {},
   "source": [
    "## Testing a Class\n",
    "\n",
    "After learning how to test single functions, now, we are ready to tackle how to test a whole class.\n",
    "\n",
    "### A Variety of Assertions\n",
    "\n",
    "Assertions are basically a series of conditional tests, using Boolean algebra. Anything that can be expressed as a conditional statement can be included in a test\n",
    "\n",
    "| Assertion                  | Claim                                   |\n",
    "|----------------------------|-----------------------------------------|\n",
    "| assert a == b              | Assert equality                         |\n",
    "| asset a ! = b              | Assert inequality                       |\n",
    "| asset a                    | Assert that `a` evaluates to `True`     |\n",
    "| asset not a                | Assert that `a` evaluates to `False`    |\n",
    "| asset element in list      | Assert that an element is in a list     |\n",
    "| assert element not in list | Assert that an element is not in a list |\n",
    "\n",
    "### A Class to Test\n",
    "\n",
    "Let's first create a simple example of `class AnonymousSurvey` (see `Code\\chap11\\survey.py`).\n",
    "\n",
    "### Testing the AnonymousSurvey Class\n",
    "\n",
    "First, we create a survey instance in `Code\\chap11\\language_survey.py`. Next, we build the test cases in `Code\\chap11\\test_survey.py`.\n",
    "\n",
    "### Using Fixtures\n",
    "\n",
    "So far, for each testing function, we have created an instance. When you have many testing functions, this will become a problem. In this case, a *fixture* solves the problem:\n",
    "\n",
    "- First, you need to import `pytest`.\n",
    "- Next, you use a *decorator`, `@pytest.fixture`. A *decorator* is a directive placed just before a function definition.\n",
    "- In this special function (e.g., `instance_fun`), you create a single instance. You need to ensure that you return the instance, `return instance`.\n",
    "- Then, in all testing functions, you don't need to create new instances. Instead, you add the name of the above function as a parameter to testing functions, e.g., `test_fun(instance_fun)`."
   ]
  },
  {
   "cell_type": "code",
   "execution_count": null,
   "id": "4ce1c353",
   "metadata": {},
   "outputs": [],
   "source": [
    "# Exercise 11.3"
   ]
  }
 ],
 "metadata": {
  "kernelspec": {
   "display_name": "Python 3",
   "language": "python",
   "name": "python3"
  },
  "language_info": {
   "codemirror_mode": {
    "name": "ipython",
    "version": 3
   },
   "file_extension": ".py",
   "mimetype": "text/x-python",
   "name": "python",
   "nbconvert_exporter": "python",
   "pygments_lexer": "ipython3",
   "version": "3.12.9"
  }
 },
 "nbformat": 4,
 "nbformat_minor": 5
}
