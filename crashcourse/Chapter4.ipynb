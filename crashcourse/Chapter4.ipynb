{
 "cells": [
  {
   "cell_type": "markdown",
   "metadata": {},
   "source": [
    "# Chapter 4. Working with Lists\n",
    "\n",
    "In this chapter, we will learn more techniques of manipulating lists. In particular, we will learn how to use loops.\n",
    "\n",
    "## Looping Through an Entire List with `for` loop\n",
    "\n",
    "The most useful loop in Python (or just about every programming language) is the `for` loop. The basic syntax is:\n",
    "\n",
    "```\n",
    "for index in iterables:\n",
    "    do something\n",
    "```\n",
    "\n",
    "Python's loop use indentation instead of brackets (in contrast with R's use of `{}`). You have to be careful where to indent and not to indent, otherwise, you may have either a syntax or logical error (or both).\n",
    "\n"
   ]
  },
  {
   "cell_type": "code",
   "execution_count": 62,
   "metadata": {},
   "outputs": [
    {
     "name": "stdout",
     "output_type": "stream",
     "text": [
      "Hello, Alice, play some tricks for me!\n",
      "Hello, David, play some tricks for me!\n",
      "Hello, Carolina, play some tricks for me!\n",
      "\n",
      "Hello, Alice, play some tricks for me!\n",
      "Alice, hope you can come back soon!\n",
      "\n",
      "Hello, David, play some tricks for me!\n",
      "David, hope you can come back soon!\n",
      "\n",
      "Hello, Carolina, play some tricks for me!\n",
      "Carolina, hope you can come back soon!\n",
      "\n",
      "Thank you all for your great performance!\n"
     ]
    }
   ],
   "source": [
    "# Simplist for loop\n",
    "magicians = ['alice', 'david', 'carolina']\n",
    "for magician in magicians:\n",
    "    message = f\"Hello, {magician.title()}, play some tricks for me!\"\n",
    "    print(message)\n",
    "\n",
    "# Add a new line\n",
    "for magician in magicians:\n",
    "    print(f\"\\nHello, {magician.title()}, play some tricks for me!\")\n",
    "    print(f\"{magician.title()}, hope you can come back soon!\")\n",
    "print(\"\\nThank you all for your great performance!\")"
   ]
  },
  {
   "cell_type": "code",
   "execution_count": 63,
   "metadata": {},
   "outputs": [
    {
     "name": "stdout",
     "output_type": "stream",
     "text": [
      "I like Pepperoni pizza.\n",
      "I like Margherita pizza.\n",
      "I like Hawaiian pizza.\n",
      "\n",
      "I really love all kinds of pizza!\n",
      "\n",
      "A Dog would make a great pet.\n",
      "A Cat would make a great pet.\n",
      "A Rabbit would make a great pet.\n",
      "\n",
      "Any of these animals have four legs!\n",
      "\n"
     ]
    }
   ],
   "source": [
    "# Exercise 4.1\n",
    "pizzas = ['pepperoni', 'margherita', 'hawaiian']\n",
    "for pizza in pizzas:\n",
    "    print(f\"I like {pizza.title()} pizza.\")\n",
    "print(\"\\nI really love all kinds of pizza!\\n\")\n",
    "\n",
    "# 4.2\n",
    "animals = ['dog', 'cat', 'rabbit']\n",
    "for animal in animals:\n",
    "    print(f\"A {animal.title()} would make a great pet.\")\n",
    "print(\"\\nAny of these animals have four legs!\\n\")"
   ]
  },
  {
   "cell_type": "markdown",
   "metadata": {},
   "source": [
    "## Making Numerical Lists\n",
    "\n",
    "There are countless scenarios that you need to work with lists of numerical data.\n",
    "\n",
    "### Using the `range()` Function\n",
    "\n",
    "Python's `range()` function is somewhat similar to R's `:` or `seq()`. However, `range()` only produces the index, not the actual numbers. \n",
    "\n",
    "- **Two** arguments (`start` and `end`): The other key difference is that Python's `range(start, end)` generates a list from `start` to `end-1`. Pay attend to the *off-by-one* error! Therefore, it produces `end-start` numbers. \n",
    "- **One** argument: You can also include only one argument in `range()`. For example, `range(6)` will return the numbers from 0 to 6.\n",
    "- **Three** arguments: You can tell Python the step, with a third argument. The last number produced is always smaller than `end`.\n",
    "\n",
    "### Simple Statistics with a List of Numbers\n",
    "\n",
    "Python includes functions to do simple statistics such as `min`, `max`, `sum`, `statistics.mean()`, and `statistics.median()`.\n",
    "\n",
    "### List Comprehensions\n",
    "\n",
    "We have discussed list comprehensions in the [previous chapter](Chapter3.html). List comprehension is similar to R's inline function.\n",
    "\n",
    "### Exercises\n",
    "\n"
   ]
  },
  {
   "cell_type": "code",
   "execution_count": 73,
   "metadata": {},
   "outputs": [
    {
     "name": "stdout",
     "output_type": "stream",
     "text": [
      "1 2 3 4 \n",
      "Here is what range(6) produces:\n",
      "0 1 2 3 4 5 \n",
      "Here is what range(2, 12, 2) produces:\n",
      "2 4 6 8 10 \n",
      "A list of squared numbers from 1 to 10:\n",
      "[1, 4, 9, 16, 25, 36, 49, 64, 81, 100]\n",
      "\n",
      "The minimum number is: 0\n",
      "the maximum number is: 9\n",
      "The mean of the numbers is: 4.5\n",
      "\n",
      "List of squared numbers: [1, 4, 9, 16, 25, 36, 49, 64, 81, 100]\n"
     ]
    }
   ],
   "source": [
    "# range() function\n",
    "for i in range(1, 5):\n",
    "    print(i, end = ' ')\n",
    "\n",
    "print(f\"\\nHere is what range(6) produces:\")\n",
    "for i in range(6):\n",
    "    print(i, end = ' ')\n",
    "\n",
    "print(f\"\\nHere is what range(2, 12, 2) produces:\")\n",
    "for i in range(2, 12, 2):\n",
    "    print(i, end = ' ')\n",
    "\n",
    "print(f\"\\nA list of squared numbers from 1 to 10:\")\n",
    "squared_numbers = []\n",
    "for i in range(1, 11):\n",
    "    squared_numbers.append(i**2)\n",
    "print(squared_numbers)\n",
    "\n",
    "# Simple statistics with a list of numbers\n",
    "# Need to important the statistics module to calculate mean\n",
    "import statistics\n",
    "numbers = [1, 2, 3, 4, 5, 6, 7, 8, 9, 0]\n",
    "print(f\"\\nThe minimum number is: {min(numbers)}\")\n",
    "print(f\"the maximum number is: {max(numbers)}\")\n",
    "print(f\"The mean of the numbers is: {statistics.mean(numbers)}\")\n",
    "\n",
    "# List comprehensions\n",
    "squared_numbers = [value**2 for value in range(1, 11)]\n",
    "print(f\"\\nList of squared numbers: {squared_numbers}\")"
   ]
  },
  {
   "cell_type": "code",
   "execution_count": 75,
   "metadata": {},
   "outputs": [
    {
     "name": "stdout",
     "output_type": "stream",
     "text": [
      "Counting up to 1...\n",
      "Counting up to 2...\n",
      "Counting up to 3...\n",
      "\n",
      "The sum of numbers from 1 to 1,000,000 is: 500000500000\n",
      "1 3 5 7 9 \n",
      "[3, 6, 9, 12, 15, 18, 21, 24, 27, 30]\n",
      "[1, 8, 27, 64, 125, 216, 343, 512, 729, 1000]\n"
     ]
    }
   ],
   "source": [
    "# Exercise 4.3/4/4 (to save space, we only count to 3)\n",
    "for i in range(1, 4):\n",
    "    print(f\"Counting up to {i}...\")\n",
    "\n",
    "# 4.5 A silly way to add up to 1,000,000\n",
    "sum = 0\n",
    "for i in range(1, 1000001):\n",
    "    sum += i\n",
    "print(f\"\\nThe sum of numbers from 1 to 1,000,000 is: {sum}\")\n",
    "\n",
    "# 4.6 Odd numbers from 1 to 10\n",
    "for i in range(1, 11):\n",
    "    if i % 2 == 1:\n",
    "        print(i, end = ' ')\n",
    "print(\"\")\n",
    "\n",
    "# 4.7 List step 3\n",
    "step3 = list(range(3, 33, 3))\n",
    "print(step3)\n",
    "\n",
    "# 4.8/4.9 Cubes for list from 1 to 10\n",
    "cubes = [value**3 for value in range(1, 11)]\n",
    "print(cubes)"
   ]
  },
  {
   "cell_type": "markdown",
   "metadata": {},
   "source": [
    "## Workin with Part of a List\n",
    "\n",
    "A specific group of items in a list is called *slice* in Python.\n",
    "\n",
    "### Slicing a List\n",
    "\n",
    "Slicing in Python is the same as R's subsetting. However, Python produces the subset from `start` to `end-1`. Again, pay attention to the *off-by-one* error.\n",
    "\n",
    "- `list[start:end]`\n",
    "- `list[:end]`\n",
    "- `list[start:]`\n",
    "- `list[start:end:step]\n",
    "\n",
    "### Looping through a Slice\n",
    "\n",
    "You often need to loop through part of an entire list. Here slicing comes in handy.\n",
    "\n",
    "### Copying a List\n",
    "\n",
    "You can make an exact copy of a list with `new_list = old_list[:]`. With slicing, we have two completely separate lists. After you make the copy, you make changes to either/both lists and they are independent of each other.\n",
    "\n",
    "On the other hand, if you simply make a copy of the list without slicing, e.g., `new_list = old_list`, then both lists point to the same underlying data. If you make change to one, it also reflects in the other, which is most likely not what you want."
   ]
  },
  {
   "cell_type": "code",
   "execution_count": 66,
   "metadata": {},
   "outputs": [
    {
     "name": "stdout",
     "output_type": "stream",
     "text": [
      "['charles', 'martina', 'michael']\n",
      "\n",
      "The last three players are: ['michael', 'florence', 'eli']\n",
      "\n",
      "The odd players are: ['charles', 'michael', 'eli']\n",
      "\n",
      "The even players include: \n",
      "\tmartina\n",
      "\tflorence\n",
      "My foods: ['pizza', 'falafel', 'carrot cake']\n",
      "Friend foods: ['pizza', 'falafel', 'carrot cake']\n",
      "My foods: ['pizza', 'falafel', 'carrot cake', 'ice cream']\n",
      "Friend foods: ['pizza', 'falafel', 'carrot cake']\n",
      "\n",
      "My foods: ['pizza', 'falafel', 'carrot cake']\n",
      "Friend foods: ['pizza', 'falafel', 'carrot cake']\n",
      "My foods: ['pizza', 'falafel', 'carrot cake', 'ice cream']\n",
      "Friend foods: ['pizza', 'falafel', 'carrot cake', 'ice cream']\n"
     ]
    }
   ],
   "source": [
    "players = ['charles', 'martina', 'michael', 'florence', 'eli']\n",
    "print(players[0:3])\n",
    "\n",
    "print(f\"\\nThe last three players are: {players[-3: ]}\")\n",
    "\n",
    "print(f\"\\nThe odd players are: {players[0:(len(players)+1):2]}\")\n",
    "\n",
    "print(\"\\nThe even players include: \")\n",
    "for player in players[1:(len(players)+1):2]:\n",
    "    print(f\"\\t{player}\")\n",
    "\n",
    "# copy with slicing\n",
    "my_foods = ['pizza', 'falafel', 'carrot cake']\n",
    "friend_foods = my_foods[:]\n",
    "print(f\"My foods: {my_foods}\")\n",
    "print(f\"Friend foods: {friend_foods}\")\n",
    "my_foods.append(\"ice cream\")\n",
    "print(f\"My foods: {my_foods}\")\n",
    "print(f\"Friend foods: {friend_foods}\")\n",
    "print(\"\")\n",
    "\n",
    "# copy without slicing\n",
    "my_foods = ['pizza', 'falafel', 'carrot cake']\n",
    "friend_foods = my_foods\n",
    "print(f\"My foods: {my_foods}\")\n",
    "print(f\"Friend foods: {friend_foods}\")\n",
    "my_foods.append(\"ice cream\")\n",
    "print(f\"My foods: {my_foods}\")\n",
    "print(f\"Friend foods: {friend_foods}\")"
   ]
  },
  {
   "cell_type": "code",
   "execution_count": 67,
   "metadata": {},
   "outputs": [
    {
     "name": "stdout",
     "output_type": "stream",
     "text": [
      "First three: mango, orange, apple.\n",
      "Middle three: orange, apple, pear.\n",
      "Last three: apple, pear, pineapple.\n"
     ]
    }
   ],
   "source": [
    "# Exercise 4.10\n",
    "# Note: here we use the join() method to convert the list into a string.\n",
    "# the ', ' argument use comma to separate each item.\n",
    "fruits = ['mango', 'orange', 'apple', 'pear', 'pineapple']\n",
    "print(f\"First three: {', '.join(fruits[0:3])}.\")\n",
    "print(f\"Middle three: {', '.join(fruits[1:4])}.\")\n",
    "print(f\"Last three: {', '.join(fruits[-3:])}.\")"
   ]
  },
  {
   "cell_type": "markdown",
   "metadata": {},
   "source": [
    "## Tuples\n",
    "\n",
    "You can make changes to elements in a list any way you like. If you want a list that is *immutable*, then it is called a *tuple* in Python. However, when you slice tuples, you still use `[]`. If you want your tuple to contain only one element (rarely happens), you need to include a comma, e.g., `my_tuple = (3,)`.\n",
    "\n",
    "Tuples are defined using parentheses instead of square brackets. Otherwise, the syntax for tuples is similar to lists.\n",
    "\n",
    "### Defining a Tuple\n",
    "\n",
    "### Looping through All Values in a Tuple\n",
    "\n",
    "### Writing over a Tuple\n",
    "\n",
    "### Exercises\n",
    "\n"
   ]
  },
  {
   "cell_type": "code",
   "execution_count": 68,
   "metadata": {},
   "outputs": [
    {
     "name": "stdout",
     "output_type": "stream",
     "text": [
      "The dimensions of the tuple are: 200 and 50.\n",
      "(200, 50)\n",
      "150\n",
      "350\n"
     ]
    }
   ],
   "source": [
    "# Define a tuple\n",
    "dimensions = (200, 50)\n",
    "print(f\"The dimensions of the tuple are: {dimensions[0]} and {dimensions[1]}.\")\n",
    "\n",
    "# You cannot directly change a tuple, but you can redefine a tuple with the same name\n",
    "print(dimensions)\n",
    "dimensions = (150, 350)\n",
    "for dimension in dimensions:\n",
    "    print(dimension)"
   ]
  },
  {
   "cell_type": "code",
   "execution_count": 69,
   "metadata": {},
   "outputs": [
    {
     "name": "stdout",
     "output_type": "stream",
     "text": [
      "Original tuple: mango, orange, apple, pear, pineapple\n",
      "New tuple: banana, blueberry, apple, pear, pineapple\n"
     ]
    }
   ],
   "source": [
    "# Exercise 4.13\n",
    "fruits = ('mango', 'orange', 'apple', 'pear', 'pineapple')\n",
    "print(f\"Original tuple: {', '.join(fruits[:])}\")\n",
    "\n",
    "fruits = ['banana', 'blueberry', 'apple', 'pear', 'pineapple']\n",
    "print(f\"New tuple: {', '.join(fruits[:])}\")"
   ]
  },
  {
   "cell_type": "markdown",
   "metadata": {},
   "source": [
    "## Styling your Code\n",
    "\n",
    "### The Style Guide\n",
    "\n",
    "Python's style guide is slighly different from R's. Most programmers follow [*PEP8*](https://peps.python.org/pep-0008/) guide.\n",
    "\n",
    "### Indentation\n",
    "\n",
    "PEP8 recommends that you use four spaces per indentation level, which is the default in VS Code.\n",
    "\n",
    "### Line Length\n",
    "\n",
    "Most Python programmers recommend that each line should be less than 80 characters. PEP8 recommends not more than 72 characters per line.\n",
    "\n",
    "### Blank Lines\n",
    "\n",
    "Use blank lines to make your code more readable, but don't use them too excessively."
   ]
  }
 ],
 "metadata": {
  "kernelspec": {
   "display_name": "env_learning",
   "language": "python",
   "name": "python3"
  },
  "language_info": {
   "codemirror_mode": {
    "name": "ipython",
    "version": 3
   },
   "file_extension": ".py",
   "mimetype": "text/x-python",
   "name": "python",
   "nbconvert_exporter": "python",
   "pygments_lexer": "ipython3",
   "version": "3.12.9"
  }
 },
 "nbformat": 4,
 "nbformat_minor": 2
}
