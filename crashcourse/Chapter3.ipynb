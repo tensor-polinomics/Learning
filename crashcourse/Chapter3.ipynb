{
 "cells": [
  {
   "cell_type": "markdown",
   "metadata": {},
   "source": [
    "# Chapter 3. Introducing Lists\n",
    "\n",
    "Lists are one of Python's most powerful features. A list can store sets of information in one place.\n",
    "\n",
    "## What is a List?\n",
    "\n",
    "A list is a collect of items in a particular order. Because a list usually contains multiple items, we recommend to give it a name of plural, wuch as `letters`, `names`. In Python, `[]` indicate a list, and individual elements in the list are separated by commas.\n",
    "\n",
    "To access an element in a list, you can use `list_name[element_number]`. \n",
    "\n",
    "- Note that Python's index position starts at 0, not 1. \n",
    "- If you want a subset, you can use `starting:ending`, but note that Python gives you a subset from `starting` to `ending-1`, so the total number of elements is `ending-starting`.\n",
    "- You can also count from the back. In this case `-1` means the last item."
   ]
  },
  {
   "cell_type": "code",
   "execution_count": 1,
   "metadata": {},
   "outputs": [
    {
     "name": "stdout",
     "output_type": "stream",
     "text": [
      "['trek', 'connondale', 'redline', 'sepcialized']\n",
      "Trek\n",
      "['connondale', 'redline']\n",
      "sepcialized\n",
      "My first bicycle was a Connondale.\n"
     ]
    }
   ],
   "source": [
    "bicycles = ['trek', 'connondale', 'redline', 'sepcialized']\n",
    "print(bicycles)\n",
    "\n",
    "print(bicycles[0].title())\n",
    "\n",
    "subset = bicycles[1:3]\n",
    "print(subset)\n",
    "\n",
    "print(bicycles[-1])\n",
    "\n",
    "message = f\"My first bicycle was a {bicycles[1].title()}.\"\n",
    "print(message)"
   ]
  },
  {
   "cell_type": "code",
   "execution_count": 2,
   "metadata": {},
   "outputs": [
    {
     "name": "stdout",
     "output_type": "stream",
     "text": [
      "Hello, Harry!\n",
      "Hello, Melina!\n",
      "Hello, Eric!\n",
      "Hello, Martha!\n",
      "Hello, Adam!\n",
      "Hello, Robin!\n"
     ]
    }
   ],
   "source": [
    "# Exercises 3.1/3.2\n",
    "friends = ['Harry', 'Melina', 'Eric', 'Martha', 'Adam', 'Robin']\n",
    "for friend in friends:\n",
    "    print(f\"Hello, {friend.title()}!\")"
   ]
  },
  {
   "cell_type": "markdown",
   "metadata": {},
   "source": [
    "## Modifying, Adding, and Removing Elements\n",
    "\n",
    "### Modifying Elements in a List\n",
    "\n",
    "The way to modify an element in a list is the same as how you access that element plus an assignment. For example, to replace the second friend in my list `friends` above with 'Sarah`, I can do the following.\n",
    "\n",
    "### Adding Elements to a List\n",
    "\n",
    "- **Appending Elements to a List.** To append an element to the end of the list, you can use the `append()` method. For example, the code below adds another friend `Michael` to the end of `friends`.\n",
    "- **Inserting Elements to a List.** To insert an element at position `n`, you can use the `insert(n, item)` method.\n",
    "\n",
    "### Removing Elements in a List\n",
    "\n",
    "There are a few ways that you can remove an element from a list.\n",
    "- **del Statement.** You can use `del list_name[n]` to remove the nth element from the list.\n",
    "- **pop() Method.** You can also remove the last item from the list, using `.pop()` method. In this case, the popped item can be used for other purposes.\n",
    "- **pop() from any where.** You can pop any element in the list, by supplying a position parameter, e.g., `.pop(n)`.\n",
    "- **Remove an Element by Value.** Sometimes, you don't know the position, but you know the value of the element you want to remove. Then you can use the `remove(value)` method. If you have multiple items in the list with the same value, only the first occurrence is removed. If you want to remove all of them, you can use a list comprehension, e.g., `friends = [friend for friend in friends if friend != 'John']`.\n",
    "- **clear() Method.** If you want to remove all items from a list, you can use the `clear()` method."
   ]
  },
  {
   "cell_type": "code",
   "execution_count": 3,
   "metadata": {},
   "outputs": [
    {
     "name": "stdout",
     "output_type": "stream",
     "text": [
      "['Harry', 'Sarah', 'Eric', 'Martha', 'Adam', 'Robin']\n",
      "['Harry', 'Sarah', 'Eric', 'Martha', 'Adam', 'Robin', 'Michael']\n",
      "There are 7 friends in the new_friends list.\n",
      "['John', 'Harry', 'Sarah', 'Anna', 'Eric', 'Martha', 'Adam', 'Robin', 'Michael']\n",
      "['John', 'Harry', 'Anna', 'Eric', 'Martha', 'Adam', 'Robin', 'Michael']\n",
      "I just removed the last friend Michael from my invitation list.\n",
      "I just removed another friend Anna from my invitation list.\n",
      "['John', 'Harry', 'Eric', 'Martha', 'Adam', 'Robin']\n",
      "['Harry', 'Eric', 'Martha', 'Adam', 'Robin']\n"
     ]
    }
   ],
   "source": [
    "# Modifying elements in a list\n",
    "friends[1] = 'Sarah'\n",
    "print(friends)\n",
    "\n",
    "# Apppending elements to a list\n",
    "friends.append('Michael')\n",
    "print(friends)\n",
    "\n",
    "new_friends = [] # create an empty list\n",
    "for friend in friends:\n",
    "    new_friends.append(friend)\n",
    "message = f\"There are {len(new_friends)} friends in the new_friends list.\"\n",
    "print(message)\n",
    "\n",
    "# Insert new friends at different positions\n",
    "friends.insert(0, 'John')\n",
    "friends.insert(3, 'Anna')\n",
    "print(friends)\n",
    "\n",
    "# Remove the 3rd friend from the list\n",
    "del friends[2]\n",
    "print(friends)\n",
    "\n",
    "# Pop the last item from the list\n",
    "last_friend = friends.pop()\n",
    "message = f\"I just removed the last friend {last_friend} from my invitation list.\"\n",
    "print(message)\n",
    "\n",
    "# Pop the 3rd friend from the list\n",
    "friend3 = friends.pop(2)\n",
    "message = f\"I just removed another friend {friend3} from my invitation list.\"\n",
    "print(message)\n",
    "\n",
    "# Remove a friend by value (name); we have two \"John\" in the list, but only the first is removed\n",
    "print(friends)\n",
    "friends.remove('John')\n",
    "print(friends)"
   ]
  },
  {
   "cell_type": "code",
   "execution_count": 4,
   "metadata": {},
   "outputs": [
    {
     "name": "stdout",
     "output_type": "stream",
     "text": [
      " Hi John, you are invited to dinner at my place.\n",
      " Hi Sarah, you are invited to dinner at my place.\n",
      " Hi Michael, you are invited to dinner at my place.\n",
      " Hi Anna, you are invited to dinner at my place.\n",
      " Hi Eric, you are invited to dinner at my place.\n",
      "['John', 'sarah', 'Michael', 'Anna', 'Eric']\n",
      "['John', 'sarah', 'Anna', 'Eric', 'Adam']\n",
      " Hi John, you are invited to dinner at my place.\n",
      " Hi Sarah, you are invited to dinner at my place.\n",
      " Hi Anna, you are invited to dinner at my place.\n",
      " Hi Eric, you are invited to dinner at my place.\n",
      " Hi Adam, you are invited to dinner at my place.\n",
      "['John', 'Tom', 'sarah', 'Anna', 'Eric', 'Adam']\n",
      "Sorry, Adam, I can't invite you to dinner anymore.\n",
      "Sorry, Eric, I can't invite you to dinner anymore.\n",
      "Sorry, Anna, I can't invite you to dinner anymore.\n",
      "Sorry, Sarah, I can't invite you to dinner anymore.\n",
      "Hi John, you are still invited to dinner.\n",
      "Hi Tom, you are still invited to dinner.\n",
      "[]\n"
     ]
    }
   ],
   "source": [
    "# Exercise 3.4\n",
    "guest_list = ['John', 'sarah', 'Michael', 'Anna', 'Eric']\n",
    "for guest in guest_list:\n",
    "    guest = guest.title()\n",
    "    message = f\" Hi {guest}, you are invited to dinner at my place.\"\n",
    "    print(message)\n",
    "\n",
    "print(guest_list) # notice the scoping rule, sarah is still lowercase\n",
    "\n",
    "# Exercise 3.5\n",
    "# Assume that Michael can't make it to dinner, so we have to replace him with another friend, Adam.\n",
    "guest_list.remove('Michael')\n",
    "guest_list.append('Adam')\n",
    "print(guest_list)\n",
    "for guest in guest_list:\n",
    "    message = f\" Hi {guest.title()}, you are invited to dinner at my place.\"\n",
    "    print(message)\n",
    "\n",
    "# Exercise 3.6\n",
    "# Insert another friend, Tom, at position 2 in the list.\n",
    "guest_list.insert(1, 'Tom')\n",
    "print(guest_list)\n",
    "\n",
    "# Exercise 3.7\n",
    "# Due to space, we have to remove everyone from the back of the list until we have only two guests left.\n",
    "while len(guest_list) > 2:\n",
    "    removed_guest = guest_list.pop()\n",
    "    message = f\"Sorry, {removed_guest.title()}, I can't invite you to dinner anymore.\"\n",
    "    print(message)\n",
    "\n",
    "# Send a final message to the remaining guests\n",
    "for guest in guest_list:\n",
    "    message = f\"Hi {guest.title()}, you are still invited to dinner.\"\n",
    "    print(message)\n",
    "\n",
    "# Remove the last two guests from the list\n",
    "guest_list.clear()\n",
    "print(guest_list) # The list is now empty"
   ]
  },
  {
   "cell_type": "markdown",
   "metadata": {},
   "source": [
    "## List Comprehension\n",
    "\n",
    "List comprehension is a concise way to create or modify lists in Python. It allows you to generate a new list by applying an expression to each item in an existing iterable (e.g., list, range, or string) and optionally filtering items with a condition. The general syntax is:\n",
    "\n",
    "```new_list = [expression for item in iterable if condition]```"
   ]
  },
  {
   "cell_type": "code",
   "execution_count": 5,
   "metadata": {},
   "outputs": [
    {
     "name": "stdout",
     "output_type": "stream",
     "text": [
      "[1, 2, 3, 4, 5]\n",
      "[1, 4, 9, 16, 25]\n",
      "[2, 4]\n",
      "['John', 'Sarah', 'Martha', 'Adam']\n",
      "['sarah', 'martha', 'adam']\n"
     ]
    }
   ],
   "source": [
    "# Basic examples\n",
    "numbers = list(range(1, 6))\n",
    "print(numbers)\n",
    "squares = [i**2 for i in numbers]\n",
    "print(squares)\n",
    "\n",
    "# Filtering even numbers\n",
    "even_numbers =[i for i in numbers if i % 2 == 0]\n",
    "print(even_numbers)\n",
    "\n",
    "# Modifying strings in a list\n",
    "names = ['john', 'sarah', 'martha', 'adam']\n",
    "proper_names = [name.title() for name in names]\n",
    "print(proper_names)\n",
    "\n",
    "# Removing repeated items from a list\n",
    "names = ['john', 'sarah', 'martha', 'adam', 'john']\n",
    "names = [name for name in names if name.lower() != 'john']\n",
    "print(names)"
   ]
  },
  {
   "cell_type": "markdown",
   "metadata": {},
   "source": [
    "## Organizing a List\n",
    "\n",
    "You often need to either change the order of items in a list; or you may want to present the items in different order (without changing their permament order).\n",
    "\n",
    "- **Sorting a List Permanently with the `sort()` Method.** If you want to permanently sort items in a list, you can use the `sort()` method. To sort in a reverse order, you add `reverse=True` argument in the `sort()` method. *Please note that Python's boolean values are `True` and `False`, unlike the `TRUE/FALSE` in R.*\n",
    "- **Sorting a List Temporarily with the `sorted()` Function.** If you only need to temporarily sort the items in a list, you should use the `sorted()` function. The `sorted()` function also accept the `reverse=True` argument.\n",
    "- **Reversing the Order of Items in Lists.** If you want to reverse the order of items appearing in a list, you can use the `reverse()` method. Similar to `sort()`, the `reverse()` method permanently changes the order of items. To restore to the original order, you can apply the `reverse()` method one more time.\n",
    "- **Find the length of a List with `len()` Function.** The `len()` function (similar to `length()` in R) tells you the number of items in a list."
   ]
  },
  {
   "cell_type": "code",
   "execution_count": 6,
   "metadata": {},
   "outputs": [
    {
     "name": "stdout",
     "output_type": "stream",
     "text": [
      "['audi', 'bmw', 'subaru', 'toyota']\n",
      "['toyota', 'subaru', 'bmw', 'audi']\n",
      "\n",
      "Here is the sorted list:\n",
      "['audi', 'bmw', 'subaru', 'toyota']\n",
      "The original order of cars in the list:\n",
      "['bmw', 'audi', 'toyota', 'subaru']\n",
      "\n",
      "The reversed order of cars in the list:\n",
      "['subaru', 'toyota', 'audi', 'bmw']\n",
      "\n",
      "There are 4 cars in the list.\n"
     ]
    }
   ],
   "source": [
    "# Sorting a list\n",
    "cars = ['bmw', 'audi', 'toyota', 'subaru']\n",
    "cars.sort()\n",
    "print(cars)\n",
    "cars.sort(reverse=True)\n",
    "print(cars)\n",
    "\n",
    "# Sorting a list temporarily\n",
    "cars = ['bmw', 'audi', 'toyota', 'subaru']\n",
    "print(\"\\nHere is the sorted list:\")\n",
    "print(sorted(cars))\n",
    "\n",
    "# Reversing the appearance of items in a list\n",
    "print(\"The original order of cars in the list:\")\n",
    "print(cars)\n",
    "print(\"\\nThe reversed order of cars in the list:\")\n",
    "cars.reverse()\n",
    "print(cars)\n",
    "\n",
    "# Number of items in a list\n",
    "print(f\"\\nThere are {len(cars)} cars in the list.\")"
   ]
  },
  {
   "cell_type": "code",
   "execution_count": 7,
   "metadata": {},
   "outputs": [
    {
     "name": "stdout",
     "output_type": "stream",
     "text": [
      "['Okinawa', 'Bali', 'Monaco', 'Morocco', 'Caro']\n",
      "['Bali', 'Caro', 'Monaco', 'Morocco', 'Okinawa']\n",
      "['Okinawa', 'Bali', 'Monaco', 'Morocco', 'Caro']\n",
      "['Okinawa', 'Morocco', 'Monaco', 'Caro', 'Bali']\n",
      "['Caro', 'Morocco', 'Monaco', 'Bali', 'Okinawa']\n",
      "['Okinawa', 'Bali', 'Monaco', 'Morocco', 'Caro']\n",
      "['Bali', 'Caro', 'Monaco', 'Morocco', 'Okinawa']\n",
      "['Okinawa', 'Morocco', 'Monaco', 'Caro', 'Bali']\n"
     ]
    }
   ],
   "source": [
    "# Exercise 3.8\n",
    "places = ['Okinawa', 'Bali', 'Monaco', 'Morocco', 'Caro']\n",
    "print(places)\n",
    "print(sorted(places))\n",
    "print(places)\n",
    "print(sorted(places, reverse=True))\n",
    "places.reverse()\n",
    "print(places)\n",
    "places.reverse()\n",
    "print(places)\n",
    "places.sort()\n",
    "print(places)\n",
    "places.sort(reverse=True)\n",
    "print(places)"
   ]
  }
 ],
 "metadata": {
  "kernelspec": {
   "display_name": "env_learning",
   "language": "python",
   "name": "python3"
  },
  "language_info": {
   "codemirror_mode": {
    "name": "ipython",
    "version": 3
   },
   "file_extension": ".py",
   "mimetype": "text/x-python",
   "name": "python",
   "nbconvert_exporter": "python",
   "pygments_lexer": "ipython3",
   "version": "3.12.9"
  }
 },
 "nbformat": 4,
 "nbformat_minor": 2
}
