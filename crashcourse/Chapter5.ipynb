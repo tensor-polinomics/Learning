{
 "cells": [
  {
   "cell_type": "markdown",
   "metadata": {},
   "source": [
    "# Chapter 5. Conditional Statements\n",
    "\n",
    "Conditional statements are at the heart of almost all programming languages. In this chapter, we will learn the most powerful conditional statemnet in Python, the `if` and its variations. We will also learn how to combine `if` statement with `for` loops in lists.\n",
    "\n",
    "## A Simple Example\n",
    "\n",
    "As a test drive, let's work on our `cars` list again. We will print each car in title case, unless it is a BMW, which we print in upper case.\n",
    "\n",
    "## Conditional Tests\n",
    "\n",
    "At the heart of `if` statement, Python conducts a series of conditional test. If it's `True`, the `if` statement is executed; if it's `False`, Python ignores everything after `if` statement.\n",
    "\n",
    "### Checking for Equality\n",
    "\n",
    "In both Python and R, `=` is assignment operator (in R, `->` is preferred), while to test for equality, you have to use `==`. Note, Python is case sensitive. Therefore, if case doesn't matter, you are advised to convert everything to lower case before you compare them. For most websites, usernames are not case sensitive, while passwords are.\n",
    "\n",
    "### Checking for Inequality\n",
    "\n",
    "For both Python and R, testing for inequality is `!=`. \n",
    "\n",
    "### Numerical Comparisons\n",
    "\n",
    "To ensure numerical robustness when you test for equality, you can use `math.isclose()` function (from `math` library), which also allows you to set `rel_tol` (tolerance).\n",
    "\n",
    "### Checking Multiple Conditions\n",
    "\n",
    "To build compound conditions, you need to use `and` and `or`, which are similar to `&` and `|` in R. To improve readability, we recommend to wrap your multiple conditions with paratheses. \n",
    "\n",
    "### Checking whether a Value is in a List or not in a List\n",
    "\n",
    "In Python, to check whether one particular value is in a list, you use the keyword `in` (the equivalent in R is `%in%`). To check whether a value is *not* in a list, you add the keyword `not`. In R, you would do it slightly differently.\n",
    "\n",
    "```\n",
    "# Python\n",
    "value in list\n",
    "value not in list\n",
    "\n",
    "# R\n",
    "value %in% vector\n",
    "!(value %in% vector)\n",
    "```\n",
    "\n",
    "### Boolean Expressions\n",
    "\n",
    "Boolean expression is just another way of saying conditional test."
   ]
  },
  {
   "cell_type": "code",
   "execution_count": 10,
   "metadata": {},
   "outputs": [
    {
     "name": "stdout",
     "output_type": "stream",
     "text": [
      "Audi BMW Subaru Toyota \n",
      "True\n",
      "False\n",
      "True\n",
      "BMW\n",
      "Hold the anchovies!\n",
      "True\n",
      "False\n",
      "True\n",
      "Marie, welcome to the game!\n",
      "Andrew, you are not authorized to participate.\n"
     ]
    }
   ],
   "source": [
    "# A test drive\n",
    "cars = ['audi', 'bmw', 'subaru', 'toyota']\n",
    "for car in cars:\n",
    "    if car != 'bmw':\n",
    "        print(car.title(), end = \" \")\n",
    "    else:\n",
    "        print(car.upper(), end = \" \")\n",
    "print(\"\")\n",
    "\n",
    "car = 'BMW'\n",
    "print(car == \"BMW\")\n",
    "print(car == \"bmw\")\n",
    "print(car.lower() == \"bmw\")\n",
    "print(car)\n",
    "\n",
    "requested_topping = 'mushroom'\n",
    "\n",
    "if requested_topping != 'anchovies':\n",
    "    print(\"Hold the anchovies!\")\n",
    "    \n",
    "age = 32 / 2\n",
    "print(age == 16)\n",
    "age = 16.000000000001\n",
    "print(age == 16)\n",
    "\n",
    "# To ensure numerical robustness when you test for equality, you can use math.isclose() function\n",
    "import math\n",
    "print(math.isclose(age, 16))\n",
    "\n",
    "# value in or not in a list\n",
    "banned_users = ['andrew', 'carolina', 'david']\n",
    "new_users = ['marie', 'andrew']\n",
    "\n",
    "for user in new_users:\n",
    "    if user in banned_users:\n",
    "        print(f\"{user.title()}, you are not authorized to participate.\")\n",
    "    else:\n",
    "        print(f\"{user.title()}, welcome to the game!\")"
   ]
  },
  {
   "cell_type": "code",
   "execution_count": 11,
   "metadata": {},
   "outputs": [
    {
     "name": "stdout",
     "output_type": "stream",
     "text": [
      "No comment...\n",
      "I like BMW too!\n",
      "That's an interesting choice to pick subaru!\n",
      "No comment...\n",
      "[5, 6, 9, 5]\n",
      "We have these cars in the inventory: audi, bmw, subaru, toyota.\n",
      "Is porsche in the list? False\n",
      "Is bmw in the list? True\n"
     ]
    }
   ],
   "source": [
    "# Exercise 5.1\n",
    "for car in cars:\n",
    "    if car.lower() == 'subaru':\n",
    "        print(f\"That's an interesting choice to pick {car}!\")\n",
    "    elif car.lower() == 'bmw':\n",
    "        print(f\"I like {car.upper()} too!\")\n",
    "    else:\n",
    "        print(\"No comment...\")\n",
    "\n",
    "# Exercise 5.2\n",
    "numbers = [2, 5, 6, 10, 20, 3, 4, 9, 2, 5, 11]\n",
    "# list comprehensions\n",
    "subset = [number for number in numbers if (number >= 5 and number <10)]\n",
    "print(subset)\n",
    "\n",
    "# in and not in\n",
    "print(f\"We have these cars in the inventory: {\", \".join(cars)}.\")\n",
    "new_cars = [\"porsche\", \"bmw\"]\n",
    "for car in new_cars:    \n",
    "    message = car in cars\n",
    "    print(f\"Is {car} in the list? {message}\")"
   ]
  },
  {
   "cell_type": "markdown",
   "metadata": {},
   "source": [
    "## `if` Statements\n",
    "\n",
    "### Simple `if` Statements\n",
    "\n",
    "If you have only one condition to check, and only need execute if the condition is met:\n",
    "```\n",
    "if condition:\n",
    "    do something\n",
    "```\n",
    "\n",
    "### `if-else` Statements\n",
    "If you have only one condition to check, but you have something to do depending on whether the condition is met:\n",
    "\n",
    "```\n",
    "if condition:\n",
    "    do something\n",
    "else:\n",
    "    do something else\n",
    "```\n",
    "\n",
    "### The `if-elif-else` Statements\n",
    "\n",
    "If you have more than one condition to check, you can wrap as many `elif` as needed:\n",
    "\n",
    "```\n",
    "if condition:\n",
    "    do thing 1\n",
    "elif:\n",
    "    do thing 2\n",
    "elif:\n",
    "    do thing 3\n",
    "else:\n",
    "    default\n",
    "```\n",
    "\n",
    "### Omitting the `else` Block\n",
    "\n",
    "The `else` statement is a catch-up. If you want to make sure your code captures all conditions, you can omit the `else` part.\n",
    "\n",
    "### Testing Multiple Conditions\n",
    "\n",
    "Sometimes, you want to test multiple conditions independently. In other words, for each condition that is met, you need to do something. In this case, you write a series of `if` statement without invoking `else`."
   ]
  },
  {
   "cell_type": "code",
   "execution_count": 12,
   "metadata": {},
   "outputs": [
    {
     "name": "stdout",
     "output_type": "stream",
     "text": [
      "Your admission fee is: $20.\n",
      "Add mushrooms\n",
      "Sorry, bacon is not available\n"
     ]
    }
   ],
   "source": [
    "# An example (wrapped into a function)\n",
    "def calculate_admission_fee(age):\n",
    "    if age < 4:\n",
    "        price = 0\n",
    "    elif age < 18:\n",
    "        price = 25\n",
    "    elif age < 65:\n",
    "        price = 40\n",
    "    else:\n",
    "        price = 20\n",
    "    print(f\"Your admission fee is: ${price}.\")\n",
    "\n",
    "age = 90\n",
    "calculate_admission_fee(age)\n",
    "\n",
    "# Multiple conditions independently\n",
    "requested_toppings = ['mushrooms', 'bacon']\n",
    "available_toppings = ['onion', 'pepper', 'mushrooms', 'extra cheese', 'sausage']\n",
    "\n",
    "for topping in requested_toppings:\n",
    "    if topping in available_toppings:\n",
    "        print(f\"Add {topping}\")\n",
    "    else:\n",
    "        print(f\"Sorry, {topping} is not available\")"
   ]
  },
  {
   "cell_type": "code",
   "execution_count": 13,
   "metadata": {},
   "outputs": [
    {
     "name": "stdout",
     "output_type": "stream",
     "text": [
      "You have earned 5 point(s).\n"
     ]
    }
   ],
   "source": [
    "# Exercises 5.3-5.5\n",
    "alien_color = 'red'\n",
    "\n",
    "if alien_color == 'green':\n",
    "    point = 10\n",
    "elif alien_color == 'red':\n",
    "    point = 5\n",
    "else:\n",
    "    point = 0\n",
    "\n",
    "print(f\"You have earned {point} point(s).\")"
   ]
  },
  {
   "cell_type": "markdown",
   "metadata": {},
   "source": [
    "## Using `if` Statements with Lists\n",
    "\n",
    "Conditional statements are often used inside lists. Depending on whether a condition is met, you may perform different tasks for each element in a list.\n",
    "\n",
    "### Checking for Special Items & Using Multiple Lists\n",
    "\n",
    "We have already demonstrated how to use it in pizza example above.\n",
    "\n",
    "### Checking that a List is not Empty\n",
    "\n",
    "When you conduct a loop on an empty list, Python will not complain. However, your user might be surprised to see no action is taken. To write more robust code, you may want to check whether a list of empty before any loop (and add some explicit action if the list is indeep empty).\n",
    "\n",
    "In the code example below, to check whether a list is empty, we simply type `if list_name:`. In Python, if the list is empty, it evaluates to False."
   ]
  },
  {
   "cell_type": "code",
   "execution_count": 14,
   "metadata": {},
   "outputs": [
    {
     "name": "stdout",
     "output_type": "stream",
     "text": [
      "Are you sure you want a plain pizza?\n"
     ]
    }
   ],
   "source": [
    "# Check whether a list is empty\n",
    "requested_toppings = []\n",
    "\n",
    "if requested_toppings:\n",
    "    for requested_topping in requested_toppings:\n",
    "        print(f\"Adding {requested_topping}.\")\n",
    "        print(\"\\nFinished making your pizza!\")\n",
    "else:\n",
    "    print(\"Are you sure you want a plain pizza?\")"
   ]
  },
  {
   "cell_type": "code",
   "execution_count": 15,
   "metadata": {},
   "outputs": [
    {
     "name": "stdout",
     "output_type": "stream",
     "text": [
      "Hello user5, thank you for logging in again.\n",
      "Hello admin, would you like to see a status report?\n",
      "Hello user1, thank you for logging in again.\n",
      "Hello user2, thank you for logging in again.\n",
      "Hello user3, thank you for logging in again.\n",
      "Hello user4, thank you for logging in again.\n",
      "\n",
      "We need to find some users!\n",
      "Hi user6, you need to register first.\n",
      "Hi user1, welcome back!\n",
      "Hi user8, you need to register first.\n",
      "Hi User5, welcome back!\n"
     ]
    }
   ],
   "source": [
    "# Exercise 5.8\n",
    "users = ['user5', 'admin', 'user1', 'user2', 'user3', 'user4']\n",
    "for user in users:\n",
    "    if user == 'admin':\n",
    "        print(f\"Hello {user}, would you like to see a status report?\")\n",
    "    else:\n",
    "        print(f\"Hello {user}, thank you for logging in again.\")\n",
    "print(\"\")\n",
    "        \n",
    "# Exercise 5.9\n",
    "users = []\n",
    "if users:\n",
    "    for user in users:\n",
    "        if user == 'admin':\n",
    "            print(f\"Hello {user}, would you like to see a status report?\")\n",
    "        else:\n",
    "            print(f\"Hello {user}, thank you for logging in again.\")\n",
    "else:\n",
    "    print(\"We need to find some users!\")\n",
    "    \n",
    "# Exercise 5.10\n",
    "current_users = ['user1', 'user2', 'user3', 'user4', 'user5']\n",
    "new_users = ['user6', 'user1', 'user8', 'User5']\n",
    "\n",
    "for user in new_users:\n",
    "    if user.lower() in current_users:\n",
    "        print(f\"Hi {user}, welcome back!\")\n",
    "    else:\n",
    "        print(f\"Hi {user}, you need to register first.\")"
   ]
  }
 ],
 "metadata": {
  "kernelspec": {
   "display_name": "Python 3",
   "language": "python",
   "name": "python3"
  },
  "language_info": {
   "codemirror_mode": {
    "name": "ipython",
    "version": 3
   },
   "file_extension": ".py",
   "mimetype": "text/x-python",
   "name": "python",
   "nbconvert_exporter": "python",
   "pygments_lexer": "ipython3",
   "version": "3.12.9"
  }
 },
 "nbformat": 4,
 "nbformat_minor": 2
}
