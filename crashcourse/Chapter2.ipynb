{
 "cells": [
  {
   "cell_type": "markdown",
   "metadata": {},
   "source": [
    "# Chapter 2. Variables and Simple Data Types\n",
    "In this chapter, we will learn basic data types and how to use variables to represent data in our programs."
   ]
  },
  {
   "cell_type": "code",
   "execution_count": 9,
   "metadata": {},
   "outputs": [
    {
     "name": "stdout",
     "output_type": "stream",
     "text": [
      "Hello World!\n",
      "Hello Python World!\n"
     ]
    }
   ],
   "source": [
    "# An example of using variable\n",
    "message = \"Hello World!\"\n",
    "print(message)\n",
    "\n",
    "message = \"Hello Python World!\"\n",
    "print(message)"
   ]
  },
  {
   "cell_type": "markdown",
   "metadata": {},
   "source": [
    "## Variables\n",
    "\n",
    "Variables names should follow certain rules:\n",
    "\n",
    "- Only letters, numbers, and underscores, and cannot start with a number.\n",
    "- No space in names.\n",
    "- Avoid using Python keywords and function names, e.g., print.\n",
    "- Variable names should be short but descriptive. \n",
    "- Recommend: We recommend only use lowercase letters.\n",
    "\n",
    "## Strings\n",
    "\n",
    "You can put anything in either a single or double quote.\n",
    "\n",
    "One of the simpliest things you can do with strings is to change the case of the words in a string. For instance, to change to proper case, you can use the `title()` method. A method is defined for objects. You call a method with `.method()` and make sure you include `()`, because there are often some arguments inside of the parentheses.\n",
    "\n",
    "When you compare strings, you often want to convert everything into lowercases with `.lower()` method."
   ]
  },
  {
   "cell_type": "code",
   "execution_count": 10,
   "metadata": {},
   "outputs": [
    {
     "name": "stdout",
     "output_type": "stream",
     "text": [
      "\"Python\" is an interesting langugage.\n",
      "Ada Lovelace\n",
      "ADA LOVELACE\n",
      "ada lovelace\n"
     ]
    }
   ],
   "source": [
    "text = '\"Python\" is an interesting langugage.'\n",
    "print(text)\n",
    "\n",
    "name = \"ada lovelace\"\n",
    "print(name.title())\n",
    "print(name.upper())\n",
    "print(name.lower())"
   ]
  },
  {
   "cell_type": "markdown",
   "metadata": {},
   "source": [
    "### Using Variables in Strings\n",
    "\n",
    "You often want to insert variables in strings. One way to achieve this is to use *f-strings*, where *f* stands for *format*."
   ]
  },
  {
   "cell_type": "code",
   "execution_count": 15,
   "metadata": {},
   "outputs": [
    {
     "name": "stdout",
     "output_type": "stream",
     "text": [
      "Ada Lovelace\n",
      "Hello, Ada Lovelace! How are you?\n",
      "Hello, Ada Lovelace! How are you?\n"
     ]
    }
   ],
   "source": [
    "first_name = \"ada\"\n",
    "last_name = \"lovelace\"\n",
    "full_name=f\"{first_name} {last_name}\"\n",
    "print(full_name.title())\n",
    "print(f\"Hello, {full_name.title()}! How are you?\")\n",
    "\n",
    "# In this case, you may want to asssign the long string to a varaible first\n",
    "message = (f\"Hello, {full_name.title()}! How are you?\")\n",
    "print(message)"
   ]
  },
  {
   "cell_type": "markdown",
   "metadata": {},
   "source": [
    "### Adding Whitespace to Strings with Tabs and Newlines\n",
    "\n",
    "You can add a tab with `\\t` or a newline with `\\n`."
   ]
  },
  {
   "cell_type": "code",
   "execution_count": 16,
   "metadata": {},
   "outputs": [
    {
     "name": "stdout",
     "output_type": "stream",
     "text": [
      "Languages:\n",
      "\tPython\n",
      "\tC\n",
      "\tJava\n"
     ]
    }
   ],
   "source": [
    "print(\"Languages:\\n\\tPython\\n\\tC\\n\\tJava\")"
   ]
  },
  {
   "cell_type": "markdown",
   "metadata": {},
   "source": [
    "### Stripping Whitespace\n",
    "\n",
    "Invisible whitespace in strings can cause issues. The `rstrip()` method can automatically remove whitespace to the right. Similarly, `lstrip()` and `strip()` remove whitespace from the left and both sides, respectively."
   ]
  },
  {
   "cell_type": "code",
   "execution_count": 4,
   "metadata": {},
   "outputs": [
    {
     "name": "stdout",
     "output_type": "stream",
     "text": [
      "No!\n",
      "Yes!\n"
     ]
    }
   ],
   "source": [
    "favorite_language = \"Python \"\n",
    "answer = \"Python\"\n",
    "\n",
    "# Test for equality\n",
    "if favorite_language == answer:\n",
    "    print(\"Yes!\")\n",
    "else:\n",
    "    print(\"No!\")\n",
    "\n",
    "if favorite_language.rstrip() == answer:\n",
    "    print(\"Yes!\")\n",
    "else:\n",
    "    print(\"No!\")\n"
   ]
  },
  {
   "cell_type": "markdown",
   "metadata": {},
   "source": [
    "### Removing Prefixes and Suffixes\n",
    "\n",
    "Sometimes, you need to remove prefixes from strings. In this case, you can use `removeprefix('prefix_text')` method. Similarly, `removesuffix()` remove suffixes."
   ]
  },
  {
   "cell_type": "code",
   "execution_count": 6,
   "metadata": {},
   "outputs": [
    {
     "name": "stdout",
     "output_type": "stream",
     "text": [
      "nostarch.com\n",
      "python_note\n"
     ]
    }
   ],
   "source": [
    "nostarch_url = 'http://nostarch.com'\n",
    "short_url = nostarch_url.removeprefix('http://')\n",
    "print(short_url)\n",
    "\n",
    "file_name = 'python_note.txt'\n",
    "print(file_name.removesuffix('.txt'))"
   ]
  },
  {
   "cell_type": "markdown",
   "metadata": {},
   "source": [
    "## Numbers\n",
    "\n",
    "Similar to most other programming languages, there are a few number data types in Python. The order of operation follows typical mathematics.\n",
    "\n",
    "## Integers\n",
    "\n",
    "In Python, `**` means exponents, which is different from `^` used in R.\n",
    "\n",
    "## Floats\n",
    "\n",
    "In Python, any number with a decimal point is a *float*. When you divide any two numbers, you will alway get a floating number.\n",
    "\n",
    "In Python, integer division is done with `//`, while remainder operator is `%`, which are different from R's `%/%` and `%%`.\n",
    "\n",
    "When you write long numbers, you can group digits using `_`, but it does not change how these numbers are represented.\n",
    "\n",
    "In Python, you can use `round(number, ndigits)` to round a number."
   ]
  },
  {
   "cell_type": "code",
   "execution_count": 17,
   "metadata": {},
   "outputs": [
    {
     "name": "stdout",
     "output_type": "stream",
     "text": [
      "5 / 2 = 2.5\n",
      "5 // 2 = 2\n",
      "5 % 2 = 1\n",
      "1000000\n",
      "22345.67\n",
      "22350.0\n"
     ]
    }
   ],
   "source": [
    "number = 5 / 2\n",
    "print(f\"5 / 2 = {number}\")\n",
    "\n",
    "number = 5 // 2\n",
    "print(f\"5 // 2 = {number}\")\n",
    "\n",
    "number = 5 % 2\n",
    "print(f\"5 % 2 = {number}\")\n",
    "\n",
    "large_number = 1_000_000\n",
    "print(large_number)\n",
    "\n",
    "# rounding numbers\n",
    "number = 22345.6666666666666667\n",
    "print(round(number, 2))\n",
    "print(round(number, -1))"
   ]
  },
  {
   "cell_type": "markdown",
   "metadata": {},
   "source": [
    "### Multiple Assignment\n",
    "\n",
    "You can assign multiple values to multiple variables using a single line of code. This is particularly useful to initialize a set of numbers. Similarly, we can swap the values in one line.\n",
    "\n",
    "### Constants\n",
    "\n",
    "Python does not have built-in constant type. Python programmers use all capital letters to represent constant numbers."
   ]
  },
  {
   "cell_type": "code",
   "execution_count": 20,
   "metadata": {},
   "outputs": [
    {
     "name": "stdout",
     "output_type": "stream",
     "text": [
      "1 2 3\n",
      "2 1 3\n",
      "3.1415926\n"
     ]
    }
   ],
   "source": [
    "# multiple assignment\n",
    "x, y , z = 1, 2, 3\n",
    "print(x, y, z)\n",
    "\n",
    "# swap x and y \n",
    "x, y = y, x\n",
    "print(x, y, z)\n",
    "\n",
    "# constants\n",
    "PI = 3.1415926\n",
    "print(PI)"
   ]
  },
  {
   "cell_type": "markdown",
   "metadata": {},
   "source": [
    "## Comments\n",
    "\n",
    "In Python, the hash mark `#` indicates a comment. You should add plenty of comments to your code, so you and other people can understand your code. Your comments should emphasize on why you are doing certain things and, if it's a complicated case, what you are trying to do.\n",
    "\n",
    "## The Zen of Python"
   ]
  }
 ],
 "metadata": {
  "kernelspec": {
   "display_name": "env_learning",
   "language": "python",
   "name": "python3"
  },
  "language_info": {
   "codemirror_mode": {
    "name": "ipython",
    "version": 3
   },
   "file_extension": ".py",
   "mimetype": "text/x-python",
   "name": "python",
   "nbconvert_exporter": "python",
   "pygments_lexer": "ipython3",
   "version": "3.12.9"
  }
 },
 "nbformat": 4,
 "nbformat_minor": 2
}
