{
 "cells": [
  {
   "cell_type": "code",
   "execution_count": 1,
   "id": "f8e50125",
   "metadata": {},
   "outputs": [],
   "source": [
    "import numpy as np\n",
    "import pandas as pd\n",
    "import matplotlib.pyplot as plt\n",
    "import seaborn as sns"
   ]
  },
  {
   "cell_type": "code",
   "execution_count": 2,
   "id": "56f00953",
   "metadata": {},
   "outputs": [],
   "source": [
    "from sklearn.datasets import fetch_california_housing\n",
    "\n",
    "data, target = fetch_california_housing(return_X_y=True, as_frame=True)\n",
    "target *= 100  # rescale the target in k$"
   ]
  },
  {
   "cell_type": "code",
   "execution_count": 3,
   "id": "0ed6c5d8",
   "metadata": {},
   "outputs": [],
   "source": [
    "# Create a shuffle split\n",
    "from sklearn.model_selection import ShuffleSplit\n",
    "cv = ShuffleSplit(n_splits=30, test_size=0.2, random_state=0)"
   ]
  },
  {
   "cell_type": "code",
   "execution_count": 4,
   "id": "34427a15",
   "metadata": {},
   "outputs": [
    {
     "data": {
      "application/vnd.microsoft.datawrangler.viewer.v0+json": {
       "columns": [
        {
         "name": "index",
         "rawType": "object",
         "type": "string"
        },
        {
         "name": "Decision Tree",
         "rawType": "float64",
         "type": "float"
        }
       ],
       "ref": "ff8ba821-1b14-401e-86f9-bbd5e45f7f1e",
       "rows": [
        [
         "count",
         "30.0"
        ],
        [
         "mean",
         "45.79010952034885"
        ],
        [
         "std",
         "1.1979678845522215"
        ],
        [
         "min",
         "43.462006782945735"
        ],
        [
         "25%",
         "44.91019694767442"
        ],
        [
         "50%",
         "45.71513311531008"
        ],
        [
         "75%",
         "46.77092520591086"
        ],
        [
         "max",
         "48.22838808139535"
        ]
       ],
       "shape": {
        "columns": 1,
        "rows": 8
       }
      },
      "text/plain": [
       "count    30.000000\n",
       "mean     45.790110\n",
       "std       1.197968\n",
       "min      43.462007\n",
       "25%      44.910197\n",
       "50%      45.715133\n",
       "75%      46.770925\n",
       "max      48.228388\n",
       "Name: Decision Tree, dtype: float64"
      ]
     },
     "execution_count": 4,
     "metadata": {},
     "output_type": "execute_result"
    }
   ],
   "source": [
    "from sklearn.tree import DecisionTreeRegressor\n",
    "from sklearn.model_selection import cross_validate\n",
    "\n",
    "regressor = DecisionTreeRegressor()\n",
    "cv_results_tree = cross_validate(\n",
    "    regressor, data, target, cv=cv, scoring=\"neg_mean_absolute_error\", return_train_score=True\n",
    ")\n",
    "\n",
    "errors_tree = pd.Series(-cv_results_tree[\"test_score\"], name=\"Decision Tree\")\n",
    "errors_tree.describe()"
   ]
  },
  {
   "cell_type": "code",
   "execution_count": 5,
   "id": "4064816f",
   "metadata": {},
   "outputs": [
    {
     "data": {
      "application/vnd.microsoft.datawrangler.viewer.v0+json": {
       "columns": [
        {
         "name": "index",
         "rawType": "object",
         "type": "string"
        },
        {
         "name": "Dummy Regressor",
         "rawType": "float64",
         "type": "float"
        }
       ],
       "ref": "a98d706e-b069-4826-b495-278d2fd277ca",
       "rows": [
        [
         "count",
         "30.0"
        ],
        [
         "mean",
         "91.14000871277996"
        ],
        [
         "std",
         "0.8211398731030748"
        ],
        [
         "min",
         "89.75756618204731"
        ],
        [
         "25%",
         "90.54365205630049"
        ],
        [
         "50%",
         "91.03455514937339"
        ],
        [
         "75%",
         "91.97900742745878"
        ],
        [
         "max",
         "92.47724448498343"
        ]
       ],
       "shape": {
        "columns": 1,
        "rows": 8
       }
      },
      "text/plain": [
       "count    30.000000\n",
       "mean     91.140009\n",
       "std       0.821140\n",
       "min      89.757566\n",
       "25%      90.543652\n",
       "50%      91.034555\n",
       "75%      91.979007\n",
       "max      92.477244\n",
       "Name: Dummy Regressor, dtype: float64"
      ]
     },
     "execution_count": 5,
     "metadata": {},
     "output_type": "execute_result"
    }
   ],
   "source": [
    "# Dummy regressor\n",
    "from sklearn.dummy import DummyRegressor\n",
    "dummy = DummyRegressor()\n",
    "cv_results_dummy = cross_validate(\n",
    "    dummy, data, target, cv=cv, scoring=\"neg_mean_absolute_error\", return_train_score=True\n",
    ")\n",
    "errors_dummy = pd.Series(-cv_results_dummy[\"test_score\"], name=\"Dummy Regressor\")\n",
    "errors_dummy.describe()"
   ]
  },
  {
   "cell_type": "code",
   "execution_count": 6,
   "id": "1780556e",
   "metadata": {},
   "outputs": [
    {
     "data": {
      "text/plain": [
       "Text(0, 0.5, 'Mean Absolute Error (in $1000s)')"
      ]
     },
     "execution_count": 6,
     "metadata": {},
     "output_type": "execute_result"
    },
    {
     "data": {
      "image/png": "[encoded data removed]",
      "text/plain": [
       "<Figure size 800x600 with 1 Axes>"
      ]
     },
     "metadata": {},
     "output_type": "display_data"
    }
   ],
   "source": [
    "all_errors = pd.concat([errors_tree, errors_dummy], axis=1)\n",
    "plt.figure(figsize=(8, 6))\n",
    "sns.boxplot(data=all_errors)\n",
    "plt.ylabel(\"Mean Absolute Error (in $1000s)\")"
   ]
  },
  {
   "cell_type": "code",
   "execution_count": 7,
   "id": "278f47c3",
   "metadata": {},
   "outputs": [
    {
     "data": {
      "text/plain": [
       "Text(0, 0.5, 'R2 Score')"
      ]
     },
     "execution_count": 7,
     "metadata": {},
     "output_type": "execute_result"
    },
    {
     "data": {
      "image/png": "[encoded data removed]",
      "text/plain": [
       "<Figure size 800x600 with 1 Axes>"
      ]
     },
     "metadata": {},
     "output_type": "display_data"
    }
   ],
   "source": [
    "cv_results_tree = cross_validate(\n",
    "    regressor, data, target, cv=cv, scoring=\"r2\", return_train_score=True\n",
    ")\n",
    "errors_tree_r2 = pd.Series(cv_results_tree[\"test_score\"], name=\"Decision Tree R2\")\n",
    "\n",
    "cv_results_dummy = cross_validate(\n",
    "    dummy, data, target, cv=cv, scoring=\"r2\", return_train_score=True\n",
    ")\n",
    "errors_dummy_r2 = pd.Series(cv_results_dummy[\"test_score\"], name=\"Dummy Regressor R2\")\n",
    "\n",
    "all_errors_r2 = pd.concat([errors_tree_r2, errors_dummy_r2], axis=1)\n",
    "plt.figure(figsize=(8, 6))\n",
    "sns.boxplot(data=all_errors_r2)\n",
    "plt.ylabel(\"R2 Score\")"
   ]
  },
  {
   "cell_type": "code",
   "execution_count": 8,
   "id": "42c48e93",
   "metadata": {},
   "outputs": [],
   "source": [
    "# Exercise M7.01\n",
    "# Dummy classifier\n",
    "\n",
    "adult_census = pd.read_csv(\"data/adult-census-numeric-all.csv\")\n",
    "data, target = adult_census.drop(columns=\"class\"), adult_census[\"class\"]"
   ]
  },
  {
   "cell_type": "code",
   "execution_count": 9,
   "id": "2c930b25",
   "metadata": {},
   "outputs": [],
   "source": [
    "# Create a shuffle cv\n",
    "from sklearn.model_selection import ShuffleSplit\n",
    "cv = ShuffleSplit(n_splits=10, test_size=0.2, random_state=0)"
   ]
  },
  {
   "cell_type": "code",
   "execution_count": 10,
   "id": "16fa097c",
   "metadata": {},
   "outputs": [],
   "source": [
    "# Create a pipeline with StandardScalar and LogisticRegression\n",
    "from sklearn.pipeline import make_pipeline\n",
    "from sklearn.preprocessing import StandardScaler\n",
    "from sklearn.linear_model import LogisticRegression\n",
    "\n",
    "logistic_pipe = make_pipeline(\n",
    "    StandardScaler(), LogisticRegression(max_iter=1000)\n",
    ")\n"
   ]
  },
  {
   "cell_type": "code",
   "execution_count": 11,
   "id": "32b27544",
   "metadata": {},
   "outputs": [
    {
     "data": {
      "application/vnd.microsoft.datawrangler.viewer.v0+json": {
       "columns": [
        {
         "name": "index",
         "rawType": "int64",
         "type": "integer"
        },
        {
         "name": "fit_time",
         "rawType": "float64",
         "type": "float"
        },
        {
         "name": "score_time",
         "rawType": "float64",
         "type": "float"
        },
        {
         "name": "test_score",
         "rawType": "float64",
         "type": "float"
        },
        {
         "name": "train_score",
         "rawType": "float64",
         "type": "float"
        }
       ],
       "ref": "fa45615d-beb9-417c-80cd-1ade81da798d",
       "rows": [
        [
         "0",
         "0.045743703842163086",
         "0.00817728042602539",
         "0.8122632818098066",
         "0.8144498758733653"
        ],
        [
         "1",
         "0.04325556755065918",
         "0.006819486618041992",
         "0.8139011157743884",
         "0.8140915721853965"
        ],
        [
         "2",
         "0.04436922073364258",
         "0.007113933563232422",
         "0.8186098884225612",
         "0.8130934404831981"
        ],
        [
         "3",
         "0.04351377487182617",
         "0.006329774856567383",
         "0.8082710615211383",
         "0.8155503800578404"
        ],
        [
         "4",
         "0.04088759422302246",
         "0.006730079650878906",
         "0.8081686968983519",
         "0.8155503800578404"
        ],
        [
         "5",
         "0.04158520698547363",
         "0.0067059993743896484",
         "0.8167673252124066",
         "0.813477337291736"
        ],
        [
         "6",
         "0.04436945915222168",
         "0.006764650344848633",
         "0.8082710615211383",
         "0.8155247869372713"
        ],
        [
         "7",
         "0.04061269760131836",
         "0.006239175796508789",
         "0.8125703756781656",
         "0.8145010621145036"
        ],
        [
         "8",
         "0.04042196273803711",
         "0.0069200992584228516",
         "0.8143105742655339",
         "0.8137332684974279"
        ],
        [
         "9",
         "0.04292106628417969",
         "0.006044864654541016",
         "0.8167673252124066",
         "0.8137076753768587"
        ]
       ],
       "shape": {
        "columns": 4,
        "rows": 10
       }
      },
      "text/html": [
       "<div>\n",
       "<style scoped>\n",
       "    .dataframe tbody tr th:only-of-type {\n",
       "        vertical-align: middle;\n",
       "    }\n",
       "\n",
       "    .dataframe tbody tr th {\n",
       "        vertical-align: top;\n",
       "    }\n",
       "\n",
       "    .dataframe thead th {\n",
       "        text-align: right;\n",
       "    }\n",
       "</style>\n",
       "<table border=\"1\" class=\"dataframe\">\n",
       "  <thead>\n",
       "    <tr style=\"text-align: right;\">\n",
       "      <th></th>\n",
       "      <th>fit_time</th>\n",
       "      <th>score_time</th>\n",
       "      <th>test_score</th>\n",
       "      <th>train_score</th>\n",
       "    </tr>\n",
       "  </thead>\n",
       "  <tbody>\n",
       "    <tr>\n",
       "      <th>0</th>\n",
       "      <td>0.045744</td>\n",
       "      <td>0.008177</td>\n",
       "      <td>0.812263</td>\n",
       "      <td>0.814450</td>\n",
       "    </tr>\n",
       "    <tr>\n",
       "      <th>1</th>\n",
       "      <td>0.043256</td>\n",
       "      <td>0.006819</td>\n",
       "      <td>0.813901</td>\n",
       "      <td>0.814092</td>\n",
       "    </tr>\n",
       "    <tr>\n",
       "      <th>2</th>\n",
       "      <td>0.044369</td>\n",
       "      <td>0.007114</td>\n",
       "      <td>0.818610</td>\n",
       "      <td>0.813093</td>\n",
       "    </tr>\n",
       "    <tr>\n",
       "      <th>3</th>\n",
       "      <td>0.043514</td>\n",
       "      <td>0.006330</td>\n",
       "      <td>0.808271</td>\n",
       "      <td>0.815550</td>\n",
       "    </tr>\n",
       "    <tr>\n",
       "      <th>4</th>\n",
       "      <td>0.040888</td>\n",
       "      <td>0.006730</td>\n",
       "      <td>0.808169</td>\n",
       "      <td>0.815550</td>\n",
       "    </tr>\n",
       "    <tr>\n",
       "      <th>5</th>\n",
       "      <td>0.041585</td>\n",
       "      <td>0.006706</td>\n",
       "      <td>0.816767</td>\n",
       "      <td>0.813477</td>\n",
       "    </tr>\n",
       "    <tr>\n",
       "      <th>6</th>\n",
       "      <td>0.044369</td>\n",
       "      <td>0.006765</td>\n",
       "      <td>0.808271</td>\n",
       "      <td>0.815525</td>\n",
       "    </tr>\n",
       "    <tr>\n",
       "      <th>7</th>\n",
       "      <td>0.040613</td>\n",
       "      <td>0.006239</td>\n",
       "      <td>0.812570</td>\n",
       "      <td>0.814501</td>\n",
       "    </tr>\n",
       "    <tr>\n",
       "      <th>8</th>\n",
       "      <td>0.040422</td>\n",
       "      <td>0.006920</td>\n",
       "      <td>0.814311</td>\n",
       "      <td>0.813733</td>\n",
       "    </tr>\n",
       "    <tr>\n",
       "      <th>9</th>\n",
       "      <td>0.042921</td>\n",
       "      <td>0.006045</td>\n",
       "      <td>0.816767</td>\n",
       "      <td>0.813708</td>\n",
       "    </tr>\n",
       "  </tbody>\n",
       "</table>\n",
       "</div>"
      ],
      "text/plain": [
       "   fit_time  score_time  test_score  train_score\n",
       "0  0.045744    0.008177    0.812263     0.814450\n",
       "1  0.043256    0.006819    0.813901     0.814092\n",
       "2  0.044369    0.007114    0.818610     0.813093\n",
       "3  0.043514    0.006330    0.808271     0.815550\n",
       "4  0.040888    0.006730    0.808169     0.815550\n",
       "5  0.041585    0.006706    0.816767     0.813477\n",
       "6  0.044369    0.006765    0.808271     0.815525\n",
       "7  0.040613    0.006239    0.812570     0.814501\n",
       "8  0.040422    0.006920    0.814311     0.813733\n",
       "9  0.042921    0.006045    0.816767     0.813708"
      ]
     },
     "execution_count": 11,
     "metadata": {},
     "output_type": "execute_result"
    }
   ],
   "source": [
    "# Compute cross-validation scores\n",
    "from sklearn.model_selection import cross_validate\n",
    "cv_logistic = cross_validate(\n",
    "    logistic_pipe, data, target, cv=cv, scoring=\"accuracy\", return_train_score=True\n",
    ")\n",
    "cv_logistic_df = pd.DataFrame(cv_logistic)\n",
    "cv_logistic_df"
   ]
  },
  {
   "cell_type": "code",
   "execution_count": 12,
   "id": "4bda31af",
   "metadata": {},
   "outputs": [
    {
     "data": {
      "application/vnd.microsoft.datawrangler.viewer.v0+json": {
       "columns": [
        {
         "name": "index",
         "rawType": "int64",
         "type": "integer"
        },
        {
         "name": "fit_time",
         "rawType": "float64",
         "type": "float"
        },
        {
         "name": "score_time",
         "rawType": "float64",
         "type": "float"
        },
        {
         "name": "test_score",
         "rawType": "float64",
         "type": "float"
        },
        {
         "name": "train_score",
         "rawType": "float64",
         "type": "float"
        }
       ],
       "ref": "c4a32cfa-4ea1-492a-a559-4ff4cc42601f",
       "rows": [
        [
         "0",
         "0.010179281234741211",
         "0.005880594253540039",
         "0.7595455010748285",
         "0.7610114401248944"
        ],
        [
         "1",
         "0.010287761688232422",
         "0.0049440860748291016",
         "0.7541201760671512",
         "0.7623678755150616"
        ],
        [
         "2",
         "0.008075952529907227",
         "0.004824638366699219",
         "0.7639471798546422",
         "0.7599109359404193"
        ],
        [
         "3",
         "0.008176088333129883",
         "0.005023479461669922",
         "0.7587265840925376",
         "0.761216185089448"
        ],
        [
         "4",
         "0.008137702941894531",
         "0.0046367645263671875",
         "0.7602620534343331",
         "0.7608322882809101"
        ],
        [
         "5",
         "0.008400678634643555",
         "0.004683256149291992",
         "0.761080970416624",
         "0.7606275433163565"
        ],
        [
         "6",
         "0.008204936981201172",
         "0.004582881927490234",
         "0.7540178114443649",
         "0.7623934686356307"
        ],
        [
         "7",
         "0.008630752563476562",
         "0.005326032638549805",
         "0.7596478656976149",
         "0.7609858470043253"
        ],
        [
         "8",
         "0.008390188217163086",
         "0.005461692810058594",
         "0.7649708260825059",
         "0.7596550047347274"
        ],
        [
         "9",
         "0.010806560516357422",
         "0.004752635955810547",
         "0.7657897430647969",
         "0.7594502597701738"
        ]
       ],
       "shape": {
        "columns": 4,
        "rows": 10
       }
      },
      "text/html": [
       "<div>\n",
       "<style scoped>\n",
       "    .dataframe tbody tr th:only-of-type {\n",
       "        vertical-align: middle;\n",
       "    }\n",
       "\n",
       "    .dataframe tbody tr th {\n",
       "        vertical-align: top;\n",
       "    }\n",
       "\n",
       "    .dataframe thead th {\n",
       "        text-align: right;\n",
       "    }\n",
       "</style>\n",
       "<table border=\"1\" class=\"dataframe\">\n",
       "  <thead>\n",
       "    <tr style=\"text-align: right;\">\n",
       "      <th></th>\n",
       "      <th>fit_time</th>\n",
       "      <th>score_time</th>\n",
       "      <th>test_score</th>\n",
       "      <th>train_score</th>\n",
       "    </tr>\n",
       "  </thead>\n",
       "  <tbody>\n",
       "    <tr>\n",
       "      <th>0</th>\n",
       "      <td>0.010179</td>\n",
       "      <td>0.005881</td>\n",
       "      <td>0.759546</td>\n",
       "      <td>0.761011</td>\n",
       "    </tr>\n",
       "    <tr>\n",
       "      <th>1</th>\n",
       "      <td>0.010288</td>\n",
       "      <td>0.004944</td>\n",
       "      <td>0.754120</td>\n",
       "      <td>0.762368</td>\n",
       "    </tr>\n",
       "    <tr>\n",
       "      <th>2</th>\n",
       "      <td>0.008076</td>\n",
       "      <td>0.004825</td>\n",
       "      <td>0.763947</td>\n",
       "      <td>0.759911</td>\n",
       "    </tr>\n",
       "    <tr>\n",
       "      <th>3</th>\n",
       "      <td>0.008176</td>\n",
       "      <td>0.005023</td>\n",
       "      <td>0.758727</td>\n",
       "      <td>0.761216</td>\n",
       "    </tr>\n",
       "    <tr>\n",
       "      <th>4</th>\n",
       "      <td>0.008138</td>\n",
       "      <td>0.004637</td>\n",
       "      <td>0.760262</td>\n",
       "      <td>0.760832</td>\n",
       "    </tr>\n",
       "    <tr>\n",
       "      <th>5</th>\n",
       "      <td>0.008401</td>\n",
       "      <td>0.004683</td>\n",
       "      <td>0.761081</td>\n",
       "      <td>0.760628</td>\n",
       "    </tr>\n",
       "    <tr>\n",
       "      <th>6</th>\n",
       "      <td>0.008205</td>\n",
       "      <td>0.004583</td>\n",
       "      <td>0.754018</td>\n",
       "      <td>0.762393</td>\n",
       "    </tr>\n",
       "    <tr>\n",
       "      <th>7</th>\n",
       "      <td>0.008631</td>\n",
       "      <td>0.005326</td>\n",
       "      <td>0.759648</td>\n",
       "      <td>0.760986</td>\n",
       "    </tr>\n",
       "    <tr>\n",
       "      <th>8</th>\n",
       "      <td>0.008390</td>\n",
       "      <td>0.005462</td>\n",
       "      <td>0.764971</td>\n",
       "      <td>0.759655</td>\n",
       "    </tr>\n",
       "    <tr>\n",
       "      <th>9</th>\n",
       "      <td>0.010807</td>\n",
       "      <td>0.004753</td>\n",
       "      <td>0.765790</td>\n",
       "      <td>0.759450</td>\n",
       "    </tr>\n",
       "  </tbody>\n",
       "</table>\n",
       "</div>"
      ],
      "text/plain": [
       "   fit_time  score_time  test_score  train_score\n",
       "0  0.010179    0.005881    0.759546     0.761011\n",
       "1  0.010288    0.004944    0.754120     0.762368\n",
       "2  0.008076    0.004825    0.763947     0.759911\n",
       "3  0.008176    0.005023    0.758727     0.761216\n",
       "4  0.008138    0.004637    0.760262     0.760832\n",
       "5  0.008401    0.004683    0.761081     0.760628\n",
       "6  0.008205    0.004583    0.754018     0.762393\n",
       "7  0.008631    0.005326    0.759648     0.760986\n",
       "8  0.008390    0.005462    0.764971     0.759655\n",
       "9  0.010807    0.004753    0.765790     0.759450"
      ]
     },
     "execution_count": 12,
     "metadata": {},
     "output_type": "execute_result"
    }
   ],
   "source": [
    "# Create a dummy classifier that constantly predicts the most frequent class\n",
    "from sklearn.dummy import DummyClassifier\n",
    "dummy = DummyClassifier(strategy=\"most_frequent\")\n",
    "cv_dummy = cross_validate(\n",
    "    dummy, data, target, cv=cv, scoring=\"accuracy\", return_train_score=True\n",
    ")\n",
    "cv_dummy_df = pd.DataFrame(cv_dummy)\n",
    "cv_dummy_df"
   ]
  },
  {
   "cell_type": "code",
   "execution_count": 13,
   "id": "9e0a7c91",
   "metadata": {},
   "outputs": [
    {
     "data": {
      "application/vnd.microsoft.datawrangler.viewer.v0+json": {
       "columns": [
        {
         "name": "index",
         "rawType": "int64",
         "type": "integer"
        },
        {
         "name": "Logistic Regression",
         "rawType": "float64",
         "type": "float"
        },
        {
         "name": "Dummy Classifier",
         "rawType": "float64",
         "type": "float"
        },
        {
         "name": "difference",
         "rawType": "float64",
         "type": "float"
        }
       ],
       "ref": "aca297a9-b3d2-4b57-b856-a5d4685d8e36",
       "rows": [
        [
         "0",
         "0.8122632818098066",
         "0.7595455010748285",
         "0.052717780734978015"
        ],
        [
         "1",
         "0.8139011157743884",
         "0.7541201760671512",
         "0.05978093970723719"
        ],
        [
         "2",
         "0.8186098884225612",
         "0.7639471798546422",
         "0.054662708567918994"
        ],
        [
         "3",
         "0.8082710615211383",
         "0.7587265840925376",
         "0.049544477428600686"
        ],
        [
         "4",
         "0.8081686968983519",
         "0.7602620534343331",
         "0.04790664346401885"
        ],
        [
         "5",
         "0.8167673252124066",
         "0.761080970416624",
         "0.055686354795782544"
        ],
        [
         "6",
         "0.8082710615211383",
         "0.7540178114443649",
         "0.054253250076773396"
        ],
        [
         "7",
         "0.8125703756781656",
         "0.7596478656976149",
         "0.0529225099805507"
        ],
        [
         "8",
         "0.8143105742655339",
         "0.7649708260825059",
         "0.049339748183028"
        ],
        [
         "9",
         "0.8167673252124066",
         "0.7657897430647969",
         "0.050977582147609724"
        ]
       ],
       "shape": {
        "columns": 3,
        "rows": 10
       }
      },
      "text/html": [
       "<div>\n",
       "<style scoped>\n",
       "    .dataframe tbody tr th:only-of-type {\n",
       "        vertical-align: middle;\n",
       "    }\n",
       "\n",
       "    .dataframe tbody tr th {\n",
       "        vertical-align: top;\n",
       "    }\n",
       "\n",
       "    .dataframe thead th {\n",
       "        text-align: right;\n",
       "    }\n",
       "</style>\n",
       "<table border=\"1\" class=\"dataframe\">\n",
       "  <thead>\n",
       "    <tr style=\"text-align: right;\">\n",
       "      <th></th>\n",
       "      <th>Logistic Regression</th>\n",
       "      <th>Dummy Classifier</th>\n",
       "      <th>difference</th>\n",
       "    </tr>\n",
       "  </thead>\n",
       "  <tbody>\n",
       "    <tr>\n",
       "      <th>0</th>\n",
       "      <td>0.812263</td>\n",
       "      <td>0.759546</td>\n",
       "      <td>0.052718</td>\n",
       "    </tr>\n",
       "    <tr>\n",
       "      <th>1</th>\n",
       "      <td>0.813901</td>\n",
       "      <td>0.754120</td>\n",
       "      <td>0.059781</td>\n",
       "    </tr>\n",
       "    <tr>\n",
       "      <th>2</th>\n",
       "      <td>0.818610</td>\n",
       "      <td>0.763947</td>\n",
       "      <td>0.054663</td>\n",
       "    </tr>\n",
       "    <tr>\n",
       "      <th>3</th>\n",
       "      <td>0.808271</td>\n",
       "      <td>0.758727</td>\n",
       "      <td>0.049544</td>\n",
       "    </tr>\n",
       "    <tr>\n",
       "      <th>4</th>\n",
       "      <td>0.808169</td>\n",
       "      <td>0.760262</td>\n",
       "      <td>0.047907</td>\n",
       "    </tr>\n",
       "    <tr>\n",
       "      <th>5</th>\n",
       "      <td>0.816767</td>\n",
       "      <td>0.761081</td>\n",
       "      <td>0.055686</td>\n",
       "    </tr>\n",
       "    <tr>\n",
       "      <th>6</th>\n",
       "      <td>0.808271</td>\n",
       "      <td>0.754018</td>\n",
       "      <td>0.054253</td>\n",
       "    </tr>\n",
       "    <tr>\n",
       "      <th>7</th>\n",
       "      <td>0.812570</td>\n",
       "      <td>0.759648</td>\n",
       "      <td>0.052923</td>\n",
       "    </tr>\n",
       "    <tr>\n",
       "      <th>8</th>\n",
       "      <td>0.814311</td>\n",
       "      <td>0.764971</td>\n",
       "      <td>0.049340</td>\n",
       "    </tr>\n",
       "    <tr>\n",
       "      <th>9</th>\n",
       "      <td>0.816767</td>\n",
       "      <td>0.765790</td>\n",
       "      <td>0.050978</td>\n",
       "    </tr>\n",
       "  </tbody>\n",
       "</table>\n",
       "</div>"
      ],
      "text/plain": [
       "   Logistic Regression  Dummy Classifier  difference\n",
       "0             0.812263          0.759546    0.052718\n",
       "1             0.813901          0.754120    0.059781\n",
       "2             0.818610          0.763947    0.054663\n",
       "3             0.808271          0.758727    0.049544\n",
       "4             0.808169          0.760262    0.047907\n",
       "5             0.816767          0.761081    0.055686\n",
       "6             0.808271          0.754018    0.054253\n",
       "7             0.812570          0.759648    0.052923\n",
       "8             0.814311          0.764971    0.049340\n",
       "9             0.816767          0.765790    0.050978"
      ]
     },
     "execution_count": 13,
     "metadata": {},
     "output_type": "execute_result"
    }
   ],
   "source": [
    "cv_all = pd.concat([cv_logistic_df[\"test_score\"], cv_dummy_df[\"test_score\"]], axis=1)\n",
    "cv_all.columns = [\"Logistic Regression\", \"Dummy Classifier\"]\n",
    "cv_all['difference'] = cv_all[\"Logistic Regression\"] - cv_all[\"Dummy Classifier\"]\n",
    "cv_all"
   ]
  },
  {
   "cell_type": "code",
   "execution_count": 14,
   "id": "49f4f464",
   "metadata": {},
   "outputs": [
    {
     "data": {
      "text/plain": [
       "Text(0, 0.5, 'Accuracy')"
      ]
     },
     "execution_count": 14,
     "metadata": {},
     "output_type": "execute_result"
    },
    {
     "data": {
      "image/png": "[encoded data removed]",
      "text/plain": [
       "<Figure size 800x600 with 1 Axes>"
      ]
     },
     "metadata": {},
     "output_type": "display_data"
    }
   ],
   "source": [
    "cv_all.plot.box(figsize=(8, 6))\n",
    "plt.ylabel(\"Accuracy\")"
   ]
  },
  {
   "cell_type": "code",
   "execution_count": 15,
   "id": "48032bd5",
   "metadata": {},
   "outputs": [
    {
     "data": {
      "text/plain": [
       "Text(0, 0.5, 'Accuracy')"
      ]
     },
     "execution_count": 15,
     "metadata": {},
     "output_type": "execute_result"
    },
    {
     "data": {
      "image/png": "[encoded data removed]",
      "text/plain": [
       "<Figure size 800x600 with 1 Axes>"
      ]
     },
     "metadata": {},
     "output_type": "display_data"
    }
   ],
   "source": [
    "dummy2 = DummyClassifier(strategy=\"stratified\")\n",
    "cv_dummy2 = cross_validate(\n",
    "    dummy2, data, target, cv=cv, scoring=\"accuracy\", return_train_score=True\n",
    ")\n",
    "cv_dummy2_df = pd.DataFrame(cv_dummy2)\n",
    "\n",
    "dummy3 = DummyClassifier(strategy=\"uniform\")\n",
    "cv_dummy3 = cross_validate(\n",
    "    dummy3, data, target, cv=cv, scoring=\"accuracy\", return_train_score=True\n",
    ")\n",
    "cv_dummy3_df = pd.DataFrame(cv_dummy3)\n",
    "\n",
    "cv_all_extended = pd.concat(\n",
    "    [\n",
    "        cv_logistic_df[\"test_score\"],\n",
    "        cv_dummy_df[\"test_score\"],\n",
    "        cv_dummy2_df[\"test_score\"],\n",
    "        cv_dummy3_df[\"test_score\"],\n",
    "    ],\n",
    "    axis=1,\n",
    ")\n",
    "cv_all_extended.columns = [\n",
    "    \"Logistic Regression\",\n",
    "    \"Dummy Classifier (Most Frequent)\",\n",
    "    \"Dummy Classifier (Stratified)\",\n",
    "    \"Dummy Classifier (Uniform)\",\n",
    "]\n",
    "cv_all_extended.plot.box(figsize=(8, 6))\n",
    "plt.ylabel(\"Accuracy\")"
   ]
  },
  {
   "cell_type": "code",
   "execution_count": null,
   "id": "70c6d418",
   "metadata": {},
   "outputs": [],
   "source": []
  }
 ],
 "metadata": {
  "kernelspec": {
   "display_name": "Learning",
   "language": "python",
   "name": "python3"
  },
  "language_info": {
   "codemirror_mode": {
    "name": "ipython",
    "version": 3
   },
   "file_extension": ".py",
   "mimetype": "text/x-python",
   "name": "python",
   "nbconvert_exporter": "python",
   "pygments_lexer": "ipython3",
   "version": "3.13.7"
  }
 },
 "nbformat": 4,
 "nbformat_minor": 5
}
