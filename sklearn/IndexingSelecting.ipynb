{
 "cells": [
  {
   "cell_type": "code",
   "execution_count": 70,
   "id": "a5b08830",
   "metadata": {},
   "outputs": [
    {
     "name": "stdout",
     "output_type": "stream",
     "text": [
      "2.3.2\n"
     ]
    }
   ],
   "source": [
    "import numpy as np\n",
    "import pandas as pd\n",
    "import matplotlib.pyplot as plt\n",
    "print(pd.__version__)"
   ]
  },
  {
   "cell_type": "code",
   "execution_count": 71,
   "id": "36378562",
   "metadata": {},
   "outputs": [
    {
     "data": {
      "application/vnd.microsoft.datawrangler.viewer.v0+json": {
       "columns": [
        {
         "name": "index",
         "rawType": "int64",
         "type": "integer"
        },
        {
         "name": "foo",
         "rawType": "int64",
         "type": "integer"
        },
        {
         "name": "bar",
         "rawType": "int64",
         "type": "integer"
        }
       ],
       "ref": "89d37a1c-47fa-4fa1-911d-a233fceed7c3",
       "rows": [
        [
         "0",
         "1",
         "4"
        ],
        [
         "1",
         "2",
         "5"
        ],
        [
         "2",
         "3",
         "6"
        ]
       ],
       "shape": {
        "columns": 2,
        "rows": 3
       }
      },
      "text/html": [
       "<div>\n",
       "<style scoped>\n",
       "    .dataframe tbody tr th:only-of-type {\n",
       "        vertical-align: middle;\n",
       "    }\n",
       "\n",
       "    .dataframe tbody tr th {\n",
       "        vertical-align: top;\n",
       "    }\n",
       "\n",
       "    .dataframe thead th {\n",
       "        text-align: right;\n",
       "    }\n",
       "</style>\n",
       "<table border=\"1\" class=\"dataframe\">\n",
       "  <thead>\n",
       "    <tr style=\"text-align: right;\">\n",
       "      <th></th>\n",
       "      <th>foo</th>\n",
       "      <th>bar</th>\n",
       "    </tr>\n",
       "  </thead>\n",
       "  <tbody>\n",
       "    <tr>\n",
       "      <th>0</th>\n",
       "      <td>1</td>\n",
       "      <td>4</td>\n",
       "    </tr>\n",
       "    <tr>\n",
       "      <th>1</th>\n",
       "      <td>2</td>\n",
       "      <td>5</td>\n",
       "    </tr>\n",
       "    <tr>\n",
       "      <th>2</th>\n",
       "      <td>3</td>\n",
       "      <td>6</td>\n",
       "    </tr>\n",
       "  </tbody>\n",
       "</table>\n",
       "</div>"
      ],
      "text/plain": [
       "   foo  bar\n",
       "0    1    4\n",
       "1    2    5\n",
       "2    3    6"
      ]
     },
     "execution_count": 71,
     "metadata": {},
     "output_type": "execute_result"
    }
   ],
   "source": [
    "df = pd.DataFrame({\"foo\": [1, 2, 3], \"bar\": [4, 5, 6]})\n",
    "subset = df[\"foo\"]\n",
    "subset.iloc[0] = 100\n",
    "df"
   ]
  },
  {
   "cell_type": "code",
   "execution_count": 72,
   "id": "97e12f58",
   "metadata": {},
   "outputs": [],
   "source": [
    "pd.options.mode.copy_on_write = True"
   ]
  },
  {
   "cell_type": "code",
   "execution_count": 73,
   "id": "2231287f",
   "metadata": {},
   "outputs": [
    {
     "data": {
      "application/vnd.microsoft.datawrangler.viewer.v0+json": {
       "columns": [
        {
         "name": "index",
         "rawType": "int64",
         "type": "integer"
        },
        {
         "name": "foo",
         "rawType": "int64",
         "type": "integer"
        },
        {
         "name": "bar",
         "rawType": "int64",
         "type": "integer"
        }
       ],
       "ref": "461a884e-bf79-4a49-9e47-92b93f1aecdc",
       "rows": [
        [
         "0",
         "1",
         "4"
        ],
        [
         "1",
         "2",
         "5"
        ],
        [
         "2",
         "3",
         "6"
        ]
       ],
       "shape": {
        "columns": 2,
        "rows": 3
       }
      },
      "text/html": [
       "<div>\n",
       "<style scoped>\n",
       "    .dataframe tbody tr th:only-of-type {\n",
       "        vertical-align: middle;\n",
       "    }\n",
       "\n",
       "    .dataframe tbody tr th {\n",
       "        vertical-align: top;\n",
       "    }\n",
       "\n",
       "    .dataframe thead th {\n",
       "        text-align: right;\n",
       "    }\n",
       "</style>\n",
       "<table border=\"1\" class=\"dataframe\">\n",
       "  <thead>\n",
       "    <tr style=\"text-align: right;\">\n",
       "      <th></th>\n",
       "      <th>foo</th>\n",
       "      <th>bar</th>\n",
       "    </tr>\n",
       "  </thead>\n",
       "  <tbody>\n",
       "    <tr>\n",
       "      <th>0</th>\n",
       "      <td>1</td>\n",
       "      <td>4</td>\n",
       "    </tr>\n",
       "    <tr>\n",
       "      <th>1</th>\n",
       "      <td>2</td>\n",
       "      <td>5</td>\n",
       "    </tr>\n",
       "    <tr>\n",
       "      <th>2</th>\n",
       "      <td>3</td>\n",
       "      <td>6</td>\n",
       "    </tr>\n",
       "  </tbody>\n",
       "</table>\n",
       "</div>"
      ],
      "text/plain": [
       "   foo  bar\n",
       "0    1    4\n",
       "1    2    5\n",
       "2    3    6"
      ]
     },
     "execution_count": 73,
     "metadata": {},
     "output_type": "execute_result"
    }
   ],
   "source": [
    "df = pd.DataFrame({\"foo\": [1, 2, 3], \"bar\": [4, 5, 6]})\n",
    "subset = df[\"foo\"]\n",
    "subset.iloc[0] = 100\n",
    "df"
   ]
  },
  {
   "cell_type": "code",
   "execution_count": 74,
   "id": "b8b29629",
   "metadata": {},
   "outputs": [
    {
     "data": {
      "application/vnd.microsoft.datawrangler.viewer.v0+json": {
       "columns": [
        {
         "name": "index",
         "rawType": "object",
         "type": "string"
        },
        {
         "name": "a",
         "rawType": "int64",
         "type": "integer"
        },
        {
         "name": "b",
         "rawType": "int64",
         "type": "integer"
        },
        {
         "name": "c",
         "rawType": "int64",
         "type": "integer"
        },
        {
         "name": "d",
         "rawType": "int64",
         "type": "integer"
        },
        {
         "name": "e",
         "rawType": "int64",
         "type": "integer"
        }
       ],
       "ref": "2d3f7796-ba6c-494c-a07a-b949e64e0f70",
       "rows": [
        [
         "a",
         "0",
         "1",
         "2",
         "3",
         "4"
        ],
        [
         "b",
         "5",
         "6",
         "7",
         "8",
         "9"
        ],
        [
         "c",
         "10",
         "11",
         "12",
         "13",
         "14"
        ],
        [
         "d",
         "15",
         "16",
         "17",
         "18",
         "19"
        ],
        [
         "e",
         "20",
         "21",
         "22",
         "23",
         "24"
        ]
       ],
       "shape": {
        "columns": 5,
        "rows": 5
       }
      },
      "text/html": [
       "<div>\n",
       "<style scoped>\n",
       "    .dataframe tbody tr th:only-of-type {\n",
       "        vertical-align: middle;\n",
       "    }\n",
       "\n",
       "    .dataframe tbody tr th {\n",
       "        vertical-align: top;\n",
       "    }\n",
       "\n",
       "    .dataframe thead th {\n",
       "        text-align: right;\n",
       "    }\n",
       "</style>\n",
       "<table border=\"1\" class=\"dataframe\">\n",
       "  <thead>\n",
       "    <tr style=\"text-align: right;\">\n",
       "      <th></th>\n",
       "      <th>a</th>\n",
       "      <th>b</th>\n",
       "      <th>c</th>\n",
       "      <th>d</th>\n",
       "      <th>e</th>\n",
       "    </tr>\n",
       "  </thead>\n",
       "  <tbody>\n",
       "    <tr>\n",
       "      <th>a</th>\n",
       "      <td>0</td>\n",
       "      <td>1</td>\n",
       "      <td>2</td>\n",
       "      <td>3</td>\n",
       "      <td>4</td>\n",
       "    </tr>\n",
       "    <tr>\n",
       "      <th>b</th>\n",
       "      <td>5</td>\n",
       "      <td>6</td>\n",
       "      <td>7</td>\n",
       "      <td>8</td>\n",
       "      <td>9</td>\n",
       "    </tr>\n",
       "    <tr>\n",
       "      <th>c</th>\n",
       "      <td>10</td>\n",
       "      <td>11</td>\n",
       "      <td>12</td>\n",
       "      <td>13</td>\n",
       "      <td>14</td>\n",
       "    </tr>\n",
       "    <tr>\n",
       "      <th>d</th>\n",
       "      <td>15</td>\n",
       "      <td>16</td>\n",
       "      <td>17</td>\n",
       "      <td>18</td>\n",
       "      <td>19</td>\n",
       "    </tr>\n",
       "    <tr>\n",
       "      <th>e</th>\n",
       "      <td>20</td>\n",
       "      <td>21</td>\n",
       "      <td>22</td>\n",
       "      <td>23</td>\n",
       "      <td>24</td>\n",
       "    </tr>\n",
       "  </tbody>\n",
       "</table>\n",
       "</div>"
      ],
      "text/plain": [
       "    a   b   c   d   e\n",
       "a   0   1   2   3   4\n",
       "b   5   6   7   8   9\n",
       "c  10  11  12  13  14\n",
       "d  15  16  17  18  19\n",
       "e  20  21  22  23  24"
      ]
     },
     "execution_count": 74,
     "metadata": {},
     "output_type": "execute_result"
    }
   ],
   "source": [
    "df = pd.DataFrame(np.arange(25).reshape(5, 5), index=list(\"abcde\"), columns=list(\"abcde\"))\n",
    "df"
   ]
  },
  {
   "cell_type": "code",
   "execution_count": 75,
   "id": "5822b194",
   "metadata": {},
   "outputs": [
    {
     "data": {
      "application/vnd.microsoft.datawrangler.viewer.v0+json": {
       "columns": [
        {
         "name": "index",
         "rawType": "object",
         "type": "string"
        },
        {
         "name": "b",
         "rawType": "int64",
         "type": "integer"
        },
        {
         "name": "d",
         "rawType": "int64",
         "type": "integer"
        }
       ],
       "ref": "8e048f64-8324-47e2-ba25-b948fbda6f2a",
       "rows": [
        [
         "a",
         "1",
         "3"
        ],
        [
         "c",
         "11",
         "13"
        ],
        [
         "e",
         "21",
         "23"
        ]
       ],
       "shape": {
        "columns": 2,
        "rows": 3
       }
      },
      "text/html": [
       "<div>\n",
       "<style scoped>\n",
       "    .dataframe tbody tr th:only-of-type {\n",
       "        vertical-align: middle;\n",
       "    }\n",
       "\n",
       "    .dataframe tbody tr th {\n",
       "        vertical-align: top;\n",
       "    }\n",
       "\n",
       "    .dataframe thead th {\n",
       "        text-align: right;\n",
       "    }\n",
       "</style>\n",
       "<table border=\"1\" class=\"dataframe\">\n",
       "  <thead>\n",
       "    <tr style=\"text-align: right;\">\n",
       "      <th></th>\n",
       "      <th>b</th>\n",
       "      <th>d</th>\n",
       "    </tr>\n",
       "  </thead>\n",
       "  <tbody>\n",
       "    <tr>\n",
       "      <th>a</th>\n",
       "      <td>1</td>\n",
       "      <td>3</td>\n",
       "    </tr>\n",
       "    <tr>\n",
       "      <th>c</th>\n",
       "      <td>11</td>\n",
       "      <td>13</td>\n",
       "    </tr>\n",
       "    <tr>\n",
       "      <th>e</th>\n",
       "      <td>21</td>\n",
       "      <td>23</td>\n",
       "    </tr>\n",
       "  </tbody>\n",
       "</table>\n",
       "</div>"
      ],
      "text/plain": [
       "    b   d\n",
       "a   1   3\n",
       "c  11  13\n",
       "e  21  23"
      ]
     },
     "execution_count": 75,
     "metadata": {},
     "output_type": "execute_result"
    }
   ],
   "source": [
    "df.loc[[\"a\", \"c\", \"e\"], [\"b\", \"d\"]]"
   ]
  },
  {
   "cell_type": "code",
   "execution_count": 76,
   "id": "b844beab",
   "metadata": {},
   "outputs": [],
   "source": [
    "s = pd.Series(np.random.randn(5))"
   ]
  },
  {
   "cell_type": "code",
   "execution_count": 77,
   "id": "663850dc",
   "metadata": {},
   "outputs": [
    {
     "data": {
      "text/plain": [
       "pandas.core.series.Series"
      ]
     },
     "execution_count": 77,
     "metadata": {},
     "output_type": "execute_result"
    }
   ],
   "source": [
    "type(s[2:5])"
   ]
  },
  {
   "cell_type": "code",
   "execution_count": 78,
   "id": "61680c76",
   "metadata": {},
   "outputs": [],
   "source": [
    "df1 = pd.DataFrame(np.random.randn(6, 4),\n",
    "                   index=list('abcdef'),\n",
    "                   columns=list('ABCD'))"
   ]
  },
  {
   "cell_type": "code",
   "execution_count": 79,
   "id": "4faaad06",
   "metadata": {},
   "outputs": [
    {
     "data": {
      "application/vnd.microsoft.datawrangler.viewer.v0+json": {
       "columns": [
        {
         "name": "index",
         "rawType": "object",
         "type": "string"
        },
        {
         "name": "A",
         "rawType": "float64",
         "type": "float"
        },
        {
         "name": "B",
         "rawType": "float64",
         "type": "float"
        },
        {
         "name": "C",
         "rawType": "float64",
         "type": "float"
        },
        {
         "name": "D",
         "rawType": "float64",
         "type": "float"
        }
       ],
       "ref": "2e8a8fe4-4cbc-4b49-95e4-c46967603ac4",
       "rows": [
        [
         "a",
         "-0.5258386903782134",
         "0.10876967115732715",
         "-0.01790227938657725",
         "0.9312514442187376"
        ],
        [
         "b",
         "-1.2337837408595693",
         "-0.8605377493092449",
         "0.260541132987236",
         "0.05072762595960847"
        ],
        [
         "c",
         "0.9589330981533907",
         "-1.7559776108651601",
         "1.0016775899941903",
         "1.5459429353902678"
        ],
        [
         "d",
         "0.9352152213697301",
         "-0.9531854892473294",
         "0.44197682010110406",
         "-1.7815575827754329"
        ],
        [
         "e",
         "0.06550934479410908",
         "0.11818730371052298",
         "-0.9465742720171167",
         "-0.5886190899273073"
        ],
        [
         "f",
         "0.988193385858578",
         "-0.6911426367726778",
         "-0.2767470826592801",
         "0.9869837734225143"
        ]
       ],
       "shape": {
        "columns": 4,
        "rows": 6
       }
      },
      "text/html": [
       "<div>\n",
       "<style scoped>\n",
       "    .dataframe tbody tr th:only-of-type {\n",
       "        vertical-align: middle;\n",
       "    }\n",
       "\n",
       "    .dataframe tbody tr th {\n",
       "        vertical-align: top;\n",
       "    }\n",
       "\n",
       "    .dataframe thead th {\n",
       "        text-align: right;\n",
       "    }\n",
       "</style>\n",
       "<table border=\"1\" class=\"dataframe\">\n",
       "  <thead>\n",
       "    <tr style=\"text-align: right;\">\n",
       "      <th></th>\n",
       "      <th>A</th>\n",
       "      <th>B</th>\n",
       "      <th>C</th>\n",
       "      <th>D</th>\n",
       "    </tr>\n",
       "  </thead>\n",
       "  <tbody>\n",
       "    <tr>\n",
       "      <th>a</th>\n",
       "      <td>-0.525839</td>\n",
       "      <td>0.108770</td>\n",
       "      <td>-0.017902</td>\n",
       "      <td>0.931251</td>\n",
       "    </tr>\n",
       "    <tr>\n",
       "      <th>b</th>\n",
       "      <td>-1.233784</td>\n",
       "      <td>-0.860538</td>\n",
       "      <td>0.260541</td>\n",
       "      <td>0.050728</td>\n",
       "    </tr>\n",
       "    <tr>\n",
       "      <th>c</th>\n",
       "      <td>0.958933</td>\n",
       "      <td>-1.755978</td>\n",
       "      <td>1.001678</td>\n",
       "      <td>1.545943</td>\n",
       "    </tr>\n",
       "    <tr>\n",
       "      <th>d</th>\n",
       "      <td>0.935215</td>\n",
       "      <td>-0.953185</td>\n",
       "      <td>0.441977</td>\n",
       "      <td>-1.781558</td>\n",
       "    </tr>\n",
       "    <tr>\n",
       "      <th>e</th>\n",
       "      <td>0.065509</td>\n",
       "      <td>0.118187</td>\n",
       "      <td>-0.946574</td>\n",
       "      <td>-0.588619</td>\n",
       "    </tr>\n",
       "    <tr>\n",
       "      <th>f</th>\n",
       "      <td>0.988193</td>\n",
       "      <td>-0.691143</td>\n",
       "      <td>-0.276747</td>\n",
       "      <td>0.986984</td>\n",
       "    </tr>\n",
       "  </tbody>\n",
       "</table>\n",
       "</div>"
      ],
      "text/plain": [
       "          A         B         C         D\n",
       "a -0.525839  0.108770 -0.017902  0.931251\n",
       "b -1.233784 -0.860538  0.260541  0.050728\n",
       "c  0.958933 -1.755978  1.001678  1.545943\n",
       "d  0.935215 -0.953185  0.441977 -1.781558\n",
       "e  0.065509  0.118187 -0.946574 -0.588619\n",
       "f  0.988193 -0.691143 -0.276747  0.986984"
      ]
     },
     "execution_count": 79,
     "metadata": {},
     "output_type": "execute_result"
    }
   ],
   "source": [
    "df1"
   ]
  },
  {
   "cell_type": "code",
   "execution_count": 80,
   "id": "85e7b573",
   "metadata": {},
   "outputs": [
    {
     "data": {
      "application/vnd.microsoft.datawrangler.viewer.v0+json": {
       "columns": [
        {
         "name": "index",
         "rawType": "object",
         "type": "string"
        },
        {
         "name": "B",
         "rawType": "float64",
         "type": "float"
        }
       ],
       "ref": "ad8f8dba-7528-498f-bef8-9c0e63880cb6",
       "rows": [
        [
         "a",
         "0.10876967115732715"
        ],
        [
         "c",
         "-1.7559776108651601"
        ]
       ],
       "shape": {
        "columns": 1,
        "rows": 2
       }
      },
      "text/plain": [
       "a    0.108770\n",
       "c   -1.755978\n",
       "Name: B, dtype: float64"
      ]
     },
     "execution_count": 80,
     "metadata": {},
     "output_type": "execute_result"
    }
   ],
   "source": [
    "df1.loc[['a', 'c'], \"B\"]"
   ]
  },
  {
   "cell_type": "code",
   "execution_count": 81,
   "id": "4646e427",
   "metadata": {},
   "outputs": [
    {
     "data": {
      "application/vnd.microsoft.datawrangler.viewer.v0+json": {
       "columns": [
        {
         "name": "index",
         "rawType": "object",
         "type": "string"
        },
        {
         "name": "A",
         "rawType": "float64",
         "type": "float"
        },
        {
         "name": "B",
         "rawType": "float64",
         "type": "float"
        },
        {
         "name": "C",
         "rawType": "float64",
         "type": "float"
        },
        {
         "name": "D",
         "rawType": "float64",
         "type": "float"
        }
       ],
       "ref": "8add7582-fc20-48a5-b125-f4d0b60ebb76",
       "rows": [],
       "shape": {
        "columns": 4,
        "rows": 0
       }
      },
      "text/html": [
       "<div>\n",
       "<style scoped>\n",
       "    .dataframe tbody tr th:only-of-type {\n",
       "        vertical-align: middle;\n",
       "    }\n",
       "\n",
       "    .dataframe tbody tr th {\n",
       "        vertical-align: top;\n",
       "    }\n",
       "\n",
       "    .dataframe thead th {\n",
       "        text-align: right;\n",
       "    }\n",
       "</style>\n",
       "<table border=\"1\" class=\"dataframe\">\n",
       "  <thead>\n",
       "    <tr style=\"text-align: right;\">\n",
       "      <th></th>\n",
       "      <th>A</th>\n",
       "      <th>B</th>\n",
       "      <th>C</th>\n",
       "      <th>D</th>\n",
       "    </tr>\n",
       "  </thead>\n",
       "  <tbody>\n",
       "  </tbody>\n",
       "</table>\n",
       "</div>"
      ],
      "text/plain": [
       "Empty DataFrame\n",
       "Columns: [A, B, C, D]\n",
       "Index: []"
      ]
     },
     "execution_count": 81,
     "metadata": {},
     "output_type": "execute_result"
    }
   ],
   "source": [
    "df1.query('(B > 0) and (C > 0)')"
   ]
  },
  {
   "cell_type": "code",
   "execution_count": 82,
   "id": "46e04b39",
   "metadata": {},
   "outputs": [
    {
     "data": {
      "application/vnd.microsoft.datawrangler.viewer.v0+json": {
       "columns": [
        {
         "name": "index",
         "rawType": "object",
         "type": "string"
        },
        {
         "name": "B",
         "rawType": "float64",
         "type": "float"
        },
        {
         "name": "D",
         "rawType": "float64",
         "type": "float"
        }
       ],
       "ref": "eee3aedd-5ee2-4102-b1a1-a5291b14621f",
       "rows": [
        [
         "a",
         "0.10876967115732715",
         "0.9312514442187376"
        ],
        [
         "b",
         "-0.8605377493092449",
         "0.05072762595960847"
        ],
        [
         "c",
         "-1.7559776108651601",
         "1.5459429353902678"
        ],
        [
         "d",
         "-0.9531854892473294",
         "-1.7815575827754329"
        ],
        [
         "e",
         "0.11818730371052298",
         "-0.5886190899273073"
        ],
        [
         "f",
         "-0.6911426367726778",
         "0.9869837734225143"
        ]
       ],
       "shape": {
        "columns": 2,
        "rows": 6
       }
      },
      "text/html": [
       "<div>\n",
       "<style scoped>\n",
       "    .dataframe tbody tr th:only-of-type {\n",
       "        vertical-align: middle;\n",
       "    }\n",
       "\n",
       "    .dataframe tbody tr th {\n",
       "        vertical-align: top;\n",
       "    }\n",
       "\n",
       "    .dataframe thead th {\n",
       "        text-align: right;\n",
       "    }\n",
       "</style>\n",
       "<table border=\"1\" class=\"dataframe\">\n",
       "  <thead>\n",
       "    <tr style=\"text-align: right;\">\n",
       "      <th></th>\n",
       "      <th>B</th>\n",
       "      <th>D</th>\n",
       "    </tr>\n",
       "  </thead>\n",
       "  <tbody>\n",
       "    <tr>\n",
       "      <th>a</th>\n",
       "      <td>0.108770</td>\n",
       "      <td>0.931251</td>\n",
       "    </tr>\n",
       "    <tr>\n",
       "      <th>b</th>\n",
       "      <td>-0.860538</td>\n",
       "      <td>0.050728</td>\n",
       "    </tr>\n",
       "    <tr>\n",
       "      <th>c</th>\n",
       "      <td>-1.755978</td>\n",
       "      <td>1.545943</td>\n",
       "    </tr>\n",
       "    <tr>\n",
       "      <th>d</th>\n",
       "      <td>-0.953185</td>\n",
       "      <td>-1.781558</td>\n",
       "    </tr>\n",
       "    <tr>\n",
       "      <th>e</th>\n",
       "      <td>0.118187</td>\n",
       "      <td>-0.588619</td>\n",
       "    </tr>\n",
       "    <tr>\n",
       "      <th>f</th>\n",
       "      <td>-0.691143</td>\n",
       "      <td>0.986984</td>\n",
       "    </tr>\n",
       "  </tbody>\n",
       "</table>\n",
       "</div>"
      ],
      "text/plain": [
       "          B         D\n",
       "a  0.108770  0.931251\n",
       "b -0.860538  0.050728\n",
       "c -1.755978  1.545943\n",
       "d -0.953185 -1.781558\n",
       "e  0.118187 -0.588619\n",
       "f -0.691143  0.986984"
      ]
     },
     "execution_count": 82,
     "metadata": {},
     "output_type": "execute_result"
    }
   ],
   "source": [
    "df1.loc[:, df1.loc['a'] > 0]"
   ]
  },
  {
   "cell_type": "code",
   "execution_count": 83,
   "id": "54abd6c6",
   "metadata": {},
   "outputs": [],
   "source": [
    "bb = pd.read_csv('data/baseball.csv', index_col='id')"
   ]
  },
  {
   "cell_type": "code",
   "execution_count": 84,
   "id": "3e3aa4fa",
   "metadata": {},
   "outputs": [
    {
     "data": {
      "application/vnd.microsoft.datawrangler.viewer.v0+json": {
       "columns": [
        {
         "name": "('year', 'team')",
         "rawType": "object",
         "type": "unknown"
        },
        {
         "name": "stint",
         "rawType": "int64",
         "type": "integer"
        },
        {
         "name": "g",
         "rawType": "int64",
         "type": "integer"
        },
        {
         "name": "ab",
         "rawType": "int64",
         "type": "integer"
        },
        {
         "name": "r",
         "rawType": "int64",
         "type": "integer"
        },
        {
         "name": "h",
         "rawType": "int64",
         "type": "integer"
        },
        {
         "name": "X2b",
         "rawType": "int64",
         "type": "integer"
        },
        {
         "name": "X3b",
         "rawType": "int64",
         "type": "integer"
        },
        {
         "name": "hr",
         "rawType": "int64",
         "type": "integer"
        },
        {
         "name": "rbi",
         "rawType": "float64",
         "type": "float"
        },
        {
         "name": "sb",
         "rawType": "float64",
         "type": "float"
        },
        {
         "name": "cs",
         "rawType": "float64",
         "type": "float"
        },
        {
         "name": "bb",
         "rawType": "int64",
         "type": "integer"
        },
        {
         "name": "so",
         "rawType": "float64",
         "type": "float"
        },
        {
         "name": "ibb",
         "rawType": "float64",
         "type": "float"
        },
        {
         "name": "hbp",
         "rawType": "float64",
         "type": "float"
        },
        {
         "name": "sh",
         "rawType": "float64",
         "type": "float"
        },
        {
         "name": "sf",
         "rawType": "float64",
         "type": "float"
        },
        {
         "name": "gidp",
         "rawType": "float64",
         "type": "float"
        }
       ],
       "ref": "d783a7d8-366f-460b-b503-964cae392b96",
       "rows": [
        [
         "(np.int64(2007), 'CIN')",
         "6",
         "379",
         "745",
         "101",
         "203",
         "35",
         "2",
         "36",
         "125.0",
         "10.0",
         "1.0",
         "105",
         "127.0",
         "14.0",
         "1.0",
         "1.0",
         "15.0",
         "18.0"
        ],
        [
         "(np.int64(2007), 'DET')",
         "5",
         "301",
         "1062",
         "162",
         "283",
         "54",
         "4",
         "37",
         "144.0",
         "24.0",
         "7.0",
         "97",
         "176.0",
         "3.0",
         "10.0",
         "4.0",
         "8.0",
         "28.0"
        ],
        [
         "(np.int64(2007), 'HOU')",
         "4",
         "311",
         "926",
         "109",
         "218",
         "47",
         "6",
         "14",
         "77.0",
         "10.0",
         "4.0",
         "60",
         "212.0",
         "3.0",
         "9.0",
         "16.0",
         "6.0",
         "17.0"
        ],
        [
         "(np.int64(2007), 'LAN')",
         "11",
         "413",
         "1021",
         "153",
         "293",
         "61",
         "3",
         "36",
         "154.0",
         "7.0",
         "5.0",
         "114",
         "141.0",
         "8.0",
         "9.0",
         "3.0",
         "8.0",
         "29.0"
        ],
        [
         "(np.int64(2007), 'NYN')",
         "13",
         "622",
         "1854",
         "240",
         "509",
         "101",
         "3",
         "61",
         "243.0",
         "22.0",
         "4.0",
         "174",
         "310.0",
         "24.0",
         "23.0",
         "18.0",
         "15.0",
         "48.0"
        ],
        [
         "(np.int64(2007), 'SFN')",
         "5",
         "482",
         "1305",
         "198",
         "337",
         "67",
         "6",
         "40",
         "171.0",
         "26.0",
         "7.0",
         "235",
         "188.0",
         "51.0",
         "8.0",
         "16.0",
         "6.0",
         "41.0"
        ],
        [
         "(np.int64(2007), 'TEX')",
         "2",
         "198",
         "729",
         "115",
         "200",
         "40",
         "4",
         "28",
         "115.0",
         "21.0",
         "4.0",
         "73",
         "140.0",
         "4.0",
         "5.0",
         "2.0",
         "8.0",
         "16.0"
        ],
        [
         "(np.int64(2007), 'TOR')",
         "4",
         "459",
         "1408",
         "187",
         "378",
         "96",
         "2",
         "58",
         "223.0",
         "4.0",
         "2.0",
         "190",
         "265.0",
         "16.0",
         "12.0",
         "4.0",
         "16.0",
         "38.0"
        ]
       ],
       "shape": {
        "columns": 18,
        "rows": 8
       }
      },
      "text/html": [
       "<div>\n",
       "<style scoped>\n",
       "    .dataframe tbody tr th:only-of-type {\n",
       "        vertical-align: middle;\n",
       "    }\n",
       "\n",
       "    .dataframe tbody tr th {\n",
       "        vertical-align: top;\n",
       "    }\n",
       "\n",
       "    .dataframe thead th {\n",
       "        text-align: right;\n",
       "    }\n",
       "</style>\n",
       "<table border=\"1\" class=\"dataframe\">\n",
       "  <thead>\n",
       "    <tr style=\"text-align: right;\">\n",
       "      <th></th>\n",
       "      <th></th>\n",
       "      <th>stint</th>\n",
       "      <th>g</th>\n",
       "      <th>ab</th>\n",
       "      <th>r</th>\n",
       "      <th>h</th>\n",
       "      <th>X2b</th>\n",
       "      <th>X3b</th>\n",
       "      <th>hr</th>\n",
       "      <th>rbi</th>\n",
       "      <th>sb</th>\n",
       "      <th>cs</th>\n",
       "      <th>bb</th>\n",
       "      <th>so</th>\n",
       "      <th>ibb</th>\n",
       "      <th>hbp</th>\n",
       "      <th>sh</th>\n",
       "      <th>sf</th>\n",
       "      <th>gidp</th>\n",
       "    </tr>\n",
       "    <tr>\n",
       "      <th>year</th>\n",
       "      <th>team</th>\n",
       "      <th></th>\n",
       "      <th></th>\n",
       "      <th></th>\n",
       "      <th></th>\n",
       "      <th></th>\n",
       "      <th></th>\n",
       "      <th></th>\n",
       "      <th></th>\n",
       "      <th></th>\n",
       "      <th></th>\n",
       "      <th></th>\n",
       "      <th></th>\n",
       "      <th></th>\n",
       "      <th></th>\n",
       "      <th></th>\n",
       "      <th></th>\n",
       "      <th></th>\n",
       "      <th></th>\n",
       "    </tr>\n",
       "  </thead>\n",
       "  <tbody>\n",
       "    <tr>\n",
       "      <th rowspan=\"8\" valign=\"top\">2007</th>\n",
       "      <th>CIN</th>\n",
       "      <td>6</td>\n",
       "      <td>379</td>\n",
       "      <td>745</td>\n",
       "      <td>101</td>\n",
       "      <td>203</td>\n",
       "      <td>35</td>\n",
       "      <td>2</td>\n",
       "      <td>36</td>\n",
       "      <td>125.0</td>\n",
       "      <td>10.0</td>\n",
       "      <td>1.0</td>\n",
       "      <td>105</td>\n",
       "      <td>127.0</td>\n",
       "      <td>14.0</td>\n",
       "      <td>1.0</td>\n",
       "      <td>1.0</td>\n",
       "      <td>15.0</td>\n",
       "      <td>18.0</td>\n",
       "    </tr>\n",
       "    <tr>\n",
       "      <th>DET</th>\n",
       "      <td>5</td>\n",
       "      <td>301</td>\n",
       "      <td>1062</td>\n",
       "      <td>162</td>\n",
       "      <td>283</td>\n",
       "      <td>54</td>\n",
       "      <td>4</td>\n",
       "      <td>37</td>\n",
       "      <td>144.0</td>\n",
       "      <td>24.0</td>\n",
       "      <td>7.0</td>\n",
       "      <td>97</td>\n",
       "      <td>176.0</td>\n",
       "      <td>3.0</td>\n",
       "      <td>10.0</td>\n",
       "      <td>4.0</td>\n",
       "      <td>8.0</td>\n",
       "      <td>28.0</td>\n",
       "    </tr>\n",
       "    <tr>\n",
       "      <th>HOU</th>\n",
       "      <td>4</td>\n",
       "      <td>311</td>\n",
       "      <td>926</td>\n",
       "      <td>109</td>\n",
       "      <td>218</td>\n",
       "      <td>47</td>\n",
       "      <td>6</td>\n",
       "      <td>14</td>\n",
       "      <td>77.0</td>\n",
       "      <td>10.0</td>\n",
       "      <td>4.0</td>\n",
       "      <td>60</td>\n",
       "      <td>212.0</td>\n",
       "      <td>3.0</td>\n",
       "      <td>9.0</td>\n",
       "      <td>16.0</td>\n",
       "      <td>6.0</td>\n",
       "      <td>17.0</td>\n",
       "    </tr>\n",
       "    <tr>\n",
       "      <th>LAN</th>\n",
       "      <td>11</td>\n",
       "      <td>413</td>\n",
       "      <td>1021</td>\n",
       "      <td>153</td>\n",
       "      <td>293</td>\n",
       "      <td>61</td>\n",
       "      <td>3</td>\n",
       "      <td>36</td>\n",
       "      <td>154.0</td>\n",
       "      <td>7.0</td>\n",
       "      <td>5.0</td>\n",
       "      <td>114</td>\n",
       "      <td>141.0</td>\n",
       "      <td>8.0</td>\n",
       "      <td>9.0</td>\n",
       "      <td>3.0</td>\n",
       "      <td>8.0</td>\n",
       "      <td>29.0</td>\n",
       "    </tr>\n",
       "    <tr>\n",
       "      <th>NYN</th>\n",
       "      <td>13</td>\n",
       "      <td>622</td>\n",
       "      <td>1854</td>\n",
       "      <td>240</td>\n",
       "      <td>509</td>\n",
       "      <td>101</td>\n",
       "      <td>3</td>\n",
       "      <td>61</td>\n",
       "      <td>243.0</td>\n",
       "      <td>22.0</td>\n",
       "      <td>4.0</td>\n",
       "      <td>174</td>\n",
       "      <td>310.0</td>\n",
       "      <td>24.0</td>\n",
       "      <td>23.0</td>\n",
       "      <td>18.0</td>\n",
       "      <td>15.0</td>\n",
       "      <td>48.0</td>\n",
       "    </tr>\n",
       "    <tr>\n",
       "      <th>SFN</th>\n",
       "      <td>5</td>\n",
       "      <td>482</td>\n",
       "      <td>1305</td>\n",
       "      <td>198</td>\n",
       "      <td>337</td>\n",
       "      <td>67</td>\n",
       "      <td>6</td>\n",
       "      <td>40</td>\n",
       "      <td>171.0</td>\n",
       "      <td>26.0</td>\n",
       "      <td>7.0</td>\n",
       "      <td>235</td>\n",
       "      <td>188.0</td>\n",
       "      <td>51.0</td>\n",
       "      <td>8.0</td>\n",
       "      <td>16.0</td>\n",
       "      <td>6.0</td>\n",
       "      <td>41.0</td>\n",
       "    </tr>\n",
       "    <tr>\n",
       "      <th>TEX</th>\n",
       "      <td>2</td>\n",
       "      <td>198</td>\n",
       "      <td>729</td>\n",
       "      <td>115</td>\n",
       "      <td>200</td>\n",
       "      <td>40</td>\n",
       "      <td>4</td>\n",
       "      <td>28</td>\n",
       "      <td>115.0</td>\n",
       "      <td>21.0</td>\n",
       "      <td>4.0</td>\n",
       "      <td>73</td>\n",
       "      <td>140.0</td>\n",
       "      <td>4.0</td>\n",
       "      <td>5.0</td>\n",
       "      <td>2.0</td>\n",
       "      <td>8.0</td>\n",
       "      <td>16.0</td>\n",
       "    </tr>\n",
       "    <tr>\n",
       "      <th>TOR</th>\n",
       "      <td>4</td>\n",
       "      <td>459</td>\n",
       "      <td>1408</td>\n",
       "      <td>187</td>\n",
       "      <td>378</td>\n",
       "      <td>96</td>\n",
       "      <td>2</td>\n",
       "      <td>58</td>\n",
       "      <td>223.0</td>\n",
       "      <td>4.0</td>\n",
       "      <td>2.0</td>\n",
       "      <td>190</td>\n",
       "      <td>265.0</td>\n",
       "      <td>16.0</td>\n",
       "      <td>12.0</td>\n",
       "      <td>4.0</td>\n",
       "      <td>16.0</td>\n",
       "      <td>38.0</td>\n",
       "    </tr>\n",
       "  </tbody>\n",
       "</table>\n",
       "</div>"
      ],
      "text/plain": [
       "           stint    g    ab    r    h  X2b  X3b  hr    rbi    sb   cs   bb  \\\n",
       "year team                                                                    \n",
       "2007 CIN       6  379   745  101  203   35    2  36  125.0  10.0  1.0  105   \n",
       "     DET       5  301  1062  162  283   54    4  37  144.0  24.0  7.0   97   \n",
       "     HOU       4  311   926  109  218   47    6  14   77.0  10.0  4.0   60   \n",
       "     LAN      11  413  1021  153  293   61    3  36  154.0   7.0  5.0  114   \n",
       "     NYN      13  622  1854  240  509  101    3  61  243.0  22.0  4.0  174   \n",
       "     SFN       5  482  1305  198  337   67    6  40  171.0  26.0  7.0  235   \n",
       "     TEX       2  198   729  115  200   40    4  28  115.0  21.0  4.0   73   \n",
       "     TOR       4  459  1408  187  378   96    2  58  223.0   4.0  2.0  190   \n",
       "\n",
       "              so   ibb   hbp    sh    sf  gidp  \n",
       "year team                                       \n",
       "2007 CIN   127.0  14.0   1.0   1.0  15.0  18.0  \n",
       "     DET   176.0   3.0  10.0   4.0   8.0  28.0  \n",
       "     HOU   212.0   3.0   9.0  16.0   6.0  17.0  \n",
       "     LAN   141.0   8.0   9.0   3.0   8.0  29.0  \n",
       "     NYN   310.0  24.0  23.0  18.0  15.0  48.0  \n",
       "     SFN   188.0  51.0   8.0  16.0   6.0  41.0  \n",
       "     TEX   140.0   4.0   5.0   2.0   8.0  16.0  \n",
       "     TOR   265.0  16.0  12.0   4.0  16.0  38.0  "
      ]
     },
     "execution_count": 84,
     "metadata": {},
     "output_type": "execute_result"
    }
   ],
   "source": [
    "bb.groupby(['year', 'team']).sum(numeric_only=True).query('r>100')"
   ]
  },
  {
   "cell_type": "code",
   "execution_count": 85,
   "id": "46ab81bd",
   "metadata": {},
   "outputs": [
    {
     "data": {
      "application/vnd.microsoft.datawrangler.viewer.v0+json": {
       "columns": [
        {
         "name": "index",
         "rawType": "object",
         "type": "string"
        },
        {
         "name": "A",
         "rawType": "int64",
         "type": "integer"
        },
        {
         "name": "B",
         "rawType": "int64",
         "type": "integer"
        }
       ],
       "ref": "8188565a-4228-43f6-8e0d-2c143283807e",
       "rows": [
        [
         "a",
         "1",
         "4"
        ],
        [
         "b",
         "2",
         "5"
        ],
        [
         "c",
         "3",
         "6"
        ]
       ],
       "shape": {
        "columns": 2,
        "rows": 3
       }
      },
      "text/html": [
       "<div>\n",
       "<style scoped>\n",
       "    .dataframe tbody tr th:only-of-type {\n",
       "        vertical-align: middle;\n",
       "    }\n",
       "\n",
       "    .dataframe tbody tr th {\n",
       "        vertical-align: top;\n",
       "    }\n",
       "\n",
       "    .dataframe thead th {\n",
       "        text-align: right;\n",
       "    }\n",
       "</style>\n",
       "<table border=\"1\" class=\"dataframe\">\n",
       "  <thead>\n",
       "    <tr style=\"text-align: right;\">\n",
       "      <th></th>\n",
       "      <th>A</th>\n",
       "      <th>B</th>\n",
       "    </tr>\n",
       "  </thead>\n",
       "  <tbody>\n",
       "    <tr>\n",
       "      <th>a</th>\n",
       "      <td>1</td>\n",
       "      <td>4</td>\n",
       "    </tr>\n",
       "    <tr>\n",
       "      <th>b</th>\n",
       "      <td>2</td>\n",
       "      <td>5</td>\n",
       "    </tr>\n",
       "    <tr>\n",
       "      <th>c</th>\n",
       "      <td>3</td>\n",
       "      <td>6</td>\n",
       "    </tr>\n",
       "  </tbody>\n",
       "</table>\n",
       "</div>"
      ],
      "text/plain": [
       "   A  B\n",
       "a  1  4\n",
       "b  2  5\n",
       "c  3  6"
      ]
     },
     "execution_count": 85,
     "metadata": {},
     "output_type": "execute_result"
    }
   ],
   "source": [
    "dfd = pd.DataFrame({'A': [1, 2, 3],\n",
    "                    'B': [4, 5, 6]},\n",
    "                   index=list('abc'))\n",
    "dfd"
   ]
  },
  {
   "cell_type": "code",
   "execution_count": 86,
   "id": "6266067c",
   "metadata": {},
   "outputs": [
    {
     "data": {
      "application/vnd.microsoft.datawrangler.viewer.v0+json": {
       "columns": [
        {
         "name": "index",
         "rawType": "object",
         "type": "string"
        },
        {
         "name": "A",
         "rawType": "int64",
         "type": "integer"
        }
       ],
       "ref": "2c882769-1820-4550-80f0-6d509e8f6fb8",
       "rows": [
        [
         "a",
         "1"
        ],
        [
         "c",
         "3"
        ]
       ],
       "shape": {
        "columns": 1,
        "rows": 2
       }
      },
      "text/plain": [
       "a    1\n",
       "c    3\n",
       "Name: A, dtype: int64"
      ]
     },
     "execution_count": 86,
     "metadata": {},
     "output_type": "execute_result"
    }
   ],
   "source": [
    "dfd.loc[dfd.index[[0, 2]], \"A\"]"
   ]
  },
  {
   "cell_type": "code",
   "execution_count": 87,
   "id": "8beb565d",
   "metadata": {},
   "outputs": [
    {
     "data": {
      "application/vnd.microsoft.datawrangler.viewer.v0+json": {
       "columns": [
        {
         "name": "index",
         "rawType": "object",
         "type": "string"
        },
        {
         "name": "A",
         "rawType": "int64",
         "type": "integer"
        }
       ],
       "ref": "e919ebb3-e23f-42bf-a295-674c6abdad4e",
       "rows": [
        [
         "a",
         "1"
        ],
        [
         "c",
         "3"
        ]
       ],
       "shape": {
        "columns": 1,
        "rows": 2
       }
      },
      "text/html": [
       "<div>\n",
       "<style scoped>\n",
       "    .dataframe tbody tr th:only-of-type {\n",
       "        vertical-align: middle;\n",
       "    }\n",
       "\n",
       "    .dataframe tbody tr th {\n",
       "        vertical-align: top;\n",
       "    }\n",
       "\n",
       "    .dataframe thead th {\n",
       "        text-align: right;\n",
       "    }\n",
       "</style>\n",
       "<table border=\"1\" class=\"dataframe\">\n",
       "  <thead>\n",
       "    <tr style=\"text-align: right;\">\n",
       "      <th></th>\n",
       "      <th>A</th>\n",
       "    </tr>\n",
       "  </thead>\n",
       "  <tbody>\n",
       "    <tr>\n",
       "      <th>a</th>\n",
       "      <td>1</td>\n",
       "    </tr>\n",
       "    <tr>\n",
       "      <th>c</th>\n",
       "      <td>3</td>\n",
       "    </tr>\n",
       "  </tbody>\n",
       "</table>\n",
       "</div>"
      ],
      "text/plain": [
       "   A\n",
       "a  1\n",
       "c  3"
      ]
     },
     "execution_count": 87,
     "metadata": {},
     "output_type": "execute_result"
    }
   ],
   "source": [
    "dfd.iloc[[0, 2], dfd.columns.get_indexer(['A'])]"
   ]
  },
  {
   "cell_type": "code",
   "execution_count": 88,
   "id": "ceacf34e",
   "metadata": {},
   "outputs": [
    {
     "data": {
      "application/vnd.microsoft.datawrangler.viewer.v0+json": {
       "columns": [
        {
         "name": "index",
         "rawType": "object",
         "type": "string"
        },
        {
         "name": "a",
         "rawType": "int64",
         "type": "integer"
        },
        {
         "name": "b",
         "rawType": "int64",
         "type": "integer"
        },
        {
         "name": "c",
         "rawType": "int64",
         "type": "integer"
        },
        {
         "name": "d",
         "rawType": "int64",
         "type": "integer"
        },
        {
         "name": "e",
         "rawType": "int64",
         "type": "integer"
        }
       ],
       "ref": "b8adcafe-7026-48f1-9d1c-6c4897adb0f7",
       "rows": [
        [
         "a",
         "0",
         "1",
         "2",
         "3",
         "4"
        ],
        [
         "b",
         "5",
         "6",
         "7",
         "8",
         "9"
        ],
        [
         "c",
         "10",
         "11",
         "12",
         "13",
         "14"
        ],
        [
         "d",
         "15",
         "16",
         "17",
         "18",
         "19"
        ],
        [
         "e",
         "20",
         "21",
         "22",
         "23",
         "24"
        ]
       ],
       "shape": {
        "columns": 5,
        "rows": 5
       }
      },
      "text/html": [
       "<div>\n",
       "<style scoped>\n",
       "    .dataframe tbody tr th:only-of-type {\n",
       "        vertical-align: middle;\n",
       "    }\n",
       "\n",
       "    .dataframe tbody tr th {\n",
       "        vertical-align: top;\n",
       "    }\n",
       "\n",
       "    .dataframe thead th {\n",
       "        text-align: right;\n",
       "    }\n",
       "</style>\n",
       "<table border=\"1\" class=\"dataframe\">\n",
       "  <thead>\n",
       "    <tr style=\"text-align: right;\">\n",
       "      <th></th>\n",
       "      <th>a</th>\n",
       "      <th>b</th>\n",
       "      <th>c</th>\n",
       "      <th>d</th>\n",
       "      <th>e</th>\n",
       "    </tr>\n",
       "  </thead>\n",
       "  <tbody>\n",
       "    <tr>\n",
       "      <th>a</th>\n",
       "      <td>0</td>\n",
       "      <td>1</td>\n",
       "      <td>2</td>\n",
       "      <td>3</td>\n",
       "      <td>4</td>\n",
       "    </tr>\n",
       "    <tr>\n",
       "      <th>b</th>\n",
       "      <td>5</td>\n",
       "      <td>6</td>\n",
       "      <td>7</td>\n",
       "      <td>8</td>\n",
       "      <td>9</td>\n",
       "    </tr>\n",
       "    <tr>\n",
       "      <th>c</th>\n",
       "      <td>10</td>\n",
       "      <td>11</td>\n",
       "      <td>12</td>\n",
       "      <td>13</td>\n",
       "      <td>14</td>\n",
       "    </tr>\n",
       "    <tr>\n",
       "      <th>d</th>\n",
       "      <td>15</td>\n",
       "      <td>16</td>\n",
       "      <td>17</td>\n",
       "      <td>18</td>\n",
       "      <td>19</td>\n",
       "    </tr>\n",
       "    <tr>\n",
       "      <th>e</th>\n",
       "      <td>20</td>\n",
       "      <td>21</td>\n",
       "      <td>22</td>\n",
       "      <td>23</td>\n",
       "      <td>24</td>\n",
       "    </tr>\n",
       "  </tbody>\n",
       "</table>\n",
       "</div>"
      ],
      "text/plain": [
       "    a   b   c   d   e\n",
       "a   0   1   2   3   4\n",
       "b   5   6   7   8   9\n",
       "c  10  11  12  13  14\n",
       "d  15  16  17  18  19\n",
       "e  20  21  22  23  24"
      ]
     },
     "execution_count": 88,
     "metadata": {},
     "output_type": "execute_result"
    }
   ],
   "source": [
    "df"
   ]
  },
  {
   "cell_type": "code",
   "execution_count": 89,
   "id": "c0118f76",
   "metadata": {},
   "outputs": [
    {
     "data": {
      "application/vnd.microsoft.datawrangler.viewer.v0+json": {
       "columns": [
        {
         "name": "index",
         "rawType": "object",
         "type": "string"
        },
        {
         "name": "a",
         "rawType": "int64",
         "type": "integer"
        },
        {
         "name": "b",
         "rawType": "int64",
         "type": "integer"
        },
        {
         "name": "c",
         "rawType": "int64",
         "type": "integer"
        },
        {
         "name": "d",
         "rawType": "int64",
         "type": "integer"
        },
        {
         "name": "e",
         "rawType": "int64",
         "type": "integer"
        }
       ],
       "ref": "65f2465f-220d-4a87-a28a-2623d11a0241",
       "rows": [
        [
         "d",
         "15",
         "16",
         "17",
         "18",
         "19"
        ],
        [
         "a",
         "0",
         "1",
         "2",
         "3",
         "4"
        ],
        [
         "c",
         "10",
         "11",
         "12",
         "13",
         "14"
        ]
       ],
       "shape": {
        "columns": 5,
        "rows": 3
       }
      },
      "text/html": [
       "<div>\n",
       "<style scoped>\n",
       "    .dataframe tbody tr th:only-of-type {\n",
       "        vertical-align: middle;\n",
       "    }\n",
       "\n",
       "    .dataframe tbody tr th {\n",
       "        vertical-align: top;\n",
       "    }\n",
       "\n",
       "    .dataframe thead th {\n",
       "        text-align: right;\n",
       "    }\n",
       "</style>\n",
       "<table border=\"1\" class=\"dataframe\">\n",
       "  <thead>\n",
       "    <tr style=\"text-align: right;\">\n",
       "      <th></th>\n",
       "      <th>a</th>\n",
       "      <th>b</th>\n",
       "      <th>c</th>\n",
       "      <th>d</th>\n",
       "      <th>e</th>\n",
       "    </tr>\n",
       "  </thead>\n",
       "  <tbody>\n",
       "    <tr>\n",
       "      <th>d</th>\n",
       "      <td>15</td>\n",
       "      <td>16</td>\n",
       "      <td>17</td>\n",
       "      <td>18</td>\n",
       "      <td>19</td>\n",
       "    </tr>\n",
       "    <tr>\n",
       "      <th>a</th>\n",
       "      <td>0</td>\n",
       "      <td>1</td>\n",
       "      <td>2</td>\n",
       "      <td>3</td>\n",
       "      <td>4</td>\n",
       "    </tr>\n",
       "    <tr>\n",
       "      <th>c</th>\n",
       "      <td>10</td>\n",
       "      <td>11</td>\n",
       "      <td>12</td>\n",
       "      <td>13</td>\n",
       "      <td>14</td>\n",
       "    </tr>\n",
       "  </tbody>\n",
       "</table>\n",
       "</div>"
      ],
      "text/plain": [
       "    a   b   c   d   e\n",
       "d  15  16  17  18  19\n",
       "a   0   1   2   3   4\n",
       "c  10  11  12  13  14"
      ]
     },
     "execution_count": 89,
     "metadata": {},
     "output_type": "execute_result"
    }
   ],
   "source": [
    "df.sample(n=3)"
   ]
  },
  {
   "cell_type": "code",
   "execution_count": 90,
   "id": "69a83c2c",
   "metadata": {},
   "outputs": [
    {
     "data": {
      "application/vnd.microsoft.datawrangler.viewer.v0+json": {
       "columns": [
        {
         "name": "index",
         "rawType": "object",
         "type": "string"
        },
        {
         "name": "a",
         "rawType": "int64",
         "type": "integer"
        },
        {
         "name": "b",
         "rawType": "int64",
         "type": "integer"
        },
        {
         "name": "c",
         "rawType": "int64",
         "type": "integer"
        },
        {
         "name": "d",
         "rawType": "int64",
         "type": "integer"
        },
        {
         "name": "e",
         "rawType": "int64",
         "type": "integer"
        }
       ],
       "ref": "cedc3235-c3fe-4539-8b67-d9b4a04a977d",
       "rows": [
        [
         "e",
         "20",
         "21",
         "22",
         "23",
         "24"
        ],
        [
         "b",
         "5",
         "6",
         "7",
         "8",
         "9"
        ]
       ],
       "shape": {
        "columns": 5,
        "rows": 2
       }
      },
      "text/html": [
       "<div>\n",
       "<style scoped>\n",
       "    .dataframe tbody tr th:only-of-type {\n",
       "        vertical-align: middle;\n",
       "    }\n",
       "\n",
       "    .dataframe tbody tr th {\n",
       "        vertical-align: top;\n",
       "    }\n",
       "\n",
       "    .dataframe thead th {\n",
       "        text-align: right;\n",
       "    }\n",
       "</style>\n",
       "<table border=\"1\" class=\"dataframe\">\n",
       "  <thead>\n",
       "    <tr style=\"text-align: right;\">\n",
       "      <th></th>\n",
       "      <th>a</th>\n",
       "      <th>b</th>\n",
       "      <th>c</th>\n",
       "      <th>d</th>\n",
       "      <th>e</th>\n",
       "    </tr>\n",
       "  </thead>\n",
       "  <tbody>\n",
       "    <tr>\n",
       "      <th>e</th>\n",
       "      <td>20</td>\n",
       "      <td>21</td>\n",
       "      <td>22</td>\n",
       "      <td>23</td>\n",
       "      <td>24</td>\n",
       "    </tr>\n",
       "    <tr>\n",
       "      <th>b</th>\n",
       "      <td>5</td>\n",
       "      <td>6</td>\n",
       "      <td>7</td>\n",
       "      <td>8</td>\n",
       "      <td>9</td>\n",
       "    </tr>\n",
       "  </tbody>\n",
       "</table>\n",
       "</div>"
      ],
      "text/plain": [
       "    a   b   c   d   e\n",
       "e  20  21  22  23  24\n",
       "b   5   6   7   8   9"
      ]
     },
     "execution_count": 90,
     "metadata": {},
     "output_type": "execute_result"
    }
   ],
   "source": [
    "df.sample(frac=0.3)"
   ]
  },
  {
   "cell_type": "code",
   "execution_count": 91,
   "id": "15077aaa",
   "metadata": {},
   "outputs": [
    {
     "data": {
      "application/vnd.microsoft.datawrangler.viewer.v0+json": {
       "columns": [
        {
         "name": "index",
         "rawType": "object",
         "type": "string"
        },
        {
         "name": "a",
         "rawType": "int64",
         "type": "integer"
        },
        {
         "name": "b",
         "rawType": "int64",
         "type": "integer"
        },
        {
         "name": "c",
         "rawType": "int64",
         "type": "integer"
        },
        {
         "name": "d",
         "rawType": "int64",
         "type": "integer"
        },
        {
         "name": "e",
         "rawType": "int64",
         "type": "integer"
        }
       ],
       "ref": "bb2802b2-cc55-4492-83fb-0bfe39f2a7d7",
       "rows": [
        [
         "d",
         "15",
         "16",
         "17",
         "18",
         "19"
        ],
        [
         "c",
         "10",
         "11",
         "12",
         "13",
         "14"
        ],
        [
         "e",
         "20",
         "21",
         "22",
         "23",
         "24"
        ],
        [
         "b",
         "5",
         "6",
         "7",
         "8",
         "9"
        ],
        [
         "e",
         "20",
         "21",
         "22",
         "23",
         "24"
        ],
        [
         "a",
         "0",
         "1",
         "2",
         "3",
         "4"
        ],
        [
         "e",
         "20",
         "21",
         "22",
         "23",
         "24"
        ],
        [
         "d",
         "15",
         "16",
         "17",
         "18",
         "19"
        ],
        [
         "c",
         "10",
         "11",
         "12",
         "13",
         "14"
        ],
        [
         "d",
         "15",
         "16",
         "17",
         "18",
         "19"
        ]
       ],
       "shape": {
        "columns": 5,
        "rows": 10
       }
      },
      "text/html": [
       "<div>\n",
       "<style scoped>\n",
       "    .dataframe tbody tr th:only-of-type {\n",
       "        vertical-align: middle;\n",
       "    }\n",
       "\n",
       "    .dataframe tbody tr th {\n",
       "        vertical-align: top;\n",
       "    }\n",
       "\n",
       "    .dataframe thead th {\n",
       "        text-align: right;\n",
       "    }\n",
       "</style>\n",
       "<table border=\"1\" class=\"dataframe\">\n",
       "  <thead>\n",
       "    <tr style=\"text-align: right;\">\n",
       "      <th></th>\n",
       "      <th>a</th>\n",
       "      <th>b</th>\n",
       "      <th>c</th>\n",
       "      <th>d</th>\n",
       "      <th>e</th>\n",
       "    </tr>\n",
       "  </thead>\n",
       "  <tbody>\n",
       "    <tr>\n",
       "      <th>d</th>\n",
       "      <td>15</td>\n",
       "      <td>16</td>\n",
       "      <td>17</td>\n",
       "      <td>18</td>\n",
       "      <td>19</td>\n",
       "    </tr>\n",
       "    <tr>\n",
       "      <th>c</th>\n",
       "      <td>10</td>\n",
       "      <td>11</td>\n",
       "      <td>12</td>\n",
       "      <td>13</td>\n",
       "      <td>14</td>\n",
       "    </tr>\n",
       "    <tr>\n",
       "      <th>e</th>\n",
       "      <td>20</td>\n",
       "      <td>21</td>\n",
       "      <td>22</td>\n",
       "      <td>23</td>\n",
       "      <td>24</td>\n",
       "    </tr>\n",
       "    <tr>\n",
       "      <th>b</th>\n",
       "      <td>5</td>\n",
       "      <td>6</td>\n",
       "      <td>7</td>\n",
       "      <td>8</td>\n",
       "      <td>9</td>\n",
       "    </tr>\n",
       "    <tr>\n",
       "      <th>e</th>\n",
       "      <td>20</td>\n",
       "      <td>21</td>\n",
       "      <td>22</td>\n",
       "      <td>23</td>\n",
       "      <td>24</td>\n",
       "    </tr>\n",
       "    <tr>\n",
       "      <th>a</th>\n",
       "      <td>0</td>\n",
       "      <td>1</td>\n",
       "      <td>2</td>\n",
       "      <td>3</td>\n",
       "      <td>4</td>\n",
       "    </tr>\n",
       "    <tr>\n",
       "      <th>e</th>\n",
       "      <td>20</td>\n",
       "      <td>21</td>\n",
       "      <td>22</td>\n",
       "      <td>23</td>\n",
       "      <td>24</td>\n",
       "    </tr>\n",
       "    <tr>\n",
       "      <th>d</th>\n",
       "      <td>15</td>\n",
       "      <td>16</td>\n",
       "      <td>17</td>\n",
       "      <td>18</td>\n",
       "      <td>19</td>\n",
       "    </tr>\n",
       "    <tr>\n",
       "      <th>c</th>\n",
       "      <td>10</td>\n",
       "      <td>11</td>\n",
       "      <td>12</td>\n",
       "      <td>13</td>\n",
       "      <td>14</td>\n",
       "    </tr>\n",
       "    <tr>\n",
       "      <th>d</th>\n",
       "      <td>15</td>\n",
       "      <td>16</td>\n",
       "      <td>17</td>\n",
       "      <td>18</td>\n",
       "      <td>19</td>\n",
       "    </tr>\n",
       "  </tbody>\n",
       "</table>\n",
       "</div>"
      ],
      "text/plain": [
       "    a   b   c   d   e\n",
       "d  15  16  17  18  19\n",
       "c  10  11  12  13  14\n",
       "e  20  21  22  23  24\n",
       "b   5   6   7   8   9\n",
       "e  20  21  22  23  24\n",
       "a   0   1   2   3   4\n",
       "e  20  21  22  23  24\n",
       "d  15  16  17  18  19\n",
       "c  10  11  12  13  14\n",
       "d  15  16  17  18  19"
      ]
     },
     "execution_count": 91,
     "metadata": {},
     "output_type": "execute_result"
    }
   ],
   "source": [
    "df.sample(n=10, replace=True)"
   ]
  },
  {
   "cell_type": "code",
   "execution_count": 92,
   "id": "c7640009",
   "metadata": {},
   "outputs": [
    {
     "data": {
      "application/vnd.microsoft.datawrangler.viewer.v0+json": {
       "columns": [
        {
         "name": "index",
         "rawType": "object",
         "type": "string"
        },
        {
         "name": "a",
         "rawType": "int64",
         "type": "integer"
        },
        {
         "name": "b",
         "rawType": "int64",
         "type": "integer"
        },
        {
         "name": "c",
         "rawType": "int64",
         "type": "integer"
        },
        {
         "name": "d",
         "rawType": "int64",
         "type": "integer"
        },
        {
         "name": "e",
         "rawType": "int64",
         "type": "integer"
        }
       ],
       "ref": "7881ac83-a63f-4234-83b0-8be5aa6f7a5c",
       "rows": [
        [
         "d",
         "15",
         "16",
         "17",
         "18",
         "19"
        ],
        [
         "e",
         "20",
         "21",
         "22",
         "23",
         "24"
        ],
        [
         "c",
         "10",
         "11",
         "12",
         "13",
         "14"
        ],
        [
         "b",
         "5",
         "6",
         "7",
         "8",
         "9"
        ],
        [
         "a",
         "0",
         "1",
         "2",
         "3",
         "4"
        ]
       ],
       "shape": {
        "columns": 5,
        "rows": 5
       }
      },
      "text/html": [
       "<div>\n",
       "<style scoped>\n",
       "    .dataframe tbody tr th:only-of-type {\n",
       "        vertical-align: middle;\n",
       "    }\n",
       "\n",
       "    .dataframe tbody tr th {\n",
       "        vertical-align: top;\n",
       "    }\n",
       "\n",
       "    .dataframe thead th {\n",
       "        text-align: right;\n",
       "    }\n",
       "</style>\n",
       "<table border=\"1\" class=\"dataframe\">\n",
       "  <thead>\n",
       "    <tr style=\"text-align: right;\">\n",
       "      <th></th>\n",
       "      <th>a</th>\n",
       "      <th>b</th>\n",
       "      <th>c</th>\n",
       "      <th>d</th>\n",
       "      <th>e</th>\n",
       "    </tr>\n",
       "  </thead>\n",
       "  <tbody>\n",
       "    <tr>\n",
       "      <th>d</th>\n",
       "      <td>15</td>\n",
       "      <td>16</td>\n",
       "      <td>17</td>\n",
       "      <td>18</td>\n",
       "      <td>19</td>\n",
       "    </tr>\n",
       "    <tr>\n",
       "      <th>e</th>\n",
       "      <td>20</td>\n",
       "      <td>21</td>\n",
       "      <td>22</td>\n",
       "      <td>23</td>\n",
       "      <td>24</td>\n",
       "    </tr>\n",
       "    <tr>\n",
       "      <th>c</th>\n",
       "      <td>10</td>\n",
       "      <td>11</td>\n",
       "      <td>12</td>\n",
       "      <td>13</td>\n",
       "      <td>14</td>\n",
       "    </tr>\n",
       "    <tr>\n",
       "      <th>b</th>\n",
       "      <td>5</td>\n",
       "      <td>6</td>\n",
       "      <td>7</td>\n",
       "      <td>8</td>\n",
       "      <td>9</td>\n",
       "    </tr>\n",
       "    <tr>\n",
       "      <th>a</th>\n",
       "      <td>0</td>\n",
       "      <td>1</td>\n",
       "      <td>2</td>\n",
       "      <td>3</td>\n",
       "      <td>4</td>\n",
       "    </tr>\n",
       "  </tbody>\n",
       "</table>\n",
       "</div>"
      ],
      "text/plain": [
       "    a   b   c   d   e\n",
       "d  15  16  17  18  19\n",
       "e  20  21  22  23  24\n",
       "c  10  11  12  13  14\n",
       "b   5   6   7   8   9\n",
       "a   0   1   2   3   4"
      ]
     },
     "execution_count": 92,
     "metadata": {},
     "output_type": "execute_result"
    }
   ],
   "source": [
    "df.sample(n=5, weights=df[\"b\"], random_state=42)\n"
   ]
  },
  {
   "cell_type": "code",
   "execution_count": 93,
   "id": "2c5fda2e",
   "metadata": {},
   "outputs": [],
   "source": [
    "df.loc['f'] = np.random.randn(len(df.loc['a']))"
   ]
  },
  {
   "cell_type": "code",
   "execution_count": 94,
   "id": "6f8bf15c",
   "metadata": {},
   "outputs": [
    {
     "name": "stdout",
     "output_type": "stream",
     "text": [
      "<class 'pandas.core.frame.DataFrame'>\n",
      "Index: 6 entries, a to f\n",
      "Data columns (total 5 columns):\n",
      " #   Column  Non-Null Count  Dtype  \n",
      "---  ------  --------------  -----  \n",
      " 0   a       6 non-null      float64\n",
      " 1   b       6 non-null      float64\n",
      " 2   c       6 non-null      float64\n",
      " 3   d       6 non-null      float64\n",
      " 4   e       6 non-null      float64\n",
      "dtypes: float64(5)\n",
      "memory usage: 288.0+ bytes\n"
     ]
    }
   ],
   "source": [
    "df.info()"
   ]
  },
  {
   "cell_type": "code",
   "execution_count": 95,
   "id": "35deae24",
   "metadata": {},
   "outputs": [
    {
     "data": {
      "application/vnd.microsoft.datawrangler.viewer.v0+json": {
       "columns": [
        {
         "name": "index",
         "rawType": "object",
         "type": "string"
        },
        {
         "name": "a",
         "rawType": "float64",
         "type": "float"
        },
        {
         "name": "b",
         "rawType": "float64",
         "type": "float"
        },
        {
         "name": "c",
         "rawType": "float64",
         "type": "float"
        },
        {
         "name": "d",
         "rawType": "float64",
         "type": "float"
        },
        {
         "name": "e",
         "rawType": "float64",
         "type": "float"
        }
       ],
       "ref": "4c6c105e-4ec2-4b61-8979-d5d043eb06bd",
       "rows": [
        [
         "a",
         "0.0",
         "1.0",
         "2.0",
         "3.0",
         "4.0"
        ],
        [
         "b",
         "5.0",
         "6.0",
         "7.0",
         "8.0",
         "9.0"
        ],
        [
         "c",
         "10.0",
         "11.0",
         "12.0",
         "13.0",
         "14.0"
        ],
        [
         "d",
         "15.0",
         "16.0",
         "17.0",
         "18.0",
         "19.0"
        ],
        [
         "e",
         "20.0",
         "21.0",
         "22.0",
         "23.0",
         "24.0"
        ]
       ],
       "shape": {
        "columns": 5,
        "rows": 5
       }
      },
      "text/html": [
       "<div>\n",
       "<style scoped>\n",
       "    .dataframe tbody tr th:only-of-type {\n",
       "        vertical-align: middle;\n",
       "    }\n",
       "\n",
       "    .dataframe tbody tr th {\n",
       "        vertical-align: top;\n",
       "    }\n",
       "\n",
       "    .dataframe thead th {\n",
       "        text-align: right;\n",
       "    }\n",
       "</style>\n",
       "<table border=\"1\" class=\"dataframe\">\n",
       "  <thead>\n",
       "    <tr style=\"text-align: right;\">\n",
       "      <th></th>\n",
       "      <th>a</th>\n",
       "      <th>b</th>\n",
       "      <th>c</th>\n",
       "      <th>d</th>\n",
       "      <th>e</th>\n",
       "    </tr>\n",
       "  </thead>\n",
       "  <tbody>\n",
       "    <tr>\n",
       "      <th>a</th>\n",
       "      <td>0.0</td>\n",
       "      <td>1.0</td>\n",
       "      <td>2.0</td>\n",
       "      <td>3.0</td>\n",
       "      <td>4.0</td>\n",
       "    </tr>\n",
       "    <tr>\n",
       "      <th>b</th>\n",
       "      <td>5.0</td>\n",
       "      <td>6.0</td>\n",
       "      <td>7.0</td>\n",
       "      <td>8.0</td>\n",
       "      <td>9.0</td>\n",
       "    </tr>\n",
       "    <tr>\n",
       "      <th>c</th>\n",
       "      <td>10.0</td>\n",
       "      <td>11.0</td>\n",
       "      <td>12.0</td>\n",
       "      <td>13.0</td>\n",
       "      <td>14.0</td>\n",
       "    </tr>\n",
       "    <tr>\n",
       "      <th>d</th>\n",
       "      <td>15.0</td>\n",
       "      <td>16.0</td>\n",
       "      <td>17.0</td>\n",
       "      <td>18.0</td>\n",
       "      <td>19.0</td>\n",
       "    </tr>\n",
       "    <tr>\n",
       "      <th>e</th>\n",
       "      <td>20.0</td>\n",
       "      <td>21.0</td>\n",
       "      <td>22.0</td>\n",
       "      <td>23.0</td>\n",
       "      <td>24.0</td>\n",
       "    </tr>\n",
       "  </tbody>\n",
       "</table>\n",
       "</div>"
      ],
      "text/plain": [
       "      a     b     c     d     e\n",
       "a   0.0   1.0   2.0   3.0   4.0\n",
       "b   5.0   6.0   7.0   8.0   9.0\n",
       "c  10.0  11.0  12.0  13.0  14.0\n",
       "d  15.0  16.0  17.0  18.0  19.0\n",
       "e  20.0  21.0  22.0  23.0  24.0"
      ]
     },
     "execution_count": 95,
     "metadata": {},
     "output_type": "execute_result"
    }
   ],
   "source": [
    "df.head()"
   ]
  },
  {
   "cell_type": "code",
   "execution_count": 96,
   "id": "49c52f18",
   "metadata": {},
   "outputs": [],
   "source": [
    "dfi = pd.DataFrame(np.arange(6).reshape(3, 2),\n",
    "                   columns=['A', 'B'])"
   ]
  },
  {
   "cell_type": "code",
   "execution_count": 97,
   "id": "aac2303a",
   "metadata": {},
   "outputs": [
    {
     "data": {
      "application/vnd.microsoft.datawrangler.viewer.v0+json": {
       "columns": [
        {
         "name": "index",
         "rawType": "int64",
         "type": "integer"
        },
        {
         "name": "A",
         "rawType": "int64",
         "type": "integer"
        },
        {
         "name": "B",
         "rawType": "int64",
         "type": "integer"
        }
       ],
       "ref": "4ef3ec95-2249-49d2-9a5c-154de9d9f1f7",
       "rows": [
        [
         "0",
         "0",
         "1"
        ],
        [
         "1",
         "2",
         "3"
        ],
        [
         "2",
         "4",
         "5"
        ]
       ],
       "shape": {
        "columns": 2,
        "rows": 3
       }
      },
      "text/html": [
       "<div>\n",
       "<style scoped>\n",
       "    .dataframe tbody tr th:only-of-type {\n",
       "        vertical-align: middle;\n",
       "    }\n",
       "\n",
       "    .dataframe tbody tr th {\n",
       "        vertical-align: top;\n",
       "    }\n",
       "\n",
       "    .dataframe thead th {\n",
       "        text-align: right;\n",
       "    }\n",
       "</style>\n",
       "<table border=\"1\" class=\"dataframe\">\n",
       "  <thead>\n",
       "    <tr style=\"text-align: right;\">\n",
       "      <th></th>\n",
       "      <th>A</th>\n",
       "      <th>B</th>\n",
       "    </tr>\n",
       "  </thead>\n",
       "  <tbody>\n",
       "    <tr>\n",
       "      <th>0</th>\n",
       "      <td>0</td>\n",
       "      <td>1</td>\n",
       "    </tr>\n",
       "    <tr>\n",
       "      <th>1</th>\n",
       "      <td>2</td>\n",
       "      <td>3</td>\n",
       "    </tr>\n",
       "    <tr>\n",
       "      <th>2</th>\n",
       "      <td>4</td>\n",
       "      <td>5</td>\n",
       "    </tr>\n",
       "  </tbody>\n",
       "</table>\n",
       "</div>"
      ],
      "text/plain": [
       "   A  B\n",
       "0  0  1\n",
       "1  2  3\n",
       "2  4  5"
      ]
     },
     "execution_count": 97,
     "metadata": {},
     "output_type": "execute_result"
    }
   ],
   "source": [
    "dfi"
   ]
  },
  {
   "cell_type": "code",
   "execution_count": 98,
   "id": "a48d4fe8",
   "metadata": {},
   "outputs": [],
   "source": [
    "dfi.loc[3] = [10, 20]"
   ]
  },
  {
   "cell_type": "code",
   "execution_count": 99,
   "id": "1bacf9f0",
   "metadata": {},
   "outputs": [
    {
     "data": {
      "application/vnd.microsoft.datawrangler.viewer.v0+json": {
       "columns": [
        {
         "name": "index",
         "rawType": "int64",
         "type": "integer"
        },
        {
         "name": "A",
         "rawType": "int64",
         "type": "integer"
        },
        {
         "name": "B",
         "rawType": "int64",
         "type": "integer"
        }
       ],
       "ref": "886ba8ff-6abf-41ca-989a-a4c6add5a521",
       "rows": [
        [
         "0",
         "0",
         "1"
        ],
        [
         "1",
         "2",
         "3"
        ],
        [
         "2",
         "4",
         "5"
        ],
        [
         "3",
         "10",
         "20"
        ]
       ],
       "shape": {
        "columns": 2,
        "rows": 4
       }
      },
      "text/html": [
       "<div>\n",
       "<style scoped>\n",
       "    .dataframe tbody tr th:only-of-type {\n",
       "        vertical-align: middle;\n",
       "    }\n",
       "\n",
       "    .dataframe tbody tr th {\n",
       "        vertical-align: top;\n",
       "    }\n",
       "\n",
       "    .dataframe thead th {\n",
       "        text-align: right;\n",
       "    }\n",
       "</style>\n",
       "<table border=\"1\" class=\"dataframe\">\n",
       "  <thead>\n",
       "    <tr style=\"text-align: right;\">\n",
       "      <th></th>\n",
       "      <th>A</th>\n",
       "      <th>B</th>\n",
       "    </tr>\n",
       "  </thead>\n",
       "  <tbody>\n",
       "    <tr>\n",
       "      <th>0</th>\n",
       "      <td>0</td>\n",
       "      <td>1</td>\n",
       "    </tr>\n",
       "    <tr>\n",
       "      <th>1</th>\n",
       "      <td>2</td>\n",
       "      <td>3</td>\n",
       "    </tr>\n",
       "    <tr>\n",
       "      <th>2</th>\n",
       "      <td>4</td>\n",
       "      <td>5</td>\n",
       "    </tr>\n",
       "    <tr>\n",
       "      <th>3</th>\n",
       "      <td>10</td>\n",
       "      <td>20</td>\n",
       "    </tr>\n",
       "  </tbody>\n",
       "</table>\n",
       "</div>"
      ],
      "text/plain": [
       "    A   B\n",
       "0   0   1\n",
       "1   2   3\n",
       "2   4   5\n",
       "3  10  20"
      ]
     },
     "execution_count": 99,
     "metadata": {},
     "output_type": "execute_result"
    }
   ],
   "source": [
    "dfi"
   ]
  },
  {
   "cell_type": "code",
   "execution_count": 100,
   "id": "74f4ae9b",
   "metadata": {},
   "outputs": [],
   "source": [
    "dates = pd.date_range('1/1/2000', periods=8)\n",
    "\n",
    "df = pd.DataFrame(np.random.randn(8, 4),\n",
    "                  index=dates, columns=['A', 'B', 'C', 'D'])"
   ]
  },
  {
   "cell_type": "code",
   "execution_count": 101,
   "id": "7b7273f7",
   "metadata": {},
   "outputs": [
    {
     "name": "stdout",
     "output_type": "stream",
     "text": [
      "<class 'pandas.core.frame.DataFrame'>\n",
      "DatetimeIndex: 8 entries, 2000-01-01 to 2000-01-08\n",
      "Freq: D\n",
      "Data columns (total 4 columns):\n",
      " #   Column  Non-Null Count  Dtype  \n",
      "---  ------  --------------  -----  \n",
      " 0   A       8 non-null      float64\n",
      " 1   B       8 non-null      float64\n",
      " 2   C       8 non-null      float64\n",
      " 3   D       8 non-null      float64\n",
      "dtypes: float64(4)\n",
      "memory usage: 320.0 bytes\n"
     ]
    }
   ],
   "source": [
    "df.info()\n"
   ]
  },
  {
   "cell_type": "code",
   "execution_count": 102,
   "id": "8d73b2c3",
   "metadata": {},
   "outputs": [
    {
     "data": {
      "text/plain": [
       "np.float64(0.2048764672235381)"
      ]
     },
     "execution_count": 102,
     "metadata": {},
     "output_type": "execute_result"
    }
   ],
   "source": [
    "df.at[dates[5],'A']"
   ]
  },
  {
   "cell_type": "code",
   "execution_count": 103,
   "id": "85ade1e3",
   "metadata": {},
   "outputs": [
    {
     "data": {
      "text/plain": [
       "np.float64(0.2048764672235381)"
      ]
     },
     "execution_count": 103,
     "metadata": {},
     "output_type": "execute_result"
    }
   ],
   "source": [
    "df.iat[5,0]"
   ]
  },
  {
   "cell_type": "code",
   "execution_count": 104,
   "id": "d5291e31",
   "metadata": {},
   "outputs": [
    {
     "data": {
      "application/vnd.microsoft.datawrangler.viewer.v0+json": {
       "columns": [
        {
         "name": "index",
         "rawType": "datetime64[ns]",
         "type": "datetime"
        },
        {
         "name": "A",
         "rawType": "float64",
         "type": "float"
        },
        {
         "name": "B",
         "rawType": "float64",
         "type": "float"
        },
        {
         "name": "C",
         "rawType": "float64",
         "type": "float"
        },
        {
         "name": "D",
         "rawType": "float64",
         "type": "float"
        }
       ],
       "ref": "2f21aac7-8dcb-4d7a-93d9-7dae8d9529ea",
       "rows": [],
       "shape": {
        "columns": 4,
        "rows": 0
       }
      },
      "text/html": [
       "<div>\n",
       "<style scoped>\n",
       "    .dataframe tbody tr th:only-of-type {\n",
       "        vertical-align: middle;\n",
       "    }\n",
       "\n",
       "    .dataframe tbody tr th {\n",
       "        vertical-align: top;\n",
       "    }\n",
       "\n",
       "    .dataframe thead th {\n",
       "        text-align: right;\n",
       "    }\n",
       "</style>\n",
       "<table border=\"1\" class=\"dataframe\">\n",
       "  <thead>\n",
       "    <tr style=\"text-align: right;\">\n",
       "      <th></th>\n",
       "      <th>A</th>\n",
       "      <th>B</th>\n",
       "      <th>C</th>\n",
       "      <th>D</th>\n",
       "    </tr>\n",
       "  </thead>\n",
       "  <tbody>\n",
       "  </tbody>\n",
       "</table>\n",
       "</div>"
      ],
      "text/plain": [
       "Empty DataFrame\n",
       "Columns: [A, B, C, D]\n",
       "Index: []"
      ]
     },
     "execution_count": 104,
     "metadata": {},
     "output_type": "execute_result"
    }
   ],
   "source": [
    "df[(df['A'] > df['B']) & (df['A'] <= df['C'])]"
   ]
  },
  {
   "cell_type": "code",
   "execution_count": 105,
   "id": "f108fcb2",
   "metadata": {},
   "outputs": [],
   "source": [
    "df2 = pd.DataFrame({'a': ['one', 'one', 'two', 'three', 'two', 'one', 'six'],\n",
    "                    'b': ['x', 'y', 'y', 'x', 'y', 'x', 'x'],\n",
    "                    'c': np.random.randn(7)})"
   ]
  },
  {
   "cell_type": "code",
   "execution_count": 106,
   "id": "8a35d96f",
   "metadata": {},
   "outputs": [
    {
     "data": {
      "application/vnd.microsoft.datawrangler.viewer.v0+json": {
       "columns": [
        {
         "name": "index",
         "rawType": "int64",
         "type": "integer"
        },
        {
         "name": "a",
         "rawType": "object",
         "type": "string"
        },
        {
         "name": "b",
         "rawType": "object",
         "type": "string"
        },
        {
         "name": "c",
         "rawType": "float64",
         "type": "float"
        }
       ],
       "ref": "719e8086-a26a-4352-9298-b465dec83c85",
       "rows": [
        [
         "0",
         "one",
         "x",
         "1.2790915762556831"
        ],
        [
         "1",
         "one",
         "y",
         "-1.3075550837466405"
        ],
        [
         "2",
         "two",
         "y",
         "-0.39143672348589315"
        ],
        [
         "3",
         "three",
         "x",
         "-0.32466705141031116"
        ],
        [
         "4",
         "two",
         "y",
         "1.3379473524697334"
        ],
        [
         "5",
         "one",
         "x",
         "0.14133161055565402"
        ],
        [
         "6",
         "six",
         "x",
         "-0.9100870723816389"
        ]
       ],
       "shape": {
        "columns": 3,
        "rows": 7
       }
      },
      "text/html": [
       "<div>\n",
       "<style scoped>\n",
       "    .dataframe tbody tr th:only-of-type {\n",
       "        vertical-align: middle;\n",
       "    }\n",
       "\n",
       "    .dataframe tbody tr th {\n",
       "        vertical-align: top;\n",
       "    }\n",
       "\n",
       "    .dataframe thead th {\n",
       "        text-align: right;\n",
       "    }\n",
       "</style>\n",
       "<table border=\"1\" class=\"dataframe\">\n",
       "  <thead>\n",
       "    <tr style=\"text-align: right;\">\n",
       "      <th></th>\n",
       "      <th>a</th>\n",
       "      <th>b</th>\n",
       "      <th>c</th>\n",
       "    </tr>\n",
       "  </thead>\n",
       "  <tbody>\n",
       "    <tr>\n",
       "      <th>0</th>\n",
       "      <td>one</td>\n",
       "      <td>x</td>\n",
       "      <td>1.279092</td>\n",
       "    </tr>\n",
       "    <tr>\n",
       "      <th>1</th>\n",
       "      <td>one</td>\n",
       "      <td>y</td>\n",
       "      <td>-1.307555</td>\n",
       "    </tr>\n",
       "    <tr>\n",
       "      <th>2</th>\n",
       "      <td>two</td>\n",
       "      <td>y</td>\n",
       "      <td>-0.391437</td>\n",
       "    </tr>\n",
       "    <tr>\n",
       "      <th>3</th>\n",
       "      <td>three</td>\n",
       "      <td>x</td>\n",
       "      <td>-0.324667</td>\n",
       "    </tr>\n",
       "    <tr>\n",
       "      <th>4</th>\n",
       "      <td>two</td>\n",
       "      <td>y</td>\n",
       "      <td>1.337947</td>\n",
       "    </tr>\n",
       "    <tr>\n",
       "      <th>5</th>\n",
       "      <td>one</td>\n",
       "      <td>x</td>\n",
       "      <td>0.141332</td>\n",
       "    </tr>\n",
       "    <tr>\n",
       "      <th>6</th>\n",
       "      <td>six</td>\n",
       "      <td>x</td>\n",
       "      <td>-0.910087</td>\n",
       "    </tr>\n",
       "  </tbody>\n",
       "</table>\n",
       "</div>"
      ],
      "text/plain": [
       "       a  b         c\n",
       "0    one  x  1.279092\n",
       "1    one  y -1.307555\n",
       "2    two  y -0.391437\n",
       "3  three  x -0.324667\n",
       "4    two  y  1.337947\n",
       "5    one  x  0.141332\n",
       "6    six  x -0.910087"
      ]
     },
     "execution_count": 106,
     "metadata": {},
     "output_type": "execute_result"
    }
   ],
   "source": [
    "df2"
   ]
  },
  {
   "cell_type": "code",
   "execution_count": 107,
   "id": "e7b59006",
   "metadata": {},
   "outputs": [
    {
     "data": {
      "application/vnd.microsoft.datawrangler.viewer.v0+json": {
       "columns": [
        {
         "name": "index",
         "rawType": "int64",
         "type": "integer"
        },
        {
         "name": "a",
         "rawType": "bool",
         "type": "boolean"
        }
       ],
       "ref": "41552728-0d3a-4156-bc75-49d78bcd00bc",
       "rows": [
        [
         "0",
         "False"
        ],
        [
         "1",
         "False"
        ],
        [
         "2",
         "True"
        ],
        [
         "3",
         "True"
        ],
        [
         "4",
         "True"
        ],
        [
         "5",
         "False"
        ],
        [
         "6",
         "False"
        ]
       ],
       "shape": {
        "columns": 1,
        "rows": 7
       }
      },
      "text/plain": [
       "0    False\n",
       "1    False\n",
       "2     True\n",
       "3     True\n",
       "4     True\n",
       "5    False\n",
       "6    False\n",
       "Name: a, dtype: bool"
      ]
     },
     "execution_count": 107,
     "metadata": {},
     "output_type": "execute_result"
    }
   ],
   "source": [
    "rule = df2['a'].map(lambda x: x.startswith('t'))\n",
    "rule"
   ]
  },
  {
   "cell_type": "code",
   "execution_count": 108,
   "id": "0bcef5d6",
   "metadata": {},
   "outputs": [
    {
     "data": {
      "application/vnd.microsoft.datawrangler.viewer.v0+json": {
       "columns": [
        {
         "name": "index",
         "rawType": "int64",
         "type": "integer"
        },
        {
         "name": "a",
         "rawType": "object",
         "type": "string"
        },
        {
         "name": "b",
         "rawType": "object",
         "type": "string"
        },
        {
         "name": "c",
         "rawType": "float64",
         "type": "float"
        }
       ],
       "ref": "9b634425-6772-4819-934a-44e49e68c177",
       "rows": [
        [
         "3",
         "three",
         "x",
         "-0.32466705141031116"
        ]
       ],
       "shape": {
        "columns": 3,
        "rows": 1
       }
      },
      "text/html": [
       "<div>\n",
       "<style scoped>\n",
       "    .dataframe tbody tr th:only-of-type {\n",
       "        vertical-align: middle;\n",
       "    }\n",
       "\n",
       "    .dataframe tbody tr th {\n",
       "        vertical-align: top;\n",
       "    }\n",
       "\n",
       "    .dataframe thead th {\n",
       "        text-align: right;\n",
       "    }\n",
       "</style>\n",
       "<table border=\"1\" class=\"dataframe\">\n",
       "  <thead>\n",
       "    <tr style=\"text-align: right;\">\n",
       "      <th></th>\n",
       "      <th>a</th>\n",
       "      <th>b</th>\n",
       "      <th>c</th>\n",
       "    </tr>\n",
       "  </thead>\n",
       "  <tbody>\n",
       "    <tr>\n",
       "      <th>3</th>\n",
       "      <td>three</td>\n",
       "      <td>x</td>\n",
       "      <td>-0.324667</td>\n",
       "    </tr>\n",
       "  </tbody>\n",
       "</table>\n",
       "</div>"
      ],
      "text/plain": [
       "       a  b         c\n",
       "3  three  x -0.324667"
      ]
     },
     "execution_count": 108,
     "metadata": {},
     "output_type": "execute_result"
    }
   ],
   "source": [
    "df2[rule & (df2['b'] == 'x')]"
   ]
  },
  {
   "cell_type": "code",
   "execution_count": 109,
   "id": "7c5845fa",
   "metadata": {},
   "outputs": [
    {
     "data": {
      "application/vnd.microsoft.datawrangler.viewer.v0+json": {
       "columns": [
        {
         "name": "index",
         "rawType": "int64",
         "type": "integer"
        },
        {
         "name": "vals",
         "rawType": "int64",
         "type": "integer"
        },
        {
         "name": "ids",
         "rawType": "object",
         "type": "string"
        },
        {
         "name": "ids2",
         "rawType": "object",
         "type": "string"
        }
       ],
       "ref": "b24f7ca9-0e9b-4e81-b245-0f7580b24b6f",
       "rows": [
        [
         "0",
         "1",
         "a",
         "a"
        ],
        [
         "1",
         "2",
         "b",
         "n"
        ],
        [
         "2",
         "3",
         "f",
         "c"
        ],
        [
         "3",
         "4",
         "n",
         "n"
        ]
       ],
       "shape": {
        "columns": 3,
        "rows": 4
       }
      },
      "text/html": [
       "<div>\n",
       "<style scoped>\n",
       "    .dataframe tbody tr th:only-of-type {\n",
       "        vertical-align: middle;\n",
       "    }\n",
       "\n",
       "    .dataframe tbody tr th {\n",
       "        vertical-align: top;\n",
       "    }\n",
       "\n",
       "    .dataframe thead th {\n",
       "        text-align: right;\n",
       "    }\n",
       "</style>\n",
       "<table border=\"1\" class=\"dataframe\">\n",
       "  <thead>\n",
       "    <tr style=\"text-align: right;\">\n",
       "      <th></th>\n",
       "      <th>vals</th>\n",
       "      <th>ids</th>\n",
       "      <th>ids2</th>\n",
       "    </tr>\n",
       "  </thead>\n",
       "  <tbody>\n",
       "    <tr>\n",
       "      <th>0</th>\n",
       "      <td>1</td>\n",
       "      <td>a</td>\n",
       "      <td>a</td>\n",
       "    </tr>\n",
       "    <tr>\n",
       "      <th>1</th>\n",
       "      <td>2</td>\n",
       "      <td>b</td>\n",
       "      <td>n</td>\n",
       "    </tr>\n",
       "    <tr>\n",
       "      <th>2</th>\n",
       "      <td>3</td>\n",
       "      <td>f</td>\n",
       "      <td>c</td>\n",
       "    </tr>\n",
       "    <tr>\n",
       "      <th>3</th>\n",
       "      <td>4</td>\n",
       "      <td>n</td>\n",
       "      <td>n</td>\n",
       "    </tr>\n",
       "  </tbody>\n",
       "</table>\n",
       "</div>"
      ],
      "text/plain": [
       "   vals ids ids2\n",
       "0     1   a    a\n",
       "1     2   b    n\n",
       "2     3   f    c\n",
       "3     4   n    n"
      ]
     },
     "execution_count": 109,
     "metadata": {},
     "output_type": "execute_result"
    }
   ],
   "source": [
    "df3 = pd.DataFrame({'vals': [1, 2, 3, 4], 'ids': ['a', 'b', 'f', 'n'],\n",
    "                   'ids2': ['a', 'n', 'c', 'n']})\n",
    "df3"
   ]
  },
  {
   "cell_type": "code",
   "execution_count": 110,
   "id": "5724ee7b",
   "metadata": {},
   "outputs": [
    {
     "data": {
      "application/vnd.microsoft.datawrangler.viewer.v0+json": {
       "columns": [
        {
         "name": "index",
         "rawType": "int64",
         "type": "integer"
        },
        {
         "name": "vals",
         "rawType": "bool",
         "type": "boolean"
        },
        {
         "name": "ids",
         "rawType": "bool",
         "type": "boolean"
        },
        {
         "name": "ids2",
         "rawType": "bool",
         "type": "boolean"
        }
       ],
       "ref": "881cfcc7-e7c1-4d94-bd44-192498af1dfd",
       "rows": [
        [
         "0",
         "True",
         "True",
         "True"
        ],
        [
         "1",
         "False",
         "True",
         "False"
        ],
        [
         "2",
         "True",
         "False",
         "False"
        ],
        [
         "3",
         "False",
         "False",
         "False"
        ]
       ],
       "shape": {
        "columns": 3,
        "rows": 4
       }
      },
      "text/html": [
       "<div>\n",
       "<style scoped>\n",
       "    .dataframe tbody tr th:only-of-type {\n",
       "        vertical-align: middle;\n",
       "    }\n",
       "\n",
       "    .dataframe tbody tr th {\n",
       "        vertical-align: top;\n",
       "    }\n",
       "\n",
       "    .dataframe thead th {\n",
       "        text-align: right;\n",
       "    }\n",
       "</style>\n",
       "<table border=\"1\" class=\"dataframe\">\n",
       "  <thead>\n",
       "    <tr style=\"text-align: right;\">\n",
       "      <th></th>\n",
       "      <th>vals</th>\n",
       "      <th>ids</th>\n",
       "      <th>ids2</th>\n",
       "    </tr>\n",
       "  </thead>\n",
       "  <tbody>\n",
       "    <tr>\n",
       "      <th>0</th>\n",
       "      <td>True</td>\n",
       "      <td>True</td>\n",
       "      <td>True</td>\n",
       "    </tr>\n",
       "    <tr>\n",
       "      <th>1</th>\n",
       "      <td>False</td>\n",
       "      <td>True</td>\n",
       "      <td>False</td>\n",
       "    </tr>\n",
       "    <tr>\n",
       "      <th>2</th>\n",
       "      <td>True</td>\n",
       "      <td>False</td>\n",
       "      <td>False</td>\n",
       "    </tr>\n",
       "    <tr>\n",
       "      <th>3</th>\n",
       "      <td>False</td>\n",
       "      <td>False</td>\n",
       "      <td>False</td>\n",
       "    </tr>\n",
       "  </tbody>\n",
       "</table>\n",
       "</div>"
      ],
      "text/plain": [
       "    vals    ids   ids2\n",
       "0   True   True   True\n",
       "1  False   True  False\n",
       "2   True  False  False\n",
       "3  False  False  False"
      ]
     },
     "execution_count": 110,
     "metadata": {},
     "output_type": "execute_result"
    }
   ],
   "source": [
    "values = ['a', 'b', 1, 3]\n",
    "df3.isin(values)"
   ]
  },
  {
   "cell_type": "code",
   "execution_count": 111,
   "id": "4aaf7bf5",
   "metadata": {},
   "outputs": [
    {
     "data": {
      "application/vnd.microsoft.datawrangler.viewer.v0+json": {
       "columns": [
        {
         "name": "index",
         "rawType": "int64",
         "type": "integer"
        },
        {
         "name": "vals",
         "rawType": "bool",
         "type": "boolean"
        },
        {
         "name": "ids",
         "rawType": "bool",
         "type": "boolean"
        },
        {
         "name": "ids2",
         "rawType": "bool",
         "type": "boolean"
        }
       ],
       "ref": "188173c8-7bdc-4519-9b2f-7e51b819e4cf",
       "rows": [
        [
         "0",
         "True",
         "False",
         "False"
        ],
        [
         "1",
         "True",
         "False",
         "False"
        ],
        [
         "2",
         "False",
         "False",
         "False"
        ],
        [
         "3",
         "False",
         "False",
         "False"
        ]
       ],
       "shape": {
        "columns": 3,
        "rows": 4
       }
      },
      "text/html": [
       "<div>\n",
       "<style scoped>\n",
       "    .dataframe tbody tr th:only-of-type {\n",
       "        vertical-align: middle;\n",
       "    }\n",
       "\n",
       "    .dataframe tbody tr th {\n",
       "        vertical-align: top;\n",
       "    }\n",
       "\n",
       "    .dataframe thead th {\n",
       "        text-align: right;\n",
       "    }\n",
       "</style>\n",
       "<table border=\"1\" class=\"dataframe\">\n",
       "  <thead>\n",
       "    <tr style=\"text-align: right;\">\n",
       "      <th></th>\n",
       "      <th>vals</th>\n",
       "      <th>ids</th>\n",
       "      <th>ids2</th>\n",
       "    </tr>\n",
       "  </thead>\n",
       "  <tbody>\n",
       "    <tr>\n",
       "      <th>0</th>\n",
       "      <td>True</td>\n",
       "      <td>False</td>\n",
       "      <td>False</td>\n",
       "    </tr>\n",
       "    <tr>\n",
       "      <th>1</th>\n",
       "      <td>True</td>\n",
       "      <td>False</td>\n",
       "      <td>False</td>\n",
       "    </tr>\n",
       "    <tr>\n",
       "      <th>2</th>\n",
       "      <td>False</td>\n",
       "      <td>False</td>\n",
       "      <td>False</td>\n",
       "    </tr>\n",
       "    <tr>\n",
       "      <th>3</th>\n",
       "      <td>False</td>\n",
       "      <td>False</td>\n",
       "      <td>False</td>\n",
       "    </tr>\n",
       "  </tbody>\n",
       "</table>\n",
       "</div>"
      ],
      "text/plain": [
       "    vals    ids   ids2\n",
       "0   True  False  False\n",
       "1   True  False  False\n",
       "2  False  False  False\n",
       "3  False  False  False"
      ]
     },
     "execution_count": 111,
     "metadata": {},
     "output_type": "execute_result"
    }
   ],
   "source": [
    "value_dict = {'vals': [1, 2]}\n",
    "df3.isin(value_dict)"
   ]
  },
  {
   "cell_type": "code",
   "execution_count": 112,
   "id": "3f2e5204",
   "metadata": {},
   "outputs": [],
   "source": [
    "values = {'ids': ['a', 'b'], 'ids2': ['a', 'c'], 'vals': [1, 3]}\n",
    "mask = df3.isin(values).any(axis=1)"
   ]
  },
  {
   "cell_type": "code",
   "execution_count": 113,
   "id": "25fc3da7",
   "metadata": {},
   "outputs": [
    {
     "data": {
      "application/vnd.microsoft.datawrangler.viewer.v0+json": {
       "columns": [
        {
         "name": "index",
         "rawType": "int64",
         "type": "integer"
        },
        {
         "name": "vals",
         "rawType": "int64",
         "type": "integer"
        },
        {
         "name": "ids",
         "rawType": "object",
         "type": "string"
        },
        {
         "name": "ids2",
         "rawType": "object",
         "type": "string"
        }
       ],
       "ref": "99aab37c-0e8d-462a-80f2-0c753fa4a074",
       "rows": [
        [
         "0",
         "1",
         "a",
         "a"
        ],
        [
         "1",
         "2",
         "b",
         "n"
        ],
        [
         "2",
         "3",
         "f",
         "c"
        ]
       ],
       "shape": {
        "columns": 3,
        "rows": 3
       }
      },
      "text/html": [
       "<div>\n",
       "<style scoped>\n",
       "    .dataframe tbody tr th:only-of-type {\n",
       "        vertical-align: middle;\n",
       "    }\n",
       "\n",
       "    .dataframe tbody tr th {\n",
       "        vertical-align: top;\n",
       "    }\n",
       "\n",
       "    .dataframe thead th {\n",
       "        text-align: right;\n",
       "    }\n",
       "</style>\n",
       "<table border=\"1\" class=\"dataframe\">\n",
       "  <thead>\n",
       "    <tr style=\"text-align: right;\">\n",
       "      <th></th>\n",
       "      <th>vals</th>\n",
       "      <th>ids</th>\n",
       "      <th>ids2</th>\n",
       "    </tr>\n",
       "  </thead>\n",
       "  <tbody>\n",
       "    <tr>\n",
       "      <th>0</th>\n",
       "      <td>1</td>\n",
       "      <td>a</td>\n",
       "      <td>a</td>\n",
       "    </tr>\n",
       "    <tr>\n",
       "      <th>1</th>\n",
       "      <td>2</td>\n",
       "      <td>b</td>\n",
       "      <td>n</td>\n",
       "    </tr>\n",
       "    <tr>\n",
       "      <th>2</th>\n",
       "      <td>3</td>\n",
       "      <td>f</td>\n",
       "      <td>c</td>\n",
       "    </tr>\n",
       "  </tbody>\n",
       "</table>\n",
       "</div>"
      ],
      "text/plain": [
       "   vals ids ids2\n",
       "0     1   a    a\n",
       "1     2   b    n\n",
       "2     3   f    c"
      ]
     },
     "execution_count": 113,
     "metadata": {},
     "output_type": "execute_result"
    }
   ],
   "source": [
    "df3[mask]"
   ]
  },
  {
   "cell_type": "code",
   "execution_count": 114,
   "id": "aa5cfc4c",
   "metadata": {},
   "outputs": [
    {
     "data": {
      "application/vnd.microsoft.datawrangler.viewer.v0+json": {
       "columns": [
        {
         "name": "index",
         "rawType": "datetime64[ns]",
         "type": "datetime"
        },
        {
         "name": "A",
         "rawType": "float64",
         "type": "float"
        },
        {
         "name": "B",
         "rawType": "float64",
         "type": "float"
        },
        {
         "name": "C",
         "rawType": "float64",
         "type": "float"
        },
        {
         "name": "D",
         "rawType": "float64",
         "type": "float"
        }
       ],
       "ref": "8f7c398a-9078-455b-b5b9-9d1ec18c46d5",
       "rows": [
        [
         "2000-01-01 00:00:00",
         "-0.45635553153920366",
         "-0.5711930292119731",
         "-0.6659611600067009",
         "-1.6649368211788302"
        ],
        [
         "2000-01-02 00:00:00",
         "-0.9092487629275897",
         "1.4111870399683089",
         "0.6059571660157237",
         "-0.20273257930446276"
        ],
        [
         "2000-01-03 00:00:00",
         "1.2196963554549702",
         "-0.7312567063153562",
         "0.30222358979287667",
         "-0.7932459206022134"
        ],
        [
         "2000-01-04 00:00:00",
         "0.7800308474460637",
         "1.1250833845308328",
         "0.7468292897872119",
         "-1.4244944903675896"
        ],
        [
         "2000-01-05 00:00:00",
         "0.7217716282208329",
         "-1.132519699484015",
         "-0.18675721495218592",
         "-0.13491580058403718"
        ],
        [
         "2000-01-06 00:00:00",
         "0.2048764672235381",
         "0.8511727998987826",
         "-0.19654675949599115",
         "0.28031423798840094"
        ],
        [
         "2000-01-07 00:00:00",
         "0.1274621940757062",
         "-0.8266148069889638",
         "-1.046244558139686",
         "-2.2106468078181276"
        ],
        [
         "2000-01-08 00:00:00",
         "0.9976731002854162",
         "1.0337440658179597",
         "-0.5450149414595787",
         "0.8180743529407962"
        ]
       ],
       "shape": {
        "columns": 4,
        "rows": 8
       }
      },
      "text/html": [
       "<div>\n",
       "<style scoped>\n",
       "    .dataframe tbody tr th:only-of-type {\n",
       "        vertical-align: middle;\n",
       "    }\n",
       "\n",
       "    .dataframe tbody tr th {\n",
       "        vertical-align: top;\n",
       "    }\n",
       "\n",
       "    .dataframe thead th {\n",
       "        text-align: right;\n",
       "    }\n",
       "</style>\n",
       "<table border=\"1\" class=\"dataframe\">\n",
       "  <thead>\n",
       "    <tr style=\"text-align: right;\">\n",
       "      <th></th>\n",
       "      <th>A</th>\n",
       "      <th>B</th>\n",
       "      <th>C</th>\n",
       "      <th>D</th>\n",
       "    </tr>\n",
       "  </thead>\n",
       "  <tbody>\n",
       "    <tr>\n",
       "      <th>2000-01-01</th>\n",
       "      <td>-0.456356</td>\n",
       "      <td>-0.571193</td>\n",
       "      <td>-0.665961</td>\n",
       "      <td>-1.664937</td>\n",
       "    </tr>\n",
       "    <tr>\n",
       "      <th>2000-01-02</th>\n",
       "      <td>-0.909249</td>\n",
       "      <td>1.411187</td>\n",
       "      <td>0.605957</td>\n",
       "      <td>-0.202733</td>\n",
       "    </tr>\n",
       "    <tr>\n",
       "      <th>2000-01-03</th>\n",
       "      <td>1.219696</td>\n",
       "      <td>-0.731257</td>\n",
       "      <td>0.302224</td>\n",
       "      <td>-0.793246</td>\n",
       "    </tr>\n",
       "    <tr>\n",
       "      <th>2000-01-04</th>\n",
       "      <td>0.780031</td>\n",
       "      <td>1.125083</td>\n",
       "      <td>0.746829</td>\n",
       "      <td>-1.424494</td>\n",
       "    </tr>\n",
       "    <tr>\n",
       "      <th>2000-01-05</th>\n",
       "      <td>0.721772</td>\n",
       "      <td>-1.132520</td>\n",
       "      <td>-0.186757</td>\n",
       "      <td>-0.134916</td>\n",
       "    </tr>\n",
       "    <tr>\n",
       "      <th>2000-01-06</th>\n",
       "      <td>0.204876</td>\n",
       "      <td>0.851173</td>\n",
       "      <td>-0.196547</td>\n",
       "      <td>0.280314</td>\n",
       "    </tr>\n",
       "    <tr>\n",
       "      <th>2000-01-07</th>\n",
       "      <td>0.127462</td>\n",
       "      <td>-0.826615</td>\n",
       "      <td>-1.046245</td>\n",
       "      <td>-2.210647</td>\n",
       "    </tr>\n",
       "    <tr>\n",
       "      <th>2000-01-08</th>\n",
       "      <td>0.997673</td>\n",
       "      <td>1.033744</td>\n",
       "      <td>-0.545015</td>\n",
       "      <td>0.818074</td>\n",
       "    </tr>\n",
       "  </tbody>\n",
       "</table>\n",
       "</div>"
      ],
      "text/plain": [
       "                   A         B         C         D\n",
       "2000-01-01 -0.456356 -0.571193 -0.665961 -1.664937\n",
       "2000-01-02 -0.909249  1.411187  0.605957 -0.202733\n",
       "2000-01-03  1.219696 -0.731257  0.302224 -0.793246\n",
       "2000-01-04  0.780031  1.125083  0.746829 -1.424494\n",
       "2000-01-05  0.721772 -1.132520 -0.186757 -0.134916\n",
       "2000-01-06  0.204876  0.851173 -0.196547  0.280314\n",
       "2000-01-07  0.127462 -0.826615 -1.046245 -2.210647\n",
       "2000-01-08  0.997673  1.033744 -0.545015  0.818074"
      ]
     },
     "execution_count": 114,
     "metadata": {},
     "output_type": "execute_result"
    }
   ],
   "source": [
    "df"
   ]
  },
  {
   "cell_type": "code",
   "execution_count": 115,
   "id": "b029e5d2",
   "metadata": {},
   "outputs": [
    {
     "data": {
      "application/vnd.microsoft.datawrangler.viewer.v0+json": {
       "columns": [
        {
         "name": "index",
         "rawType": "datetime64[ns]",
         "type": "datetime"
        },
        {
         "name": "A",
         "rawType": "float64",
         "type": "float"
        },
        {
         "name": "B",
         "rawType": "float64",
         "type": "float"
        },
        {
         "name": "C",
         "rawType": "float64",
         "type": "float"
        },
        {
         "name": "D",
         "rawType": "float64",
         "type": "float"
        }
       ],
       "ref": "d97ea5e0-803e-42c7-bc7f-a1aee12a7880",
       "rows": [
        [
         "2000-01-01 00:00:00",
         "-0.45635553153920366",
         "-0.5711930292119731",
         "-0.6659611600067009",
         "-1.6649368211788302"
        ],
        [
         "2000-01-02 00:00:00",
         "-0.9092487629275897",
         null,
         null,
         "-0.20273257930446276"
        ],
        [
         "2000-01-03 00:00:00",
         null,
         "-0.7312567063153562",
         null,
         "-0.7932459206022134"
        ],
        [
         "2000-01-04 00:00:00",
         null,
         null,
         null,
         "-1.4244944903675896"
        ],
        [
         "2000-01-05 00:00:00",
         null,
         "-1.132519699484015",
         "-0.18675721495218592",
         "-0.13491580058403718"
        ],
        [
         "2000-01-06 00:00:00",
         null,
         null,
         "-0.19654675949599115",
         null
        ],
        [
         "2000-01-07 00:00:00",
         null,
         "-0.8266148069889638",
         "-1.046244558139686",
         "-2.2106468078181276"
        ],
        [
         "2000-01-08 00:00:00",
         null,
         null,
         "-0.5450149414595787",
         null
        ]
       ],
       "shape": {
        "columns": 4,
        "rows": 8
       }
      },
      "text/html": [
       "<div>\n",
       "<style scoped>\n",
       "    .dataframe tbody tr th:only-of-type {\n",
       "        vertical-align: middle;\n",
       "    }\n",
       "\n",
       "    .dataframe tbody tr th {\n",
       "        vertical-align: top;\n",
       "    }\n",
       "\n",
       "    .dataframe thead th {\n",
       "        text-align: right;\n",
       "    }\n",
       "</style>\n",
       "<table border=\"1\" class=\"dataframe\">\n",
       "  <thead>\n",
       "    <tr style=\"text-align: right;\">\n",
       "      <th></th>\n",
       "      <th>A</th>\n",
       "      <th>B</th>\n",
       "      <th>C</th>\n",
       "      <th>D</th>\n",
       "    </tr>\n",
       "  </thead>\n",
       "  <tbody>\n",
       "    <tr>\n",
       "      <th>2000-01-01</th>\n",
       "      <td>-0.456356</td>\n",
       "      <td>-0.571193</td>\n",
       "      <td>-0.665961</td>\n",
       "      <td>-1.664937</td>\n",
       "    </tr>\n",
       "    <tr>\n",
       "      <th>2000-01-02</th>\n",
       "      <td>-0.909249</td>\n",
       "      <td>NaN</td>\n",
       "      <td>NaN</td>\n",
       "      <td>-0.202733</td>\n",
       "    </tr>\n",
       "    <tr>\n",
       "      <th>2000-01-03</th>\n",
       "      <td>NaN</td>\n",
       "      <td>-0.731257</td>\n",
       "      <td>NaN</td>\n",
       "      <td>-0.793246</td>\n",
       "    </tr>\n",
       "    <tr>\n",
       "      <th>2000-01-04</th>\n",
       "      <td>NaN</td>\n",
       "      <td>NaN</td>\n",
       "      <td>NaN</td>\n",
       "      <td>-1.424494</td>\n",
       "    </tr>\n",
       "    <tr>\n",
       "      <th>2000-01-05</th>\n",
       "      <td>NaN</td>\n",
       "      <td>-1.132520</td>\n",
       "      <td>-0.186757</td>\n",
       "      <td>-0.134916</td>\n",
       "    </tr>\n",
       "    <tr>\n",
       "      <th>2000-01-06</th>\n",
       "      <td>NaN</td>\n",
       "      <td>NaN</td>\n",
       "      <td>-0.196547</td>\n",
       "      <td>NaN</td>\n",
       "    </tr>\n",
       "    <tr>\n",
       "      <th>2000-01-07</th>\n",
       "      <td>NaN</td>\n",
       "      <td>-0.826615</td>\n",
       "      <td>-1.046245</td>\n",
       "      <td>-2.210647</td>\n",
       "    </tr>\n",
       "    <tr>\n",
       "      <th>2000-01-08</th>\n",
       "      <td>NaN</td>\n",
       "      <td>NaN</td>\n",
       "      <td>-0.545015</td>\n",
       "      <td>NaN</td>\n",
       "    </tr>\n",
       "  </tbody>\n",
       "</table>\n",
       "</div>"
      ],
      "text/plain": [
       "                   A         B         C         D\n",
       "2000-01-01 -0.456356 -0.571193 -0.665961 -1.664937\n",
       "2000-01-02 -0.909249       NaN       NaN -0.202733\n",
       "2000-01-03       NaN -0.731257       NaN -0.793246\n",
       "2000-01-04       NaN       NaN       NaN -1.424494\n",
       "2000-01-05       NaN -1.132520 -0.186757 -0.134916\n",
       "2000-01-06       NaN       NaN -0.196547       NaN\n",
       "2000-01-07       NaN -0.826615 -1.046245 -2.210647\n",
       "2000-01-08       NaN       NaN -0.545015       NaN"
      ]
     },
     "execution_count": 115,
     "metadata": {},
     "output_type": "execute_result"
    }
   ],
   "source": [
    "df[df < 0]"
   ]
  },
  {
   "cell_type": "code",
   "execution_count": 116,
   "id": "a5e463e3",
   "metadata": {},
   "outputs": [
    {
     "data": {
      "application/vnd.microsoft.datawrangler.viewer.v0+json": {
       "columns": [
        {
         "name": "index",
         "rawType": "datetime64[ns]",
         "type": "datetime"
        },
        {
         "name": "A",
         "rawType": "float64",
         "type": "float"
        },
        {
         "name": "B",
         "rawType": "float64",
         "type": "float"
        },
        {
         "name": "C",
         "rawType": "float64",
         "type": "float"
        },
        {
         "name": "D",
         "rawType": "float64",
         "type": "float"
        }
       ],
       "ref": "eeff0ee0-94e8-4661-94f6-9e0bba843161",
       "rows": [
        [
         "2000-01-01 00:00:00",
         "-0.45635553153920366",
         "-0.5711930292119731",
         "-0.6659611600067009",
         "-1.6649368211788302"
        ],
        [
         "2000-01-02 00:00:00",
         "-0.9092487629275897",
         null,
         null,
         "-0.20273257930446276"
        ],
        [
         "2000-01-03 00:00:00",
         null,
         "-0.7312567063153562",
         null,
         "-0.7932459206022134"
        ],
        [
         "2000-01-04 00:00:00",
         null,
         null,
         null,
         "-1.4244944903675896"
        ],
        [
         "2000-01-05 00:00:00",
         null,
         "-1.132519699484015",
         "-0.18675721495218592",
         "-0.13491580058403718"
        ],
        [
         "2000-01-06 00:00:00",
         null,
         null,
         "-0.19654675949599115",
         null
        ],
        [
         "2000-01-07 00:00:00",
         null,
         "-0.8266148069889638",
         "-1.046244558139686",
         "-2.2106468078181276"
        ],
        [
         "2000-01-08 00:00:00",
         null,
         null,
         "-0.5450149414595787",
         null
        ]
       ],
       "shape": {
        "columns": 4,
        "rows": 8
       }
      },
      "text/html": [
       "<div>\n",
       "<style scoped>\n",
       "    .dataframe tbody tr th:only-of-type {\n",
       "        vertical-align: middle;\n",
       "    }\n",
       "\n",
       "    .dataframe tbody tr th {\n",
       "        vertical-align: top;\n",
       "    }\n",
       "\n",
       "    .dataframe thead th {\n",
       "        text-align: right;\n",
       "    }\n",
       "</style>\n",
       "<table border=\"1\" class=\"dataframe\">\n",
       "  <thead>\n",
       "    <tr style=\"text-align: right;\">\n",
       "      <th></th>\n",
       "      <th>A</th>\n",
       "      <th>B</th>\n",
       "      <th>C</th>\n",
       "      <th>D</th>\n",
       "    </tr>\n",
       "  </thead>\n",
       "  <tbody>\n",
       "    <tr>\n",
       "      <th>2000-01-01</th>\n",
       "      <td>-0.456356</td>\n",
       "      <td>-0.571193</td>\n",
       "      <td>-0.665961</td>\n",
       "      <td>-1.664937</td>\n",
       "    </tr>\n",
       "    <tr>\n",
       "      <th>2000-01-02</th>\n",
       "      <td>-0.909249</td>\n",
       "      <td>NaN</td>\n",
       "      <td>NaN</td>\n",
       "      <td>-0.202733</td>\n",
       "    </tr>\n",
       "    <tr>\n",
       "      <th>2000-01-03</th>\n",
       "      <td>NaN</td>\n",
       "      <td>-0.731257</td>\n",
       "      <td>NaN</td>\n",
       "      <td>-0.793246</td>\n",
       "    </tr>\n",
       "    <tr>\n",
       "      <th>2000-01-04</th>\n",
       "      <td>NaN</td>\n",
       "      <td>NaN</td>\n",
       "      <td>NaN</td>\n",
       "      <td>-1.424494</td>\n",
       "    </tr>\n",
       "    <tr>\n",
       "      <th>2000-01-05</th>\n",
       "      <td>NaN</td>\n",
       "      <td>-1.132520</td>\n",
       "      <td>-0.186757</td>\n",
       "      <td>-0.134916</td>\n",
       "    </tr>\n",
       "    <tr>\n",
       "      <th>2000-01-06</th>\n",
       "      <td>NaN</td>\n",
       "      <td>NaN</td>\n",
       "      <td>-0.196547</td>\n",
       "      <td>NaN</td>\n",
       "    </tr>\n",
       "    <tr>\n",
       "      <th>2000-01-07</th>\n",
       "      <td>NaN</td>\n",
       "      <td>-0.826615</td>\n",
       "      <td>-1.046245</td>\n",
       "      <td>-2.210647</td>\n",
       "    </tr>\n",
       "    <tr>\n",
       "      <th>2000-01-08</th>\n",
       "      <td>NaN</td>\n",
       "      <td>NaN</td>\n",
       "      <td>-0.545015</td>\n",
       "      <td>NaN</td>\n",
       "    </tr>\n",
       "  </tbody>\n",
       "</table>\n",
       "</div>"
      ],
      "text/plain": [
       "                   A         B         C         D\n",
       "2000-01-01 -0.456356 -0.571193 -0.665961 -1.664937\n",
       "2000-01-02 -0.909249       NaN       NaN -0.202733\n",
       "2000-01-03       NaN -0.731257       NaN -0.793246\n",
       "2000-01-04       NaN       NaN       NaN -1.424494\n",
       "2000-01-05       NaN -1.132520 -0.186757 -0.134916\n",
       "2000-01-06       NaN       NaN -0.196547       NaN\n",
       "2000-01-07       NaN -0.826615 -1.046245 -2.210647\n",
       "2000-01-08       NaN       NaN -0.545015       NaN"
      ]
     },
     "execution_count": 116,
     "metadata": {},
     "output_type": "execute_result"
    }
   ],
   "source": [
    "df.where(df < 0)"
   ]
  },
  {
   "cell_type": "code",
   "execution_count": 117,
   "id": "91f7d9d8",
   "metadata": {},
   "outputs": [
    {
     "data": {
      "application/vnd.microsoft.datawrangler.viewer.v0+json": {
       "columns": [
        {
         "name": "index",
         "rawType": "datetime64[ns]",
         "type": "datetime"
        },
        {
         "name": "A",
         "rawType": "float64",
         "type": "float"
        },
        {
         "name": "B",
         "rawType": "float64",
         "type": "float"
        },
        {
         "name": "C",
         "rawType": "float64",
         "type": "float"
        },
        {
         "name": "D",
         "rawType": "float64",
         "type": "float"
        }
       ],
       "ref": "ae9b6d5f-0a93-4663-b8b8-3d122df51004",
       "rows": [
        [
         "2000-01-01 00:00:00",
         "-0.45635553153920366",
         "-0.5711930292119731",
         "-0.6659611600067009",
         "-1.6649368211788302"
        ],
        [
         "2000-01-02 00:00:00",
         "-0.9092487629275897",
         null,
         null,
         "-0.20273257930446276"
        ],
        [
         "2000-01-03 00:00:00",
         null,
         "-0.7312567063153562",
         null,
         "-0.7932459206022134"
        ],
        [
         "2000-01-04 00:00:00",
         null,
         null,
         null,
         "-1.4244944903675896"
        ],
        [
         "2000-01-05 00:00:00",
         null,
         "-1.132519699484015",
         "-0.18675721495218592",
         "-0.13491580058403718"
        ],
        [
         "2000-01-06 00:00:00",
         null,
         null,
         "-0.19654675949599115",
         null
        ],
        [
         "2000-01-07 00:00:00",
         null,
         "-0.8266148069889638",
         "-1.046244558139686",
         "-2.2106468078181276"
        ],
        [
         "2000-01-08 00:00:00",
         null,
         null,
         "-0.5450149414595787",
         null
        ]
       ],
       "shape": {
        "columns": 4,
        "rows": 8
       }
      },
      "text/html": [
       "<div>\n",
       "<style scoped>\n",
       "    .dataframe tbody tr th:only-of-type {\n",
       "        vertical-align: middle;\n",
       "    }\n",
       "\n",
       "    .dataframe tbody tr th {\n",
       "        vertical-align: top;\n",
       "    }\n",
       "\n",
       "    .dataframe thead th {\n",
       "        text-align: right;\n",
       "    }\n",
       "</style>\n",
       "<table border=\"1\" class=\"dataframe\">\n",
       "  <thead>\n",
       "    <tr style=\"text-align: right;\">\n",
       "      <th></th>\n",
       "      <th>A</th>\n",
       "      <th>B</th>\n",
       "      <th>C</th>\n",
       "      <th>D</th>\n",
       "    </tr>\n",
       "  </thead>\n",
       "  <tbody>\n",
       "    <tr>\n",
       "      <th>2000-01-01</th>\n",
       "      <td>-0.456356</td>\n",
       "      <td>-0.571193</td>\n",
       "      <td>-0.665961</td>\n",
       "      <td>-1.664937</td>\n",
       "    </tr>\n",
       "    <tr>\n",
       "      <th>2000-01-02</th>\n",
       "      <td>-0.909249</td>\n",
       "      <td>NaN</td>\n",
       "      <td>NaN</td>\n",
       "      <td>-0.202733</td>\n",
       "    </tr>\n",
       "    <tr>\n",
       "      <th>2000-01-03</th>\n",
       "      <td>NaN</td>\n",
       "      <td>-0.731257</td>\n",
       "      <td>NaN</td>\n",
       "      <td>-0.793246</td>\n",
       "    </tr>\n",
       "    <tr>\n",
       "      <th>2000-01-04</th>\n",
       "      <td>NaN</td>\n",
       "      <td>NaN</td>\n",
       "      <td>NaN</td>\n",
       "      <td>-1.424494</td>\n",
       "    </tr>\n",
       "    <tr>\n",
       "      <th>2000-01-05</th>\n",
       "      <td>NaN</td>\n",
       "      <td>-1.132520</td>\n",
       "      <td>-0.186757</td>\n",
       "      <td>-0.134916</td>\n",
       "    </tr>\n",
       "    <tr>\n",
       "      <th>2000-01-06</th>\n",
       "      <td>NaN</td>\n",
       "      <td>NaN</td>\n",
       "      <td>-0.196547</td>\n",
       "      <td>NaN</td>\n",
       "    </tr>\n",
       "    <tr>\n",
       "      <th>2000-01-07</th>\n",
       "      <td>NaN</td>\n",
       "      <td>-0.826615</td>\n",
       "      <td>-1.046245</td>\n",
       "      <td>-2.210647</td>\n",
       "    </tr>\n",
       "    <tr>\n",
       "      <th>2000-01-08</th>\n",
       "      <td>NaN</td>\n",
       "      <td>NaN</td>\n",
       "      <td>-0.545015</td>\n",
       "      <td>NaN</td>\n",
       "    </tr>\n",
       "  </tbody>\n",
       "</table>\n",
       "</div>"
      ],
      "text/plain": [
       "                   A         B         C         D\n",
       "2000-01-01 -0.456356 -0.571193 -0.665961 -1.664937\n",
       "2000-01-02 -0.909249       NaN       NaN -0.202733\n",
       "2000-01-03       NaN -0.731257       NaN -0.793246\n",
       "2000-01-04       NaN       NaN       NaN -1.424494\n",
       "2000-01-05       NaN -1.132520 -0.186757 -0.134916\n",
       "2000-01-06       NaN       NaN -0.196547       NaN\n",
       "2000-01-07       NaN -0.826615 -1.046245 -2.210647\n",
       "2000-01-08       NaN       NaN -0.545015       NaN"
      ]
     },
     "execution_count": 117,
     "metadata": {},
     "output_type": "execute_result"
    }
   ],
   "source": [
    "df2 = df[df < 0]\n",
    "df2"
   ]
  },
  {
   "cell_type": "code",
   "execution_count": 118,
   "id": "f2c0bd29",
   "metadata": {},
   "outputs": [
    {
     "data": {
      "application/vnd.microsoft.datawrangler.viewer.v0+json": {
       "columns": [
        {
         "name": "index",
         "rawType": "datetime64[ns]",
         "type": "datetime"
        },
        {
         "name": "A",
         "rawType": "float64",
         "type": "float"
        },
        {
         "name": "B",
         "rawType": "float64",
         "type": "float"
        },
        {
         "name": "C",
         "rawType": "float64",
         "type": "float"
        },
        {
         "name": "D",
         "rawType": "float64",
         "type": "float"
        }
       ],
       "ref": "42914aa7-bff8-4088-8131-a7bf2d33e993",
       "rows": [
        [
         "2000-01-01 00:00:00",
         "-0.45635553153920366",
         "-0.5711930292119731",
         "-0.6659611600067009",
         "-1.6649368211788302"
        ],
        [
         "2000-01-02 00:00:00",
         "-0.9092487629275897",
         "0.0",
         "0.0",
         "-0.20273257930446276"
        ],
        [
         "2000-01-03 00:00:00",
         "0.0",
         "-0.7312567063153562",
         "0.0",
         "-0.7932459206022134"
        ],
        [
         "2000-01-04 00:00:00",
         "0.0",
         "0.0",
         "0.0",
         "-1.4244944903675896"
        ],
        [
         "2000-01-05 00:00:00",
         "0.0",
         "-1.132519699484015",
         "-0.18675721495218592",
         "-0.13491580058403718"
        ],
        [
         "2000-01-06 00:00:00",
         "0.0",
         "0.0",
         "-0.19654675949599115",
         "0.0"
        ],
        [
         "2000-01-07 00:00:00",
         "0.0",
         "-0.8266148069889638",
         "-1.046244558139686",
         "-2.2106468078181276"
        ],
        [
         "2000-01-08 00:00:00",
         "0.0",
         "0.0",
         "-0.5450149414595787",
         "0.0"
        ]
       ],
       "shape": {
        "columns": 4,
        "rows": 8
       }
      },
      "text/html": [
       "<div>\n",
       "<style scoped>\n",
       "    .dataframe tbody tr th:only-of-type {\n",
       "        vertical-align: middle;\n",
       "    }\n",
       "\n",
       "    .dataframe tbody tr th {\n",
       "        vertical-align: top;\n",
       "    }\n",
       "\n",
       "    .dataframe thead th {\n",
       "        text-align: right;\n",
       "    }\n",
       "</style>\n",
       "<table border=\"1\" class=\"dataframe\">\n",
       "  <thead>\n",
       "    <tr style=\"text-align: right;\">\n",
       "      <th></th>\n",
       "      <th>A</th>\n",
       "      <th>B</th>\n",
       "      <th>C</th>\n",
       "      <th>D</th>\n",
       "    </tr>\n",
       "  </thead>\n",
       "  <tbody>\n",
       "    <tr>\n",
       "      <th>2000-01-01</th>\n",
       "      <td>-0.456356</td>\n",
       "      <td>-0.571193</td>\n",
       "      <td>-0.665961</td>\n",
       "      <td>-1.664937</td>\n",
       "    </tr>\n",
       "    <tr>\n",
       "      <th>2000-01-02</th>\n",
       "      <td>-0.909249</td>\n",
       "      <td>0.000000</td>\n",
       "      <td>0.000000</td>\n",
       "      <td>-0.202733</td>\n",
       "    </tr>\n",
       "    <tr>\n",
       "      <th>2000-01-03</th>\n",
       "      <td>0.000000</td>\n",
       "      <td>-0.731257</td>\n",
       "      <td>0.000000</td>\n",
       "      <td>-0.793246</td>\n",
       "    </tr>\n",
       "    <tr>\n",
       "      <th>2000-01-04</th>\n",
       "      <td>0.000000</td>\n",
       "      <td>0.000000</td>\n",
       "      <td>0.000000</td>\n",
       "      <td>-1.424494</td>\n",
       "    </tr>\n",
       "    <tr>\n",
       "      <th>2000-01-05</th>\n",
       "      <td>0.000000</td>\n",
       "      <td>-1.132520</td>\n",
       "      <td>-0.186757</td>\n",
       "      <td>-0.134916</td>\n",
       "    </tr>\n",
       "    <tr>\n",
       "      <th>2000-01-06</th>\n",
       "      <td>0.000000</td>\n",
       "      <td>0.000000</td>\n",
       "      <td>-0.196547</td>\n",
       "      <td>0.000000</td>\n",
       "    </tr>\n",
       "    <tr>\n",
       "      <th>2000-01-07</th>\n",
       "      <td>0.000000</td>\n",
       "      <td>-0.826615</td>\n",
       "      <td>-1.046245</td>\n",
       "      <td>-2.210647</td>\n",
       "    </tr>\n",
       "    <tr>\n",
       "      <th>2000-01-08</th>\n",
       "      <td>0.000000</td>\n",
       "      <td>0.000000</td>\n",
       "      <td>-0.545015</td>\n",
       "      <td>0.000000</td>\n",
       "    </tr>\n",
       "  </tbody>\n",
       "</table>\n",
       "</div>"
      ],
      "text/plain": [
       "                   A         B         C         D\n",
       "2000-01-01 -0.456356 -0.571193 -0.665961 -1.664937\n",
       "2000-01-02 -0.909249  0.000000  0.000000 -0.202733\n",
       "2000-01-03  0.000000 -0.731257  0.000000 -0.793246\n",
       "2000-01-04  0.000000  0.000000  0.000000 -1.424494\n",
       "2000-01-05  0.000000 -1.132520 -0.186757 -0.134916\n",
       "2000-01-06  0.000000  0.000000 -0.196547  0.000000\n",
       "2000-01-07  0.000000 -0.826615 -1.046245 -2.210647\n",
       "2000-01-08  0.000000  0.000000 -0.545015  0.000000"
      ]
     },
     "execution_count": 118,
     "metadata": {},
     "output_type": "execute_result"
    }
   ],
   "source": [
    "df.where(df < 0, 0)"
   ]
  },
  {
   "cell_type": "code",
   "execution_count": 119,
   "id": "151da186",
   "metadata": {},
   "outputs": [
    {
     "data": {
      "application/vnd.microsoft.datawrangler.viewer.v0+json": {
       "columns": [
        {
         "name": "index",
         "rawType": "int64",
         "type": "integer"
        },
        {
         "name": "col1",
         "rawType": "object",
         "type": "string"
        },
        {
         "name": "col2",
         "rawType": "object",
         "type": "string"
        }
       ],
       "ref": "728fc3a1-7d18-40e2-99d2-e20a6dfde465",
       "rows": [
        [
         "0",
         "A",
         "Z"
        ],
        [
         "1",
         "B",
         "Z"
        ],
        [
         "2",
         "B",
         "X"
        ],
        [
         "3",
         "C",
         "Y"
        ]
       ],
       "shape": {
        "columns": 2,
        "rows": 4
       }
      },
      "text/html": [
       "<div>\n",
       "<style scoped>\n",
       "    .dataframe tbody tr th:only-of-type {\n",
       "        vertical-align: middle;\n",
       "    }\n",
       "\n",
       "    .dataframe tbody tr th {\n",
       "        vertical-align: top;\n",
       "    }\n",
       "\n",
       "    .dataframe thead th {\n",
       "        text-align: right;\n",
       "    }\n",
       "</style>\n",
       "<table border=\"1\" class=\"dataframe\">\n",
       "  <thead>\n",
       "    <tr style=\"text-align: right;\">\n",
       "      <th></th>\n",
       "      <th>col1</th>\n",
       "      <th>col2</th>\n",
       "    </tr>\n",
       "  </thead>\n",
       "  <tbody>\n",
       "    <tr>\n",
       "      <th>0</th>\n",
       "      <td>A</td>\n",
       "      <td>Z</td>\n",
       "    </tr>\n",
       "    <tr>\n",
       "      <th>1</th>\n",
       "      <td>B</td>\n",
       "      <td>Z</td>\n",
       "    </tr>\n",
       "    <tr>\n",
       "      <th>2</th>\n",
       "      <td>B</td>\n",
       "      <td>X</td>\n",
       "    </tr>\n",
       "    <tr>\n",
       "      <th>3</th>\n",
       "      <td>C</td>\n",
       "      <td>Y</td>\n",
       "    </tr>\n",
       "  </tbody>\n",
       "</table>\n",
       "</div>"
      ],
      "text/plain": [
       "  col1 col2\n",
       "0    A    Z\n",
       "1    B    Z\n",
       "2    B    X\n",
       "3    C    Y"
      ]
     },
     "execution_count": 119,
     "metadata": {},
     "output_type": "execute_result"
    }
   ],
   "source": [
    "df4 = pd.DataFrame({'col1': list('ABBC'), 'col2': list('ZZXY')})\n",
    "df4"
   ]
  },
  {
   "cell_type": "code",
   "execution_count": 120,
   "id": "3a230d80",
   "metadata": {},
   "outputs": [],
   "source": [
    "rule = df4.where(df4['col2'] == 'Z')"
   ]
  },
  {
   "cell_type": "code",
   "execution_count": 121,
   "id": "4c386f57",
   "metadata": {},
   "outputs": [],
   "source": [
    "df4['color'] = np.where(df4['col2'] == 'Z', 'green', 'red')"
   ]
  },
  {
   "cell_type": "code",
   "execution_count": 122,
   "id": "fe680f1d",
   "metadata": {},
   "outputs": [
    {
     "data": {
      "application/vnd.microsoft.datawrangler.viewer.v0+json": {
       "columns": [
        {
         "name": "index",
         "rawType": "int64",
         "type": "integer"
        },
        {
         "name": "col1",
         "rawType": "object",
         "type": "string"
        },
        {
         "name": "col2",
         "rawType": "object",
         "type": "string"
        },
        {
         "name": "color",
         "rawType": "object",
         "type": "string"
        }
       ],
       "ref": "1298f246-b10a-45b0-b2e7-9cf2b3967612",
       "rows": [
        [
         "0",
         "A",
         "Z",
         "green"
        ],
        [
         "1",
         "B",
         "Z",
         "green"
        ],
        [
         "2",
         "B",
         "X",
         "red"
        ],
        [
         "3",
         "C",
         "Y",
         "red"
        ]
       ],
       "shape": {
        "columns": 3,
        "rows": 4
       }
      },
      "text/html": [
       "<div>\n",
       "<style scoped>\n",
       "    .dataframe tbody tr th:only-of-type {\n",
       "        vertical-align: middle;\n",
       "    }\n",
       "\n",
       "    .dataframe tbody tr th {\n",
       "        vertical-align: top;\n",
       "    }\n",
       "\n",
       "    .dataframe thead th {\n",
       "        text-align: right;\n",
       "    }\n",
       "</style>\n",
       "<table border=\"1\" class=\"dataframe\">\n",
       "  <thead>\n",
       "    <tr style=\"text-align: right;\">\n",
       "      <th></th>\n",
       "      <th>col1</th>\n",
       "      <th>col2</th>\n",
       "      <th>color</th>\n",
       "    </tr>\n",
       "  </thead>\n",
       "  <tbody>\n",
       "    <tr>\n",
       "      <th>0</th>\n",
       "      <td>A</td>\n",
       "      <td>Z</td>\n",
       "      <td>green</td>\n",
       "    </tr>\n",
       "    <tr>\n",
       "      <th>1</th>\n",
       "      <td>B</td>\n",
       "      <td>Z</td>\n",
       "      <td>green</td>\n",
       "    </tr>\n",
       "    <tr>\n",
       "      <th>2</th>\n",
       "      <td>B</td>\n",
       "      <td>X</td>\n",
       "      <td>red</td>\n",
       "    </tr>\n",
       "    <tr>\n",
       "      <th>3</th>\n",
       "      <td>C</td>\n",
       "      <td>Y</td>\n",
       "      <td>red</td>\n",
       "    </tr>\n",
       "  </tbody>\n",
       "</table>\n",
       "</div>"
      ],
      "text/plain": [
       "  col1 col2  color\n",
       "0    A    Z  green\n",
       "1    B    Z  green\n",
       "2    B    X    red\n",
       "3    C    Y    red"
      ]
     },
     "execution_count": 122,
     "metadata": {},
     "output_type": "execute_result"
    }
   ],
   "source": [
    "df4"
   ]
  },
  {
   "cell_type": "code",
   "execution_count": 123,
   "id": "3fa61edb",
   "metadata": {},
   "outputs": [
    {
     "data": {
      "text/plain": [
       "[0     True\n",
       " 1    False\n",
       " 2    False\n",
       " 3    False\n",
       " dtype: bool,\n",
       " 0    False\n",
       " 1     True\n",
       " 2    False\n",
       " 3    False\n",
       " dtype: bool,\n",
       " 0    False\n",
       " 1     True\n",
       " 2     True\n",
       " 3    False\n",
       " Name: col1, dtype: bool]"
      ]
     },
     "execution_count": 123,
     "metadata": {},
     "output_type": "execute_result"
    }
   ],
   "source": [
    "conditions = [\n",
    "    (df4['col2'] == 'Z') & (df4['col1'] == 'A'),\n",
    "    (df4['col2'] == 'Z') & (df4['col1'] == 'B'),\n",
    "    (df4['col1'] == 'B')\n",
    "]\n",
    "conditions"
   ]
  },
  {
   "cell_type": "code",
   "execution_count": 124,
   "id": "c32fabea",
   "metadata": {},
   "outputs": [],
   "source": [
    "choices = ['yellow', 'blue', 'purple']\n",
    "df4['color'] = np.select(conditions, choices, default='black')"
   ]
  },
  {
   "cell_type": "code",
   "execution_count": 125,
   "id": "1485e901",
   "metadata": {},
   "outputs": [
    {
     "data": {
      "application/vnd.microsoft.datawrangler.viewer.v0+json": {
       "columns": [
        {
         "name": "index",
         "rawType": "int64",
         "type": "integer"
        },
        {
         "name": "col1",
         "rawType": "object",
         "type": "string"
        },
        {
         "name": "col2",
         "rawType": "object",
         "type": "string"
        },
        {
         "name": "color",
         "rawType": "object",
         "type": "string"
        }
       ],
       "ref": "dd60db65-cb7d-4f6d-a8c9-046a9eca07f4",
       "rows": [
        [
         "0",
         "A",
         "Z",
         "yellow"
        ],
        [
         "1",
         "B",
         "Z",
         "blue"
        ],
        [
         "2",
         "B",
         "X",
         "purple"
        ],
        [
         "3",
         "C",
         "Y",
         "black"
        ]
       ],
       "shape": {
        "columns": 3,
        "rows": 4
       }
      },
      "text/html": [
       "<div>\n",
       "<style scoped>\n",
       "    .dataframe tbody tr th:only-of-type {\n",
       "        vertical-align: middle;\n",
       "    }\n",
       "\n",
       "    .dataframe tbody tr th {\n",
       "        vertical-align: top;\n",
       "    }\n",
       "\n",
       "    .dataframe thead th {\n",
       "        text-align: right;\n",
       "    }\n",
       "</style>\n",
       "<table border=\"1\" class=\"dataframe\">\n",
       "  <thead>\n",
       "    <tr style=\"text-align: right;\">\n",
       "      <th></th>\n",
       "      <th>col1</th>\n",
       "      <th>col2</th>\n",
       "      <th>color</th>\n",
       "    </tr>\n",
       "  </thead>\n",
       "  <tbody>\n",
       "    <tr>\n",
       "      <th>0</th>\n",
       "      <td>A</td>\n",
       "      <td>Z</td>\n",
       "      <td>yellow</td>\n",
       "    </tr>\n",
       "    <tr>\n",
       "      <th>1</th>\n",
       "      <td>B</td>\n",
       "      <td>Z</td>\n",
       "      <td>blue</td>\n",
       "    </tr>\n",
       "    <tr>\n",
       "      <th>2</th>\n",
       "      <td>B</td>\n",
       "      <td>X</td>\n",
       "      <td>purple</td>\n",
       "    </tr>\n",
       "    <tr>\n",
       "      <th>3</th>\n",
       "      <td>C</td>\n",
       "      <td>Y</td>\n",
       "      <td>black</td>\n",
       "    </tr>\n",
       "  </tbody>\n",
       "</table>\n",
       "</div>"
      ],
      "text/plain": [
       "  col1 col2   color\n",
       "0    A    Z  yellow\n",
       "1    B    Z    blue\n",
       "2    B    X  purple\n",
       "3    C    Y   black"
      ]
     },
     "execution_count": 125,
     "metadata": {},
     "output_type": "execute_result"
    }
   ],
   "source": [
    "df4"
   ]
  },
  {
   "cell_type": "code",
   "execution_count": 126,
   "id": "cf784fa8",
   "metadata": {},
   "outputs": [
    {
     "data": {
      "application/vnd.microsoft.datawrangler.viewer.v0+json": {
       "columns": [
        {
         "name": "index",
         "rawType": "int64",
         "type": "integer"
        },
        {
         "name": "A",
         "rawType": "float64",
         "type": "float"
        },
        {
         "name": "B",
         "rawType": "float64",
         "type": "float"
        },
        {
         "name": "C",
         "rawType": "float64",
         "type": "float"
        }
       ],
       "ref": "074d70f8-a706-4ad5-9f7c-e7758a551846",
       "rows": [
        [
         "0",
         "0.2761003415204678",
         "0.9745074647162927",
         "0.09813267222359168"
        ],
        [
         "1",
         "0.9390308170661273",
         "0.6987464160903367",
         "0.24507573140196037"
        ],
        [
         "2",
         "0.6250630172684256",
         "0.12100095400347322",
         "0.6743474467221005"
        ],
        [
         "3",
         "0.5245976224151273",
         "0.887053001180302",
         "0.5772902089774086"
        ],
        [
         "4",
         "0.7937296349296351",
         "0.24171732786426392",
         "0.6215231812041561"
        ],
        [
         "5",
         "0.3813680448983391",
         "0.45855085848122146",
         "0.3665972984401801"
        ],
        [
         "6",
         "0.5929525214057386",
         "0.5917150870887202",
         "0.7471398157836774"
        ],
        [
         "7",
         "0.2512186306071257",
         "0.2516992939429159",
         "0.868290770040366"
        ],
        [
         "8",
         "0.6562547996006252",
         "0.9786109329928014",
         "0.5311348236008427"
        ],
        [
         "9",
         "0.596101280320961",
         "0.8941061981967593",
         "0.763129480455588"
        ]
       ],
       "shape": {
        "columns": 3,
        "rows": 10
       }
      },
      "text/html": [
       "<div>\n",
       "<style scoped>\n",
       "    .dataframe tbody tr th:only-of-type {\n",
       "        vertical-align: middle;\n",
       "    }\n",
       "\n",
       "    .dataframe tbody tr th {\n",
       "        vertical-align: top;\n",
       "    }\n",
       "\n",
       "    .dataframe thead th {\n",
       "        text-align: right;\n",
       "    }\n",
       "</style>\n",
       "<table border=\"1\" class=\"dataframe\">\n",
       "  <thead>\n",
       "    <tr style=\"text-align: right;\">\n",
       "      <th></th>\n",
       "      <th>A</th>\n",
       "      <th>B</th>\n",
       "      <th>C</th>\n",
       "    </tr>\n",
       "  </thead>\n",
       "  <tbody>\n",
       "    <tr>\n",
       "      <th>0</th>\n",
       "      <td>0.276100</td>\n",
       "      <td>0.974507</td>\n",
       "      <td>0.098133</td>\n",
       "    </tr>\n",
       "    <tr>\n",
       "      <th>1</th>\n",
       "      <td>0.939031</td>\n",
       "      <td>0.698746</td>\n",
       "      <td>0.245076</td>\n",
       "    </tr>\n",
       "    <tr>\n",
       "      <th>2</th>\n",
       "      <td>0.625063</td>\n",
       "      <td>0.121001</td>\n",
       "      <td>0.674347</td>\n",
       "    </tr>\n",
       "    <tr>\n",
       "      <th>3</th>\n",
       "      <td>0.524598</td>\n",
       "      <td>0.887053</td>\n",
       "      <td>0.577290</td>\n",
       "    </tr>\n",
       "    <tr>\n",
       "      <th>4</th>\n",
       "      <td>0.793730</td>\n",
       "      <td>0.241717</td>\n",
       "      <td>0.621523</td>\n",
       "    </tr>\n",
       "    <tr>\n",
       "      <th>5</th>\n",
       "      <td>0.381368</td>\n",
       "      <td>0.458551</td>\n",
       "      <td>0.366597</td>\n",
       "    </tr>\n",
       "    <tr>\n",
       "      <th>6</th>\n",
       "      <td>0.592953</td>\n",
       "      <td>0.591715</td>\n",
       "      <td>0.747140</td>\n",
       "    </tr>\n",
       "    <tr>\n",
       "      <th>7</th>\n",
       "      <td>0.251219</td>\n",
       "      <td>0.251699</td>\n",
       "      <td>0.868291</td>\n",
       "    </tr>\n",
       "    <tr>\n",
       "      <th>8</th>\n",
       "      <td>0.656255</td>\n",
       "      <td>0.978611</td>\n",
       "      <td>0.531135</td>\n",
       "    </tr>\n",
       "    <tr>\n",
       "      <th>9</th>\n",
       "      <td>0.596101</td>\n",
       "      <td>0.894106</td>\n",
       "      <td>0.763129</td>\n",
       "    </tr>\n",
       "  </tbody>\n",
       "</table>\n",
       "</div>"
      ],
      "text/plain": [
       "          A         B         C\n",
       "0  0.276100  0.974507  0.098133\n",
       "1  0.939031  0.698746  0.245076\n",
       "2  0.625063  0.121001  0.674347\n",
       "3  0.524598  0.887053  0.577290\n",
       "4  0.793730  0.241717  0.621523\n",
       "5  0.381368  0.458551  0.366597\n",
       "6  0.592953  0.591715  0.747140\n",
       "7  0.251219  0.251699  0.868291\n",
       "8  0.656255  0.978611  0.531135\n",
       "9  0.596101  0.894106  0.763129"
      ]
     },
     "execution_count": 126,
     "metadata": {},
     "output_type": "execute_result"
    }
   ],
   "source": [
    "n = 10\n",
    "df5 = pd.DataFrame(np.random.rand(n, 3), columns=list(\"ABC\"))\n",
    "df5"
   ]
  },
  {
   "cell_type": "code",
   "execution_count": 127,
   "id": "8068808e",
   "metadata": {},
   "outputs": [
    {
     "data": {
      "application/vnd.microsoft.datawrangler.viewer.v0+json": {
       "columns": [
        {
         "name": "index",
         "rawType": "int64",
         "type": "integer"
        },
        {
         "name": "A",
         "rawType": "float64",
         "type": "float"
        },
        {
         "name": "B",
         "rawType": "float64",
         "type": "float"
        },
        {
         "name": "C",
         "rawType": "float64",
         "type": "float"
        }
       ],
       "ref": "e9137c4f-00ab-4f8f-b260-e917fe959869",
       "rows": [
        [
         "0",
         "0.2761003415204678",
         "0.9745074647162927",
         "0.09813267222359168"
        ],
        [
         "3",
         "0.5245976224151273",
         "0.887053001180302",
         "0.5772902089774086"
        ],
        [
         "5",
         "0.3813680448983391",
         "0.45855085848122146",
         "0.3665972984401801"
        ],
        [
         "8",
         "0.6562547996006252",
         "0.9786109329928014",
         "0.5311348236008427"
        ],
        [
         "9",
         "0.596101280320961",
         "0.8941061981967593",
         "0.763129480455588"
        ]
       ],
       "shape": {
        "columns": 3,
        "rows": 5
       }
      },
      "text/html": [
       "<div>\n",
       "<style scoped>\n",
       "    .dataframe tbody tr th:only-of-type {\n",
       "        vertical-align: middle;\n",
       "    }\n",
       "\n",
       "    .dataframe tbody tr th {\n",
       "        vertical-align: top;\n",
       "    }\n",
       "\n",
       "    .dataframe thead th {\n",
       "        text-align: right;\n",
       "    }\n",
       "</style>\n",
       "<table border=\"1\" class=\"dataframe\">\n",
       "  <thead>\n",
       "    <tr style=\"text-align: right;\">\n",
       "      <th></th>\n",
       "      <th>A</th>\n",
       "      <th>B</th>\n",
       "      <th>C</th>\n",
       "    </tr>\n",
       "  </thead>\n",
       "  <tbody>\n",
       "    <tr>\n",
       "      <th>0</th>\n",
       "      <td>0.276100</td>\n",
       "      <td>0.974507</td>\n",
       "      <td>0.098133</td>\n",
       "    </tr>\n",
       "    <tr>\n",
       "      <th>3</th>\n",
       "      <td>0.524598</td>\n",
       "      <td>0.887053</td>\n",
       "      <td>0.577290</td>\n",
       "    </tr>\n",
       "    <tr>\n",
       "      <th>5</th>\n",
       "      <td>0.381368</td>\n",
       "      <td>0.458551</td>\n",
       "      <td>0.366597</td>\n",
       "    </tr>\n",
       "    <tr>\n",
       "      <th>8</th>\n",
       "      <td>0.656255</td>\n",
       "      <td>0.978611</td>\n",
       "      <td>0.531135</td>\n",
       "    </tr>\n",
       "    <tr>\n",
       "      <th>9</th>\n",
       "      <td>0.596101</td>\n",
       "      <td>0.894106</td>\n",
       "      <td>0.763129</td>\n",
       "    </tr>\n",
       "  </tbody>\n",
       "</table>\n",
       "</div>"
      ],
      "text/plain": [
       "          A         B         C\n",
       "0  0.276100  0.974507  0.098133\n",
       "3  0.524598  0.887053  0.577290\n",
       "5  0.381368  0.458551  0.366597\n",
       "8  0.656255  0.978611  0.531135\n",
       "9  0.596101  0.894106  0.763129"
      ]
     },
     "execution_count": 127,
     "metadata": {},
     "output_type": "execute_result"
    }
   ],
   "source": [
    "df5.query(\"(A < B) & (B > C)\")"
   ]
  },
  {
   "cell_type": "code",
   "execution_count": 128,
   "id": "e70743e6",
   "metadata": {},
   "outputs": [],
   "source": [
    "df7 = pd.DataFrame({'a': ['one', 'one', 'two', 'two', 'two', 'three', 'four'],\n",
    "                    'b': ['x', 'y', 'x', 'y', 'x', 'x', 'x'],\n",
    "                    'c': np.random.randn(7)})"
   ]
  },
  {
   "cell_type": "code",
   "execution_count": 129,
   "id": "a4e79f4c",
   "metadata": {},
   "outputs": [
    {
     "data": {
      "application/vnd.microsoft.datawrangler.viewer.v0+json": {
       "columns": [
        {
         "name": "index",
         "rawType": "int64",
         "type": "integer"
        },
        {
         "name": "a",
         "rawType": "object",
         "type": "string"
        },
        {
         "name": "b",
         "rawType": "object",
         "type": "string"
        },
        {
         "name": "c",
         "rawType": "float64",
         "type": "float"
        }
       ],
       "ref": "ab0c6b86-e1dd-40b2-bb35-e2a5e617139f",
       "rows": [
        [
         "0",
         "one",
         "x",
         "0.7379123718483739"
        ],
        [
         "1",
         "one",
         "y",
         "-0.055840829534846786"
        ],
        [
         "2",
         "two",
         "x",
         "-0.7387358343013685"
        ],
        [
         "3",
         "two",
         "y",
         "-0.6479440369867033"
        ],
        [
         "4",
         "two",
         "x",
         "-0.7785215942178239"
        ],
        [
         "5",
         "three",
         "x",
         "-0.6587244657909989"
        ],
        [
         "6",
         "four",
         "x",
         "-0.16970729179545532"
        ]
       ],
       "shape": {
        "columns": 3,
        "rows": 7
       }
      },
      "text/html": [
       "<div>\n",
       "<style scoped>\n",
       "    .dataframe tbody tr th:only-of-type {\n",
       "        vertical-align: middle;\n",
       "    }\n",
       "\n",
       "    .dataframe tbody tr th {\n",
       "        vertical-align: top;\n",
       "    }\n",
       "\n",
       "    .dataframe thead th {\n",
       "        text-align: right;\n",
       "    }\n",
       "</style>\n",
       "<table border=\"1\" class=\"dataframe\">\n",
       "  <thead>\n",
       "    <tr style=\"text-align: right;\">\n",
       "      <th></th>\n",
       "      <th>a</th>\n",
       "      <th>b</th>\n",
       "      <th>c</th>\n",
       "    </tr>\n",
       "  </thead>\n",
       "  <tbody>\n",
       "    <tr>\n",
       "      <th>0</th>\n",
       "      <td>one</td>\n",
       "      <td>x</td>\n",
       "      <td>0.737912</td>\n",
       "    </tr>\n",
       "    <tr>\n",
       "      <th>1</th>\n",
       "      <td>one</td>\n",
       "      <td>y</td>\n",
       "      <td>-0.055841</td>\n",
       "    </tr>\n",
       "    <tr>\n",
       "      <th>2</th>\n",
       "      <td>two</td>\n",
       "      <td>x</td>\n",
       "      <td>-0.738736</td>\n",
       "    </tr>\n",
       "    <tr>\n",
       "      <th>3</th>\n",
       "      <td>two</td>\n",
       "      <td>y</td>\n",
       "      <td>-0.647944</td>\n",
       "    </tr>\n",
       "    <tr>\n",
       "      <th>4</th>\n",
       "      <td>two</td>\n",
       "      <td>x</td>\n",
       "      <td>-0.778522</td>\n",
       "    </tr>\n",
       "    <tr>\n",
       "      <th>5</th>\n",
       "      <td>three</td>\n",
       "      <td>x</td>\n",
       "      <td>-0.658724</td>\n",
       "    </tr>\n",
       "    <tr>\n",
       "      <th>6</th>\n",
       "      <td>four</td>\n",
       "      <td>x</td>\n",
       "      <td>-0.169707</td>\n",
       "    </tr>\n",
       "  </tbody>\n",
       "</table>\n",
       "</div>"
      ],
      "text/plain": [
       "       a  b         c\n",
       "0    one  x  0.737912\n",
       "1    one  y -0.055841\n",
       "2    two  x -0.738736\n",
       "3    two  y -0.647944\n",
       "4    two  x -0.778522\n",
       "5  three  x -0.658724\n",
       "6   four  x -0.169707"
      ]
     },
     "execution_count": 129,
     "metadata": {},
     "output_type": "execute_result"
    }
   ],
   "source": [
    "df7"
   ]
  },
  {
   "cell_type": "code",
   "execution_count": 130,
   "id": "b8f4b3f7",
   "metadata": {},
   "outputs": [
    {
     "data": {
      "application/vnd.microsoft.datawrangler.viewer.v0+json": {
       "columns": [
        {
         "name": "index",
         "rawType": "int64",
         "type": "integer"
        },
        {
         "name": "0",
         "rawType": "bool",
         "type": "boolean"
        }
       ],
       "ref": "6ffdf3dc-52a4-47a8-80bf-34fce979c1fd",
       "rows": [
        [
         "0",
         "False"
        ],
        [
         "1",
         "False"
        ],
        [
         "2",
         "False"
        ],
        [
         "3",
         "False"
        ],
        [
         "4",
         "False"
        ],
        [
         "5",
         "False"
        ],
        [
         "6",
         "False"
        ]
       ],
       "shape": {
        "columns": 1,
        "rows": 7
       }
      },
      "text/plain": [
       "0    False\n",
       "1    False\n",
       "2    False\n",
       "3    False\n",
       "4    False\n",
       "5    False\n",
       "6    False\n",
       "dtype: bool"
      ]
     },
     "execution_count": 130,
     "metadata": {},
     "output_type": "execute_result"
    }
   ],
   "source": [
    "df7.duplicated()"
   ]
  },
  {
   "cell_type": "code",
   "execution_count": 131,
   "id": "4c081e05",
   "metadata": {},
   "outputs": [
    {
     "data": {
      "application/vnd.microsoft.datawrangler.viewer.v0+json": {
       "columns": [
        {
         "name": "index",
         "rawType": "int64",
         "type": "integer"
        },
        {
         "name": "0",
         "rawType": "bool",
         "type": "boolean"
        }
       ],
       "ref": "e5979a12-202a-4edf-82c1-0626bc455516",
       "rows": [
        [
         "0",
         "False"
        ],
        [
         "1",
         "True"
        ],
        [
         "2",
         "False"
        ],
        [
         "3",
         "True"
        ],
        [
         "4",
         "True"
        ],
        [
         "5",
         "False"
        ],
        [
         "6",
         "False"
        ]
       ],
       "shape": {
        "columns": 1,
        "rows": 7
       }
      },
      "text/plain": [
       "0    False\n",
       "1     True\n",
       "2    False\n",
       "3     True\n",
       "4     True\n",
       "5    False\n",
       "6    False\n",
       "dtype: bool"
      ]
     },
     "execution_count": 131,
     "metadata": {},
     "output_type": "execute_result"
    }
   ],
   "source": [
    "df7.duplicated('a')"
   ]
  },
  {
   "cell_type": "code",
   "execution_count": 132,
   "id": "0fa3488b",
   "metadata": {},
   "outputs": [
    {
     "data": {
      "application/vnd.microsoft.datawrangler.viewer.v0+json": {
       "columns": [
        {
         "name": "index",
         "rawType": "int64",
         "type": "integer"
        },
        {
         "name": "0",
         "rawType": "bool",
         "type": "boolean"
        }
       ],
       "ref": "cbdf5d72-b6ce-4641-a0cd-ea34babfb574",
       "rows": [
        [
         "0",
         "True"
        ],
        [
         "1",
         "False"
        ],
        [
         "2",
         "True"
        ],
        [
         "3",
         "True"
        ],
        [
         "4",
         "False"
        ],
        [
         "5",
         "False"
        ],
        [
         "6",
         "False"
        ]
       ],
       "shape": {
        "columns": 1,
        "rows": 7
       }
      },
      "text/plain": [
       "0     True\n",
       "1    False\n",
       "2     True\n",
       "3     True\n",
       "4    False\n",
       "5    False\n",
       "6    False\n",
       "dtype: bool"
      ]
     },
     "execution_count": 132,
     "metadata": {},
     "output_type": "execute_result"
    }
   ],
   "source": [
    "df7.duplicated('a', keep='last')"
   ]
  },
  {
   "cell_type": "code",
   "execution_count": 133,
   "id": "5ab02206",
   "metadata": {},
   "outputs": [
    {
     "data": {
      "application/vnd.microsoft.datawrangler.viewer.v0+json": {
       "columns": [
        {
         "name": "index",
         "rawType": "int64",
         "type": "integer"
        },
        {
         "name": "0",
         "rawType": "bool",
         "type": "boolean"
        }
       ],
       "ref": "b64de0bd-54f0-46dd-b27b-b2eb83689365",
       "rows": [
        [
         "0",
         "True"
        ],
        [
         "1",
         "True"
        ],
        [
         "2",
         "True"
        ],
        [
         "3",
         "True"
        ],
        [
         "4",
         "True"
        ],
        [
         "5",
         "False"
        ],
        [
         "6",
         "False"
        ]
       ],
       "shape": {
        "columns": 1,
        "rows": 7
       }
      },
      "text/plain": [
       "0     True\n",
       "1     True\n",
       "2     True\n",
       "3     True\n",
       "4     True\n",
       "5    False\n",
       "6    False\n",
       "dtype: bool"
      ]
     },
     "execution_count": 133,
     "metadata": {},
     "output_type": "execute_result"
    }
   ],
   "source": [
    "df7.duplicated('a', keep=False)"
   ]
  },
  {
   "cell_type": "code",
   "execution_count": 134,
   "id": "48c3e5b9",
   "metadata": {},
   "outputs": [
    {
     "data": {
      "application/vnd.microsoft.datawrangler.viewer.v0+json": {
       "columns": [
        {
         "name": "index",
         "rawType": "int64",
         "type": "integer"
        },
        {
         "name": "0",
         "rawType": "bool",
         "type": "boolean"
        }
       ],
       "ref": "ea4b1dd5-0741-4e5c-ab38-41ac941d40d3",
       "rows": [
        [
         "0",
         "False"
        ],
        [
         "1",
         "False"
        ],
        [
         "2",
         "False"
        ],
        [
         "3",
         "False"
        ],
        [
         "4",
         "True"
        ],
        [
         "5",
         "False"
        ],
        [
         "6",
         "False"
        ]
       ],
       "shape": {
        "columns": 1,
        "rows": 7
       }
      },
      "text/plain": [
       "0    False\n",
       "1    False\n",
       "2    False\n",
       "3    False\n",
       "4     True\n",
       "5    False\n",
       "6    False\n",
       "dtype: bool"
      ]
     },
     "execution_count": 134,
     "metadata": {},
     "output_type": "execute_result"
    }
   ],
   "source": [
    "df7.duplicated(['a', 'b'])"
   ]
  },
  {
   "cell_type": "code",
   "execution_count": 135,
   "id": "52629101",
   "metadata": {},
   "outputs": [
    {
     "data": {
      "application/vnd.microsoft.datawrangler.viewer.v0+json": {
       "columns": [
        {
         "name": "index",
         "rawType": "object",
         "type": "string"
        },
        {
         "name": "a",
         "rawType": "int64",
         "type": "integer"
        },
        {
         "name": "b",
         "rawType": "float64",
         "type": "float"
        }
       ],
       "ref": "65089494-dc9b-4edd-8502-893435dec4eb",
       "rows": [
        [
         "a",
         "0",
         "-0.4189775819172379"
        ],
        [
         "a",
         "1",
         "-0.453180452773703"
        ],
        [
         "b",
         "2",
         "0.22147949958169785"
        ],
        [
         "c",
         "3",
         "-1.9810009607396288"
        ],
        [
         "b",
         "4",
         "0.15380015521842189"
        ],
        [
         "a",
         "5",
         "0.8074938460714329"
        ]
       ],
       "shape": {
        "columns": 2,
        "rows": 6
       }
      },
      "text/html": [
       "<div>\n",
       "<style scoped>\n",
       "    .dataframe tbody tr th:only-of-type {\n",
       "        vertical-align: middle;\n",
       "    }\n",
       "\n",
       "    .dataframe tbody tr th {\n",
       "        vertical-align: top;\n",
       "    }\n",
       "\n",
       "    .dataframe thead th {\n",
       "        text-align: right;\n",
       "    }\n",
       "</style>\n",
       "<table border=\"1\" class=\"dataframe\">\n",
       "  <thead>\n",
       "    <tr style=\"text-align: right;\">\n",
       "      <th></th>\n",
       "      <th>a</th>\n",
       "      <th>b</th>\n",
       "    </tr>\n",
       "  </thead>\n",
       "  <tbody>\n",
       "    <tr>\n",
       "      <th>a</th>\n",
       "      <td>0</td>\n",
       "      <td>-0.418978</td>\n",
       "    </tr>\n",
       "    <tr>\n",
       "      <th>a</th>\n",
       "      <td>1</td>\n",
       "      <td>-0.453180</td>\n",
       "    </tr>\n",
       "    <tr>\n",
       "      <th>b</th>\n",
       "      <td>2</td>\n",
       "      <td>0.221479</td>\n",
       "    </tr>\n",
       "    <tr>\n",
       "      <th>c</th>\n",
       "      <td>3</td>\n",
       "      <td>-1.981001</td>\n",
       "    </tr>\n",
       "    <tr>\n",
       "      <th>b</th>\n",
       "      <td>4</td>\n",
       "      <td>0.153800</td>\n",
       "    </tr>\n",
       "    <tr>\n",
       "      <th>a</th>\n",
       "      <td>5</td>\n",
       "      <td>0.807494</td>\n",
       "    </tr>\n",
       "  </tbody>\n",
       "</table>\n",
       "</div>"
      ],
      "text/plain": [
       "   a         b\n",
       "a  0 -0.418978\n",
       "a  1 -0.453180\n",
       "b  2  0.221479\n",
       "c  3 -1.981001\n",
       "b  4  0.153800\n",
       "a  5  0.807494"
      ]
     },
     "execution_count": 135,
     "metadata": {},
     "output_type": "execute_result"
    }
   ],
   "source": [
    "df8 = pd.DataFrame({'a': np.arange(6),\n",
    "                    'b': np.random.randn(6)},\n",
    "                   index=['a', 'a', 'b', 'c', 'b', 'a'])\n",
    "df8"
   ]
  },
  {
   "cell_type": "code",
   "execution_count": 136,
   "id": "1ead8efd",
   "metadata": {},
   "outputs": [
    {
     "data": {
      "application/vnd.microsoft.datawrangler.viewer.v0+json": {
       "columns": [
        {
         "name": "index",
         "rawType": "object",
         "type": "string"
        },
        {
         "name": "a",
         "rawType": "int64",
         "type": "integer"
        },
        {
         "name": "b",
         "rawType": "float64",
         "type": "float"
        }
       ],
       "ref": "9b37b324-7613-448e-b825-ab6168cd02b8",
       "rows": [
        [
         "a",
         "0",
         "-0.4189775819172379"
        ],
        [
         "b",
         "2",
         "0.22147949958169785"
        ],
        [
         "c",
         "3",
         "-1.9810009607396288"
        ]
       ],
       "shape": {
        "columns": 2,
        "rows": 3
       }
      },
      "text/html": [
       "<div>\n",
       "<style scoped>\n",
       "    .dataframe tbody tr th:only-of-type {\n",
       "        vertical-align: middle;\n",
       "    }\n",
       "\n",
       "    .dataframe tbody tr th {\n",
       "        vertical-align: top;\n",
       "    }\n",
       "\n",
       "    .dataframe thead th {\n",
       "        text-align: right;\n",
       "    }\n",
       "</style>\n",
       "<table border=\"1\" class=\"dataframe\">\n",
       "  <thead>\n",
       "    <tr style=\"text-align: right;\">\n",
       "      <th></th>\n",
       "      <th>a</th>\n",
       "      <th>b</th>\n",
       "    </tr>\n",
       "  </thead>\n",
       "  <tbody>\n",
       "    <tr>\n",
       "      <th>a</th>\n",
       "      <td>0</td>\n",
       "      <td>-0.418978</td>\n",
       "    </tr>\n",
       "    <tr>\n",
       "      <th>b</th>\n",
       "      <td>2</td>\n",
       "      <td>0.221479</td>\n",
       "    </tr>\n",
       "    <tr>\n",
       "      <th>c</th>\n",
       "      <td>3</td>\n",
       "      <td>-1.981001</td>\n",
       "    </tr>\n",
       "  </tbody>\n",
       "</table>\n",
       "</div>"
      ],
      "text/plain": [
       "   a         b\n",
       "a  0 -0.418978\n",
       "b  2  0.221479\n",
       "c  3 -1.981001"
      ]
     },
     "execution_count": 136,
     "metadata": {},
     "output_type": "execute_result"
    }
   ],
   "source": [
    "df8[~df8.index.duplicated()]"
   ]
  },
  {
   "cell_type": "code",
   "execution_count": 137,
   "id": "df5ce2bf",
   "metadata": {},
   "outputs": [
    {
     "data": {
      "application/vnd.microsoft.datawrangler.viewer.v0+json": {
       "columns": [
        {
         "name": "index",
         "rawType": "object",
         "type": "string"
        },
        {
         "name": "a",
         "rawType": "int64",
         "type": "integer"
        },
        {
         "name": "b",
         "rawType": "float64",
         "type": "float"
        }
       ],
       "ref": "9f070c23-bd33-4185-917d-1b6f9ac8dc53",
       "rows": [
        [
         "a",
         "0",
         "-0.4189775819172379"
        ],
        [
         "a",
         "1",
         "-0.453180452773703"
        ],
        [
         "b",
         "2",
         "0.22147949958169785"
        ],
        [
         "c",
         "3",
         "-1.9810009607396288"
        ],
        [
         "b",
         "4",
         "0.15380015521842189"
        ],
        [
         "a",
         "5",
         "0.8074938460714329"
        ]
       ],
       "shape": {
        "columns": 2,
        "rows": 6
       }
      },
      "text/html": [
       "<div>\n",
       "<style scoped>\n",
       "    .dataframe tbody tr th:only-of-type {\n",
       "        vertical-align: middle;\n",
       "    }\n",
       "\n",
       "    .dataframe tbody tr th {\n",
       "        vertical-align: top;\n",
       "    }\n",
       "\n",
       "    .dataframe thead th {\n",
       "        text-align: right;\n",
       "    }\n",
       "</style>\n",
       "<table border=\"1\" class=\"dataframe\">\n",
       "  <thead>\n",
       "    <tr style=\"text-align: right;\">\n",
       "      <th></th>\n",
       "      <th>a</th>\n",
       "      <th>b</th>\n",
       "    </tr>\n",
       "  </thead>\n",
       "  <tbody>\n",
       "    <tr>\n",
       "      <th>a</th>\n",
       "      <td>0</td>\n",
       "      <td>-0.418978</td>\n",
       "    </tr>\n",
       "    <tr>\n",
       "      <th>a</th>\n",
       "      <td>1</td>\n",
       "      <td>-0.453180</td>\n",
       "    </tr>\n",
       "    <tr>\n",
       "      <th>b</th>\n",
       "      <td>2</td>\n",
       "      <td>0.221479</td>\n",
       "    </tr>\n",
       "    <tr>\n",
       "      <th>c</th>\n",
       "      <td>3</td>\n",
       "      <td>-1.981001</td>\n",
       "    </tr>\n",
       "    <tr>\n",
       "      <th>b</th>\n",
       "      <td>4</td>\n",
       "      <td>0.153800</td>\n",
       "    </tr>\n",
       "    <tr>\n",
       "      <th>a</th>\n",
       "      <td>5</td>\n",
       "      <td>0.807494</td>\n",
       "    </tr>\n",
       "  </tbody>\n",
       "</table>\n",
       "</div>"
      ],
      "text/plain": [
       "   a         b\n",
       "a  0 -0.418978\n",
       "a  1 -0.453180\n",
       "b  2  0.221479\n",
       "c  3 -1.981001\n",
       "b  4  0.153800\n",
       "a  5  0.807494"
      ]
     },
     "execution_count": 137,
     "metadata": {},
     "output_type": "execute_result"
    }
   ],
   "source": [
    "df8"
   ]
  },
  {
   "cell_type": "code",
   "execution_count": 139,
   "id": "5e3d68be",
   "metadata": {},
   "outputs": [],
   "source": [
    "id, cols = pd.factorize(df8['a'])"
   ]
  },
  {
   "cell_type": "code",
   "execution_count": 140,
   "id": "02806609",
   "metadata": {},
   "outputs": [
    {
     "data": {
      "text/plain": [
       "array([0, 1, 2, 3, 4, 5])"
      ]
     },
     "execution_count": 140,
     "metadata": {},
     "output_type": "execute_result"
    }
   ],
   "source": [
    "id"
   ]
  },
  {
   "cell_type": "code",
   "execution_count": 141,
   "id": "2f625cb9",
   "metadata": {},
   "outputs": [
    {
     "name": "stdout",
     "output_type": "stream",
     "text": [
      "[0 1 2 3 4 5]\n"
     ]
    }
   ],
   "source": [
    "print(id)"
   ]
  },
  {
   "cell_type": "code",
   "execution_count": 142,
   "id": "364742d0",
   "metadata": {},
   "outputs": [
    {
     "data": {
      "text/plain": [
       "Index(['a', 'a', 'b', 'c', 'b', 'a'], dtype='object')"
      ]
     },
     "execution_count": 142,
     "metadata": {},
     "output_type": "execute_result"
    }
   ],
   "source": [
    "df8.index"
   ]
  },
  {
   "cell_type": "code",
   "execution_count": 143,
   "id": "5e8bceec",
   "metadata": {},
   "outputs": [
    {
     "data": {
      "text/plain": [
       "Index([0, 1, 2, 3, 4, 5], dtype='int64')"
      ]
     },
     "execution_count": 143,
     "metadata": {},
     "output_type": "execute_result"
    }
   ],
   "source": [
    "cols"
   ]
  },
  {
   "cell_type": "code",
   "execution_count": 144,
   "id": "8aa0bc67",
   "metadata": {},
   "outputs": [
    {
     "data": {
      "text/plain": [
       "list"
      ]
     },
     "execution_count": 144,
     "metadata": {},
     "output_type": "execute_result"
    }
   ],
   "source": [
    "arrays = [\n",
    "    [\"bar\", \"bar\", \"baz\", \"baz\", \"foo\", \"foo\", \"qux\", \"qux\"],\n",
    "    [\"one\", \"two\", \"one\", \"two\", \"one\", \"two\", \"one\", \"two\"],\n",
    "]\n",
    "type(arrays)"
   ]
  },
  {
   "cell_type": "code",
   "execution_count": 145,
   "id": "cd1ab119",
   "metadata": {},
   "outputs": [
    {
     "data": {
      "text/plain": [
       "[['bar', 'bar', 'baz', 'baz', 'foo', 'foo', 'qux', 'qux'],\n",
       " ['one', 'two', 'one', 'two', 'one', 'two', 'one', 'two']]"
      ]
     },
     "execution_count": 145,
     "metadata": {},
     "output_type": "execute_result"
    }
   ],
   "source": [
    "arrays"
   ]
  },
  {
   "cell_type": "code",
   "execution_count": 146,
   "id": "e2c542ea",
   "metadata": {},
   "outputs": [
    {
     "data": {
      "text/plain": [
       "list"
      ]
     },
     "execution_count": 146,
     "metadata": {},
     "output_type": "execute_result"
    }
   ],
   "source": [
    "tuples = list(zip(*arrays))\n",
    "type(tuples)"
   ]
  },
  {
   "cell_type": "code",
   "execution_count": 147,
   "id": "03b8daab",
   "metadata": {},
   "outputs": [],
   "source": [
    "index = pd.MultiIndex.from_tuples(tuples, names=['first', 'second'])"
   ]
  },
  {
   "cell_type": "code",
   "execution_count": 148,
   "id": "8e6f9c56",
   "metadata": {},
   "outputs": [
    {
     "data": {
      "text/plain": [
       "MultiIndex([('bar', 'one'),\n",
       "            ('bar', 'two'),\n",
       "            ('baz', 'one'),\n",
       "            ('baz', 'two'),\n",
       "            ('foo', 'one'),\n",
       "            ('foo', 'two'),\n",
       "            ('qux', 'one'),\n",
       "            ('qux', 'two')],\n",
       "           names=['first', 'second'])"
      ]
     },
     "execution_count": 148,
     "metadata": {},
     "output_type": "execute_result"
    }
   ],
   "source": [
    "index"
   ]
  },
  {
   "cell_type": "code",
   "execution_count": 149,
   "id": "2b255f3a",
   "metadata": {},
   "outputs": [],
   "source": [
    "index2 = pd.MultiIndex.from_tuples(zip(*arrays), names=['first', 'second'])"
   ]
  },
  {
   "cell_type": "code",
   "execution_count": 150,
   "id": "bba1ecd5",
   "metadata": {},
   "outputs": [
    {
     "data": {
      "text/plain": [
       "MultiIndex([('bar', 'one'),\n",
       "            ('bar', 'two'),\n",
       "            ('baz', 'one'),\n",
       "            ('baz', 'two'),\n",
       "            ('foo', 'one'),\n",
       "            ('foo', 'two'),\n",
       "            ('qux', 'one'),\n",
       "            ('qux', 'two')],\n",
       "           names=['first', 'second'])"
      ]
     },
     "execution_count": 150,
     "metadata": {},
     "output_type": "execute_result"
    }
   ],
   "source": [
    "index2"
   ]
  },
  {
   "cell_type": "code",
   "execution_count": 151,
   "id": "a786f961",
   "metadata": {},
   "outputs": [],
   "source": [
    "s = pd.Series(np.random.randn(8), index2)"
   ]
  },
  {
   "cell_type": "code",
   "execution_count": 152,
   "id": "dd795e06",
   "metadata": {},
   "outputs": [
    {
     "data": {
      "application/vnd.microsoft.datawrangler.viewer.v0+json": {
       "columns": [
        {
         "name": "('first', 'second')",
         "rawType": "object",
         "type": "unknown"
        },
        {
         "name": "0",
         "rawType": "float64",
         "type": "float"
        }
       ],
       "ref": "587fc8db-5138-45fd-bbce-7ae2c3f3c2b0",
       "rows": [
        [
         "('bar', 'one')",
         "0.32652176257046356"
        ],
        [
         "('bar', 'two')",
         "0.5863497034498762"
        ],
        [
         "('baz', 'one')",
         "-0.4591188981906347"
        ],
        [
         "('baz', 'two')",
         "-0.6629322079495908"
        ],
        [
         "('foo', 'one')",
         "-1.8171570049909538"
        ],
        [
         "('foo', 'two')",
         "-0.16606416100483296"
        ],
        [
         "('qux', 'one')",
         "0.32080917234398165"
        ],
        [
         "('qux', 'two')",
         "-1.1578578099999164"
        ]
       ],
       "shape": {
        "columns": 1,
        "rows": 8
       }
      },
      "text/plain": [
       "first  second\n",
       "bar    one       0.326522\n",
       "       two       0.586350\n",
       "baz    one      -0.459119\n",
       "       two      -0.662932\n",
       "foo    one      -1.817157\n",
       "       two      -0.166064\n",
       "qux    one       0.320809\n",
       "       two      -1.157858\n",
       "dtype: float64"
      ]
     },
     "execution_count": 152,
     "metadata": {},
     "output_type": "execute_result"
    }
   ],
   "source": [
    "s"
   ]
  },
  {
   "cell_type": "code",
   "execution_count": 153,
   "id": "8cc0578c",
   "metadata": {},
   "outputs": [
    {
     "data": {
      "text/plain": [
       "MultiIndex([('bar',   'red'),\n",
       "            ('bar', 'green'),\n",
       "            ('baz',   'red'),\n",
       "            ('baz', 'green'),\n",
       "            ('foo',   'red'),\n",
       "            ('foo', 'green'),\n",
       "            ('quz',   'red'),\n",
       "            ('quz', 'green')],\n",
       "           )"
      ]
     },
     "execution_count": 153,
     "metadata": {},
     "output_type": "execute_result"
    }
   ],
   "source": [
    "iterables = [['bar', 'baz', 'foo', 'quz'], ['red', 'green']]\n",
    "index3 = pd.MultiIndex.from_product(iterables)\n",
    "index3"
   ]
  },
  {
   "cell_type": "code",
   "execution_count": 154,
   "id": "226f3c45",
   "metadata": {},
   "outputs": [],
   "source": [
    "df = pd.DataFrame(\n",
    "    [[\"bar\", \"one\"], [\"bar\", \"two\"], [\"foo\", \"one\"], [\"foo\", \"two\"]],\n",
    "    columns=[\"first\", \"second\"],\n",
    ")"
   ]
  },
  {
   "cell_type": "code",
   "execution_count": 155,
   "id": "cf6c7a36",
   "metadata": {},
   "outputs": [
    {
     "data": {
      "application/vnd.microsoft.datawrangler.viewer.v0+json": {
       "columns": [
        {
         "name": "index",
         "rawType": "int64",
         "type": "integer"
        },
        {
         "name": "first",
         "rawType": "object",
         "type": "string"
        },
        {
         "name": "second",
         "rawType": "object",
         "type": "string"
        }
       ],
       "ref": "57ccf04f-4127-4603-b5c3-16d7987be1e2",
       "rows": [
        [
         "0",
         "bar",
         "one"
        ],
        [
         "1",
         "bar",
         "two"
        ],
        [
         "2",
         "foo",
         "one"
        ],
        [
         "3",
         "foo",
         "two"
        ]
       ],
       "shape": {
        "columns": 2,
        "rows": 4
       }
      },
      "text/html": [
       "<div>\n",
       "<style scoped>\n",
       "    .dataframe tbody tr th:only-of-type {\n",
       "        vertical-align: middle;\n",
       "    }\n",
       "\n",
       "    .dataframe tbody tr th {\n",
       "        vertical-align: top;\n",
       "    }\n",
       "\n",
       "    .dataframe thead th {\n",
       "        text-align: right;\n",
       "    }\n",
       "</style>\n",
       "<table border=\"1\" class=\"dataframe\">\n",
       "  <thead>\n",
       "    <tr style=\"text-align: right;\">\n",
       "      <th></th>\n",
       "      <th>first</th>\n",
       "      <th>second</th>\n",
       "    </tr>\n",
       "  </thead>\n",
       "  <tbody>\n",
       "    <tr>\n",
       "      <th>0</th>\n",
       "      <td>bar</td>\n",
       "      <td>one</td>\n",
       "    </tr>\n",
       "    <tr>\n",
       "      <th>1</th>\n",
       "      <td>bar</td>\n",
       "      <td>two</td>\n",
       "    </tr>\n",
       "    <tr>\n",
       "      <th>2</th>\n",
       "      <td>foo</td>\n",
       "      <td>one</td>\n",
       "    </tr>\n",
       "    <tr>\n",
       "      <th>3</th>\n",
       "      <td>foo</td>\n",
       "      <td>two</td>\n",
       "    </tr>\n",
       "  </tbody>\n",
       "</table>\n",
       "</div>"
      ],
      "text/plain": [
       "  first second\n",
       "0   bar    one\n",
       "1   bar    two\n",
       "2   foo    one\n",
       "3   foo    two"
      ]
     },
     "execution_count": 155,
     "metadata": {},
     "output_type": "execute_result"
    }
   ],
   "source": [
    "df"
   ]
  },
  {
   "cell_type": "code",
   "execution_count": 156,
   "id": "d9498f4b",
   "metadata": {},
   "outputs": [
    {
     "data": {
      "text/plain": [
       "MultiIndex([('bar', 'one'),\n",
       "            ('bar', 'two'),\n",
       "            ('foo', 'one'),\n",
       "            ('foo', 'two')],\n",
       "           names=['first', 'second'])"
      ]
     },
     "execution_count": 156,
     "metadata": {},
     "output_type": "execute_result"
    }
   ],
   "source": [
    "index3 = pd.MultiIndex.from_frame(df)\n",
    "index3"
   ]
  },
  {
   "cell_type": "code",
   "execution_count": 157,
   "id": "815bdf0a",
   "metadata": {},
   "outputs": [],
   "source": [
    "df = pd.DataFrame(np.random.randn(8,3), arrays)"
   ]
  },
  {
   "cell_type": "code",
   "execution_count": 158,
   "id": "189cbfc8",
   "metadata": {},
   "outputs": [
    {
     "data": {
      "application/vnd.microsoft.datawrangler.viewer.v0+json": {
       "columns": [
        {
         "name": "(None, None)",
         "rawType": "object",
         "type": "unknown"
        },
        {
         "name": "0",
         "rawType": "float64",
         "type": "float"
        },
        {
         "name": "1",
         "rawType": "float64",
         "type": "float"
        },
        {
         "name": "2",
         "rawType": "float64",
         "type": "float"
        }
       ],
       "ref": "26d4ef8a-f904-4c36-9060-62c325ddb340",
       "rows": [
        [
         "('bar', 'one')",
         "-0.5493988053582922",
         "-1.3765571992490055",
         "2.3518099424234986"
        ],
        [
         "('bar', 'two')",
         "-0.37830703702452234",
         "-0.2332063600310293",
         "-0.7859120985956175"
        ],
        [
         "('baz', 'one')",
         "-0.051163238447109044",
         "1.2071104903667391",
         "-1.3292906857079847"
        ],
        [
         "('baz', 'two')",
         "0.13984512793698362",
         "-0.6216170459183665",
         "-1.2176864557324953"
        ],
        [
         "('foo', 'one')",
         "-0.09799825808423332",
         "0.24611173288512925",
         "-1.1675463405234958"
        ],
        [
         "('foo', 'two')",
         "-0.9388343384391244",
         "0.12063327058479738",
         "-2.1828396069016245"
        ],
        [
         "('qux', 'one')",
         "-0.4409272477189065",
         "0.6318580048769173",
         "-0.11676541136075955"
        ],
        [
         "('qux', 'two')",
         "-0.12022732272252878",
         "-0.4138986957962818",
         "0.41249098119898836"
        ]
       ],
       "shape": {
        "columns": 3,
        "rows": 8
       }
      },
      "text/html": [
       "<div>\n",
       "<style scoped>\n",
       "    .dataframe tbody tr th:only-of-type {\n",
       "        vertical-align: middle;\n",
       "    }\n",
       "\n",
       "    .dataframe tbody tr th {\n",
       "        vertical-align: top;\n",
       "    }\n",
       "\n",
       "    .dataframe thead th {\n",
       "        text-align: right;\n",
       "    }\n",
       "</style>\n",
       "<table border=\"1\" class=\"dataframe\">\n",
       "  <thead>\n",
       "    <tr style=\"text-align: right;\">\n",
       "      <th></th>\n",
       "      <th></th>\n",
       "      <th>0</th>\n",
       "      <th>1</th>\n",
       "      <th>2</th>\n",
       "    </tr>\n",
       "  </thead>\n",
       "  <tbody>\n",
       "    <tr>\n",
       "      <th rowspan=\"2\" valign=\"top\">bar</th>\n",
       "      <th>one</th>\n",
       "      <td>-0.549399</td>\n",
       "      <td>-1.376557</td>\n",
       "      <td>2.351810</td>\n",
       "    </tr>\n",
       "    <tr>\n",
       "      <th>two</th>\n",
       "      <td>-0.378307</td>\n",
       "      <td>-0.233206</td>\n",
       "      <td>-0.785912</td>\n",
       "    </tr>\n",
       "    <tr>\n",
       "      <th rowspan=\"2\" valign=\"top\">baz</th>\n",
       "      <th>one</th>\n",
       "      <td>-0.051163</td>\n",
       "      <td>1.207110</td>\n",
       "      <td>-1.329291</td>\n",
       "    </tr>\n",
       "    <tr>\n",
       "      <th>two</th>\n",
       "      <td>0.139845</td>\n",
       "      <td>-0.621617</td>\n",
       "      <td>-1.217686</td>\n",
       "    </tr>\n",
       "    <tr>\n",
       "      <th rowspan=\"2\" valign=\"top\">foo</th>\n",
       "      <th>one</th>\n",
       "      <td>-0.097998</td>\n",
       "      <td>0.246112</td>\n",
       "      <td>-1.167546</td>\n",
       "    </tr>\n",
       "    <tr>\n",
       "      <th>two</th>\n",
       "      <td>-0.938834</td>\n",
       "      <td>0.120633</td>\n",
       "      <td>-2.182840</td>\n",
       "    </tr>\n",
       "    <tr>\n",
       "      <th rowspan=\"2\" valign=\"top\">qux</th>\n",
       "      <th>one</th>\n",
       "      <td>-0.440927</td>\n",
       "      <td>0.631858</td>\n",
       "      <td>-0.116765</td>\n",
       "    </tr>\n",
       "    <tr>\n",
       "      <th>two</th>\n",
       "      <td>-0.120227</td>\n",
       "      <td>-0.413899</td>\n",
       "      <td>0.412491</td>\n",
       "    </tr>\n",
       "  </tbody>\n",
       "</table>\n",
       "</div>"
      ],
      "text/plain": [
       "                0         1         2\n",
       "bar one -0.549399 -1.376557  2.351810\n",
       "    two -0.378307 -0.233206 -0.785912\n",
       "baz one -0.051163  1.207110 -1.329291\n",
       "    two  0.139845 -0.621617 -1.217686\n",
       "foo one -0.097998  0.246112 -1.167546\n",
       "    two -0.938834  0.120633 -2.182840\n",
       "qux one -0.440927  0.631858 -0.116765\n",
       "    two -0.120227 -0.413899  0.412491"
      ]
     },
     "execution_count": 158,
     "metadata": {},
     "output_type": "execute_result"
    }
   ],
   "source": [
    "df"
   ]
  },
  {
   "cell_type": "code",
   "execution_count": 159,
   "id": "1766f48b",
   "metadata": {},
   "outputs": [],
   "source": [
    "df = df.reset_index(drop=False)"
   ]
  },
  {
   "cell_type": "code",
   "execution_count": 160,
   "id": "5d343def",
   "metadata": {},
   "outputs": [
    {
     "data": {
      "text/plain": [
       "Index(['level_0', 'level_1', 0, 1, 2], dtype='object')"
      ]
     },
     "execution_count": 160,
     "metadata": {},
     "output_type": "execute_result"
    }
   ],
   "source": [
    "df.columns"
   ]
  },
  {
   "cell_type": "code",
   "execution_count": 161,
   "id": "116ed091",
   "metadata": {},
   "outputs": [],
   "source": [
    "df = df.set_index(['level_0', 'level_1'])"
   ]
  },
  {
   "cell_type": "code",
   "execution_count": 162,
   "id": "6a022316",
   "metadata": {},
   "outputs": [
    {
     "ename": "AttributeError",
     "evalue": "'DataFrame' object has no attribute 'level_0'",
     "output_type": "error",
     "traceback": [
      "\u001b[31m---------------------------------------------------------------------------\u001b[39m",
      "\u001b[31mAttributeError\u001b[39m                            Traceback (most recent call last)",
      "\u001b[32m~\\AppData\\Local\\Temp\\ipykernel_26964\\2617866980.py\u001b[39m in \u001b[36m?\u001b[39m\u001b[34m()\u001b[39m\n\u001b[32m----> \u001b[39m\u001b[32m1\u001b[39m df[df.level_0 == \u001b[33m'bar'\u001b[39m]\n",
      "\u001b[32mj:\\My Drive\\ESL\\PythonLearning\\l5\\.venv\\Lib\\site-packages\\pandas\\core\\generic.py\u001b[39m in \u001b[36m?\u001b[39m\u001b[34m(self, name)\u001b[39m\n\u001b[32m   6314\u001b[39m             \u001b[38;5;28;01mand\u001b[39;00m name \u001b[38;5;28;01mnot\u001b[39;00m \u001b[38;5;28;01min\u001b[39;00m self._accessors\n\u001b[32m   6315\u001b[39m             \u001b[38;5;28;01mand\u001b[39;00m self._info_axis._can_hold_identifiers_and_holds_name(name)\n\u001b[32m   6316\u001b[39m         ):\n\u001b[32m   6317\u001b[39m             \u001b[38;5;28;01mreturn\u001b[39;00m self[name]\n\u001b[32m-> \u001b[39m\u001b[32m6318\u001b[39m         \u001b[38;5;28;01mreturn\u001b[39;00m object.__getattribute__(self, name)\n",
      "\u001b[31mAttributeError\u001b[39m: 'DataFrame' object has no attribute 'level_0'"
     ]
    }
   ],
   "source": [
    "df[df.level_0 == 'bar']"
   ]
  },
  {
   "cell_type": "code",
   "execution_count": 163,
   "id": "6aab8fa8",
   "metadata": {},
   "outputs": [
    {
     "data": {
      "text/plain": [
       "FrozenList(['level_0', 'level_1'])"
      ]
     },
     "execution_count": 163,
     "metadata": {},
     "output_type": "execute_result"
    }
   ],
   "source": [
    "df.index.names"
   ]
  },
  {
   "cell_type": "code",
   "execution_count": 164,
   "id": "b94dd6fc",
   "metadata": {},
   "outputs": [
    {
     "data": {
      "text/plain": [
       "MultiIndex([('bar', 'one'),\n",
       "            ('bar', 'two'),\n",
       "            ('baz', 'one'),\n",
       "            ('baz', 'two'),\n",
       "            ('foo', 'one'),\n",
       "            ('foo', 'two'),\n",
       "            ('qux', 'one'),\n",
       "            ('qux', 'two')],\n",
       "           names=['first', 'second'])"
      ]
     },
     "execution_count": 164,
     "metadata": {},
     "output_type": "execute_result"
    }
   ],
   "source": [
    "index"
   ]
  },
  {
   "cell_type": "code",
   "execution_count": 165,
   "id": "73e309d8",
   "metadata": {},
   "outputs": [
    {
     "data": {
      "text/plain": [
       "Index(['bar', 'bar', 'baz', 'baz', 'foo', 'foo', 'qux', 'qux'], dtype='object', name='first')"
      ]
     },
     "execution_count": 165,
     "metadata": {},
     "output_type": "execute_result"
    }
   ],
   "source": [
    "index.get_level_values(0)"
   ]
  },
  {
   "cell_type": "code",
   "execution_count": 166,
   "id": "0c6a82e7",
   "metadata": {},
   "outputs": [
    {
     "data": {
      "text/plain": [
       "Index(['one', 'two', 'one', 'two', 'one', 'two', 'one', 'two'], dtype='object', name='second')"
      ]
     },
     "execution_count": 166,
     "metadata": {},
     "output_type": "execute_result"
    }
   ],
   "source": [
    "index.get_level_values('second')"
   ]
  },
  {
   "cell_type": "code",
   "execution_count": 167,
   "id": "3b849302",
   "metadata": {},
   "outputs": [
    {
     "data": {
      "application/vnd.microsoft.datawrangler.viewer.v0+json": {
       "columns": [
        {
         "name": "('level_0', 'level_1')",
         "rawType": "object",
         "type": "unknown"
        },
        {
         "name": "0",
         "rawType": "float64",
         "type": "float"
        },
        {
         "name": "1",
         "rawType": "float64",
         "type": "float"
        },
        {
         "name": "2",
         "rawType": "float64",
         "type": "float"
        }
       ],
       "ref": "2082c6a7-3666-44c6-9579-7d4169b3a718",
       "rows": [
        [
         "('bar', 'one')",
         "-0.5493988053582922",
         "-1.3765571992490055",
         "2.3518099424234986"
        ],
        [
         "('bar', 'two')",
         "-0.37830703702452234",
         "-0.2332063600310293",
         "-0.7859120985956175"
        ],
        [
         "('baz', 'one')",
         "-0.051163238447109044",
         "1.2071104903667391",
         "-1.3292906857079847"
        ],
        [
         "('baz', 'two')",
         "0.13984512793698362",
         "-0.6216170459183665",
         "-1.2176864557324953"
        ],
        [
         "('foo', 'one')",
         "-0.09799825808423332",
         "0.24611173288512925",
         "-1.1675463405234958"
        ],
        [
         "('foo', 'two')",
         "-0.9388343384391244",
         "0.12063327058479738",
         "-2.1828396069016245"
        ],
        [
         "('qux', 'one')",
         "-0.4409272477189065",
         "0.6318580048769173",
         "-0.11676541136075955"
        ],
        [
         "('qux', 'two')",
         "-0.12022732272252878",
         "-0.4138986957962818",
         "0.41249098119898836"
        ]
       ],
       "shape": {
        "columns": 3,
        "rows": 8
       }
      },
      "text/html": [
       "<div>\n",
       "<style scoped>\n",
       "    .dataframe tbody tr th:only-of-type {\n",
       "        vertical-align: middle;\n",
       "    }\n",
       "\n",
       "    .dataframe tbody tr th {\n",
       "        vertical-align: top;\n",
       "    }\n",
       "\n",
       "    .dataframe thead th {\n",
       "        text-align: right;\n",
       "    }\n",
       "</style>\n",
       "<table border=\"1\" class=\"dataframe\">\n",
       "  <thead>\n",
       "    <tr style=\"text-align: right;\">\n",
       "      <th></th>\n",
       "      <th></th>\n",
       "      <th>0</th>\n",
       "      <th>1</th>\n",
       "      <th>2</th>\n",
       "    </tr>\n",
       "    <tr>\n",
       "      <th>level_0</th>\n",
       "      <th>level_1</th>\n",
       "      <th></th>\n",
       "      <th></th>\n",
       "      <th></th>\n",
       "    </tr>\n",
       "  </thead>\n",
       "  <tbody>\n",
       "    <tr>\n",
       "      <th rowspan=\"2\" valign=\"top\">bar</th>\n",
       "      <th>one</th>\n",
       "      <td>-0.549399</td>\n",
       "      <td>-1.376557</td>\n",
       "      <td>2.351810</td>\n",
       "    </tr>\n",
       "    <tr>\n",
       "      <th>two</th>\n",
       "      <td>-0.378307</td>\n",
       "      <td>-0.233206</td>\n",
       "      <td>-0.785912</td>\n",
       "    </tr>\n",
       "    <tr>\n",
       "      <th rowspan=\"2\" valign=\"top\">baz</th>\n",
       "      <th>one</th>\n",
       "      <td>-0.051163</td>\n",
       "      <td>1.207110</td>\n",
       "      <td>-1.329291</td>\n",
       "    </tr>\n",
       "    <tr>\n",
       "      <th>two</th>\n",
       "      <td>0.139845</td>\n",
       "      <td>-0.621617</td>\n",
       "      <td>-1.217686</td>\n",
       "    </tr>\n",
       "    <tr>\n",
       "      <th rowspan=\"2\" valign=\"top\">foo</th>\n",
       "      <th>one</th>\n",
       "      <td>-0.097998</td>\n",
       "      <td>0.246112</td>\n",
       "      <td>-1.167546</td>\n",
       "    </tr>\n",
       "    <tr>\n",
       "      <th>two</th>\n",
       "      <td>-0.938834</td>\n",
       "      <td>0.120633</td>\n",
       "      <td>-2.182840</td>\n",
       "    </tr>\n",
       "    <tr>\n",
       "      <th rowspan=\"2\" valign=\"top\">qux</th>\n",
       "      <th>one</th>\n",
       "      <td>-0.440927</td>\n",
       "      <td>0.631858</td>\n",
       "      <td>-0.116765</td>\n",
       "    </tr>\n",
       "    <tr>\n",
       "      <th>two</th>\n",
       "      <td>-0.120227</td>\n",
       "      <td>-0.413899</td>\n",
       "      <td>0.412491</td>\n",
       "    </tr>\n",
       "  </tbody>\n",
       "</table>\n",
       "</div>"
      ],
      "text/plain": [
       "                        0         1         2\n",
       "level_0 level_1                              \n",
       "bar     one     -0.549399 -1.376557  2.351810\n",
       "        two     -0.378307 -0.233206 -0.785912\n",
       "baz     one     -0.051163  1.207110 -1.329291\n",
       "        two      0.139845 -0.621617 -1.217686\n",
       "foo     one     -0.097998  0.246112 -1.167546\n",
       "        two     -0.938834  0.120633 -2.182840\n",
       "qux     one     -0.440927  0.631858 -0.116765\n",
       "        two     -0.120227 -0.413899  0.412491"
      ]
     },
     "execution_count": 167,
     "metadata": {},
     "output_type": "execute_result"
    }
   ],
   "source": [
    "df"
   ]
  },
  {
   "cell_type": "code",
   "execution_count": 168,
   "id": "6be61f5b",
   "metadata": {},
   "outputs": [
    {
     "data": {
      "application/vnd.microsoft.datawrangler.viewer.v0+json": {
       "columns": [
        {
         "name": "('level_0', 'level_1')",
         "rawType": "object",
         "type": "unknown"
        },
        {
         "name": "0",
         "rawType": "float64",
         "type": "float"
        },
        {
         "name": "1",
         "rawType": "float64",
         "type": "float"
        },
        {
         "name": "2",
         "rawType": "float64",
         "type": "float"
        }
       ],
       "ref": "5e3c1afc-4ce8-4146-aa3f-dd6d84f85c61",
       "rows": [
        [
         "('bar', 'one')",
         "-0.5493988053582922",
         "-1.3765571992490055",
         "2.3518099424234986"
        ],
        [
         "('bar', 'two')",
         "-0.37830703702452234",
         "-0.2332063600310293",
         "-0.7859120985956175"
        ],
        [
         "('baz', 'one')",
         "-0.051163238447109044",
         "1.2071104903667391",
         "-1.3292906857079847"
        ],
        [
         "('baz', 'two')",
         "0.13984512793698362",
         "-0.6216170459183665",
         "-1.2176864557324953"
        ],
        [
         "('foo', 'one')",
         "-0.09799825808423332",
         "0.24611173288512925",
         "-1.1675463405234958"
        ],
        [
         "('foo', 'two')",
         "-0.9388343384391244",
         "0.12063327058479738",
         "-2.1828396069016245"
        ],
        [
         "('qux', 'one')",
         "-0.4409272477189065",
         "0.6318580048769173",
         "-0.11676541136075955"
        ],
        [
         "('qux', 'two')",
         "-0.12022732272252878",
         "-0.4138986957962818",
         "0.41249098119898836"
        ]
       ],
       "shape": {
        "columns": 3,
        "rows": 8
       }
      },
      "text/html": [
       "<div>\n",
       "<style scoped>\n",
       "    .dataframe tbody tr th:only-of-type {\n",
       "        vertical-align: middle;\n",
       "    }\n",
       "\n",
       "    .dataframe tbody tr th {\n",
       "        vertical-align: top;\n",
       "    }\n",
       "\n",
       "    .dataframe thead th {\n",
       "        text-align: right;\n",
       "    }\n",
       "</style>\n",
       "<table border=\"1\" class=\"dataframe\">\n",
       "  <thead>\n",
       "    <tr style=\"text-align: right;\">\n",
       "      <th></th>\n",
       "      <th></th>\n",
       "      <th>0</th>\n",
       "      <th>1</th>\n",
       "      <th>2</th>\n",
       "    </tr>\n",
       "    <tr>\n",
       "      <th>level_0</th>\n",
       "      <th>level_1</th>\n",
       "      <th></th>\n",
       "      <th></th>\n",
       "      <th></th>\n",
       "    </tr>\n",
       "  </thead>\n",
       "  <tbody>\n",
       "    <tr>\n",
       "      <th rowspan=\"2\" valign=\"top\">bar</th>\n",
       "      <th>one</th>\n",
       "      <td>-0.549399</td>\n",
       "      <td>-1.376557</td>\n",
       "      <td>2.351810</td>\n",
       "    </tr>\n",
       "    <tr>\n",
       "      <th>two</th>\n",
       "      <td>-0.378307</td>\n",
       "      <td>-0.233206</td>\n",
       "      <td>-0.785912</td>\n",
       "    </tr>\n",
       "    <tr>\n",
       "      <th rowspan=\"2\" valign=\"top\">baz</th>\n",
       "      <th>one</th>\n",
       "      <td>-0.051163</td>\n",
       "      <td>1.207110</td>\n",
       "      <td>-1.329291</td>\n",
       "    </tr>\n",
       "    <tr>\n",
       "      <th>two</th>\n",
       "      <td>0.139845</td>\n",
       "      <td>-0.621617</td>\n",
       "      <td>-1.217686</td>\n",
       "    </tr>\n",
       "    <tr>\n",
       "      <th rowspan=\"2\" valign=\"top\">foo</th>\n",
       "      <th>one</th>\n",
       "      <td>-0.097998</td>\n",
       "      <td>0.246112</td>\n",
       "      <td>-1.167546</td>\n",
       "    </tr>\n",
       "    <tr>\n",
       "      <th>two</th>\n",
       "      <td>-0.938834</td>\n",
       "      <td>0.120633</td>\n",
       "      <td>-2.182840</td>\n",
       "    </tr>\n",
       "    <tr>\n",
       "      <th rowspan=\"2\" valign=\"top\">qux</th>\n",
       "      <th>one</th>\n",
       "      <td>-0.440927</td>\n",
       "      <td>0.631858</td>\n",
       "      <td>-0.116765</td>\n",
       "    </tr>\n",
       "    <tr>\n",
       "      <th>two</th>\n",
       "      <td>-0.120227</td>\n",
       "      <td>-0.413899</td>\n",
       "      <td>0.412491</td>\n",
       "    </tr>\n",
       "  </tbody>\n",
       "</table>\n",
       "</div>"
      ],
      "text/plain": [
       "                        0         1         2\n",
       "level_0 level_1                              \n",
       "bar     one     -0.549399 -1.376557  2.351810\n",
       "        two     -0.378307 -0.233206 -0.785912\n",
       "baz     one     -0.051163  1.207110 -1.329291\n",
       "        two      0.139845 -0.621617 -1.217686\n",
       "foo     one     -0.097998  0.246112 -1.167546\n",
       "        two     -0.938834  0.120633 -2.182840\n",
       "qux     one     -0.440927  0.631858 -0.116765\n",
       "        two     -0.120227 -0.413899  0.412491"
      ]
     },
     "execution_count": 168,
     "metadata": {},
     "output_type": "execute_result"
    }
   ],
   "source": [
    "df"
   ]
  },
  {
   "cell_type": "code",
   "execution_count": 169,
   "id": "b95cdc87",
   "metadata": {},
   "outputs": [],
   "source": [
    "dft = df.T"
   ]
  },
  {
   "cell_type": "code",
   "execution_count": 170,
   "id": "61469fe1",
   "metadata": {},
   "outputs": [
    {
     "data": {
      "application/vnd.microsoft.datawrangler.viewer.v0+json": {
       "columns": [
        {
         "name": "index",
         "rawType": "object",
         "type": "unknown"
        },
        {
         "name": "('bar', 'one')",
         "rawType": "float64",
         "type": "float"
        },
        {
         "name": "('bar', 'two')",
         "rawType": "float64",
         "type": "float"
        },
        {
         "name": "('baz', 'one')",
         "rawType": "float64",
         "type": "float"
        },
        {
         "name": "('baz', 'two')",
         "rawType": "float64",
         "type": "float"
        },
        {
         "name": "('foo', 'one')",
         "rawType": "float64",
         "type": "float"
        },
        {
         "name": "('foo', 'two')",
         "rawType": "float64",
         "type": "float"
        },
        {
         "name": "('qux', 'one')",
         "rawType": "float64",
         "type": "float"
        },
        {
         "name": "('qux', 'two')",
         "rawType": "float64",
         "type": "float"
        }
       ],
       "ref": "2720a278-af52-4e08-ba3d-6b118036b609",
       "rows": [
        [
         "0",
         "-0.5493988053582922",
         "-0.37830703702452234",
         "-0.051163238447109044",
         "0.13984512793698362",
         "-0.09799825808423332",
         "-0.9388343384391244",
         "-0.4409272477189065",
         "-0.12022732272252878"
        ],
        [
         "1",
         "-1.3765571992490055",
         "-0.2332063600310293",
         "1.2071104903667391",
         "-0.6216170459183665",
         "0.24611173288512925",
         "0.12063327058479738",
         "0.6318580048769173",
         "-0.4138986957962818"
        ],
        [
         "2",
         "2.3518099424234986",
         "-0.7859120985956175",
         "-1.3292906857079847",
         "-1.2176864557324953",
         "-1.1675463405234958",
         "-2.1828396069016245",
         "-0.11676541136075955",
         "0.41249098119898836"
        ]
       ],
       "shape": {
        "columns": 8,
        "rows": 3
       }
      },
      "text/html": [
       "<div>\n",
       "<style scoped>\n",
       "    .dataframe tbody tr th:only-of-type {\n",
       "        vertical-align: middle;\n",
       "    }\n",
       "\n",
       "    .dataframe tbody tr th {\n",
       "        vertical-align: top;\n",
       "    }\n",
       "\n",
       "    .dataframe thead tr th {\n",
       "        text-align: left;\n",
       "    }\n",
       "</style>\n",
       "<table border=\"1\" class=\"dataframe\">\n",
       "  <thead>\n",
       "    <tr>\n",
       "      <th>level_0</th>\n",
       "      <th colspan=\"2\" halign=\"left\">bar</th>\n",
       "      <th colspan=\"2\" halign=\"left\">baz</th>\n",
       "      <th colspan=\"2\" halign=\"left\">foo</th>\n",
       "      <th colspan=\"2\" halign=\"left\">qux</th>\n",
       "    </tr>\n",
       "    <tr>\n",
       "      <th>level_1</th>\n",
       "      <th>one</th>\n",
       "      <th>two</th>\n",
       "      <th>one</th>\n",
       "      <th>two</th>\n",
       "      <th>one</th>\n",
       "      <th>two</th>\n",
       "      <th>one</th>\n",
       "      <th>two</th>\n",
       "    </tr>\n",
       "  </thead>\n",
       "  <tbody>\n",
       "    <tr>\n",
       "      <th>0</th>\n",
       "      <td>-0.549399</td>\n",
       "      <td>-0.378307</td>\n",
       "      <td>-0.051163</td>\n",
       "      <td>0.139845</td>\n",
       "      <td>-0.097998</td>\n",
       "      <td>-0.938834</td>\n",
       "      <td>-0.440927</td>\n",
       "      <td>-0.120227</td>\n",
       "    </tr>\n",
       "    <tr>\n",
       "      <th>1</th>\n",
       "      <td>-1.376557</td>\n",
       "      <td>-0.233206</td>\n",
       "      <td>1.207110</td>\n",
       "      <td>-0.621617</td>\n",
       "      <td>0.246112</td>\n",
       "      <td>0.120633</td>\n",
       "      <td>0.631858</td>\n",
       "      <td>-0.413899</td>\n",
       "    </tr>\n",
       "    <tr>\n",
       "      <th>2</th>\n",
       "      <td>2.351810</td>\n",
       "      <td>-0.785912</td>\n",
       "      <td>-1.329291</td>\n",
       "      <td>-1.217686</td>\n",
       "      <td>-1.167546</td>\n",
       "      <td>-2.182840</td>\n",
       "      <td>-0.116765</td>\n",
       "      <td>0.412491</td>\n",
       "    </tr>\n",
       "  </tbody>\n",
       "</table>\n",
       "</div>"
      ],
      "text/plain": [
       "level_0       bar                 baz                 foo                 qux  \\\n",
       "level_1       one       two       one       two       one       two       one   \n",
       "0       -0.549399 -0.378307 -0.051163  0.139845 -0.097998 -0.938834 -0.440927   \n",
       "1       -1.376557 -0.233206  1.207110 -0.621617  0.246112  0.120633  0.631858   \n",
       "2        2.351810 -0.785912 -1.329291 -1.217686 -1.167546 -2.182840 -0.116765   \n",
       "\n",
       "level_0            \n",
       "level_1       two  \n",
       "0       -0.120227  \n",
       "1       -0.413899  \n",
       "2        0.412491  "
      ]
     },
     "execution_count": 170,
     "metadata": {},
     "output_type": "execute_result"
    }
   ],
   "source": [
    "dft"
   ]
  },
  {
   "cell_type": "code",
   "execution_count": 171,
   "id": "c947041b",
   "metadata": {},
   "outputs": [
    {
     "data": {
      "application/vnd.microsoft.datawrangler.viewer.v0+json": {
       "columns": [
        {
         "name": "('level_0', 'level_1')",
         "rawType": "object",
         "type": "unknown"
        },
        {
         "name": "0",
         "rawType": "float64",
         "type": "float"
        },
        {
         "name": "1",
         "rawType": "float64",
         "type": "float"
        },
        {
         "name": "2",
         "rawType": "float64",
         "type": "float"
        }
       ],
       "ref": "38c72c1e-81bc-46cd-a52c-ee136f370a8d",
       "rows": [
        [
         "('bar', 'one')",
         "-0.5493988053582922",
         "-1.3765571992490055",
         "2.3518099424234986"
        ],
        [
         "('bar', 'two')",
         "-0.37830703702452234",
         "-0.2332063600310293",
         "-0.7859120985956175"
        ],
        [
         "('baz', 'one')",
         "-0.051163238447109044",
         "1.2071104903667391",
         "-1.3292906857079847"
        ],
        [
         "('baz', 'two')",
         "0.13984512793698362",
         "-0.6216170459183665",
         "-1.2176864557324953"
        ],
        [
         "('foo', 'one')",
         "-0.09799825808423332",
         "0.24611173288512925",
         "-1.1675463405234958"
        ],
        [
         "('foo', 'two')",
         "-0.9388343384391244",
         "0.12063327058479738",
         "-2.1828396069016245"
        ],
        [
         "('qux', 'one')",
         "-0.4409272477189065",
         "0.6318580048769173",
         "-0.11676541136075955"
        ],
        [
         "('qux', 'two')",
         "-0.12022732272252878",
         "-0.4138986957962818",
         "0.41249098119898836"
        ]
       ],
       "shape": {
        "columns": 3,
        "rows": 8
       }
      },
      "text/html": [
       "<div>\n",
       "<style scoped>\n",
       "    .dataframe tbody tr th:only-of-type {\n",
       "        vertical-align: middle;\n",
       "    }\n",
       "\n",
       "    .dataframe tbody tr th {\n",
       "        vertical-align: top;\n",
       "    }\n",
       "\n",
       "    .dataframe thead th {\n",
       "        text-align: right;\n",
       "    }\n",
       "</style>\n",
       "<table border=\"1\" class=\"dataframe\">\n",
       "  <thead>\n",
       "    <tr style=\"text-align: right;\">\n",
       "      <th></th>\n",
       "      <th></th>\n",
       "      <th>0</th>\n",
       "      <th>1</th>\n",
       "      <th>2</th>\n",
       "    </tr>\n",
       "    <tr>\n",
       "      <th>level_0</th>\n",
       "      <th>level_1</th>\n",
       "      <th></th>\n",
       "      <th></th>\n",
       "      <th></th>\n",
       "    </tr>\n",
       "  </thead>\n",
       "  <tbody>\n",
       "    <tr>\n",
       "      <th rowspan=\"2\" valign=\"top\">bar</th>\n",
       "      <th>one</th>\n",
       "      <td>-0.549399</td>\n",
       "      <td>-1.376557</td>\n",
       "      <td>2.351810</td>\n",
       "    </tr>\n",
       "    <tr>\n",
       "      <th>two</th>\n",
       "      <td>-0.378307</td>\n",
       "      <td>-0.233206</td>\n",
       "      <td>-0.785912</td>\n",
       "    </tr>\n",
       "    <tr>\n",
       "      <th rowspan=\"2\" valign=\"top\">baz</th>\n",
       "      <th>one</th>\n",
       "      <td>-0.051163</td>\n",
       "      <td>1.207110</td>\n",
       "      <td>-1.329291</td>\n",
       "    </tr>\n",
       "    <tr>\n",
       "      <th>two</th>\n",
       "      <td>0.139845</td>\n",
       "      <td>-0.621617</td>\n",
       "      <td>-1.217686</td>\n",
       "    </tr>\n",
       "    <tr>\n",
       "      <th rowspan=\"2\" valign=\"top\">foo</th>\n",
       "      <th>one</th>\n",
       "      <td>-0.097998</td>\n",
       "      <td>0.246112</td>\n",
       "      <td>-1.167546</td>\n",
       "    </tr>\n",
       "    <tr>\n",
       "      <th>two</th>\n",
       "      <td>-0.938834</td>\n",
       "      <td>0.120633</td>\n",
       "      <td>-2.182840</td>\n",
       "    </tr>\n",
       "    <tr>\n",
       "      <th rowspan=\"2\" valign=\"top\">qux</th>\n",
       "      <th>one</th>\n",
       "      <td>-0.440927</td>\n",
       "      <td>0.631858</td>\n",
       "      <td>-0.116765</td>\n",
       "    </tr>\n",
       "    <tr>\n",
       "      <th>two</th>\n",
       "      <td>-0.120227</td>\n",
       "      <td>-0.413899</td>\n",
       "      <td>0.412491</td>\n",
       "    </tr>\n",
       "  </tbody>\n",
       "</table>\n",
       "</div>"
      ],
      "text/plain": [
       "                        0         1         2\n",
       "level_0 level_1                              \n",
       "bar     one     -0.549399 -1.376557  2.351810\n",
       "        two     -0.378307 -0.233206 -0.785912\n",
       "baz     one     -0.051163  1.207110 -1.329291\n",
       "        two      0.139845 -0.621617 -1.217686\n",
       "foo     one     -0.097998  0.246112 -1.167546\n",
       "        two     -0.938834  0.120633 -2.182840\n",
       "qux     one     -0.440927  0.631858 -0.116765\n",
       "        two     -0.120227 -0.413899  0.412491"
      ]
     },
     "execution_count": 171,
     "metadata": {},
     "output_type": "execute_result"
    }
   ],
   "source": [
    "df"
   ]
  },
  {
   "cell_type": "code",
   "execution_count": 177,
   "id": "891baf4a",
   "metadata": {},
   "outputs": [
    {
     "data": {
      "application/vnd.microsoft.datawrangler.viewer.v0+json": {
       "columns": [
        {
         "name": "('level_0', 'level_1')",
         "rawType": "object",
         "type": "unknown"
        },
        {
         "name": "1",
         "rawType": "float64",
         "type": "float"
        }
       ],
       "ref": "698d1913-36a8-4402-b4b0-49c14cd888b2",
       "rows": [
        [
         "('bar', 'one')",
         "-1.3765571992490055"
        ],
        [
         "('bar', 'two')",
         "-0.2332063600310293"
        ],
        [
         "('foo', 'one')",
         "0.24611173288512925"
        ],
        [
         "('foo', 'two')",
         "0.12063327058479738"
        ]
       ],
       "shape": {
        "columns": 1,
        "rows": 4
       }
      },
      "text/plain": [
       "level_0  level_1\n",
       "bar      one       -1.376557\n",
       "         two       -0.233206\n",
       "foo      one        0.246112\n",
       "         two        0.120633\n",
       "Name: 1, dtype: float64"
      ]
     },
     "execution_count": 177,
     "metadata": {},
     "output_type": "execute_result"
    }
   ],
   "source": [
    "df.loc[['bar', 'foo'], 1]"
   ]
  },
  {
   "cell_type": "code",
   "execution_count": 178,
   "id": "a04851cf",
   "metadata": {},
   "outputs": [],
   "source": [
    "def mklbl(prefix, n):\n",
    "    return [\"%s%s\" % (prefix, i) for i in range(n)]"
   ]
  },
  {
   "cell_type": "code",
   "execution_count": 180,
   "id": "ae81a0ba",
   "metadata": {},
   "outputs": [
    {
     "data": {
      "text/plain": [
       "['A0', 'A1', 'A2', 'A3']"
      ]
     },
     "execution_count": 180,
     "metadata": {},
     "output_type": "execute_result"
    }
   ],
   "source": [
    "mklbl(\"A\", 4)"
   ]
  },
  {
   "cell_type": "code",
   "execution_count": 181,
   "id": "d920c30a",
   "metadata": {},
   "outputs": [
    {
     "data": {
      "application/vnd.microsoft.datawrangler.viewer.v0+json": {
       "columns": [
        {
         "name": "(None, None, None, None)",
         "rawType": "object",
         "type": "unknown"
        },
        {
         "name": "('a', 'bar')",
         "rawType": "int64",
         "type": "integer"
        },
        {
         "name": "('a', 'foo')",
         "rawType": "int64",
         "type": "integer"
        },
        {
         "name": "('b', 'bah')",
         "rawType": "int64",
         "type": "integer"
        },
        {
         "name": "('b', 'foo')",
         "rawType": "int64",
         "type": "integer"
        }
       ],
       "ref": "1fc094af-a0df-4dbb-8862-20306f75d9f0",
       "rows": [
        [
         "('A0', 'B0', 'C0', 'D0')",
         "1",
         "0",
         "3",
         "2"
        ],
        [
         "('A0', 'B0', 'C0', 'D1')",
         "5",
         "4",
         "7",
         "6"
        ],
        [
         "('A0', 'B0', 'C1', 'D0')",
         "9",
         "8",
         "11",
         "10"
        ],
        [
         "('A0', 'B0', 'C1', 'D1')",
         "13",
         "12",
         "15",
         "14"
        ],
        [
         "('A0', 'B0', 'C2', 'D0')",
         "17",
         "16",
         "19",
         "18"
        ],
        [
         "('A0', 'B0', 'C2', 'D1')",
         "21",
         "20",
         "23",
         "22"
        ],
        [
         "('A0', 'B0', 'C3', 'D0')",
         "25",
         "24",
         "27",
         "26"
        ],
        [
         "('A0', 'B0', 'C3', 'D1')",
         "29",
         "28",
         "31",
         "30"
        ],
        [
         "('A0', 'B1', 'C0', 'D0')",
         "33",
         "32",
         "35",
         "34"
        ],
        [
         "('A0', 'B1', 'C0', 'D1')",
         "37",
         "36",
         "39",
         "38"
        ],
        [
         "('A0', 'B1', 'C1', 'D0')",
         "41",
         "40",
         "43",
         "42"
        ],
        [
         "('A0', 'B1', 'C1', 'D1')",
         "45",
         "44",
         "47",
         "46"
        ],
        [
         "('A0', 'B1', 'C2', 'D0')",
         "49",
         "48",
         "51",
         "50"
        ],
        [
         "('A0', 'B1', 'C2', 'D1')",
         "53",
         "52",
         "55",
         "54"
        ],
        [
         "('A0', 'B1', 'C3', 'D0')",
         "57",
         "56",
         "59",
         "58"
        ],
        [
         "('A0', 'B1', 'C3', 'D1')",
         "61",
         "60",
         "63",
         "62"
        ],
        [
         "('A1', 'B0', 'C0', 'D0')",
         "65",
         "64",
         "67",
         "66"
        ],
        [
         "('A1', 'B0', 'C0', 'D1')",
         "69",
         "68",
         "71",
         "70"
        ],
        [
         "('A1', 'B0', 'C1', 'D0')",
         "73",
         "72",
         "75",
         "74"
        ],
        [
         "('A1', 'B0', 'C1', 'D1')",
         "77",
         "76",
         "79",
         "78"
        ],
        [
         "('A1', 'B0', 'C2', 'D0')",
         "81",
         "80",
         "83",
         "82"
        ],
        [
         "('A1', 'B0', 'C2', 'D1')",
         "85",
         "84",
         "87",
         "86"
        ],
        [
         "('A1', 'B0', 'C3', 'D0')",
         "89",
         "88",
         "91",
         "90"
        ],
        [
         "('A1', 'B0', 'C3', 'D1')",
         "93",
         "92",
         "95",
         "94"
        ],
        [
         "('A1', 'B1', 'C0', 'D0')",
         "97",
         "96",
         "99",
         "98"
        ],
        [
         "('A1', 'B1', 'C0', 'D1')",
         "101",
         "100",
         "103",
         "102"
        ],
        [
         "('A1', 'B1', 'C1', 'D0')",
         "105",
         "104",
         "107",
         "106"
        ],
        [
         "('A1', 'B1', 'C1', 'D1')",
         "109",
         "108",
         "111",
         "110"
        ],
        [
         "('A1', 'B1', 'C2', 'D0')",
         "113",
         "112",
         "115",
         "114"
        ],
        [
         "('A1', 'B1', 'C2', 'D1')",
         "117",
         "116",
         "119",
         "118"
        ],
        [
         "('A1', 'B1', 'C3', 'D0')",
         "121",
         "120",
         "123",
         "122"
        ],
        [
         "('A1', 'B1', 'C3', 'D1')",
         "125",
         "124",
         "127",
         "126"
        ],
        [
         "('A2', 'B0', 'C0', 'D0')",
         "129",
         "128",
         "131",
         "130"
        ],
        [
         "('A2', 'B0', 'C0', 'D1')",
         "133",
         "132",
         "135",
         "134"
        ],
        [
         "('A2', 'B0', 'C1', 'D0')",
         "137",
         "136",
         "139",
         "138"
        ],
        [
         "('A2', 'B0', 'C1', 'D1')",
         "141",
         "140",
         "143",
         "142"
        ],
        [
         "('A2', 'B0', 'C2', 'D0')",
         "145",
         "144",
         "147",
         "146"
        ],
        [
         "('A2', 'B0', 'C2', 'D1')",
         "149",
         "148",
         "151",
         "150"
        ],
        [
         "('A2', 'B0', 'C3', 'D0')",
         "153",
         "152",
         "155",
         "154"
        ],
        [
         "('A2', 'B0', 'C3', 'D1')",
         "157",
         "156",
         "159",
         "158"
        ],
        [
         "('A2', 'B1', 'C0', 'D0')",
         "161",
         "160",
         "163",
         "162"
        ],
        [
         "('A2', 'B1', 'C0', 'D1')",
         "165",
         "164",
         "167",
         "166"
        ],
        [
         "('A2', 'B1', 'C1', 'D0')",
         "169",
         "168",
         "171",
         "170"
        ],
        [
         "('A2', 'B1', 'C1', 'D1')",
         "173",
         "172",
         "175",
         "174"
        ],
        [
         "('A2', 'B1', 'C2', 'D0')",
         "177",
         "176",
         "179",
         "178"
        ],
        [
         "('A2', 'B1', 'C2', 'D1')",
         "181",
         "180",
         "183",
         "182"
        ],
        [
         "('A2', 'B1', 'C3', 'D0')",
         "185",
         "184",
         "187",
         "186"
        ],
        [
         "('A2', 'B1', 'C3', 'D1')",
         "189",
         "188",
         "191",
         "190"
        ],
        [
         "('A3', 'B0', 'C0', 'D0')",
         "193",
         "192",
         "195",
         "194"
        ],
        [
         "('A3', 'B0', 'C0', 'D1')",
         "197",
         "196",
         "199",
         "198"
        ]
       ],
       "shape": {
        "columns": 4,
        "rows": 64
       }
      },
      "text/html": [
       "<div>\n",
       "<style scoped>\n",
       "    .dataframe tbody tr th:only-of-type {\n",
       "        vertical-align: middle;\n",
       "    }\n",
       "\n",
       "    .dataframe tbody tr th {\n",
       "        vertical-align: top;\n",
       "    }\n",
       "\n",
       "    .dataframe thead tr th {\n",
       "        text-align: left;\n",
       "    }\n",
       "</style>\n",
       "<table border=\"1\" class=\"dataframe\">\n",
       "  <thead>\n",
       "    <tr>\n",
       "      <th></th>\n",
       "      <th></th>\n",
       "      <th></th>\n",
       "      <th>lvl0</th>\n",
       "      <th colspan=\"2\" halign=\"left\">a</th>\n",
       "      <th colspan=\"2\" halign=\"left\">b</th>\n",
       "    </tr>\n",
       "    <tr>\n",
       "      <th></th>\n",
       "      <th></th>\n",
       "      <th></th>\n",
       "      <th>lvl1</th>\n",
       "      <th>bar</th>\n",
       "      <th>foo</th>\n",
       "      <th>bah</th>\n",
       "      <th>foo</th>\n",
       "    </tr>\n",
       "  </thead>\n",
       "  <tbody>\n",
       "    <tr>\n",
       "      <th rowspan=\"5\" valign=\"top\">A0</th>\n",
       "      <th rowspan=\"5\" valign=\"top\">B0</th>\n",
       "      <th rowspan=\"2\" valign=\"top\">C0</th>\n",
       "      <th>D0</th>\n",
       "      <td>1</td>\n",
       "      <td>0</td>\n",
       "      <td>3</td>\n",
       "      <td>2</td>\n",
       "    </tr>\n",
       "    <tr>\n",
       "      <th>D1</th>\n",
       "      <td>5</td>\n",
       "      <td>4</td>\n",
       "      <td>7</td>\n",
       "      <td>6</td>\n",
       "    </tr>\n",
       "    <tr>\n",
       "      <th rowspan=\"2\" valign=\"top\">C1</th>\n",
       "      <th>D0</th>\n",
       "      <td>9</td>\n",
       "      <td>8</td>\n",
       "      <td>11</td>\n",
       "      <td>10</td>\n",
       "    </tr>\n",
       "    <tr>\n",
       "      <th>D1</th>\n",
       "      <td>13</td>\n",
       "      <td>12</td>\n",
       "      <td>15</td>\n",
       "      <td>14</td>\n",
       "    </tr>\n",
       "    <tr>\n",
       "      <th>C2</th>\n",
       "      <th>D0</th>\n",
       "      <td>17</td>\n",
       "      <td>16</td>\n",
       "      <td>19</td>\n",
       "      <td>18</td>\n",
       "    </tr>\n",
       "    <tr>\n",
       "      <th>...</th>\n",
       "      <th>...</th>\n",
       "      <th>...</th>\n",
       "      <th>...</th>\n",
       "      <td>...</td>\n",
       "      <td>...</td>\n",
       "      <td>...</td>\n",
       "      <td>...</td>\n",
       "    </tr>\n",
       "    <tr>\n",
       "      <th rowspan=\"5\" valign=\"top\">A3</th>\n",
       "      <th rowspan=\"5\" valign=\"top\">B1</th>\n",
       "      <th>C1</th>\n",
       "      <th>D1</th>\n",
       "      <td>237</td>\n",
       "      <td>236</td>\n",
       "      <td>239</td>\n",
       "      <td>238</td>\n",
       "    </tr>\n",
       "    <tr>\n",
       "      <th rowspan=\"2\" valign=\"top\">C2</th>\n",
       "      <th>D0</th>\n",
       "      <td>241</td>\n",
       "      <td>240</td>\n",
       "      <td>243</td>\n",
       "      <td>242</td>\n",
       "    </tr>\n",
       "    <tr>\n",
       "      <th>D1</th>\n",
       "      <td>245</td>\n",
       "      <td>244</td>\n",
       "      <td>247</td>\n",
       "      <td>246</td>\n",
       "    </tr>\n",
       "    <tr>\n",
       "      <th rowspan=\"2\" valign=\"top\">C3</th>\n",
       "      <th>D0</th>\n",
       "      <td>249</td>\n",
       "      <td>248</td>\n",
       "      <td>251</td>\n",
       "      <td>250</td>\n",
       "    </tr>\n",
       "    <tr>\n",
       "      <th>D1</th>\n",
       "      <td>253</td>\n",
       "      <td>252</td>\n",
       "      <td>255</td>\n",
       "      <td>254</td>\n",
       "    </tr>\n",
       "  </tbody>\n",
       "</table>\n",
       "<p>64 rows × 4 columns</p>\n",
       "</div>"
      ],
      "text/plain": [
       "lvl0           a         b     \n",
       "lvl1         bar  foo  bah  foo\n",
       "A0 B0 C0 D0    1    0    3    2\n",
       "         D1    5    4    7    6\n",
       "      C1 D0    9    8   11   10\n",
       "         D1   13   12   15   14\n",
       "      C2 D0   17   16   19   18\n",
       "...          ...  ...  ...  ...\n",
       "A3 B1 C1 D1  237  236  239  238\n",
       "      C2 D0  241  240  243  242\n",
       "         D1  245  244  247  246\n",
       "      C3 D0  249  248  251  250\n",
       "         D1  253  252  255  254\n",
       "\n",
       "[64 rows x 4 columns]"
      ]
     },
     "execution_count": 181,
     "metadata": {},
     "output_type": "execute_result"
    }
   ],
   "source": [
    "miindex = pd.MultiIndex.from_product(\n",
    "    [mklbl(\"A\", 4), mklbl(\"B\", 2), mklbl(\"C\", 4), mklbl(\"D\", 2)]\n",
    ")\n",
    "\n",
    "\n",
    "micolumns = pd.MultiIndex.from_tuples(\n",
    "    [(\"a\", \"foo\"), (\"a\", \"bar\"), (\"b\", \"foo\"), (\"b\", \"bah\")], names=[\"lvl0\", \"lvl1\"]\n",
    ")\n",
    "\n",
    "\n",
    "dfmi = (\n",
    "    pd.DataFrame(\n",
    "        np.arange(len(miindex) * len(micolumns)).reshape(\n",
    "            (len(miindex), len(micolumns))\n",
    "        ),\n",
    "        index=miindex,\n",
    "        columns=micolumns,\n",
    "    )\n",
    "    .sort_index()\n",
    "    .sort_index(axis=1)\n",
    ")\n",
    "\n",
    "dfmi"
   ]
  },
  {
   "cell_type": "code",
   "execution_count": 192,
   "id": "3c7cc6e7",
   "metadata": {},
   "outputs": [
    {
     "data": {
      "application/vnd.microsoft.datawrangler.viewer.v0+json": {
       "columns": [
        {
         "name": "(None, None, None, None)",
         "rawType": "object",
         "type": "unknown"
        },
        {
         "name": "('a', 'bar')",
         "rawType": "int64",
         "type": "integer"
        },
        {
         "name": "('a', 'foo')",
         "rawType": "int64",
         "type": "integer"
        },
        {
         "name": "('b', 'bah')",
         "rawType": "int64",
         "type": "integer"
        },
        {
         "name": "('b', 'foo')",
         "rawType": "int64",
         "type": "integer"
        }
       ],
       "ref": "388cca4d-7d7c-4f88-bcb3-8132738066d6",
       "rows": [
        [
         "('A1', 'B0', 'C1', 'D0')",
         "73",
         "72",
         "75",
         "74"
        ],
        [
         "('A1', 'B0', 'C1', 'D1')",
         "77",
         "76",
         "79",
         "78"
        ],
        [
         "('A1', 'B1', 'C1', 'D0')",
         "105",
         "104",
         "107",
         "106"
        ],
        [
         "('A1', 'B1', 'C1', 'D1')",
         "109",
         "108",
         "111",
         "110"
        ],
        [
         "('A2', 'B0', 'C1', 'D0')",
         "137",
         "136",
         "139",
         "138"
        ],
        [
         "('A2', 'B0', 'C1', 'D1')",
         "141",
         "140",
         "143",
         "142"
        ],
        [
         "('A2', 'B1', 'C1', 'D0')",
         "169",
         "168",
         "171",
         "170"
        ],
        [
         "('A2', 'B1', 'C1', 'D1')",
         "173",
         "172",
         "175",
         "174"
        ]
       ],
       "shape": {
        "columns": 4,
        "rows": 8
       }
      },
      "text/html": [
       "<div>\n",
       "<style scoped>\n",
       "    .dataframe tbody tr th:only-of-type {\n",
       "        vertical-align: middle;\n",
       "    }\n",
       "\n",
       "    .dataframe tbody tr th {\n",
       "        vertical-align: top;\n",
       "    }\n",
       "\n",
       "    .dataframe thead tr th {\n",
       "        text-align: left;\n",
       "    }\n",
       "</style>\n",
       "<table border=\"1\" class=\"dataframe\">\n",
       "  <thead>\n",
       "    <tr>\n",
       "      <th></th>\n",
       "      <th></th>\n",
       "      <th></th>\n",
       "      <th>lvl0</th>\n",
       "      <th colspan=\"2\" halign=\"left\">a</th>\n",
       "      <th colspan=\"2\" halign=\"left\">b</th>\n",
       "    </tr>\n",
       "    <tr>\n",
       "      <th></th>\n",
       "      <th></th>\n",
       "      <th></th>\n",
       "      <th>lvl1</th>\n",
       "      <th>bar</th>\n",
       "      <th>foo</th>\n",
       "      <th>bah</th>\n",
       "      <th>foo</th>\n",
       "    </tr>\n",
       "  </thead>\n",
       "  <tbody>\n",
       "    <tr>\n",
       "      <th rowspan=\"4\" valign=\"top\">A1</th>\n",
       "      <th rowspan=\"2\" valign=\"top\">B0</th>\n",
       "      <th rowspan=\"2\" valign=\"top\">C1</th>\n",
       "      <th>D0</th>\n",
       "      <td>73</td>\n",
       "      <td>72</td>\n",
       "      <td>75</td>\n",
       "      <td>74</td>\n",
       "    </tr>\n",
       "    <tr>\n",
       "      <th>D1</th>\n",
       "      <td>77</td>\n",
       "      <td>76</td>\n",
       "      <td>79</td>\n",
       "      <td>78</td>\n",
       "    </tr>\n",
       "    <tr>\n",
       "      <th rowspan=\"2\" valign=\"top\">B1</th>\n",
       "      <th rowspan=\"2\" valign=\"top\">C1</th>\n",
       "      <th>D0</th>\n",
       "      <td>105</td>\n",
       "      <td>104</td>\n",
       "      <td>107</td>\n",
       "      <td>106</td>\n",
       "    </tr>\n",
       "    <tr>\n",
       "      <th>D1</th>\n",
       "      <td>109</td>\n",
       "      <td>108</td>\n",
       "      <td>111</td>\n",
       "      <td>110</td>\n",
       "    </tr>\n",
       "    <tr>\n",
       "      <th rowspan=\"4\" valign=\"top\">A2</th>\n",
       "      <th rowspan=\"2\" valign=\"top\">B0</th>\n",
       "      <th rowspan=\"2\" valign=\"top\">C1</th>\n",
       "      <th>D0</th>\n",
       "      <td>137</td>\n",
       "      <td>136</td>\n",
       "      <td>139</td>\n",
       "      <td>138</td>\n",
       "    </tr>\n",
       "    <tr>\n",
       "      <th>D1</th>\n",
       "      <td>141</td>\n",
       "      <td>140</td>\n",
       "      <td>143</td>\n",
       "      <td>142</td>\n",
       "    </tr>\n",
       "    <tr>\n",
       "      <th rowspan=\"2\" valign=\"top\">B1</th>\n",
       "      <th rowspan=\"2\" valign=\"top\">C1</th>\n",
       "      <th>D0</th>\n",
       "      <td>169</td>\n",
       "      <td>168</td>\n",
       "      <td>171</td>\n",
       "      <td>170</td>\n",
       "    </tr>\n",
       "    <tr>\n",
       "      <th>D1</th>\n",
       "      <td>173</td>\n",
       "      <td>172</td>\n",
       "      <td>175</td>\n",
       "      <td>174</td>\n",
       "    </tr>\n",
       "  </tbody>\n",
       "</table>\n",
       "</div>"
      ],
      "text/plain": [
       "lvl0           a         b     \n",
       "lvl1         bar  foo  bah  foo\n",
       "A1 B0 C1 D0   73   72   75   74\n",
       "         D1   77   76   79   78\n",
       "   B1 C1 D0  105  104  107  106\n",
       "         D1  109  108  111  110\n",
       "A2 B0 C1 D0  137  136  139  138\n",
       "         D1  141  140  143  142\n",
       "   B1 C1 D0  169  168  171  170\n",
       "         D1  173  172  175  174"
      ]
     },
     "execution_count": 192,
     "metadata": {},
     "output_type": "execute_result"
    }
   ],
   "source": [
    "dfmi.loc[(slice(\"A1\", \"A2\"), slice(None), [\"C1\"])]"
   ]
  },
  {
   "cell_type": "code",
   "execution_count": 193,
   "id": "eee315b6",
   "metadata": {},
   "outputs": [
    {
     "data": {
      "application/vnd.microsoft.datawrangler.viewer.v0+json": {
       "columns": [
        {
         "name": "('level_0', 'level_1')",
         "rawType": "object",
         "type": "unknown"
        },
        {
         "name": "0",
         "rawType": "float64",
         "type": "float"
        },
        {
         "name": "1",
         "rawType": "float64",
         "type": "float"
        },
        {
         "name": "2",
         "rawType": "float64",
         "type": "float"
        }
       ],
       "ref": "a691667a-6e60-497c-a0ec-9ac837762c0e",
       "rows": [
        [
         "('bar', 'one')",
         "-0.5493988053582922",
         "-1.3765571992490055",
         "2.3518099424234986"
        ],
        [
         "('bar', 'two')",
         "-0.37830703702452234",
         "-0.2332063600310293",
         "-0.7859120985956175"
        ],
        [
         "('baz', 'one')",
         "-0.051163238447109044",
         "1.2071104903667391",
         "-1.3292906857079847"
        ],
        [
         "('baz', 'two')",
         "0.13984512793698362",
         "-0.6216170459183665",
         "-1.2176864557324953"
        ],
        [
         "('foo', 'one')",
         "-0.09799825808423332",
         "0.24611173288512925",
         "-1.1675463405234958"
        ],
        [
         "('foo', 'two')",
         "-0.9388343384391244",
         "0.12063327058479738",
         "-2.1828396069016245"
        ],
        [
         "('qux', 'one')",
         "-0.4409272477189065",
         "0.6318580048769173",
         "-0.11676541136075955"
        ],
        [
         "('qux', 'two')",
         "-0.12022732272252878",
         "-0.4138986957962818",
         "0.41249098119898836"
        ]
       ],
       "shape": {
        "columns": 3,
        "rows": 8
       }
      },
      "text/html": [
       "<div>\n",
       "<style scoped>\n",
       "    .dataframe tbody tr th:only-of-type {\n",
       "        vertical-align: middle;\n",
       "    }\n",
       "\n",
       "    .dataframe tbody tr th {\n",
       "        vertical-align: top;\n",
       "    }\n",
       "\n",
       "    .dataframe thead th {\n",
       "        text-align: right;\n",
       "    }\n",
       "</style>\n",
       "<table border=\"1\" class=\"dataframe\">\n",
       "  <thead>\n",
       "    <tr style=\"text-align: right;\">\n",
       "      <th></th>\n",
       "      <th></th>\n",
       "      <th>0</th>\n",
       "      <th>1</th>\n",
       "      <th>2</th>\n",
       "    </tr>\n",
       "    <tr>\n",
       "      <th>level_0</th>\n",
       "      <th>level_1</th>\n",
       "      <th></th>\n",
       "      <th></th>\n",
       "      <th></th>\n",
       "    </tr>\n",
       "  </thead>\n",
       "  <tbody>\n",
       "    <tr>\n",
       "      <th rowspan=\"2\" valign=\"top\">bar</th>\n",
       "      <th>one</th>\n",
       "      <td>-0.549399</td>\n",
       "      <td>-1.376557</td>\n",
       "      <td>2.351810</td>\n",
       "    </tr>\n",
       "    <tr>\n",
       "      <th>two</th>\n",
       "      <td>-0.378307</td>\n",
       "      <td>-0.233206</td>\n",
       "      <td>-0.785912</td>\n",
       "    </tr>\n",
       "    <tr>\n",
       "      <th rowspan=\"2\" valign=\"top\">baz</th>\n",
       "      <th>one</th>\n",
       "      <td>-0.051163</td>\n",
       "      <td>1.207110</td>\n",
       "      <td>-1.329291</td>\n",
       "    </tr>\n",
       "    <tr>\n",
       "      <th>two</th>\n",
       "      <td>0.139845</td>\n",
       "      <td>-0.621617</td>\n",
       "      <td>-1.217686</td>\n",
       "    </tr>\n",
       "    <tr>\n",
       "      <th rowspan=\"2\" valign=\"top\">foo</th>\n",
       "      <th>one</th>\n",
       "      <td>-0.097998</td>\n",
       "      <td>0.246112</td>\n",
       "      <td>-1.167546</td>\n",
       "    </tr>\n",
       "    <tr>\n",
       "      <th>two</th>\n",
       "      <td>-0.938834</td>\n",
       "      <td>0.120633</td>\n",
       "      <td>-2.182840</td>\n",
       "    </tr>\n",
       "    <tr>\n",
       "      <th rowspan=\"2\" valign=\"top\">qux</th>\n",
       "      <th>one</th>\n",
       "      <td>-0.440927</td>\n",
       "      <td>0.631858</td>\n",
       "      <td>-0.116765</td>\n",
       "    </tr>\n",
       "    <tr>\n",
       "      <th>two</th>\n",
       "      <td>-0.120227</td>\n",
       "      <td>-0.413899</td>\n",
       "      <td>0.412491</td>\n",
       "    </tr>\n",
       "  </tbody>\n",
       "</table>\n",
       "</div>"
      ],
      "text/plain": [
       "                        0         1         2\n",
       "level_0 level_1                              \n",
       "bar     one     -0.549399 -1.376557  2.351810\n",
       "        two     -0.378307 -0.233206 -0.785912\n",
       "baz     one     -0.051163  1.207110 -1.329291\n",
       "        two      0.139845 -0.621617 -1.217686\n",
       "foo     one     -0.097998  0.246112 -1.167546\n",
       "        two     -0.938834  0.120633 -2.182840\n",
       "qux     one     -0.440927  0.631858 -0.116765\n",
       "        two     -0.120227 -0.413899  0.412491"
      ]
     },
     "execution_count": 193,
     "metadata": {},
     "output_type": "execute_result"
    }
   ],
   "source": [
    "df"
   ]
  },
  {
   "cell_type": "code",
   "execution_count": 196,
   "id": "fea76598",
   "metadata": {},
   "outputs": [
    {
     "data": {
      "application/vnd.microsoft.datawrangler.viewer.v0+json": {
       "columns": [
        {
         "name": "level_1",
         "rawType": "object",
         "type": "string"
        },
        {
         "name": "0",
         "rawType": "float64",
         "type": "float"
        },
        {
         "name": "1",
         "rawType": "float64",
         "type": "float"
        },
        {
         "name": "2",
         "rawType": "float64",
         "type": "float"
        }
       ],
       "ref": "8c72dccd-9fda-4763-a5af-c5436ccdaaf5",
       "rows": [
        [
         "one",
         "-0.051163238447109044",
         "1.2071104903667391",
         "-1.3292906857079847"
        ],
        [
         "two",
         "0.13984512793698362",
         "-0.6216170459183665",
         "-1.2176864557324953"
        ]
       ],
       "shape": {
        "columns": 3,
        "rows": 2
       }
      },
      "text/html": [
       "<div>\n",
       "<style scoped>\n",
       "    .dataframe tbody tr th:only-of-type {\n",
       "        vertical-align: middle;\n",
       "    }\n",
       "\n",
       "    .dataframe tbody tr th {\n",
       "        vertical-align: top;\n",
       "    }\n",
       "\n",
       "    .dataframe thead th {\n",
       "        text-align: right;\n",
       "    }\n",
       "</style>\n",
       "<table border=\"1\" class=\"dataframe\">\n",
       "  <thead>\n",
       "    <tr style=\"text-align: right;\">\n",
       "      <th></th>\n",
       "      <th>0</th>\n",
       "      <th>1</th>\n",
       "      <th>2</th>\n",
       "    </tr>\n",
       "    <tr>\n",
       "      <th>level_1</th>\n",
       "      <th></th>\n",
       "      <th></th>\n",
       "      <th></th>\n",
       "    </tr>\n",
       "  </thead>\n",
       "  <tbody>\n",
       "    <tr>\n",
       "      <th>one</th>\n",
       "      <td>-0.051163</td>\n",
       "      <td>1.207110</td>\n",
       "      <td>-1.329291</td>\n",
       "    </tr>\n",
       "    <tr>\n",
       "      <th>two</th>\n",
       "      <td>0.139845</td>\n",
       "      <td>-0.621617</td>\n",
       "      <td>-1.217686</td>\n",
       "    </tr>\n",
       "  </tbody>\n",
       "</table>\n",
       "</div>"
      ],
      "text/plain": [
       "                0         1         2\n",
       "level_1                              \n",
       "one     -0.051163  1.207110 -1.329291\n",
       "two      0.139845 -0.621617 -1.217686"
      ]
     },
     "execution_count": 196,
     "metadata": {},
     "output_type": "execute_result"
    }
   ],
   "source": [
    "df.xs(\"baz\", level=\"level_0\")"
   ]
  },
  {
   "cell_type": "code",
   "execution_count": 201,
   "id": "af73153f",
   "metadata": {},
   "outputs": [
    {
     "data": {
      "text/plain": [
       "FrozenList([None, None, None, None])"
      ]
     },
     "execution_count": 201,
     "metadata": {},
     "output_type": "execute_result"
    }
   ],
   "source": [
    "dfmi.index.names"
   ]
  },
  {
   "cell_type": "code",
   "execution_count": 213,
   "id": "730876ba",
   "metadata": {},
   "outputs": [
    {
     "data": {
      "application/vnd.microsoft.datawrangler.viewer.v0+json": {
       "columns": [
        {
         "name": "(None, None, None, None)",
         "rawType": "object",
         "type": "unknown"
        },
        {
         "name": "bar",
         "rawType": "int64",
         "type": "integer"
        },
        {
         "name": "foo",
         "rawType": "int64",
         "type": "integer"
        }
       ],
       "ref": "a92a7694-4df3-4c1e-8314-8930f888841a",
       "rows": [
        [
         "('A1', 'B0', 'C1', 'D0')",
         "73",
         "72"
        ],
        [
         "('A1', 'B0', 'C1', 'D1')",
         "77",
         "76"
        ],
        [
         "('A1', 'B0', 'C2', 'D0')",
         "81",
         "80"
        ],
        [
         "('A1', 'B0', 'C2', 'D1')",
         "85",
         "84"
        ],
        [
         "('A1', 'B0', 'C3', 'D0')",
         "89",
         "88"
        ],
        [
         "('A1', 'B0', 'C3', 'D1')",
         "93",
         "92"
        ],
        [
         "('A1', 'B1', 'C1', 'D0')",
         "105",
         "104"
        ],
        [
         "('A1', 'B1', 'C1', 'D1')",
         "109",
         "108"
        ],
        [
         "('A1', 'B1', 'C2', 'D0')",
         "113",
         "112"
        ],
        [
         "('A1', 'B1', 'C2', 'D1')",
         "117",
         "116"
        ],
        [
         "('A1', 'B1', 'C3', 'D0')",
         "121",
         "120"
        ],
        [
         "('A1', 'B1', 'C3', 'D1')",
         "125",
         "124"
        ]
       ],
       "shape": {
        "columns": 2,
        "rows": 12
       }
      },
      "text/html": [
       "<div>\n",
       "<style scoped>\n",
       "    .dataframe tbody tr th:only-of-type {\n",
       "        vertical-align: middle;\n",
       "    }\n",
       "\n",
       "    .dataframe tbody tr th {\n",
       "        vertical-align: top;\n",
       "    }\n",
       "\n",
       "    .dataframe thead th {\n",
       "        text-align: right;\n",
       "    }\n",
       "</style>\n",
       "<table border=\"1\" class=\"dataframe\">\n",
       "  <thead>\n",
       "    <tr style=\"text-align: right;\">\n",
       "      <th></th>\n",
       "      <th></th>\n",
       "      <th></th>\n",
       "      <th>lvl1</th>\n",
       "      <th>bar</th>\n",
       "      <th>foo</th>\n",
       "    </tr>\n",
       "  </thead>\n",
       "  <tbody>\n",
       "    <tr>\n",
       "      <th rowspan=\"12\" valign=\"top\">A1</th>\n",
       "      <th rowspan=\"6\" valign=\"top\">B0</th>\n",
       "      <th rowspan=\"2\" valign=\"top\">C1</th>\n",
       "      <th>D0</th>\n",
       "      <td>73</td>\n",
       "      <td>72</td>\n",
       "    </tr>\n",
       "    <tr>\n",
       "      <th>D1</th>\n",
       "      <td>77</td>\n",
       "      <td>76</td>\n",
       "    </tr>\n",
       "    <tr>\n",
       "      <th rowspan=\"2\" valign=\"top\">C2</th>\n",
       "      <th>D0</th>\n",
       "      <td>81</td>\n",
       "      <td>80</td>\n",
       "    </tr>\n",
       "    <tr>\n",
       "      <th>D1</th>\n",
       "      <td>85</td>\n",
       "      <td>84</td>\n",
       "    </tr>\n",
       "    <tr>\n",
       "      <th rowspan=\"2\" valign=\"top\">C3</th>\n",
       "      <th>D0</th>\n",
       "      <td>89</td>\n",
       "      <td>88</td>\n",
       "    </tr>\n",
       "    <tr>\n",
       "      <th>D1</th>\n",
       "      <td>93</td>\n",
       "      <td>92</td>\n",
       "    </tr>\n",
       "    <tr>\n",
       "      <th rowspan=\"6\" valign=\"top\">B1</th>\n",
       "      <th rowspan=\"2\" valign=\"top\">C1</th>\n",
       "      <th>D0</th>\n",
       "      <td>105</td>\n",
       "      <td>104</td>\n",
       "    </tr>\n",
       "    <tr>\n",
       "      <th>D1</th>\n",
       "      <td>109</td>\n",
       "      <td>108</td>\n",
       "    </tr>\n",
       "    <tr>\n",
       "      <th rowspan=\"2\" valign=\"top\">C2</th>\n",
       "      <th>D0</th>\n",
       "      <td>113</td>\n",
       "      <td>112</td>\n",
       "    </tr>\n",
       "    <tr>\n",
       "      <th>D1</th>\n",
       "      <td>117</td>\n",
       "      <td>116</td>\n",
       "    </tr>\n",
       "    <tr>\n",
       "      <th rowspan=\"2\" valign=\"top\">C3</th>\n",
       "      <th>D0</th>\n",
       "      <td>121</td>\n",
       "      <td>120</td>\n",
       "    </tr>\n",
       "    <tr>\n",
       "      <th>D1</th>\n",
       "      <td>125</td>\n",
       "      <td>124</td>\n",
       "    </tr>\n",
       "  </tbody>\n",
       "</table>\n",
       "</div>"
      ],
      "text/plain": [
       "lvl1         bar  foo\n",
       "A1 B0 C1 D0   73   72\n",
       "         D1   77   76\n",
       "      C2 D0   81   80\n",
       "         D1   85   84\n",
       "      C3 D0   89   88\n",
       "         D1   93   92\n",
       "   B1 C1 D0  105  104\n",
       "         D1  109  108\n",
       "      C2 D0  113  112\n",
       "         D1  117  116\n",
       "      C3 D0  121  120\n",
       "         D1  125  124"
      ]
     },
     "execution_count": 213,
     "metadata": {},
     "output_type": "execute_result"
    }
   ],
   "source": [
    "dfmi.loc[\"A1\", slice(None), slice(\"C1\", \"C3\")][\"a\"]"
   ]
  },
  {
   "cell_type": "code",
   "execution_count": 216,
   "id": "db1b5b89",
   "metadata": {},
   "outputs": [
    {
     "data": {
      "application/vnd.microsoft.datawrangler.viewer.v0+json": {
       "columns": [
        {
         "name": "(None, None, None)",
         "rawType": "object",
         "type": "unknown"
        },
        {
         "name": "('a', 'foo')",
         "rawType": "int64",
         "type": "integer"
        },
        {
         "name": "('b', 'foo')",
         "rawType": "int64",
         "type": "integer"
        }
       ],
       "ref": "f7fc58d2-2327-4b9f-81c4-be924827facf",
       "rows": [
        [
         "('B0', 'C0', 'D0')",
         "64",
         "66"
        ],
        [
         "('B0', 'C0', 'D1')",
         "68",
         "70"
        ],
        [
         "('B0', 'C1', 'D0')",
         "72",
         "74"
        ],
        [
         "('B0', 'C1', 'D1')",
         "76",
         "78"
        ],
        [
         "('B0', 'C2', 'D0')",
         "80",
         "82"
        ],
        [
         "('B0', 'C2', 'D1')",
         "84",
         "86"
        ],
        [
         "('B0', 'C3', 'D0')",
         "88",
         "90"
        ],
        [
         "('B0', 'C3', 'D1')",
         "92",
         "94"
        ],
        [
         "('B1', 'C0', 'D0')",
         "96",
         "98"
        ],
        [
         "('B1', 'C0', 'D1')",
         "100",
         "102"
        ],
        [
         "('B1', 'C1', 'D0')",
         "104",
         "106"
        ],
        [
         "('B1', 'C1', 'D1')",
         "108",
         "110"
        ],
        [
         "('B1', 'C2', 'D0')",
         "112",
         "114"
        ],
        [
         "('B1', 'C2', 'D1')",
         "116",
         "118"
        ],
        [
         "('B1', 'C3', 'D0')",
         "120",
         "122"
        ],
        [
         "('B1', 'C3', 'D1')",
         "124",
         "126"
        ]
       ],
       "shape": {
        "columns": 2,
        "rows": 16
       }
      },
      "text/html": [
       "<div>\n",
       "<style scoped>\n",
       "    .dataframe tbody tr th:only-of-type {\n",
       "        vertical-align: middle;\n",
       "    }\n",
       "\n",
       "    .dataframe tbody tr th {\n",
       "        vertical-align: top;\n",
       "    }\n",
       "\n",
       "    .dataframe thead tr th {\n",
       "        text-align: left;\n",
       "    }\n",
       "</style>\n",
       "<table border=\"1\" class=\"dataframe\">\n",
       "  <thead>\n",
       "    <tr>\n",
       "      <th></th>\n",
       "      <th></th>\n",
       "      <th>lvl0</th>\n",
       "      <th>a</th>\n",
       "      <th>b</th>\n",
       "    </tr>\n",
       "    <tr>\n",
       "      <th></th>\n",
       "      <th></th>\n",
       "      <th>lvl1</th>\n",
       "      <th>foo</th>\n",
       "      <th>foo</th>\n",
       "    </tr>\n",
       "  </thead>\n",
       "  <tbody>\n",
       "    <tr>\n",
       "      <th rowspan=\"8\" valign=\"top\">B0</th>\n",
       "      <th rowspan=\"2\" valign=\"top\">C0</th>\n",
       "      <th>D0</th>\n",
       "      <td>64</td>\n",
       "      <td>66</td>\n",
       "    </tr>\n",
       "    <tr>\n",
       "      <th>D1</th>\n",
       "      <td>68</td>\n",
       "      <td>70</td>\n",
       "    </tr>\n",
       "    <tr>\n",
       "      <th rowspan=\"2\" valign=\"top\">C1</th>\n",
       "      <th>D0</th>\n",
       "      <td>72</td>\n",
       "      <td>74</td>\n",
       "    </tr>\n",
       "    <tr>\n",
       "      <th>D1</th>\n",
       "      <td>76</td>\n",
       "      <td>78</td>\n",
       "    </tr>\n",
       "    <tr>\n",
       "      <th rowspan=\"2\" valign=\"top\">C2</th>\n",
       "      <th>D0</th>\n",
       "      <td>80</td>\n",
       "      <td>82</td>\n",
       "    </tr>\n",
       "    <tr>\n",
       "      <th>D1</th>\n",
       "      <td>84</td>\n",
       "      <td>86</td>\n",
       "    </tr>\n",
       "    <tr>\n",
       "      <th rowspan=\"2\" valign=\"top\">C3</th>\n",
       "      <th>D0</th>\n",
       "      <td>88</td>\n",
       "      <td>90</td>\n",
       "    </tr>\n",
       "    <tr>\n",
       "      <th>D1</th>\n",
       "      <td>92</td>\n",
       "      <td>94</td>\n",
       "    </tr>\n",
       "    <tr>\n",
       "      <th rowspan=\"8\" valign=\"top\">B1</th>\n",
       "      <th rowspan=\"2\" valign=\"top\">C0</th>\n",
       "      <th>D0</th>\n",
       "      <td>96</td>\n",
       "      <td>98</td>\n",
       "    </tr>\n",
       "    <tr>\n",
       "      <th>D1</th>\n",
       "      <td>100</td>\n",
       "      <td>102</td>\n",
       "    </tr>\n",
       "    <tr>\n",
       "      <th rowspan=\"2\" valign=\"top\">C1</th>\n",
       "      <th>D0</th>\n",
       "      <td>104</td>\n",
       "      <td>106</td>\n",
       "    </tr>\n",
       "    <tr>\n",
       "      <th>D1</th>\n",
       "      <td>108</td>\n",
       "      <td>110</td>\n",
       "    </tr>\n",
       "    <tr>\n",
       "      <th rowspan=\"2\" valign=\"top\">C2</th>\n",
       "      <th>D0</th>\n",
       "      <td>112</td>\n",
       "      <td>114</td>\n",
       "    </tr>\n",
       "    <tr>\n",
       "      <th>D1</th>\n",
       "      <td>116</td>\n",
       "      <td>118</td>\n",
       "    </tr>\n",
       "    <tr>\n",
       "      <th rowspan=\"2\" valign=\"top\">C3</th>\n",
       "      <th>D0</th>\n",
       "      <td>120</td>\n",
       "      <td>122</td>\n",
       "    </tr>\n",
       "    <tr>\n",
       "      <th>D1</th>\n",
       "      <td>124</td>\n",
       "      <td>126</td>\n",
       "    </tr>\n",
       "  </tbody>\n",
       "</table>\n",
       "</div>"
      ],
      "text/plain": [
       "lvl0        a    b\n",
       "lvl1      foo  foo\n",
       "B0 C0 D0   64   66\n",
       "      D1   68   70\n",
       "   C1 D0   72   74\n",
       "      D1   76   78\n",
       "   C2 D0   80   82\n",
       "      D1   84   86\n",
       "   C3 D0   88   90\n",
       "      D1   92   94\n",
       "B1 C0 D0   96   98\n",
       "      D1  100  102\n",
       "   C1 D0  104  106\n",
       "      D1  108  110\n",
       "   C2 D0  112  114\n",
       "      D1  116  118\n",
       "   C3 D0  120  122\n",
       "      D1  124  126"
      ]
     },
     "execution_count": 216,
     "metadata": {},
     "output_type": "execute_result"
    }
   ],
   "source": [
    "dfmi.loc[\"A1\", (slice(None), \"foo\")]"
   ]
  },
  {
   "cell_type": "code",
   "execution_count": 215,
   "id": "7e9239f7",
   "metadata": {},
   "outputs": [
    {
     "data": {
      "application/vnd.microsoft.datawrangler.viewer.v0+json": {
       "columns": [
        {
         "name": "(None, None, None)",
         "rawType": "object",
         "type": "unknown"
        },
        {
         "name": "('a', 'foo')",
         "rawType": "int64",
         "type": "integer"
        },
        {
         "name": "('b', 'foo')",
         "rawType": "int64",
         "type": "integer"
        }
       ],
       "ref": "7e9a8d87-8b5f-4bbc-a54a-c9f33a08f268",
       "rows": [
        [
         "('B0', 'C0', 'D0')",
         "64",
         "66"
        ],
        [
         "('B0', 'C0', 'D1')",
         "68",
         "70"
        ],
        [
         "('B0', 'C1', 'D0')",
         "72",
         "74"
        ],
        [
         "('B0', 'C1', 'D1')",
         "76",
         "78"
        ],
        [
         "('B0', 'C2', 'D0')",
         "80",
         "82"
        ],
        [
         "('B0', 'C2', 'D1')",
         "84",
         "86"
        ],
        [
         "('B0', 'C3', 'D0')",
         "88",
         "90"
        ],
        [
         "('B0', 'C3', 'D1')",
         "92",
         "94"
        ],
        [
         "('B1', 'C0', 'D0')",
         "96",
         "98"
        ],
        [
         "('B1', 'C0', 'D1')",
         "100",
         "102"
        ],
        [
         "('B1', 'C1', 'D0')",
         "104",
         "106"
        ],
        [
         "('B1', 'C1', 'D1')",
         "108",
         "110"
        ],
        [
         "('B1', 'C2', 'D0')",
         "112",
         "114"
        ],
        [
         "('B1', 'C2', 'D1')",
         "116",
         "118"
        ],
        [
         "('B1', 'C3', 'D0')",
         "120",
         "122"
        ],
        [
         "('B1', 'C3', 'D1')",
         "124",
         "126"
        ]
       ],
       "shape": {
        "columns": 2,
        "rows": 16
       }
      },
      "text/html": [
       "<div>\n",
       "<style scoped>\n",
       "    .dataframe tbody tr th:only-of-type {\n",
       "        vertical-align: middle;\n",
       "    }\n",
       "\n",
       "    .dataframe tbody tr th {\n",
       "        vertical-align: top;\n",
       "    }\n",
       "\n",
       "    .dataframe thead tr th {\n",
       "        text-align: left;\n",
       "    }\n",
       "</style>\n",
       "<table border=\"1\" class=\"dataframe\">\n",
       "  <thead>\n",
       "    <tr>\n",
       "      <th></th>\n",
       "      <th></th>\n",
       "      <th>lvl0</th>\n",
       "      <th>a</th>\n",
       "      <th>b</th>\n",
       "    </tr>\n",
       "    <tr>\n",
       "      <th></th>\n",
       "      <th></th>\n",
       "      <th>lvl1</th>\n",
       "      <th>foo</th>\n",
       "      <th>foo</th>\n",
       "    </tr>\n",
       "  </thead>\n",
       "  <tbody>\n",
       "    <tr>\n",
       "      <th rowspan=\"8\" valign=\"top\">B0</th>\n",
       "      <th rowspan=\"2\" valign=\"top\">C0</th>\n",
       "      <th>D0</th>\n",
       "      <td>64</td>\n",
       "      <td>66</td>\n",
       "    </tr>\n",
       "    <tr>\n",
       "      <th>D1</th>\n",
       "      <td>68</td>\n",
       "      <td>70</td>\n",
       "    </tr>\n",
       "    <tr>\n",
       "      <th rowspan=\"2\" valign=\"top\">C1</th>\n",
       "      <th>D0</th>\n",
       "      <td>72</td>\n",
       "      <td>74</td>\n",
       "    </tr>\n",
       "    <tr>\n",
       "      <th>D1</th>\n",
       "      <td>76</td>\n",
       "      <td>78</td>\n",
       "    </tr>\n",
       "    <tr>\n",
       "      <th rowspan=\"2\" valign=\"top\">C2</th>\n",
       "      <th>D0</th>\n",
       "      <td>80</td>\n",
       "      <td>82</td>\n",
       "    </tr>\n",
       "    <tr>\n",
       "      <th>D1</th>\n",
       "      <td>84</td>\n",
       "      <td>86</td>\n",
       "    </tr>\n",
       "    <tr>\n",
       "      <th rowspan=\"2\" valign=\"top\">C3</th>\n",
       "      <th>D0</th>\n",
       "      <td>88</td>\n",
       "      <td>90</td>\n",
       "    </tr>\n",
       "    <tr>\n",
       "      <th>D1</th>\n",
       "      <td>92</td>\n",
       "      <td>94</td>\n",
       "    </tr>\n",
       "    <tr>\n",
       "      <th rowspan=\"8\" valign=\"top\">B1</th>\n",
       "      <th rowspan=\"2\" valign=\"top\">C0</th>\n",
       "      <th>D0</th>\n",
       "      <td>96</td>\n",
       "      <td>98</td>\n",
       "    </tr>\n",
       "    <tr>\n",
       "      <th>D1</th>\n",
       "      <td>100</td>\n",
       "      <td>102</td>\n",
       "    </tr>\n",
       "    <tr>\n",
       "      <th rowspan=\"2\" valign=\"top\">C1</th>\n",
       "      <th>D0</th>\n",
       "      <td>104</td>\n",
       "      <td>106</td>\n",
       "    </tr>\n",
       "    <tr>\n",
       "      <th>D1</th>\n",
       "      <td>108</td>\n",
       "      <td>110</td>\n",
       "    </tr>\n",
       "    <tr>\n",
       "      <th rowspan=\"2\" valign=\"top\">C2</th>\n",
       "      <th>D0</th>\n",
       "      <td>112</td>\n",
       "      <td>114</td>\n",
       "    </tr>\n",
       "    <tr>\n",
       "      <th>D1</th>\n",
       "      <td>116</td>\n",
       "      <td>118</td>\n",
       "    </tr>\n",
       "    <tr>\n",
       "      <th rowspan=\"2\" valign=\"top\">C3</th>\n",
       "      <th>D0</th>\n",
       "      <td>120</td>\n",
       "      <td>122</td>\n",
       "    </tr>\n",
       "    <tr>\n",
       "      <th>D1</th>\n",
       "      <td>124</td>\n",
       "      <td>126</td>\n",
       "    </tr>\n",
       "  </tbody>\n",
       "</table>\n",
       "</div>"
      ],
      "text/plain": [
       "lvl0        a    b\n",
       "lvl1      foo  foo\n",
       "B0 C0 D0   64   66\n",
       "      D1   68   70\n",
       "   C1 D0   72   74\n",
       "      D1   76   78\n",
       "   C2 D0   80   82\n",
       "      D1   84   86\n",
       "   C3 D0   88   90\n",
       "      D1   92   94\n",
       "B1 C0 D0   96   98\n",
       "      D1  100  102\n",
       "   C1 D0  104  106\n",
       "      D1  108  110\n",
       "   C2 D0  112  114\n",
       "      D1  116  118\n",
       "   C3 D0  120  122\n",
       "      D1  124  126"
      ]
     },
     "execution_count": 215,
     "metadata": {},
     "output_type": "execute_result"
    }
   ],
   "source": [
    "dfmi.loc[\"A1\", (slice(None), \"foo\")]"
   ]
  },
  {
   "cell_type": "code",
   "execution_count": 217,
   "id": "9ba5abfe",
   "metadata": {},
   "outputs": [
    {
     "data": {
      "application/vnd.microsoft.datawrangler.viewer.v0+json": {
       "columns": [
        {
         "name": "('level_0', 'level_1')",
         "rawType": "object",
         "type": "unknown"
        },
        {
         "name": "0",
         "rawType": "float64",
         "type": "float"
        },
        {
         "name": "1",
         "rawType": "float64",
         "type": "float"
        },
        {
         "name": "2",
         "rawType": "float64",
         "type": "float"
        }
       ],
       "ref": "70338930-332c-45a6-adea-19f52e9dc0e1",
       "rows": [
        [
         "('bar', 'one')",
         "-0.5493988053582922",
         "-1.3765571992490055",
         "2.3518099424234986"
        ],
        [
         "('bar', 'two')",
         "-0.37830703702452234",
         "-0.2332063600310293",
         "-0.7859120985956175"
        ],
        [
         "('baz', 'one')",
         "-0.051163238447109044",
         "1.2071104903667391",
         "-1.3292906857079847"
        ],
        [
         "('baz', 'two')",
         "0.13984512793698362",
         "-0.6216170459183665",
         "-1.2176864557324953"
        ],
        [
         "('foo', 'one')",
         "-0.09799825808423332",
         "0.24611173288512925",
         "-1.1675463405234958"
        ],
        [
         "('foo', 'two')",
         "-0.9388343384391244",
         "0.12063327058479738",
         "-2.1828396069016245"
        ],
        [
         "('qux', 'one')",
         "-0.4409272477189065",
         "0.6318580048769173",
         "-0.11676541136075955"
        ],
        [
         "('qux', 'two')",
         "-0.12022732272252878",
         "-0.4138986957962818",
         "0.41249098119898836"
        ]
       ],
       "shape": {
        "columns": 3,
        "rows": 8
       }
      },
      "text/html": [
       "<div>\n",
       "<style scoped>\n",
       "    .dataframe tbody tr th:only-of-type {\n",
       "        vertical-align: middle;\n",
       "    }\n",
       "\n",
       "    .dataframe tbody tr th {\n",
       "        vertical-align: top;\n",
       "    }\n",
       "\n",
       "    .dataframe thead th {\n",
       "        text-align: right;\n",
       "    }\n",
       "</style>\n",
       "<table border=\"1\" class=\"dataframe\">\n",
       "  <thead>\n",
       "    <tr style=\"text-align: right;\">\n",
       "      <th></th>\n",
       "      <th></th>\n",
       "      <th>0</th>\n",
       "      <th>1</th>\n",
       "      <th>2</th>\n",
       "    </tr>\n",
       "    <tr>\n",
       "      <th>level_0</th>\n",
       "      <th>level_1</th>\n",
       "      <th></th>\n",
       "      <th></th>\n",
       "      <th></th>\n",
       "    </tr>\n",
       "  </thead>\n",
       "  <tbody>\n",
       "    <tr>\n",
       "      <th rowspan=\"2\" valign=\"top\">bar</th>\n",
       "      <th>one</th>\n",
       "      <td>-0.549399</td>\n",
       "      <td>-1.376557</td>\n",
       "      <td>2.351810</td>\n",
       "    </tr>\n",
       "    <tr>\n",
       "      <th>two</th>\n",
       "      <td>-0.378307</td>\n",
       "      <td>-0.233206</td>\n",
       "      <td>-0.785912</td>\n",
       "    </tr>\n",
       "    <tr>\n",
       "      <th rowspan=\"2\" valign=\"top\">baz</th>\n",
       "      <th>one</th>\n",
       "      <td>-0.051163</td>\n",
       "      <td>1.207110</td>\n",
       "      <td>-1.329291</td>\n",
       "    </tr>\n",
       "    <tr>\n",
       "      <th>two</th>\n",
       "      <td>0.139845</td>\n",
       "      <td>-0.621617</td>\n",
       "      <td>-1.217686</td>\n",
       "    </tr>\n",
       "    <tr>\n",
       "      <th rowspan=\"2\" valign=\"top\">foo</th>\n",
       "      <th>one</th>\n",
       "      <td>-0.097998</td>\n",
       "      <td>0.246112</td>\n",
       "      <td>-1.167546</td>\n",
       "    </tr>\n",
       "    <tr>\n",
       "      <th>two</th>\n",
       "      <td>-0.938834</td>\n",
       "      <td>0.120633</td>\n",
       "      <td>-2.182840</td>\n",
       "    </tr>\n",
       "    <tr>\n",
       "      <th rowspan=\"2\" valign=\"top\">qux</th>\n",
       "      <th>one</th>\n",
       "      <td>-0.440927</td>\n",
       "      <td>0.631858</td>\n",
       "      <td>-0.116765</td>\n",
       "    </tr>\n",
       "    <tr>\n",
       "      <th>two</th>\n",
       "      <td>-0.120227</td>\n",
       "      <td>-0.413899</td>\n",
       "      <td>0.412491</td>\n",
       "    </tr>\n",
       "  </tbody>\n",
       "</table>\n",
       "</div>"
      ],
      "text/plain": [
       "                        0         1         2\n",
       "level_0 level_1                              \n",
       "bar     one     -0.549399 -1.376557  2.351810\n",
       "        two     -0.378307 -0.233206 -0.785912\n",
       "baz     one     -0.051163  1.207110 -1.329291\n",
       "        two      0.139845 -0.621617 -1.217686\n",
       "foo     one     -0.097998  0.246112 -1.167546\n",
       "        two     -0.938834  0.120633 -2.182840\n",
       "qux     one     -0.440927  0.631858 -0.116765\n",
       "        two     -0.120227 -0.413899  0.412491"
      ]
     },
     "execution_count": 217,
     "metadata": {},
     "output_type": "execute_result"
    }
   ],
   "source": [
    "df"
   ]
  },
  {
   "cell_type": "code",
   "execution_count": 218,
   "id": "5240615a",
   "metadata": {},
   "outputs": [
    {
     "data": {
      "application/vnd.microsoft.datawrangler.viewer.v0+json": {
       "columns": [
        {
         "name": "level_0",
         "rawType": "object",
         "type": "string"
        },
        {
         "name": "0",
         "rawType": "float64",
         "type": "float"
        },
        {
         "name": "1",
         "rawType": "float64",
         "type": "float"
        },
        {
         "name": "2",
         "rawType": "float64",
         "type": "float"
        }
       ],
       "ref": "e63609e6-3ea8-48f3-a6cd-10b84642b707",
       "rows": [
        [
         "bar",
         "-0.5493988053582922",
         "-1.3765571992490055",
         "2.3518099424234986"
        ],
        [
         "baz",
         "-0.051163238447109044",
         "1.2071104903667391",
         "-1.3292906857079847"
        ],
        [
         "foo",
         "-0.09799825808423332",
         "0.24611173288512925",
         "-1.1675463405234958"
        ],
        [
         "qux",
         "-0.4409272477189065",
         "0.6318580048769173",
         "-0.11676541136075955"
        ]
       ],
       "shape": {
        "columns": 3,
        "rows": 4
       }
      },
      "text/html": [
       "<div>\n",
       "<style scoped>\n",
       "    .dataframe tbody tr th:only-of-type {\n",
       "        vertical-align: middle;\n",
       "    }\n",
       "\n",
       "    .dataframe tbody tr th {\n",
       "        vertical-align: top;\n",
       "    }\n",
       "\n",
       "    .dataframe thead th {\n",
       "        text-align: right;\n",
       "    }\n",
       "</style>\n",
       "<table border=\"1\" class=\"dataframe\">\n",
       "  <thead>\n",
       "    <tr style=\"text-align: right;\">\n",
       "      <th></th>\n",
       "      <th>0</th>\n",
       "      <th>1</th>\n",
       "      <th>2</th>\n",
       "    </tr>\n",
       "    <tr>\n",
       "      <th>level_0</th>\n",
       "      <th></th>\n",
       "      <th></th>\n",
       "      <th></th>\n",
       "    </tr>\n",
       "  </thead>\n",
       "  <tbody>\n",
       "    <tr>\n",
       "      <th>bar</th>\n",
       "      <td>-0.549399</td>\n",
       "      <td>-1.376557</td>\n",
       "      <td>2.351810</td>\n",
       "    </tr>\n",
       "    <tr>\n",
       "      <th>baz</th>\n",
       "      <td>-0.051163</td>\n",
       "      <td>1.207110</td>\n",
       "      <td>-1.329291</td>\n",
       "    </tr>\n",
       "    <tr>\n",
       "      <th>foo</th>\n",
       "      <td>-0.097998</td>\n",
       "      <td>0.246112</td>\n",
       "      <td>-1.167546</td>\n",
       "    </tr>\n",
       "    <tr>\n",
       "      <th>qux</th>\n",
       "      <td>-0.440927</td>\n",
       "      <td>0.631858</td>\n",
       "      <td>-0.116765</td>\n",
       "    </tr>\n",
       "  </tbody>\n",
       "</table>\n",
       "</div>"
      ],
      "text/plain": [
       "                0         1         2\n",
       "level_0                              \n",
       "bar     -0.549399 -1.376557  2.351810\n",
       "baz     -0.051163  1.207110 -1.329291\n",
       "foo     -0.097998  0.246112 -1.167546\n",
       "qux     -0.440927  0.631858 -0.116765"
      ]
     },
     "execution_count": 218,
     "metadata": {},
     "output_type": "execute_result"
    }
   ],
   "source": [
    "df.xs(\"one\", level=\"level_1\")"
   ]
  },
  {
   "cell_type": "code",
   "execution_count": 223,
   "id": "11055f3b",
   "metadata": {},
   "outputs": [
    {
     "data": {
      "application/vnd.microsoft.datawrangler.viewer.v0+json": {
       "columns": [
        {
         "name": "('level_0', 'level_1')",
         "rawType": "object",
         "type": "unknown"
        },
        {
         "name": "0",
         "rawType": "float64",
         "type": "float"
        },
        {
         "name": "1",
         "rawType": "float64",
         "type": "float"
        },
        {
         "name": "2",
         "rawType": "float64",
         "type": "float"
        }
       ],
       "ref": "9f464c34-3ba1-4fc3-8cdf-2cebff6a8776",
       "rows": [
        [
         "('bar', 'one')",
         "-0.5493988053582922",
         "-1.3765571992490055",
         "2.3518099424234986"
        ],
        [
         "('baz', 'one')",
         "-0.051163238447109044",
         "1.2071104903667391",
         "-1.3292906857079847"
        ],
        [
         "('foo', 'one')",
         "-0.09799825808423332",
         "0.24611173288512925",
         "-1.1675463405234958"
        ],
        [
         "('qux', 'one')",
         "-0.4409272477189065",
         "0.6318580048769173",
         "-0.11676541136075955"
        ]
       ],
       "shape": {
        "columns": 3,
        "rows": 4
       }
      },
      "text/html": [
       "<div>\n",
       "<style scoped>\n",
       "    .dataframe tbody tr th:only-of-type {\n",
       "        vertical-align: middle;\n",
       "    }\n",
       "\n",
       "    .dataframe tbody tr th {\n",
       "        vertical-align: top;\n",
       "    }\n",
       "\n",
       "    .dataframe thead th {\n",
       "        text-align: right;\n",
       "    }\n",
       "</style>\n",
       "<table border=\"1\" class=\"dataframe\">\n",
       "  <thead>\n",
       "    <tr style=\"text-align: right;\">\n",
       "      <th></th>\n",
       "      <th></th>\n",
       "      <th>0</th>\n",
       "      <th>1</th>\n",
       "      <th>2</th>\n",
       "    </tr>\n",
       "    <tr>\n",
       "      <th>level_0</th>\n",
       "      <th>level_1</th>\n",
       "      <th></th>\n",
       "      <th></th>\n",
       "      <th></th>\n",
       "    </tr>\n",
       "  </thead>\n",
       "  <tbody>\n",
       "    <tr>\n",
       "      <th>bar</th>\n",
       "      <th>one</th>\n",
       "      <td>-0.549399</td>\n",
       "      <td>-1.376557</td>\n",
       "      <td>2.351810</td>\n",
       "    </tr>\n",
       "    <tr>\n",
       "      <th>baz</th>\n",
       "      <th>one</th>\n",
       "      <td>-0.051163</td>\n",
       "      <td>1.207110</td>\n",
       "      <td>-1.329291</td>\n",
       "    </tr>\n",
       "    <tr>\n",
       "      <th>foo</th>\n",
       "      <th>one</th>\n",
       "      <td>-0.097998</td>\n",
       "      <td>0.246112</td>\n",
       "      <td>-1.167546</td>\n",
       "    </tr>\n",
       "    <tr>\n",
       "      <th>qux</th>\n",
       "      <th>one</th>\n",
       "      <td>-0.440927</td>\n",
       "      <td>0.631858</td>\n",
       "      <td>-0.116765</td>\n",
       "    </tr>\n",
       "  </tbody>\n",
       "</table>\n",
       "</div>"
      ],
      "text/plain": [
       "                        0         1         2\n",
       "level_0 level_1                              \n",
       "bar     one     -0.549399 -1.376557  2.351810\n",
       "baz     one     -0.051163  1.207110 -1.329291\n",
       "foo     one     -0.097998  0.246112 -1.167546\n",
       "qux     one     -0.440927  0.631858 -0.116765"
      ]
     },
     "execution_count": 223,
     "metadata": {},
     "output_type": "execute_result"
    }
   ],
   "source": [
    "df.loc[(slice(None), \"one\"),:]"
   ]
  },
  {
   "cell_type": "code",
   "execution_count": 224,
   "id": "aa9b99a7",
   "metadata": {},
   "outputs": [],
   "source": [
    "dfT = df.T"
   ]
  },
  {
   "cell_type": "code",
   "execution_count": 225,
   "id": "50e6eec8",
   "metadata": {},
   "outputs": [
    {
     "data": {
      "application/vnd.microsoft.datawrangler.viewer.v0+json": {
       "columns": [
        {
         "name": "index",
         "rawType": "object",
         "type": "unknown"
        },
        {
         "name": "('bar', 'one')",
         "rawType": "float64",
         "type": "float"
        },
        {
         "name": "('bar', 'two')",
         "rawType": "float64",
         "type": "float"
        },
        {
         "name": "('baz', 'one')",
         "rawType": "float64",
         "type": "float"
        },
        {
         "name": "('baz', 'two')",
         "rawType": "float64",
         "type": "float"
        },
        {
         "name": "('foo', 'one')",
         "rawType": "float64",
         "type": "float"
        },
        {
         "name": "('foo', 'two')",
         "rawType": "float64",
         "type": "float"
        },
        {
         "name": "('qux', 'one')",
         "rawType": "float64",
         "type": "float"
        },
        {
         "name": "('qux', 'two')",
         "rawType": "float64",
         "type": "float"
        }
       ],
       "ref": "894cba4b-7e47-4393-9098-6bc5d9154536",
       "rows": [
        [
         "0",
         "-0.5493988053582922",
         "-0.37830703702452234",
         "-0.051163238447109044",
         "0.13984512793698362",
         "-0.09799825808423332",
         "-0.9388343384391244",
         "-0.4409272477189065",
         "-0.12022732272252878"
        ],
        [
         "1",
         "-1.3765571992490055",
         "-0.2332063600310293",
         "1.2071104903667391",
         "-0.6216170459183665",
         "0.24611173288512925",
         "0.12063327058479738",
         "0.6318580048769173",
         "-0.4138986957962818"
        ],
        [
         "2",
         "2.3518099424234986",
         "-0.7859120985956175",
         "-1.3292906857079847",
         "-1.2176864557324953",
         "-1.1675463405234958",
         "-2.1828396069016245",
         "-0.11676541136075955",
         "0.41249098119898836"
        ]
       ],
       "shape": {
        "columns": 8,
        "rows": 3
       }
      },
      "text/html": [
       "<div>\n",
       "<style scoped>\n",
       "    .dataframe tbody tr th:only-of-type {\n",
       "        vertical-align: middle;\n",
       "    }\n",
       "\n",
       "    .dataframe tbody tr th {\n",
       "        vertical-align: top;\n",
       "    }\n",
       "\n",
       "    .dataframe thead tr th {\n",
       "        text-align: left;\n",
       "    }\n",
       "</style>\n",
       "<table border=\"1\" class=\"dataframe\">\n",
       "  <thead>\n",
       "    <tr>\n",
       "      <th>level_0</th>\n",
       "      <th colspan=\"2\" halign=\"left\">bar</th>\n",
       "      <th colspan=\"2\" halign=\"left\">baz</th>\n",
       "      <th colspan=\"2\" halign=\"left\">foo</th>\n",
       "      <th colspan=\"2\" halign=\"left\">qux</th>\n",
       "    </tr>\n",
       "    <tr>\n",
       "      <th>level_1</th>\n",
       "      <th>one</th>\n",
       "      <th>two</th>\n",
       "      <th>one</th>\n",
       "      <th>two</th>\n",
       "      <th>one</th>\n",
       "      <th>two</th>\n",
       "      <th>one</th>\n",
       "      <th>two</th>\n",
       "    </tr>\n",
       "  </thead>\n",
       "  <tbody>\n",
       "    <tr>\n",
       "      <th>0</th>\n",
       "      <td>-0.549399</td>\n",
       "      <td>-0.378307</td>\n",
       "      <td>-0.051163</td>\n",
       "      <td>0.139845</td>\n",
       "      <td>-0.097998</td>\n",
       "      <td>-0.938834</td>\n",
       "      <td>-0.440927</td>\n",
       "      <td>-0.120227</td>\n",
       "    </tr>\n",
       "    <tr>\n",
       "      <th>1</th>\n",
       "      <td>-1.376557</td>\n",
       "      <td>-0.233206</td>\n",
       "      <td>1.207110</td>\n",
       "      <td>-0.621617</td>\n",
       "      <td>0.246112</td>\n",
       "      <td>0.120633</td>\n",
       "      <td>0.631858</td>\n",
       "      <td>-0.413899</td>\n",
       "    </tr>\n",
       "    <tr>\n",
       "      <th>2</th>\n",
       "      <td>2.351810</td>\n",
       "      <td>-0.785912</td>\n",
       "      <td>-1.329291</td>\n",
       "      <td>-1.217686</td>\n",
       "      <td>-1.167546</td>\n",
       "      <td>-2.182840</td>\n",
       "      <td>-0.116765</td>\n",
       "      <td>0.412491</td>\n",
       "    </tr>\n",
       "  </tbody>\n",
       "</table>\n",
       "</div>"
      ],
      "text/plain": [
       "level_0       bar                 baz                 foo                 qux  \\\n",
       "level_1       one       two       one       two       one       two       one   \n",
       "0       -0.549399 -0.378307 -0.051163  0.139845 -0.097998 -0.938834 -0.440927   \n",
       "1       -1.376557 -0.233206  1.207110 -0.621617  0.246112  0.120633  0.631858   \n",
       "2        2.351810 -0.785912 -1.329291 -1.217686 -1.167546 -2.182840 -0.116765   \n",
       "\n",
       "level_0            \n",
       "level_1       two  \n",
       "0       -0.120227  \n",
       "1       -0.413899  \n",
       "2        0.412491  "
      ]
     },
     "execution_count": 225,
     "metadata": {},
     "output_type": "execute_result"
    }
   ],
   "source": [
    "dfT"
   ]
  },
  {
   "cell_type": "code",
   "execution_count": 227,
   "id": "e534b6fb",
   "metadata": {},
   "outputs": [
    {
     "data": {
      "application/vnd.microsoft.datawrangler.viewer.v0+json": {
       "columns": [
        {
         "name": "index",
         "rawType": "object",
         "type": "unknown"
        },
        {
         "name": "bar",
         "rawType": "float64",
         "type": "float"
        },
        {
         "name": "baz",
         "rawType": "float64",
         "type": "float"
        },
        {
         "name": "foo",
         "rawType": "float64",
         "type": "float"
        },
        {
         "name": "qux",
         "rawType": "float64",
         "type": "float"
        }
       ],
       "ref": "ec062f16-4c58-4bb0-becb-b24d54e5656b",
       "rows": [
        [
         "0",
         "-0.5493988053582922",
         "-0.051163238447109044",
         "-0.09799825808423332",
         "-0.4409272477189065"
        ],
        [
         "1",
         "-1.3765571992490055",
         "1.2071104903667391",
         "0.24611173288512925",
         "0.6318580048769173"
        ],
        [
         "2",
         "2.3518099424234986",
         "-1.3292906857079847",
         "-1.1675463405234958",
         "-0.11676541136075955"
        ]
       ],
       "shape": {
        "columns": 4,
        "rows": 3
       }
      },
      "text/html": [
       "<div>\n",
       "<style scoped>\n",
       "    .dataframe tbody tr th:only-of-type {\n",
       "        vertical-align: middle;\n",
       "    }\n",
       "\n",
       "    .dataframe tbody tr th {\n",
       "        vertical-align: top;\n",
       "    }\n",
       "\n",
       "    .dataframe thead th {\n",
       "        text-align: right;\n",
       "    }\n",
       "</style>\n",
       "<table border=\"1\" class=\"dataframe\">\n",
       "  <thead>\n",
       "    <tr style=\"text-align: right;\">\n",
       "      <th>level_0</th>\n",
       "      <th>bar</th>\n",
       "      <th>baz</th>\n",
       "      <th>foo</th>\n",
       "      <th>qux</th>\n",
       "    </tr>\n",
       "  </thead>\n",
       "  <tbody>\n",
       "    <tr>\n",
       "      <th>0</th>\n",
       "      <td>-0.549399</td>\n",
       "      <td>-0.051163</td>\n",
       "      <td>-0.097998</td>\n",
       "      <td>-0.440927</td>\n",
       "    </tr>\n",
       "    <tr>\n",
       "      <th>1</th>\n",
       "      <td>-1.376557</td>\n",
       "      <td>1.207110</td>\n",
       "      <td>0.246112</td>\n",
       "      <td>0.631858</td>\n",
       "    </tr>\n",
       "    <tr>\n",
       "      <th>2</th>\n",
       "      <td>2.351810</td>\n",
       "      <td>-1.329291</td>\n",
       "      <td>-1.167546</td>\n",
       "      <td>-0.116765</td>\n",
       "    </tr>\n",
       "  </tbody>\n",
       "</table>\n",
       "</div>"
      ],
      "text/plain": [
       "level_0       bar       baz       foo       qux\n",
       "0       -0.549399 -0.051163 -0.097998 -0.440927\n",
       "1       -1.376557  1.207110  0.246112  0.631858\n",
       "2        2.351810 -1.329291 -1.167546 -0.116765"
      ]
     },
     "execution_count": 227,
     "metadata": {},
     "output_type": "execute_result"
    }
   ],
   "source": [
    "dfT.xs(\"one\", level=\"level_1\", axis=1)"
   ]
  },
  {
   "cell_type": "code",
   "execution_count": 231,
   "id": "ad63c88e",
   "metadata": {},
   "outputs": [
    {
     "data": {
      "application/vnd.microsoft.datawrangler.viewer.v0+json": {
       "columns": [
        {
         "name": "index",
         "rawType": "object",
         "type": "unknown"
        },
        {
         "name": "('bar', 'one')",
         "rawType": "float64",
         "type": "float"
        }
       ],
       "ref": "b60b885b-932f-4bae-8e31-e247aeeeffe7",
       "rows": [
        [
         "0",
         "-0.5493988053582922"
        ],
        [
         "1",
         "-1.3765571992490055"
        ],
        [
         "2",
         "2.3518099424234986"
        ]
       ],
       "shape": {
        "columns": 1,
        "rows": 3
       }
      },
      "text/html": [
       "<div>\n",
       "<style scoped>\n",
       "    .dataframe tbody tr th:only-of-type {\n",
       "        vertical-align: middle;\n",
       "    }\n",
       "\n",
       "    .dataframe tbody tr th {\n",
       "        vertical-align: top;\n",
       "    }\n",
       "\n",
       "    .dataframe thead tr th {\n",
       "        text-align: left;\n",
       "    }\n",
       "</style>\n",
       "<table border=\"1\" class=\"dataframe\">\n",
       "  <thead>\n",
       "    <tr>\n",
       "      <th>level_0</th>\n",
       "      <th>bar</th>\n",
       "    </tr>\n",
       "    <tr>\n",
       "      <th>level_1</th>\n",
       "      <th>one</th>\n",
       "    </tr>\n",
       "  </thead>\n",
       "  <tbody>\n",
       "    <tr>\n",
       "      <th>0</th>\n",
       "      <td>-0.549399</td>\n",
       "    </tr>\n",
       "    <tr>\n",
       "      <th>1</th>\n",
       "      <td>-1.376557</td>\n",
       "    </tr>\n",
       "    <tr>\n",
       "      <th>2</th>\n",
       "      <td>2.351810</td>\n",
       "    </tr>\n",
       "  </tbody>\n",
       "</table>\n",
       "</div>"
      ],
      "text/plain": [
       "level_0       bar\n",
       "level_1       one\n",
       "0       -0.549399\n",
       "1       -1.376557\n",
       "2        2.351810"
      ]
     },
     "execution_count": 231,
     "metadata": {},
     "output_type": "execute_result"
    }
   ],
   "source": [
    "dfT.xs((\"bar\", \"one\"), level=(\"level_0\", \"level_1\"), axis=1, drop_level=False)"
   ]
  },
  {
   "cell_type": "code",
   "execution_count": 244,
   "id": "e4140abd",
   "metadata": {},
   "outputs": [
    {
     "data": {
      "application/vnd.microsoft.datawrangler.viewer.v0+json": {
       "columns": [
        {
         "name": "(None, None)",
         "rawType": "object",
         "type": "unknown"
        },
        {
         "name": "GDP",
         "rawType": "float64",
         "type": "float"
        },
        {
         "name": "Inflation",
         "rawType": "float64",
         "type": "float"
        },
        {
         "name": "Employment",
         "rawType": "float64",
         "type": "float"
        }
       ],
       "ref": "4e7d1760-aeff-4b8d-88fc-e6c4dfa63d2c",
       "rows": [
        [
         "('one', 'y')",
         "0.6715321581863798",
         "-0.7224257824111309",
         "1.2447120036042219"
        ],
        [
         "('one', 'x')",
         "-0.3887944109068323",
         "-0.40918704134103834",
         "-1.322248631344647"
        ],
        [
         "('zero', 'y')",
         "-0.7286445465448715",
         "-2.138293333003955",
         "-0.6445551560854692"
        ],
        [
         "('zero', 'x')",
         "-1.8640690366268426",
         "0.32552258462206246",
         "0.4663842931808413"
        ]
       ],
       "shape": {
        "columns": 3,
        "rows": 4
       }
      },
      "text/html": [
       "<div>\n",
       "<style scoped>\n",
       "    .dataframe tbody tr th:only-of-type {\n",
       "        vertical-align: middle;\n",
       "    }\n",
       "\n",
       "    .dataframe tbody tr th {\n",
       "        vertical-align: top;\n",
       "    }\n",
       "\n",
       "    .dataframe thead th {\n",
       "        text-align: right;\n",
       "    }\n",
       "</style>\n",
       "<table border=\"1\" class=\"dataframe\">\n",
       "  <thead>\n",
       "    <tr style=\"text-align: right;\">\n",
       "      <th></th>\n",
       "      <th></th>\n",
       "      <th>GDP</th>\n",
       "      <th>Inflation</th>\n",
       "      <th>Employment</th>\n",
       "    </tr>\n",
       "  </thead>\n",
       "  <tbody>\n",
       "    <tr>\n",
       "      <th rowspan=\"2\" valign=\"top\">one</th>\n",
       "      <th>y</th>\n",
       "      <td>0.671532</td>\n",
       "      <td>-0.722426</td>\n",
       "      <td>1.244712</td>\n",
       "    </tr>\n",
       "    <tr>\n",
       "      <th>x</th>\n",
       "      <td>-0.388794</td>\n",
       "      <td>-0.409187</td>\n",
       "      <td>-1.322249</td>\n",
       "    </tr>\n",
       "    <tr>\n",
       "      <th rowspan=\"2\" valign=\"top\">zero</th>\n",
       "      <th>y</th>\n",
       "      <td>-0.728645</td>\n",
       "      <td>-2.138293</td>\n",
       "      <td>-0.644555</td>\n",
       "    </tr>\n",
       "    <tr>\n",
       "      <th>x</th>\n",
       "      <td>-1.864069</td>\n",
       "      <td>0.325523</td>\n",
       "      <td>0.466384</td>\n",
       "    </tr>\n",
       "  </tbody>\n",
       "</table>\n",
       "</div>"
      ],
      "text/plain": [
       "             GDP  Inflation  Employment\n",
       "one  y  0.671532  -0.722426    1.244712\n",
       "     x -0.388794  -0.409187   -1.322249\n",
       "zero y -0.728645  -2.138293   -0.644555\n",
       "     x -1.864069   0.325523    0.466384"
      ]
     },
     "execution_count": 244,
     "metadata": {},
     "output_type": "execute_result"
    }
   ],
   "source": [
    "midx = pd.MultiIndex(\n",
    "    levels=[[\"zero\", \"one\"], [\"x\", \"y\"]], codes=[[1, 1, 0, 0], [1, 0, 1, 0]]\n",
    ")\n",
    "\n",
    "\n",
    "df = pd.DataFrame(np.random.randn(4, 3), index=midx)\n",
    "df.columns = [\"GDP\", \"Inflation\", \"Employment\"]\n",
    "\n",
    "df"
   ]
  },
  {
   "cell_type": "code",
   "execution_count": 247,
   "id": "18348bb0",
   "metadata": {},
   "outputs": [
    {
     "data": {
      "application/vnd.microsoft.datawrangler.viewer.v0+json": {
       "columns": [
        {
         "name": "index",
         "rawType": "object",
         "type": "string"
        },
        {
         "name": "GDP",
         "rawType": "float64",
         "type": "float"
        },
        {
         "name": "Inflation",
         "rawType": "float64",
         "type": "float"
        }
       ],
       "ref": "e8be81f5-3626-4cca-88a6-cce10edf880f",
       "rows": [
        [
         "one",
         "0.14136887363977374",
         "-0.5658064118760846"
        ],
        [
         "zero",
         "-1.2963567915858571",
         "-0.9063853741909463"
        ]
       ],
       "shape": {
        "columns": 2,
        "rows": 2
       }
      },
      "text/html": [
       "<div>\n",
       "<style scoped>\n",
       "    .dataframe tbody tr th:only-of-type {\n",
       "        vertical-align: middle;\n",
       "    }\n",
       "\n",
       "    .dataframe tbody tr th {\n",
       "        vertical-align: top;\n",
       "    }\n",
       "\n",
       "    .dataframe thead th {\n",
       "        text-align: right;\n",
       "    }\n",
       "</style>\n",
       "<table border=\"1\" class=\"dataframe\">\n",
       "  <thead>\n",
       "    <tr style=\"text-align: right;\">\n",
       "      <th></th>\n",
       "      <th>GDP</th>\n",
       "      <th>Inflation</th>\n",
       "    </tr>\n",
       "  </thead>\n",
       "  <tbody>\n",
       "    <tr>\n",
       "      <th>one</th>\n",
       "      <td>0.141369</td>\n",
       "      <td>-0.565806</td>\n",
       "    </tr>\n",
       "    <tr>\n",
       "      <th>zero</th>\n",
       "      <td>-1.296357</td>\n",
       "      <td>-0.906385</td>\n",
       "    </tr>\n",
       "  </tbody>\n",
       "</table>\n",
       "</div>"
      ],
      "text/plain": [
       "           GDP  Inflation\n",
       "one   0.141369  -0.565806\n",
       "zero -1.296357  -0.906385"
      ]
     },
     "execution_count": 247,
     "metadata": {},
     "output_type": "execute_result"
    }
   ],
   "source": [
    "df[[\"GDP\", \"Inflation\"]].groupby(level=0).mean()"
   ]
  },
  {
   "cell_type": "code",
   "execution_count": 236,
   "id": "ee8879ce",
   "metadata": {},
   "outputs": [
    {
     "data": {
      "text/plain": [
       "<pandas.core.groupby.generic.DataFrameGroupBy object at 0x0000020F1A709220>"
      ]
     },
     "execution_count": 236,
     "metadata": {},
     "output_type": "execute_result"
    }
   ],
   "source": [
    "df.groupby(level=0)"
   ]
  },
  {
   "cell_type": "code",
   "execution_count": 248,
   "id": "f68def26",
   "metadata": {},
   "outputs": [
    {
     "data": {
      "application/vnd.microsoft.datawrangler.viewer.v0+json": {
       "columns": [
        {
         "name": "(None, None)",
         "rawType": "object",
         "type": "unknown"
        },
        {
         "name": "GDP",
         "rawType": "float64",
         "type": "float"
        },
        {
         "name": "Inflation",
         "rawType": "float64",
         "type": "float"
        },
        {
         "name": "Employment",
         "rawType": "float64",
         "type": "float"
        }
       ],
       "ref": "0c350ea8-5c8a-4a30-a1a6-5c2edcf6de2e",
       "rows": [
        [
         "('one', 'y')",
         "0.6715321581863798",
         "-0.7224257824111309",
         "1.2447120036042219"
        ],
        [
         "('one', 'x')",
         "-0.3887944109068323",
         "-0.40918704134103834",
         "-1.322248631344647"
        ],
        [
         "('zero', 'y')",
         "-0.7286445465448715",
         "-2.138293333003955",
         "-0.6445551560854692"
        ],
        [
         "('zero', 'x')",
         "-1.8640690366268426",
         "0.32552258462206246",
         "0.4663842931808413"
        ]
       ],
       "shape": {
        "columns": 3,
        "rows": 4
       }
      },
      "text/html": [
       "<div>\n",
       "<style scoped>\n",
       "    .dataframe tbody tr th:only-of-type {\n",
       "        vertical-align: middle;\n",
       "    }\n",
       "\n",
       "    .dataframe tbody tr th {\n",
       "        vertical-align: top;\n",
       "    }\n",
       "\n",
       "    .dataframe thead th {\n",
       "        text-align: right;\n",
       "    }\n",
       "</style>\n",
       "<table border=\"1\" class=\"dataframe\">\n",
       "  <thead>\n",
       "    <tr style=\"text-align: right;\">\n",
       "      <th></th>\n",
       "      <th></th>\n",
       "      <th>GDP</th>\n",
       "      <th>Inflation</th>\n",
       "      <th>Employment</th>\n",
       "    </tr>\n",
       "  </thead>\n",
       "  <tbody>\n",
       "    <tr>\n",
       "      <th rowspan=\"2\" valign=\"top\">one</th>\n",
       "      <th>y</th>\n",
       "      <td>0.671532</td>\n",
       "      <td>-0.722426</td>\n",
       "      <td>1.244712</td>\n",
       "    </tr>\n",
       "    <tr>\n",
       "      <th>x</th>\n",
       "      <td>-0.388794</td>\n",
       "      <td>-0.409187</td>\n",
       "      <td>-1.322249</td>\n",
       "    </tr>\n",
       "    <tr>\n",
       "      <th rowspan=\"2\" valign=\"top\">zero</th>\n",
       "      <th>y</th>\n",
       "      <td>-0.728645</td>\n",
       "      <td>-2.138293</td>\n",
       "      <td>-0.644555</td>\n",
       "    </tr>\n",
       "    <tr>\n",
       "      <th>x</th>\n",
       "      <td>-1.864069</td>\n",
       "      <td>0.325523</td>\n",
       "      <td>0.466384</td>\n",
       "    </tr>\n",
       "  </tbody>\n",
       "</table>\n",
       "</div>"
      ],
      "text/plain": [
       "             GDP  Inflation  Employment\n",
       "one  y  0.671532  -0.722426    1.244712\n",
       "     x -0.388794  -0.409187   -1.322249\n",
       "zero y -0.728645  -2.138293   -0.644555\n",
       "     x -1.864069   0.325523    0.466384"
      ]
     },
     "execution_count": 248,
     "metadata": {},
     "output_type": "execute_result"
    }
   ],
   "source": [
    "df"
   ]
  },
  {
   "cell_type": "code",
   "execution_count": 249,
   "id": "77bc02fb",
   "metadata": {},
   "outputs": [
    {
     "data": {
      "application/vnd.microsoft.datawrangler.viewer.v0+json": {
       "columns": [
        {
         "name": "(None, None)",
         "rawType": "object",
         "type": "unknown"
        },
        {
         "name": "GDP",
         "rawType": "float64",
         "type": "float"
        },
        {
         "name": "Inflation",
         "rawType": "float64",
         "type": "float"
        },
        {
         "name": "Employment",
         "rawType": "float64",
         "type": "float"
        }
       ],
       "ref": "4dbcf056-d31e-4327-b0ef-aaa96e6b4e0d",
       "rows": [
        [
         "('y', 'one')",
         "0.6715321581863798",
         "-0.7224257824111309",
         "1.2447120036042219"
        ],
        [
         "('x', 'one')",
         "-0.3887944109068323",
         "-0.40918704134103834",
         "-1.322248631344647"
        ],
        [
         "('y', 'zero')",
         "-0.7286445465448715",
         "-2.138293333003955",
         "-0.6445551560854692"
        ],
        [
         "('x', 'zero')",
         "-1.8640690366268426",
         "0.32552258462206246",
         "0.4663842931808413"
        ]
       ],
       "shape": {
        "columns": 3,
        "rows": 4
       }
      },
      "text/html": [
       "<div>\n",
       "<style scoped>\n",
       "    .dataframe tbody tr th:only-of-type {\n",
       "        vertical-align: middle;\n",
       "    }\n",
       "\n",
       "    .dataframe tbody tr th {\n",
       "        vertical-align: top;\n",
       "    }\n",
       "\n",
       "    .dataframe thead th {\n",
       "        text-align: right;\n",
       "    }\n",
       "</style>\n",
       "<table border=\"1\" class=\"dataframe\">\n",
       "  <thead>\n",
       "    <tr style=\"text-align: right;\">\n",
       "      <th></th>\n",
       "      <th></th>\n",
       "      <th>GDP</th>\n",
       "      <th>Inflation</th>\n",
       "      <th>Employment</th>\n",
       "    </tr>\n",
       "  </thead>\n",
       "  <tbody>\n",
       "    <tr>\n",
       "      <th>y</th>\n",
       "      <th>one</th>\n",
       "      <td>0.671532</td>\n",
       "      <td>-0.722426</td>\n",
       "      <td>1.244712</td>\n",
       "    </tr>\n",
       "    <tr>\n",
       "      <th>x</th>\n",
       "      <th>one</th>\n",
       "      <td>-0.388794</td>\n",
       "      <td>-0.409187</td>\n",
       "      <td>-1.322249</td>\n",
       "    </tr>\n",
       "    <tr>\n",
       "      <th>y</th>\n",
       "      <th>zero</th>\n",
       "      <td>-0.728645</td>\n",
       "      <td>-2.138293</td>\n",
       "      <td>-0.644555</td>\n",
       "    </tr>\n",
       "    <tr>\n",
       "      <th>x</th>\n",
       "      <th>zero</th>\n",
       "      <td>-1.864069</td>\n",
       "      <td>0.325523</td>\n",
       "      <td>0.466384</td>\n",
       "    </tr>\n",
       "  </tbody>\n",
       "</table>\n",
       "</div>"
      ],
      "text/plain": [
       "             GDP  Inflation  Employment\n",
       "y one   0.671532  -0.722426    1.244712\n",
       "x one  -0.388794  -0.409187   -1.322249\n",
       "y zero -0.728645  -2.138293   -0.644555\n",
       "x zero -1.864069   0.325523    0.466384"
      ]
     },
     "execution_count": 249,
     "metadata": {},
     "output_type": "execute_result"
    }
   ],
   "source": [
    "df.swaplevel(0, 1, axis=0)"
   ]
  },
  {
   "cell_type": "code",
   "execution_count": 250,
   "id": "1e627e73",
   "metadata": {},
   "outputs": [],
   "source": [
    "df1 = pd.DataFrame(\n",
    "    {\n",
    "        \"A\": [\"A0\", \"A1\", \"A2\", \"A3\"],\n",
    "        \"B\": [\"B0\", \"B1\", \"B2\", \"B3\"],\n",
    "        \"C\": [\"C0\", \"C1\", \"C2\", \"C3\"],\n",
    "        \"D\": [\"D0\", \"D1\", \"D2\", \"D3\"],\n",
    "    },\n",
    "    index=[0, 1, 2, 3],\n",
    ")\n",
    "\n",
    "\n",
    "df2 = pd.DataFrame(\n",
    "    {\n",
    "        \"A\": [\"A4\", \"A5\", \"A6\", \"A7\"],\n",
    "        \"B\": [\"B4\", \"B5\", \"B6\", \"B7\"],\n",
    "        \"C\": [\"C4\", \"C5\", \"C6\", \"C7\"],\n",
    "        \"D\": [\"D4\", \"D5\", \"D6\", \"D7\"],\n",
    "    },\n",
    "    index=[4, 5, 6, 7],\n",
    ")\n",
    "\n",
    "\n",
    "df3 = pd.DataFrame(\n",
    "    {\n",
    "        \"A\": [\"A8\", \"A9\", \"A10\", \"A11\"],\n",
    "        \"B\": [\"B8\", \"B9\", \"B10\", \"B11\"],\n",
    "        \"C\": [\"C8\", \"C9\", \"C10\", \"C11\"],\n",
    "        \"D\": [\"D8\", \"D9\", \"D10\", \"D11\"],\n",
    "    },\n",
    "    index=[8, 9, 10, 11],\n",
    ")\n"
   ]
  },
  {
   "cell_type": "code",
   "execution_count": 251,
   "id": "c4a5e954",
   "metadata": {},
   "outputs": [
    {
     "data": {
      "text/plain": [
       "[    A   B   C   D\n",
       " 0  A0  B0  C0  D0\n",
       " 1  A1  B1  C1  D1\n",
       " 2  A2  B2  C2  D2\n",
       " 3  A3  B3  C3  D3,\n",
       "     A   B   C   D\n",
       " 4  A4  B4  C4  D4\n",
       " 5  A5  B5  C5  D5\n",
       " 6  A6  B6  C6  D6\n",
       " 7  A7  B7  C7  D7,\n",
       "       A    B    C    D\n",
       " 8    A8   B8   C8   D8\n",
       " 9    A9   B9   C9   D9\n",
       " 10  A10  B10  C10  D10\n",
       " 11  A11  B11  C11  D11]"
      ]
     },
     "execution_count": 251,
     "metadata": {},
     "output_type": "execute_result"
    }
   ],
   "source": [
    "frames = [df1, df2, df3]\n",
    "frames"
   ]
  },
  {
   "cell_type": "code",
   "execution_count": 252,
   "id": "93bc3830",
   "metadata": {},
   "outputs": [],
   "source": [
    "combined = pd.concat(frames)"
   ]
  },
  {
   "cell_type": "code",
   "execution_count": 253,
   "id": "e9e86320",
   "metadata": {},
   "outputs": [
    {
     "data": {
      "application/vnd.microsoft.datawrangler.viewer.v0+json": {
       "columns": [
        {
         "name": "index",
         "rawType": "int64",
         "type": "integer"
        },
        {
         "name": "A",
         "rawType": "object",
         "type": "string"
        },
        {
         "name": "B",
         "rawType": "object",
         "type": "string"
        },
        {
         "name": "C",
         "rawType": "object",
         "type": "string"
        },
        {
         "name": "D",
         "rawType": "object",
         "type": "string"
        }
       ],
       "ref": "fd7fbc70-a4d1-4052-814f-e69dce710327",
       "rows": [
        [
         "0",
         "A0",
         "B0",
         "C0",
         "D0"
        ],
        [
         "1",
         "A1",
         "B1",
         "C1",
         "D1"
        ],
        [
         "2",
         "A2",
         "B2",
         "C2",
         "D2"
        ],
        [
         "3",
         "A3",
         "B3",
         "C3",
         "D3"
        ],
        [
         "4",
         "A4",
         "B4",
         "C4",
         "D4"
        ],
        [
         "5",
         "A5",
         "B5",
         "C5",
         "D5"
        ],
        [
         "6",
         "A6",
         "B6",
         "C6",
         "D6"
        ],
        [
         "7",
         "A7",
         "B7",
         "C7",
         "D7"
        ],
        [
         "8",
         "A8",
         "B8",
         "C8",
         "D8"
        ],
        [
         "9",
         "A9",
         "B9",
         "C9",
         "D9"
        ],
        [
         "10",
         "A10",
         "B10",
         "C10",
         "D10"
        ],
        [
         "11",
         "A11",
         "B11",
         "C11",
         "D11"
        ]
       ],
       "shape": {
        "columns": 4,
        "rows": 12
       }
      },
      "text/html": [
       "<div>\n",
       "<style scoped>\n",
       "    .dataframe tbody tr th:only-of-type {\n",
       "        vertical-align: middle;\n",
       "    }\n",
       "\n",
       "    .dataframe tbody tr th {\n",
       "        vertical-align: top;\n",
       "    }\n",
       "\n",
       "    .dataframe thead th {\n",
       "        text-align: right;\n",
       "    }\n",
       "</style>\n",
       "<table border=\"1\" class=\"dataframe\">\n",
       "  <thead>\n",
       "    <tr style=\"text-align: right;\">\n",
       "      <th></th>\n",
       "      <th>A</th>\n",
       "      <th>B</th>\n",
       "      <th>C</th>\n",
       "      <th>D</th>\n",
       "    </tr>\n",
       "  </thead>\n",
       "  <tbody>\n",
       "    <tr>\n",
       "      <th>0</th>\n",
       "      <td>A0</td>\n",
       "      <td>B0</td>\n",
       "      <td>C0</td>\n",
       "      <td>D0</td>\n",
       "    </tr>\n",
       "    <tr>\n",
       "      <th>1</th>\n",
       "      <td>A1</td>\n",
       "      <td>B1</td>\n",
       "      <td>C1</td>\n",
       "      <td>D1</td>\n",
       "    </tr>\n",
       "    <tr>\n",
       "      <th>2</th>\n",
       "      <td>A2</td>\n",
       "      <td>B2</td>\n",
       "      <td>C2</td>\n",
       "      <td>D2</td>\n",
       "    </tr>\n",
       "    <tr>\n",
       "      <th>3</th>\n",
       "      <td>A3</td>\n",
       "      <td>B3</td>\n",
       "      <td>C3</td>\n",
       "      <td>D3</td>\n",
       "    </tr>\n",
       "    <tr>\n",
       "      <th>4</th>\n",
       "      <td>A4</td>\n",
       "      <td>B4</td>\n",
       "      <td>C4</td>\n",
       "      <td>D4</td>\n",
       "    </tr>\n",
       "    <tr>\n",
       "      <th>5</th>\n",
       "      <td>A5</td>\n",
       "      <td>B5</td>\n",
       "      <td>C5</td>\n",
       "      <td>D5</td>\n",
       "    </tr>\n",
       "    <tr>\n",
       "      <th>6</th>\n",
       "      <td>A6</td>\n",
       "      <td>B6</td>\n",
       "      <td>C6</td>\n",
       "      <td>D6</td>\n",
       "    </tr>\n",
       "    <tr>\n",
       "      <th>7</th>\n",
       "      <td>A7</td>\n",
       "      <td>B7</td>\n",
       "      <td>C7</td>\n",
       "      <td>D7</td>\n",
       "    </tr>\n",
       "    <tr>\n",
       "      <th>8</th>\n",
       "      <td>A8</td>\n",
       "      <td>B8</td>\n",
       "      <td>C8</td>\n",
       "      <td>D8</td>\n",
       "    </tr>\n",
       "    <tr>\n",
       "      <th>9</th>\n",
       "      <td>A9</td>\n",
       "      <td>B9</td>\n",
       "      <td>C9</td>\n",
       "      <td>D9</td>\n",
       "    </tr>\n",
       "    <tr>\n",
       "      <th>10</th>\n",
       "      <td>A10</td>\n",
       "      <td>B10</td>\n",
       "      <td>C10</td>\n",
       "      <td>D10</td>\n",
       "    </tr>\n",
       "    <tr>\n",
       "      <th>11</th>\n",
       "      <td>A11</td>\n",
       "      <td>B11</td>\n",
       "      <td>C11</td>\n",
       "      <td>D11</td>\n",
       "    </tr>\n",
       "  </tbody>\n",
       "</table>\n",
       "</div>"
      ],
      "text/plain": [
       "      A    B    C    D\n",
       "0    A0   B0   C0   D0\n",
       "1    A1   B1   C1   D1\n",
       "2    A2   B2   C2   D2\n",
       "3    A3   B3   C3   D3\n",
       "4    A4   B4   C4   D4\n",
       "5    A5   B5   C5   D5\n",
       "6    A6   B6   C6   D6\n",
       "7    A7   B7   C7   D7\n",
       "8    A8   B8   C8   D8\n",
       "9    A9   B9   C9   D9\n",
       "10  A10  B10  C10  D10\n",
       "11  A11  B11  C11  D11"
      ]
     },
     "execution_count": 253,
     "metadata": {},
     "output_type": "execute_result"
    }
   ],
   "source": [
    "combined"
   ]
  },
  {
   "cell_type": "code",
   "execution_count": 254,
   "id": "3ca074e5",
   "metadata": {},
   "outputs": [
    {
     "data": {
      "application/vnd.microsoft.datawrangler.viewer.v0+json": {
       "columns": [
        {
         "name": "index",
         "rawType": "int64",
         "type": "integer"
        },
        {
         "name": "B",
         "rawType": "object",
         "type": "string"
        },
        {
         "name": "D",
         "rawType": "object",
         "type": "string"
        },
        {
         "name": "F",
         "rawType": "object",
         "type": "string"
        }
       ],
       "ref": "27d00ed7-2210-411b-8b83-4b48ba3b7cdc",
       "rows": [
        [
         "2",
         "B2",
         "D2",
         "F2"
        ],
        [
         "3",
         "B3",
         "D3",
         "F3"
        ],
        [
         "6",
         "B6",
         "D6",
         "F6"
        ],
        [
         "7",
         "B7",
         "D7",
         "F7"
        ]
       ],
       "shape": {
        "columns": 3,
        "rows": 4
       }
      },
      "text/html": [
       "<div>\n",
       "<style scoped>\n",
       "    .dataframe tbody tr th:only-of-type {\n",
       "        vertical-align: middle;\n",
       "    }\n",
       "\n",
       "    .dataframe tbody tr th {\n",
       "        vertical-align: top;\n",
       "    }\n",
       "\n",
       "    .dataframe thead th {\n",
       "        text-align: right;\n",
       "    }\n",
       "</style>\n",
       "<table border=\"1\" class=\"dataframe\">\n",
       "  <thead>\n",
       "    <tr style=\"text-align: right;\">\n",
       "      <th></th>\n",
       "      <th>B</th>\n",
       "      <th>D</th>\n",
       "      <th>F</th>\n",
       "    </tr>\n",
       "  </thead>\n",
       "  <tbody>\n",
       "    <tr>\n",
       "      <th>2</th>\n",
       "      <td>B2</td>\n",
       "      <td>D2</td>\n",
       "      <td>F2</td>\n",
       "    </tr>\n",
       "    <tr>\n",
       "      <th>3</th>\n",
       "      <td>B3</td>\n",
       "      <td>D3</td>\n",
       "      <td>F3</td>\n",
       "    </tr>\n",
       "    <tr>\n",
       "      <th>6</th>\n",
       "      <td>B6</td>\n",
       "      <td>D6</td>\n",
       "      <td>F6</td>\n",
       "    </tr>\n",
       "    <tr>\n",
       "      <th>7</th>\n",
       "      <td>B7</td>\n",
       "      <td>D7</td>\n",
       "      <td>F7</td>\n",
       "    </tr>\n",
       "  </tbody>\n",
       "</table>\n",
       "</div>"
      ],
      "text/plain": [
       "    B   D   F\n",
       "2  B2  D2  F2\n",
       "3  B3  D3  F3\n",
       "6  B6  D6  F6\n",
       "7  B7  D7  F7"
      ]
     },
     "execution_count": 254,
     "metadata": {},
     "output_type": "execute_result"
    }
   ],
   "source": [
    "df4 = pd.DataFrame(\n",
    "    {\n",
    "        \"B\": [\"B2\", \"B3\", \"B6\", \"B7\"],\n",
    "        \"D\": [\"D2\", \"D3\", \"D6\", \"D7\"],\n",
    "        \"F\": [\"F2\", \"F3\", \"F6\", \"F7\"],\n",
    "    },\n",
    "    index=[2, 3, 6, 7],\n",
    ")\n",
    "df4"
   ]
  },
  {
   "cell_type": "code",
   "execution_count": 261,
   "id": "8d320381",
   "metadata": {},
   "outputs": [
    {
     "data": {
      "application/vnd.microsoft.datawrangler.viewer.v0+json": {
       "columns": [
        {
         "name": "index",
         "rawType": "int64",
         "type": "integer"
        },
        {
         "name": "A",
         "rawType": "object",
         "type": "string"
        },
        {
         "name": "B",
         "rawType": "object",
         "type": "string"
        },
        {
         "name": "C",
         "rawType": "object",
         "type": "string"
        },
        {
         "name": "D",
         "rawType": "object",
         "type": "string"
        },
        {
         "name": "B",
         "rawType": "object",
         "type": "string"
        },
        {
         "name": "D",
         "rawType": "object",
         "type": "string"
        },
        {
         "name": "F",
         "rawType": "object",
         "type": "string"
        }
       ],
       "ref": "18992316-467b-4c03-9b18-49fb6795a307",
       "rows": [
        [
         "2",
         "A2",
         "B2",
         "C2",
         "D2",
         "B2",
         "D2",
         "F2"
        ],
        [
         "3",
         "A3",
         "B3",
         "C3",
         "D3",
         "B3",
         "D3",
         "F3"
        ]
       ],
       "shape": {
        "columns": 7,
        "rows": 2
       }
      },
      "text/html": [
       "<div>\n",
       "<style scoped>\n",
       "    .dataframe tbody tr th:only-of-type {\n",
       "        vertical-align: middle;\n",
       "    }\n",
       "\n",
       "    .dataframe tbody tr th {\n",
       "        vertical-align: top;\n",
       "    }\n",
       "\n",
       "    .dataframe thead th {\n",
       "        text-align: right;\n",
       "    }\n",
       "</style>\n",
       "<table border=\"1\" class=\"dataframe\">\n",
       "  <thead>\n",
       "    <tr style=\"text-align: right;\">\n",
       "      <th></th>\n",
       "      <th>A</th>\n",
       "      <th>B</th>\n",
       "      <th>C</th>\n",
       "      <th>D</th>\n",
       "      <th>B</th>\n",
       "      <th>D</th>\n",
       "      <th>F</th>\n",
       "    </tr>\n",
       "  </thead>\n",
       "  <tbody>\n",
       "    <tr>\n",
       "      <th>2</th>\n",
       "      <td>A2</td>\n",
       "      <td>B2</td>\n",
       "      <td>C2</td>\n",
       "      <td>D2</td>\n",
       "      <td>B2</td>\n",
       "      <td>D2</td>\n",
       "      <td>F2</td>\n",
       "    </tr>\n",
       "    <tr>\n",
       "      <th>3</th>\n",
       "      <td>A3</td>\n",
       "      <td>B3</td>\n",
       "      <td>C3</td>\n",
       "      <td>D3</td>\n",
       "      <td>B3</td>\n",
       "      <td>D3</td>\n",
       "      <td>F3</td>\n",
       "    </tr>\n",
       "  </tbody>\n",
       "</table>\n",
       "</div>"
      ],
      "text/plain": [
       "    A   B   C   D   B   D   F\n",
       "2  A2  B2  C2  D2  B2  D2  F2\n",
       "3  A3  B3  C3  D3  B3  D3  F3"
      ]
     },
     "execution_count": 261,
     "metadata": {},
     "output_type": "execute_result"
    }
   ],
   "source": [
    "pd.concat([df1, df4], axis=1, join='inner')"
   ]
  },
  {
   "cell_type": "code",
   "execution_count": 259,
   "id": "19ed11ec",
   "metadata": {},
   "outputs": [
    {
     "data": {
      "application/vnd.microsoft.datawrangler.viewer.v0+json": {
       "columns": [
        {
         "name": "index",
         "rawType": "int64",
         "type": "integer"
        },
        {
         "name": "A",
         "rawType": "object",
         "type": "unknown"
        },
        {
         "name": "B",
         "rawType": "object",
         "type": "unknown"
        },
        {
         "name": "C",
         "rawType": "object",
         "type": "unknown"
        },
        {
         "name": "D",
         "rawType": "object",
         "type": "unknown"
        },
        {
         "name": "B",
         "rawType": "object",
         "type": "unknown"
        },
        {
         "name": "D",
         "rawType": "object",
         "type": "unknown"
        },
        {
         "name": "F",
         "rawType": "object",
         "type": "unknown"
        }
       ],
       "ref": "57800810-cebc-4e84-881d-f266297fdc5b",
       "rows": [
        [
         "0",
         "A0",
         "B0",
         "C0",
         "D0",
         null,
         null,
         null
        ],
        [
         "1",
         "A1",
         "B1",
         "C1",
         "D1",
         null,
         null,
         null
        ],
        [
         "2",
         "A2",
         "B2",
         "C2",
         "D2",
         "B2",
         "D2",
         "F2"
        ],
        [
         "3",
         "A3",
         "B3",
         "C3",
         "D3",
         "B3",
         "D3",
         "F3"
        ],
        [
         "6",
         null,
         null,
         null,
         null,
         "B6",
         "D6",
         "F6"
        ],
        [
         "7",
         null,
         null,
         null,
         null,
         "B7",
         "D7",
         "F7"
        ]
       ],
       "shape": {
        "columns": 7,
        "rows": 6
       }
      },
      "text/html": [
       "<div>\n",
       "<style scoped>\n",
       "    .dataframe tbody tr th:only-of-type {\n",
       "        vertical-align: middle;\n",
       "    }\n",
       "\n",
       "    .dataframe tbody tr th {\n",
       "        vertical-align: top;\n",
       "    }\n",
       "\n",
       "    .dataframe thead th {\n",
       "        text-align: right;\n",
       "    }\n",
       "</style>\n",
       "<table border=\"1\" class=\"dataframe\">\n",
       "  <thead>\n",
       "    <tr style=\"text-align: right;\">\n",
       "      <th></th>\n",
       "      <th>A</th>\n",
       "      <th>B</th>\n",
       "      <th>C</th>\n",
       "      <th>D</th>\n",
       "      <th>B</th>\n",
       "      <th>D</th>\n",
       "      <th>F</th>\n",
       "    </tr>\n",
       "  </thead>\n",
       "  <tbody>\n",
       "    <tr>\n",
       "      <th>0</th>\n",
       "      <td>A0</td>\n",
       "      <td>B0</td>\n",
       "      <td>C0</td>\n",
       "      <td>D0</td>\n",
       "      <td>NaN</td>\n",
       "      <td>NaN</td>\n",
       "      <td>NaN</td>\n",
       "    </tr>\n",
       "    <tr>\n",
       "      <th>1</th>\n",
       "      <td>A1</td>\n",
       "      <td>B1</td>\n",
       "      <td>C1</td>\n",
       "      <td>D1</td>\n",
       "      <td>NaN</td>\n",
       "      <td>NaN</td>\n",
       "      <td>NaN</td>\n",
       "    </tr>\n",
       "    <tr>\n",
       "      <th>2</th>\n",
       "      <td>A2</td>\n",
       "      <td>B2</td>\n",
       "      <td>C2</td>\n",
       "      <td>D2</td>\n",
       "      <td>B2</td>\n",
       "      <td>D2</td>\n",
       "      <td>F2</td>\n",
       "    </tr>\n",
       "    <tr>\n",
       "      <th>3</th>\n",
       "      <td>A3</td>\n",
       "      <td>B3</td>\n",
       "      <td>C3</td>\n",
       "      <td>D3</td>\n",
       "      <td>B3</td>\n",
       "      <td>D3</td>\n",
       "      <td>F3</td>\n",
       "    </tr>\n",
       "    <tr>\n",
       "      <th>6</th>\n",
       "      <td>NaN</td>\n",
       "      <td>NaN</td>\n",
       "      <td>NaN</td>\n",
       "      <td>NaN</td>\n",
       "      <td>B6</td>\n",
       "      <td>D6</td>\n",
       "      <td>F6</td>\n",
       "    </tr>\n",
       "    <tr>\n",
       "      <th>7</th>\n",
       "      <td>NaN</td>\n",
       "      <td>NaN</td>\n",
       "      <td>NaN</td>\n",
       "      <td>NaN</td>\n",
       "      <td>B7</td>\n",
       "      <td>D7</td>\n",
       "      <td>F7</td>\n",
       "    </tr>\n",
       "  </tbody>\n",
       "</table>\n",
       "</div>"
      ],
      "text/plain": [
       "     A    B    C    D    B    D    F\n",
       "0   A0   B0   C0   D0  NaN  NaN  NaN\n",
       "1   A1   B1   C1   D1  NaN  NaN  NaN\n",
       "2   A2   B2   C2   D2   B2   D2   F2\n",
       "3   A3   B3   C3   D3   B3   D3   F3\n",
       "6  NaN  NaN  NaN  NaN   B6   D6   F6\n",
       "7  NaN  NaN  NaN  NaN   B7   D7   F7"
      ]
     },
     "execution_count": 259,
     "metadata": {},
     "output_type": "execute_result"
    }
   ],
   "source": [
    "pd.concat([df1, df4], axis=1)"
   ]
  },
  {
   "cell_type": "code",
   "execution_count": 262,
   "id": "dfb63276",
   "metadata": {},
   "outputs": [
    {
     "data": {
      "application/vnd.microsoft.datawrangler.viewer.v0+json": {
       "columns": [
        {
         "name": "index",
         "rawType": "int64",
         "type": "integer"
        },
        {
         "name": "A",
         "rawType": "object",
         "type": "string"
        },
        {
         "name": "B",
         "rawType": "object",
         "type": "string"
        },
        {
         "name": "C",
         "rawType": "object",
         "type": "string"
        },
        {
         "name": "D",
         "rawType": "object",
         "type": "string"
        },
        {
         "name": "B",
         "rawType": "object",
         "type": "unknown"
        },
        {
         "name": "D",
         "rawType": "object",
         "type": "unknown"
        },
        {
         "name": "F",
         "rawType": "object",
         "type": "unknown"
        }
       ],
       "ref": "f2cf5107-9267-4c8d-9918-bfdd4c2c7667",
       "rows": [
        [
         "0",
         "A0",
         "B0",
         "C0",
         "D0",
         null,
         null,
         null
        ],
        [
         "1",
         "A1",
         "B1",
         "C1",
         "D1",
         null,
         null,
         null
        ],
        [
         "2",
         "A2",
         "B2",
         "C2",
         "D2",
         "B2",
         "D2",
         "F2"
        ],
        [
         "3",
         "A3",
         "B3",
         "C3",
         "D3",
         "B3",
         "D3",
         "F3"
        ]
       ],
       "shape": {
        "columns": 7,
        "rows": 4
       }
      },
      "text/html": [
       "<div>\n",
       "<style scoped>\n",
       "    .dataframe tbody tr th:only-of-type {\n",
       "        vertical-align: middle;\n",
       "    }\n",
       "\n",
       "    .dataframe tbody tr th {\n",
       "        vertical-align: top;\n",
       "    }\n",
       "\n",
       "    .dataframe thead th {\n",
       "        text-align: right;\n",
       "    }\n",
       "</style>\n",
       "<table border=\"1\" class=\"dataframe\">\n",
       "  <thead>\n",
       "    <tr style=\"text-align: right;\">\n",
       "      <th></th>\n",
       "      <th>A</th>\n",
       "      <th>B</th>\n",
       "      <th>C</th>\n",
       "      <th>D</th>\n",
       "      <th>B</th>\n",
       "      <th>D</th>\n",
       "      <th>F</th>\n",
       "    </tr>\n",
       "  </thead>\n",
       "  <tbody>\n",
       "    <tr>\n",
       "      <th>0</th>\n",
       "      <td>A0</td>\n",
       "      <td>B0</td>\n",
       "      <td>C0</td>\n",
       "      <td>D0</td>\n",
       "      <td>NaN</td>\n",
       "      <td>NaN</td>\n",
       "      <td>NaN</td>\n",
       "    </tr>\n",
       "    <tr>\n",
       "      <th>1</th>\n",
       "      <td>A1</td>\n",
       "      <td>B1</td>\n",
       "      <td>C1</td>\n",
       "      <td>D1</td>\n",
       "      <td>NaN</td>\n",
       "      <td>NaN</td>\n",
       "      <td>NaN</td>\n",
       "    </tr>\n",
       "    <tr>\n",
       "      <th>2</th>\n",
       "      <td>A2</td>\n",
       "      <td>B2</td>\n",
       "      <td>C2</td>\n",
       "      <td>D2</td>\n",
       "      <td>B2</td>\n",
       "      <td>D2</td>\n",
       "      <td>F2</td>\n",
       "    </tr>\n",
       "    <tr>\n",
       "      <th>3</th>\n",
       "      <td>A3</td>\n",
       "      <td>B3</td>\n",
       "      <td>C3</td>\n",
       "      <td>D3</td>\n",
       "      <td>B3</td>\n",
       "      <td>D3</td>\n",
       "      <td>F3</td>\n",
       "    </tr>\n",
       "  </tbody>\n",
       "</table>\n",
       "</div>"
      ],
      "text/plain": [
       "    A   B   C   D    B    D    F\n",
       "0  A0  B0  C0  D0  NaN  NaN  NaN\n",
       "1  A1  B1  C1  D1  NaN  NaN  NaN\n",
       "2  A2  B2  C2  D2   B2   D2   F2\n",
       "3  A3  B3  C3  D3   B3   D3   F3"
      ]
     },
     "execution_count": 262,
     "metadata": {},
     "output_type": "execute_result"
    }
   ],
   "source": [
    "pd.concat([df1, df4], axis=1).reindex(df1.index)"
   ]
  },
  {
   "cell_type": "code",
   "execution_count": 263,
   "id": "670becf3",
   "metadata": {},
   "outputs": [],
   "source": [
    "combined_ml = pd.concat(frames, keys=[\"US\", \"CA\", \"GB\"])"
   ]
  },
  {
   "cell_type": "code",
   "execution_count": 264,
   "id": "3ef8924a",
   "metadata": {},
   "outputs": [
    {
     "data": {
      "application/vnd.microsoft.datawrangler.viewer.v0+json": {
       "columns": [
        {
         "name": "(None, None)",
         "rawType": "object",
         "type": "unknown"
        },
        {
         "name": "A",
         "rawType": "object",
         "type": "string"
        },
        {
         "name": "B",
         "rawType": "object",
         "type": "string"
        },
        {
         "name": "C",
         "rawType": "object",
         "type": "string"
        },
        {
         "name": "D",
         "rawType": "object",
         "type": "string"
        }
       ],
       "ref": "50139d52-2bec-4fd8-9cb9-1624a7179e3f",
       "rows": [
        [
         "('US', np.int64(0))",
         "A0",
         "B0",
         "C0",
         "D0"
        ],
        [
         "('US', np.int64(1))",
         "A1",
         "B1",
         "C1",
         "D1"
        ],
        [
         "('US', np.int64(2))",
         "A2",
         "B2",
         "C2",
         "D2"
        ],
        [
         "('US', np.int64(3))",
         "A3",
         "B3",
         "C3",
         "D3"
        ],
        [
         "('CA', np.int64(4))",
         "A4",
         "B4",
         "C4",
         "D4"
        ],
        [
         "('CA', np.int64(5))",
         "A5",
         "B5",
         "C5",
         "D5"
        ],
        [
         "('CA', np.int64(6))",
         "A6",
         "B6",
         "C6",
         "D6"
        ],
        [
         "('CA', np.int64(7))",
         "A7",
         "B7",
         "C7",
         "D7"
        ],
        [
         "('GB', np.int64(8))",
         "A8",
         "B8",
         "C8",
         "D8"
        ],
        [
         "('GB', np.int64(9))",
         "A9",
         "B9",
         "C9",
         "D9"
        ],
        [
         "('GB', np.int64(10))",
         "A10",
         "B10",
         "C10",
         "D10"
        ],
        [
         "('GB', np.int64(11))",
         "A11",
         "B11",
         "C11",
         "D11"
        ]
       ],
       "shape": {
        "columns": 4,
        "rows": 12
       }
      },
      "text/html": [
       "<div>\n",
       "<style scoped>\n",
       "    .dataframe tbody tr th:only-of-type {\n",
       "        vertical-align: middle;\n",
       "    }\n",
       "\n",
       "    .dataframe tbody tr th {\n",
       "        vertical-align: top;\n",
       "    }\n",
       "\n",
       "    .dataframe thead th {\n",
       "        text-align: right;\n",
       "    }\n",
       "</style>\n",
       "<table border=\"1\" class=\"dataframe\">\n",
       "  <thead>\n",
       "    <tr style=\"text-align: right;\">\n",
       "      <th></th>\n",
       "      <th></th>\n",
       "      <th>A</th>\n",
       "      <th>B</th>\n",
       "      <th>C</th>\n",
       "      <th>D</th>\n",
       "    </tr>\n",
       "  </thead>\n",
       "  <tbody>\n",
       "    <tr>\n",
       "      <th rowspan=\"4\" valign=\"top\">US</th>\n",
       "      <th>0</th>\n",
       "      <td>A0</td>\n",
       "      <td>B0</td>\n",
       "      <td>C0</td>\n",
       "      <td>D0</td>\n",
       "    </tr>\n",
       "    <tr>\n",
       "      <th>1</th>\n",
       "      <td>A1</td>\n",
       "      <td>B1</td>\n",
       "      <td>C1</td>\n",
       "      <td>D1</td>\n",
       "    </tr>\n",
       "    <tr>\n",
       "      <th>2</th>\n",
       "      <td>A2</td>\n",
       "      <td>B2</td>\n",
       "      <td>C2</td>\n",
       "      <td>D2</td>\n",
       "    </tr>\n",
       "    <tr>\n",
       "      <th>3</th>\n",
       "      <td>A3</td>\n",
       "      <td>B3</td>\n",
       "      <td>C3</td>\n",
       "      <td>D3</td>\n",
       "    </tr>\n",
       "    <tr>\n",
       "      <th rowspan=\"4\" valign=\"top\">CA</th>\n",
       "      <th>4</th>\n",
       "      <td>A4</td>\n",
       "      <td>B4</td>\n",
       "      <td>C4</td>\n",
       "      <td>D4</td>\n",
       "    </tr>\n",
       "    <tr>\n",
       "      <th>5</th>\n",
       "      <td>A5</td>\n",
       "      <td>B5</td>\n",
       "      <td>C5</td>\n",
       "      <td>D5</td>\n",
       "    </tr>\n",
       "    <tr>\n",
       "      <th>6</th>\n",
       "      <td>A6</td>\n",
       "      <td>B6</td>\n",
       "      <td>C6</td>\n",
       "      <td>D6</td>\n",
       "    </tr>\n",
       "    <tr>\n",
       "      <th>7</th>\n",
       "      <td>A7</td>\n",
       "      <td>B7</td>\n",
       "      <td>C7</td>\n",
       "      <td>D7</td>\n",
       "    </tr>\n",
       "    <tr>\n",
       "      <th rowspan=\"4\" valign=\"top\">GB</th>\n",
       "      <th>8</th>\n",
       "      <td>A8</td>\n",
       "      <td>B8</td>\n",
       "      <td>C8</td>\n",
       "      <td>D8</td>\n",
       "    </tr>\n",
       "    <tr>\n",
       "      <th>9</th>\n",
       "      <td>A9</td>\n",
       "      <td>B9</td>\n",
       "      <td>C9</td>\n",
       "      <td>D9</td>\n",
       "    </tr>\n",
       "    <tr>\n",
       "      <th>10</th>\n",
       "      <td>A10</td>\n",
       "      <td>B10</td>\n",
       "      <td>C10</td>\n",
       "      <td>D10</td>\n",
       "    </tr>\n",
       "    <tr>\n",
       "      <th>11</th>\n",
       "      <td>A11</td>\n",
       "      <td>B11</td>\n",
       "      <td>C11</td>\n",
       "      <td>D11</td>\n",
       "    </tr>\n",
       "  </tbody>\n",
       "</table>\n",
       "</div>"
      ],
      "text/plain": [
       "         A    B    C    D\n",
       "US 0    A0   B0   C0   D0\n",
       "   1    A1   B1   C1   D1\n",
       "   2    A2   B2   C2   D2\n",
       "   3    A3   B3   C3   D3\n",
       "CA 4    A4   B4   C4   D4\n",
       "   5    A5   B5   C5   D5\n",
       "   6    A6   B6   C6   D6\n",
       "   7    A7   B7   C7   D7\n",
       "GB 8    A8   B8   C8   D8\n",
       "   9    A9   B9   C9   D9\n",
       "   10  A10  B10  C10  D10\n",
       "   11  A11  B11  C11  D11"
      ]
     },
     "execution_count": 264,
     "metadata": {},
     "output_type": "execute_result"
    }
   ],
   "source": [
    "combined_ml"
   ]
  },
  {
   "cell_type": "code",
   "execution_count": 265,
   "id": "093c03d9",
   "metadata": {},
   "outputs": [
    {
     "data": {
      "application/vnd.microsoft.datawrangler.viewer.v0+json": {
       "columns": [
        {
         "name": "index",
         "rawType": "int64",
         "type": "integer"
        },
        {
         "name": "A",
         "rawType": "object",
         "type": "string"
        },
        {
         "name": "B",
         "rawType": "object",
         "type": "string"
        },
        {
         "name": "C",
         "rawType": "object",
         "type": "string"
        },
        {
         "name": "D",
         "rawType": "object",
         "type": "string"
        }
       ],
       "ref": "a215087d-db29-448c-b779-59f02e76098f",
       "rows": [
        [
         "4",
         "A4",
         "B4",
         "C4",
         "D4"
        ],
        [
         "5",
         "A5",
         "B5",
         "C5",
         "D5"
        ],
        [
         "6",
         "A6",
         "B6",
         "C6",
         "D6"
        ],
        [
         "7",
         "A7",
         "B7",
         "C7",
         "D7"
        ]
       ],
       "shape": {
        "columns": 4,
        "rows": 4
       }
      },
      "text/html": [
       "<div>\n",
       "<style scoped>\n",
       "    .dataframe tbody tr th:only-of-type {\n",
       "        vertical-align: middle;\n",
       "    }\n",
       "\n",
       "    .dataframe tbody tr th {\n",
       "        vertical-align: top;\n",
       "    }\n",
       "\n",
       "    .dataframe thead th {\n",
       "        text-align: right;\n",
       "    }\n",
       "</style>\n",
       "<table border=\"1\" class=\"dataframe\">\n",
       "  <thead>\n",
       "    <tr style=\"text-align: right;\">\n",
       "      <th></th>\n",
       "      <th>A</th>\n",
       "      <th>B</th>\n",
       "      <th>C</th>\n",
       "      <th>D</th>\n",
       "    </tr>\n",
       "  </thead>\n",
       "  <tbody>\n",
       "    <tr>\n",
       "      <th>4</th>\n",
       "      <td>A4</td>\n",
       "      <td>B4</td>\n",
       "      <td>C4</td>\n",
       "      <td>D4</td>\n",
       "    </tr>\n",
       "    <tr>\n",
       "      <th>5</th>\n",
       "      <td>A5</td>\n",
       "      <td>B5</td>\n",
       "      <td>C5</td>\n",
       "      <td>D5</td>\n",
       "    </tr>\n",
       "    <tr>\n",
       "      <th>6</th>\n",
       "      <td>A6</td>\n",
       "      <td>B6</td>\n",
       "      <td>C6</td>\n",
       "      <td>D6</td>\n",
       "    </tr>\n",
       "    <tr>\n",
       "      <th>7</th>\n",
       "      <td>A7</td>\n",
       "      <td>B7</td>\n",
       "      <td>C7</td>\n",
       "      <td>D7</td>\n",
       "    </tr>\n",
       "  </tbody>\n",
       "</table>\n",
       "</div>"
      ],
      "text/plain": [
       "    A   B   C   D\n",
       "4  A4  B4  C4  D4\n",
       "5  A5  B5  C5  D5\n",
       "6  A6  B6  C6  D6\n",
       "7  A7  B7  C7  D7"
      ]
     },
     "execution_count": 265,
     "metadata": {},
     "output_type": "execute_result"
    }
   ],
   "source": [
    "combined_ml.loc[\"CA\"]"
   ]
  },
  {
   "cell_type": "code",
   "execution_count": 266,
   "id": "0322a563",
   "metadata": {},
   "outputs": [],
   "source": [
    "frames2 = {\"EU\": df1, \"JP\": df2, \"AX\": df3}\n",
    "combined_ml2 = pd.concat(frames2)"
   ]
  },
  {
   "cell_type": "code",
   "execution_count": 267,
   "id": "7ee0c656",
   "metadata": {},
   "outputs": [
    {
     "data": {
      "application/vnd.microsoft.datawrangler.viewer.v0+json": {
       "columns": [
        {
         "name": "(None, None)",
         "rawType": "object",
         "type": "unknown"
        },
        {
         "name": "A",
         "rawType": "object",
         "type": "string"
        },
        {
         "name": "B",
         "rawType": "object",
         "type": "string"
        },
        {
         "name": "C",
         "rawType": "object",
         "type": "string"
        },
        {
         "name": "D",
         "rawType": "object",
         "type": "string"
        }
       ],
       "ref": "84f1f68d-3815-423b-8f3f-4361e64d0138",
       "rows": [
        [
         "('EU', np.int64(0))",
         "A0",
         "B0",
         "C0",
         "D0"
        ],
        [
         "('EU', np.int64(1))",
         "A1",
         "B1",
         "C1",
         "D1"
        ],
        [
         "('EU', np.int64(2))",
         "A2",
         "B2",
         "C2",
         "D2"
        ],
        [
         "('EU', np.int64(3))",
         "A3",
         "B3",
         "C3",
         "D3"
        ],
        [
         "('JP', np.int64(4))",
         "A4",
         "B4",
         "C4",
         "D4"
        ],
        [
         "('JP', np.int64(5))",
         "A5",
         "B5",
         "C5",
         "D5"
        ],
        [
         "('JP', np.int64(6))",
         "A6",
         "B6",
         "C6",
         "D6"
        ],
        [
         "('JP', np.int64(7))",
         "A7",
         "B7",
         "C7",
         "D7"
        ],
        [
         "('AX', np.int64(8))",
         "A8",
         "B8",
         "C8",
         "D8"
        ],
        [
         "('AX', np.int64(9))",
         "A9",
         "B9",
         "C9",
         "D9"
        ],
        [
         "('AX', np.int64(10))",
         "A10",
         "B10",
         "C10",
         "D10"
        ],
        [
         "('AX', np.int64(11))",
         "A11",
         "B11",
         "C11",
         "D11"
        ]
       ],
       "shape": {
        "columns": 4,
        "rows": 12
       }
      },
      "text/html": [
       "<div>\n",
       "<style scoped>\n",
       "    .dataframe tbody tr th:only-of-type {\n",
       "        vertical-align: middle;\n",
       "    }\n",
       "\n",
       "    .dataframe tbody tr th {\n",
       "        vertical-align: top;\n",
       "    }\n",
       "\n",
       "    .dataframe thead th {\n",
       "        text-align: right;\n",
       "    }\n",
       "</style>\n",
       "<table border=\"1\" class=\"dataframe\">\n",
       "  <thead>\n",
       "    <tr style=\"text-align: right;\">\n",
       "      <th></th>\n",
       "      <th></th>\n",
       "      <th>A</th>\n",
       "      <th>B</th>\n",
       "      <th>C</th>\n",
       "      <th>D</th>\n",
       "    </tr>\n",
       "  </thead>\n",
       "  <tbody>\n",
       "    <tr>\n",
       "      <th rowspan=\"4\" valign=\"top\">EU</th>\n",
       "      <th>0</th>\n",
       "      <td>A0</td>\n",
       "      <td>B0</td>\n",
       "      <td>C0</td>\n",
       "      <td>D0</td>\n",
       "    </tr>\n",
       "    <tr>\n",
       "      <th>1</th>\n",
       "      <td>A1</td>\n",
       "      <td>B1</td>\n",
       "      <td>C1</td>\n",
       "      <td>D1</td>\n",
       "    </tr>\n",
       "    <tr>\n",
       "      <th>2</th>\n",
       "      <td>A2</td>\n",
       "      <td>B2</td>\n",
       "      <td>C2</td>\n",
       "      <td>D2</td>\n",
       "    </tr>\n",
       "    <tr>\n",
       "      <th>3</th>\n",
       "      <td>A3</td>\n",
       "      <td>B3</td>\n",
       "      <td>C3</td>\n",
       "      <td>D3</td>\n",
       "    </tr>\n",
       "    <tr>\n",
       "      <th rowspan=\"4\" valign=\"top\">JP</th>\n",
       "      <th>4</th>\n",
       "      <td>A4</td>\n",
       "      <td>B4</td>\n",
       "      <td>C4</td>\n",
       "      <td>D4</td>\n",
       "    </tr>\n",
       "    <tr>\n",
       "      <th>5</th>\n",
       "      <td>A5</td>\n",
       "      <td>B5</td>\n",
       "      <td>C5</td>\n",
       "      <td>D5</td>\n",
       "    </tr>\n",
       "    <tr>\n",
       "      <th>6</th>\n",
       "      <td>A6</td>\n",
       "      <td>B6</td>\n",
       "      <td>C6</td>\n",
       "      <td>D6</td>\n",
       "    </tr>\n",
       "    <tr>\n",
       "      <th>7</th>\n",
       "      <td>A7</td>\n",
       "      <td>B7</td>\n",
       "      <td>C7</td>\n",
       "      <td>D7</td>\n",
       "    </tr>\n",
       "    <tr>\n",
       "      <th rowspan=\"4\" valign=\"top\">AX</th>\n",
       "      <th>8</th>\n",
       "      <td>A8</td>\n",
       "      <td>B8</td>\n",
       "      <td>C8</td>\n",
       "      <td>D8</td>\n",
       "    </tr>\n",
       "    <tr>\n",
       "      <th>9</th>\n",
       "      <td>A9</td>\n",
       "      <td>B9</td>\n",
       "      <td>C9</td>\n",
       "      <td>D9</td>\n",
       "    </tr>\n",
       "    <tr>\n",
       "      <th>10</th>\n",
       "      <td>A10</td>\n",
       "      <td>B10</td>\n",
       "      <td>C10</td>\n",
       "      <td>D10</td>\n",
       "    </tr>\n",
       "    <tr>\n",
       "      <th>11</th>\n",
       "      <td>A11</td>\n",
       "      <td>B11</td>\n",
       "      <td>C11</td>\n",
       "      <td>D11</td>\n",
       "    </tr>\n",
       "  </tbody>\n",
       "</table>\n",
       "</div>"
      ],
      "text/plain": [
       "         A    B    C    D\n",
       "EU 0    A0   B0   C0   D0\n",
       "   1    A1   B1   C1   D1\n",
       "   2    A2   B2   C2   D2\n",
       "   3    A3   B3   C3   D3\n",
       "JP 4    A4   B4   C4   D4\n",
       "   5    A5   B5   C5   D5\n",
       "   6    A6   B6   C6   D6\n",
       "   7    A7   B7   C7   D7\n",
       "AX 8    A8   B8   C8   D8\n",
       "   9    A9   B9   C9   D9\n",
       "   10  A10  B10  C10  D10\n",
       "   11  A11  B11  C11  D11"
      ]
     },
     "execution_count": 267,
     "metadata": {},
     "output_type": "execute_result"
    }
   ],
   "source": [
    "combined_ml2"
   ]
  },
  {
   "cell_type": "code",
   "execution_count": 269,
   "id": "e721c9c8",
   "metadata": {},
   "outputs": [
    {
     "data": {
      "text/plain": [
       "FrozenList([['EU', 'JP', 'AX'], [0, 1, 2, 3, 4, 5, 6, 7, 8, 9, 10, 11]])"
      ]
     },
     "execution_count": 269,
     "metadata": {},
     "output_type": "execute_result"
    }
   ],
   "source": [
    "combined_ml2.index.levels"
   ]
  },
  {
   "cell_type": "code",
   "execution_count": 274,
   "id": "e6b36656",
   "metadata": {},
   "outputs": [
    {
     "data": {
      "application/vnd.microsoft.datawrangler.viewer.v0+json": {
       "columns": [
        {
         "name": "index",
         "rawType": "int64",
         "type": "integer"
        },
        {
         "name": "A",
         "rawType": "object",
         "type": "string"
        },
        {
         "name": "C",
         "rawType": "object",
         "type": "string"
        },
        {
         "name": "B",
         "rawType": "object",
         "type": "string"
        },
        {
         "name": "D",
         "rawType": "object",
         "type": "string"
        }
       ],
       "ref": "b16bc647-b009-4613-be95-20c0b47e66b1",
       "rows": [
        [
         "0",
         "X0",
         "X1",
         "X2",
         "X3"
        ]
       ],
       "shape": {
        "columns": 4,
        "rows": 1
       }
      },
      "text/html": [
       "<div>\n",
       "<style scoped>\n",
       "    .dataframe tbody tr th:only-of-type {\n",
       "        vertical-align: middle;\n",
       "    }\n",
       "\n",
       "    .dataframe tbody tr th {\n",
       "        vertical-align: top;\n",
       "    }\n",
       "\n",
       "    .dataframe thead th {\n",
       "        text-align: right;\n",
       "    }\n",
       "</style>\n",
       "<table border=\"1\" class=\"dataframe\">\n",
       "  <thead>\n",
       "    <tr style=\"text-align: right;\">\n",
       "      <th></th>\n",
       "      <th>A</th>\n",
       "      <th>C</th>\n",
       "      <th>B</th>\n",
       "      <th>D</th>\n",
       "    </tr>\n",
       "  </thead>\n",
       "  <tbody>\n",
       "    <tr>\n",
       "      <th>0</th>\n",
       "      <td>X0</td>\n",
       "      <td>X1</td>\n",
       "      <td>X2</td>\n",
       "      <td>X3</td>\n",
       "    </tr>\n",
       "  </tbody>\n",
       "</table>\n",
       "</div>"
      ],
      "text/plain": [
       "    A   C   B   D\n",
       "0  X0  X1  X2  X3"
      ]
     },
     "execution_count": 274,
     "metadata": {},
     "output_type": "execute_result"
    }
   ],
   "source": [
    "s2 = pd.Series([\"X0\", \"X1\", \"X2\", \"X3\"], index={\"A\", \"B\", \"C\", \"D\"})\n",
    "s2.to_frame().T"
   ]
  },
  {
   "cell_type": "code",
   "execution_count": 272,
   "id": "7889ebe1",
   "metadata": {},
   "outputs": [
    {
     "data": {
      "application/vnd.microsoft.datawrangler.viewer.v0+json": {
       "columns": [
        {
         "name": "index",
         "rawType": "int64",
         "type": "integer"
        },
        {
         "name": "A",
         "rawType": "object",
         "type": "string"
        },
        {
         "name": "B",
         "rawType": "object",
         "type": "string"
        },
        {
         "name": "C",
         "rawType": "object",
         "type": "string"
        },
        {
         "name": "D",
         "rawType": "object",
         "type": "string"
        }
       ],
       "ref": "d03e1e4c-6ac5-4ded-b165-f35efc6bc281",
       "rows": [
        [
         "0",
         "A0",
         "B0",
         "C0",
         "D0"
        ],
        [
         "1",
         "A1",
         "B1",
         "C1",
         "D1"
        ],
        [
         "2",
         "A2",
         "B2",
         "C2",
         "D2"
        ],
        [
         "3",
         "A3",
         "B3",
         "C3",
         "D3"
        ]
       ],
       "shape": {
        "columns": 4,
        "rows": 4
       }
      },
      "text/html": [
       "<div>\n",
       "<style scoped>\n",
       "    .dataframe tbody tr th:only-of-type {\n",
       "        vertical-align: middle;\n",
       "    }\n",
       "\n",
       "    .dataframe tbody tr th {\n",
       "        vertical-align: top;\n",
       "    }\n",
       "\n",
       "    .dataframe thead th {\n",
       "        text-align: right;\n",
       "    }\n",
       "</style>\n",
       "<table border=\"1\" class=\"dataframe\">\n",
       "  <thead>\n",
       "    <tr style=\"text-align: right;\">\n",
       "      <th></th>\n",
       "      <th>A</th>\n",
       "      <th>B</th>\n",
       "      <th>C</th>\n",
       "      <th>D</th>\n",
       "    </tr>\n",
       "  </thead>\n",
       "  <tbody>\n",
       "    <tr>\n",
       "      <th>0</th>\n",
       "      <td>A0</td>\n",
       "      <td>B0</td>\n",
       "      <td>C0</td>\n",
       "      <td>D0</td>\n",
       "    </tr>\n",
       "    <tr>\n",
       "      <th>1</th>\n",
       "      <td>A1</td>\n",
       "      <td>B1</td>\n",
       "      <td>C1</td>\n",
       "      <td>D1</td>\n",
       "    </tr>\n",
       "    <tr>\n",
       "      <th>2</th>\n",
       "      <td>A2</td>\n",
       "      <td>B2</td>\n",
       "      <td>C2</td>\n",
       "      <td>D2</td>\n",
       "    </tr>\n",
       "    <tr>\n",
       "      <th>3</th>\n",
       "      <td>A3</td>\n",
       "      <td>B3</td>\n",
       "      <td>C3</td>\n",
       "      <td>D3</td>\n",
       "    </tr>\n",
       "  </tbody>\n",
       "</table>\n",
       "</div>"
      ],
      "text/plain": [
       "    A   B   C   D\n",
       "0  A0  B0  C0  D0\n",
       "1  A1  B1  C1  D1\n",
       "2  A2  B2  C2  D2\n",
       "3  A3  B3  C3  D3"
      ]
     },
     "execution_count": 272,
     "metadata": {},
     "output_type": "execute_result"
    }
   ],
   "source": [
    "df1"
   ]
  },
  {
   "cell_type": "code",
   "execution_count": 279,
   "id": "918cc352",
   "metadata": {},
   "outputs": [],
   "source": [
    "combined_ml3 = pd.concat([df1, s2.to_frame().T], ignore_index=True)"
   ]
  },
  {
   "cell_type": "code",
   "execution_count": 280,
   "id": "2728baf9",
   "metadata": {},
   "outputs": [
    {
     "data": {
      "application/vnd.microsoft.datawrangler.viewer.v0+json": {
       "columns": [
        {
         "name": "index",
         "rawType": "int64",
         "type": "integer"
        },
        {
         "name": "A",
         "rawType": "object",
         "type": "string"
        },
        {
         "name": "B",
         "rawType": "object",
         "type": "string"
        },
        {
         "name": "C",
         "rawType": "object",
         "type": "string"
        },
        {
         "name": "D",
         "rawType": "object",
         "type": "string"
        }
       ],
       "ref": "d35ef416-253b-478c-97fd-22bd88beb18a",
       "rows": [
        [
         "0",
         "A0",
         "B0",
         "C0",
         "D0"
        ],
        [
         "1",
         "A1",
         "B1",
         "C1",
         "D1"
        ],
        [
         "2",
         "A2",
         "B2",
         "C2",
         "D2"
        ],
        [
         "3",
         "A3",
         "B3",
         "C3",
         "D3"
        ],
        [
         "4",
         "X0",
         "X2",
         "X1",
         "X3"
        ]
       ],
       "shape": {
        "columns": 4,
        "rows": 5
       }
      },
      "text/html": [
       "<div>\n",
       "<style scoped>\n",
       "    .dataframe tbody tr th:only-of-type {\n",
       "        vertical-align: middle;\n",
       "    }\n",
       "\n",
       "    .dataframe tbody tr th {\n",
       "        vertical-align: top;\n",
       "    }\n",
       "\n",
       "    .dataframe thead th {\n",
       "        text-align: right;\n",
       "    }\n",
       "</style>\n",
       "<table border=\"1\" class=\"dataframe\">\n",
       "  <thead>\n",
       "    <tr style=\"text-align: right;\">\n",
       "      <th></th>\n",
       "      <th>A</th>\n",
       "      <th>B</th>\n",
       "      <th>C</th>\n",
       "      <th>D</th>\n",
       "    </tr>\n",
       "  </thead>\n",
       "  <tbody>\n",
       "    <tr>\n",
       "      <th>0</th>\n",
       "      <td>A0</td>\n",
       "      <td>B0</td>\n",
       "      <td>C0</td>\n",
       "      <td>D0</td>\n",
       "    </tr>\n",
       "    <tr>\n",
       "      <th>1</th>\n",
       "      <td>A1</td>\n",
       "      <td>B1</td>\n",
       "      <td>C1</td>\n",
       "      <td>D1</td>\n",
       "    </tr>\n",
       "    <tr>\n",
       "      <th>2</th>\n",
       "      <td>A2</td>\n",
       "      <td>B2</td>\n",
       "      <td>C2</td>\n",
       "      <td>D2</td>\n",
       "    </tr>\n",
       "    <tr>\n",
       "      <th>3</th>\n",
       "      <td>A3</td>\n",
       "      <td>B3</td>\n",
       "      <td>C3</td>\n",
       "      <td>D3</td>\n",
       "    </tr>\n",
       "    <tr>\n",
       "      <th>4</th>\n",
       "      <td>X0</td>\n",
       "      <td>X2</td>\n",
       "      <td>X1</td>\n",
       "      <td>X3</td>\n",
       "    </tr>\n",
       "  </tbody>\n",
       "</table>\n",
       "</div>"
      ],
      "text/plain": [
       "    A   B   C   D\n",
       "0  A0  B0  C0  D0\n",
       "1  A1  B1  C1  D1\n",
       "2  A2  B2  C2  D2\n",
       "3  A3  B3  C3  D3\n",
       "4  X0  X2  X1  X3"
      ]
     },
     "execution_count": 280,
     "metadata": {},
     "output_type": "execute_result"
    }
   ],
   "source": [
    "combined_ml3"
   ]
  },
  {
   "cell_type": "code",
   "execution_count": null,
   "id": "d22359a4",
   "metadata": {},
   "outputs": [],
   "source": []
  }
 ],
 "metadata": {
  "kernelspec": {
   "display_name": "Python 3.12 (l5)",
   "language": "python",
   "name": "l5-312"
  },
  "language_info": {
   "codemirror_mode": {
    "name": "ipython",
    "version": 3
   },
   "file_extension": ".py",
   "mimetype": "text/x-python",
   "name": "python",
   "nbconvert_exporter": "python",
   "pygments_lexer": "ipython3",
   "version": "3.13.7"
  }
 },
 "nbformat": 4,
 "nbformat_minor": 5
}
