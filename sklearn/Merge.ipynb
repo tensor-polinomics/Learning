{
 "cells": [
  {
   "cell_type": "code",
   "execution_count": 601,
   "id": "3e81101c",
   "metadata": {},
   "outputs": [],
   "source": [
    "import numpy as np\n",
    "import pandas as pd\n",
    "import matplotlib.pyplot as plt"
   ]
  },
  {
   "cell_type": "code",
   "execution_count": 602,
   "id": "cf2b41ea",
   "metadata": {},
   "outputs": [],
   "source": [
    "left = pd.DataFrame(\n",
    "    {\n",
    "        \"key\": [\"K0\", \"K1\", \"K2\", \"K3\"],\n",
    "        \"A\": [\"A0\", \"A1\", \"A2\", \"A3\"],\n",
    "        \"B\": [\"B0\", \"B1\", \"B2\", \"B3\"],\n",
    "    }\n",
    ")\n",
    "\n",
    "\n",
    "right = pd.DataFrame(\n",
    "    {\n",
    "        \"key\": [\"K0\", \"K1\", \"K2\", \"K3\"],\n",
    "        \"C\": [\"C0\", \"C1\", \"C2\", \"C3\"],\n",
    "        \"D\": [\"D0\", \"D1\", \"D2\", \"D3\"],\n",
    "    }\n",
    ")"
   ]
  },
  {
   "cell_type": "code",
   "execution_count": 603,
   "id": "b37441be",
   "metadata": {},
   "outputs": [
    {
     "data": {
      "application/vnd.microsoft.datawrangler.viewer.v0+json": {
       "columns": [
        {
         "name": "index",
         "rawType": "int64",
         "type": "integer"
        },
        {
         "name": "key",
         "rawType": "object",
         "type": "string"
        },
        {
         "name": "A",
         "rawType": "object",
         "type": "string"
        },
        {
         "name": "B",
         "rawType": "object",
         "type": "string"
        }
       ],
       "ref": "904a5b78-bcb2-4d1c-a10a-158d27a212b1",
       "rows": [
        [
         "0",
         "K0",
         "A0",
         "B0"
        ],
        [
         "1",
         "K1",
         "A1",
         "B1"
        ],
        [
         "2",
         "K2",
         "A2",
         "B2"
        ],
        [
         "3",
         "K3",
         "A3",
         "B3"
        ]
       ],
       "shape": {
        "columns": 3,
        "rows": 4
       }
      },
      "text/html": [
       "<div>\n",
       "<style scoped>\n",
       "    .dataframe tbody tr th:only-of-type {\n",
       "        vertical-align: middle;\n",
       "    }\n",
       "\n",
       "    .dataframe tbody tr th {\n",
       "        vertical-align: top;\n",
       "    }\n",
       "\n",
       "    .dataframe thead th {\n",
       "        text-align: right;\n",
       "    }\n",
       "</style>\n",
       "<table border=\"1\" class=\"dataframe\">\n",
       "  <thead>\n",
       "    <tr style=\"text-align: right;\">\n",
       "      <th></th>\n",
       "      <th>key</th>\n",
       "      <th>A</th>\n",
       "      <th>B</th>\n",
       "    </tr>\n",
       "  </thead>\n",
       "  <tbody>\n",
       "    <tr>\n",
       "      <th>0</th>\n",
       "      <td>K0</td>\n",
       "      <td>A0</td>\n",
       "      <td>B0</td>\n",
       "    </tr>\n",
       "    <tr>\n",
       "      <th>1</th>\n",
       "      <td>K1</td>\n",
       "      <td>A1</td>\n",
       "      <td>B1</td>\n",
       "    </tr>\n",
       "    <tr>\n",
       "      <th>2</th>\n",
       "      <td>K2</td>\n",
       "      <td>A2</td>\n",
       "      <td>B2</td>\n",
       "    </tr>\n",
       "    <tr>\n",
       "      <th>3</th>\n",
       "      <td>K3</td>\n",
       "      <td>A3</td>\n",
       "      <td>B3</td>\n",
       "    </tr>\n",
       "  </tbody>\n",
       "</table>\n",
       "</div>"
      ],
      "text/plain": [
       "  key   A   B\n",
       "0  K0  A0  B0\n",
       "1  K1  A1  B1\n",
       "2  K2  A2  B2\n",
       "3  K3  A3  B3"
      ]
     },
     "execution_count": 603,
     "metadata": {},
     "output_type": "execute_result"
    }
   ],
   "source": [
    "left"
   ]
  },
  {
   "cell_type": "code",
   "execution_count": 604,
   "id": "d8ea009a",
   "metadata": {},
   "outputs": [
    {
     "data": {
      "application/vnd.microsoft.datawrangler.viewer.v0+json": {
       "columns": [
        {
         "name": "index",
         "rawType": "int64",
         "type": "integer"
        },
        {
         "name": "key",
         "rawType": "object",
         "type": "string"
        },
        {
         "name": "C",
         "rawType": "object",
         "type": "string"
        },
        {
         "name": "D",
         "rawType": "object",
         "type": "string"
        }
       ],
       "ref": "736b1bf6-9469-41ad-920e-283826520ca1",
       "rows": [
        [
         "0",
         "K0",
         "C0",
         "D0"
        ],
        [
         "1",
         "K1",
         "C1",
         "D1"
        ],
        [
         "2",
         "K2",
         "C2",
         "D2"
        ],
        [
         "3",
         "K3",
         "C3",
         "D3"
        ]
       ],
       "shape": {
        "columns": 3,
        "rows": 4
       }
      },
      "text/html": [
       "<div>\n",
       "<style scoped>\n",
       "    .dataframe tbody tr th:only-of-type {\n",
       "        vertical-align: middle;\n",
       "    }\n",
       "\n",
       "    .dataframe tbody tr th {\n",
       "        vertical-align: top;\n",
       "    }\n",
       "\n",
       "    .dataframe thead th {\n",
       "        text-align: right;\n",
       "    }\n",
       "</style>\n",
       "<table border=\"1\" class=\"dataframe\">\n",
       "  <thead>\n",
       "    <tr style=\"text-align: right;\">\n",
       "      <th></th>\n",
       "      <th>key</th>\n",
       "      <th>C</th>\n",
       "      <th>D</th>\n",
       "    </tr>\n",
       "  </thead>\n",
       "  <tbody>\n",
       "    <tr>\n",
       "      <th>0</th>\n",
       "      <td>K0</td>\n",
       "      <td>C0</td>\n",
       "      <td>D0</td>\n",
       "    </tr>\n",
       "    <tr>\n",
       "      <th>1</th>\n",
       "      <td>K1</td>\n",
       "      <td>C1</td>\n",
       "      <td>D1</td>\n",
       "    </tr>\n",
       "    <tr>\n",
       "      <th>2</th>\n",
       "      <td>K2</td>\n",
       "      <td>C2</td>\n",
       "      <td>D2</td>\n",
       "    </tr>\n",
       "    <tr>\n",
       "      <th>3</th>\n",
       "      <td>K3</td>\n",
       "      <td>C3</td>\n",
       "      <td>D3</td>\n",
       "    </tr>\n",
       "  </tbody>\n",
       "</table>\n",
       "</div>"
      ],
      "text/plain": [
       "  key   C   D\n",
       "0  K0  C0  D0\n",
       "1  K1  C1  D1\n",
       "2  K2  C2  D2\n",
       "3  K3  C3  D3"
      ]
     },
     "execution_count": 604,
     "metadata": {},
     "output_type": "execute_result"
    }
   ],
   "source": [
    "right"
   ]
  },
  {
   "cell_type": "code",
   "execution_count": 605,
   "id": "e3e37b56",
   "metadata": {},
   "outputs": [],
   "source": [
    "result = pd.merge(left, right, on='key')"
   ]
  },
  {
   "cell_type": "code",
   "execution_count": 606,
   "id": "403efcd7",
   "metadata": {},
   "outputs": [
    {
     "data": {
      "application/vnd.microsoft.datawrangler.viewer.v0+json": {
       "columns": [
        {
         "name": "index",
         "rawType": "int64",
         "type": "integer"
        },
        {
         "name": "key",
         "rawType": "object",
         "type": "string"
        },
        {
         "name": "A",
         "rawType": "object",
         "type": "string"
        },
        {
         "name": "B",
         "rawType": "object",
         "type": "string"
        },
        {
         "name": "C",
         "rawType": "object",
         "type": "string"
        },
        {
         "name": "D",
         "rawType": "object",
         "type": "string"
        }
       ],
       "ref": "6f9db605-c451-41cb-96d7-3bc894fc990d",
       "rows": [
        [
         "0",
         "K0",
         "A0",
         "B0",
         "C0",
         "D0"
        ],
        [
         "1",
         "K1",
         "A1",
         "B1",
         "C1",
         "D1"
        ],
        [
         "2",
         "K2",
         "A2",
         "B2",
         "C2",
         "D2"
        ],
        [
         "3",
         "K3",
         "A3",
         "B3",
         "C3",
         "D3"
        ]
       ],
       "shape": {
        "columns": 5,
        "rows": 4
       }
      },
      "text/html": [
       "<div>\n",
       "<style scoped>\n",
       "    .dataframe tbody tr th:only-of-type {\n",
       "        vertical-align: middle;\n",
       "    }\n",
       "\n",
       "    .dataframe tbody tr th {\n",
       "        vertical-align: top;\n",
       "    }\n",
       "\n",
       "    .dataframe thead th {\n",
       "        text-align: right;\n",
       "    }\n",
       "</style>\n",
       "<table border=\"1\" class=\"dataframe\">\n",
       "  <thead>\n",
       "    <tr style=\"text-align: right;\">\n",
       "      <th></th>\n",
       "      <th>key</th>\n",
       "      <th>A</th>\n",
       "      <th>B</th>\n",
       "      <th>C</th>\n",
       "      <th>D</th>\n",
       "    </tr>\n",
       "  </thead>\n",
       "  <tbody>\n",
       "    <tr>\n",
       "      <th>0</th>\n",
       "      <td>K0</td>\n",
       "      <td>A0</td>\n",
       "      <td>B0</td>\n",
       "      <td>C0</td>\n",
       "      <td>D0</td>\n",
       "    </tr>\n",
       "    <tr>\n",
       "      <th>1</th>\n",
       "      <td>K1</td>\n",
       "      <td>A1</td>\n",
       "      <td>B1</td>\n",
       "      <td>C1</td>\n",
       "      <td>D1</td>\n",
       "    </tr>\n",
       "    <tr>\n",
       "      <th>2</th>\n",
       "      <td>K2</td>\n",
       "      <td>A2</td>\n",
       "      <td>B2</td>\n",
       "      <td>C2</td>\n",
       "      <td>D2</td>\n",
       "    </tr>\n",
       "    <tr>\n",
       "      <th>3</th>\n",
       "      <td>K3</td>\n",
       "      <td>A3</td>\n",
       "      <td>B3</td>\n",
       "      <td>C3</td>\n",
       "      <td>D3</td>\n",
       "    </tr>\n",
       "  </tbody>\n",
       "</table>\n",
       "</div>"
      ],
      "text/plain": [
       "  key   A   B   C   D\n",
       "0  K0  A0  B0  C0  D0\n",
       "1  K1  A1  B1  C1  D1\n",
       "2  K2  A2  B2  C2  D2\n",
       "3  K3  A3  B3  C3  D3"
      ]
     },
     "execution_count": 606,
     "metadata": {},
     "output_type": "execute_result"
    }
   ],
   "source": [
    "result"
   ]
  },
  {
   "cell_type": "code",
   "execution_count": 607,
   "id": "26d22946",
   "metadata": {},
   "outputs": [],
   "source": [
    "left = pd.DataFrame(\n",
    "   {\n",
    "      \"key1\": [\"K0\", \"K0\", \"K1\", \"K2\"],\n",
    "      \"key2\": [\"K0\", \"K1\", \"K0\", \"K1\"],\n",
    "      \"A\": [\"A0\", \"A1\", \"A2\", \"A3\"],\n",
    "      \"B\": [\"B0\", \"B1\", \"B2\", \"B3\"],\n",
    "   }\n",
    ")\n",
    "\n",
    "\n",
    "right = pd.DataFrame(\n",
    "   {\n",
    "      \"key1\": [\"K0\", \"K1\", \"K1\", \"K2\"],\n",
    "      \"key2\": [\"K0\", \"K0\", \"K0\", \"K0\"],\n",
    "      \"C\": [\"C0\", \"C1\", \"C2\", \"C3\"],\n",
    "      \"D\": [\"D0\", \"D1\", \"D2\", \"D3\"],\n",
    "   }\n",
    ")"
   ]
  },
  {
   "cell_type": "code",
   "execution_count": 608,
   "id": "693fbb85",
   "metadata": {},
   "outputs": [
    {
     "data": {
      "application/vnd.microsoft.datawrangler.viewer.v0+json": {
       "columns": [
        {
         "name": "index",
         "rawType": "int64",
         "type": "integer"
        },
        {
         "name": "key1",
         "rawType": "object",
         "type": "string"
        },
        {
         "name": "key2",
         "rawType": "object",
         "type": "string"
        },
        {
         "name": "A",
         "rawType": "object",
         "type": "string"
        },
        {
         "name": "B",
         "rawType": "object",
         "type": "string"
        }
       ],
       "ref": "664ebb8f-93e2-421b-91e6-ba5a04631503",
       "rows": [
        [
         "0",
         "K0",
         "K0",
         "A0",
         "B0"
        ],
        [
         "1",
         "K0",
         "K1",
         "A1",
         "B1"
        ],
        [
         "2",
         "K1",
         "K0",
         "A2",
         "B2"
        ],
        [
         "3",
         "K2",
         "K1",
         "A3",
         "B3"
        ]
       ],
       "shape": {
        "columns": 4,
        "rows": 4
       }
      },
      "text/html": [
       "<div>\n",
       "<style scoped>\n",
       "    .dataframe tbody tr th:only-of-type {\n",
       "        vertical-align: middle;\n",
       "    }\n",
       "\n",
       "    .dataframe tbody tr th {\n",
       "        vertical-align: top;\n",
       "    }\n",
       "\n",
       "    .dataframe thead th {\n",
       "        text-align: right;\n",
       "    }\n",
       "</style>\n",
       "<table border=\"1\" class=\"dataframe\">\n",
       "  <thead>\n",
       "    <tr style=\"text-align: right;\">\n",
       "      <th></th>\n",
       "      <th>key1</th>\n",
       "      <th>key2</th>\n",
       "      <th>A</th>\n",
       "      <th>B</th>\n",
       "    </tr>\n",
       "  </thead>\n",
       "  <tbody>\n",
       "    <tr>\n",
       "      <th>0</th>\n",
       "      <td>K0</td>\n",
       "      <td>K0</td>\n",
       "      <td>A0</td>\n",
       "      <td>B0</td>\n",
       "    </tr>\n",
       "    <tr>\n",
       "      <th>1</th>\n",
       "      <td>K0</td>\n",
       "      <td>K1</td>\n",
       "      <td>A1</td>\n",
       "      <td>B1</td>\n",
       "    </tr>\n",
       "    <tr>\n",
       "      <th>2</th>\n",
       "      <td>K1</td>\n",
       "      <td>K0</td>\n",
       "      <td>A2</td>\n",
       "      <td>B2</td>\n",
       "    </tr>\n",
       "    <tr>\n",
       "      <th>3</th>\n",
       "      <td>K2</td>\n",
       "      <td>K1</td>\n",
       "      <td>A3</td>\n",
       "      <td>B3</td>\n",
       "    </tr>\n",
       "  </tbody>\n",
       "</table>\n",
       "</div>"
      ],
      "text/plain": [
       "  key1 key2   A   B\n",
       "0   K0   K0  A0  B0\n",
       "1   K0   K1  A1  B1\n",
       "2   K1   K0  A2  B2\n",
       "3   K2   K1  A3  B3"
      ]
     },
     "execution_count": 608,
     "metadata": {},
     "output_type": "execute_result"
    }
   ],
   "source": [
    "left"
   ]
  },
  {
   "cell_type": "code",
   "execution_count": 609,
   "id": "ac09daf9",
   "metadata": {},
   "outputs": [
    {
     "data": {
      "application/vnd.microsoft.datawrangler.viewer.v0+json": {
       "columns": [
        {
         "name": "index",
         "rawType": "int64",
         "type": "integer"
        },
        {
         "name": "key1",
         "rawType": "object",
         "type": "string"
        },
        {
         "name": "key2",
         "rawType": "object",
         "type": "string"
        },
        {
         "name": "C",
         "rawType": "object",
         "type": "string"
        },
        {
         "name": "D",
         "rawType": "object",
         "type": "string"
        }
       ],
       "ref": "797c84ed-4f54-485d-99d8-aa26164a5957",
       "rows": [
        [
         "0",
         "K0",
         "K0",
         "C0",
         "D0"
        ],
        [
         "1",
         "K1",
         "K0",
         "C1",
         "D1"
        ],
        [
         "2",
         "K1",
         "K0",
         "C2",
         "D2"
        ],
        [
         "3",
         "K2",
         "K0",
         "C3",
         "D3"
        ]
       ],
       "shape": {
        "columns": 4,
        "rows": 4
       }
      },
      "text/html": [
       "<div>\n",
       "<style scoped>\n",
       "    .dataframe tbody tr th:only-of-type {\n",
       "        vertical-align: middle;\n",
       "    }\n",
       "\n",
       "    .dataframe tbody tr th {\n",
       "        vertical-align: top;\n",
       "    }\n",
       "\n",
       "    .dataframe thead th {\n",
       "        text-align: right;\n",
       "    }\n",
       "</style>\n",
       "<table border=\"1\" class=\"dataframe\">\n",
       "  <thead>\n",
       "    <tr style=\"text-align: right;\">\n",
       "      <th></th>\n",
       "      <th>key1</th>\n",
       "      <th>key2</th>\n",
       "      <th>C</th>\n",
       "      <th>D</th>\n",
       "    </tr>\n",
       "  </thead>\n",
       "  <tbody>\n",
       "    <tr>\n",
       "      <th>0</th>\n",
       "      <td>K0</td>\n",
       "      <td>K0</td>\n",
       "      <td>C0</td>\n",
       "      <td>D0</td>\n",
       "    </tr>\n",
       "    <tr>\n",
       "      <th>1</th>\n",
       "      <td>K1</td>\n",
       "      <td>K0</td>\n",
       "      <td>C1</td>\n",
       "      <td>D1</td>\n",
       "    </tr>\n",
       "    <tr>\n",
       "      <th>2</th>\n",
       "      <td>K1</td>\n",
       "      <td>K0</td>\n",
       "      <td>C2</td>\n",
       "      <td>D2</td>\n",
       "    </tr>\n",
       "    <tr>\n",
       "      <th>3</th>\n",
       "      <td>K2</td>\n",
       "      <td>K0</td>\n",
       "      <td>C3</td>\n",
       "      <td>D3</td>\n",
       "    </tr>\n",
       "  </tbody>\n",
       "</table>\n",
       "</div>"
      ],
      "text/plain": [
       "  key1 key2   C   D\n",
       "0   K0   K0  C0  D0\n",
       "1   K1   K0  C1  D1\n",
       "2   K1   K0  C2  D2\n",
       "3   K2   K0  C3  D3"
      ]
     },
     "execution_count": 609,
     "metadata": {},
     "output_type": "execute_result"
    }
   ],
   "source": [
    "right"
   ]
  },
  {
   "cell_type": "code",
   "execution_count": 610,
   "id": "97d98b89",
   "metadata": {},
   "outputs": [],
   "source": [
    "result = pd.merge(left, right, how='left', on=['key1', 'key2'])"
   ]
  },
  {
   "cell_type": "code",
   "execution_count": 611,
   "id": "8bda4b05",
   "metadata": {},
   "outputs": [
    {
     "data": {
      "application/vnd.microsoft.datawrangler.viewer.v0+json": {
       "columns": [
        {
         "name": "index",
         "rawType": "int64",
         "type": "integer"
        },
        {
         "name": "key1",
         "rawType": "object",
         "type": "string"
        },
        {
         "name": "key2",
         "rawType": "object",
         "type": "string"
        },
        {
         "name": "A",
         "rawType": "object",
         "type": "string"
        },
        {
         "name": "B",
         "rawType": "object",
         "type": "string"
        },
        {
         "name": "C",
         "rawType": "object",
         "type": "unknown"
        },
        {
         "name": "D",
         "rawType": "object",
         "type": "unknown"
        }
       ],
       "ref": "9d666297-3963-442c-b64a-bface17272ef",
       "rows": [
        [
         "0",
         "K0",
         "K0",
         "A0",
         "B0",
         "C0",
         "D0"
        ],
        [
         "1",
         "K0",
         "K1",
         "A1",
         "B1",
         null,
         null
        ],
        [
         "2",
         "K1",
         "K0",
         "A2",
         "B2",
         "C1",
         "D1"
        ],
        [
         "3",
         "K1",
         "K0",
         "A2",
         "B2",
         "C2",
         "D2"
        ],
        [
         "4",
         "K2",
         "K1",
         "A3",
         "B3",
         null,
         null
        ]
       ],
       "shape": {
        "columns": 6,
        "rows": 5
       }
      },
      "text/html": [
       "<div>\n",
       "<style scoped>\n",
       "    .dataframe tbody tr th:only-of-type {\n",
       "        vertical-align: middle;\n",
       "    }\n",
       "\n",
       "    .dataframe tbody tr th {\n",
       "        vertical-align: top;\n",
       "    }\n",
       "\n",
       "    .dataframe thead th {\n",
       "        text-align: right;\n",
       "    }\n",
       "</style>\n",
       "<table border=\"1\" class=\"dataframe\">\n",
       "  <thead>\n",
       "    <tr style=\"text-align: right;\">\n",
       "      <th></th>\n",
       "      <th>key1</th>\n",
       "      <th>key2</th>\n",
       "      <th>A</th>\n",
       "      <th>B</th>\n",
       "      <th>C</th>\n",
       "      <th>D</th>\n",
       "    </tr>\n",
       "  </thead>\n",
       "  <tbody>\n",
       "    <tr>\n",
       "      <th>0</th>\n",
       "      <td>K0</td>\n",
       "      <td>K0</td>\n",
       "      <td>A0</td>\n",
       "      <td>B0</td>\n",
       "      <td>C0</td>\n",
       "      <td>D0</td>\n",
       "    </tr>\n",
       "    <tr>\n",
       "      <th>1</th>\n",
       "      <td>K0</td>\n",
       "      <td>K1</td>\n",
       "      <td>A1</td>\n",
       "      <td>B1</td>\n",
       "      <td>NaN</td>\n",
       "      <td>NaN</td>\n",
       "    </tr>\n",
       "    <tr>\n",
       "      <th>2</th>\n",
       "      <td>K1</td>\n",
       "      <td>K0</td>\n",
       "      <td>A2</td>\n",
       "      <td>B2</td>\n",
       "      <td>C1</td>\n",
       "      <td>D1</td>\n",
       "    </tr>\n",
       "    <tr>\n",
       "      <th>3</th>\n",
       "      <td>K1</td>\n",
       "      <td>K0</td>\n",
       "      <td>A2</td>\n",
       "      <td>B2</td>\n",
       "      <td>C2</td>\n",
       "      <td>D2</td>\n",
       "    </tr>\n",
       "    <tr>\n",
       "      <th>4</th>\n",
       "      <td>K2</td>\n",
       "      <td>K1</td>\n",
       "      <td>A3</td>\n",
       "      <td>B3</td>\n",
       "      <td>NaN</td>\n",
       "      <td>NaN</td>\n",
       "    </tr>\n",
       "  </tbody>\n",
       "</table>\n",
       "</div>"
      ],
      "text/plain": [
       "  key1 key2   A   B    C    D\n",
       "0   K0   K0  A0  B0   C0   D0\n",
       "1   K0   K1  A1  B1  NaN  NaN\n",
       "2   K1   K0  A2  B2   C1   D1\n",
       "3   K1   K0  A2  B2   C2   D2\n",
       "4   K2   K1  A3  B3  NaN  NaN"
      ]
     },
     "execution_count": 611,
     "metadata": {},
     "output_type": "execute_result"
    }
   ],
   "source": [
    "result"
   ]
  },
  {
   "cell_type": "code",
   "execution_count": 612,
   "id": "6da85204",
   "metadata": {},
   "outputs": [],
   "source": [
    "result_out = pd.merge(left, right, how='outer', on=['key1', 'key2'])"
   ]
  },
  {
   "cell_type": "code",
   "execution_count": 613,
   "id": "f32dda10",
   "metadata": {},
   "outputs": [
    {
     "data": {
      "application/vnd.microsoft.datawrangler.viewer.v0+json": {
       "columns": [
        {
         "name": "index",
         "rawType": "int64",
         "type": "integer"
        },
        {
         "name": "key1",
         "rawType": "object",
         "type": "string"
        },
        {
         "name": "key2",
         "rawType": "object",
         "type": "string"
        },
        {
         "name": "A",
         "rawType": "object",
         "type": "unknown"
        },
        {
         "name": "B",
         "rawType": "object",
         "type": "unknown"
        },
        {
         "name": "C",
         "rawType": "object",
         "type": "unknown"
        },
        {
         "name": "D",
         "rawType": "object",
         "type": "unknown"
        }
       ],
       "ref": "b78d4166-ee5c-4107-814e-5f299a407626",
       "rows": [
        [
         "0",
         "K0",
         "K0",
         "A0",
         "B0",
         "C0",
         "D0"
        ],
        [
         "1",
         "K0",
         "K1",
         "A1",
         "B1",
         null,
         null
        ],
        [
         "2",
         "K1",
         "K0",
         "A2",
         "B2",
         "C1",
         "D1"
        ],
        [
         "3",
         "K1",
         "K0",
         "A2",
         "B2",
         "C2",
         "D2"
        ],
        [
         "4",
         "K2",
         "K0",
         null,
         null,
         "C3",
         "D3"
        ],
        [
         "5",
         "K2",
         "K1",
         "A3",
         "B3",
         null,
         null
        ]
       ],
       "shape": {
        "columns": 6,
        "rows": 6
       }
      },
      "text/html": [
       "<div>\n",
       "<style scoped>\n",
       "    .dataframe tbody tr th:only-of-type {\n",
       "        vertical-align: middle;\n",
       "    }\n",
       "\n",
       "    .dataframe tbody tr th {\n",
       "        vertical-align: top;\n",
       "    }\n",
       "\n",
       "    .dataframe thead th {\n",
       "        text-align: right;\n",
       "    }\n",
       "</style>\n",
       "<table border=\"1\" class=\"dataframe\">\n",
       "  <thead>\n",
       "    <tr style=\"text-align: right;\">\n",
       "      <th></th>\n",
       "      <th>key1</th>\n",
       "      <th>key2</th>\n",
       "      <th>A</th>\n",
       "      <th>B</th>\n",
       "      <th>C</th>\n",
       "      <th>D</th>\n",
       "    </tr>\n",
       "  </thead>\n",
       "  <tbody>\n",
       "    <tr>\n",
       "      <th>0</th>\n",
       "      <td>K0</td>\n",
       "      <td>K0</td>\n",
       "      <td>A0</td>\n",
       "      <td>B0</td>\n",
       "      <td>C0</td>\n",
       "      <td>D0</td>\n",
       "    </tr>\n",
       "    <tr>\n",
       "      <th>1</th>\n",
       "      <td>K0</td>\n",
       "      <td>K1</td>\n",
       "      <td>A1</td>\n",
       "      <td>B1</td>\n",
       "      <td>NaN</td>\n",
       "      <td>NaN</td>\n",
       "    </tr>\n",
       "    <tr>\n",
       "      <th>2</th>\n",
       "      <td>K1</td>\n",
       "      <td>K0</td>\n",
       "      <td>A2</td>\n",
       "      <td>B2</td>\n",
       "      <td>C1</td>\n",
       "      <td>D1</td>\n",
       "    </tr>\n",
       "    <tr>\n",
       "      <th>3</th>\n",
       "      <td>K1</td>\n",
       "      <td>K0</td>\n",
       "      <td>A2</td>\n",
       "      <td>B2</td>\n",
       "      <td>C2</td>\n",
       "      <td>D2</td>\n",
       "    </tr>\n",
       "    <tr>\n",
       "      <th>4</th>\n",
       "      <td>K2</td>\n",
       "      <td>K0</td>\n",
       "      <td>NaN</td>\n",
       "      <td>NaN</td>\n",
       "      <td>C3</td>\n",
       "      <td>D3</td>\n",
       "    </tr>\n",
       "    <tr>\n",
       "      <th>5</th>\n",
       "      <td>K2</td>\n",
       "      <td>K1</td>\n",
       "      <td>A3</td>\n",
       "      <td>B3</td>\n",
       "      <td>NaN</td>\n",
       "      <td>NaN</td>\n",
       "    </tr>\n",
       "  </tbody>\n",
       "</table>\n",
       "</div>"
      ],
      "text/plain": [
       "  key1 key2    A    B    C    D\n",
       "0   K0   K0   A0   B0   C0   D0\n",
       "1   K0   K1   A1   B1  NaN  NaN\n",
       "2   K1   K0   A2   B2   C1   D1\n",
       "3   K1   K0   A2   B2   C2   D2\n",
       "4   K2   K0  NaN  NaN   C3   D3\n",
       "5   K2   K1   A3   B3  NaN  NaN"
      ]
     },
     "execution_count": 613,
     "metadata": {},
     "output_type": "execute_result"
    }
   ],
   "source": [
    "result_out"
   ]
  },
  {
   "cell_type": "code",
   "execution_count": 614,
   "id": "8762f800",
   "metadata": {},
   "outputs": [],
   "source": [
    "left = pd.DataFrame({\"A\": [1, 2], \"B\": [2, 2]})\n",
    "\n",
    "right = pd.DataFrame({\"A\": [4, 5, 6], \"B\": [2, 2, 2]})"
   ]
  },
  {
   "cell_type": "code",
   "execution_count": 615,
   "id": "ccb6bec3",
   "metadata": {},
   "outputs": [
    {
     "data": {
      "application/vnd.microsoft.datawrangler.viewer.v0+json": {
       "columns": [
        {
         "name": "index",
         "rawType": "int64",
         "type": "integer"
        },
        {
         "name": "A",
         "rawType": "int64",
         "type": "integer"
        },
        {
         "name": "B",
         "rawType": "int64",
         "type": "integer"
        }
       ],
       "ref": "0d13f599-6980-4958-9997-560506b784db",
       "rows": [
        [
         "0",
         "1",
         "2"
        ],
        [
         "1",
         "2",
         "2"
        ]
       ],
       "shape": {
        "columns": 2,
        "rows": 2
       }
      },
      "text/html": [
       "<div>\n",
       "<style scoped>\n",
       "    .dataframe tbody tr th:only-of-type {\n",
       "        vertical-align: middle;\n",
       "    }\n",
       "\n",
       "    .dataframe tbody tr th {\n",
       "        vertical-align: top;\n",
       "    }\n",
       "\n",
       "    .dataframe thead th {\n",
       "        text-align: right;\n",
       "    }\n",
       "</style>\n",
       "<table border=\"1\" class=\"dataframe\">\n",
       "  <thead>\n",
       "    <tr style=\"text-align: right;\">\n",
       "      <th></th>\n",
       "      <th>A</th>\n",
       "      <th>B</th>\n",
       "    </tr>\n",
       "  </thead>\n",
       "  <tbody>\n",
       "    <tr>\n",
       "      <th>0</th>\n",
       "      <td>1</td>\n",
       "      <td>2</td>\n",
       "    </tr>\n",
       "    <tr>\n",
       "      <th>1</th>\n",
       "      <td>2</td>\n",
       "      <td>2</td>\n",
       "    </tr>\n",
       "  </tbody>\n",
       "</table>\n",
       "</div>"
      ],
      "text/plain": [
       "   A  B\n",
       "0  1  2\n",
       "1  2  2"
      ]
     },
     "execution_count": 615,
     "metadata": {},
     "output_type": "execute_result"
    }
   ],
   "source": [
    "left"
   ]
  },
  {
   "cell_type": "code",
   "execution_count": 616,
   "id": "c9bf82e0",
   "metadata": {},
   "outputs": [
    {
     "data": {
      "application/vnd.microsoft.datawrangler.viewer.v0+json": {
       "columns": [
        {
         "name": "index",
         "rawType": "int64",
         "type": "integer"
        },
        {
         "name": "A",
         "rawType": "int64",
         "type": "integer"
        },
        {
         "name": "B",
         "rawType": "int64",
         "type": "integer"
        }
       ],
       "ref": "9d406a55-edb1-46f5-9fc1-50904470d7fb",
       "rows": [
        [
         "0",
         "4",
         "2"
        ],
        [
         "1",
         "5",
         "2"
        ],
        [
         "2",
         "6",
         "2"
        ]
       ],
       "shape": {
        "columns": 2,
        "rows": 3
       }
      },
      "text/html": [
       "<div>\n",
       "<style scoped>\n",
       "    .dataframe tbody tr th:only-of-type {\n",
       "        vertical-align: middle;\n",
       "    }\n",
       "\n",
       "    .dataframe tbody tr th {\n",
       "        vertical-align: top;\n",
       "    }\n",
       "\n",
       "    .dataframe thead th {\n",
       "        text-align: right;\n",
       "    }\n",
       "</style>\n",
       "<table border=\"1\" class=\"dataframe\">\n",
       "  <thead>\n",
       "    <tr style=\"text-align: right;\">\n",
       "      <th></th>\n",
       "      <th>A</th>\n",
       "      <th>B</th>\n",
       "    </tr>\n",
       "  </thead>\n",
       "  <tbody>\n",
       "    <tr>\n",
       "      <th>0</th>\n",
       "      <td>4</td>\n",
       "      <td>2</td>\n",
       "    </tr>\n",
       "    <tr>\n",
       "      <th>1</th>\n",
       "      <td>5</td>\n",
       "      <td>2</td>\n",
       "    </tr>\n",
       "    <tr>\n",
       "      <th>2</th>\n",
       "      <td>6</td>\n",
       "      <td>2</td>\n",
       "    </tr>\n",
       "  </tbody>\n",
       "</table>\n",
       "</div>"
      ],
      "text/plain": [
       "   A  B\n",
       "0  4  2\n",
       "1  5  2\n",
       "2  6  2"
      ]
     },
     "execution_count": 616,
     "metadata": {},
     "output_type": "execute_result"
    }
   ],
   "source": [
    "right"
   ]
  },
  {
   "cell_type": "code",
   "execution_count": 617,
   "id": "7906b402",
   "metadata": {},
   "outputs": [],
   "source": [
    "df1 = pd.DataFrame({\"col1\": [0, 1], \"col_left\": [\"a\", \"b\"]})\n",
    "\n",
    "df2 = pd.DataFrame({\"col1\": [1, 2, 2], \"col_right\": [2, 2, 2]})"
   ]
  },
  {
   "cell_type": "code",
   "execution_count": 618,
   "id": "ca6135c3",
   "metadata": {},
   "outputs": [
    {
     "data": {
      "application/vnd.microsoft.datawrangler.viewer.v0+json": {
       "columns": [
        {
         "name": "index",
         "rawType": "int64",
         "type": "integer"
        },
        {
         "name": "col1",
         "rawType": "int64",
         "type": "integer"
        },
        {
         "name": "col_left",
         "rawType": "object",
         "type": "string"
        }
       ],
       "ref": "7d6784dd-f7e1-4316-93bc-2f94e8c390c9",
       "rows": [
        [
         "0",
         "0",
         "a"
        ],
        [
         "1",
         "1",
         "b"
        ]
       ],
       "shape": {
        "columns": 2,
        "rows": 2
       }
      },
      "text/html": [
       "<div>\n",
       "<style scoped>\n",
       "    .dataframe tbody tr th:only-of-type {\n",
       "        vertical-align: middle;\n",
       "    }\n",
       "\n",
       "    .dataframe tbody tr th {\n",
       "        vertical-align: top;\n",
       "    }\n",
       "\n",
       "    .dataframe thead th {\n",
       "        text-align: right;\n",
       "    }\n",
       "</style>\n",
       "<table border=\"1\" class=\"dataframe\">\n",
       "  <thead>\n",
       "    <tr style=\"text-align: right;\">\n",
       "      <th></th>\n",
       "      <th>col1</th>\n",
       "      <th>col_left</th>\n",
       "    </tr>\n",
       "  </thead>\n",
       "  <tbody>\n",
       "    <tr>\n",
       "      <th>0</th>\n",
       "      <td>0</td>\n",
       "      <td>a</td>\n",
       "    </tr>\n",
       "    <tr>\n",
       "      <th>1</th>\n",
       "      <td>1</td>\n",
       "      <td>b</td>\n",
       "    </tr>\n",
       "  </tbody>\n",
       "</table>\n",
       "</div>"
      ],
      "text/plain": [
       "   col1 col_left\n",
       "0     0        a\n",
       "1     1        b"
      ]
     },
     "execution_count": 618,
     "metadata": {},
     "output_type": "execute_result"
    }
   ],
   "source": [
    "df1"
   ]
  },
  {
   "cell_type": "code",
   "execution_count": 619,
   "id": "f16b2808",
   "metadata": {},
   "outputs": [
    {
     "data": {
      "application/vnd.microsoft.datawrangler.viewer.v0+json": {
       "columns": [
        {
         "name": "index",
         "rawType": "int64",
         "type": "integer"
        },
        {
         "name": "col1",
         "rawType": "int64",
         "type": "integer"
        },
        {
         "name": "col_right",
         "rawType": "int64",
         "type": "integer"
        }
       ],
       "ref": "5d29cffb-a16f-419e-bf36-f8b077583ac1",
       "rows": [
        [
         "0",
         "1",
         "2"
        ],
        [
         "1",
         "2",
         "2"
        ],
        [
         "2",
         "2",
         "2"
        ]
       ],
       "shape": {
        "columns": 2,
        "rows": 3
       }
      },
      "text/html": [
       "<div>\n",
       "<style scoped>\n",
       "    .dataframe tbody tr th:only-of-type {\n",
       "        vertical-align: middle;\n",
       "    }\n",
       "\n",
       "    .dataframe tbody tr th {\n",
       "        vertical-align: top;\n",
       "    }\n",
       "\n",
       "    .dataframe thead th {\n",
       "        text-align: right;\n",
       "    }\n",
       "</style>\n",
       "<table border=\"1\" class=\"dataframe\">\n",
       "  <thead>\n",
       "    <tr style=\"text-align: right;\">\n",
       "      <th></th>\n",
       "      <th>col1</th>\n",
       "      <th>col_right</th>\n",
       "    </tr>\n",
       "  </thead>\n",
       "  <tbody>\n",
       "    <tr>\n",
       "      <th>0</th>\n",
       "      <td>1</td>\n",
       "      <td>2</td>\n",
       "    </tr>\n",
       "    <tr>\n",
       "      <th>1</th>\n",
       "      <td>2</td>\n",
       "      <td>2</td>\n",
       "    </tr>\n",
       "    <tr>\n",
       "      <th>2</th>\n",
       "      <td>2</td>\n",
       "      <td>2</td>\n",
       "    </tr>\n",
       "  </tbody>\n",
       "</table>\n",
       "</div>"
      ],
      "text/plain": [
       "   col1  col_right\n",
       "0     1          2\n",
       "1     2          2\n",
       "2     2          2"
      ]
     },
     "execution_count": 619,
     "metadata": {},
     "output_type": "execute_result"
    }
   ],
   "source": [
    "df2"
   ]
  },
  {
   "cell_type": "code",
   "execution_count": 620,
   "id": "98dbe1db",
   "metadata": {},
   "outputs": [
    {
     "data": {
      "application/vnd.microsoft.datawrangler.viewer.v0+json": {
       "columns": [
        {
         "name": "index",
         "rawType": "int64",
         "type": "integer"
        },
        {
         "name": "col1",
         "rawType": "int64",
         "type": "integer"
        },
        {
         "name": "col_left",
         "rawType": "object",
         "type": "unknown"
        },
        {
         "name": "col_right",
         "rawType": "float64",
         "type": "float"
        },
        {
         "name": "_merge",
         "rawType": "category",
         "type": "unknown"
        }
       ],
       "ref": "4a279900-e1de-4302-abe6-529f51126f5a",
       "rows": [
        [
         "0",
         "0",
         "a",
         null,
         "left_only"
        ],
        [
         "1",
         "1",
         "b",
         "2.0",
         "both"
        ],
        [
         "2",
         "2",
         null,
         "2.0",
         "right_only"
        ],
        [
         "3",
         "2",
         null,
         "2.0",
         "right_only"
        ]
       ],
       "shape": {
        "columns": 4,
        "rows": 4
       }
      },
      "text/html": [
       "<div>\n",
       "<style scoped>\n",
       "    .dataframe tbody tr th:only-of-type {\n",
       "        vertical-align: middle;\n",
       "    }\n",
       "\n",
       "    .dataframe tbody tr th {\n",
       "        vertical-align: top;\n",
       "    }\n",
       "\n",
       "    .dataframe thead th {\n",
       "        text-align: right;\n",
       "    }\n",
       "</style>\n",
       "<table border=\"1\" class=\"dataframe\">\n",
       "  <thead>\n",
       "    <tr style=\"text-align: right;\">\n",
       "      <th></th>\n",
       "      <th>col1</th>\n",
       "      <th>col_left</th>\n",
       "      <th>col_right</th>\n",
       "      <th>_merge</th>\n",
       "    </tr>\n",
       "  </thead>\n",
       "  <tbody>\n",
       "    <tr>\n",
       "      <th>0</th>\n",
       "      <td>0</td>\n",
       "      <td>a</td>\n",
       "      <td>NaN</td>\n",
       "      <td>left_only</td>\n",
       "    </tr>\n",
       "    <tr>\n",
       "      <th>1</th>\n",
       "      <td>1</td>\n",
       "      <td>b</td>\n",
       "      <td>2.0</td>\n",
       "      <td>both</td>\n",
       "    </tr>\n",
       "    <tr>\n",
       "      <th>2</th>\n",
       "      <td>2</td>\n",
       "      <td>NaN</td>\n",
       "      <td>2.0</td>\n",
       "      <td>right_only</td>\n",
       "    </tr>\n",
       "    <tr>\n",
       "      <th>3</th>\n",
       "      <td>2</td>\n",
       "      <td>NaN</td>\n",
       "      <td>2.0</td>\n",
       "      <td>right_only</td>\n",
       "    </tr>\n",
       "  </tbody>\n",
       "</table>\n",
       "</div>"
      ],
      "text/plain": [
       "   col1 col_left  col_right      _merge\n",
       "0     0        a        NaN   left_only\n",
       "1     1        b        2.0        both\n",
       "2     2      NaN        2.0  right_only\n",
       "3     2      NaN        2.0  right_only"
      ]
     },
     "execution_count": 620,
     "metadata": {},
     "output_type": "execute_result"
    }
   ],
   "source": [
    "pd.merge(df1, df2, on='col1', how='outer', indicator=True)"
   ]
  },
  {
   "cell_type": "code",
   "execution_count": 621,
   "id": "06989211",
   "metadata": {},
   "outputs": [
    {
     "data": {
      "application/vnd.microsoft.datawrangler.viewer.v0+json": {
       "columns": [
        {
         "name": "index",
         "rawType": "int64",
         "type": "integer"
        },
        {
         "name": "col1",
         "rawType": "int64",
         "type": "integer"
        },
        {
         "name": "col_left",
         "rawType": "object",
         "type": "unknown"
        },
        {
         "name": "col_right",
         "rawType": "float64",
         "type": "float"
        },
        {
         "name": "Check",
         "rawType": "category",
         "type": "unknown"
        }
       ],
       "ref": "4443c05e-21ce-4946-890c-8e7c91d06832",
       "rows": [
        [
         "0",
         "0",
         "a",
         null,
         "left_only"
        ],
        [
         "1",
         "1",
         "b",
         "2.0",
         "both"
        ],
        [
         "2",
         "2",
         null,
         "2.0",
         "right_only"
        ],
        [
         "3",
         "2",
         null,
         "2.0",
         "right_only"
        ]
       ],
       "shape": {
        "columns": 4,
        "rows": 4
       }
      },
      "text/html": [
       "<div>\n",
       "<style scoped>\n",
       "    .dataframe tbody tr th:only-of-type {\n",
       "        vertical-align: middle;\n",
       "    }\n",
       "\n",
       "    .dataframe tbody tr th {\n",
       "        vertical-align: top;\n",
       "    }\n",
       "\n",
       "    .dataframe thead th {\n",
       "        text-align: right;\n",
       "    }\n",
       "</style>\n",
       "<table border=\"1\" class=\"dataframe\">\n",
       "  <thead>\n",
       "    <tr style=\"text-align: right;\">\n",
       "      <th></th>\n",
       "      <th>col1</th>\n",
       "      <th>col_left</th>\n",
       "      <th>col_right</th>\n",
       "      <th>Check</th>\n",
       "    </tr>\n",
       "  </thead>\n",
       "  <tbody>\n",
       "    <tr>\n",
       "      <th>0</th>\n",
       "      <td>0</td>\n",
       "      <td>a</td>\n",
       "      <td>NaN</td>\n",
       "      <td>left_only</td>\n",
       "    </tr>\n",
       "    <tr>\n",
       "      <th>1</th>\n",
       "      <td>1</td>\n",
       "      <td>b</td>\n",
       "      <td>2.0</td>\n",
       "      <td>both</td>\n",
       "    </tr>\n",
       "    <tr>\n",
       "      <th>2</th>\n",
       "      <td>2</td>\n",
       "      <td>NaN</td>\n",
       "      <td>2.0</td>\n",
       "      <td>right_only</td>\n",
       "    </tr>\n",
       "    <tr>\n",
       "      <th>3</th>\n",
       "      <td>2</td>\n",
       "      <td>NaN</td>\n",
       "      <td>2.0</td>\n",
       "      <td>right_only</td>\n",
       "    </tr>\n",
       "  </tbody>\n",
       "</table>\n",
       "</div>"
      ],
      "text/plain": [
       "   col1 col_left  col_right       Check\n",
       "0     0        a        NaN   left_only\n",
       "1     1        b        2.0        both\n",
       "2     2      NaN        2.0  right_only\n",
       "3     2      NaN        2.0  right_only"
      ]
     },
     "execution_count": 621,
     "metadata": {},
     "output_type": "execute_result"
    }
   ],
   "source": [
    "pd.merge(df1, df2, on='col1', how='outer', indicator=\"Check\")"
   ]
  },
  {
   "cell_type": "code",
   "execution_count": 622,
   "id": "0aa7e8ea",
   "metadata": {},
   "outputs": [],
   "source": [
    "left = pd.DataFrame({\"k\": [\"K0\", \"K1\", \"K2\"], \"v\": [1, 2, 3]})\n",
    "\n",
    "right = pd.DataFrame({\"k\": [\"K0\", \"K0\", \"K3\"], \"v\": [4, 5, 6]})"
   ]
  },
  {
   "cell_type": "code",
   "execution_count": 623,
   "id": "7677cb23",
   "metadata": {},
   "outputs": [
    {
     "data": {
      "application/vnd.microsoft.datawrangler.viewer.v0+json": {
       "columns": [
        {
         "name": "index",
         "rawType": "int64",
         "type": "integer"
        },
        {
         "name": "k",
         "rawType": "object",
         "type": "string"
        },
        {
         "name": "v",
         "rawType": "int64",
         "type": "integer"
        }
       ],
       "ref": "1be7ad99-ca26-4025-ab45-8dc022204398",
       "rows": [
        [
         "0",
         "K0",
         "1"
        ],
        [
         "1",
         "K1",
         "2"
        ],
        [
         "2",
         "K2",
         "3"
        ]
       ],
       "shape": {
        "columns": 2,
        "rows": 3
       }
      },
      "text/html": [
       "<div>\n",
       "<style scoped>\n",
       "    .dataframe tbody tr th:only-of-type {\n",
       "        vertical-align: middle;\n",
       "    }\n",
       "\n",
       "    .dataframe tbody tr th {\n",
       "        vertical-align: top;\n",
       "    }\n",
       "\n",
       "    .dataframe thead th {\n",
       "        text-align: right;\n",
       "    }\n",
       "</style>\n",
       "<table border=\"1\" class=\"dataframe\">\n",
       "  <thead>\n",
       "    <tr style=\"text-align: right;\">\n",
       "      <th></th>\n",
       "      <th>k</th>\n",
       "      <th>v</th>\n",
       "    </tr>\n",
       "  </thead>\n",
       "  <tbody>\n",
       "    <tr>\n",
       "      <th>0</th>\n",
       "      <td>K0</td>\n",
       "      <td>1</td>\n",
       "    </tr>\n",
       "    <tr>\n",
       "      <th>1</th>\n",
       "      <td>K1</td>\n",
       "      <td>2</td>\n",
       "    </tr>\n",
       "    <tr>\n",
       "      <th>2</th>\n",
       "      <td>K2</td>\n",
       "      <td>3</td>\n",
       "    </tr>\n",
       "  </tbody>\n",
       "</table>\n",
       "</div>"
      ],
      "text/plain": [
       "    k  v\n",
       "0  K0  1\n",
       "1  K1  2\n",
       "2  K2  3"
      ]
     },
     "execution_count": 623,
     "metadata": {},
     "output_type": "execute_result"
    }
   ],
   "source": [
    "left"
   ]
  },
  {
   "cell_type": "code",
   "execution_count": 624,
   "id": "e8ca4306",
   "metadata": {},
   "outputs": [
    {
     "data": {
      "application/vnd.microsoft.datawrangler.viewer.v0+json": {
       "columns": [
        {
         "name": "index",
         "rawType": "int64",
         "type": "integer"
        },
        {
         "name": "k",
         "rawType": "object",
         "type": "string"
        },
        {
         "name": "v",
         "rawType": "int64",
         "type": "integer"
        }
       ],
       "ref": "2949e77a-f5f8-4677-92b1-9b96da759ae0",
       "rows": [
        [
         "0",
         "K0",
         "4"
        ],
        [
         "1",
         "K0",
         "5"
        ],
        [
         "2",
         "K3",
         "6"
        ]
       ],
       "shape": {
        "columns": 2,
        "rows": 3
       }
      },
      "text/html": [
       "<div>\n",
       "<style scoped>\n",
       "    .dataframe tbody tr th:only-of-type {\n",
       "        vertical-align: middle;\n",
       "    }\n",
       "\n",
       "    .dataframe tbody tr th {\n",
       "        vertical-align: top;\n",
       "    }\n",
       "\n",
       "    .dataframe thead th {\n",
       "        text-align: right;\n",
       "    }\n",
       "</style>\n",
       "<table border=\"1\" class=\"dataframe\">\n",
       "  <thead>\n",
       "    <tr style=\"text-align: right;\">\n",
       "      <th></th>\n",
       "      <th>k</th>\n",
       "      <th>v</th>\n",
       "    </tr>\n",
       "  </thead>\n",
       "  <tbody>\n",
       "    <tr>\n",
       "      <th>0</th>\n",
       "      <td>K0</td>\n",
       "      <td>4</td>\n",
       "    </tr>\n",
       "    <tr>\n",
       "      <th>1</th>\n",
       "      <td>K0</td>\n",
       "      <td>5</td>\n",
       "    </tr>\n",
       "    <tr>\n",
       "      <th>2</th>\n",
       "      <td>K3</td>\n",
       "      <td>6</td>\n",
       "    </tr>\n",
       "  </tbody>\n",
       "</table>\n",
       "</div>"
      ],
      "text/plain": [
       "    k  v\n",
       "0  K0  4\n",
       "1  K0  5\n",
       "2  K3  6"
      ]
     },
     "execution_count": 624,
     "metadata": {},
     "output_type": "execute_result"
    }
   ],
   "source": [
    "right"
   ]
  },
  {
   "cell_type": "code",
   "execution_count": 625,
   "id": "1b304c2e",
   "metadata": {},
   "outputs": [
    {
     "data": {
      "application/vnd.microsoft.datawrangler.viewer.v0+json": {
       "columns": [
        {
         "name": "index",
         "rawType": "int64",
         "type": "integer"
        },
        {
         "name": "k",
         "rawType": "object",
         "type": "string"
        },
        {
         "name": "v_x",
         "rawType": "int64",
         "type": "integer"
        },
        {
         "name": "v_y",
         "rawType": "int64",
         "type": "integer"
        }
       ],
       "ref": "50bcb884-0693-4233-9890-d1ac0355b2b2",
       "rows": [
        [
         "0",
         "K0",
         "1",
         "4"
        ],
        [
         "1",
         "K0",
         "1",
         "5"
        ]
       ],
       "shape": {
        "columns": 3,
        "rows": 2
       }
      },
      "text/html": [
       "<div>\n",
       "<style scoped>\n",
       "    .dataframe tbody tr th:only-of-type {\n",
       "        vertical-align: middle;\n",
       "    }\n",
       "\n",
       "    .dataframe tbody tr th {\n",
       "        vertical-align: top;\n",
       "    }\n",
       "\n",
       "    .dataframe thead th {\n",
       "        text-align: right;\n",
       "    }\n",
       "</style>\n",
       "<table border=\"1\" class=\"dataframe\">\n",
       "  <thead>\n",
       "    <tr style=\"text-align: right;\">\n",
       "      <th></th>\n",
       "      <th>k</th>\n",
       "      <th>v_x</th>\n",
       "      <th>v_y</th>\n",
       "    </tr>\n",
       "  </thead>\n",
       "  <tbody>\n",
       "    <tr>\n",
       "      <th>0</th>\n",
       "      <td>K0</td>\n",
       "      <td>1</td>\n",
       "      <td>4</td>\n",
       "    </tr>\n",
       "    <tr>\n",
       "      <th>1</th>\n",
       "      <td>K0</td>\n",
       "      <td>1</td>\n",
       "      <td>5</td>\n",
       "    </tr>\n",
       "  </tbody>\n",
       "</table>\n",
       "</div>"
      ],
      "text/plain": [
       "    k  v_x  v_y\n",
       "0  K0    1    4\n",
       "1  K0    1    5"
      ]
     },
     "execution_count": 625,
     "metadata": {},
     "output_type": "execute_result"
    }
   ],
   "source": [
    "pd.merge(left, right, on='k')"
   ]
  },
  {
   "cell_type": "code",
   "execution_count": 626,
   "id": "b73dd35e",
   "metadata": {},
   "outputs": [
    {
     "data": {
      "application/vnd.microsoft.datawrangler.viewer.v0+json": {
       "columns": [
        {
         "name": "index",
         "rawType": "int64",
         "type": "integer"
        },
        {
         "name": "k",
         "rawType": "object",
         "type": "string"
        },
        {
         "name": "v_left",
         "rawType": "int64",
         "type": "integer"
        },
        {
         "name": "v_right",
         "rawType": "int64",
         "type": "integer"
        }
       ],
       "ref": "bd657fd4-060b-47b9-90e4-481bb34fcfee",
       "rows": [
        [
         "0",
         "K0",
         "1",
         "4"
        ],
        [
         "1",
         "K0",
         "1",
         "5"
        ]
       ],
       "shape": {
        "columns": 3,
        "rows": 2
       }
      },
      "text/html": [
       "<div>\n",
       "<style scoped>\n",
       "    .dataframe tbody tr th:only-of-type {\n",
       "        vertical-align: middle;\n",
       "    }\n",
       "\n",
       "    .dataframe tbody tr th {\n",
       "        vertical-align: top;\n",
       "    }\n",
       "\n",
       "    .dataframe thead th {\n",
       "        text-align: right;\n",
       "    }\n",
       "</style>\n",
       "<table border=\"1\" class=\"dataframe\">\n",
       "  <thead>\n",
       "    <tr style=\"text-align: right;\">\n",
       "      <th></th>\n",
       "      <th>k</th>\n",
       "      <th>v_left</th>\n",
       "      <th>v_right</th>\n",
       "    </tr>\n",
       "  </thead>\n",
       "  <tbody>\n",
       "    <tr>\n",
       "      <th>0</th>\n",
       "      <td>K0</td>\n",
       "      <td>1</td>\n",
       "      <td>4</td>\n",
       "    </tr>\n",
       "    <tr>\n",
       "      <th>1</th>\n",
       "      <td>K0</td>\n",
       "      <td>1</td>\n",
       "      <td>5</td>\n",
       "    </tr>\n",
       "  </tbody>\n",
       "</table>\n",
       "</div>"
      ],
      "text/plain": [
       "    k  v_left  v_right\n",
       "0  K0       1        4\n",
       "1  K0       1        5"
      ]
     },
     "execution_count": 626,
     "metadata": {},
     "output_type": "execute_result"
    }
   ],
   "source": [
    "pd.merge(left, right, on='k', suffixes=('_left', '_right'))"
   ]
  },
  {
   "cell_type": "code",
   "execution_count": 627,
   "id": "89162483",
   "metadata": {},
   "outputs": [],
   "source": [
    "left = pd.DataFrame(\n",
    "    {\"A\": [\"A0\", \"A1\", \"A2\"], \"B\": [\"B0\", \"B1\", \"B2\"]}, index=[\"K0\", \"K1\", \"K2\"]\n",
    ")\n",
    "\n",
    "\n",
    "right = pd.DataFrame(\n",
    "    {\"C\": [\"C0\", \"C2\", \"C3\"], \"D\": [\"D0\", \"D2\", \"D3\"]}, index=[\"K0\", \"K2\", \"K3\"]\n",
    ")"
   ]
  },
  {
   "cell_type": "code",
   "execution_count": 628,
   "id": "a4354ec7",
   "metadata": {},
   "outputs": [
    {
     "data": {
      "application/vnd.microsoft.datawrangler.viewer.v0+json": {
       "columns": [
        {
         "name": "index",
         "rawType": "object",
         "type": "string"
        },
        {
         "name": "A",
         "rawType": "object",
         "type": "string"
        },
        {
         "name": "B",
         "rawType": "object",
         "type": "string"
        }
       ],
       "ref": "8af56d43-197c-428c-9eb7-a2fd9338282b",
       "rows": [
        [
         "K0",
         "A0",
         "B0"
        ],
        [
         "K1",
         "A1",
         "B1"
        ],
        [
         "K2",
         "A2",
         "B2"
        ]
       ],
       "shape": {
        "columns": 2,
        "rows": 3
       }
      },
      "text/html": [
       "<div>\n",
       "<style scoped>\n",
       "    .dataframe tbody tr th:only-of-type {\n",
       "        vertical-align: middle;\n",
       "    }\n",
       "\n",
       "    .dataframe tbody tr th {\n",
       "        vertical-align: top;\n",
       "    }\n",
       "\n",
       "    .dataframe thead th {\n",
       "        text-align: right;\n",
       "    }\n",
       "</style>\n",
       "<table border=\"1\" class=\"dataframe\">\n",
       "  <thead>\n",
       "    <tr style=\"text-align: right;\">\n",
       "      <th></th>\n",
       "      <th>A</th>\n",
       "      <th>B</th>\n",
       "    </tr>\n",
       "  </thead>\n",
       "  <tbody>\n",
       "    <tr>\n",
       "      <th>K0</th>\n",
       "      <td>A0</td>\n",
       "      <td>B0</td>\n",
       "    </tr>\n",
       "    <tr>\n",
       "      <th>K1</th>\n",
       "      <td>A1</td>\n",
       "      <td>B1</td>\n",
       "    </tr>\n",
       "    <tr>\n",
       "      <th>K2</th>\n",
       "      <td>A2</td>\n",
       "      <td>B2</td>\n",
       "    </tr>\n",
       "  </tbody>\n",
       "</table>\n",
       "</div>"
      ],
      "text/plain": [
       "     A   B\n",
       "K0  A0  B0\n",
       "K1  A1  B1\n",
       "K2  A2  B2"
      ]
     },
     "execution_count": 628,
     "metadata": {},
     "output_type": "execute_result"
    }
   ],
   "source": [
    "left"
   ]
  },
  {
   "cell_type": "code",
   "execution_count": 629,
   "id": "142396c8",
   "metadata": {},
   "outputs": [
    {
     "data": {
      "application/vnd.microsoft.datawrangler.viewer.v0+json": {
       "columns": [
        {
         "name": "index",
         "rawType": "object",
         "type": "string"
        },
        {
         "name": "C",
         "rawType": "object",
         "type": "string"
        },
        {
         "name": "D",
         "rawType": "object",
         "type": "string"
        }
       ],
       "ref": "18486157-5e38-4618-a23c-26451fc37aa0",
       "rows": [
        [
         "K0",
         "C0",
         "D0"
        ],
        [
         "K2",
         "C2",
         "D2"
        ],
        [
         "K3",
         "C3",
         "D3"
        ]
       ],
       "shape": {
        "columns": 2,
        "rows": 3
       }
      },
      "text/html": [
       "<div>\n",
       "<style scoped>\n",
       "    .dataframe tbody tr th:only-of-type {\n",
       "        vertical-align: middle;\n",
       "    }\n",
       "\n",
       "    .dataframe tbody tr th {\n",
       "        vertical-align: top;\n",
       "    }\n",
       "\n",
       "    .dataframe thead th {\n",
       "        text-align: right;\n",
       "    }\n",
       "</style>\n",
       "<table border=\"1\" class=\"dataframe\">\n",
       "  <thead>\n",
       "    <tr style=\"text-align: right;\">\n",
       "      <th></th>\n",
       "      <th>C</th>\n",
       "      <th>D</th>\n",
       "    </tr>\n",
       "  </thead>\n",
       "  <tbody>\n",
       "    <tr>\n",
       "      <th>K0</th>\n",
       "      <td>C0</td>\n",
       "      <td>D0</td>\n",
       "    </tr>\n",
       "    <tr>\n",
       "      <th>K2</th>\n",
       "      <td>C2</td>\n",
       "      <td>D2</td>\n",
       "    </tr>\n",
       "    <tr>\n",
       "      <th>K3</th>\n",
       "      <td>C3</td>\n",
       "      <td>D3</td>\n",
       "    </tr>\n",
       "  </tbody>\n",
       "</table>\n",
       "</div>"
      ],
      "text/plain": [
       "     C   D\n",
       "K0  C0  D0\n",
       "K2  C2  D2\n",
       "K3  C3  D3"
      ]
     },
     "execution_count": 629,
     "metadata": {},
     "output_type": "execute_result"
    }
   ],
   "source": [
    "right"
   ]
  },
  {
   "cell_type": "code",
   "execution_count": 630,
   "id": "39ff3fce",
   "metadata": {},
   "outputs": [
    {
     "data": {
      "application/vnd.microsoft.datawrangler.viewer.v0+json": {
       "columns": [
        {
         "name": "index",
         "rawType": "object",
         "type": "string"
        },
        {
         "name": "A",
         "rawType": "object",
         "type": "string"
        },
        {
         "name": "B",
         "rawType": "object",
         "type": "string"
        },
        {
         "name": "C",
         "rawType": "object",
         "type": "unknown"
        },
        {
         "name": "D",
         "rawType": "object",
         "type": "unknown"
        }
       ],
       "ref": "49eacfee-8532-4154-93f3-59ac0b12c196",
       "rows": [
        [
         "K0",
         "A0",
         "B0",
         "C0",
         "D0"
        ],
        [
         "K1",
         "A1",
         "B1",
         null,
         null
        ],
        [
         "K2",
         "A2",
         "B2",
         "C2",
         "D2"
        ]
       ],
       "shape": {
        "columns": 4,
        "rows": 3
       }
      },
      "text/html": [
       "<div>\n",
       "<style scoped>\n",
       "    .dataframe tbody tr th:only-of-type {\n",
       "        vertical-align: middle;\n",
       "    }\n",
       "\n",
       "    .dataframe tbody tr th {\n",
       "        vertical-align: top;\n",
       "    }\n",
       "\n",
       "    .dataframe thead th {\n",
       "        text-align: right;\n",
       "    }\n",
       "</style>\n",
       "<table border=\"1\" class=\"dataframe\">\n",
       "  <thead>\n",
       "    <tr style=\"text-align: right;\">\n",
       "      <th></th>\n",
       "      <th>A</th>\n",
       "      <th>B</th>\n",
       "      <th>C</th>\n",
       "      <th>D</th>\n",
       "    </tr>\n",
       "  </thead>\n",
       "  <tbody>\n",
       "    <tr>\n",
       "      <th>K0</th>\n",
       "      <td>A0</td>\n",
       "      <td>B0</td>\n",
       "      <td>C0</td>\n",
       "      <td>D0</td>\n",
       "    </tr>\n",
       "    <tr>\n",
       "      <th>K1</th>\n",
       "      <td>A1</td>\n",
       "      <td>B1</td>\n",
       "      <td>NaN</td>\n",
       "      <td>NaN</td>\n",
       "    </tr>\n",
       "    <tr>\n",
       "      <th>K2</th>\n",
       "      <td>A2</td>\n",
       "      <td>B2</td>\n",
       "      <td>C2</td>\n",
       "      <td>D2</td>\n",
       "    </tr>\n",
       "  </tbody>\n",
       "</table>\n",
       "</div>"
      ],
      "text/plain": [
       "     A   B    C    D\n",
       "K0  A0  B0   C0   D0\n",
       "K1  A1  B1  NaN  NaN\n",
       "K2  A2  B2   C2   D2"
      ]
     },
     "execution_count": 630,
     "metadata": {},
     "output_type": "execute_result"
    }
   ],
   "source": [
    "left.join(right)"
   ]
  },
  {
   "cell_type": "code",
   "execution_count": 631,
   "id": "5cd5acf3",
   "metadata": {},
   "outputs": [
    {
     "data": {
      "application/vnd.microsoft.datawrangler.viewer.v0+json": {
       "columns": [
        {
         "name": "index",
         "rawType": "object",
         "type": "string"
        },
        {
         "name": "A",
         "rawType": "object",
         "type": "unknown"
        },
        {
         "name": "B",
         "rawType": "object",
         "type": "unknown"
        },
        {
         "name": "C",
         "rawType": "object",
         "type": "unknown"
        },
        {
         "name": "D",
         "rawType": "object",
         "type": "unknown"
        }
       ],
       "ref": "65278873-b09a-4da6-8fd0-bdf1f5df4dc9",
       "rows": [
        [
         "K0",
         "A0",
         "B0",
         "C0",
         "D0"
        ],
        [
         "K1",
         "A1",
         "B1",
         null,
         null
        ],
        [
         "K2",
         "A2",
         "B2",
         "C2",
         "D2"
        ],
        [
         "K3",
         null,
         null,
         "C3",
         "D3"
        ]
       ],
       "shape": {
        "columns": 4,
        "rows": 4
       }
      },
      "text/html": [
       "<div>\n",
       "<style scoped>\n",
       "    .dataframe tbody tr th:only-of-type {\n",
       "        vertical-align: middle;\n",
       "    }\n",
       "\n",
       "    .dataframe tbody tr th {\n",
       "        vertical-align: top;\n",
       "    }\n",
       "\n",
       "    .dataframe thead th {\n",
       "        text-align: right;\n",
       "    }\n",
       "</style>\n",
       "<table border=\"1\" class=\"dataframe\">\n",
       "  <thead>\n",
       "    <tr style=\"text-align: right;\">\n",
       "      <th></th>\n",
       "      <th>A</th>\n",
       "      <th>B</th>\n",
       "      <th>C</th>\n",
       "      <th>D</th>\n",
       "    </tr>\n",
       "  </thead>\n",
       "  <tbody>\n",
       "    <tr>\n",
       "      <th>K0</th>\n",
       "      <td>A0</td>\n",
       "      <td>B0</td>\n",
       "      <td>C0</td>\n",
       "      <td>D0</td>\n",
       "    </tr>\n",
       "    <tr>\n",
       "      <th>K1</th>\n",
       "      <td>A1</td>\n",
       "      <td>B1</td>\n",
       "      <td>NaN</td>\n",
       "      <td>NaN</td>\n",
       "    </tr>\n",
       "    <tr>\n",
       "      <th>K2</th>\n",
       "      <td>A2</td>\n",
       "      <td>B2</td>\n",
       "      <td>C2</td>\n",
       "      <td>D2</td>\n",
       "    </tr>\n",
       "    <tr>\n",
       "      <th>K3</th>\n",
       "      <td>NaN</td>\n",
       "      <td>NaN</td>\n",
       "      <td>C3</td>\n",
       "      <td>D3</td>\n",
       "    </tr>\n",
       "  </tbody>\n",
       "</table>\n",
       "</div>"
      ],
      "text/plain": [
       "      A    B    C    D\n",
       "K0   A0   B0   C0   D0\n",
       "K1   A1   B1  NaN  NaN\n",
       "K2   A2   B2   C2   D2\n",
       "K3  NaN  NaN   C3   D3"
      ]
     },
     "execution_count": 631,
     "metadata": {},
     "output_type": "execute_result"
    }
   ],
   "source": [
    "left.join(right, how='outer')"
   ]
  },
  {
   "cell_type": "code",
   "execution_count": 632,
   "id": "16e92a32",
   "metadata": {},
   "outputs": [],
   "source": [
    "left = pd.DataFrame(\n",
    "    {\n",
    "        \"A\": [\"A0\", \"A1\", \"A2\", \"A3\"],\n",
    "        \"B\": [\"B0\", \"B1\", \"B2\", \"B3\"],\n",
    "        \"key\": [\"K0\", \"K1\", \"K0\", \"K1\"],\n",
    "    }\n",
    ")\n",
    "\n",
    "\n",
    "right = pd.DataFrame({\"C\": [\"C0\", \"C1\"], \"D\": [\"D0\", \"D1\"]}, index=[\"K0\", \"K1\"])"
   ]
  },
  {
   "cell_type": "code",
   "execution_count": 633,
   "id": "dd739cfe",
   "metadata": {},
   "outputs": [
    {
     "data": {
      "application/vnd.microsoft.datawrangler.viewer.v0+json": {
       "columns": [
        {
         "name": "index",
         "rawType": "int64",
         "type": "integer"
        },
        {
         "name": "A",
         "rawType": "object",
         "type": "string"
        },
        {
         "name": "B",
         "rawType": "object",
         "type": "string"
        },
        {
         "name": "key",
         "rawType": "object",
         "type": "string"
        }
       ],
       "ref": "2305c148-3d06-46e3-a911-a37b3869189d",
       "rows": [
        [
         "0",
         "A0",
         "B0",
         "K0"
        ],
        [
         "1",
         "A1",
         "B1",
         "K1"
        ],
        [
         "2",
         "A2",
         "B2",
         "K0"
        ],
        [
         "3",
         "A3",
         "B3",
         "K1"
        ]
       ],
       "shape": {
        "columns": 3,
        "rows": 4
       }
      },
      "text/html": [
       "<div>\n",
       "<style scoped>\n",
       "    .dataframe tbody tr th:only-of-type {\n",
       "        vertical-align: middle;\n",
       "    }\n",
       "\n",
       "    .dataframe tbody tr th {\n",
       "        vertical-align: top;\n",
       "    }\n",
       "\n",
       "    .dataframe thead th {\n",
       "        text-align: right;\n",
       "    }\n",
       "</style>\n",
       "<table border=\"1\" class=\"dataframe\">\n",
       "  <thead>\n",
       "    <tr style=\"text-align: right;\">\n",
       "      <th></th>\n",
       "      <th>A</th>\n",
       "      <th>B</th>\n",
       "      <th>key</th>\n",
       "    </tr>\n",
       "  </thead>\n",
       "  <tbody>\n",
       "    <tr>\n",
       "      <th>0</th>\n",
       "      <td>A0</td>\n",
       "      <td>B0</td>\n",
       "      <td>K0</td>\n",
       "    </tr>\n",
       "    <tr>\n",
       "      <th>1</th>\n",
       "      <td>A1</td>\n",
       "      <td>B1</td>\n",
       "      <td>K1</td>\n",
       "    </tr>\n",
       "    <tr>\n",
       "      <th>2</th>\n",
       "      <td>A2</td>\n",
       "      <td>B2</td>\n",
       "      <td>K0</td>\n",
       "    </tr>\n",
       "    <tr>\n",
       "      <th>3</th>\n",
       "      <td>A3</td>\n",
       "      <td>B3</td>\n",
       "      <td>K1</td>\n",
       "    </tr>\n",
       "  </tbody>\n",
       "</table>\n",
       "</div>"
      ],
      "text/plain": [
       "    A   B key\n",
       "0  A0  B0  K0\n",
       "1  A1  B1  K1\n",
       "2  A2  B2  K0\n",
       "3  A3  B3  K1"
      ]
     },
     "execution_count": 633,
     "metadata": {},
     "output_type": "execute_result"
    }
   ],
   "source": [
    "left"
   ]
  },
  {
   "cell_type": "code",
   "execution_count": 634,
   "id": "279b97a7",
   "metadata": {},
   "outputs": [
    {
     "data": {
      "application/vnd.microsoft.datawrangler.viewer.v0+json": {
       "columns": [
        {
         "name": "index",
         "rawType": "object",
         "type": "string"
        },
        {
         "name": "C",
         "rawType": "object",
         "type": "string"
        },
        {
         "name": "D",
         "rawType": "object",
         "type": "string"
        }
       ],
       "ref": "d3352c9e-a8b9-40a3-a1c6-e65e27283359",
       "rows": [
        [
         "K0",
         "C0",
         "D0"
        ],
        [
         "K1",
         "C1",
         "D1"
        ]
       ],
       "shape": {
        "columns": 2,
        "rows": 2
       }
      },
      "text/html": [
       "<div>\n",
       "<style scoped>\n",
       "    .dataframe tbody tr th:only-of-type {\n",
       "        vertical-align: middle;\n",
       "    }\n",
       "\n",
       "    .dataframe tbody tr th {\n",
       "        vertical-align: top;\n",
       "    }\n",
       "\n",
       "    .dataframe thead th {\n",
       "        text-align: right;\n",
       "    }\n",
       "</style>\n",
       "<table border=\"1\" class=\"dataframe\">\n",
       "  <thead>\n",
       "    <tr style=\"text-align: right;\">\n",
       "      <th></th>\n",
       "      <th>C</th>\n",
       "      <th>D</th>\n",
       "    </tr>\n",
       "  </thead>\n",
       "  <tbody>\n",
       "    <tr>\n",
       "      <th>K0</th>\n",
       "      <td>C0</td>\n",
       "      <td>D0</td>\n",
       "    </tr>\n",
       "    <tr>\n",
       "      <th>K1</th>\n",
       "      <td>C1</td>\n",
       "      <td>D1</td>\n",
       "    </tr>\n",
       "  </tbody>\n",
       "</table>\n",
       "</div>"
      ],
      "text/plain": [
       "     C   D\n",
       "K0  C0  D0\n",
       "K1  C1  D1"
      ]
     },
     "execution_count": 634,
     "metadata": {},
     "output_type": "execute_result"
    }
   ],
   "source": [
    "right"
   ]
  },
  {
   "cell_type": "code",
   "execution_count": 635,
   "id": "863d9079",
   "metadata": {},
   "outputs": [
    {
     "data": {
      "application/vnd.microsoft.datawrangler.viewer.v0+json": {
       "columns": [
        {
         "name": "index",
         "rawType": "int64",
         "type": "integer"
        },
        {
         "name": "A",
         "rawType": "object",
         "type": "string"
        },
        {
         "name": "B",
         "rawType": "object",
         "type": "string"
        },
        {
         "name": "key",
         "rawType": "object",
         "type": "string"
        },
        {
         "name": "C",
         "rawType": "object",
         "type": "string"
        },
        {
         "name": "D",
         "rawType": "object",
         "type": "string"
        }
       ],
       "ref": "2ca9794a-f1d2-4495-a958-7b827e6f233c",
       "rows": [
        [
         "0",
         "A0",
         "B0",
         "K0",
         "C0",
         "D0"
        ],
        [
         "1",
         "A1",
         "B1",
         "K1",
         "C1",
         "D1"
        ],
        [
         "2",
         "A2",
         "B2",
         "K0",
         "C0",
         "D0"
        ],
        [
         "3",
         "A3",
         "B3",
         "K1",
         "C1",
         "D1"
        ]
       ],
       "shape": {
        "columns": 5,
        "rows": 4
       }
      },
      "text/html": [
       "<div>\n",
       "<style scoped>\n",
       "    .dataframe tbody tr th:only-of-type {\n",
       "        vertical-align: middle;\n",
       "    }\n",
       "\n",
       "    .dataframe tbody tr th {\n",
       "        vertical-align: top;\n",
       "    }\n",
       "\n",
       "    .dataframe thead th {\n",
       "        text-align: right;\n",
       "    }\n",
       "</style>\n",
       "<table border=\"1\" class=\"dataframe\">\n",
       "  <thead>\n",
       "    <tr style=\"text-align: right;\">\n",
       "      <th></th>\n",
       "      <th>A</th>\n",
       "      <th>B</th>\n",
       "      <th>key</th>\n",
       "      <th>C</th>\n",
       "      <th>D</th>\n",
       "    </tr>\n",
       "  </thead>\n",
       "  <tbody>\n",
       "    <tr>\n",
       "      <th>0</th>\n",
       "      <td>A0</td>\n",
       "      <td>B0</td>\n",
       "      <td>K0</td>\n",
       "      <td>C0</td>\n",
       "      <td>D0</td>\n",
       "    </tr>\n",
       "    <tr>\n",
       "      <th>1</th>\n",
       "      <td>A1</td>\n",
       "      <td>B1</td>\n",
       "      <td>K1</td>\n",
       "      <td>C1</td>\n",
       "      <td>D1</td>\n",
       "    </tr>\n",
       "    <tr>\n",
       "      <th>2</th>\n",
       "      <td>A2</td>\n",
       "      <td>B2</td>\n",
       "      <td>K0</td>\n",
       "      <td>C0</td>\n",
       "      <td>D0</td>\n",
       "    </tr>\n",
       "    <tr>\n",
       "      <th>3</th>\n",
       "      <td>A3</td>\n",
       "      <td>B3</td>\n",
       "      <td>K1</td>\n",
       "      <td>C1</td>\n",
       "      <td>D1</td>\n",
       "    </tr>\n",
       "  </tbody>\n",
       "</table>\n",
       "</div>"
      ],
      "text/plain": [
       "    A   B key   C   D\n",
       "0  A0  B0  K0  C0  D0\n",
       "1  A1  B1  K1  C1  D1\n",
       "2  A2  B2  K0  C0  D0\n",
       "3  A3  B3  K1  C1  D1"
      ]
     },
     "execution_count": 635,
     "metadata": {},
     "output_type": "execute_result"
    }
   ],
   "source": [
    "left.join(right, on='key')"
   ]
  },
  {
   "cell_type": "code",
   "execution_count": 636,
   "id": "c89910e2",
   "metadata": {},
   "outputs": [
    {
     "data": {
      "application/vnd.microsoft.datawrangler.viewer.v0+json": {
       "columns": [
        {
         "name": "index",
         "rawType": "object",
         "type": "unknown"
        },
        {
         "name": "A",
         "rawType": "object",
         "type": "string"
        },
        {
         "name": "B",
         "rawType": "object",
         "type": "string"
        },
        {
         "name": "key",
         "rawType": "object",
         "type": "string"
        },
        {
         "name": "C",
         "rawType": "object",
         "type": "unknown"
        },
        {
         "name": "D",
         "rawType": "object",
         "type": "unknown"
        }
       ],
       "ref": "9449fae4-4ec5-42b5-96e8-ea1fc1db8d03",
       "rows": [
        [
         "0",
         "A0",
         "B0",
         "K0",
         null,
         null
        ],
        [
         "1",
         "A1",
         "B1",
         "K1",
         null,
         null
        ],
        [
         "2",
         "A2",
         "B2",
         "K0",
         null,
         null
        ],
        [
         "3",
         "A3",
         "B3",
         "K1",
         null,
         null
        ]
       ],
       "shape": {
        "columns": 5,
        "rows": 4
       }
      },
      "text/html": [
       "<div>\n",
       "<style scoped>\n",
       "    .dataframe tbody tr th:only-of-type {\n",
       "        vertical-align: middle;\n",
       "    }\n",
       "\n",
       "    .dataframe tbody tr th {\n",
       "        vertical-align: top;\n",
       "    }\n",
       "\n",
       "    .dataframe thead th {\n",
       "        text-align: right;\n",
       "    }\n",
       "</style>\n",
       "<table border=\"1\" class=\"dataframe\">\n",
       "  <thead>\n",
       "    <tr style=\"text-align: right;\">\n",
       "      <th></th>\n",
       "      <th>A</th>\n",
       "      <th>B</th>\n",
       "      <th>key</th>\n",
       "      <th>C</th>\n",
       "      <th>D</th>\n",
       "    </tr>\n",
       "  </thead>\n",
       "  <tbody>\n",
       "    <tr>\n",
       "      <th>0</th>\n",
       "      <td>A0</td>\n",
       "      <td>B0</td>\n",
       "      <td>K0</td>\n",
       "      <td>NaN</td>\n",
       "      <td>NaN</td>\n",
       "    </tr>\n",
       "    <tr>\n",
       "      <th>1</th>\n",
       "      <td>A1</td>\n",
       "      <td>B1</td>\n",
       "      <td>K1</td>\n",
       "      <td>NaN</td>\n",
       "      <td>NaN</td>\n",
       "    </tr>\n",
       "    <tr>\n",
       "      <th>2</th>\n",
       "      <td>A2</td>\n",
       "      <td>B2</td>\n",
       "      <td>K0</td>\n",
       "      <td>NaN</td>\n",
       "      <td>NaN</td>\n",
       "    </tr>\n",
       "    <tr>\n",
       "      <th>3</th>\n",
       "      <td>A3</td>\n",
       "      <td>B3</td>\n",
       "      <td>K1</td>\n",
       "      <td>NaN</td>\n",
       "      <td>NaN</td>\n",
       "    </tr>\n",
       "  </tbody>\n",
       "</table>\n",
       "</div>"
      ],
      "text/plain": [
       "    A   B key    C    D\n",
       "0  A0  B0  K0  NaN  NaN\n",
       "1  A1  B1  K1  NaN  NaN\n",
       "2  A2  B2  K0  NaN  NaN\n",
       "3  A3  B3  K1  NaN  NaN"
      ]
     },
     "execution_count": 636,
     "metadata": {},
     "output_type": "execute_result"
    }
   ],
   "source": [
    "left.join(right)"
   ]
  },
  {
   "cell_type": "code",
   "execution_count": 637,
   "id": "dc2101a5",
   "metadata": {},
   "outputs": [
    {
     "data": {
      "application/vnd.microsoft.datawrangler.viewer.v0+json": {
       "columns": [
        {
         "name": "index",
         "rawType": "int64",
         "type": "integer"
        },
        {
         "name": "A",
         "rawType": "object",
         "type": "string"
        },
        {
         "name": "B",
         "rawType": "object",
         "type": "string"
        },
        {
         "name": "key",
         "rawType": "object",
         "type": "string"
        },
        {
         "name": "C",
         "rawType": "object",
         "type": "string"
        },
        {
         "name": "D",
         "rawType": "object",
         "type": "string"
        }
       ],
       "ref": "c473da09-e16e-44ef-a735-400096cdcb32",
       "rows": [
        [
         "0",
         "A0",
         "B0",
         "K0",
         "C0",
         "D0"
        ],
        [
         "1",
         "A1",
         "B1",
         "K1",
         "C1",
         "D1"
        ],
        [
         "2",
         "A2",
         "B2",
         "K0",
         "C0",
         "D0"
        ],
        [
         "3",
         "A3",
         "B3",
         "K1",
         "C1",
         "D1"
        ]
       ],
       "shape": {
        "columns": 5,
        "rows": 4
       }
      },
      "text/html": [
       "<div>\n",
       "<style scoped>\n",
       "    .dataframe tbody tr th:only-of-type {\n",
       "        vertical-align: middle;\n",
       "    }\n",
       "\n",
       "    .dataframe tbody tr th {\n",
       "        vertical-align: top;\n",
       "    }\n",
       "\n",
       "    .dataframe thead th {\n",
       "        text-align: right;\n",
       "    }\n",
       "</style>\n",
       "<table border=\"1\" class=\"dataframe\">\n",
       "  <thead>\n",
       "    <tr style=\"text-align: right;\">\n",
       "      <th></th>\n",
       "      <th>A</th>\n",
       "      <th>B</th>\n",
       "      <th>key</th>\n",
       "      <th>C</th>\n",
       "      <th>D</th>\n",
       "    </tr>\n",
       "  </thead>\n",
       "  <tbody>\n",
       "    <tr>\n",
       "      <th>0</th>\n",
       "      <td>A0</td>\n",
       "      <td>B0</td>\n",
       "      <td>K0</td>\n",
       "      <td>C0</td>\n",
       "      <td>D0</td>\n",
       "    </tr>\n",
       "    <tr>\n",
       "      <th>1</th>\n",
       "      <td>A1</td>\n",
       "      <td>B1</td>\n",
       "      <td>K1</td>\n",
       "      <td>C1</td>\n",
       "      <td>D1</td>\n",
       "    </tr>\n",
       "    <tr>\n",
       "      <th>2</th>\n",
       "      <td>A2</td>\n",
       "      <td>B2</td>\n",
       "      <td>K0</td>\n",
       "      <td>C0</td>\n",
       "      <td>D0</td>\n",
       "    </tr>\n",
       "    <tr>\n",
       "      <th>3</th>\n",
       "      <td>A3</td>\n",
       "      <td>B3</td>\n",
       "      <td>K1</td>\n",
       "      <td>C1</td>\n",
       "      <td>D1</td>\n",
       "    </tr>\n",
       "  </tbody>\n",
       "</table>\n",
       "</div>"
      ],
      "text/plain": [
       "    A   B key   C   D\n",
       "0  A0  B0  K0  C0  D0\n",
       "1  A1  B1  K1  C1  D1\n",
       "2  A2  B2  K0  C0  D0\n",
       "3  A3  B3  K1  C1  D1"
      ]
     },
     "execution_count": 637,
     "metadata": {},
     "output_type": "execute_result"
    }
   ],
   "source": [
    "pd.merge(left, right, left_on='key', right_index=True, how='left', sort=False)"
   ]
  },
  {
   "cell_type": "code",
   "execution_count": 638,
   "id": "7e592c71",
   "metadata": {},
   "outputs": [],
   "source": [
    "left = pd.DataFrame(\n",
    "    {\n",
    "        \"A\": [\"A0\", \"A1\", \"A2\", \"A3\"],\n",
    "        \"B\": [\"B0\", \"B1\", \"B2\", \"B3\"],\n",
    "        \"key1\": [\"K0\", \"K0\", \"K1\", \"K2\"],\n",
    "        \"key2\": [\"K0\", \"K1\", \"K0\", \"K1\"],\n",
    "    }\n",
    ")\n",
    "\n",
    "\n",
    "index = pd.MultiIndex.from_tuples(\n",
    "    [(\"K0\", \"K0\"), (\"K1\", \"K0\"), (\"K2\", \"K0\"), (\"K2\", \"K1\")]\n",
    ")\n",
    "\n",
    "\n",
    "right = pd.DataFrame(\n",
    "    {\"C\": [\"C0\", \"C1\", \"C2\", \"C3\"], \"D\": [\"D0\", \"D1\", \"D2\", \"D3\"]}, index=index\n",
    ")\n"
   ]
  },
  {
   "cell_type": "code",
   "execution_count": 639,
   "id": "4b33681e",
   "metadata": {},
   "outputs": [
    {
     "data": {
      "application/vnd.microsoft.datawrangler.viewer.v0+json": {
       "columns": [
        {
         "name": "index",
         "rawType": "int64",
         "type": "integer"
        },
        {
         "name": "A",
         "rawType": "object",
         "type": "string"
        },
        {
         "name": "B",
         "rawType": "object",
         "type": "string"
        },
        {
         "name": "key1",
         "rawType": "object",
         "type": "string"
        },
        {
         "name": "key2",
         "rawType": "object",
         "type": "string"
        }
       ],
       "ref": "4c7e460c-96b7-48da-9ae8-ea7d73f7eb5a",
       "rows": [
        [
         "0",
         "A0",
         "B0",
         "K0",
         "K0"
        ],
        [
         "1",
         "A1",
         "B1",
         "K0",
         "K1"
        ],
        [
         "2",
         "A2",
         "B2",
         "K1",
         "K0"
        ],
        [
         "3",
         "A3",
         "B3",
         "K2",
         "K1"
        ]
       ],
       "shape": {
        "columns": 4,
        "rows": 4
       }
      },
      "text/html": [
       "<div>\n",
       "<style scoped>\n",
       "    .dataframe tbody tr th:only-of-type {\n",
       "        vertical-align: middle;\n",
       "    }\n",
       "\n",
       "    .dataframe tbody tr th {\n",
       "        vertical-align: top;\n",
       "    }\n",
       "\n",
       "    .dataframe thead th {\n",
       "        text-align: right;\n",
       "    }\n",
       "</style>\n",
       "<table border=\"1\" class=\"dataframe\">\n",
       "  <thead>\n",
       "    <tr style=\"text-align: right;\">\n",
       "      <th></th>\n",
       "      <th>A</th>\n",
       "      <th>B</th>\n",
       "      <th>key1</th>\n",
       "      <th>key2</th>\n",
       "    </tr>\n",
       "  </thead>\n",
       "  <tbody>\n",
       "    <tr>\n",
       "      <th>0</th>\n",
       "      <td>A0</td>\n",
       "      <td>B0</td>\n",
       "      <td>K0</td>\n",
       "      <td>K0</td>\n",
       "    </tr>\n",
       "    <tr>\n",
       "      <th>1</th>\n",
       "      <td>A1</td>\n",
       "      <td>B1</td>\n",
       "      <td>K0</td>\n",
       "      <td>K1</td>\n",
       "    </tr>\n",
       "    <tr>\n",
       "      <th>2</th>\n",
       "      <td>A2</td>\n",
       "      <td>B2</td>\n",
       "      <td>K1</td>\n",
       "      <td>K0</td>\n",
       "    </tr>\n",
       "    <tr>\n",
       "      <th>3</th>\n",
       "      <td>A3</td>\n",
       "      <td>B3</td>\n",
       "      <td>K2</td>\n",
       "      <td>K1</td>\n",
       "    </tr>\n",
       "  </tbody>\n",
       "</table>\n",
       "</div>"
      ],
      "text/plain": [
       "    A   B key1 key2\n",
       "0  A0  B0   K0   K0\n",
       "1  A1  B1   K0   K1\n",
       "2  A2  B2   K1   K0\n",
       "3  A3  B3   K2   K1"
      ]
     },
     "execution_count": 639,
     "metadata": {},
     "output_type": "execute_result"
    }
   ],
   "source": [
    "left"
   ]
  },
  {
   "cell_type": "code",
   "execution_count": 640,
   "id": "2081c199",
   "metadata": {},
   "outputs": [
    {
     "data": {
      "application/vnd.microsoft.datawrangler.viewer.v0+json": {
       "columns": [
        {
         "name": "(None, None)",
         "rawType": "object",
         "type": "unknown"
        },
        {
         "name": "C",
         "rawType": "object",
         "type": "string"
        },
        {
         "name": "D",
         "rawType": "object",
         "type": "string"
        }
       ],
       "ref": "30823014-1274-446b-807f-e73014411666",
       "rows": [
        [
         "('K0', 'K0')",
         "C0",
         "D0"
        ],
        [
         "('K1', 'K0')",
         "C1",
         "D1"
        ],
        [
         "('K2', 'K0')",
         "C2",
         "D2"
        ],
        [
         "('K2', 'K1')",
         "C3",
         "D3"
        ]
       ],
       "shape": {
        "columns": 2,
        "rows": 4
       }
      },
      "text/html": [
       "<div>\n",
       "<style scoped>\n",
       "    .dataframe tbody tr th:only-of-type {\n",
       "        vertical-align: middle;\n",
       "    }\n",
       "\n",
       "    .dataframe tbody tr th {\n",
       "        vertical-align: top;\n",
       "    }\n",
       "\n",
       "    .dataframe thead th {\n",
       "        text-align: right;\n",
       "    }\n",
       "</style>\n",
       "<table border=\"1\" class=\"dataframe\">\n",
       "  <thead>\n",
       "    <tr style=\"text-align: right;\">\n",
       "      <th></th>\n",
       "      <th></th>\n",
       "      <th>C</th>\n",
       "      <th>D</th>\n",
       "    </tr>\n",
       "  </thead>\n",
       "  <tbody>\n",
       "    <tr>\n",
       "      <th>K0</th>\n",
       "      <th>K0</th>\n",
       "      <td>C0</td>\n",
       "      <td>D0</td>\n",
       "    </tr>\n",
       "    <tr>\n",
       "      <th>K1</th>\n",
       "      <th>K0</th>\n",
       "      <td>C1</td>\n",
       "      <td>D1</td>\n",
       "    </tr>\n",
       "    <tr>\n",
       "      <th rowspan=\"2\" valign=\"top\">K2</th>\n",
       "      <th>K0</th>\n",
       "      <td>C2</td>\n",
       "      <td>D2</td>\n",
       "    </tr>\n",
       "    <tr>\n",
       "      <th>K1</th>\n",
       "      <td>C3</td>\n",
       "      <td>D3</td>\n",
       "    </tr>\n",
       "  </tbody>\n",
       "</table>\n",
       "</div>"
      ],
      "text/plain": [
       "        C   D\n",
       "K0 K0  C0  D0\n",
       "K1 K0  C1  D1\n",
       "K2 K0  C2  D2\n",
       "   K1  C3  D3"
      ]
     },
     "execution_count": 640,
     "metadata": {},
     "output_type": "execute_result"
    }
   ],
   "source": [
    "right"
   ]
  },
  {
   "cell_type": "code",
   "execution_count": 641,
   "id": "8e641c08",
   "metadata": {},
   "outputs": [
    {
     "data": {
      "application/vnd.microsoft.datawrangler.viewer.v0+json": {
       "columns": [
        {
         "name": "index",
         "rawType": "int64",
         "type": "integer"
        },
        {
         "name": "A",
         "rawType": "object",
         "type": "string"
        },
        {
         "name": "B",
         "rawType": "object",
         "type": "string"
        },
        {
         "name": "key1",
         "rawType": "object",
         "type": "string"
        },
        {
         "name": "key2",
         "rawType": "object",
         "type": "string"
        },
        {
         "name": "C",
         "rawType": "object",
         "type": "unknown"
        },
        {
         "name": "D",
         "rawType": "object",
         "type": "unknown"
        }
       ],
       "ref": "c546d83e-b053-4d89-af51-2795467da3ef",
       "rows": [
        [
         "0",
         "A0",
         "B0",
         "K0",
         "K0",
         "C0",
         "D0"
        ],
        [
         "1",
         "A1",
         "B1",
         "K0",
         "K1",
         null,
         null
        ],
        [
         "2",
         "A2",
         "B2",
         "K1",
         "K0",
         "C1",
         "D1"
        ],
        [
         "3",
         "A3",
         "B3",
         "K2",
         "K1",
         "C3",
         "D3"
        ]
       ],
       "shape": {
        "columns": 6,
        "rows": 4
       }
      },
      "text/html": [
       "<div>\n",
       "<style scoped>\n",
       "    .dataframe tbody tr th:only-of-type {\n",
       "        vertical-align: middle;\n",
       "    }\n",
       "\n",
       "    .dataframe tbody tr th {\n",
       "        vertical-align: top;\n",
       "    }\n",
       "\n",
       "    .dataframe thead th {\n",
       "        text-align: right;\n",
       "    }\n",
       "</style>\n",
       "<table border=\"1\" class=\"dataframe\">\n",
       "  <thead>\n",
       "    <tr style=\"text-align: right;\">\n",
       "      <th></th>\n",
       "      <th>A</th>\n",
       "      <th>B</th>\n",
       "      <th>key1</th>\n",
       "      <th>key2</th>\n",
       "      <th>C</th>\n",
       "      <th>D</th>\n",
       "    </tr>\n",
       "  </thead>\n",
       "  <tbody>\n",
       "    <tr>\n",
       "      <th>0</th>\n",
       "      <td>A0</td>\n",
       "      <td>B0</td>\n",
       "      <td>K0</td>\n",
       "      <td>K0</td>\n",
       "      <td>C0</td>\n",
       "      <td>D0</td>\n",
       "    </tr>\n",
       "    <tr>\n",
       "      <th>1</th>\n",
       "      <td>A1</td>\n",
       "      <td>B1</td>\n",
       "      <td>K0</td>\n",
       "      <td>K1</td>\n",
       "      <td>NaN</td>\n",
       "      <td>NaN</td>\n",
       "    </tr>\n",
       "    <tr>\n",
       "      <th>2</th>\n",
       "      <td>A2</td>\n",
       "      <td>B2</td>\n",
       "      <td>K1</td>\n",
       "      <td>K0</td>\n",
       "      <td>C1</td>\n",
       "      <td>D1</td>\n",
       "    </tr>\n",
       "    <tr>\n",
       "      <th>3</th>\n",
       "      <td>A3</td>\n",
       "      <td>B3</td>\n",
       "      <td>K2</td>\n",
       "      <td>K1</td>\n",
       "      <td>C3</td>\n",
       "      <td>D3</td>\n",
       "    </tr>\n",
       "  </tbody>\n",
       "</table>\n",
       "</div>"
      ],
      "text/plain": [
       "    A   B key1 key2    C    D\n",
       "0  A0  B0   K0   K0   C0   D0\n",
       "1  A1  B1   K0   K1  NaN  NaN\n",
       "2  A2  B2   K1   K0   C1   D1\n",
       "3  A3  B3   K2   K1   C3   D3"
      ]
     },
     "execution_count": 641,
     "metadata": {},
     "output_type": "execute_result"
    }
   ],
   "source": [
    "left.join(right, on=['key1', 'key2'])"
   ]
  },
  {
   "cell_type": "code",
   "execution_count": 642,
   "id": "6d05b13e",
   "metadata": {},
   "outputs": [],
   "source": [
    "left = pd.DataFrame(\n",
    "    {\"A\": [\"A0\", \"A1\", \"A2\"], \"B\": [\"B0\", \"B1\", \"B2\"]},\n",
    "    index=pd.Index([\"K0\", \"K1\", \"K2\"], name=\"key\"),\n",
    ")\n",
    "\n",
    "\n",
    "index = pd.MultiIndex.from_tuples(\n",
    "    [(\"K0\", \"Y0\"), (\"K1\", \"Y1\"), (\"K2\", \"Y2\"), (\"K2\", \"Y3\")],\n",
    "    names=[\"key\", \"Y\"],\n",
    ")\n",
    "\n",
    "\n",
    "right = pd.DataFrame(\n",
    "    {\"C\": [\"C0\", \"C1\", \"C2\", \"C3\"], \"D\": [\"D0\", \"D1\", \"D2\", \"D3\"]},\n",
    "    index=index,\n",
    ")\n"
   ]
  },
  {
   "cell_type": "code",
   "execution_count": 643,
   "id": "cfd38b13",
   "metadata": {},
   "outputs": [
    {
     "data": {
      "application/vnd.microsoft.datawrangler.viewer.v0+json": {
       "columns": [
        {
         "name": "key",
         "rawType": "object",
         "type": "string"
        },
        {
         "name": "A",
         "rawType": "object",
         "type": "string"
        },
        {
         "name": "B",
         "rawType": "object",
         "type": "string"
        }
       ],
       "ref": "831ad4f6-7e80-4a2a-9f6b-45d93756e254",
       "rows": [
        [
         "K0",
         "A0",
         "B0"
        ],
        [
         "K1",
         "A1",
         "B1"
        ],
        [
         "K2",
         "A2",
         "B2"
        ]
       ],
       "shape": {
        "columns": 2,
        "rows": 3
       }
      },
      "text/html": [
       "<div>\n",
       "<style scoped>\n",
       "    .dataframe tbody tr th:only-of-type {\n",
       "        vertical-align: middle;\n",
       "    }\n",
       "\n",
       "    .dataframe tbody tr th {\n",
       "        vertical-align: top;\n",
       "    }\n",
       "\n",
       "    .dataframe thead th {\n",
       "        text-align: right;\n",
       "    }\n",
       "</style>\n",
       "<table border=\"1\" class=\"dataframe\">\n",
       "  <thead>\n",
       "    <tr style=\"text-align: right;\">\n",
       "      <th></th>\n",
       "      <th>A</th>\n",
       "      <th>B</th>\n",
       "    </tr>\n",
       "    <tr>\n",
       "      <th>key</th>\n",
       "      <th></th>\n",
       "      <th></th>\n",
       "    </tr>\n",
       "  </thead>\n",
       "  <tbody>\n",
       "    <tr>\n",
       "      <th>K0</th>\n",
       "      <td>A0</td>\n",
       "      <td>B0</td>\n",
       "    </tr>\n",
       "    <tr>\n",
       "      <th>K1</th>\n",
       "      <td>A1</td>\n",
       "      <td>B1</td>\n",
       "    </tr>\n",
       "    <tr>\n",
       "      <th>K2</th>\n",
       "      <td>A2</td>\n",
       "      <td>B2</td>\n",
       "    </tr>\n",
       "  </tbody>\n",
       "</table>\n",
       "</div>"
      ],
      "text/plain": [
       "      A   B\n",
       "key        \n",
       "K0   A0  B0\n",
       "K1   A1  B1\n",
       "K2   A2  B2"
      ]
     },
     "execution_count": 643,
     "metadata": {},
     "output_type": "execute_result"
    }
   ],
   "source": [
    "left"
   ]
  },
  {
   "cell_type": "code",
   "execution_count": 644,
   "id": "1dee13f9",
   "metadata": {},
   "outputs": [
    {
     "data": {
      "application/vnd.microsoft.datawrangler.viewer.v0+json": {
       "columns": [
        {
         "name": "('key', 'Y')",
         "rawType": "object",
         "type": "unknown"
        },
        {
         "name": "C",
         "rawType": "object",
         "type": "string"
        },
        {
         "name": "D",
         "rawType": "object",
         "type": "string"
        }
       ],
       "ref": "615aaa58-7379-43b0-90d8-66a245e0f33e",
       "rows": [
        [
         "('K0', 'Y0')",
         "C0",
         "D0"
        ],
        [
         "('K1', 'Y1')",
         "C1",
         "D1"
        ],
        [
         "('K2', 'Y2')",
         "C2",
         "D2"
        ],
        [
         "('K2', 'Y3')",
         "C3",
         "D3"
        ]
       ],
       "shape": {
        "columns": 2,
        "rows": 4
       }
      },
      "text/html": [
       "<div>\n",
       "<style scoped>\n",
       "    .dataframe tbody tr th:only-of-type {\n",
       "        vertical-align: middle;\n",
       "    }\n",
       "\n",
       "    .dataframe tbody tr th {\n",
       "        vertical-align: top;\n",
       "    }\n",
       "\n",
       "    .dataframe thead th {\n",
       "        text-align: right;\n",
       "    }\n",
       "</style>\n",
       "<table border=\"1\" class=\"dataframe\">\n",
       "  <thead>\n",
       "    <tr style=\"text-align: right;\">\n",
       "      <th></th>\n",
       "      <th></th>\n",
       "      <th>C</th>\n",
       "      <th>D</th>\n",
       "    </tr>\n",
       "    <tr>\n",
       "      <th>key</th>\n",
       "      <th>Y</th>\n",
       "      <th></th>\n",
       "      <th></th>\n",
       "    </tr>\n",
       "  </thead>\n",
       "  <tbody>\n",
       "    <tr>\n",
       "      <th>K0</th>\n",
       "      <th>Y0</th>\n",
       "      <td>C0</td>\n",
       "      <td>D0</td>\n",
       "    </tr>\n",
       "    <tr>\n",
       "      <th>K1</th>\n",
       "      <th>Y1</th>\n",
       "      <td>C1</td>\n",
       "      <td>D1</td>\n",
       "    </tr>\n",
       "    <tr>\n",
       "      <th rowspan=\"2\" valign=\"top\">K2</th>\n",
       "      <th>Y2</th>\n",
       "      <td>C2</td>\n",
       "      <td>D2</td>\n",
       "    </tr>\n",
       "    <tr>\n",
       "      <th>Y3</th>\n",
       "      <td>C3</td>\n",
       "      <td>D3</td>\n",
       "    </tr>\n",
       "  </tbody>\n",
       "</table>\n",
       "</div>"
      ],
      "text/plain": [
       "         C   D\n",
       "key Y         \n",
       "K0  Y0  C0  D0\n",
       "K1  Y1  C1  D1\n",
       "K2  Y2  C2  D2\n",
       "    Y3  C3  D3"
      ]
     },
     "execution_count": 644,
     "metadata": {},
     "output_type": "execute_result"
    }
   ],
   "source": [
    "right"
   ]
  },
  {
   "cell_type": "code",
   "execution_count": 645,
   "id": "6344bf03",
   "metadata": {},
   "outputs": [
    {
     "data": {
      "application/vnd.microsoft.datawrangler.viewer.v0+json": {
       "columns": [
        {
         "name": "('key', 'Y')",
         "rawType": "object",
         "type": "unknown"
        },
        {
         "name": "A",
         "rawType": "object",
         "type": "string"
        },
        {
         "name": "B",
         "rawType": "object",
         "type": "string"
        },
        {
         "name": "C",
         "rawType": "object",
         "type": "string"
        },
        {
         "name": "D",
         "rawType": "object",
         "type": "string"
        }
       ],
       "ref": "0e8c67f0-3cb0-4a3c-b175-921148324d38",
       "rows": [
        [
         "('K0', 'Y0')",
         "A0",
         "B0",
         "C0",
         "D0"
        ],
        [
         "('K1', 'Y1')",
         "A1",
         "B1",
         "C1",
         "D1"
        ],
        [
         "('K2', 'Y2')",
         "A2",
         "B2",
         "C2",
         "D2"
        ],
        [
         "('K2', 'Y3')",
         "A2",
         "B2",
         "C3",
         "D3"
        ]
       ],
       "shape": {
        "columns": 4,
        "rows": 4
       }
      },
      "text/html": [
       "<div>\n",
       "<style scoped>\n",
       "    .dataframe tbody tr th:only-of-type {\n",
       "        vertical-align: middle;\n",
       "    }\n",
       "\n",
       "    .dataframe tbody tr th {\n",
       "        vertical-align: top;\n",
       "    }\n",
       "\n",
       "    .dataframe thead th {\n",
       "        text-align: right;\n",
       "    }\n",
       "</style>\n",
       "<table border=\"1\" class=\"dataframe\">\n",
       "  <thead>\n",
       "    <tr style=\"text-align: right;\">\n",
       "      <th></th>\n",
       "      <th></th>\n",
       "      <th>A</th>\n",
       "      <th>B</th>\n",
       "      <th>C</th>\n",
       "      <th>D</th>\n",
       "    </tr>\n",
       "    <tr>\n",
       "      <th>key</th>\n",
       "      <th>Y</th>\n",
       "      <th></th>\n",
       "      <th></th>\n",
       "      <th></th>\n",
       "      <th></th>\n",
       "    </tr>\n",
       "  </thead>\n",
       "  <tbody>\n",
       "    <tr>\n",
       "      <th>K0</th>\n",
       "      <th>Y0</th>\n",
       "      <td>A0</td>\n",
       "      <td>B0</td>\n",
       "      <td>C0</td>\n",
       "      <td>D0</td>\n",
       "    </tr>\n",
       "    <tr>\n",
       "      <th>K1</th>\n",
       "      <th>Y1</th>\n",
       "      <td>A1</td>\n",
       "      <td>B1</td>\n",
       "      <td>C1</td>\n",
       "      <td>D1</td>\n",
       "    </tr>\n",
       "    <tr>\n",
       "      <th rowspan=\"2\" valign=\"top\">K2</th>\n",
       "      <th>Y2</th>\n",
       "      <td>A2</td>\n",
       "      <td>B2</td>\n",
       "      <td>C2</td>\n",
       "      <td>D2</td>\n",
       "    </tr>\n",
       "    <tr>\n",
       "      <th>Y3</th>\n",
       "      <td>A2</td>\n",
       "      <td>B2</td>\n",
       "      <td>C3</td>\n",
       "      <td>D3</td>\n",
       "    </tr>\n",
       "  </tbody>\n",
       "</table>\n",
       "</div>"
      ],
      "text/plain": [
       "         A   B   C   D\n",
       "key Y                 \n",
       "K0  Y0  A0  B0  C0  D0\n",
       "K1  Y1  A1  B1  C1  D1\n",
       "K2  Y2  A2  B2  C2  D2\n",
       "    Y3  A2  B2  C3  D3"
      ]
     },
     "execution_count": 645,
     "metadata": {},
     "output_type": "execute_result"
    }
   ],
   "source": [
    "left.join(right, how='inner')"
   ]
  },
  {
   "cell_type": "code",
   "execution_count": 646,
   "id": "59c3cdef",
   "metadata": {},
   "outputs": [],
   "source": [
    "leftindex = pd.MultiIndex.from_tuples(\n",
    "    [(\"K0\", \"X0\"), (\"K0\", \"X1\"), (\"K1\", \"X2\")], names=[\"key\", \"X\"]\n",
    ")\n",
    "\n",
    "\n",
    "left = pd.DataFrame(\n",
    "    {\"A\": [\"A0\", \"A1\", \"A2\"], \"B\": [\"B0\", \"B1\", \"B2\"]}, index=leftindex\n",
    ")\n",
    "\n",
    "\n",
    "rightindex = pd.MultiIndex.from_tuples(\n",
    "    [(\"K0\", \"Y0\"), (\"K1\", \"Y1\"), (\"K2\", \"Y2\"), (\"K2\", \"Y3\")], names=[\"key\", \"Y\"]\n",
    ")\n",
    "\n",
    "\n",
    "right = pd.DataFrame(\n",
    "    {\"C\": [\"C0\", \"C1\", \"C2\", \"C3\"], \"D\": [\"D0\", \"D1\", \"D2\", \"D3\"]}, index=rightindex\n",
    ")"
   ]
  },
  {
   "cell_type": "code",
   "execution_count": 647,
   "id": "f543110f",
   "metadata": {},
   "outputs": [
    {
     "data": {
      "application/vnd.microsoft.datawrangler.viewer.v0+json": {
       "columns": [
        {
         "name": "('key', 'X')",
         "rawType": "object",
         "type": "unknown"
        },
        {
         "name": "A",
         "rawType": "object",
         "type": "string"
        },
        {
         "name": "B",
         "rawType": "object",
         "type": "string"
        }
       ],
       "ref": "ffb365cc-25ac-4e2a-8d13-ca9c51af6908",
       "rows": [
        [
         "('K0', 'X0')",
         "A0",
         "B0"
        ],
        [
         "('K0', 'X1')",
         "A1",
         "B1"
        ],
        [
         "('K1', 'X2')",
         "A2",
         "B2"
        ]
       ],
       "shape": {
        "columns": 2,
        "rows": 3
       }
      },
      "text/html": [
       "<div>\n",
       "<style scoped>\n",
       "    .dataframe tbody tr th:only-of-type {\n",
       "        vertical-align: middle;\n",
       "    }\n",
       "\n",
       "    .dataframe tbody tr th {\n",
       "        vertical-align: top;\n",
       "    }\n",
       "\n",
       "    .dataframe thead th {\n",
       "        text-align: right;\n",
       "    }\n",
       "</style>\n",
       "<table border=\"1\" class=\"dataframe\">\n",
       "  <thead>\n",
       "    <tr style=\"text-align: right;\">\n",
       "      <th></th>\n",
       "      <th></th>\n",
       "      <th>A</th>\n",
       "      <th>B</th>\n",
       "    </tr>\n",
       "    <tr>\n",
       "      <th>key</th>\n",
       "      <th>X</th>\n",
       "      <th></th>\n",
       "      <th></th>\n",
       "    </tr>\n",
       "  </thead>\n",
       "  <tbody>\n",
       "    <tr>\n",
       "      <th rowspan=\"2\" valign=\"top\">K0</th>\n",
       "      <th>X0</th>\n",
       "      <td>A0</td>\n",
       "      <td>B0</td>\n",
       "    </tr>\n",
       "    <tr>\n",
       "      <th>X1</th>\n",
       "      <td>A1</td>\n",
       "      <td>B1</td>\n",
       "    </tr>\n",
       "    <tr>\n",
       "      <th>K1</th>\n",
       "      <th>X2</th>\n",
       "      <td>A2</td>\n",
       "      <td>B2</td>\n",
       "    </tr>\n",
       "  </tbody>\n",
       "</table>\n",
       "</div>"
      ],
      "text/plain": [
       "         A   B\n",
       "key X         \n",
       "K0  X0  A0  B0\n",
       "    X1  A1  B1\n",
       "K1  X2  A2  B2"
      ]
     },
     "execution_count": 647,
     "metadata": {},
     "output_type": "execute_result"
    }
   ],
   "source": [
    "left"
   ]
  },
  {
   "cell_type": "code",
   "execution_count": 648,
   "id": "a7542071",
   "metadata": {},
   "outputs": [
    {
     "data": {
      "application/vnd.microsoft.datawrangler.viewer.v0+json": {
       "columns": [
        {
         "name": "('key', 'Y')",
         "rawType": "object",
         "type": "unknown"
        },
        {
         "name": "C",
         "rawType": "object",
         "type": "string"
        },
        {
         "name": "D",
         "rawType": "object",
         "type": "string"
        }
       ],
       "ref": "5ca8c037-2160-442f-8b6a-72670c39b437",
       "rows": [
        [
         "('K0', 'Y0')",
         "C0",
         "D0"
        ],
        [
         "('K1', 'Y1')",
         "C1",
         "D1"
        ],
        [
         "('K2', 'Y2')",
         "C2",
         "D2"
        ],
        [
         "('K2', 'Y3')",
         "C3",
         "D3"
        ]
       ],
       "shape": {
        "columns": 2,
        "rows": 4
       }
      },
      "text/html": [
       "<div>\n",
       "<style scoped>\n",
       "    .dataframe tbody tr th:only-of-type {\n",
       "        vertical-align: middle;\n",
       "    }\n",
       "\n",
       "    .dataframe tbody tr th {\n",
       "        vertical-align: top;\n",
       "    }\n",
       "\n",
       "    .dataframe thead th {\n",
       "        text-align: right;\n",
       "    }\n",
       "</style>\n",
       "<table border=\"1\" class=\"dataframe\">\n",
       "  <thead>\n",
       "    <tr style=\"text-align: right;\">\n",
       "      <th></th>\n",
       "      <th></th>\n",
       "      <th>C</th>\n",
       "      <th>D</th>\n",
       "    </tr>\n",
       "    <tr>\n",
       "      <th>key</th>\n",
       "      <th>Y</th>\n",
       "      <th></th>\n",
       "      <th></th>\n",
       "    </tr>\n",
       "  </thead>\n",
       "  <tbody>\n",
       "    <tr>\n",
       "      <th>K0</th>\n",
       "      <th>Y0</th>\n",
       "      <td>C0</td>\n",
       "      <td>D0</td>\n",
       "    </tr>\n",
       "    <tr>\n",
       "      <th>K1</th>\n",
       "      <th>Y1</th>\n",
       "      <td>C1</td>\n",
       "      <td>D1</td>\n",
       "    </tr>\n",
       "    <tr>\n",
       "      <th rowspan=\"2\" valign=\"top\">K2</th>\n",
       "      <th>Y2</th>\n",
       "      <td>C2</td>\n",
       "      <td>D2</td>\n",
       "    </tr>\n",
       "    <tr>\n",
       "      <th>Y3</th>\n",
       "      <td>C3</td>\n",
       "      <td>D3</td>\n",
       "    </tr>\n",
       "  </tbody>\n",
       "</table>\n",
       "</div>"
      ],
      "text/plain": [
       "         C   D\n",
       "key Y         \n",
       "K0  Y0  C0  D0\n",
       "K1  Y1  C1  D1\n",
       "K2  Y2  C2  D2\n",
       "    Y3  C3  D3"
      ]
     },
     "execution_count": 648,
     "metadata": {},
     "output_type": "execute_result"
    }
   ],
   "source": [
    "right"
   ]
  },
  {
   "cell_type": "code",
   "execution_count": 649,
   "id": "2fadbe51",
   "metadata": {},
   "outputs": [],
   "source": [
    "result = pd.merge(\n",
    "    left.reset_index(), right.reset_index(),\n",
    "    on=['key'], how='inner'\n",
    ").set_index(['key', 'X', 'Y'])"
   ]
  },
  {
   "cell_type": "code",
   "execution_count": 650,
   "id": "e4635bf4",
   "metadata": {},
   "outputs": [
    {
     "data": {
      "application/vnd.microsoft.datawrangler.viewer.v0+json": {
       "columns": [
        {
         "name": "('key', 'X', 'Y')",
         "rawType": "object",
         "type": "unknown"
        },
        {
         "name": "A",
         "rawType": "object",
         "type": "string"
        },
        {
         "name": "B",
         "rawType": "object",
         "type": "string"
        },
        {
         "name": "C",
         "rawType": "object",
         "type": "string"
        },
        {
         "name": "D",
         "rawType": "object",
         "type": "string"
        }
       ],
       "ref": "8a498848-0bd3-4cdd-9afe-c37d1e9571fd",
       "rows": [
        [
         "('K0', 'X0', 'Y0')",
         "A0",
         "B0",
         "C0",
         "D0"
        ],
        [
         "('K0', 'X1', 'Y0')",
         "A1",
         "B1",
         "C0",
         "D0"
        ],
        [
         "('K1', 'X2', 'Y1')",
         "A2",
         "B2",
         "C1",
         "D1"
        ]
       ],
       "shape": {
        "columns": 4,
        "rows": 3
       }
      },
      "text/html": [
       "<div>\n",
       "<style scoped>\n",
       "    .dataframe tbody tr th:only-of-type {\n",
       "        vertical-align: middle;\n",
       "    }\n",
       "\n",
       "    .dataframe tbody tr th {\n",
       "        vertical-align: top;\n",
       "    }\n",
       "\n",
       "    .dataframe thead th {\n",
       "        text-align: right;\n",
       "    }\n",
       "</style>\n",
       "<table border=\"1\" class=\"dataframe\">\n",
       "  <thead>\n",
       "    <tr style=\"text-align: right;\">\n",
       "      <th></th>\n",
       "      <th></th>\n",
       "      <th></th>\n",
       "      <th>A</th>\n",
       "      <th>B</th>\n",
       "      <th>C</th>\n",
       "      <th>D</th>\n",
       "    </tr>\n",
       "    <tr>\n",
       "      <th>key</th>\n",
       "      <th>X</th>\n",
       "      <th>Y</th>\n",
       "      <th></th>\n",
       "      <th></th>\n",
       "      <th></th>\n",
       "      <th></th>\n",
       "    </tr>\n",
       "  </thead>\n",
       "  <tbody>\n",
       "    <tr>\n",
       "      <th rowspan=\"2\" valign=\"top\">K0</th>\n",
       "      <th>X0</th>\n",
       "      <th>Y0</th>\n",
       "      <td>A0</td>\n",
       "      <td>B0</td>\n",
       "      <td>C0</td>\n",
       "      <td>D0</td>\n",
       "    </tr>\n",
       "    <tr>\n",
       "      <th>X1</th>\n",
       "      <th>Y0</th>\n",
       "      <td>A1</td>\n",
       "      <td>B1</td>\n",
       "      <td>C0</td>\n",
       "      <td>D0</td>\n",
       "    </tr>\n",
       "    <tr>\n",
       "      <th>K1</th>\n",
       "      <th>X2</th>\n",
       "      <th>Y1</th>\n",
       "      <td>A2</td>\n",
       "      <td>B2</td>\n",
       "      <td>C1</td>\n",
       "      <td>D1</td>\n",
       "    </tr>\n",
       "  </tbody>\n",
       "</table>\n",
       "</div>"
      ],
      "text/plain": [
       "            A   B   C   D\n",
       "key X  Y                 \n",
       "K0  X0 Y0  A0  B0  C0  D0\n",
       "    X1 Y0  A1  B1  C0  D0\n",
       "K1  X2 Y1  A2  B2  C1  D1"
      ]
     },
     "execution_count": 650,
     "metadata": {},
     "output_type": "execute_result"
    }
   ],
   "source": [
    "result"
   ]
  },
  {
   "cell_type": "code",
   "execution_count": 651,
   "id": "7f9760ef",
   "metadata": {},
   "outputs": [],
   "source": [
    "left_index = pd.Index([\"K0\", \"K0\", \"K1\", \"K2\"], name=\"key1\")\n",
    "\n",
    "left = pd.DataFrame(\n",
    "    {\n",
    "        \"A\": [\"A0\", \"A1\", \"A2\", \"A3\"],\n",
    "        \"B\": [\"B0\", \"B1\", \"B2\", \"B3\"],\n",
    "        \"key2\": [\"K0\", \"K1\", \"K0\", \"K1\"],\n",
    "    },\n",
    "    index=left_index,\n",
    ")\n",
    "\n",
    "\n",
    "right_index = pd.Index([\"K0\", \"K1\", \"K2\", \"K2\"], name=\"key1\")\n",
    "\n",
    "right = pd.DataFrame(\n",
    "    {\n",
    "        \"C\": [\"C0\", \"C1\", \"C2\", \"C3\"],\n",
    "        \"D\": [\"D0\", \"D1\", \"D2\", \"D3\"],\n",
    "        \"key2\": [\"K0\", \"K0\", \"K0\", \"K1\"],\n",
    "    },\n",
    "    index=right_index,\n",
    ")\n"
   ]
  },
  {
   "cell_type": "code",
   "execution_count": 652,
   "id": "d1b4a972",
   "metadata": {},
   "outputs": [
    {
     "data": {
      "application/vnd.microsoft.datawrangler.viewer.v0+json": {
       "columns": [
        {
         "name": "key1",
         "rawType": "object",
         "type": "string"
        },
        {
         "name": "A",
         "rawType": "object",
         "type": "string"
        },
        {
         "name": "B",
         "rawType": "object",
         "type": "string"
        },
        {
         "name": "key2",
         "rawType": "object",
         "type": "string"
        }
       ],
       "ref": "c9239d43-3ff8-494a-be7f-de4c79134c16",
       "rows": [
        [
         "K0",
         "A0",
         "B0",
         "K0"
        ],
        [
         "K0",
         "A1",
         "B1",
         "K1"
        ],
        [
         "K1",
         "A2",
         "B2",
         "K0"
        ],
        [
         "K2",
         "A3",
         "B3",
         "K1"
        ]
       ],
       "shape": {
        "columns": 3,
        "rows": 4
       }
      },
      "text/html": [
       "<div>\n",
       "<style scoped>\n",
       "    .dataframe tbody tr th:only-of-type {\n",
       "        vertical-align: middle;\n",
       "    }\n",
       "\n",
       "    .dataframe tbody tr th {\n",
       "        vertical-align: top;\n",
       "    }\n",
       "\n",
       "    .dataframe thead th {\n",
       "        text-align: right;\n",
       "    }\n",
       "</style>\n",
       "<table border=\"1\" class=\"dataframe\">\n",
       "  <thead>\n",
       "    <tr style=\"text-align: right;\">\n",
       "      <th></th>\n",
       "      <th>A</th>\n",
       "      <th>B</th>\n",
       "      <th>key2</th>\n",
       "    </tr>\n",
       "    <tr>\n",
       "      <th>key1</th>\n",
       "      <th></th>\n",
       "      <th></th>\n",
       "      <th></th>\n",
       "    </tr>\n",
       "  </thead>\n",
       "  <tbody>\n",
       "    <tr>\n",
       "      <th>K0</th>\n",
       "      <td>A0</td>\n",
       "      <td>B0</td>\n",
       "      <td>K0</td>\n",
       "    </tr>\n",
       "    <tr>\n",
       "      <th>K0</th>\n",
       "      <td>A1</td>\n",
       "      <td>B1</td>\n",
       "      <td>K1</td>\n",
       "    </tr>\n",
       "    <tr>\n",
       "      <th>K1</th>\n",
       "      <td>A2</td>\n",
       "      <td>B2</td>\n",
       "      <td>K0</td>\n",
       "    </tr>\n",
       "    <tr>\n",
       "      <th>K2</th>\n",
       "      <td>A3</td>\n",
       "      <td>B3</td>\n",
       "      <td>K1</td>\n",
       "    </tr>\n",
       "  </tbody>\n",
       "</table>\n",
       "</div>"
      ],
      "text/plain": [
       "       A   B key2\n",
       "key1             \n",
       "K0    A0  B0   K0\n",
       "K0    A1  B1   K1\n",
       "K1    A2  B2   K0\n",
       "K2    A3  B3   K1"
      ]
     },
     "execution_count": 652,
     "metadata": {},
     "output_type": "execute_result"
    }
   ],
   "source": [
    "left"
   ]
  },
  {
   "cell_type": "code",
   "execution_count": 653,
   "id": "63e16c43",
   "metadata": {},
   "outputs": [
    {
     "data": {
      "application/vnd.microsoft.datawrangler.viewer.v0+json": {
       "columns": [
        {
         "name": "key1",
         "rawType": "object",
         "type": "string"
        },
        {
         "name": "C",
         "rawType": "object",
         "type": "string"
        },
        {
         "name": "D",
         "rawType": "object",
         "type": "string"
        },
        {
         "name": "key2",
         "rawType": "object",
         "type": "string"
        }
       ],
       "ref": "938b2332-cef6-4412-82b7-be1ee0cdd935",
       "rows": [
        [
         "K0",
         "C0",
         "D0",
         "K0"
        ],
        [
         "K1",
         "C1",
         "D1",
         "K0"
        ],
        [
         "K2",
         "C2",
         "D2",
         "K0"
        ],
        [
         "K2",
         "C3",
         "D3",
         "K1"
        ]
       ],
       "shape": {
        "columns": 3,
        "rows": 4
       }
      },
      "text/html": [
       "<div>\n",
       "<style scoped>\n",
       "    .dataframe tbody tr th:only-of-type {\n",
       "        vertical-align: middle;\n",
       "    }\n",
       "\n",
       "    .dataframe tbody tr th {\n",
       "        vertical-align: top;\n",
       "    }\n",
       "\n",
       "    .dataframe thead th {\n",
       "        text-align: right;\n",
       "    }\n",
       "</style>\n",
       "<table border=\"1\" class=\"dataframe\">\n",
       "  <thead>\n",
       "    <tr style=\"text-align: right;\">\n",
       "      <th></th>\n",
       "      <th>C</th>\n",
       "      <th>D</th>\n",
       "      <th>key2</th>\n",
       "    </tr>\n",
       "    <tr>\n",
       "      <th>key1</th>\n",
       "      <th></th>\n",
       "      <th></th>\n",
       "      <th></th>\n",
       "    </tr>\n",
       "  </thead>\n",
       "  <tbody>\n",
       "    <tr>\n",
       "      <th>K0</th>\n",
       "      <td>C0</td>\n",
       "      <td>D0</td>\n",
       "      <td>K0</td>\n",
       "    </tr>\n",
       "    <tr>\n",
       "      <th>K1</th>\n",
       "      <td>C1</td>\n",
       "      <td>D1</td>\n",
       "      <td>K0</td>\n",
       "    </tr>\n",
       "    <tr>\n",
       "      <th>K2</th>\n",
       "      <td>C2</td>\n",
       "      <td>D2</td>\n",
       "      <td>K0</td>\n",
       "    </tr>\n",
       "    <tr>\n",
       "      <th>K2</th>\n",
       "      <td>C3</td>\n",
       "      <td>D3</td>\n",
       "      <td>K1</td>\n",
       "    </tr>\n",
       "  </tbody>\n",
       "</table>\n",
       "</div>"
      ],
      "text/plain": [
       "       C   D key2\n",
       "key1             \n",
       "K0    C0  D0   K0\n",
       "K1    C1  D1   K0\n",
       "K2    C2  D2   K0\n",
       "K2    C3  D3   K1"
      ]
     },
     "execution_count": 653,
     "metadata": {},
     "output_type": "execute_result"
    }
   ],
   "source": [
    "right"
   ]
  },
  {
   "cell_type": "code",
   "execution_count": 654,
   "id": "169bc4c7",
   "metadata": {},
   "outputs": [
    {
     "data": {
      "application/vnd.microsoft.datawrangler.viewer.v0+json": {
       "columns": [
        {
         "name": "key1",
         "rawType": "object",
         "type": "string"
        },
        {
         "name": "A",
         "rawType": "object",
         "type": "string"
        },
        {
         "name": "B",
         "rawType": "object",
         "type": "string"
        },
        {
         "name": "key2",
         "rawType": "object",
         "type": "string"
        },
        {
         "name": "C",
         "rawType": "object",
         "type": "string"
        },
        {
         "name": "D",
         "rawType": "object",
         "type": "string"
        }
       ],
       "ref": "bf97db46-eb5a-4df7-9fe1-36c51fb9a9d7",
       "rows": [
        [
         "K0",
         "A0",
         "B0",
         "K0",
         "C0",
         "D0"
        ],
        [
         "K1",
         "A2",
         "B2",
         "K0",
         "C1",
         "D1"
        ],
        [
         "K2",
         "A3",
         "B3",
         "K1",
         "C3",
         "D3"
        ]
       ],
       "shape": {
        "columns": 5,
        "rows": 3
       }
      },
      "text/html": [
       "<div>\n",
       "<style scoped>\n",
       "    .dataframe tbody tr th:only-of-type {\n",
       "        vertical-align: middle;\n",
       "    }\n",
       "\n",
       "    .dataframe tbody tr th {\n",
       "        vertical-align: top;\n",
       "    }\n",
       "\n",
       "    .dataframe thead th {\n",
       "        text-align: right;\n",
       "    }\n",
       "</style>\n",
       "<table border=\"1\" class=\"dataframe\">\n",
       "  <thead>\n",
       "    <tr style=\"text-align: right;\">\n",
       "      <th></th>\n",
       "      <th>A</th>\n",
       "      <th>B</th>\n",
       "      <th>key2</th>\n",
       "      <th>C</th>\n",
       "      <th>D</th>\n",
       "    </tr>\n",
       "    <tr>\n",
       "      <th>key1</th>\n",
       "      <th></th>\n",
       "      <th></th>\n",
       "      <th></th>\n",
       "      <th></th>\n",
       "      <th></th>\n",
       "    </tr>\n",
       "  </thead>\n",
       "  <tbody>\n",
       "    <tr>\n",
       "      <th>K0</th>\n",
       "      <td>A0</td>\n",
       "      <td>B0</td>\n",
       "      <td>K0</td>\n",
       "      <td>C0</td>\n",
       "      <td>D0</td>\n",
       "    </tr>\n",
       "    <tr>\n",
       "      <th>K1</th>\n",
       "      <td>A2</td>\n",
       "      <td>B2</td>\n",
       "      <td>K0</td>\n",
       "      <td>C1</td>\n",
       "      <td>D1</td>\n",
       "    </tr>\n",
       "    <tr>\n",
       "      <th>K2</th>\n",
       "      <td>A3</td>\n",
       "      <td>B3</td>\n",
       "      <td>K1</td>\n",
       "      <td>C3</td>\n",
       "      <td>D3</td>\n",
       "    </tr>\n",
       "  </tbody>\n",
       "</table>\n",
       "</div>"
      ],
      "text/plain": [
       "       A   B key2   C   D\n",
       "key1                     \n",
       "K0    A0  B0   K0  C0  D0\n",
       "K1    A2  B2   K0  C1  D1\n",
       "K2    A3  B3   K1  C3  D3"
      ]
     },
     "execution_count": 654,
     "metadata": {},
     "output_type": "execute_result"
    }
   ],
   "source": [
    "pd.merge(left, right, left_on=['key1','key2'], right_on=['key1','key2'])"
   ]
  },
  {
   "cell_type": "code",
   "execution_count": 655,
   "id": "9a1ecc6d",
   "metadata": {},
   "outputs": [],
   "source": [
    "df1 = pd.DataFrame(\n",
    "    [[np.nan, 3.0, 5.0], [-4.6, np.nan, np.nan], [np.nan, 7.0, np.nan]]\n",
    ")\n",
    "\n",
    "\n",
    "df2 = pd.DataFrame([[-42.6, np.nan, -8.2], [-5.0, 1.6, 4]], index=[1, 2])"
   ]
  },
  {
   "cell_type": "code",
   "execution_count": 656,
   "id": "60127c9f",
   "metadata": {},
   "outputs": [
    {
     "data": {
      "application/vnd.microsoft.datawrangler.viewer.v0+json": {
       "columns": [
        {
         "name": "index",
         "rawType": "int64",
         "type": "integer"
        },
        {
         "name": "0",
         "rawType": "float64",
         "type": "float"
        },
        {
         "name": "1",
         "rawType": "float64",
         "type": "float"
        },
        {
         "name": "2",
         "rawType": "float64",
         "type": "float"
        }
       ],
       "ref": "01524814-4efc-45dc-b113-3faa27048b69",
       "rows": [
        [
         "0",
         null,
         "3.0",
         "5.0"
        ],
        [
         "1",
         "-4.6",
         null,
         null
        ],
        [
         "2",
         null,
         "7.0",
         null
        ]
       ],
       "shape": {
        "columns": 3,
        "rows": 3
       }
      },
      "text/html": [
       "<div>\n",
       "<style scoped>\n",
       "    .dataframe tbody tr th:only-of-type {\n",
       "        vertical-align: middle;\n",
       "    }\n",
       "\n",
       "    .dataframe tbody tr th {\n",
       "        vertical-align: top;\n",
       "    }\n",
       "\n",
       "    .dataframe thead th {\n",
       "        text-align: right;\n",
       "    }\n",
       "</style>\n",
       "<table border=\"1\" class=\"dataframe\">\n",
       "  <thead>\n",
       "    <tr style=\"text-align: right;\">\n",
       "      <th></th>\n",
       "      <th>0</th>\n",
       "      <th>1</th>\n",
       "      <th>2</th>\n",
       "    </tr>\n",
       "  </thead>\n",
       "  <tbody>\n",
       "    <tr>\n",
       "      <th>0</th>\n",
       "      <td>NaN</td>\n",
       "      <td>3.0</td>\n",
       "      <td>5.0</td>\n",
       "    </tr>\n",
       "    <tr>\n",
       "      <th>1</th>\n",
       "      <td>-4.6</td>\n",
       "      <td>NaN</td>\n",
       "      <td>NaN</td>\n",
       "    </tr>\n",
       "    <tr>\n",
       "      <th>2</th>\n",
       "      <td>NaN</td>\n",
       "      <td>7.0</td>\n",
       "      <td>NaN</td>\n",
       "    </tr>\n",
       "  </tbody>\n",
       "</table>\n",
       "</div>"
      ],
      "text/plain": [
       "     0    1    2\n",
       "0  NaN  3.0  5.0\n",
       "1 -4.6  NaN  NaN\n",
       "2  NaN  7.0  NaN"
      ]
     },
     "execution_count": 656,
     "metadata": {},
     "output_type": "execute_result"
    }
   ],
   "source": [
    "df1"
   ]
  },
  {
   "cell_type": "code",
   "execution_count": 657,
   "id": "64b35546",
   "metadata": {},
   "outputs": [
    {
     "data": {
      "application/vnd.microsoft.datawrangler.viewer.v0+json": {
       "columns": [
        {
         "name": "index",
         "rawType": "int64",
         "type": "integer"
        },
        {
         "name": "0",
         "rawType": "float64",
         "type": "float"
        },
        {
         "name": "1",
         "rawType": "float64",
         "type": "float"
        },
        {
         "name": "2",
         "rawType": "float64",
         "type": "float"
        }
       ],
       "ref": "9806eeff-327e-4e21-8890-ee4f15d3ff10",
       "rows": [
        [
         "1",
         "-42.6",
         null,
         "-8.2"
        ],
        [
         "2",
         "-5.0",
         "1.6",
         "4.0"
        ]
       ],
       "shape": {
        "columns": 3,
        "rows": 2
       }
      },
      "text/html": [
       "<div>\n",
       "<style scoped>\n",
       "    .dataframe tbody tr th:only-of-type {\n",
       "        vertical-align: middle;\n",
       "    }\n",
       "\n",
       "    .dataframe tbody tr th {\n",
       "        vertical-align: top;\n",
       "    }\n",
       "\n",
       "    .dataframe thead th {\n",
       "        text-align: right;\n",
       "    }\n",
       "</style>\n",
       "<table border=\"1\" class=\"dataframe\">\n",
       "  <thead>\n",
       "    <tr style=\"text-align: right;\">\n",
       "      <th></th>\n",
       "      <th>0</th>\n",
       "      <th>1</th>\n",
       "      <th>2</th>\n",
       "    </tr>\n",
       "  </thead>\n",
       "  <tbody>\n",
       "    <tr>\n",
       "      <th>1</th>\n",
       "      <td>-42.6</td>\n",
       "      <td>NaN</td>\n",
       "      <td>-8.2</td>\n",
       "    </tr>\n",
       "    <tr>\n",
       "      <th>2</th>\n",
       "      <td>-5.0</td>\n",
       "      <td>1.6</td>\n",
       "      <td>4.0</td>\n",
       "    </tr>\n",
       "  </tbody>\n",
       "</table>\n",
       "</div>"
      ],
      "text/plain": [
       "      0    1    2\n",
       "1 -42.6  NaN -8.2\n",
       "2  -5.0  1.6  4.0"
      ]
     },
     "execution_count": 657,
     "metadata": {},
     "output_type": "execute_result"
    }
   ],
   "source": [
    "df2"
   ]
  },
  {
   "cell_type": "code",
   "execution_count": 658,
   "id": "296b157f",
   "metadata": {},
   "outputs": [
    {
     "data": {
      "application/vnd.microsoft.datawrangler.viewer.v0+json": {
       "columns": [
        {
         "name": "index",
         "rawType": "int64",
         "type": "integer"
        },
        {
         "name": "0",
         "rawType": "float64",
         "type": "float"
        },
        {
         "name": "1",
         "rawType": "float64",
         "type": "float"
        },
        {
         "name": "2",
         "rawType": "float64",
         "type": "float"
        }
       ],
       "ref": "3e994686-3f29-4635-8ccf-673adbaa5a3f",
       "rows": [
        [
         "0",
         null,
         "3.0",
         "5.0"
        ],
        [
         "1",
         "-4.6",
         null,
         "-8.2"
        ],
        [
         "2",
         "-5.0",
         "7.0",
         "4.0"
        ]
       ],
       "shape": {
        "columns": 3,
        "rows": 3
       }
      },
      "text/html": [
       "<div>\n",
       "<style scoped>\n",
       "    .dataframe tbody tr th:only-of-type {\n",
       "        vertical-align: middle;\n",
       "    }\n",
       "\n",
       "    .dataframe tbody tr th {\n",
       "        vertical-align: top;\n",
       "    }\n",
       "\n",
       "    .dataframe thead th {\n",
       "        text-align: right;\n",
       "    }\n",
       "</style>\n",
       "<table border=\"1\" class=\"dataframe\">\n",
       "  <thead>\n",
       "    <tr style=\"text-align: right;\">\n",
       "      <th></th>\n",
       "      <th>0</th>\n",
       "      <th>1</th>\n",
       "      <th>2</th>\n",
       "    </tr>\n",
       "  </thead>\n",
       "  <tbody>\n",
       "    <tr>\n",
       "      <th>0</th>\n",
       "      <td>NaN</td>\n",
       "      <td>3.0</td>\n",
       "      <td>5.0</td>\n",
       "    </tr>\n",
       "    <tr>\n",
       "      <th>1</th>\n",
       "      <td>-4.6</td>\n",
       "      <td>NaN</td>\n",
       "      <td>-8.2</td>\n",
       "    </tr>\n",
       "    <tr>\n",
       "      <th>2</th>\n",
       "      <td>-5.0</td>\n",
       "      <td>7.0</td>\n",
       "      <td>4.0</td>\n",
       "    </tr>\n",
       "  </tbody>\n",
       "</table>\n",
       "</div>"
      ],
      "text/plain": [
       "     0    1    2\n",
       "0  NaN  3.0  5.0\n",
       "1 -4.6  NaN -8.2\n",
       "2 -5.0  7.0  4.0"
      ]
     },
     "execution_count": 658,
     "metadata": {},
     "output_type": "execute_result"
    }
   ],
   "source": [
    "df1.combine_first(df2)"
   ]
  },
  {
   "cell_type": "code",
   "execution_count": 659,
   "id": "b92328fe",
   "metadata": {},
   "outputs": [],
   "source": [
    "left = pd.DataFrame(\n",
    "    {\"k\": [\"K0\", \"K1\", \"K1\", \"K2\"], \"lv\": [1, 2, 3, 4], \"s\": [\"a\", \"b\", \"c\", \"d\"]}\n",
    ")\n",
    "\n",
    "\n",
    "right = pd.DataFrame({\"k\": [\"K1\", \"K2\", \"K4\"], \"rv\": [1, 2, 3]})"
   ]
  },
  {
   "cell_type": "code",
   "execution_count": 660,
   "id": "cb792093",
   "metadata": {},
   "outputs": [
    {
     "data": {
      "application/vnd.microsoft.datawrangler.viewer.v0+json": {
       "columns": [
        {
         "name": "index",
         "rawType": "int64",
         "type": "integer"
        },
        {
         "name": "k",
         "rawType": "object",
         "type": "string"
        },
        {
         "name": "lv",
         "rawType": "int64",
         "type": "integer"
        },
        {
         "name": "s",
         "rawType": "object",
         "type": "string"
        }
       ],
       "ref": "fdda5199-96c7-48ec-8c82-37c77c622e75",
       "rows": [
        [
         "0",
         "K0",
         "1",
         "a"
        ],
        [
         "1",
         "K1",
         "2",
         "b"
        ],
        [
         "2",
         "K1",
         "3",
         "c"
        ],
        [
         "3",
         "K2",
         "4",
         "d"
        ]
       ],
       "shape": {
        "columns": 3,
        "rows": 4
       }
      },
      "text/html": [
       "<div>\n",
       "<style scoped>\n",
       "    .dataframe tbody tr th:only-of-type {\n",
       "        vertical-align: middle;\n",
       "    }\n",
       "\n",
       "    .dataframe tbody tr th {\n",
       "        vertical-align: top;\n",
       "    }\n",
       "\n",
       "    .dataframe thead th {\n",
       "        text-align: right;\n",
       "    }\n",
       "</style>\n",
       "<table border=\"1\" class=\"dataframe\">\n",
       "  <thead>\n",
       "    <tr style=\"text-align: right;\">\n",
       "      <th></th>\n",
       "      <th>k</th>\n",
       "      <th>lv</th>\n",
       "      <th>s</th>\n",
       "    </tr>\n",
       "  </thead>\n",
       "  <tbody>\n",
       "    <tr>\n",
       "      <th>0</th>\n",
       "      <td>K0</td>\n",
       "      <td>1</td>\n",
       "      <td>a</td>\n",
       "    </tr>\n",
       "    <tr>\n",
       "      <th>1</th>\n",
       "      <td>K1</td>\n",
       "      <td>2</td>\n",
       "      <td>b</td>\n",
       "    </tr>\n",
       "    <tr>\n",
       "      <th>2</th>\n",
       "      <td>K1</td>\n",
       "      <td>3</td>\n",
       "      <td>c</td>\n",
       "    </tr>\n",
       "    <tr>\n",
       "      <th>3</th>\n",
       "      <td>K2</td>\n",
       "      <td>4</td>\n",
       "      <td>d</td>\n",
       "    </tr>\n",
       "  </tbody>\n",
       "</table>\n",
       "</div>"
      ],
      "text/plain": [
       "    k  lv  s\n",
       "0  K0   1  a\n",
       "1  K1   2  b\n",
       "2  K1   3  c\n",
       "3  K2   4  d"
      ]
     },
     "execution_count": 660,
     "metadata": {},
     "output_type": "execute_result"
    }
   ],
   "source": [
    "left"
   ]
  },
  {
   "cell_type": "code",
   "execution_count": 661,
   "id": "caa9167d",
   "metadata": {},
   "outputs": [
    {
     "data": {
      "application/vnd.microsoft.datawrangler.viewer.v0+json": {
       "columns": [
        {
         "name": "index",
         "rawType": "int64",
         "type": "integer"
        },
        {
         "name": "k",
         "rawType": "object",
         "type": "string"
        },
        {
         "name": "rv",
         "rawType": "int64",
         "type": "integer"
        }
       ],
       "ref": "7dc7189f-edb6-4fef-aac6-0385dd7430ad",
       "rows": [
        [
         "0",
         "K1",
         "1"
        ],
        [
         "1",
         "K2",
         "2"
        ],
        [
         "2",
         "K4",
         "3"
        ]
       ],
       "shape": {
        "columns": 2,
        "rows": 3
       }
      },
      "text/html": [
       "<div>\n",
       "<style scoped>\n",
       "    .dataframe tbody tr th:only-of-type {\n",
       "        vertical-align: middle;\n",
       "    }\n",
       "\n",
       "    .dataframe tbody tr th {\n",
       "        vertical-align: top;\n",
       "    }\n",
       "\n",
       "    .dataframe thead th {\n",
       "        text-align: right;\n",
       "    }\n",
       "</style>\n",
       "<table border=\"1\" class=\"dataframe\">\n",
       "  <thead>\n",
       "    <tr style=\"text-align: right;\">\n",
       "      <th></th>\n",
       "      <th>k</th>\n",
       "      <th>rv</th>\n",
       "    </tr>\n",
       "  </thead>\n",
       "  <tbody>\n",
       "    <tr>\n",
       "      <th>0</th>\n",
       "      <td>K1</td>\n",
       "      <td>1</td>\n",
       "    </tr>\n",
       "    <tr>\n",
       "      <th>1</th>\n",
       "      <td>K2</td>\n",
       "      <td>2</td>\n",
       "    </tr>\n",
       "    <tr>\n",
       "      <th>2</th>\n",
       "      <td>K4</td>\n",
       "      <td>3</td>\n",
       "    </tr>\n",
       "  </tbody>\n",
       "</table>\n",
       "</div>"
      ],
      "text/plain": [
       "    k  rv\n",
       "0  K1   1\n",
       "1  K2   2\n",
       "2  K4   3"
      ]
     },
     "execution_count": 661,
     "metadata": {},
     "output_type": "execute_result"
    }
   ],
   "source": [
    "right"
   ]
  },
  {
   "cell_type": "code",
   "execution_count": 662,
   "id": "e73e604c",
   "metadata": {},
   "outputs": [
    {
     "data": {
      "application/vnd.microsoft.datawrangler.viewer.v0+json": {
       "columns": [
        {
         "name": "index",
         "rawType": "int64",
         "type": "integer"
        },
        {
         "name": "k",
         "rawType": "object",
         "type": "string"
        },
        {
         "name": "lv",
         "rawType": "float64",
         "type": "float"
        },
        {
         "name": "s",
         "rawType": "object",
         "type": "string"
        },
        {
         "name": "rv",
         "rawType": "float64",
         "type": "float"
        }
       ],
       "ref": "d1838bed-8d1e-4cb0-912c-45c2b587ccb7",
       "rows": [
        [
         "0",
         "K0",
         "1.0",
         "a",
         null
        ],
        [
         "1",
         "K1",
         "1.0",
         "a",
         "1.0"
        ],
        [
         "2",
         "K2",
         "1.0",
         "a",
         "2.0"
        ],
        [
         "3",
         "K4",
         "1.0",
         "a",
         "3.0"
        ],
        [
         "4",
         "K1",
         "2.0",
         "b",
         "1.0"
        ],
        [
         "5",
         "K2",
         "2.0",
         "b",
         "2.0"
        ],
        [
         "6",
         "K4",
         "2.0",
         "b",
         "3.0"
        ],
        [
         "7",
         "K1",
         "3.0",
         "c",
         "1.0"
        ],
        [
         "8",
         "K2",
         "3.0",
         "c",
         "2.0"
        ],
        [
         "9",
         "K4",
         "3.0",
         "c",
         "3.0"
        ],
        [
         "10",
         "K1",
         null,
         "d",
         "1.0"
        ],
        [
         "11",
         "K2",
         "4.0",
         "d",
         "2.0"
        ],
        [
         "12",
         "K4",
         "4.0",
         "d",
         "3.0"
        ]
       ],
       "shape": {
        "columns": 4,
        "rows": 13
       }
      },
      "text/html": [
       "<div>\n",
       "<style scoped>\n",
       "    .dataframe tbody tr th:only-of-type {\n",
       "        vertical-align: middle;\n",
       "    }\n",
       "\n",
       "    .dataframe tbody tr th {\n",
       "        vertical-align: top;\n",
       "    }\n",
       "\n",
       "    .dataframe thead th {\n",
       "        text-align: right;\n",
       "    }\n",
       "</style>\n",
       "<table border=\"1\" class=\"dataframe\">\n",
       "  <thead>\n",
       "    <tr style=\"text-align: right;\">\n",
       "      <th></th>\n",
       "      <th>k</th>\n",
       "      <th>lv</th>\n",
       "      <th>s</th>\n",
       "      <th>rv</th>\n",
       "    </tr>\n",
       "  </thead>\n",
       "  <tbody>\n",
       "    <tr>\n",
       "      <th>0</th>\n",
       "      <td>K0</td>\n",
       "      <td>1.0</td>\n",
       "      <td>a</td>\n",
       "      <td>NaN</td>\n",
       "    </tr>\n",
       "    <tr>\n",
       "      <th>1</th>\n",
       "      <td>K1</td>\n",
       "      <td>1.0</td>\n",
       "      <td>a</td>\n",
       "      <td>1.0</td>\n",
       "    </tr>\n",
       "    <tr>\n",
       "      <th>2</th>\n",
       "      <td>K2</td>\n",
       "      <td>1.0</td>\n",
       "      <td>a</td>\n",
       "      <td>2.0</td>\n",
       "    </tr>\n",
       "    <tr>\n",
       "      <th>3</th>\n",
       "      <td>K4</td>\n",
       "      <td>1.0</td>\n",
       "      <td>a</td>\n",
       "      <td>3.0</td>\n",
       "    </tr>\n",
       "    <tr>\n",
       "      <th>4</th>\n",
       "      <td>K1</td>\n",
       "      <td>2.0</td>\n",
       "      <td>b</td>\n",
       "      <td>1.0</td>\n",
       "    </tr>\n",
       "    <tr>\n",
       "      <th>5</th>\n",
       "      <td>K2</td>\n",
       "      <td>2.0</td>\n",
       "      <td>b</td>\n",
       "      <td>2.0</td>\n",
       "    </tr>\n",
       "    <tr>\n",
       "      <th>6</th>\n",
       "      <td>K4</td>\n",
       "      <td>2.0</td>\n",
       "      <td>b</td>\n",
       "      <td>3.0</td>\n",
       "    </tr>\n",
       "    <tr>\n",
       "      <th>7</th>\n",
       "      <td>K1</td>\n",
       "      <td>3.0</td>\n",
       "      <td>c</td>\n",
       "      <td>1.0</td>\n",
       "    </tr>\n",
       "    <tr>\n",
       "      <th>8</th>\n",
       "      <td>K2</td>\n",
       "      <td>3.0</td>\n",
       "      <td>c</td>\n",
       "      <td>2.0</td>\n",
       "    </tr>\n",
       "    <tr>\n",
       "      <th>9</th>\n",
       "      <td>K4</td>\n",
       "      <td>3.0</td>\n",
       "      <td>c</td>\n",
       "      <td>3.0</td>\n",
       "    </tr>\n",
       "    <tr>\n",
       "      <th>10</th>\n",
       "      <td>K1</td>\n",
       "      <td>NaN</td>\n",
       "      <td>d</td>\n",
       "      <td>1.0</td>\n",
       "    </tr>\n",
       "    <tr>\n",
       "      <th>11</th>\n",
       "      <td>K2</td>\n",
       "      <td>4.0</td>\n",
       "      <td>d</td>\n",
       "      <td>2.0</td>\n",
       "    </tr>\n",
       "    <tr>\n",
       "      <th>12</th>\n",
       "      <td>K4</td>\n",
       "      <td>4.0</td>\n",
       "      <td>d</td>\n",
       "      <td>3.0</td>\n",
       "    </tr>\n",
       "  </tbody>\n",
       "</table>\n",
       "</div>"
      ],
      "text/plain": [
       "     k   lv  s   rv\n",
       "0   K0  1.0  a  NaN\n",
       "1   K1  1.0  a  1.0\n",
       "2   K2  1.0  a  2.0\n",
       "3   K4  1.0  a  3.0\n",
       "4   K1  2.0  b  1.0\n",
       "5   K2  2.0  b  2.0\n",
       "6   K4  2.0  b  3.0\n",
       "7   K1  3.0  c  1.0\n",
       "8   K2  3.0  c  2.0\n",
       "9   K4  3.0  c  3.0\n",
       "10  K1  NaN  d  1.0\n",
       "11  K2  4.0  d  2.0\n",
       "12  K4  4.0  d  3.0"
      ]
     },
     "execution_count": 662,
     "metadata": {},
     "output_type": "execute_result"
    }
   ],
   "source": [
    "pd.merge_ordered(left, right, fill_method='ffill', left_by='s')"
   ]
  },
  {
   "cell_type": "code",
   "execution_count": 663,
   "id": "7f4153cf",
   "metadata": {},
   "outputs": [],
   "source": [
    "data = {\n",
    "   \"value\": range(12),\n",
    "   \"variable\": [\"A\"] * 3 + [\"B\"] * 3 + [\"C\"] * 3 + [\"D\"] * 3,\n",
    "   \"date\": pd.to_datetime([\"2020-01-03\", \"2020-01-04\", \"2020-01-05\"] * 4)\n",
    "}\n",
    "\n",
    "\n",
    "df = pd.DataFrame(data)"
   ]
  },
  {
   "cell_type": "code",
   "execution_count": 664,
   "id": "faff408e",
   "metadata": {},
   "outputs": [
    {
     "data": {
      "application/vnd.microsoft.datawrangler.viewer.v0+json": {
       "columns": [
        {
         "name": "index",
         "rawType": "int64",
         "type": "integer"
        },
        {
         "name": "value",
         "rawType": "int64",
         "type": "integer"
        },
        {
         "name": "variable",
         "rawType": "object",
         "type": "string"
        },
        {
         "name": "date",
         "rawType": "datetime64[ns]",
         "type": "datetime"
        }
       ],
       "ref": "48d15681-5664-49c1-8dfb-96def701a4df",
       "rows": [
        [
         "0",
         "0",
         "A",
         "2020-01-03 00:00:00"
        ],
        [
         "1",
         "1",
         "A",
         "2020-01-04 00:00:00"
        ],
        [
         "2",
         "2",
         "A",
         "2020-01-05 00:00:00"
        ],
        [
         "3",
         "3",
         "B",
         "2020-01-03 00:00:00"
        ],
        [
         "4",
         "4",
         "B",
         "2020-01-04 00:00:00"
        ],
        [
         "5",
         "5",
         "B",
         "2020-01-05 00:00:00"
        ],
        [
         "6",
         "6",
         "C",
         "2020-01-03 00:00:00"
        ],
        [
         "7",
         "7",
         "C",
         "2020-01-04 00:00:00"
        ],
        [
         "8",
         "8",
         "C",
         "2020-01-05 00:00:00"
        ],
        [
         "9",
         "9",
         "D",
         "2020-01-03 00:00:00"
        ],
        [
         "10",
         "10",
         "D",
         "2020-01-04 00:00:00"
        ],
        [
         "11",
         "11",
         "D",
         "2020-01-05 00:00:00"
        ]
       ],
       "shape": {
        "columns": 3,
        "rows": 12
       }
      },
      "text/html": [
       "<div>\n",
       "<style scoped>\n",
       "    .dataframe tbody tr th:only-of-type {\n",
       "        vertical-align: middle;\n",
       "    }\n",
       "\n",
       "    .dataframe tbody tr th {\n",
       "        vertical-align: top;\n",
       "    }\n",
       "\n",
       "    .dataframe thead th {\n",
       "        text-align: right;\n",
       "    }\n",
       "</style>\n",
       "<table border=\"1\" class=\"dataframe\">\n",
       "  <thead>\n",
       "    <tr style=\"text-align: right;\">\n",
       "      <th></th>\n",
       "      <th>value</th>\n",
       "      <th>variable</th>\n",
       "      <th>date</th>\n",
       "    </tr>\n",
       "  </thead>\n",
       "  <tbody>\n",
       "    <tr>\n",
       "      <th>0</th>\n",
       "      <td>0</td>\n",
       "      <td>A</td>\n",
       "      <td>2020-01-03</td>\n",
       "    </tr>\n",
       "    <tr>\n",
       "      <th>1</th>\n",
       "      <td>1</td>\n",
       "      <td>A</td>\n",
       "      <td>2020-01-04</td>\n",
       "    </tr>\n",
       "    <tr>\n",
       "      <th>2</th>\n",
       "      <td>2</td>\n",
       "      <td>A</td>\n",
       "      <td>2020-01-05</td>\n",
       "    </tr>\n",
       "    <tr>\n",
       "      <th>3</th>\n",
       "      <td>3</td>\n",
       "      <td>B</td>\n",
       "      <td>2020-01-03</td>\n",
       "    </tr>\n",
       "    <tr>\n",
       "      <th>4</th>\n",
       "      <td>4</td>\n",
       "      <td>B</td>\n",
       "      <td>2020-01-04</td>\n",
       "    </tr>\n",
       "    <tr>\n",
       "      <th>5</th>\n",
       "      <td>5</td>\n",
       "      <td>B</td>\n",
       "      <td>2020-01-05</td>\n",
       "    </tr>\n",
       "    <tr>\n",
       "      <th>6</th>\n",
       "      <td>6</td>\n",
       "      <td>C</td>\n",
       "      <td>2020-01-03</td>\n",
       "    </tr>\n",
       "    <tr>\n",
       "      <th>7</th>\n",
       "      <td>7</td>\n",
       "      <td>C</td>\n",
       "      <td>2020-01-04</td>\n",
       "    </tr>\n",
       "    <tr>\n",
       "      <th>8</th>\n",
       "      <td>8</td>\n",
       "      <td>C</td>\n",
       "      <td>2020-01-05</td>\n",
       "    </tr>\n",
       "    <tr>\n",
       "      <th>9</th>\n",
       "      <td>9</td>\n",
       "      <td>D</td>\n",
       "      <td>2020-01-03</td>\n",
       "    </tr>\n",
       "    <tr>\n",
       "      <th>10</th>\n",
       "      <td>10</td>\n",
       "      <td>D</td>\n",
       "      <td>2020-01-04</td>\n",
       "    </tr>\n",
       "    <tr>\n",
       "      <th>11</th>\n",
       "      <td>11</td>\n",
       "      <td>D</td>\n",
       "      <td>2020-01-05</td>\n",
       "    </tr>\n",
       "  </tbody>\n",
       "</table>\n",
       "</div>"
      ],
      "text/plain": [
       "    value variable       date\n",
       "0       0        A 2020-01-03\n",
       "1       1        A 2020-01-04\n",
       "2       2        A 2020-01-05\n",
       "3       3        B 2020-01-03\n",
       "4       4        B 2020-01-04\n",
       "5       5        B 2020-01-05\n",
       "6       6        C 2020-01-03\n",
       "7       7        C 2020-01-04\n",
       "8       8        C 2020-01-05\n",
       "9       9        D 2020-01-03\n",
       "10     10        D 2020-01-04\n",
       "11     11        D 2020-01-05"
      ]
     },
     "execution_count": 664,
     "metadata": {},
     "output_type": "execute_result"
    }
   ],
   "source": [
    "df"
   ]
  },
  {
   "cell_type": "code",
   "execution_count": 665,
   "id": "e0f3df19",
   "metadata": {},
   "outputs": [],
   "source": [
    "df2 = df.pivot(index='date', columns='variable', values='value')"
   ]
  },
  {
   "cell_type": "code",
   "execution_count": 666,
   "id": "e6c6e618",
   "metadata": {},
   "outputs": [
    {
     "data": {
      "application/vnd.microsoft.datawrangler.viewer.v0+json": {
       "columns": [
        {
         "name": "date",
         "rawType": "datetime64[ns]",
         "type": "datetime"
        },
        {
         "name": "A",
         "rawType": "int64",
         "type": "integer"
        },
        {
         "name": "B",
         "rawType": "int64",
         "type": "integer"
        },
        {
         "name": "C",
         "rawType": "int64",
         "type": "integer"
        },
        {
         "name": "D",
         "rawType": "int64",
         "type": "integer"
        }
       ],
       "ref": "edd903a7-155e-4405-b0f7-5b8187b6028c",
       "rows": [
        [
         "2020-01-03 00:00:00",
         "0",
         "3",
         "6",
         "9"
        ],
        [
         "2020-01-04 00:00:00",
         "1",
         "4",
         "7",
         "10"
        ],
        [
         "2020-01-05 00:00:00",
         "2",
         "5",
         "8",
         "11"
        ]
       ],
       "shape": {
        "columns": 4,
        "rows": 3
       }
      },
      "text/html": [
       "<div>\n",
       "<style scoped>\n",
       "    .dataframe tbody tr th:only-of-type {\n",
       "        vertical-align: middle;\n",
       "    }\n",
       "\n",
       "    .dataframe tbody tr th {\n",
       "        vertical-align: top;\n",
       "    }\n",
       "\n",
       "    .dataframe thead th {\n",
       "        text-align: right;\n",
       "    }\n",
       "</style>\n",
       "<table border=\"1\" class=\"dataframe\">\n",
       "  <thead>\n",
       "    <tr style=\"text-align: right;\">\n",
       "      <th>variable</th>\n",
       "      <th>A</th>\n",
       "      <th>B</th>\n",
       "      <th>C</th>\n",
       "      <th>D</th>\n",
       "    </tr>\n",
       "    <tr>\n",
       "      <th>date</th>\n",
       "      <th></th>\n",
       "      <th></th>\n",
       "      <th></th>\n",
       "      <th></th>\n",
       "    </tr>\n",
       "  </thead>\n",
       "  <tbody>\n",
       "    <tr>\n",
       "      <th>2020-01-03</th>\n",
       "      <td>0</td>\n",
       "      <td>3</td>\n",
       "      <td>6</td>\n",
       "      <td>9</td>\n",
       "    </tr>\n",
       "    <tr>\n",
       "      <th>2020-01-04</th>\n",
       "      <td>1</td>\n",
       "      <td>4</td>\n",
       "      <td>7</td>\n",
       "      <td>10</td>\n",
       "    </tr>\n",
       "    <tr>\n",
       "      <th>2020-01-05</th>\n",
       "      <td>2</td>\n",
       "      <td>5</td>\n",
       "      <td>8</td>\n",
       "      <td>11</td>\n",
       "    </tr>\n",
       "  </tbody>\n",
       "</table>\n",
       "</div>"
      ],
      "text/plain": [
       "variable    A  B  C   D\n",
       "date                   \n",
       "2020-01-03  0  3  6   9\n",
       "2020-01-04  1  4  7  10\n",
       "2020-01-05  2  5  8  11"
      ]
     },
     "execution_count": 666,
     "metadata": {},
     "output_type": "execute_result"
    }
   ],
   "source": [
    "df2"
   ]
  },
  {
   "cell_type": "code",
   "execution_count": 667,
   "id": "4c2ecc86",
   "metadata": {},
   "outputs": [
    {
     "data": {
      "application/vnd.microsoft.datawrangler.viewer.v0+json": {
       "columns": [
        {
         "name": "index",
         "rawType": "int64",
         "type": "integer"
        },
        {
         "name": "value",
         "rawType": "int64",
         "type": "integer"
        },
        {
         "name": "variable",
         "rawType": "object",
         "type": "string"
        },
        {
         "name": "date",
         "rawType": "datetime64[ns]",
         "type": "datetime"
        },
        {
         "name": "value2",
         "rawType": "int64",
         "type": "integer"
        }
       ],
       "ref": "45a1f55b-d916-4e3f-b0aa-310676384379",
       "rows": [
        [
         "0",
         "0",
         "A",
         "2020-01-03 00:00:00",
         "0"
        ],
        [
         "1",
         "1",
         "A",
         "2020-01-04 00:00:00",
         "2"
        ],
        [
         "2",
         "2",
         "A",
         "2020-01-05 00:00:00",
         "4"
        ],
        [
         "3",
         "3",
         "B",
         "2020-01-03 00:00:00",
         "6"
        ],
        [
         "4",
         "4",
         "B",
         "2020-01-04 00:00:00",
         "8"
        ],
        [
         "5",
         "5",
         "B",
         "2020-01-05 00:00:00",
         "10"
        ],
        [
         "6",
         "6",
         "C",
         "2020-01-03 00:00:00",
         "12"
        ],
        [
         "7",
         "7",
         "C",
         "2020-01-04 00:00:00",
         "14"
        ],
        [
         "8",
         "8",
         "C",
         "2020-01-05 00:00:00",
         "16"
        ],
        [
         "9",
         "9",
         "D",
         "2020-01-03 00:00:00",
         "18"
        ],
        [
         "10",
         "10",
         "D",
         "2020-01-04 00:00:00",
         "20"
        ],
        [
         "11",
         "11",
         "D",
         "2020-01-05 00:00:00",
         "22"
        ]
       ],
       "shape": {
        "columns": 4,
        "rows": 12
       }
      },
      "text/html": [
       "<div>\n",
       "<style scoped>\n",
       "    .dataframe tbody tr th:only-of-type {\n",
       "        vertical-align: middle;\n",
       "    }\n",
       "\n",
       "    .dataframe tbody tr th {\n",
       "        vertical-align: top;\n",
       "    }\n",
       "\n",
       "    .dataframe thead th {\n",
       "        text-align: right;\n",
       "    }\n",
       "</style>\n",
       "<table border=\"1\" class=\"dataframe\">\n",
       "  <thead>\n",
       "    <tr style=\"text-align: right;\">\n",
       "      <th></th>\n",
       "      <th>value</th>\n",
       "      <th>variable</th>\n",
       "      <th>date</th>\n",
       "      <th>value2</th>\n",
       "    </tr>\n",
       "  </thead>\n",
       "  <tbody>\n",
       "    <tr>\n",
       "      <th>0</th>\n",
       "      <td>0</td>\n",
       "      <td>A</td>\n",
       "      <td>2020-01-03</td>\n",
       "      <td>0</td>\n",
       "    </tr>\n",
       "    <tr>\n",
       "      <th>1</th>\n",
       "      <td>1</td>\n",
       "      <td>A</td>\n",
       "      <td>2020-01-04</td>\n",
       "      <td>2</td>\n",
       "    </tr>\n",
       "    <tr>\n",
       "      <th>2</th>\n",
       "      <td>2</td>\n",
       "      <td>A</td>\n",
       "      <td>2020-01-05</td>\n",
       "      <td>4</td>\n",
       "    </tr>\n",
       "    <tr>\n",
       "      <th>3</th>\n",
       "      <td>3</td>\n",
       "      <td>B</td>\n",
       "      <td>2020-01-03</td>\n",
       "      <td>6</td>\n",
       "    </tr>\n",
       "    <tr>\n",
       "      <th>4</th>\n",
       "      <td>4</td>\n",
       "      <td>B</td>\n",
       "      <td>2020-01-04</td>\n",
       "      <td>8</td>\n",
       "    </tr>\n",
       "    <tr>\n",
       "      <th>5</th>\n",
       "      <td>5</td>\n",
       "      <td>B</td>\n",
       "      <td>2020-01-05</td>\n",
       "      <td>10</td>\n",
       "    </tr>\n",
       "    <tr>\n",
       "      <th>6</th>\n",
       "      <td>6</td>\n",
       "      <td>C</td>\n",
       "      <td>2020-01-03</td>\n",
       "      <td>12</td>\n",
       "    </tr>\n",
       "    <tr>\n",
       "      <th>7</th>\n",
       "      <td>7</td>\n",
       "      <td>C</td>\n",
       "      <td>2020-01-04</td>\n",
       "      <td>14</td>\n",
       "    </tr>\n",
       "    <tr>\n",
       "      <th>8</th>\n",
       "      <td>8</td>\n",
       "      <td>C</td>\n",
       "      <td>2020-01-05</td>\n",
       "      <td>16</td>\n",
       "    </tr>\n",
       "    <tr>\n",
       "      <th>9</th>\n",
       "      <td>9</td>\n",
       "      <td>D</td>\n",
       "      <td>2020-01-03</td>\n",
       "      <td>18</td>\n",
       "    </tr>\n",
       "    <tr>\n",
       "      <th>10</th>\n",
       "      <td>10</td>\n",
       "      <td>D</td>\n",
       "      <td>2020-01-04</td>\n",
       "      <td>20</td>\n",
       "    </tr>\n",
       "    <tr>\n",
       "      <th>11</th>\n",
       "      <td>11</td>\n",
       "      <td>D</td>\n",
       "      <td>2020-01-05</td>\n",
       "      <td>22</td>\n",
       "    </tr>\n",
       "  </tbody>\n",
       "</table>\n",
       "</div>"
      ],
      "text/plain": [
       "    value variable       date  value2\n",
       "0       0        A 2020-01-03       0\n",
       "1       1        A 2020-01-04       2\n",
       "2       2        A 2020-01-05       4\n",
       "3       3        B 2020-01-03       6\n",
       "4       4        B 2020-01-04       8\n",
       "5       5        B 2020-01-05      10\n",
       "6       6        C 2020-01-03      12\n",
       "7       7        C 2020-01-04      14\n",
       "8       8        C 2020-01-05      16\n",
       "9       9        D 2020-01-03      18\n",
       "10     10        D 2020-01-04      20\n",
       "11     11        D 2020-01-05      22"
      ]
     },
     "execution_count": 667,
     "metadata": {},
     "output_type": "execute_result"
    }
   ],
   "source": [
    "df['value2'] = df['value'] * 2\n",
    "df"
   ]
  },
  {
   "cell_type": "code",
   "execution_count": 668,
   "id": "1ca43934",
   "metadata": {},
   "outputs": [],
   "source": [
    "df3 = df.pivot(index='date', columns='variable')"
   ]
  },
  {
   "cell_type": "code",
   "execution_count": 669,
   "id": "742b68f5",
   "metadata": {},
   "outputs": [
    {
     "data": {
      "application/vnd.microsoft.datawrangler.viewer.v0+json": {
       "columns": [
        {
         "name": "date",
         "rawType": "datetime64[ns]",
         "type": "datetime"
        },
        {
         "name": "('value', 'A')",
         "rawType": "int64",
         "type": "integer"
        },
        {
         "name": "('value', 'B')",
         "rawType": "int64",
         "type": "integer"
        },
        {
         "name": "('value', 'C')",
         "rawType": "int64",
         "type": "integer"
        },
        {
         "name": "('value', 'D')",
         "rawType": "int64",
         "type": "integer"
        },
        {
         "name": "('value2', 'A')",
         "rawType": "int64",
         "type": "integer"
        },
        {
         "name": "('value2', 'B')",
         "rawType": "int64",
         "type": "integer"
        },
        {
         "name": "('value2', 'C')",
         "rawType": "int64",
         "type": "integer"
        },
        {
         "name": "('value2', 'D')",
         "rawType": "int64",
         "type": "integer"
        }
       ],
       "ref": "212f37f8-6b98-4b99-af1e-8e10a000d3c3",
       "rows": [
        [
         "2020-01-03 00:00:00",
         "0",
         "3",
         "6",
         "9",
         "0",
         "6",
         "12",
         "18"
        ],
        [
         "2020-01-04 00:00:00",
         "1",
         "4",
         "7",
         "10",
         "2",
         "8",
         "14",
         "20"
        ],
        [
         "2020-01-05 00:00:00",
         "2",
         "5",
         "8",
         "11",
         "4",
         "10",
         "16",
         "22"
        ]
       ],
       "shape": {
        "columns": 8,
        "rows": 3
       }
      },
      "text/html": [
       "<div>\n",
       "<style scoped>\n",
       "    .dataframe tbody tr th:only-of-type {\n",
       "        vertical-align: middle;\n",
       "    }\n",
       "\n",
       "    .dataframe tbody tr th {\n",
       "        vertical-align: top;\n",
       "    }\n",
       "\n",
       "    .dataframe thead tr th {\n",
       "        text-align: left;\n",
       "    }\n",
       "\n",
       "    .dataframe thead tr:last-of-type th {\n",
       "        text-align: right;\n",
       "    }\n",
       "</style>\n",
       "<table border=\"1\" class=\"dataframe\">\n",
       "  <thead>\n",
       "    <tr>\n",
       "      <th></th>\n",
       "      <th colspan=\"4\" halign=\"left\">value</th>\n",
       "      <th colspan=\"4\" halign=\"left\">value2</th>\n",
       "    </tr>\n",
       "    <tr>\n",
       "      <th>variable</th>\n",
       "      <th>A</th>\n",
       "      <th>B</th>\n",
       "      <th>C</th>\n",
       "      <th>D</th>\n",
       "      <th>A</th>\n",
       "      <th>B</th>\n",
       "      <th>C</th>\n",
       "      <th>D</th>\n",
       "    </tr>\n",
       "    <tr>\n",
       "      <th>date</th>\n",
       "      <th></th>\n",
       "      <th></th>\n",
       "      <th></th>\n",
       "      <th></th>\n",
       "      <th></th>\n",
       "      <th></th>\n",
       "      <th></th>\n",
       "      <th></th>\n",
       "    </tr>\n",
       "  </thead>\n",
       "  <tbody>\n",
       "    <tr>\n",
       "      <th>2020-01-03</th>\n",
       "      <td>0</td>\n",
       "      <td>3</td>\n",
       "      <td>6</td>\n",
       "      <td>9</td>\n",
       "      <td>0</td>\n",
       "      <td>6</td>\n",
       "      <td>12</td>\n",
       "      <td>18</td>\n",
       "    </tr>\n",
       "    <tr>\n",
       "      <th>2020-01-04</th>\n",
       "      <td>1</td>\n",
       "      <td>4</td>\n",
       "      <td>7</td>\n",
       "      <td>10</td>\n",
       "      <td>2</td>\n",
       "      <td>8</td>\n",
       "      <td>14</td>\n",
       "      <td>20</td>\n",
       "    </tr>\n",
       "    <tr>\n",
       "      <th>2020-01-05</th>\n",
       "      <td>2</td>\n",
       "      <td>5</td>\n",
       "      <td>8</td>\n",
       "      <td>11</td>\n",
       "      <td>4</td>\n",
       "      <td>10</td>\n",
       "      <td>16</td>\n",
       "      <td>22</td>\n",
       "    </tr>\n",
       "  </tbody>\n",
       "</table>\n",
       "</div>"
      ],
      "text/plain": [
       "           value           value2            \n",
       "variable       A  B  C   D      A   B   C   D\n",
       "date                                         \n",
       "2020-01-03     0  3  6   9      0   6  12  18\n",
       "2020-01-04     1  4  7  10      2   8  14  20\n",
       "2020-01-05     2  5  8  11      4  10  16  22"
      ]
     },
     "execution_count": 669,
     "metadata": {},
     "output_type": "execute_result"
    }
   ],
   "source": [
    "df3"
   ]
  },
  {
   "cell_type": "code",
   "execution_count": 670,
   "id": "6331f089",
   "metadata": {},
   "outputs": [
    {
     "data": {
      "application/vnd.microsoft.datawrangler.viewer.v0+json": {
       "columns": [
        {
         "name": "date",
         "rawType": "datetime64[ns]",
         "type": "datetime"
        },
        {
         "name": "A",
         "rawType": "int64",
         "type": "integer"
        },
        {
         "name": "B",
         "rawType": "int64",
         "type": "integer"
        },
        {
         "name": "C",
         "rawType": "int64",
         "type": "integer"
        },
        {
         "name": "D",
         "rawType": "int64",
         "type": "integer"
        }
       ],
       "ref": "5b94ad6b-8650-4eff-a318-36421024e81f",
       "rows": [
        [
         "2020-01-03 00:00:00",
         "0",
         "6",
         "12",
         "18"
        ],
        [
         "2020-01-04 00:00:00",
         "2",
         "8",
         "14",
         "20"
        ],
        [
         "2020-01-05 00:00:00",
         "4",
         "10",
         "16",
         "22"
        ]
       ],
       "shape": {
        "columns": 4,
        "rows": 3
       }
      },
      "text/html": [
       "<div>\n",
       "<style scoped>\n",
       "    .dataframe tbody tr th:only-of-type {\n",
       "        vertical-align: middle;\n",
       "    }\n",
       "\n",
       "    .dataframe tbody tr th {\n",
       "        vertical-align: top;\n",
       "    }\n",
       "\n",
       "    .dataframe thead th {\n",
       "        text-align: right;\n",
       "    }\n",
       "</style>\n",
       "<table border=\"1\" class=\"dataframe\">\n",
       "  <thead>\n",
       "    <tr style=\"text-align: right;\">\n",
       "      <th>variable</th>\n",
       "      <th>A</th>\n",
       "      <th>B</th>\n",
       "      <th>C</th>\n",
       "      <th>D</th>\n",
       "    </tr>\n",
       "    <tr>\n",
       "      <th>date</th>\n",
       "      <th></th>\n",
       "      <th></th>\n",
       "      <th></th>\n",
       "      <th></th>\n",
       "    </tr>\n",
       "  </thead>\n",
       "  <tbody>\n",
       "    <tr>\n",
       "      <th>2020-01-03</th>\n",
       "      <td>0</td>\n",
       "      <td>6</td>\n",
       "      <td>12</td>\n",
       "      <td>18</td>\n",
       "    </tr>\n",
       "    <tr>\n",
       "      <th>2020-01-04</th>\n",
       "      <td>2</td>\n",
       "      <td>8</td>\n",
       "      <td>14</td>\n",
       "      <td>20</td>\n",
       "    </tr>\n",
       "    <tr>\n",
       "      <th>2020-01-05</th>\n",
       "      <td>4</td>\n",
       "      <td>10</td>\n",
       "      <td>16</td>\n",
       "      <td>22</td>\n",
       "    </tr>\n",
       "  </tbody>\n",
       "</table>\n",
       "</div>"
      ],
      "text/plain": [
       "variable    A   B   C   D\n",
       "date                     \n",
       "2020-01-03  0   6  12  18\n",
       "2020-01-04  2   8  14  20\n",
       "2020-01-05  4  10  16  22"
      ]
     },
     "execution_count": 670,
     "metadata": {},
     "output_type": "execute_result"
    }
   ],
   "source": [
    "df3['value2']"
   ]
  },
  {
   "cell_type": "code",
   "execution_count": 671,
   "id": "9adf9c40",
   "metadata": {},
   "outputs": [],
   "source": [
    "import datetime\n",
    "\n",
    "df = pd.DataFrame(\n",
    "    {\n",
    "        \"A\": [\"one\", \"one\", \"two\", \"three\"] * 6,\n",
    "        \"B\": [\"A\", \"B\", \"C\"] * 8,\n",
    "        \"C\": [\"foo\", \"foo\", \"foo\", \"bar\", \"bar\", \"bar\"] * 4,\n",
    "        \"D\": np.random.randn(24),\n",
    "        \"E\": np.random.randn(24),\n",
    "        \"F\": [datetime.datetime(2013, i, 1) for i in range(1, 13)]\n",
    "        + [datetime.datetime(2013, i, 15) for i in range(1, 13)],\n",
    "    }\n",
    ")"
   ]
  },
  {
   "cell_type": "code",
   "execution_count": 672,
   "id": "a8c66cce",
   "metadata": {},
   "outputs": [
    {
     "data": {
      "application/vnd.microsoft.datawrangler.viewer.v0+json": {
       "columns": [
        {
         "name": "index",
         "rawType": "int64",
         "type": "integer"
        },
        {
         "name": "A",
         "rawType": "object",
         "type": "string"
        },
        {
         "name": "B",
         "rawType": "object",
         "type": "string"
        },
        {
         "name": "C",
         "rawType": "object",
         "type": "string"
        },
        {
         "name": "D",
         "rawType": "float64",
         "type": "float"
        },
        {
         "name": "E",
         "rawType": "float64",
         "type": "float"
        },
        {
         "name": "F",
         "rawType": "datetime64[ns]",
         "type": "datetime"
        }
       ],
       "ref": "4e83dddd-18f2-4983-a3f5-5dd1b3c10442",
       "rows": [
        [
         "0",
         "one",
         "A",
         "foo",
         "-0.3049973457242287",
         "1.1260785683371524",
         "2013-01-01 00:00:00"
        ],
        [
         "1",
         "one",
         "B",
         "foo",
         "0.6727939538975991",
         "1.5508168386849475",
         "2013-02-01 00:00:00"
        ],
        [
         "2",
         "two",
         "C",
         "foo",
         "0.9540903375194727",
         "0.8269732521926529",
         "2013-03-01 00:00:00"
        ],
        [
         "3",
         "three",
         "A",
         "bar",
         "1.3235835571407708",
         "-0.6774855264935835",
         "2013-04-01 00:00:00"
        ],
        [
         "4",
         "one",
         "B",
         "bar",
         "0.01571999101405935",
         "2.0875633761660835",
         "2013-05-01 00:00:00"
        ],
        [
         "5",
         "one",
         "C",
         "bar",
         "-0.8152932465490794",
         "0.11713421221327175",
         "2013-06-01 00:00:00"
        ],
        [
         "6",
         "two",
         "A",
         "foo",
         "0.16456204601222282",
         "-0.8557229223325742",
         "2013-07-01 00:00:00"
        ],
        [
         "7",
         "three",
         "B",
         "foo",
         "0.5765986612235435",
         "0.08211959247629233",
         "2013-08-01 00:00:00"
        ],
        [
         "8",
         "one",
         "C",
         "foo",
         "-0.8138374208533874",
         "1.2761493207592207",
         "2013-09-01 00:00:00"
        ],
        [
         "9",
         "one",
         "A",
         "bar",
         "1.020093630707612",
         "0.2709685074809869",
         "2013-10-01 00:00:00"
        ],
        [
         "10",
         "two",
         "B",
         "bar",
         "-0.538755164037333",
         "1.210187843103802",
         "2013-11-01 00:00:00"
        ],
        [
         "11",
         "three",
         "C",
         "bar",
         "-0.2738980637291465",
         "-0.9886306563756084",
         "2013-12-01 00:00:00"
        ],
        [
         "12",
         "one",
         "A",
         "foo",
         "1.3743497692841184",
         "-1.2533268673929856",
         "2013-01-15 00:00:00"
        ],
        [
         "13",
         "one",
         "B",
         "foo",
         "-0.7692081229859979",
         "-1.141823804215901",
         "2013-02-15 00:00:00"
        ],
        [
         "14",
         "two",
         "C",
         "foo",
         "-0.09495498839085295",
         "0.4879817404452166",
         "2013-03-15 00:00:00"
        ],
        [
         "15",
         "three",
         "A",
         "bar",
         "-0.3396423786030727",
         "1.1107103356424273",
         "2013-04-15 00:00:00"
        ],
        [
         "16",
         "one",
         "B",
         "bar",
         "1.1312378234606488",
         "1.775784680260083",
         "2013-05-15 00:00:00"
        ],
        [
         "17",
         "one",
         "C",
         "bar",
         "-1.1650738803217116",
         "-0.15892913903014896",
         "2013-06-15 00:00:00"
        ],
        [
         "18",
         "two",
         "A",
         "foo",
         "0.1918230563556888",
         "1.2566876699666722",
         "2013-07-15 00:00:00"
        ],
        [
         "19",
         "three",
         "B",
         "foo",
         "-0.42483220792387016",
         "0.48072188434021185",
         "2013-08-15 00:00:00"
        ],
        [
         "20",
         "one",
         "C",
         "foo",
         "0.6413098354855021",
         "0.545780550775707",
         "2013-09-15 00:00:00"
        ],
        [
         "21",
         "one",
         "A",
         "bar",
         "-1.3891167574920436",
         "-1.2147294680387855",
         "2013-10-15 00:00:00"
        ],
        [
         "22",
         "two",
         "B",
         "bar",
         "0.36749141967836474",
         "0.25940499159534586",
         "2013-11-15 00:00:00"
        ],
        [
         "23",
         "three",
         "C",
         "bar",
         "2.1647895536154382",
         "-1.8982041234114493",
         "2013-12-15 00:00:00"
        ]
       ],
       "shape": {
        "columns": 6,
        "rows": 24
       }
      },
      "text/html": [
       "<div>\n",
       "<style scoped>\n",
       "    .dataframe tbody tr th:only-of-type {\n",
       "        vertical-align: middle;\n",
       "    }\n",
       "\n",
       "    .dataframe tbody tr th {\n",
       "        vertical-align: top;\n",
       "    }\n",
       "\n",
       "    .dataframe thead th {\n",
       "        text-align: right;\n",
       "    }\n",
       "</style>\n",
       "<table border=\"1\" class=\"dataframe\">\n",
       "  <thead>\n",
       "    <tr style=\"text-align: right;\">\n",
       "      <th></th>\n",
       "      <th>A</th>\n",
       "      <th>B</th>\n",
       "      <th>C</th>\n",
       "      <th>D</th>\n",
       "      <th>E</th>\n",
       "      <th>F</th>\n",
       "    </tr>\n",
       "  </thead>\n",
       "  <tbody>\n",
       "    <tr>\n",
       "      <th>0</th>\n",
       "      <td>one</td>\n",
       "      <td>A</td>\n",
       "      <td>foo</td>\n",
       "      <td>-0.304997</td>\n",
       "      <td>1.126079</td>\n",
       "      <td>2013-01-01</td>\n",
       "    </tr>\n",
       "    <tr>\n",
       "      <th>1</th>\n",
       "      <td>one</td>\n",
       "      <td>B</td>\n",
       "      <td>foo</td>\n",
       "      <td>0.672794</td>\n",
       "      <td>1.550817</td>\n",
       "      <td>2013-02-01</td>\n",
       "    </tr>\n",
       "    <tr>\n",
       "      <th>2</th>\n",
       "      <td>two</td>\n",
       "      <td>C</td>\n",
       "      <td>foo</td>\n",
       "      <td>0.954090</td>\n",
       "      <td>0.826973</td>\n",
       "      <td>2013-03-01</td>\n",
       "    </tr>\n",
       "    <tr>\n",
       "      <th>3</th>\n",
       "      <td>three</td>\n",
       "      <td>A</td>\n",
       "      <td>bar</td>\n",
       "      <td>1.323584</td>\n",
       "      <td>-0.677486</td>\n",
       "      <td>2013-04-01</td>\n",
       "    </tr>\n",
       "    <tr>\n",
       "      <th>4</th>\n",
       "      <td>one</td>\n",
       "      <td>B</td>\n",
       "      <td>bar</td>\n",
       "      <td>0.015720</td>\n",
       "      <td>2.087563</td>\n",
       "      <td>2013-05-01</td>\n",
       "    </tr>\n",
       "    <tr>\n",
       "      <th>5</th>\n",
       "      <td>one</td>\n",
       "      <td>C</td>\n",
       "      <td>bar</td>\n",
       "      <td>-0.815293</td>\n",
       "      <td>0.117134</td>\n",
       "      <td>2013-06-01</td>\n",
       "    </tr>\n",
       "    <tr>\n",
       "      <th>6</th>\n",
       "      <td>two</td>\n",
       "      <td>A</td>\n",
       "      <td>foo</td>\n",
       "      <td>0.164562</td>\n",
       "      <td>-0.855723</td>\n",
       "      <td>2013-07-01</td>\n",
       "    </tr>\n",
       "    <tr>\n",
       "      <th>7</th>\n",
       "      <td>three</td>\n",
       "      <td>B</td>\n",
       "      <td>foo</td>\n",
       "      <td>0.576599</td>\n",
       "      <td>0.082120</td>\n",
       "      <td>2013-08-01</td>\n",
       "    </tr>\n",
       "    <tr>\n",
       "      <th>8</th>\n",
       "      <td>one</td>\n",
       "      <td>C</td>\n",
       "      <td>foo</td>\n",
       "      <td>-0.813837</td>\n",
       "      <td>1.276149</td>\n",
       "      <td>2013-09-01</td>\n",
       "    </tr>\n",
       "    <tr>\n",
       "      <th>9</th>\n",
       "      <td>one</td>\n",
       "      <td>A</td>\n",
       "      <td>bar</td>\n",
       "      <td>1.020094</td>\n",
       "      <td>0.270969</td>\n",
       "      <td>2013-10-01</td>\n",
       "    </tr>\n",
       "    <tr>\n",
       "      <th>10</th>\n",
       "      <td>two</td>\n",
       "      <td>B</td>\n",
       "      <td>bar</td>\n",
       "      <td>-0.538755</td>\n",
       "      <td>1.210188</td>\n",
       "      <td>2013-11-01</td>\n",
       "    </tr>\n",
       "    <tr>\n",
       "      <th>11</th>\n",
       "      <td>three</td>\n",
       "      <td>C</td>\n",
       "      <td>bar</td>\n",
       "      <td>-0.273898</td>\n",
       "      <td>-0.988631</td>\n",
       "      <td>2013-12-01</td>\n",
       "    </tr>\n",
       "    <tr>\n",
       "      <th>12</th>\n",
       "      <td>one</td>\n",
       "      <td>A</td>\n",
       "      <td>foo</td>\n",
       "      <td>1.374350</td>\n",
       "      <td>-1.253327</td>\n",
       "      <td>2013-01-15</td>\n",
       "    </tr>\n",
       "    <tr>\n",
       "      <th>13</th>\n",
       "      <td>one</td>\n",
       "      <td>B</td>\n",
       "      <td>foo</td>\n",
       "      <td>-0.769208</td>\n",
       "      <td>-1.141824</td>\n",
       "      <td>2013-02-15</td>\n",
       "    </tr>\n",
       "    <tr>\n",
       "      <th>14</th>\n",
       "      <td>two</td>\n",
       "      <td>C</td>\n",
       "      <td>foo</td>\n",
       "      <td>-0.094955</td>\n",
       "      <td>0.487982</td>\n",
       "      <td>2013-03-15</td>\n",
       "    </tr>\n",
       "    <tr>\n",
       "      <th>15</th>\n",
       "      <td>three</td>\n",
       "      <td>A</td>\n",
       "      <td>bar</td>\n",
       "      <td>-0.339642</td>\n",
       "      <td>1.110710</td>\n",
       "      <td>2013-04-15</td>\n",
       "    </tr>\n",
       "    <tr>\n",
       "      <th>16</th>\n",
       "      <td>one</td>\n",
       "      <td>B</td>\n",
       "      <td>bar</td>\n",
       "      <td>1.131238</td>\n",
       "      <td>1.775785</td>\n",
       "      <td>2013-05-15</td>\n",
       "    </tr>\n",
       "    <tr>\n",
       "      <th>17</th>\n",
       "      <td>one</td>\n",
       "      <td>C</td>\n",
       "      <td>bar</td>\n",
       "      <td>-1.165074</td>\n",
       "      <td>-0.158929</td>\n",
       "      <td>2013-06-15</td>\n",
       "    </tr>\n",
       "    <tr>\n",
       "      <th>18</th>\n",
       "      <td>two</td>\n",
       "      <td>A</td>\n",
       "      <td>foo</td>\n",
       "      <td>0.191823</td>\n",
       "      <td>1.256688</td>\n",
       "      <td>2013-07-15</td>\n",
       "    </tr>\n",
       "    <tr>\n",
       "      <th>19</th>\n",
       "      <td>three</td>\n",
       "      <td>B</td>\n",
       "      <td>foo</td>\n",
       "      <td>-0.424832</td>\n",
       "      <td>0.480722</td>\n",
       "      <td>2013-08-15</td>\n",
       "    </tr>\n",
       "    <tr>\n",
       "      <th>20</th>\n",
       "      <td>one</td>\n",
       "      <td>C</td>\n",
       "      <td>foo</td>\n",
       "      <td>0.641310</td>\n",
       "      <td>0.545781</td>\n",
       "      <td>2013-09-15</td>\n",
       "    </tr>\n",
       "    <tr>\n",
       "      <th>21</th>\n",
       "      <td>one</td>\n",
       "      <td>A</td>\n",
       "      <td>bar</td>\n",
       "      <td>-1.389117</td>\n",
       "      <td>-1.214729</td>\n",
       "      <td>2013-10-15</td>\n",
       "    </tr>\n",
       "    <tr>\n",
       "      <th>22</th>\n",
       "      <td>two</td>\n",
       "      <td>B</td>\n",
       "      <td>bar</td>\n",
       "      <td>0.367491</td>\n",
       "      <td>0.259405</td>\n",
       "      <td>2013-11-15</td>\n",
       "    </tr>\n",
       "    <tr>\n",
       "      <th>23</th>\n",
       "      <td>three</td>\n",
       "      <td>C</td>\n",
       "      <td>bar</td>\n",
       "      <td>2.164790</td>\n",
       "      <td>-1.898204</td>\n",
       "      <td>2013-12-15</td>\n",
       "    </tr>\n",
       "  </tbody>\n",
       "</table>\n",
       "</div>"
      ],
      "text/plain": [
       "        A  B    C         D         E          F\n",
       "0     one  A  foo -0.304997  1.126079 2013-01-01\n",
       "1     one  B  foo  0.672794  1.550817 2013-02-01\n",
       "2     two  C  foo  0.954090  0.826973 2013-03-01\n",
       "3   three  A  bar  1.323584 -0.677486 2013-04-01\n",
       "4     one  B  bar  0.015720  2.087563 2013-05-01\n",
       "5     one  C  bar -0.815293  0.117134 2013-06-01\n",
       "6     two  A  foo  0.164562 -0.855723 2013-07-01\n",
       "7   three  B  foo  0.576599  0.082120 2013-08-01\n",
       "8     one  C  foo -0.813837  1.276149 2013-09-01\n",
       "9     one  A  bar  1.020094  0.270969 2013-10-01\n",
       "10    two  B  bar -0.538755  1.210188 2013-11-01\n",
       "11  three  C  bar -0.273898 -0.988631 2013-12-01\n",
       "12    one  A  foo  1.374350 -1.253327 2013-01-15\n",
       "13    one  B  foo -0.769208 -1.141824 2013-02-15\n",
       "14    two  C  foo -0.094955  0.487982 2013-03-15\n",
       "15  three  A  bar -0.339642  1.110710 2013-04-15\n",
       "16    one  B  bar  1.131238  1.775785 2013-05-15\n",
       "17    one  C  bar -1.165074 -0.158929 2013-06-15\n",
       "18    two  A  foo  0.191823  1.256688 2013-07-15\n",
       "19  three  B  foo -0.424832  0.480722 2013-08-15\n",
       "20    one  C  foo  0.641310  0.545781 2013-09-15\n",
       "21    one  A  bar -1.389117 -1.214729 2013-10-15\n",
       "22    two  B  bar  0.367491  0.259405 2013-11-15\n",
       "23  three  C  bar  2.164790 -1.898204 2013-12-15"
      ]
     },
     "execution_count": 672,
     "metadata": {},
     "output_type": "execute_result"
    }
   ],
   "source": [
    "df"
   ]
  },
  {
   "cell_type": "code",
   "execution_count": 673,
   "id": "cd123130",
   "metadata": {},
   "outputs": [
    {
     "data": {
      "application/vnd.microsoft.datawrangler.viewer.v0+json": {
       "columns": [
        {
         "name": "('A', 'B')",
         "rawType": "object",
         "type": "unknown"
        },
        {
         "name": "bar",
         "rawType": "float64",
         "type": "float"
        },
        {
         "name": "foo",
         "rawType": "float64",
         "type": "float"
        }
       ],
       "ref": "92ab5de1-66ce-4349-8dd6-93a752536992",
       "rows": [
        [
         "('one', 'A')",
         "-0.18451156339221575",
         "0.5346762117799448"
        ],
        [
         "('one', 'B')",
         "0.5734789072373541",
         "-0.04820708454419942"
        ],
        [
         "('one', 'C')",
         "-0.9901835634353955",
         "-0.08626379268394263"
        ],
        [
         "('three', 'A')",
         "0.49197058926884907",
         null
        ],
        [
         "('three', 'B')",
         null,
         "0.07588322664983668"
        ],
        [
         "('three', 'C')",
         "0.9454457449431459",
         null
        ],
        [
         "('two', 'A')",
         null,
         "0.17819255118395583"
        ],
        [
         "('two', 'B')",
         "-0.08563187217948415",
         null
        ],
        [
         "('two', 'C')",
         null,
         "0.4295676745643099"
        ]
       ],
       "shape": {
        "columns": 2,
        "rows": 9
       }
      },
      "text/html": [
       "<div>\n",
       "<style scoped>\n",
       "    .dataframe tbody tr th:only-of-type {\n",
       "        vertical-align: middle;\n",
       "    }\n",
       "\n",
       "    .dataframe tbody tr th {\n",
       "        vertical-align: top;\n",
       "    }\n",
       "\n",
       "    .dataframe thead th {\n",
       "        text-align: right;\n",
       "    }\n",
       "</style>\n",
       "<table border=\"1\" class=\"dataframe\">\n",
       "  <thead>\n",
       "    <tr style=\"text-align: right;\">\n",
       "      <th></th>\n",
       "      <th>C</th>\n",
       "      <th>bar</th>\n",
       "      <th>foo</th>\n",
       "    </tr>\n",
       "    <tr>\n",
       "      <th>A</th>\n",
       "      <th>B</th>\n",
       "      <th></th>\n",
       "      <th></th>\n",
       "    </tr>\n",
       "  </thead>\n",
       "  <tbody>\n",
       "    <tr>\n",
       "      <th rowspan=\"3\" valign=\"top\">one</th>\n",
       "      <th>A</th>\n",
       "      <td>-0.184512</td>\n",
       "      <td>0.534676</td>\n",
       "    </tr>\n",
       "    <tr>\n",
       "      <th>B</th>\n",
       "      <td>0.573479</td>\n",
       "      <td>-0.048207</td>\n",
       "    </tr>\n",
       "    <tr>\n",
       "      <th>C</th>\n",
       "      <td>-0.990184</td>\n",
       "      <td>-0.086264</td>\n",
       "    </tr>\n",
       "    <tr>\n",
       "      <th rowspan=\"3\" valign=\"top\">three</th>\n",
       "      <th>A</th>\n",
       "      <td>0.491971</td>\n",
       "      <td>NaN</td>\n",
       "    </tr>\n",
       "    <tr>\n",
       "      <th>B</th>\n",
       "      <td>NaN</td>\n",
       "      <td>0.075883</td>\n",
       "    </tr>\n",
       "    <tr>\n",
       "      <th>C</th>\n",
       "      <td>0.945446</td>\n",
       "      <td>NaN</td>\n",
       "    </tr>\n",
       "    <tr>\n",
       "      <th rowspan=\"3\" valign=\"top\">two</th>\n",
       "      <th>A</th>\n",
       "      <td>NaN</td>\n",
       "      <td>0.178193</td>\n",
       "    </tr>\n",
       "    <tr>\n",
       "      <th>B</th>\n",
       "      <td>-0.085632</td>\n",
       "      <td>NaN</td>\n",
       "    </tr>\n",
       "    <tr>\n",
       "      <th>C</th>\n",
       "      <td>NaN</td>\n",
       "      <td>0.429568</td>\n",
       "    </tr>\n",
       "  </tbody>\n",
       "</table>\n",
       "</div>"
      ],
      "text/plain": [
       "C             bar       foo\n",
       "A     B                    \n",
       "one   A -0.184512  0.534676\n",
       "      B  0.573479 -0.048207\n",
       "      C -0.990184 -0.086264\n",
       "three A  0.491971       NaN\n",
       "      B       NaN  0.075883\n",
       "      C  0.945446       NaN\n",
       "two   A       NaN  0.178193\n",
       "      B -0.085632       NaN\n",
       "      C       NaN  0.429568"
      ]
     },
     "execution_count": 673,
     "metadata": {},
     "output_type": "execute_result"
    }
   ],
   "source": [
    "df.pivot_table(values='D', index=['A', 'B'], columns='C', aggfunc='mean')"
   ]
  },
  {
   "cell_type": "code",
   "execution_count": 674,
   "id": "01a019c7",
   "metadata": {},
   "outputs": [
    {
     "data": {
      "application/vnd.microsoft.datawrangler.viewer.v0+json": {
       "columns": [
        {
         "name": "F",
         "rawType": "datetime64[ns]",
         "type": "datetime"
        },
        {
         "name": "bar",
         "rawType": "float64",
         "type": "float"
        },
        {
         "name": "foo",
         "rawType": "float64",
         "type": "float"
        }
       ],
       "ref": "e10ae9b3-56e2-448a-a87c-eddfda2c4e09",
       "rows": [
        [
         "2013-01-31 00:00:00",
         null,
         "0.5346762117799448"
        ],
        [
         "2013-02-28 00:00:00",
         null,
         "-0.04820708454419942"
        ],
        [
         "2013-03-31 00:00:00",
         null,
         "0.4295676745643099"
        ],
        [
         "2013-04-30 00:00:00",
         "0.49197058926884907",
         null
        ],
        [
         "2013-05-31 00:00:00",
         "0.5734789072373541",
         null
        ],
        [
         "2013-06-30 00:00:00",
         "-0.9901835634353955",
         null
        ],
        [
         "2013-07-31 00:00:00",
         null,
         "0.17819255118395583"
        ],
        [
         "2013-08-31 00:00:00",
         null,
         "0.07588322664983668"
        ],
        [
         "2013-09-30 00:00:00",
         null,
         "-0.08626379268394263"
        ],
        [
         "2013-10-31 00:00:00",
         "-0.18451156339221575",
         null
        ],
        [
         "2013-11-30 00:00:00",
         "-0.08563187217948415",
         null
        ],
        [
         "2013-12-31 00:00:00",
         "0.9454457449431459",
         null
        ]
       ],
       "shape": {
        "columns": 2,
        "rows": 12
       }
      },
      "text/html": [
       "<div>\n",
       "<style scoped>\n",
       "    .dataframe tbody tr th:only-of-type {\n",
       "        vertical-align: middle;\n",
       "    }\n",
       "\n",
       "    .dataframe tbody tr th {\n",
       "        vertical-align: top;\n",
       "    }\n",
       "\n",
       "    .dataframe thead th {\n",
       "        text-align: right;\n",
       "    }\n",
       "</style>\n",
       "<table border=\"1\" class=\"dataframe\">\n",
       "  <thead>\n",
       "    <tr style=\"text-align: right;\">\n",
       "      <th>C</th>\n",
       "      <th>bar</th>\n",
       "      <th>foo</th>\n",
       "    </tr>\n",
       "    <tr>\n",
       "      <th>F</th>\n",
       "      <th></th>\n",
       "      <th></th>\n",
       "    </tr>\n",
       "  </thead>\n",
       "  <tbody>\n",
       "    <tr>\n",
       "      <th>2013-01-31</th>\n",
       "      <td>NaN</td>\n",
       "      <td>0.534676</td>\n",
       "    </tr>\n",
       "    <tr>\n",
       "      <th>2013-02-28</th>\n",
       "      <td>NaN</td>\n",
       "      <td>-0.048207</td>\n",
       "    </tr>\n",
       "    <tr>\n",
       "      <th>2013-03-31</th>\n",
       "      <td>NaN</td>\n",
       "      <td>0.429568</td>\n",
       "    </tr>\n",
       "    <tr>\n",
       "      <th>2013-04-30</th>\n",
       "      <td>0.491971</td>\n",
       "      <td>NaN</td>\n",
       "    </tr>\n",
       "    <tr>\n",
       "      <th>2013-05-31</th>\n",
       "      <td>0.573479</td>\n",
       "      <td>NaN</td>\n",
       "    </tr>\n",
       "    <tr>\n",
       "      <th>2013-06-30</th>\n",
       "      <td>-0.990184</td>\n",
       "      <td>NaN</td>\n",
       "    </tr>\n",
       "    <tr>\n",
       "      <th>2013-07-31</th>\n",
       "      <td>NaN</td>\n",
       "      <td>0.178193</td>\n",
       "    </tr>\n",
       "    <tr>\n",
       "      <th>2013-08-31</th>\n",
       "      <td>NaN</td>\n",
       "      <td>0.075883</td>\n",
       "    </tr>\n",
       "    <tr>\n",
       "      <th>2013-09-30</th>\n",
       "      <td>NaN</td>\n",
       "      <td>-0.086264</td>\n",
       "    </tr>\n",
       "    <tr>\n",
       "      <th>2013-10-31</th>\n",
       "      <td>-0.184512</td>\n",
       "      <td>NaN</td>\n",
       "    </tr>\n",
       "    <tr>\n",
       "      <th>2013-11-30</th>\n",
       "      <td>-0.085632</td>\n",
       "      <td>NaN</td>\n",
       "    </tr>\n",
       "    <tr>\n",
       "      <th>2013-12-31</th>\n",
       "      <td>0.945446</td>\n",
       "      <td>NaN</td>\n",
       "    </tr>\n",
       "  </tbody>\n",
       "</table>\n",
       "</div>"
      ],
      "text/plain": [
       "C                bar       foo\n",
       "F                             \n",
       "2013-01-31       NaN  0.534676\n",
       "2013-02-28       NaN -0.048207\n",
       "2013-03-31       NaN  0.429568\n",
       "2013-04-30  0.491971       NaN\n",
       "2013-05-31  0.573479       NaN\n",
       "2013-06-30 -0.990184       NaN\n",
       "2013-07-31       NaN  0.178193\n",
       "2013-08-31       NaN  0.075883\n",
       "2013-09-30       NaN -0.086264\n",
       "2013-10-31 -0.184512       NaN\n",
       "2013-11-30 -0.085632       NaN\n",
       "2013-12-31  0.945446       NaN"
      ]
     },
     "execution_count": 674,
     "metadata": {},
     "output_type": "execute_result"
    }
   ],
   "source": [
    "pd.pivot_table(df, values='D', index=pd.Grouper(freq=\"ME\", key=\"F\"), columns=\"C\")"
   ]
  },
  {
   "cell_type": "code",
   "execution_count": 675,
   "id": "63235bf3",
   "metadata": {},
   "outputs": [],
   "source": [
    "table = df.pivot_table(\n",
    "    index=['A', 'B'],\n",
    "    columns='C',\n",
    "    values=['D', 'E'],\n",
    "    margins=True,\n",
    "    aggfunc='std'\n",
    ")"
   ]
  },
  {
   "cell_type": "code",
   "execution_count": 676,
   "id": "dffd3f61",
   "metadata": {},
   "outputs": [
    {
     "data": {
      "application/vnd.microsoft.datawrangler.viewer.v0+json": {
       "columns": [
        {
         "name": "('A', 'B', 'C')",
         "rawType": "object",
         "type": "unknown"
        },
        {
         "name": "D",
         "rawType": "float64",
         "type": "float"
        },
        {
         "name": "E",
         "rawType": "float64",
         "type": "float"
        }
       ],
       "ref": "357ffc69-779b-4b40-a6fb-e1a0a4a5b3c5",
       "rows": [
        [
         "('one', 'A', 'bar')",
         "1.703569002801051",
         "1.0505471132851563"
        ],
        [
         "('one', 'A', 'foo')",
         "1.1874777329884671",
         "1.6824937187969125"
        ],
        [
         "('one', 'A', 'All')",
         "1.268789681757787",
         "1.169203087950805"
        ],
        [
         "('one', 'B', 'bar')",
         "0.7887902238575024",
         "0.22046083010463136"
        ],
        [
         "('one', 'B', 'foo')",
         "1.0196494470494768",
         "1.9039844578936949"
        ],
        [
         "('one', 'B', 'All')",
         "0.8263107737606729",
         "1.4896198561983596"
        ],
        [
         "('one', 'C', 'bar')",
         "0.24733225806835651",
         "0.1952062677013065"
        ],
        [
         "('one', 'C', 'foo')",
         "1.0289444925822282",
         "0.5164487100222203"
        ],
        [
         "('one', 'C', 'All')",
         "0.8035278395201687",
         "0.6253511781474892"
        ],
        [
         "('three', 'A', 'bar')",
         "1.1760783378098127",
         "1.264445420206098"
        ],
        [
         "('three', 'A', 'foo')",
         null,
         null
        ],
        [
         "('three', 'A', 'All')",
         "1.1760783378098127",
         "1.264445420206098"
        ],
        [
         "('three', 'B', 'bar')",
         null,
         null
        ],
        [
         "('three', 'B', 'foo')",
         "0.7081185584636743",
         "0.28185438357347686"
        ],
        [
         "('three', 'B', 'All')",
         "0.7081185584636743",
         "0.28185438357347686"
        ],
        [
         "('three', 'C', 'bar')",
         "1.7244125514200204",
         "0.6431655665284018"
        ],
        [
         "('three', 'C', 'foo')",
         null,
         null
        ],
        [
         "('three', 'C', 'All')",
         "1.7244125514200204",
         "0.6431655665284018"
        ],
        [
         "('two', 'A', 'bar')",
         null,
         null
        ],
        [
         "('two', 'A', 'foo')",
         "0.019276445275861396",
         "1.4936998544650886"
        ],
        [
         "('two', 'A', 'All')",
         "0.019276445275861396",
         "1.4936998544650886"
        ],
        [
         "('two', 'B', 'bar')",
         "0.6408131047725121",
         "0.6723050017375116"
        ],
        [
         "('two', 'B', 'foo')",
         null,
         null
        ],
        [
         "('two', 'B', 'All')",
         "0.6408131047725121",
         "0.6723050017375116"
        ],
        [
         "('two', 'C', 'bar')",
         null,
         null
        ],
        [
         "('two', 'C', 'foo')",
         "0.7417870637232431",
         "0.2397031967212914"
        ],
        [
         "('two', 'C', 'All')",
         "0.7417870637232431",
         "0.2397031967212914"
        ],
        [
         "('All', '', 'bar')",
         "1.0928848362131403",
         "1.2286547109841455"
        ],
        [
         "('All', '', 'foo')",
         "0.6878396412858268",
         "0.9697705545957276"
        ],
        [
         "('All', '', 'All')",
         "0.893484621030031",
         "1.0876496456774793"
        ]
       ],
       "shape": {
        "columns": 2,
        "rows": 30
       }
      },
      "text/html": [
       "<div>\n",
       "<style scoped>\n",
       "    .dataframe tbody tr th:only-of-type {\n",
       "        vertical-align: middle;\n",
       "    }\n",
       "\n",
       "    .dataframe tbody tr th {\n",
       "        vertical-align: top;\n",
       "    }\n",
       "\n",
       "    .dataframe thead th {\n",
       "        text-align: right;\n",
       "    }\n",
       "</style>\n",
       "<table border=\"1\" class=\"dataframe\">\n",
       "  <thead>\n",
       "    <tr style=\"text-align: right;\">\n",
       "      <th></th>\n",
       "      <th></th>\n",
       "      <th></th>\n",
       "      <th>D</th>\n",
       "      <th>E</th>\n",
       "    </tr>\n",
       "    <tr>\n",
       "      <th>A</th>\n",
       "      <th>B</th>\n",
       "      <th>C</th>\n",
       "      <th></th>\n",
       "      <th></th>\n",
       "    </tr>\n",
       "  </thead>\n",
       "  <tbody>\n",
       "    <tr>\n",
       "      <th rowspan=\"9\" valign=\"top\">one</th>\n",
       "      <th rowspan=\"3\" valign=\"top\">A</th>\n",
       "      <th>bar</th>\n",
       "      <td>1.703569</td>\n",
       "      <td>1.050547</td>\n",
       "    </tr>\n",
       "    <tr>\n",
       "      <th>foo</th>\n",
       "      <td>1.187478</td>\n",
       "      <td>1.682494</td>\n",
       "    </tr>\n",
       "    <tr>\n",
       "      <th>All</th>\n",
       "      <td>1.268790</td>\n",
       "      <td>1.169203</td>\n",
       "    </tr>\n",
       "    <tr>\n",
       "      <th rowspan=\"3\" valign=\"top\">B</th>\n",
       "      <th>bar</th>\n",
       "      <td>0.788790</td>\n",
       "      <td>0.220461</td>\n",
       "    </tr>\n",
       "    <tr>\n",
       "      <th>foo</th>\n",
       "      <td>1.019649</td>\n",
       "      <td>1.903984</td>\n",
       "    </tr>\n",
       "    <tr>\n",
       "      <th>All</th>\n",
       "      <td>0.826311</td>\n",
       "      <td>1.489620</td>\n",
       "    </tr>\n",
       "    <tr>\n",
       "      <th rowspan=\"3\" valign=\"top\">C</th>\n",
       "      <th>bar</th>\n",
       "      <td>0.247332</td>\n",
       "      <td>0.195206</td>\n",
       "    </tr>\n",
       "    <tr>\n",
       "      <th>foo</th>\n",
       "      <td>1.028944</td>\n",
       "      <td>0.516449</td>\n",
       "    </tr>\n",
       "    <tr>\n",
       "      <th>All</th>\n",
       "      <td>0.803528</td>\n",
       "      <td>0.625351</td>\n",
       "    </tr>\n",
       "    <tr>\n",
       "      <th rowspan=\"9\" valign=\"top\">three</th>\n",
       "      <th rowspan=\"3\" valign=\"top\">A</th>\n",
       "      <th>bar</th>\n",
       "      <td>1.176078</td>\n",
       "      <td>1.264445</td>\n",
       "    </tr>\n",
       "    <tr>\n",
       "      <th>foo</th>\n",
       "      <td>NaN</td>\n",
       "      <td>NaN</td>\n",
       "    </tr>\n",
       "    <tr>\n",
       "      <th>All</th>\n",
       "      <td>1.176078</td>\n",
       "      <td>1.264445</td>\n",
       "    </tr>\n",
       "    <tr>\n",
       "      <th rowspan=\"3\" valign=\"top\">B</th>\n",
       "      <th>bar</th>\n",
       "      <td>NaN</td>\n",
       "      <td>NaN</td>\n",
       "    </tr>\n",
       "    <tr>\n",
       "      <th>foo</th>\n",
       "      <td>0.708119</td>\n",
       "      <td>0.281854</td>\n",
       "    </tr>\n",
       "    <tr>\n",
       "      <th>All</th>\n",
       "      <td>0.708119</td>\n",
       "      <td>0.281854</td>\n",
       "    </tr>\n",
       "    <tr>\n",
       "      <th rowspan=\"3\" valign=\"top\">C</th>\n",
       "      <th>bar</th>\n",
       "      <td>1.724413</td>\n",
       "      <td>0.643166</td>\n",
       "    </tr>\n",
       "    <tr>\n",
       "      <th>foo</th>\n",
       "      <td>NaN</td>\n",
       "      <td>NaN</td>\n",
       "    </tr>\n",
       "    <tr>\n",
       "      <th>All</th>\n",
       "      <td>1.724413</td>\n",
       "      <td>0.643166</td>\n",
       "    </tr>\n",
       "    <tr>\n",
       "      <th rowspan=\"9\" valign=\"top\">two</th>\n",
       "      <th rowspan=\"3\" valign=\"top\">A</th>\n",
       "      <th>bar</th>\n",
       "      <td>NaN</td>\n",
       "      <td>NaN</td>\n",
       "    </tr>\n",
       "    <tr>\n",
       "      <th>foo</th>\n",
       "      <td>0.019276</td>\n",
       "      <td>1.493700</td>\n",
       "    </tr>\n",
       "    <tr>\n",
       "      <th>All</th>\n",
       "      <td>0.019276</td>\n",
       "      <td>1.493700</td>\n",
       "    </tr>\n",
       "    <tr>\n",
       "      <th rowspan=\"3\" valign=\"top\">B</th>\n",
       "      <th>bar</th>\n",
       "      <td>0.640813</td>\n",
       "      <td>0.672305</td>\n",
       "    </tr>\n",
       "    <tr>\n",
       "      <th>foo</th>\n",
       "      <td>NaN</td>\n",
       "      <td>NaN</td>\n",
       "    </tr>\n",
       "    <tr>\n",
       "      <th>All</th>\n",
       "      <td>0.640813</td>\n",
       "      <td>0.672305</td>\n",
       "    </tr>\n",
       "    <tr>\n",
       "      <th rowspan=\"3\" valign=\"top\">C</th>\n",
       "      <th>bar</th>\n",
       "      <td>NaN</td>\n",
       "      <td>NaN</td>\n",
       "    </tr>\n",
       "    <tr>\n",
       "      <th>foo</th>\n",
       "      <td>0.741787</td>\n",
       "      <td>0.239703</td>\n",
       "    </tr>\n",
       "    <tr>\n",
       "      <th>All</th>\n",
       "      <td>0.741787</td>\n",
       "      <td>0.239703</td>\n",
       "    </tr>\n",
       "    <tr>\n",
       "      <th rowspan=\"3\" valign=\"top\">All</th>\n",
       "      <th rowspan=\"3\" valign=\"top\"></th>\n",
       "      <th>bar</th>\n",
       "      <td>1.092885</td>\n",
       "      <td>1.228655</td>\n",
       "    </tr>\n",
       "    <tr>\n",
       "      <th>foo</th>\n",
       "      <td>0.687840</td>\n",
       "      <td>0.969771</td>\n",
       "    </tr>\n",
       "    <tr>\n",
       "      <th>All</th>\n",
       "      <td>0.893485</td>\n",
       "      <td>1.087650</td>\n",
       "    </tr>\n",
       "  </tbody>\n",
       "</table>\n",
       "</div>"
      ],
      "text/plain": [
       "                    D         E\n",
       "A     B C                      \n",
       "one   A bar  1.703569  1.050547\n",
       "        foo  1.187478  1.682494\n",
       "        All  1.268790  1.169203\n",
       "      B bar  0.788790  0.220461\n",
       "        foo  1.019649  1.903984\n",
       "        All  0.826311  1.489620\n",
       "      C bar  0.247332  0.195206\n",
       "        foo  1.028944  0.516449\n",
       "        All  0.803528  0.625351\n",
       "three A bar  1.176078  1.264445\n",
       "        foo       NaN       NaN\n",
       "        All  1.176078  1.264445\n",
       "      B bar       NaN       NaN\n",
       "        foo  0.708119  0.281854\n",
       "        All  0.708119  0.281854\n",
       "      C bar  1.724413  0.643166\n",
       "        foo       NaN       NaN\n",
       "        All  1.724413  0.643166\n",
       "two   A bar       NaN       NaN\n",
       "        foo  0.019276  1.493700\n",
       "        All  0.019276  1.493700\n",
       "      B bar  0.640813  0.672305\n",
       "        foo       NaN       NaN\n",
       "        All  0.640813  0.672305\n",
       "      C bar       NaN       NaN\n",
       "        foo  0.741787  0.239703\n",
       "        All  0.741787  0.239703\n",
       "All     bar  1.092885  1.228655\n",
       "        foo  0.687840  0.969771\n",
       "        All  0.893485  1.087650"
      ]
     },
     "execution_count": 676,
     "metadata": {},
     "output_type": "execute_result"
    }
   ],
   "source": [
    "table.stack(future_stack=True)"
   ]
  },
  {
   "cell_type": "code",
   "execution_count": 677,
   "id": "809b40c3",
   "metadata": {},
   "outputs": [],
   "source": [
    "tuples = [\n",
    "   [\"bar\", \"bar\", \"baz\", \"baz\", \"foo\", \"foo\", \"qux\", \"qux\"],\n",
    "   [\"one\", \"two\", \"one\", \"two\", \"one\", \"two\", \"one\", \"two\"],\n",
    "]\n",
    "\n",
    "\n",
    "index = pd.MultiIndex.from_arrays(tuples, names=[\"first\", \"second\"])\n",
    "\n",
    "df = pd.DataFrame(np.random.randn(8, 2), index=index, columns=[\"A\", \"B\"])"
   ]
  },
  {
   "cell_type": "code",
   "execution_count": 678,
   "id": "7ffd23ea",
   "metadata": {},
   "outputs": [
    {
     "data": {
      "application/vnd.microsoft.datawrangler.viewer.v0+json": {
       "columns": [
        {
         "name": "('first', 'second')",
         "rawType": "object",
         "type": "unknown"
        },
        {
         "name": "A",
         "rawType": "float64",
         "type": "float"
        },
        {
         "name": "B",
         "rawType": "float64",
         "type": "float"
        }
       ],
       "ref": "51e133ff-1fdf-4362-89d8-d2d2a60eca70",
       "rows": [
        [
         "('bar', 'one')",
         "0.9332799448830553",
         "0.410756695428805"
        ],
        [
         "('bar', 'two')",
         "-1.2091164436771396",
         "1.0722070413517635"
        ],
        [
         "('baz', 'one')",
         "-2.076375787121184",
         "-0.03208686951803862"
        ],
        [
         "('baz', 'two')",
         "-1.1799049739266243",
         "0.8190412764187295"
        ],
        [
         "('foo', 'one')",
         "0.16936168986434724",
         "0.39506580541802777"
        ],
        [
         "('foo', 'two')",
         "1.793339279079091",
         "0.6203577607480739"
        ],
        [
         "('qux', 'one')",
         "0.6870945851589333",
         "0.9247524958239521"
        ],
        [
         "('qux', 'two')",
         "-0.9532111375393744",
         "0.2727442779263435"
        ]
       ],
       "shape": {
        "columns": 2,
        "rows": 8
       }
      },
      "text/html": [
       "<div>\n",
       "<style scoped>\n",
       "    .dataframe tbody tr th:only-of-type {\n",
       "        vertical-align: middle;\n",
       "    }\n",
       "\n",
       "    .dataframe tbody tr th {\n",
       "        vertical-align: top;\n",
       "    }\n",
       "\n",
       "    .dataframe thead th {\n",
       "        text-align: right;\n",
       "    }\n",
       "</style>\n",
       "<table border=\"1\" class=\"dataframe\">\n",
       "  <thead>\n",
       "    <tr style=\"text-align: right;\">\n",
       "      <th></th>\n",
       "      <th></th>\n",
       "      <th>A</th>\n",
       "      <th>B</th>\n",
       "    </tr>\n",
       "    <tr>\n",
       "      <th>first</th>\n",
       "      <th>second</th>\n",
       "      <th></th>\n",
       "      <th></th>\n",
       "    </tr>\n",
       "  </thead>\n",
       "  <tbody>\n",
       "    <tr>\n",
       "      <th rowspan=\"2\" valign=\"top\">bar</th>\n",
       "      <th>one</th>\n",
       "      <td>0.933280</td>\n",
       "      <td>0.410757</td>\n",
       "    </tr>\n",
       "    <tr>\n",
       "      <th>two</th>\n",
       "      <td>-1.209116</td>\n",
       "      <td>1.072207</td>\n",
       "    </tr>\n",
       "    <tr>\n",
       "      <th rowspan=\"2\" valign=\"top\">baz</th>\n",
       "      <th>one</th>\n",
       "      <td>-2.076376</td>\n",
       "      <td>-0.032087</td>\n",
       "    </tr>\n",
       "    <tr>\n",
       "      <th>two</th>\n",
       "      <td>-1.179905</td>\n",
       "      <td>0.819041</td>\n",
       "    </tr>\n",
       "    <tr>\n",
       "      <th rowspan=\"2\" valign=\"top\">foo</th>\n",
       "      <th>one</th>\n",
       "      <td>0.169362</td>\n",
       "      <td>0.395066</td>\n",
       "    </tr>\n",
       "    <tr>\n",
       "      <th>two</th>\n",
       "      <td>1.793339</td>\n",
       "      <td>0.620358</td>\n",
       "    </tr>\n",
       "    <tr>\n",
       "      <th rowspan=\"2\" valign=\"top\">qux</th>\n",
       "      <th>one</th>\n",
       "      <td>0.687095</td>\n",
       "      <td>0.924752</td>\n",
       "    </tr>\n",
       "    <tr>\n",
       "      <th>two</th>\n",
       "      <td>-0.953211</td>\n",
       "      <td>0.272744</td>\n",
       "    </tr>\n",
       "  </tbody>\n",
       "</table>\n",
       "</div>"
      ],
      "text/plain": [
       "                     A         B\n",
       "first second                    \n",
       "bar   one     0.933280  0.410757\n",
       "      two    -1.209116  1.072207\n",
       "baz   one    -2.076376 -0.032087\n",
       "      two    -1.179905  0.819041\n",
       "foo   one     0.169362  0.395066\n",
       "      two     1.793339  0.620358\n",
       "qux   one     0.687095  0.924752\n",
       "      two    -0.953211  0.272744"
      ]
     },
     "execution_count": 678,
     "metadata": {},
     "output_type": "execute_result"
    }
   ],
   "source": [
    "df"
   ]
  },
  {
   "cell_type": "code",
   "execution_count": 679,
   "id": "923221f3",
   "metadata": {},
   "outputs": [],
   "source": [
    "df2 = df.stack(future_stack=True)"
   ]
  },
  {
   "cell_type": "code",
   "execution_count": 680,
   "id": "f9a157b1",
   "metadata": {},
   "outputs": [
    {
     "data": {
      "application/vnd.microsoft.datawrangler.viewer.v0+json": {
       "columns": [
        {
         "name": "('first', 'second')",
         "rawType": "object",
         "type": "unknown"
        },
        {
         "name": "A",
         "rawType": "float64",
         "type": "float"
        },
        {
         "name": "B",
         "rawType": "float64",
         "type": "float"
        }
       ],
       "ref": "4baaac12-ce97-428e-b33b-c90edcbc446c",
       "rows": [
        [
         "('bar', 'one')",
         "0.9332799448830553",
         "0.410756695428805"
        ],
        [
         "('bar', 'two')",
         "-1.2091164436771396",
         "1.0722070413517635"
        ],
        [
         "('baz', 'one')",
         "-2.076375787121184",
         "-0.03208686951803862"
        ],
        [
         "('baz', 'two')",
         "-1.1799049739266243",
         "0.8190412764187295"
        ],
        [
         "('foo', 'one')",
         "0.16936168986434724",
         "0.39506580541802777"
        ],
        [
         "('foo', 'two')",
         "1.793339279079091",
         "0.6203577607480739"
        ],
        [
         "('qux', 'one')",
         "0.6870945851589333",
         "0.9247524958239521"
        ],
        [
         "('qux', 'two')",
         "-0.9532111375393744",
         "0.2727442779263435"
        ]
       ],
       "shape": {
        "columns": 2,
        "rows": 8
       }
      },
      "text/html": [
       "<div>\n",
       "<style scoped>\n",
       "    .dataframe tbody tr th:only-of-type {\n",
       "        vertical-align: middle;\n",
       "    }\n",
       "\n",
       "    .dataframe tbody tr th {\n",
       "        vertical-align: top;\n",
       "    }\n",
       "\n",
       "    .dataframe thead th {\n",
       "        text-align: right;\n",
       "    }\n",
       "</style>\n",
       "<table border=\"1\" class=\"dataframe\">\n",
       "  <thead>\n",
       "    <tr style=\"text-align: right;\">\n",
       "      <th></th>\n",
       "      <th></th>\n",
       "      <th>A</th>\n",
       "      <th>B</th>\n",
       "    </tr>\n",
       "    <tr>\n",
       "      <th>first</th>\n",
       "      <th>second</th>\n",
       "      <th></th>\n",
       "      <th></th>\n",
       "    </tr>\n",
       "  </thead>\n",
       "  <tbody>\n",
       "    <tr>\n",
       "      <th rowspan=\"2\" valign=\"top\">bar</th>\n",
       "      <th>one</th>\n",
       "      <td>0.933280</td>\n",
       "      <td>0.410757</td>\n",
       "    </tr>\n",
       "    <tr>\n",
       "      <th>two</th>\n",
       "      <td>-1.209116</td>\n",
       "      <td>1.072207</td>\n",
       "    </tr>\n",
       "    <tr>\n",
       "      <th rowspan=\"2\" valign=\"top\">baz</th>\n",
       "      <th>one</th>\n",
       "      <td>-2.076376</td>\n",
       "      <td>-0.032087</td>\n",
       "    </tr>\n",
       "    <tr>\n",
       "      <th>two</th>\n",
       "      <td>-1.179905</td>\n",
       "      <td>0.819041</td>\n",
       "    </tr>\n",
       "    <tr>\n",
       "      <th rowspan=\"2\" valign=\"top\">foo</th>\n",
       "      <th>one</th>\n",
       "      <td>0.169362</td>\n",
       "      <td>0.395066</td>\n",
       "    </tr>\n",
       "    <tr>\n",
       "      <th>two</th>\n",
       "      <td>1.793339</td>\n",
       "      <td>0.620358</td>\n",
       "    </tr>\n",
       "    <tr>\n",
       "      <th rowspan=\"2\" valign=\"top\">qux</th>\n",
       "      <th>one</th>\n",
       "      <td>0.687095</td>\n",
       "      <td>0.924752</td>\n",
       "    </tr>\n",
       "    <tr>\n",
       "      <th>two</th>\n",
       "      <td>-0.953211</td>\n",
       "      <td>0.272744</td>\n",
       "    </tr>\n",
       "  </tbody>\n",
       "</table>\n",
       "</div>"
      ],
      "text/plain": [
       "                     A         B\n",
       "first second                    \n",
       "bar   one     0.933280  0.410757\n",
       "      two    -1.209116  1.072207\n",
       "baz   one    -2.076376 -0.032087\n",
       "      two    -1.179905  0.819041\n",
       "foo   one     0.169362  0.395066\n",
       "      two     1.793339  0.620358\n",
       "qux   one     0.687095  0.924752\n",
       "      two    -0.953211  0.272744"
      ]
     },
     "execution_count": 680,
     "metadata": {},
     "output_type": "execute_result"
    }
   ],
   "source": [
    "df2.unstack()"
   ]
  },
  {
   "cell_type": "code",
   "execution_count": 681,
   "id": "ed9e270d",
   "metadata": {},
   "outputs": [
    {
     "data": {
      "application/vnd.microsoft.datawrangler.viewer.v0+json": {
       "columns": [
        {
         "name": "('first', None)",
         "rawType": "object",
         "type": "unknown"
        },
        {
         "name": "one",
         "rawType": "float64",
         "type": "float"
        },
        {
         "name": "two",
         "rawType": "float64",
         "type": "float"
        }
       ],
       "ref": "26af2f7d-98c1-404b-b80a-de542b7b9572",
       "rows": [
        [
         "('bar', 'A')",
         "0.9332799448830553",
         "-1.2091164436771396"
        ],
        [
         "('bar', 'B')",
         "0.410756695428805",
         "1.0722070413517635"
        ],
        [
         "('baz', 'A')",
         "-2.076375787121184",
         "-1.1799049739266243"
        ],
        [
         "('baz', 'B')",
         "-0.03208686951803862",
         "0.8190412764187295"
        ],
        [
         "('foo', 'A')",
         "0.16936168986434724",
         "1.793339279079091"
        ],
        [
         "('foo', 'B')",
         "0.39506580541802777",
         "0.6203577607480739"
        ],
        [
         "('qux', 'A')",
         "0.6870945851589333",
         "-0.9532111375393744"
        ],
        [
         "('qux', 'B')",
         "0.9247524958239521",
         "0.2727442779263435"
        ]
       ],
       "shape": {
        "columns": 2,
        "rows": 8
       }
      },
      "text/html": [
       "<div>\n",
       "<style scoped>\n",
       "    .dataframe tbody tr th:only-of-type {\n",
       "        vertical-align: middle;\n",
       "    }\n",
       "\n",
       "    .dataframe tbody tr th {\n",
       "        vertical-align: top;\n",
       "    }\n",
       "\n",
       "    .dataframe thead th {\n",
       "        text-align: right;\n",
       "    }\n",
       "</style>\n",
       "<table border=\"1\" class=\"dataframe\">\n",
       "  <thead>\n",
       "    <tr style=\"text-align: right;\">\n",
       "      <th></th>\n",
       "      <th>second</th>\n",
       "      <th>one</th>\n",
       "      <th>two</th>\n",
       "    </tr>\n",
       "    <tr>\n",
       "      <th>first</th>\n",
       "      <th></th>\n",
       "      <th></th>\n",
       "      <th></th>\n",
       "    </tr>\n",
       "  </thead>\n",
       "  <tbody>\n",
       "    <tr>\n",
       "      <th rowspan=\"2\" valign=\"top\">bar</th>\n",
       "      <th>A</th>\n",
       "      <td>0.933280</td>\n",
       "      <td>-1.209116</td>\n",
       "    </tr>\n",
       "    <tr>\n",
       "      <th>B</th>\n",
       "      <td>0.410757</td>\n",
       "      <td>1.072207</td>\n",
       "    </tr>\n",
       "    <tr>\n",
       "      <th rowspan=\"2\" valign=\"top\">baz</th>\n",
       "      <th>A</th>\n",
       "      <td>-2.076376</td>\n",
       "      <td>-1.179905</td>\n",
       "    </tr>\n",
       "    <tr>\n",
       "      <th>B</th>\n",
       "      <td>-0.032087</td>\n",
       "      <td>0.819041</td>\n",
       "    </tr>\n",
       "    <tr>\n",
       "      <th rowspan=\"2\" valign=\"top\">foo</th>\n",
       "      <th>A</th>\n",
       "      <td>0.169362</td>\n",
       "      <td>1.793339</td>\n",
       "    </tr>\n",
       "    <tr>\n",
       "      <th>B</th>\n",
       "      <td>0.395066</td>\n",
       "      <td>0.620358</td>\n",
       "    </tr>\n",
       "    <tr>\n",
       "      <th rowspan=\"2\" valign=\"top\">qux</th>\n",
       "      <th>A</th>\n",
       "      <td>0.687095</td>\n",
       "      <td>-0.953211</td>\n",
       "    </tr>\n",
       "    <tr>\n",
       "      <th>B</th>\n",
       "      <td>0.924752</td>\n",
       "      <td>0.272744</td>\n",
       "    </tr>\n",
       "  </tbody>\n",
       "</table>\n",
       "</div>"
      ],
      "text/plain": [
       "second        one       two\n",
       "first                      \n",
       "bar   A  0.933280 -1.209116\n",
       "      B  0.410757  1.072207\n",
       "baz   A -2.076376 -1.179905\n",
       "      B -0.032087  0.819041\n",
       "foo   A  0.169362  1.793339\n",
       "      B  0.395066  0.620358\n",
       "qux   A  0.687095 -0.953211\n",
       "      B  0.924752  0.272744"
      ]
     },
     "execution_count": 681,
     "metadata": {},
     "output_type": "execute_result"
    }
   ],
   "source": [
    "df2.unstack(1)"
   ]
  },
  {
   "cell_type": "code",
   "execution_count": 682,
   "id": "88cd2d3b",
   "metadata": {},
   "outputs": [
    {
     "data": {
      "application/vnd.microsoft.datawrangler.viewer.v0+json": {
       "columns": [
        {
         "name": "('second', None)",
         "rawType": "object",
         "type": "unknown"
        },
        {
         "name": "bar",
         "rawType": "float64",
         "type": "float"
        },
        {
         "name": "baz",
         "rawType": "float64",
         "type": "float"
        },
        {
         "name": "foo",
         "rawType": "float64",
         "type": "float"
        },
        {
         "name": "qux",
         "rawType": "float64",
         "type": "float"
        }
       ],
       "ref": "be808355-6491-4dbf-97cb-0a2fa37e7aaf",
       "rows": [
        [
         "('one', 'A')",
         "0.9332799448830553",
         "-2.076375787121184",
         "0.16936168986434724",
         "0.6870945851589333"
        ],
        [
         "('one', 'B')",
         "0.410756695428805",
         "-0.03208686951803862",
         "0.39506580541802777",
         "0.9247524958239521"
        ],
        [
         "('two', 'A')",
         "-1.2091164436771396",
         "-1.1799049739266243",
         "1.793339279079091",
         "-0.9532111375393744"
        ],
        [
         "('two', 'B')",
         "1.0722070413517635",
         "0.8190412764187295",
         "0.6203577607480739",
         "0.2727442779263435"
        ]
       ],
       "shape": {
        "columns": 4,
        "rows": 4
       }
      },
      "text/html": [
       "<div>\n",
       "<style scoped>\n",
       "    .dataframe tbody tr th:only-of-type {\n",
       "        vertical-align: middle;\n",
       "    }\n",
       "\n",
       "    .dataframe tbody tr th {\n",
       "        vertical-align: top;\n",
       "    }\n",
       "\n",
       "    .dataframe thead th {\n",
       "        text-align: right;\n",
       "    }\n",
       "</style>\n",
       "<table border=\"1\" class=\"dataframe\">\n",
       "  <thead>\n",
       "    <tr style=\"text-align: right;\">\n",
       "      <th></th>\n",
       "      <th>first</th>\n",
       "      <th>bar</th>\n",
       "      <th>baz</th>\n",
       "      <th>foo</th>\n",
       "      <th>qux</th>\n",
       "    </tr>\n",
       "    <tr>\n",
       "      <th>second</th>\n",
       "      <th></th>\n",
       "      <th></th>\n",
       "      <th></th>\n",
       "      <th></th>\n",
       "      <th></th>\n",
       "    </tr>\n",
       "  </thead>\n",
       "  <tbody>\n",
       "    <tr>\n",
       "      <th rowspan=\"2\" valign=\"top\">one</th>\n",
       "      <th>A</th>\n",
       "      <td>0.933280</td>\n",
       "      <td>-2.076376</td>\n",
       "      <td>0.169362</td>\n",
       "      <td>0.687095</td>\n",
       "    </tr>\n",
       "    <tr>\n",
       "      <th>B</th>\n",
       "      <td>0.410757</td>\n",
       "      <td>-0.032087</td>\n",
       "      <td>0.395066</td>\n",
       "      <td>0.924752</td>\n",
       "    </tr>\n",
       "    <tr>\n",
       "      <th rowspan=\"2\" valign=\"top\">two</th>\n",
       "      <th>A</th>\n",
       "      <td>-1.209116</td>\n",
       "      <td>-1.179905</td>\n",
       "      <td>1.793339</td>\n",
       "      <td>-0.953211</td>\n",
       "    </tr>\n",
       "    <tr>\n",
       "      <th>B</th>\n",
       "      <td>1.072207</td>\n",
       "      <td>0.819041</td>\n",
       "      <td>0.620358</td>\n",
       "      <td>0.272744</td>\n",
       "    </tr>\n",
       "  </tbody>\n",
       "</table>\n",
       "</div>"
      ],
      "text/plain": [
       "first          bar       baz       foo       qux\n",
       "second                                          \n",
       "one    A  0.933280 -2.076376  0.169362  0.687095\n",
       "       B  0.410757 -0.032087  0.395066  0.924752\n",
       "two    A -1.209116 -1.179905  1.793339 -0.953211\n",
       "       B  1.072207  0.819041  0.620358  0.272744"
      ]
     },
     "execution_count": 682,
     "metadata": {},
     "output_type": "execute_result"
    }
   ],
   "source": [
    "df2.unstack(0)"
   ]
  },
  {
   "cell_type": "code",
   "execution_count": 683,
   "id": "dd96a849",
   "metadata": {},
   "outputs": [
    {
     "data": {
      "application/vnd.microsoft.datawrangler.viewer.v0+json": {
       "columns": [
        {
         "name": "('second', None)",
         "rawType": "object",
         "type": "unknown"
        },
        {
         "name": "bar",
         "rawType": "float64",
         "type": "float"
        },
        {
         "name": "baz",
         "rawType": "float64",
         "type": "float"
        },
        {
         "name": "foo",
         "rawType": "float64",
         "type": "float"
        },
        {
         "name": "qux",
         "rawType": "float64",
         "type": "float"
        }
       ],
       "ref": "26a32cd3-03cb-47a4-ab60-14c253be3a55",
       "rows": [
        [
         "('one', 'A')",
         "0.9332799448830553",
         "-2.076375787121184",
         "0.16936168986434724",
         "0.6870945851589333"
        ],
        [
         "('one', 'B')",
         "0.410756695428805",
         "-0.03208686951803862",
         "0.39506580541802777",
         "0.9247524958239521"
        ],
        [
         "('two', 'A')",
         "-1.2091164436771396",
         "-1.1799049739266243",
         "1.793339279079091",
         "-0.9532111375393744"
        ],
        [
         "('two', 'B')",
         "1.0722070413517635",
         "0.8190412764187295",
         "0.6203577607480739",
         "0.2727442779263435"
        ]
       ],
       "shape": {
        "columns": 4,
        "rows": 4
       }
      },
      "text/html": [
       "<div>\n",
       "<style scoped>\n",
       "    .dataframe tbody tr th:only-of-type {\n",
       "        vertical-align: middle;\n",
       "    }\n",
       "\n",
       "    .dataframe tbody tr th {\n",
       "        vertical-align: top;\n",
       "    }\n",
       "\n",
       "    .dataframe thead th {\n",
       "        text-align: right;\n",
       "    }\n",
       "</style>\n",
       "<table border=\"1\" class=\"dataframe\">\n",
       "  <thead>\n",
       "    <tr style=\"text-align: right;\">\n",
       "      <th></th>\n",
       "      <th>first</th>\n",
       "      <th>bar</th>\n",
       "      <th>baz</th>\n",
       "      <th>foo</th>\n",
       "      <th>qux</th>\n",
       "    </tr>\n",
       "    <tr>\n",
       "      <th>second</th>\n",
       "      <th></th>\n",
       "      <th></th>\n",
       "      <th></th>\n",
       "      <th></th>\n",
       "      <th></th>\n",
       "    </tr>\n",
       "  </thead>\n",
       "  <tbody>\n",
       "    <tr>\n",
       "      <th rowspan=\"2\" valign=\"top\">one</th>\n",
       "      <th>A</th>\n",
       "      <td>0.933280</td>\n",
       "      <td>-2.076376</td>\n",
       "      <td>0.169362</td>\n",
       "      <td>0.687095</td>\n",
       "    </tr>\n",
       "    <tr>\n",
       "      <th>B</th>\n",
       "      <td>0.410757</td>\n",
       "      <td>-0.032087</td>\n",
       "      <td>0.395066</td>\n",
       "      <td>0.924752</td>\n",
       "    </tr>\n",
       "    <tr>\n",
       "      <th rowspan=\"2\" valign=\"top\">two</th>\n",
       "      <th>A</th>\n",
       "      <td>-1.209116</td>\n",
       "      <td>-1.179905</td>\n",
       "      <td>1.793339</td>\n",
       "      <td>-0.953211</td>\n",
       "    </tr>\n",
       "    <tr>\n",
       "      <th>B</th>\n",
       "      <td>1.072207</td>\n",
       "      <td>0.819041</td>\n",
       "      <td>0.620358</td>\n",
       "      <td>0.272744</td>\n",
       "    </tr>\n",
       "  </tbody>\n",
       "</table>\n",
       "</div>"
      ],
      "text/plain": [
       "first          bar       baz       foo       qux\n",
       "second                                          \n",
       "one    A  0.933280 -2.076376  0.169362  0.687095\n",
       "       B  0.410757 -0.032087  0.395066  0.924752\n",
       "two    A -1.209116 -1.179905  1.793339 -0.953211\n",
       "       B  1.072207  0.819041  0.620358  0.272744"
      ]
     },
     "execution_count": 683,
     "metadata": {},
     "output_type": "execute_result"
    }
   ],
   "source": [
    "df2.unstack('first')"
   ]
  },
  {
   "cell_type": "code",
   "execution_count": 684,
   "id": "8c7ed4c1",
   "metadata": {},
   "outputs": [],
   "source": [
    "cheese = pd.DataFrame(\n",
    "    {\n",
    "        \"first\": [\"John\", \"Mary\"],\n",
    "        \"last\": [\"Doe\", \"Bo\"],\n",
    "        \"height\": [5.5, 6.0],\n",
    "        \"weight\": [130, 150],\n",
    "    }\n",
    ")"
   ]
  },
  {
   "cell_type": "code",
   "execution_count": 685,
   "id": "e80bd758",
   "metadata": {},
   "outputs": [
    {
     "data": {
      "application/vnd.microsoft.datawrangler.viewer.v0+json": {
       "columns": [
        {
         "name": "index",
         "rawType": "int64",
         "type": "integer"
        },
        {
         "name": "first",
         "rawType": "object",
         "type": "string"
        },
        {
         "name": "last",
         "rawType": "object",
         "type": "string"
        },
        {
         "name": "height",
         "rawType": "float64",
         "type": "float"
        },
        {
         "name": "weight",
         "rawType": "int64",
         "type": "integer"
        }
       ],
       "ref": "79ee2c6b-846e-48dd-bf13-14e879994125",
       "rows": [
        [
         "0",
         "John",
         "Doe",
         "5.5",
         "130"
        ],
        [
         "1",
         "Mary",
         "Bo",
         "6.0",
         "150"
        ]
       ],
       "shape": {
        "columns": 4,
        "rows": 2
       }
      },
      "text/html": [
       "<div>\n",
       "<style scoped>\n",
       "    .dataframe tbody tr th:only-of-type {\n",
       "        vertical-align: middle;\n",
       "    }\n",
       "\n",
       "    .dataframe tbody tr th {\n",
       "        vertical-align: top;\n",
       "    }\n",
       "\n",
       "    .dataframe thead th {\n",
       "        text-align: right;\n",
       "    }\n",
       "</style>\n",
       "<table border=\"1\" class=\"dataframe\">\n",
       "  <thead>\n",
       "    <tr style=\"text-align: right;\">\n",
       "      <th></th>\n",
       "      <th>first</th>\n",
       "      <th>last</th>\n",
       "      <th>height</th>\n",
       "      <th>weight</th>\n",
       "    </tr>\n",
       "  </thead>\n",
       "  <tbody>\n",
       "    <tr>\n",
       "      <th>0</th>\n",
       "      <td>John</td>\n",
       "      <td>Doe</td>\n",
       "      <td>5.5</td>\n",
       "      <td>130</td>\n",
       "    </tr>\n",
       "    <tr>\n",
       "      <th>1</th>\n",
       "      <td>Mary</td>\n",
       "      <td>Bo</td>\n",
       "      <td>6.0</td>\n",
       "      <td>150</td>\n",
       "    </tr>\n",
       "  </tbody>\n",
       "</table>\n",
       "</div>"
      ],
      "text/plain": [
       "  first last  height  weight\n",
       "0  John  Doe     5.5     130\n",
       "1  Mary   Bo     6.0     150"
      ]
     },
     "execution_count": 685,
     "metadata": {},
     "output_type": "execute_result"
    }
   ],
   "source": [
    "cheese"
   ]
  },
  {
   "cell_type": "code",
   "execution_count": 686,
   "id": "cf8f0e9a",
   "metadata": {},
   "outputs": [
    {
     "data": {
      "application/vnd.microsoft.datawrangler.viewer.v0+json": {
       "columns": [
        {
         "name": "index",
         "rawType": "int64",
         "type": "integer"
        },
        {
         "name": "first",
         "rawType": "object",
         "type": "string"
        },
        {
         "name": "last",
         "rawType": "object",
         "type": "string"
        },
        {
         "name": "measurement",
         "rawType": "object",
         "type": "string"
        },
        {
         "name": "value",
         "rawType": "float64",
         "type": "float"
        }
       ],
       "ref": "23bf5b2d-3b54-4dbd-a60e-5e3fe7100549",
       "rows": [
        [
         "0",
         "John",
         "Doe",
         "height",
         "5.5"
        ],
        [
         "1",
         "Mary",
         "Bo",
         "height",
         "6.0"
        ],
        [
         "2",
         "John",
         "Doe",
         "weight",
         "130.0"
        ],
        [
         "3",
         "Mary",
         "Bo",
         "weight",
         "150.0"
        ]
       ],
       "shape": {
        "columns": 4,
        "rows": 4
       }
      },
      "text/html": [
       "<div>\n",
       "<style scoped>\n",
       "    .dataframe tbody tr th:only-of-type {\n",
       "        vertical-align: middle;\n",
       "    }\n",
       "\n",
       "    .dataframe tbody tr th {\n",
       "        vertical-align: top;\n",
       "    }\n",
       "\n",
       "    .dataframe thead th {\n",
       "        text-align: right;\n",
       "    }\n",
       "</style>\n",
       "<table border=\"1\" class=\"dataframe\">\n",
       "  <thead>\n",
       "    <tr style=\"text-align: right;\">\n",
       "      <th></th>\n",
       "      <th>first</th>\n",
       "      <th>last</th>\n",
       "      <th>measurement</th>\n",
       "      <th>value</th>\n",
       "    </tr>\n",
       "  </thead>\n",
       "  <tbody>\n",
       "    <tr>\n",
       "      <th>0</th>\n",
       "      <td>John</td>\n",
       "      <td>Doe</td>\n",
       "      <td>height</td>\n",
       "      <td>5.5</td>\n",
       "    </tr>\n",
       "    <tr>\n",
       "      <th>1</th>\n",
       "      <td>Mary</td>\n",
       "      <td>Bo</td>\n",
       "      <td>height</td>\n",
       "      <td>6.0</td>\n",
       "    </tr>\n",
       "    <tr>\n",
       "      <th>2</th>\n",
       "      <td>John</td>\n",
       "      <td>Doe</td>\n",
       "      <td>weight</td>\n",
       "      <td>130.0</td>\n",
       "    </tr>\n",
       "    <tr>\n",
       "      <th>3</th>\n",
       "      <td>Mary</td>\n",
       "      <td>Bo</td>\n",
       "      <td>weight</td>\n",
       "      <td>150.0</td>\n",
       "    </tr>\n",
       "  </tbody>\n",
       "</table>\n",
       "</div>"
      ],
      "text/plain": [
       "  first last measurement  value\n",
       "0  John  Doe      height    5.5\n",
       "1  Mary   Bo      height    6.0\n",
       "2  John  Doe      weight  130.0\n",
       "3  Mary   Bo      weight  150.0"
      ]
     },
     "execution_count": 686,
     "metadata": {},
     "output_type": "execute_result"
    }
   ],
   "source": [
    "cheese.melt(id_vars=['first', 'last'], var_name='measurement')"
   ]
  },
  {
   "cell_type": "code",
   "execution_count": 687,
   "id": "2229e642",
   "metadata": {},
   "outputs": [
    {
     "data": {
      "application/vnd.microsoft.datawrangler.viewer.v0+json": {
       "columns": [
        {
         "name": "(None, None)",
         "rawType": "object",
         "type": "unknown"
        },
        {
         "name": "first",
         "rawType": "object",
         "type": "string"
        },
        {
         "name": "last",
         "rawType": "object",
         "type": "string"
        },
        {
         "name": "height",
         "rawType": "float64",
         "type": "float"
        },
        {
         "name": "weight",
         "rawType": "int64",
         "type": "integer"
        }
       ],
       "ref": "ac5bbbae-a570-4f42-8bc5-db693fd7040c",
       "rows": [
        [
         "('person', 'A')",
         "John",
         "Doe",
         "5.5",
         "130"
        ],
        [
         "('person', 'B')",
         "Mary",
         "Bo",
         "6.0",
         "150"
        ]
       ],
       "shape": {
        "columns": 4,
        "rows": 2
       }
      },
      "text/html": [
       "<div>\n",
       "<style scoped>\n",
       "    .dataframe tbody tr th:only-of-type {\n",
       "        vertical-align: middle;\n",
       "    }\n",
       "\n",
       "    .dataframe tbody tr th {\n",
       "        vertical-align: top;\n",
       "    }\n",
       "\n",
       "    .dataframe thead th {\n",
       "        text-align: right;\n",
       "    }\n",
       "</style>\n",
       "<table border=\"1\" class=\"dataframe\">\n",
       "  <thead>\n",
       "    <tr style=\"text-align: right;\">\n",
       "      <th></th>\n",
       "      <th></th>\n",
       "      <th>first</th>\n",
       "      <th>last</th>\n",
       "      <th>height</th>\n",
       "      <th>weight</th>\n",
       "    </tr>\n",
       "  </thead>\n",
       "  <tbody>\n",
       "    <tr>\n",
       "      <th rowspan=\"2\" valign=\"top\">person</th>\n",
       "      <th>A</th>\n",
       "      <td>John</td>\n",
       "      <td>Doe</td>\n",
       "      <td>5.5</td>\n",
       "      <td>130</td>\n",
       "    </tr>\n",
       "    <tr>\n",
       "      <th>B</th>\n",
       "      <td>Mary</td>\n",
       "      <td>Bo</td>\n",
       "      <td>6.0</td>\n",
       "      <td>150</td>\n",
       "    </tr>\n",
       "  </tbody>\n",
       "</table>\n",
       "</div>"
      ],
      "text/plain": [
       "         first last  height  weight\n",
       "person A  John  Doe     5.5     130\n",
       "       B  Mary   Bo     6.0     150"
      ]
     },
     "execution_count": 687,
     "metadata": {},
     "output_type": "execute_result"
    }
   ],
   "source": [
    "index = pd.MultiIndex.from_tuples([(\"person\", \"A\"), (\"person\", \"B\")])\n",
    "\n",
    "cheese = pd.DataFrame(\n",
    "    {\n",
    "        \"first\": [\"John\", \"Mary\"],\n",
    "        \"last\": [\"Doe\", \"Bo\"],\n",
    "        \"height\": [5.5, 6.0],\n",
    "        \"weight\": [130, 150],\n",
    "    },\n",
    "    index=index,\n",
    ")\n",
    "cheese"
   ]
  },
  {
   "cell_type": "code",
   "execution_count": 688,
   "id": "059c026b",
   "metadata": {},
   "outputs": [
    {
     "data": {
      "application/vnd.microsoft.datawrangler.viewer.v0+json": {
       "columns": [
        {
         "name": "(None, None)",
         "rawType": "object",
         "type": "unknown"
        },
        {
         "name": "first",
         "rawType": "object",
         "type": "string"
        },
        {
         "name": "last",
         "rawType": "object",
         "type": "string"
        },
        {
         "name": "variable",
         "rawType": "object",
         "type": "string"
        },
        {
         "name": "value",
         "rawType": "float64",
         "type": "float"
        }
       ],
       "ref": "72468392-a38f-480a-808a-835d6bd4577a",
       "rows": [
        [
         "('person', 'A')",
         "John",
         "Doe",
         "height",
         "5.5"
        ],
        [
         "('person', 'B')",
         "Mary",
         "Bo",
         "height",
         "6.0"
        ],
        [
         "('person', 'A')",
         "John",
         "Doe",
         "weight",
         "130.0"
        ],
        [
         "('person', 'B')",
         "Mary",
         "Bo",
         "weight",
         "150.0"
        ]
       ],
       "shape": {
        "columns": 4,
        "rows": 4
       }
      },
      "text/html": [
       "<div>\n",
       "<style scoped>\n",
       "    .dataframe tbody tr th:only-of-type {\n",
       "        vertical-align: middle;\n",
       "    }\n",
       "\n",
       "    .dataframe tbody tr th {\n",
       "        vertical-align: top;\n",
       "    }\n",
       "\n",
       "    .dataframe thead th {\n",
       "        text-align: right;\n",
       "    }\n",
       "</style>\n",
       "<table border=\"1\" class=\"dataframe\">\n",
       "  <thead>\n",
       "    <tr style=\"text-align: right;\">\n",
       "      <th></th>\n",
       "      <th></th>\n",
       "      <th>first</th>\n",
       "      <th>last</th>\n",
       "      <th>variable</th>\n",
       "      <th>value</th>\n",
       "    </tr>\n",
       "  </thead>\n",
       "  <tbody>\n",
       "    <tr>\n",
       "      <th rowspan=\"4\" valign=\"top\">person</th>\n",
       "      <th>A</th>\n",
       "      <td>John</td>\n",
       "      <td>Doe</td>\n",
       "      <td>height</td>\n",
       "      <td>5.5</td>\n",
       "    </tr>\n",
       "    <tr>\n",
       "      <th>B</th>\n",
       "      <td>Mary</td>\n",
       "      <td>Bo</td>\n",
       "      <td>height</td>\n",
       "      <td>6.0</td>\n",
       "    </tr>\n",
       "    <tr>\n",
       "      <th>A</th>\n",
       "      <td>John</td>\n",
       "      <td>Doe</td>\n",
       "      <td>weight</td>\n",
       "      <td>130.0</td>\n",
       "    </tr>\n",
       "    <tr>\n",
       "      <th>B</th>\n",
       "      <td>Mary</td>\n",
       "      <td>Bo</td>\n",
       "      <td>weight</td>\n",
       "      <td>150.0</td>\n",
       "    </tr>\n",
       "  </tbody>\n",
       "</table>\n",
       "</div>"
      ],
      "text/plain": [
       "         first last variable  value\n",
       "person A  John  Doe   height    5.5\n",
       "       B  Mary   Bo   height    6.0\n",
       "       A  John  Doe   weight  130.0\n",
       "       B  Mary   Bo   weight  150.0"
      ]
     },
     "execution_count": 688,
     "metadata": {},
     "output_type": "execute_result"
    }
   ],
   "source": [
    "cheese.melt(id_vars=['first', 'last'], ignore_index=False)"
   ]
  },
  {
   "cell_type": "code",
   "execution_count": 689,
   "id": "7be4da55",
   "metadata": {},
   "outputs": [
    {
     "data": {
      "application/vnd.microsoft.datawrangler.viewer.v0+json": {
       "columns": [
        {
         "name": "index",
         "rawType": "int64",
         "type": "integer"
        },
        {
         "name": "key",
         "rawType": "object",
         "type": "string"
        },
        {
         "name": "data1",
         "rawType": "int64",
         "type": "integer"
        }
       ],
       "ref": "bec8bf53-8230-4bcc-8907-3194c536d9a4",
       "rows": [
        [
         "0",
         "b",
         "0"
        ],
        [
         "1",
         "b",
         "1"
        ],
        [
         "2",
         "a",
         "2"
        ],
        [
         "3",
         "c",
         "3"
        ],
        [
         "4",
         "a",
         "4"
        ],
        [
         "5",
         "b",
         "5"
        ]
       ],
       "shape": {
        "columns": 2,
        "rows": 6
       }
      },
      "text/html": [
       "<div>\n",
       "<style scoped>\n",
       "    .dataframe tbody tr th:only-of-type {\n",
       "        vertical-align: middle;\n",
       "    }\n",
       "\n",
       "    .dataframe tbody tr th {\n",
       "        vertical-align: top;\n",
       "    }\n",
       "\n",
       "    .dataframe thead th {\n",
       "        text-align: right;\n",
       "    }\n",
       "</style>\n",
       "<table border=\"1\" class=\"dataframe\">\n",
       "  <thead>\n",
       "    <tr style=\"text-align: right;\">\n",
       "      <th></th>\n",
       "      <th>key</th>\n",
       "      <th>data1</th>\n",
       "    </tr>\n",
       "  </thead>\n",
       "  <tbody>\n",
       "    <tr>\n",
       "      <th>0</th>\n",
       "      <td>b</td>\n",
       "      <td>0</td>\n",
       "    </tr>\n",
       "    <tr>\n",
       "      <th>1</th>\n",
       "      <td>b</td>\n",
       "      <td>1</td>\n",
       "    </tr>\n",
       "    <tr>\n",
       "      <th>2</th>\n",
       "      <td>a</td>\n",
       "      <td>2</td>\n",
       "    </tr>\n",
       "    <tr>\n",
       "      <th>3</th>\n",
       "      <td>c</td>\n",
       "      <td>3</td>\n",
       "    </tr>\n",
       "    <tr>\n",
       "      <th>4</th>\n",
       "      <td>a</td>\n",
       "      <td>4</td>\n",
       "    </tr>\n",
       "    <tr>\n",
       "      <th>5</th>\n",
       "      <td>b</td>\n",
       "      <td>5</td>\n",
       "    </tr>\n",
       "  </tbody>\n",
       "</table>\n",
       "</div>"
      ],
      "text/plain": [
       "  key  data1\n",
       "0   b      0\n",
       "1   b      1\n",
       "2   a      2\n",
       "3   c      3\n",
       "4   a      4\n",
       "5   b      5"
      ]
     },
     "execution_count": 689,
     "metadata": {},
     "output_type": "execute_result"
    }
   ],
   "source": [
    "df = pd.DataFrame({\"key\": list(\"bbacab\"), \"data1\": range(6)})\n",
    "df"
   ]
  },
  {
   "cell_type": "code",
   "execution_count": 690,
   "id": "8fefbbe5",
   "metadata": {},
   "outputs": [
    {
     "data": {
      "application/vnd.microsoft.datawrangler.viewer.v0+json": {
       "columns": [
        {
         "name": "index",
         "rawType": "int64",
         "type": "integer"
        },
        {
         "name": "a",
         "rawType": "bool",
         "type": "boolean"
        },
        {
         "name": "b",
         "rawType": "bool",
         "type": "boolean"
        },
        {
         "name": "c",
         "rawType": "bool",
         "type": "boolean"
        }
       ],
       "ref": "dd9324e1-ec42-43a5-9fb0-e8fd6464fc48",
       "rows": [
        [
         "0",
         "False",
         "True",
         "False"
        ],
        [
         "1",
         "False",
         "True",
         "False"
        ],
        [
         "2",
         "True",
         "False",
         "False"
        ],
        [
         "3",
         "False",
         "False",
         "True"
        ],
        [
         "4",
         "True",
         "False",
         "False"
        ],
        [
         "5",
         "False",
         "True",
         "False"
        ]
       ],
       "shape": {
        "columns": 3,
        "rows": 6
       }
      },
      "text/html": [
       "<div>\n",
       "<style scoped>\n",
       "    .dataframe tbody tr th:only-of-type {\n",
       "        vertical-align: middle;\n",
       "    }\n",
       "\n",
       "    .dataframe tbody tr th {\n",
       "        vertical-align: top;\n",
       "    }\n",
       "\n",
       "    .dataframe thead th {\n",
       "        text-align: right;\n",
       "    }\n",
       "</style>\n",
       "<table border=\"1\" class=\"dataframe\">\n",
       "  <thead>\n",
       "    <tr style=\"text-align: right;\">\n",
       "      <th></th>\n",
       "      <th>a</th>\n",
       "      <th>b</th>\n",
       "      <th>c</th>\n",
       "    </tr>\n",
       "  </thead>\n",
       "  <tbody>\n",
       "    <tr>\n",
       "      <th>0</th>\n",
       "      <td>False</td>\n",
       "      <td>True</td>\n",
       "      <td>False</td>\n",
       "    </tr>\n",
       "    <tr>\n",
       "      <th>1</th>\n",
       "      <td>False</td>\n",
       "      <td>True</td>\n",
       "      <td>False</td>\n",
       "    </tr>\n",
       "    <tr>\n",
       "      <th>2</th>\n",
       "      <td>True</td>\n",
       "      <td>False</td>\n",
       "      <td>False</td>\n",
       "    </tr>\n",
       "    <tr>\n",
       "      <th>3</th>\n",
       "      <td>False</td>\n",
       "      <td>False</td>\n",
       "      <td>True</td>\n",
       "    </tr>\n",
       "    <tr>\n",
       "      <th>4</th>\n",
       "      <td>True</td>\n",
       "      <td>False</td>\n",
       "      <td>False</td>\n",
       "    </tr>\n",
       "    <tr>\n",
       "      <th>5</th>\n",
       "      <td>False</td>\n",
       "      <td>True</td>\n",
       "      <td>False</td>\n",
       "    </tr>\n",
       "  </tbody>\n",
       "</table>\n",
       "</div>"
      ],
      "text/plain": [
       "       a      b      c\n",
       "0  False   True  False\n",
       "1  False   True  False\n",
       "2   True  False  False\n",
       "3  False  False   True\n",
       "4   True  False  False\n",
       "5  False   True  False"
      ]
     },
     "execution_count": 690,
     "metadata": {},
     "output_type": "execute_result"
    }
   ],
   "source": [
    "pd.get_dummies(df['key'])"
   ]
  },
  {
   "cell_type": "code",
   "execution_count": 691,
   "id": "d2f10c61",
   "metadata": {},
   "outputs": [
    {
     "data": {
      "application/vnd.microsoft.datawrangler.viewer.v0+json": {
       "columns": [
        {
         "name": "index",
         "rawType": "int64",
         "type": "integer"
        },
        {
         "name": "a",
         "rawType": "int64",
         "type": "integer"
        },
        {
         "name": "b",
         "rawType": "int64",
         "type": "integer"
        },
        {
         "name": "c",
         "rawType": "int64",
         "type": "integer"
        }
       ],
       "ref": "c665a7c7-22c0-4a8f-82cd-7cd1a74d1e33",
       "rows": [
        [
         "0",
         "0",
         "1",
         "0"
        ],
        [
         "1",
         "0",
         "1",
         "0"
        ],
        [
         "2",
         "1",
         "0",
         "0"
        ],
        [
         "3",
         "0",
         "0",
         "1"
        ],
        [
         "4",
         "1",
         "0",
         "0"
        ],
        [
         "5",
         "0",
         "1",
         "0"
        ]
       ],
       "shape": {
        "columns": 3,
        "rows": 6
       }
      },
      "text/html": [
       "<div>\n",
       "<style scoped>\n",
       "    .dataframe tbody tr th:only-of-type {\n",
       "        vertical-align: middle;\n",
       "    }\n",
       "\n",
       "    .dataframe tbody tr th {\n",
       "        vertical-align: top;\n",
       "    }\n",
       "\n",
       "    .dataframe thead th {\n",
       "        text-align: right;\n",
       "    }\n",
       "</style>\n",
       "<table border=\"1\" class=\"dataframe\">\n",
       "  <thead>\n",
       "    <tr style=\"text-align: right;\">\n",
       "      <th></th>\n",
       "      <th>a</th>\n",
       "      <th>b</th>\n",
       "      <th>c</th>\n",
       "    </tr>\n",
       "  </thead>\n",
       "  <tbody>\n",
       "    <tr>\n",
       "      <th>0</th>\n",
       "      <td>0</td>\n",
       "      <td>1</td>\n",
       "      <td>0</td>\n",
       "    </tr>\n",
       "    <tr>\n",
       "      <th>1</th>\n",
       "      <td>0</td>\n",
       "      <td>1</td>\n",
       "      <td>0</td>\n",
       "    </tr>\n",
       "    <tr>\n",
       "      <th>2</th>\n",
       "      <td>1</td>\n",
       "      <td>0</td>\n",
       "      <td>0</td>\n",
       "    </tr>\n",
       "    <tr>\n",
       "      <th>3</th>\n",
       "      <td>0</td>\n",
       "      <td>0</td>\n",
       "      <td>1</td>\n",
       "    </tr>\n",
       "    <tr>\n",
       "      <th>4</th>\n",
       "      <td>1</td>\n",
       "      <td>0</td>\n",
       "      <td>0</td>\n",
       "    </tr>\n",
       "    <tr>\n",
       "      <th>5</th>\n",
       "      <td>0</td>\n",
       "      <td>1</td>\n",
       "      <td>0</td>\n",
       "    </tr>\n",
       "  </tbody>\n",
       "</table>\n",
       "</div>"
      ],
      "text/plain": [
       "   a  b  c\n",
       "0  0  1  0\n",
       "1  0  1  0\n",
       "2  1  0  0\n",
       "3  0  0  1\n",
       "4  1  0  0\n",
       "5  0  1  0"
      ]
     },
     "execution_count": 691,
     "metadata": {},
     "output_type": "execute_result"
    }
   ],
   "source": [
    "df['key'].str.get_dummies()"
   ]
  },
  {
   "cell_type": "code",
   "execution_count": 692,
   "id": "dc79fee0",
   "metadata": {},
   "outputs": [
    {
     "data": {
      "application/vnd.microsoft.datawrangler.viewer.v0+json": {
       "columns": [
        {
         "name": "index",
         "rawType": "int64",
         "type": "integer"
        },
        {
         "name": "(0.0, 0.2]",
         "rawType": "bool",
         "type": "boolean"
        },
        {
         "name": "(0.2, 0.4]",
         "rawType": "bool",
         "type": "boolean"
        },
        {
         "name": "(0.4, 0.6]",
         "rawType": "bool",
         "type": "boolean"
        },
        {
         "name": "(0.6, 0.8]",
         "rawType": "bool",
         "type": "boolean"
        },
        {
         "name": "(0.8, 1.0]",
         "rawType": "bool",
         "type": "boolean"
        }
       ],
       "ref": "d2abae54-5da1-46d0-bc66-37b155669469",
       "rows": [
        [
         "0",
         "False",
         "False",
         "False",
         "False",
         "False"
        ],
        [
         "1",
         "False",
         "False",
         "False",
         "False",
         "False"
        ],
        [
         "2",
         "False",
         "False",
         "False",
         "False",
         "True"
        ],
        [
         "3",
         "False",
         "False",
         "False",
         "False",
         "False"
        ],
        [
         "4",
         "False",
         "False",
         "False",
         "False",
         "False"
        ],
        [
         "5",
         "False",
         "False",
         "False",
         "False",
         "False"
        ],
        [
         "6",
         "False",
         "False",
         "False",
         "False",
         "False"
        ],
        [
         "7",
         "False",
         "False",
         "False",
         "False",
         "False"
        ],
        [
         "8",
         "False",
         "False",
         "False",
         "False",
         "False"
        ],
        [
         "9",
         "False",
         "False",
         "False",
         "False",
         "False"
        ]
       ],
       "shape": {
        "columns": 5,
        "rows": 10
       }
      },
      "text/html": [
       "<div>\n",
       "<style scoped>\n",
       "    .dataframe tbody tr th:only-of-type {\n",
       "        vertical-align: middle;\n",
       "    }\n",
       "\n",
       "    .dataframe tbody tr th {\n",
       "        vertical-align: top;\n",
       "    }\n",
       "\n",
       "    .dataframe thead th {\n",
       "        text-align: right;\n",
       "    }\n",
       "</style>\n",
       "<table border=\"1\" class=\"dataframe\">\n",
       "  <thead>\n",
       "    <tr style=\"text-align: right;\">\n",
       "      <th></th>\n",
       "      <th>(0.0, 0.2]</th>\n",
       "      <th>(0.2, 0.4]</th>\n",
       "      <th>(0.4, 0.6]</th>\n",
       "      <th>(0.6, 0.8]</th>\n",
       "      <th>(0.8, 1.0]</th>\n",
       "    </tr>\n",
       "  </thead>\n",
       "  <tbody>\n",
       "    <tr>\n",
       "      <th>0</th>\n",
       "      <td>False</td>\n",
       "      <td>False</td>\n",
       "      <td>False</td>\n",
       "      <td>False</td>\n",
       "      <td>False</td>\n",
       "    </tr>\n",
       "    <tr>\n",
       "      <th>1</th>\n",
       "      <td>False</td>\n",
       "      <td>False</td>\n",
       "      <td>False</td>\n",
       "      <td>False</td>\n",
       "      <td>False</td>\n",
       "    </tr>\n",
       "    <tr>\n",
       "      <th>2</th>\n",
       "      <td>False</td>\n",
       "      <td>False</td>\n",
       "      <td>False</td>\n",
       "      <td>False</td>\n",
       "      <td>True</td>\n",
       "    </tr>\n",
       "    <tr>\n",
       "      <th>3</th>\n",
       "      <td>False</td>\n",
       "      <td>False</td>\n",
       "      <td>False</td>\n",
       "      <td>False</td>\n",
       "      <td>False</td>\n",
       "    </tr>\n",
       "    <tr>\n",
       "      <th>4</th>\n",
       "      <td>False</td>\n",
       "      <td>False</td>\n",
       "      <td>False</td>\n",
       "      <td>False</td>\n",
       "      <td>False</td>\n",
       "    </tr>\n",
       "    <tr>\n",
       "      <th>5</th>\n",
       "      <td>False</td>\n",
       "      <td>False</td>\n",
       "      <td>False</td>\n",
       "      <td>False</td>\n",
       "      <td>False</td>\n",
       "    </tr>\n",
       "    <tr>\n",
       "      <th>6</th>\n",
       "      <td>False</td>\n",
       "      <td>False</td>\n",
       "      <td>False</td>\n",
       "      <td>False</td>\n",
       "      <td>False</td>\n",
       "    </tr>\n",
       "    <tr>\n",
       "      <th>7</th>\n",
       "      <td>False</td>\n",
       "      <td>False</td>\n",
       "      <td>False</td>\n",
       "      <td>False</td>\n",
       "      <td>False</td>\n",
       "    </tr>\n",
       "    <tr>\n",
       "      <th>8</th>\n",
       "      <td>False</td>\n",
       "      <td>False</td>\n",
       "      <td>False</td>\n",
       "      <td>False</td>\n",
       "      <td>False</td>\n",
       "    </tr>\n",
       "    <tr>\n",
       "      <th>9</th>\n",
       "      <td>False</td>\n",
       "      <td>False</td>\n",
       "      <td>False</td>\n",
       "      <td>False</td>\n",
       "      <td>False</td>\n",
       "    </tr>\n",
       "  </tbody>\n",
       "</table>\n",
       "</div>"
      ],
      "text/plain": [
       "   (0.0, 0.2]  (0.2, 0.4]  (0.4, 0.6]  (0.6, 0.8]  (0.8, 1.0]\n",
       "0       False       False       False       False       False\n",
       "1       False       False       False       False       False\n",
       "2       False       False       False       False        True\n",
       "3       False       False       False       False       False\n",
       "4       False       False       False       False       False\n",
       "5       False       False       False       False       False\n",
       "6       False       False       False       False       False\n",
       "7       False       False       False       False       False\n",
       "8       False       False       False       False       False\n",
       "9       False       False       False       False       False"
      ]
     },
     "execution_count": 692,
     "metadata": {},
     "output_type": "execute_result"
    }
   ],
   "source": [
    "values = np.random.randn(10)\n",
    "bins = [0, 0.2, 0.4, 0.6, 0.8, 1.0]\n",
    "pd.get_dummies(pd.cut(values, bins))"
   ]
  },
  {
   "cell_type": "code",
   "execution_count": 693,
   "id": "78250dd0",
   "metadata": {},
   "outputs": [
    {
     "data": {
      "application/vnd.microsoft.datawrangler.viewer.v0+json": {
       "columns": [
        {
         "name": "index",
         "rawType": "int64",
         "type": "integer"
        },
        {
         "name": "A",
         "rawType": "object",
         "type": "string"
        },
        {
         "name": "B",
         "rawType": "float64",
         "type": "float"
        }
       ],
       "ref": "a7d58c87-1b98-4c32-a014-6bf7bf37ac16",
       "rows": [
        [
         "0",
         "a",
         "1.1"
        ],
        [
         "1",
         "b",
         "2.2"
        ],
        [
         "2",
         "c",
         "3.3"
        ]
       ],
       "shape": {
        "columns": 2,
        "rows": 3
       }
      },
      "text/html": [
       "<div>\n",
       "<style scoped>\n",
       "    .dataframe tbody tr th:only-of-type {\n",
       "        vertical-align: middle;\n",
       "    }\n",
       "\n",
       "    .dataframe tbody tr th {\n",
       "        vertical-align: top;\n",
       "    }\n",
       "\n",
       "    .dataframe thead th {\n",
       "        text-align: right;\n",
       "    }\n",
       "</style>\n",
       "<table border=\"1\" class=\"dataframe\">\n",
       "  <thead>\n",
       "    <tr style=\"text-align: right;\">\n",
       "      <th></th>\n",
       "      <th>A</th>\n",
       "      <th>B</th>\n",
       "    </tr>\n",
       "  </thead>\n",
       "  <tbody>\n",
       "    <tr>\n",
       "      <th>0</th>\n",
       "      <td>a</td>\n",
       "      <td>1.1</td>\n",
       "    </tr>\n",
       "    <tr>\n",
       "      <th>1</th>\n",
       "      <td>b</td>\n",
       "      <td>2.2</td>\n",
       "    </tr>\n",
       "    <tr>\n",
       "      <th>2</th>\n",
       "      <td>c</td>\n",
       "      <td>3.3</td>\n",
       "    </tr>\n",
       "  </tbody>\n",
       "</table>\n",
       "</div>"
      ],
      "text/plain": [
       "   A    B\n",
       "0  a  1.1\n",
       "1  b  2.2\n",
       "2  c  3.3"
      ]
     },
     "execution_count": 693,
     "metadata": {},
     "output_type": "execute_result"
    }
   ],
   "source": [
    "df = pd.DataFrame({\"A\": list(\"abc\"), \"B\": [1.1, 2.2, 3.3]})\n",
    "df"
   ]
  },
  {
   "cell_type": "code",
   "execution_count": 694,
   "id": "a2e5830f",
   "metadata": {},
   "outputs": [
    {
     "data": {
      "application/vnd.microsoft.datawrangler.viewer.v0+json": {
       "columns": [
        {
         "name": "index",
         "rawType": "int64",
         "type": "integer"
        },
        {
         "name": "B",
         "rawType": "float64",
         "type": "float"
        },
        {
         "name": "A_a",
         "rawType": "int32",
         "type": "integer"
        },
        {
         "name": "A_b",
         "rawType": "int32",
         "type": "integer"
        },
        {
         "name": "A_c",
         "rawType": "int32",
         "type": "integer"
        }
       ],
       "ref": "399832e7-bb09-4cd9-a4e2-2cee1bb1a692",
       "rows": [
        [
         "0",
         "1.1",
         "1",
         "0",
         "0"
        ],
        [
         "1",
         "2.2",
         "0",
         "1",
         "0"
        ],
        [
         "2",
         "3.3",
         "0",
         "0",
         "1"
        ]
       ],
       "shape": {
        "columns": 4,
        "rows": 3
       }
      },
      "text/html": [
       "<div>\n",
       "<style scoped>\n",
       "    .dataframe tbody tr th:only-of-type {\n",
       "        vertical-align: middle;\n",
       "    }\n",
       "\n",
       "    .dataframe tbody tr th {\n",
       "        vertical-align: top;\n",
       "    }\n",
       "\n",
       "    .dataframe thead th {\n",
       "        text-align: right;\n",
       "    }\n",
       "</style>\n",
       "<table border=\"1\" class=\"dataframe\">\n",
       "  <thead>\n",
       "    <tr style=\"text-align: right;\">\n",
       "      <th></th>\n",
       "      <th>B</th>\n",
       "      <th>A_a</th>\n",
       "      <th>A_b</th>\n",
       "      <th>A_c</th>\n",
       "    </tr>\n",
       "  </thead>\n",
       "  <tbody>\n",
       "    <tr>\n",
       "      <th>0</th>\n",
       "      <td>1.1</td>\n",
       "      <td>1</td>\n",
       "      <td>0</td>\n",
       "      <td>0</td>\n",
       "    </tr>\n",
       "    <tr>\n",
       "      <th>1</th>\n",
       "      <td>2.2</td>\n",
       "      <td>0</td>\n",
       "      <td>1</td>\n",
       "      <td>0</td>\n",
       "    </tr>\n",
       "    <tr>\n",
       "      <th>2</th>\n",
       "      <td>3.3</td>\n",
       "      <td>0</td>\n",
       "      <td>0</td>\n",
       "      <td>1</td>\n",
       "    </tr>\n",
       "  </tbody>\n",
       "</table>\n",
       "</div>"
      ],
      "text/plain": [
       "     B  A_a  A_b  A_c\n",
       "0  1.1    1    0    0\n",
       "1  2.2    0    1    0\n",
       "2  3.3    0    0    1"
      ]
     },
     "execution_count": 694,
     "metadata": {},
     "output_type": "execute_result"
    }
   ],
   "source": [
    "pd.get_dummies(df, dtype=np.int32)"
   ]
  },
  {
   "cell_type": "code",
   "execution_count": 695,
   "id": "173797e0",
   "metadata": {},
   "outputs": [
    {
     "data": {
      "application/vnd.microsoft.datawrangler.viewer.v0+json": {
       "columns": [
        {
         "name": "index",
         "rawType": "int64",
         "type": "integer"
        },
        {
         "name": "keys",
         "rawType": "object",
         "type": "string"
        },
        {
         "name": "values",
         "rawType": "object",
         "type": "unknown"
        }
       ],
       "ref": "75b4c995-c062-431c-8977-ae76759b0196",
       "rows": [
        [
         "0",
         "panda1",
         "['eats', 'shoots']"
        ],
        [
         "1",
         "panda2",
         "['shoots', 'leaves', 'apples']"
        ],
        [
         "2",
         "panda3",
         "['eats', 'leaves']"
        ]
       ],
       "shape": {
        "columns": 2,
        "rows": 3
       }
      },
      "text/html": [
       "<div>\n",
       "<style scoped>\n",
       "    .dataframe tbody tr th:only-of-type {\n",
       "        vertical-align: middle;\n",
       "    }\n",
       "\n",
       "    .dataframe tbody tr th {\n",
       "        vertical-align: top;\n",
       "    }\n",
       "\n",
       "    .dataframe thead th {\n",
       "        text-align: right;\n",
       "    }\n",
       "</style>\n",
       "<table border=\"1\" class=\"dataframe\">\n",
       "  <thead>\n",
       "    <tr style=\"text-align: right;\">\n",
       "      <th></th>\n",
       "      <th>keys</th>\n",
       "      <th>values</th>\n",
       "    </tr>\n",
       "  </thead>\n",
       "  <tbody>\n",
       "    <tr>\n",
       "      <th>0</th>\n",
       "      <td>panda1</td>\n",
       "      <td>[eats, shoots]</td>\n",
       "    </tr>\n",
       "    <tr>\n",
       "      <th>1</th>\n",
       "      <td>panda2</td>\n",
       "      <td>[shoots, leaves, apples]</td>\n",
       "    </tr>\n",
       "    <tr>\n",
       "      <th>2</th>\n",
       "      <td>panda3</td>\n",
       "      <td>[eats, leaves]</td>\n",
       "    </tr>\n",
       "  </tbody>\n",
       "</table>\n",
       "</div>"
      ],
      "text/plain": [
       "     keys                    values\n",
       "0  panda1            [eats, shoots]\n",
       "1  panda2  [shoots, leaves, apples]\n",
       "2  panda3            [eats, leaves]"
      ]
     },
     "execution_count": 695,
     "metadata": {},
     "output_type": "execute_result"
    }
   ],
   "source": [
    "keys = [\"panda1\", \"panda2\", \"panda3\"]\n",
    "\n",
    "values = [[\"eats\", \"shoots\"], [\"shoots\", \"leaves\", 'apples'], [\"eats\", \"leaves\"]]\n",
    "\n",
    "df = pd.DataFrame({\"keys\": keys, \"values\": values})\n",
    "df"
   ]
  },
  {
   "cell_type": "code",
   "execution_count": 696,
   "id": "cc4b9999",
   "metadata": {},
   "outputs": [
    {
     "data": {
      "application/vnd.microsoft.datawrangler.viewer.v0+json": {
       "columns": [
        {
         "name": "index",
         "rawType": "int64",
         "type": "integer"
        },
        {
         "name": "keys",
         "rawType": "object",
         "type": "string"
        },
        {
         "name": "values",
         "rawType": "object",
         "type": "string"
        }
       ],
       "ref": "cca12ecf-4bc3-4178-bdc7-44537f3324d3",
       "rows": [
        [
         "0",
         "panda1",
         "eats"
        ],
        [
         "0",
         "panda1",
         "shoots"
        ],
        [
         "1",
         "panda2",
         "shoots"
        ],
        [
         "1",
         "panda2",
         "leaves"
        ],
        [
         "1",
         "panda2",
         "apples"
        ],
        [
         "2",
         "panda3",
         "eats"
        ],
        [
         "2",
         "panda3",
         "leaves"
        ]
       ],
       "shape": {
        "columns": 2,
        "rows": 7
       }
      },
      "text/html": [
       "<div>\n",
       "<style scoped>\n",
       "    .dataframe tbody tr th:only-of-type {\n",
       "        vertical-align: middle;\n",
       "    }\n",
       "\n",
       "    .dataframe tbody tr th {\n",
       "        vertical-align: top;\n",
       "    }\n",
       "\n",
       "    .dataframe thead th {\n",
       "        text-align: right;\n",
       "    }\n",
       "</style>\n",
       "<table border=\"1\" class=\"dataframe\">\n",
       "  <thead>\n",
       "    <tr style=\"text-align: right;\">\n",
       "      <th></th>\n",
       "      <th>keys</th>\n",
       "      <th>values</th>\n",
       "    </tr>\n",
       "  </thead>\n",
       "  <tbody>\n",
       "    <tr>\n",
       "      <th>0</th>\n",
       "      <td>panda1</td>\n",
       "      <td>eats</td>\n",
       "    </tr>\n",
       "    <tr>\n",
       "      <th>0</th>\n",
       "      <td>panda1</td>\n",
       "      <td>shoots</td>\n",
       "    </tr>\n",
       "    <tr>\n",
       "      <th>1</th>\n",
       "      <td>panda2</td>\n",
       "      <td>shoots</td>\n",
       "    </tr>\n",
       "    <tr>\n",
       "      <th>1</th>\n",
       "      <td>panda2</td>\n",
       "      <td>leaves</td>\n",
       "    </tr>\n",
       "    <tr>\n",
       "      <th>1</th>\n",
       "      <td>panda2</td>\n",
       "      <td>apples</td>\n",
       "    </tr>\n",
       "    <tr>\n",
       "      <th>2</th>\n",
       "      <td>panda3</td>\n",
       "      <td>eats</td>\n",
       "    </tr>\n",
       "    <tr>\n",
       "      <th>2</th>\n",
       "      <td>panda3</td>\n",
       "      <td>leaves</td>\n",
       "    </tr>\n",
       "  </tbody>\n",
       "</table>\n",
       "</div>"
      ],
      "text/plain": [
       "     keys  values\n",
       "0  panda1    eats\n",
       "0  panda1  shoots\n",
       "1  panda2  shoots\n",
       "1  panda2  leaves\n",
       "1  panda2  apples\n",
       "2  panda3    eats\n",
       "2  panda3  leaves"
      ]
     },
     "execution_count": 696,
     "metadata": {},
     "output_type": "execute_result"
    }
   ],
   "source": [
    "df.explode('values')"
   ]
  },
  {
   "cell_type": "code",
   "execution_count": 697,
   "id": "6e217f49",
   "metadata": {},
   "outputs": [],
   "source": [
    "a = np.array([\"foo\", \"foo\", \"bar\", \"bar\", \"foo\", \"foo\"], dtype=object)\n",
    "\n",
    "b = np.array([\"one\", \"one\", \"two\", \"one\", \"two\", \"one\"], dtype=object)\n",
    "\n",
    "c = np.array([\"dull\", \"dull\", \"shiny\", \"dull\", \"dull\", \"shiny\"], dtype=object)"
   ]
  },
  {
   "cell_type": "code",
   "execution_count": 698,
   "id": "36d75374",
   "metadata": {},
   "outputs": [
    {
     "data": {
      "application/vnd.microsoft.datawrangler.viewer.v0+json": {
       "columns": [
        {
         "name": "row_0",
         "rawType": "object",
         "type": "string"
        },
        {
         "name": "('one', 'dull')",
         "rawType": "int64",
         "type": "integer"
        },
        {
         "name": "('one', 'shiny')",
         "rawType": "int64",
         "type": "integer"
        },
        {
         "name": "('two', 'dull')",
         "rawType": "int64",
         "type": "integer"
        },
        {
         "name": "('two', 'shiny')",
         "rawType": "int64",
         "type": "integer"
        }
       ],
       "ref": "2b6b77b7-8f4b-4d0e-8727-0051950bfac0",
       "rows": [
        [
         "bar",
         "1",
         "0",
         "0",
         "1"
        ],
        [
         "foo",
         "2",
         "1",
         "1",
         "0"
        ]
       ],
       "shape": {
        "columns": 4,
        "rows": 2
       }
      },
      "text/html": [
       "<div>\n",
       "<style scoped>\n",
       "    .dataframe tbody tr th:only-of-type {\n",
       "        vertical-align: middle;\n",
       "    }\n",
       "\n",
       "    .dataframe tbody tr th {\n",
       "        vertical-align: top;\n",
       "    }\n",
       "\n",
       "    .dataframe thead tr th {\n",
       "        text-align: left;\n",
       "    }\n",
       "\n",
       "    .dataframe thead tr:last-of-type th {\n",
       "        text-align: right;\n",
       "    }\n",
       "</style>\n",
       "<table border=\"1\" class=\"dataframe\">\n",
       "  <thead>\n",
       "    <tr>\n",
       "      <th>col_0</th>\n",
       "      <th colspan=\"2\" halign=\"left\">one</th>\n",
       "      <th colspan=\"2\" halign=\"left\">two</th>\n",
       "    </tr>\n",
       "    <tr>\n",
       "      <th>col_1</th>\n",
       "      <th>dull</th>\n",
       "      <th>shiny</th>\n",
       "      <th>dull</th>\n",
       "      <th>shiny</th>\n",
       "    </tr>\n",
       "    <tr>\n",
       "      <th>row_0</th>\n",
       "      <th></th>\n",
       "      <th></th>\n",
       "      <th></th>\n",
       "      <th></th>\n",
       "    </tr>\n",
       "  </thead>\n",
       "  <tbody>\n",
       "    <tr>\n",
       "      <th>bar</th>\n",
       "      <td>1</td>\n",
       "      <td>0</td>\n",
       "      <td>0</td>\n",
       "      <td>1</td>\n",
       "    </tr>\n",
       "    <tr>\n",
       "      <th>foo</th>\n",
       "      <td>2</td>\n",
       "      <td>1</td>\n",
       "      <td>1</td>\n",
       "      <td>0</td>\n",
       "    </tr>\n",
       "  </tbody>\n",
       "</table>\n",
       "</div>"
      ],
      "text/plain": [
       "col_0  one        two      \n",
       "col_1 dull shiny dull shiny\n",
       "row_0                      \n",
       "bar      1     0    0     1\n",
       "foo      2     1    1     0"
      ]
     },
     "execution_count": 698,
     "metadata": {},
     "output_type": "execute_result"
    }
   ],
   "source": [
    "pd.crosstab(a, [b, c])"
   ]
  },
  {
   "cell_type": "code",
   "execution_count": 699,
   "id": "9557d50a",
   "metadata": {},
   "outputs": [
    {
     "data": {
      "application/vnd.microsoft.datawrangler.viewer.v0+json": {
       "columns": [
        {
         "name": "index",
         "rawType": "int64",
         "type": "integer"
        },
        {
         "name": "A",
         "rawType": "object",
         "type": "string"
        },
        {
         "name": "B",
         "rawType": "object",
         "type": "string"
        },
        {
         "name": "C",
         "rawType": "float64",
         "type": "float"
        },
        {
         "name": "D",
         "rawType": "float64",
         "type": "float"
        }
       ],
       "ref": "24c09414-f2ae-46a8-85ab-4b2f98c2b08d",
       "rows": [
        [
         "0",
         "foo",
         "one",
         "1.2738613778378463",
         "0.7584928297359549"
        ],
        [
         "1",
         "bar",
         "one",
         "1.1705651347148731",
         "0.884667757663042"
        ],
        [
         "2",
         "foo",
         "two",
         "2.1480450213161943",
         "0.7460533239583732"
        ],
        [
         "3",
         "bar",
         "three",
         "-0.12477596867690235",
         "-0.4986368722765505"
        ],
        [
         "4",
         "foo",
         "two",
         "0.08234301879308255",
         "-0.767463791443182"
        ],
        [
         "5",
         "bar",
         "two",
         "0.3353422708169786",
         "0.15000453101729805"
        ],
        [
         "6",
         "foo",
         "one",
         "-1.1748649181739146",
         "-1.4073023756960197"
        ],
        [
         "7",
         "foo",
         "three",
         "0.5237353813480666",
         "-0.08297043581884089"
        ]
       ],
       "shape": {
        "columns": 4,
        "rows": 8
       }
      },
      "text/html": [
       "<div>\n",
       "<style scoped>\n",
       "    .dataframe tbody tr th:only-of-type {\n",
       "        vertical-align: middle;\n",
       "    }\n",
       "\n",
       "    .dataframe tbody tr th {\n",
       "        vertical-align: top;\n",
       "    }\n",
       "\n",
       "    .dataframe thead th {\n",
       "        text-align: right;\n",
       "    }\n",
       "</style>\n",
       "<table border=\"1\" class=\"dataframe\">\n",
       "  <thead>\n",
       "    <tr style=\"text-align: right;\">\n",
       "      <th></th>\n",
       "      <th>A</th>\n",
       "      <th>B</th>\n",
       "      <th>C</th>\n",
       "      <th>D</th>\n",
       "    </tr>\n",
       "  </thead>\n",
       "  <tbody>\n",
       "    <tr>\n",
       "      <th>0</th>\n",
       "      <td>foo</td>\n",
       "      <td>one</td>\n",
       "      <td>1.273861</td>\n",
       "      <td>0.758493</td>\n",
       "    </tr>\n",
       "    <tr>\n",
       "      <th>1</th>\n",
       "      <td>bar</td>\n",
       "      <td>one</td>\n",
       "      <td>1.170565</td>\n",
       "      <td>0.884668</td>\n",
       "    </tr>\n",
       "    <tr>\n",
       "      <th>2</th>\n",
       "      <td>foo</td>\n",
       "      <td>two</td>\n",
       "      <td>2.148045</td>\n",
       "      <td>0.746053</td>\n",
       "    </tr>\n",
       "    <tr>\n",
       "      <th>3</th>\n",
       "      <td>bar</td>\n",
       "      <td>three</td>\n",
       "      <td>-0.124776</td>\n",
       "      <td>-0.498637</td>\n",
       "    </tr>\n",
       "    <tr>\n",
       "      <th>4</th>\n",
       "      <td>foo</td>\n",
       "      <td>two</td>\n",
       "      <td>0.082343</td>\n",
       "      <td>-0.767464</td>\n",
       "    </tr>\n",
       "    <tr>\n",
       "      <th>5</th>\n",
       "      <td>bar</td>\n",
       "      <td>two</td>\n",
       "      <td>0.335342</td>\n",
       "      <td>0.150005</td>\n",
       "    </tr>\n",
       "    <tr>\n",
       "      <th>6</th>\n",
       "      <td>foo</td>\n",
       "      <td>one</td>\n",
       "      <td>-1.174865</td>\n",
       "      <td>-1.407302</td>\n",
       "    </tr>\n",
       "    <tr>\n",
       "      <th>7</th>\n",
       "      <td>foo</td>\n",
       "      <td>three</td>\n",
       "      <td>0.523735</td>\n",
       "      <td>-0.082970</td>\n",
       "    </tr>\n",
       "  </tbody>\n",
       "</table>\n",
       "</div>"
      ],
      "text/plain": [
       "     A      B         C         D\n",
       "0  foo    one  1.273861  0.758493\n",
       "1  bar    one  1.170565  0.884668\n",
       "2  foo    two  2.148045  0.746053\n",
       "3  bar  three -0.124776 -0.498637\n",
       "4  foo    two  0.082343 -0.767464\n",
       "5  bar    two  0.335342  0.150005\n",
       "6  foo    one -1.174865 -1.407302\n",
       "7  foo  three  0.523735 -0.082970"
      ]
     },
     "execution_count": 699,
     "metadata": {},
     "output_type": "execute_result"
    }
   ],
   "source": [
    "df = pd.DataFrame(\n",
    "    {\n",
    "        \"A\": [\"foo\", \"bar\", \"foo\", \"bar\", \"foo\", \"bar\", \"foo\", \"foo\"],\n",
    "        \"B\": [\"one\", \"one\", \"two\", \"three\", \"two\", \"two\", \"one\", \"three\"],\n",
    "        \"C\": np.random.randn(8),\n",
    "        \"D\": np.random.randn(8),\n",
    "    }\n",
    ")\n",
    "df"
   ]
  },
  {
   "cell_type": "code",
   "execution_count": 700,
   "id": "862f2e6e",
   "metadata": {},
   "outputs": [
    {
     "data": {
      "text/plain": [
       "<pandas.core.groupby.generic.DataFrameGroupBy object at 0x000001E679F2B110>"
      ]
     },
     "execution_count": 700,
     "metadata": {},
     "output_type": "execute_result"
    }
   ],
   "source": [
    "df.groupby('A')"
   ]
  },
  {
   "cell_type": "code",
   "execution_count": 701,
   "id": "e9c8119c",
   "metadata": {},
   "outputs": [
    {
     "data": {
      "text/plain": [
       "<pandas.core.groupby.generic.DataFrameGroupBy object at 0x000001E679F2B1D0>"
      ]
     },
     "execution_count": 701,
     "metadata": {},
     "output_type": "execute_result"
    }
   ],
   "source": [
    "df.groupby(['A', 'B'])"
   ]
  },
  {
   "cell_type": "code",
   "execution_count": 702,
   "id": "33f0e1c5",
   "metadata": {},
   "outputs": [],
   "source": [
    "df2 = df.set_index(['A', 'B'])"
   ]
  },
  {
   "cell_type": "code",
   "execution_count": 703,
   "id": "9e170aac",
   "metadata": {},
   "outputs": [
    {
     "data": {
      "application/vnd.microsoft.datawrangler.viewer.v0+json": {
       "columns": [
        {
         "name": "('A', 'B')",
         "rawType": "object",
         "type": "unknown"
        },
        {
         "name": "C",
         "rawType": "float64",
         "type": "float"
        },
        {
         "name": "D",
         "rawType": "float64",
         "type": "float"
        }
       ],
       "ref": "b9fe59c8-a0ea-4664-bc72-c7f0690ed0a3",
       "rows": [
        [
         "('foo', 'one')",
         "1.2738613778378463",
         "0.7584928297359549"
        ],
        [
         "('bar', 'one')",
         "1.1705651347148731",
         "0.884667757663042"
        ],
        [
         "('foo', 'two')",
         "2.1480450213161943",
         "0.7460533239583732"
        ],
        [
         "('bar', 'three')",
         "-0.12477596867690235",
         "-0.4986368722765505"
        ],
        [
         "('foo', 'two')",
         "0.08234301879308255",
         "-0.767463791443182"
        ],
        [
         "('bar', 'two')",
         "0.3353422708169786",
         "0.15000453101729805"
        ],
        [
         "('foo', 'one')",
         "-1.1748649181739146",
         "-1.4073023756960197"
        ],
        [
         "('foo', 'three')",
         "0.5237353813480666",
         "-0.08297043581884089"
        ]
       ],
       "shape": {
        "columns": 2,
        "rows": 8
       }
      },
      "text/html": [
       "<div>\n",
       "<style scoped>\n",
       "    .dataframe tbody tr th:only-of-type {\n",
       "        vertical-align: middle;\n",
       "    }\n",
       "\n",
       "    .dataframe tbody tr th {\n",
       "        vertical-align: top;\n",
       "    }\n",
       "\n",
       "    .dataframe thead th {\n",
       "        text-align: right;\n",
       "    }\n",
       "</style>\n",
       "<table border=\"1\" class=\"dataframe\">\n",
       "  <thead>\n",
       "    <tr style=\"text-align: right;\">\n",
       "      <th></th>\n",
       "      <th></th>\n",
       "      <th>C</th>\n",
       "      <th>D</th>\n",
       "    </tr>\n",
       "    <tr>\n",
       "      <th>A</th>\n",
       "      <th>B</th>\n",
       "      <th></th>\n",
       "      <th></th>\n",
       "    </tr>\n",
       "  </thead>\n",
       "  <tbody>\n",
       "    <tr>\n",
       "      <th>foo</th>\n",
       "      <th>one</th>\n",
       "      <td>1.273861</td>\n",
       "      <td>0.758493</td>\n",
       "    </tr>\n",
       "    <tr>\n",
       "      <th>bar</th>\n",
       "      <th>one</th>\n",
       "      <td>1.170565</td>\n",
       "      <td>0.884668</td>\n",
       "    </tr>\n",
       "    <tr>\n",
       "      <th>foo</th>\n",
       "      <th>two</th>\n",
       "      <td>2.148045</td>\n",
       "      <td>0.746053</td>\n",
       "    </tr>\n",
       "    <tr>\n",
       "      <th>bar</th>\n",
       "      <th>three</th>\n",
       "      <td>-0.124776</td>\n",
       "      <td>-0.498637</td>\n",
       "    </tr>\n",
       "    <tr>\n",
       "      <th>foo</th>\n",
       "      <th>two</th>\n",
       "      <td>0.082343</td>\n",
       "      <td>-0.767464</td>\n",
       "    </tr>\n",
       "    <tr>\n",
       "      <th>bar</th>\n",
       "      <th>two</th>\n",
       "      <td>0.335342</td>\n",
       "      <td>0.150005</td>\n",
       "    </tr>\n",
       "    <tr>\n",
       "      <th rowspan=\"2\" valign=\"top\">foo</th>\n",
       "      <th>one</th>\n",
       "      <td>-1.174865</td>\n",
       "      <td>-1.407302</td>\n",
       "    </tr>\n",
       "    <tr>\n",
       "      <th>three</th>\n",
       "      <td>0.523735</td>\n",
       "      <td>-0.082970</td>\n",
       "    </tr>\n",
       "  </tbody>\n",
       "</table>\n",
       "</div>"
      ],
      "text/plain": [
       "                  C         D\n",
       "A   B                        \n",
       "foo one    1.273861  0.758493\n",
       "bar one    1.170565  0.884668\n",
       "foo two    2.148045  0.746053\n",
       "bar three -0.124776 -0.498637\n",
       "foo two    0.082343 -0.767464\n",
       "bar two    0.335342  0.150005\n",
       "foo one   -1.174865 -1.407302\n",
       "    three  0.523735 -0.082970"
      ]
     },
     "execution_count": 703,
     "metadata": {},
     "output_type": "execute_result"
    }
   ],
   "source": [
    "df2"
   ]
  },
  {
   "cell_type": "code",
   "execution_count": 704,
   "id": "22137455",
   "metadata": {},
   "outputs": [],
   "source": [
    "grouped = df2.groupby(df2.index.names.difference(['B']))"
   ]
  },
  {
   "cell_type": "code",
   "execution_count": 705,
   "id": "476b0822",
   "metadata": {},
   "outputs": [
    {
     "data": {
      "application/vnd.microsoft.datawrangler.viewer.v0+json": {
       "columns": [
        {
         "name": "A",
         "rawType": "object",
         "type": "string"
        },
        {
         "name": "C",
         "rawType": "float64",
         "type": "float"
        },
        {
         "name": "D",
         "rawType": "float64",
         "type": "float"
        }
       ],
       "ref": "784aadcb-d281-4224-849e-e05ed7448a61",
       "rows": [
        [
         "bar",
         "1.3811314368549494",
         "0.5360354164037895"
        ],
        [
         "foo",
         "2.8531198811212755",
         "-0.7531904492637145"
        ]
       ],
       "shape": {
        "columns": 2,
        "rows": 2
       }
      },
      "text/html": [
       "<div>\n",
       "<style scoped>\n",
       "    .dataframe tbody tr th:only-of-type {\n",
       "        vertical-align: middle;\n",
       "    }\n",
       "\n",
       "    .dataframe tbody tr th {\n",
       "        vertical-align: top;\n",
       "    }\n",
       "\n",
       "    .dataframe thead th {\n",
       "        text-align: right;\n",
       "    }\n",
       "</style>\n",
       "<table border=\"1\" class=\"dataframe\">\n",
       "  <thead>\n",
       "    <tr style=\"text-align: right;\">\n",
       "      <th></th>\n",
       "      <th>C</th>\n",
       "      <th>D</th>\n",
       "    </tr>\n",
       "    <tr>\n",
       "      <th>A</th>\n",
       "      <th></th>\n",
       "      <th></th>\n",
       "    </tr>\n",
       "  </thead>\n",
       "  <tbody>\n",
       "    <tr>\n",
       "      <th>bar</th>\n",
       "      <td>1.381131</td>\n",
       "      <td>0.536035</td>\n",
       "    </tr>\n",
       "    <tr>\n",
       "      <th>foo</th>\n",
       "      <td>2.853120</td>\n",
       "      <td>-0.753190</td>\n",
       "    </tr>\n",
       "  </tbody>\n",
       "</table>\n",
       "</div>"
      ],
      "text/plain": [
       "            C         D\n",
       "A                      \n",
       "bar  1.381131  0.536035\n",
       "foo  2.853120 -0.753190"
      ]
     },
     "execution_count": 705,
     "metadata": {},
     "output_type": "execute_result"
    }
   ],
   "source": [
    "grouped.sum()"
   ]
  },
  {
   "cell_type": "code",
   "execution_count": 706,
   "id": "a6859fbd",
   "metadata": {},
   "outputs": [],
   "source": [
    "def get_letter_type(letter):\n",
    "    if letter.lower() in 'aeiou':\n",
    "        return 'vowel'\n",
    "    else:\n",
    "        return 'consonant'\n",
    "    \n",
    "grouped = df.T.groupby(get_letter_type)"
   ]
  },
  {
   "cell_type": "code",
   "execution_count": 707,
   "id": "d5e2625c",
   "metadata": {},
   "outputs": [
    {
     "data": {
      "application/vnd.microsoft.datawrangler.viewer.v0+json": {
       "columns": [
        {
         "name": "index",
         "rawType": "object",
         "type": "string"
        },
        {
         "name": "0",
         "rawType": "object",
         "type": "unknown"
        },
        {
         "name": "1",
         "rawType": "object",
         "type": "unknown"
        },
        {
         "name": "2",
         "rawType": "object",
         "type": "unknown"
        },
        {
         "name": "3",
         "rawType": "object",
         "type": "unknown"
        },
        {
         "name": "4",
         "rawType": "object",
         "type": "unknown"
        },
        {
         "name": "5",
         "rawType": "object",
         "type": "unknown"
        },
        {
         "name": "6",
         "rawType": "object",
         "type": "unknown"
        },
        {
         "name": "7",
         "rawType": "object",
         "type": "unknown"
        }
       ],
       "ref": "1264bf1e-a9e4-404f-9779-5faf3b55be7c",
       "rows": [
        [
         "consonant",
         "0.7584928297359549",
         "0.884667757663042",
         "0.7460533239583732",
         "-0.4986368722765505",
         "-0.767463791443182",
         "0.15000453101729805",
         "-1.4073023756960197",
         "-0.08297043581884089"
        ],
        [
         "vowel",
         "foo",
         "bar",
         "foo",
         "bar",
         "foo",
         "bar",
         "foo",
         "foo"
        ]
       ],
       "shape": {
        "columns": 8,
        "rows": 2
       }
      },
      "text/html": [
       "<div>\n",
       "<style scoped>\n",
       "    .dataframe tbody tr th:only-of-type {\n",
       "        vertical-align: middle;\n",
       "    }\n",
       "\n",
       "    .dataframe tbody tr th {\n",
       "        vertical-align: top;\n",
       "    }\n",
       "\n",
       "    .dataframe thead th {\n",
       "        text-align: right;\n",
       "    }\n",
       "</style>\n",
       "<table border=\"1\" class=\"dataframe\">\n",
       "  <thead>\n",
       "    <tr style=\"text-align: right;\">\n",
       "      <th></th>\n",
       "      <th>0</th>\n",
       "      <th>1</th>\n",
       "      <th>2</th>\n",
       "      <th>3</th>\n",
       "      <th>4</th>\n",
       "      <th>5</th>\n",
       "      <th>6</th>\n",
       "      <th>7</th>\n",
       "    </tr>\n",
       "  </thead>\n",
       "  <tbody>\n",
       "    <tr>\n",
       "      <th>consonant</th>\n",
       "      <td>0.758493</td>\n",
       "      <td>0.884668</td>\n",
       "      <td>0.746053</td>\n",
       "      <td>-0.498637</td>\n",
       "      <td>-0.767464</td>\n",
       "      <td>0.150005</td>\n",
       "      <td>-1.407302</td>\n",
       "      <td>-0.08297</td>\n",
       "    </tr>\n",
       "    <tr>\n",
       "      <th>vowel</th>\n",
       "      <td>foo</td>\n",
       "      <td>bar</td>\n",
       "      <td>foo</td>\n",
       "      <td>bar</td>\n",
       "      <td>foo</td>\n",
       "      <td>bar</td>\n",
       "      <td>foo</td>\n",
       "      <td>foo</td>\n",
       "    </tr>\n",
       "  </tbody>\n",
       "</table>\n",
       "</div>"
      ],
      "text/plain": [
       "                  0         1         2         3         4         5  \\\n",
       "consonant  0.758493  0.884668  0.746053 -0.498637 -0.767464  0.150005   \n",
       "vowel           foo       bar       foo       bar       foo       bar   \n",
       "\n",
       "                  6        7  \n",
       "consonant -1.407302 -0.08297  \n",
       "vowel           foo      foo  "
      ]
     },
     "execution_count": 707,
     "metadata": {},
     "output_type": "execute_result"
    }
   ],
   "source": [
    "grouped.last()"
   ]
  },
  {
   "cell_type": "code",
   "execution_count": 708,
   "id": "27b68414",
   "metadata": {},
   "outputs": [
    {
     "data": {
      "application/vnd.microsoft.datawrangler.viewer.v0+json": {
       "columns": [
        {
         "name": "index",
         "rawType": "object",
         "type": "string"
        },
        {
         "name": "0",
         "rawType": "object",
         "type": "unknown"
        },
        {
         "name": "1",
         "rawType": "object",
         "type": "unknown"
        },
        {
         "name": "2",
         "rawType": "object",
         "type": "unknown"
        },
        {
         "name": "3",
         "rawType": "object",
         "type": "unknown"
        },
        {
         "name": "4",
         "rawType": "object",
         "type": "unknown"
        },
        {
         "name": "5",
         "rawType": "object",
         "type": "unknown"
        },
        {
         "name": "6",
         "rawType": "object",
         "type": "unknown"
        },
        {
         "name": "7",
         "rawType": "object",
         "type": "unknown"
        }
       ],
       "ref": "c8c4d4f0-de61-4504-9f3c-e20bb427e2c4",
       "rows": [
        [
         "A",
         "foo",
         "bar",
         "foo",
         "bar",
         "foo",
         "bar",
         "foo",
         "foo"
        ],
        [
         "B",
         "one",
         "one",
         "two",
         "three",
         "two",
         "two",
         "one",
         "three"
        ],
        [
         "C",
         "1.2738613778378463",
         "1.1705651347148731",
         "2.1480450213161943",
         "-0.12477596867690235",
         "0.08234301879308255",
         "0.3353422708169786",
         "-1.1748649181739146",
         "0.5237353813480666"
        ],
        [
         "D",
         "0.7584928297359549",
         "0.884667757663042",
         "0.7460533239583732",
         "-0.4986368722765505",
         "-0.767463791443182",
         "0.15000453101729805",
         "-1.4073023756960197",
         "-0.08297043581884089"
        ]
       ],
       "shape": {
        "columns": 8,
        "rows": 4
       }
      },
      "text/html": [
       "<div>\n",
       "<style scoped>\n",
       "    .dataframe tbody tr th:only-of-type {\n",
       "        vertical-align: middle;\n",
       "    }\n",
       "\n",
       "    .dataframe tbody tr th {\n",
       "        vertical-align: top;\n",
       "    }\n",
       "\n",
       "    .dataframe thead th {\n",
       "        text-align: right;\n",
       "    }\n",
       "</style>\n",
       "<table border=\"1\" class=\"dataframe\">\n",
       "  <thead>\n",
       "    <tr style=\"text-align: right;\">\n",
       "      <th></th>\n",
       "      <th>0</th>\n",
       "      <th>1</th>\n",
       "      <th>2</th>\n",
       "      <th>3</th>\n",
       "      <th>4</th>\n",
       "      <th>5</th>\n",
       "      <th>6</th>\n",
       "      <th>7</th>\n",
       "    </tr>\n",
       "  </thead>\n",
       "  <tbody>\n",
       "    <tr>\n",
       "      <th>A</th>\n",
       "      <td>foo</td>\n",
       "      <td>bar</td>\n",
       "      <td>foo</td>\n",
       "      <td>bar</td>\n",
       "      <td>foo</td>\n",
       "      <td>bar</td>\n",
       "      <td>foo</td>\n",
       "      <td>foo</td>\n",
       "    </tr>\n",
       "    <tr>\n",
       "      <th>B</th>\n",
       "      <td>one</td>\n",
       "      <td>one</td>\n",
       "      <td>two</td>\n",
       "      <td>three</td>\n",
       "      <td>two</td>\n",
       "      <td>two</td>\n",
       "      <td>one</td>\n",
       "      <td>three</td>\n",
       "    </tr>\n",
       "    <tr>\n",
       "      <th>C</th>\n",
       "      <td>1.273861</td>\n",
       "      <td>1.170565</td>\n",
       "      <td>2.148045</td>\n",
       "      <td>-0.124776</td>\n",
       "      <td>0.082343</td>\n",
       "      <td>0.335342</td>\n",
       "      <td>-1.174865</td>\n",
       "      <td>0.523735</td>\n",
       "    </tr>\n",
       "    <tr>\n",
       "      <th>D</th>\n",
       "      <td>0.758493</td>\n",
       "      <td>0.884668</td>\n",
       "      <td>0.746053</td>\n",
       "      <td>-0.498637</td>\n",
       "      <td>-0.767464</td>\n",
       "      <td>0.150005</td>\n",
       "      <td>-1.407302</td>\n",
       "      <td>-0.08297</td>\n",
       "    </tr>\n",
       "  </tbody>\n",
       "</table>\n",
       "</div>"
      ],
      "text/plain": [
       "          0         1         2         3         4         5         6  \\\n",
       "A       foo       bar       foo       bar       foo       bar       foo   \n",
       "B       one       one       two     three       two       two       one   \n",
       "C  1.273861  1.170565  2.148045 -0.124776  0.082343  0.335342 -1.174865   \n",
       "D  0.758493  0.884668  0.746053 -0.498637 -0.767464  0.150005 -1.407302   \n",
       "\n",
       "          7  \n",
       "A       foo  \n",
       "B     three  \n",
       "C  0.523735  \n",
       "D  -0.08297  "
      ]
     },
     "execution_count": 708,
     "metadata": {},
     "output_type": "execute_result"
    }
   ],
   "source": [
    "df.T"
   ]
  },
  {
   "cell_type": "code",
   "execution_count": 709,
   "id": "ad010fe4",
   "metadata": {},
   "outputs": [
    {
     "data": {
      "application/vnd.microsoft.datawrangler.viewer.v0+json": {
       "columns": [
        {
         "name": "index",
         "rawType": "int64",
         "type": "integer"
        },
        {
         "name": "X",
         "rawType": "object",
         "type": "string"
        },
        {
         "name": "Y",
         "rawType": "int64",
         "type": "integer"
        }
       ],
       "ref": "4173a31f-390b-4fbe-a12a-ce7f4574b885",
       "rows": [
        [
         "0",
         "A",
         "1"
        ],
        [
         "1",
         "B",
         "4"
        ],
        [
         "2",
         "A",
         "3"
        ],
        [
         "3",
         "B",
         "2"
        ]
       ],
       "shape": {
        "columns": 2,
        "rows": 4
       }
      },
      "text/html": [
       "<div>\n",
       "<style scoped>\n",
       "    .dataframe tbody tr th:only-of-type {\n",
       "        vertical-align: middle;\n",
       "    }\n",
       "\n",
       "    .dataframe tbody tr th {\n",
       "        vertical-align: top;\n",
       "    }\n",
       "\n",
       "    .dataframe thead th {\n",
       "        text-align: right;\n",
       "    }\n",
       "</style>\n",
       "<table border=\"1\" class=\"dataframe\">\n",
       "  <thead>\n",
       "    <tr style=\"text-align: right;\">\n",
       "      <th></th>\n",
       "      <th>X</th>\n",
       "      <th>Y</th>\n",
       "    </tr>\n",
       "  </thead>\n",
       "  <tbody>\n",
       "    <tr>\n",
       "      <th>0</th>\n",
       "      <td>A</td>\n",
       "      <td>1</td>\n",
       "    </tr>\n",
       "    <tr>\n",
       "      <th>1</th>\n",
       "      <td>B</td>\n",
       "      <td>4</td>\n",
       "    </tr>\n",
       "    <tr>\n",
       "      <th>2</th>\n",
       "      <td>A</td>\n",
       "      <td>3</td>\n",
       "    </tr>\n",
       "    <tr>\n",
       "      <th>3</th>\n",
       "      <td>B</td>\n",
       "      <td>2</td>\n",
       "    </tr>\n",
       "  </tbody>\n",
       "</table>\n",
       "</div>"
      ],
      "text/plain": [
       "   X  Y\n",
       "0  A  1\n",
       "1  B  4\n",
       "2  A  3\n",
       "3  B  2"
      ]
     },
     "execution_count": 709,
     "metadata": {},
     "output_type": "execute_result"
    }
   ],
   "source": [
    "df3 = pd.DataFrame({\"X\": [\"A\", \"B\", \"A\", \"B\"], \"Y\": [1, 4, 3, 2]})\n",
    "df3"
   ]
  },
  {
   "cell_type": "code",
   "execution_count": 710,
   "id": "e0cd633f",
   "metadata": {},
   "outputs": [
    {
     "data": {
      "application/vnd.microsoft.datawrangler.viewer.v0+json": {
       "columns": [
        {
         "name": "index",
         "rawType": "int64",
         "type": "integer"
        },
        {
         "name": "X",
         "rawType": "object",
         "type": "string"
        },
        {
         "name": "Y",
         "rawType": "int64",
         "type": "integer"
        }
       ],
       "ref": "d8cd5b72-32af-4372-b36f-0bdc37c87d6b",
       "rows": [
        [
         "0",
         "A",
         "1"
        ],
        [
         "2",
         "A",
         "3"
        ]
       ],
       "shape": {
        "columns": 2,
        "rows": 2
       }
      },
      "text/html": [
       "<div>\n",
       "<style scoped>\n",
       "    .dataframe tbody tr th:only-of-type {\n",
       "        vertical-align: middle;\n",
       "    }\n",
       "\n",
       "    .dataframe tbody tr th {\n",
       "        vertical-align: top;\n",
       "    }\n",
       "\n",
       "    .dataframe thead th {\n",
       "        text-align: right;\n",
       "    }\n",
       "</style>\n",
       "<table border=\"1\" class=\"dataframe\">\n",
       "  <thead>\n",
       "    <tr style=\"text-align: right;\">\n",
       "      <th></th>\n",
       "      <th>X</th>\n",
       "      <th>Y</th>\n",
       "    </tr>\n",
       "  </thead>\n",
       "  <tbody>\n",
       "    <tr>\n",
       "      <th>0</th>\n",
       "      <td>A</td>\n",
       "      <td>1</td>\n",
       "    </tr>\n",
       "    <tr>\n",
       "      <th>2</th>\n",
       "      <td>A</td>\n",
       "      <td>3</td>\n",
       "    </tr>\n",
       "  </tbody>\n",
       "</table>\n",
       "</div>"
      ],
      "text/plain": [
       "   X  Y\n",
       "0  A  1\n",
       "2  A  3"
      ]
     },
     "execution_count": 710,
     "metadata": {},
     "output_type": "execute_result"
    }
   ],
   "source": [
    "df3.groupby('X').get_group('A')"
   ]
  },
  {
   "cell_type": "code",
   "execution_count": 711,
   "id": "2145ae06",
   "metadata": {},
   "outputs": [
    {
     "data": {
      "application/vnd.microsoft.datawrangler.viewer.v0+json": {
       "columns": [
        {
         "name": "index",
         "rawType": "int64",
         "type": "integer"
        },
        {
         "name": "X",
         "rawType": "object",
         "type": "string"
        },
        {
         "name": "Y",
         "rawType": "int64",
         "type": "integer"
        }
       ],
       "ref": "3430472c-c011-4bf1-9125-4fcf63986ed7",
       "rows": [
        [
         "0",
         "A",
         "1"
        ],
        [
         "2",
         "A",
         "3"
        ]
       ],
       "shape": {
        "columns": 2,
        "rows": 2
       }
      },
      "text/html": [
       "<div>\n",
       "<style scoped>\n",
       "    .dataframe tbody tr th:only-of-type {\n",
       "        vertical-align: middle;\n",
       "    }\n",
       "\n",
       "    .dataframe tbody tr th {\n",
       "        vertical-align: top;\n",
       "    }\n",
       "\n",
       "    .dataframe thead th {\n",
       "        text-align: right;\n",
       "    }\n",
       "</style>\n",
       "<table border=\"1\" class=\"dataframe\">\n",
       "  <thead>\n",
       "    <tr style=\"text-align: right;\">\n",
       "      <th></th>\n",
       "      <th>X</th>\n",
       "      <th>Y</th>\n",
       "    </tr>\n",
       "  </thead>\n",
       "  <tbody>\n",
       "    <tr>\n",
       "      <th>0</th>\n",
       "      <td>A</td>\n",
       "      <td>1</td>\n",
       "    </tr>\n",
       "    <tr>\n",
       "      <th>2</th>\n",
       "      <td>A</td>\n",
       "      <td>3</td>\n",
       "    </tr>\n",
       "  </tbody>\n",
       "</table>\n",
       "</div>"
      ],
      "text/plain": [
       "   X  Y\n",
       "0  A  1\n",
       "2  A  3"
      ]
     },
     "execution_count": 711,
     "metadata": {},
     "output_type": "execute_result"
    }
   ],
   "source": [
    "df3[df3['X'] == 'A']"
   ]
  },
  {
   "cell_type": "code",
   "execution_count": 712,
   "id": "dcdfe384",
   "metadata": {},
   "outputs": [
    {
     "data": {
      "text/plain": [
       "{'bar': [1, 3, 5], 'foo': [0, 2, 4, 6, 7]}"
      ]
     },
     "execution_count": 712,
     "metadata": {},
     "output_type": "execute_result"
    }
   ],
   "source": [
    "df.groupby('A').groups"
   ]
  },
  {
   "cell_type": "code",
   "execution_count": 713,
   "id": "44e754c6",
   "metadata": {},
   "outputs": [
    {
     "data": {
      "text/plain": [
       "2"
      ]
     },
     "execution_count": 713,
     "metadata": {},
     "output_type": "execute_result"
    }
   ],
   "source": [
    "len(df.groupby('A').groups)"
   ]
  },
  {
   "cell_type": "code",
   "execution_count": 714,
   "id": "065549be",
   "metadata": {},
   "outputs": [
    {
     "data": {
      "application/vnd.microsoft.datawrangler.viewer.v0+json": {
       "columns": [
        {
         "name": "index",
         "rawType": "datetime64[ns]",
         "type": "datetime"
        },
        {
         "name": "height",
         "rawType": "float64",
         "type": "float"
        },
        {
         "name": "weight",
         "rawType": "float64",
         "type": "float"
        },
        {
         "name": "gender",
         "rawType": "object",
         "type": "string"
        }
       ],
       "ref": "943d8d14-da43-4a4c-856d-f5ba5f55fc35",
       "rows": [
        [
         "2000-01-01 00:00:00",
         "61.04126645572434",
         "173.3970424592531",
         "male"
        ],
        [
         "2000-01-02 00:00:00",
         "37.137033488381114",
         "149.61122738687527",
         "female"
        ],
        [
         "2000-01-03 00:00:00",
         "51.78017763156951",
         "172.65165068840014",
         "female"
        ],
        [
         "2000-01-04 00:00:00",
         "38.022387376970336",
         "182.30174251335944",
         "male"
        ],
        [
         "2000-01-05 00:00:00",
         "71.53479429428592",
         "179.6576683548387",
         "male"
        ],
        [
         "2000-01-06 00:00:00",
         "78.86663221822145",
         "206.3682372252046",
         "female"
        ],
        [
         "2000-01-07 00:00:00",
         "67.57991441595499",
         "145.57588783133812",
         "male"
        ],
        [
         "2000-01-08 00:00:00",
         "49.19172765472059",
         "191.28087838178905",
         "female"
        ],
        [
         "2000-01-09 00:00:00",
         "58.394204795414645",
         "151.94681421651043",
         "male"
        ],
        [
         "2000-01-10 00:00:00",
         "58.17633688598363",
         "116.71292333847788",
         "female"
        ]
       ],
       "shape": {
        "columns": 3,
        "rows": 10
       }
      },
      "text/html": [
       "<div>\n",
       "<style scoped>\n",
       "    .dataframe tbody tr th:only-of-type {\n",
       "        vertical-align: middle;\n",
       "    }\n",
       "\n",
       "    .dataframe tbody tr th {\n",
       "        vertical-align: top;\n",
       "    }\n",
       "\n",
       "    .dataframe thead th {\n",
       "        text-align: right;\n",
       "    }\n",
       "</style>\n",
       "<table border=\"1\" class=\"dataframe\">\n",
       "  <thead>\n",
       "    <tr style=\"text-align: right;\">\n",
       "      <th></th>\n",
       "      <th>height</th>\n",
       "      <th>weight</th>\n",
       "      <th>gender</th>\n",
       "    </tr>\n",
       "  </thead>\n",
       "  <tbody>\n",
       "    <tr>\n",
       "      <th>2000-01-01</th>\n",
       "      <td>61.041266</td>\n",
       "      <td>173.397042</td>\n",
       "      <td>male</td>\n",
       "    </tr>\n",
       "    <tr>\n",
       "      <th>2000-01-02</th>\n",
       "      <td>37.137033</td>\n",
       "      <td>149.611227</td>\n",
       "      <td>female</td>\n",
       "    </tr>\n",
       "    <tr>\n",
       "      <th>2000-01-03</th>\n",
       "      <td>51.780178</td>\n",
       "      <td>172.651651</td>\n",
       "      <td>female</td>\n",
       "    </tr>\n",
       "    <tr>\n",
       "      <th>2000-01-04</th>\n",
       "      <td>38.022387</td>\n",
       "      <td>182.301743</td>\n",
       "      <td>male</td>\n",
       "    </tr>\n",
       "    <tr>\n",
       "      <th>2000-01-05</th>\n",
       "      <td>71.534794</td>\n",
       "      <td>179.657668</td>\n",
       "      <td>male</td>\n",
       "    </tr>\n",
       "    <tr>\n",
       "      <th>2000-01-06</th>\n",
       "      <td>78.866632</td>\n",
       "      <td>206.368237</td>\n",
       "      <td>female</td>\n",
       "    </tr>\n",
       "    <tr>\n",
       "      <th>2000-01-07</th>\n",
       "      <td>67.579914</td>\n",
       "      <td>145.575888</td>\n",
       "      <td>male</td>\n",
       "    </tr>\n",
       "    <tr>\n",
       "      <th>2000-01-08</th>\n",
       "      <td>49.191728</td>\n",
       "      <td>191.280878</td>\n",
       "      <td>female</td>\n",
       "    </tr>\n",
       "    <tr>\n",
       "      <th>2000-01-09</th>\n",
       "      <td>58.394205</td>\n",
       "      <td>151.946814</td>\n",
       "      <td>male</td>\n",
       "    </tr>\n",
       "    <tr>\n",
       "      <th>2000-01-10</th>\n",
       "      <td>58.176337</td>\n",
       "      <td>116.712923</td>\n",
       "      <td>female</td>\n",
       "    </tr>\n",
       "  </tbody>\n",
       "</table>\n",
       "</div>"
      ],
      "text/plain": [
       "               height      weight  gender\n",
       "2000-01-01  61.041266  173.397042    male\n",
       "2000-01-02  37.137033  149.611227  female\n",
       "2000-01-03  51.780178  172.651651  female\n",
       "2000-01-04  38.022387  182.301743    male\n",
       "2000-01-05  71.534794  179.657668    male\n",
       "2000-01-06  78.866632  206.368237  female\n",
       "2000-01-07  67.579914  145.575888    male\n",
       "2000-01-08  49.191728  191.280878  female\n",
       "2000-01-09  58.394205  151.946814    male\n",
       "2000-01-10  58.176337  116.712923  female"
      ]
     },
     "execution_count": 714,
     "metadata": {},
     "output_type": "execute_result"
    }
   ],
   "source": [
    "n = 10\n",
    "\n",
    "weight = np.random.normal(166, 20, size=n)\n",
    "\n",
    "height = np.random.normal(60, 10, size=n)\n",
    "\n",
    "time = pd.date_range(\"1/1/2000\", periods=n)\n",
    "\n",
    "gender = np.random.choice([\"male\", \"female\"], size=n)\n",
    "\n",
    "df = pd.DataFrame(\n",
    "    {\"height\": height, \"weight\": weight, \"gender\": gender}, index=time\n",
    ")\n",
    "\n",
    "\n",
    "df"
   ]
  },
  {
   "cell_type": "code",
   "execution_count": 715,
   "id": "5f760bc9",
   "metadata": {},
   "outputs": [],
   "source": [
    "gb = df.groupby('gender')"
   ]
  },
  {
   "cell_type": "code",
   "execution_count": 716,
   "id": "67efb67c",
   "metadata": {},
   "outputs": [
    {
     "data": {
      "application/vnd.microsoft.datawrangler.viewer.v0+json": {
       "columns": [
        {
         "name": "index",
         "rawType": "object",
         "type": "string"
        },
        {
         "name": "0",
         "rawType": "object",
         "type": "unknown"
        }
       ],
       "ref": "4296f441-1ce9-4136-8979-1ae1744954b9",
       "rows": [
        [
         "female",
         "Axes(0.1,0.15;0.363636x0.75)"
        ],
        [
         "male",
         "Axes(0.536364,0.15;0.363636x0.75)"
        ]
       ],
       "shape": {
        "columns": 1,
        "rows": 2
       }
      },
      "text/plain": [
       "female         Axes(0.1,0.15;0.363636x0.75)\n",
       "male      Axes(0.536364,0.15;0.363636x0.75)\n",
       "dtype: object"
      ]
     },
     "execution_count": 716,
     "metadata": {},
     "output_type": "execute_result"
    },
    {
     "data": {
      "image/png": "[encoded data removed]",
      "text/plain": [
       "<Figure size 640x480 with 2 Axes>"
      ]
     },
     "metadata": {},
     "output_type": "display_data"
    }
   ],
   "source": [
    "gb.boxplot()"
   ]
  },
  {
   "cell_type": "code",
   "execution_count": 717,
   "id": "ddaf2e61",
   "metadata": {},
   "outputs": [
    {
     "data": {
      "application/vnd.microsoft.datawrangler.viewer.v0+json": {
       "columns": [
        {
         "name": "('first', 'second')",
         "rawType": "object",
         "type": "unknown"
        },
        {
         "name": "A",
         "rawType": "int64",
         "type": "integer"
        },
        {
         "name": "B",
         "rawType": "int64",
         "type": "integer"
        }
       ],
       "ref": "d24da834-98bd-4f3c-94e0-901e93cc2dcb",
       "rows": [
        [
         "('bar', 'one')",
         "1",
         "0"
        ],
        [
         "('bar', 'two')",
         "1",
         "1"
        ],
        [
         "('baz', 'one')",
         "1",
         "2"
        ],
        [
         "('baz', 'two')",
         "1",
         "3"
        ],
        [
         "('foo', 'one')",
         "2",
         "4"
        ],
        [
         "('foo', 'two')",
         "2",
         "5"
        ],
        [
         "('qux', 'one')",
         "3",
         "6"
        ],
        [
         "('qux', 'two')",
         "3",
         "7"
        ]
       ],
       "shape": {
        "columns": 2,
        "rows": 8
       }
      },
      "text/html": [
       "<div>\n",
       "<style scoped>\n",
       "    .dataframe tbody tr th:only-of-type {\n",
       "        vertical-align: middle;\n",
       "    }\n",
       "\n",
       "    .dataframe tbody tr th {\n",
       "        vertical-align: top;\n",
       "    }\n",
       "\n",
       "    .dataframe thead th {\n",
       "        text-align: right;\n",
       "    }\n",
       "</style>\n",
       "<table border=\"1\" class=\"dataframe\">\n",
       "  <thead>\n",
       "    <tr style=\"text-align: right;\">\n",
       "      <th></th>\n",
       "      <th></th>\n",
       "      <th>A</th>\n",
       "      <th>B</th>\n",
       "    </tr>\n",
       "    <tr>\n",
       "      <th>first</th>\n",
       "      <th>second</th>\n",
       "      <th></th>\n",
       "      <th></th>\n",
       "    </tr>\n",
       "  </thead>\n",
       "  <tbody>\n",
       "    <tr>\n",
       "      <th rowspan=\"2\" valign=\"top\">bar</th>\n",
       "      <th>one</th>\n",
       "      <td>1</td>\n",
       "      <td>0</td>\n",
       "    </tr>\n",
       "    <tr>\n",
       "      <th>two</th>\n",
       "      <td>1</td>\n",
       "      <td>1</td>\n",
       "    </tr>\n",
       "    <tr>\n",
       "      <th rowspan=\"2\" valign=\"top\">baz</th>\n",
       "      <th>one</th>\n",
       "      <td>1</td>\n",
       "      <td>2</td>\n",
       "    </tr>\n",
       "    <tr>\n",
       "      <th>two</th>\n",
       "      <td>1</td>\n",
       "      <td>3</td>\n",
       "    </tr>\n",
       "    <tr>\n",
       "      <th rowspan=\"2\" valign=\"top\">foo</th>\n",
       "      <th>one</th>\n",
       "      <td>2</td>\n",
       "      <td>4</td>\n",
       "    </tr>\n",
       "    <tr>\n",
       "      <th>two</th>\n",
       "      <td>2</td>\n",
       "      <td>5</td>\n",
       "    </tr>\n",
       "    <tr>\n",
       "      <th rowspan=\"2\" valign=\"top\">qux</th>\n",
       "      <th>one</th>\n",
       "      <td>3</td>\n",
       "      <td>6</td>\n",
       "    </tr>\n",
       "    <tr>\n",
       "      <th>two</th>\n",
       "      <td>3</td>\n",
       "      <td>7</td>\n",
       "    </tr>\n",
       "  </tbody>\n",
       "</table>\n",
       "</div>"
      ],
      "text/plain": [
       "              A  B\n",
       "first second      \n",
       "bar   one     1  0\n",
       "      two     1  1\n",
       "baz   one     1  2\n",
       "      two     1  3\n",
       "foo   one     2  4\n",
       "      two     2  5\n",
       "qux   one     3  6\n",
       "      two     3  7"
      ]
     },
     "execution_count": 717,
     "metadata": {},
     "output_type": "execute_result"
    }
   ],
   "source": [
    "arrays = [\n",
    "    [\"bar\", \"bar\", \"baz\", \"baz\", \"foo\", \"foo\", \"qux\", \"qux\"],\n",
    "    [\"one\", \"two\", \"one\", \"two\", \"one\", \"two\", \"one\", \"two\"],\n",
    "]\n",
    "\n",
    "\n",
    "index = pd.MultiIndex.from_arrays(arrays, names=[\"first\", \"second\"])\n",
    "\n",
    "df = pd.DataFrame({\"A\": [1, 1, 1, 1, 2, 2, 3, 3], \"B\": np.arange(8)}, index=index)\n",
    "\n",
    "df"
   ]
  },
  {
   "cell_type": "code",
   "execution_count": 718,
   "id": "0609c144",
   "metadata": {},
   "outputs": [
    {
     "data": {
      "application/vnd.microsoft.datawrangler.viewer.v0+json": {
       "columns": [
        {
         "name": "('first', 'A')",
         "rawType": "object",
         "type": "unknown"
        },
        {
         "name": "B",
         "rawType": "int64",
         "type": "integer"
        }
       ],
       "ref": "4be8738d-bfa8-4d09-8728-d8da61767125",
       "rows": [
        [
         "('bar', np.int64(1))",
         "2"
        ],
        [
         "('baz', np.int64(1))",
         "2"
        ],
        [
         "('foo', np.int64(2))",
         "2"
        ],
        [
         "('qux', np.int64(3))",
         "2"
        ]
       ],
       "shape": {
        "columns": 1,
        "rows": 4
       }
      },
      "text/html": [
       "<div>\n",
       "<style scoped>\n",
       "    .dataframe tbody tr th:only-of-type {\n",
       "        vertical-align: middle;\n",
       "    }\n",
       "\n",
       "    .dataframe tbody tr th {\n",
       "        vertical-align: top;\n",
       "    }\n",
       "\n",
       "    .dataframe thead th {\n",
       "        text-align: right;\n",
       "    }\n",
       "</style>\n",
       "<table border=\"1\" class=\"dataframe\">\n",
       "  <thead>\n",
       "    <tr style=\"text-align: right;\">\n",
       "      <th></th>\n",
       "      <th></th>\n",
       "      <th>B</th>\n",
       "    </tr>\n",
       "    <tr>\n",
       "      <th>first</th>\n",
       "      <th>A</th>\n",
       "      <th></th>\n",
       "    </tr>\n",
       "  </thead>\n",
       "  <tbody>\n",
       "    <tr>\n",
       "      <th>bar</th>\n",
       "      <th>1</th>\n",
       "      <td>2</td>\n",
       "    </tr>\n",
       "    <tr>\n",
       "      <th>baz</th>\n",
       "      <th>1</th>\n",
       "      <td>2</td>\n",
       "    </tr>\n",
       "    <tr>\n",
       "      <th>foo</th>\n",
       "      <th>2</th>\n",
       "      <td>2</td>\n",
       "    </tr>\n",
       "    <tr>\n",
       "      <th>qux</th>\n",
       "      <th>3</th>\n",
       "      <td>2</td>\n",
       "    </tr>\n",
       "  </tbody>\n",
       "</table>\n",
       "</div>"
      ],
      "text/plain": [
       "         B\n",
       "first A   \n",
       "bar   1  2\n",
       "baz   1  2\n",
       "foo   2  2\n",
       "qux   3  2"
      ]
     },
     "execution_count": 718,
     "metadata": {},
     "output_type": "execute_result"
    }
   ],
   "source": [
    "df.groupby([pd.Grouper(level='first'), 'A']).count()"
   ]
  },
  {
   "cell_type": "code",
   "execution_count": 719,
   "id": "46349d0a",
   "metadata": {},
   "outputs": [],
   "source": [
    "grouped = df.groupby('first')"
   ]
  },
  {
   "cell_type": "code",
   "execution_count": 720,
   "id": "d8ee5746",
   "metadata": {},
   "outputs": [],
   "source": [
    "grouped_A = grouped['A']"
   ]
  },
  {
   "cell_type": "code",
   "execution_count": 721,
   "id": "16073e64",
   "metadata": {},
   "outputs": [
    {
     "data": {
      "application/vnd.microsoft.datawrangler.viewer.v0+json": {
       "columns": [
        {
         "name": "first",
         "rawType": "object",
         "type": "string"
        },
        {
         "name": "A",
         "rawType": "float64",
         "type": "float"
        }
       ],
       "ref": "0757efab-66e9-4e5b-83a5-9af3ebb8871a",
       "rows": [
        [
         "bar",
         "1.0"
        ],
        [
         "baz",
         "1.0"
        ],
        [
         "foo",
         "2.0"
        ],
        [
         "qux",
         "3.0"
        ]
       ],
       "shape": {
        "columns": 1,
        "rows": 4
       }
      },
      "text/plain": [
       "first\n",
       "bar    1.0\n",
       "baz    1.0\n",
       "foo    2.0\n",
       "qux    3.0\n",
       "Name: A, dtype: float64"
      ]
     },
     "execution_count": 721,
     "metadata": {},
     "output_type": "execute_result"
    }
   ],
   "source": [
    "grouped_A.mean()"
   ]
  },
  {
   "cell_type": "code",
   "execution_count": 722,
   "id": "2723528d",
   "metadata": {},
   "outputs": [
    {
     "data": {
      "application/vnd.microsoft.datawrangler.viewer.v0+json": {
       "columns": [
        {
         "name": "first",
         "rawType": "object",
         "type": "string"
        },
        {
         "name": "A",
         "rawType": "float64",
         "type": "float"
        },
        {
         "name": "B",
         "rawType": "float64",
         "type": "float"
        }
       ],
       "ref": "28fab40d-4bbf-4272-8a05-94453f55fbb4",
       "rows": [
        [
         "bar",
         "1.0",
         "0.5"
        ],
        [
         "baz",
         "1.0",
         "2.5"
        ],
        [
         "foo",
         "2.0",
         "4.5"
        ],
        [
         "qux",
         "3.0",
         "6.5"
        ]
       ],
       "shape": {
        "columns": 2,
        "rows": 4
       }
      },
      "text/html": [
       "<div>\n",
       "<style scoped>\n",
       "    .dataframe tbody tr th:only-of-type {\n",
       "        vertical-align: middle;\n",
       "    }\n",
       "\n",
       "    .dataframe tbody tr th {\n",
       "        vertical-align: top;\n",
       "    }\n",
       "\n",
       "    .dataframe thead th {\n",
       "        text-align: right;\n",
       "    }\n",
       "</style>\n",
       "<table border=\"1\" class=\"dataframe\">\n",
       "  <thead>\n",
       "    <tr style=\"text-align: right;\">\n",
       "      <th></th>\n",
       "      <th>A</th>\n",
       "      <th>B</th>\n",
       "    </tr>\n",
       "    <tr>\n",
       "      <th>first</th>\n",
       "      <th></th>\n",
       "      <th></th>\n",
       "    </tr>\n",
       "  </thead>\n",
       "  <tbody>\n",
       "    <tr>\n",
       "      <th>bar</th>\n",
       "      <td>1.0</td>\n",
       "      <td>0.5</td>\n",
       "    </tr>\n",
       "    <tr>\n",
       "      <th>baz</th>\n",
       "      <td>1.0</td>\n",
       "      <td>2.5</td>\n",
       "    </tr>\n",
       "    <tr>\n",
       "      <th>foo</th>\n",
       "      <td>2.0</td>\n",
       "      <td>4.5</td>\n",
       "    </tr>\n",
       "    <tr>\n",
       "      <th>qux</th>\n",
       "      <td>3.0</td>\n",
       "      <td>6.5</td>\n",
       "    </tr>\n",
       "  </tbody>\n",
       "</table>\n",
       "</div>"
      ],
      "text/plain": [
       "         A    B\n",
       "first          \n",
       "bar    1.0  0.5\n",
       "baz    1.0  2.5\n",
       "foo    2.0  4.5\n",
       "qux    3.0  6.5"
      ]
     },
     "execution_count": 722,
     "metadata": {},
     "output_type": "execute_result"
    }
   ],
   "source": [
    "grouped.mean()"
   ]
  },
  {
   "cell_type": "code",
   "execution_count": 723,
   "id": "b58ff3c6",
   "metadata": {},
   "outputs": [
    {
     "name": "stdout",
     "output_type": "stream",
     "text": [
      "GroupName: bar\n",
      "              A  B\n",
      "first second      \n",
      "bar   one     1  0\n",
      "      two     1  1\n",
      "GroupName: baz\n",
      "              A  B\n",
      "first second      \n",
      "baz   one     1  2\n",
      "      two     1  3\n",
      "GroupName: foo\n",
      "              A  B\n",
      "first second      \n",
      "foo   one     2  4\n",
      "      two     2  5\n",
      "GroupName: qux\n",
      "              A  B\n",
      "first second      \n",
      "qux   one     3  6\n",
      "      two     3  7\n"
     ]
    }
   ],
   "source": [
    "for name, group in grouped:\n",
    "    print(f\"GroupName: {name}\")\n",
    "    print(group)"
   ]
  },
  {
   "cell_type": "code",
   "execution_count": 724,
   "id": "96c29474",
   "metadata": {},
   "outputs": [
    {
     "data": {
      "application/vnd.microsoft.datawrangler.viewer.v0+json": {
       "columns": [
        {
         "name": "('first', 'second')",
         "rawType": "object",
         "type": "unknown"
        },
        {
         "name": "A",
         "rawType": "int64",
         "type": "integer"
        },
        {
         "name": "B",
         "rawType": "int64",
         "type": "integer"
        }
       ],
       "ref": "7f2bf4fd-1242-4092-98d4-07aa70b85580",
       "rows": [
        [
         "('qux', 'one')",
         "3",
         "6"
        ],
        [
         "('qux', 'two')",
         "3",
         "7"
        ]
       ],
       "shape": {
        "columns": 2,
        "rows": 2
       }
      },
      "text/html": [
       "<div>\n",
       "<style scoped>\n",
       "    .dataframe tbody tr th:only-of-type {\n",
       "        vertical-align: middle;\n",
       "    }\n",
       "\n",
       "    .dataframe tbody tr th {\n",
       "        vertical-align: top;\n",
       "    }\n",
       "\n",
       "    .dataframe thead th {\n",
       "        text-align: right;\n",
       "    }\n",
       "</style>\n",
       "<table border=\"1\" class=\"dataframe\">\n",
       "  <thead>\n",
       "    <tr style=\"text-align: right;\">\n",
       "      <th></th>\n",
       "      <th></th>\n",
       "      <th>A</th>\n",
       "      <th>B</th>\n",
       "    </tr>\n",
       "    <tr>\n",
       "      <th>first</th>\n",
       "      <th>second</th>\n",
       "      <th></th>\n",
       "      <th></th>\n",
       "    </tr>\n",
       "  </thead>\n",
       "  <tbody>\n",
       "    <tr>\n",
       "      <th rowspan=\"2\" valign=\"top\">qux</th>\n",
       "      <th>one</th>\n",
       "      <td>3</td>\n",
       "      <td>6</td>\n",
       "    </tr>\n",
       "    <tr>\n",
       "      <th>two</th>\n",
       "      <td>3</td>\n",
       "      <td>7</td>\n",
       "    </tr>\n",
       "  </tbody>\n",
       "</table>\n",
       "</div>"
      ],
      "text/plain": [
       "              A  B\n",
       "first second      \n",
       "qux   one     3  6\n",
       "      two     3  7"
      ]
     },
     "execution_count": 724,
     "metadata": {},
     "output_type": "execute_result"
    }
   ],
   "source": [
    "grouped.get_group('qux')"
   ]
  },
  {
   "cell_type": "code",
   "execution_count": 725,
   "id": "18020edb",
   "metadata": {},
   "outputs": [
    {
     "data": {
      "application/vnd.microsoft.datawrangler.viewer.v0+json": {
       "columns": [
        {
         "name": "first",
         "rawType": "object",
         "type": "string"
        },
        {
         "name": "A",
         "rawType": "int64",
         "type": "integer"
        },
        {
         "name": "B",
         "rawType": "int64",
         "type": "integer"
        }
       ],
       "ref": "3e8723cd-0f2c-4769-8084-556a7a45ff2f",
       "rows": [
        [
         "bar",
         "2",
         "1"
        ],
        [
         "baz",
         "2",
         "5"
        ],
        [
         "foo",
         "4",
         "9"
        ],
        [
         "qux",
         "6",
         "13"
        ]
       ],
       "shape": {
        "columns": 2,
        "rows": 4
       }
      },
      "text/html": [
       "<div>\n",
       "<style scoped>\n",
       "    .dataframe tbody tr th:only-of-type {\n",
       "        vertical-align: middle;\n",
       "    }\n",
       "\n",
       "    .dataframe tbody tr th {\n",
       "        vertical-align: top;\n",
       "    }\n",
       "\n",
       "    .dataframe thead th {\n",
       "        text-align: right;\n",
       "    }\n",
       "</style>\n",
       "<table border=\"1\" class=\"dataframe\">\n",
       "  <thead>\n",
       "    <tr style=\"text-align: right;\">\n",
       "      <th></th>\n",
       "      <th>A</th>\n",
       "      <th>B</th>\n",
       "    </tr>\n",
       "    <tr>\n",
       "      <th>first</th>\n",
       "      <th></th>\n",
       "      <th></th>\n",
       "    </tr>\n",
       "  </thead>\n",
       "  <tbody>\n",
       "    <tr>\n",
       "      <th>bar</th>\n",
       "      <td>2</td>\n",
       "      <td>1</td>\n",
       "    </tr>\n",
       "    <tr>\n",
       "      <th>baz</th>\n",
       "      <td>2</td>\n",
       "      <td>5</td>\n",
       "    </tr>\n",
       "    <tr>\n",
       "      <th>foo</th>\n",
       "      <td>4</td>\n",
       "      <td>9</td>\n",
       "    </tr>\n",
       "    <tr>\n",
       "      <th>qux</th>\n",
       "      <td>6</td>\n",
       "      <td>13</td>\n",
       "    </tr>\n",
       "  </tbody>\n",
       "</table>\n",
       "</div>"
      ],
      "text/plain": [
       "       A   B\n",
       "first       \n",
       "bar    2   1\n",
       "baz    2   5\n",
       "foo    4   9\n",
       "qux    6  13"
      ]
     },
     "execution_count": 725,
     "metadata": {},
     "output_type": "execute_result"
    }
   ],
   "source": [
    "grouped.sum()"
   ]
  },
  {
   "cell_type": "code",
   "execution_count": 726,
   "id": "544523c5",
   "metadata": {},
   "outputs": [
    {
     "data": {
      "application/vnd.microsoft.datawrangler.viewer.v0+json": {
       "columns": [
        {
         "name": "first",
         "rawType": "object",
         "type": "string"
        },
        {
         "name": "A",
         "rawType": "bool",
         "type": "boolean"
        },
        {
         "name": "B",
         "rawType": "bool",
         "type": "boolean"
        }
       ],
       "ref": "2067e1c9-ca42-4a93-8914-79dbde3ca2aa",
       "rows": [
        [
         "bar",
         "True",
         "False"
        ],
        [
         "baz",
         "True",
         "True"
        ],
        [
         "foo",
         "True",
         "True"
        ],
        [
         "qux",
         "True",
         "True"
        ]
       ],
       "shape": {
        "columns": 2,
        "rows": 4
       }
      },
      "text/html": [
       "<div>\n",
       "<style scoped>\n",
       "    .dataframe tbody tr th:only-of-type {\n",
       "        vertical-align: middle;\n",
       "    }\n",
       "\n",
       "    .dataframe tbody tr th {\n",
       "        vertical-align: top;\n",
       "    }\n",
       "\n",
       "    .dataframe thead th {\n",
       "        text-align: right;\n",
       "    }\n",
       "</style>\n",
       "<table border=\"1\" class=\"dataframe\">\n",
       "  <thead>\n",
       "    <tr style=\"text-align: right;\">\n",
       "      <th></th>\n",
       "      <th>A</th>\n",
       "      <th>B</th>\n",
       "    </tr>\n",
       "    <tr>\n",
       "      <th>first</th>\n",
       "      <th></th>\n",
       "      <th></th>\n",
       "    </tr>\n",
       "  </thead>\n",
       "  <tbody>\n",
       "    <tr>\n",
       "      <th>bar</th>\n",
       "      <td>True</td>\n",
       "      <td>False</td>\n",
       "    </tr>\n",
       "    <tr>\n",
       "      <th>baz</th>\n",
       "      <td>True</td>\n",
       "      <td>True</td>\n",
       "    </tr>\n",
       "    <tr>\n",
       "      <th>foo</th>\n",
       "      <td>True</td>\n",
       "      <td>True</td>\n",
       "    </tr>\n",
       "    <tr>\n",
       "      <th>qux</th>\n",
       "      <td>True</td>\n",
       "      <td>True</td>\n",
       "    </tr>\n",
       "  </tbody>\n",
       "</table>\n",
       "</div>"
      ],
      "text/plain": [
       "          A      B\n",
       "first             \n",
       "bar    True  False\n",
       "baz    True   True\n",
       "foo    True   True\n",
       "qux    True   True"
      ]
     },
     "execution_count": 726,
     "metadata": {},
     "output_type": "execute_result"
    }
   ],
   "source": [
    "df.groupby('first').all()"
   ]
  },
  {
   "cell_type": "code",
   "execution_count": 727,
   "id": "3b1a0b22",
   "metadata": {},
   "outputs": [],
   "source": [
    "df.iloc[2, 0] = np.nan\n",
    "df.iloc[5, 1] = np.nan"
   ]
  },
  {
   "cell_type": "code",
   "execution_count": 728,
   "id": "b84b8c69",
   "metadata": {},
   "outputs": [
    {
     "data": {
      "application/vnd.microsoft.datawrangler.viewer.v0+json": {
       "columns": [
        {
         "name": "('first', 'second')",
         "rawType": "object",
         "type": "unknown"
        },
        {
         "name": "A",
         "rawType": "float64",
         "type": "float"
        },
        {
         "name": "B",
         "rawType": "float64",
         "type": "float"
        }
       ],
       "ref": "9479cccf-e457-4aaf-8b2a-9c21d744a128",
       "rows": [
        [
         "('bar', 'one')",
         "1.0",
         "0.0"
        ],
        [
         "('bar', 'two')",
         "1.0",
         "1.0"
        ],
        [
         "('baz', 'one')",
         null,
         "2.0"
        ],
        [
         "('baz', 'two')",
         "1.0",
         "3.0"
        ],
        [
         "('foo', 'one')",
         "2.0",
         "4.0"
        ],
        [
         "('foo', 'two')",
         "2.0",
         null
        ],
        [
         "('qux', 'one')",
         "3.0",
         "6.0"
        ],
        [
         "('qux', 'two')",
         "3.0",
         "7.0"
        ]
       ],
       "shape": {
        "columns": 2,
        "rows": 8
       }
      },
      "text/html": [
       "<div>\n",
       "<style scoped>\n",
       "    .dataframe tbody tr th:only-of-type {\n",
       "        vertical-align: middle;\n",
       "    }\n",
       "\n",
       "    .dataframe tbody tr th {\n",
       "        vertical-align: top;\n",
       "    }\n",
       "\n",
       "    .dataframe thead th {\n",
       "        text-align: right;\n",
       "    }\n",
       "</style>\n",
       "<table border=\"1\" class=\"dataframe\">\n",
       "  <thead>\n",
       "    <tr style=\"text-align: right;\">\n",
       "      <th></th>\n",
       "      <th></th>\n",
       "      <th>A</th>\n",
       "      <th>B</th>\n",
       "    </tr>\n",
       "    <tr>\n",
       "      <th>first</th>\n",
       "      <th>second</th>\n",
       "      <th></th>\n",
       "      <th></th>\n",
       "    </tr>\n",
       "  </thead>\n",
       "  <tbody>\n",
       "    <tr>\n",
       "      <th rowspan=\"2\" valign=\"top\">bar</th>\n",
       "      <th>one</th>\n",
       "      <td>1.0</td>\n",
       "      <td>0.0</td>\n",
       "    </tr>\n",
       "    <tr>\n",
       "      <th>two</th>\n",
       "      <td>1.0</td>\n",
       "      <td>1.0</td>\n",
       "    </tr>\n",
       "    <tr>\n",
       "      <th rowspan=\"2\" valign=\"top\">baz</th>\n",
       "      <th>one</th>\n",
       "      <td>NaN</td>\n",
       "      <td>2.0</td>\n",
       "    </tr>\n",
       "    <tr>\n",
       "      <th>two</th>\n",
       "      <td>1.0</td>\n",
       "      <td>3.0</td>\n",
       "    </tr>\n",
       "    <tr>\n",
       "      <th rowspan=\"2\" valign=\"top\">foo</th>\n",
       "      <th>one</th>\n",
       "      <td>2.0</td>\n",
       "      <td>4.0</td>\n",
       "    </tr>\n",
       "    <tr>\n",
       "      <th>two</th>\n",
       "      <td>2.0</td>\n",
       "      <td>NaN</td>\n",
       "    </tr>\n",
       "    <tr>\n",
       "      <th rowspan=\"2\" valign=\"top\">qux</th>\n",
       "      <th>one</th>\n",
       "      <td>3.0</td>\n",
       "      <td>6.0</td>\n",
       "    </tr>\n",
       "    <tr>\n",
       "      <th>two</th>\n",
       "      <td>3.0</td>\n",
       "      <td>7.0</td>\n",
       "    </tr>\n",
       "  </tbody>\n",
       "</table>\n",
       "</div>"
      ],
      "text/plain": [
       "                A    B\n",
       "first second          \n",
       "bar   one     1.0  0.0\n",
       "      two     1.0  1.0\n",
       "baz   one     NaN  2.0\n",
       "      two     1.0  3.0\n",
       "foo   one     2.0  4.0\n",
       "      two     2.0  NaN\n",
       "qux   one     3.0  6.0\n",
       "      two     3.0  7.0"
      ]
     },
     "execution_count": 728,
     "metadata": {},
     "output_type": "execute_result"
    }
   ],
   "source": [
    "df"
   ]
  },
  {
   "cell_type": "code",
   "execution_count": 729,
   "id": "cb0b163e",
   "metadata": {},
   "outputs": [
    {
     "data": {
      "application/vnd.microsoft.datawrangler.viewer.v0+json": {
       "columns": [
        {
         "name": "('first', 'second')",
         "rawType": "object",
         "type": "unknown"
        },
        {
         "name": "A",
         "rawType": "float64",
         "type": "float"
        },
        {
         "name": "B",
         "rawType": "float64",
         "type": "float"
        }
       ],
       "ref": "744bc840-02b1-4067-a8a8-fc67e18335c4",
       "rows": [
        [
         "('bar', 'one')",
         "1.0",
         "0.0"
        ],
        [
         "('baz', 'one')",
         null,
         "2.0"
        ],
        [
         "('foo', 'one')",
         "2.0",
         "4.0"
        ],
        [
         "('qux', 'one')",
         "3.0",
         "6.0"
        ]
       ],
       "shape": {
        "columns": 2,
        "rows": 4
       }
      },
      "text/html": [
       "<div>\n",
       "<style scoped>\n",
       "    .dataframe tbody tr th:only-of-type {\n",
       "        vertical-align: middle;\n",
       "    }\n",
       "\n",
       "    .dataframe tbody tr th {\n",
       "        vertical-align: top;\n",
       "    }\n",
       "\n",
       "    .dataframe thead th {\n",
       "        text-align: right;\n",
       "    }\n",
       "</style>\n",
       "<table border=\"1\" class=\"dataframe\">\n",
       "  <thead>\n",
       "    <tr style=\"text-align: right;\">\n",
       "      <th></th>\n",
       "      <th></th>\n",
       "      <th>A</th>\n",
       "      <th>B</th>\n",
       "    </tr>\n",
       "    <tr>\n",
       "      <th>first</th>\n",
       "      <th>second</th>\n",
       "      <th></th>\n",
       "      <th></th>\n",
       "    </tr>\n",
       "  </thead>\n",
       "  <tbody>\n",
       "    <tr>\n",
       "      <th>bar</th>\n",
       "      <th>one</th>\n",
       "      <td>1.0</td>\n",
       "      <td>0.0</td>\n",
       "    </tr>\n",
       "    <tr>\n",
       "      <th>baz</th>\n",
       "      <th>one</th>\n",
       "      <td>NaN</td>\n",
       "      <td>2.0</td>\n",
       "    </tr>\n",
       "    <tr>\n",
       "      <th>foo</th>\n",
       "      <th>one</th>\n",
       "      <td>2.0</td>\n",
       "      <td>4.0</td>\n",
       "    </tr>\n",
       "    <tr>\n",
       "      <th>qux</th>\n",
       "      <th>one</th>\n",
       "      <td>3.0</td>\n",
       "      <td>6.0</td>\n",
       "    </tr>\n",
       "  </tbody>\n",
       "</table>\n",
       "</div>"
      ],
      "text/plain": [
       "                A    B\n",
       "first second          \n",
       "bar   one     1.0  0.0\n",
       "baz   one     NaN  2.0\n",
       "foo   one     2.0  4.0\n",
       "qux   one     3.0  6.0"
      ]
     },
     "execution_count": 729,
     "metadata": {},
     "output_type": "execute_result"
    }
   ],
   "source": [
    "grouped.nth(0, dropna=None)"
   ]
  },
  {
   "cell_type": "code",
   "execution_count": 730,
   "id": "5e087dcd",
   "metadata": {},
   "outputs": [
    {
     "data": {
      "application/vnd.microsoft.datawrangler.viewer.v0+json": {
       "columns": [
        {
         "name": "first",
         "rawType": "object",
         "type": "string"
        },
        {
         "name": "A",
         "rawType": "int64",
         "type": "integer"
        },
        {
         "name": "B",
         "rawType": "int64",
         "type": "integer"
        }
       ],
       "ref": "8dda2e73-8945-4e6a-a0c7-84071d781fd6",
       "rows": [
        [
         "bar",
         "1",
         "2"
        ],
        [
         "baz",
         "1",
         "2"
        ],
        [
         "foo",
         "1",
         "1"
        ],
        [
         "qux",
         "1",
         "2"
        ]
       ],
       "shape": {
        "columns": 2,
        "rows": 4
       }
      },
      "text/html": [
       "<div>\n",
       "<style scoped>\n",
       "    .dataframe tbody tr th:only-of-type {\n",
       "        vertical-align: middle;\n",
       "    }\n",
       "\n",
       "    .dataframe tbody tr th {\n",
       "        vertical-align: top;\n",
       "    }\n",
       "\n",
       "    .dataframe thead th {\n",
       "        text-align: right;\n",
       "    }\n",
       "</style>\n",
       "<table border=\"1\" class=\"dataframe\">\n",
       "  <thead>\n",
       "    <tr style=\"text-align: right;\">\n",
       "      <th></th>\n",
       "      <th>A</th>\n",
       "      <th>B</th>\n",
       "    </tr>\n",
       "    <tr>\n",
       "      <th>first</th>\n",
       "      <th></th>\n",
       "      <th></th>\n",
       "    </tr>\n",
       "  </thead>\n",
       "  <tbody>\n",
       "    <tr>\n",
       "      <th>bar</th>\n",
       "      <td>1</td>\n",
       "      <td>2</td>\n",
       "    </tr>\n",
       "    <tr>\n",
       "      <th>baz</th>\n",
       "      <td>1</td>\n",
       "      <td>2</td>\n",
       "    </tr>\n",
       "    <tr>\n",
       "      <th>foo</th>\n",
       "      <td>1</td>\n",
       "      <td>1</td>\n",
       "    </tr>\n",
       "    <tr>\n",
       "      <th>qux</th>\n",
       "      <td>1</td>\n",
       "      <td>2</td>\n",
       "    </tr>\n",
       "  </tbody>\n",
       "</table>\n",
       "</div>"
      ],
      "text/plain": [
       "       A  B\n",
       "first      \n",
       "bar    1  2\n",
       "baz    1  2\n",
       "foo    1  1\n",
       "qux    1  2"
      ]
     },
     "execution_count": 730,
     "metadata": {},
     "output_type": "execute_result"
    }
   ],
   "source": [
    "grouped.nunique()"
   ]
  },
  {
   "cell_type": "code",
   "execution_count": 731,
   "id": "025ddabc",
   "metadata": {},
   "outputs": [
    {
     "data": {
      "application/vnd.microsoft.datawrangler.viewer.v0+json": {
       "columns": [
        {
         "name": "first",
         "rawType": "object",
         "type": "string"
        },
        {
         "name": "('A', 'count')",
         "rawType": "float64",
         "type": "float"
        },
        {
         "name": "('A', 'mean')",
         "rawType": "float64",
         "type": "float"
        },
        {
         "name": "('A', 'std')",
         "rawType": "float64",
         "type": "float"
        },
        {
         "name": "('A', 'min')",
         "rawType": "float64",
         "type": "float"
        },
        {
         "name": "('A', '25%')",
         "rawType": "float64",
         "type": "float"
        },
        {
         "name": "('A', '50%')",
         "rawType": "float64",
         "type": "float"
        },
        {
         "name": "('A', '75%')",
         "rawType": "float64",
         "type": "float"
        },
        {
         "name": "('A', 'max')",
         "rawType": "float64",
         "type": "float"
        },
        {
         "name": "('B', 'count')",
         "rawType": "float64",
         "type": "float"
        },
        {
         "name": "('B', 'mean')",
         "rawType": "float64",
         "type": "float"
        },
        {
         "name": "('B', 'std')",
         "rawType": "float64",
         "type": "float"
        },
        {
         "name": "('B', 'min')",
         "rawType": "float64",
         "type": "float"
        },
        {
         "name": "('B', '25%')",
         "rawType": "float64",
         "type": "float"
        },
        {
         "name": "('B', '50%')",
         "rawType": "float64",
         "type": "float"
        },
        {
         "name": "('B', '75%')",
         "rawType": "float64",
         "type": "float"
        },
        {
         "name": "('B', 'max')",
         "rawType": "float64",
         "type": "float"
        }
       ],
       "ref": "8443c456-4848-4068-b406-ea981334eb6a",
       "rows": [
        [
         "bar",
         "2.0",
         "1.0",
         "0.0",
         "1.0",
         "1.0",
         "1.0",
         "1.0",
         "1.0",
         "2.0",
         "0.5",
         "0.7071067811865476",
         "0.0",
         "0.25",
         "0.5",
         "0.75",
         "1.0"
        ],
        [
         "baz",
         "1.0",
         "1.0",
         null,
         "1.0",
         "1.0",
         "1.0",
         "1.0",
         "1.0",
         "2.0",
         "2.5",
         "0.7071067811865476",
         "2.0",
         "2.25",
         "2.5",
         "2.75",
         "3.0"
        ],
        [
         "foo",
         "2.0",
         "2.0",
         "0.0",
         "2.0",
         "2.0",
         "2.0",
         "2.0",
         "2.0",
         "1.0",
         "4.0",
         null,
         "4.0",
         "4.0",
         "4.0",
         "4.0",
         "4.0"
        ],
        [
         "qux",
         "2.0",
         "3.0",
         "0.0",
         "3.0",
         "3.0",
         "3.0",
         "3.0",
         "3.0",
         "2.0",
         "6.5",
         "0.7071067811865476",
         "6.0",
         "6.25",
         "6.5",
         "6.75",
         "7.0"
        ]
       ],
       "shape": {
        "columns": 16,
        "rows": 4
       }
      },
      "text/html": [
       "<div>\n",
       "<style scoped>\n",
       "    .dataframe tbody tr th:only-of-type {\n",
       "        vertical-align: middle;\n",
       "    }\n",
       "\n",
       "    .dataframe tbody tr th {\n",
       "        vertical-align: top;\n",
       "    }\n",
       "\n",
       "    .dataframe thead tr th {\n",
       "        text-align: left;\n",
       "    }\n",
       "\n",
       "    .dataframe thead tr:last-of-type th {\n",
       "        text-align: right;\n",
       "    }\n",
       "</style>\n",
       "<table border=\"1\" class=\"dataframe\">\n",
       "  <thead>\n",
       "    <tr>\n",
       "      <th></th>\n",
       "      <th colspan=\"8\" halign=\"left\">A</th>\n",
       "      <th colspan=\"8\" halign=\"left\">B</th>\n",
       "    </tr>\n",
       "    <tr>\n",
       "      <th></th>\n",
       "      <th>count</th>\n",
       "      <th>mean</th>\n",
       "      <th>std</th>\n",
       "      <th>min</th>\n",
       "      <th>25%</th>\n",
       "      <th>50%</th>\n",
       "      <th>75%</th>\n",
       "      <th>max</th>\n",
       "      <th>count</th>\n",
       "      <th>mean</th>\n",
       "      <th>std</th>\n",
       "      <th>min</th>\n",
       "      <th>25%</th>\n",
       "      <th>50%</th>\n",
       "      <th>75%</th>\n",
       "      <th>max</th>\n",
       "    </tr>\n",
       "    <tr>\n",
       "      <th>first</th>\n",
       "      <th></th>\n",
       "      <th></th>\n",
       "      <th></th>\n",
       "      <th></th>\n",
       "      <th></th>\n",
       "      <th></th>\n",
       "      <th></th>\n",
       "      <th></th>\n",
       "      <th></th>\n",
       "      <th></th>\n",
       "      <th></th>\n",
       "      <th></th>\n",
       "      <th></th>\n",
       "      <th></th>\n",
       "      <th></th>\n",
       "      <th></th>\n",
       "    </tr>\n",
       "  </thead>\n",
       "  <tbody>\n",
       "    <tr>\n",
       "      <th>bar</th>\n",
       "      <td>2.0</td>\n",
       "      <td>1.0</td>\n",
       "      <td>0.0</td>\n",
       "      <td>1.0</td>\n",
       "      <td>1.0</td>\n",
       "      <td>1.0</td>\n",
       "      <td>1.0</td>\n",
       "      <td>1.0</td>\n",
       "      <td>2.0</td>\n",
       "      <td>0.5</td>\n",
       "      <td>0.707107</td>\n",
       "      <td>0.0</td>\n",
       "      <td>0.25</td>\n",
       "      <td>0.5</td>\n",
       "      <td>0.75</td>\n",
       "      <td>1.0</td>\n",
       "    </tr>\n",
       "    <tr>\n",
       "      <th>baz</th>\n",
       "      <td>1.0</td>\n",
       "      <td>1.0</td>\n",
       "      <td>NaN</td>\n",
       "      <td>1.0</td>\n",
       "      <td>1.0</td>\n",
       "      <td>1.0</td>\n",
       "      <td>1.0</td>\n",
       "      <td>1.0</td>\n",
       "      <td>2.0</td>\n",
       "      <td>2.5</td>\n",
       "      <td>0.707107</td>\n",
       "      <td>2.0</td>\n",
       "      <td>2.25</td>\n",
       "      <td>2.5</td>\n",
       "      <td>2.75</td>\n",
       "      <td>3.0</td>\n",
       "    </tr>\n",
       "    <tr>\n",
       "      <th>foo</th>\n",
       "      <td>2.0</td>\n",
       "      <td>2.0</td>\n",
       "      <td>0.0</td>\n",
       "      <td>2.0</td>\n",
       "      <td>2.0</td>\n",
       "      <td>2.0</td>\n",
       "      <td>2.0</td>\n",
       "      <td>2.0</td>\n",
       "      <td>1.0</td>\n",
       "      <td>4.0</td>\n",
       "      <td>NaN</td>\n",
       "      <td>4.0</td>\n",
       "      <td>4.00</td>\n",
       "      <td>4.0</td>\n",
       "      <td>4.00</td>\n",
       "      <td>4.0</td>\n",
       "    </tr>\n",
       "    <tr>\n",
       "      <th>qux</th>\n",
       "      <td>2.0</td>\n",
       "      <td>3.0</td>\n",
       "      <td>0.0</td>\n",
       "      <td>3.0</td>\n",
       "      <td>3.0</td>\n",
       "      <td>3.0</td>\n",
       "      <td>3.0</td>\n",
       "      <td>3.0</td>\n",
       "      <td>2.0</td>\n",
       "      <td>6.5</td>\n",
       "      <td>0.707107</td>\n",
       "      <td>6.0</td>\n",
       "      <td>6.25</td>\n",
       "      <td>6.5</td>\n",
       "      <td>6.75</td>\n",
       "      <td>7.0</td>\n",
       "    </tr>\n",
       "  </tbody>\n",
       "</table>\n",
       "</div>"
      ],
      "text/plain": [
       "          A                                        B                      \\\n",
       "      count mean  std  min  25%  50%  75%  max count mean       std  min   \n",
       "first                                                                      \n",
       "bar     2.0  1.0  0.0  1.0  1.0  1.0  1.0  1.0   2.0  0.5  0.707107  0.0   \n",
       "baz     1.0  1.0  NaN  1.0  1.0  1.0  1.0  1.0   2.0  2.5  0.707107  2.0   \n",
       "foo     2.0  2.0  0.0  2.0  2.0  2.0  2.0  2.0   1.0  4.0       NaN  4.0   \n",
       "qux     2.0  3.0  0.0  3.0  3.0  3.0  3.0  3.0   2.0  6.5  0.707107  6.0   \n",
       "\n",
       "                             \n",
       "        25%  50%   75%  max  \n",
       "first                        \n",
       "bar    0.25  0.5  0.75  1.0  \n",
       "baz    2.25  2.5  2.75  3.0  \n",
       "foo    4.00  4.0  4.00  4.0  \n",
       "qux    6.25  6.5  6.75  7.0  "
      ]
     },
     "execution_count": 731,
     "metadata": {},
     "output_type": "execute_result"
    }
   ],
   "source": [
    "grouped.describe()"
   ]
  },
  {
   "cell_type": "code",
   "execution_count": 732,
   "id": "b7b2a00b",
   "metadata": {},
   "outputs": [
    {
     "data": {
      "application/vnd.microsoft.datawrangler.viewer.v0+json": {
       "columns": [
        {
         "name": "first",
         "rawType": "object",
         "type": "string"
        },
        {
         "name": "A",
         "rawType": "float64",
         "type": "float"
        },
        {
         "name": "B",
         "rawType": "float64",
         "type": "float"
        }
       ],
       "ref": "705f78c2-b913-4d4a-870d-603212c7791a",
       "rows": [
        [
         "bar",
         "1.0",
         "0.5"
        ],
        [
         "baz",
         "1.0",
         "2.5"
        ],
        [
         "foo",
         "2.0",
         "4.0"
        ],
        [
         "qux",
         "3.0",
         "6.5"
        ]
       ],
       "shape": {
        "columns": 2,
        "rows": 4
       }
      },
      "text/html": [
       "<div>\n",
       "<style scoped>\n",
       "    .dataframe tbody tr th:only-of-type {\n",
       "        vertical-align: middle;\n",
       "    }\n",
       "\n",
       "    .dataframe tbody tr th {\n",
       "        vertical-align: top;\n",
       "    }\n",
       "\n",
       "    .dataframe thead th {\n",
       "        text-align: right;\n",
       "    }\n",
       "</style>\n",
       "<table border=\"1\" class=\"dataframe\">\n",
       "  <thead>\n",
       "    <tr style=\"text-align: right;\">\n",
       "      <th></th>\n",
       "      <th>A</th>\n",
       "      <th>B</th>\n",
       "    </tr>\n",
       "    <tr>\n",
       "      <th>first</th>\n",
       "      <th></th>\n",
       "      <th></th>\n",
       "    </tr>\n",
       "  </thead>\n",
       "  <tbody>\n",
       "    <tr>\n",
       "      <th>bar</th>\n",
       "      <td>1.0</td>\n",
       "      <td>0.5</td>\n",
       "    </tr>\n",
       "    <tr>\n",
       "      <th>baz</th>\n",
       "      <td>1.0</td>\n",
       "      <td>2.5</td>\n",
       "    </tr>\n",
       "    <tr>\n",
       "      <th>foo</th>\n",
       "      <td>2.0</td>\n",
       "      <td>4.0</td>\n",
       "    </tr>\n",
       "    <tr>\n",
       "      <th>qux</th>\n",
       "      <td>3.0</td>\n",
       "      <td>6.5</td>\n",
       "    </tr>\n",
       "  </tbody>\n",
       "</table>\n",
       "</div>"
      ],
      "text/plain": [
       "         A    B\n",
       "first          \n",
       "bar    1.0  0.5\n",
       "baz    1.0  2.5\n",
       "foo    2.0  4.0\n",
       "qux    3.0  6.5"
      ]
     },
     "execution_count": 732,
     "metadata": {},
     "output_type": "execute_result"
    }
   ],
   "source": [
    "grouped.agg('mean')"
   ]
  },
  {
   "cell_type": "code",
   "execution_count": 733,
   "id": "5be5aaa6",
   "metadata": {},
   "outputs": [],
   "source": [
    "grouped2 = df.groupby(['first', 'A'])"
   ]
  },
  {
   "cell_type": "code",
   "execution_count": 734,
   "id": "c916e2ae",
   "metadata": {},
   "outputs": [
    {
     "data": {
      "application/vnd.microsoft.datawrangler.viewer.v0+json": {
       "columns": [
        {
         "name": "index",
         "rawType": "int64",
         "type": "integer"
        },
        {
         "name": "first",
         "rawType": "object",
         "type": "string"
        },
        {
         "name": "A",
         "rawType": "float64",
         "type": "float"
        },
        {
         "name": "B",
         "rawType": "int64",
         "type": "integer"
        }
       ],
       "ref": "00bf3dc5-75d7-40fc-a04b-20784b6b2ca0",
       "rows": [
        [
         "0",
         "bar",
         "1.0",
         "2"
        ],
        [
         "1",
         "baz",
         "1.0",
         "1"
        ],
        [
         "2",
         "foo",
         "2.0",
         "1"
        ],
        [
         "3",
         "qux",
         "3.0",
         "2"
        ]
       ],
       "shape": {
        "columns": 3,
        "rows": 4
       }
      },
      "text/html": [
       "<div>\n",
       "<style scoped>\n",
       "    .dataframe tbody tr th:only-of-type {\n",
       "        vertical-align: middle;\n",
       "    }\n",
       "\n",
       "    .dataframe tbody tr th {\n",
       "        vertical-align: top;\n",
       "    }\n",
       "\n",
       "    .dataframe thead th {\n",
       "        text-align: right;\n",
       "    }\n",
       "</style>\n",
       "<table border=\"1\" class=\"dataframe\">\n",
       "  <thead>\n",
       "    <tr style=\"text-align: right;\">\n",
       "      <th></th>\n",
       "      <th>first</th>\n",
       "      <th>A</th>\n",
       "      <th>B</th>\n",
       "    </tr>\n",
       "  </thead>\n",
       "  <tbody>\n",
       "    <tr>\n",
       "      <th>0</th>\n",
       "      <td>bar</td>\n",
       "      <td>1.0</td>\n",
       "      <td>2</td>\n",
       "    </tr>\n",
       "    <tr>\n",
       "      <th>1</th>\n",
       "      <td>baz</td>\n",
       "      <td>1.0</td>\n",
       "      <td>1</td>\n",
       "    </tr>\n",
       "    <tr>\n",
       "      <th>2</th>\n",
       "      <td>foo</td>\n",
       "      <td>2.0</td>\n",
       "      <td>1</td>\n",
       "    </tr>\n",
       "    <tr>\n",
       "      <th>3</th>\n",
       "      <td>qux</td>\n",
       "      <td>3.0</td>\n",
       "      <td>2</td>\n",
       "    </tr>\n",
       "  </tbody>\n",
       "</table>\n",
       "</div>"
      ],
      "text/plain": [
       "  first    A  B\n",
       "0   bar  1.0  2\n",
       "1   baz  1.0  1\n",
       "2   foo  2.0  1\n",
       "3   qux  3.0  2"
      ]
     },
     "execution_count": 734,
     "metadata": {},
     "output_type": "execute_result"
    }
   ],
   "source": [
    "grouped2.agg('count').reset_index()"
   ]
  },
  {
   "cell_type": "code",
   "execution_count": 735,
   "id": "0a7e5e0f",
   "metadata": {},
   "outputs": [
    {
     "data": {
      "application/vnd.microsoft.datawrangler.viewer.v0+json": {
       "columns": [
        {
         "name": "('first', 'A')",
         "rawType": "object",
         "type": "unknown"
        },
        {
         "name": "B",
         "rawType": "object",
         "type": "unknown"
        }
       ],
       "ref": "c328d553-4d75-49ca-86e1-0eaca8e5a5c0",
       "rows": [
        [
         "('bar', np.float64(1.0))",
         "{0.0, 1.0}"
        ],
        [
         "('baz', np.float64(1.0))",
         "{3.0}"
        ],
        [
         "('foo', np.float64(2.0))",
         "{nan, 4.0}"
        ],
        [
         "('qux', np.float64(3.0))",
         "{6.0, 7.0}"
        ]
       ],
       "shape": {
        "columns": 1,
        "rows": 4
       }
      },
      "text/html": [
       "<div>\n",
       "<style scoped>\n",
       "    .dataframe tbody tr th:only-of-type {\n",
       "        vertical-align: middle;\n",
       "    }\n",
       "\n",
       "    .dataframe tbody tr th {\n",
       "        vertical-align: top;\n",
       "    }\n",
       "\n",
       "    .dataframe thead th {\n",
       "        text-align: right;\n",
       "    }\n",
       "</style>\n",
       "<table border=\"1\" class=\"dataframe\">\n",
       "  <thead>\n",
       "    <tr style=\"text-align: right;\">\n",
       "      <th></th>\n",
       "      <th></th>\n",
       "      <th>B</th>\n",
       "    </tr>\n",
       "    <tr>\n",
       "      <th>first</th>\n",
       "      <th>A</th>\n",
       "      <th></th>\n",
       "    </tr>\n",
       "  </thead>\n",
       "  <tbody>\n",
       "    <tr>\n",
       "      <th>bar</th>\n",
       "      <th>1.0</th>\n",
       "      <td>{0.0, 1.0}</td>\n",
       "    </tr>\n",
       "    <tr>\n",
       "      <th>baz</th>\n",
       "      <th>1.0</th>\n",
       "      <td>{3.0}</td>\n",
       "    </tr>\n",
       "    <tr>\n",
       "      <th>foo</th>\n",
       "      <th>2.0</th>\n",
       "      <td>{nan, 4.0}</td>\n",
       "    </tr>\n",
       "    <tr>\n",
       "      <th>qux</th>\n",
       "      <th>3.0</th>\n",
       "      <td>{6.0, 7.0}</td>\n",
       "    </tr>\n",
       "  </tbody>\n",
       "</table>\n",
       "</div>"
      ],
      "text/plain": [
       "                    B\n",
       "first A              \n",
       "bar   1.0  {0.0, 1.0}\n",
       "baz   1.0       {3.0}\n",
       "foo   2.0  {nan, 4.0}\n",
       "qux   3.0  {6.0, 7.0}"
      ]
     },
     "execution_count": 735,
     "metadata": {},
     "output_type": "execute_result"
    }
   ],
   "source": [
    "grouped2.agg(lambda x: set(x))"
   ]
  },
  {
   "cell_type": "code",
   "execution_count": 736,
   "id": "65277022",
   "metadata": {},
   "outputs": [
    {
     "data": {
      "application/vnd.microsoft.datawrangler.viewer.v0+json": {
       "columns": [
        {
         "name": "index",
         "rawType": "int64",
         "type": "integer"
        },
        {
         "name": "kind",
         "rawType": "object",
         "type": "string"
        },
        {
         "name": "height",
         "rawType": "float64",
         "type": "float"
        },
        {
         "name": "weight",
         "rawType": "float64",
         "type": "float"
        },
        {
         "name": "length",
         "rawType": "float64",
         "type": "float"
        }
       ],
       "ref": "8cc7b7f5-74e1-4c0c-8fd1-393208ac1c24",
       "rows": [
        [
         "0",
         "cat",
         "9.1",
         "7.9",
         "1.2"
        ],
        [
         "1",
         "dog",
         "6.0",
         "7.5",
         "3.1"
        ],
        [
         "2",
         "cat",
         "9.5",
         "9.9",
         "4.9"
        ],
        [
         "3",
         "dog",
         "34.0",
         "198.0",
         "1.6"
        ]
       ],
       "shape": {
        "columns": 4,
        "rows": 4
       }
      },
      "text/html": [
       "<div>\n",
       "<style scoped>\n",
       "    .dataframe tbody tr th:only-of-type {\n",
       "        vertical-align: middle;\n",
       "    }\n",
       "\n",
       "    .dataframe tbody tr th {\n",
       "        vertical-align: top;\n",
       "    }\n",
       "\n",
       "    .dataframe thead th {\n",
       "        text-align: right;\n",
       "    }\n",
       "</style>\n",
       "<table border=\"1\" class=\"dataframe\">\n",
       "  <thead>\n",
       "    <tr style=\"text-align: right;\">\n",
       "      <th></th>\n",
       "      <th>kind</th>\n",
       "      <th>height</th>\n",
       "      <th>weight</th>\n",
       "      <th>length</th>\n",
       "    </tr>\n",
       "  </thead>\n",
       "  <tbody>\n",
       "    <tr>\n",
       "      <th>0</th>\n",
       "      <td>cat</td>\n",
       "      <td>9.1</td>\n",
       "      <td>7.9</td>\n",
       "      <td>1.2</td>\n",
       "    </tr>\n",
       "    <tr>\n",
       "      <th>1</th>\n",
       "      <td>dog</td>\n",
       "      <td>6.0</td>\n",
       "      <td>7.5</td>\n",
       "      <td>3.1</td>\n",
       "    </tr>\n",
       "    <tr>\n",
       "      <th>2</th>\n",
       "      <td>cat</td>\n",
       "      <td>9.5</td>\n",
       "      <td>9.9</td>\n",
       "      <td>4.9</td>\n",
       "    </tr>\n",
       "    <tr>\n",
       "      <th>3</th>\n",
       "      <td>dog</td>\n",
       "      <td>34.0</td>\n",
       "      <td>198.0</td>\n",
       "      <td>1.6</td>\n",
       "    </tr>\n",
       "  </tbody>\n",
       "</table>\n",
       "</div>"
      ],
      "text/plain": [
       "  kind  height  weight  length\n",
       "0  cat     9.1     7.9     1.2\n",
       "1  dog     6.0     7.5     3.1\n",
       "2  cat     9.5     9.9     4.9\n",
       "3  dog    34.0   198.0     1.6"
      ]
     },
     "execution_count": 736,
     "metadata": {},
     "output_type": "execute_result"
    }
   ],
   "source": [
    "animals = pd.DataFrame(\n",
    "    {\n",
    "        \"kind\": [\"cat\", \"dog\", \"cat\", \"dog\"],\n",
    "        \"height\": [9.1, 6.0, 9.5, 34.0],\n",
    "        \"weight\": [7.9, 7.5, 9.9, 198.0],\n",
    "        \"length\": [1.2, 3.1, 4.9, 1.6]\n",
    "    }\n",
    ")\n",
    "animals"
   ]
  },
  {
   "cell_type": "code",
   "execution_count": 737,
   "id": "a86602ed",
   "metadata": {},
   "outputs": [
    {
     "data": {
      "application/vnd.microsoft.datawrangler.viewer.v0+json": {
       "columns": [
        {
         "name": "kind",
         "rawType": "object",
         "type": "string"
        },
        {
         "name": "height",
         "rawType": "float64",
         "type": "float"
        },
        {
         "name": "weight",
         "rawType": "float64",
         "type": "float"
        },
        {
         "name": "length",
         "rawType": "float64",
         "type": "float"
        }
       ],
       "ref": "e85fe341-96d9-40d4-a8c1-02bd879970be",
       "rows": [
        [
         "cat",
         "9.3",
         "8.9",
         "3.0500000000000003"
        ],
        [
         "dog",
         "20.0",
         "102.75",
         "2.35"
        ]
       ],
       "shape": {
        "columns": 3,
        "rows": 2
       }
      },
      "text/html": [
       "<div>\n",
       "<style scoped>\n",
       "    .dataframe tbody tr th:only-of-type {\n",
       "        vertical-align: middle;\n",
       "    }\n",
       "\n",
       "    .dataframe tbody tr th {\n",
       "        vertical-align: top;\n",
       "    }\n",
       "\n",
       "    .dataframe thead th {\n",
       "        text-align: right;\n",
       "    }\n",
       "</style>\n",
       "<table border=\"1\" class=\"dataframe\">\n",
       "  <thead>\n",
       "    <tr style=\"text-align: right;\">\n",
       "      <th></th>\n",
       "      <th>height</th>\n",
       "      <th>weight</th>\n",
       "      <th>length</th>\n",
       "    </tr>\n",
       "    <tr>\n",
       "      <th>kind</th>\n",
       "      <th></th>\n",
       "      <th></th>\n",
       "      <th></th>\n",
       "    </tr>\n",
       "  </thead>\n",
       "  <tbody>\n",
       "    <tr>\n",
       "      <th>cat</th>\n",
       "      <td>9.3</td>\n",
       "      <td>8.90</td>\n",
       "      <td>3.05</td>\n",
       "    </tr>\n",
       "    <tr>\n",
       "      <th>dog</th>\n",
       "      <td>20.0</td>\n",
       "      <td>102.75</td>\n",
       "      <td>2.35</td>\n",
       "    </tr>\n",
       "  </tbody>\n",
       "</table>\n",
       "</div>"
      ],
      "text/plain": [
       "      height  weight  length\n",
       "kind                        \n",
       "cat      9.3    8.90    3.05\n",
       "dog     20.0  102.75    2.35"
      ]
     },
     "execution_count": 737,
     "metadata": {},
     "output_type": "execute_result"
    }
   ],
   "source": [
    "animals.groupby('kind').agg('mean', 'std')"
   ]
  },
  {
   "cell_type": "code",
   "execution_count": 738,
   "id": "bf5d0cc2",
   "metadata": {},
   "outputs": [
    {
     "data": {
      "application/vnd.microsoft.datawrangler.viewer.v0+json": {
       "columns": [
        {
         "name": "kind",
         "rawType": "object",
         "type": "string"
        },
        {
         "name": "height",
         "rawType": "float64",
         "type": "float"
        },
        {
         "name": "length",
         "rawType": "float64",
         "type": "float"
        }
       ],
       "ref": "44cd74b1-f769-4ddd-9493-20821b6fa015",
       "rows": [
        [
         "cat",
         "9.3",
         "3.0500000000000003"
        ],
        [
         "dog",
         "20.0",
         "2.35"
        ]
       ],
       "shape": {
        "columns": 2,
        "rows": 2
       }
      },
      "text/html": [
       "<div>\n",
       "<style scoped>\n",
       "    .dataframe tbody tr th:only-of-type {\n",
       "        vertical-align: middle;\n",
       "    }\n",
       "\n",
       "    .dataframe tbody tr th {\n",
       "        vertical-align: top;\n",
       "    }\n",
       "\n",
       "    .dataframe thead th {\n",
       "        text-align: right;\n",
       "    }\n",
       "</style>\n",
       "<table border=\"1\" class=\"dataframe\">\n",
       "  <thead>\n",
       "    <tr style=\"text-align: right;\">\n",
       "      <th></th>\n",
       "      <th>height</th>\n",
       "      <th>length</th>\n",
       "    </tr>\n",
       "    <tr>\n",
       "      <th>kind</th>\n",
       "      <th></th>\n",
       "      <th></th>\n",
       "    </tr>\n",
       "  </thead>\n",
       "  <tbody>\n",
       "    <tr>\n",
       "      <th>cat</th>\n",
       "      <td>9.3</td>\n",
       "      <td>3.05</td>\n",
       "    </tr>\n",
       "    <tr>\n",
       "      <th>dog</th>\n",
       "      <td>20.0</td>\n",
       "      <td>2.35</td>\n",
       "    </tr>\n",
       "  </tbody>\n",
       "</table>\n",
       "</div>"
      ],
      "text/plain": [
       "      height  length\n",
       "kind                \n",
       "cat      9.3    3.05\n",
       "dog     20.0    2.35"
      ]
     },
     "execution_count": 738,
     "metadata": {},
     "output_type": "execute_result"
    }
   ],
   "source": [
    "animals.groupby('kind')[['height', 'length']].agg('mean', 'std')"
   ]
  },
  {
   "cell_type": "code",
   "execution_count": 739,
   "id": "8c827ee6",
   "metadata": {},
   "outputs": [
    {
     "data": {
      "application/vnd.microsoft.datawrangler.viewer.v0+json": {
       "columns": [
        {
         "name": "kind",
         "rawType": "object",
         "type": "string"
        },
        {
         "name": "height",
         "rawType": "object",
         "type": "unknown"
        }
       ],
       "ref": "84b183d3-b80a-4764-ac33-6691121eafa5",
       "rows": [
        [
         "cat",
         "{9.1, 9.5}"
        ],
        [
         "dog",
         "{34.0, 6.0}"
        ]
       ],
       "shape": {
        "columns": 1,
        "rows": 2
       }
      },
      "text/plain": [
       "kind\n",
       "cat     {9.1, 9.5}\n",
       "dog    {34.0, 6.0}\n",
       "Name: height, dtype: object"
      ]
     },
     "execution_count": 739,
     "metadata": {},
     "output_type": "execute_result"
    }
   ],
   "source": [
    "animals.groupby('kind')['height'].agg(lambda x: set(x))"
   ]
  },
  {
   "cell_type": "code",
   "execution_count": 740,
   "id": "44099fa1",
   "metadata": {},
   "outputs": [
    {
     "data": {
      "application/vnd.microsoft.datawrangler.viewer.v0+json": {
       "columns": [
        {
         "name": "kind",
         "rawType": "object",
         "type": "string"
        },
        {
         "name": "('height', 'Total')",
         "rawType": "float64",
         "type": "float"
        },
        {
         "name": "('height', 'Avg')",
         "rawType": "float64",
         "type": "float"
        },
        {
         "name": "('height', 'Dispersion')",
         "rawType": "float64",
         "type": "float"
        },
        {
         "name": "('weight', 'Total')",
         "rawType": "float64",
         "type": "float"
        },
        {
         "name": "('weight', 'Avg')",
         "rawType": "float64",
         "type": "float"
        },
        {
         "name": "('weight', 'Dispersion')",
         "rawType": "float64",
         "type": "float"
        }
       ],
       "ref": "cdbe3923-2b5c-4441-a240-2abea9782d0d",
       "rows": [
        [
         "cat",
         "18.6",
         "9.3",
         "0.2828427124746186",
         "17.8",
         "8.9",
         "1.4142135623730951"
        ],
        [
         "dog",
         "40.0",
         "20.0",
         "19.79898987322333",
         "205.5",
         "102.75",
         "134.7038418160373"
        ]
       ],
       "shape": {
        "columns": 6,
        "rows": 2
       }
      },
      "text/html": [
       "<div>\n",
       "<style scoped>\n",
       "    .dataframe tbody tr th:only-of-type {\n",
       "        vertical-align: middle;\n",
       "    }\n",
       "\n",
       "    .dataframe tbody tr th {\n",
       "        vertical-align: top;\n",
       "    }\n",
       "\n",
       "    .dataframe thead tr th {\n",
       "        text-align: left;\n",
       "    }\n",
       "\n",
       "    .dataframe thead tr:last-of-type th {\n",
       "        text-align: right;\n",
       "    }\n",
       "</style>\n",
       "<table border=\"1\" class=\"dataframe\">\n",
       "  <thead>\n",
       "    <tr>\n",
       "      <th></th>\n",
       "      <th colspan=\"3\" halign=\"left\">height</th>\n",
       "      <th colspan=\"3\" halign=\"left\">weight</th>\n",
       "    </tr>\n",
       "    <tr>\n",
       "      <th></th>\n",
       "      <th>Total</th>\n",
       "      <th>Avg</th>\n",
       "      <th>Dispersion</th>\n",
       "      <th>Total</th>\n",
       "      <th>Avg</th>\n",
       "      <th>Dispersion</th>\n",
       "    </tr>\n",
       "    <tr>\n",
       "      <th>kind</th>\n",
       "      <th></th>\n",
       "      <th></th>\n",
       "      <th></th>\n",
       "      <th></th>\n",
       "      <th></th>\n",
       "      <th></th>\n",
       "    </tr>\n",
       "  </thead>\n",
       "  <tbody>\n",
       "    <tr>\n",
       "      <th>cat</th>\n",
       "      <td>18.6</td>\n",
       "      <td>9.3</td>\n",
       "      <td>0.282843</td>\n",
       "      <td>17.8</td>\n",
       "      <td>8.90</td>\n",
       "      <td>1.414214</td>\n",
       "    </tr>\n",
       "    <tr>\n",
       "      <th>dog</th>\n",
       "      <td>40.0</td>\n",
       "      <td>20.0</td>\n",
       "      <td>19.798990</td>\n",
       "      <td>205.5</td>\n",
       "      <td>102.75</td>\n",
       "      <td>134.703842</td>\n",
       "    </tr>\n",
       "  </tbody>\n",
       "</table>\n",
       "</div>"
      ],
      "text/plain": [
       "     height                  weight                    \n",
       "      Total   Avg Dispersion  Total     Avg  Dispersion\n",
       "kind                                                   \n",
       "cat    18.6   9.3   0.282843   17.8    8.90    1.414214\n",
       "dog    40.0  20.0  19.798990  205.5  102.75  134.703842"
      ]
     },
     "execution_count": 740,
     "metadata": {},
     "output_type": "execute_result"
    }
   ],
   "source": [
    "grouped = animals.groupby('kind')\n",
    "(\n",
    "    grouped[['height', 'weight']]\n",
    "    .agg(['sum', 'mean', 'std'])\n",
    "    .rename(columns={'sum': 'Total', 'mean': 'Avg', 'std': \"Dispersion\"})\n",
    ")"
   ]
  },
  {
   "cell_type": "code",
   "execution_count": 741,
   "id": "9369a53b",
   "metadata": {},
   "outputs": [
    {
     "data": {
      "application/vnd.microsoft.datawrangler.viewer.v0+json": {
       "columns": [
        {
         "name": "kind",
         "rawType": "object",
         "type": "string"
        },
        {
         "name": "<lambda_0>",
         "rawType": "float64",
         "type": "float"
        },
        {
         "name": "<lambda_1>",
         "rawType": "float64",
         "type": "float"
        }
       ],
       "ref": "82f0d3a7-5339-4a10-8782-af3a1cb113c5",
       "rows": [
        [
         "cat",
         "0.40000000000000036",
         "32.88046532517443"
        ],
        [
         "dog",
         "28.0",
         "1.0101525445522108"
        ]
       ],
       "shape": {
        "columns": 2,
        "rows": 2
       }
      },
      "text/html": [
       "<div>\n",
       "<style scoped>\n",
       "    .dataframe tbody tr th:only-of-type {\n",
       "        vertical-align: middle;\n",
       "    }\n",
       "\n",
       "    .dataframe tbody tr th {\n",
       "        vertical-align: top;\n",
       "    }\n",
       "\n",
       "    .dataframe thead th {\n",
       "        text-align: right;\n",
       "    }\n",
       "</style>\n",
       "<table border=\"1\" class=\"dataframe\">\n",
       "  <thead>\n",
       "    <tr style=\"text-align: right;\">\n",
       "      <th></th>\n",
       "      <th>&lt;lambda_0&gt;</th>\n",
       "      <th>&lt;lambda_1&gt;</th>\n",
       "    </tr>\n",
       "    <tr>\n",
       "      <th>kind</th>\n",
       "      <th></th>\n",
       "      <th></th>\n",
       "    </tr>\n",
       "  </thead>\n",
       "  <tbody>\n",
       "    <tr>\n",
       "      <th>cat</th>\n",
       "      <td>0.4</td>\n",
       "      <td>32.880465</td>\n",
       "    </tr>\n",
       "    <tr>\n",
       "      <th>dog</th>\n",
       "      <td>28.0</td>\n",
       "      <td>1.010153</td>\n",
       "    </tr>\n",
       "  </tbody>\n",
       "</table>\n",
       "</div>"
      ],
      "text/plain": [
       "      <lambda_0>  <lambda_1>\n",
       "kind                        \n",
       "cat          0.4   32.880465\n",
       "dog         28.0    1.010153"
      ]
     },
     "execution_count": 741,
     "metadata": {},
     "output_type": "execute_result"
    }
   ],
   "source": [
    "grouped['height'].agg([lambda x: x.max() - x.min(), lambda x: x.mean()/x.std()])"
   ]
  },
  {
   "cell_type": "code",
   "execution_count": 742,
   "id": "b9c48fb3",
   "metadata": {},
   "outputs": [
    {
     "data": {
      "application/vnd.microsoft.datawrangler.viewer.v0+json": {
       "columns": [
        {
         "name": "kind",
         "rawType": "object",
         "type": "string"
        },
        {
         "name": "min_height",
         "rawType": "float64",
         "type": "float"
        },
        {
         "name": "max_height",
         "rawType": "float64",
         "type": "float"
        },
        {
         "name": "avg_weight",
         "rawType": "float64",
         "type": "float"
        }
       ],
       "ref": "c382d8f6-63c5-40c4-87f1-5ed9ff1c3ed4",
       "rows": [
        [
         "cat",
         "9.1",
         "9.5",
         "8.9"
        ],
        [
         "dog",
         "6.0",
         "34.0",
         "102.75"
        ]
       ],
       "shape": {
        "columns": 3,
        "rows": 2
       }
      },
      "text/html": [
       "<div>\n",
       "<style scoped>\n",
       "    .dataframe tbody tr th:only-of-type {\n",
       "        vertical-align: middle;\n",
       "    }\n",
       "\n",
       "    .dataframe tbody tr th {\n",
       "        vertical-align: top;\n",
       "    }\n",
       "\n",
       "    .dataframe thead th {\n",
       "        text-align: right;\n",
       "    }\n",
       "</style>\n",
       "<table border=\"1\" class=\"dataframe\">\n",
       "  <thead>\n",
       "    <tr style=\"text-align: right;\">\n",
       "      <th></th>\n",
       "      <th>min_height</th>\n",
       "      <th>max_height</th>\n",
       "      <th>avg_weight</th>\n",
       "    </tr>\n",
       "    <tr>\n",
       "      <th>kind</th>\n",
       "      <th></th>\n",
       "      <th></th>\n",
       "      <th></th>\n",
       "    </tr>\n",
       "  </thead>\n",
       "  <tbody>\n",
       "    <tr>\n",
       "      <th>cat</th>\n",
       "      <td>9.1</td>\n",
       "      <td>9.5</td>\n",
       "      <td>8.90</td>\n",
       "    </tr>\n",
       "    <tr>\n",
       "      <th>dog</th>\n",
       "      <td>6.0</td>\n",
       "      <td>34.0</td>\n",
       "      <td>102.75</td>\n",
       "    </tr>\n",
       "  </tbody>\n",
       "</table>\n",
       "</div>"
      ],
      "text/plain": [
       "      min_height  max_height  avg_weight\n",
       "kind                                    \n",
       "cat          9.1         9.5        8.90\n",
       "dog          6.0        34.0      102.75"
      ]
     },
     "execution_count": 742,
     "metadata": {},
     "output_type": "execute_result"
    }
   ],
   "source": [
    "animals.groupby('kind').agg(\n",
    "    min_height=('height', 'min'),\n",
    "    max_height=('height', 'max'),\n",
    "    avg_weight=('weight', 'mean')                                \n",
    ")"
   ]
  },
  {
   "cell_type": "code",
   "execution_count": 743,
   "id": "37467cb0",
   "metadata": {},
   "outputs": [
    {
     "data": {
      "application/vnd.microsoft.datawrangler.viewer.v0+json": {
       "columns": [
        {
         "name": "kind",
         "rawType": "object",
         "type": "string"
        },
        {
         "name": "height",
         "rawType": "float64",
         "type": "float"
        },
        {
         "name": "weight",
         "rawType": "float64",
         "type": "float"
        }
       ],
       "ref": "3f30422b-be1e-4f62-ae48-fe690d3a2fec",
       "rows": [
        [
         "cat",
         "9.3",
         "1.4142135623730951"
        ],
        [
         "dog",
         "20.0",
         "134.7038418160373"
        ]
       ],
       "shape": {
        "columns": 2,
        "rows": 2
       }
      },
      "text/html": [
       "<div>\n",
       "<style scoped>\n",
       "    .dataframe tbody tr th:only-of-type {\n",
       "        vertical-align: middle;\n",
       "    }\n",
       "\n",
       "    .dataframe tbody tr th {\n",
       "        vertical-align: top;\n",
       "    }\n",
       "\n",
       "    .dataframe thead th {\n",
       "        text-align: right;\n",
       "    }\n",
       "</style>\n",
       "<table border=\"1\" class=\"dataframe\">\n",
       "  <thead>\n",
       "    <tr style=\"text-align: right;\">\n",
       "      <th></th>\n",
       "      <th>height</th>\n",
       "      <th>weight</th>\n",
       "    </tr>\n",
       "    <tr>\n",
       "      <th>kind</th>\n",
       "      <th></th>\n",
       "      <th></th>\n",
       "    </tr>\n",
       "  </thead>\n",
       "  <tbody>\n",
       "    <tr>\n",
       "      <th>cat</th>\n",
       "      <td>9.3</td>\n",
       "      <td>1.414214</td>\n",
       "    </tr>\n",
       "    <tr>\n",
       "      <th>dog</th>\n",
       "      <td>20.0</td>\n",
       "      <td>134.703842</td>\n",
       "    </tr>\n",
       "  </tbody>\n",
       "</table>\n",
       "</div>"
      ],
      "text/plain": [
       "      height      weight\n",
       "kind                    \n",
       "cat      9.3    1.414214\n",
       "dog     20.0  134.703842"
      ]
     },
     "execution_count": 743,
     "metadata": {},
     "output_type": "execute_result"
    }
   ],
   "source": [
    "animals.groupby('kind').agg(\n",
    "    {'height': 'mean',\n",
    "     'weight': 'std'}\n",
    ")"
   ]
  },
  {
   "cell_type": "code",
   "execution_count": 744,
   "id": "57480433",
   "metadata": {},
   "outputs": [
    {
     "data": {
      "application/vnd.microsoft.datawrangler.viewer.v0+json": {
       "columns": [
        {
         "name": "index",
         "rawType": "object",
         "type": "string"
        },
        {
         "name": "class",
         "rawType": "object",
         "type": "string"
        },
        {
         "name": "order",
         "rawType": "object",
         "type": "string"
        },
        {
         "name": "max_speed",
         "rawType": "float64",
         "type": "float"
        }
       ],
       "ref": "0a29d958-3e44-4378-9db5-2b6105f0b67b",
       "rows": [
        [
         "falcon",
         "bird",
         "Falconiformes",
         "389.0"
        ],
        [
         "parrot",
         "bird",
         "Psittaciformes",
         "24.0"
        ],
        [
         "lion",
         "mammal",
         "Carnivora",
         "80.2"
        ],
        [
         "monkey",
         "mammal",
         "Primates",
         null
        ],
        [
         "leopard",
         "mammal",
         "Carnivora",
         "58.0"
        ]
       ],
       "shape": {
        "columns": 3,
        "rows": 5
       }
      },
      "text/html": [
       "<div>\n",
       "<style scoped>\n",
       "    .dataframe tbody tr th:only-of-type {\n",
       "        vertical-align: middle;\n",
       "    }\n",
       "\n",
       "    .dataframe tbody tr th {\n",
       "        vertical-align: top;\n",
       "    }\n",
       "\n",
       "    .dataframe thead th {\n",
       "        text-align: right;\n",
       "    }\n",
       "</style>\n",
       "<table border=\"1\" class=\"dataframe\">\n",
       "  <thead>\n",
       "    <tr style=\"text-align: right;\">\n",
       "      <th></th>\n",
       "      <th>class</th>\n",
       "      <th>order</th>\n",
       "      <th>max_speed</th>\n",
       "    </tr>\n",
       "  </thead>\n",
       "  <tbody>\n",
       "    <tr>\n",
       "      <th>falcon</th>\n",
       "      <td>bird</td>\n",
       "      <td>Falconiformes</td>\n",
       "      <td>389.0</td>\n",
       "    </tr>\n",
       "    <tr>\n",
       "      <th>parrot</th>\n",
       "      <td>bird</td>\n",
       "      <td>Psittaciformes</td>\n",
       "      <td>24.0</td>\n",
       "    </tr>\n",
       "    <tr>\n",
       "      <th>lion</th>\n",
       "      <td>mammal</td>\n",
       "      <td>Carnivora</td>\n",
       "      <td>80.2</td>\n",
       "    </tr>\n",
       "    <tr>\n",
       "      <th>monkey</th>\n",
       "      <td>mammal</td>\n",
       "      <td>Primates</td>\n",
       "      <td>NaN</td>\n",
       "    </tr>\n",
       "    <tr>\n",
       "      <th>leopard</th>\n",
       "      <td>mammal</td>\n",
       "      <td>Carnivora</td>\n",
       "      <td>58.0</td>\n",
       "    </tr>\n",
       "  </tbody>\n",
       "</table>\n",
       "</div>"
      ],
      "text/plain": [
       "          class           order  max_speed\n",
       "falcon     bird   Falconiformes      389.0\n",
       "parrot     bird  Psittaciformes       24.0\n",
       "lion     mammal       Carnivora       80.2\n",
       "monkey   mammal        Primates        NaN\n",
       "leopard  mammal       Carnivora       58.0"
      ]
     },
     "execution_count": 744,
     "metadata": {},
     "output_type": "execute_result"
    }
   ],
   "source": [
    "speeds = pd.DataFrame(\n",
    "    [\n",
    "        (\"bird\", \"Falconiformes\", 389.0),\n",
    "        (\"bird\", \"Psittaciformes\", 24.0),\n",
    "        (\"mammal\", \"Carnivora\", 80.2),\n",
    "        (\"mammal\", \"Primates\", np.nan),\n",
    "        (\"mammal\", \"Carnivora\", 58),\n",
    "    ],\n",
    "    index=[\"falcon\", \"parrot\", \"lion\", \"monkey\", \"leopard\"],\n",
    "    columns=(\"class\", \"order\", \"max_speed\"),\n",
    ")\n",
    "speeds"
   ]
  },
  {
   "cell_type": "code",
   "execution_count": 745,
   "id": "fbea7fbc",
   "metadata": {},
   "outputs": [
    {
     "data": {
      "application/vnd.microsoft.datawrangler.viewer.v0+json": {
       "columns": [
        {
         "name": "index",
         "rawType": "object",
         "type": "string"
        },
        {
         "name": "max_speed",
         "rawType": "float64",
         "type": "float"
        }
       ],
       "ref": "af801054-c48c-45ec-ac3f-17398d3314e9",
       "rows": [
        [
         "falcon",
         null
        ],
        [
         "parrot",
         "-365.0"
        ],
        [
         "lion",
         null
        ],
        [
         "monkey",
         null
        ],
        [
         "leopard",
         null
        ]
       ],
       "shape": {
        "columns": 1,
        "rows": 5
       }
      },
      "text/plain": [
       "falcon       NaN\n",
       "parrot    -365.0\n",
       "lion         NaN\n",
       "monkey       NaN\n",
       "leopard      NaN\n",
       "Name: max_speed, dtype: float64"
      ]
     },
     "execution_count": 745,
     "metadata": {},
     "output_type": "execute_result"
    }
   ],
   "source": [
    "speeds.groupby('class')['max_speed'].diff()"
   ]
  },
  {
   "cell_type": "code",
   "execution_count": 746,
   "id": "d02d0004",
   "metadata": {},
   "outputs": [
    {
     "data": {
      "application/vnd.microsoft.datawrangler.viewer.v0+json": {
       "columns": [
        {
         "name": "index",
         "rawType": "object",
         "type": "string"
        },
        {
         "name": "class",
         "rawType": "object",
         "type": "string"
        },
        {
         "name": "order",
         "rawType": "object",
         "type": "string"
        },
        {
         "name": "max_speed",
         "rawType": "float64",
         "type": "float"
        },
        {
         "name": "cumsum",
         "rawType": "float64",
         "type": "float"
        },
        {
         "name": "rank",
         "rawType": "float64",
         "type": "float"
        },
        {
         "name": "sum",
         "rawType": "float64",
         "type": "float"
        }
       ],
       "ref": "33ca3a3c-b2d5-4b6f-a9f7-21e43108d730",
       "rows": [
        [
         "falcon",
         "bird",
         "Falconiformes",
         "389.0",
         "389.0",
         "2.0",
         "413.0"
        ],
        [
         "parrot",
         "bird",
         "Psittaciformes",
         "24.0",
         "413.0",
         "1.0",
         "413.0"
        ],
        [
         "lion",
         "mammal",
         "Carnivora",
         "80.2",
         "80.2",
         "2.0",
         "138.2"
        ],
        [
         "monkey",
         "mammal",
         "Primates",
         null,
         null,
         null,
         "138.2"
        ],
        [
         "leopard",
         "mammal",
         "Carnivora",
         "58.0",
         "138.2",
         "1.0",
         "138.2"
        ]
       ],
       "shape": {
        "columns": 6,
        "rows": 5
       }
      },
      "text/html": [
       "<div>\n",
       "<style scoped>\n",
       "    .dataframe tbody tr th:only-of-type {\n",
       "        vertical-align: middle;\n",
       "    }\n",
       "\n",
       "    .dataframe tbody tr th {\n",
       "        vertical-align: top;\n",
       "    }\n",
       "\n",
       "    .dataframe thead th {\n",
       "        text-align: right;\n",
       "    }\n",
       "</style>\n",
       "<table border=\"1\" class=\"dataframe\">\n",
       "  <thead>\n",
       "    <tr style=\"text-align: right;\">\n",
       "      <th></th>\n",
       "      <th>class</th>\n",
       "      <th>order</th>\n",
       "      <th>max_speed</th>\n",
       "      <th>cumsum</th>\n",
       "      <th>rank</th>\n",
       "      <th>sum</th>\n",
       "    </tr>\n",
       "  </thead>\n",
       "  <tbody>\n",
       "    <tr>\n",
       "      <th>falcon</th>\n",
       "      <td>bird</td>\n",
       "      <td>Falconiformes</td>\n",
       "      <td>389.0</td>\n",
       "      <td>389.0</td>\n",
       "      <td>2.0</td>\n",
       "      <td>413.0</td>\n",
       "    </tr>\n",
       "    <tr>\n",
       "      <th>parrot</th>\n",
       "      <td>bird</td>\n",
       "      <td>Psittaciformes</td>\n",
       "      <td>24.0</td>\n",
       "      <td>413.0</td>\n",
       "      <td>1.0</td>\n",
       "      <td>413.0</td>\n",
       "    </tr>\n",
       "    <tr>\n",
       "      <th>lion</th>\n",
       "      <td>mammal</td>\n",
       "      <td>Carnivora</td>\n",
       "      <td>80.2</td>\n",
       "      <td>80.2</td>\n",
       "      <td>2.0</td>\n",
       "      <td>138.2</td>\n",
       "    </tr>\n",
       "    <tr>\n",
       "      <th>monkey</th>\n",
       "      <td>mammal</td>\n",
       "      <td>Primates</td>\n",
       "      <td>NaN</td>\n",
       "      <td>NaN</td>\n",
       "      <td>NaN</td>\n",
       "      <td>138.2</td>\n",
       "    </tr>\n",
       "    <tr>\n",
       "      <th>leopard</th>\n",
       "      <td>mammal</td>\n",
       "      <td>Carnivora</td>\n",
       "      <td>58.0</td>\n",
       "      <td>138.2</td>\n",
       "      <td>1.0</td>\n",
       "      <td>138.2</td>\n",
       "    </tr>\n",
       "  </tbody>\n",
       "</table>\n",
       "</div>"
      ],
      "text/plain": [
       "          class           order  max_speed  cumsum  rank    sum\n",
       "falcon     bird   Falconiformes      389.0   389.0   2.0  413.0\n",
       "parrot     bird  Psittaciformes       24.0   413.0   1.0  413.0\n",
       "lion     mammal       Carnivora       80.2    80.2   2.0  138.2\n",
       "monkey   mammal        Primates        NaN     NaN   NaN  138.2\n",
       "leopard  mammal       Carnivora       58.0   138.2   1.0  138.2"
      ]
     },
     "execution_count": 746,
     "metadata": {},
     "output_type": "execute_result"
    }
   ],
   "source": [
    "speeds2 = speeds.copy()\n",
    "speeds2['cumsum'] = speeds.groupby('class')['max_speed'].cumsum()\n",
    "speeds2['rank'] = speeds.groupby('class')['max_speed'].rank()\n",
    "speeds2['sum'] = speeds.groupby('class')['max_speed'].transform('sum')\n",
    "speeds2"
   ]
  },
  {
   "cell_type": "code",
   "execution_count": 747,
   "id": "fc3483f7",
   "metadata": {},
   "outputs": [],
   "source": [
    "index = pd.date_range('10/1/1999', periods=1100)\n",
    "ts = pd.Series(np.random.normal(0.5, 2, 1100), index)\n",
    "ts = ts.rolling(window=100, min_periods=100).mean().dropna()"
   ]
  },
  {
   "cell_type": "code",
   "execution_count": 748,
   "id": "ec09d54f",
   "metadata": {},
   "outputs": [
    {
     "data": {
      "application/vnd.microsoft.datawrangler.viewer.v0+json": {
       "columns": [
        {
         "name": "index",
         "rawType": "datetime64[ns]",
         "type": "datetime"
        },
        {
         "name": "0",
         "rawType": "float64",
         "type": "float"
        }
       ],
       "ref": "419f55f4-cfd7-4531-87f6-3d353c59c55a",
       "rows": [
        [
         "2000-01-08 00:00:00",
         "0.3355644526936009"
        ],
        [
         "2000-01-09 00:00:00",
         "0.3371669033622883"
        ],
        [
         "2000-01-10 00:00:00",
         "0.29474160292372004"
        ],
        [
         "2000-01-11 00:00:00",
         "0.2837750033547746"
        ],
        [
         "2000-01-12 00:00:00",
         "0.3218974052372786"
        ]
       ],
       "shape": {
        "columns": 1,
        "rows": 5
       }
      },
      "text/plain": [
       "2000-01-08    0.335564\n",
       "2000-01-09    0.337167\n",
       "2000-01-10    0.294742\n",
       "2000-01-11    0.283775\n",
       "2000-01-12    0.321897\n",
       "Freq: D, dtype: float64"
      ]
     },
     "execution_count": 748,
     "metadata": {},
     "output_type": "execute_result"
    }
   ],
   "source": [
    "ts.head()"
   ]
  },
  {
   "cell_type": "code",
   "execution_count": 749,
   "id": "72b57051",
   "metadata": {},
   "outputs": [
    {
     "data": {
      "image/png": "[encoded data removed]",
      "text/plain": [
       "<Figure size 640x480 with 1 Axes>"
      ]
     },
     "metadata": {},
     "output_type": "display_data"
    }
   ],
   "source": [
    "ts.plot();"
   ]
  },
  {
   "cell_type": "code",
   "execution_count": 750,
   "id": "1cca718a",
   "metadata": {},
   "outputs": [],
   "source": [
    "transformed_ts = ts.groupby(lambda x: x.year).transform(\n",
    "    lambda x: (x - x.mean()) / x.std()\n",
    "    \n",
    ")"
   ]
  },
  {
   "cell_type": "code",
   "execution_count": 751,
   "id": "c03709fc",
   "metadata": {},
   "outputs": [
    {
     "data": {
      "text/plain": [
       "<Axes: >"
      ]
     },
     "execution_count": 751,
     "metadata": {},
     "output_type": "execute_result"
    },
    {
     "data": {
      "image/png": "[encoded data removed]",
      "text/plain": [
       "<Figure size 640x480 with 1 Axes>"
      ]
     },
     "metadata": {},
     "output_type": "display_data"
    }
   ],
   "source": [
    "transformed_ts.plot()"
   ]
  },
  {
   "cell_type": "code",
   "execution_count": 752,
   "id": "671018fd",
   "metadata": {},
   "outputs": [
    {
     "data": {
      "application/vnd.microsoft.datawrangler.viewer.v0+json": {
       "columns": [
        {
         "name": "index",
         "rawType": "int64",
         "type": "integer"
        },
        {
         "name": "mean",
         "rawType": "float64",
         "type": "float"
        },
        {
         "name": "std",
         "rawType": "float64",
         "type": "float"
        }
       ],
       "ref": "f02333bd-3548-46fd-940c-49acf30003fd",
       "rows": [
        [
         "2000",
         "0.5195697875918784",
         "0.11414270721046889"
        ],
        [
         "2001",
         "0.5210068753340571",
         "0.11738980023917073"
        ],
        [
         "2002",
         "0.4507414003634279",
         "0.3020590216725641"
        ]
       ],
       "shape": {
        "columns": 2,
        "rows": 3
       }
      },
      "text/html": [
       "<div>\n",
       "<style scoped>\n",
       "    .dataframe tbody tr th:only-of-type {\n",
       "        vertical-align: middle;\n",
       "    }\n",
       "\n",
       "    .dataframe tbody tr th {\n",
       "        vertical-align: top;\n",
       "    }\n",
       "\n",
       "    .dataframe thead th {\n",
       "        text-align: right;\n",
       "    }\n",
       "</style>\n",
       "<table border=\"1\" class=\"dataframe\">\n",
       "  <thead>\n",
       "    <tr style=\"text-align: right;\">\n",
       "      <th></th>\n",
       "      <th>mean</th>\n",
       "      <th>std</th>\n",
       "    </tr>\n",
       "  </thead>\n",
       "  <tbody>\n",
       "    <tr>\n",
       "      <th>2000</th>\n",
       "      <td>0.519570</td>\n",
       "      <td>0.114143</td>\n",
       "    </tr>\n",
       "    <tr>\n",
       "      <th>2001</th>\n",
       "      <td>0.521007</td>\n",
       "      <td>0.117390</td>\n",
       "    </tr>\n",
       "    <tr>\n",
       "      <th>2002</th>\n",
       "      <td>0.450741</td>\n",
       "      <td>0.302059</td>\n",
       "    </tr>\n",
       "  </tbody>\n",
       "</table>\n",
       "</div>"
      ],
      "text/plain": [
       "          mean       std\n",
       "2000  0.519570  0.114143\n",
       "2001  0.521007  0.117390\n",
       "2002  0.450741  0.302059"
      ]
     },
     "execution_count": 752,
     "metadata": {},
     "output_type": "execute_result"
    }
   ],
   "source": [
    "ts.groupby(lambda x: x.year).agg(['mean', 'std'])"
   ]
  },
  {
   "cell_type": "code",
   "execution_count": 753,
   "id": "9d222e6e",
   "metadata": {},
   "outputs": [
    {
     "data": {
      "application/vnd.microsoft.datawrangler.viewer.v0+json": {
       "columns": [
        {
         "name": "index",
         "rawType": "int64",
         "type": "integer"
        },
        {
         "name": "mean",
         "rawType": "float64",
         "type": "float"
        },
        {
         "name": "std",
         "rawType": "float64",
         "type": "float"
        }
       ],
       "ref": "061df301-d56b-4828-a0f1-ed4c50a3b7b7",
       "rows": [
        [
         "2000",
         "6.086125104351833e-16",
         "0.9999999999999999"
        ],
        [
         "2001",
         "7.421764876946252e-17",
         "0.9999999999999997"
        ],
        [
         "2002",
         "1.9158361219163352e-16",
         "1.0000000000000002"
        ]
       ],
       "shape": {
        "columns": 2,
        "rows": 3
       }
      },
      "text/html": [
       "<div>\n",
       "<style scoped>\n",
       "    .dataframe tbody tr th:only-of-type {\n",
       "        vertical-align: middle;\n",
       "    }\n",
       "\n",
       "    .dataframe tbody tr th {\n",
       "        vertical-align: top;\n",
       "    }\n",
       "\n",
       "    .dataframe thead th {\n",
       "        text-align: right;\n",
       "    }\n",
       "</style>\n",
       "<table border=\"1\" class=\"dataframe\">\n",
       "  <thead>\n",
       "    <tr style=\"text-align: right;\">\n",
       "      <th></th>\n",
       "      <th>mean</th>\n",
       "      <th>std</th>\n",
       "    </tr>\n",
       "  </thead>\n",
       "  <tbody>\n",
       "    <tr>\n",
       "      <th>2000</th>\n",
       "      <td>6.086125e-16</td>\n",
       "      <td>1.0</td>\n",
       "    </tr>\n",
       "    <tr>\n",
       "      <th>2001</th>\n",
       "      <td>7.421765e-17</td>\n",
       "      <td>1.0</td>\n",
       "    </tr>\n",
       "    <tr>\n",
       "      <th>2002</th>\n",
       "      <td>1.915836e-16</td>\n",
       "      <td>1.0</td>\n",
       "    </tr>\n",
       "  </tbody>\n",
       "</table>\n",
       "</div>"
      ],
      "text/plain": [
       "              mean  std\n",
       "2000  6.086125e-16  1.0\n",
       "2001  7.421765e-17  1.0\n",
       "2002  1.915836e-16  1.0"
      ]
     },
     "execution_count": 753,
     "metadata": {},
     "output_type": "execute_result"
    }
   ],
   "source": [
    "transformed_ts.groupby(lambda x: x.year).agg(['mean', 'std'])"
   ]
  },
  {
   "cell_type": "code",
   "execution_count": 754,
   "id": "b952d772",
   "metadata": {},
   "outputs": [
    {
     "data": {
      "text/plain": [
       "<Axes: >"
      ]
     },
     "execution_count": 754,
     "metadata": {},
     "output_type": "execute_result"
    },
    {
     "data": {
      "image/png": "[encoded data removed]",
      "text/plain": [
       "<Figure size 640x480 with 1 Axes>"
      ]
     },
     "metadata": {},
     "output_type": "display_data"
    }
   ],
   "source": [
    "combined_ts = pd.DataFrame({'Original': ts, 'Normalized': transformed_ts})\n",
    "combined_ts.plot()"
   ]
  },
  {
   "cell_type": "code",
   "execution_count": 755,
   "id": "5292eafe",
   "metadata": {},
   "outputs": [],
   "source": [
    "combined_ts['range'] = ts.groupby(lambda x: x.year).transform(lambda x: x.max() - x.min())"
   ]
  },
  {
   "cell_type": "code",
   "execution_count": 756,
   "id": "90fd2a4e",
   "metadata": {},
   "outputs": [
    {
     "data": {
      "text/plain": [
       "<Axes: >"
      ]
     },
     "execution_count": 756,
     "metadata": {},
     "output_type": "execute_result"
    },
    {
     "data": {
      "image/png": "[encoded data removed]",
      "text/plain": [
       "<Figure size 640x480 with 1 Axes>"
      ]
     },
     "metadata": {},
     "output_type": "display_data"
    }
   ],
   "source": [
    "combined_ts.plot()"
   ]
  },
  {
   "cell_type": "code",
   "execution_count": 757,
   "id": "da630a8b",
   "metadata": {},
   "outputs": [
    {
     "data": {
      "application/vnd.microsoft.datawrangler.viewer.v0+json": {
       "columns": [
        {
         "name": "index",
         "rawType": "object",
         "type": "string"
        },
        {
         "name": "A",
         "rawType": "float64",
         "type": "float"
        },
        {
         "name": "B",
         "rawType": "float64",
         "type": "float"
        },
        {
         "name": "C",
         "rawType": "float64",
         "type": "float"
        }
       ],
       "ref": "f529d431-1d7d-43f1-af57-66136c1b4208",
       "rows": [
        [
         "count",
         "901.0",
         "951.0",
         "819.0"
        ],
        [
         "mean",
         "0.011544324060460687",
         "-0.00969603979957471",
         "0.04373707651743705"
        ],
        [
         "std",
         "0.9879012530044621",
         "0.9780682891814227",
         "1.001974882948534"
        ],
        [
         "min",
         "-2.9938025855185564",
         "-3.5993996805076014",
         "-3.264203828324966"
        ],
        [
         "25%",
         "-0.6863488254722694",
         "-0.7010103950220885",
         "-0.6017337381059651"
        ],
        [
         "50%",
         "0.01135294550281498",
         "-0.050996957542126034",
         "0.034363565801369796"
        ],
        [
         "75%",
         "0.7177273002936387",
         "0.659545560342995",
         "0.7139998053485868"
        ],
        [
         "max",
         "2.824613248039156",
         "3.0011469697548976",
         "2.932290154063457"
        ]
       ],
       "shape": {
        "columns": 3,
        "rows": 8
       }
      },
      "text/html": [
       "<div>\n",
       "<style scoped>\n",
       "    .dataframe tbody tr th:only-of-type {\n",
       "        vertical-align: middle;\n",
       "    }\n",
       "\n",
       "    .dataframe tbody tr th {\n",
       "        vertical-align: top;\n",
       "    }\n",
       "\n",
       "    .dataframe thead th {\n",
       "        text-align: right;\n",
       "    }\n",
       "</style>\n",
       "<table border=\"1\" class=\"dataframe\">\n",
       "  <thead>\n",
       "    <tr style=\"text-align: right;\">\n",
       "      <th></th>\n",
       "      <th>A</th>\n",
       "      <th>B</th>\n",
       "      <th>C</th>\n",
       "    </tr>\n",
       "  </thead>\n",
       "  <tbody>\n",
       "    <tr>\n",
       "      <th>count</th>\n",
       "      <td>901.000000</td>\n",
       "      <td>951.000000</td>\n",
       "      <td>819.000000</td>\n",
       "    </tr>\n",
       "    <tr>\n",
       "      <th>mean</th>\n",
       "      <td>0.011544</td>\n",
       "      <td>-0.009696</td>\n",
       "      <td>0.043737</td>\n",
       "    </tr>\n",
       "    <tr>\n",
       "      <th>std</th>\n",
       "      <td>0.987901</td>\n",
       "      <td>0.978068</td>\n",
       "      <td>1.001975</td>\n",
       "    </tr>\n",
       "    <tr>\n",
       "      <th>min</th>\n",
       "      <td>-2.993803</td>\n",
       "      <td>-3.599400</td>\n",
       "      <td>-3.264204</td>\n",
       "    </tr>\n",
       "    <tr>\n",
       "      <th>25%</th>\n",
       "      <td>-0.686349</td>\n",
       "      <td>-0.701010</td>\n",
       "      <td>-0.601734</td>\n",
       "    </tr>\n",
       "    <tr>\n",
       "      <th>50%</th>\n",
       "      <td>0.011353</td>\n",
       "      <td>-0.050997</td>\n",
       "      <td>0.034364</td>\n",
       "    </tr>\n",
       "    <tr>\n",
       "      <th>75%</th>\n",
       "      <td>0.717727</td>\n",
       "      <td>0.659546</td>\n",
       "      <td>0.714000</td>\n",
       "    </tr>\n",
       "    <tr>\n",
       "      <th>max</th>\n",
       "      <td>2.824613</td>\n",
       "      <td>3.001147</td>\n",
       "      <td>2.932290</td>\n",
       "    </tr>\n",
       "  </tbody>\n",
       "</table>\n",
       "</div>"
      ],
      "text/plain": [
       "                A           B           C\n",
       "count  901.000000  951.000000  819.000000\n",
       "mean     0.011544   -0.009696    0.043737\n",
       "std      0.987901    0.978068    1.001975\n",
       "min     -2.993803   -3.599400   -3.264204\n",
       "25%     -0.686349   -0.701010   -0.601734\n",
       "50%      0.011353   -0.050997    0.034364\n",
       "75%      0.717727    0.659546    0.714000\n",
       "max      2.824613    3.001147    2.932290"
      ]
     },
     "execution_count": 757,
     "metadata": {},
     "output_type": "execute_result"
    }
   ],
   "source": [
    "cols = [\"A\", \"B\", \"C\"]\n",
    "values = np.random.randn(1000, 3)\n",
    "values[np.random.randint(0, 1000, 100), 0] = np.nan\n",
    "values[np.random.randint(0, 1000, 50), 1] = np.nan\n",
    "values[np.random.randint(0, 1000, 200), 2] = np.nan\n",
    "data_df = pd.DataFrame(values, columns=cols)\n",
    "data_df.describe()"
   ]
  },
  {
   "cell_type": "code",
   "execution_count": 758,
   "id": "d51041e4",
   "metadata": {},
   "outputs": [
    {
     "name": "stdout",
     "output_type": "stream",
     "text": [
      "<class 'pandas.core.frame.DataFrame'>\n",
      "RangeIndex: 1000 entries, 0 to 999\n",
      "Data columns (total 4 columns):\n",
      " #   Column   Non-Null Count  Dtype  \n",
      "---  ------   --------------  -----  \n",
      " 0   A        901 non-null    float64\n",
      " 1   B        951 non-null    float64\n",
      " 2   C        819 non-null    float64\n",
      " 3   country  1000 non-null   object \n",
      "dtypes: float64(3), object(1)\n",
      "memory usage: 31.4+ KB\n"
     ]
    }
   ],
   "source": [
    "countries = np.array([\"US\", \"UK\", \"GR\", \"JP\"])\n",
    "key = countries[np.random.randint(0, 4, 1000)]\n",
    "data_df['country'] = key\n",
    "data_df.info()"
   ]
  },
  {
   "cell_type": "code",
   "execution_count": 759,
   "id": "85df6ea6",
   "metadata": {},
   "outputs": [],
   "source": [
    "transformed_df = data_df.groupby('country').transform(lambda x: x.fillna(x.mean()))"
   ]
  },
  {
   "cell_type": "code",
   "execution_count": 760,
   "id": "a7707f0e",
   "metadata": {},
   "outputs": [
    {
     "name": "stdout",
     "output_type": "stream",
     "text": [
      "<class 'pandas.core.frame.DataFrame'>\n",
      "RangeIndex: 1000 entries, 0 to 999\n",
      "Data columns (total 3 columns):\n",
      " #   Column  Non-Null Count  Dtype  \n",
      "---  ------  --------------  -----  \n",
      " 0   A       1000 non-null   float64\n",
      " 1   B       1000 non-null   float64\n",
      " 2   C       1000 non-null   float64\n",
      "dtypes: float64(3)\n",
      "memory usage: 23.6 KB\n"
     ]
    },
    {
     "data": {
      "application/vnd.microsoft.datawrangler.viewer.v0+json": {
       "columns": [
        {
         "name": "index",
         "rawType": "int64",
         "type": "integer"
        },
        {
         "name": "A",
         "rawType": "float64",
         "type": "float"
        },
        {
         "name": "B",
         "rawType": "float64",
         "type": "float"
        },
        {
         "name": "C",
         "rawType": "float64",
         "type": "float"
        },
        {
         "name": "country",
         "rawType": "object",
         "type": "string"
        }
       ],
       "ref": "30af53ad-fbdd-4c2b-8763-39ab0aefb28d",
       "rows": [
        [
         "0",
         "-1.411732866712584",
         "-0.8656437148313647",
         "-0.9077107986529411",
         "JP"
        ],
        [
         "1",
         "-0.6960140690354634",
         "0.07724384521350794",
         "-0.20487376397274598",
         "US"
        ],
        [
         "2",
         "0.7286787359817083",
         "-0.37272474278214046",
         "0.5030017670094492",
         "US"
        ],
        [
         "3",
         "-0.15682318955925073",
         "-1.3968774876975205",
         null,
         "US"
        ],
        [
         "4",
         "0.20138006195911323",
         "1.131907565052641",
         "-0.11921733205927741",
         "GR"
        ]
       ],
       "shape": {
        "columns": 4,
        "rows": 5
       }
      },
      "text/html": [
       "<div>\n",
       "<style scoped>\n",
       "    .dataframe tbody tr th:only-of-type {\n",
       "        vertical-align: middle;\n",
       "    }\n",
       "\n",
       "    .dataframe tbody tr th {\n",
       "        vertical-align: top;\n",
       "    }\n",
       "\n",
       "    .dataframe thead th {\n",
       "        text-align: right;\n",
       "    }\n",
       "</style>\n",
       "<table border=\"1\" class=\"dataframe\">\n",
       "  <thead>\n",
       "    <tr style=\"text-align: right;\">\n",
       "      <th></th>\n",
       "      <th>A</th>\n",
       "      <th>B</th>\n",
       "      <th>C</th>\n",
       "      <th>country</th>\n",
       "    </tr>\n",
       "  </thead>\n",
       "  <tbody>\n",
       "    <tr>\n",
       "      <th>0</th>\n",
       "      <td>-1.411733</td>\n",
       "      <td>-0.865644</td>\n",
       "      <td>-0.907711</td>\n",
       "      <td>JP</td>\n",
       "    </tr>\n",
       "    <tr>\n",
       "      <th>1</th>\n",
       "      <td>-0.696014</td>\n",
       "      <td>0.077244</td>\n",
       "      <td>-0.204874</td>\n",
       "      <td>US</td>\n",
       "    </tr>\n",
       "    <tr>\n",
       "      <th>2</th>\n",
       "      <td>0.728679</td>\n",
       "      <td>-0.372725</td>\n",
       "      <td>0.503002</td>\n",
       "      <td>US</td>\n",
       "    </tr>\n",
       "    <tr>\n",
       "      <th>3</th>\n",
       "      <td>-0.156823</td>\n",
       "      <td>-1.396877</td>\n",
       "      <td>NaN</td>\n",
       "      <td>US</td>\n",
       "    </tr>\n",
       "    <tr>\n",
       "      <th>4</th>\n",
       "      <td>0.201380</td>\n",
       "      <td>1.131908</td>\n",
       "      <td>-0.119217</td>\n",
       "      <td>GR</td>\n",
       "    </tr>\n",
       "  </tbody>\n",
       "</table>\n",
       "</div>"
      ],
      "text/plain": [
       "          A         B         C country\n",
       "0 -1.411733 -0.865644 -0.907711      JP\n",
       "1 -0.696014  0.077244 -0.204874      US\n",
       "2  0.728679 -0.372725  0.503002      US\n",
       "3 -0.156823 -1.396877       NaN      US\n",
       "4  0.201380  1.131908 -0.119217      GR"
      ]
     },
     "execution_count": 760,
     "metadata": {},
     "output_type": "execute_result"
    }
   ],
   "source": [
    "transformed_df.info()\n",
    "data_df.head()\n"
   ]
  },
  {
   "cell_type": "code",
   "execution_count": 761,
   "id": "cc0da56e",
   "metadata": {},
   "outputs": [
    {
     "data": {
      "application/vnd.microsoft.datawrangler.viewer.v0+json": {
       "columns": [
        {
         "name": "index",
         "rawType": "int64",
         "type": "integer"
        },
        {
         "name": "A",
         "rawType": "float64",
         "type": "float"
        },
        {
         "name": "B",
         "rawType": "float64",
         "type": "float"
        },
        {
         "name": "C",
         "rawType": "float64",
         "type": "float"
        }
       ],
       "ref": "6fb4568e-f9cf-45fc-8090-5b81acf2a2fc",
       "rows": [
        [
         "0",
         "-1.411732866712584",
         "-0.8656437148313647",
         "-0.9077107986529411"
        ],
        [
         "1",
         "-0.6960140690354634",
         "0.07724384521350794",
         "-0.20487376397274598"
        ],
        [
         "2",
         "0.7286787359817083",
         "-0.37272474278214046",
         "0.5030017670094492"
        ],
        [
         "3",
         "-0.15682318955925073",
         "-1.3968774876975205",
         "0.046087455001602995"
        ],
        [
         "4",
         "0.20138006195911323",
         "1.131907565052641",
         "-0.11921733205927741"
        ]
       ],
       "shape": {
        "columns": 3,
        "rows": 5
       }
      },
      "text/html": [
       "<div>\n",
       "<style scoped>\n",
       "    .dataframe tbody tr th:only-of-type {\n",
       "        vertical-align: middle;\n",
       "    }\n",
       "\n",
       "    .dataframe tbody tr th {\n",
       "        vertical-align: top;\n",
       "    }\n",
       "\n",
       "    .dataframe thead th {\n",
       "        text-align: right;\n",
       "    }\n",
       "</style>\n",
       "<table border=\"1\" class=\"dataframe\">\n",
       "  <thead>\n",
       "    <tr style=\"text-align: right;\">\n",
       "      <th></th>\n",
       "      <th>A</th>\n",
       "      <th>B</th>\n",
       "      <th>C</th>\n",
       "    </tr>\n",
       "  </thead>\n",
       "  <tbody>\n",
       "    <tr>\n",
       "      <th>0</th>\n",
       "      <td>-1.411733</td>\n",
       "      <td>-0.865644</td>\n",
       "      <td>-0.907711</td>\n",
       "    </tr>\n",
       "    <tr>\n",
       "      <th>1</th>\n",
       "      <td>-0.696014</td>\n",
       "      <td>0.077244</td>\n",
       "      <td>-0.204874</td>\n",
       "    </tr>\n",
       "    <tr>\n",
       "      <th>2</th>\n",
       "      <td>0.728679</td>\n",
       "      <td>-0.372725</td>\n",
       "      <td>0.503002</td>\n",
       "    </tr>\n",
       "    <tr>\n",
       "      <th>3</th>\n",
       "      <td>-0.156823</td>\n",
       "      <td>-1.396877</td>\n",
       "      <td>0.046087</td>\n",
       "    </tr>\n",
       "    <tr>\n",
       "      <th>4</th>\n",
       "      <td>0.201380</td>\n",
       "      <td>1.131908</td>\n",
       "      <td>-0.119217</td>\n",
       "    </tr>\n",
       "  </tbody>\n",
       "</table>\n",
       "</div>"
      ],
      "text/plain": [
       "          A         B         C\n",
       "0 -1.411733 -0.865644 -0.907711\n",
       "1 -0.696014  0.077244 -0.204874\n",
       "2  0.728679 -0.372725  0.503002\n",
       "3 -0.156823 -1.396877  0.046087\n",
       "4  0.201380  1.131908 -0.119217"
      ]
     },
     "execution_count": 761,
     "metadata": {},
     "output_type": "execute_result"
    }
   ],
   "source": [
    "transformed_df.head()"
   ]
  },
  {
   "cell_type": "code",
   "execution_count": 762,
   "id": "1efa47f7",
   "metadata": {},
   "outputs": [
    {
     "data": {
      "application/vnd.microsoft.datawrangler.viewer.v0+json": {
       "columns": [
        {
         "name": "country",
         "rawType": "object",
         "type": "string"
        },
        {
         "name": "A",
         "rawType": "float64",
         "type": "float"
        },
        {
         "name": "B",
         "rawType": "float64",
         "type": "float"
        },
        {
         "name": "C",
         "rawType": "float64",
         "type": "float"
        }
       ],
       "ref": "beb7a805-fc31-4244-a387-b5fc66d80f61",
       "rows": [
        [
         "GR",
         "-0.09997184860778217",
         "-0.11880990038518334",
         "-0.04706519905065812"
        ],
        [
         "JP",
         "0.09878820614701272",
         "0.03325147963591232",
         "0.15043338643699025"
        ],
        [
         "UK",
         "0.014140270076410505",
         "0.10982687661380477",
         "0.02239984282437761"
        ],
        [
         "US",
         "0.03042520544154648",
         "-0.07421268476422509",
         "0.046087455001602995"
        ]
       ],
       "shape": {
        "columns": 3,
        "rows": 4
       }
      },
      "text/html": [
       "<div>\n",
       "<style scoped>\n",
       "    .dataframe tbody tr th:only-of-type {\n",
       "        vertical-align: middle;\n",
       "    }\n",
       "\n",
       "    .dataframe tbody tr th {\n",
       "        vertical-align: top;\n",
       "    }\n",
       "\n",
       "    .dataframe thead th {\n",
       "        text-align: right;\n",
       "    }\n",
       "</style>\n",
       "<table border=\"1\" class=\"dataframe\">\n",
       "  <thead>\n",
       "    <tr style=\"text-align: right;\">\n",
       "      <th></th>\n",
       "      <th>A</th>\n",
       "      <th>B</th>\n",
       "      <th>C</th>\n",
       "    </tr>\n",
       "    <tr>\n",
       "      <th>country</th>\n",
       "      <th></th>\n",
       "      <th></th>\n",
       "      <th></th>\n",
       "    </tr>\n",
       "  </thead>\n",
       "  <tbody>\n",
       "    <tr>\n",
       "      <th>GR</th>\n",
       "      <td>-0.099972</td>\n",
       "      <td>-0.118810</td>\n",
       "      <td>-0.047065</td>\n",
       "    </tr>\n",
       "    <tr>\n",
       "      <th>JP</th>\n",
       "      <td>0.098788</td>\n",
       "      <td>0.033251</td>\n",
       "      <td>0.150433</td>\n",
       "    </tr>\n",
       "    <tr>\n",
       "      <th>UK</th>\n",
       "      <td>0.014140</td>\n",
       "      <td>0.109827</td>\n",
       "      <td>0.022400</td>\n",
       "    </tr>\n",
       "    <tr>\n",
       "      <th>US</th>\n",
       "      <td>0.030425</td>\n",
       "      <td>-0.074213</td>\n",
       "      <td>0.046087</td>\n",
       "    </tr>\n",
       "  </tbody>\n",
       "</table>\n",
       "</div>"
      ],
      "text/plain": [
       "                A         B         C\n",
       "country                              \n",
       "GR      -0.099972 -0.118810 -0.047065\n",
       "JP       0.098788  0.033251  0.150433\n",
       "UK       0.014140  0.109827  0.022400\n",
       "US       0.030425 -0.074213  0.046087"
      ]
     },
     "execution_count": 762,
     "metadata": {},
     "output_type": "execute_result"
    }
   ],
   "source": [
    "data_df.groupby('country').mean()"
   ]
  },
  {
   "cell_type": "code",
   "execution_count": 763,
   "id": "aec962a4",
   "metadata": {},
   "outputs": [
    {
     "data": {
      "application/vnd.microsoft.datawrangler.viewer.v0+json": {
       "columns": [
        {
         "name": "index",
         "rawType": "int64",
         "type": "integer"
        },
        {
         "name": "A",
         "rawType": "int64",
         "type": "integer"
        },
        {
         "name": "B",
         "rawType": "int64",
         "type": "integer"
        }
       ],
       "ref": "6e333c27-7809-4244-a6e8-26362ea98729",
       "rows": [
        [
         "0",
         "1",
         "0"
        ],
        [
         "1",
         "1",
         "1"
        ],
        [
         "2",
         "1",
         "2"
        ],
        [
         "3",
         "1",
         "3"
        ],
        [
         "4",
         "1",
         "4"
        ],
        [
         "5",
         "1",
         "5"
        ],
        [
         "6",
         "1",
         "6"
        ],
        [
         "7",
         "1",
         "7"
        ],
        [
         "8",
         "1",
         "8"
        ],
        [
         "9",
         "1",
         "9"
        ],
        [
         "10",
         "5",
         "10"
        ],
        [
         "11",
         "5",
         "11"
        ],
        [
         "12",
         "5",
         "12"
        ],
        [
         "13",
         "5",
         "13"
        ],
        [
         "14",
         "5",
         "14"
        ],
        [
         "15",
         "5",
         "15"
        ],
        [
         "16",
         "5",
         "16"
        ],
        [
         "17",
         "5",
         "17"
        ],
        [
         "18",
         "5",
         "18"
        ],
        [
         "19",
         "5",
         "19"
        ]
       ],
       "shape": {
        "columns": 2,
        "rows": 20
       }
      },
      "text/html": [
       "<div>\n",
       "<style scoped>\n",
       "    .dataframe tbody tr th:only-of-type {\n",
       "        vertical-align: middle;\n",
       "    }\n",
       "\n",
       "    .dataframe tbody tr th {\n",
       "        vertical-align: top;\n",
       "    }\n",
       "\n",
       "    .dataframe thead th {\n",
       "        text-align: right;\n",
       "    }\n",
       "</style>\n",
       "<table border=\"1\" class=\"dataframe\">\n",
       "  <thead>\n",
       "    <tr style=\"text-align: right;\">\n",
       "      <th></th>\n",
       "      <th>A</th>\n",
       "      <th>B</th>\n",
       "    </tr>\n",
       "  </thead>\n",
       "  <tbody>\n",
       "    <tr>\n",
       "      <th>0</th>\n",
       "      <td>1</td>\n",
       "      <td>0</td>\n",
       "    </tr>\n",
       "    <tr>\n",
       "      <th>1</th>\n",
       "      <td>1</td>\n",
       "      <td>1</td>\n",
       "    </tr>\n",
       "    <tr>\n",
       "      <th>2</th>\n",
       "      <td>1</td>\n",
       "      <td>2</td>\n",
       "    </tr>\n",
       "    <tr>\n",
       "      <th>3</th>\n",
       "      <td>1</td>\n",
       "      <td>3</td>\n",
       "    </tr>\n",
       "    <tr>\n",
       "      <th>4</th>\n",
       "      <td>1</td>\n",
       "      <td>4</td>\n",
       "    </tr>\n",
       "    <tr>\n",
       "      <th>5</th>\n",
       "      <td>1</td>\n",
       "      <td>5</td>\n",
       "    </tr>\n",
       "    <tr>\n",
       "      <th>6</th>\n",
       "      <td>1</td>\n",
       "      <td>6</td>\n",
       "    </tr>\n",
       "    <tr>\n",
       "      <th>7</th>\n",
       "      <td>1</td>\n",
       "      <td>7</td>\n",
       "    </tr>\n",
       "    <tr>\n",
       "      <th>8</th>\n",
       "      <td>1</td>\n",
       "      <td>8</td>\n",
       "    </tr>\n",
       "    <tr>\n",
       "      <th>9</th>\n",
       "      <td>1</td>\n",
       "      <td>9</td>\n",
       "    </tr>\n",
       "    <tr>\n",
       "      <th>10</th>\n",
       "      <td>5</td>\n",
       "      <td>10</td>\n",
       "    </tr>\n",
       "    <tr>\n",
       "      <th>11</th>\n",
       "      <td>5</td>\n",
       "      <td>11</td>\n",
       "    </tr>\n",
       "    <tr>\n",
       "      <th>12</th>\n",
       "      <td>5</td>\n",
       "      <td>12</td>\n",
       "    </tr>\n",
       "    <tr>\n",
       "      <th>13</th>\n",
       "      <td>5</td>\n",
       "      <td>13</td>\n",
       "    </tr>\n",
       "    <tr>\n",
       "      <th>14</th>\n",
       "      <td>5</td>\n",
       "      <td>14</td>\n",
       "    </tr>\n",
       "    <tr>\n",
       "      <th>15</th>\n",
       "      <td>5</td>\n",
       "      <td>15</td>\n",
       "    </tr>\n",
       "    <tr>\n",
       "      <th>16</th>\n",
       "      <td>5</td>\n",
       "      <td>16</td>\n",
       "    </tr>\n",
       "    <tr>\n",
       "      <th>17</th>\n",
       "      <td>5</td>\n",
       "      <td>17</td>\n",
       "    </tr>\n",
       "    <tr>\n",
       "      <th>18</th>\n",
       "      <td>5</td>\n",
       "      <td>18</td>\n",
       "    </tr>\n",
       "    <tr>\n",
       "      <th>19</th>\n",
       "      <td>5</td>\n",
       "      <td>19</td>\n",
       "    </tr>\n",
       "  </tbody>\n",
       "</table>\n",
       "</div>"
      ],
      "text/plain": [
       "    A   B\n",
       "0   1   0\n",
       "1   1   1\n",
       "2   1   2\n",
       "3   1   3\n",
       "4   1   4\n",
       "5   1   5\n",
       "6   1   6\n",
       "7   1   7\n",
       "8   1   8\n",
       "9   1   9\n",
       "10  5  10\n",
       "11  5  11\n",
       "12  5  12\n",
       "13  5  13\n",
       "14  5  14\n",
       "15  5  15\n",
       "16  5  16\n",
       "17  5  17\n",
       "18  5  18\n",
       "19  5  19"
      ]
     },
     "execution_count": 763,
     "metadata": {},
     "output_type": "execute_result"
    }
   ],
   "source": [
    "df_re = pd.DataFrame({\"A\": [1] * 10 + [5] * 10, \"B\": np.arange(20)})\n",
    "df_re"
   ]
  },
  {
   "cell_type": "code",
   "execution_count": 764,
   "id": "578085d3",
   "metadata": {},
   "outputs": [
    {
     "data": {
      "application/vnd.microsoft.datawrangler.viewer.v0+json": {
       "columns": [
        {
         "name": "('A', None)",
         "rawType": "object",
         "type": "unknown"
        },
        {
         "name": "B",
         "rawType": "float64",
         "type": "float"
        }
       ],
       "ref": "d8292dda-0bb8-46b1-b176-62ade6a25e2c",
       "rows": [
        [
         "(np.int64(1), np.int64(0))",
         null
        ],
        [
         "(np.int64(1), np.int64(1))",
         null
        ],
        [
         "(np.int64(1), np.int64(2))",
         null
        ],
        [
         "(np.int64(1), np.int64(3))",
         "1.5"
        ],
        [
         "(np.int64(1), np.int64(4))",
         "2.5"
        ],
        [
         "(np.int64(1), np.int64(5))",
         "3.5"
        ],
        [
         "(np.int64(1), np.int64(6))",
         "4.5"
        ],
        [
         "(np.int64(1), np.int64(7))",
         "5.5"
        ],
        [
         "(np.int64(1), np.int64(8))",
         "6.5"
        ],
        [
         "(np.int64(1), np.int64(9))",
         "7.5"
        ],
        [
         "(np.int64(5), np.int64(10))",
         null
        ],
        [
         "(np.int64(5), np.int64(11))",
         null
        ],
        [
         "(np.int64(5), np.int64(12))",
         null
        ],
        [
         "(np.int64(5), np.int64(13))",
         "11.5"
        ],
        [
         "(np.int64(5), np.int64(14))",
         "12.5"
        ],
        [
         "(np.int64(5), np.int64(15))",
         "13.5"
        ],
        [
         "(np.int64(5), np.int64(16))",
         "14.5"
        ],
        [
         "(np.int64(5), np.int64(17))",
         "15.5"
        ],
        [
         "(np.int64(5), np.int64(18))",
         "16.5"
        ],
        [
         "(np.int64(5), np.int64(19))",
         "17.5"
        ]
       ],
       "shape": {
        "columns": 1,
        "rows": 20
       }
      },
      "text/plain": [
       "A    \n",
       "1  0      NaN\n",
       "   1      NaN\n",
       "   2      NaN\n",
       "   3      1.5\n",
       "   4      2.5\n",
       "   5      3.5\n",
       "   6      4.5\n",
       "   7      5.5\n",
       "   8      6.5\n",
       "   9      7.5\n",
       "5  10     NaN\n",
       "   11     NaN\n",
       "   12     NaN\n",
       "   13    11.5\n",
       "   14    12.5\n",
       "   15    13.5\n",
       "   16    14.5\n",
       "   17    15.5\n",
       "   18    16.5\n",
       "   19    17.5\n",
       "Name: B, dtype: float64"
      ]
     },
     "execution_count": 764,
     "metadata": {},
     "output_type": "execute_result"
    }
   ],
   "source": [
    "df_re.groupby('A').rolling(4).B.mean()"
   ]
  },
  {
   "cell_type": "code",
   "execution_count": 765,
   "id": "8f981050",
   "metadata": {},
   "outputs": [
    {
     "data": {
      "application/vnd.microsoft.datawrangler.viewer.v0+json": {
       "columns": [
        {
         "name": "('A', None)",
         "rawType": "object",
         "type": "unknown"
        },
        {
         "name": "B",
         "rawType": "float64",
         "type": "float"
        }
       ],
       "ref": "b7ec930d-1ce0-41f5-9e2b-4bd5c6f47c36",
       "rows": [
        [
         "(np.int64(1), np.int64(0))",
         null
        ],
        [
         "(np.int64(1), np.int64(1))",
         null
        ],
        [
         "(np.int64(1), np.int64(2))",
         null
        ],
        [
         "(np.int64(1), np.int64(3))",
         "1.5"
        ],
        [
         "(np.int64(1), np.int64(4))",
         "2.5"
        ],
        [
         "(np.int64(1), np.int64(5))",
         "3.5"
        ],
        [
         "(np.int64(1), np.int64(6))",
         "4.5"
        ],
        [
         "(np.int64(1), np.int64(7))",
         "5.5"
        ],
        [
         "(np.int64(1), np.int64(8))",
         "6.5"
        ],
        [
         "(np.int64(1), np.int64(9))",
         "7.5"
        ],
        [
         "(np.int64(5), np.int64(10))",
         null
        ],
        [
         "(np.int64(5), np.int64(11))",
         null
        ],
        [
         "(np.int64(5), np.int64(12))",
         null
        ],
        [
         "(np.int64(5), np.int64(13))",
         "11.5"
        ],
        [
         "(np.int64(5), np.int64(14))",
         "12.5"
        ],
        [
         "(np.int64(5), np.int64(15))",
         "13.5"
        ],
        [
         "(np.int64(5), np.int64(16))",
         "14.5"
        ],
        [
         "(np.int64(5), np.int64(17))",
         "15.5"
        ],
        [
         "(np.int64(5), np.int64(18))",
         "16.5"
        ],
        [
         "(np.int64(5), np.int64(19))",
         "17.5"
        ]
       ],
       "shape": {
        "columns": 1,
        "rows": 20
       }
      },
      "text/plain": [
       "A    \n",
       "1  0      NaN\n",
       "   1      NaN\n",
       "   2      NaN\n",
       "   3      1.5\n",
       "   4      2.5\n",
       "   5      3.5\n",
       "   6      4.5\n",
       "   7      5.5\n",
       "   8      6.5\n",
       "   9      7.5\n",
       "5  10     NaN\n",
       "   11     NaN\n",
       "   12     NaN\n",
       "   13    11.5\n",
       "   14    12.5\n",
       "   15    13.5\n",
       "   16    14.5\n",
       "   17    15.5\n",
       "   18    16.5\n",
       "   19    17.5\n",
       "Name: B, dtype: float64"
      ]
     },
     "execution_count": 765,
     "metadata": {},
     "output_type": "execute_result"
    }
   ],
   "source": [
    "df_re.groupby('A').rolling(4)['B'].mean()"
   ]
  },
  {
   "cell_type": "code",
   "execution_count": 766,
   "id": "47a296e4",
   "metadata": {},
   "outputs": [
    {
     "data": {
      "application/vnd.microsoft.datawrangler.viewer.v0+json": {
       "columns": [
        {
         "name": "('A', None)",
         "rawType": "object",
         "type": "unknown"
        },
        {
         "name": "B",
         "rawType": "float64",
         "type": "float"
        }
       ],
       "ref": "3244edd8-2efb-43b3-853e-2a3f0c011833",
       "rows": [
        [
         "(np.int64(1), np.int64(0))",
         "0.0"
        ],
        [
         "(np.int64(1), np.int64(1))",
         "0.5"
        ],
        [
         "(np.int64(1), np.int64(2))",
         "1.0"
        ],
        [
         "(np.int64(1), np.int64(3))",
         "1.5"
        ],
        [
         "(np.int64(1), np.int64(4))",
         "2.0"
        ],
        [
         "(np.int64(1), np.int64(5))",
         "2.5"
        ],
        [
         "(np.int64(1), np.int64(6))",
         "3.0"
        ],
        [
         "(np.int64(1), np.int64(7))",
         "3.5"
        ],
        [
         "(np.int64(1), np.int64(8))",
         "4.0"
        ],
        [
         "(np.int64(1), np.int64(9))",
         "4.5"
        ],
        [
         "(np.int64(5), np.int64(10))",
         "10.0"
        ],
        [
         "(np.int64(5), np.int64(11))",
         "10.5"
        ],
        [
         "(np.int64(5), np.int64(12))",
         "11.0"
        ],
        [
         "(np.int64(5), np.int64(13))",
         "11.5"
        ],
        [
         "(np.int64(5), np.int64(14))",
         "12.0"
        ],
        [
         "(np.int64(5), np.int64(15))",
         "12.5"
        ],
        [
         "(np.int64(5), np.int64(16))",
         "13.0"
        ],
        [
         "(np.int64(5), np.int64(17))",
         "13.5"
        ],
        [
         "(np.int64(5), np.int64(18))",
         "14.0"
        ],
        [
         "(np.int64(5), np.int64(19))",
         "14.5"
        ]
       ],
       "shape": {
        "columns": 1,
        "rows": 20
       }
      },
      "text/plain": [
       "A    \n",
       "1  0      0.0\n",
       "   1      0.5\n",
       "   2      1.0\n",
       "   3      1.5\n",
       "   4      2.0\n",
       "   5      2.5\n",
       "   6      3.0\n",
       "   7      3.5\n",
       "   8      4.0\n",
       "   9      4.5\n",
       "5  10    10.0\n",
       "   11    10.5\n",
       "   12    11.0\n",
       "   13    11.5\n",
       "   14    12.0\n",
       "   15    12.5\n",
       "   16    13.0\n",
       "   17    13.5\n",
       "   18    14.0\n",
       "   19    14.5\n",
       "Name: B, dtype: float64"
      ]
     },
     "execution_count": 766,
     "metadata": {},
     "output_type": "execute_result"
    }
   ],
   "source": [
    "df_re.groupby('A').expanding()['B'].mean()"
   ]
  },
  {
   "cell_type": "code",
   "execution_count": 767,
   "id": "7e37aa7e",
   "metadata": {},
   "outputs": [
    {
     "data": {
      "application/vnd.microsoft.datawrangler.viewer.v0+json": {
       "columns": [
        {
         "name": "date",
         "rawType": "datetime64[ns]",
         "type": "datetime"
        },
        {
         "name": "group",
         "rawType": "int64",
         "type": "integer"
        },
        {
         "name": "val",
         "rawType": "int64",
         "type": "integer"
        }
       ],
       "ref": "28e45de0-f622-43bc-91d4-1162da519f4e",
       "rows": [
        [
         "2016-01-03 00:00:00",
         "1",
         "5"
        ],
        [
         "2016-01-10 00:00:00",
         "1",
         "6"
        ],
        [
         "2016-01-17 00:00:00",
         "2",
         "7"
        ],
        [
         "2016-01-24 00:00:00",
         "2",
         "8"
        ]
       ],
       "shape": {
        "columns": 2,
        "rows": 4
       }
      },
      "text/html": [
       "<div>\n",
       "<style scoped>\n",
       "    .dataframe tbody tr th:only-of-type {\n",
       "        vertical-align: middle;\n",
       "    }\n",
       "\n",
       "    .dataframe tbody tr th {\n",
       "        vertical-align: top;\n",
       "    }\n",
       "\n",
       "    .dataframe thead th {\n",
       "        text-align: right;\n",
       "    }\n",
       "</style>\n",
       "<table border=\"1\" class=\"dataframe\">\n",
       "  <thead>\n",
       "    <tr style=\"text-align: right;\">\n",
       "      <th></th>\n",
       "      <th>group</th>\n",
       "      <th>val</th>\n",
       "    </tr>\n",
       "    <tr>\n",
       "      <th>date</th>\n",
       "      <th></th>\n",
       "      <th></th>\n",
       "    </tr>\n",
       "  </thead>\n",
       "  <tbody>\n",
       "    <tr>\n",
       "      <th>2016-01-03</th>\n",
       "      <td>1</td>\n",
       "      <td>5</td>\n",
       "    </tr>\n",
       "    <tr>\n",
       "      <th>2016-01-10</th>\n",
       "      <td>1</td>\n",
       "      <td>6</td>\n",
       "    </tr>\n",
       "    <tr>\n",
       "      <th>2016-01-17</th>\n",
       "      <td>2</td>\n",
       "      <td>7</td>\n",
       "    </tr>\n",
       "    <tr>\n",
       "      <th>2016-01-24</th>\n",
       "      <td>2</td>\n",
       "      <td>8</td>\n",
       "    </tr>\n",
       "  </tbody>\n",
       "</table>\n",
       "</div>"
      ],
      "text/plain": [
       "            group  val\n",
       "date                  \n",
       "2016-01-03      1    5\n",
       "2016-01-10      1    6\n",
       "2016-01-17      2    7\n",
       "2016-01-24      2    8"
      ]
     },
     "execution_count": 767,
     "metadata": {},
     "output_type": "execute_result"
    }
   ],
   "source": [
    "df_ts = pd.DataFrame(\n",
    "    {\n",
    "        \"date\": pd.date_range(start=\"2016-01-01\", periods=4, freq=\"W\"),\n",
    "        \"group\": [1, 1, 2, 2],\n",
    "        \"val\": [5, 6, 7, 8],\n",
    "    }\n",
    ").set_index(\"date\")\n",
    "df_ts"
   ]
  },
  {
   "cell_type": "code",
   "execution_count": 768,
   "id": "3a84189a",
   "metadata": {},
   "outputs": [
    {
     "data": {
      "application/vnd.microsoft.datawrangler.viewer.v0+json": {
       "columns": [
        {
         "name": "('group', 'date')",
         "rawType": "object",
         "type": "unknown"
        },
        {
         "name": "val",
         "rawType": "int64",
         "type": "integer"
        }
       ],
       "ref": "66d51f83-ad91-4b35-8816-6d3d7e4d5ecb",
       "rows": [
        [
         "(np.int64(1), Timestamp('2016-01-03 00:00:00'))",
         "5"
        ],
        [
         "(np.int64(1), Timestamp('2016-01-04 00:00:00'))",
         "5"
        ],
        [
         "(np.int64(1), Timestamp('2016-01-05 00:00:00'))",
         "5"
        ],
        [
         "(np.int64(1), Timestamp('2016-01-06 00:00:00'))",
         "5"
        ],
        [
         "(np.int64(1), Timestamp('2016-01-07 00:00:00'))",
         "5"
        ],
        [
         "(np.int64(1), Timestamp('2016-01-08 00:00:00'))",
         "5"
        ],
        [
         "(np.int64(1), Timestamp('2016-01-09 00:00:00'))",
         "5"
        ],
        [
         "(np.int64(1), Timestamp('2016-01-10 00:00:00'))",
         "6"
        ],
        [
         "(np.int64(2), Timestamp('2016-01-17 00:00:00'))",
         "7"
        ],
        [
         "(np.int64(2), Timestamp('2016-01-18 00:00:00'))",
         "7"
        ],
        [
         "(np.int64(2), Timestamp('2016-01-19 00:00:00'))",
         "7"
        ],
        [
         "(np.int64(2), Timestamp('2016-01-20 00:00:00'))",
         "7"
        ],
        [
         "(np.int64(2), Timestamp('2016-01-21 00:00:00'))",
         "7"
        ],
        [
         "(np.int64(2), Timestamp('2016-01-22 00:00:00'))",
         "7"
        ],
        [
         "(np.int64(2), Timestamp('2016-01-23 00:00:00'))",
         "7"
        ],
        [
         "(np.int64(2), Timestamp('2016-01-24 00:00:00'))",
         "8"
        ]
       ],
       "shape": {
        "columns": 1,
        "rows": 16
       }
      },
      "text/html": [
       "<div>\n",
       "<style scoped>\n",
       "    .dataframe tbody tr th:only-of-type {\n",
       "        vertical-align: middle;\n",
       "    }\n",
       "\n",
       "    .dataframe tbody tr th {\n",
       "        vertical-align: top;\n",
       "    }\n",
       "\n",
       "    .dataframe thead th {\n",
       "        text-align: right;\n",
       "    }\n",
       "</style>\n",
       "<table border=\"1\" class=\"dataframe\">\n",
       "  <thead>\n",
       "    <tr style=\"text-align: right;\">\n",
       "      <th></th>\n",
       "      <th></th>\n",
       "      <th>val</th>\n",
       "    </tr>\n",
       "    <tr>\n",
       "      <th>group</th>\n",
       "      <th>date</th>\n",
       "      <th></th>\n",
       "    </tr>\n",
       "  </thead>\n",
       "  <tbody>\n",
       "    <tr>\n",
       "      <th rowspan=\"8\" valign=\"top\">1</th>\n",
       "      <th>2016-01-03</th>\n",
       "      <td>5</td>\n",
       "    </tr>\n",
       "    <tr>\n",
       "      <th>2016-01-04</th>\n",
       "      <td>5</td>\n",
       "    </tr>\n",
       "    <tr>\n",
       "      <th>2016-01-05</th>\n",
       "      <td>5</td>\n",
       "    </tr>\n",
       "    <tr>\n",
       "      <th>2016-01-06</th>\n",
       "      <td>5</td>\n",
       "    </tr>\n",
       "    <tr>\n",
       "      <th>2016-01-07</th>\n",
       "      <td>5</td>\n",
       "    </tr>\n",
       "    <tr>\n",
       "      <th>2016-01-08</th>\n",
       "      <td>5</td>\n",
       "    </tr>\n",
       "    <tr>\n",
       "      <th>2016-01-09</th>\n",
       "      <td>5</td>\n",
       "    </tr>\n",
       "    <tr>\n",
       "      <th>2016-01-10</th>\n",
       "      <td>6</td>\n",
       "    </tr>\n",
       "    <tr>\n",
       "      <th rowspan=\"8\" valign=\"top\">2</th>\n",
       "      <th>2016-01-17</th>\n",
       "      <td>7</td>\n",
       "    </tr>\n",
       "    <tr>\n",
       "      <th>2016-01-18</th>\n",
       "      <td>7</td>\n",
       "    </tr>\n",
       "    <tr>\n",
       "      <th>2016-01-19</th>\n",
       "      <td>7</td>\n",
       "    </tr>\n",
       "    <tr>\n",
       "      <th>2016-01-20</th>\n",
       "      <td>7</td>\n",
       "    </tr>\n",
       "    <tr>\n",
       "      <th>2016-01-21</th>\n",
       "      <td>7</td>\n",
       "    </tr>\n",
       "    <tr>\n",
       "      <th>2016-01-22</th>\n",
       "      <td>7</td>\n",
       "    </tr>\n",
       "    <tr>\n",
       "      <th>2016-01-23</th>\n",
       "      <td>7</td>\n",
       "    </tr>\n",
       "    <tr>\n",
       "      <th>2016-01-24</th>\n",
       "      <td>8</td>\n",
       "    </tr>\n",
       "  </tbody>\n",
       "</table>\n",
       "</div>"
      ],
      "text/plain": [
       "                  val\n",
       "group date           \n",
       "1     2016-01-03    5\n",
       "      2016-01-04    5\n",
       "      2016-01-05    5\n",
       "      2016-01-06    5\n",
       "      2016-01-07    5\n",
       "      2016-01-08    5\n",
       "      2016-01-09    5\n",
       "      2016-01-10    6\n",
       "2     2016-01-17    7\n",
       "      2016-01-18    7\n",
       "      2016-01-19    7\n",
       "      2016-01-20    7\n",
       "      2016-01-21    7\n",
       "      2016-01-22    7\n",
       "      2016-01-23    7\n",
       "      2016-01-24    8"
      ]
     },
     "execution_count": 768,
     "metadata": {},
     "output_type": "execute_result"
    }
   ],
   "source": [
    "df_ts.groupby('group').resample('1D', include_groups=False).ffill()"
   ]
  },
  {
   "cell_type": "code",
   "execution_count": 769,
   "id": "38bef4c0",
   "metadata": {},
   "outputs": [
    {
     "data": {
      "application/vnd.microsoft.datawrangler.viewer.v0+json": {
       "columns": [
        {
         "name": "index",
         "rawType": "int64",
         "type": "integer"
        },
        {
         "name": "group",
         "rawType": "object",
         "type": "string"
        },
        {
         "name": "product",
         "rawType": "object",
         "type": "string"
        },
        {
         "name": "volume",
         "rawType": "int64",
         "type": "integer"
        }
       ],
       "ref": "c644381b-dc6b-4a13-a495-d753b588ebf6",
       "rows": [
        [
         "0",
         "x",
         "a",
         "10"
        ],
        [
         "1",
         "x",
         "b",
         "30"
        ],
        [
         "2",
         "x",
         "c",
         "20"
        ],
        [
         "3",
         "x",
         "d",
         "15"
        ],
        [
         "4",
         "y",
         "e",
         "40"
        ],
        [
         "5",
         "y",
         "f",
         "10"
        ],
        [
         "6",
         "y",
         "g",
         "20"
        ]
       ],
       "shape": {
        "columns": 3,
        "rows": 7
       }
      },
      "text/html": [
       "<div>\n",
       "<style scoped>\n",
       "    .dataframe tbody tr th:only-of-type {\n",
       "        vertical-align: middle;\n",
       "    }\n",
       "\n",
       "    .dataframe tbody tr th {\n",
       "        vertical-align: top;\n",
       "    }\n",
       "\n",
       "    .dataframe thead th {\n",
       "        text-align: right;\n",
       "    }\n",
       "</style>\n",
       "<table border=\"1\" class=\"dataframe\">\n",
       "  <thead>\n",
       "    <tr style=\"text-align: right;\">\n",
       "      <th></th>\n",
       "      <th>group</th>\n",
       "      <th>product</th>\n",
       "      <th>volume</th>\n",
       "    </tr>\n",
       "  </thead>\n",
       "  <tbody>\n",
       "    <tr>\n",
       "      <th>0</th>\n",
       "      <td>x</td>\n",
       "      <td>a</td>\n",
       "      <td>10</td>\n",
       "    </tr>\n",
       "    <tr>\n",
       "      <th>1</th>\n",
       "      <td>x</td>\n",
       "      <td>b</td>\n",
       "      <td>30</td>\n",
       "    </tr>\n",
       "    <tr>\n",
       "      <th>2</th>\n",
       "      <td>x</td>\n",
       "      <td>c</td>\n",
       "      <td>20</td>\n",
       "    </tr>\n",
       "    <tr>\n",
       "      <th>3</th>\n",
       "      <td>x</td>\n",
       "      <td>d</td>\n",
       "      <td>15</td>\n",
       "    </tr>\n",
       "    <tr>\n",
       "      <th>4</th>\n",
       "      <td>y</td>\n",
       "      <td>e</td>\n",
       "      <td>40</td>\n",
       "    </tr>\n",
       "    <tr>\n",
       "      <th>5</th>\n",
       "      <td>y</td>\n",
       "      <td>f</td>\n",
       "      <td>10</td>\n",
       "    </tr>\n",
       "    <tr>\n",
       "      <th>6</th>\n",
       "      <td>y</td>\n",
       "      <td>g</td>\n",
       "      <td>20</td>\n",
       "    </tr>\n",
       "  </tbody>\n",
       "</table>\n",
       "</div>"
      ],
      "text/plain": [
       "  group product  volume\n",
       "0     x       a      10\n",
       "1     x       b      30\n",
       "2     x       c      20\n",
       "3     x       d      15\n",
       "4     y       e      40\n",
       "5     y       f      10\n",
       "6     y       g      20"
      ]
     },
     "execution_count": 769,
     "metadata": {},
     "output_type": "execute_result"
    }
   ],
   "source": [
    "product_volumes = pd.DataFrame(\n",
    "    {\n",
    "        \"group\": list(\"xxxxyyy\"),\n",
    "        \"product\": list(\"abcdefg\"),\n",
    "        \"volume\": [10, 30, 20, 15, 40, 10, 20],\n",
    "    }\n",
    ")\n",
    "\n",
    "\n",
    "product_volumes"
   ]
  },
  {
   "cell_type": "code",
   "execution_count": 770,
   "id": "89317cf0",
   "metadata": {},
   "outputs": [],
   "source": [
    "product_volumes = product_volumes.sort_values(\"volume\", ascending=False)"
   ]
  },
  {
   "cell_type": "code",
   "execution_count": 771,
   "id": "884923a3",
   "metadata": {},
   "outputs": [],
   "source": [
    "grouped = product_volumes.groupby('group')['volume']\n",
    "cumpct = grouped.cumsum() / grouped.transform('sum')"
   ]
  },
  {
   "cell_type": "code",
   "execution_count": 772,
   "id": "0a2f8bd8",
   "metadata": {},
   "outputs": [
    {
     "data": {
      "application/vnd.microsoft.datawrangler.viewer.v0+json": {
       "columns": [
        {
         "name": "index",
         "rawType": "int64",
         "type": "integer"
        },
        {
         "name": "volume",
         "rawType": "float64",
         "type": "float"
        }
       ],
       "ref": "508adea3-ff7d-4f97-92b6-66344fbf840a",
       "rows": [
        [
         "4",
         "0.5714285714285714"
        ],
        [
         "1",
         "0.4"
        ],
        [
         "2",
         "0.6666666666666666"
        ],
        [
         "6",
         "0.8571428571428571"
        ],
        [
         "3",
         "0.8666666666666667"
        ],
        [
         "0",
         "1.0"
        ],
        [
         "5",
         "1.0"
        ]
       ],
       "shape": {
        "columns": 1,
        "rows": 7
       }
      },
      "text/plain": [
       "4    0.571429\n",
       "1    0.400000\n",
       "2    0.666667\n",
       "6    0.857143\n",
       "3    0.866667\n",
       "0    1.000000\n",
       "5    1.000000\n",
       "Name: volume, dtype: float64"
      ]
     },
     "execution_count": 772,
     "metadata": {},
     "output_type": "execute_result"
    }
   ],
   "source": [
    "cumpct"
   ]
  },
  {
   "cell_type": "code",
   "execution_count": 773,
   "id": "97c023d3",
   "metadata": {},
   "outputs": [],
   "source": [
    "significant_products = product_volumes[cumpct <= 0.9]"
   ]
  },
  {
   "cell_type": "code",
   "execution_count": 774,
   "id": "dcc62d24",
   "metadata": {},
   "outputs": [
    {
     "data": {
      "application/vnd.microsoft.datawrangler.viewer.v0+json": {
       "columns": [
        {
         "name": "index",
         "rawType": "int64",
         "type": "integer"
        },
        {
         "name": "group",
         "rawType": "object",
         "type": "string"
        },
        {
         "name": "product",
         "rawType": "object",
         "type": "string"
        },
        {
         "name": "volume",
         "rawType": "int64",
         "type": "integer"
        }
       ],
       "ref": "dc194d12-a45a-4554-a46a-6751f3a562a5",
       "rows": [
        [
         "1",
         "x",
         "b",
         "30"
        ],
        [
         "2",
         "x",
         "c",
         "20"
        ],
        [
         "3",
         "x",
         "d",
         "15"
        ],
        [
         "4",
         "y",
         "e",
         "40"
        ],
        [
         "6",
         "y",
         "g",
         "20"
        ]
       ],
       "shape": {
        "columns": 3,
        "rows": 5
       }
      },
      "text/html": [
       "<div>\n",
       "<style scoped>\n",
       "    .dataframe tbody tr th:only-of-type {\n",
       "        vertical-align: middle;\n",
       "    }\n",
       "\n",
       "    .dataframe tbody tr th {\n",
       "        vertical-align: top;\n",
       "    }\n",
       "\n",
       "    .dataframe thead th {\n",
       "        text-align: right;\n",
       "    }\n",
       "</style>\n",
       "<table border=\"1\" class=\"dataframe\">\n",
       "  <thead>\n",
       "    <tr style=\"text-align: right;\">\n",
       "      <th></th>\n",
       "      <th>group</th>\n",
       "      <th>product</th>\n",
       "      <th>volume</th>\n",
       "    </tr>\n",
       "  </thead>\n",
       "  <tbody>\n",
       "    <tr>\n",
       "      <th>1</th>\n",
       "      <td>x</td>\n",
       "      <td>b</td>\n",
       "      <td>30</td>\n",
       "    </tr>\n",
       "    <tr>\n",
       "      <th>2</th>\n",
       "      <td>x</td>\n",
       "      <td>c</td>\n",
       "      <td>20</td>\n",
       "    </tr>\n",
       "    <tr>\n",
       "      <th>3</th>\n",
       "      <td>x</td>\n",
       "      <td>d</td>\n",
       "      <td>15</td>\n",
       "    </tr>\n",
       "    <tr>\n",
       "      <th>4</th>\n",
       "      <td>y</td>\n",
       "      <td>e</td>\n",
       "      <td>40</td>\n",
       "    </tr>\n",
       "    <tr>\n",
       "      <th>6</th>\n",
       "      <td>y</td>\n",
       "      <td>g</td>\n",
       "      <td>20</td>\n",
       "    </tr>\n",
       "  </tbody>\n",
       "</table>\n",
       "</div>"
      ],
      "text/plain": [
       "  group product  volume\n",
       "1     x       b      30\n",
       "2     x       c      20\n",
       "3     x       d      15\n",
       "4     y       e      40\n",
       "6     y       g      20"
      ]
     },
     "execution_count": 774,
     "metadata": {},
     "output_type": "execute_result"
    }
   ],
   "source": [
    "significant_products.sort_values(['group', 'product'])"
   ]
  },
  {
   "cell_type": "code",
   "execution_count": 775,
   "id": "9d336655",
   "metadata": {},
   "outputs": [
    {
     "data": {
      "application/vnd.microsoft.datawrangler.viewer.v0+json": {
       "columns": [
        {
         "name": "index",
         "rawType": "int64",
         "type": "integer"
        },
        {
         "name": "A",
         "rawType": "int64",
         "type": "integer"
        },
        {
         "name": "B",
         "rawType": "object",
         "type": "string"
        }
       ],
       "ref": "330bcdfa-74fd-4871-a1a4-1b1bea7d2fbe",
       "rows": [
        [
         "0",
         "0",
         "a"
        ],
        [
         "1",
         "1",
         "a"
        ],
        [
         "2",
         "2",
         "b"
        ],
        [
         "3",
         "3",
         "b"
        ],
        [
         "4",
         "4",
         "b"
        ],
        [
         "5",
         "5",
         "b"
        ],
        [
         "6",
         "6",
         "c"
        ],
        [
         "7",
         "7",
         "c"
        ]
       ],
       "shape": {
        "columns": 2,
        "rows": 8
       }
      },
      "text/html": [
       "<div>\n",
       "<style scoped>\n",
       "    .dataframe tbody tr th:only-of-type {\n",
       "        vertical-align: middle;\n",
       "    }\n",
       "\n",
       "    .dataframe tbody tr th {\n",
       "        vertical-align: top;\n",
       "    }\n",
       "\n",
       "    .dataframe thead th {\n",
       "        text-align: right;\n",
       "    }\n",
       "</style>\n",
       "<table border=\"1\" class=\"dataframe\">\n",
       "  <thead>\n",
       "    <tr style=\"text-align: right;\">\n",
       "      <th></th>\n",
       "      <th>A</th>\n",
       "      <th>B</th>\n",
       "    </tr>\n",
       "  </thead>\n",
       "  <tbody>\n",
       "    <tr>\n",
       "      <th>0</th>\n",
       "      <td>0</td>\n",
       "      <td>a</td>\n",
       "    </tr>\n",
       "    <tr>\n",
       "      <th>1</th>\n",
       "      <td>1</td>\n",
       "      <td>a</td>\n",
       "    </tr>\n",
       "    <tr>\n",
       "      <th>2</th>\n",
       "      <td>2</td>\n",
       "      <td>b</td>\n",
       "    </tr>\n",
       "    <tr>\n",
       "      <th>3</th>\n",
       "      <td>3</td>\n",
       "      <td>b</td>\n",
       "    </tr>\n",
       "    <tr>\n",
       "      <th>4</th>\n",
       "      <td>4</td>\n",
       "      <td>b</td>\n",
       "    </tr>\n",
       "    <tr>\n",
       "      <th>5</th>\n",
       "      <td>5</td>\n",
       "      <td>b</td>\n",
       "    </tr>\n",
       "    <tr>\n",
       "      <th>6</th>\n",
       "      <td>6</td>\n",
       "      <td>c</td>\n",
       "    </tr>\n",
       "    <tr>\n",
       "      <th>7</th>\n",
       "      <td>7</td>\n",
       "      <td>c</td>\n",
       "    </tr>\n",
       "  </tbody>\n",
       "</table>\n",
       "</div>"
      ],
      "text/plain": [
       "   A  B\n",
       "0  0  a\n",
       "1  1  a\n",
       "2  2  b\n",
       "3  3  b\n",
       "4  4  b\n",
       "5  5  b\n",
       "6  6  c\n",
       "7  7  c"
      ]
     },
     "execution_count": 775,
     "metadata": {},
     "output_type": "execute_result"
    }
   ],
   "source": [
    "dff = pd.DataFrame({\"A\": np.arange(8), \"B\": list(\"aabbbbcc\")})\n",
    "dff"
   ]
  },
  {
   "cell_type": "code",
   "execution_count": 776,
   "id": "b54a9642",
   "metadata": {},
   "outputs": [
    {
     "data": {
      "application/vnd.microsoft.datawrangler.viewer.v0+json": {
       "columns": [
        {
         "name": "index",
         "rawType": "int64",
         "type": "integer"
        },
        {
         "name": "A",
         "rawType": "int64",
         "type": "integer"
        },
        {
         "name": "B",
         "rawType": "object",
         "type": "string"
        }
       ],
       "ref": "6cf08cef-ee02-469e-a211-7a8e04849be8",
       "rows": [
        [
         "2",
         "2",
         "b"
        ],
        [
         "3",
         "3",
         "b"
        ],
        [
         "4",
         "4",
         "b"
        ],
        [
         "5",
         "5",
         "b"
        ]
       ],
       "shape": {
        "columns": 2,
        "rows": 4
       }
      },
      "text/html": [
       "<div>\n",
       "<style scoped>\n",
       "    .dataframe tbody tr th:only-of-type {\n",
       "        vertical-align: middle;\n",
       "    }\n",
       "\n",
       "    .dataframe tbody tr th {\n",
       "        vertical-align: top;\n",
       "    }\n",
       "\n",
       "    .dataframe thead th {\n",
       "        text-align: right;\n",
       "    }\n",
       "</style>\n",
       "<table border=\"1\" class=\"dataframe\">\n",
       "  <thead>\n",
       "    <tr style=\"text-align: right;\">\n",
       "      <th></th>\n",
       "      <th>A</th>\n",
       "      <th>B</th>\n",
       "    </tr>\n",
       "  </thead>\n",
       "  <tbody>\n",
       "    <tr>\n",
       "      <th>2</th>\n",
       "      <td>2</td>\n",
       "      <td>b</td>\n",
       "    </tr>\n",
       "    <tr>\n",
       "      <th>3</th>\n",
       "      <td>3</td>\n",
       "      <td>b</td>\n",
       "    </tr>\n",
       "    <tr>\n",
       "      <th>4</th>\n",
       "      <td>4</td>\n",
       "      <td>b</td>\n",
       "    </tr>\n",
       "    <tr>\n",
       "      <th>5</th>\n",
       "      <td>5</td>\n",
       "      <td>b</td>\n",
       "    </tr>\n",
       "  </tbody>\n",
       "</table>\n",
       "</div>"
      ],
      "text/plain": [
       "   A  B\n",
       "2  2  b\n",
       "3  3  b\n",
       "4  4  b\n",
       "5  5  b"
      ]
     },
     "execution_count": 776,
     "metadata": {},
     "output_type": "execute_result"
    }
   ],
   "source": [
    "dff.groupby('B').filter(lambda x: len(x) > 2)"
   ]
  },
  {
   "cell_type": "code",
   "execution_count": 777,
   "id": "4388007e",
   "metadata": {},
   "outputs": [
    {
     "data": {
      "application/vnd.microsoft.datawrangler.viewer.v0+json": {
       "columns": [
        {
         "name": "index",
         "rawType": "int64",
         "type": "integer"
        },
        {
         "name": "A",
         "rawType": "int64",
         "type": "integer"
        },
        {
         "name": "B",
         "rawType": "object",
         "type": "string"
        }
       ],
       "ref": "da566c5a-059c-4e35-a01c-33c053c976cd",
       "rows": [
        [
         "2",
         "2",
         "b"
        ],
        [
         "3",
         "3",
         "b"
        ],
        [
         "4",
         "4",
         "b"
        ],
        [
         "5",
         "5",
         "b"
        ]
       ],
       "shape": {
        "columns": 2,
        "rows": 4
       }
      },
      "text/html": [
       "<div>\n",
       "<style scoped>\n",
       "    .dataframe tbody tr th:only-of-type {\n",
       "        vertical-align: middle;\n",
       "    }\n",
       "\n",
       "    .dataframe tbody tr th {\n",
       "        vertical-align: top;\n",
       "    }\n",
       "\n",
       "    .dataframe thead th {\n",
       "        text-align: right;\n",
       "    }\n",
       "</style>\n",
       "<table border=\"1\" class=\"dataframe\">\n",
       "  <thead>\n",
       "    <tr style=\"text-align: right;\">\n",
       "      <th></th>\n",
       "      <th>A</th>\n",
       "      <th>B</th>\n",
       "    </tr>\n",
       "  </thead>\n",
       "  <tbody>\n",
       "    <tr>\n",
       "      <th>2</th>\n",
       "      <td>2</td>\n",
       "      <td>b</td>\n",
       "    </tr>\n",
       "    <tr>\n",
       "      <th>3</th>\n",
       "      <td>3</td>\n",
       "      <td>b</td>\n",
       "    </tr>\n",
       "    <tr>\n",
       "      <th>4</th>\n",
       "      <td>4</td>\n",
       "      <td>b</td>\n",
       "    </tr>\n",
       "    <tr>\n",
       "      <th>5</th>\n",
       "      <td>5</td>\n",
       "      <td>b</td>\n",
       "    </tr>\n",
       "  </tbody>\n",
       "</table>\n",
       "</div>"
      ],
      "text/plain": [
       "   A  B\n",
       "2  2  b\n",
       "3  3  b\n",
       "4  4  b\n",
       "5  5  b"
      ]
     },
     "execution_count": 777,
     "metadata": {},
     "output_type": "execute_result"
    }
   ],
   "source": [
    "dff[dff.groupby('B').transform('size') > 2]"
   ]
  },
  {
   "cell_type": "code",
   "execution_count": 778,
   "id": "39fe6ebf",
   "metadata": {},
   "outputs": [
    {
     "data": {
      "application/vnd.microsoft.datawrangler.viewer.v0+json": {
       "columns": [
        {
         "name": "index",
         "rawType": "int64",
         "type": "integer"
        },
        {
         "name": "A",
         "rawType": "int64",
         "type": "integer"
        },
        {
         "name": "B",
         "rawType": "object",
         "type": "string"
        }
       ],
       "ref": "bb384206-7a37-45a6-aa6d-6b42981facf5",
       "rows": [
        [
         "0",
         "0",
         "a"
        ],
        [
         "1",
         "1",
         "a"
        ],
        [
         "2",
         "2",
         "b"
        ],
        [
         "3",
         "3",
         "b"
        ],
        [
         "4",
         "4",
         "b"
        ],
        [
         "5",
         "5",
         "b"
        ],
        [
         "6",
         "6",
         "c"
        ],
        [
         "7",
         "7",
         "c"
        ]
       ],
       "shape": {
        "columns": 2,
        "rows": 8
       }
      },
      "text/html": [
       "<div>\n",
       "<style scoped>\n",
       "    .dataframe tbody tr th:only-of-type {\n",
       "        vertical-align: middle;\n",
       "    }\n",
       "\n",
       "    .dataframe tbody tr th {\n",
       "        vertical-align: top;\n",
       "    }\n",
       "\n",
       "    .dataframe thead th {\n",
       "        text-align: right;\n",
       "    }\n",
       "</style>\n",
       "<table border=\"1\" class=\"dataframe\">\n",
       "  <thead>\n",
       "    <tr style=\"text-align: right;\">\n",
       "      <th></th>\n",
       "      <th>A</th>\n",
       "      <th>B</th>\n",
       "    </tr>\n",
       "  </thead>\n",
       "  <tbody>\n",
       "    <tr>\n",
       "      <th>0</th>\n",
       "      <td>0</td>\n",
       "      <td>a</td>\n",
       "    </tr>\n",
       "    <tr>\n",
       "      <th>1</th>\n",
       "      <td>1</td>\n",
       "      <td>a</td>\n",
       "    </tr>\n",
       "    <tr>\n",
       "      <th>2</th>\n",
       "      <td>2</td>\n",
       "      <td>b</td>\n",
       "    </tr>\n",
       "    <tr>\n",
       "      <th>3</th>\n",
       "      <td>3</td>\n",
       "      <td>b</td>\n",
       "    </tr>\n",
       "    <tr>\n",
       "      <th>4</th>\n",
       "      <td>4</td>\n",
       "      <td>b</td>\n",
       "    </tr>\n",
       "    <tr>\n",
       "      <th>5</th>\n",
       "      <td>5</td>\n",
       "      <td>b</td>\n",
       "    </tr>\n",
       "    <tr>\n",
       "      <th>6</th>\n",
       "      <td>6</td>\n",
       "      <td>c</td>\n",
       "    </tr>\n",
       "    <tr>\n",
       "      <th>7</th>\n",
       "      <td>7</td>\n",
       "      <td>c</td>\n",
       "    </tr>\n",
       "  </tbody>\n",
       "</table>\n",
       "</div>"
      ],
      "text/plain": [
       "   A  B\n",
       "0  0  a\n",
       "1  1  a\n",
       "2  2  b\n",
       "3  3  b\n",
       "4  4  b\n",
       "5  5  b\n",
       "6  6  c\n",
       "7  7  c"
      ]
     },
     "execution_count": 778,
     "metadata": {},
     "output_type": "execute_result"
    }
   ],
   "source": [
    "dff"
   ]
  },
  {
   "cell_type": "code",
   "execution_count": 779,
   "id": "17d7c587",
   "metadata": {},
   "outputs": [
    {
     "data": {
      "application/vnd.microsoft.datawrangler.viewer.v0+json": {
       "columns": [
        {
         "name": "('first', 'second')",
         "rawType": "object",
         "type": "unknown"
        },
        {
         "name": "A",
         "rawType": "float64",
         "type": "float"
        },
        {
         "name": "B",
         "rawType": "float64",
         "type": "float"
        }
       ],
       "ref": "4329586b-3759-45bc-9650-b6d00ae56ecd",
       "rows": [
        [
         "('bar', 'one')",
         "1.0",
         "0.0"
        ],
        [
         "('bar', 'two')",
         "1.0",
         "1.0"
        ],
        [
         "('baz', 'one')",
         null,
         "2.0"
        ],
        [
         "('baz', 'two')",
         "1.0",
         "3.0"
        ],
        [
         "('foo', 'one')",
         "2.0",
         "4.0"
        ],
        [
         "('foo', 'two')",
         "2.0",
         null
        ],
        [
         "('qux', 'one')",
         "3.0",
         "6.0"
        ],
        [
         "('qux', 'two')",
         "3.0",
         "7.0"
        ]
       ],
       "shape": {
        "columns": 2,
        "rows": 8
       }
      },
      "text/html": [
       "<div>\n",
       "<style scoped>\n",
       "    .dataframe tbody tr th:only-of-type {\n",
       "        vertical-align: middle;\n",
       "    }\n",
       "\n",
       "    .dataframe tbody tr th {\n",
       "        vertical-align: top;\n",
       "    }\n",
       "\n",
       "    .dataframe thead th {\n",
       "        text-align: right;\n",
       "    }\n",
       "</style>\n",
       "<table border=\"1\" class=\"dataframe\">\n",
       "  <thead>\n",
       "    <tr style=\"text-align: right;\">\n",
       "      <th></th>\n",
       "      <th></th>\n",
       "      <th>A</th>\n",
       "      <th>B</th>\n",
       "    </tr>\n",
       "    <tr>\n",
       "      <th>first</th>\n",
       "      <th>second</th>\n",
       "      <th></th>\n",
       "      <th></th>\n",
       "    </tr>\n",
       "  </thead>\n",
       "  <tbody>\n",
       "    <tr>\n",
       "      <th rowspan=\"2\" valign=\"top\">bar</th>\n",
       "      <th>one</th>\n",
       "      <td>1.0</td>\n",
       "      <td>0.0</td>\n",
       "    </tr>\n",
       "    <tr>\n",
       "      <th>two</th>\n",
       "      <td>1.0</td>\n",
       "      <td>1.0</td>\n",
       "    </tr>\n",
       "    <tr>\n",
       "      <th rowspan=\"2\" valign=\"top\">baz</th>\n",
       "      <th>one</th>\n",
       "      <td>NaN</td>\n",
       "      <td>2.0</td>\n",
       "    </tr>\n",
       "    <tr>\n",
       "      <th>two</th>\n",
       "      <td>1.0</td>\n",
       "      <td>3.0</td>\n",
       "    </tr>\n",
       "    <tr>\n",
       "      <th rowspan=\"2\" valign=\"top\">foo</th>\n",
       "      <th>one</th>\n",
       "      <td>2.0</td>\n",
       "      <td>4.0</td>\n",
       "    </tr>\n",
       "    <tr>\n",
       "      <th>two</th>\n",
       "      <td>2.0</td>\n",
       "      <td>NaN</td>\n",
       "    </tr>\n",
       "    <tr>\n",
       "      <th rowspan=\"2\" valign=\"top\">qux</th>\n",
       "      <th>one</th>\n",
       "      <td>3.0</td>\n",
       "      <td>6.0</td>\n",
       "    </tr>\n",
       "    <tr>\n",
       "      <th>two</th>\n",
       "      <td>3.0</td>\n",
       "      <td>7.0</td>\n",
       "    </tr>\n",
       "  </tbody>\n",
       "</table>\n",
       "</div>"
      ],
      "text/plain": [
       "                A    B\n",
       "first second          \n",
       "bar   one     1.0  0.0\n",
       "      two     1.0  1.0\n",
       "baz   one     NaN  2.0\n",
       "      two     1.0  3.0\n",
       "foo   one     2.0  4.0\n",
       "      two     2.0  NaN\n",
       "qux   one     3.0  6.0\n",
       "      two     3.0  7.0"
      ]
     },
     "execution_count": 779,
     "metadata": {},
     "output_type": "execute_result"
    }
   ],
   "source": [
    "df"
   ]
  },
  {
   "cell_type": "code",
   "execution_count": 780,
   "id": "17e1356f",
   "metadata": {},
   "outputs": [
    {
     "data": {
      "application/vnd.microsoft.datawrangler.viewer.v0+json": {
       "columns": [
        {
         "name": "first",
         "rawType": "object",
         "type": "string"
        },
        {
         "name": "A",
         "rawType": "float64",
         "type": "float"
        },
        {
         "name": "B",
         "rawType": "float64",
         "type": "float"
        }
       ],
       "ref": "e18f5626-4453-4844-b757-7ea9eabf0abe",
       "rows": [
        [
         "bar",
         "0.0",
         "0.7071067811865476"
        ],
        [
         "baz",
         null,
         "0.7071067811865476"
        ],
        [
         "foo",
         "0.0",
         null
        ],
        [
         "qux",
         "0.0",
         "0.7071067811865476"
        ]
       ],
       "shape": {
        "columns": 2,
        "rows": 4
       }
      },
      "text/html": [
       "<div>\n",
       "<style scoped>\n",
       "    .dataframe tbody tr th:only-of-type {\n",
       "        vertical-align: middle;\n",
       "    }\n",
       "\n",
       "    .dataframe tbody tr th {\n",
       "        vertical-align: top;\n",
       "    }\n",
       "\n",
       "    .dataframe thead th {\n",
       "        text-align: right;\n",
       "    }\n",
       "</style>\n",
       "<table border=\"1\" class=\"dataframe\">\n",
       "  <thead>\n",
       "    <tr style=\"text-align: right;\">\n",
       "      <th></th>\n",
       "      <th>A</th>\n",
       "      <th>B</th>\n",
       "    </tr>\n",
       "    <tr>\n",
       "      <th>first</th>\n",
       "      <th></th>\n",
       "      <th></th>\n",
       "    </tr>\n",
       "  </thead>\n",
       "  <tbody>\n",
       "    <tr>\n",
       "      <th>bar</th>\n",
       "      <td>0.0</td>\n",
       "      <td>0.707107</td>\n",
       "    </tr>\n",
       "    <tr>\n",
       "      <th>baz</th>\n",
       "      <td>NaN</td>\n",
       "      <td>0.707107</td>\n",
       "    </tr>\n",
       "    <tr>\n",
       "      <th>foo</th>\n",
       "      <td>0.0</td>\n",
       "      <td>NaN</td>\n",
       "    </tr>\n",
       "    <tr>\n",
       "      <th>qux</th>\n",
       "      <td>0.0</td>\n",
       "      <td>0.707107</td>\n",
       "    </tr>\n",
       "  </tbody>\n",
       "</table>\n",
       "</div>"
      ],
      "text/plain": [
       "         A         B\n",
       "first               \n",
       "bar    0.0  0.707107\n",
       "baz    NaN  0.707107\n",
       "foo    0.0       NaN\n",
       "qux    0.0  0.707107"
      ]
     },
     "execution_count": 780,
     "metadata": {},
     "output_type": "execute_result"
    }
   ],
   "source": [
    "df.groupby('first').std(numeric_only=True)"
   ]
  },
  {
   "cell_type": "code",
   "execution_count": 781,
   "id": "e15f5113",
   "metadata": {},
   "outputs": [],
   "source": [
    "from decimal import Decimal\n",
    "\n",
    "df_dec = pd.DataFrame(\n",
    "    {\n",
    "        \"id\": [1, 2, 1, 2],\n",
    "        \"int_column\": [1, 2, 3, 4],\n",
    "        \"dec_column\": [\n",
    "            Decimal(\"0.50\"),\n",
    "            Decimal(\"0.15\"),\n",
    "            Decimal(\"0.25\"),\n",
    "            Decimal(\"0.40\"),\n",
    "        ],\n",
    "    }\n",
    ")"
   ]
  },
  {
   "cell_type": "code",
   "execution_count": 782,
   "id": "9eb716ad",
   "metadata": {},
   "outputs": [
    {
     "data": {
      "application/vnd.microsoft.datawrangler.viewer.v0+json": {
       "columns": [
        {
         "name": "index",
         "rawType": "int64",
         "type": "integer"
        },
        {
         "name": "id",
         "rawType": "int64",
         "type": "integer"
        },
        {
         "name": "int_column",
         "rawType": "int64",
         "type": "integer"
        },
        {
         "name": "dec_column",
         "rawType": "object",
         "type": "unknown"
        }
       ],
       "ref": "06c4c694-a32e-4b02-960b-6e472b039c71",
       "rows": [
        [
         "0",
         "1",
         "1",
         "0.50"
        ],
        [
         "1",
         "2",
         "2",
         "0.15"
        ],
        [
         "2",
         "1",
         "3",
         "0.25"
        ],
        [
         "3",
         "2",
         "4",
         "0.40"
        ]
       ],
       "shape": {
        "columns": 3,
        "rows": 4
       }
      },
      "text/html": [
       "<div>\n",
       "<style scoped>\n",
       "    .dataframe tbody tr th:only-of-type {\n",
       "        vertical-align: middle;\n",
       "    }\n",
       "\n",
       "    .dataframe tbody tr th {\n",
       "        vertical-align: top;\n",
       "    }\n",
       "\n",
       "    .dataframe thead th {\n",
       "        text-align: right;\n",
       "    }\n",
       "</style>\n",
       "<table border=\"1\" class=\"dataframe\">\n",
       "  <thead>\n",
       "    <tr style=\"text-align: right;\">\n",
       "      <th></th>\n",
       "      <th>id</th>\n",
       "      <th>int_column</th>\n",
       "      <th>dec_column</th>\n",
       "    </tr>\n",
       "  </thead>\n",
       "  <tbody>\n",
       "    <tr>\n",
       "      <th>0</th>\n",
       "      <td>1</td>\n",
       "      <td>1</td>\n",
       "      <td>0.50</td>\n",
       "    </tr>\n",
       "    <tr>\n",
       "      <th>1</th>\n",
       "      <td>2</td>\n",
       "      <td>2</td>\n",
       "      <td>0.15</td>\n",
       "    </tr>\n",
       "    <tr>\n",
       "      <th>2</th>\n",
       "      <td>1</td>\n",
       "      <td>3</td>\n",
       "      <td>0.25</td>\n",
       "    </tr>\n",
       "    <tr>\n",
       "      <th>3</th>\n",
       "      <td>2</td>\n",
       "      <td>4</td>\n",
       "      <td>0.40</td>\n",
       "    </tr>\n",
       "  </tbody>\n",
       "</table>\n",
       "</div>"
      ],
      "text/plain": [
       "   id  int_column dec_column\n",
       "0   1           1       0.50\n",
       "1   2           2       0.15\n",
       "2   1           3       0.25\n",
       "3   2           4       0.40"
      ]
     },
     "execution_count": 782,
     "metadata": {},
     "output_type": "execute_result"
    }
   ],
   "source": [
    "df_dec"
   ]
  },
  {
   "cell_type": "code",
   "execution_count": 783,
   "id": "00dc3f92",
   "metadata": {},
   "outputs": [
    {
     "data": {
      "application/vnd.microsoft.datawrangler.viewer.v0+json": {
       "columns": [
        {
         "name": "id",
         "rawType": "int64",
         "type": "integer"
        },
        {
         "name": "dec_column",
         "rawType": "object",
         "type": "unknown"
        }
       ],
       "ref": "efb2d9d1-7dae-44ff-bfba-ab1eed611b6b",
       "rows": [
        [
         "1",
         "0.75"
        ],
        [
         "2",
         "0.55"
        ]
       ],
       "shape": {
        "columns": 1,
        "rows": 2
       }
      },
      "text/plain": [
       "id\n",
       "1    0.75\n",
       "2    0.55\n",
       "Name: dec_column, dtype: object"
      ]
     },
     "execution_count": 783,
     "metadata": {},
     "output_type": "execute_result"
    }
   ],
   "source": [
    "df_dec.groupby('id')['dec_column'].sum()"
   ]
  },
  {
   "cell_type": "code",
   "execution_count": 784,
   "id": "0fb8240e",
   "metadata": {},
   "outputs": [],
   "source": [
    "df = pd.DataFrame({\"key\": [1.0, 1.0, np.nan, 2.0, np.nan], \"A\": [1, 2, 3, 4, 5]})"
   ]
  },
  {
   "cell_type": "code",
   "execution_count": 785,
   "id": "31376927",
   "metadata": {},
   "outputs": [
    {
     "data": {
      "application/vnd.microsoft.datawrangler.viewer.v0+json": {
       "columns": [
        {
         "name": "index",
         "rawType": "int64",
         "type": "integer"
        },
        {
         "name": "key",
         "rawType": "float64",
         "type": "float"
        },
        {
         "name": "A",
         "rawType": "int64",
         "type": "integer"
        }
       ],
       "ref": "962dc140-7e32-4f3a-a5a9-4022f45ccc69",
       "rows": [
        [
         "0",
         "1.0",
         "1"
        ],
        [
         "1",
         "1.0",
         "2"
        ],
        [
         "2",
         null,
         "3"
        ],
        [
         "3",
         "2.0",
         "4"
        ],
        [
         "4",
         null,
         "5"
        ]
       ],
       "shape": {
        "columns": 2,
        "rows": 5
       }
      },
      "text/html": [
       "<div>\n",
       "<style scoped>\n",
       "    .dataframe tbody tr th:only-of-type {\n",
       "        vertical-align: middle;\n",
       "    }\n",
       "\n",
       "    .dataframe tbody tr th {\n",
       "        vertical-align: top;\n",
       "    }\n",
       "\n",
       "    .dataframe thead th {\n",
       "        text-align: right;\n",
       "    }\n",
       "</style>\n",
       "<table border=\"1\" class=\"dataframe\">\n",
       "  <thead>\n",
       "    <tr style=\"text-align: right;\">\n",
       "      <th></th>\n",
       "      <th>key</th>\n",
       "      <th>A</th>\n",
       "    </tr>\n",
       "  </thead>\n",
       "  <tbody>\n",
       "    <tr>\n",
       "      <th>0</th>\n",
       "      <td>1.0</td>\n",
       "      <td>1</td>\n",
       "    </tr>\n",
       "    <tr>\n",
       "      <th>1</th>\n",
       "      <td>1.0</td>\n",
       "      <td>2</td>\n",
       "    </tr>\n",
       "    <tr>\n",
       "      <th>2</th>\n",
       "      <td>NaN</td>\n",
       "      <td>3</td>\n",
       "    </tr>\n",
       "    <tr>\n",
       "      <th>3</th>\n",
       "      <td>2.0</td>\n",
       "      <td>4</td>\n",
       "    </tr>\n",
       "    <tr>\n",
       "      <th>4</th>\n",
       "      <td>NaN</td>\n",
       "      <td>5</td>\n",
       "    </tr>\n",
       "  </tbody>\n",
       "</table>\n",
       "</div>"
      ],
      "text/plain": [
       "   key  A\n",
       "0  1.0  1\n",
       "1  1.0  2\n",
       "2  NaN  3\n",
       "3  2.0  4\n",
       "4  NaN  5"
      ]
     },
     "execution_count": 785,
     "metadata": {},
     "output_type": "execute_result"
    }
   ],
   "source": [
    "df"
   ]
  },
  {
   "cell_type": "code",
   "execution_count": 786,
   "id": "560d26b2",
   "metadata": {},
   "outputs": [
    {
     "data": {
      "application/vnd.microsoft.datawrangler.viewer.v0+json": {
       "columns": [
        {
         "name": "key",
         "rawType": "float64",
         "type": "float"
        },
        {
         "name": "A",
         "rawType": "float64",
         "type": "float"
        }
       ],
       "ref": "a9df38b1-bfe2-4ded-86d4-3e06ab312270",
       "rows": [
        [
         "1.0",
         "1.5"
        ],
        [
         "2.0",
         "4.0"
        ],
        [
         null,
         "4.0"
        ]
       ],
       "shape": {
        "columns": 1,
        "rows": 3
       }
      },
      "text/html": [
       "<div>\n",
       "<style scoped>\n",
       "    .dataframe tbody tr th:only-of-type {\n",
       "        vertical-align: middle;\n",
       "    }\n",
       "\n",
       "    .dataframe tbody tr th {\n",
       "        vertical-align: top;\n",
       "    }\n",
       "\n",
       "    .dataframe thead th {\n",
       "        text-align: right;\n",
       "    }\n",
       "</style>\n",
       "<table border=\"1\" class=\"dataframe\">\n",
       "  <thead>\n",
       "    <tr style=\"text-align: right;\">\n",
       "      <th></th>\n",
       "      <th>A</th>\n",
       "    </tr>\n",
       "    <tr>\n",
       "      <th>key</th>\n",
       "      <th></th>\n",
       "    </tr>\n",
       "  </thead>\n",
       "  <tbody>\n",
       "    <tr>\n",
       "      <th>1.0</th>\n",
       "      <td>1.5</td>\n",
       "    </tr>\n",
       "    <tr>\n",
       "      <th>2.0</th>\n",
       "      <td>4.0</td>\n",
       "    </tr>\n",
       "    <tr>\n",
       "      <th>NaN</th>\n",
       "      <td>4.0</td>\n",
       "    </tr>\n",
       "  </tbody>\n",
       "</table>\n",
       "</div>"
      ],
      "text/plain": [
       "       A\n",
       "key     \n",
       "1.0  1.5\n",
       "2.0  4.0\n",
       "NaN  4.0"
      ]
     },
     "execution_count": 786,
     "metadata": {},
     "output_type": "execute_result"
    }
   ],
   "source": [
    "df.groupby('key', dropna=False).mean()"
   ]
  },
  {
   "cell_type": "code",
   "execution_count": 787,
   "id": "236c498a",
   "metadata": {},
   "outputs": [],
   "source": [
    "days = pd.Categorical(\n",
    "    values=[\"Wed\", \"Mon\", \"Thu\", \"Mon\", \"Wed\", \"Sat\"],\n",
    "    categories=[\"Mon\", \"Tue\", \"Wed\", \"Thu\", \"Fri\", \"Sat\", \"Sun\"],\n",
    ")\n",
    "\n",
    "\n",
    "data = pd.DataFrame(\n",
    "   {\n",
    "       \"day\": days,\n",
    "       \"workers\": [3, 4, 1, 4, 2, 2],\n",
    "   }\n",
    ")"
   ]
  },
  {
   "cell_type": "code",
   "execution_count": 788,
   "id": "081a516d",
   "metadata": {},
   "outputs": [
    {
     "name": "stdout",
     "output_type": "stream",
     "text": [
      "<class 'pandas.core.frame.DataFrame'>\n",
      "RangeIndex: 6 entries, 0 to 5\n",
      "Data columns (total 2 columns):\n",
      " #   Column   Non-Null Count  Dtype   \n",
      "---  ------   --------------  -----   \n",
      " 0   day      6 non-null      category\n",
      " 1   workers  6 non-null      int64   \n",
      "dtypes: category(1), int64(1)\n",
      "memory usage: 542.0 bytes\n"
     ]
    }
   ],
   "source": [
    "data.info()"
   ]
  },
  {
   "cell_type": "code",
   "execution_count": 789,
   "id": "8dc60d7b",
   "metadata": {},
   "outputs": [
    {
     "data": {
      "application/vnd.microsoft.datawrangler.viewer.v0+json": {
       "columns": [
        {
         "name": "index",
         "rawType": "int64",
         "type": "integer"
        },
        {
         "name": "day",
         "rawType": "category",
         "type": "unknown"
        },
        {
         "name": "workers",
         "rawType": "int64",
         "type": "integer"
        }
       ],
       "ref": "d9fc88ef-9720-4838-ac96-ddcf771dd529",
       "rows": [
        [
         "0",
         "Wed",
         "3"
        ],
        [
         "1",
         "Mon",
         "4"
        ],
        [
         "2",
         "Thu",
         "1"
        ],
        [
         "3",
         "Mon",
         "4"
        ],
        [
         "4",
         "Wed",
         "2"
        ],
        [
         "5",
         "Sat",
         "2"
        ]
       ],
       "shape": {
        "columns": 2,
        "rows": 6
       }
      },
      "text/html": [
       "<div>\n",
       "<style scoped>\n",
       "    .dataframe tbody tr th:only-of-type {\n",
       "        vertical-align: middle;\n",
       "    }\n",
       "\n",
       "    .dataframe tbody tr th {\n",
       "        vertical-align: top;\n",
       "    }\n",
       "\n",
       "    .dataframe thead th {\n",
       "        text-align: right;\n",
       "    }\n",
       "</style>\n",
       "<table border=\"1\" class=\"dataframe\">\n",
       "  <thead>\n",
       "    <tr style=\"text-align: right;\">\n",
       "      <th></th>\n",
       "      <th>day</th>\n",
       "      <th>workers</th>\n",
       "    </tr>\n",
       "  </thead>\n",
       "  <tbody>\n",
       "    <tr>\n",
       "      <th>0</th>\n",
       "      <td>Wed</td>\n",
       "      <td>3</td>\n",
       "    </tr>\n",
       "    <tr>\n",
       "      <th>1</th>\n",
       "      <td>Mon</td>\n",
       "      <td>4</td>\n",
       "    </tr>\n",
       "    <tr>\n",
       "      <th>2</th>\n",
       "      <td>Thu</td>\n",
       "      <td>1</td>\n",
       "    </tr>\n",
       "    <tr>\n",
       "      <th>3</th>\n",
       "      <td>Mon</td>\n",
       "      <td>4</td>\n",
       "    </tr>\n",
       "    <tr>\n",
       "      <th>4</th>\n",
       "      <td>Wed</td>\n",
       "      <td>2</td>\n",
       "    </tr>\n",
       "    <tr>\n",
       "      <th>5</th>\n",
       "      <td>Sat</td>\n",
       "      <td>2</td>\n",
       "    </tr>\n",
       "  </tbody>\n",
       "</table>\n",
       "</div>"
      ],
      "text/plain": [
       "   day  workers\n",
       "0  Wed        3\n",
       "1  Mon        4\n",
       "2  Thu        1\n",
       "3  Mon        4\n",
       "4  Wed        2\n",
       "5  Sat        2"
      ]
     },
     "execution_count": 789,
     "metadata": {},
     "output_type": "execute_result"
    }
   ],
   "source": [
    "data"
   ]
  },
  {
   "cell_type": "code",
   "execution_count": 790,
   "id": "9c59f5d9",
   "metadata": {},
   "outputs": [
    {
     "data": {
      "application/vnd.microsoft.datawrangler.viewer.v0+json": {
       "columns": [
        {
         "name": "day",
         "rawType": "category",
         "type": "unknown"
        },
        {
         "name": "workers",
         "rawType": "int64",
         "type": "integer"
        }
       ],
       "ref": "f6d3cd6e-838d-4bc0-bdb6-75513c13b38a",
       "rows": [
        [
         "Mon",
         "8"
        ],
        [
         "Tue",
         "0"
        ],
        [
         "Wed",
         "5"
        ],
        [
         "Thu",
         "1"
        ],
        [
         "Fri",
         "0"
        ],
        [
         "Sat",
         "2"
        ],
        [
         "Sun",
         "0"
        ]
       ],
       "shape": {
        "columns": 1,
        "rows": 7
       }
      },
      "text/html": [
       "<div>\n",
       "<style scoped>\n",
       "    .dataframe tbody tr th:only-of-type {\n",
       "        vertical-align: middle;\n",
       "    }\n",
       "\n",
       "    .dataframe tbody tr th {\n",
       "        vertical-align: top;\n",
       "    }\n",
       "\n",
       "    .dataframe thead th {\n",
       "        text-align: right;\n",
       "    }\n",
       "</style>\n",
       "<table border=\"1\" class=\"dataframe\">\n",
       "  <thead>\n",
       "    <tr style=\"text-align: right;\">\n",
       "      <th></th>\n",
       "      <th>workers</th>\n",
       "    </tr>\n",
       "    <tr>\n",
       "      <th>day</th>\n",
       "      <th></th>\n",
       "    </tr>\n",
       "  </thead>\n",
       "  <tbody>\n",
       "    <tr>\n",
       "      <th>Mon</th>\n",
       "      <td>8</td>\n",
       "    </tr>\n",
       "    <tr>\n",
       "      <th>Tue</th>\n",
       "      <td>0</td>\n",
       "    </tr>\n",
       "    <tr>\n",
       "      <th>Wed</th>\n",
       "      <td>5</td>\n",
       "    </tr>\n",
       "    <tr>\n",
       "      <th>Thu</th>\n",
       "      <td>1</td>\n",
       "    </tr>\n",
       "    <tr>\n",
       "      <th>Fri</th>\n",
       "      <td>0</td>\n",
       "    </tr>\n",
       "    <tr>\n",
       "      <th>Sat</th>\n",
       "      <td>2</td>\n",
       "    </tr>\n",
       "    <tr>\n",
       "      <th>Sun</th>\n",
       "      <td>0</td>\n",
       "    </tr>\n",
       "  </tbody>\n",
       "</table>\n",
       "</div>"
      ],
      "text/plain": [
       "     workers\n",
       "day         \n",
       "Mon        8\n",
       "Tue        0\n",
       "Wed        5\n",
       "Thu        1\n",
       "Fri        0\n",
       "Sat        2\n",
       "Sun        0"
      ]
     },
     "execution_count": 790,
     "metadata": {},
     "output_type": "execute_result"
    }
   ],
   "source": [
    "data.groupby('day', observed=False, sort=True).sum()"
   ]
  },
  {
   "cell_type": "code",
   "execution_count": 791,
   "id": "f42a6e56",
   "metadata": {},
   "outputs": [
    {
     "data": {
      "application/vnd.microsoft.datawrangler.viewer.v0+json": {
       "columns": [
        {
         "name": "index",
         "rawType": "int64",
         "type": "integer"
        },
        {
         "name": "Branch",
         "rawType": "object",
         "type": "string"
        },
        {
         "name": "Buyer",
         "rawType": "object",
         "type": "string"
        },
        {
         "name": "Quantity",
         "rawType": "int64",
         "type": "integer"
        },
        {
         "name": "Date",
         "rawType": "datetime64[ns]",
         "type": "datetime"
        }
       ],
       "ref": "ab9deb0a-db54-498e-882d-a141f9cd0d90",
       "rows": [
        [
         "0",
         "A",
         "Carl",
         "1",
         "2013-01-01 13:00:00"
        ],
        [
         "1",
         "A",
         "Mark",
         "3",
         "2013-01-01 13:05:00"
        ],
        [
         "2",
         "A",
         "Carl",
         "5",
         "2013-10-01 20:00:00"
        ],
        [
         "3",
         "A",
         "Carl",
         "1",
         "2013-10-02 10:00:00"
        ],
        [
         "4",
         "A",
         "Joe",
         "8",
         "2013-10-01 20:00:00"
        ],
        [
         "5",
         "A",
         "Joe",
         "1",
         "2013-10-02 10:00:00"
        ],
        [
         "6",
         "A",
         "Joe",
         "9",
         "2013-12-02 12:00:00"
        ],
        [
         "7",
         "B",
         "Carl",
         "3",
         "2013-12-02 14:00:00"
        ]
       ],
       "shape": {
        "columns": 4,
        "rows": 8
       }
      },
      "text/html": [
       "<div>\n",
       "<style scoped>\n",
       "    .dataframe tbody tr th:only-of-type {\n",
       "        vertical-align: middle;\n",
       "    }\n",
       "\n",
       "    .dataframe tbody tr th {\n",
       "        vertical-align: top;\n",
       "    }\n",
       "\n",
       "    .dataframe thead th {\n",
       "        text-align: right;\n",
       "    }\n",
       "</style>\n",
       "<table border=\"1\" class=\"dataframe\">\n",
       "  <thead>\n",
       "    <tr style=\"text-align: right;\">\n",
       "      <th></th>\n",
       "      <th>Branch</th>\n",
       "      <th>Buyer</th>\n",
       "      <th>Quantity</th>\n",
       "      <th>Date</th>\n",
       "    </tr>\n",
       "  </thead>\n",
       "  <tbody>\n",
       "    <tr>\n",
       "      <th>0</th>\n",
       "      <td>A</td>\n",
       "      <td>Carl</td>\n",
       "      <td>1</td>\n",
       "      <td>2013-01-01 13:00:00</td>\n",
       "    </tr>\n",
       "    <tr>\n",
       "      <th>1</th>\n",
       "      <td>A</td>\n",
       "      <td>Mark</td>\n",
       "      <td>3</td>\n",
       "      <td>2013-01-01 13:05:00</td>\n",
       "    </tr>\n",
       "    <tr>\n",
       "      <th>2</th>\n",
       "      <td>A</td>\n",
       "      <td>Carl</td>\n",
       "      <td>5</td>\n",
       "      <td>2013-10-01 20:00:00</td>\n",
       "    </tr>\n",
       "    <tr>\n",
       "      <th>3</th>\n",
       "      <td>A</td>\n",
       "      <td>Carl</td>\n",
       "      <td>1</td>\n",
       "      <td>2013-10-02 10:00:00</td>\n",
       "    </tr>\n",
       "    <tr>\n",
       "      <th>4</th>\n",
       "      <td>A</td>\n",
       "      <td>Joe</td>\n",
       "      <td>8</td>\n",
       "      <td>2013-10-01 20:00:00</td>\n",
       "    </tr>\n",
       "    <tr>\n",
       "      <th>5</th>\n",
       "      <td>A</td>\n",
       "      <td>Joe</td>\n",
       "      <td>1</td>\n",
       "      <td>2013-10-02 10:00:00</td>\n",
       "    </tr>\n",
       "    <tr>\n",
       "      <th>6</th>\n",
       "      <td>A</td>\n",
       "      <td>Joe</td>\n",
       "      <td>9</td>\n",
       "      <td>2013-12-02 12:00:00</td>\n",
       "    </tr>\n",
       "    <tr>\n",
       "      <th>7</th>\n",
       "      <td>B</td>\n",
       "      <td>Carl</td>\n",
       "      <td>3</td>\n",
       "      <td>2013-12-02 14:00:00</td>\n",
       "    </tr>\n",
       "  </tbody>\n",
       "</table>\n",
       "</div>"
      ],
      "text/plain": [
       "  Branch Buyer  Quantity                Date\n",
       "0      A  Carl         1 2013-01-01 13:00:00\n",
       "1      A  Mark         3 2013-01-01 13:05:00\n",
       "2      A  Carl         5 2013-10-01 20:00:00\n",
       "3      A  Carl         1 2013-10-02 10:00:00\n",
       "4      A   Joe         8 2013-10-01 20:00:00\n",
       "5      A   Joe         1 2013-10-02 10:00:00\n",
       "6      A   Joe         9 2013-12-02 12:00:00\n",
       "7      B  Carl         3 2013-12-02 14:00:00"
      ]
     },
     "execution_count": 791,
     "metadata": {},
     "output_type": "execute_result"
    }
   ],
   "source": [
    "import datetime\n",
    "\n",
    "df = pd.DataFrame(\n",
    "    {\n",
    "        \"Branch\": \"A A A A A A A B\".split(),\n",
    "        \"Buyer\": \"Carl Mark Carl Carl Joe Joe Joe Carl\".split(),\n",
    "        \"Quantity\": [1, 3, 5, 1, 8, 1, 9, 3],\n",
    "        \"Date\": [\n",
    "            datetime.datetime(2013, 1, 1, 13, 0),\n",
    "            datetime.datetime(2013, 1, 1, 13, 5),\n",
    "            datetime.datetime(2013, 10, 1, 20, 0),\n",
    "            datetime.datetime(2013, 10, 2, 10, 0),\n",
    "            datetime.datetime(2013, 10, 1, 20, 0),\n",
    "            datetime.datetime(2013, 10, 2, 10, 0),\n",
    "            datetime.datetime(2013, 12, 2, 12, 0),\n",
    "            datetime.datetime(2013, 12, 2, 14, 0),\n",
    "        ],\n",
    "    }\n",
    ")\n",
    "\n",
    "\n",
    "df"
   ]
  },
  {
   "cell_type": "code",
   "execution_count": 792,
   "id": "89c27b49",
   "metadata": {},
   "outputs": [
    {
     "data": {
      "application/vnd.microsoft.datawrangler.viewer.v0+json": {
       "columns": [
        {
         "name": "('Date', 'Buyer')",
         "rawType": "object",
         "type": "unknown"
        },
        {
         "name": "Quantity",
         "rawType": "int64",
         "type": "integer"
        }
       ],
       "ref": "3f2dcb4c-bfa5-445b-a46b-a520ed4061b9",
       "rows": [
        [
         "(Timestamp('2013-01-31 00:00:00'), 'Carl')",
         "1"
        ],
        [
         "(Timestamp('2013-01-31 00:00:00'), 'Mark')",
         "3"
        ],
        [
         "(Timestamp('2013-10-31 00:00:00'), 'Carl')",
         "6"
        ],
        [
         "(Timestamp('2013-10-31 00:00:00'), 'Joe')",
         "9"
        ],
        [
         "(Timestamp('2013-12-31 00:00:00'), 'Carl')",
         "3"
        ],
        [
         "(Timestamp('2013-12-31 00:00:00'), 'Joe')",
         "9"
        ]
       ],
       "shape": {
        "columns": 1,
        "rows": 6
       }
      },
      "text/html": [
       "<div>\n",
       "<style scoped>\n",
       "    .dataframe tbody tr th:only-of-type {\n",
       "        vertical-align: middle;\n",
       "    }\n",
       "\n",
       "    .dataframe tbody tr th {\n",
       "        vertical-align: top;\n",
       "    }\n",
       "\n",
       "    .dataframe thead th {\n",
       "        text-align: right;\n",
       "    }\n",
       "</style>\n",
       "<table border=\"1\" class=\"dataframe\">\n",
       "  <thead>\n",
       "    <tr style=\"text-align: right;\">\n",
       "      <th></th>\n",
       "      <th></th>\n",
       "      <th>Quantity</th>\n",
       "    </tr>\n",
       "    <tr>\n",
       "      <th>Date</th>\n",
       "      <th>Buyer</th>\n",
       "      <th></th>\n",
       "    </tr>\n",
       "  </thead>\n",
       "  <tbody>\n",
       "    <tr>\n",
       "      <th rowspan=\"2\" valign=\"top\">2013-01-31</th>\n",
       "      <th>Carl</th>\n",
       "      <td>1</td>\n",
       "    </tr>\n",
       "    <tr>\n",
       "      <th>Mark</th>\n",
       "      <td>3</td>\n",
       "    </tr>\n",
       "    <tr>\n",
       "      <th rowspan=\"2\" valign=\"top\">2013-10-31</th>\n",
       "      <th>Carl</th>\n",
       "      <td>6</td>\n",
       "    </tr>\n",
       "    <tr>\n",
       "      <th>Joe</th>\n",
       "      <td>9</td>\n",
       "    </tr>\n",
       "    <tr>\n",
       "      <th rowspan=\"2\" valign=\"top\">2013-12-31</th>\n",
       "      <th>Carl</th>\n",
       "      <td>3</td>\n",
       "    </tr>\n",
       "    <tr>\n",
       "      <th>Joe</th>\n",
       "      <td>9</td>\n",
       "    </tr>\n",
       "  </tbody>\n",
       "</table>\n",
       "</div>"
      ],
      "text/plain": [
       "                  Quantity\n",
       "Date       Buyer          \n",
       "2013-01-31 Carl          1\n",
       "           Mark          3\n",
       "2013-10-31 Carl          6\n",
       "           Joe           9\n",
       "2013-12-31 Carl          3\n",
       "           Joe           9"
      ]
     },
     "execution_count": 792,
     "metadata": {},
     "output_type": "execute_result"
    }
   ],
   "source": [
    "df.groupby([pd.Grouper(freq='1ME', key='Date'), 'Buyer'])[['Quantity']].sum()"
   ]
  },
  {
   "cell_type": "code",
   "execution_count": 793,
   "id": "559a48f0",
   "metadata": {},
   "outputs": [
    {
     "data": {
      "application/vnd.microsoft.datawrangler.viewer.v0+json": {
       "columns": [
        {
         "name": "Date",
         "rawType": "datetime64[ns]",
         "type": "datetime"
        },
        {
         "name": "Branch",
         "rawType": "object",
         "type": "string"
        },
        {
         "name": "Buyer",
         "rawType": "object",
         "type": "string"
        },
        {
         "name": "Quantity",
         "rawType": "int64",
         "type": "integer"
        }
       ],
       "ref": "e2af8fca-a260-4039-baf1-7cf952f76f16",
       "rows": [
        [
         "2013-01-01 13:00:00",
         "A",
         "Carl",
         "1"
        ],
        [
         "2013-01-01 13:05:00",
         "A",
         "Mark",
         "3"
        ],
        [
         "2013-10-01 20:00:00",
         "A",
         "Carl",
         "5"
        ],
        [
         "2013-10-02 10:00:00",
         "A",
         "Carl",
         "1"
        ],
        [
         "2013-10-01 20:00:00",
         "A",
         "Joe",
         "8"
        ],
        [
         "2013-10-02 10:00:00",
         "A",
         "Joe",
         "1"
        ],
        [
         "2013-12-02 12:00:00",
         "A",
         "Joe",
         "9"
        ],
        [
         "2013-12-02 14:00:00",
         "B",
         "Carl",
         "3"
        ]
       ],
       "shape": {
        "columns": 3,
        "rows": 8
       }
      },
      "text/html": [
       "<div>\n",
       "<style scoped>\n",
       "    .dataframe tbody tr th:only-of-type {\n",
       "        vertical-align: middle;\n",
       "    }\n",
       "\n",
       "    .dataframe tbody tr th {\n",
       "        vertical-align: top;\n",
       "    }\n",
       "\n",
       "    .dataframe thead th {\n",
       "        text-align: right;\n",
       "    }\n",
       "</style>\n",
       "<table border=\"1\" class=\"dataframe\">\n",
       "  <thead>\n",
       "    <tr style=\"text-align: right;\">\n",
       "      <th></th>\n",
       "      <th>Branch</th>\n",
       "      <th>Buyer</th>\n",
       "      <th>Quantity</th>\n",
       "    </tr>\n",
       "    <tr>\n",
       "      <th>Date</th>\n",
       "      <th></th>\n",
       "      <th></th>\n",
       "      <th></th>\n",
       "    </tr>\n",
       "  </thead>\n",
       "  <tbody>\n",
       "    <tr>\n",
       "      <th>2013-01-01 13:00:00</th>\n",
       "      <td>A</td>\n",
       "      <td>Carl</td>\n",
       "      <td>1</td>\n",
       "    </tr>\n",
       "    <tr>\n",
       "      <th>2013-01-01 13:05:00</th>\n",
       "      <td>A</td>\n",
       "      <td>Mark</td>\n",
       "      <td>3</td>\n",
       "    </tr>\n",
       "    <tr>\n",
       "      <th>2013-10-01 20:00:00</th>\n",
       "      <td>A</td>\n",
       "      <td>Carl</td>\n",
       "      <td>5</td>\n",
       "    </tr>\n",
       "    <tr>\n",
       "      <th>2013-10-02 10:00:00</th>\n",
       "      <td>A</td>\n",
       "      <td>Carl</td>\n",
       "      <td>1</td>\n",
       "    </tr>\n",
       "    <tr>\n",
       "      <th>2013-10-01 20:00:00</th>\n",
       "      <td>A</td>\n",
       "      <td>Joe</td>\n",
       "      <td>8</td>\n",
       "    </tr>\n",
       "    <tr>\n",
       "      <th>2013-10-02 10:00:00</th>\n",
       "      <td>A</td>\n",
       "      <td>Joe</td>\n",
       "      <td>1</td>\n",
       "    </tr>\n",
       "    <tr>\n",
       "      <th>2013-12-02 12:00:00</th>\n",
       "      <td>A</td>\n",
       "      <td>Joe</td>\n",
       "      <td>9</td>\n",
       "    </tr>\n",
       "    <tr>\n",
       "      <th>2013-12-02 14:00:00</th>\n",
       "      <td>B</td>\n",
       "      <td>Carl</td>\n",
       "      <td>3</td>\n",
       "    </tr>\n",
       "  </tbody>\n",
       "</table>\n",
       "</div>"
      ],
      "text/plain": [
       "                    Branch Buyer  Quantity\n",
       "Date                                      \n",
       "2013-01-01 13:00:00      A  Carl         1\n",
       "2013-01-01 13:05:00      A  Mark         3\n",
       "2013-10-01 20:00:00      A  Carl         5\n",
       "2013-10-02 10:00:00      A  Carl         1\n",
       "2013-10-01 20:00:00      A   Joe         8\n",
       "2013-10-02 10:00:00      A   Joe         1\n",
       "2013-12-02 12:00:00      A   Joe         9\n",
       "2013-12-02 14:00:00      B  Carl         3"
      ]
     },
     "execution_count": 793,
     "metadata": {},
     "output_type": "execute_result"
    }
   ],
   "source": [
    "df = df.set_index('Date')\n",
    "df"
   ]
  },
  {
   "cell_type": "code",
   "execution_count": 794,
   "id": "f6282b10",
   "metadata": {},
   "outputs": [
    {
     "data": {
      "application/vnd.microsoft.datawrangler.viewer.v0+json": {
       "columns": [
        {
         "name": "Date",
         "rawType": "datetime64[ns]",
         "type": "datetime"
        },
        {
         "name": "Branch",
         "rawType": "object",
         "type": "string"
        },
        {
         "name": "Buyer",
         "rawType": "object",
         "type": "string"
        },
        {
         "name": "Quantity",
         "rawType": "int64",
         "type": "integer"
        },
        {
         "name": "Date",
         "rawType": "datetime64[ns]",
         "type": "datetime"
        }
       ],
       "ref": "59ec7cea-08ef-4653-8d38-0678b07afdc8",
       "rows": [
        [
         "2013-01-01 13:00:00",
         "A",
         "Carl",
         "1",
         "2013-02-28 13:00:00"
        ],
        [
         "2013-01-01 13:05:00",
         "A",
         "Mark",
         "3",
         "2013-02-28 13:05:00"
        ],
        [
         "2013-10-01 20:00:00",
         "A",
         "Carl",
         "5",
         "2013-11-30 20:00:00"
        ],
        [
         "2013-10-02 10:00:00",
         "A",
         "Carl",
         "1",
         "2013-11-30 10:00:00"
        ],
        [
         "2013-10-01 20:00:00",
         "A",
         "Joe",
         "8",
         "2013-11-30 20:00:00"
        ],
        [
         "2013-10-02 10:00:00",
         "A",
         "Joe",
         "1",
         "2013-11-30 10:00:00"
        ],
        [
         "2013-12-02 12:00:00",
         "A",
         "Joe",
         "9",
         "2014-01-31 12:00:00"
        ],
        [
         "2013-12-02 14:00:00",
         "B",
         "Carl",
         "3",
         "2014-01-31 14:00:00"
        ]
       ],
       "shape": {
        "columns": 4,
        "rows": 8
       }
      },
      "text/html": [
       "<div>\n",
       "<style scoped>\n",
       "    .dataframe tbody tr th:only-of-type {\n",
       "        vertical-align: middle;\n",
       "    }\n",
       "\n",
       "    .dataframe tbody tr th {\n",
       "        vertical-align: top;\n",
       "    }\n",
       "\n",
       "    .dataframe thead th {\n",
       "        text-align: right;\n",
       "    }\n",
       "</style>\n",
       "<table border=\"1\" class=\"dataframe\">\n",
       "  <thead>\n",
       "    <tr style=\"text-align: right;\">\n",
       "      <th></th>\n",
       "      <th>Branch</th>\n",
       "      <th>Buyer</th>\n",
       "      <th>Quantity</th>\n",
       "      <th>Date</th>\n",
       "    </tr>\n",
       "    <tr>\n",
       "      <th>Date</th>\n",
       "      <th></th>\n",
       "      <th></th>\n",
       "      <th></th>\n",
       "      <th></th>\n",
       "    </tr>\n",
       "  </thead>\n",
       "  <tbody>\n",
       "    <tr>\n",
       "      <th>2013-01-01 13:00:00</th>\n",
       "      <td>A</td>\n",
       "      <td>Carl</td>\n",
       "      <td>1</td>\n",
       "      <td>2013-02-28 13:00:00</td>\n",
       "    </tr>\n",
       "    <tr>\n",
       "      <th>2013-01-01 13:05:00</th>\n",
       "      <td>A</td>\n",
       "      <td>Mark</td>\n",
       "      <td>3</td>\n",
       "      <td>2013-02-28 13:05:00</td>\n",
       "    </tr>\n",
       "    <tr>\n",
       "      <th>2013-10-01 20:00:00</th>\n",
       "      <td>A</td>\n",
       "      <td>Carl</td>\n",
       "      <td>5</td>\n",
       "      <td>2013-11-30 20:00:00</td>\n",
       "    </tr>\n",
       "    <tr>\n",
       "      <th>2013-10-02 10:00:00</th>\n",
       "      <td>A</td>\n",
       "      <td>Carl</td>\n",
       "      <td>1</td>\n",
       "      <td>2013-11-30 10:00:00</td>\n",
       "    </tr>\n",
       "    <tr>\n",
       "      <th>2013-10-01 20:00:00</th>\n",
       "      <td>A</td>\n",
       "      <td>Joe</td>\n",
       "      <td>8</td>\n",
       "      <td>2013-11-30 20:00:00</td>\n",
       "    </tr>\n",
       "    <tr>\n",
       "      <th>2013-10-02 10:00:00</th>\n",
       "      <td>A</td>\n",
       "      <td>Joe</td>\n",
       "      <td>1</td>\n",
       "      <td>2013-11-30 10:00:00</td>\n",
       "    </tr>\n",
       "    <tr>\n",
       "      <th>2013-12-02 12:00:00</th>\n",
       "      <td>A</td>\n",
       "      <td>Joe</td>\n",
       "      <td>9</td>\n",
       "      <td>2014-01-31 12:00:00</td>\n",
       "    </tr>\n",
       "    <tr>\n",
       "      <th>2013-12-02 14:00:00</th>\n",
       "      <td>B</td>\n",
       "      <td>Carl</td>\n",
       "      <td>3</td>\n",
       "      <td>2014-01-31 14:00:00</td>\n",
       "    </tr>\n",
       "  </tbody>\n",
       "</table>\n",
       "</div>"
      ],
      "text/plain": [
       "                    Branch Buyer  Quantity                Date\n",
       "Date                                                          \n",
       "2013-01-01 13:00:00      A  Carl         1 2013-02-28 13:00:00\n",
       "2013-01-01 13:05:00      A  Mark         3 2013-02-28 13:05:00\n",
       "2013-10-01 20:00:00      A  Carl         5 2013-11-30 20:00:00\n",
       "2013-10-02 10:00:00      A  Carl         1 2013-11-30 10:00:00\n",
       "2013-10-01 20:00:00      A   Joe         8 2013-11-30 20:00:00\n",
       "2013-10-02 10:00:00      A   Joe         1 2013-11-30 10:00:00\n",
       "2013-12-02 12:00:00      A   Joe         9 2014-01-31 12:00:00\n",
       "2013-12-02 14:00:00      B  Carl         3 2014-01-31 14:00:00"
      ]
     },
     "execution_count": 794,
     "metadata": {},
     "output_type": "execute_result"
    }
   ],
   "source": [
    "df['Date'] = df.index + pd.offsets.MonthEnd(2)\n",
    "df"
   ]
  },
  {
   "cell_type": "code",
   "execution_count": 795,
   "id": "5fe2f242",
   "metadata": {},
   "outputs": [
    {
     "data": {
      "application/vnd.microsoft.datawrangler.viewer.v0+json": {
       "columns": [
        {
         "name": "('Date', 'Buyer')",
         "rawType": "object",
         "type": "unknown"
        },
        {
         "name": "Quantity",
         "rawType": "int64",
         "type": "integer"
        }
       ],
       "ref": "55d332b1-57cb-42f0-a533-89ff37633e8d",
       "rows": [
        [
         "(Timestamp('2013-02-28 00:00:00'), 'Carl')",
         "1"
        ],
        [
         "(Timestamp('2013-02-28 00:00:00'), 'Mark')",
         "3"
        ],
        [
         "(Timestamp('2014-02-28 00:00:00'), 'Carl')",
         "9"
        ],
        [
         "(Timestamp('2014-02-28 00:00:00'), 'Joe')",
         "18"
        ]
       ],
       "shape": {
        "columns": 1,
        "rows": 4
       }
      },
      "text/html": [
       "<div>\n",
       "<style scoped>\n",
       "    .dataframe tbody tr th:only-of-type {\n",
       "        vertical-align: middle;\n",
       "    }\n",
       "\n",
       "    .dataframe tbody tr th {\n",
       "        vertical-align: top;\n",
       "    }\n",
       "\n",
       "    .dataframe thead th {\n",
       "        text-align: right;\n",
       "    }\n",
       "</style>\n",
       "<table border=\"1\" class=\"dataframe\">\n",
       "  <thead>\n",
       "    <tr style=\"text-align: right;\">\n",
       "      <th></th>\n",
       "      <th></th>\n",
       "      <th>Quantity</th>\n",
       "    </tr>\n",
       "    <tr>\n",
       "      <th>Date</th>\n",
       "      <th>Buyer</th>\n",
       "      <th></th>\n",
       "    </tr>\n",
       "  </thead>\n",
       "  <tbody>\n",
       "    <tr>\n",
       "      <th rowspan=\"2\" valign=\"top\">2013-02-28</th>\n",
       "      <th>Carl</th>\n",
       "      <td>1</td>\n",
       "    </tr>\n",
       "    <tr>\n",
       "      <th>Mark</th>\n",
       "      <td>3</td>\n",
       "    </tr>\n",
       "    <tr>\n",
       "      <th rowspan=\"2\" valign=\"top\">2014-02-28</th>\n",
       "      <th>Carl</th>\n",
       "      <td>9</td>\n",
       "    </tr>\n",
       "    <tr>\n",
       "      <th>Joe</th>\n",
       "      <td>18</td>\n",
       "    </tr>\n",
       "  </tbody>\n",
       "</table>\n",
       "</div>"
      ],
      "text/plain": [
       "                  Quantity\n",
       "Date       Buyer          \n",
       "2013-02-28 Carl          1\n",
       "           Mark          3\n",
       "2014-02-28 Carl          9\n",
       "           Joe          18"
      ]
     },
     "execution_count": 795,
     "metadata": {},
     "output_type": "execute_result"
    }
   ],
   "source": [
    "df.groupby([pd.Grouper(freq='6ME', key='Date'), 'Buyer'])[['Quantity']].sum()"
   ]
  },
  {
   "cell_type": "code",
   "execution_count": 796,
   "id": "eaf0690f",
   "metadata": {},
   "outputs": [
    {
     "data": {
      "application/vnd.microsoft.datawrangler.viewer.v0+json": {
       "columns": [
        {
         "name": "('Date', 'Buyer')",
         "rawType": "object",
         "type": "unknown"
        },
        {
         "name": "Quantity",
         "rawType": "int64",
         "type": "integer"
        }
       ],
       "ref": "2ae9ddba-144e-44f3-89f9-dbbbcc00ace9",
       "rows": [
        [
         "(Timestamp('2013-01-31 00:00:00'), 'Carl')",
         "1"
        ],
        [
         "(Timestamp('2013-01-31 00:00:00'), 'Mark')",
         "3"
        ],
        [
         "(Timestamp('2014-01-31 00:00:00'), 'Carl')",
         "9"
        ],
        [
         "(Timestamp('2014-01-31 00:00:00'), 'Joe')",
         "18"
        ]
       ],
       "shape": {
        "columns": 1,
        "rows": 4
       }
      },
      "text/html": [
       "<div>\n",
       "<style scoped>\n",
       "    .dataframe tbody tr th:only-of-type {\n",
       "        vertical-align: middle;\n",
       "    }\n",
       "\n",
       "    .dataframe tbody tr th {\n",
       "        vertical-align: top;\n",
       "    }\n",
       "\n",
       "    .dataframe thead th {\n",
       "        text-align: right;\n",
       "    }\n",
       "</style>\n",
       "<table border=\"1\" class=\"dataframe\">\n",
       "  <thead>\n",
       "    <tr style=\"text-align: right;\">\n",
       "      <th></th>\n",
       "      <th></th>\n",
       "      <th>Quantity</th>\n",
       "    </tr>\n",
       "    <tr>\n",
       "      <th>Date</th>\n",
       "      <th>Buyer</th>\n",
       "      <th></th>\n",
       "    </tr>\n",
       "  </thead>\n",
       "  <tbody>\n",
       "    <tr>\n",
       "      <th rowspan=\"2\" valign=\"top\">2013-01-31</th>\n",
       "      <th>Carl</th>\n",
       "      <td>1</td>\n",
       "    </tr>\n",
       "    <tr>\n",
       "      <th>Mark</th>\n",
       "      <td>3</td>\n",
       "    </tr>\n",
       "    <tr>\n",
       "      <th rowspan=\"2\" valign=\"top\">2014-01-31</th>\n",
       "      <th>Carl</th>\n",
       "      <td>9</td>\n",
       "    </tr>\n",
       "    <tr>\n",
       "      <th>Joe</th>\n",
       "      <td>18</td>\n",
       "    </tr>\n",
       "  </tbody>\n",
       "</table>\n",
       "</div>"
      ],
      "text/plain": [
       "                  Quantity\n",
       "Date       Buyer          \n",
       "2013-01-31 Carl          1\n",
       "           Mark          3\n",
       "2014-01-31 Carl          9\n",
       "           Joe          18"
      ]
     },
     "execution_count": 796,
     "metadata": {},
     "output_type": "execute_result"
    }
   ],
   "source": [
    "df.groupby([pd.Grouper(freq='6ME', level='Date'), 'Buyer'])[['Quantity']].sum()"
   ]
  },
  {
   "cell_type": "code",
   "execution_count": 797,
   "id": "79a960e8",
   "metadata": {},
   "outputs": [
    {
     "data": {
      "application/vnd.microsoft.datawrangler.viewer.v0+json": {
       "columns": [
        {
         "name": "index",
         "rawType": "int64",
         "type": "integer"
        },
        {
         "name": "A",
         "rawType": "int64",
         "type": "integer"
        },
        {
         "name": "B",
         "rawType": "float64",
         "type": "float"
        }
       ],
       "ref": "09aaa4f3-8023-4302-ba33-7bdbfbd2248c",
       "rows": [
        [
         "0",
         "1",
         null
        ],
        [
         "1",
         "1",
         "4.0"
        ],
        [
         "2",
         "5",
         "6.0"
        ]
       ],
       "shape": {
        "columns": 2,
        "rows": 3
       }
      },
      "text/html": [
       "<div>\n",
       "<style scoped>\n",
       "    .dataframe tbody tr th:only-of-type {\n",
       "        vertical-align: middle;\n",
       "    }\n",
       "\n",
       "    .dataframe tbody tr th {\n",
       "        vertical-align: top;\n",
       "    }\n",
       "\n",
       "    .dataframe thead th {\n",
       "        text-align: right;\n",
       "    }\n",
       "</style>\n",
       "<table border=\"1\" class=\"dataframe\">\n",
       "  <thead>\n",
       "    <tr style=\"text-align: right;\">\n",
       "      <th></th>\n",
       "      <th>A</th>\n",
       "      <th>B</th>\n",
       "    </tr>\n",
       "  </thead>\n",
       "  <tbody>\n",
       "    <tr>\n",
       "      <th>0</th>\n",
       "      <td>1</td>\n",
       "      <td>NaN</td>\n",
       "    </tr>\n",
       "    <tr>\n",
       "      <th>1</th>\n",
       "      <td>1</td>\n",
       "      <td>4.0</td>\n",
       "    </tr>\n",
       "    <tr>\n",
       "      <th>2</th>\n",
       "      <td>5</td>\n",
       "      <td>6.0</td>\n",
       "    </tr>\n",
       "  </tbody>\n",
       "</table>\n",
       "</div>"
      ],
      "text/plain": [
       "   A    B\n",
       "0  1  NaN\n",
       "1  1  4.0\n",
       "2  5  6.0"
      ]
     },
     "execution_count": 797,
     "metadata": {},
     "output_type": "execute_result"
    }
   ],
   "source": [
    "df = pd.DataFrame([[1, np.nan], [1, 4], [5, 6]], columns=[\"A\", \"B\"])\n",
    "df"
   ]
  },
  {
   "cell_type": "code",
   "execution_count": 798,
   "id": "94c7741d",
   "metadata": {},
   "outputs": [
    {
     "data": {
      "application/vnd.microsoft.datawrangler.viewer.v0+json": {
       "columns": [
        {
         "name": "index",
         "rawType": "int64",
         "type": "integer"
        },
        {
         "name": "A",
         "rawType": "int64",
         "type": "integer"
        },
        {
         "name": "B",
         "rawType": "float64",
         "type": "float"
        }
       ],
       "ref": "2e4f8eb7-9a02-4d1a-bad4-e8fa7d9eadc0",
       "rows": [
        [
         "1",
         "1",
         "4.0"
        ],
        [
         "2",
         "5",
         "6.0"
        ]
       ],
       "shape": {
        "columns": 2,
        "rows": 2
       }
      },
      "text/html": [
       "<div>\n",
       "<style scoped>\n",
       "    .dataframe tbody tr th:only-of-type {\n",
       "        vertical-align: middle;\n",
       "    }\n",
       "\n",
       "    .dataframe tbody tr th {\n",
       "        vertical-align: top;\n",
       "    }\n",
       "\n",
       "    .dataframe thead th {\n",
       "        text-align: right;\n",
       "    }\n",
       "</style>\n",
       "<table border=\"1\" class=\"dataframe\">\n",
       "  <thead>\n",
       "    <tr style=\"text-align: right;\">\n",
       "      <th></th>\n",
       "      <th>A</th>\n",
       "      <th>B</th>\n",
       "    </tr>\n",
       "  </thead>\n",
       "  <tbody>\n",
       "    <tr>\n",
       "      <th>1</th>\n",
       "      <td>1</td>\n",
       "      <td>4.0</td>\n",
       "    </tr>\n",
       "    <tr>\n",
       "      <th>2</th>\n",
       "      <td>5</td>\n",
       "      <td>6.0</td>\n",
       "    </tr>\n",
       "  </tbody>\n",
       "</table>\n",
       "</div>"
      ],
      "text/plain": [
       "   A    B\n",
       "1  1  4.0\n",
       "2  5  6.0"
      ]
     },
     "execution_count": 798,
     "metadata": {},
     "output_type": "execute_result"
    }
   ],
   "source": [
    "df.groupby('A').nth(-1)"
   ]
  },
  {
   "cell_type": "code",
   "execution_count": 799,
   "id": "27839e73",
   "metadata": {},
   "outputs": [
    {
     "data": {
      "application/vnd.microsoft.datawrangler.viewer.v0+json": {
       "columns": [
        {
         "name": "index",
         "rawType": "datetime64[ns]",
         "type": "datetime"
        },
        {
         "name": "a",
         "rawType": "int64",
         "type": "integer"
        },
        {
         "name": "b",
         "rawType": "int64",
         "type": "integer"
        }
       ],
       "ref": "e8ba66ef-c8bb-4073-99d6-306bf37d8616",
       "rows": [
        [
         "2014-04-01 00:00:00",
         "1",
         "1"
        ],
        [
         "2014-04-02 00:00:00",
         "1",
         "1"
        ],
        [
         "2014-04-03 00:00:00",
         "1",
         "1"
        ],
        [
         "2014-04-04 00:00:00",
         "1",
         "1"
        ],
        [
         "2014-04-07 00:00:00",
         "1",
         "1"
        ],
        [
         "2014-04-08 00:00:00",
         "1",
         "1"
        ],
        [
         "2014-04-09 00:00:00",
         "1",
         "1"
        ],
        [
         "2014-04-10 00:00:00",
         "1",
         "1"
        ],
        [
         "2014-04-11 00:00:00",
         "1",
         "1"
        ],
        [
         "2014-04-14 00:00:00",
         "1",
         "1"
        ],
        [
         "2014-04-15 00:00:00",
         "1",
         "1"
        ],
        [
         "2014-04-16 00:00:00",
         "1",
         "1"
        ],
        [
         "2014-04-17 00:00:00",
         "1",
         "1"
        ],
        [
         "2014-04-18 00:00:00",
         "1",
         "1"
        ],
        [
         "2014-04-21 00:00:00",
         "1",
         "1"
        ],
        [
         "2014-04-22 00:00:00",
         "1",
         "1"
        ],
        [
         "2014-04-23 00:00:00",
         "1",
         "1"
        ],
        [
         "2014-04-24 00:00:00",
         "1",
         "1"
        ],
        [
         "2014-04-25 00:00:00",
         "1",
         "1"
        ],
        [
         "2014-04-28 00:00:00",
         "1",
         "1"
        ],
        [
         "2014-04-29 00:00:00",
         "1",
         "1"
        ],
        [
         "2014-04-30 00:00:00",
         "1",
         "1"
        ],
        [
         "2014-05-01 00:00:00",
         "1",
         "1"
        ],
        [
         "2014-05-02 00:00:00",
         "1",
         "1"
        ],
        [
         "2014-05-05 00:00:00",
         "1",
         "1"
        ],
        [
         "2014-05-06 00:00:00",
         "1",
         "1"
        ],
        [
         "2014-05-07 00:00:00",
         "1",
         "1"
        ],
        [
         "2014-05-08 00:00:00",
         "1",
         "1"
        ],
        [
         "2014-05-09 00:00:00",
         "1",
         "1"
        ],
        [
         "2014-05-12 00:00:00",
         "1",
         "1"
        ],
        [
         "2014-05-13 00:00:00",
         "1",
         "1"
        ],
        [
         "2014-05-14 00:00:00",
         "1",
         "1"
        ],
        [
         "2014-05-15 00:00:00",
         "1",
         "1"
        ],
        [
         "2014-05-16 00:00:00",
         "1",
         "1"
        ],
        [
         "2014-05-19 00:00:00",
         "1",
         "1"
        ],
        [
         "2014-05-20 00:00:00",
         "1",
         "1"
        ],
        [
         "2014-05-21 00:00:00",
         "1",
         "1"
        ],
        [
         "2014-05-22 00:00:00",
         "1",
         "1"
        ],
        [
         "2014-05-23 00:00:00",
         "1",
         "1"
        ],
        [
         "2014-05-26 00:00:00",
         "1",
         "1"
        ],
        [
         "2014-05-27 00:00:00",
         "1",
         "1"
        ],
        [
         "2014-05-28 00:00:00",
         "1",
         "1"
        ],
        [
         "2014-05-29 00:00:00",
         "1",
         "1"
        ],
        [
         "2014-05-30 00:00:00",
         "1",
         "1"
        ],
        [
         "2014-06-02 00:00:00",
         "1",
         "1"
        ],
        [
         "2014-06-03 00:00:00",
         "1",
         "1"
        ],
        [
         "2014-06-04 00:00:00",
         "1",
         "1"
        ],
        [
         "2014-06-05 00:00:00",
         "1",
         "1"
        ],
        [
         "2014-06-06 00:00:00",
         "1",
         "1"
        ],
        [
         "2014-06-09 00:00:00",
         "1",
         "1"
        ]
       ],
       "shape": {
        "columns": 2,
        "rows": 65
       }
      },
      "text/html": [
       "<div>\n",
       "<style scoped>\n",
       "    .dataframe tbody tr th:only-of-type {\n",
       "        vertical-align: middle;\n",
       "    }\n",
       "\n",
       "    .dataframe tbody tr th {\n",
       "        vertical-align: top;\n",
       "    }\n",
       "\n",
       "    .dataframe thead th {\n",
       "        text-align: right;\n",
       "    }\n",
       "</style>\n",
       "<table border=\"1\" class=\"dataframe\">\n",
       "  <thead>\n",
       "    <tr style=\"text-align: right;\">\n",
       "      <th></th>\n",
       "      <th>a</th>\n",
       "      <th>b</th>\n",
       "    </tr>\n",
       "  </thead>\n",
       "  <tbody>\n",
       "    <tr>\n",
       "      <th>2014-04-01</th>\n",
       "      <td>1</td>\n",
       "      <td>1</td>\n",
       "    </tr>\n",
       "    <tr>\n",
       "      <th>2014-04-02</th>\n",
       "      <td>1</td>\n",
       "      <td>1</td>\n",
       "    </tr>\n",
       "    <tr>\n",
       "      <th>2014-04-03</th>\n",
       "      <td>1</td>\n",
       "      <td>1</td>\n",
       "    </tr>\n",
       "    <tr>\n",
       "      <th>2014-04-04</th>\n",
       "      <td>1</td>\n",
       "      <td>1</td>\n",
       "    </tr>\n",
       "    <tr>\n",
       "      <th>2014-04-07</th>\n",
       "      <td>1</td>\n",
       "      <td>1</td>\n",
       "    </tr>\n",
       "    <tr>\n",
       "      <th>...</th>\n",
       "      <td>...</td>\n",
       "      <td>...</td>\n",
       "    </tr>\n",
       "    <tr>\n",
       "      <th>2014-06-24</th>\n",
       "      <td>1</td>\n",
       "      <td>1</td>\n",
       "    </tr>\n",
       "    <tr>\n",
       "      <th>2014-06-25</th>\n",
       "      <td>1</td>\n",
       "      <td>1</td>\n",
       "    </tr>\n",
       "    <tr>\n",
       "      <th>2014-06-26</th>\n",
       "      <td>1</td>\n",
       "      <td>1</td>\n",
       "    </tr>\n",
       "    <tr>\n",
       "      <th>2014-06-27</th>\n",
       "      <td>1</td>\n",
       "      <td>1</td>\n",
       "    </tr>\n",
       "    <tr>\n",
       "      <th>2014-06-30</th>\n",
       "      <td>1</td>\n",
       "      <td>1</td>\n",
       "    </tr>\n",
       "  </tbody>\n",
       "</table>\n",
       "<p>65 rows × 2 columns</p>\n",
       "</div>"
      ],
      "text/plain": [
       "            a  b\n",
       "2014-04-01  1  1\n",
       "2014-04-02  1  1\n",
       "2014-04-03  1  1\n",
       "2014-04-04  1  1\n",
       "2014-04-07  1  1\n",
       "...        .. ..\n",
       "2014-06-24  1  1\n",
       "2014-06-25  1  1\n",
       "2014-06-26  1  1\n",
       "2014-06-27  1  1\n",
       "2014-06-30  1  1\n",
       "\n",
       "[65 rows x 2 columns]"
      ]
     },
     "execution_count": 799,
     "metadata": {},
     "output_type": "execute_result"
    }
   ],
   "source": [
    "business_dates = pd.date_range(start=\"4/1/2014\", end=\"6/30/2014\", freq=\"B\")\n",
    "\n",
    "df = pd.DataFrame(1, index=business_dates, columns=[\"a\", \"b\"])\n",
    "df"
   ]
  },
  {
   "cell_type": "code",
   "execution_count": 800,
   "id": "40b1b5d9",
   "metadata": {},
   "outputs": [
    {
     "data": {
      "application/vnd.microsoft.datawrangler.viewer.v0+json": {
       "columns": [
        {
         "name": "index",
         "rawType": "datetime64[ns]",
         "type": "datetime"
        },
        {
         "name": "a",
         "rawType": "int64",
         "type": "integer"
        },
        {
         "name": "b",
         "rawType": "int64",
         "type": "integer"
        }
       ],
       "ref": "f010be12-86e3-479e-985f-a034b7aa1ff7",
       "rows": [
        [
         "2014-04-01 00:00:00",
         "1",
         "1"
        ],
        [
         "2014-04-04 00:00:00",
         "1",
         "1"
        ],
        [
         "2014-04-30 00:00:00",
         "1",
         "1"
        ],
        [
         "2014-05-01 00:00:00",
         "1",
         "1"
        ],
        [
         "2014-05-06 00:00:00",
         "1",
         "1"
        ],
        [
         "2014-05-30 00:00:00",
         "1",
         "1"
        ],
        [
         "2014-06-02 00:00:00",
         "1",
         "1"
        ],
        [
         "2014-06-05 00:00:00",
         "1",
         "1"
        ],
        [
         "2014-06-30 00:00:00",
         "1",
         "1"
        ]
       ],
       "shape": {
        "columns": 2,
        "rows": 9
       }
      },
      "text/html": [
       "<div>\n",
       "<style scoped>\n",
       "    .dataframe tbody tr th:only-of-type {\n",
       "        vertical-align: middle;\n",
       "    }\n",
       "\n",
       "    .dataframe tbody tr th {\n",
       "        vertical-align: top;\n",
       "    }\n",
       "\n",
       "    .dataframe thead th {\n",
       "        text-align: right;\n",
       "    }\n",
       "</style>\n",
       "<table border=\"1\" class=\"dataframe\">\n",
       "  <thead>\n",
       "    <tr style=\"text-align: right;\">\n",
       "      <th></th>\n",
       "      <th>a</th>\n",
       "      <th>b</th>\n",
       "    </tr>\n",
       "  </thead>\n",
       "  <tbody>\n",
       "    <tr>\n",
       "      <th>2014-04-01</th>\n",
       "      <td>1</td>\n",
       "      <td>1</td>\n",
       "    </tr>\n",
       "    <tr>\n",
       "      <th>2014-04-04</th>\n",
       "      <td>1</td>\n",
       "      <td>1</td>\n",
       "    </tr>\n",
       "    <tr>\n",
       "      <th>2014-04-30</th>\n",
       "      <td>1</td>\n",
       "      <td>1</td>\n",
       "    </tr>\n",
       "    <tr>\n",
       "      <th>2014-05-01</th>\n",
       "      <td>1</td>\n",
       "      <td>1</td>\n",
       "    </tr>\n",
       "    <tr>\n",
       "      <th>2014-05-06</th>\n",
       "      <td>1</td>\n",
       "      <td>1</td>\n",
       "    </tr>\n",
       "    <tr>\n",
       "      <th>2014-05-30</th>\n",
       "      <td>1</td>\n",
       "      <td>1</td>\n",
       "    </tr>\n",
       "    <tr>\n",
       "      <th>2014-06-02</th>\n",
       "      <td>1</td>\n",
       "      <td>1</td>\n",
       "    </tr>\n",
       "    <tr>\n",
       "      <th>2014-06-05</th>\n",
       "      <td>1</td>\n",
       "      <td>1</td>\n",
       "    </tr>\n",
       "    <tr>\n",
       "      <th>2014-06-30</th>\n",
       "      <td>1</td>\n",
       "      <td>1</td>\n",
       "    </tr>\n",
       "  </tbody>\n",
       "</table>\n",
       "</div>"
      ],
      "text/plain": [
       "            a  b\n",
       "2014-04-01  1  1\n",
       "2014-04-04  1  1\n",
       "2014-04-30  1  1\n",
       "2014-05-01  1  1\n",
       "2014-05-06  1  1\n",
       "2014-05-30  1  1\n",
       "2014-06-02  1  1\n",
       "2014-06-05  1  1\n",
       "2014-06-30  1  1"
      ]
     },
     "execution_count": 800,
     "metadata": {},
     "output_type": "execute_result"
    }
   ],
   "source": [
    "df.groupby([df.index.year, df.index.month]).nth([0, 3, -1])"
   ]
  },
  {
   "cell_type": "code",
   "execution_count": 801,
   "id": "dd377378",
   "metadata": {},
   "outputs": [
    {
     "data": {
      "application/vnd.microsoft.datawrangler.viewer.v0+json": {
       "columns": [
        {
         "name": "index",
         "rawType": "int64",
         "type": "integer"
        },
        {
         "name": "A",
         "rawType": "object",
         "type": "string"
        }
       ],
       "ref": "f6532f56-942a-495e-86a9-bb5dbd25e7be",
       "rows": [
        [
         "0",
         "a"
        ],
        [
         "1",
         "a"
        ],
        [
         "2",
         "a"
        ],
        [
         "3",
         "b"
        ],
        [
         "4",
         "b"
        ],
        [
         "5",
         "a"
        ]
       ],
       "shape": {
        "columns": 1,
        "rows": 6
       }
      },
      "text/html": [
       "<div>\n",
       "<style scoped>\n",
       "    .dataframe tbody tr th:only-of-type {\n",
       "        vertical-align: middle;\n",
       "    }\n",
       "\n",
       "    .dataframe tbody tr th {\n",
       "        vertical-align: top;\n",
       "    }\n",
       "\n",
       "    .dataframe thead th {\n",
       "        text-align: right;\n",
       "    }\n",
       "</style>\n",
       "<table border=\"1\" class=\"dataframe\">\n",
       "  <thead>\n",
       "    <tr style=\"text-align: right;\">\n",
       "      <th></th>\n",
       "      <th>A</th>\n",
       "    </tr>\n",
       "  </thead>\n",
       "  <tbody>\n",
       "    <tr>\n",
       "      <th>0</th>\n",
       "      <td>a</td>\n",
       "    </tr>\n",
       "    <tr>\n",
       "      <th>1</th>\n",
       "      <td>a</td>\n",
       "    </tr>\n",
       "    <tr>\n",
       "      <th>2</th>\n",
       "      <td>a</td>\n",
       "    </tr>\n",
       "    <tr>\n",
       "      <th>3</th>\n",
       "      <td>b</td>\n",
       "    </tr>\n",
       "    <tr>\n",
       "      <th>4</th>\n",
       "      <td>b</td>\n",
       "    </tr>\n",
       "    <tr>\n",
       "      <th>5</th>\n",
       "      <td>a</td>\n",
       "    </tr>\n",
       "  </tbody>\n",
       "</table>\n",
       "</div>"
      ],
      "text/plain": [
       "   A\n",
       "0  a\n",
       "1  a\n",
       "2  a\n",
       "3  b\n",
       "4  b\n",
       "5  a"
      ]
     },
     "execution_count": 801,
     "metadata": {},
     "output_type": "execute_result"
    }
   ],
   "source": [
    "dfg = pd.DataFrame(list(\"aaabba\"), columns=[\"A\"])\n",
    "dfg"
   ]
  },
  {
   "cell_type": "code",
   "execution_count": 802,
   "id": "d8bcfd61",
   "metadata": {},
   "outputs": [
    {
     "data": {
      "application/vnd.microsoft.datawrangler.viewer.v0+json": {
       "columns": [
        {
         "name": "index",
         "rawType": "int64",
         "type": "integer"
        },
        {
         "name": "A",
         "rawType": "object",
         "type": "string"
        },
        {
         "name": "idx",
         "rawType": "int64",
         "type": "integer"
        }
       ],
       "ref": "b9b822b5-1366-4aed-bf30-41ddaf56d39b",
       "rows": [
        [
         "0",
         "a",
         "3"
        ],
        [
         "1",
         "a",
         "2"
        ],
        [
         "2",
         "a",
         "1"
        ],
        [
         "3",
         "b",
         "1"
        ],
        [
         "4",
         "b",
         "0"
        ],
        [
         "5",
         "a",
         "0"
        ]
       ],
       "shape": {
        "columns": 2,
        "rows": 6
       }
      },
      "text/html": [
       "<div>\n",
       "<style scoped>\n",
       "    .dataframe tbody tr th:only-of-type {\n",
       "        vertical-align: middle;\n",
       "    }\n",
       "\n",
       "    .dataframe tbody tr th {\n",
       "        vertical-align: top;\n",
       "    }\n",
       "\n",
       "    .dataframe thead th {\n",
       "        text-align: right;\n",
       "    }\n",
       "</style>\n",
       "<table border=\"1\" class=\"dataframe\">\n",
       "  <thead>\n",
       "    <tr style=\"text-align: right;\">\n",
       "      <th></th>\n",
       "      <th>A</th>\n",
       "      <th>idx</th>\n",
       "    </tr>\n",
       "  </thead>\n",
       "  <tbody>\n",
       "    <tr>\n",
       "      <th>0</th>\n",
       "      <td>a</td>\n",
       "      <td>3</td>\n",
       "    </tr>\n",
       "    <tr>\n",
       "      <th>1</th>\n",
       "      <td>a</td>\n",
       "      <td>2</td>\n",
       "    </tr>\n",
       "    <tr>\n",
       "      <th>2</th>\n",
       "      <td>a</td>\n",
       "      <td>1</td>\n",
       "    </tr>\n",
       "    <tr>\n",
       "      <th>3</th>\n",
       "      <td>b</td>\n",
       "      <td>1</td>\n",
       "    </tr>\n",
       "    <tr>\n",
       "      <th>4</th>\n",
       "      <td>b</td>\n",
       "      <td>0</td>\n",
       "    </tr>\n",
       "    <tr>\n",
       "      <th>5</th>\n",
       "      <td>a</td>\n",
       "      <td>0</td>\n",
       "    </tr>\n",
       "  </tbody>\n",
       "</table>\n",
       "</div>"
      ],
      "text/plain": [
       "   A  idx\n",
       "0  a    3\n",
       "1  a    2\n",
       "2  a    1\n",
       "3  b    1\n",
       "4  b    0\n",
       "5  a    0"
      ]
     },
     "execution_count": 802,
     "metadata": {},
     "output_type": "execute_result"
    }
   ],
   "source": [
    "dfg['idx'] = dfg.groupby('A').cumcount(ascending=False)\n",
    "dfg"
   ]
  },
  {
   "cell_type": "code",
   "execution_count": 803,
   "id": "5779948c",
   "metadata": {},
   "outputs": [
    {
     "data": {
      "application/vnd.microsoft.datawrangler.viewer.v0+json": {
       "columns": [
        {
         "name": "index",
         "rawType": "int64",
         "type": "integer"
        },
        {
         "name": "A",
         "rawType": "object",
         "type": "string"
        },
        {
         "name": "idx",
         "rawType": "int64",
         "type": "integer"
        },
        {
         "name": "group_idx",
         "rawType": "int64",
         "type": "integer"
        }
       ],
       "ref": "ae7ff9aa-6564-4064-8b45-ede3d0d25962",
       "rows": [
        [
         "0",
         "a",
         "3",
         "0"
        ],
        [
         "1",
         "a",
         "2",
         "0"
        ],
        [
         "2",
         "a",
         "1",
         "0"
        ],
        [
         "3",
         "b",
         "1",
         "1"
        ],
        [
         "4",
         "b",
         "0",
         "1"
        ],
        [
         "5",
         "a",
         "0",
         "0"
        ]
       ],
       "shape": {
        "columns": 3,
        "rows": 6
       }
      },
      "text/html": [
       "<div>\n",
       "<style scoped>\n",
       "    .dataframe tbody tr th:only-of-type {\n",
       "        vertical-align: middle;\n",
       "    }\n",
       "\n",
       "    .dataframe tbody tr th {\n",
       "        vertical-align: top;\n",
       "    }\n",
       "\n",
       "    .dataframe thead th {\n",
       "        text-align: right;\n",
       "    }\n",
       "</style>\n",
       "<table border=\"1\" class=\"dataframe\">\n",
       "  <thead>\n",
       "    <tr style=\"text-align: right;\">\n",
       "      <th></th>\n",
       "      <th>A</th>\n",
       "      <th>idx</th>\n",
       "      <th>group_idx</th>\n",
       "    </tr>\n",
       "  </thead>\n",
       "  <tbody>\n",
       "    <tr>\n",
       "      <th>0</th>\n",
       "      <td>a</td>\n",
       "      <td>3</td>\n",
       "      <td>0</td>\n",
       "    </tr>\n",
       "    <tr>\n",
       "      <th>1</th>\n",
       "      <td>a</td>\n",
       "      <td>2</td>\n",
       "      <td>0</td>\n",
       "    </tr>\n",
       "    <tr>\n",
       "      <th>2</th>\n",
       "      <td>a</td>\n",
       "      <td>1</td>\n",
       "      <td>0</td>\n",
       "    </tr>\n",
       "    <tr>\n",
       "      <th>3</th>\n",
       "      <td>b</td>\n",
       "      <td>1</td>\n",
       "      <td>1</td>\n",
       "    </tr>\n",
       "    <tr>\n",
       "      <th>4</th>\n",
       "      <td>b</td>\n",
       "      <td>0</td>\n",
       "      <td>1</td>\n",
       "    </tr>\n",
       "    <tr>\n",
       "      <th>5</th>\n",
       "      <td>a</td>\n",
       "      <td>0</td>\n",
       "      <td>0</td>\n",
       "    </tr>\n",
       "  </tbody>\n",
       "</table>\n",
       "</div>"
      ],
      "text/plain": [
       "   A  idx  group_idx\n",
       "0  a    3          0\n",
       "1  a    2          0\n",
       "2  a    1          0\n",
       "3  b    1          1\n",
       "4  b    0          1\n",
       "5  a    0          0"
      ]
     },
     "execution_count": 803,
     "metadata": {},
     "output_type": "execute_result"
    }
   ],
   "source": [
    "dfg['group_idx'] = dfg.groupby('A').ngroup()\n",
    "dfg"
   ]
  },
  {
   "cell_type": "code",
   "execution_count": 804,
   "id": "1e2828dd",
   "metadata": {},
   "outputs": [
    {
     "data": {
      "application/vnd.microsoft.datawrangler.viewer.v0+json": {
       "columns": [
        {
         "name": "index",
         "rawType": "int64",
         "type": "integer"
        },
        {
         "name": "0",
         "rawType": "float64",
         "type": "float"
        },
        {
         "name": "1",
         "rawType": "float64",
         "type": "float"
        },
        {
         "name": "g",
         "rawType": "object",
         "type": "string"
        }
       ],
       "ref": "3ac37f99-ba42-4d57-9289-2da82ef103ea",
       "rows": [
        [
         "0",
         "0.47143516373249306",
         "-1.1909756947064645",
         "A"
        ],
        [
         "1",
         "1.4327069684260973",
         "-0.3126518960917129",
         "A"
        ],
        [
         "2",
         "-0.7205887333650116",
         "3.8871629403077383",
         "B"
        ],
        [
         "3",
         "0.8595884137174165",
         "-0.6365235044173491",
         "A"
        ],
        [
         "4",
         "0.015696372114428918",
         "0.7573150458145945",
         "B"
        ],
        [
         "5",
         "1.150035724719818",
         "0.9919460223426778",
         "A"
        ],
        [
         "6",
         "0.9533241281124304",
         "-2.0212548201949705",
         "A"
        ],
        [
         "7",
         "-0.334077365808097",
         "0.002118364683486495",
         "A"
        ],
        [
         "8",
         "0.405453411570191",
         "0.2890919409800353",
         "A"
        ],
        [
         "9",
         "1.3211581921293856",
         "-1.5469055532292402",
         "A"
        ],
        [
         "10",
         "-0.2026463246291819",
         "2.344030655861066",
         "B"
        ],
        [
         "11",
         "0.19342137647035826",
         "3.553438910956742",
         "B"
        ],
        [
         "12",
         "1.3181515541801367",
         "2.5306947152941004",
         "B"
        ],
        [
         "13",
         "0.6755540851223808",
         "1.1829727734098032",
         "B"
        ],
        [
         "14",
         "-0.1831085401789987",
         "4.058969187571151",
         "B"
        ],
        [
         "15",
         "-0.3978402281999914",
         "0.3374376536139724",
         "A"
        ],
        [
         "16",
         "1.0475785728927218",
         "4.045938255627665",
         "B"
        ],
        [
         "17",
         "0.8637172916848387",
         "2.877908425152326",
         "B"
        ],
        [
         "18",
         "0.12471295376821585",
         "2.6772051943917043",
         "B"
        ],
        [
         "19",
         "0.8416747129961416",
         "5.390960515463033",
         "B"
        ],
        [
         "20",
         "0.07619958783723642",
         "-0.5664459304649568",
         "A"
        ],
        [
         "21",
         "0.036141936684072715",
         "0.9250223993099707",
         "B"
        ],
        [
         "22",
         "0.24779219974854666",
         "2.102843215560301",
         "B"
        ],
        [
         "23",
         "-0.1367948332613474",
         "3.0182891913492194",
         "B"
        ],
        [
         "24",
         "0.7554139823981354",
         "3.2152685809694432",
         "B"
        ],
        [
         "25",
         "0.841008794931391",
         "1.5541899229556937",
         "B"
        ],
        [
         "26",
         "-1.4019732815008439",
         "-0.10091819994891389",
         "A"
        ],
        [
         "27",
         "-0.5482424491868549",
         "2.8553804916306156",
         "B"
        ],
        [
         "28",
         "0.35402033219923795",
         "2.9644869747218596",
         "B"
        ],
        [
         "29",
         "0.5657383060625951",
         "1.5456588046255575",
         "A"
        ],
        [
         "30",
         "-0.9742363337673154",
         "2.9296551228958974",
         "B"
        ],
        [
         "31",
         "0.30796885521603423",
         "-0.20849876310587975",
         "A"
        ],
        [
         "32",
         "1.0338007325554992",
         "-2.4004536338122957",
         "A"
        ],
        [
         "33",
         "2.0306036208387996",
         "-1.1426312890227635",
         "A"
        ],
        [
         "34",
         "0.21188338677770105",
         "0.7047206243171088",
         "A"
        ],
        [
         "35",
         "-0.785435211763197",
         "3.4620597371620487",
         "B"
        ],
        [
         "36",
         "0.7042282254621743",
         "3.5235079678938095",
         "B"
        ],
        [
         "37",
         "-0.9262543135302259",
         "5.0078429507780005",
         "B"
        ],
        [
         "38",
         "0.2269625418708953",
         "1.8473408907490476",
         "B"
        ],
        [
         "39",
         "0.6319794458091295",
         "3.039512686693367",
         "B"
        ],
        [
         "40",
         "0.46439232505089606",
         "-3.5635166606247353",
         "A"
        ],
        [
         "41",
         "1.3211056154702059",
         "3.1526305522045344",
         "B"
        ],
        [
         "42",
         "0.16452954293239852",
         "-0.4300956908764876",
         "A"
        ],
        [
         "43",
         "0.7673687357524115",
         "0.9849198419098969",
         "A"
        ],
        [
         "44",
         "0.270835848826804",
         "1.3919861934464073",
         "A"
        ],
        [
         "45",
         "0.07984231300862901",
         "2.6000354193034774",
         "B"
        ],
        [
         "46",
         "-1.0278505586819058",
         "2.415281788739212",
         "B"
        ],
        [
         "47",
         "0.8165939265478418",
         "2.918052948173335",
         "B"
        ],
        [
         "48",
         "-0.3447660142546443",
         "0.5282881452973941",
         "A"
        ],
        [
         "49",
         "-1.0689887834801322",
         "-0.5118813091268151",
         "A"
        ]
       ],
       "shape": {
        "columns": 3,
        "rows": 50
       }
      },
      "text/html": [
       "<div>\n",
       "<style scoped>\n",
       "    .dataframe tbody tr th:only-of-type {\n",
       "        vertical-align: middle;\n",
       "    }\n",
       "\n",
       "    .dataframe tbody tr th {\n",
       "        vertical-align: top;\n",
       "    }\n",
       "\n",
       "    .dataframe thead th {\n",
       "        text-align: right;\n",
       "    }\n",
       "</style>\n",
       "<table border=\"1\" class=\"dataframe\">\n",
       "  <thead>\n",
       "    <tr style=\"text-align: right;\">\n",
       "      <th></th>\n",
       "      <th>0</th>\n",
       "      <th>1</th>\n",
       "      <th>g</th>\n",
       "    </tr>\n",
       "  </thead>\n",
       "  <tbody>\n",
       "    <tr>\n",
       "      <th>0</th>\n",
       "      <td>0.471435</td>\n",
       "      <td>-1.190976</td>\n",
       "      <td>A</td>\n",
       "    </tr>\n",
       "    <tr>\n",
       "      <th>1</th>\n",
       "      <td>1.432707</td>\n",
       "      <td>-0.312652</td>\n",
       "      <td>A</td>\n",
       "    </tr>\n",
       "    <tr>\n",
       "      <th>2</th>\n",
       "      <td>-0.720589</td>\n",
       "      <td>3.887163</td>\n",
       "      <td>B</td>\n",
       "    </tr>\n",
       "    <tr>\n",
       "      <th>3</th>\n",
       "      <td>0.859588</td>\n",
       "      <td>-0.636524</td>\n",
       "      <td>A</td>\n",
       "    </tr>\n",
       "    <tr>\n",
       "      <th>4</th>\n",
       "      <td>0.015696</td>\n",
       "      <td>0.757315</td>\n",
       "      <td>B</td>\n",
       "    </tr>\n",
       "    <tr>\n",
       "      <th>5</th>\n",
       "      <td>1.150036</td>\n",
       "      <td>0.991946</td>\n",
       "      <td>A</td>\n",
       "    </tr>\n",
       "    <tr>\n",
       "      <th>6</th>\n",
       "      <td>0.953324</td>\n",
       "      <td>-2.021255</td>\n",
       "      <td>A</td>\n",
       "    </tr>\n",
       "    <tr>\n",
       "      <th>7</th>\n",
       "      <td>-0.334077</td>\n",
       "      <td>0.002118</td>\n",
       "      <td>A</td>\n",
       "    </tr>\n",
       "    <tr>\n",
       "      <th>8</th>\n",
       "      <td>0.405453</td>\n",
       "      <td>0.289092</td>\n",
       "      <td>A</td>\n",
       "    </tr>\n",
       "    <tr>\n",
       "      <th>9</th>\n",
       "      <td>1.321158</td>\n",
       "      <td>-1.546906</td>\n",
       "      <td>A</td>\n",
       "    </tr>\n",
       "    <tr>\n",
       "      <th>10</th>\n",
       "      <td>-0.202646</td>\n",
       "      <td>2.344031</td>\n",
       "      <td>B</td>\n",
       "    </tr>\n",
       "    <tr>\n",
       "      <th>11</th>\n",
       "      <td>0.193421</td>\n",
       "      <td>3.553439</td>\n",
       "      <td>B</td>\n",
       "    </tr>\n",
       "    <tr>\n",
       "      <th>12</th>\n",
       "      <td>1.318152</td>\n",
       "      <td>2.530695</td>\n",
       "      <td>B</td>\n",
       "    </tr>\n",
       "    <tr>\n",
       "      <th>13</th>\n",
       "      <td>0.675554</td>\n",
       "      <td>1.182973</td>\n",
       "      <td>B</td>\n",
       "    </tr>\n",
       "    <tr>\n",
       "      <th>14</th>\n",
       "      <td>-0.183109</td>\n",
       "      <td>4.058969</td>\n",
       "      <td>B</td>\n",
       "    </tr>\n",
       "    <tr>\n",
       "      <th>15</th>\n",
       "      <td>-0.397840</td>\n",
       "      <td>0.337438</td>\n",
       "      <td>A</td>\n",
       "    </tr>\n",
       "    <tr>\n",
       "      <th>16</th>\n",
       "      <td>1.047579</td>\n",
       "      <td>4.045938</td>\n",
       "      <td>B</td>\n",
       "    </tr>\n",
       "    <tr>\n",
       "      <th>17</th>\n",
       "      <td>0.863717</td>\n",
       "      <td>2.877908</td>\n",
       "      <td>B</td>\n",
       "    </tr>\n",
       "    <tr>\n",
       "      <th>18</th>\n",
       "      <td>0.124713</td>\n",
       "      <td>2.677205</td>\n",
       "      <td>B</td>\n",
       "    </tr>\n",
       "    <tr>\n",
       "      <th>19</th>\n",
       "      <td>0.841675</td>\n",
       "      <td>5.390961</td>\n",
       "      <td>B</td>\n",
       "    </tr>\n",
       "    <tr>\n",
       "      <th>20</th>\n",
       "      <td>0.076200</td>\n",
       "      <td>-0.566446</td>\n",
       "      <td>A</td>\n",
       "    </tr>\n",
       "    <tr>\n",
       "      <th>21</th>\n",
       "      <td>0.036142</td>\n",
       "      <td>0.925022</td>\n",
       "      <td>B</td>\n",
       "    </tr>\n",
       "    <tr>\n",
       "      <th>22</th>\n",
       "      <td>0.247792</td>\n",
       "      <td>2.102843</td>\n",
       "      <td>B</td>\n",
       "    </tr>\n",
       "    <tr>\n",
       "      <th>23</th>\n",
       "      <td>-0.136795</td>\n",
       "      <td>3.018289</td>\n",
       "      <td>B</td>\n",
       "    </tr>\n",
       "    <tr>\n",
       "      <th>24</th>\n",
       "      <td>0.755414</td>\n",
       "      <td>3.215269</td>\n",
       "      <td>B</td>\n",
       "    </tr>\n",
       "    <tr>\n",
       "      <th>25</th>\n",
       "      <td>0.841009</td>\n",
       "      <td>1.554190</td>\n",
       "      <td>B</td>\n",
       "    </tr>\n",
       "    <tr>\n",
       "      <th>26</th>\n",
       "      <td>-1.401973</td>\n",
       "      <td>-0.100918</td>\n",
       "      <td>A</td>\n",
       "    </tr>\n",
       "    <tr>\n",
       "      <th>27</th>\n",
       "      <td>-0.548242</td>\n",
       "      <td>2.855380</td>\n",
       "      <td>B</td>\n",
       "    </tr>\n",
       "    <tr>\n",
       "      <th>28</th>\n",
       "      <td>0.354020</td>\n",
       "      <td>2.964487</td>\n",
       "      <td>B</td>\n",
       "    </tr>\n",
       "    <tr>\n",
       "      <th>29</th>\n",
       "      <td>0.565738</td>\n",
       "      <td>1.545659</td>\n",
       "      <td>A</td>\n",
       "    </tr>\n",
       "    <tr>\n",
       "      <th>30</th>\n",
       "      <td>-0.974236</td>\n",
       "      <td>2.929655</td>\n",
       "      <td>B</td>\n",
       "    </tr>\n",
       "    <tr>\n",
       "      <th>31</th>\n",
       "      <td>0.307969</td>\n",
       "      <td>-0.208499</td>\n",
       "      <td>A</td>\n",
       "    </tr>\n",
       "    <tr>\n",
       "      <th>32</th>\n",
       "      <td>1.033801</td>\n",
       "      <td>-2.400454</td>\n",
       "      <td>A</td>\n",
       "    </tr>\n",
       "    <tr>\n",
       "      <th>33</th>\n",
       "      <td>2.030604</td>\n",
       "      <td>-1.142631</td>\n",
       "      <td>A</td>\n",
       "    </tr>\n",
       "    <tr>\n",
       "      <th>34</th>\n",
       "      <td>0.211883</td>\n",
       "      <td>0.704721</td>\n",
       "      <td>A</td>\n",
       "    </tr>\n",
       "    <tr>\n",
       "      <th>35</th>\n",
       "      <td>-0.785435</td>\n",
       "      <td>3.462060</td>\n",
       "      <td>B</td>\n",
       "    </tr>\n",
       "    <tr>\n",
       "      <th>36</th>\n",
       "      <td>0.704228</td>\n",
       "      <td>3.523508</td>\n",
       "      <td>B</td>\n",
       "    </tr>\n",
       "    <tr>\n",
       "      <th>37</th>\n",
       "      <td>-0.926254</td>\n",
       "      <td>5.007843</td>\n",
       "      <td>B</td>\n",
       "    </tr>\n",
       "    <tr>\n",
       "      <th>38</th>\n",
       "      <td>0.226963</td>\n",
       "      <td>1.847341</td>\n",
       "      <td>B</td>\n",
       "    </tr>\n",
       "    <tr>\n",
       "      <th>39</th>\n",
       "      <td>0.631979</td>\n",
       "      <td>3.039513</td>\n",
       "      <td>B</td>\n",
       "    </tr>\n",
       "    <tr>\n",
       "      <th>40</th>\n",
       "      <td>0.464392</td>\n",
       "      <td>-3.563517</td>\n",
       "      <td>A</td>\n",
       "    </tr>\n",
       "    <tr>\n",
       "      <th>41</th>\n",
       "      <td>1.321106</td>\n",
       "      <td>3.152631</td>\n",
       "      <td>B</td>\n",
       "    </tr>\n",
       "    <tr>\n",
       "      <th>42</th>\n",
       "      <td>0.164530</td>\n",
       "      <td>-0.430096</td>\n",
       "      <td>A</td>\n",
       "    </tr>\n",
       "    <tr>\n",
       "      <th>43</th>\n",
       "      <td>0.767369</td>\n",
       "      <td>0.984920</td>\n",
       "      <td>A</td>\n",
       "    </tr>\n",
       "    <tr>\n",
       "      <th>44</th>\n",
       "      <td>0.270836</td>\n",
       "      <td>1.391986</td>\n",
       "      <td>A</td>\n",
       "    </tr>\n",
       "    <tr>\n",
       "      <th>45</th>\n",
       "      <td>0.079842</td>\n",
       "      <td>2.600035</td>\n",
       "      <td>B</td>\n",
       "    </tr>\n",
       "    <tr>\n",
       "      <th>46</th>\n",
       "      <td>-1.027851</td>\n",
       "      <td>2.415282</td>\n",
       "      <td>B</td>\n",
       "    </tr>\n",
       "    <tr>\n",
       "      <th>47</th>\n",
       "      <td>0.816594</td>\n",
       "      <td>2.918053</td>\n",
       "      <td>B</td>\n",
       "    </tr>\n",
       "    <tr>\n",
       "      <th>48</th>\n",
       "      <td>-0.344766</td>\n",
       "      <td>0.528288</td>\n",
       "      <td>A</td>\n",
       "    </tr>\n",
       "    <tr>\n",
       "      <th>49</th>\n",
       "      <td>-1.068989</td>\n",
       "      <td>-0.511881</td>\n",
       "      <td>A</td>\n",
       "    </tr>\n",
       "  </tbody>\n",
       "</table>\n",
       "</div>"
      ],
      "text/plain": [
       "           0         1  g\n",
       "0   0.471435 -1.190976  A\n",
       "1   1.432707 -0.312652  A\n",
       "2  -0.720589  3.887163  B\n",
       "3   0.859588 -0.636524  A\n",
       "4   0.015696  0.757315  B\n",
       "5   1.150036  0.991946  A\n",
       "6   0.953324 -2.021255  A\n",
       "7  -0.334077  0.002118  A\n",
       "8   0.405453  0.289092  A\n",
       "9   1.321158 -1.546906  A\n",
       "10 -0.202646  2.344031  B\n",
       "11  0.193421  3.553439  B\n",
       "12  1.318152  2.530695  B\n",
       "13  0.675554  1.182973  B\n",
       "14 -0.183109  4.058969  B\n",
       "15 -0.397840  0.337438  A\n",
       "16  1.047579  4.045938  B\n",
       "17  0.863717  2.877908  B\n",
       "18  0.124713  2.677205  B\n",
       "19  0.841675  5.390961  B\n",
       "20  0.076200 -0.566446  A\n",
       "21  0.036142  0.925022  B\n",
       "22  0.247792  2.102843  B\n",
       "23 -0.136795  3.018289  B\n",
       "24  0.755414  3.215269  B\n",
       "25  0.841009  1.554190  B\n",
       "26 -1.401973 -0.100918  A\n",
       "27 -0.548242  2.855380  B\n",
       "28  0.354020  2.964487  B\n",
       "29  0.565738  1.545659  A\n",
       "30 -0.974236  2.929655  B\n",
       "31  0.307969 -0.208499  A\n",
       "32  1.033801 -2.400454  A\n",
       "33  2.030604 -1.142631  A\n",
       "34  0.211883  0.704721  A\n",
       "35 -0.785435  3.462060  B\n",
       "36  0.704228  3.523508  B\n",
       "37 -0.926254  5.007843  B\n",
       "38  0.226963  1.847341  B\n",
       "39  0.631979  3.039513  B\n",
       "40  0.464392 -3.563517  A\n",
       "41  1.321106  3.152631  B\n",
       "42  0.164530 -0.430096  A\n",
       "43  0.767369  0.984920  A\n",
       "44  0.270836  1.391986  A\n",
       "45  0.079842  2.600035  B\n",
       "46 -1.027851  2.415282  B\n",
       "47  0.816594  2.918053  B\n",
       "48 -0.344766  0.528288  A\n",
       "49 -1.068989 -0.511881  A"
      ]
     },
     "execution_count": 804,
     "metadata": {},
     "output_type": "execute_result"
    }
   ],
   "source": [
    "np.random.seed(1234)\n",
    "\n",
    "df = pd.DataFrame(np.random.randn(50, 2))\n",
    "\n",
    "df[\"g\"] = np.random.choice([\"A\", \"B\"], size=50)\n",
    "\n",
    "df.loc[df[\"g\"] == \"B\", 1] += 3\n",
    "df"
   ]
  },
  {
   "cell_type": "code",
   "execution_count": 805,
   "id": "5b4a2c34",
   "metadata": {},
   "outputs": [
    {
     "data": {
      "application/vnd.microsoft.datawrangler.viewer.v0+json": {
       "columns": [
        {
         "name": "index",
         "rawType": "object",
         "type": "string"
        },
        {
         "name": "0",
         "rawType": "object",
         "type": "unknown"
        }
       ],
       "ref": "dc68030a-3174-464c-a634-11dcfa1d2907",
       "rows": [
        [
         "A",
         "Axes(0.1,0.15;0.363636x0.75)"
        ],
        [
         "B",
         "Axes(0.536364,0.15;0.363636x0.75)"
        ]
       ],
       "shape": {
        "columns": 1,
        "rows": 2
       }
      },
      "text/plain": [
       "A         Axes(0.1,0.15;0.363636x0.75)\n",
       "B    Axes(0.536364,0.15;0.363636x0.75)\n",
       "dtype: object"
      ]
     },
     "execution_count": 805,
     "metadata": {},
     "output_type": "execute_result"
    },
    {
     "data": {
      "image/png": "[encoded data removed]",
      "text/plain": [
       "<Figure size 640x480 with 2 Axes>"
      ]
     },
     "metadata": {},
     "output_type": "display_data"
    }
   ],
   "source": [
    "df.groupby('g').boxplot()"
   ]
  },
  {
   "cell_type": "code",
   "execution_count": 806,
   "id": "e13ae6fe",
   "metadata": {},
   "outputs": [
    {
     "data": {
      "application/vnd.microsoft.datawrangler.viewer.v0+json": {
       "columns": [
        {
         "name": "index",
         "rawType": "int64",
         "type": "integer"
        },
        {
         "name": "Store",
         "rawType": "object",
         "type": "string"
        },
        {
         "name": "Product",
         "rawType": "object",
         "type": "string"
        },
        {
         "name": "Revenue",
         "rawType": "float64",
         "type": "float"
        },
        {
         "name": "Quantity",
         "rawType": "int32",
         "type": "integer"
        }
       ],
       "ref": "8004b519-bfba-48c9-9d46-e8d9c361692e",
       "rows": [
        [
         "0",
         "Store_2",
         "Product_1",
         "26.12",
         "1"
        ],
        [
         "1",
         "Store_2",
         "Product_1",
         "28.86",
         "1"
        ],
        [
         "2",
         "Store_2",
         "Product_1",
         "35.11",
         "9"
        ],
        [
         "3",
         "Store_1",
         "Product_1",
         "32.5",
         "1"
        ],
        [
         "4",
         "Store_1",
         "Product_2",
         "33.37",
         "1"
        ]
       ],
       "shape": {
        "columns": 4,
        "rows": 5
       }
      },
      "text/html": [
       "<div>\n",
       "<style scoped>\n",
       "    .dataframe tbody tr th:only-of-type {\n",
       "        vertical-align: middle;\n",
       "    }\n",
       "\n",
       "    .dataframe tbody tr th {\n",
       "        vertical-align: top;\n",
       "    }\n",
       "\n",
       "    .dataframe thead th {\n",
       "        text-align: right;\n",
       "    }\n",
       "</style>\n",
       "<table border=\"1\" class=\"dataframe\">\n",
       "  <thead>\n",
       "    <tr style=\"text-align: right;\">\n",
       "      <th></th>\n",
       "      <th>Store</th>\n",
       "      <th>Product</th>\n",
       "      <th>Revenue</th>\n",
       "      <th>Quantity</th>\n",
       "    </tr>\n",
       "  </thead>\n",
       "  <tbody>\n",
       "    <tr>\n",
       "      <th>0</th>\n",
       "      <td>Store_2</td>\n",
       "      <td>Product_1</td>\n",
       "      <td>26.12</td>\n",
       "      <td>1</td>\n",
       "    </tr>\n",
       "    <tr>\n",
       "      <th>1</th>\n",
       "      <td>Store_2</td>\n",
       "      <td>Product_1</td>\n",
       "      <td>28.86</td>\n",
       "      <td>1</td>\n",
       "    </tr>\n",
       "    <tr>\n",
       "      <th>2</th>\n",
       "      <td>Store_2</td>\n",
       "      <td>Product_1</td>\n",
       "      <td>35.11</td>\n",
       "      <td>9</td>\n",
       "    </tr>\n",
       "    <tr>\n",
       "      <th>3</th>\n",
       "      <td>Store_1</td>\n",
       "      <td>Product_1</td>\n",
       "      <td>32.50</td>\n",
       "      <td>1</td>\n",
       "    </tr>\n",
       "    <tr>\n",
       "      <th>4</th>\n",
       "      <td>Store_1</td>\n",
       "      <td>Product_2</td>\n",
       "      <td>33.37</td>\n",
       "      <td>1</td>\n",
       "    </tr>\n",
       "  </tbody>\n",
       "</table>\n",
       "</div>"
      ],
      "text/plain": [
       "     Store    Product  Revenue  Quantity\n",
       "0  Store_2  Product_1    26.12         1\n",
       "1  Store_2  Product_1    28.86         1\n",
       "2  Store_2  Product_1    35.11         9\n",
       "3  Store_1  Product_1    32.50         1\n",
       "4  Store_1  Product_2    33.37         1"
      ]
     },
     "execution_count": 806,
     "metadata": {},
     "output_type": "execute_result"
    }
   ],
   "source": [
    "n = 1000\n",
    "\n",
    "df = pd.DataFrame(\n",
    "    {\n",
    "        \"Store\": np.random.choice([\"Store_1\", \"Store_2\"], n),\n",
    "        \"Product\": np.random.choice([\"Product_1\", \"Product_2\"], n),\n",
    "        \"Revenue\": (np.random.random(n) * 50 + 10).round(2),\n",
    "        \"Quantity\": np.random.randint(1, 10, size=n),\n",
    "    }\n",
    ")\n",
    "df.head()"
   ]
  },
  {
   "cell_type": "code",
   "execution_count": 807,
   "id": "8634c75d",
   "metadata": {},
   "outputs": [
    {
     "name": "stdout",
     "output_type": "stream",
     "text": [
      "<class 'pandas.core.frame.DataFrame'>\n",
      "RangeIndex: 1000 entries, 0 to 999\n",
      "Data columns (total 4 columns):\n",
      " #   Column    Non-Null Count  Dtype  \n",
      "---  ------    --------------  -----  \n",
      " 0   Store     1000 non-null   object \n",
      " 1   Product   1000 non-null   object \n",
      " 2   Revenue   1000 non-null   float64\n",
      " 3   Quantity  1000 non-null   int32  \n",
      "dtypes: float64(1), int32(1), object(2)\n",
      "memory usage: 27.5+ KB\n"
     ]
    }
   ],
   "source": [
    "df.info()"
   ]
  },
  {
   "cell_type": "code",
   "execution_count": 808,
   "id": "da0a54eb",
   "metadata": {},
   "outputs": [],
   "source": [
    "df1 = df.groupby(['Store', 'Product']).sum()"
   ]
  },
  {
   "cell_type": "code",
   "execution_count": 809,
   "id": "c9a7aa24",
   "metadata": {},
   "outputs": [
    {
     "data": {
      "application/vnd.microsoft.datawrangler.viewer.v0+json": {
       "columns": [
        {
         "name": "('Store', 'Product')",
         "rawType": "object",
         "type": "unknown"
        },
        {
         "name": "Revenue",
         "rawType": "float64",
         "type": "float"
        },
        {
         "name": "Quantity",
         "rawType": "int32",
         "type": "integer"
        }
       ],
       "ref": "a05fb9ab-cc6e-4ff1-ae35-d39f81b20fe6",
       "rows": [
        [
         "('Store_1', 'Product_1')",
         "6855.3",
         "1005"
        ],
        [
         "('Store_1', 'Product_2')",
         "9580.36",
         "1358"
        ],
        [
         "('Store_2', 'Product_1')",
         "9298.34",
         "1477"
        ],
        [
         "('Store_2', 'Product_2')",
         "8671.09",
         "1306"
        ]
       ],
       "shape": {
        "columns": 2,
        "rows": 4
       }
      },
      "text/html": [
       "<div>\n",
       "<style scoped>\n",
       "    .dataframe tbody tr th:only-of-type {\n",
       "        vertical-align: middle;\n",
       "    }\n",
       "\n",
       "    .dataframe tbody tr th {\n",
       "        vertical-align: top;\n",
       "    }\n",
       "\n",
       "    .dataframe thead th {\n",
       "        text-align: right;\n",
       "    }\n",
       "</style>\n",
       "<table border=\"1\" class=\"dataframe\">\n",
       "  <thead>\n",
       "    <tr style=\"text-align: right;\">\n",
       "      <th></th>\n",
       "      <th></th>\n",
       "      <th>Revenue</th>\n",
       "      <th>Quantity</th>\n",
       "    </tr>\n",
       "    <tr>\n",
       "      <th>Store</th>\n",
       "      <th>Product</th>\n",
       "      <th></th>\n",
       "      <th></th>\n",
       "    </tr>\n",
       "  </thead>\n",
       "  <tbody>\n",
       "    <tr>\n",
       "      <th rowspan=\"2\" valign=\"top\">Store_1</th>\n",
       "      <th>Product_1</th>\n",
       "      <td>6855.30</td>\n",
       "      <td>1005</td>\n",
       "    </tr>\n",
       "    <tr>\n",
       "      <th>Product_2</th>\n",
       "      <td>9580.36</td>\n",
       "      <td>1358</td>\n",
       "    </tr>\n",
       "    <tr>\n",
       "      <th rowspan=\"2\" valign=\"top\">Store_2</th>\n",
       "      <th>Product_1</th>\n",
       "      <td>9298.34</td>\n",
       "      <td>1477</td>\n",
       "    </tr>\n",
       "    <tr>\n",
       "      <th>Product_2</th>\n",
       "      <td>8671.09</td>\n",
       "      <td>1306</td>\n",
       "    </tr>\n",
       "  </tbody>\n",
       "</table>\n",
       "</div>"
      ],
      "text/plain": [
       "                   Revenue  Quantity\n",
       "Store   Product                     \n",
       "Store_1 Product_1  6855.30      1005\n",
       "        Product_2  9580.36      1358\n",
       "Store_2 Product_1  9298.34      1477\n",
       "        Product_2  8671.09      1306"
      ]
     },
     "execution_count": 809,
     "metadata": {},
     "output_type": "execute_result"
    }
   ],
   "source": [
    "df1"
   ]
  },
  {
   "cell_type": "code",
   "execution_count": 810,
   "id": "9c1f58b1",
   "metadata": {},
   "outputs": [
    {
     "data": {
      "application/vnd.microsoft.datawrangler.viewer.v0+json": {
       "columns": [
        {
         "name": "('Store', 'Product')",
         "rawType": "object",
         "type": "unknown"
        },
        {
         "name": "Revenue",
         "rawType": "float64",
         "type": "float"
        },
        {
         "name": "Quantity",
         "rawType": "int32",
         "type": "integer"
        },
        {
         "name": "Price",
         "rawType": "float64",
         "type": "float"
        }
       ],
       "ref": "7aab63e1-c36c-438b-a846-074d9e8916ad",
       "rows": [
        [
         "('Store_1', 'Product_1')",
         "6855.3",
         "1005",
         "6.821194029850746"
        ],
        [
         "('Store_1', 'Product_2')",
         "9580.36",
         "1358",
         "7.054756995581738"
        ],
        [
         "('Store_2', 'Product_1')",
         "9298.34",
         "1477",
         "6.295423155044008"
        ],
        [
         "('Store_2', 'Product_2')",
         "8671.09",
         "1306",
         "6.639425727411945"
        ]
       ],
       "shape": {
        "columns": 3,
        "rows": 4
       }
      },
      "text/html": [
       "<div>\n",
       "<style scoped>\n",
       "    .dataframe tbody tr th:only-of-type {\n",
       "        vertical-align: middle;\n",
       "    }\n",
       "\n",
       "    .dataframe tbody tr th {\n",
       "        vertical-align: top;\n",
       "    }\n",
       "\n",
       "    .dataframe thead th {\n",
       "        text-align: right;\n",
       "    }\n",
       "</style>\n",
       "<table border=\"1\" class=\"dataframe\">\n",
       "  <thead>\n",
       "    <tr style=\"text-align: right;\">\n",
       "      <th></th>\n",
       "      <th></th>\n",
       "      <th>Revenue</th>\n",
       "      <th>Quantity</th>\n",
       "      <th>Price</th>\n",
       "    </tr>\n",
       "    <tr>\n",
       "      <th>Store</th>\n",
       "      <th>Product</th>\n",
       "      <th></th>\n",
       "      <th></th>\n",
       "      <th></th>\n",
       "    </tr>\n",
       "  </thead>\n",
       "  <tbody>\n",
       "    <tr>\n",
       "      <th rowspan=\"2\" valign=\"top\">Store_1</th>\n",
       "      <th>Product_1</th>\n",
       "      <td>6855.30</td>\n",
       "      <td>1005</td>\n",
       "      <td>6.821194</td>\n",
       "    </tr>\n",
       "    <tr>\n",
       "      <th>Product_2</th>\n",
       "      <td>9580.36</td>\n",
       "      <td>1358</td>\n",
       "      <td>7.054757</td>\n",
       "    </tr>\n",
       "    <tr>\n",
       "      <th rowspan=\"2\" valign=\"top\">Store_2</th>\n",
       "      <th>Product_1</th>\n",
       "      <td>9298.34</td>\n",
       "      <td>1477</td>\n",
       "      <td>6.295423</td>\n",
       "    </tr>\n",
       "    <tr>\n",
       "      <th>Product_2</th>\n",
       "      <td>8671.09</td>\n",
       "      <td>1306</td>\n",
       "      <td>6.639426</td>\n",
       "    </tr>\n",
       "  </tbody>\n",
       "</table>\n",
       "</div>"
      ],
      "text/plain": [
       "                   Revenue  Quantity     Price\n",
       "Store   Product                               \n",
       "Store_1 Product_1  6855.30      1005  6.821194\n",
       "        Product_2  9580.36      1358  7.054757\n",
       "Store_2 Product_1  9298.34      1477  6.295423\n",
       "        Product_2  8671.09      1306  6.639426"
      ]
     },
     "execution_count": 810,
     "metadata": {},
     "output_type": "execute_result"
    }
   ],
   "source": [
    "df1['Price'] = df1['Revenue'] / df1['Quantity']\n",
    "df1"
   ]
  },
  {
   "cell_type": "code",
   "execution_count": 811,
   "id": "720d759d",
   "metadata": {},
   "outputs": [
    {
     "data": {
      "application/vnd.microsoft.datawrangler.viewer.v0+json": {
       "columns": [
        {
         "name": "Store",
         "rawType": "object",
         "type": "string"
        },
        {
         "name": "Product_1",
         "rawType": "float64",
         "type": "float"
        },
        {
         "name": "Product_2",
         "rawType": "float64",
         "type": "float"
        }
       ],
       "ref": "954e603a-1682-4a1a-9c9d-f671a6554400",
       "rows": [
        [
         "Store_1",
         "6.821194029850746",
         "7.054756995581738"
        ],
        [
         "Store_2",
         "6.295423155044008",
         "6.639425727411945"
        ]
       ],
       "shape": {
        "columns": 2,
        "rows": 2
       }
      },
      "text/html": [
       "<div>\n",
       "<style scoped>\n",
       "    .dataframe tbody tr th:only-of-type {\n",
       "        vertical-align: middle;\n",
       "    }\n",
       "\n",
       "    .dataframe tbody tr th {\n",
       "        vertical-align: top;\n",
       "    }\n",
       "\n",
       "    .dataframe thead th {\n",
       "        text-align: right;\n",
       "    }\n",
       "</style>\n",
       "<table border=\"1\" class=\"dataframe\">\n",
       "  <thead>\n",
       "    <tr style=\"text-align: right;\">\n",
       "      <th>Product</th>\n",
       "      <th>Product_1</th>\n",
       "      <th>Product_2</th>\n",
       "    </tr>\n",
       "    <tr>\n",
       "      <th>Store</th>\n",
       "      <th></th>\n",
       "      <th></th>\n",
       "    </tr>\n",
       "  </thead>\n",
       "  <tbody>\n",
       "    <tr>\n",
       "      <th>Store_1</th>\n",
       "      <td>6.821194</td>\n",
       "      <td>7.054757</td>\n",
       "    </tr>\n",
       "    <tr>\n",
       "      <th>Store_2</th>\n",
       "      <td>6.295423</td>\n",
       "      <td>6.639426</td>\n",
       "    </tr>\n",
       "  </tbody>\n",
       "</table>\n",
       "</div>"
      ],
      "text/plain": [
       "Product  Product_1  Product_2\n",
       "Store                        \n",
       "Store_1   6.821194   7.054757\n",
       "Store_2   6.295423   6.639426"
      ]
     },
     "execution_count": 811,
     "metadata": {},
     "output_type": "execute_result"
    }
   ],
   "source": [
    "df1['Price'].unstack()"
   ]
  },
  {
   "cell_type": "code",
   "execution_count": 812,
   "id": "5c8480c1",
   "metadata": {},
   "outputs": [
    {
     "data": {
      "application/vnd.microsoft.datawrangler.viewer.v0+json": {
       "columns": [
        {
         "name": "Store",
         "rawType": "object",
         "type": "string"
        },
        {
         "name": "Product_1",
         "rawType": "float64",
         "type": "float"
        },
        {
         "name": "Product_2",
         "rawType": "float64",
         "type": "float"
        }
       ],
       "ref": "631a950f-8b47-4722-9a73-869953abb5d3",
       "rows": [
        [
         "Store_1",
         "6.82",
         "7.05"
        ],
        [
         "Store_2",
         "6.3",
         "6.64"
        ]
       ],
       "shape": {
        "columns": 2,
        "rows": 2
       }
      },
      "text/html": [
       "<div>\n",
       "<style scoped>\n",
       "    .dataframe tbody tr th:only-of-type {\n",
       "        vertical-align: middle;\n",
       "    }\n",
       "\n",
       "    .dataframe tbody tr th {\n",
       "        vertical-align: top;\n",
       "    }\n",
       "\n",
       "    .dataframe thead th {\n",
       "        text-align: right;\n",
       "    }\n",
       "</style>\n",
       "<table border=\"1\" class=\"dataframe\">\n",
       "  <thead>\n",
       "    <tr style=\"text-align: right;\">\n",
       "      <th>Product</th>\n",
       "      <th>Product_1</th>\n",
       "      <th>Product_2</th>\n",
       "    </tr>\n",
       "    <tr>\n",
       "      <th>Store</th>\n",
       "      <th></th>\n",
       "      <th></th>\n",
       "    </tr>\n",
       "  </thead>\n",
       "  <tbody>\n",
       "    <tr>\n",
       "      <th>Store_1</th>\n",
       "      <td>6.82</td>\n",
       "      <td>7.05</td>\n",
       "    </tr>\n",
       "    <tr>\n",
       "      <th>Store_2</th>\n",
       "      <td>6.30</td>\n",
       "      <td>6.64</td>\n",
       "    </tr>\n",
       "  </tbody>\n",
       "</table>\n",
       "</div>"
      ],
      "text/plain": [
       "Product  Product_1  Product_2\n",
       "Store                        \n",
       "Store_1       6.82       7.05\n",
       "Store_2       6.30       6.64"
      ]
     },
     "execution_count": 812,
     "metadata": {},
     "output_type": "execute_result"
    }
   ],
   "source": [
    "(\n",
    "    df.groupby(['Store', 'Product'])\n",
    "    .pipe(lambda grp: grp.Revenue.sum() / grp.Quantity.sum())\n",
    "    .unstack()\n",
    "    .round(2)\n",
    ")"
   ]
  },
  {
   "cell_type": "code",
   "execution_count": 813,
   "id": "6a1f4efb",
   "metadata": {},
   "outputs": [
    {
     "data": {
      "application/vnd.microsoft.datawrangler.viewer.v0+json": {
       "columns": [
        {
         "name": "index",
         "rawType": "int64",
         "type": "integer"
        },
        {
         "name": "a",
         "rawType": "int64",
         "type": "integer"
        },
        {
         "name": "b",
         "rawType": "int64",
         "type": "integer"
        },
        {
         "name": "c",
         "rawType": "int64",
         "type": "integer"
        },
        {
         "name": "d",
         "rawType": "int64",
         "type": "integer"
        }
       ],
       "ref": "6ef8d201-60b9-4558-8d9d-fc8f28a247ea",
       "rows": [
        [
         "0",
         "0",
         "0",
         "1",
         "0"
        ],
        [
         "1",
         "0",
         "0",
         "0",
         "0"
        ],
        [
         "2",
         "0",
         "1",
         "1",
         "0"
        ],
        [
         "3",
         "0",
         "1",
         "0",
         "1"
        ],
        [
         "4",
         "1",
         "0",
         "1",
         "0"
        ],
        [
         "5",
         "1",
         "0",
         "0",
         "0"
        ],
        [
         "6",
         "1",
         "1",
         "1",
         "0"
        ],
        [
         "7",
         "1",
         "1",
         "0",
         "1"
        ],
        [
         "8",
         "2",
         "0",
         "1",
         "0"
        ],
        [
         "9",
         "2",
         "0",
         "0",
         "0"
        ],
        [
         "10",
         "2",
         "1",
         "1",
         "0"
        ],
        [
         "11",
         "2",
         "1",
         "0",
         "1"
        ]
       ],
       "shape": {
        "columns": 4,
        "rows": 12
       }
      },
      "text/html": [
       "<div>\n",
       "<style scoped>\n",
       "    .dataframe tbody tr th:only-of-type {\n",
       "        vertical-align: middle;\n",
       "    }\n",
       "\n",
       "    .dataframe tbody tr th {\n",
       "        vertical-align: top;\n",
       "    }\n",
       "\n",
       "    .dataframe thead th {\n",
       "        text-align: right;\n",
       "    }\n",
       "</style>\n",
       "<table border=\"1\" class=\"dataframe\">\n",
       "  <thead>\n",
       "    <tr style=\"text-align: right;\">\n",
       "      <th></th>\n",
       "      <th>a</th>\n",
       "      <th>b</th>\n",
       "      <th>c</th>\n",
       "      <th>d</th>\n",
       "    </tr>\n",
       "  </thead>\n",
       "  <tbody>\n",
       "    <tr>\n",
       "      <th>0</th>\n",
       "      <td>0</td>\n",
       "      <td>0</td>\n",
       "      <td>1</td>\n",
       "      <td>0</td>\n",
       "    </tr>\n",
       "    <tr>\n",
       "      <th>1</th>\n",
       "      <td>0</td>\n",
       "      <td>0</td>\n",
       "      <td>0</td>\n",
       "      <td>0</td>\n",
       "    </tr>\n",
       "    <tr>\n",
       "      <th>2</th>\n",
       "      <td>0</td>\n",
       "      <td>1</td>\n",
       "      <td>1</td>\n",
       "      <td>0</td>\n",
       "    </tr>\n",
       "    <tr>\n",
       "      <th>3</th>\n",
       "      <td>0</td>\n",
       "      <td>1</td>\n",
       "      <td>0</td>\n",
       "      <td>1</td>\n",
       "    </tr>\n",
       "    <tr>\n",
       "      <th>4</th>\n",
       "      <td>1</td>\n",
       "      <td>0</td>\n",
       "      <td>1</td>\n",
       "      <td>0</td>\n",
       "    </tr>\n",
       "    <tr>\n",
       "      <th>5</th>\n",
       "      <td>1</td>\n",
       "      <td>0</td>\n",
       "      <td>0</td>\n",
       "      <td>0</td>\n",
       "    </tr>\n",
       "    <tr>\n",
       "      <th>6</th>\n",
       "      <td>1</td>\n",
       "      <td>1</td>\n",
       "      <td>1</td>\n",
       "      <td>0</td>\n",
       "    </tr>\n",
       "    <tr>\n",
       "      <th>7</th>\n",
       "      <td>1</td>\n",
       "      <td>1</td>\n",
       "      <td>0</td>\n",
       "      <td>1</td>\n",
       "    </tr>\n",
       "    <tr>\n",
       "      <th>8</th>\n",
       "      <td>2</td>\n",
       "      <td>0</td>\n",
       "      <td>1</td>\n",
       "      <td>0</td>\n",
       "    </tr>\n",
       "    <tr>\n",
       "      <th>9</th>\n",
       "      <td>2</td>\n",
       "      <td>0</td>\n",
       "      <td>0</td>\n",
       "      <td>0</td>\n",
       "    </tr>\n",
       "    <tr>\n",
       "      <th>10</th>\n",
       "      <td>2</td>\n",
       "      <td>1</td>\n",
       "      <td>1</td>\n",
       "      <td>0</td>\n",
       "    </tr>\n",
       "    <tr>\n",
       "      <th>11</th>\n",
       "      <td>2</td>\n",
       "      <td>1</td>\n",
       "      <td>0</td>\n",
       "      <td>1</td>\n",
       "    </tr>\n",
       "  </tbody>\n",
       "</table>\n",
       "</div>"
      ],
      "text/plain": [
       "    a  b  c  d\n",
       "0   0  0  1  0\n",
       "1   0  0  0  0\n",
       "2   0  1  1  0\n",
       "3   0  1  0  1\n",
       "4   1  0  1  0\n",
       "5   1  0  0  0\n",
       "6   1  1  1  0\n",
       "7   1  1  0  1\n",
       "8   2  0  1  0\n",
       "9   2  0  0  0\n",
       "10  2  1  1  0\n",
       "11  2  1  0  1"
      ]
     },
     "execution_count": 813,
     "metadata": {},
     "output_type": "execute_result"
    }
   ],
   "source": [
    "df = pd.DataFrame(\n",
    "    {\n",
    "        \"a\": [0, 0, 0, 0, 1, 1, 1, 1, 2, 2, 2, 2],\n",
    "        \"b\": [0, 0, 1, 1, 0, 0, 1, 1, 0, 0, 1, 1],\n",
    "        \"c\": [1, 0, 1, 0, 1, 0, 1, 0, 1, 0, 1, 0],\n",
    "        \"d\": [0, 0, 0, 1, 0, 0, 0, 1, 0, 0, 0, 1],\n",
    "    }\n",
    ")\n",
    "df"
   ]
  },
  {
   "cell_type": "code",
   "execution_count": 814,
   "id": "6be3293f",
   "metadata": {},
   "outputs": [],
   "source": [
    "def compute_metrics(x):\n",
    "    result = {'b_sum': x['b'].sum(), 'c_mean': x['c'].mean()}\n",
    "    return pd.Series(result, name='metrics')"
   ]
  },
  {
   "cell_type": "code",
   "execution_count": 815,
   "id": "7165a48c",
   "metadata": {},
   "outputs": [
    {
     "data": {
      "application/vnd.microsoft.datawrangler.viewer.v0+json": {
       "columns": [
        {
         "name": "a",
         "rawType": "int64",
         "type": "integer"
        },
        {
         "name": "b_sum",
         "rawType": "float64",
         "type": "float"
        },
        {
         "name": "c_mean",
         "rawType": "float64",
         "type": "float"
        }
       ],
       "ref": "afd6ca65-c97a-4b17-9f1b-222c60ec7ba0",
       "rows": [
        [
         "0",
         "2.0",
         "0.5"
        ],
        [
         "1",
         "2.0",
         "0.5"
        ],
        [
         "2",
         "2.0",
         "0.5"
        ]
       ],
       "shape": {
        "columns": 2,
        "rows": 3
       }
      },
      "text/html": [
       "<div>\n",
       "<style scoped>\n",
       "    .dataframe tbody tr th:only-of-type {\n",
       "        vertical-align: middle;\n",
       "    }\n",
       "\n",
       "    .dataframe tbody tr th {\n",
       "        vertical-align: top;\n",
       "    }\n",
       "\n",
       "    .dataframe thead th {\n",
       "        text-align: right;\n",
       "    }\n",
       "</style>\n",
       "<table border=\"1\" class=\"dataframe\">\n",
       "  <thead>\n",
       "    <tr style=\"text-align: right;\">\n",
       "      <th>metrics</th>\n",
       "      <th>b_sum</th>\n",
       "      <th>c_mean</th>\n",
       "    </tr>\n",
       "    <tr>\n",
       "      <th>a</th>\n",
       "      <th></th>\n",
       "      <th></th>\n",
       "    </tr>\n",
       "  </thead>\n",
       "  <tbody>\n",
       "    <tr>\n",
       "      <th>0</th>\n",
       "      <td>2.0</td>\n",
       "      <td>0.5</td>\n",
       "    </tr>\n",
       "    <tr>\n",
       "      <th>1</th>\n",
       "      <td>2.0</td>\n",
       "      <td>0.5</td>\n",
       "    </tr>\n",
       "    <tr>\n",
       "      <th>2</th>\n",
       "      <td>2.0</td>\n",
       "      <td>0.5</td>\n",
       "    </tr>\n",
       "  </tbody>\n",
       "</table>\n",
       "</div>"
      ],
      "text/plain": [
       "metrics  b_sum  c_mean\n",
       "a                     \n",
       "0          2.0     0.5\n",
       "1          2.0     0.5\n",
       "2          2.0     0.5"
      ]
     },
     "execution_count": 815,
     "metadata": {},
     "output_type": "execute_result"
    }
   ],
   "source": [
    "result = df.groupby('a').apply(compute_metrics, include_groups=False)\n",
    "result"
   ]
  },
  {
   "cell_type": "code",
   "execution_count": 816,
   "id": "d1ced67c",
   "metadata": {},
   "outputs": [],
   "source": [
    "s = pd.Series(np.random.randn(10))"
   ]
  },
  {
   "cell_type": "code",
   "execution_count": 817,
   "id": "edabaa88",
   "metadata": {},
   "outputs": [
    {
     "data": {
      "application/vnd.microsoft.datawrangler.viewer.v0+json": {
       "columns": [
        {
         "name": "index",
         "rawType": "int64",
         "type": "integer"
        },
        {
         "name": "0",
         "rawType": "float64",
         "type": "float"
        }
       ],
       "ref": "1d583ff5-6606-4f47-8c2d-720c7282b39a",
       "rows": [
        [
         "0",
         "-0.7938928810485868"
        ],
        [
         "1",
         "0.3211528034731714"
        ],
        [
         "2",
         "0.3422504881060206"
        ],
        [
         "3",
         "1.6189064759891922"
        ],
        [
         "4",
         "-0.9758069735217922"
        ],
        [
         "5",
         "1.918200794513002"
        ],
        [
         "6",
         "-0.8108468884208875"
        ],
        [
         "7",
         "-1.4059194254646237"
        ],
        [
         "8",
         "-1.977759334523061"
        ],
        [
         "9",
         "0.4616593085573459"
        ]
       ],
       "shape": {
        "columns": 1,
        "rows": 10
       }
      },
      "text/plain": [
       "0   -0.793893\n",
       "1    0.321153\n",
       "2    0.342250\n",
       "3    1.618906\n",
       "4   -0.975807\n",
       "5    1.918201\n",
       "6   -0.810847\n",
       "7   -1.405919\n",
       "8   -1.977759\n",
       "9    0.461659\n",
       "dtype: float64"
      ]
     },
     "execution_count": 817,
     "metadata": {},
     "output_type": "execute_result"
    }
   ],
   "source": [
    "s"
   ]
  },
  {
   "cell_type": "code",
   "execution_count": 818,
   "id": "87d0a006",
   "metadata": {},
   "outputs": [
    {
     "data": {
      "application/vnd.microsoft.datawrangler.viewer.v0+json": {
       "columns": [
        {
         "name": "index",
         "rawType": "int64",
         "type": "integer"
        },
        {
         "name": "0",
         "rawType": "float64",
         "type": "float"
        }
       ],
       "ref": "0b1e433f-89e0-4f24-ad65-df88e54f3a57",
       "rows": [
        [
         "0",
         null
        ],
        [
         "1",
         null
        ],
        [
         "2",
         "-0.043496529823131604"
        ],
        [
         "3",
         "0.7607699225227947"
        ],
        [
         "4",
         "0.3284499968578069"
        ],
        [
         "5",
         "0.8537667656601341"
        ],
        [
         "6",
         "0.043848977523440746"
        ],
        [
         "7",
         "-0.0995218397908364"
        ],
        [
         "8",
         "-1.3981752161361907"
        ],
        [
         "9",
         "-0.9740064838101129"
        ]
       ],
       "shape": {
        "columns": 1,
        "rows": 10
       }
      },
      "text/plain": [
       "0         NaN\n",
       "1         NaN\n",
       "2   -0.043497\n",
       "3    0.760770\n",
       "4    0.328450\n",
       "5    0.853767\n",
       "6    0.043849\n",
       "7   -0.099522\n",
       "8   -1.398175\n",
       "9   -0.974006\n",
       "dtype: float64"
      ]
     },
     "execution_count": 818,
     "metadata": {},
     "output_type": "execute_result"
    }
   ],
   "source": [
    "s.rolling(window=3).mean()"
   ]
  },
  {
   "cell_type": "code",
   "execution_count": 819,
   "id": "db10f69e",
   "metadata": {},
   "outputs": [
    {
     "data": {
      "application/vnd.microsoft.datawrangler.viewer.v0+json": {
       "columns": [
        {
         "name": "index",
         "rawType": "datetime64[ns]",
         "type": "datetime"
        },
        {
         "name": "0",
         "rawType": "float64",
         "type": "float"
        }
       ],
       "ref": "133d3dcd-22df-4e44-bf60-602d96799b16",
       "rows": [
        [
         "2020-01-01 00:00:00",
         "0.0"
        ],
        [
         "2020-01-02 00:00:00",
         "1.0"
        ],
        [
         "2020-01-03 00:00:00",
         "3.0"
        ],
        [
         "2020-01-04 00:00:00",
         "6.0"
        ],
        [
         "2020-01-05 00:00:00",
         "9.0"
        ],
        [
         "2020-01-06 00:00:00",
         "12.0"
        ],
        [
         "2020-01-07 00:00:00",
         "15.0"
        ],
        [
         "2020-01-08 00:00:00",
         "18.0"
        ],
        [
         "2020-01-09 00:00:00",
         "21.0"
        ],
        [
         "2020-01-10 00:00:00",
         "24.0"
        ]
       ],
       "shape": {
        "columns": 1,
        "rows": 10
       }
      },
      "text/plain": [
       "2020-01-01     0.0\n",
       "2020-01-02     1.0\n",
       "2020-01-03     3.0\n",
       "2020-01-04     6.0\n",
       "2020-01-05     9.0\n",
       "2020-01-06    12.0\n",
       "2020-01-07    15.0\n",
       "2020-01-08    18.0\n",
       "2020-01-09    21.0\n",
       "2020-01-10    24.0\n",
       "Freq: D, dtype: float64"
      ]
     },
     "execution_count": 819,
     "metadata": {},
     "output_type": "execute_result"
    }
   ],
   "source": [
    "s = pd.Series(range(10), index=pd.date_range('2020-01-01', periods=10, freq='1D'))\n",
    "s.rolling(window=\"3D\").sum()"
   ]
  },
  {
   "cell_type": "code",
   "execution_count": 820,
   "id": "3906205f",
   "metadata": {},
   "outputs": [
    {
     "data": {
      "application/vnd.microsoft.datawrangler.viewer.v0+json": {
       "columns": [
        {
         "name": "index",
         "rawType": "datetime64[ns]",
         "type": "datetime"
        },
        {
         "name": "0",
         "rawType": "int64",
         "type": "integer"
        }
       ],
       "ref": "3eda218b-0877-4c04-8326-f8c1f2264dda",
       "rows": [
        [
         "2020-01-01 00:00:00",
         "0"
        ],
        [
         "2020-01-02 00:00:00",
         "1"
        ],
        [
         "2020-01-03 00:00:00",
         "2"
        ],
        [
         "2020-01-04 00:00:00",
         "3"
        ],
        [
         "2020-01-05 00:00:00",
         "4"
        ],
        [
         "2020-01-06 00:00:00",
         "5"
        ],
        [
         "2020-01-07 00:00:00",
         "6"
        ],
        [
         "2020-01-08 00:00:00",
         "7"
        ],
        [
         "2020-01-09 00:00:00",
         "8"
        ],
        [
         "2020-01-10 00:00:00",
         "9"
        ]
       ],
       "shape": {
        "columns": 1,
        "rows": 10
       }
      },
      "text/plain": [
       "2020-01-01    0\n",
       "2020-01-02    1\n",
       "2020-01-03    2\n",
       "2020-01-04    3\n",
       "2020-01-05    4\n",
       "2020-01-06    5\n",
       "2020-01-07    6\n",
       "2020-01-08    7\n",
       "2020-01-09    8\n",
       "2020-01-10    9\n",
       "Freq: D, dtype: int64"
      ]
     },
     "execution_count": 820,
     "metadata": {},
     "output_type": "execute_result"
    }
   ],
   "source": [
    "s"
   ]
  },
  {
   "cell_type": "code",
   "execution_count": 821,
   "id": "0a8f4a10",
   "metadata": {},
   "outputs": [
    {
     "data": {
      "application/vnd.microsoft.datawrangler.viewer.v0+json": {
       "columns": [
        {
         "name": "index",
         "rawType": "int64",
         "type": "integer"
        },
        {
         "name": "A",
         "rawType": "object",
         "type": "string"
        },
        {
         "name": "B",
         "rawType": "int64",
         "type": "integer"
        }
       ],
       "ref": "c0b102ab-7ef9-403d-a790-e11f48e948a9",
       "rows": [
        [
         "0",
         "a",
         "0"
        ],
        [
         "1",
         "b",
         "1"
        ],
        [
         "2",
         "a",
         "2"
        ],
        [
         "3",
         "b",
         "3"
        ],
        [
         "4",
         "a",
         "4"
        ]
       ],
       "shape": {
        "columns": 2,
        "rows": 5
       }
      },
      "text/html": [
       "<div>\n",
       "<style scoped>\n",
       "    .dataframe tbody tr th:only-of-type {\n",
       "        vertical-align: middle;\n",
       "    }\n",
       "\n",
       "    .dataframe tbody tr th {\n",
       "        vertical-align: top;\n",
       "    }\n",
       "\n",
       "    .dataframe thead th {\n",
       "        text-align: right;\n",
       "    }\n",
       "</style>\n",
       "<table border=\"1\" class=\"dataframe\">\n",
       "  <thead>\n",
       "    <tr style=\"text-align: right;\">\n",
       "      <th></th>\n",
       "      <th>A</th>\n",
       "      <th>B</th>\n",
       "    </tr>\n",
       "  </thead>\n",
       "  <tbody>\n",
       "    <tr>\n",
       "      <th>0</th>\n",
       "      <td>a</td>\n",
       "      <td>0</td>\n",
       "    </tr>\n",
       "    <tr>\n",
       "      <th>1</th>\n",
       "      <td>b</td>\n",
       "      <td>1</td>\n",
       "    </tr>\n",
       "    <tr>\n",
       "      <th>2</th>\n",
       "      <td>a</td>\n",
       "      <td>2</td>\n",
       "    </tr>\n",
       "    <tr>\n",
       "      <th>3</th>\n",
       "      <td>b</td>\n",
       "      <td>3</td>\n",
       "    </tr>\n",
       "    <tr>\n",
       "      <th>4</th>\n",
       "      <td>a</td>\n",
       "      <td>4</td>\n",
       "    </tr>\n",
       "  </tbody>\n",
       "</table>\n",
       "</div>"
      ],
      "text/plain": [
       "   A  B\n",
       "0  a  0\n",
       "1  b  1\n",
       "2  a  2\n",
       "3  b  3\n",
       "4  a  4"
      ]
     },
     "execution_count": 821,
     "metadata": {},
     "output_type": "execute_result"
    }
   ],
   "source": [
    "df = pd.DataFrame({'A': ['a', 'b', 'a', 'b', 'a'], 'B': range(5)})\n",
    "df"
   ]
  },
  {
   "cell_type": "code",
   "execution_count": 822,
   "id": "df83568d",
   "metadata": {},
   "outputs": [
    {
     "data": {
      "application/vnd.microsoft.datawrangler.viewer.v0+json": {
       "columns": [
        {
         "name": "('A', None)",
         "rawType": "object",
         "type": "unknown"
        },
        {
         "name": "B",
         "rawType": "float64",
         "type": "float"
        }
       ],
       "ref": "6e70704b-7a5e-421c-8c7f-31d90a22314b",
       "rows": [
        [
         "('a', np.int64(0))",
         null
        ],
        [
         "('a', np.int64(2))",
         "2.0"
        ],
        [
         "('a', np.int64(4))",
         "6.0"
        ],
        [
         "('b', np.int64(1))",
         null
        ],
        [
         "('b', np.int64(3))",
         "4.0"
        ]
       ],
       "shape": {
        "columns": 1,
        "rows": 5
       }
      },
      "text/html": [
       "<div>\n",
       "<style scoped>\n",
       "    .dataframe tbody tr th:only-of-type {\n",
       "        vertical-align: middle;\n",
       "    }\n",
       "\n",
       "    .dataframe tbody tr th {\n",
       "        vertical-align: top;\n",
       "    }\n",
       "\n",
       "    .dataframe thead th {\n",
       "        text-align: right;\n",
       "    }\n",
       "</style>\n",
       "<table border=\"1\" class=\"dataframe\">\n",
       "  <thead>\n",
       "    <tr style=\"text-align: right;\">\n",
       "      <th></th>\n",
       "      <th></th>\n",
       "      <th>B</th>\n",
       "    </tr>\n",
       "    <tr>\n",
       "      <th>A</th>\n",
       "      <th></th>\n",
       "      <th></th>\n",
       "    </tr>\n",
       "  </thead>\n",
       "  <tbody>\n",
       "    <tr>\n",
       "      <th rowspan=\"3\" valign=\"top\">a</th>\n",
       "      <th>0</th>\n",
       "      <td>NaN</td>\n",
       "    </tr>\n",
       "    <tr>\n",
       "      <th>2</th>\n",
       "      <td>2.0</td>\n",
       "    </tr>\n",
       "    <tr>\n",
       "      <th>4</th>\n",
       "      <td>6.0</td>\n",
       "    </tr>\n",
       "    <tr>\n",
       "      <th rowspan=\"2\" valign=\"top\">b</th>\n",
       "      <th>1</th>\n",
       "      <td>NaN</td>\n",
       "    </tr>\n",
       "    <tr>\n",
       "      <th>3</th>\n",
       "      <td>4.0</td>\n",
       "    </tr>\n",
       "  </tbody>\n",
       "</table>\n",
       "</div>"
      ],
      "text/plain": [
       "       B\n",
       "A       \n",
       "a 0  NaN\n",
       "  2  2.0\n",
       "  4  6.0\n",
       "b 1  NaN\n",
       "  3  4.0"
      ]
     },
     "execution_count": 822,
     "metadata": {},
     "output_type": "execute_result"
    }
   ],
   "source": [
    "df.groupby('A').rolling(window=2).sum()"
   ]
  },
  {
   "cell_type": "code",
   "execution_count": 823,
   "id": "e6b63d04",
   "metadata": {},
   "outputs": [],
   "source": [
    "def weighted_mean(x):\n",
    "    arr = np.ones((1, x.shape[1]))\n",
    "    arr[:, :2] = (x[:, :2] * x[:, 2]).sum(axis=0) / x[:, 2].sum()\n",
    "    return arr"
   ]
  },
  {
   "cell_type": "code",
   "execution_count": 824,
   "id": "f1d5deba",
   "metadata": {},
   "outputs": [
    {
     "data": {
      "application/vnd.microsoft.datawrangler.viewer.v0+json": {
       "columns": [
        {
         "name": "index",
         "rawType": "int64",
         "type": "integer"
        },
        {
         "name": "0",
         "rawType": "int64",
         "type": "integer"
        },
        {
         "name": "1",
         "rawType": "int64",
         "type": "integer"
        },
        {
         "name": "2",
         "rawType": "float64",
         "type": "float"
        }
       ],
       "ref": "5ac9d874-11f2-4a30-bb9b-ec94de209230",
       "rows": [
        [
         "0",
         "1",
         "2",
         "0.6"
        ],
        [
         "1",
         "2",
         "3",
         "0.4"
        ],
        [
         "2",
         "3",
         "4",
         "0.2"
        ],
        [
         "3",
         "4",
         "5",
         "0.7"
        ]
       ],
       "shape": {
        "columns": 3,
        "rows": 4
       }
      },
      "text/html": [
       "<div>\n",
       "<style scoped>\n",
       "    .dataframe tbody tr th:only-of-type {\n",
       "        vertical-align: middle;\n",
       "    }\n",
       "\n",
       "    .dataframe tbody tr th {\n",
       "        vertical-align: top;\n",
       "    }\n",
       "\n",
       "    .dataframe thead th {\n",
       "        text-align: right;\n",
       "    }\n",
       "</style>\n",
       "<table border=\"1\" class=\"dataframe\">\n",
       "  <thead>\n",
       "    <tr style=\"text-align: right;\">\n",
       "      <th></th>\n",
       "      <th>0</th>\n",
       "      <th>1</th>\n",
       "      <th>2</th>\n",
       "    </tr>\n",
       "  </thead>\n",
       "  <tbody>\n",
       "    <tr>\n",
       "      <th>0</th>\n",
       "      <td>1</td>\n",
       "      <td>2</td>\n",
       "      <td>0.6</td>\n",
       "    </tr>\n",
       "    <tr>\n",
       "      <th>1</th>\n",
       "      <td>2</td>\n",
       "      <td>3</td>\n",
       "      <td>0.4</td>\n",
       "    </tr>\n",
       "    <tr>\n",
       "      <th>2</th>\n",
       "      <td>3</td>\n",
       "      <td>4</td>\n",
       "      <td>0.2</td>\n",
       "    </tr>\n",
       "    <tr>\n",
       "      <th>3</th>\n",
       "      <td>4</td>\n",
       "      <td>5</td>\n",
       "      <td>0.7</td>\n",
       "    </tr>\n",
       "  </tbody>\n",
       "</table>\n",
       "</div>"
      ],
      "text/plain": [
       "   0  1    2\n",
       "0  1  2  0.6\n",
       "1  2  3  0.4\n",
       "2  3  4  0.2\n",
       "3  4  5  0.7"
      ]
     },
     "execution_count": 824,
     "metadata": {},
     "output_type": "execute_result"
    }
   ],
   "source": [
    "df = pd.DataFrame([[1, 2, 0.6], [2, 3, 0.4], [3, 4, 0.2], [4, 5, 0.7]])\n",
    "df"
   ]
  },
  {
   "cell_type": "code",
   "execution_count": 825,
   "id": "fe54d9cc",
   "metadata": {},
   "outputs": [
    {
     "data": {
      "application/vnd.microsoft.datawrangler.viewer.v0+json": {
       "columns": [
        {
         "name": "index",
         "rawType": "int64",
         "type": "integer"
        },
        {
         "name": "0",
         "rawType": "float64",
         "type": "float"
        },
        {
         "name": "1",
         "rawType": "float64",
         "type": "float"
        },
        {
         "name": "2",
         "rawType": "float64",
         "type": "float"
        }
       ],
       "ref": "83c751b0-a5e7-4b30-8241-26cdab5a2ff5",
       "rows": [
        [
         "0",
         "1.0",
         "2.0",
         "1.0"
        ],
        [
         "1",
         "1.7999999999999998",
         "2.0",
         "1.0"
        ],
        [
         "2",
         "3.333333333333333",
         "2.333333333333333",
         "1.0"
        ],
        [
         "3",
         "1.5555555555555558",
         "7.000000000000001",
         "1.0"
        ]
       ],
       "shape": {
        "columns": 3,
        "rows": 4
       }
      },
      "text/html": [
       "<div>\n",
       "<style scoped>\n",
       "    .dataframe tbody tr th:only-of-type {\n",
       "        vertical-align: middle;\n",
       "    }\n",
       "\n",
       "    .dataframe tbody tr th {\n",
       "        vertical-align: top;\n",
       "    }\n",
       "\n",
       "    .dataframe thead th {\n",
       "        text-align: right;\n",
       "    }\n",
       "</style>\n",
       "<table border=\"1\" class=\"dataframe\">\n",
       "  <thead>\n",
       "    <tr style=\"text-align: right;\">\n",
       "      <th></th>\n",
       "      <th>0</th>\n",
       "      <th>1</th>\n",
       "      <th>2</th>\n",
       "    </tr>\n",
       "  </thead>\n",
       "  <tbody>\n",
       "    <tr>\n",
       "      <th>0</th>\n",
       "      <td>1.000000</td>\n",
       "      <td>2.000000</td>\n",
       "      <td>1.0</td>\n",
       "    </tr>\n",
       "    <tr>\n",
       "      <th>1</th>\n",
       "      <td>1.800000</td>\n",
       "      <td>2.000000</td>\n",
       "      <td>1.0</td>\n",
       "    </tr>\n",
       "    <tr>\n",
       "      <th>2</th>\n",
       "      <td>3.333333</td>\n",
       "      <td>2.333333</td>\n",
       "      <td>1.0</td>\n",
       "    </tr>\n",
       "    <tr>\n",
       "      <th>3</th>\n",
       "      <td>1.555556</td>\n",
       "      <td>7.000000</td>\n",
       "      <td>1.0</td>\n",
       "    </tr>\n",
       "  </tbody>\n",
       "</table>\n",
       "</div>"
      ],
      "text/plain": [
       "          0         1    2\n",
       "0  1.000000  2.000000  1.0\n",
       "1  1.800000  2.000000  1.0\n",
       "2  3.333333  2.333333  1.0\n",
       "3  1.555556  7.000000  1.0"
      ]
     },
     "execution_count": 825,
     "metadata": {},
     "output_type": "execute_result"
    }
   ],
   "source": [
    "df.rolling(2, method='table', min_periods=0).apply(weighted_mean, raw=True, engine='numba')"
   ]
  },
  {
   "cell_type": "code",
   "execution_count": 826,
   "id": "6779e6d6",
   "metadata": {},
   "outputs": [
    {
     "data": {
      "application/vnd.microsoft.datawrangler.viewer.v0+json": {
       "columns": [
        {
         "name": "index",
         "rawType": "int64",
         "type": "integer"
        },
        {
         "name": "0",
         "rawType": "int64",
         "type": "integer"
        },
        {
         "name": "1",
         "rawType": "int64",
         "type": "integer"
        },
        {
         "name": "2",
         "rawType": "float64",
         "type": "float"
        }
       ],
       "ref": "47dfb944-13d2-49f0-a016-f6b0f5f5edc3",
       "rows": [
        [
         "0",
         "1",
         "2",
         "0.6"
        ],
        [
         "1",
         "2",
         "3",
         "0.4"
        ],
        [
         "2",
         "3",
         "4",
         "0.2"
        ],
        [
         "3",
         "4",
         "5",
         "0.7"
        ]
       ],
       "shape": {
        "columns": 3,
        "rows": 4
       }
      },
      "text/html": [
       "<div>\n",
       "<style scoped>\n",
       "    .dataframe tbody tr th:only-of-type {\n",
       "        vertical-align: middle;\n",
       "    }\n",
       "\n",
       "    .dataframe tbody tr th {\n",
       "        vertical-align: top;\n",
       "    }\n",
       "\n",
       "    .dataframe thead th {\n",
       "        text-align: right;\n",
       "    }\n",
       "</style>\n",
       "<table border=\"1\" class=\"dataframe\">\n",
       "  <thead>\n",
       "    <tr style=\"text-align: right;\">\n",
       "      <th></th>\n",
       "      <th>0</th>\n",
       "      <th>1</th>\n",
       "      <th>2</th>\n",
       "    </tr>\n",
       "  </thead>\n",
       "  <tbody>\n",
       "    <tr>\n",
       "      <th>0</th>\n",
       "      <td>1</td>\n",
       "      <td>2</td>\n",
       "      <td>0.6</td>\n",
       "    </tr>\n",
       "    <tr>\n",
       "      <th>1</th>\n",
       "      <td>2</td>\n",
       "      <td>3</td>\n",
       "      <td>0.4</td>\n",
       "    </tr>\n",
       "    <tr>\n",
       "      <th>2</th>\n",
       "      <td>3</td>\n",
       "      <td>4</td>\n",
       "      <td>0.2</td>\n",
       "    </tr>\n",
       "    <tr>\n",
       "      <th>3</th>\n",
       "      <td>4</td>\n",
       "      <td>5</td>\n",
       "      <td>0.7</td>\n",
       "    </tr>\n",
       "  </tbody>\n",
       "</table>\n",
       "</div>"
      ],
      "text/plain": [
       "   0  1    2\n",
       "0  1  2  0.6\n",
       "1  2  3  0.4\n",
       "2  3  4  0.2\n",
       "3  4  5  0.7"
      ]
     },
     "execution_count": 826,
     "metadata": {},
     "output_type": "execute_result"
    }
   ],
   "source": [
    "df = pd.DataFrame([[1, 2, 0.6], [2, 3, 0.4], [3, 4, 0.2], [4, 5, 0.7]])\n",
    "df"
   ]
  },
  {
   "cell_type": "code",
   "execution_count": 827,
   "id": "8a713815",
   "metadata": {},
   "outputs": [
    {
     "data": {
      "application/vnd.microsoft.datawrangler.viewer.v0+json": {
       "columns": [
        {
         "name": "index",
         "rawType": "int64",
         "type": "integer"
        },
        {
         "name": "0",
         "rawType": "float64",
         "type": "float"
        },
        {
         "name": "1",
         "rawType": "float64",
         "type": "float"
        },
        {
         "name": "2",
         "rawType": "float64",
         "type": "float"
        }
       ],
       "ref": "0a5de1fa-6421-44cd-a0cf-621c67bf6d45",
       "rows": [
        [
         "0",
         "1.0",
         "2.0",
         "0.6"
        ],
        [
         "1",
         "1.75",
         "2.75",
         "0.45"
        ],
        [
         "2",
         "2.615384615384615",
         "3.615384615384615",
         "0.2769230769230769"
        ],
        [
         "3",
         "3.55",
         "4.55",
         "0.5624999999999999"
        ]
       ],
       "shape": {
        "columns": 3,
        "rows": 4
       }
      },
      "text/html": [
       "<div>\n",
       "<style scoped>\n",
       "    .dataframe tbody tr th:only-of-type {\n",
       "        vertical-align: middle;\n",
       "    }\n",
       "\n",
       "    .dataframe tbody tr th {\n",
       "        vertical-align: top;\n",
       "    }\n",
       "\n",
       "    .dataframe thead th {\n",
       "        text-align: right;\n",
       "    }\n",
       "</style>\n",
       "<table border=\"1\" class=\"dataframe\">\n",
       "  <thead>\n",
       "    <tr style=\"text-align: right;\">\n",
       "      <th></th>\n",
       "      <th>0</th>\n",
       "      <th>1</th>\n",
       "      <th>2</th>\n",
       "    </tr>\n",
       "  </thead>\n",
       "  <tbody>\n",
       "    <tr>\n",
       "      <th>0</th>\n",
       "      <td>1.000000</td>\n",
       "      <td>2.000000</td>\n",
       "      <td>0.600000</td>\n",
       "    </tr>\n",
       "    <tr>\n",
       "      <th>1</th>\n",
       "      <td>1.750000</td>\n",
       "      <td>2.750000</td>\n",
       "      <td>0.450000</td>\n",
       "    </tr>\n",
       "    <tr>\n",
       "      <th>2</th>\n",
       "      <td>2.615385</td>\n",
       "      <td>3.615385</td>\n",
       "      <td>0.276923</td>\n",
       "    </tr>\n",
       "    <tr>\n",
       "      <th>3</th>\n",
       "      <td>3.550000</td>\n",
       "      <td>4.550000</td>\n",
       "      <td>0.562500</td>\n",
       "    </tr>\n",
       "  </tbody>\n",
       "</table>\n",
       "</div>"
      ],
      "text/plain": [
       "          0         1         2\n",
       "0  1.000000  2.000000  0.600000\n",
       "1  1.750000  2.750000  0.450000\n",
       "2  2.615385  3.615385  0.276923\n",
       "3  3.550000  4.550000  0.562500"
      ]
     },
     "execution_count": 827,
     "metadata": {},
     "output_type": "execute_result"
    }
   ],
   "source": [
    "df.ewm(0.5).mean()"
   ]
  },
  {
   "cell_type": "code",
   "execution_count": 828,
   "id": "8ce2d85c",
   "metadata": {},
   "outputs": [
    {
     "data": {
      "text/plain": [
       "OnlineExponentialMovingWindow [com=0.5,min_periods=1,adjust=True,ignore_na=False,axis=0,method=single]"
      ]
     },
     "execution_count": 828,
     "metadata": {},
     "output_type": "execute_result"
    }
   ],
   "source": [
    "online_ewm = df.head(3).ewm(0.5).online()\n",
    "online_ewm"
   ]
  },
  {
   "cell_type": "code",
   "execution_count": 829,
   "id": "e2bb2ff1",
   "metadata": {},
   "outputs": [
    {
     "data": {
      "application/vnd.microsoft.datawrangler.viewer.v0+json": {
       "columns": [
        {
         "name": "index",
         "rawType": "int64",
         "type": "integer"
        },
        {
         "name": "0",
         "rawType": "float64",
         "type": "float"
        },
        {
         "name": "1",
         "rawType": "float64",
         "type": "float"
        },
        {
         "name": "2",
         "rawType": "float64",
         "type": "float"
        }
       ],
       "ref": "b8b4b5dc-97d7-478d-bf20-c53d8356343e",
       "rows": [
        [
         "0",
         "1.0",
         "2.0",
         "0.6"
        ],
        [
         "1",
         "1.75",
         "2.75",
         "0.45"
        ],
        [
         "2",
         "2.615384615384615",
         "3.615384615384615",
         "0.2769230769230769"
        ]
       ],
       "shape": {
        "columns": 3,
        "rows": 3
       }
      },
      "text/html": [
       "<div>\n",
       "<style scoped>\n",
       "    .dataframe tbody tr th:only-of-type {\n",
       "        vertical-align: middle;\n",
       "    }\n",
       "\n",
       "    .dataframe tbody tr th {\n",
       "        vertical-align: top;\n",
       "    }\n",
       "\n",
       "    .dataframe thead th {\n",
       "        text-align: right;\n",
       "    }\n",
       "</style>\n",
       "<table border=\"1\" class=\"dataframe\">\n",
       "  <thead>\n",
       "    <tr style=\"text-align: right;\">\n",
       "      <th></th>\n",
       "      <th>0</th>\n",
       "      <th>1</th>\n",
       "      <th>2</th>\n",
       "    </tr>\n",
       "  </thead>\n",
       "  <tbody>\n",
       "    <tr>\n",
       "      <th>0</th>\n",
       "      <td>1.000000</td>\n",
       "      <td>2.000000</td>\n",
       "      <td>0.600000</td>\n",
       "    </tr>\n",
       "    <tr>\n",
       "      <th>1</th>\n",
       "      <td>1.750000</td>\n",
       "      <td>2.750000</td>\n",
       "      <td>0.450000</td>\n",
       "    </tr>\n",
       "    <tr>\n",
       "      <th>2</th>\n",
       "      <td>2.615385</td>\n",
       "      <td>3.615385</td>\n",
       "      <td>0.276923</td>\n",
       "    </tr>\n",
       "  </tbody>\n",
       "</table>\n",
       "</div>"
      ],
      "text/plain": [
       "          0         1         2\n",
       "0  1.000000  2.000000  0.600000\n",
       "1  1.750000  2.750000  0.450000\n",
       "2  2.615385  3.615385  0.276923"
      ]
     },
     "execution_count": 829,
     "metadata": {},
     "output_type": "execute_result"
    }
   ],
   "source": [
    "online_ewm.mean()"
   ]
  },
  {
   "cell_type": "code",
   "execution_count": 830,
   "id": "0748639f",
   "metadata": {},
   "outputs": [
    {
     "data": {
      "application/vnd.microsoft.datawrangler.viewer.v0+json": {
       "columns": [
        {
         "name": "index",
         "rawType": "int64",
         "type": "integer"
        },
        {
         "name": "0",
         "rawType": "float64",
         "type": "float"
        },
        {
         "name": "1",
         "rawType": "float64",
         "type": "float"
        },
        {
         "name": "2",
         "rawType": "float64",
         "type": "float"
        }
       ],
       "ref": "f38001ed-0d38-4a5f-8886-647131e35def",
       "rows": [
        [
         "3",
         "3.55",
         "4.55",
         "0.5624999999999999"
        ]
       ],
       "shape": {
        "columns": 3,
        "rows": 1
       }
      },
      "text/html": [
       "<div>\n",
       "<style scoped>\n",
       "    .dataframe tbody tr th:only-of-type {\n",
       "        vertical-align: middle;\n",
       "    }\n",
       "\n",
       "    .dataframe tbody tr th {\n",
       "        vertical-align: top;\n",
       "    }\n",
       "\n",
       "    .dataframe thead th {\n",
       "        text-align: right;\n",
       "    }\n",
       "</style>\n",
       "<table border=\"1\" class=\"dataframe\">\n",
       "  <thead>\n",
       "    <tr style=\"text-align: right;\">\n",
       "      <th></th>\n",
       "      <th>0</th>\n",
       "      <th>1</th>\n",
       "      <th>2</th>\n",
       "    </tr>\n",
       "  </thead>\n",
       "  <tbody>\n",
       "    <tr>\n",
       "      <th>3</th>\n",
       "      <td>3.55</td>\n",
       "      <td>4.55</td>\n",
       "      <td>0.5625</td>\n",
       "    </tr>\n",
       "  </tbody>\n",
       "</table>\n",
       "</div>"
      ],
      "text/plain": [
       "      0     1       2\n",
       "3  3.55  4.55  0.5625"
      ]
     },
     "execution_count": 830,
     "metadata": {},
     "output_type": "execute_result"
    }
   ],
   "source": [
    "online_ewm.mean(update=df.tail(1))"
   ]
  },
  {
   "cell_type": "code",
   "execution_count": 831,
   "id": "4668910a",
   "metadata": {},
   "outputs": [
    {
     "data": {
      "application/vnd.microsoft.datawrangler.viewer.v0+json": {
       "columns": [
        {
         "name": "index",
         "rawType": "int64",
         "type": "integer"
        },
        {
         "name": "0",
         "rawType": "float64",
         "type": "float"
        }
       ],
       "ref": "f2bad27d-ec0f-479c-a08a-f4b3f6904be3",
       "rows": [
        [
         "0",
         null
        ],
        [
         "1",
         "1.0"
        ],
        [
         "2",
         "2.0"
        ],
        [
         "3",
         null
        ],
        [
         "4",
         null
        ],
        [
         "5",
         "3.0"
        ]
       ],
       "shape": {
        "columns": 1,
        "rows": 6
       }
      },
      "text/plain": [
       "0    NaN\n",
       "1    1.0\n",
       "2    2.0\n",
       "3    NaN\n",
       "4    NaN\n",
       "5    3.0\n",
       "dtype: float64"
      ]
     },
     "execution_count": 831,
     "metadata": {},
     "output_type": "execute_result"
    }
   ],
   "source": [
    "s = pd.Series([np.nan, 1, 2, np.nan, np.nan, 3])\n",
    "s"
   ]
  },
  {
   "cell_type": "code",
   "execution_count": 832,
   "id": "5b4c6934",
   "metadata": {},
   "outputs": [
    {
     "data": {
      "application/vnd.microsoft.datawrangler.viewer.v0+json": {
       "columns": [
        {
         "name": "index",
         "rawType": "int64",
         "type": "integer"
        },
        {
         "name": "0",
         "rawType": "float64",
         "type": "float"
        }
       ],
       "ref": "dddb8e12-8d12-4c28-b971-64bcbaeed366",
       "rows": [
        [
         "0",
         null
        ],
        [
         "1",
         null
        ],
        [
         "2",
         "3.0"
        ],
        [
         "3",
         "3.0"
        ],
        [
         "4",
         null
        ],
        [
         "5",
         null
        ]
       ],
       "shape": {
        "columns": 1,
        "rows": 6
       }
      },
      "text/plain": [
       "0    NaN\n",
       "1    NaN\n",
       "2    3.0\n",
       "3    3.0\n",
       "4    NaN\n",
       "5    NaN\n",
       "dtype: float64"
      ]
     },
     "execution_count": 832,
     "metadata": {},
     "output_type": "execute_result"
    }
   ],
   "source": [
    "s.rolling(window=3, min_periods=2).sum()"
   ]
  },
  {
   "cell_type": "code",
   "execution_count": 833,
   "id": "f29b5d2d",
   "metadata": {},
   "outputs": [
    {
     "data": {
      "application/vnd.microsoft.datawrangler.viewer.v0+json": {
       "columns": [
        {
         "name": "index",
         "rawType": "int64",
         "type": "integer"
        },
        {
         "name": "A",
         "rawType": "int64",
         "type": "integer"
        },
        {
         "name": "B",
         "rawType": "int64",
         "type": "integer"
        }
       ],
       "ref": "d9a90d0b-a234-49c6-85ee-d75adb2309fe",
       "rows": [
        [
         "0",
         "0",
         "10"
        ],
        [
         "1",
         "1",
         "11"
        ],
        [
         "2",
         "2",
         "12"
        ],
        [
         "3",
         "3",
         "13"
        ],
        [
         "4",
         "4",
         "14"
        ]
       ],
       "shape": {
        "columns": 2,
        "rows": 5
       }
      },
      "text/html": [
       "<div>\n",
       "<style scoped>\n",
       "    .dataframe tbody tr th:only-of-type {\n",
       "        vertical-align: middle;\n",
       "    }\n",
       "\n",
       "    .dataframe tbody tr th {\n",
       "        vertical-align: top;\n",
       "    }\n",
       "\n",
       "    .dataframe thead th {\n",
       "        text-align: right;\n",
       "    }\n",
       "</style>\n",
       "<table border=\"1\" class=\"dataframe\">\n",
       "  <thead>\n",
       "    <tr style=\"text-align: right;\">\n",
       "      <th></th>\n",
       "      <th>A</th>\n",
       "      <th>B</th>\n",
       "    </tr>\n",
       "  </thead>\n",
       "  <tbody>\n",
       "    <tr>\n",
       "      <th>0</th>\n",
       "      <td>0</td>\n",
       "      <td>10</td>\n",
       "    </tr>\n",
       "    <tr>\n",
       "      <th>1</th>\n",
       "      <td>1</td>\n",
       "      <td>11</td>\n",
       "    </tr>\n",
       "    <tr>\n",
       "      <th>2</th>\n",
       "      <td>2</td>\n",
       "      <td>12</td>\n",
       "    </tr>\n",
       "    <tr>\n",
       "      <th>3</th>\n",
       "      <td>3</td>\n",
       "      <td>13</td>\n",
       "    </tr>\n",
       "    <tr>\n",
       "      <th>4</th>\n",
       "      <td>4</td>\n",
       "      <td>14</td>\n",
       "    </tr>\n",
       "  </tbody>\n",
       "</table>\n",
       "</div>"
      ],
      "text/plain": [
       "   A   B\n",
       "0  0  10\n",
       "1  1  11\n",
       "2  2  12\n",
       "3  3  13\n",
       "4  4  14"
      ]
     },
     "execution_count": 833,
     "metadata": {},
     "output_type": "execute_result"
    }
   ],
   "source": [
    "df = pd.DataFrame({\"A\": range(5), \"B\": range(10, 15)})\n",
    "df"
   ]
  },
  {
   "cell_type": "code",
   "execution_count": 834,
   "id": "4f3a0c48",
   "metadata": {},
   "outputs": [
    {
     "data": {
      "application/vnd.microsoft.datawrangler.viewer.v0+json": {
       "columns": [
        {
         "name": "index",
         "rawType": "int64",
         "type": "integer"
        },
        {
         "name": "('A', 'sum')",
         "rawType": "float64",
         "type": "float"
        },
        {
         "name": "('A', 'mean')",
         "rawType": "float64",
         "type": "float"
        },
        {
         "name": "('B', 'sum')",
         "rawType": "float64",
         "type": "float"
        },
        {
         "name": "('B', 'mean')",
         "rawType": "float64",
         "type": "float"
        }
       ],
       "ref": "f860c4c5-aaf7-4832-a8e1-9852d47d8953",
       "rows": [
        [
         "0",
         null,
         null,
         null,
         null
        ],
        [
         "1",
         null,
         null,
         null,
         null
        ],
        [
         "2",
         "3.0",
         "1.0",
         "33.0",
         "11.0"
        ],
        [
         "3",
         "6.0",
         "2.0",
         "36.0",
         "12.0"
        ],
        [
         "4",
         "9.0",
         "3.0",
         "39.0",
         "13.0"
        ]
       ],
       "shape": {
        "columns": 4,
        "rows": 5
       }
      },
      "text/html": [
       "<div>\n",
       "<style scoped>\n",
       "    .dataframe tbody tr th:only-of-type {\n",
       "        vertical-align: middle;\n",
       "    }\n",
       "\n",
       "    .dataframe tbody tr th {\n",
       "        vertical-align: top;\n",
       "    }\n",
       "\n",
       "    .dataframe thead tr th {\n",
       "        text-align: left;\n",
       "    }\n",
       "</style>\n",
       "<table border=\"1\" class=\"dataframe\">\n",
       "  <thead>\n",
       "    <tr>\n",
       "      <th></th>\n",
       "      <th colspan=\"2\" halign=\"left\">A</th>\n",
       "      <th colspan=\"2\" halign=\"left\">B</th>\n",
       "    </tr>\n",
       "    <tr>\n",
       "      <th></th>\n",
       "      <th>sum</th>\n",
       "      <th>mean</th>\n",
       "      <th>sum</th>\n",
       "      <th>mean</th>\n",
       "    </tr>\n",
       "  </thead>\n",
       "  <tbody>\n",
       "    <tr>\n",
       "      <th>0</th>\n",
       "      <td>NaN</td>\n",
       "      <td>NaN</td>\n",
       "      <td>NaN</td>\n",
       "      <td>NaN</td>\n",
       "    </tr>\n",
       "    <tr>\n",
       "      <th>1</th>\n",
       "      <td>NaN</td>\n",
       "      <td>NaN</td>\n",
       "      <td>NaN</td>\n",
       "      <td>NaN</td>\n",
       "    </tr>\n",
       "    <tr>\n",
       "      <th>2</th>\n",
       "      <td>3.0</td>\n",
       "      <td>1.0</td>\n",
       "      <td>33.0</td>\n",
       "      <td>11.0</td>\n",
       "    </tr>\n",
       "    <tr>\n",
       "      <th>3</th>\n",
       "      <td>6.0</td>\n",
       "      <td>2.0</td>\n",
       "      <td>36.0</td>\n",
       "      <td>12.0</td>\n",
       "    </tr>\n",
       "    <tr>\n",
       "      <th>4</th>\n",
       "      <td>9.0</td>\n",
       "      <td>3.0</td>\n",
       "      <td>39.0</td>\n",
       "      <td>13.0</td>\n",
       "    </tr>\n",
       "  </tbody>\n",
       "</table>\n",
       "</div>"
      ],
      "text/plain": [
       "     A          B      \n",
       "   sum mean   sum  mean\n",
       "0  NaN  NaN   NaN   NaN\n",
       "1  NaN  NaN   NaN   NaN\n",
       "2  3.0  1.0  33.0  11.0\n",
       "3  6.0  2.0  36.0  12.0\n",
       "4  9.0  3.0  39.0  13.0"
      ]
     },
     "execution_count": 834,
     "metadata": {},
     "output_type": "execute_result"
    }
   ],
   "source": [
    "df.rolling(window=3).agg(['sum', 'mean'])"
   ]
  },
  {
   "cell_type": "code",
   "execution_count": 835,
   "id": "3f09903b",
   "metadata": {},
   "outputs": [
    {
     "data": {
      "application/vnd.microsoft.datawrangler.viewer.v0+json": {
       "columns": [
        {
         "name": "index",
         "rawType": "datetime64[ns]",
         "type": "datetime"
        },
        {
         "name": "0",
         "rawType": "int64",
         "type": "integer"
        }
       ],
       "ref": "de5b55cb-a1f7-4d95-a3b8-6b943cef9cb6",
       "rows": [
        [
         "2020-01-01 00:00:00",
         "0"
        ],
        [
         "2020-01-03 00:00:00",
         "1"
        ],
        [
         "2020-01-04 00:00:00",
         "2"
        ],
        [
         "2020-01-05 00:00:00",
         "3"
        ],
        [
         "2020-01-29 00:00:00",
         "4"
        ]
       ],
       "shape": {
        "columns": 1,
        "rows": 5
       }
      },
      "text/plain": [
       "2020-01-01    0\n",
       "2020-01-03    1\n",
       "2020-01-04    2\n",
       "2020-01-05    3\n",
       "2020-01-29    4\n",
       "dtype: int64"
      ]
     },
     "execution_count": 835,
     "metadata": {},
     "output_type": "execute_result"
    }
   ],
   "source": [
    "times = ['2020-01-01', '2020-01-03', '2020-01-04', '2020-01-05', '2020-01-29']\n",
    "\n",
    "s = pd.Series(range(5), index=pd.DatetimeIndex(times))\n",
    "\n",
    "s"
   ]
  },
  {
   "cell_type": "code",
   "execution_count": 836,
   "id": "eefeb2af",
   "metadata": {},
   "outputs": [
    {
     "data": {
      "application/vnd.microsoft.datawrangler.viewer.v0+json": {
       "columns": [
        {
         "name": "index",
         "rawType": "datetime64[ns]",
         "type": "datetime"
        },
        {
         "name": "0",
         "rawType": "float64",
         "type": "float"
        }
       ],
       "ref": "ad98006e-b159-4839-92c5-400dd346009b",
       "rows": [
        [
         "2020-01-01 00:00:00",
         null
        ],
        [
         "2020-01-03 00:00:00",
         "1.0"
        ],
        [
         "2020-01-04 00:00:00",
         "3.0"
        ],
        [
         "2020-01-05 00:00:00",
         "5.0"
        ],
        [
         "2020-01-29 00:00:00",
         "7.0"
        ]
       ],
       "shape": {
        "columns": 1,
        "rows": 5
       }
      },
      "text/plain": [
       "2020-01-01    NaN\n",
       "2020-01-03    1.0\n",
       "2020-01-04    3.0\n",
       "2020-01-05    5.0\n",
       "2020-01-29    7.0\n",
       "dtype: float64"
      ]
     },
     "execution_count": 836,
     "metadata": {},
     "output_type": "execute_result"
    }
   ],
   "source": [
    "s.rolling(window=2).sum()"
   ]
  },
  {
   "cell_type": "code",
   "execution_count": 837,
   "id": "dfdd2370",
   "metadata": {},
   "outputs": [
    {
     "data": {
      "application/vnd.microsoft.datawrangler.viewer.v0+json": {
       "columns": [
        {
         "name": "index",
         "rawType": "datetime64[ns]",
         "type": "datetime"
        },
        {
         "name": "0",
         "rawType": "float64",
         "type": "float"
        }
       ],
       "ref": "846caa94-060a-4263-bd4a-0bb9dd0c8883",
       "rows": [
        [
         "2020-01-01 00:00:00",
         "0.0"
        ],
        [
         "2020-01-03 00:00:00",
         "1.0"
        ],
        [
         "2020-01-04 00:00:00",
         "3.0"
        ],
        [
         "2020-01-05 00:00:00",
         "5.0"
        ],
        [
         "2020-01-29 00:00:00",
         "4.0"
        ]
       ],
       "shape": {
        "columns": 1,
        "rows": 5
       }
      },
      "text/plain": [
       "2020-01-01    0.0\n",
       "2020-01-03    1.0\n",
       "2020-01-04    3.0\n",
       "2020-01-05    5.0\n",
       "2020-01-29    4.0\n",
       "dtype: float64"
      ]
     },
     "execution_count": 837,
     "metadata": {},
     "output_type": "execute_result"
    }
   ],
   "source": [
    "s.rolling(window='2D').sum()"
   ]
  },
  {
   "cell_type": "code",
   "execution_count": 838,
   "id": "998d5796",
   "metadata": {},
   "outputs": [
    {
     "data": {
      "application/vnd.microsoft.datawrangler.viewer.v0+json": {
       "columns": [
        {
         "name": "index",
         "rawType": "datetime64[ns]",
         "type": "datetime"
        },
        {
         "name": "x",
         "rawType": "int64",
         "type": "integer"
        }
       ],
       "ref": "732ea4f1-352e-46a1-9d19-b782717dadab",
       "rows": [
        [
         "2013-01-01 09:00:01",
         "1"
        ],
        [
         "2013-01-01 09:00:02",
         "1"
        ],
        [
         "2013-01-01 09:00:03",
         "1"
        ],
        [
         "2013-01-01 09:00:04",
         "1"
        ],
        [
         "2013-01-01 09:00:06",
         "1"
        ]
       ],
       "shape": {
        "columns": 1,
        "rows": 5
       }
      },
      "text/html": [
       "<div>\n",
       "<style scoped>\n",
       "    .dataframe tbody tr th:only-of-type {\n",
       "        vertical-align: middle;\n",
       "    }\n",
       "\n",
       "    .dataframe tbody tr th {\n",
       "        vertical-align: top;\n",
       "    }\n",
       "\n",
       "    .dataframe thead th {\n",
       "        text-align: right;\n",
       "    }\n",
       "</style>\n",
       "<table border=\"1\" class=\"dataframe\">\n",
       "  <thead>\n",
       "    <tr style=\"text-align: right;\">\n",
       "      <th></th>\n",
       "      <th>x</th>\n",
       "    </tr>\n",
       "  </thead>\n",
       "  <tbody>\n",
       "    <tr>\n",
       "      <th>2013-01-01 09:00:01</th>\n",
       "      <td>1</td>\n",
       "    </tr>\n",
       "    <tr>\n",
       "      <th>2013-01-01 09:00:02</th>\n",
       "      <td>1</td>\n",
       "    </tr>\n",
       "    <tr>\n",
       "      <th>2013-01-01 09:00:03</th>\n",
       "      <td>1</td>\n",
       "    </tr>\n",
       "    <tr>\n",
       "      <th>2013-01-01 09:00:04</th>\n",
       "      <td>1</td>\n",
       "    </tr>\n",
       "    <tr>\n",
       "      <th>2013-01-01 09:00:06</th>\n",
       "      <td>1</td>\n",
       "    </tr>\n",
       "  </tbody>\n",
       "</table>\n",
       "</div>"
      ],
      "text/plain": [
       "                     x\n",
       "2013-01-01 09:00:01  1\n",
       "2013-01-01 09:00:02  1\n",
       "2013-01-01 09:00:03  1\n",
       "2013-01-01 09:00:04  1\n",
       "2013-01-01 09:00:06  1"
      ]
     },
     "execution_count": 838,
     "metadata": {},
     "output_type": "execute_result"
    }
   ],
   "source": [
    "df = pd.DataFrame(\n",
    "    {\"x\": 1},\n",
    "    index=[\n",
    "        pd.Timestamp(\"20130101 09:00:01\"),\n",
    "        pd.Timestamp(\"20130101 09:00:02\"),\n",
    "        pd.Timestamp(\"20130101 09:00:03\"),\n",
    "        pd.Timestamp(\"20130101 09:00:04\"),\n",
    "        pd.Timestamp(\"20130101 09:00:06\"),\n",
    "    ],\n",
    ")\n",
    "df"
   ]
  },
  {
   "cell_type": "code",
   "execution_count": 839,
   "id": "8e94bcc9",
   "metadata": {},
   "outputs": [
    {
     "data": {
      "application/vnd.microsoft.datawrangler.viewer.v0+json": {
       "columns": [
        {
         "name": "index",
         "rawType": "datetime64[ns]",
         "type": "datetime"
        },
        {
         "name": "x",
         "rawType": "float64",
         "type": "float"
        }
       ],
       "ref": "b5481f21-0fe6-4451-aba2-bda8cec128e3",
       "rows": [
        [
         "2013-01-01 09:00:01",
         "1.0"
        ],
        [
         "2013-01-01 09:00:02",
         "2.0"
        ],
        [
         "2013-01-01 09:00:03",
         "3.0"
        ],
        [
         "2013-01-01 09:00:04",
         "3.0"
        ],
        [
         "2013-01-01 09:00:06",
         "2.0"
        ]
       ],
       "shape": {
        "columns": 1,
        "rows": 5
       }
      },
      "text/plain": [
       "2013-01-01 09:00:01    1.0\n",
       "2013-01-01 09:00:02    2.0\n",
       "2013-01-01 09:00:03    3.0\n",
       "2013-01-01 09:00:04    3.0\n",
       "2013-01-01 09:00:06    2.0\n",
       "Name: x, dtype: float64"
      ]
     },
     "execution_count": 839,
     "metadata": {},
     "output_type": "execute_result"
    }
   ],
   "source": [
    "df.rolling(\"2s\", closed=\"both\").x.sum()"
   ]
  },
  {
   "cell_type": "code",
   "execution_count": 840,
   "id": "69663c66",
   "metadata": {},
   "outputs": [
    {
     "data": {
      "application/vnd.microsoft.datawrangler.viewer.v0+json": {
       "columns": [
        {
         "name": "index",
         "rawType": "datetime64[ns]",
         "type": "datetime"
        },
        {
         "name": "0",
         "rawType": "int64",
         "type": "integer"
        }
       ],
       "ref": "9740a565-b48a-43f1-829d-b966deba10dd",
       "rows": [
        [
         "2020-01-01 00:00:00",
         "0"
        ],
        [
         "2020-01-02 00:00:00",
         "1"
        ],
        [
         "2020-01-03 00:00:00",
         "2"
        ],
        [
         "2020-01-04 00:00:00",
         "3"
        ],
        [
         "2020-01-05 00:00:00",
         "4"
        ],
        [
         "2020-01-06 00:00:00",
         "5"
        ],
        [
         "2020-01-07 00:00:00",
         "6"
        ],
        [
         "2020-01-08 00:00:00",
         "7"
        ],
        [
         "2020-01-09 00:00:00",
         "8"
        ],
        [
         "2020-01-10 00:00:00",
         "9"
        ]
       ],
       "shape": {
        "columns": 1,
        "rows": 10
       }
      },
      "text/html": [
       "<div>\n",
       "<style scoped>\n",
       "    .dataframe tbody tr th:only-of-type {\n",
       "        vertical-align: middle;\n",
       "    }\n",
       "\n",
       "    .dataframe tbody tr th {\n",
       "        vertical-align: top;\n",
       "    }\n",
       "\n",
       "    .dataframe thead th {\n",
       "        text-align: right;\n",
       "    }\n",
       "</style>\n",
       "<table border=\"1\" class=\"dataframe\">\n",
       "  <thead>\n",
       "    <tr style=\"text-align: right;\">\n",
       "      <th></th>\n",
       "      <th>0</th>\n",
       "    </tr>\n",
       "  </thead>\n",
       "  <tbody>\n",
       "    <tr>\n",
       "      <th>2020-01-01</th>\n",
       "      <td>0</td>\n",
       "    </tr>\n",
       "    <tr>\n",
       "      <th>2020-01-02</th>\n",
       "      <td>1</td>\n",
       "    </tr>\n",
       "    <tr>\n",
       "      <th>2020-01-03</th>\n",
       "      <td>2</td>\n",
       "    </tr>\n",
       "    <tr>\n",
       "      <th>2020-01-04</th>\n",
       "      <td>3</td>\n",
       "    </tr>\n",
       "    <tr>\n",
       "      <th>2020-01-05</th>\n",
       "      <td>4</td>\n",
       "    </tr>\n",
       "    <tr>\n",
       "      <th>2020-01-06</th>\n",
       "      <td>5</td>\n",
       "    </tr>\n",
       "    <tr>\n",
       "      <th>2020-01-07</th>\n",
       "      <td>6</td>\n",
       "    </tr>\n",
       "    <tr>\n",
       "      <th>2020-01-08</th>\n",
       "      <td>7</td>\n",
       "    </tr>\n",
       "    <tr>\n",
       "      <th>2020-01-09</th>\n",
       "      <td>8</td>\n",
       "    </tr>\n",
       "    <tr>\n",
       "      <th>2020-01-10</th>\n",
       "      <td>9</td>\n",
       "    </tr>\n",
       "  </tbody>\n",
       "</table>\n",
       "</div>"
      ],
      "text/plain": [
       "            0\n",
       "2020-01-01  0\n",
       "2020-01-02  1\n",
       "2020-01-03  2\n",
       "2020-01-04  3\n",
       "2020-01-05  4\n",
       "2020-01-06  5\n",
       "2020-01-07  6\n",
       "2020-01-08  7\n",
       "2020-01-09  8\n",
       "2020-01-10  9"
      ]
     },
     "execution_count": 840,
     "metadata": {},
     "output_type": "execute_result"
    }
   ],
   "source": [
    "from pandas.api.indexers import VariableOffsetWindowIndexer\n",
    "\n",
    "df = pd.DataFrame(range(10), index=pd.date_range(\"2020\", periods=10))\n",
    "\n",
    "offset = pd.offsets.BDay(1)\n",
    "\n",
    "indexer = VariableOffsetWindowIndexer(index=df.index, offset=offset)\n",
    "\n",
    "df"
   ]
  },
  {
   "cell_type": "code",
   "execution_count": 841,
   "id": "66b6f719",
   "metadata": {},
   "outputs": [
    {
     "data": {
      "application/vnd.microsoft.datawrangler.viewer.v0+json": {
       "columns": [
        {
         "name": "index",
         "rawType": "datetime64[ns]",
         "type": "datetime"
        },
        {
         "name": "0",
         "rawType": "float64",
         "type": "float"
        }
       ],
       "ref": "52f310d1-a965-4b95-86ed-77b5f20c830d",
       "rows": [
        [
         "2020-01-01 00:00:00",
         "0.0"
        ],
        [
         "2020-01-02 00:00:00",
         "1.0"
        ],
        [
         "2020-01-03 00:00:00",
         "2.0"
        ],
        [
         "2020-01-04 00:00:00",
         "3.0"
        ],
        [
         "2020-01-05 00:00:00",
         "7.0"
        ],
        [
         "2020-01-06 00:00:00",
         "12.0"
        ],
        [
         "2020-01-07 00:00:00",
         "6.0"
        ],
        [
         "2020-01-08 00:00:00",
         "7.0"
        ],
        [
         "2020-01-09 00:00:00",
         "8.0"
        ],
        [
         "2020-01-10 00:00:00",
         "9.0"
        ]
       ],
       "shape": {
        "columns": 1,
        "rows": 10
       }
      },
      "text/html": [
       "<div>\n",
       "<style scoped>\n",
       "    .dataframe tbody tr th:only-of-type {\n",
       "        vertical-align: middle;\n",
       "    }\n",
       "\n",
       "    .dataframe tbody tr th {\n",
       "        vertical-align: top;\n",
       "    }\n",
       "\n",
       "    .dataframe thead th {\n",
       "        text-align: right;\n",
       "    }\n",
       "</style>\n",
       "<table border=\"1\" class=\"dataframe\">\n",
       "  <thead>\n",
       "    <tr style=\"text-align: right;\">\n",
       "      <th></th>\n",
       "      <th>0</th>\n",
       "    </tr>\n",
       "  </thead>\n",
       "  <tbody>\n",
       "    <tr>\n",
       "      <th>2020-01-01</th>\n",
       "      <td>0.0</td>\n",
       "    </tr>\n",
       "    <tr>\n",
       "      <th>2020-01-02</th>\n",
       "      <td>1.0</td>\n",
       "    </tr>\n",
       "    <tr>\n",
       "      <th>2020-01-03</th>\n",
       "      <td>2.0</td>\n",
       "    </tr>\n",
       "    <tr>\n",
       "      <th>2020-01-04</th>\n",
       "      <td>3.0</td>\n",
       "    </tr>\n",
       "    <tr>\n",
       "      <th>2020-01-05</th>\n",
       "      <td>7.0</td>\n",
       "    </tr>\n",
       "    <tr>\n",
       "      <th>2020-01-06</th>\n",
       "      <td>12.0</td>\n",
       "    </tr>\n",
       "    <tr>\n",
       "      <th>2020-01-07</th>\n",
       "      <td>6.0</td>\n",
       "    </tr>\n",
       "    <tr>\n",
       "      <th>2020-01-08</th>\n",
       "      <td>7.0</td>\n",
       "    </tr>\n",
       "    <tr>\n",
       "      <th>2020-01-09</th>\n",
       "      <td>8.0</td>\n",
       "    </tr>\n",
       "    <tr>\n",
       "      <th>2020-01-10</th>\n",
       "      <td>9.0</td>\n",
       "    </tr>\n",
       "  </tbody>\n",
       "</table>\n",
       "</div>"
      ],
      "text/plain": [
       "               0\n",
       "2020-01-01   0.0\n",
       "2020-01-02   1.0\n",
       "2020-01-03   2.0\n",
       "2020-01-04   3.0\n",
       "2020-01-05   7.0\n",
       "2020-01-06  12.0\n",
       "2020-01-07   6.0\n",
       "2020-01-08   7.0\n",
       "2020-01-09   8.0\n",
       "2020-01-10   9.0"
      ]
     },
     "execution_count": 841,
     "metadata": {},
     "output_type": "execute_result"
    }
   ],
   "source": [
    "df.rolling(indexer).sum()"
   ]
  },
  {
   "cell_type": "code",
   "execution_count": 842,
   "id": "e396f31c",
   "metadata": {},
   "outputs": [
    {
     "data": {
      "application/vnd.microsoft.datawrangler.viewer.v0+json": {
       "columns": [
        {
         "name": "index",
         "rawType": "datetime64[ns]",
         "type": "datetime"
        },
        {
         "name": "A",
         "rawType": "float64",
         "type": "float"
        },
        {
         "name": "B",
         "rawType": "float64",
         "type": "float"
        },
        {
         "name": "C",
         "rawType": "float64",
         "type": "float"
        },
        {
         "name": "D",
         "rawType": "float64",
         "type": "float"
        }
       ],
       "ref": "042f5c2a-de60-4146-a0d5-0a6ac090940d",
       "rows": [
        [
         "2020-01-01 00:00:00",
         "0.7300570337111026",
         "-1.3169376834447832",
         "-0.7513276265311025",
         "0.5282900335229547"
        ],
        [
         "2020-01-02 00:00:00",
         "-0.2577590220415048",
         "-1.081009337615482",
         "0.5058950638976822",
         "-1.7019482086431366"
        ],
        [
         "2020-01-03 00:00:00",
         "-1.0063489107268406",
         "0.020208191233871967",
         "-1.1574260785402677",
         "-0.09649105219895907"
        ],
        [
         "2020-01-04 00:00:00",
         "0.9993442746151946",
         "-1.4820117655780332",
         "0.18929118082277396",
         "0.9268278743844209"
        ],
        [
         "2020-01-05 00:00:00",
         "-0.029094687540696596",
         "1.776600137098917",
         "-1.3342942983902104",
         "2.0853990204409154"
        ],
        [
         "2020-01-06 00:00:00",
         "-0.6330360936346086",
         "0.20820777531154752",
         "-1.7233332966009836",
         "-0.35548642257770124"
        ],
        [
         "2020-01-07 00:00:00",
         "-0.1439585126361137",
         "0.1776346957111602",
         "1.071746029016304",
         "-0.5168755112787361"
        ],
        [
         "2020-01-08 00:00:00",
         "-0.3827087729903829",
         "0.8885998850561011",
         "-0.15625969875302725",
         "-0.7202539062705468"
        ],
        [
         "2020-01-09 00:00:00",
         "-0.8371611703272454",
         "-0.4269017236202455",
         "-0.354174466230608",
         "0.5108039960696048"
        ],
        [
         "2020-01-10 00:00:00",
         "0.1565346158525372",
         "0.29476687597392004",
         "-1.4486078108514862",
         "-1.191083651175775"
        ]
       ],
       "shape": {
        "columns": 4,
        "rows": 10
       }
      },
      "text/html": [
       "<div>\n",
       "<style scoped>\n",
       "    .dataframe tbody tr th:only-of-type {\n",
       "        vertical-align: middle;\n",
       "    }\n",
       "\n",
       "    .dataframe tbody tr th {\n",
       "        vertical-align: top;\n",
       "    }\n",
       "\n",
       "    .dataframe thead th {\n",
       "        text-align: right;\n",
       "    }\n",
       "</style>\n",
       "<table border=\"1\" class=\"dataframe\">\n",
       "  <thead>\n",
       "    <tr style=\"text-align: right;\">\n",
       "      <th></th>\n",
       "      <th>A</th>\n",
       "      <th>B</th>\n",
       "      <th>C</th>\n",
       "      <th>D</th>\n",
       "    </tr>\n",
       "  </thead>\n",
       "  <tbody>\n",
       "    <tr>\n",
       "      <th>2020-01-01</th>\n",
       "      <td>0.730057</td>\n",
       "      <td>-1.316938</td>\n",
       "      <td>-0.751328</td>\n",
       "      <td>0.528290</td>\n",
       "    </tr>\n",
       "    <tr>\n",
       "      <th>2020-01-02</th>\n",
       "      <td>-0.257759</td>\n",
       "      <td>-1.081009</td>\n",
       "      <td>0.505895</td>\n",
       "      <td>-1.701948</td>\n",
       "    </tr>\n",
       "    <tr>\n",
       "      <th>2020-01-03</th>\n",
       "      <td>-1.006349</td>\n",
       "      <td>0.020208</td>\n",
       "      <td>-1.157426</td>\n",
       "      <td>-0.096491</td>\n",
       "    </tr>\n",
       "    <tr>\n",
       "      <th>2020-01-04</th>\n",
       "      <td>0.999344</td>\n",
       "      <td>-1.482012</td>\n",
       "      <td>0.189291</td>\n",
       "      <td>0.926828</td>\n",
       "    </tr>\n",
       "    <tr>\n",
       "      <th>2020-01-05</th>\n",
       "      <td>-0.029095</td>\n",
       "      <td>1.776600</td>\n",
       "      <td>-1.334294</td>\n",
       "      <td>2.085399</td>\n",
       "    </tr>\n",
       "    <tr>\n",
       "      <th>2020-01-06</th>\n",
       "      <td>-0.633036</td>\n",
       "      <td>0.208208</td>\n",
       "      <td>-1.723333</td>\n",
       "      <td>-0.355486</td>\n",
       "    </tr>\n",
       "    <tr>\n",
       "      <th>2020-01-07</th>\n",
       "      <td>-0.143959</td>\n",
       "      <td>0.177635</td>\n",
       "      <td>1.071746</td>\n",
       "      <td>-0.516876</td>\n",
       "    </tr>\n",
       "    <tr>\n",
       "      <th>2020-01-08</th>\n",
       "      <td>-0.382709</td>\n",
       "      <td>0.888600</td>\n",
       "      <td>-0.156260</td>\n",
       "      <td>-0.720254</td>\n",
       "    </tr>\n",
       "    <tr>\n",
       "      <th>2020-01-09</th>\n",
       "      <td>-0.837161</td>\n",
       "      <td>-0.426902</td>\n",
       "      <td>-0.354174</td>\n",
       "      <td>0.510804</td>\n",
       "    </tr>\n",
       "    <tr>\n",
       "      <th>2020-01-10</th>\n",
       "      <td>0.156535</td>\n",
       "      <td>0.294767</td>\n",
       "      <td>-1.448608</td>\n",
       "      <td>-1.191084</td>\n",
       "    </tr>\n",
       "  </tbody>\n",
       "</table>\n",
       "</div>"
      ],
      "text/plain": [
       "                   A         B         C         D\n",
       "2020-01-01  0.730057 -1.316938 -0.751328  0.528290\n",
       "2020-01-02 -0.257759 -1.081009  0.505895 -1.701948\n",
       "2020-01-03 -1.006349  0.020208 -1.157426 -0.096491\n",
       "2020-01-04  0.999344 -1.482012  0.189291  0.926828\n",
       "2020-01-05 -0.029095  1.776600 -1.334294  2.085399\n",
       "2020-01-06 -0.633036  0.208208 -1.723333 -0.355486\n",
       "2020-01-07 -0.143959  0.177635  1.071746 -0.516876\n",
       "2020-01-08 -0.382709  0.888600 -0.156260 -0.720254\n",
       "2020-01-09 -0.837161 -0.426902 -0.354174  0.510804\n",
       "2020-01-10  0.156535  0.294767 -1.448608 -1.191084"
      ]
     },
     "execution_count": 842,
     "metadata": {},
     "output_type": "execute_result"
    }
   ],
   "source": [
    "df = pd.DataFrame(\n",
    "    np.random.randn(10, 4),\n",
    "    index=pd.date_range(\"2020-01-01\", periods=10),\n",
    "    columns=[\"A\", \"B\", \"C\", \"D\"],\n",
    ")\n",
    "df"
   ]
  },
  {
   "cell_type": "code",
   "execution_count": 843,
   "id": "d7f0e1bf",
   "metadata": {},
   "outputs": [
    {
     "data": {
      "application/vnd.microsoft.datawrangler.viewer.v0+json": {
       "columns": [
        {
         "name": "index",
         "rawType": "datetime64[ns]",
         "type": "datetime"
        },
        {
         "name": "A",
         "rawType": "float64",
         "type": "float"
        },
        {
         "name": "B",
         "rawType": "float64",
         "type": "float"
        },
        {
         "name": "C",
         "rawType": "float64",
         "type": "float"
        },
        {
         "name": "D",
         "rawType": "float64",
         "type": "float"
        }
       ],
       "ref": "d0ecf058-9657-4014-a785-50b855f88d4c",
       "rows": [
        [
         "2020-01-01 00:00:00",
         null,
         null,
         null,
         null
        ],
        [
         "2020-01-02 00:00:00",
         null,
         null,
         null,
         null
        ],
        [
         "2020-01-03 00:00:00",
         null,
         null,
         null,
         null
        ],
        [
         "2020-01-04 00:00:00",
         null,
         null,
         null,
         null
        ],
        [
         "2020-01-05 00:00:00",
         "1.0",
         "-0.4710733554598185",
         "0.3565842944158153",
         "0.3652579439709013"
        ],
        [
         "2020-01-06 00:00:00",
         "1.0000000000000002",
         "-0.3897195899896526",
         "0.566667220681985",
         "0.41316503481884137"
        ],
        [
         "2020-01-07 00:00:00",
         "1.0000000000000002",
         "-0.45583566081817395",
         "0.518335518326649",
         "0.4809169202276842"
        ],
        [
         "2020-01-08 00:00:00",
         "1.0000000000000007",
         "-0.6593934417053977",
         "0.4040284825402975",
         "0.5003619058930657"
        ],
        [
         "2020-01-09 00:00:00",
         "1.0000000000000004",
         "0.7739706986643613",
         "0.2181836288376702",
         "0.3193504366964591"
        ],
        [
         "2020-01-10 00:00:00",
         "1.0000000000000009",
         "0.4453783564636278",
         "0.0599864644453658",
         "-0.8936088103815893"
        ]
       ],
       "shape": {
        "columns": 4,
        "rows": 10
       }
      },
      "text/html": [
       "<div>\n",
       "<style scoped>\n",
       "    .dataframe tbody tr th:only-of-type {\n",
       "        vertical-align: middle;\n",
       "    }\n",
       "\n",
       "    .dataframe tbody tr th {\n",
       "        vertical-align: top;\n",
       "    }\n",
       "\n",
       "    .dataframe thead th {\n",
       "        text-align: right;\n",
       "    }\n",
       "</style>\n",
       "<table border=\"1\" class=\"dataframe\">\n",
       "  <thead>\n",
       "    <tr style=\"text-align: right;\">\n",
       "      <th></th>\n",
       "      <th>A</th>\n",
       "      <th>B</th>\n",
       "      <th>C</th>\n",
       "      <th>D</th>\n",
       "    </tr>\n",
       "  </thead>\n",
       "  <tbody>\n",
       "    <tr>\n",
       "      <th>2020-01-01</th>\n",
       "      <td>NaN</td>\n",
       "      <td>NaN</td>\n",
       "      <td>NaN</td>\n",
       "      <td>NaN</td>\n",
       "    </tr>\n",
       "    <tr>\n",
       "      <th>2020-01-02</th>\n",
       "      <td>NaN</td>\n",
       "      <td>NaN</td>\n",
       "      <td>NaN</td>\n",
       "      <td>NaN</td>\n",
       "    </tr>\n",
       "    <tr>\n",
       "      <th>2020-01-03</th>\n",
       "      <td>NaN</td>\n",
       "      <td>NaN</td>\n",
       "      <td>NaN</td>\n",
       "      <td>NaN</td>\n",
       "    </tr>\n",
       "    <tr>\n",
       "      <th>2020-01-04</th>\n",
       "      <td>NaN</td>\n",
       "      <td>NaN</td>\n",
       "      <td>NaN</td>\n",
       "      <td>NaN</td>\n",
       "    </tr>\n",
       "    <tr>\n",
       "      <th>2020-01-05</th>\n",
       "      <td>1.0</td>\n",
       "      <td>-0.471073</td>\n",
       "      <td>0.356584</td>\n",
       "      <td>0.365258</td>\n",
       "    </tr>\n",
       "    <tr>\n",
       "      <th>2020-01-06</th>\n",
       "      <td>1.0</td>\n",
       "      <td>-0.389720</td>\n",
       "      <td>0.566667</td>\n",
       "      <td>0.413165</td>\n",
       "    </tr>\n",
       "    <tr>\n",
       "      <th>2020-01-07</th>\n",
       "      <td>1.0</td>\n",
       "      <td>-0.455836</td>\n",
       "      <td>0.518336</td>\n",
       "      <td>0.480917</td>\n",
       "    </tr>\n",
       "    <tr>\n",
       "      <th>2020-01-08</th>\n",
       "      <td>1.0</td>\n",
       "      <td>-0.659393</td>\n",
       "      <td>0.404028</td>\n",
       "      <td>0.500362</td>\n",
       "    </tr>\n",
       "    <tr>\n",
       "      <th>2020-01-09</th>\n",
       "      <td>1.0</td>\n",
       "      <td>0.773971</td>\n",
       "      <td>0.218184</td>\n",
       "      <td>0.319350</td>\n",
       "    </tr>\n",
       "    <tr>\n",
       "      <th>2020-01-10</th>\n",
       "      <td>1.0</td>\n",
       "      <td>0.445378</td>\n",
       "      <td>0.059986</td>\n",
       "      <td>-0.893609</td>\n",
       "    </tr>\n",
       "  </tbody>\n",
       "</table>\n",
       "</div>"
      ],
      "text/plain": [
       "              A         B         C         D\n",
       "2020-01-01  NaN       NaN       NaN       NaN\n",
       "2020-01-02  NaN       NaN       NaN       NaN\n",
       "2020-01-03  NaN       NaN       NaN       NaN\n",
       "2020-01-04  NaN       NaN       NaN       NaN\n",
       "2020-01-05  1.0 -0.471073  0.356584  0.365258\n",
       "2020-01-06  1.0 -0.389720  0.566667  0.413165\n",
       "2020-01-07  1.0 -0.455836  0.518336  0.480917\n",
       "2020-01-08  1.0 -0.659393  0.404028  0.500362\n",
       "2020-01-09  1.0  0.773971  0.218184  0.319350\n",
       "2020-01-10  1.0  0.445378  0.059986 -0.893609"
      ]
     },
     "execution_count": 843,
     "metadata": {},
     "output_type": "execute_result"
    }
   ],
   "source": [
    "df.rolling(window=5).corr(df['A'])"
   ]
  },
  {
   "cell_type": "code",
   "execution_count": 844,
   "id": "5d6b0cd7",
   "metadata": {},
   "outputs": [
    {
     "data": {
      "application/vnd.microsoft.datawrangler.viewer.v0+json": {
       "columns": [
        {
         "name": "(None, None)",
         "rawType": "object",
         "type": "unknown"
        },
        {
         "name": "B",
         "rawType": "float64",
         "type": "float"
        },
        {
         "name": "C",
         "rawType": "float64",
         "type": "float"
        },
        {
         "name": "D",
         "rawType": "float64",
         "type": "float"
        }
       ],
       "ref": "f5ba43cf-85fc-4e10-b3c8-c32c2e7430d9",
       "rows": [
        [
         "(Timestamp('2020-01-01 00:00:00'), 'A')",
         null,
         null,
         null
        ],
        [
         "(Timestamp('2020-01-01 00:00:00'), 'B')",
         null,
         null,
         null
        ],
        [
         "(Timestamp('2020-01-01 00:00:00'), 'C')",
         null,
         null,
         null
        ],
        [
         "(Timestamp('2020-01-02 00:00:00'), 'A')",
         null,
         null,
         null
        ],
        [
         "(Timestamp('2020-01-02 00:00:00'), 'B')",
         null,
         null,
         null
        ],
        [
         "(Timestamp('2020-01-02 00:00:00'), 'C')",
         null,
         null,
         null
        ],
        [
         "(Timestamp('2020-01-03 00:00:00'), 'A')",
         null,
         null,
         null
        ],
        [
         "(Timestamp('2020-01-03 00:00:00'), 'B')",
         null,
         null,
         null
        ],
        [
         "(Timestamp('2020-01-03 00:00:00'), 'C')",
         null,
         null,
         null
        ],
        [
         "(Timestamp('2020-01-04 00:00:00'), 'A')",
         null,
         null,
         null
        ],
        [
         "(Timestamp('2020-01-04 00:00:00'), 'B')",
         null,
         null,
         null
        ],
        [
         "(Timestamp('2020-01-04 00:00:00'), 'C')",
         null,
         null,
         null
        ],
        [
         "(Timestamp('2020-01-05 00:00:00'), 'A')",
         "-0.5135330749144672",
         "0.23403154071531848",
         "0.4087614310594322"
        ],
        [
         "(Timestamp('2020-01-05 00:00:00'), 'B')",
         "1.8470195437864099",
         "-0.8233425450258104",
         "1.0498248231307608"
        ],
        [
         "(Timestamp('2020-01-05 00:00:00'), 'C')",
         "-0.8233425450258104",
         "0.6694776657182057",
         "-0.7164064751824994"
        ],
        [
         "(Timestamp('2020-01-06 00:00:00'), 'A')",
         "-0.37741789081459426",
         "0.42519661466810377",
         "0.44637223208393945"
        ],
        [
         "(Timestamp('2020-01-06 00:00:00'), 'B')",
         "1.6256832603130564",
         "-0.9932345206055062",
         "1.0477486508455456"
        ],
        [
         "(Timestamp('2020-01-06 00:00:00'), 'C')",
         "-0.9932345206055062",
         "0.9759304191769349",
         "-0.5348946833843893"
        ],
        [
         "(Timestamp('2020-01-07 00:00:00'), 'A')",
         "-0.39912602105019507",
         "0.4622572624052243",
         "0.398596278166249"
        ],
        [
         "(Timestamp('2020-01-07 00:00:00'), 'B')",
         "1.3324502107836529",
         "-0.6072302354922233",
         "0.4693092239751124"
        ],
        [
         "(Timestamp('2020-01-07 00:00:00'), 'C')",
         "-0.6072302354922233",
         "1.382270525367926",
         "-0.3073800186285384"
        ],
        [
         "(Timestamp('2020-01-08 00:00:00'), 'A')",
         "-0.4926819673650345",
         "0.28761003353083514",
         "0.3736070228229359"
        ],
        [
         "(Timestamp('2020-01-08 00:00:00'), 'B')",
         "1.4312024385408755",
         "-0.5863768238384477",
         "0.27000502455434333"
        ],
        [
         "(Timestamp('2020-01-08 00:00:00'), 'C')",
         "-0.5863768238384477",
         "1.299095507788114",
         "-0.4703572990991489"
        ],
        [
         "(Timestamp('2020-01-09 00:00:00'), 'A')",
         "0.21788158299635868",
         "0.08007059374773831",
         "0.12335947320440203"
        ],
        [
         "(Timestamp('2020-01-09 00:00:00'), 'B')",
         "0.7064611229053448",
         "-0.30411435727688146",
         "0.5385746686270758"
        ],
        [
         "(Timestamp('2020-01-09 00:00:00'), 'C')",
         "-0.30411435727688146",
         "1.2005991692150944",
         "-0.5727966735279684"
        ],
        [
         "(Timestamp('2020-01-10 00:00:00'), 'A')",
         "0.0816303178733076",
         "0.026326796593555447",
         "-0.21888869033697367"
        ],
        [
         "(Timestamp('2020-01-10 00:00:00'), 'B')",
         "0.21816840564485293",
         "0.003334976516473475",
         "-0.21393339872640132"
        ],
        [
         "(Timestamp('2020-01-10 00:00:00'), 'C')",
         "0.003334976516473475",
         "1.2509403570525395",
         "0.13224270715606246"
        ]
       ],
       "shape": {
        "columns": 3,
        "rows": 30
       }
      },
      "text/html": [
       "<div>\n",
       "<style scoped>\n",
       "    .dataframe tbody tr th:only-of-type {\n",
       "        vertical-align: middle;\n",
       "    }\n",
       "\n",
       "    .dataframe tbody tr th {\n",
       "        vertical-align: top;\n",
       "    }\n",
       "\n",
       "    .dataframe thead th {\n",
       "        text-align: right;\n",
       "    }\n",
       "</style>\n",
       "<table border=\"1\" class=\"dataframe\">\n",
       "  <thead>\n",
       "    <tr style=\"text-align: right;\">\n",
       "      <th></th>\n",
       "      <th></th>\n",
       "      <th>B</th>\n",
       "      <th>C</th>\n",
       "      <th>D</th>\n",
       "    </tr>\n",
       "  </thead>\n",
       "  <tbody>\n",
       "    <tr>\n",
       "      <th rowspan=\"3\" valign=\"top\">2020-01-01</th>\n",
       "      <th>A</th>\n",
       "      <td>NaN</td>\n",
       "      <td>NaN</td>\n",
       "      <td>NaN</td>\n",
       "    </tr>\n",
       "    <tr>\n",
       "      <th>B</th>\n",
       "      <td>NaN</td>\n",
       "      <td>NaN</td>\n",
       "      <td>NaN</td>\n",
       "    </tr>\n",
       "    <tr>\n",
       "      <th>C</th>\n",
       "      <td>NaN</td>\n",
       "      <td>NaN</td>\n",
       "      <td>NaN</td>\n",
       "    </tr>\n",
       "    <tr>\n",
       "      <th rowspan=\"3\" valign=\"top\">2020-01-02</th>\n",
       "      <th>A</th>\n",
       "      <td>NaN</td>\n",
       "      <td>NaN</td>\n",
       "      <td>NaN</td>\n",
       "    </tr>\n",
       "    <tr>\n",
       "      <th>B</th>\n",
       "      <td>NaN</td>\n",
       "      <td>NaN</td>\n",
       "      <td>NaN</td>\n",
       "    </tr>\n",
       "    <tr>\n",
       "      <th>C</th>\n",
       "      <td>NaN</td>\n",
       "      <td>NaN</td>\n",
       "      <td>NaN</td>\n",
       "    </tr>\n",
       "    <tr>\n",
       "      <th rowspan=\"3\" valign=\"top\">2020-01-03</th>\n",
       "      <th>A</th>\n",
       "      <td>NaN</td>\n",
       "      <td>NaN</td>\n",
       "      <td>NaN</td>\n",
       "    </tr>\n",
       "    <tr>\n",
       "      <th>B</th>\n",
       "      <td>NaN</td>\n",
       "      <td>NaN</td>\n",
       "      <td>NaN</td>\n",
       "    </tr>\n",
       "    <tr>\n",
       "      <th>C</th>\n",
       "      <td>NaN</td>\n",
       "      <td>NaN</td>\n",
       "      <td>NaN</td>\n",
       "    </tr>\n",
       "    <tr>\n",
       "      <th rowspan=\"3\" valign=\"top\">2020-01-04</th>\n",
       "      <th>A</th>\n",
       "      <td>NaN</td>\n",
       "      <td>NaN</td>\n",
       "      <td>NaN</td>\n",
       "    </tr>\n",
       "    <tr>\n",
       "      <th>B</th>\n",
       "      <td>NaN</td>\n",
       "      <td>NaN</td>\n",
       "      <td>NaN</td>\n",
       "    </tr>\n",
       "    <tr>\n",
       "      <th>C</th>\n",
       "      <td>NaN</td>\n",
       "      <td>NaN</td>\n",
       "      <td>NaN</td>\n",
       "    </tr>\n",
       "    <tr>\n",
       "      <th rowspan=\"3\" valign=\"top\">2020-01-05</th>\n",
       "      <th>A</th>\n",
       "      <td>-0.513533</td>\n",
       "      <td>0.234032</td>\n",
       "      <td>0.408761</td>\n",
       "    </tr>\n",
       "    <tr>\n",
       "      <th>B</th>\n",
       "      <td>1.847020</td>\n",
       "      <td>-0.823343</td>\n",
       "      <td>1.049825</td>\n",
       "    </tr>\n",
       "    <tr>\n",
       "      <th>C</th>\n",
       "      <td>-0.823343</td>\n",
       "      <td>0.669478</td>\n",
       "      <td>-0.716406</td>\n",
       "    </tr>\n",
       "    <tr>\n",
       "      <th rowspan=\"3\" valign=\"top\">2020-01-06</th>\n",
       "      <th>A</th>\n",
       "      <td>-0.377418</td>\n",
       "      <td>0.425197</td>\n",
       "      <td>0.446372</td>\n",
       "    </tr>\n",
       "    <tr>\n",
       "      <th>B</th>\n",
       "      <td>1.625683</td>\n",
       "      <td>-0.993235</td>\n",
       "      <td>1.047749</td>\n",
       "    </tr>\n",
       "    <tr>\n",
       "      <th>C</th>\n",
       "      <td>-0.993235</td>\n",
       "      <td>0.975930</td>\n",
       "      <td>-0.534895</td>\n",
       "    </tr>\n",
       "    <tr>\n",
       "      <th rowspan=\"3\" valign=\"top\">2020-01-07</th>\n",
       "      <th>A</th>\n",
       "      <td>-0.399126</td>\n",
       "      <td>0.462257</td>\n",
       "      <td>0.398596</td>\n",
       "    </tr>\n",
       "    <tr>\n",
       "      <th>B</th>\n",
       "      <td>1.332450</td>\n",
       "      <td>-0.607230</td>\n",
       "      <td>0.469309</td>\n",
       "    </tr>\n",
       "    <tr>\n",
       "      <th>C</th>\n",
       "      <td>-0.607230</td>\n",
       "      <td>1.382271</td>\n",
       "      <td>-0.307380</td>\n",
       "    </tr>\n",
       "    <tr>\n",
       "      <th rowspan=\"3\" valign=\"top\">2020-01-08</th>\n",
       "      <th>A</th>\n",
       "      <td>-0.492682</td>\n",
       "      <td>0.287610</td>\n",
       "      <td>0.373607</td>\n",
       "    </tr>\n",
       "    <tr>\n",
       "      <th>B</th>\n",
       "      <td>1.431202</td>\n",
       "      <td>-0.586377</td>\n",
       "      <td>0.270005</td>\n",
       "    </tr>\n",
       "    <tr>\n",
       "      <th>C</th>\n",
       "      <td>-0.586377</td>\n",
       "      <td>1.299096</td>\n",
       "      <td>-0.470357</td>\n",
       "    </tr>\n",
       "    <tr>\n",
       "      <th rowspan=\"3\" valign=\"top\">2020-01-09</th>\n",
       "      <th>A</th>\n",
       "      <td>0.217882</td>\n",
       "      <td>0.080071</td>\n",
       "      <td>0.123359</td>\n",
       "    </tr>\n",
       "    <tr>\n",
       "      <th>B</th>\n",
       "      <td>0.706461</td>\n",
       "      <td>-0.304114</td>\n",
       "      <td>0.538575</td>\n",
       "    </tr>\n",
       "    <tr>\n",
       "      <th>C</th>\n",
       "      <td>-0.304114</td>\n",
       "      <td>1.200599</td>\n",
       "      <td>-0.572797</td>\n",
       "    </tr>\n",
       "    <tr>\n",
       "      <th rowspan=\"3\" valign=\"top\">2020-01-10</th>\n",
       "      <th>A</th>\n",
       "      <td>0.081630</td>\n",
       "      <td>0.026327</td>\n",
       "      <td>-0.218889</td>\n",
       "    </tr>\n",
       "    <tr>\n",
       "      <th>B</th>\n",
       "      <td>0.218168</td>\n",
       "      <td>0.003335</td>\n",
       "      <td>-0.213933</td>\n",
       "    </tr>\n",
       "    <tr>\n",
       "      <th>C</th>\n",
       "      <td>0.003335</td>\n",
       "      <td>1.250940</td>\n",
       "      <td>0.132243</td>\n",
       "    </tr>\n",
       "  </tbody>\n",
       "</table>\n",
       "</div>"
      ],
      "text/plain": [
       "                     B         C         D\n",
       "2020-01-01 A       NaN       NaN       NaN\n",
       "           B       NaN       NaN       NaN\n",
       "           C       NaN       NaN       NaN\n",
       "2020-01-02 A       NaN       NaN       NaN\n",
       "           B       NaN       NaN       NaN\n",
       "           C       NaN       NaN       NaN\n",
       "2020-01-03 A       NaN       NaN       NaN\n",
       "           B       NaN       NaN       NaN\n",
       "           C       NaN       NaN       NaN\n",
       "2020-01-04 A       NaN       NaN       NaN\n",
       "           B       NaN       NaN       NaN\n",
       "           C       NaN       NaN       NaN\n",
       "2020-01-05 A -0.513533  0.234032  0.408761\n",
       "           B  1.847020 -0.823343  1.049825\n",
       "           C -0.823343  0.669478 -0.716406\n",
       "2020-01-06 A -0.377418  0.425197  0.446372\n",
       "           B  1.625683 -0.993235  1.047749\n",
       "           C -0.993235  0.975930 -0.534895\n",
       "2020-01-07 A -0.399126  0.462257  0.398596\n",
       "           B  1.332450 -0.607230  0.469309\n",
       "           C -0.607230  1.382271 -0.307380\n",
       "2020-01-08 A -0.492682  0.287610  0.373607\n",
       "           B  1.431202 -0.586377  0.270005\n",
       "           C -0.586377  1.299096 -0.470357\n",
       "2020-01-09 A  0.217882  0.080071  0.123359\n",
       "           B  0.706461 -0.304114  0.538575\n",
       "           C -0.304114  1.200599 -0.572797\n",
       "2020-01-10 A  0.081630  0.026327 -0.218889\n",
       "           B  0.218168  0.003335 -0.213933\n",
       "           C  0.003335  1.250940  0.132243"
      ]
     },
     "execution_count": 844,
     "metadata": {},
     "output_type": "execute_result"
    }
   ],
   "source": [
    "df.loc[:,'B':'D'].rolling(window=5).cov(df.loc[:,'A':'C'], pairwise=True)"
   ]
  },
  {
   "cell_type": "code",
   "execution_count": 845,
   "id": "594b2817",
   "metadata": {},
   "outputs": [
    {
     "data": {
      "application/vnd.microsoft.datawrangler.viewer.v0+json": {
       "columns": [
        {
         "name": "(None, None)",
         "rawType": "object",
         "type": "unknown"
        },
        {
         "name": "A",
         "rawType": "float64",
         "type": "float"
        },
        {
         "name": "B",
         "rawType": "float64",
         "type": "float"
        },
        {
         "name": "C",
         "rawType": "float64",
         "type": "float"
        },
        {
         "name": "D",
         "rawType": "float64",
         "type": "float"
        }
       ],
       "ref": "a79cf1e3-74e2-415b-8bbd-0b0b679c0895",
       "rows": [
        [
         "(Timestamp('2020-01-01 00:00:00'), 'A')",
         null,
         null,
         null,
         null
        ],
        [
         "(Timestamp('2020-01-01 00:00:00'), 'B')",
         null,
         null,
         null,
         null
        ],
        [
         "(Timestamp('2020-01-01 00:00:00'), 'C')",
         null,
         null,
         null,
         null
        ],
        [
         "(Timestamp('2020-01-01 00:00:00'), 'D')",
         null,
         null,
         null,
         null
        ],
        [
         "(Timestamp('2020-01-02 00:00:00'), 'A')",
         null,
         null,
         null,
         null
        ],
        [
         "(Timestamp('2020-01-02 00:00:00'), 'B')",
         null,
         null,
         null,
         null
        ],
        [
         "(Timestamp('2020-01-02 00:00:00'), 'C')",
         null,
         null,
         null,
         null
        ],
        [
         "(Timestamp('2020-01-02 00:00:00'), 'D')",
         null,
         null,
         null,
         null
        ],
        [
         "(Timestamp('2020-01-03 00:00:00'), 'A')",
         null,
         null,
         null,
         null
        ],
        [
         "(Timestamp('2020-01-03 00:00:00'), 'B')",
         null,
         null,
         null,
         null
        ],
        [
         "(Timestamp('2020-01-03 00:00:00'), 'C')",
         null,
         null,
         null,
         null
        ],
        [
         "(Timestamp('2020-01-03 00:00:00'), 'D')",
         null,
         null,
         null,
         null
        ],
        [
         "(Timestamp('2020-01-04 00:00:00'), 'A')",
         null,
         null,
         null,
         null
        ],
        [
         "(Timestamp('2020-01-04 00:00:00'), 'B')",
         null,
         null,
         null,
         null
        ],
        [
         "(Timestamp('2020-01-04 00:00:00'), 'C')",
         null,
         null,
         null,
         null
        ],
        [
         "(Timestamp('2020-01-04 00:00:00'), 'D')",
         null,
         null,
         null,
         null
        ],
        [
         "(Timestamp('2020-01-05 00:00:00'), 'A')",
         "1.0",
         "-0.4710733554598185",
         "0.3565842944158153",
         "0.3652579439709013"
        ],
        [
         "(Timestamp('2020-01-05 00:00:00'), 'B')",
         "-0.4710733554598185",
         "1.0000000000000002",
         "-0.7404176544885409",
         "0.5536750906579341"
        ],
        [
         "(Timestamp('2020-01-05 00:00:00'), 'C')",
         "0.3565842944158153",
         "-0.7404176544885409",
         "1.0",
         "-0.6275745875492735"
        ],
        [
         "(Timestamp('2020-01-05 00:00:00'), 'D')",
         "0.3652579439709013",
         "0.5536750906579341",
         "-0.6275745875492735",
         "0.9999999999999998"
        ],
        [
         "(Timestamp('2020-01-06 00:00:00'), 'A')",
         "1.0000000000000002",
         "-0.3897195899896526",
         "0.566667220681985",
         "0.41316503481884137"
        ],
        [
         "(Timestamp('2020-01-06 00:00:00'), 'B')",
         "-0.3897195899896526",
         "1.0000000000000002",
         "-0.7885412391560391",
         "0.577720546834795"
        ],
        [
         "(Timestamp('2020-01-06 00:00:00'), 'C')",
         "0.566667220681985",
         "-0.7885412391560391",
         "1.0",
         "-0.38066024610555493"
        ],
        [
         "(Timestamp('2020-01-06 00:00:00'), 'D')",
         "0.41316503481884137",
         "0.577720546834795",
         "-0.38066024610555493",
         "0.9999999999999998"
        ],
        [
         "(Timestamp('2020-01-07 00:00:00'), 'A')",
         "1.0000000000000002",
         "-0.45583566081817395",
         "0.518335518326649",
         "0.4809169202276842"
        ],
        [
         "(Timestamp('2020-01-07 00:00:00'), 'B')",
         "-0.45583566081817395",
         "1.0000000000000002",
         "-0.4474364589935148",
         "0.37208885586446727"
        ],
        [
         "(Timestamp('2020-01-07 00:00:00'), 'C')",
         "0.518335518326649",
         "-0.4474364589935148",
         "0.9999999999999999",
         "-0.2392721636044856"
        ],
        [
         "(Timestamp('2020-01-07 00:00:00'), 'D')",
         "0.4809169202276842",
         "0.37208885586446727",
         "-0.2392721636044856",
         "0.9999999999999997"
        ],
        [
         "(Timestamp('2020-01-08 00:00:00'), 'A')",
         "1.0000000000000007",
         "-0.6593934417053977",
         "0.4040284825402975",
         "0.5003619058930657"
        ],
        [
         "(Timestamp('2020-01-08 00:00:00'), 'B')",
         "-0.6593934417053977",
         "1.0000000000000002",
         "-0.4300368999927502",
         "0.18878262865759582"
        ],
        [
         "(Timestamp('2020-01-08 00:00:00'), 'C')",
         "0.4040284825402975",
         "-0.4300368999927502",
         "1.0",
         "-0.34518193908555184"
        ],
        [
         "(Timestamp('2020-01-08 00:00:00'), 'D')",
         "0.5003619058930657",
         "0.18878262865759582",
         "-0.34518193908555184",
         "0.9999999999999999"
        ],
        [
         "(Timestamp('2020-01-09 00:00:00'), 'A')",
         "1.0000000000000004",
         "0.7739706986643613",
         "0.2181836288376702",
         "0.3193504366964591"
        ],
        [
         "(Timestamp('2020-01-09 00:00:00'), 'B')",
         "0.7739706986643613",
         "1.0000000000000007",
         "-0.3302126989304473",
         "0.5555826392990212"
        ],
        [
         "(Timestamp('2020-01-09 00:00:00'), 'C')",
         "0.2181836288376702",
         "-0.3302126989304473",
         "1.0",
         "-0.453260992291395"
        ],
        [
         "(Timestamp('2020-01-09 00:00:00'), 'D')",
         "0.3193504366964591",
         "0.5555826392990212",
         "-0.453260992291395",
         "1.0"
        ],
        [
         "(Timestamp('2020-01-10 00:00:00'), 'A')",
         "1.0000000000000009",
         "0.4453783564636278",
         "0.0599864644453658",
         "-0.8936088103815893"
        ],
        [
         "(Timestamp('2020-01-10 00:00:00'), 'B')",
         "0.4453783564636278",
         "1.0000000000000016",
         "0.006383789371843323",
         "-0.7337248556924374"
        ],
        [
         "(Timestamp('2020-01-10 00:00:00'), 'C')",
         "0.0599864644453658",
         "0.006383789371843323",
         "0.9999999999999997",
         "0.18941047750904444"
        ],
        [
         "(Timestamp('2020-01-10 00:00:00'), 'D')",
         "-0.8936088103815893",
         "-0.7337248556924374",
         "0.18941047750904444",
         "1.0000000000000009"
        ]
       ],
       "shape": {
        "columns": 4,
        "rows": 40
       }
      },
      "text/html": [
       "<div>\n",
       "<style scoped>\n",
       "    .dataframe tbody tr th:only-of-type {\n",
       "        vertical-align: middle;\n",
       "    }\n",
       "\n",
       "    .dataframe tbody tr th {\n",
       "        vertical-align: top;\n",
       "    }\n",
       "\n",
       "    .dataframe thead th {\n",
       "        text-align: right;\n",
       "    }\n",
       "</style>\n",
       "<table border=\"1\" class=\"dataframe\">\n",
       "  <thead>\n",
       "    <tr style=\"text-align: right;\">\n",
       "      <th></th>\n",
       "      <th></th>\n",
       "      <th>A</th>\n",
       "      <th>B</th>\n",
       "      <th>C</th>\n",
       "      <th>D</th>\n",
       "    </tr>\n",
       "  </thead>\n",
       "  <tbody>\n",
       "    <tr>\n",
       "      <th rowspan=\"4\" valign=\"top\">2020-01-01</th>\n",
       "      <th>A</th>\n",
       "      <td>NaN</td>\n",
       "      <td>NaN</td>\n",
       "      <td>NaN</td>\n",
       "      <td>NaN</td>\n",
       "    </tr>\n",
       "    <tr>\n",
       "      <th>B</th>\n",
       "      <td>NaN</td>\n",
       "      <td>NaN</td>\n",
       "      <td>NaN</td>\n",
       "      <td>NaN</td>\n",
       "    </tr>\n",
       "    <tr>\n",
       "      <th>C</th>\n",
       "      <td>NaN</td>\n",
       "      <td>NaN</td>\n",
       "      <td>NaN</td>\n",
       "      <td>NaN</td>\n",
       "    </tr>\n",
       "    <tr>\n",
       "      <th>D</th>\n",
       "      <td>NaN</td>\n",
       "      <td>NaN</td>\n",
       "      <td>NaN</td>\n",
       "      <td>NaN</td>\n",
       "    </tr>\n",
       "    <tr>\n",
       "      <th rowspan=\"4\" valign=\"top\">2020-01-02</th>\n",
       "      <th>A</th>\n",
       "      <td>NaN</td>\n",
       "      <td>NaN</td>\n",
       "      <td>NaN</td>\n",
       "      <td>NaN</td>\n",
       "    </tr>\n",
       "    <tr>\n",
       "      <th>B</th>\n",
       "      <td>NaN</td>\n",
       "      <td>NaN</td>\n",
       "      <td>NaN</td>\n",
       "      <td>NaN</td>\n",
       "    </tr>\n",
       "    <tr>\n",
       "      <th>C</th>\n",
       "      <td>NaN</td>\n",
       "      <td>NaN</td>\n",
       "      <td>NaN</td>\n",
       "      <td>NaN</td>\n",
       "    </tr>\n",
       "    <tr>\n",
       "      <th>D</th>\n",
       "      <td>NaN</td>\n",
       "      <td>NaN</td>\n",
       "      <td>NaN</td>\n",
       "      <td>NaN</td>\n",
       "    </tr>\n",
       "    <tr>\n",
       "      <th rowspan=\"4\" valign=\"top\">2020-01-03</th>\n",
       "      <th>A</th>\n",
       "      <td>NaN</td>\n",
       "      <td>NaN</td>\n",
       "      <td>NaN</td>\n",
       "      <td>NaN</td>\n",
       "    </tr>\n",
       "    <tr>\n",
       "      <th>B</th>\n",
       "      <td>NaN</td>\n",
       "      <td>NaN</td>\n",
       "      <td>NaN</td>\n",
       "      <td>NaN</td>\n",
       "    </tr>\n",
       "    <tr>\n",
       "      <th>C</th>\n",
       "      <td>NaN</td>\n",
       "      <td>NaN</td>\n",
       "      <td>NaN</td>\n",
       "      <td>NaN</td>\n",
       "    </tr>\n",
       "    <tr>\n",
       "      <th>D</th>\n",
       "      <td>NaN</td>\n",
       "      <td>NaN</td>\n",
       "      <td>NaN</td>\n",
       "      <td>NaN</td>\n",
       "    </tr>\n",
       "    <tr>\n",
       "      <th rowspan=\"4\" valign=\"top\">2020-01-04</th>\n",
       "      <th>A</th>\n",
       "      <td>NaN</td>\n",
       "      <td>NaN</td>\n",
       "      <td>NaN</td>\n",
       "      <td>NaN</td>\n",
       "    </tr>\n",
       "    <tr>\n",
       "      <th>B</th>\n",
       "      <td>NaN</td>\n",
       "      <td>NaN</td>\n",
       "      <td>NaN</td>\n",
       "      <td>NaN</td>\n",
       "    </tr>\n",
       "    <tr>\n",
       "      <th>C</th>\n",
       "      <td>NaN</td>\n",
       "      <td>NaN</td>\n",
       "      <td>NaN</td>\n",
       "      <td>NaN</td>\n",
       "    </tr>\n",
       "    <tr>\n",
       "      <th>D</th>\n",
       "      <td>NaN</td>\n",
       "      <td>NaN</td>\n",
       "      <td>NaN</td>\n",
       "      <td>NaN</td>\n",
       "    </tr>\n",
       "    <tr>\n",
       "      <th rowspan=\"4\" valign=\"top\">2020-01-05</th>\n",
       "      <th>A</th>\n",
       "      <td>1.000000</td>\n",
       "      <td>-0.471073</td>\n",
       "      <td>0.356584</td>\n",
       "      <td>0.365258</td>\n",
       "    </tr>\n",
       "    <tr>\n",
       "      <th>B</th>\n",
       "      <td>-0.471073</td>\n",
       "      <td>1.000000</td>\n",
       "      <td>-0.740418</td>\n",
       "      <td>0.553675</td>\n",
       "    </tr>\n",
       "    <tr>\n",
       "      <th>C</th>\n",
       "      <td>0.356584</td>\n",
       "      <td>-0.740418</td>\n",
       "      <td>1.000000</td>\n",
       "      <td>-0.627575</td>\n",
       "    </tr>\n",
       "    <tr>\n",
       "      <th>D</th>\n",
       "      <td>0.365258</td>\n",
       "      <td>0.553675</td>\n",
       "      <td>-0.627575</td>\n",
       "      <td>1.000000</td>\n",
       "    </tr>\n",
       "    <tr>\n",
       "      <th rowspan=\"4\" valign=\"top\">2020-01-06</th>\n",
       "      <th>A</th>\n",
       "      <td>1.000000</td>\n",
       "      <td>-0.389720</td>\n",
       "      <td>0.566667</td>\n",
       "      <td>0.413165</td>\n",
       "    </tr>\n",
       "    <tr>\n",
       "      <th>B</th>\n",
       "      <td>-0.389720</td>\n",
       "      <td>1.000000</td>\n",
       "      <td>-0.788541</td>\n",
       "      <td>0.577721</td>\n",
       "    </tr>\n",
       "    <tr>\n",
       "      <th>C</th>\n",
       "      <td>0.566667</td>\n",
       "      <td>-0.788541</td>\n",
       "      <td>1.000000</td>\n",
       "      <td>-0.380660</td>\n",
       "    </tr>\n",
       "    <tr>\n",
       "      <th>D</th>\n",
       "      <td>0.413165</td>\n",
       "      <td>0.577721</td>\n",
       "      <td>-0.380660</td>\n",
       "      <td>1.000000</td>\n",
       "    </tr>\n",
       "    <tr>\n",
       "      <th rowspan=\"4\" valign=\"top\">2020-01-07</th>\n",
       "      <th>A</th>\n",
       "      <td>1.000000</td>\n",
       "      <td>-0.455836</td>\n",
       "      <td>0.518336</td>\n",
       "      <td>0.480917</td>\n",
       "    </tr>\n",
       "    <tr>\n",
       "      <th>B</th>\n",
       "      <td>-0.455836</td>\n",
       "      <td>1.000000</td>\n",
       "      <td>-0.447436</td>\n",
       "      <td>0.372089</td>\n",
       "    </tr>\n",
       "    <tr>\n",
       "      <th>C</th>\n",
       "      <td>0.518336</td>\n",
       "      <td>-0.447436</td>\n",
       "      <td>1.000000</td>\n",
       "      <td>-0.239272</td>\n",
       "    </tr>\n",
       "    <tr>\n",
       "      <th>D</th>\n",
       "      <td>0.480917</td>\n",
       "      <td>0.372089</td>\n",
       "      <td>-0.239272</td>\n",
       "      <td>1.000000</td>\n",
       "    </tr>\n",
       "    <tr>\n",
       "      <th rowspan=\"4\" valign=\"top\">2020-01-08</th>\n",
       "      <th>A</th>\n",
       "      <td>1.000000</td>\n",
       "      <td>-0.659393</td>\n",
       "      <td>0.404028</td>\n",
       "      <td>0.500362</td>\n",
       "    </tr>\n",
       "    <tr>\n",
       "      <th>B</th>\n",
       "      <td>-0.659393</td>\n",
       "      <td>1.000000</td>\n",
       "      <td>-0.430037</td>\n",
       "      <td>0.188783</td>\n",
       "    </tr>\n",
       "    <tr>\n",
       "      <th>C</th>\n",
       "      <td>0.404028</td>\n",
       "      <td>-0.430037</td>\n",
       "      <td>1.000000</td>\n",
       "      <td>-0.345182</td>\n",
       "    </tr>\n",
       "    <tr>\n",
       "      <th>D</th>\n",
       "      <td>0.500362</td>\n",
       "      <td>0.188783</td>\n",
       "      <td>-0.345182</td>\n",
       "      <td>1.000000</td>\n",
       "    </tr>\n",
       "    <tr>\n",
       "      <th rowspan=\"4\" valign=\"top\">2020-01-09</th>\n",
       "      <th>A</th>\n",
       "      <td>1.000000</td>\n",
       "      <td>0.773971</td>\n",
       "      <td>0.218184</td>\n",
       "      <td>0.319350</td>\n",
       "    </tr>\n",
       "    <tr>\n",
       "      <th>B</th>\n",
       "      <td>0.773971</td>\n",
       "      <td>1.000000</td>\n",
       "      <td>-0.330213</td>\n",
       "      <td>0.555583</td>\n",
       "    </tr>\n",
       "    <tr>\n",
       "      <th>C</th>\n",
       "      <td>0.218184</td>\n",
       "      <td>-0.330213</td>\n",
       "      <td>1.000000</td>\n",
       "      <td>-0.453261</td>\n",
       "    </tr>\n",
       "    <tr>\n",
       "      <th>D</th>\n",
       "      <td>0.319350</td>\n",
       "      <td>0.555583</td>\n",
       "      <td>-0.453261</td>\n",
       "      <td>1.000000</td>\n",
       "    </tr>\n",
       "    <tr>\n",
       "      <th rowspan=\"4\" valign=\"top\">2020-01-10</th>\n",
       "      <th>A</th>\n",
       "      <td>1.000000</td>\n",
       "      <td>0.445378</td>\n",
       "      <td>0.059986</td>\n",
       "      <td>-0.893609</td>\n",
       "    </tr>\n",
       "    <tr>\n",
       "      <th>B</th>\n",
       "      <td>0.445378</td>\n",
       "      <td>1.000000</td>\n",
       "      <td>0.006384</td>\n",
       "      <td>-0.733725</td>\n",
       "    </tr>\n",
       "    <tr>\n",
       "      <th>C</th>\n",
       "      <td>0.059986</td>\n",
       "      <td>0.006384</td>\n",
       "      <td>1.000000</td>\n",
       "      <td>0.189410</td>\n",
       "    </tr>\n",
       "    <tr>\n",
       "      <th>D</th>\n",
       "      <td>-0.893609</td>\n",
       "      <td>-0.733725</td>\n",
       "      <td>0.189410</td>\n",
       "      <td>1.000000</td>\n",
       "    </tr>\n",
       "  </tbody>\n",
       "</table>\n",
       "</div>"
      ],
      "text/plain": [
       "                     A         B         C         D\n",
       "2020-01-01 A       NaN       NaN       NaN       NaN\n",
       "           B       NaN       NaN       NaN       NaN\n",
       "           C       NaN       NaN       NaN       NaN\n",
       "           D       NaN       NaN       NaN       NaN\n",
       "2020-01-02 A       NaN       NaN       NaN       NaN\n",
       "           B       NaN       NaN       NaN       NaN\n",
       "           C       NaN       NaN       NaN       NaN\n",
       "           D       NaN       NaN       NaN       NaN\n",
       "2020-01-03 A       NaN       NaN       NaN       NaN\n",
       "           B       NaN       NaN       NaN       NaN\n",
       "           C       NaN       NaN       NaN       NaN\n",
       "           D       NaN       NaN       NaN       NaN\n",
       "2020-01-04 A       NaN       NaN       NaN       NaN\n",
       "           B       NaN       NaN       NaN       NaN\n",
       "           C       NaN       NaN       NaN       NaN\n",
       "           D       NaN       NaN       NaN       NaN\n",
       "2020-01-05 A  1.000000 -0.471073  0.356584  0.365258\n",
       "           B -0.471073  1.000000 -0.740418  0.553675\n",
       "           C  0.356584 -0.740418  1.000000 -0.627575\n",
       "           D  0.365258  0.553675 -0.627575  1.000000\n",
       "2020-01-06 A  1.000000 -0.389720  0.566667  0.413165\n",
       "           B -0.389720  1.000000 -0.788541  0.577721\n",
       "           C  0.566667 -0.788541  1.000000 -0.380660\n",
       "           D  0.413165  0.577721 -0.380660  1.000000\n",
       "2020-01-07 A  1.000000 -0.455836  0.518336  0.480917\n",
       "           B -0.455836  1.000000 -0.447436  0.372089\n",
       "           C  0.518336 -0.447436  1.000000 -0.239272\n",
       "           D  0.480917  0.372089 -0.239272  1.000000\n",
       "2020-01-08 A  1.000000 -0.659393  0.404028  0.500362\n",
       "           B -0.659393  1.000000 -0.430037  0.188783\n",
       "           C  0.404028 -0.430037  1.000000 -0.345182\n",
       "           D  0.500362  0.188783 -0.345182  1.000000\n",
       "2020-01-09 A  1.000000  0.773971  0.218184  0.319350\n",
       "           B  0.773971  1.000000 -0.330213  0.555583\n",
       "           C  0.218184 -0.330213  1.000000 -0.453261\n",
       "           D  0.319350  0.555583 -0.453261  1.000000\n",
       "2020-01-10 A  1.000000  0.445378  0.059986 -0.893609\n",
       "           B  0.445378  1.000000  0.006384 -0.733725\n",
       "           C  0.059986  0.006384  1.000000  0.189410\n",
       "           D -0.893609 -0.733725  0.189410  1.000000"
      ]
     },
     "execution_count": 845,
     "metadata": {},
     "output_type": "execute_result"
    }
   ],
   "source": [
    "df.rolling(window=5).corr(df, pairwise=True)"
   ]
  },
  {
   "cell_type": "code",
   "execution_count": 846,
   "id": "08508cdb",
   "metadata": {},
   "outputs": [],
   "source": [
    "import scipy"
   ]
  },
  {
   "cell_type": "code",
   "execution_count": 847,
   "id": "c3a34060",
   "metadata": {},
   "outputs": [
    {
     "data": {
      "application/vnd.microsoft.datawrangler.viewer.v0+json": {
       "columns": [
        {
         "name": "index",
         "rawType": "int64",
         "type": "integer"
        },
        {
         "name": "0",
         "rawType": "int64",
         "type": "integer"
        }
       ],
       "ref": "f2af7c99-9f74-4cac-97c4-20ea33ec803f",
       "rows": [
        [
         "0",
         "0"
        ],
        [
         "1",
         "1"
        ],
        [
         "2",
         "2"
        ],
        [
         "3",
         "3"
        ],
        [
         "4",
         "4"
        ],
        [
         "5",
         "5"
        ],
        [
         "6",
         "6"
        ],
        [
         "7",
         "7"
        ],
        [
         "8",
         "8"
        ],
        [
         "9",
         "9"
        ]
       ],
       "shape": {
        "columns": 1,
        "rows": 10
       }
      },
      "text/plain": [
       "0    0\n",
       "1    1\n",
       "2    2\n",
       "3    3\n",
       "4    4\n",
       "5    5\n",
       "6    6\n",
       "7    7\n",
       "8    8\n",
       "9    9\n",
       "dtype: int64"
      ]
     },
     "execution_count": 847,
     "metadata": {},
     "output_type": "execute_result"
    }
   ],
   "source": [
    "s = pd.Series(range(10))\n",
    "s"
   ]
  },
  {
   "cell_type": "code",
   "execution_count": 848,
   "id": "f092f513",
   "metadata": {},
   "outputs": [
    {
     "data": {
      "application/vnd.microsoft.datawrangler.viewer.v0+json": {
       "columns": [
        {
         "name": "index",
         "rawType": "int64",
         "type": "integer"
        },
        {
         "name": "0",
         "rawType": "float64",
         "type": "float"
        }
       ],
       "ref": "c306433a-0359-4a8d-9012-8b9a37cc37af",
       "rows": [
        [
         "0",
         null
        ],
        [
         "1",
         null
        ],
        [
         "2",
         null
        ],
        [
         "3",
         null
        ],
        [
         "4",
         "1.9999999999999998"
        ],
        [
         "5",
         "2.9999999999999996"
        ],
        [
         "6",
         "4.0"
        ],
        [
         "7",
         "5.0"
        ],
        [
         "8",
         "6.0"
        ],
        [
         "9",
         "7.0"
        ]
       ],
       "shape": {
        "columns": 1,
        "rows": 10
       }
      },
      "text/plain": [
       "0    NaN\n",
       "1    NaN\n",
       "2    NaN\n",
       "3    NaN\n",
       "4    2.0\n",
       "5    3.0\n",
       "6    4.0\n",
       "7    5.0\n",
       "8    6.0\n",
       "9    7.0\n",
       "dtype: float64"
      ]
     },
     "execution_count": 848,
     "metadata": {},
     "output_type": "execute_result"
    }
   ],
   "source": [
    "s.rolling(window=5, win_type='triang').mean()"
   ]
  },
  {
   "cell_type": "code",
   "execution_count": 849,
   "id": "32943826",
   "metadata": {},
   "outputs": [
    {
     "data": {
      "application/vnd.microsoft.datawrangler.viewer.v0+json": {
       "columns": [
        {
         "name": "index",
         "rawType": "int64",
         "type": "integer"
        },
        {
         "name": "0",
         "rawType": "float64",
         "type": "float"
        }
       ],
       "ref": "075b85de-2e80-498b-b4ce-dd72d2d5fb13",
       "rows": [
        [
         "0",
         null
        ],
        [
         "1",
         null
        ],
        [
         "2",
         null
        ],
        [
         "3",
         null
        ],
        [
         "4",
         "2.0"
        ],
        [
         "5",
         "3.0"
        ],
        [
         "6",
         "4.0"
        ],
        [
         "7",
         "5.0"
        ],
        [
         "8",
         "6.0"
        ],
        [
         "9",
         "7.0"
        ]
       ],
       "shape": {
        "columns": 1,
        "rows": 10
       }
      },
      "text/plain": [
       "0    NaN\n",
       "1    NaN\n",
       "2    NaN\n",
       "3    NaN\n",
       "4    2.0\n",
       "5    3.0\n",
       "6    4.0\n",
       "7    5.0\n",
       "8    6.0\n",
       "9    7.0\n",
       "dtype: float64"
      ]
     },
     "execution_count": 849,
     "metadata": {},
     "output_type": "execute_result"
    }
   ],
   "source": [
    "s.rolling(window=5, win_type='gaussian').mean(std=0.1)"
   ]
  },
  {
   "cell_type": "code",
   "execution_count": 850,
   "id": "0bf44998",
   "metadata": {},
   "outputs": [
    {
     "data": {
      "application/vnd.microsoft.datawrangler.viewer.v0+json": {
       "columns": [
        {
         "name": "index",
         "rawType": "datetime64[ns]",
         "type": "datetime"
        },
        {
         "name": "A",
         "rawType": "float64",
         "type": "float"
        },
        {
         "name": "B",
         "rawType": "float64",
         "type": "float"
        },
        {
         "name": "C",
         "rawType": "float64",
         "type": "float"
        },
        {
         "name": "D",
         "rawType": "float64",
         "type": "float"
        }
       ],
       "ref": "34eb7339-e74c-49aa-b264-6c9dfcde774e",
       "rows": [
        [
         "2020-01-01 00:00:00",
         null,
         null,
         null,
         null
        ],
        [
         "2020-01-02 00:00:00",
         null,
         null,
         null,
         null
        ],
        [
         "2020-01-03 00:00:00",
         "-0.17801696635241426",
         "-0.7925796099421311",
         "-0.46761954705789605",
         "-0.42338307577304696"
        ],
        [
         "2020-01-04 00:00:00",
         "0.11632334388948795",
         "-0.9649376488511066",
         "-0.30339186508772853",
         "-0.08583033823367997"
        ],
        [
         "2020-01-05 00:00:00",
         "0.08723973760345104",
         "-0.41663009166110176",
         "-0.5095723517482249",
         "0.3484155335012391"
        ],
        [
         "2020-01-06 00:00:00",
         "-0.03280623426955889",
         "-0.31249044716566027",
         "-0.711865842557018",
         "0.2310985408214157"
        ],
        [
         "2020-01-07 00:00:00",
         "-0.04868513117906672",
         "-0.24247256961182878",
         "-0.457064146617972",
         "0.1242451048071083"
        ],
        [
         "2020-01-08 00:00:00",
         "-0.09043808640548125",
         "-0.10108851277833754",
         "-0.41946359063485394",
         "0.01868272842240143"
        ],
        [
         "2020-01-09 00:00:00",
         "-0.17340731795234393",
         "-0.13728998064966064",
         "-0.4122092434788266",
         "0.0733628692720907"
        ],
        [
         "2020-01-10 00:00:00",
         "-0.1404131245718558",
         "-0.09408429498730257",
         "-0.5158491002160925",
         "-0.053081782772695874"
        ]
       ],
       "shape": {
        "columns": 4,
        "rows": 10
       }
      },
      "text/html": [
       "<div>\n",
       "<style scoped>\n",
       "    .dataframe tbody tr th:only-of-type {\n",
       "        vertical-align: middle;\n",
       "    }\n",
       "\n",
       "    .dataframe tbody tr th {\n",
       "        vertical-align: top;\n",
       "    }\n",
       "\n",
       "    .dataframe thead th {\n",
       "        text-align: right;\n",
       "    }\n",
       "</style>\n",
       "<table border=\"1\" class=\"dataframe\">\n",
       "  <thead>\n",
       "    <tr style=\"text-align: right;\">\n",
       "      <th></th>\n",
       "      <th>A</th>\n",
       "      <th>B</th>\n",
       "      <th>C</th>\n",
       "      <th>D</th>\n",
       "    </tr>\n",
       "  </thead>\n",
       "  <tbody>\n",
       "    <tr>\n",
       "      <th>2020-01-01</th>\n",
       "      <td>NaN</td>\n",
       "      <td>NaN</td>\n",
       "      <td>NaN</td>\n",
       "      <td>NaN</td>\n",
       "    </tr>\n",
       "    <tr>\n",
       "      <th>2020-01-02</th>\n",
       "      <td>NaN</td>\n",
       "      <td>NaN</td>\n",
       "      <td>NaN</td>\n",
       "      <td>NaN</td>\n",
       "    </tr>\n",
       "    <tr>\n",
       "      <th>2020-01-03</th>\n",
       "      <td>-0.178017</td>\n",
       "      <td>-0.792580</td>\n",
       "      <td>-0.467620</td>\n",
       "      <td>-0.423383</td>\n",
       "    </tr>\n",
       "    <tr>\n",
       "      <th>2020-01-04</th>\n",
       "      <td>0.116323</td>\n",
       "      <td>-0.964938</td>\n",
       "      <td>-0.303392</td>\n",
       "      <td>-0.085830</td>\n",
       "    </tr>\n",
       "    <tr>\n",
       "      <th>2020-01-05</th>\n",
       "      <td>0.087240</td>\n",
       "      <td>-0.416630</td>\n",
       "      <td>-0.509572</td>\n",
       "      <td>0.348416</td>\n",
       "    </tr>\n",
       "    <tr>\n",
       "      <th>2020-01-06</th>\n",
       "      <td>-0.032806</td>\n",
       "      <td>-0.312490</td>\n",
       "      <td>-0.711866</td>\n",
       "      <td>0.231099</td>\n",
       "    </tr>\n",
       "    <tr>\n",
       "      <th>2020-01-07</th>\n",
       "      <td>-0.048685</td>\n",
       "      <td>-0.242473</td>\n",
       "      <td>-0.457064</td>\n",
       "      <td>0.124245</td>\n",
       "    </tr>\n",
       "    <tr>\n",
       "      <th>2020-01-08</th>\n",
       "      <td>-0.090438</td>\n",
       "      <td>-0.101089</td>\n",
       "      <td>-0.419464</td>\n",
       "      <td>0.018683</td>\n",
       "    </tr>\n",
       "    <tr>\n",
       "      <th>2020-01-09</th>\n",
       "      <td>-0.173407</td>\n",
       "      <td>-0.137290</td>\n",
       "      <td>-0.412209</td>\n",
       "      <td>0.073363</td>\n",
       "    </tr>\n",
       "    <tr>\n",
       "      <th>2020-01-10</th>\n",
       "      <td>-0.140413</td>\n",
       "      <td>-0.094084</td>\n",
       "      <td>-0.515849</td>\n",
       "      <td>-0.053082</td>\n",
       "    </tr>\n",
       "  </tbody>\n",
       "</table>\n",
       "</div>"
      ],
      "text/plain": [
       "                   A         B         C         D\n",
       "2020-01-01       NaN       NaN       NaN       NaN\n",
       "2020-01-02       NaN       NaN       NaN       NaN\n",
       "2020-01-03 -0.178017 -0.792580 -0.467620 -0.423383\n",
       "2020-01-04  0.116323 -0.964938 -0.303392 -0.085830\n",
       "2020-01-05  0.087240 -0.416630 -0.509572  0.348416\n",
       "2020-01-06 -0.032806 -0.312490 -0.711866  0.231099\n",
       "2020-01-07 -0.048685 -0.242473 -0.457064  0.124245\n",
       "2020-01-08 -0.090438 -0.101089 -0.419464  0.018683\n",
       "2020-01-09 -0.173407 -0.137290 -0.412209  0.073363\n",
       "2020-01-10 -0.140413 -0.094084 -0.515849 -0.053082"
      ]
     },
     "execution_count": 850,
     "metadata": {},
     "output_type": "execute_result"
    }
   ],
   "source": [
    "df.rolling(window=len(df), min_periods=3).mean()"
   ]
  },
  {
   "cell_type": "code",
   "execution_count": 851,
   "id": "08332e80",
   "metadata": {},
   "outputs": [
    {
     "data": {
      "application/vnd.microsoft.datawrangler.viewer.v0+json": {
       "columns": [
        {
         "name": "index",
         "rawType": "datetime64[ns]",
         "type": "datetime"
        },
        {
         "name": "A",
         "rawType": "float64",
         "type": "float"
        },
        {
         "name": "B",
         "rawType": "float64",
         "type": "float"
        },
        {
         "name": "C",
         "rawType": "float64",
         "type": "float"
        },
        {
         "name": "D",
         "rawType": "float64",
         "type": "float"
        }
       ],
       "ref": "fc54ee08-5ab2-42cf-8940-cf05a343f8f2",
       "rows": [
        [
         "2020-01-01 00:00:00",
         null,
         null,
         null,
         null
        ],
        [
         "2020-01-02 00:00:00",
         null,
         null,
         null,
         null
        ],
        [
         "2020-01-03 00:00:00",
         "-0.17801696635241426",
         "-0.7925796099421311",
         "-0.46761954705789605",
         "-0.42338307577304696"
        ],
        [
         "2020-01-04 00:00:00",
         "0.11632334388948795",
         "-0.9649376488511066",
         "-0.30339186508772853",
         "-0.08583033823367997"
        ],
        [
         "2020-01-05 00:00:00",
         "0.08723973760345104",
         "-0.41663009166110176",
         "-0.5095723517482249",
         "0.3484155335012391"
        ],
        [
         "2020-01-06 00:00:00",
         "-0.03280623426955889",
         "-0.31249044716566027",
         "-0.711865842557018",
         "0.2310985408214157"
        ],
        [
         "2020-01-07 00:00:00",
         "-0.04868513117906672",
         "-0.24247256961182878",
         "-0.457064146617972",
         "0.1242451048071083"
        ],
        [
         "2020-01-08 00:00:00",
         "-0.09043808640548125",
         "-0.10108851277833754",
         "-0.41946359063485394",
         "0.01868272842240143"
        ],
        [
         "2020-01-09 00:00:00",
         "-0.17340731795234393",
         "-0.13728998064966064",
         "-0.4122092434788266",
         "0.0733628692720907"
        ],
        [
         "2020-01-10 00:00:00",
         "-0.1404131245718558",
         "-0.09408429498730257",
         "-0.5158491002160925",
         "-0.053081782772695874"
        ]
       ],
       "shape": {
        "columns": 4,
        "rows": 10
       }
      },
      "text/html": [
       "<div>\n",
       "<style scoped>\n",
       "    .dataframe tbody tr th:only-of-type {\n",
       "        vertical-align: middle;\n",
       "    }\n",
       "\n",
       "    .dataframe tbody tr th {\n",
       "        vertical-align: top;\n",
       "    }\n",
       "\n",
       "    .dataframe thead th {\n",
       "        text-align: right;\n",
       "    }\n",
       "</style>\n",
       "<table border=\"1\" class=\"dataframe\">\n",
       "  <thead>\n",
       "    <tr style=\"text-align: right;\">\n",
       "      <th></th>\n",
       "      <th>A</th>\n",
       "      <th>B</th>\n",
       "      <th>C</th>\n",
       "      <th>D</th>\n",
       "    </tr>\n",
       "  </thead>\n",
       "  <tbody>\n",
       "    <tr>\n",
       "      <th>2020-01-01</th>\n",
       "      <td>NaN</td>\n",
       "      <td>NaN</td>\n",
       "      <td>NaN</td>\n",
       "      <td>NaN</td>\n",
       "    </tr>\n",
       "    <tr>\n",
       "      <th>2020-01-02</th>\n",
       "      <td>NaN</td>\n",
       "      <td>NaN</td>\n",
       "      <td>NaN</td>\n",
       "      <td>NaN</td>\n",
       "    </tr>\n",
       "    <tr>\n",
       "      <th>2020-01-03</th>\n",
       "      <td>-0.178017</td>\n",
       "      <td>-0.792580</td>\n",
       "      <td>-0.467620</td>\n",
       "      <td>-0.423383</td>\n",
       "    </tr>\n",
       "    <tr>\n",
       "      <th>2020-01-04</th>\n",
       "      <td>0.116323</td>\n",
       "      <td>-0.964938</td>\n",
       "      <td>-0.303392</td>\n",
       "      <td>-0.085830</td>\n",
       "    </tr>\n",
       "    <tr>\n",
       "      <th>2020-01-05</th>\n",
       "      <td>0.087240</td>\n",
       "      <td>-0.416630</td>\n",
       "      <td>-0.509572</td>\n",
       "      <td>0.348416</td>\n",
       "    </tr>\n",
       "    <tr>\n",
       "      <th>2020-01-06</th>\n",
       "      <td>-0.032806</td>\n",
       "      <td>-0.312490</td>\n",
       "      <td>-0.711866</td>\n",
       "      <td>0.231099</td>\n",
       "    </tr>\n",
       "    <tr>\n",
       "      <th>2020-01-07</th>\n",
       "      <td>-0.048685</td>\n",
       "      <td>-0.242473</td>\n",
       "      <td>-0.457064</td>\n",
       "      <td>0.124245</td>\n",
       "    </tr>\n",
       "    <tr>\n",
       "      <th>2020-01-08</th>\n",
       "      <td>-0.090438</td>\n",
       "      <td>-0.101089</td>\n",
       "      <td>-0.419464</td>\n",
       "      <td>0.018683</td>\n",
       "    </tr>\n",
       "    <tr>\n",
       "      <th>2020-01-09</th>\n",
       "      <td>-0.173407</td>\n",
       "      <td>-0.137290</td>\n",
       "      <td>-0.412209</td>\n",
       "      <td>0.073363</td>\n",
       "    </tr>\n",
       "    <tr>\n",
       "      <th>2020-01-10</th>\n",
       "      <td>-0.140413</td>\n",
       "      <td>-0.094084</td>\n",
       "      <td>-0.515849</td>\n",
       "      <td>-0.053082</td>\n",
       "    </tr>\n",
       "  </tbody>\n",
       "</table>\n",
       "</div>"
      ],
      "text/plain": [
       "                   A         B         C         D\n",
       "2020-01-01       NaN       NaN       NaN       NaN\n",
       "2020-01-02       NaN       NaN       NaN       NaN\n",
       "2020-01-03 -0.178017 -0.792580 -0.467620 -0.423383\n",
       "2020-01-04  0.116323 -0.964938 -0.303392 -0.085830\n",
       "2020-01-05  0.087240 -0.416630 -0.509572  0.348416\n",
       "2020-01-06 -0.032806 -0.312490 -0.711866  0.231099\n",
       "2020-01-07 -0.048685 -0.242473 -0.457064  0.124245\n",
       "2020-01-08 -0.090438 -0.101089 -0.419464  0.018683\n",
       "2020-01-09 -0.173407 -0.137290 -0.412209  0.073363\n",
       "2020-01-10 -0.140413 -0.094084 -0.515849 -0.053082"
      ]
     },
     "execution_count": 851,
     "metadata": {},
     "output_type": "execute_result"
    }
   ],
   "source": [
    "df.expanding(min_periods=3).mean()"
   ]
  },
  {
   "cell_type": "code",
   "execution_count": 852,
   "id": "076074db",
   "metadata": {},
   "outputs": [
    {
     "data": {
      "application/vnd.microsoft.datawrangler.viewer.v0+json": {
       "columns": [
        {
         "name": "index",
         "rawType": "datetime64[ns]",
         "type": "datetime"
        },
        {
         "name": "A",
         "rawType": "float64",
         "type": "float"
        },
        {
         "name": "B",
         "rawType": "float64",
         "type": "float"
        },
        {
         "name": "C",
         "rawType": "float64",
         "type": "float"
        },
        {
         "name": "D",
         "rawType": "float64",
         "type": "float"
        }
       ],
       "ref": "f55c40f6-e152-47e2-90e5-a157bf3a2698",
       "rows": [
        [
         "2020-01-01 00:00:00",
         "0.7300570337111026",
         "-1.3169376834447832",
         "-0.7513276265311025",
         "0.5282900335229547"
        ],
        [
         "2020-01-02 00:00:00",
         "0.19346190127044036",
         "-1.1887781933863566",
         "-0.06838714166111988",
         "-0.6832057484701443"
        ],
        [
         "2020-01-03 00:00:00",
         "-0.2774208722180311",
         "-0.7142943362588353",
         "-0.4957959213677589",
         "-0.4529412428797013"
        ],
        [
         "2020-01-04 00:00:00",
         "0.1288549512625364",
         "-0.9585875264126102",
         "-0.27779629372384174",
         "-0.013888817521821724"
        ],
        [
         "2020-01-05 00:00:00",
         "0.08549324645256273",
         "-0.2077000855567417",
         "-0.5678352894301844",
         "0.5624258877894563"
        ],
        [
         "2020-01-06 00:00:00",
         "-0.09135135616383756",
         "-0.10533674939656962",
         "-0.8522267185642706",
         "0.33650910373177484"
        ],
        [
         "2020-01-07 00:00:00",
         "-0.10326256772655788",
         "-0.0412668970246185",
         "-0.4166044957699704",
         "0.1432873944550595"
        ],
        [
         "2020-01-08 00:00:00",
         "-0.16254375839485238",
         "0.15599328746276223",
         "-0.3613754418027174",
         "-0.03990262757415929"
        ],
        [
         "2020-01-09 00:00:00",
         "-0.2984481954496766",
         "0.03856670323572994",
         "-0.3599247758192086",
         "0.07103947434148052"
        ],
        [
         "2020-01-10 00:00:00",
         "-0.21051410045681254",
         "0.08808226682871126",
         "-0.5703335100429272",
         "-0.17288986113006546"
        ]
       ],
       "shape": {
        "columns": 4,
        "rows": 10
       }
      },
      "text/html": [
       "<div>\n",
       "<style scoped>\n",
       "    .dataframe tbody tr th:only-of-type {\n",
       "        vertical-align: middle;\n",
       "    }\n",
       "\n",
       "    .dataframe tbody tr th {\n",
       "        vertical-align: top;\n",
       "    }\n",
       "\n",
       "    .dataframe thead th {\n",
       "        text-align: right;\n",
       "    }\n",
       "</style>\n",
       "<table border=\"1\" class=\"dataframe\">\n",
       "  <thead>\n",
       "    <tr style=\"text-align: right;\">\n",
       "      <th></th>\n",
       "      <th>A</th>\n",
       "      <th>B</th>\n",
       "      <th>C</th>\n",
       "      <th>D</th>\n",
       "    </tr>\n",
       "  </thead>\n",
       "  <tbody>\n",
       "    <tr>\n",
       "      <th>2020-01-01</th>\n",
       "      <td>0.730057</td>\n",
       "      <td>-1.316938</td>\n",
       "      <td>-0.751328</td>\n",
       "      <td>0.528290</td>\n",
       "    </tr>\n",
       "    <tr>\n",
       "      <th>2020-01-02</th>\n",
       "      <td>0.193462</td>\n",
       "      <td>-1.188778</td>\n",
       "      <td>-0.068387</td>\n",
       "      <td>-0.683206</td>\n",
       "    </tr>\n",
       "    <tr>\n",
       "      <th>2020-01-03</th>\n",
       "      <td>-0.277421</td>\n",
       "      <td>-0.714294</td>\n",
       "      <td>-0.495796</td>\n",
       "      <td>-0.452941</td>\n",
       "    </tr>\n",
       "    <tr>\n",
       "      <th>2020-01-04</th>\n",
       "      <td>0.128855</td>\n",
       "      <td>-0.958588</td>\n",
       "      <td>-0.277796</td>\n",
       "      <td>-0.013889</td>\n",
       "    </tr>\n",
       "    <tr>\n",
       "      <th>2020-01-05</th>\n",
       "      <td>0.085493</td>\n",
       "      <td>-0.207700</td>\n",
       "      <td>-0.567835</td>\n",
       "      <td>0.562426</td>\n",
       "    </tr>\n",
       "    <tr>\n",
       "      <th>2020-01-06</th>\n",
       "      <td>-0.091351</td>\n",
       "      <td>-0.105337</td>\n",
       "      <td>-0.852227</td>\n",
       "      <td>0.336509</td>\n",
       "    </tr>\n",
       "    <tr>\n",
       "      <th>2020-01-07</th>\n",
       "      <td>-0.103263</td>\n",
       "      <td>-0.041267</td>\n",
       "      <td>-0.416604</td>\n",
       "      <td>0.143287</td>\n",
       "    </tr>\n",
       "    <tr>\n",
       "      <th>2020-01-08</th>\n",
       "      <td>-0.162544</td>\n",
       "      <td>0.155993</td>\n",
       "      <td>-0.361375</td>\n",
       "      <td>-0.039903</td>\n",
       "    </tr>\n",
       "    <tr>\n",
       "      <th>2020-01-09</th>\n",
       "      <td>-0.298448</td>\n",
       "      <td>0.038567</td>\n",
       "      <td>-0.359925</td>\n",
       "      <td>0.071039</td>\n",
       "    </tr>\n",
       "    <tr>\n",
       "      <th>2020-01-10</th>\n",
       "      <td>-0.210514</td>\n",
       "      <td>0.088082</td>\n",
       "      <td>-0.570334</td>\n",
       "      <td>-0.172890</td>\n",
       "    </tr>\n",
       "  </tbody>\n",
       "</table>\n",
       "</div>"
      ],
      "text/plain": [
       "                   A         B         C         D\n",
       "2020-01-01  0.730057 -1.316938 -0.751328  0.528290\n",
       "2020-01-02  0.193462 -1.188778 -0.068387 -0.683206\n",
       "2020-01-03 -0.277421 -0.714294 -0.495796 -0.452941\n",
       "2020-01-04  0.128855 -0.958588 -0.277796 -0.013889\n",
       "2020-01-05  0.085493 -0.207700 -0.567835  0.562426\n",
       "2020-01-06 -0.091351 -0.105337 -0.852227  0.336509\n",
       "2020-01-07 -0.103263 -0.041267 -0.416604  0.143287\n",
       "2020-01-08 -0.162544  0.155993 -0.361375 -0.039903\n",
       "2020-01-09 -0.298448  0.038567 -0.359925  0.071039\n",
       "2020-01-10 -0.210514  0.088082 -0.570334 -0.172890"
      ]
     },
     "execution_count": 852,
     "metadata": {},
     "output_type": "execute_result"
    }
   ],
   "source": [
    "df.ewm(halflife='4 days', times=df.index).mean()"
   ]
  },
  {
   "cell_type": "code",
   "execution_count": 853,
   "id": "6ce21580",
   "metadata": {},
   "outputs": [],
   "source": [
    "import datetime"
   ]
  },
  {
   "cell_type": "code",
   "execution_count": 854,
   "id": "f6624a43",
   "metadata": {},
   "outputs": [],
   "source": [
    "dt = pd.to_datetime(['1/1/2028', np.datetime64('2018-12-31'), datetime.datetime(2018, 3, 31)])"
   ]
  },
  {
   "cell_type": "code",
   "execution_count": 855,
   "id": "bf356b22",
   "metadata": {},
   "outputs": [
    {
     "data": {
      "text/plain": [
       "DatetimeIndex(['2028-01-01', '2018-12-31', '2018-03-31'], dtype='datetime64[ns]', freq=None)"
      ]
     },
     "execution_count": 855,
     "metadata": {},
     "output_type": "execute_result"
    }
   ],
   "source": [
    "dt"
   ]
  },
  {
   "cell_type": "code",
   "execution_count": 856,
   "id": "1945b906",
   "metadata": {},
   "outputs": [],
   "source": [
    "dt1 = pd.date_range('2018-01-01', periods=3, freq='h')"
   ]
  },
  {
   "cell_type": "code",
   "execution_count": 857,
   "id": "494ae5c4",
   "metadata": {},
   "outputs": [
    {
     "data": {
      "text/plain": [
       "DatetimeIndex(['2018-01-01 00:00:00+00:00', '2018-01-01 01:00:00+00:00',\n",
       "               '2018-01-01 02:00:00+00:00'],\n",
       "              dtype='datetime64[ns, UTC]', freq='h')"
      ]
     },
     "execution_count": 857,
     "metadata": {},
     "output_type": "execute_result"
    }
   ],
   "source": [
    "if dt1.tz is None:\n",
    "    dt1 = dt1.tz_localize('UTC')\n",
    "else:\n",
    "    dt1 = dt1.tz_convert('UTC')\n",
    "\n",
    "dt1\n"
   ]
  },
  {
   "cell_type": "code",
   "execution_count": 858,
   "id": "7f163311",
   "metadata": {},
   "outputs": [
    {
     "data": {
      "application/vnd.microsoft.datawrangler.viewer.v0+json": {
       "columns": [
        {
         "name": "index",
         "rawType": "datetime64[ns]",
         "type": "datetime"
        },
        {
         "name": "0",
         "rawType": "float64",
         "type": "float"
        }
       ],
       "ref": "14042ec4-bfdb-466c-a433-c90147f25d9b",
       "rows": [
        [
         "1998-01-01 00:00:00",
         "-0.12833776588130827"
        ],
        [
         "1998-01-02 00:00:00",
         "-0.6877170621651422"
        ],
        [
         "1998-01-03 00:00:00",
         "-2.100927918733774"
        ],
        [
         "1998-01-04 00:00:00",
         "1.0259276419763448"
        ],
        [
         "1998-01-05 00:00:00",
         "-0.007972644458167612"
        ],
        [
         "1998-01-06 00:00:00",
         "-1.3360352572661462"
        ],
        [
         "1998-01-07 00:00:00",
         "0.9153821128651971"
        ],
        [
         "1998-01-08 00:00:00",
         "-0.13065478211602463"
        ],
        [
         "1998-01-09 00:00:00",
         "0.022627301873806842"
        ],
        [
         "1998-01-10 00:00:00",
         "-1.4254590636826572"
        ]
       ],
       "shape": {
        "columns": 1,
        "rows": 10
       }
      },
      "text/plain": [
       "1998-01-01   -0.128338\n",
       "1998-01-02   -0.687717\n",
       "1998-01-03   -2.100928\n",
       "1998-01-04    1.025928\n",
       "1998-01-05   -0.007973\n",
       "1998-01-06   -1.336035\n",
       "1998-01-07    0.915382\n",
       "1998-01-08   -0.130655\n",
       "1998-01-09    0.022627\n",
       "1998-01-10   -1.425459\n",
       "Freq: D, dtype: float64"
      ]
     },
     "execution_count": 858,
     "metadata": {},
     "output_type": "execute_result"
    }
   ],
   "source": [
    "idx = pd.date_range(\"1/1/1998\", freq='D', periods=10)\n",
    "ts = pd.Series(np.random.randn(10), index=idx)\n",
    "ts"
   ]
  },
  {
   "cell_type": "code",
   "execution_count": 859,
   "id": "a0731f53",
   "metadata": {},
   "outputs": [
    {
     "data": {
      "application/vnd.microsoft.datawrangler.viewer.v0+json": {
       "columns": [
        {
         "name": "index",
         "rawType": "datetime64[ns]",
         "type": "datetime"
        },
        {
         "name": "0",
         "rawType": "float64",
         "type": "float"
        }
       ],
       "ref": "af562487-4c5d-4e4f-9b5c-d0d38e4d2659",
       "rows": [
        [
         "1998-01-01 00:00:00",
         "-0.9723275822600748"
        ],
        [
         "1998-01-04 00:00:00",
         "-0.10602675324932302"
        ],
        [
         "1998-01-07 00:00:00",
         "0.26911821087432647"
        ],
        [
         "1998-01-10 00:00:00",
         "-1.4254590636826572"
        ]
       ],
       "shape": {
        "columns": 1,
        "rows": 4
       }
      },
      "text/plain": [
       "1998-01-01   -0.972328\n",
       "1998-01-04   -0.106027\n",
       "1998-01-07    0.269118\n",
       "1998-01-10   -1.425459\n",
       "Freq: 3D, dtype: float64"
      ]
     },
     "execution_count": 859,
     "metadata": {},
     "output_type": "execute_result"
    }
   ],
   "source": [
    "ts.resample('3D').mean()"
   ]
  },
  {
   "cell_type": "code",
   "execution_count": 860,
   "id": "ca5bda3c",
   "metadata": {},
   "outputs": [
    {
     "data": {
      "application/vnd.microsoft.datawrangler.viewer.v0+json": {
       "columns": [
        {
         "name": "index",
         "rawType": "datetime64[ns]",
         "type": "datetime"
        },
        {
         "name": "0",
         "rawType": "float64",
         "type": "float"
        }
       ],
       "ref": "4d7b37a8-cb13-4a4d-a315-9bf200687a57",
       "rows": [
        [
         "1998-01-01 00:00:00",
         null
        ],
        [
         "1998-01-02 00:00:00",
         null
        ],
        [
         "1998-01-03 00:00:00",
         "-0.9723275822600748"
        ],
        [
         "1998-01-04 00:00:00",
         "-0.5875724463075237"
        ],
        [
         "1998-01-05 00:00:00",
         "-0.36099097373853223"
        ],
        [
         "1998-01-06 00:00:00",
         "-0.10602675324932302"
        ],
        [
         "1998-01-07 00:00:00",
         "-0.1428752629530389"
        ],
        [
         "1998-01-08 00:00:00",
         "-0.18376930883899126"
        ],
        [
         "1998-01-09 00:00:00",
         "0.26911821087432647"
        ],
        [
         "1998-01-10 00:00:00",
         "-0.5111621813082916"
        ]
       ],
       "shape": {
        "columns": 1,
        "rows": 10
       }
      },
      "text/plain": [
       "1998-01-01         NaN\n",
       "1998-01-02         NaN\n",
       "1998-01-03   -0.972328\n",
       "1998-01-04   -0.587572\n",
       "1998-01-05   -0.360991\n",
       "1998-01-06   -0.106027\n",
       "1998-01-07   -0.142875\n",
       "1998-01-08   -0.183769\n",
       "1998-01-09    0.269118\n",
       "1998-01-10   -0.511162\n",
       "Freq: D, dtype: float64"
      ]
     },
     "execution_count": 860,
     "metadata": {},
     "output_type": "execute_result"
    }
   ],
   "source": [
    "ts.rolling(window='3D', min_periods=3).mean()"
   ]
  },
  {
   "cell_type": "code",
   "execution_count": 861,
   "id": "a03a5352",
   "metadata": {},
   "outputs": [
    {
     "data": {
      "text/plain": [
       "'Friday'"
      ]
     },
     "execution_count": 861,
     "metadata": {},
     "output_type": "execute_result"
    }
   ],
   "source": [
    "friday = pd.to_datetime('1/5/2018')\n",
    "friday.day_name()"
   ]
  },
  {
   "cell_type": "code",
   "execution_count": 862,
   "id": "d1ee0fe6",
   "metadata": {},
   "outputs": [
    {
     "data": {
      "text/plain": [
       "'Saturday'"
      ]
     },
     "execution_count": 862,
     "metadata": {},
     "output_type": "execute_result"
    }
   ],
   "source": [
    "sat = friday + pd.Timedelta('8D')\n",
    "sat.day_name()"
   ]
  },
  {
   "cell_type": "code",
   "execution_count": 863,
   "id": "699c638c",
   "metadata": {},
   "outputs": [
    {
     "data": {
      "text/plain": [
       "'Monday'"
      ]
     },
     "execution_count": 863,
     "metadata": {},
     "output_type": "execute_result"
    }
   ],
   "source": [
    "nextd = sat + pd.offsets.BDay(1)\n",
    "nextd.day_name()"
   ]
  },
  {
   "cell_type": "code",
   "execution_count": 864,
   "id": "dab8112f",
   "metadata": {},
   "outputs": [
    {
     "data": {
      "text/plain": [
       "Timestamp('2018-01-05 00:00:00')"
      ]
     },
     "execution_count": 864,
     "metadata": {},
     "output_type": "execute_result"
    }
   ],
   "source": [
    "friday2 = pd.Timestamp(\"2018-01-05\")\n",
    "friday2"
   ]
  },
  {
   "cell_type": "code",
   "execution_count": 865,
   "id": "690bcca1",
   "metadata": {},
   "outputs": [
    {
     "data": {
      "text/plain": [
       "Period('2018-01-01', 'D')"
      ]
     },
     "execution_count": 865,
     "metadata": {},
     "output_type": "execute_result"
    }
   ],
   "source": [
    "period = pd.Period(\"2018-01-01\")\n",
    "period"
   ]
  },
  {
   "cell_type": "code",
   "execution_count": 866,
   "id": "ba63742f",
   "metadata": {},
   "outputs": [
    {
     "data": {
      "application/vnd.microsoft.datawrangler.viewer.v0+json": {
       "columns": [
        {
         "name": "index",
         "rawType": "int64",
         "type": "integer"
        },
        {
         "name": "0",
         "rawType": "period[M]",
         "type": "unknown"
        }
       ],
       "ref": "7c25ccf2-1606-468a-a43f-fd15e7393573",
       "rows": [
        [
         "0",
         "2000-01"
        ],
        [
         "1",
         "2000-02"
        ],
        [
         "2",
         "2000-03"
        ],
        [
         "3",
         "2000-04"
        ],
        [
         "4",
         "2000-05"
        ],
        [
         "5",
         "2000-06"
        ],
        [
         "6",
         "2000-07"
        ],
        [
         "7",
         "2000-08"
        ],
        [
         "8",
         "2000-09"
        ],
        [
         "9",
         "2000-10"
        ]
       ],
       "shape": {
        "columns": 1,
        "rows": 10
       }
      },
      "text/plain": [
       "0    2000-01\n",
       "1    2000-02\n",
       "2    2000-03\n",
       "3    2000-04\n",
       "4    2000-05\n",
       "5    2000-06\n",
       "6    2000-07\n",
       "7    2000-08\n",
       "8    2000-09\n",
       "9    2000-10\n",
       "dtype: period[M]"
      ]
     },
     "execution_count": 866,
     "metadata": {},
     "output_type": "execute_result"
    }
   ],
   "source": [
    "period = pd.Series(pd.period_range(\"1/31/2000\", freq=\"M\", periods=10))\n",
    "period"
   ]
  },
  {
   "cell_type": "code",
   "execution_count": 867,
   "id": "dfd4ed2a",
   "metadata": {},
   "outputs": [
    {
     "data": {
      "text/plain": [
       "NaT"
      ]
     },
     "execution_count": 867,
     "metadata": {},
     "output_type": "execute_result"
    }
   ],
   "source": [
    "pd.Timestamp(pd.NaT)"
   ]
  },
  {
   "cell_type": "code",
   "execution_count": 868,
   "id": "2de0e1eb",
   "metadata": {},
   "outputs": [
    {
     "data": {
      "text/plain": [
       "Timestamp('2012-01-01 00:00:00')"
      ]
     },
     "execution_count": 868,
     "metadata": {},
     "output_type": "execute_result"
    }
   ],
   "source": [
    "pd.Timestamp(2012, 1, 1)"
   ]
  },
  {
   "cell_type": "code",
   "execution_count": 869,
   "id": "1b861bc8",
   "metadata": {},
   "outputs": [
    {
     "data": {
      "text/plain": [
       "Timestamp('2012-01-01 00:00:00')"
      ]
     },
     "execution_count": 869,
     "metadata": {},
     "output_type": "execute_result"
    }
   ],
   "source": [
    "pd.Timestamp(datetime.datetime(2012, 1, 1))"
   ]
  },
  {
   "cell_type": "code",
   "execution_count": 870,
   "id": "46828ecb",
   "metadata": {},
   "outputs": [
    {
     "data": {
      "text/plain": [
       "[Timestamp('2012-05-01 00:00:00'),\n",
       " Timestamp('2012-05-02 00:00:00'),\n",
       " Timestamp('2012-05-03 00:00:00')]"
      ]
     },
     "execution_count": 870,
     "metadata": {},
     "output_type": "execute_result"
    }
   ],
   "source": [
    "dates = [\n",
    "    pd.Timestamp(\"2012-05-01\"),\n",
    "    pd.Timestamp(\"2012-05-02\"),\n",
    "    pd.Timestamp(\"2012-05-03\"),\n",
    "]\n",
    "dates"
   ]
  },
  {
   "cell_type": "code",
   "execution_count": 871,
   "id": "a11c6b1d",
   "metadata": {},
   "outputs": [
    {
     "data": {
      "application/vnd.microsoft.datawrangler.viewer.v0+json": {
       "columns": [
        {
         "name": "index",
         "rawType": "datetime64[ns]",
         "type": "datetime"
        },
        {
         "name": "0",
         "rawType": "float64",
         "type": "float"
        }
       ],
       "ref": "2c6ffa23-e06a-431e-9516-6e6c1e7867c9",
       "rows": [
        [
         "2012-05-01 00:00:00",
         "0.2719390120882168"
        ],
        [
         "2012-05-02 00:00:00",
         "0.16954335825353123"
        ],
        [
         "2012-05-03 00:00:00",
         "0.6925128747086011"
        ]
       ],
       "shape": {
        "columns": 1,
        "rows": 3
       }
      },
      "text/plain": [
       "2012-05-01    0.271939\n",
       "2012-05-02    0.169543\n",
       "2012-05-03    0.692513\n",
       "dtype: float64"
      ]
     },
     "execution_count": 871,
     "metadata": {},
     "output_type": "execute_result"
    }
   ],
   "source": [
    "ts = pd.Series(np.random.randn(3), index=dates)\n",
    "ts"
   ]
  },
  {
   "cell_type": "code",
   "execution_count": 872,
   "id": "d7d1c90a",
   "metadata": {},
   "outputs": [
    {
     "data": {
      "text/plain": [
       "DatetimeIndex(['2012-05-01', '2012-05-02', '2012-05-03'], dtype='datetime64[ns]', freq=None)"
      ]
     },
     "execution_count": 872,
     "metadata": {},
     "output_type": "execute_result"
    }
   ],
   "source": [
    "ts.index"
   ]
  },
  {
   "cell_type": "code",
   "execution_count": 873,
   "id": "8ed16e3e",
   "metadata": {},
   "outputs": [
    {
     "data": {
      "text/plain": [
       "[Period('2012-01', 'M'), Period('2012-02', 'M'), Period('2012-03', 'M')]"
      ]
     },
     "execution_count": 873,
     "metadata": {},
     "output_type": "execute_result"
    }
   ],
   "source": [
    "periods = [pd.Period(\"2012-01\"), pd.Period(\"2012-02\"), pd.Period(\"2012-03\")]\n",
    "periods"
   ]
  },
  {
   "cell_type": "code",
   "execution_count": 874,
   "id": "699ddc58",
   "metadata": {},
   "outputs": [
    {
     "data": {
      "application/vnd.microsoft.datawrangler.viewer.v0+json": {
       "columns": [
        {
         "name": "index",
         "rawType": "period[M]",
         "type": "unknown"
        },
        {
         "name": "0",
         "rawType": "float64",
         "type": "float"
        }
       ],
       "ref": "bb2b327c-5cad-46d1-bc33-d7c76dec6a7c",
       "rows": [
        [
         "2012-01",
         "-1.2311385803122312"
        ],
        [
         "2012-02",
         "1.69287008266881"
        ],
        [
         "2012-03",
         "0.7838554618741079"
        ]
       ],
       "shape": {
        "columns": 1,
        "rows": 3
       }
      },
      "text/plain": [
       "2012-01   -1.231139\n",
       "2012-02    1.692870\n",
       "2012-03    0.783855\n",
       "Freq: M, dtype: float64"
      ]
     },
     "execution_count": 874,
     "metadata": {},
     "output_type": "execute_result"
    }
   ],
   "source": [
    "ts2 = pd.Series(np.random.randn(3), index=periods)\n",
    "ts2"
   ]
  },
  {
   "cell_type": "code",
   "execution_count": 875,
   "id": "28870843",
   "metadata": {},
   "outputs": [
    {
     "data": {
      "text/plain": [
       "PeriodIndex(['2012-01', '2012-02', '2012-03'], dtype='period[M]')"
      ]
     },
     "execution_count": 875,
     "metadata": {},
     "output_type": "execute_result"
    }
   ],
   "source": [
    "ts2.index"
   ]
  },
  {
   "cell_type": "code",
   "execution_count": 876,
   "id": "b09d9d6b",
   "metadata": {},
   "outputs": [
    {
     "data": {
      "application/vnd.microsoft.datawrangler.viewer.v0+json": {
       "columns": [
        {
         "name": "index",
         "rawType": "int64",
         "type": "integer"
        },
        {
         "name": "0",
         "rawType": "object",
         "type": "unknown"
        }
       ],
       "ref": "b28b14db-e7b9-41d8-bb9a-15bc8a4ed7a1",
       "rows": [
        [
         "0",
         "July 31, 2009"
        ],
        [
         "1",
         "2009-08-31"
        ],
        [
         "2",
         null
        ]
       ],
       "shape": {
        "columns": 1,
        "rows": 3
       }
      },
      "text/plain": [
       "0    July 31, 2009\n",
       "1       2009-08-31\n",
       "2             None\n",
       "dtype: object"
      ]
     },
     "execution_count": 876,
     "metadata": {},
     "output_type": "execute_result"
    }
   ],
   "source": [
    "ts3 = pd.Series(['July 31, 2009', '2009-08-31', None])\n",
    "ts3"
   ]
  },
  {
   "cell_type": "code",
   "execution_count": 877,
   "id": "fe04668f",
   "metadata": {},
   "outputs": [
    {
     "data": {
      "application/vnd.microsoft.datawrangler.viewer.v0+json": {
       "columns": [
        {
         "name": "index",
         "rawType": "int64",
         "type": "integer"
        },
        {
         "name": "0",
         "rawType": "datetime64[ns]",
         "type": "datetime"
        }
       ],
       "ref": "baf6047c-b0ef-4709-9a17-cd82b3aab4aa",
       "rows": [
        [
         "0",
         "2009-07-31 00:00:00"
        ],
        [
         "1",
         "2009-08-31 00:00:00"
        ],
        [
         "2",
         null
        ]
       ],
       "shape": {
        "columns": 1,
        "rows": 3
       }
      },
      "text/plain": [
       "0   2009-07-31\n",
       "1   2009-08-31\n",
       "2          NaT\n",
       "dtype: datetime64[ns]"
      ]
     },
     "execution_count": 877,
     "metadata": {},
     "output_type": "execute_result"
    }
   ],
   "source": [
    "ts3 = pd.to_datetime(ts3, format='mixed')\n",
    "ts3"
   ]
  },
  {
   "cell_type": "code",
   "execution_count": 878,
   "id": "b5f10e5a",
   "metadata": {},
   "outputs": [
    {
     "data": {
      "application/vnd.microsoft.datawrangler.viewer.v0+json": {
       "columns": [
        {
         "name": "index",
         "rawType": "int64",
         "type": "integer"
        },
        {
         "name": "year",
         "rawType": "int64",
         "type": "integer"
        },
        {
         "name": "month",
         "rawType": "int64",
         "type": "integer"
        },
        {
         "name": "day",
         "rawType": "int64",
         "type": "integer"
        },
        {
         "name": "hour",
         "rawType": "int64",
         "type": "integer"
        },
        {
         "name": "value",
         "rawType": "float64",
         "type": "float"
        }
       ],
       "ref": "be04c76a-dbde-48d7-8ebd-93aac3a9044d",
       "rows": [
        [
         "0",
         "2015",
         "2",
         "4",
         "2",
         "1.2"
        ],
        [
         "1",
         "2016",
         "3",
         "5",
         "3",
         "3.6"
        ]
       ],
       "shape": {
        "columns": 5,
        "rows": 2
       }
      },
      "text/html": [
       "<div>\n",
       "<style scoped>\n",
       "    .dataframe tbody tr th:only-of-type {\n",
       "        vertical-align: middle;\n",
       "    }\n",
       "\n",
       "    .dataframe tbody tr th {\n",
       "        vertical-align: top;\n",
       "    }\n",
       "\n",
       "    .dataframe thead th {\n",
       "        text-align: right;\n",
       "    }\n",
       "</style>\n",
       "<table border=\"1\" class=\"dataframe\">\n",
       "  <thead>\n",
       "    <tr style=\"text-align: right;\">\n",
       "      <th></th>\n",
       "      <th>year</th>\n",
       "      <th>month</th>\n",
       "      <th>day</th>\n",
       "      <th>hour</th>\n",
       "      <th>value</th>\n",
       "    </tr>\n",
       "  </thead>\n",
       "  <tbody>\n",
       "    <tr>\n",
       "      <th>0</th>\n",
       "      <td>2015</td>\n",
       "      <td>2</td>\n",
       "      <td>4</td>\n",
       "      <td>2</td>\n",
       "      <td>1.2</td>\n",
       "    </tr>\n",
       "    <tr>\n",
       "      <th>1</th>\n",
       "      <td>2016</td>\n",
       "      <td>3</td>\n",
       "      <td>5</td>\n",
       "      <td>3</td>\n",
       "      <td>3.6</td>\n",
       "    </tr>\n",
       "  </tbody>\n",
       "</table>\n",
       "</div>"
      ],
      "text/plain": [
       "   year  month  day  hour  value\n",
       "0  2015      2    4     2    1.2\n",
       "1  2016      3    5     3    3.6"
      ]
     },
     "execution_count": 878,
     "metadata": {},
     "output_type": "execute_result"
    }
   ],
   "source": [
    "df = pd.DataFrame(\n",
    "    {\"year\": [2015, 2016], \"month\": [2, 3], \"day\": [4, 5], \"hour\": [2, 3],\n",
    "     'value': [1.2, 3.6]}\n",
    ")\n",
    "df"
   ]
  },
  {
   "cell_type": "code",
   "execution_count": 879,
   "id": "6928337b",
   "metadata": {},
   "outputs": [],
   "source": [
    "df.index = pd.to_datetime(df.loc[:,'year':'hour'])"
   ]
  },
  {
   "cell_type": "code",
   "execution_count": 880,
   "id": "4b6a2ced",
   "metadata": {},
   "outputs": [
    {
     "data": {
      "application/vnd.microsoft.datawrangler.viewer.v0+json": {
       "columns": [
        {
         "name": "index",
         "rawType": "datetime64[ns]",
         "type": "datetime"
        },
        {
         "name": "day",
         "rawType": "int64",
         "type": "integer"
        },
        {
         "name": "hour",
         "rawType": "int64",
         "type": "integer"
        },
        {
         "name": "value",
         "rawType": "float64",
         "type": "float"
        }
       ],
       "ref": "265a234e-1dec-4693-9f02-6870aaf5522a",
       "rows": [
        [
         "2015-02-04 02:00:00",
         "4",
         "2",
         "1.2"
        ],
        [
         "2016-03-05 03:00:00",
         "5",
         "3",
         "3.6"
        ]
       ],
       "shape": {
        "columns": 3,
        "rows": 2
       }
      },
      "text/html": [
       "<div>\n",
       "<style scoped>\n",
       "    .dataframe tbody tr th:only-of-type {\n",
       "        vertical-align: middle;\n",
       "    }\n",
       "\n",
       "    .dataframe tbody tr th {\n",
       "        vertical-align: top;\n",
       "    }\n",
       "\n",
       "    .dataframe thead th {\n",
       "        text-align: right;\n",
       "    }\n",
       "</style>\n",
       "<table border=\"1\" class=\"dataframe\">\n",
       "  <thead>\n",
       "    <tr style=\"text-align: right;\">\n",
       "      <th></th>\n",
       "      <th>day</th>\n",
       "      <th>hour</th>\n",
       "      <th>value</th>\n",
       "    </tr>\n",
       "  </thead>\n",
       "  <tbody>\n",
       "    <tr>\n",
       "      <th>2015-02-04 02:00:00</th>\n",
       "      <td>4</td>\n",
       "      <td>2</td>\n",
       "      <td>1.2</td>\n",
       "    </tr>\n",
       "    <tr>\n",
       "      <th>2016-03-05 03:00:00</th>\n",
       "      <td>5</td>\n",
       "      <td>3</td>\n",
       "      <td>3.6</td>\n",
       "    </tr>\n",
       "  </tbody>\n",
       "</table>\n",
       "</div>"
      ],
      "text/plain": [
       "                     day  hour  value\n",
       "2015-02-04 02:00:00    4     2    1.2\n",
       "2016-03-05 03:00:00    5     3    3.6"
      ]
     },
     "execution_count": 880,
     "metadata": {},
     "output_type": "execute_result"
    }
   ],
   "source": [
    "df.drop(['year', 'month'], axis=1)"
   ]
  },
  {
   "cell_type": "code",
   "execution_count": 881,
   "id": "c44930d0",
   "metadata": {},
   "outputs": [
    {
     "data": {
      "text/plain": [
       "DatetimeIndex(['2011-01-03', '2011-01-07', '2011-01-10', '2011-01-12',\n",
       "               '2011-01-14', '2011-01-17', '2011-01-19', '2011-01-21',\n",
       "               '2011-01-24', '2011-01-26',\n",
       "               ...\n",
       "               '2013-04-15', '2013-04-17', '2013-04-19', '2013-04-22',\n",
       "               '2013-04-24', '2013-04-26', '2013-04-29', '2013-05-01',\n",
       "               '2013-05-03', '2013-05-06'],\n",
       "              dtype='datetime64[ns]', length=365, freq='C')"
      ]
     },
     "execution_count": 881,
     "metadata": {},
     "output_type": "execute_result"
    }
   ],
   "source": [
    "weekmask = 'Mon Wed Fri'\n",
    "holidays = [datetime.datetime(2011, 1, 5), datetime.datetime(2011, 3, 14)]\n",
    "pd.bdate_range(\"2011/1/1\", periods=365, freq='C', weekmask=weekmask, holidays=holidays)"
   ]
  },
  {
   "cell_type": "code",
   "execution_count": 882,
   "id": "8a2c287d",
   "metadata": {},
   "outputs": [],
   "source": [
    "start = datetime.datetime(2011, 1, 1)\n",
    "\n",
    "end = datetime.datetime(2012, 1, 1)"
   ]
  },
  {
   "cell_type": "code",
   "execution_count": 883,
   "id": "3df146da",
   "metadata": {},
   "outputs": [
    {
     "data": {
      "application/vnd.microsoft.datawrangler.viewer.v0+json": {
       "columns": [
        {
         "name": "index",
         "rawType": "datetime64[ns]",
         "type": "datetime"
        },
        {
         "name": "0",
         "rawType": "float64",
         "type": "float"
        }
       ],
       "ref": "ddeabd3c-3a3a-475b-96a8-a220ece2ebe3",
       "rows": [
        [
         "2011-01-31 00:00:00",
         "-0.7216256209384428"
        ],
        [
         "2011-02-28 00:00:00",
         "1.6989940645981"
        ],
        [
         "2011-03-31 00:00:00",
         "-0.34988212085249026"
        ],
        [
         "2011-04-29 00:00:00",
         "1.5864508567998181"
        ],
        [
         "2011-05-31 00:00:00",
         "1.4541985928061958"
        ],
        [
         "2011-06-30 00:00:00",
         "0.14945777236849103"
        ],
        [
         "2011-07-29 00:00:00",
         "1.0183926874817475"
        ],
        [
         "2011-08-31 00:00:00",
         "-0.5656513106035832"
        ],
        [
         "2011-09-30 00:00:00",
         "-1.5909508037600735"
        ],
        [
         "2011-10-31 00:00:00",
         "-0.6517769241515629"
        ],
        [
         "2011-11-30 00:00:00",
         "0.45640685658204794"
        ],
        [
         "2011-12-30 00:00:00",
         "1.1340542410623118"
        ]
       ],
       "shape": {
        "columns": 1,
        "rows": 12
       }
      },
      "text/plain": [
       "2011-01-31   -0.721626\n",
       "2011-02-28    1.698994\n",
       "2011-03-31   -0.349882\n",
       "2011-04-29    1.586451\n",
       "2011-05-31    1.454199\n",
       "2011-06-30    0.149458\n",
       "2011-07-29    1.018393\n",
       "2011-08-31   -0.565651\n",
       "2011-09-30   -1.590951\n",
       "2011-10-31   -0.651777\n",
       "2011-11-30    0.456407\n",
       "2011-12-30    1.134054\n",
       "Freq: BME, dtype: float64"
      ]
     },
     "execution_count": 883,
     "metadata": {},
     "output_type": "execute_result"
    }
   ],
   "source": [
    "rng = pd.date_range(start, end, freq=\"BME\")\n",
    "ts = pd.Series(np.random.randn(len(rng)), index=rng)\n",
    "ts"
   ]
  },
  {
   "cell_type": "code",
   "execution_count": 884,
   "id": "19c59857",
   "metadata": {},
   "outputs": [
    {
     "data": {
      "text/plain": [
       "DatetimeIndex(['2011-01-31', '2011-02-28', '2011-03-31', '2011-04-29',\n",
       "               '2011-05-31', '2011-06-30', '2011-07-29', '2011-08-31',\n",
       "               '2011-09-30', '2011-10-31', '2011-11-30', '2011-12-30'],\n",
       "              dtype='datetime64[ns]', freq='BME')"
      ]
     },
     "execution_count": 884,
     "metadata": {},
     "output_type": "execute_result"
    }
   ],
   "source": [
    "ts.index"
   ]
  },
  {
   "cell_type": "code",
   "execution_count": 886,
   "id": "ee9224c4",
   "metadata": {},
   "outputs": [
    {
     "data": {
      "text/plain": [
       "np.float64(1.6989940645981)"
      ]
     },
     "execution_count": 886,
     "metadata": {},
     "output_type": "execute_result"
    }
   ],
   "source": [
    "ts['2/28/2011']"
   ]
  },
  {
   "cell_type": "code",
   "execution_count": 887,
   "id": "1bc73ace",
   "metadata": {},
   "outputs": [
    {
     "data": {
      "application/vnd.microsoft.datawrangler.viewer.v0+json": {
       "columns": [
        {
         "name": "index",
         "rawType": "datetime64[ns]",
         "type": "datetime"
        },
        {
         "name": "0",
         "rawType": "float64",
         "type": "float"
        }
       ],
       "ref": "44607e7d-3157-4488-8597-7acbf16a4146",
       "rows": [
        [
         "2011-10-31 00:00:00",
         "-0.6517769241515629"
        ]
       ],
       "shape": {
        "columns": 1,
        "rows": 1
       }
      },
      "text/plain": [
       "2011-10-31   -0.651777\n",
       "Freq: BME, dtype: float64"
      ]
     },
     "execution_count": 887,
     "metadata": {},
     "output_type": "execute_result"
    }
   ],
   "source": [
    "ts['2011-10']"
   ]
  },
  {
   "cell_type": "code",
   "execution_count": 888,
   "id": "225118f7",
   "metadata": {},
   "outputs": [
    {
     "data": {
      "application/vnd.microsoft.datawrangler.viewer.v0+json": {
       "columns": [
        {
         "name": "index",
         "rawType": "datetime64[ns]",
         "type": "datetime"
        },
        {
         "name": "0",
         "rawType": "float64",
         "type": "float"
        }
       ],
       "ref": "c6ab154e-ded8-4eb3-85ed-67893ba90c0d",
       "rows": [
        [
         "2011-02-28 00:00:00",
         "1.6989940645981"
        ],
        [
         "2011-03-31 00:00:00",
         "-0.34988212085249026"
        ],
        [
         "2011-04-29 00:00:00",
         "1.5864508567998181"
        ],
        [
         "2011-05-31 00:00:00",
         "1.4541985928061958"
        ]
       ],
       "shape": {
        "columns": 1,
        "rows": 4
       }
      },
      "text/plain": [
       "2011-02-28    1.698994\n",
       "2011-03-31   -0.349882\n",
       "2011-04-29    1.586451\n",
       "2011-05-31    1.454199\n",
       "Freq: BME, dtype: float64"
      ]
     },
     "execution_count": 888,
     "metadata": {},
     "output_type": "execute_result"
    }
   ],
   "source": [
    "ts['2011-02-28':'2011-05-31']"
   ]
  },
  {
   "cell_type": "code",
   "execution_count": 889,
   "id": "a908add9",
   "metadata": {},
   "outputs": [
    {
     "data": {
      "application/vnd.microsoft.datawrangler.viewer.v0+json": {
       "columns": [
        {
         "name": "(None, None)",
         "rawType": "object",
         "type": "unknown"
        },
        {
         "name": "A",
         "rawType": "float64",
         "type": "float"
        }
       ],
       "ref": "248c9470-67f1-41f4-a59a-c34a481bbbc0",
       "rows": [
        [
         "(Timestamp('2013-01-01 00:00:00'), 'a')",
         "1.6954931738440173"
        ],
        [
         "(Timestamp('2013-01-01 00:00:00'), 'b')",
         "1.6323031281203815"
        ],
        [
         "(Timestamp('2013-01-01 12:00:00'), 'a')",
         "-1.7260919223802371"
        ],
        [
         "(Timestamp('2013-01-01 12:00:00'), 'b')",
         "0.4862272918497649"
        ],
        [
         "(Timestamp('2013-01-02 00:00:00'), 'a')",
         "-0.6251869902283136"
        ],
        [
         "(Timestamp('2013-01-02 00:00:00'), 'b')",
         "0.38661550829034236"
        ],
        [
         "(Timestamp('2013-01-02 12:00:00'), 'a')",
         "-0.04811159866712956"
        ],
        [
         "(Timestamp('2013-01-02 12:00:00'), 'b')",
         "-2.5983547538105602"
        ],
        [
         "(Timestamp('2013-01-03 00:00:00'), 'a')",
         "-0.871135259333907"
        ],
        [
         "(Timestamp('2013-01-03 00:00:00'), 'b')",
         "-0.20915588579281577"
        ],
        [
         "(Timestamp('2013-01-03 12:00:00'), 'a')",
         "0.004590290120623727"
        ],
        [
         "(Timestamp('2013-01-03 12:00:00'), 'b')",
         "0.4490062983288405"
        ],
        [
         "(Timestamp('2013-01-04 00:00:00'), 'a')",
         "0.5734281703423849"
        ],
        [
         "(Timestamp('2013-01-04 00:00:00'), 'b')",
         "0.6971859618029661"
        ],
        [
         "(Timestamp('2013-01-04 12:00:00'), 'a')",
         "-2.4425117382143964"
        ],
        [
         "(Timestamp('2013-01-04 12:00:00'), 'b')",
         "-1.4235561233654395"
        ],
        [
         "(Timestamp('2013-01-05 00:00:00'), 'a')",
         "-0.3049973457242287"
        ],
        [
         "(Timestamp('2013-01-05 00:00:00'), 'b')",
         "0.6727939538975991"
        ],
        [
         "(Timestamp('2013-01-05 12:00:00'), 'a')",
         "0.9540903375194727"
        ],
        [
         "(Timestamp('2013-01-05 12:00:00'), 'b')",
         "1.3235835571407708"
        ]
       ],
       "shape": {
        "columns": 1,
        "rows": 20
       }
      },
      "text/html": [
       "<div>\n",
       "<style scoped>\n",
       "    .dataframe tbody tr th:only-of-type {\n",
       "        vertical-align: middle;\n",
       "    }\n",
       "\n",
       "    .dataframe tbody tr th {\n",
       "        vertical-align: top;\n",
       "    }\n",
       "\n",
       "    .dataframe thead th {\n",
       "        text-align: right;\n",
       "    }\n",
       "</style>\n",
       "<table border=\"1\" class=\"dataframe\">\n",
       "  <thead>\n",
       "    <tr style=\"text-align: right;\">\n",
       "      <th></th>\n",
       "      <th></th>\n",
       "      <th>A</th>\n",
       "    </tr>\n",
       "  </thead>\n",
       "  <tbody>\n",
       "    <tr>\n",
       "      <th rowspan=\"2\" valign=\"top\">2013-01-01 00:00:00</th>\n",
       "      <th>a</th>\n",
       "      <td>1.695493</td>\n",
       "    </tr>\n",
       "    <tr>\n",
       "      <th>b</th>\n",
       "      <td>1.632303</td>\n",
       "    </tr>\n",
       "    <tr>\n",
       "      <th rowspan=\"2\" valign=\"top\">2013-01-01 12:00:00</th>\n",
       "      <th>a</th>\n",
       "      <td>-1.726092</td>\n",
       "    </tr>\n",
       "    <tr>\n",
       "      <th>b</th>\n",
       "      <td>0.486227</td>\n",
       "    </tr>\n",
       "    <tr>\n",
       "      <th rowspan=\"2\" valign=\"top\">2013-01-02 00:00:00</th>\n",
       "      <th>a</th>\n",
       "      <td>-0.625187</td>\n",
       "    </tr>\n",
       "    <tr>\n",
       "      <th>b</th>\n",
       "      <td>0.386616</td>\n",
       "    </tr>\n",
       "    <tr>\n",
       "      <th rowspan=\"2\" valign=\"top\">2013-01-02 12:00:00</th>\n",
       "      <th>a</th>\n",
       "      <td>-0.048112</td>\n",
       "    </tr>\n",
       "    <tr>\n",
       "      <th>b</th>\n",
       "      <td>-2.598355</td>\n",
       "    </tr>\n",
       "    <tr>\n",
       "      <th rowspan=\"2\" valign=\"top\">2013-01-03 00:00:00</th>\n",
       "      <th>a</th>\n",
       "      <td>-0.871135</td>\n",
       "    </tr>\n",
       "    <tr>\n",
       "      <th>b</th>\n",
       "      <td>-0.209156</td>\n",
       "    </tr>\n",
       "    <tr>\n",
       "      <th rowspan=\"2\" valign=\"top\">2013-01-03 12:00:00</th>\n",
       "      <th>a</th>\n",
       "      <td>0.004590</td>\n",
       "    </tr>\n",
       "    <tr>\n",
       "      <th>b</th>\n",
       "      <td>0.449006</td>\n",
       "    </tr>\n",
       "    <tr>\n",
       "      <th rowspan=\"2\" valign=\"top\">2013-01-04 00:00:00</th>\n",
       "      <th>a</th>\n",
       "      <td>0.573428</td>\n",
       "    </tr>\n",
       "    <tr>\n",
       "      <th>b</th>\n",
       "      <td>0.697186</td>\n",
       "    </tr>\n",
       "    <tr>\n",
       "      <th rowspan=\"2\" valign=\"top\">2013-01-04 12:00:00</th>\n",
       "      <th>a</th>\n",
       "      <td>-2.442512</td>\n",
       "    </tr>\n",
       "    <tr>\n",
       "      <th>b</th>\n",
       "      <td>-1.423556</td>\n",
       "    </tr>\n",
       "    <tr>\n",
       "      <th rowspan=\"2\" valign=\"top\">2013-01-05 00:00:00</th>\n",
       "      <th>a</th>\n",
       "      <td>-0.304997</td>\n",
       "    </tr>\n",
       "    <tr>\n",
       "      <th>b</th>\n",
       "      <td>0.672794</td>\n",
       "    </tr>\n",
       "    <tr>\n",
       "      <th rowspan=\"2\" valign=\"top\">2013-01-05 12:00:00</th>\n",
       "      <th>a</th>\n",
       "      <td>0.954090</td>\n",
       "    </tr>\n",
       "    <tr>\n",
       "      <th>b</th>\n",
       "      <td>1.323584</td>\n",
       "    </tr>\n",
       "  </tbody>\n",
       "</table>\n",
       "</div>"
      ],
      "text/plain": [
       "                              A\n",
       "2013-01-01 00:00:00 a  1.695493\n",
       "                    b  1.632303\n",
       "2013-01-01 12:00:00 a -1.726092\n",
       "                    b  0.486227\n",
       "2013-01-02 00:00:00 a -0.625187\n",
       "                    b  0.386616\n",
       "2013-01-02 12:00:00 a -0.048112\n",
       "                    b -2.598355\n",
       "2013-01-03 00:00:00 a -0.871135\n",
       "                    b -0.209156\n",
       "2013-01-03 12:00:00 a  0.004590\n",
       "                    b  0.449006\n",
       "2013-01-04 00:00:00 a  0.573428\n",
       "                    b  0.697186\n",
       "2013-01-04 12:00:00 a -2.442512\n",
       "                    b -1.423556\n",
       "2013-01-05 00:00:00 a -0.304997\n",
       "                    b  0.672794\n",
       "2013-01-05 12:00:00 a  0.954090\n",
       "                    b  1.323584"
      ]
     },
     "execution_count": 889,
     "metadata": {},
     "output_type": "execute_result"
    }
   ],
   "source": [
    "dft2 = pd.DataFrame(\n",
    "    np.random.randn(20, 1),\n",
    "    columns=[\"A\"],\n",
    "    index=pd.MultiIndex.from_product(\n",
    "        [pd.date_range(\"20130101\", periods=10, freq=\"12h\"), [\"a\", \"b\"]]\n",
    "    ),\n",
    ")\n",
    "dft2"
   ]
  },
  {
   "cell_type": "code",
   "execution_count": 891,
   "id": "a6ffb321",
   "metadata": {},
   "outputs": [
    {
     "data": {
      "application/vnd.microsoft.datawrangler.viewer.v0+json": {
       "columns": [
        {
         "name": "(None, None)",
         "rawType": "object",
         "type": "unknown"
        },
        {
         "name": "A",
         "rawType": "float64",
         "type": "float"
        }
       ],
       "ref": "092711a0-7789-4f7f-8335-0aae24af7d8c",
       "rows": [
        [
         "('a', Timestamp('2013-01-01 00:00:00'))",
         "1.6954931738440173"
        ],
        [
         "('a', Timestamp('2013-01-01 12:00:00'))",
         "-1.7260919223802371"
        ],
        [
         "('a', Timestamp('2013-01-02 00:00:00'))",
         "-0.6251869902283136"
        ],
        [
         "('a', Timestamp('2013-01-02 12:00:00'))",
         "-0.04811159866712956"
        ],
        [
         "('a', Timestamp('2013-01-03 00:00:00'))",
         "-0.871135259333907"
        ],
        [
         "('a', Timestamp('2013-01-03 12:00:00'))",
         "0.004590290120623727"
        ],
        [
         "('a', Timestamp('2013-01-04 00:00:00'))",
         "0.5734281703423849"
        ],
        [
         "('a', Timestamp('2013-01-04 12:00:00'))",
         "-2.4425117382143964"
        ],
        [
         "('a', Timestamp('2013-01-05 00:00:00'))",
         "-0.3049973457242287"
        ],
        [
         "('a', Timestamp('2013-01-05 12:00:00'))",
         "0.9540903375194727"
        ],
        [
         "('b', Timestamp('2013-01-01 00:00:00'))",
         "1.6323031281203815"
        ],
        [
         "('b', Timestamp('2013-01-01 12:00:00'))",
         "0.4862272918497649"
        ],
        [
         "('b', Timestamp('2013-01-02 00:00:00'))",
         "0.38661550829034236"
        ],
        [
         "('b', Timestamp('2013-01-02 12:00:00'))",
         "-2.5983547538105602"
        ],
        [
         "('b', Timestamp('2013-01-03 00:00:00'))",
         "-0.20915588579281577"
        ],
        [
         "('b', Timestamp('2013-01-03 12:00:00'))",
         "0.4490062983288405"
        ],
        [
         "('b', Timestamp('2013-01-04 00:00:00'))",
         "0.6971859618029661"
        ],
        [
         "('b', Timestamp('2013-01-04 12:00:00'))",
         "-1.4235561233654395"
        ],
        [
         "('b', Timestamp('2013-01-05 00:00:00'))",
         "0.6727939538975991"
        ],
        [
         "('b', Timestamp('2013-01-05 12:00:00'))",
         "1.3235835571407708"
        ]
       ],
       "shape": {
        "columns": 1,
        "rows": 20
       }
      },
      "text/html": [
       "<div>\n",
       "<style scoped>\n",
       "    .dataframe tbody tr th:only-of-type {\n",
       "        vertical-align: middle;\n",
       "    }\n",
       "\n",
       "    .dataframe tbody tr th {\n",
       "        vertical-align: top;\n",
       "    }\n",
       "\n",
       "    .dataframe thead th {\n",
       "        text-align: right;\n",
       "    }\n",
       "</style>\n",
       "<table border=\"1\" class=\"dataframe\">\n",
       "  <thead>\n",
       "    <tr style=\"text-align: right;\">\n",
       "      <th></th>\n",
       "      <th></th>\n",
       "      <th>A</th>\n",
       "    </tr>\n",
       "  </thead>\n",
       "  <tbody>\n",
       "    <tr>\n",
       "      <th rowspan=\"10\" valign=\"top\">a</th>\n",
       "      <th>2013-01-01 00:00:00</th>\n",
       "      <td>1.695493</td>\n",
       "    </tr>\n",
       "    <tr>\n",
       "      <th>2013-01-01 12:00:00</th>\n",
       "      <td>-1.726092</td>\n",
       "    </tr>\n",
       "    <tr>\n",
       "      <th>2013-01-02 00:00:00</th>\n",
       "      <td>-0.625187</td>\n",
       "    </tr>\n",
       "    <tr>\n",
       "      <th>2013-01-02 12:00:00</th>\n",
       "      <td>-0.048112</td>\n",
       "    </tr>\n",
       "    <tr>\n",
       "      <th>2013-01-03 00:00:00</th>\n",
       "      <td>-0.871135</td>\n",
       "    </tr>\n",
       "    <tr>\n",
       "      <th>2013-01-03 12:00:00</th>\n",
       "      <td>0.004590</td>\n",
       "    </tr>\n",
       "    <tr>\n",
       "      <th>2013-01-04 00:00:00</th>\n",
       "      <td>0.573428</td>\n",
       "    </tr>\n",
       "    <tr>\n",
       "      <th>2013-01-04 12:00:00</th>\n",
       "      <td>-2.442512</td>\n",
       "    </tr>\n",
       "    <tr>\n",
       "      <th>2013-01-05 00:00:00</th>\n",
       "      <td>-0.304997</td>\n",
       "    </tr>\n",
       "    <tr>\n",
       "      <th>2013-01-05 12:00:00</th>\n",
       "      <td>0.954090</td>\n",
       "    </tr>\n",
       "    <tr>\n",
       "      <th rowspan=\"10\" valign=\"top\">b</th>\n",
       "      <th>2013-01-01 00:00:00</th>\n",
       "      <td>1.632303</td>\n",
       "    </tr>\n",
       "    <tr>\n",
       "      <th>2013-01-01 12:00:00</th>\n",
       "      <td>0.486227</td>\n",
       "    </tr>\n",
       "    <tr>\n",
       "      <th>2013-01-02 00:00:00</th>\n",
       "      <td>0.386616</td>\n",
       "    </tr>\n",
       "    <tr>\n",
       "      <th>2013-01-02 12:00:00</th>\n",
       "      <td>-2.598355</td>\n",
       "    </tr>\n",
       "    <tr>\n",
       "      <th>2013-01-03 00:00:00</th>\n",
       "      <td>-0.209156</td>\n",
       "    </tr>\n",
       "    <tr>\n",
       "      <th>2013-01-03 12:00:00</th>\n",
       "      <td>0.449006</td>\n",
       "    </tr>\n",
       "    <tr>\n",
       "      <th>2013-01-04 00:00:00</th>\n",
       "      <td>0.697186</td>\n",
       "    </tr>\n",
       "    <tr>\n",
       "      <th>2013-01-04 12:00:00</th>\n",
       "      <td>-1.423556</td>\n",
       "    </tr>\n",
       "    <tr>\n",
       "      <th>2013-01-05 00:00:00</th>\n",
       "      <td>0.672794</td>\n",
       "    </tr>\n",
       "    <tr>\n",
       "      <th>2013-01-05 12:00:00</th>\n",
       "      <td>1.323584</td>\n",
       "    </tr>\n",
       "  </tbody>\n",
       "</table>\n",
       "</div>"
      ],
      "text/plain": [
       "                              A\n",
       "a 2013-01-01 00:00:00  1.695493\n",
       "  2013-01-01 12:00:00 -1.726092\n",
       "  2013-01-02 00:00:00 -0.625187\n",
       "  2013-01-02 12:00:00 -0.048112\n",
       "  2013-01-03 00:00:00 -0.871135\n",
       "  2013-01-03 12:00:00  0.004590\n",
       "  2013-01-04 00:00:00  0.573428\n",
       "  2013-01-04 12:00:00 -2.442512\n",
       "  2013-01-05 00:00:00 -0.304997\n",
       "  2013-01-05 12:00:00  0.954090\n",
       "b 2013-01-01 00:00:00  1.632303\n",
       "  2013-01-01 12:00:00  0.486227\n",
       "  2013-01-02 00:00:00  0.386616\n",
       "  2013-01-02 12:00:00 -2.598355\n",
       "  2013-01-03 00:00:00 -0.209156\n",
       "  2013-01-03 12:00:00  0.449006\n",
       "  2013-01-04 00:00:00  0.697186\n",
       "  2013-01-04 12:00:00 -1.423556\n",
       "  2013-01-05 00:00:00  0.672794\n",
       "  2013-01-05 12:00:00  1.323584"
      ]
     },
     "execution_count": 891,
     "metadata": {},
     "output_type": "execute_result"
    }
   ],
   "source": [
    "dft2.swaplevel(0,1).sort_index()"
   ]
  },
  {
   "cell_type": "code",
   "execution_count": 894,
   "id": "c5b367e0",
   "metadata": {},
   "outputs": [
    {
     "data": {
      "text/plain": [
       "Timestamp('2025-03-11 00:00:00')"
      ]
     },
     "execution_count": 894,
     "metadata": {},
     "output_type": "execute_result"
    }
   ],
   "source": [
    "ts = pd.Timestamp('2025-03-08')\n",
    "ts + pd.Timedelta(days=3)\n"
   ]
  },
  {
   "cell_type": "code",
   "execution_count": 897,
   "id": "db1c2063",
   "metadata": {},
   "outputs": [
    {
     "data": {
      "text/plain": [
       "Timestamp('2025-03-11 00:00:00')"
      ]
     },
     "execution_count": 897,
     "metadata": {},
     "output_type": "execute_result"
    }
   ],
   "source": [
    "ts + pd.DateOffset(days=3)"
   ]
  },
  {
   "cell_type": "code",
   "execution_count": null,
   "id": "149c5583",
   "metadata": {},
   "outputs": [],
   "source": []
  }
 ],
 "metadata": {
  "kernelspec": {
   "display_name": "Python 3.12 (l5)",
   "language": "python",
   "name": "l5-312"
  },
  "language_info": {
   "codemirror_mode": {
    "name": "ipython",
    "version": 3
   },
   "file_extension": ".py",
   "mimetype": "text/x-python",
   "name": "python",
   "nbconvert_exporter": "python",
   "pygments_lexer": "ipython3",
   "version": "3.13.7"
  }
 },
 "nbformat": 4,
 "nbformat_minor": 5
}
