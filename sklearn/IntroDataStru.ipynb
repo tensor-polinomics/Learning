{
 "cells": [
  {
   "cell_type": "code",
   "execution_count": 1,
   "id": "0726ccc5",
   "metadata": {},
   "outputs": [],
   "source": [
    "import numpy as np\n",
    "import pandas as pd\n",
    "import matplotlib.pyplot as plt"
   ]
  },
  {
   "cell_type": "code",
   "execution_count": 2,
   "id": "10ede18a",
   "metadata": {},
   "outputs": [],
   "source": [
    "s = pd.Series(np.random.randn(5), index=[\"a\", \"b\", \"c\", \"d\", \"e\"])"
   ]
  },
  {
   "cell_type": "code",
   "execution_count": 3,
   "id": "f7df48d1",
   "metadata": {},
   "outputs": [
    {
     "data": {
      "application/vnd.microsoft.datawrangler.viewer.v0+json": {
       "columns": [
        {
         "name": "index",
         "rawType": "object",
         "type": "string"
        },
        {
         "name": "0",
         "rawType": "float64",
         "type": "float"
        }
       ],
       "ref": "6ce8db83-82fc-48e0-bd24-a191e7bf7f1d",
       "rows": [
        [
         "a",
         "0.2458851811710331"
        ],
        [
         "b",
         "0.4718999854362759"
        ],
        [
         "c",
         "-1.0209748400433798"
        ],
        [
         "d",
         "1.169637859697869"
        ],
        [
         "e",
         "-0.05337331381167738"
        ]
       ],
       "shape": {
        "columns": 1,
        "rows": 5
       }
      },
      "text/plain": [
       "a    0.245885\n",
       "b    0.471900\n",
       "c   -1.020975\n",
       "d    1.169638\n",
       "e   -0.053373\n",
       "dtype: float64"
      ]
     },
     "execution_count": 3,
     "metadata": {},
     "output_type": "execute_result"
    }
   ],
   "source": [
    "s"
   ]
  },
  {
   "cell_type": "code",
   "execution_count": 4,
   "id": "cb156f21",
   "metadata": {},
   "outputs": [
    {
     "data": {
      "text/plain": [
       "True"
      ]
     },
     "execution_count": 4,
     "metadata": {},
     "output_type": "execute_result"
    }
   ],
   "source": [
    "s[\"a\"]\n",
    "\"e\" in s"
   ]
  },
  {
   "cell_type": "code",
   "execution_count": 5,
   "id": "4cff99df",
   "metadata": {},
   "outputs": [
    {
     "data": {
      "text/plain": [
       "nan"
      ]
     },
     "execution_count": 5,
     "metadata": {},
     "output_type": "execute_result"
    }
   ],
   "source": [
    "s.get(\"f\", np.nan)"
   ]
  },
  {
   "cell_type": "code",
   "execution_count": 6,
   "id": "b4b8cfb7",
   "metadata": {},
   "outputs": [
    {
     "data": {
      "application/vnd.microsoft.datawrangler.viewer.v0+json": {
       "columns": [
        {
         "name": "index",
         "rawType": "object",
         "type": "string"
        },
        {
         "name": "0",
         "rawType": "float64",
         "type": "float"
        }
       ],
       "ref": "56f3ec75-38a3-4fa6-bfe9-adfba9163836",
       "rows": [
        [
         "a",
         null
        ],
        [
         "b",
         "0.9437999708725519"
        ],
        [
         "c",
         "-2.0419496800867596"
        ],
        [
         "d",
         "2.339275719395738"
        ],
        [
         "e",
         null
        ]
       ],
       "shape": {
        "columns": 1,
        "rows": 5
       }
      },
      "text/plain": [
       "a         NaN\n",
       "b    0.943800\n",
       "c   -2.041950\n",
       "d    2.339276\n",
       "e         NaN\n",
       "dtype: float64"
      ]
     },
     "execution_count": 6,
     "metadata": {},
     "output_type": "execute_result"
    }
   ],
   "source": [
    "s.iloc[1:] + s.iloc[:-1]"
   ]
  },
  {
   "cell_type": "code",
   "execution_count": 7,
   "id": "11c82cc3",
   "metadata": {},
   "outputs": [
    {
     "data": {
      "application/vnd.microsoft.datawrangler.viewer.v0+json": {
       "columns": [
        {
         "name": "index",
         "rawType": "object",
         "type": "string"
        },
        {
         "name": "GDP",
         "rawType": "float64",
         "type": "float"
        }
       ],
       "ref": "7bc218df-6bcc-4f25-953b-f8aa0843e512",
       "rows": [
        [
         "a",
         "-1.0135578800883076"
        ],
        [
         "b",
         "0.0060668267552976855"
        ],
        [
         "c",
         "0.5247886566110297"
        ],
        [
         "d",
         "-1.0320132974581173"
        ],
        [
         "e",
         "0.40207910972129707"
        ]
       ],
       "shape": {
        "columns": 1,
        "rows": 5
       }
      },
      "text/plain": [
       "a   -1.013558\n",
       "b    0.006067\n",
       "c    0.524789\n",
       "d   -1.032013\n",
       "e    0.402079\n",
       "Name: GDP, dtype: float64"
      ]
     },
     "execution_count": 7,
     "metadata": {},
     "output_type": "execute_result"
    }
   ],
   "source": [
    "s = pd.Series(np.random.randn(5), index=[\"a\", \"b\", \"c\", \"d\", \"e\"], name=\"GDP\")\n",
    "s"
   ]
  },
  {
   "cell_type": "code",
   "execution_count": 8,
   "id": "4651af7f",
   "metadata": {},
   "outputs": [
    {
     "data": {
      "text/plain": [
       "'Inflation'"
      ]
     },
     "execution_count": 8,
     "metadata": {},
     "output_type": "execute_result"
    }
   ],
   "source": [
    "s = s.rename(\"Inflation\")\n",
    "s.name"
   ]
  },
  {
   "cell_type": "code",
   "execution_count": 9,
   "id": "1e0333a6",
   "metadata": {},
   "outputs": [
    {
     "data": {
      "text/plain": [
       "{'one': a    1.0\n",
       " b    2.0\n",
       " c    3.0\n",
       " dtype: float64,\n",
       " 'two': a    1.0\n",
       " b    2.0\n",
       " c    3.0\n",
       " d    4.0\n",
       " dtype: float64}"
      ]
     },
     "execution_count": 9,
     "metadata": {},
     "output_type": "execute_result"
    }
   ],
   "source": [
    "d = {\n",
    "    \"one\": pd.Series([1.0, 2.0, 3.0], index=[\"a\", \"b\", \"c\"]),\n",
    "    \"two\": pd.Series([1.0, 2.0, 3.0, 4.0], index=[\"a\", \"b\", \"c\", \"d\"]),\n",
    "}\n",
    "d"
   ]
  },
  {
   "cell_type": "code",
   "execution_count": 10,
   "id": "de026b5c",
   "metadata": {},
   "outputs": [
    {
     "data": {
      "application/vnd.microsoft.datawrangler.viewer.v0+json": {
       "columns": [
        {
         "name": "index",
         "rawType": "object",
         "type": "string"
        },
        {
         "name": "one",
         "rawType": "float64",
         "type": "float"
        },
        {
         "name": "two",
         "rawType": "float64",
         "type": "float"
        }
       ],
       "ref": "65170a72-674a-4572-a07c-be0c992a1f04",
       "rows": [
        [
         "a",
         "1.0",
         "1.0"
        ],
        [
         "b",
         "2.0",
         "2.0"
        ],
        [
         "c",
         "3.0",
         "3.0"
        ],
        [
         "d",
         null,
         "4.0"
        ]
       ],
       "shape": {
        "columns": 2,
        "rows": 4
       }
      },
      "text/html": [
       "<div>\n",
       "<style scoped>\n",
       "    .dataframe tbody tr th:only-of-type {\n",
       "        vertical-align: middle;\n",
       "    }\n",
       "\n",
       "    .dataframe tbody tr th {\n",
       "        vertical-align: top;\n",
       "    }\n",
       "\n",
       "    .dataframe thead th {\n",
       "        text-align: right;\n",
       "    }\n",
       "</style>\n",
       "<table border=\"1\" class=\"dataframe\">\n",
       "  <thead>\n",
       "    <tr style=\"text-align: right;\">\n",
       "      <th></th>\n",
       "      <th>one</th>\n",
       "      <th>two</th>\n",
       "    </tr>\n",
       "  </thead>\n",
       "  <tbody>\n",
       "    <tr>\n",
       "      <th>a</th>\n",
       "      <td>1.0</td>\n",
       "      <td>1.0</td>\n",
       "    </tr>\n",
       "    <tr>\n",
       "      <th>b</th>\n",
       "      <td>2.0</td>\n",
       "      <td>2.0</td>\n",
       "    </tr>\n",
       "    <tr>\n",
       "      <th>c</th>\n",
       "      <td>3.0</td>\n",
       "      <td>3.0</td>\n",
       "    </tr>\n",
       "    <tr>\n",
       "      <th>d</th>\n",
       "      <td>NaN</td>\n",
       "      <td>4.0</td>\n",
       "    </tr>\n",
       "  </tbody>\n",
       "</table>\n",
       "</div>"
      ],
      "text/plain": [
       "   one  two\n",
       "a  1.0  1.0\n",
       "b  2.0  2.0\n",
       "c  3.0  3.0\n",
       "d  NaN  4.0"
      ]
     },
     "execution_count": 10,
     "metadata": {},
     "output_type": "execute_result"
    }
   ],
   "source": [
    "df = pd.DataFrame(d)\n",
    "df"
   ]
  },
  {
   "cell_type": "code",
   "execution_count": 11,
   "id": "4a477339",
   "metadata": {},
   "outputs": [
    {
     "data": {
      "application/vnd.microsoft.datawrangler.viewer.v0+json": {
       "columns": [
        {
         "name": "index",
         "rawType": "object",
         "type": "string"
        },
        {
         "name": "one",
         "rawType": "float64",
         "type": "float"
        },
        {
         "name": "two",
         "rawType": "float64",
         "type": "float"
        }
       ],
       "ref": "79dc98fe-57d9-45f6-a953-adff327fde42",
       "rows": [
        [
         "d",
         null,
         "4.0"
        ],
        [
         "e",
         null,
         null
        ],
        [
         "c",
         "3.0",
         "3.0"
        ]
       ],
       "shape": {
        "columns": 2,
        "rows": 3
       }
      },
      "text/html": [
       "<div>\n",
       "<style scoped>\n",
       "    .dataframe tbody tr th:only-of-type {\n",
       "        vertical-align: middle;\n",
       "    }\n",
       "\n",
       "    .dataframe tbody tr th {\n",
       "        vertical-align: top;\n",
       "    }\n",
       "\n",
       "    .dataframe thead th {\n",
       "        text-align: right;\n",
       "    }\n",
       "</style>\n",
       "<table border=\"1\" class=\"dataframe\">\n",
       "  <thead>\n",
       "    <tr style=\"text-align: right;\">\n",
       "      <th></th>\n",
       "      <th>one</th>\n",
       "      <th>two</th>\n",
       "    </tr>\n",
       "  </thead>\n",
       "  <tbody>\n",
       "    <tr>\n",
       "      <th>d</th>\n",
       "      <td>NaN</td>\n",
       "      <td>4.0</td>\n",
       "    </tr>\n",
       "    <tr>\n",
       "      <th>e</th>\n",
       "      <td>NaN</td>\n",
       "      <td>NaN</td>\n",
       "    </tr>\n",
       "    <tr>\n",
       "      <th>c</th>\n",
       "      <td>3.0</td>\n",
       "      <td>3.0</td>\n",
       "    </tr>\n",
       "  </tbody>\n",
       "</table>\n",
       "</div>"
      ],
      "text/plain": [
       "   one  two\n",
       "d  NaN  4.0\n",
       "e  NaN  NaN\n",
       "c  3.0  3.0"
      ]
     },
     "execution_count": 11,
     "metadata": {},
     "output_type": "execute_result"
    }
   ],
   "source": [
    "pd.DataFrame(d, index=[\"d\", \"e\", \"c\"])"
   ]
  },
  {
   "cell_type": "code",
   "execution_count": 12,
   "id": "a80d27f0",
   "metadata": {},
   "outputs": [
    {
     "data": {
      "application/vnd.microsoft.datawrangler.viewer.v0+json": {
       "columns": [
        {
         "name": "index",
         "rawType": "object",
         "type": "string"
        },
        {
         "name": "two",
         "rawType": "float64",
         "type": "float"
        },
        {
         "name": "three",
         "rawType": "object",
         "type": "unknown"
        }
       ],
       "ref": "9470e6c4-5ebb-480e-8930-23565d4dd180",
       "rows": [
        [
         "d",
         "4.0",
         null
        ],
        [
         "e",
         null,
         null
        ],
        [
         "c",
         "3.0",
         null
        ]
       ],
       "shape": {
        "columns": 2,
        "rows": 3
       }
      },
      "text/html": [
       "<div>\n",
       "<style scoped>\n",
       "    .dataframe tbody tr th:only-of-type {\n",
       "        vertical-align: middle;\n",
       "    }\n",
       "\n",
       "    .dataframe tbody tr th {\n",
       "        vertical-align: top;\n",
       "    }\n",
       "\n",
       "    .dataframe thead th {\n",
       "        text-align: right;\n",
       "    }\n",
       "</style>\n",
       "<table border=\"1\" class=\"dataframe\">\n",
       "  <thead>\n",
       "    <tr style=\"text-align: right;\">\n",
       "      <th></th>\n",
       "      <th>two</th>\n",
       "      <th>three</th>\n",
       "    </tr>\n",
       "  </thead>\n",
       "  <tbody>\n",
       "    <tr>\n",
       "      <th>d</th>\n",
       "      <td>4.0</td>\n",
       "      <td>NaN</td>\n",
       "    </tr>\n",
       "    <tr>\n",
       "      <th>e</th>\n",
       "      <td>NaN</td>\n",
       "      <td>NaN</td>\n",
       "    </tr>\n",
       "    <tr>\n",
       "      <th>c</th>\n",
       "      <td>3.0</td>\n",
       "      <td>NaN</td>\n",
       "    </tr>\n",
       "  </tbody>\n",
       "</table>\n",
       "</div>"
      ],
      "text/plain": [
       "   two three\n",
       "d  4.0   NaN\n",
       "e  NaN   NaN\n",
       "c  3.0   NaN"
      ]
     },
     "execution_count": 12,
     "metadata": {},
     "output_type": "execute_result"
    }
   ],
   "source": [
    "pd.DataFrame(d, index=[\"d\", \"e\", \"c\"], columns=[\"two\", \"three\"])"
   ]
  },
  {
   "cell_type": "code",
   "execution_count": 13,
   "id": "2ddbf927",
   "metadata": {},
   "outputs": [
    {
     "data": {
      "text/plain": [
       "Index(['a', 'b', 'c', 'd'], dtype='object')"
      ]
     },
     "execution_count": 13,
     "metadata": {},
     "output_type": "execute_result"
    }
   ],
   "source": [
    "df.index"
   ]
  },
  {
   "cell_type": "code",
   "execution_count": 14,
   "id": "f60a9de4",
   "metadata": {},
   "outputs": [
    {
     "data": {
      "text/plain": [
       "Index(['one', 'two'], dtype='object')"
      ]
     },
     "execution_count": 14,
     "metadata": {},
     "output_type": "execute_result"
    }
   ],
   "source": [
    "df.columns"
   ]
  },
  {
   "cell_type": "code",
   "execution_count": 15,
   "id": "6ef44c8e",
   "metadata": {},
   "outputs": [
    {
     "name": "stderr",
     "output_type": "stream",
     "text": [
      "C:\\Users\\yluo\\AppData\\Local\\Temp\\ipykernel_13524\\1279654678.py:1: DeprecationWarning: Data type alias 'a' was deprecated in NumPy 2.0. Use the 'S' alias instead.\n",
      "  data = np.zeros((2,), dtype=[(\"A\", \"i4\"), (\"B\", \"f4\"), (\"C\", \"a10\")])\n"
     ]
    },
    {
     "data": {
      "text/plain": [
       "array([(1, 2., b'Hello'), (2, 3., b'World')],\n",
       "      dtype=[('A', '<i4'), ('B', '<f4'), ('C', 'S10')])"
      ]
     },
     "execution_count": 15,
     "metadata": {},
     "output_type": "execute_result"
    }
   ],
   "source": [
    "data = np.zeros((2,), dtype=[(\"A\", \"i4\"), (\"B\", \"f4\"), (\"C\", \"a10\")])\n",
    "data[:] = [(1, 2.0, \"Hello\"), (2, 3.0, \"World\")]\n",
    "data"
   ]
  },
  {
   "cell_type": "code",
   "execution_count": 16,
   "id": "65e2eb6e",
   "metadata": {},
   "outputs": [
    {
     "data": {
      "application/vnd.microsoft.datawrangler.viewer.v0+json": {
       "columns": [
        {
         "name": "index",
         "rawType": "int64",
         "type": "integer"
        },
        {
         "name": "A",
         "rawType": "int32",
         "type": "integer"
        },
        {
         "name": "B",
         "rawType": "float32",
         "type": "float"
        },
        {
         "name": "C",
         "rawType": "object",
         "type": "unknown"
        }
       ],
       "ref": "cb948eaf-9cc7-47af-865a-592db9f106bc",
       "rows": [
        [
         "0",
         "1",
         "2.0",
         "b'Hello'"
        ],
        [
         "1",
         "2",
         "3.0",
         "b'World'"
        ]
       ],
       "shape": {
        "columns": 3,
        "rows": 2
       }
      },
      "text/html": [
       "<div>\n",
       "<style scoped>\n",
       "    .dataframe tbody tr th:only-of-type {\n",
       "        vertical-align: middle;\n",
       "    }\n",
       "\n",
       "    .dataframe tbody tr th {\n",
       "        vertical-align: top;\n",
       "    }\n",
       "\n",
       "    .dataframe thead th {\n",
       "        text-align: right;\n",
       "    }\n",
       "</style>\n",
       "<table border=\"1\" class=\"dataframe\">\n",
       "  <thead>\n",
       "    <tr style=\"text-align: right;\">\n",
       "      <th></th>\n",
       "      <th>A</th>\n",
       "      <th>B</th>\n",
       "      <th>C</th>\n",
       "    </tr>\n",
       "  </thead>\n",
       "  <tbody>\n",
       "    <tr>\n",
       "      <th>0</th>\n",
       "      <td>1</td>\n",
       "      <td>2.0</td>\n",
       "      <td>b'Hello'</td>\n",
       "    </tr>\n",
       "    <tr>\n",
       "      <th>1</th>\n",
       "      <td>2</td>\n",
       "      <td>3.0</td>\n",
       "      <td>b'World'</td>\n",
       "    </tr>\n",
       "  </tbody>\n",
       "</table>\n",
       "</div>"
      ],
      "text/plain": [
       "   A    B         C\n",
       "0  1  2.0  b'Hello'\n",
       "1  2  3.0  b'World'"
      ]
     },
     "execution_count": 16,
     "metadata": {},
     "output_type": "execute_result"
    }
   ],
   "source": [
    "df2 = pd.DataFrame(data)\n",
    "df2"
   ]
  },
  {
   "cell_type": "code",
   "execution_count": 17,
   "id": "04600c1e",
   "metadata": {},
   "outputs": [
    {
     "data": {
      "application/vnd.microsoft.datawrangler.viewer.v0+json": {
       "columns": [
        {
         "name": "index",
         "rawType": "int64",
         "type": "integer"
        },
        {
         "name": "A",
         "rawType": "int32",
         "type": "integer"
        },
        {
         "name": "C",
         "rawType": "object",
         "type": "unknown"
        }
       ],
       "ref": "896d9897-fe0b-4f92-b249-40db7ce780e0",
       "rows": [
        [
         "0",
         "1",
         "b'Hello'"
        ],
        [
         "1",
         "2",
         "b'World'"
        ]
       ],
       "shape": {
        "columns": 2,
        "rows": 2
       }
      },
      "text/html": [
       "<div>\n",
       "<style scoped>\n",
       "    .dataframe tbody tr th:only-of-type {\n",
       "        vertical-align: middle;\n",
       "    }\n",
       "\n",
       "    .dataframe tbody tr th {\n",
       "        vertical-align: top;\n",
       "    }\n",
       "\n",
       "    .dataframe thead th {\n",
       "        text-align: right;\n",
       "    }\n",
       "</style>\n",
       "<table border=\"1\" class=\"dataframe\">\n",
       "  <thead>\n",
       "    <tr style=\"text-align: right;\">\n",
       "      <th></th>\n",
       "      <th>A</th>\n",
       "      <th>C</th>\n",
       "    </tr>\n",
       "  </thead>\n",
       "  <tbody>\n",
       "    <tr>\n",
       "      <th>0</th>\n",
       "      <td>1</td>\n",
       "      <td>b'Hello'</td>\n",
       "    </tr>\n",
       "    <tr>\n",
       "      <th>1</th>\n",
       "      <td>2</td>\n",
       "      <td>b'World'</td>\n",
       "    </tr>\n",
       "  </tbody>\n",
       "</table>\n",
       "</div>"
      ],
      "text/plain": [
       "   A         C\n",
       "0  1  b'Hello'\n",
       "1  2  b'World'"
      ]
     },
     "execution_count": 17,
     "metadata": {},
     "output_type": "execute_result"
    }
   ],
   "source": [
    "df2[[\"A\", \"C\"]]"
   ]
  },
  {
   "cell_type": "code",
   "execution_count": 18,
   "id": "535f6708",
   "metadata": {},
   "outputs": [
    {
     "data": {
      "application/vnd.microsoft.datawrangler.viewer.v0+json": {
       "columns": [
        {
         "name": "index",
         "rawType": "int64",
         "type": "integer"
        },
        {
         "name": "SepalLength",
         "rawType": "float64",
         "type": "float"
        },
        {
         "name": "SepalWidth",
         "rawType": "float64",
         "type": "float"
        },
        {
         "name": "PetalLength",
         "rawType": "float64",
         "type": "float"
        },
        {
         "name": "PetalWidth",
         "rawType": "float64",
         "type": "float"
        },
        {
         "name": "Name",
         "rawType": "object",
         "type": "string"
        }
       ],
       "ref": "72525cbc-e8a1-4894-8961-5dba89485ada",
       "rows": [
        [
         "0",
         "5.1",
         "3.5",
         "1.4",
         "0.2",
         "Iris-setosa"
        ],
        [
         "1",
         "4.9",
         "3.0",
         "1.4",
         "0.2",
         "Iris-setosa"
        ],
        [
         "2",
         "4.7",
         "3.2",
         "1.3",
         "0.2",
         "Iris-setosa"
        ],
        [
         "3",
         "4.6",
         "3.1",
         "1.5",
         "0.2",
         "Iris-setosa"
        ],
        [
         "4",
         "5.0",
         "3.6",
         "1.4",
         "0.2",
         "Iris-setosa"
        ]
       ],
       "shape": {
        "columns": 5,
        "rows": 5
       }
      },
      "text/html": [
       "<div>\n",
       "<style scoped>\n",
       "    .dataframe tbody tr th:only-of-type {\n",
       "        vertical-align: middle;\n",
       "    }\n",
       "\n",
       "    .dataframe tbody tr th {\n",
       "        vertical-align: top;\n",
       "    }\n",
       "\n",
       "    .dataframe thead th {\n",
       "        text-align: right;\n",
       "    }\n",
       "</style>\n",
       "<table border=\"1\" class=\"dataframe\">\n",
       "  <thead>\n",
       "    <tr style=\"text-align: right;\">\n",
       "      <th></th>\n",
       "      <th>SepalLength</th>\n",
       "      <th>SepalWidth</th>\n",
       "      <th>PetalLength</th>\n",
       "      <th>PetalWidth</th>\n",
       "      <th>Name</th>\n",
       "    </tr>\n",
       "  </thead>\n",
       "  <tbody>\n",
       "    <tr>\n",
       "      <th>0</th>\n",
       "      <td>5.1</td>\n",
       "      <td>3.5</td>\n",
       "      <td>1.4</td>\n",
       "      <td>0.2</td>\n",
       "      <td>Iris-setosa</td>\n",
       "    </tr>\n",
       "    <tr>\n",
       "      <th>1</th>\n",
       "      <td>4.9</td>\n",
       "      <td>3.0</td>\n",
       "      <td>1.4</td>\n",
       "      <td>0.2</td>\n",
       "      <td>Iris-setosa</td>\n",
       "    </tr>\n",
       "    <tr>\n",
       "      <th>2</th>\n",
       "      <td>4.7</td>\n",
       "      <td>3.2</td>\n",
       "      <td>1.3</td>\n",
       "      <td>0.2</td>\n",
       "      <td>Iris-setosa</td>\n",
       "    </tr>\n",
       "    <tr>\n",
       "      <th>3</th>\n",
       "      <td>4.6</td>\n",
       "      <td>3.1</td>\n",
       "      <td>1.5</td>\n",
       "      <td>0.2</td>\n",
       "      <td>Iris-setosa</td>\n",
       "    </tr>\n",
       "    <tr>\n",
       "      <th>4</th>\n",
       "      <td>5.0</td>\n",
       "      <td>3.6</td>\n",
       "      <td>1.4</td>\n",
       "      <td>0.2</td>\n",
       "      <td>Iris-setosa</td>\n",
       "    </tr>\n",
       "  </tbody>\n",
       "</table>\n",
       "</div>"
      ],
      "text/plain": [
       "   SepalLength  SepalWidth  PetalLength  PetalWidth         Name\n",
       "0          5.1         3.5          1.4         0.2  Iris-setosa\n",
       "1          4.9         3.0          1.4         0.2  Iris-setosa\n",
       "2          4.7         3.2          1.3         0.2  Iris-setosa\n",
       "3          4.6         3.1          1.5         0.2  Iris-setosa\n",
       "4          5.0         3.6          1.4         0.2  Iris-setosa"
      ]
     },
     "execution_count": 18,
     "metadata": {},
     "output_type": "execute_result"
    }
   ],
   "source": [
    "# load iris data\n",
    "iris = pd.read_csv(\"data/iris.data\")\n",
    "iris.head()"
   ]
  },
  {
   "cell_type": "code",
   "execution_count": 19,
   "id": "7519907c",
   "metadata": {},
   "outputs": [
    {
     "data": {
      "application/vnd.microsoft.datawrangler.viewer.v0+json": {
       "columns": [
        {
         "name": "index",
         "rawType": "int64",
         "type": "integer"
        },
        {
         "name": "SepalLength",
         "rawType": "float64",
         "type": "float"
        },
        {
         "name": "SepalWidth",
         "rawType": "float64",
         "type": "float"
        },
        {
         "name": "PetalLength",
         "rawType": "float64",
         "type": "float"
        },
        {
         "name": "PetalWidth",
         "rawType": "float64",
         "type": "float"
        },
        {
         "name": "Name",
         "rawType": "object",
         "type": "string"
        },
        {
         "name": "sepal_ratio",
         "rawType": "float64",
         "type": "float"
        }
       ],
       "ref": "f3e978fb-c626-4f36-a186-ec12f7fa997a",
       "rows": [
        [
         "0",
         "5.1",
         "3.5",
         "1.4",
         "0.2",
         "Iris-setosa",
         "0.6862745098039216"
        ],
        [
         "1",
         "4.9",
         "3.0",
         "1.4",
         "0.2",
         "Iris-setosa",
         "0.6122448979591836"
        ],
        [
         "2",
         "4.7",
         "3.2",
         "1.3",
         "0.2",
         "Iris-setosa",
         "0.6808510638297872"
        ],
        [
         "3",
         "4.6",
         "3.1",
         "1.5",
         "0.2",
         "Iris-setosa",
         "0.673913043478261"
        ],
        [
         "4",
         "5.0",
         "3.6",
         "1.4",
         "0.2",
         "Iris-setosa",
         "0.72"
        ]
       ],
       "shape": {
        "columns": 6,
        "rows": 5
       }
      },
      "text/html": [
       "<div>\n",
       "<style scoped>\n",
       "    .dataframe tbody tr th:only-of-type {\n",
       "        vertical-align: middle;\n",
       "    }\n",
       "\n",
       "    .dataframe tbody tr th {\n",
       "        vertical-align: top;\n",
       "    }\n",
       "\n",
       "    .dataframe thead th {\n",
       "        text-align: right;\n",
       "    }\n",
       "</style>\n",
       "<table border=\"1\" class=\"dataframe\">\n",
       "  <thead>\n",
       "    <tr style=\"text-align: right;\">\n",
       "      <th></th>\n",
       "      <th>SepalLength</th>\n",
       "      <th>SepalWidth</th>\n",
       "      <th>PetalLength</th>\n",
       "      <th>PetalWidth</th>\n",
       "      <th>Name</th>\n",
       "      <th>sepal_ratio</th>\n",
       "    </tr>\n",
       "  </thead>\n",
       "  <tbody>\n",
       "    <tr>\n",
       "      <th>0</th>\n",
       "      <td>5.1</td>\n",
       "      <td>3.5</td>\n",
       "      <td>1.4</td>\n",
       "      <td>0.2</td>\n",
       "      <td>Iris-setosa</td>\n",
       "      <td>0.686275</td>\n",
       "    </tr>\n",
       "    <tr>\n",
       "      <th>1</th>\n",
       "      <td>4.9</td>\n",
       "      <td>3.0</td>\n",
       "      <td>1.4</td>\n",
       "      <td>0.2</td>\n",
       "      <td>Iris-setosa</td>\n",
       "      <td>0.612245</td>\n",
       "    </tr>\n",
       "    <tr>\n",
       "      <th>2</th>\n",
       "      <td>4.7</td>\n",
       "      <td>3.2</td>\n",
       "      <td>1.3</td>\n",
       "      <td>0.2</td>\n",
       "      <td>Iris-setosa</td>\n",
       "      <td>0.680851</td>\n",
       "    </tr>\n",
       "    <tr>\n",
       "      <th>3</th>\n",
       "      <td>4.6</td>\n",
       "      <td>3.1</td>\n",
       "      <td>1.5</td>\n",
       "      <td>0.2</td>\n",
       "      <td>Iris-setosa</td>\n",
       "      <td>0.673913</td>\n",
       "    </tr>\n",
       "    <tr>\n",
       "      <th>4</th>\n",
       "      <td>5.0</td>\n",
       "      <td>3.6</td>\n",
       "      <td>1.4</td>\n",
       "      <td>0.2</td>\n",
       "      <td>Iris-setosa</td>\n",
       "      <td>0.720000</td>\n",
       "    </tr>\n",
       "  </tbody>\n",
       "</table>\n",
       "</div>"
      ],
      "text/plain": [
       "   SepalLength  SepalWidth  PetalLength  PetalWidth         Name  sepal_ratio\n",
       "0          5.1         3.5          1.4         0.2  Iris-setosa     0.686275\n",
       "1          4.9         3.0          1.4         0.2  Iris-setosa     0.612245\n",
       "2          4.7         3.2          1.3         0.2  Iris-setosa     0.680851\n",
       "3          4.6         3.1          1.5         0.2  Iris-setosa     0.673913\n",
       "4          5.0         3.6          1.4         0.2  Iris-setosa     0.720000"
      ]
     },
     "execution_count": 19,
     "metadata": {},
     "output_type": "execute_result"
    }
   ],
   "source": [
    "iris2 = iris.assign(sepal_ratio=iris[\"SepalWidth\"] / iris[\"SepalLength\"])\n",
    "iris2.head()"
   ]
  },
  {
   "cell_type": "code",
   "execution_count": 20,
   "id": "8e09dc82",
   "metadata": {},
   "outputs": [
    {
     "data": {
      "application/vnd.microsoft.datawrangler.viewer.v0+json": {
       "columns": [
        {
         "name": "index",
         "rawType": "int64",
         "type": "integer"
        },
        {
         "name": "SepalLength",
         "rawType": "float64",
         "type": "float"
        },
        {
         "name": "SepalWidth",
         "rawType": "float64",
         "type": "float"
        },
        {
         "name": "PetalLength",
         "rawType": "float64",
         "type": "float"
        },
        {
         "name": "PetalWidth",
         "rawType": "float64",
         "type": "float"
        },
        {
         "name": "Name",
         "rawType": "object",
         "type": "string"
        },
        {
         "name": "sepal_ratio",
         "rawType": "float64",
         "type": "float"
        }
       ],
       "ref": "c8b692e8-afc9-4215-b6fe-789e489dd424",
       "rows": [
        [
         "0",
         "5.1",
         "3.5",
         "1.4",
         "0.2",
         "Iris-setosa",
         "0.6862745098039216"
        ],
        [
         "1",
         "4.9",
         "3.0",
         "1.4",
         "0.2",
         "Iris-setosa",
         "0.6122448979591836"
        ],
        [
         "2",
         "4.7",
         "3.2",
         "1.3",
         "0.2",
         "Iris-setosa",
         "0.6808510638297872"
        ],
        [
         "3",
         "4.6",
         "3.1",
         "1.5",
         "0.2",
         "Iris-setosa",
         "0.673913043478261"
        ],
        [
         "4",
         "5.0",
         "3.6",
         "1.4",
         "0.2",
         "Iris-setosa",
         "0.72"
        ]
       ],
       "shape": {
        "columns": 6,
        "rows": 5
       }
      },
      "text/html": [
       "<div>\n",
       "<style scoped>\n",
       "    .dataframe tbody tr th:only-of-type {\n",
       "        vertical-align: middle;\n",
       "    }\n",
       "\n",
       "    .dataframe tbody tr th {\n",
       "        vertical-align: top;\n",
       "    }\n",
       "\n",
       "    .dataframe thead th {\n",
       "        text-align: right;\n",
       "    }\n",
       "</style>\n",
       "<table border=\"1\" class=\"dataframe\">\n",
       "  <thead>\n",
       "    <tr style=\"text-align: right;\">\n",
       "      <th></th>\n",
       "      <th>SepalLength</th>\n",
       "      <th>SepalWidth</th>\n",
       "      <th>PetalLength</th>\n",
       "      <th>PetalWidth</th>\n",
       "      <th>Name</th>\n",
       "      <th>sepal_ratio</th>\n",
       "    </tr>\n",
       "  </thead>\n",
       "  <tbody>\n",
       "    <tr>\n",
       "      <th>0</th>\n",
       "      <td>5.1</td>\n",
       "      <td>3.5</td>\n",
       "      <td>1.4</td>\n",
       "      <td>0.2</td>\n",
       "      <td>Iris-setosa</td>\n",
       "      <td>0.686275</td>\n",
       "    </tr>\n",
       "    <tr>\n",
       "      <th>1</th>\n",
       "      <td>4.9</td>\n",
       "      <td>3.0</td>\n",
       "      <td>1.4</td>\n",
       "      <td>0.2</td>\n",
       "      <td>Iris-setosa</td>\n",
       "      <td>0.612245</td>\n",
       "    </tr>\n",
       "    <tr>\n",
       "      <th>2</th>\n",
       "      <td>4.7</td>\n",
       "      <td>3.2</td>\n",
       "      <td>1.3</td>\n",
       "      <td>0.2</td>\n",
       "      <td>Iris-setosa</td>\n",
       "      <td>0.680851</td>\n",
       "    </tr>\n",
       "    <tr>\n",
       "      <th>3</th>\n",
       "      <td>4.6</td>\n",
       "      <td>3.1</td>\n",
       "      <td>1.5</td>\n",
       "      <td>0.2</td>\n",
       "      <td>Iris-setosa</td>\n",
       "      <td>0.673913</td>\n",
       "    </tr>\n",
       "    <tr>\n",
       "      <th>4</th>\n",
       "      <td>5.0</td>\n",
       "      <td>3.6</td>\n",
       "      <td>1.4</td>\n",
       "      <td>0.2</td>\n",
       "      <td>Iris-setosa</td>\n",
       "      <td>0.720000</td>\n",
       "    </tr>\n",
       "  </tbody>\n",
       "</table>\n",
       "</div>"
      ],
      "text/plain": [
       "   SepalLength  SepalWidth  PetalLength  PetalWidth         Name  sepal_ratio\n",
       "0          5.1         3.5          1.4         0.2  Iris-setosa     0.686275\n",
       "1          4.9         3.0          1.4         0.2  Iris-setosa     0.612245\n",
       "2          4.7         3.2          1.3         0.2  Iris-setosa     0.680851\n",
       "3          4.6         3.1          1.5         0.2  Iris-setosa     0.673913\n",
       "4          5.0         3.6          1.4         0.2  Iris-setosa     0.720000"
      ]
     },
     "execution_count": 20,
     "metadata": {},
     "output_type": "execute_result"
    }
   ],
   "source": [
    "# we can also pass along a lambda function\n",
    "iris3 = iris.assign(sepal_ratio=lambda x: (x[\"SepalWidth\"] / x[\"SepalLength\"]))\n",
    "iris3.head()"
   ]
  },
  {
   "cell_type": "code",
   "execution_count": null,
   "id": "40e104c7",
   "metadata": {},
   "outputs": [],
   "source": []
  },
  {
   "cell_type": "code",
   "execution_count": 21,
   "id": "efe02428",
   "metadata": {},
   "outputs": [
    {
     "data": {
      "text/plain": [
       "<Axes: >"
      ]
     },
     "execution_count": 21,
     "metadata": {},
     "output_type": "execute_result"
    },
    {
     "data": {
      "image/png": "[encoded data removed]",
      "text/plain": [
       "<Figure size 640x480 with 1 Axes>"
      ]
     },
     "metadata": {},
     "output_type": "display_data"
    }
   ],
   "source": [
    "iris3[\"sepal_ratio\"].plot()"
   ]
  },
  {
   "cell_type": "code",
   "execution_count": 22,
   "id": "907965e2",
   "metadata": {},
   "outputs": [
    {
     "data": {
      "text/plain": [
       "<Axes: xlabel='SepalRatio', ylabel='PetalRatio'>"
      ]
     },
     "execution_count": 22,
     "metadata": {},
     "output_type": "execute_result"
    },
    {
     "data": {
      "image/png": "[encoded data removed]",
      "text/plain": [
       "<Figure size 640x480 with 1 Axes>"
      ]
     },
     "metadata": {},
     "output_type": "display_data"
    }
   ],
   "source": [
    "iris.query(\"SepalLength > 5\").assign(\n",
    "    SepalRatio = lambda x: x.SepalWidth / x.SepalLength,\n",
    "    PetalRatio = lambda x: x.PetalWidth / x.PetalLength,\n",
    ").plot(kind=\"scatter\", x=\"SepalRatio\", y=\"PetalRatio\")"
   ]
  },
  {
   "cell_type": "code",
   "execution_count": 23,
   "id": "9cb04aa8",
   "metadata": {},
   "outputs": [
    {
     "data": {
      "text/plain": [
       "<bound method DataFrame.to_string of      SepalLength  SepalWidth  PetalLength  PetalWidth            Name\n",
       "0            5.1         3.5          1.4         0.2     Iris-setosa\n",
       "1            4.9         3.0          1.4         0.2     Iris-setosa\n",
       "2            4.7         3.2          1.3         0.2     Iris-setosa\n",
       "3            4.6         3.1          1.5         0.2     Iris-setosa\n",
       "4            5.0         3.6          1.4         0.2     Iris-setosa\n",
       "..           ...         ...          ...         ...             ...\n",
       "145          6.7         3.0          5.2         2.3  Iris-virginica\n",
       "146          6.3         2.5          5.0         1.9  Iris-virginica\n",
       "147          6.5         3.0          5.2         2.0  Iris-virginica\n",
       "148          6.2         3.4          5.4         2.3  Iris-virginica\n",
       "149          5.9         3.0          5.1         1.8  Iris-virginica\n",
       "\n",
       "[150 rows x 5 columns]>"
      ]
     },
     "execution_count": 23,
     "metadata": {},
     "output_type": "execute_result"
    }
   ],
   "source": [
    "iris.to_string"
   ]
  },
  {
   "cell_type": "code",
   "execution_count": 24,
   "id": "1b86fb08",
   "metadata": {},
   "outputs": [
    {
     "data": {
      "application/vnd.microsoft.datawrangler.viewer.v0+json": {
       "columns": [
        {
         "name": "index",
         "rawType": "int64",
         "type": "integer"
        },
        {
         "name": "SepalLength",
         "rawType": "float64",
         "type": "float"
        },
        {
         "name": "SepalWidth",
         "rawType": "float64",
         "type": "float"
        },
        {
         "name": "PetalLength",
         "rawType": "float64",
         "type": "float"
        },
        {
         "name": "PetalWidth",
         "rawType": "float64",
         "type": "float"
        },
        {
         "name": "Name",
         "rawType": "object",
         "type": "string"
        }
       ],
       "ref": "b045b797-ee57-4de4-b44c-2d33945fd77d",
       "rows": [
        [
         "0",
         "5.1",
         "3.5",
         "1.4",
         "0.2",
         "Iris-setosa"
        ],
        [
         "1",
         "4.9",
         "3.0",
         "1.4",
         "0.2",
         "Iris-setosa"
        ],
        [
         "2",
         "4.7",
         "3.2",
         "1.3",
         "0.2",
         "Iris-setosa"
        ],
        [
         "3",
         "4.6",
         "3.1",
         "1.5",
         "0.2",
         "Iris-setosa"
        ],
        [
         "4",
         "5.0",
         "3.6",
         "1.4",
         "0.2",
         "Iris-setosa"
        ],
        [
         "5",
         "5.4",
         "3.9",
         "1.7",
         "0.4",
         "Iris-setosa"
        ],
        [
         "6",
         "4.6",
         "3.4",
         "1.4",
         "0.3",
         "Iris-setosa"
        ],
        [
         "7",
         "5.0",
         "3.4",
         "1.5",
         "0.2",
         "Iris-setosa"
        ],
        [
         "8",
         "4.4",
         "2.9",
         "1.4",
         "0.2",
         "Iris-setosa"
        ],
        [
         "9",
         "4.9",
         "3.1",
         "1.5",
         "0.1",
         "Iris-setosa"
        ],
        [
         "10",
         "5.4",
         "3.7",
         "1.5",
         "0.2",
         "Iris-setosa"
        ],
        [
         "11",
         "4.8",
         "3.4",
         "1.6",
         "0.2",
         "Iris-setosa"
        ],
        [
         "12",
         "4.8",
         "3.0",
         "1.4",
         "0.1",
         "Iris-setosa"
        ],
        [
         "13",
         "4.3",
         "3.0",
         "1.1",
         "0.1",
         "Iris-setosa"
        ],
        [
         "14",
         "5.8",
         "4.0",
         "1.2",
         "0.2",
         "Iris-setosa"
        ],
        [
         "15",
         "5.7",
         "4.4",
         "1.5",
         "0.4",
         "Iris-setosa"
        ],
        [
         "16",
         "5.4",
         "3.9",
         "1.3",
         "0.4",
         "Iris-setosa"
        ],
        [
         "17",
         "5.1",
         "3.5",
         "1.4",
         "0.3",
         "Iris-setosa"
        ],
        [
         "18",
         "5.7",
         "3.8",
         "1.7",
         "0.3",
         "Iris-setosa"
        ],
        [
         "19",
         "5.1",
         "3.8",
         "1.5",
         "0.3",
         "Iris-setosa"
        ],
        [
         "20",
         "5.4",
         "3.4",
         "1.7",
         "0.2",
         "Iris-setosa"
        ],
        [
         "21",
         "5.1",
         "3.7",
         "1.5",
         "0.4",
         "Iris-setosa"
        ],
        [
         "22",
         "4.6",
         "3.6",
         "1.0",
         "0.2",
         "Iris-setosa"
        ],
        [
         "23",
         "5.1",
         "3.3",
         "1.7",
         "0.5",
         "Iris-setosa"
        ],
        [
         "24",
         "4.8",
         "3.4",
         "1.9",
         "0.2",
         "Iris-setosa"
        ],
        [
         "25",
         "5.0",
         "3.0",
         "1.6",
         "0.2",
         "Iris-setosa"
        ],
        [
         "26",
         "5.0",
         "3.4",
         "1.6",
         "0.4",
         "Iris-setosa"
        ],
        [
         "27",
         "5.2",
         "3.5",
         "1.5",
         "0.2",
         "Iris-setosa"
        ],
        [
         "28",
         "5.2",
         "3.4",
         "1.4",
         "0.2",
         "Iris-setosa"
        ],
        [
         "29",
         "4.7",
         "3.2",
         "1.6",
         "0.2",
         "Iris-setosa"
        ],
        [
         "30",
         "4.8",
         "3.1",
         "1.6",
         "0.2",
         "Iris-setosa"
        ],
        [
         "31",
         "5.4",
         "3.4",
         "1.5",
         "0.4",
         "Iris-setosa"
        ],
        [
         "32",
         "5.2",
         "4.1",
         "1.5",
         "0.1",
         "Iris-setosa"
        ],
        [
         "33",
         "5.5",
         "4.2",
         "1.4",
         "0.2",
         "Iris-setosa"
        ],
        [
         "34",
         "4.9",
         "3.1",
         "1.5",
         "0.1",
         "Iris-setosa"
        ],
        [
         "35",
         "5.0",
         "3.2",
         "1.2",
         "0.2",
         "Iris-setosa"
        ],
        [
         "36",
         "5.5",
         "3.5",
         "1.3",
         "0.2",
         "Iris-setosa"
        ],
        [
         "37",
         "4.9",
         "3.1",
         "1.5",
         "0.1",
         "Iris-setosa"
        ],
        [
         "38",
         "4.4",
         "3.0",
         "1.3",
         "0.2",
         "Iris-setosa"
        ],
        [
         "39",
         "5.1",
         "3.4",
         "1.5",
         "0.2",
         "Iris-setosa"
        ],
        [
         "40",
         "5.0",
         "3.5",
         "1.3",
         "0.3",
         "Iris-setosa"
        ],
        [
         "41",
         "4.5",
         "2.3",
         "1.3",
         "0.3",
         "Iris-setosa"
        ],
        [
         "42",
         "4.4",
         "3.2",
         "1.3",
         "0.2",
         "Iris-setosa"
        ],
        [
         "43",
         "5.0",
         "3.5",
         "1.6",
         "0.6",
         "Iris-setosa"
        ],
        [
         "44",
         "5.1",
         "3.8",
         "1.9",
         "0.4",
         "Iris-setosa"
        ],
        [
         "45",
         "4.8",
         "3.0",
         "1.4",
         "0.3",
         "Iris-setosa"
        ],
        [
         "46",
         "5.1",
         "3.8",
         "1.6",
         "0.2",
         "Iris-setosa"
        ],
        [
         "47",
         "4.6",
         "3.2",
         "1.4",
         "0.2",
         "Iris-setosa"
        ],
        [
         "48",
         "5.3",
         "3.7",
         "1.5",
         "0.2",
         "Iris-setosa"
        ],
        [
         "49",
         "5.0",
         "3.3",
         "1.4",
         "0.2",
         "Iris-setosa"
        ]
       ],
       "shape": {
        "columns": 5,
        "rows": 150
       }
      },
      "text/html": [
       "<div>\n",
       "<style scoped>\n",
       "    .dataframe tbody tr th:only-of-type {\n",
       "        vertical-align: middle;\n",
       "    }\n",
       "\n",
       "    .dataframe tbody tr th {\n",
       "        vertical-align: top;\n",
       "    }\n",
       "\n",
       "    .dataframe thead th {\n",
       "        text-align: right;\n",
       "    }\n",
       "</style>\n",
       "<table border=\"1\" class=\"dataframe\">\n",
       "  <thead>\n",
       "    <tr style=\"text-align: right;\">\n",
       "      <th></th>\n",
       "      <th>SepalLength</th>\n",
       "      <th>SepalWidth</th>\n",
       "      <th>PetalLength</th>\n",
       "      <th>PetalWidth</th>\n",
       "      <th>Name</th>\n",
       "    </tr>\n",
       "  </thead>\n",
       "  <tbody>\n",
       "    <tr>\n",
       "      <th>0</th>\n",
       "      <td>5.1</td>\n",
       "      <td>3.5</td>\n",
       "      <td>1.4</td>\n",
       "      <td>0.2</td>\n",
       "      <td>Iris-setosa</td>\n",
       "    </tr>\n",
       "    <tr>\n",
       "      <th>1</th>\n",
       "      <td>4.9</td>\n",
       "      <td>3.0</td>\n",
       "      <td>1.4</td>\n",
       "      <td>0.2</td>\n",
       "      <td>Iris-setosa</td>\n",
       "    </tr>\n",
       "    <tr>\n",
       "      <th>2</th>\n",
       "      <td>4.7</td>\n",
       "      <td>3.2</td>\n",
       "      <td>1.3</td>\n",
       "      <td>0.2</td>\n",
       "      <td>Iris-setosa</td>\n",
       "    </tr>\n",
       "    <tr>\n",
       "      <th>3</th>\n",
       "      <td>4.6</td>\n",
       "      <td>3.1</td>\n",
       "      <td>1.5</td>\n",
       "      <td>0.2</td>\n",
       "      <td>Iris-setosa</td>\n",
       "    </tr>\n",
       "    <tr>\n",
       "      <th>4</th>\n",
       "      <td>5.0</td>\n",
       "      <td>3.6</td>\n",
       "      <td>1.4</td>\n",
       "      <td>0.2</td>\n",
       "      <td>Iris-setosa</td>\n",
       "    </tr>\n",
       "    <tr>\n",
       "      <th>...</th>\n",
       "      <td>...</td>\n",
       "      <td>...</td>\n",
       "      <td>...</td>\n",
       "      <td>...</td>\n",
       "      <td>...</td>\n",
       "    </tr>\n",
       "    <tr>\n",
       "      <th>145</th>\n",
       "      <td>6.7</td>\n",
       "      <td>3.0</td>\n",
       "      <td>5.2</td>\n",
       "      <td>2.3</td>\n",
       "      <td>Iris-virginica</td>\n",
       "    </tr>\n",
       "    <tr>\n",
       "      <th>146</th>\n",
       "      <td>6.3</td>\n",
       "      <td>2.5</td>\n",
       "      <td>5.0</td>\n",
       "      <td>1.9</td>\n",
       "      <td>Iris-virginica</td>\n",
       "    </tr>\n",
       "    <tr>\n",
       "      <th>147</th>\n",
       "      <td>6.5</td>\n",
       "      <td>3.0</td>\n",
       "      <td>5.2</td>\n",
       "      <td>2.0</td>\n",
       "      <td>Iris-virginica</td>\n",
       "    </tr>\n",
       "    <tr>\n",
       "      <th>148</th>\n",
       "      <td>6.2</td>\n",
       "      <td>3.4</td>\n",
       "      <td>5.4</td>\n",
       "      <td>2.3</td>\n",
       "      <td>Iris-virginica</td>\n",
       "    </tr>\n",
       "    <tr>\n",
       "      <th>149</th>\n",
       "      <td>5.9</td>\n",
       "      <td>3.0</td>\n",
       "      <td>5.1</td>\n",
       "      <td>1.8</td>\n",
       "      <td>Iris-virginica</td>\n",
       "    </tr>\n",
       "  </tbody>\n",
       "</table>\n",
       "<p>150 rows × 5 columns</p>\n",
       "</div>"
      ],
      "text/plain": [
       "     SepalLength  SepalWidth  PetalLength  PetalWidth            Name\n",
       "0            5.1         3.5          1.4         0.2     Iris-setosa\n",
       "1            4.9         3.0          1.4         0.2     Iris-setosa\n",
       "2            4.7         3.2          1.3         0.2     Iris-setosa\n",
       "3            4.6         3.1          1.5         0.2     Iris-setosa\n",
       "4            5.0         3.6          1.4         0.2     Iris-setosa\n",
       "..           ...         ...          ...         ...             ...\n",
       "145          6.7         3.0          5.2         2.3  Iris-virginica\n",
       "146          6.3         2.5          5.0         1.9  Iris-virginica\n",
       "147          6.5         3.0          5.2         2.0  Iris-virginica\n",
       "148          6.2         3.4          5.4         2.3  Iris-virginica\n",
       "149          5.9         3.0          5.1         1.8  Iris-virginica\n",
       "\n",
       "[150 rows x 5 columns]"
      ]
     },
     "execution_count": 24,
     "metadata": {},
     "output_type": "execute_result"
    }
   ],
   "source": [
    "iris"
   ]
  },
  {
   "cell_type": "code",
   "execution_count": null,
   "id": "e4e39486",
   "metadata": {},
   "outputs": [],
   "source": []
  },
  {
   "cell_type": "code",
   "execution_count": 25,
   "id": "62724bda",
   "metadata": {},
   "outputs": [],
   "source": [
    "# Create sample objects\n",
    "index = pd.date_range(\"1/1/2000\", periods=8)\n",
    "s = pd.Series(np.random.randn(5), index=list(\"abcde\"))\n",
    "df = pd.DataFrame(np.random.randn(8, 3), index=index, columns=list(\"ABC\"))"
   ]
  },
  {
   "cell_type": "code",
   "execution_count": 26,
   "id": "b59bf38d",
   "metadata": {},
   "outputs": [
    {
     "data": {
      "application/vnd.microsoft.datawrangler.viewer.v0+json": {
       "columns": [
        {
         "name": "index",
         "rawType": "datetime64[ns]",
         "type": "datetime"
        },
        {
         "name": "a",
         "rawType": "float64",
         "type": "float"
        },
        {
         "name": "b",
         "rawType": "float64",
         "type": "float"
        },
        {
         "name": "c",
         "rawType": "float64",
         "type": "float"
        }
       ],
       "ref": "2a90eb6b-2dd8-467a-988f-5642bf6cdf31",
       "rows": [
        [
         "2000-01-01 00:00:00",
         "-1.2607409177004156",
         "1.2851552880552253",
         "-0.29556531747891435"
        ],
        [
         "2000-01-02 00:00:00",
         "0.2314015734031372",
         "1.2393232749571537",
         "-0.40027313827704847"
        ],
        [
         "2000-01-03 00:00:00",
         "0.601216604449729",
         "0.831495001472246",
         "-0.2080750952582328"
        ],
        [
         "2000-01-04 00:00:00",
         "1.0697815914543272",
         "1.0619475020755123",
         "0.42613165175483386"
        ],
        [
         "2000-01-05 00:00:00",
         "0.8849322817877614",
         "0.9479142150073571",
         "0.0455637518673619"
        ],
        [
         "2000-01-06 00:00:00",
         "0.19045723249482688",
         "0.29885891708262896",
         "-0.3378483660682913"
        ],
        [
         "2000-01-07 00:00:00",
         "1.1652633064178863",
         "1.0935822377476303",
         "0.8632386671410188"
        ],
        [
         "2000-01-08 00:00:00",
         "0.5298394272533002",
         "-0.47766851181258324",
         "-1.4255425564394362"
        ]
       ],
       "shape": {
        "columns": 3,
        "rows": 8
       }
      },
      "text/html": [
       "<div>\n",
       "<style scoped>\n",
       "    .dataframe tbody tr th:only-of-type {\n",
       "        vertical-align: middle;\n",
       "    }\n",
       "\n",
       "    .dataframe tbody tr th {\n",
       "        vertical-align: top;\n",
       "    }\n",
       "\n",
       "    .dataframe thead th {\n",
       "        text-align: right;\n",
       "    }\n",
       "</style>\n",
       "<table border=\"1\" class=\"dataframe\">\n",
       "  <thead>\n",
       "    <tr style=\"text-align: right;\">\n",
       "      <th></th>\n",
       "      <th>a</th>\n",
       "      <th>b</th>\n",
       "      <th>c</th>\n",
       "    </tr>\n",
       "  </thead>\n",
       "  <tbody>\n",
       "    <tr>\n",
       "      <th>2000-01-01</th>\n",
       "      <td>-1.260741</td>\n",
       "      <td>1.285155</td>\n",
       "      <td>-0.295565</td>\n",
       "    </tr>\n",
       "    <tr>\n",
       "      <th>2000-01-02</th>\n",
       "      <td>0.231402</td>\n",
       "      <td>1.239323</td>\n",
       "      <td>-0.400273</td>\n",
       "    </tr>\n",
       "    <tr>\n",
       "      <th>2000-01-03</th>\n",
       "      <td>0.601217</td>\n",
       "      <td>0.831495</td>\n",
       "      <td>-0.208075</td>\n",
       "    </tr>\n",
       "    <tr>\n",
       "      <th>2000-01-04</th>\n",
       "      <td>1.069782</td>\n",
       "      <td>1.061948</td>\n",
       "      <td>0.426132</td>\n",
       "    </tr>\n",
       "    <tr>\n",
       "      <th>2000-01-05</th>\n",
       "      <td>0.884932</td>\n",
       "      <td>0.947914</td>\n",
       "      <td>0.045564</td>\n",
       "    </tr>\n",
       "    <tr>\n",
       "      <th>2000-01-06</th>\n",
       "      <td>0.190457</td>\n",
       "      <td>0.298859</td>\n",
       "      <td>-0.337848</td>\n",
       "    </tr>\n",
       "    <tr>\n",
       "      <th>2000-01-07</th>\n",
       "      <td>1.165263</td>\n",
       "      <td>1.093582</td>\n",
       "      <td>0.863239</td>\n",
       "    </tr>\n",
       "    <tr>\n",
       "      <th>2000-01-08</th>\n",
       "      <td>0.529839</td>\n",
       "      <td>-0.477669</td>\n",
       "      <td>-1.425543</td>\n",
       "    </tr>\n",
       "  </tbody>\n",
       "</table>\n",
       "</div>"
      ],
      "text/plain": [
       "                   a         b         c\n",
       "2000-01-01 -1.260741  1.285155 -0.295565\n",
       "2000-01-02  0.231402  1.239323 -0.400273\n",
       "2000-01-03  0.601217  0.831495 -0.208075\n",
       "2000-01-04  1.069782  1.061948  0.426132\n",
       "2000-01-05  0.884932  0.947914  0.045564\n",
       "2000-01-06  0.190457  0.298859 -0.337848\n",
       "2000-01-07  1.165263  1.093582  0.863239\n",
       "2000-01-08  0.529839 -0.477669 -1.425543"
      ]
     },
     "execution_count": 26,
     "metadata": {},
     "output_type": "execute_result"
    }
   ],
   "source": [
    "df.columns = [x.lower() for x in df.columns]\n",
    "df"
   ]
  },
  {
   "cell_type": "code",
   "execution_count": 27,
   "id": "1e55ce39",
   "metadata": {},
   "outputs": [
    {
     "data": {
      "text/plain": [
       "<NumpyExtensionArray>\n",
       "[ 0.8011073815878966, -0.2397229667819829,  0.9339995851319991,\n",
       " -0.4157727650115321, -0.9522267123026894]\n",
       "Length: 5, dtype: float64"
      ]
     },
     "execution_count": 27,
     "metadata": {},
     "output_type": "execute_result"
    }
   ],
   "source": [
    "s.array"
   ]
  },
  {
   "cell_type": "code",
   "execution_count": 28,
   "id": "a1c94599",
   "metadata": {},
   "outputs": [
    {
     "data": {
      "text/plain": [
       "<bound method DataFrame.to_numpy of                    a         b         c\n",
       "2000-01-01 -1.260741  1.285155 -0.295565\n",
       "2000-01-02  0.231402  1.239323 -0.400273\n",
       "2000-01-03  0.601217  0.831495 -0.208075\n",
       "2000-01-04  1.069782  1.061948  0.426132\n",
       "2000-01-05  0.884932  0.947914  0.045564\n",
       "2000-01-06  0.190457  0.298859 -0.337848\n",
       "2000-01-07  1.165263  1.093582  0.863239\n",
       "2000-01-08  0.529839 -0.477669 -1.425543>"
      ]
     },
     "execution_count": 28,
     "metadata": {},
     "output_type": "execute_result"
    }
   ],
   "source": [
    "df.to_numpy"
   ]
  },
  {
   "cell_type": "code",
   "execution_count": 43,
   "id": "bf2c451a",
   "metadata": {},
   "outputs": [
    {
     "data": {
      "application/vnd.microsoft.datawrangler.viewer.v0+json": {
       "columns": [
        {
         "name": "index",
         "rawType": "object",
         "type": "string"
        },
        {
         "name": "one",
         "rawType": "float64",
         "type": "float"
        },
        {
         "name": "two",
         "rawType": "float64",
         "type": "float"
        },
        {
         "name": "three",
         "rawType": "float64",
         "type": "float"
        }
       ],
       "ref": "2e2fccab-5d13-4d76-b44b-f2856eb6c51a",
       "rows": [
        [
         "a",
         "-1.1260097446903516",
         "-1.3947328990371148",
         "100.0"
        ],
        [
         "b",
         "2.4169379146768666",
         "2.1509640951058406",
         "0.7674495424488451"
        ],
        [
         "c",
         "-3.1995859778914757",
         "-1.9821410100239696",
         "-1.3153514290172494"
        ],
        [
         "d",
         null,
         "1.6626782791247767",
         "0.7489106160826345"
        ]
       ],
       "shape": {
        "columns": 3,
        "rows": 4
       }
      },
      "text/html": [
       "<div>\n",
       "<style scoped>\n",
       "    .dataframe tbody tr th:only-of-type {\n",
       "        vertical-align: middle;\n",
       "    }\n",
       "\n",
       "    .dataframe tbody tr th {\n",
       "        vertical-align: top;\n",
       "    }\n",
       "\n",
       "    .dataframe thead th {\n",
       "        text-align: right;\n",
       "    }\n",
       "</style>\n",
       "<table border=\"1\" class=\"dataframe\">\n",
       "  <thead>\n",
       "    <tr style=\"text-align: right;\">\n",
       "      <th></th>\n",
       "      <th>one</th>\n",
       "      <th>two</th>\n",
       "      <th>three</th>\n",
       "    </tr>\n",
       "  </thead>\n",
       "  <tbody>\n",
       "    <tr>\n",
       "      <th>a</th>\n",
       "      <td>-1.126010</td>\n",
       "      <td>-1.394733</td>\n",
       "      <td>100.000000</td>\n",
       "    </tr>\n",
       "    <tr>\n",
       "      <th>b</th>\n",
       "      <td>2.416938</td>\n",
       "      <td>2.150964</td>\n",
       "      <td>0.767450</td>\n",
       "    </tr>\n",
       "    <tr>\n",
       "      <th>c</th>\n",
       "      <td>-3.199586</td>\n",
       "      <td>-1.982141</td>\n",
       "      <td>-1.315351</td>\n",
       "    </tr>\n",
       "    <tr>\n",
       "      <th>d</th>\n",
       "      <td>NaN</td>\n",
       "      <td>1.662678</td>\n",
       "      <td>0.748911</td>\n",
       "    </tr>\n",
       "  </tbody>\n",
       "</table>\n",
       "</div>"
      ],
      "text/plain": [
       "        one       two       three\n",
       "a -1.126010 -1.394733  100.000000\n",
       "b  2.416938  2.150964    0.767450\n",
       "c -3.199586 -1.982141   -1.315351\n",
       "d       NaN  1.662678    0.748911"
      ]
     },
     "execution_count": 43,
     "metadata": {},
     "output_type": "execute_result"
    }
   ],
   "source": [
    "df = pd.DataFrame(\n",
    "    {\n",
    "        \"one\": pd.Series(np.random.randn(3), index=[\"a\", \"b\", \"c\"]),\n",
    "        \"two\": pd.Series(np.random.randn(4), index=[\"a\", \"b\", \"c\", \"d\"]),\n",
    "        \"three\": pd.Series(np.random.randn(3), index=[\"b\", \"c\", \"d\"]),\n",
    "    }\n",
    ")\n",
    "df1 = df.copy()\n",
    "df2 = df.copy()\n",
    "df1.loc[\"a\", \"three\"] = 100\n",
    "df1.add(df2, fill_value=0)"
   ]
  },
  {
   "cell_type": "code",
   "execution_count": 44,
   "id": "2c55135d",
   "metadata": {},
   "outputs": [
    {
     "data": {
      "application/vnd.microsoft.datawrangler.viewer.v0+json": {
       "columns": [
        {
         "name": "index",
         "rawType": "object",
         "type": "string"
        },
        {
         "name": "one",
         "rawType": "float64",
         "type": "float"
        },
        {
         "name": "two",
         "rawType": "float64",
         "type": "float"
        },
        {
         "name": "three",
         "rawType": "float64",
         "type": "float"
        }
       ],
       "ref": "235d090d-4c97-4e41-89b5-ba4d65e0e761",
       "rows": [
        [
         "a",
         "-0.5630048723451758",
         "-0.6973664495185574",
         null
        ],
        [
         "b",
         "1.2084689573384333",
         "1.0754820475529203",
         "0.38372477122442256"
        ],
        [
         "c",
         "-1.5997929889457378",
         "-0.9910705050119848",
         "-0.6576757145086247"
        ],
        [
         "d",
         null,
         "0.8313391395623884",
         "0.37445530804131727"
        ]
       ],
       "shape": {
        "columns": 3,
        "rows": 4
       }
      },
      "text/html": [
       "<div>\n",
       "<style scoped>\n",
       "    .dataframe tbody tr th:only-of-type {\n",
       "        vertical-align: middle;\n",
       "    }\n",
       "\n",
       "    .dataframe tbody tr th {\n",
       "        vertical-align: top;\n",
       "    }\n",
       "\n",
       "    .dataframe thead th {\n",
       "        text-align: right;\n",
       "    }\n",
       "</style>\n",
       "<table border=\"1\" class=\"dataframe\">\n",
       "  <thead>\n",
       "    <tr style=\"text-align: right;\">\n",
       "      <th></th>\n",
       "      <th>one</th>\n",
       "      <th>two</th>\n",
       "      <th>three</th>\n",
       "    </tr>\n",
       "  </thead>\n",
       "  <tbody>\n",
       "    <tr>\n",
       "      <th>a</th>\n",
       "      <td>-0.563005</td>\n",
       "      <td>-0.697366</td>\n",
       "      <td>NaN</td>\n",
       "    </tr>\n",
       "    <tr>\n",
       "      <th>b</th>\n",
       "      <td>1.208469</td>\n",
       "      <td>1.075482</td>\n",
       "      <td>0.383725</td>\n",
       "    </tr>\n",
       "    <tr>\n",
       "      <th>c</th>\n",
       "      <td>-1.599793</td>\n",
       "      <td>-0.991071</td>\n",
       "      <td>-0.657676</td>\n",
       "    </tr>\n",
       "    <tr>\n",
       "      <th>d</th>\n",
       "      <td>NaN</td>\n",
       "      <td>0.831339</td>\n",
       "      <td>0.374455</td>\n",
       "    </tr>\n",
       "  </tbody>\n",
       "</table>\n",
       "</div>"
      ],
      "text/plain": [
       "        one       two     three\n",
       "a -0.563005 -0.697366       NaN\n",
       "b  1.208469  1.075482  0.383725\n",
       "c -1.599793 -0.991071 -0.657676\n",
       "d       NaN  0.831339  0.374455"
      ]
     },
     "execution_count": 44,
     "metadata": {},
     "output_type": "execute_result"
    }
   ],
   "source": [
    "df"
   ]
  },
  {
   "cell_type": "code",
   "execution_count": 45,
   "id": "900729e2",
   "metadata": {},
   "outputs": [
    {
     "data": {
      "application/vnd.microsoft.datawrangler.viewer.v0+json": {
       "columns": [
        {
         "name": "index",
         "rawType": "object",
         "type": "string"
        },
        {
         "name": "one",
         "rawType": "bool",
         "type": "boolean"
        },
        {
         "name": "two",
         "rawType": "bool",
         "type": "boolean"
        },
        {
         "name": "three",
         "rawType": "bool",
         "type": "boolean"
        }
       ],
       "ref": "032e4d6c-12ac-45b0-9858-74aa9f41badc",
       "rows": [
        [
         "a",
         "False",
         "False",
         "False"
        ],
        [
         "b",
         "False",
         "False",
         "False"
        ],
        [
         "c",
         "False",
         "False",
         "False"
        ],
        [
         "d",
         "False",
         "False",
         "False"
        ]
       ],
       "shape": {
        "columns": 3,
        "rows": 4
       }
      },
      "text/html": [
       "<div>\n",
       "<style scoped>\n",
       "    .dataframe tbody tr th:only-of-type {\n",
       "        vertical-align: middle;\n",
       "    }\n",
       "\n",
       "    .dataframe tbody tr th {\n",
       "        vertical-align: top;\n",
       "    }\n",
       "\n",
       "    .dataframe thead th {\n",
       "        text-align: right;\n",
       "    }\n",
       "</style>\n",
       "<table border=\"1\" class=\"dataframe\">\n",
       "  <thead>\n",
       "    <tr style=\"text-align: right;\">\n",
       "      <th></th>\n",
       "      <th>one</th>\n",
       "      <th>two</th>\n",
       "      <th>three</th>\n",
       "    </tr>\n",
       "  </thead>\n",
       "  <tbody>\n",
       "    <tr>\n",
       "      <th>a</th>\n",
       "      <td>False</td>\n",
       "      <td>False</td>\n",
       "      <td>False</td>\n",
       "    </tr>\n",
       "    <tr>\n",
       "      <th>b</th>\n",
       "      <td>False</td>\n",
       "      <td>False</td>\n",
       "      <td>False</td>\n",
       "    </tr>\n",
       "    <tr>\n",
       "      <th>c</th>\n",
       "      <td>False</td>\n",
       "      <td>False</td>\n",
       "      <td>False</td>\n",
       "    </tr>\n",
       "    <tr>\n",
       "      <th>d</th>\n",
       "      <td>False</td>\n",
       "      <td>False</td>\n",
       "      <td>False</td>\n",
       "    </tr>\n",
       "  </tbody>\n",
       "</table>\n",
       "</div>"
      ],
      "text/plain": [
       "     one    two  three\n",
       "a  False  False  False\n",
       "b  False  False  False\n",
       "c  False  False  False\n",
       "d  False  False  False"
      ]
     },
     "execution_count": 45,
     "metadata": {},
     "output_type": "execute_result"
    }
   ],
   "source": [
    "df > df2"
   ]
  },
  {
   "cell_type": "code",
   "execution_count": 46,
   "id": "4fd2c1d8",
   "metadata": {},
   "outputs": [
    {
     "data": {
      "application/vnd.microsoft.datawrangler.viewer.v0+json": {
       "columns": [
        {
         "name": "index",
         "rawType": "object",
         "type": "string"
        },
        {
         "name": "one",
         "rawType": "bool",
         "type": "boolean"
        },
        {
         "name": "two",
         "rawType": "bool",
         "type": "boolean"
        },
        {
         "name": "three",
         "rawType": "bool",
         "type": "boolean"
        }
       ],
       "ref": "d45e159e-4b17-44c0-8611-4ac39409a4d7",
       "rows": [
        [
         "a",
         "False",
         "False",
         "False"
        ],
        [
         "b",
         "False",
         "False",
         "False"
        ],
        [
         "c",
         "False",
         "False",
         "False"
        ],
        [
         "d",
         "False",
         "False",
         "False"
        ]
       ],
       "shape": {
        "columns": 3,
        "rows": 4
       }
      },
      "text/html": [
       "<div>\n",
       "<style scoped>\n",
       "    .dataframe tbody tr th:only-of-type {\n",
       "        vertical-align: middle;\n",
       "    }\n",
       "\n",
       "    .dataframe tbody tr th {\n",
       "        vertical-align: top;\n",
       "    }\n",
       "\n",
       "    .dataframe thead th {\n",
       "        text-align: right;\n",
       "    }\n",
       "</style>\n",
       "<table border=\"1\" class=\"dataframe\">\n",
       "  <thead>\n",
       "    <tr style=\"text-align: right;\">\n",
       "      <th></th>\n",
       "      <th>one</th>\n",
       "      <th>two</th>\n",
       "      <th>three</th>\n",
       "    </tr>\n",
       "  </thead>\n",
       "  <tbody>\n",
       "    <tr>\n",
       "      <th>a</th>\n",
       "      <td>False</td>\n",
       "      <td>False</td>\n",
       "      <td>False</td>\n",
       "    </tr>\n",
       "    <tr>\n",
       "      <th>b</th>\n",
       "      <td>False</td>\n",
       "      <td>False</td>\n",
       "      <td>False</td>\n",
       "    </tr>\n",
       "    <tr>\n",
       "      <th>c</th>\n",
       "      <td>False</td>\n",
       "      <td>False</td>\n",
       "      <td>False</td>\n",
       "    </tr>\n",
       "    <tr>\n",
       "      <th>d</th>\n",
       "      <td>False</td>\n",
       "      <td>False</td>\n",
       "      <td>False</td>\n",
       "    </tr>\n",
       "  </tbody>\n",
       "</table>\n",
       "</div>"
      ],
      "text/plain": [
       "     one    two  three\n",
       "a  False  False  False\n",
       "b  False  False  False\n",
       "c  False  False  False\n",
       "d  False  False  False"
      ]
     },
     "execution_count": 46,
     "metadata": {},
     "output_type": "execute_result"
    }
   ],
   "source": [
    "df2.gt(df2)"
   ]
  },
  {
   "cell_type": "code",
   "execution_count": 49,
   "id": "532c8ee4",
   "metadata": {},
   "outputs": [
    {
     "data": {
      "application/vnd.microsoft.datawrangler.viewer.v0+json": {
       "columns": [
        {
         "name": "index",
         "rawType": "object",
         "type": "string"
        },
        {
         "name": "0",
         "rawType": "bool",
         "type": "boolean"
        }
       ],
       "ref": "e25fb655-7689-4503-bb2d-004148a2e0d6",
       "rows": [
        [
         "a",
         "False"
        ],
        [
         "b",
         "True"
        ],
        [
         "c",
         "False"
        ],
        [
         "d",
         "False"
        ]
       ],
       "shape": {
        "columns": 1,
        "rows": 4
       }
      },
      "text/plain": [
       "a    False\n",
       "b     True\n",
       "c    False\n",
       "d    False\n",
       "dtype: bool"
      ]
     },
     "execution_count": 49,
     "metadata": {},
     "output_type": "execute_result"
    }
   ],
   "source": [
    "(df>0).all(axis=1)"
   ]
  },
  {
   "cell_type": "code",
   "execution_count": 50,
   "id": "eb16546a",
   "metadata": {},
   "outputs": [
    {
     "data": {
      "text/plain": [
       "False"
      ]
     },
     "execution_count": 50,
     "metadata": {},
     "output_type": "execute_result"
    }
   ],
   "source": [
    "df.empty"
   ]
  },
  {
   "cell_type": "code",
   "execution_count": 53,
   "id": "67d2eeaf",
   "metadata": {},
   "outputs": [
    {
     "data": {
      "text/plain": [
       "True"
      ]
     },
     "execution_count": 53,
     "metadata": {},
     "output_type": "execute_result"
    }
   ],
   "source": [
    "(df + df).equals(df * 2)"
   ]
  },
  {
   "cell_type": "code",
   "execution_count": 52,
   "id": "b4b63995",
   "metadata": {},
   "outputs": [
    {
     "data": {
      "application/vnd.microsoft.datawrangler.viewer.v0+json": {
       "columns": [
        {
         "name": "index",
         "rawType": "object",
         "type": "string"
        },
        {
         "name": "one",
         "rawType": "float64",
         "type": "float"
        },
        {
         "name": "two",
         "rawType": "float64",
         "type": "float"
        },
        {
         "name": "three",
         "rawType": "float64",
         "type": "float"
        }
       ],
       "ref": "b730cf93-b6ec-438f-9fea-74186d0f04e8",
       "rows": [
        [
         "a",
         "-0.5630048723451758",
         "-0.6973664495185574",
         null
        ],
        [
         "b",
         "1.2084689573384333",
         "1.0754820475529203",
         "0.38372477122442256"
        ],
        [
         "c",
         "-1.5997929889457378",
         "-0.9910705050119848",
         "-0.6576757145086247"
        ],
        [
         "d",
         null,
         "0.8313391395623884",
         "0.37445530804131727"
        ]
       ],
       "shape": {
        "columns": 3,
        "rows": 4
       }
      },
      "text/html": [
       "<div>\n",
       "<style scoped>\n",
       "    .dataframe tbody tr th:only-of-type {\n",
       "        vertical-align: middle;\n",
       "    }\n",
       "\n",
       "    .dataframe tbody tr th {\n",
       "        vertical-align: top;\n",
       "    }\n",
       "\n",
       "    .dataframe thead th {\n",
       "        text-align: right;\n",
       "    }\n",
       "</style>\n",
       "<table border=\"1\" class=\"dataframe\">\n",
       "  <thead>\n",
       "    <tr style=\"text-align: right;\">\n",
       "      <th></th>\n",
       "      <th>one</th>\n",
       "      <th>two</th>\n",
       "      <th>three</th>\n",
       "    </tr>\n",
       "  </thead>\n",
       "  <tbody>\n",
       "    <tr>\n",
       "      <th>a</th>\n",
       "      <td>-0.563005</td>\n",
       "      <td>-0.697366</td>\n",
       "      <td>NaN</td>\n",
       "    </tr>\n",
       "    <tr>\n",
       "      <th>b</th>\n",
       "      <td>1.208469</td>\n",
       "      <td>1.075482</td>\n",
       "      <td>0.383725</td>\n",
       "    </tr>\n",
       "    <tr>\n",
       "      <th>c</th>\n",
       "      <td>-1.599793</td>\n",
       "      <td>-0.991071</td>\n",
       "      <td>-0.657676</td>\n",
       "    </tr>\n",
       "    <tr>\n",
       "      <th>d</th>\n",
       "      <td>NaN</td>\n",
       "      <td>0.831339</td>\n",
       "      <td>0.374455</td>\n",
       "    </tr>\n",
       "  </tbody>\n",
       "</table>\n",
       "</div>"
      ],
      "text/plain": [
       "        one       two     three\n",
       "a -0.563005 -0.697366       NaN\n",
       "b  1.208469  1.075482  0.383725\n",
       "c -1.599793 -0.991071 -0.657676\n",
       "d       NaN  0.831339  0.374455"
      ]
     },
     "execution_count": 52,
     "metadata": {},
     "output_type": "execute_result"
    }
   ],
   "source": [
    "df"
   ]
  },
  {
   "cell_type": "code",
   "execution_count": 54,
   "id": "2056233c",
   "metadata": {},
   "outputs": [
    {
     "data": {
      "application/vnd.microsoft.datawrangler.viewer.v0+json": {
       "columns": [
        {
         "name": "index",
         "rawType": "int64",
         "type": "integer"
        },
        {
         "name": "A",
         "rawType": "float64",
         "type": "float"
        },
        {
         "name": "B",
         "rawType": "float64",
         "type": "float"
        }
       ],
       "ref": "79ec8bf4-8a70-4828-90d7-633e00ed2e29",
       "rows": [
        [
         "0",
         "1.0",
         null
        ],
        [
         "1",
         null,
         "2.0"
        ],
        [
         "2",
         "3.0",
         "3.0"
        ],
        [
         "3",
         "5.0",
         null
        ],
        [
         "4",
         null,
         "6.0"
        ]
       ],
       "shape": {
        "columns": 2,
        "rows": 5
       }
      },
      "text/html": [
       "<div>\n",
       "<style scoped>\n",
       "    .dataframe tbody tr th:only-of-type {\n",
       "        vertical-align: middle;\n",
       "    }\n",
       "\n",
       "    .dataframe tbody tr th {\n",
       "        vertical-align: top;\n",
       "    }\n",
       "\n",
       "    .dataframe thead th {\n",
       "        text-align: right;\n",
       "    }\n",
       "</style>\n",
       "<table border=\"1\" class=\"dataframe\">\n",
       "  <thead>\n",
       "    <tr style=\"text-align: right;\">\n",
       "      <th></th>\n",
       "      <th>A</th>\n",
       "      <th>B</th>\n",
       "    </tr>\n",
       "  </thead>\n",
       "  <tbody>\n",
       "    <tr>\n",
       "      <th>0</th>\n",
       "      <td>1.0</td>\n",
       "      <td>NaN</td>\n",
       "    </tr>\n",
       "    <tr>\n",
       "      <th>1</th>\n",
       "      <td>NaN</td>\n",
       "      <td>2.0</td>\n",
       "    </tr>\n",
       "    <tr>\n",
       "      <th>2</th>\n",
       "      <td>3.0</td>\n",
       "      <td>3.0</td>\n",
       "    </tr>\n",
       "    <tr>\n",
       "      <th>3</th>\n",
       "      <td>5.0</td>\n",
       "      <td>NaN</td>\n",
       "    </tr>\n",
       "    <tr>\n",
       "      <th>4</th>\n",
       "      <td>NaN</td>\n",
       "      <td>6.0</td>\n",
       "    </tr>\n",
       "  </tbody>\n",
       "</table>\n",
       "</div>"
      ],
      "text/plain": [
       "     A    B\n",
       "0  1.0  NaN\n",
       "1  NaN  2.0\n",
       "2  3.0  3.0\n",
       "3  5.0  NaN\n",
       "4  NaN  6.0"
      ]
     },
     "execution_count": 54,
     "metadata": {},
     "output_type": "execute_result"
    }
   ],
   "source": [
    "df1 = pd.DataFrame(\n",
    "    {\"A\": [1.0, np.nan, 3.0, 5.0, np.nan], \"B\": [np.nan, 2.0, 3.0, np.nan, 6.0]}\n",
    ")\n",
    "\n",
    "\n",
    "df2 = pd.DataFrame(\n",
    "    {\n",
    "        \"A\": [5.0, 2.0, 4.0, np.nan, 3.0, 7.0],\n",
    "        \"B\": [np.nan, np.nan, 3.0, 4.0, 6.0, 8.0],\n",
    "    }\n",
    ")\n",
    "df1"
   ]
  },
  {
   "cell_type": "code",
   "execution_count": 55,
   "id": "3a435d5e",
   "metadata": {},
   "outputs": [
    {
     "data": {
      "application/vnd.microsoft.datawrangler.viewer.v0+json": {
       "columns": [
        {
         "name": "index",
         "rawType": "int64",
         "type": "integer"
        },
        {
         "name": "A",
         "rawType": "float64",
         "type": "float"
        },
        {
         "name": "B",
         "rawType": "float64",
         "type": "float"
        }
       ],
       "ref": "83953698-6bdb-4dc1-b57d-00d7053e321d",
       "rows": [
        [
         "0",
         "5.0",
         null
        ],
        [
         "1",
         "2.0",
         null
        ],
        [
         "2",
         "4.0",
         "3.0"
        ],
        [
         "3",
         null,
         "4.0"
        ],
        [
         "4",
         "3.0",
         "6.0"
        ],
        [
         "5",
         "7.0",
         "8.0"
        ]
       ],
       "shape": {
        "columns": 2,
        "rows": 6
       }
      },
      "text/html": [
       "<div>\n",
       "<style scoped>\n",
       "    .dataframe tbody tr th:only-of-type {\n",
       "        vertical-align: middle;\n",
       "    }\n",
       "\n",
       "    .dataframe tbody tr th {\n",
       "        vertical-align: top;\n",
       "    }\n",
       "\n",
       "    .dataframe thead th {\n",
       "        text-align: right;\n",
       "    }\n",
       "</style>\n",
       "<table border=\"1\" class=\"dataframe\">\n",
       "  <thead>\n",
       "    <tr style=\"text-align: right;\">\n",
       "      <th></th>\n",
       "      <th>A</th>\n",
       "      <th>B</th>\n",
       "    </tr>\n",
       "  </thead>\n",
       "  <tbody>\n",
       "    <tr>\n",
       "      <th>0</th>\n",
       "      <td>5.0</td>\n",
       "      <td>NaN</td>\n",
       "    </tr>\n",
       "    <tr>\n",
       "      <th>1</th>\n",
       "      <td>2.0</td>\n",
       "      <td>NaN</td>\n",
       "    </tr>\n",
       "    <tr>\n",
       "      <th>2</th>\n",
       "      <td>4.0</td>\n",
       "      <td>3.0</td>\n",
       "    </tr>\n",
       "    <tr>\n",
       "      <th>3</th>\n",
       "      <td>NaN</td>\n",
       "      <td>4.0</td>\n",
       "    </tr>\n",
       "    <tr>\n",
       "      <th>4</th>\n",
       "      <td>3.0</td>\n",
       "      <td>6.0</td>\n",
       "    </tr>\n",
       "    <tr>\n",
       "      <th>5</th>\n",
       "      <td>7.0</td>\n",
       "      <td>8.0</td>\n",
       "    </tr>\n",
       "  </tbody>\n",
       "</table>\n",
       "</div>"
      ],
      "text/plain": [
       "     A    B\n",
       "0  5.0  NaN\n",
       "1  2.0  NaN\n",
       "2  4.0  3.0\n",
       "3  NaN  4.0\n",
       "4  3.0  6.0\n",
       "5  7.0  8.0"
      ]
     },
     "execution_count": 55,
     "metadata": {},
     "output_type": "execute_result"
    }
   ],
   "source": [
    "df2"
   ]
  },
  {
   "cell_type": "code",
   "execution_count": 56,
   "id": "ca2cb543",
   "metadata": {},
   "outputs": [
    {
     "data": {
      "application/vnd.microsoft.datawrangler.viewer.v0+json": {
       "columns": [
        {
         "name": "index",
         "rawType": "int64",
         "type": "integer"
        },
        {
         "name": "A",
         "rawType": "float64",
         "type": "float"
        },
        {
         "name": "B",
         "rawType": "float64",
         "type": "float"
        }
       ],
       "ref": "c5043d3f-0581-47d1-89e8-baa63d907034",
       "rows": [
        [
         "0",
         "1.0",
         null
        ],
        [
         "1",
         "2.0",
         "2.0"
        ],
        [
         "2",
         "3.0",
         "3.0"
        ],
        [
         "3",
         "5.0",
         "4.0"
        ],
        [
         "4",
         "3.0",
         "6.0"
        ],
        [
         "5",
         "7.0",
         "8.0"
        ]
       ],
       "shape": {
        "columns": 2,
        "rows": 6
       }
      },
      "text/html": [
       "<div>\n",
       "<style scoped>\n",
       "    .dataframe tbody tr th:only-of-type {\n",
       "        vertical-align: middle;\n",
       "    }\n",
       "\n",
       "    .dataframe tbody tr th {\n",
       "        vertical-align: top;\n",
       "    }\n",
       "\n",
       "    .dataframe thead th {\n",
       "        text-align: right;\n",
       "    }\n",
       "</style>\n",
       "<table border=\"1\" class=\"dataframe\">\n",
       "  <thead>\n",
       "    <tr style=\"text-align: right;\">\n",
       "      <th></th>\n",
       "      <th>A</th>\n",
       "      <th>B</th>\n",
       "    </tr>\n",
       "  </thead>\n",
       "  <tbody>\n",
       "    <tr>\n",
       "      <th>0</th>\n",
       "      <td>1.0</td>\n",
       "      <td>NaN</td>\n",
       "    </tr>\n",
       "    <tr>\n",
       "      <th>1</th>\n",
       "      <td>2.0</td>\n",
       "      <td>2.0</td>\n",
       "    </tr>\n",
       "    <tr>\n",
       "      <th>2</th>\n",
       "      <td>3.0</td>\n",
       "      <td>3.0</td>\n",
       "    </tr>\n",
       "    <tr>\n",
       "      <th>3</th>\n",
       "      <td>5.0</td>\n",
       "      <td>4.0</td>\n",
       "    </tr>\n",
       "    <tr>\n",
       "      <th>4</th>\n",
       "      <td>3.0</td>\n",
       "      <td>6.0</td>\n",
       "    </tr>\n",
       "    <tr>\n",
       "      <th>5</th>\n",
       "      <td>7.0</td>\n",
       "      <td>8.0</td>\n",
       "    </tr>\n",
       "  </tbody>\n",
       "</table>\n",
       "</div>"
      ],
      "text/plain": [
       "     A    B\n",
       "0  1.0  NaN\n",
       "1  2.0  2.0\n",
       "2  3.0  3.0\n",
       "3  5.0  4.0\n",
       "4  3.0  6.0\n",
       "5  7.0  8.0"
      ]
     },
     "execution_count": 56,
     "metadata": {},
     "output_type": "execute_result"
    }
   ],
   "source": [
    "df1.combine_first(df2)"
   ]
  },
  {
   "cell_type": "code",
   "execution_count": 57,
   "id": "bda9868b",
   "metadata": {},
   "outputs": [
    {
     "data": {
      "application/vnd.microsoft.datawrangler.viewer.v0+json": {
       "columns": [
        {
         "name": "index",
         "rawType": "int64",
         "type": "integer"
        },
        {
         "name": "A",
         "rawType": "float64",
         "type": "float"
        },
        {
         "name": "B",
         "rawType": "float64",
         "type": "float"
        }
       ],
       "ref": "934f0568-85f7-4142-aec8-6e61957acfd6",
       "rows": [
        [
         "0",
         "1.0",
         null
        ],
        [
         "1",
         "2.0",
         "2.0"
        ],
        [
         "2",
         "3.0",
         "3.0"
        ],
        [
         "3",
         "5.0",
         "4.0"
        ],
        [
         "4",
         "3.0",
         "6.0"
        ],
        [
         "5",
         "7.0",
         "8.0"
        ]
       ],
       "shape": {
        "columns": 2,
        "rows": 6
       }
      },
      "text/html": [
       "<div>\n",
       "<style scoped>\n",
       "    .dataframe tbody tr th:only-of-type {\n",
       "        vertical-align: middle;\n",
       "    }\n",
       "\n",
       "    .dataframe tbody tr th {\n",
       "        vertical-align: top;\n",
       "    }\n",
       "\n",
       "    .dataframe thead th {\n",
       "        text-align: right;\n",
       "    }\n",
       "</style>\n",
       "<table border=\"1\" class=\"dataframe\">\n",
       "  <thead>\n",
       "    <tr style=\"text-align: right;\">\n",
       "      <th></th>\n",
       "      <th>A</th>\n",
       "      <th>B</th>\n",
       "    </tr>\n",
       "  </thead>\n",
       "  <tbody>\n",
       "    <tr>\n",
       "      <th>0</th>\n",
       "      <td>1.0</td>\n",
       "      <td>NaN</td>\n",
       "    </tr>\n",
       "    <tr>\n",
       "      <th>1</th>\n",
       "      <td>2.0</td>\n",
       "      <td>2.0</td>\n",
       "    </tr>\n",
       "    <tr>\n",
       "      <th>2</th>\n",
       "      <td>3.0</td>\n",
       "      <td>3.0</td>\n",
       "    </tr>\n",
       "    <tr>\n",
       "      <th>3</th>\n",
       "      <td>5.0</td>\n",
       "      <td>4.0</td>\n",
       "    </tr>\n",
       "    <tr>\n",
       "      <th>4</th>\n",
       "      <td>3.0</td>\n",
       "      <td>6.0</td>\n",
       "    </tr>\n",
       "    <tr>\n",
       "      <th>5</th>\n",
       "      <td>7.0</td>\n",
       "      <td>8.0</td>\n",
       "    </tr>\n",
       "  </tbody>\n",
       "</table>\n",
       "</div>"
      ],
      "text/plain": [
       "     A    B\n",
       "0  1.0  NaN\n",
       "1  2.0  2.0\n",
       "2  3.0  3.0\n",
       "3  5.0  4.0\n",
       "4  3.0  6.0\n",
       "5  7.0  8.0"
      ]
     },
     "execution_count": 57,
     "metadata": {},
     "output_type": "execute_result"
    }
   ],
   "source": [
    "def combiner(x, y):\n",
    "    return np.where(pd.isna(x), y, x)\n",
    "\n",
    "df1.combine(df2, combiner)"
   ]
  },
  {
   "cell_type": "code",
   "execution_count": 58,
   "id": "078b4d7d",
   "metadata": {},
   "outputs": [],
   "source": [
    "import pandas as pd\n",
    "import numpy as np\n",
    "\n",
    "# Portfolio data from two different sources\n",
    "portfolio_q1 = pd.DataFrame({\n",
    "    'stock': ['AAPL', 'GOOGL', 'MSFT', 'TSLA'],\n",
    "    'price': [150.0, np.nan, 250.0, 800.0],\n",
    "    'volume': [1000, 1500, np.nan, 500],\n",
    "    'rating': ['A', 'B+', np.nan, 'C']\n",
    "})\n",
    "\n",
    "portfolio_q2 = pd.DataFrame({\n",
    "    'stock': ['AAPL', 'GOOGL', 'MSFT', 'AMZN'],  # TSLA dropped, AMZN added\n",
    "    'price': [155.0, 2800.0, 245.0, 3200.0],\n",
    "    'volume': [1200, 1800, 2000, 800],\n",
    "    'rating': ['A+', 'A', 'B', 'A']\n",
    "})"
   ]
  },
  {
   "cell_type": "code",
   "execution_count": 68,
   "id": "0dab780e",
   "metadata": {},
   "outputs": [
    {
     "data": {
      "application/vnd.microsoft.datawrangler.viewer.v0+json": {
       "columns": [
        {
         "name": "index",
         "rawType": "int64",
         "type": "integer"
        },
        {
         "name": "stock",
         "rawType": "object",
         "type": "string"
        },
        {
         "name": "price",
         "rawType": "float64",
         "type": "float"
        },
        {
         "name": "volume",
         "rawType": "float64",
         "type": "float"
        }
       ],
       "ref": "e4287b59-e22d-43c2-967b-eceb4f9a2638",
       "rows": [
        [
         "0",
         "AAPL",
         "155.0",
         "1200.0"
        ],
        [
         "1",
         "GOOGL",
         "2800.0",
         "1800.0"
        ],
        [
         "2",
         "MSFT",
         "250.0",
         "2000.0"
        ],
        [
         "3",
         "TSLA",
         "3200.0",
         "800.0"
        ]
       ],
       "shape": {
        "columns": 3,
        "rows": 4
       }
      },
      "text/html": [
       "<div>\n",
       "<style scoped>\n",
       "    .dataframe tbody tr th:only-of-type {\n",
       "        vertical-align: middle;\n",
       "    }\n",
       "\n",
       "    .dataframe tbody tr th {\n",
       "        vertical-align: top;\n",
       "    }\n",
       "\n",
       "    .dataframe thead th {\n",
       "        text-align: right;\n",
       "    }\n",
       "</style>\n",
       "<table border=\"1\" class=\"dataframe\">\n",
       "  <thead>\n",
       "    <tr style=\"text-align: right;\">\n",
       "      <th></th>\n",
       "      <th>stock</th>\n",
       "      <th>price</th>\n",
       "      <th>volume</th>\n",
       "    </tr>\n",
       "  </thead>\n",
       "  <tbody>\n",
       "    <tr>\n",
       "      <th>0</th>\n",
       "      <td>AAPL</td>\n",
       "      <td>155.0</td>\n",
       "      <td>1200.0</td>\n",
       "    </tr>\n",
       "    <tr>\n",
       "      <th>1</th>\n",
       "      <td>GOOGL</td>\n",
       "      <td>2800.0</td>\n",
       "      <td>1800.0</td>\n",
       "    </tr>\n",
       "    <tr>\n",
       "      <th>2</th>\n",
       "      <td>MSFT</td>\n",
       "      <td>250.0</td>\n",
       "      <td>2000.0</td>\n",
       "    </tr>\n",
       "    <tr>\n",
       "      <th>3</th>\n",
       "      <td>TSLA</td>\n",
       "      <td>3200.0</td>\n",
       "      <td>800.0</td>\n",
       "    </tr>\n",
       "  </tbody>\n",
       "</table>\n",
       "</div>"
      ],
      "text/plain": [
       "   stock   price  volume\n",
       "0   AAPL   155.0  1200.0\n",
       "1  GOOGL  2800.0  1800.0\n",
       "2   MSFT   250.0  2000.0\n",
       "3   TSLA  3200.0   800.0"
      ]
     },
     "execution_count": 68,
     "metadata": {},
     "output_type": "execute_result"
    }
   ],
   "source": [
    "def smart_combiner(x, y):\n",
    "    \"\"\"\n",
    "    Vectorized combiner using np.where\n",
    "    \"\"\"\n",
    "    # Handle all NaN case\n",
    "    both_nan = pd.isna(x) & pd.isna(y)  # Use & instead of 'and'\n",
    "    x_nan = pd.isna(x) & ~pd.isna(y)\n",
    "    y_nan = pd.isna(y) & ~pd.isna(x)\n",
    "    both_exist = ~pd.isna(x) & ~pd.isna(y)\n",
    "    \n",
    "    # Apply logic vectorized\n",
    "    return np.where(both_nan, np.nan,\n",
    "           np.where(x_nan, y,\n",
    "           np.where(y_nan, x,\n",
    "           np.maximum(x, y))))  # Take max when both exist\n",
    "\n",
    "# Apply the combiner\n",
    "result = portfolio_q1[[\"stock\", \"price\", \"volume\"]].combine(portfolio_q2[[\"stock\", \"price\", \"volume\"]], smart_combiner)\n",
    "result"
   ]
  },
  {
   "cell_type": "code",
   "execution_count": null,
   "id": "c65f8070",
   "metadata": {},
   "outputs": [
    {
     "data": {
      "application/vnd.microsoft.datawrangler.viewer.v0+json": {
       "columns": [
        {
         "name": "index",
         "rawType": "int64",
         "type": "integer"
        },
        {
         "name": "price",
         "rawType": "float64",
         "type": "float"
        },
        {
         "name": "volume",
         "rawType": "float64",
         "type": "float"
        }
       ],
       "ref": "bc3437ae-2ac8-44a8-8120-8c4f311b6a47",
       "rows": [
        [
         "0",
         "155.0",
         "1000.0"
        ],
        [
         "1",
         "2800.0",
         "1500.0"
        ],
        [
         "2",
         "250.0",
         null
        ],
        [
         "3",
         "3200.0",
         "500.0"
        ]
       ],
       "shape": {
        "columns": 2,
        "rows": 4
       }
      },
      "text/html": [
       "<div>\n",
       "<style scoped>\n",
       "    .dataframe tbody tr th:only-of-type {\n",
       "        vertical-align: middle;\n",
       "    }\n",
       "\n",
       "    .dataframe tbody tr th {\n",
       "        vertical-align: top;\n",
       "    }\n",
       "\n",
       "    .dataframe thead th {\n",
       "        text-align: right;\n",
       "    }\n",
       "</style>\n",
       "<table border=\"1\" class=\"dataframe\">\n",
       "  <thead>\n",
       "    <tr style=\"text-align: right;\">\n",
       "      <th></th>\n",
       "      <th>price</th>\n",
       "      <th>volume</th>\n",
       "    </tr>\n",
       "  </thead>\n",
       "  <tbody>\n",
       "    <tr>\n",
       "      <th>0</th>\n",
       "      <td>155.0</td>\n",
       "      <td>1000.0</td>\n",
       "    </tr>\n",
       "    <tr>\n",
       "      <th>1</th>\n",
       "      <td>2800.0</td>\n",
       "      <td>1500.0</td>\n",
       "    </tr>\n",
       "    <tr>\n",
       "      <th>2</th>\n",
       "      <td>250.0</td>\n",
       "      <td>NaN</td>\n",
       "    </tr>\n",
       "    <tr>\n",
       "      <th>3</th>\n",
       "      <td>3200.0</td>\n",
       "      <td>500.0</td>\n",
       "    </tr>\n",
       "  </tbody>\n",
       "</table>\n",
       "</div>"
      ],
      "text/plain": [
       "    price  volume\n",
       "0   155.0  1000.0\n",
       "1  2800.0  1500.0\n",
       "2   250.0     NaN\n",
       "3  3200.0   500.0"
      ]
     },
     "execution_count": 71,
     "metadata": {},
     "output_type": "execute_result"
    }
   ],
   "source": [
    "result2 = portfolio_q1[[\"price\", \"volume\"]].combine(\n",
    "    portfolio_q2[[\"price\"]],\n",
    "    lambda s1, s2: pd.Series(np.fmax(s1, s2), index=s1.index)\n",
    ")\n",
    "result2"
   ]
  },
  {
   "cell_type": "code",
   "execution_count": 72,
   "id": "48da7af2",
   "metadata": {},
   "outputs": [
    {
     "data": {
      "application/vnd.microsoft.datawrangler.viewer.v0+json": {
       "columns": [
        {
         "name": "index",
         "rawType": "object",
         "type": "string"
        },
        {
         "name": "one",
         "rawType": "float64",
         "type": "float"
        },
        {
         "name": "two",
         "rawType": "float64",
         "type": "float"
        },
        {
         "name": "three",
         "rawType": "float64",
         "type": "float"
        }
       ],
       "ref": "eba72bfa-1391-4b78-8075-43b32b7ffff1",
       "rows": [
        [
         "a",
         "-0.5630048723451758",
         "-0.6973664495185574",
         null
        ],
        [
         "b",
         "1.2084689573384333",
         "1.0754820475529203",
         "0.38372477122442256"
        ],
        [
         "c",
         "-1.5997929889457378",
         "-0.9910705050119848",
         "-0.6576757145086247"
        ],
        [
         "d",
         null,
         "0.8313391395623884",
         "0.37445530804131727"
        ]
       ],
       "shape": {
        "columns": 3,
        "rows": 4
       }
      },
      "text/html": [
       "<div>\n",
       "<style scoped>\n",
       "    .dataframe tbody tr th:only-of-type {\n",
       "        vertical-align: middle;\n",
       "    }\n",
       "\n",
       "    .dataframe tbody tr th {\n",
       "        vertical-align: top;\n",
       "    }\n",
       "\n",
       "    .dataframe thead th {\n",
       "        text-align: right;\n",
       "    }\n",
       "</style>\n",
       "<table border=\"1\" class=\"dataframe\">\n",
       "  <thead>\n",
       "    <tr style=\"text-align: right;\">\n",
       "      <th></th>\n",
       "      <th>one</th>\n",
       "      <th>two</th>\n",
       "      <th>three</th>\n",
       "    </tr>\n",
       "  </thead>\n",
       "  <tbody>\n",
       "    <tr>\n",
       "      <th>a</th>\n",
       "      <td>-0.563005</td>\n",
       "      <td>-0.697366</td>\n",
       "      <td>NaN</td>\n",
       "    </tr>\n",
       "    <tr>\n",
       "      <th>b</th>\n",
       "      <td>1.208469</td>\n",
       "      <td>1.075482</td>\n",
       "      <td>0.383725</td>\n",
       "    </tr>\n",
       "    <tr>\n",
       "      <th>c</th>\n",
       "      <td>-1.599793</td>\n",
       "      <td>-0.991071</td>\n",
       "      <td>-0.657676</td>\n",
       "    </tr>\n",
       "    <tr>\n",
       "      <th>d</th>\n",
       "      <td>NaN</td>\n",
       "      <td>0.831339</td>\n",
       "      <td>0.374455</td>\n",
       "    </tr>\n",
       "  </tbody>\n",
       "</table>\n",
       "</div>"
      ],
      "text/plain": [
       "        one       two     three\n",
       "a -0.563005 -0.697366       NaN\n",
       "b  1.208469  1.075482  0.383725\n",
       "c -1.599793 -0.991071 -0.657676\n",
       "d       NaN  0.831339  0.374455"
      ]
     },
     "execution_count": 72,
     "metadata": {},
     "output_type": "execute_result"
    }
   ],
   "source": [
    "df"
   ]
  },
  {
   "cell_type": "code",
   "execution_count": 73,
   "id": "150909f9",
   "metadata": {},
   "outputs": [
    {
     "data": {
      "application/vnd.microsoft.datawrangler.viewer.v0+json": {
       "columns": [
        {
         "name": "index",
         "rawType": "object",
         "type": "string"
        },
        {
         "name": "one",
         "rawType": "float64",
         "type": "float"
        },
        {
         "name": "two",
         "rawType": "float64",
         "type": "float"
        },
        {
         "name": "three",
         "rawType": "float64",
         "type": "float"
        }
       ],
       "ref": "13a415c6-b4de-495b-90fa-6e3c50032edb",
       "rows": [
        [
         "a",
         "-0.17245441997012664",
         "-0.7164901637871551",
         null
        ],
        [
         "b",
         "1.0750116176162594",
         "0.972727712222784",
         "0.5850756474381026"
        ],
        [
         "c",
         "-0.9025571976461327",
         "-0.9963393114247885",
         "-1.1546659261963825"
        ],
        [
         "d",
         null,
         "0.7401017629891599",
         "0.56959027875828"
        ]
       ],
       "shape": {
        "columns": 3,
        "rows": 4
       }
      },
      "text/html": [
       "<div>\n",
       "<style scoped>\n",
       "    .dataframe tbody tr th:only-of-type {\n",
       "        vertical-align: middle;\n",
       "    }\n",
       "\n",
       "    .dataframe tbody tr th {\n",
       "        vertical-align: top;\n",
       "    }\n",
       "\n",
       "    .dataframe thead th {\n",
       "        text-align: right;\n",
       "    }\n",
       "</style>\n",
       "<table border=\"1\" class=\"dataframe\">\n",
       "  <thead>\n",
       "    <tr style=\"text-align: right;\">\n",
       "      <th></th>\n",
       "      <th>one</th>\n",
       "      <th>two</th>\n",
       "      <th>three</th>\n",
       "    </tr>\n",
       "  </thead>\n",
       "  <tbody>\n",
       "    <tr>\n",
       "      <th>a</th>\n",
       "      <td>-0.172454</td>\n",
       "      <td>-0.716490</td>\n",
       "      <td>NaN</td>\n",
       "    </tr>\n",
       "    <tr>\n",
       "      <th>b</th>\n",
       "      <td>1.075012</td>\n",
       "      <td>0.972728</td>\n",
       "      <td>0.585076</td>\n",
       "    </tr>\n",
       "    <tr>\n",
       "      <th>c</th>\n",
       "      <td>-0.902557</td>\n",
       "      <td>-0.996339</td>\n",
       "      <td>-1.154666</td>\n",
       "    </tr>\n",
       "    <tr>\n",
       "      <th>d</th>\n",
       "      <td>NaN</td>\n",
       "      <td>0.740102</td>\n",
       "      <td>0.569590</td>\n",
       "    </tr>\n",
       "  </tbody>\n",
       "</table>\n",
       "</div>"
      ],
      "text/plain": [
       "        one       two     three\n",
       "a -0.172454 -0.716490       NaN\n",
       "b  1.075012  0.972728  0.585076\n",
       "c -0.902557 -0.996339 -1.154666\n",
       "d       NaN  0.740102  0.569590"
      ]
     },
     "execution_count": 73,
     "metadata": {},
     "output_type": "execute_result"
    }
   ],
   "source": [
    "df_std = (df - df.mean(0)) / df.std()\n",
    "df_std"
   ]
  },
  {
   "cell_type": "code",
   "execution_count": 76,
   "id": "fda603b7",
   "metadata": {},
   "outputs": [
    {
     "data": {
      "application/vnd.microsoft.datawrangler.viewer.v0+json": {
       "columns": [
        {
         "name": "index",
         "rawType": "int32",
         "type": "integer"
        },
        {
         "name": "count",
         "rawType": "int64",
         "type": "integer"
        }
       ],
       "ref": "b4ea9174-04dc-4d9d-a983-a872632b6a74",
       "rows": [
        [
         "2",
         "11"
        ],
        [
         "3",
         "10"
        ],
        [
         "5",
         "10"
        ],
        [
         "4",
         "6"
        ],
        [
         "0",
         "6"
        ],
        [
         "1",
         "4"
        ],
        [
         "6",
         "3"
        ]
       ],
       "shape": {
        "columns": 1,
        "rows": 7
       }
      },
      "text/plain": [
       "2    11\n",
       "3    10\n",
       "5    10\n",
       "4     6\n",
       "0     6\n",
       "1     4\n",
       "6     3\n",
       "Name: count, dtype: int64"
      ]
     },
     "execution_count": 76,
     "metadata": {},
     "output_type": "execute_result"
    }
   ],
   "source": [
    "s = pd.Series(np.random.randint(0, 7, size=50))\n",
    "s.value_counts()"
   ]
  },
  {
   "cell_type": "code",
   "execution_count": 88,
   "id": "64164cd9",
   "metadata": {},
   "outputs": [
    {
     "name": "stdout",
     "output_type": "stream",
     "text": [
      "(-0.0748, 0.566]     6\n",
      "(-0.715, -0.0748]    5\n",
      "(-1.359, -0.715]     3\n",
      "(0.566, 1.206]       3\n",
      "(1.206, 1.847]       3\n",
      "Name: count, dtype: int64\n"
     ]
    }
   ],
   "source": [
    "s = pd.Series(np.random.randn(20))\n",
    "count = pd.cut(s, 5).value_counts()\n",
    "print(count)"
   ]
  },
  {
   "cell_type": "code",
   "execution_count": 92,
   "id": "ef8847a1",
   "metadata": {},
   "outputs": [
    {
     "data": {
      "application/vnd.microsoft.datawrangler.viewer.v0+json": {
       "columns": [
        {
         "name": "index",
         "rawType": "category",
         "type": "unknown"
        },
        {
         "name": "count",
         "rawType": "int64",
         "type": "integer"
        }
       ],
       "ref": "c8ab085e-5f97-4861-b954-6521c6dbc786",
       "rows": [
        [
         "(-1.357, -0.559]",
         "4"
        ],
        [
         "(-0.559, -0.111]",
         "4"
        ],
        [
         "(-0.111, 0.292]",
         "4"
        ],
        [
         "(0.292, 0.942]",
         "4"
        ],
        [
         "(0.942, 1.847]",
         "4"
        ]
       ],
       "shape": {
        "columns": 1,
        "rows": 5
       }
      },
      "text/plain": [
       "(-1.357, -0.559]    4\n",
       "(-0.559, -0.111]    4\n",
       "(-0.111, 0.292]     4\n",
       "(0.292, 0.942]      4\n",
       "(0.942, 1.847]      4\n",
       "Name: count, dtype: int64"
      ]
     },
     "execution_count": 92,
     "metadata": {},
     "output_type": "execute_result"
    }
   ],
   "source": [
    "quntiles = pd.qcut(s, 5).value_counts()\n",
    "quntiles"
   ]
  },
  {
   "cell_type": "code",
   "execution_count": 93,
   "id": "ce053008",
   "metadata": {},
   "outputs": [
    {
     "data": {
      "application/vnd.microsoft.datawrangler.viewer.v0+json": {
       "columns": [
        {
         "name": "index",
         "rawType": "int64",
         "type": "integer"
        },
        {
         "name": "customer_id",
         "rawType": "int64",
         "type": "integer"
        },
        {
         "name": "age",
         "rawType": "int64",
         "type": "integer"
        },
        {
         "name": "income",
         "rawType": "int64",
         "type": "integer"
        },
        {
         "name": "purchase_amount",
         "rawType": "int64",
         "type": "integer"
        },
        {
         "name": "email",
         "rawType": "object",
         "type": "string"
        }
       ],
       "ref": "2cdff961-0576-4284-9716-1f3e22a6f9a8",
       "rows": [
        [
         "0",
         "1",
         "25",
         "45000",
         "120",
         "john@email.com"
        ],
        [
         "1",
         "2",
         "45",
         "75000",
         "450",
         "JANE@EMAIL.COM"
        ],
        [
         "2",
         "3",
         "35",
         "62000",
         "280",
         "bob@email.com"
        ],
        [
         "3",
         "4",
         "22",
         "38000",
         "95",
         "alice@EMAIL.COM"
        ],
        [
         "4",
         "5",
         "55",
         "95000",
         "680",
         "charlie@email.com"
        ],
        [
         "5",
         "6",
         "30",
         "51000",
         "200",
         "diana@EMAIL.COM"
        ]
       ],
       "shape": {
        "columns": 5,
        "rows": 6
       }
      },
      "text/html": [
       "<div>\n",
       "<style scoped>\n",
       "    .dataframe tbody tr th:only-of-type {\n",
       "        vertical-align: middle;\n",
       "    }\n",
       "\n",
       "    .dataframe tbody tr th {\n",
       "        vertical-align: top;\n",
       "    }\n",
       "\n",
       "    .dataframe thead th {\n",
       "        text-align: right;\n",
       "    }\n",
       "</style>\n",
       "<table border=\"1\" class=\"dataframe\">\n",
       "  <thead>\n",
       "    <tr style=\"text-align: right;\">\n",
       "      <th></th>\n",
       "      <th>customer_id</th>\n",
       "      <th>age</th>\n",
       "      <th>income</th>\n",
       "      <th>purchase_amount</th>\n",
       "      <th>email</th>\n",
       "    </tr>\n",
       "  </thead>\n",
       "  <tbody>\n",
       "    <tr>\n",
       "      <th>0</th>\n",
       "      <td>1</td>\n",
       "      <td>25</td>\n",
       "      <td>45000</td>\n",
       "      <td>120</td>\n",
       "      <td>john@email.com</td>\n",
       "    </tr>\n",
       "    <tr>\n",
       "      <th>1</th>\n",
       "      <td>2</td>\n",
       "      <td>45</td>\n",
       "      <td>75000</td>\n",
       "      <td>450</td>\n",
       "      <td>JANE@EMAIL.COM</td>\n",
       "    </tr>\n",
       "    <tr>\n",
       "      <th>2</th>\n",
       "      <td>3</td>\n",
       "      <td>35</td>\n",
       "      <td>62000</td>\n",
       "      <td>280</td>\n",
       "      <td>bob@email.com</td>\n",
       "    </tr>\n",
       "    <tr>\n",
       "      <th>3</th>\n",
       "      <td>4</td>\n",
       "      <td>22</td>\n",
       "      <td>38000</td>\n",
       "      <td>95</td>\n",
       "      <td>alice@EMAIL.COM</td>\n",
       "    </tr>\n",
       "    <tr>\n",
       "      <th>4</th>\n",
       "      <td>5</td>\n",
       "      <td>55</td>\n",
       "      <td>95000</td>\n",
       "      <td>680</td>\n",
       "      <td>charlie@email.com</td>\n",
       "    </tr>\n",
       "    <tr>\n",
       "      <th>5</th>\n",
       "      <td>6</td>\n",
       "      <td>30</td>\n",
       "      <td>51000</td>\n",
       "      <td>200</td>\n",
       "      <td>diana@EMAIL.COM</td>\n",
       "    </tr>\n",
       "  </tbody>\n",
       "</table>\n",
       "</div>"
      ],
      "text/plain": [
       "   customer_id  age  income  purchase_amount              email\n",
       "0            1   25   45000              120     john@email.com\n",
       "1            2   45   75000              450     JANE@EMAIL.COM\n",
       "2            3   35   62000              280      bob@email.com\n",
       "3            4   22   38000               95    alice@EMAIL.COM\n",
       "4            5   55   95000              680  charlie@email.com\n",
       "5            6   30   51000              200    diana@EMAIL.COM"
      ]
     },
     "execution_count": 93,
     "metadata": {},
     "output_type": "execute_result"
    }
   ],
   "source": [
    "customers = pd.DataFrame({\n",
    "    'customer_id': [1, 2, 3, 4, 5, 6],\n",
    "    'age': [25, 45, 35, 22, 55, 30],\n",
    "    'income': [45000, 75000, 62000, 38000, 95000, 51000],\n",
    "    'purchase_amount': [120, 450, 280, 95, 680, 200],\n",
    "    'email': ['john@email.com', 'JANE@EMAIL.COM', 'bob@email.com', \n",
    "              'alice@EMAIL.COM', 'charlie@email.com', 'diana@EMAIL.COM']\n",
    "})\n",
    "customers"
   ]
  },
  {
   "cell_type": "code",
   "execution_count": 106,
   "id": "f7b39683",
   "metadata": {},
   "outputs": [
    {
     "data": {
      "application/vnd.microsoft.datawrangler.viewer.v0+json": {
       "columns": [
        {
         "name": "index",
         "rawType": "int64",
         "type": "integer"
        },
        {
         "name": "customer_id",
         "rawType": "int64",
         "type": "integer"
        },
        {
         "name": "email",
         "rawType": "object",
         "type": "string"
        },
        {
         "name": "age_group",
         "rawType": "category",
         "type": "unknown"
        },
        {
         "name": "income_tier",
         "rawType": "category",
         "type": "unknown"
        },
        {
         "name": "purchase_per_income",
         "rawType": "float64",
         "type": "float"
        },
        {
         "name": "high_value",
         "rawType": "bool",
         "type": "boolean"
        }
       ],
       "ref": "85e2fa02-0ff3-4160-b0f5-ed6bde7d4623",
       "rows": [
        [
         "0",
         "1",
         "john@email.com",
         "Young",
         "Low",
         "0.0026666666666666666",
         "False"
        ],
        [
         "1",
         "2",
         "jane@email.com",
         "Middle",
         "Medium",
         "0.006",
         "True"
        ],
        [
         "2",
         "3",
         "bob@email.com",
         "Middle",
         "Medium",
         "0.004516129032258065",
         "True"
        ],
        [
         "3",
         "4",
         "alice@email.com",
         "Young",
         "Low",
         "0.0025",
         "False"
        ],
        [
         "4",
         "5",
         "charlie@email.com",
         "Senior",
         "High",
         "0.007157894736842105",
         "True"
        ],
        [
         "5",
         "6",
         "diana@email.com",
         "Young",
         "Medium",
         "0.00392156862745098",
         "False"
        ]
       ],
       "shape": {
        "columns": 6,
        "rows": 6
       }
      },
      "text/html": [
       "<div>\n",
       "<style scoped>\n",
       "    .dataframe tbody tr th:only-of-type {\n",
       "        vertical-align: middle;\n",
       "    }\n",
       "\n",
       "    .dataframe tbody tr th {\n",
       "        vertical-align: top;\n",
       "    }\n",
       "\n",
       "    .dataframe thead th {\n",
       "        text-align: right;\n",
       "    }\n",
       "</style>\n",
       "<table border=\"1\" class=\"dataframe\">\n",
       "  <thead>\n",
       "    <tr style=\"text-align: right;\">\n",
       "      <th></th>\n",
       "      <th>customer_id</th>\n",
       "      <th>email</th>\n",
       "      <th>age_group</th>\n",
       "      <th>income_tier</th>\n",
       "      <th>purchase_per_income</th>\n",
       "      <th>high_value</th>\n",
       "    </tr>\n",
       "  </thead>\n",
       "  <tbody>\n",
       "    <tr>\n",
       "      <th>0</th>\n",
       "      <td>1</td>\n",
       "      <td>john@email.com</td>\n",
       "      <td>Young</td>\n",
       "      <td>Low</td>\n",
       "      <td>0.002667</td>\n",
       "      <td>False</td>\n",
       "    </tr>\n",
       "    <tr>\n",
       "      <th>1</th>\n",
       "      <td>2</td>\n",
       "      <td>jane@email.com</td>\n",
       "      <td>Middle</td>\n",
       "      <td>Medium</td>\n",
       "      <td>0.006000</td>\n",
       "      <td>True</td>\n",
       "    </tr>\n",
       "    <tr>\n",
       "      <th>2</th>\n",
       "      <td>3</td>\n",
       "      <td>bob@email.com</td>\n",
       "      <td>Middle</td>\n",
       "      <td>Medium</td>\n",
       "      <td>0.004516</td>\n",
       "      <td>True</td>\n",
       "    </tr>\n",
       "    <tr>\n",
       "      <th>3</th>\n",
       "      <td>4</td>\n",
       "      <td>alice@email.com</td>\n",
       "      <td>Young</td>\n",
       "      <td>Low</td>\n",
       "      <td>0.002500</td>\n",
       "      <td>False</td>\n",
       "    </tr>\n",
       "    <tr>\n",
       "      <th>4</th>\n",
       "      <td>5</td>\n",
       "      <td>charlie@email.com</td>\n",
       "      <td>Senior</td>\n",
       "      <td>High</td>\n",
       "      <td>0.007158</td>\n",
       "      <td>True</td>\n",
       "    </tr>\n",
       "    <tr>\n",
       "      <th>5</th>\n",
       "      <td>6</td>\n",
       "      <td>diana@email.com</td>\n",
       "      <td>Young</td>\n",
       "      <td>Medium</td>\n",
       "      <td>0.003922</td>\n",
       "      <td>False</td>\n",
       "    </tr>\n",
       "  </tbody>\n",
       "</table>\n",
       "</div>"
      ],
      "text/plain": [
       "   customer_id              email age_group income_tier  purchase_per_income  \\\n",
       "0            1     john@email.com     Young         Low             0.002667   \n",
       "1            2     jane@email.com    Middle      Medium             0.006000   \n",
       "2            3      bob@email.com    Middle      Medium             0.004516   \n",
       "3            4    alice@email.com     Young         Low             0.002500   \n",
       "4            5  charlie@email.com    Senior        High             0.007158   \n",
       "5            6    diana@email.com     Young      Medium             0.003922   \n",
       "\n",
       "   high_value  \n",
       "0       False  \n",
       "1        True  \n",
       "2        True  \n",
       "3       False  \n",
       "4        True  \n",
       "5       False  "
      ]
     },
     "execution_count": 106,
     "metadata": {},
     "output_type": "execute_result"
    }
   ],
   "source": [
    "def standardize_email(df):\n",
    "    \"\"\"Convert all emails to lowercase\"\"\"\n",
    "    df_copy = df.copy()\n",
    "    df_copy[\"email\"] = df_copy[\"email\"].str.lower()\n",
    "    return df_copy\n",
    "\n",
    "\n",
    "def add_customer_segment(df):\n",
    "    \"\"\"Add customer segments based on income and age\"\"\"\n",
    "    df_copy = df.copy()\n",
    "    df_copy[\"age_group\"] = pd.cut(\n",
    "        df_copy[\"age\"], bins=[0, 30, 50, 100], labels=[\"Young\", \"Middle\", \"Senior\"])\n",
    "    df_copy['income_tier'] = pd.cut(df_copy['income'], \n",
    "                                    bins=[0, 50000, 80000, float('inf')], \n",
    "                                    labels=['Low', 'Medium', 'High'])\n",
    "    return df_copy\n",
    "\n",
    "def calculate_metrics(df):\n",
    "    df_copy = df.copy()\n",
    "    df_copy[\"purchase_per_income\"] = df_copy[\"purchase_amount\"] / df_copy[\"income\"]\n",
    "    df_copy['high_value'] = df_copy['purchase_amount'] > df_copy['purchase_amount'].median()\n",
    "    return df_copy\n",
    "\n",
    "processed_customers = (\n",
    "    customers\n",
    "    .pipe(standardize_email)\n",
    "    .pipe(add_customer_segment)\n",
    "    .pipe(calculate_metrics)\n",
    ")\n",
    "\n",
    "processed_customers = processed_customers.drop([\"age\", \"income\", \"purchase_amount\"], axis=1)\n",
    "processed_customers"
   ]
  },
  {
   "cell_type": "code",
   "execution_count": 108,
   "id": "3368e922",
   "metadata": {},
   "outputs": [],
   "source": [
    "# import statsmodels\n",
    "import statsmodels.formula.api as sm"
   ]
  },
  {
   "cell_type": "code",
   "execution_count": 111,
   "id": "bce267ff",
   "metadata": {},
   "outputs": [
    {
     "data": {
      "text/html": [
       "<table class=\"simpletable\">\n",
       "<caption>OLS Regression Results</caption>\n",
       "<tr>\n",
       "  <th>Dep. Variable:</th>           <td>hr</td>        <th>  R-squared:         </th> <td>   0.685</td>\n",
       "</tr>\n",
       "<tr>\n",
       "  <th>Model:</th>                   <td>OLS</td>       <th>  Adj. R-squared:    </th> <td>   0.665</td>\n",
       "</tr>\n",
       "<tr>\n",
       "  <th>Method:</th>             <td>Least Squares</td>  <th>  F-statistic:       </th> <td>   34.28</td>\n",
       "</tr>\n",
       "<tr>\n",
       "  <th>Date:</th>             <td>Wed, 24 Sep 2025</td> <th>  Prob (F-statistic):</th> <td>3.48e-15</td>\n",
       "</tr>\n",
       "<tr>\n",
       "  <th>Time:</th>                 <td>21:51:15</td>     <th>  Log-Likelihood:    </th> <td> -205.92</td>\n",
       "</tr>\n",
       "<tr>\n",
       "  <th>No. Observations:</th>      <td>    68</td>      <th>  AIC:               </th> <td>   421.8</td>\n",
       "</tr>\n",
       "<tr>\n",
       "  <th>Df Residuals:</th>          <td>    63</td>      <th>  BIC:               </th> <td>   432.9</td>\n",
       "</tr>\n",
       "<tr>\n",
       "  <th>Df Model:</th>              <td>     4</td>      <th>                     </th>     <td> </td>   \n",
       "</tr>\n",
       "<tr>\n",
       "  <th>Covariance Type:</th>      <td>nonrobust</td>    <th>                     </th>     <td> </td>   \n",
       "</tr>\n",
       "</table>\n",
       "<table class=\"simpletable\">\n",
       "<tr>\n",
       "       <td></td>          <th>coef</th>     <th>std err</th>      <th>t</th>      <th>P>|t|</th>  <th>[0.025</th>    <th>0.975]</th>  \n",
       "</tr>\n",
       "<tr>\n",
       "  <th>Intercept</th>   <td>-8484.7720</td> <td> 4664.146</td> <td>   -1.819</td> <td> 0.074</td> <td>-1.78e+04</td> <td>  835.780</td>\n",
       "</tr>\n",
       "<tr>\n",
       "  <th>C(lg)[T.NL]</th> <td>   -2.2736</td> <td>    1.325</td> <td>   -1.716</td> <td> 0.091</td> <td>   -4.922</td> <td>    0.375</td>\n",
       "</tr>\n",
       "<tr>\n",
       "  <th>ln_h</th>        <td>   -1.3542</td> <td>    0.875</td> <td>   -1.547</td> <td> 0.127</td> <td>   -3.103</td> <td>    0.395</td>\n",
       "</tr>\n",
       "<tr>\n",
       "  <th>year</th>        <td>    4.2277</td> <td>    2.324</td> <td>    1.819</td> <td> 0.074</td> <td>   -0.417</td> <td>    8.872</td>\n",
       "</tr>\n",
       "<tr>\n",
       "  <th>g</th>           <td>    0.1841</td> <td>    0.029</td> <td>    6.258</td> <td> 0.000</td> <td>    0.125</td> <td>    0.243</td>\n",
       "</tr>\n",
       "</table>\n",
       "<table class=\"simpletable\">\n",
       "<tr>\n",
       "  <th>Omnibus:</th>       <td>10.875</td> <th>  Durbin-Watson:     </th> <td>   1.999</td>\n",
       "</tr>\n",
       "<tr>\n",
       "  <th>Prob(Omnibus):</th> <td> 0.004</td> <th>  Jarque-Bera (JB):  </th> <td>  17.298</td>\n",
       "</tr>\n",
       "<tr>\n",
       "  <th>Skew:</th>          <td> 0.537</td> <th>  Prob(JB):          </th> <td>0.000175</td>\n",
       "</tr>\n",
       "<tr>\n",
       "  <th>Kurtosis:</th>      <td> 5.225</td> <th>  Cond. No.          </th> <td>1.49e+07</td>\n",
       "</tr>\n",
       "</table><br/><br/>Notes:<br/>[1] Standard Errors assume that the covariance matrix of the errors is correctly specified.<br/>[2] The condition number is large, 1.49e+07. This might indicate that there are<br/>strong multicollinearity or other numerical problems."
      ],
      "text/latex": [
       "\\begin{center}\n",
       "\\begin{tabular}{lclc}\n",
       "\\toprule\n",
       "\\textbf{Dep. Variable:}    &        hr        & \\textbf{  R-squared:         } &     0.685   \\\\\n",
       "\\textbf{Model:}            &       OLS        & \\textbf{  Adj. R-squared:    } &     0.665   \\\\\n",
       "\\textbf{Method:}           &  Least Squares   & \\textbf{  F-statistic:       } &     34.28   \\\\\n",
       "\\textbf{Date:}             & Wed, 24 Sep 2025 & \\textbf{  Prob (F-statistic):} &  3.48e-15   \\\\\n",
       "\\textbf{Time:}             &     21:51:15     & \\textbf{  Log-Likelihood:    } &   -205.92   \\\\\n",
       "\\textbf{No. Observations:} &          68      & \\textbf{  AIC:               } &     421.8   \\\\\n",
       "\\textbf{Df Residuals:}     &          63      & \\textbf{  BIC:               } &     432.9   \\\\\n",
       "\\textbf{Df Model:}         &           4      & \\textbf{                     } &             \\\\\n",
       "\\textbf{Covariance Type:}  &    nonrobust     & \\textbf{                     } &             \\\\\n",
       "\\bottomrule\n",
       "\\end{tabular}\n",
       "\\begin{tabular}{lcccccc}\n",
       "                     & \\textbf{coef} & \\textbf{std err} & \\textbf{t} & \\textbf{P$> |$t$|$} & \\textbf{[0.025} & \\textbf{0.975]}  \\\\\n",
       "\\midrule\n",
       "\\textbf{Intercept}   &   -8484.7720  &     4664.146     &    -1.819  &         0.074        &    -1.78e+04    &      835.780     \\\\\n",
       "\\textbf{C(lg)[T.NL]} &      -2.2736  &        1.325     &    -1.716  &         0.091        &       -4.922    &        0.375     \\\\\n",
       "\\textbf{ln\\_h}       &      -1.3542  &        0.875     &    -1.547  &         0.127        &       -3.103    &        0.395     \\\\\n",
       "\\textbf{year}        &       4.2277  &        2.324     &     1.819  &         0.074        &       -0.417    &        8.872     \\\\\n",
       "\\textbf{g}           &       0.1841  &        0.029     &     6.258  &         0.000        &        0.125    &        0.243     \\\\\n",
       "\\bottomrule\n",
       "\\end{tabular}\n",
       "\\begin{tabular}{lclc}\n",
       "\\textbf{Omnibus:}       & 10.875 & \\textbf{  Durbin-Watson:     } &    1.999  \\\\\n",
       "\\textbf{Prob(Omnibus):} &  0.004 & \\textbf{  Jarque-Bera (JB):  } &   17.298  \\\\\n",
       "\\textbf{Skew:}          &  0.537 & \\textbf{  Prob(JB):          } & 0.000175  \\\\\n",
       "\\textbf{Kurtosis:}      &  5.225 & \\textbf{  Cond. No.          } & 1.49e+07  \\\\\n",
       "\\bottomrule\n",
       "\\end{tabular}\n",
       "%\\caption{OLS Regression Results}\n",
       "\\end{center}\n",
       "\n",
       "Notes: \\newline\n",
       " [1] Standard Errors assume that the covariance matrix of the errors is correctly specified. \\newline\n",
       " [2] The condition number is large, 1.49e+07. This might indicate that there are \\newline\n",
       " strong multicollinearity or other numerical problems."
      ],
      "text/plain": [
       "<class 'statsmodels.iolib.summary.Summary'>\n",
       "\"\"\"\n",
       "                            OLS Regression Results                            \n",
       "==============================================================================\n",
       "Dep. Variable:                     hr   R-squared:                       0.685\n",
       "Model:                            OLS   Adj. R-squared:                  0.665\n",
       "Method:                 Least Squares   F-statistic:                     34.28\n",
       "Date:                Wed, 24 Sep 2025   Prob (F-statistic):           3.48e-15\n",
       "Time:                        21:51:15   Log-Likelihood:                -205.92\n",
       "No. Observations:                  68   AIC:                             421.8\n",
       "Df Residuals:                      63   BIC:                             432.9\n",
       "Df Model:                           4                                         \n",
       "Covariance Type:            nonrobust                                         \n",
       "===============================================================================\n",
       "                  coef    std err          t      P>|t|      [0.025      0.975]\n",
       "-------------------------------------------------------------------------------\n",
       "Intercept   -8484.7720   4664.146     -1.819      0.074   -1.78e+04     835.780\n",
       "C(lg)[T.NL]    -2.2736      1.325     -1.716      0.091      -4.922       0.375\n",
       "ln_h           -1.3542      0.875     -1.547      0.127      -3.103       0.395\n",
       "year            4.2277      2.324      1.819      0.074      -0.417       8.872\n",
       "g               0.1841      0.029      6.258      0.000       0.125       0.243\n",
       "==============================================================================\n",
       "Omnibus:                       10.875   Durbin-Watson:                   1.999\n",
       "Prob(Omnibus):                  0.004   Jarque-Bera (JB):               17.298\n",
       "Skew:                           0.537   Prob(JB):                     0.000175\n",
       "Kurtosis:                       5.225   Cond. No.                     1.49e+07\n",
       "==============================================================================\n",
       "\n",
       "Notes:\n",
       "[1] Standard Errors assume that the covariance matrix of the errors is correctly specified.\n",
       "[2] The condition number is large, 1.49e+07. This might indicate that there are\n",
       "strong multicollinearity or other numerical problems.\n",
       "\"\"\""
      ]
     },
     "execution_count": 111,
     "metadata": {},
     "output_type": "execute_result"
    }
   ],
   "source": [
    "# load baseball data\n",
    "baseball = pd.read_csv(\"data/baseball.csv\", index_col=\"id\")\n",
    "\n",
    "# fit a regression model\n",
    "(\n",
    "    baseball.query(\"h > 0\")\n",
    "    .assign(ln_h=lambda df: np.log(df.h))\n",
    "    .pipe((sm.ols, \"data\"), \"hr ~ ln_h + year + g + C(lg)\")\n",
    "    .fit()\n",
    "    .summary()\n",
    ")"
   ]
  },
  {
   "cell_type": "code",
   "execution_count": 112,
   "id": "759877d3",
   "metadata": {},
   "outputs": [
    {
     "data": {
      "application/vnd.microsoft.datawrangler.viewer.v0+json": {
       "columns": [
        {
         "name": "index",
         "rawType": "object",
         "type": "string"
        },
        {
         "name": "one",
         "rawType": "float64",
         "type": "float"
        },
        {
         "name": "two",
         "rawType": "float64",
         "type": "float"
        },
        {
         "name": "three",
         "rawType": "float64",
         "type": "float"
        }
       ],
       "ref": "7f63d49d-2512-47fc-9b00-9f52c20529cf",
       "rows": [
        [
         "a",
         "-0.5630048723451758",
         "-0.6973664495185574",
         null
        ],
        [
         "b",
         "1.2084689573384333",
         "1.0754820475529203",
         "0.38372477122442256"
        ],
        [
         "c",
         "-1.5997929889457378",
         "-0.9910705050119848",
         "-0.6576757145086247"
        ],
        [
         "d",
         null,
         "0.8313391395623884",
         "0.37445530804131727"
        ]
       ],
       "shape": {
        "columns": 3,
        "rows": 4
       }
      },
      "text/html": [
       "<div>\n",
       "<style scoped>\n",
       "    .dataframe tbody tr th:only-of-type {\n",
       "        vertical-align: middle;\n",
       "    }\n",
       "\n",
       "    .dataframe tbody tr th {\n",
       "        vertical-align: top;\n",
       "    }\n",
       "\n",
       "    .dataframe thead th {\n",
       "        text-align: right;\n",
       "    }\n",
       "</style>\n",
       "<table border=\"1\" class=\"dataframe\">\n",
       "  <thead>\n",
       "    <tr style=\"text-align: right;\">\n",
       "      <th></th>\n",
       "      <th>one</th>\n",
       "      <th>two</th>\n",
       "      <th>three</th>\n",
       "    </tr>\n",
       "  </thead>\n",
       "  <tbody>\n",
       "    <tr>\n",
       "      <th>a</th>\n",
       "      <td>-0.563005</td>\n",
       "      <td>-0.697366</td>\n",
       "      <td>NaN</td>\n",
       "    </tr>\n",
       "    <tr>\n",
       "      <th>b</th>\n",
       "      <td>1.208469</td>\n",
       "      <td>1.075482</td>\n",
       "      <td>0.383725</td>\n",
       "    </tr>\n",
       "    <tr>\n",
       "      <th>c</th>\n",
       "      <td>-1.599793</td>\n",
       "      <td>-0.991071</td>\n",
       "      <td>-0.657676</td>\n",
       "    </tr>\n",
       "    <tr>\n",
       "      <th>d</th>\n",
       "      <td>NaN</td>\n",
       "      <td>0.831339</td>\n",
       "      <td>0.374455</td>\n",
       "    </tr>\n",
       "  </tbody>\n",
       "</table>\n",
       "</div>"
      ],
      "text/plain": [
       "        one       two     three\n",
       "a -0.563005 -0.697366       NaN\n",
       "b  1.208469  1.075482  0.383725\n",
       "c -1.599793 -0.991071 -0.657676\n",
       "d       NaN  0.831339  0.374455"
      ]
     },
     "execution_count": 112,
     "metadata": {},
     "output_type": "execute_result"
    }
   ],
   "source": [
    "df"
   ]
  },
  {
   "cell_type": "code",
   "execution_count": 113,
   "id": "79b0e460",
   "metadata": {},
   "outputs": [
    {
     "data": {
      "application/vnd.microsoft.datawrangler.viewer.v0+json": {
       "columns": [
        {
         "name": "index",
         "rawType": "object",
         "type": "string"
        },
        {
         "name": "0",
         "rawType": "float64",
         "type": "float"
        }
       ],
       "ref": "f8b4a6b8-2274-4280-aa9a-25ef2623b876",
       "rows": [
        [
         "one",
         "-0.3181096346508268"
        ],
        [
         "two",
         "0.05459605814619162"
        ],
        [
         "three",
         "0.033501454919038366"
        ]
       ],
       "shape": {
        "columns": 1,
        "rows": 3
       }
      },
      "text/plain": [
       "one     -0.318110\n",
       "two      0.054596\n",
       "three    0.033501\n",
       "dtype: float64"
      ]
     },
     "execution_count": 113,
     "metadata": {},
     "output_type": "execute_result"
    }
   ],
   "source": [
    "df.mean()"
   ]
  },
  {
   "cell_type": "code",
   "execution_count": 119,
   "id": "3b1a5483",
   "metadata": {},
   "outputs": [
    {
     "data": {
      "application/vnd.microsoft.datawrangler.viewer.v0+json": {
       "columns": [
        {
         "name": "index",
         "rawType": "object",
         "type": "string"
        },
        {
         "name": "0",
         "rawType": "float64",
         "type": "float"
        }
       ],
       "ref": "e53aa44e-c530-4c49-ae45-6f786296a5a5",
       "rows": [
        [
         "one",
         "2.808261946284171"
        ],
        [
         "two",
         "2.066552552564905"
        ],
        [
         "three",
         "1.0414004857330472"
        ]
       ],
       "shape": {
        "columns": 1,
        "rows": 3
       }
      },
      "text/plain": [
       "one      2.808262\n",
       "two      2.066553\n",
       "three    1.041400\n",
       "dtype: float64"
      ]
     },
     "execution_count": 119,
     "metadata": {},
     "output_type": "execute_result"
    }
   ],
   "source": [
    "df.apply(lambda x: x.max() - x.min(), axis=0)"
   ]
  },
  {
   "cell_type": "code",
   "execution_count": 120,
   "id": "1735acd9",
   "metadata": {},
   "outputs": [
    {
     "data": {
      "application/vnd.microsoft.datawrangler.viewer.v0+json": {
       "columns": [
        {
         "name": "index",
         "rawType": "object",
         "type": "string"
        },
        {
         "name": "0",
         "rawType": "float64",
         "type": "float"
        }
       ],
       "ref": "7219a430-5833-4814-b175-f3b8e39aa324",
       "rows": [
        [
         "one",
         "2.808261946284171"
        ],
        [
         "two",
         "2.066552552564905"
        ],
        [
         "three",
         "1.0414004857330472"
        ]
       ],
       "shape": {
        "columns": 1,
        "rows": 3
       }
      },
      "text/plain": [
       "one      2.808262\n",
       "two      2.066553\n",
       "three    1.041400\n",
       "dtype: float64"
      ]
     },
     "execution_count": 120,
     "metadata": {},
     "output_type": "execute_result"
    }
   ],
   "source": [
    "df.max(0) - df.min(0)"
   ]
  },
  {
   "cell_type": "code",
   "execution_count": 117,
   "id": "a76c1321",
   "metadata": {},
   "outputs": [
    {
     "data": {
      "application/vnd.microsoft.datawrangler.viewer.v0+json": {
       "columns": [
        {
         "name": "index",
         "rawType": "object",
         "type": "string"
        },
        {
         "name": "max",
         "rawType": "float64",
         "type": "float"
        }
       ],
       "ref": "bad6b459-3189-44a3-aae2-3effaa86343e",
       "rows": [
        [
         "one",
         "2.808261946284171"
        ],
        [
         "two",
         "2.066552552564905"
        ],
        [
         "three",
         "1.0414004857330472"
        ]
       ],
       "shape": {
        "columns": 1,
        "rows": 3
       }
      },
      "text/plain": [
       "one      2.808262\n",
       "two      2.066553\n",
       "three    1.041400\n",
       "Name: max, dtype: float64"
      ]
     },
     "execution_count": 117,
     "metadata": {},
     "output_type": "execute_result"
    }
   ],
   "source": [
    "df.agg(['min', 'max']).diff().iloc[1]"
   ]
  },
  {
   "cell_type": "code",
   "execution_count": 118,
   "id": "05724ab9",
   "metadata": {},
   "outputs": [
    {
     "data": {
      "application/vnd.microsoft.datawrangler.viewer.v0+json": {
       "columns": [
        {
         "name": "index",
         "rawType": "object",
         "type": "string"
        },
        {
         "name": "0",
         "rawType": "float64",
         "type": "float"
        }
       ],
       "ref": "9e5395d5-3135-4efe-842f-5034016088ff",
       "rows": [
        [
         "one",
         "2.808261946284171"
        ],
        [
         "two",
         "2.066552552564905"
        ],
        [
         "three",
         "1.0414004857330472"
        ]
       ],
       "shape": {
        "columns": 1,
        "rows": 3
       }
      },
      "text/plain": [
       "one      2.808262\n",
       "two      2.066553\n",
       "three    1.041400\n",
       "dtype: float64"
      ]
     },
     "execution_count": 118,
     "metadata": {},
     "output_type": "execute_result"
    }
   ],
   "source": [
    "df.agg(lambda x: x.max() - x.min())"
   ]
  },
  {
   "cell_type": "code",
   "execution_count": 121,
   "id": "4e87dd86",
   "metadata": {},
   "outputs": [
    {
     "data": {
      "application/vnd.microsoft.datawrangler.viewer.v0+json": {
       "columns": [
        {
         "name": "index",
         "rawType": "datetime64[ns]",
         "type": "datetime"
        },
        {
         "name": "A",
         "rawType": "float64",
         "type": "float"
        },
        {
         "name": "B",
         "rawType": "float64",
         "type": "float"
        },
        {
         "name": "C",
         "rawType": "float64",
         "type": "float"
        }
       ],
       "ref": "885c47a3-a75d-4164-9c7e-625cc9ac41c1",
       "rows": [
        [
         "2000-01-01 00:00:00",
         "0.6331898706014583",
         "1.1470147383027514",
         "-0.842614378166995"
        ],
        [
         "2000-01-02 00:00:00",
         "0.49947405359392494",
         "0.7435660081854594",
         "-1.3113587345207633"
        ],
        [
         "2000-01-03 00:00:00",
         "0.1368250016996504",
         "1.0132836717920273",
         "-1.1169448380550864"
        ],
        [
         "2000-01-04 00:00:00",
         "1.5085080914379358",
         "-1.0289064086085522",
         "0.4405374999999201"
        ],
        [
         "2000-01-05 00:00:00",
         "0.4314726669906084",
         "0.6963729812706987",
         "1.1739971561038485"
        ],
        [
         "2000-01-06 00:00:00",
         "-0.7875096239267995",
         "-0.7279500597307752",
         "0.06362287000493859"
        ],
        [
         "2000-01-07 00:00:00",
         "-0.43051297449915643",
         "0.6589211157092586",
         "0.16432064995414272"
        ],
        [
         "2000-01-08 00:00:00",
         "1.346318089716975",
         "0.21691207509076574",
         "1.865754176360437"
        ],
        [
         "2000-01-09 00:00:00",
         "0.31150530678460686",
         "0.0975150320440636",
         "-1.3117077578774994"
        ],
        [
         "2000-01-10 00:00:00",
         "0.5488052605393976",
         "-1.815884588597069",
         "-1.0543470043840435"
        ],
        [
         "2000-01-11 00:00:00",
         "0.09614628242752662",
         "0.7110181188437256",
         "-0.7542800389256331"
        ],
        [
         "2000-01-12 00:00:00",
         "-0.058411537560145554",
         "0.018130098869680856",
         "1.4542882602548002"
        ],
        [
         "2000-01-13 00:00:00",
         "-0.36411284676069977",
         "0.9132126456814577",
         "-0.33958815753901134"
        ],
        [
         "2000-01-14 00:00:00",
         "-1.6371258937918602",
         "0.891160857343319",
         "0.2819259037947101"
        ],
        [
         "2000-01-15 00:00:00",
         "-0.5663851680999098",
         "-0.06809732233390851",
         "-1.0912831790104767"
        ],
        [
         "2000-01-16 00:00:00",
         "-0.6887295816970698",
         "0.5161470996664944",
         "0.8235531803209869"
        ],
        [
         "2000-01-17 00:00:00",
         "-1.883919215371456",
         "0.5128022954587822",
         "-0.9799214421540859"
        ],
        [
         "2000-01-18 00:00:00",
         "0.3156906152900621",
         "0.9135606681670366",
         "0.3642164951236561"
        ],
        [
         "2000-01-19 00:00:00",
         "-1.9832762282279863",
         "0.8248100190457469",
         "0.10840727715737619"
        ],
        [
         "2000-01-20 00:00:00",
         "1.3911925351008863",
         "1.6612097886497734",
         "0.35860531576592897"
        ],
        [
         "2000-01-21 00:00:00",
         "2.277396817213381",
         "1.5479551444430093",
         "1.2858174441650259"
        ],
        [
         "2000-01-22 00:00:00",
         "-0.4286994460633947",
         "1.2368251272976651",
         "0.11182615227162865"
        ],
        [
         "2000-01-23 00:00:00",
         "0.1220303642891669",
         "-0.44876741069863285",
         "0.46586235629461303"
        ],
        [
         "2000-01-24 00:00:00",
         "-0.80134499370742",
         "-0.12148016011546144",
         "-0.9939306225668573"
        ],
        [
         "2000-01-25 00:00:00",
         "-0.47926895114134177",
         "0.33353001875954175",
         "-1.3161736846302956"
        ],
        [
         "2000-01-26 00:00:00",
         "-0.8961709276912837",
         "1.3340049293739469",
         "-0.20096485218681762"
        ],
        [
         "2000-01-27 00:00:00",
         "0.8218446768946589",
         "-0.7301967799626808",
         "-0.8892995342750121"
        ],
        [
         "2000-01-28 00:00:00",
         "-1.0163060687152903",
         "-0.8411234593781836",
         "-0.6820120962574003"
        ],
        [
         "2000-01-29 00:00:00",
         "0.8844018594677818",
         "-1.0359490633295108",
         "0.08994355435930551"
        ],
        [
         "2000-01-30 00:00:00",
         "0.5150127969283341",
         "0.29520686638911137",
         "-0.9838497717922522"
        ],
        [
         "2000-01-31 00:00:00",
         "-0.3198091434711253",
         "-1.4368633024150101",
         "0.24737464094236383"
        ],
        [
         "2000-02-01 00:00:00",
         "0.6758612360268136",
         "-1.7455349978856272",
         "-0.966431332840855"
        ],
        [
         "2000-02-02 00:00:00",
         "-0.36290973511709207",
         "1.0754557351603087",
         "1.0556227367425666"
        ],
        [
         "2000-02-03 00:00:00",
         "-1.0768637402420644",
         "-0.9665221723076536",
         "-1.538353224247507"
        ],
        [
         "2000-02-04 00:00:00",
         "-0.39023113881079435",
         "-1.1914828868992005",
         "-0.7575956750645468"
        ],
        [
         "2000-02-05 00:00:00",
         "-0.3012523304532493",
         "0.439948510077237",
         "0.94144692643626"
        ],
        [
         "2000-02-06 00:00:00",
         "1.0557298421061958",
         "1.5831207749449498",
         "1.1989827638806652"
        ],
        [
         "2000-02-07 00:00:00",
         "0.9495097346950605",
         "0.1903146270518413",
         "-1.2717326885162759"
        ],
        [
         "2000-02-08 00:00:00",
         "1.7847927645864976",
         "0.6201233300571987",
         "0.17477799966722438"
        ],
        [
         "2000-02-09 00:00:00",
         "-0.6217323044204461",
         "-1.8271325500792024",
         "-0.7653236669008288"
        ],
        [
         "2000-02-10 00:00:00",
         "-0.4125936429357472",
         "-0.5003773871556609",
         "-0.3639570306415697"
        ],
        [
         "2000-02-11 00:00:00",
         "-0.03904771845566515",
         "-0.14019885033732074",
         "-0.7073964934717597"
        ],
        [
         "2000-02-12 00:00:00",
         "0.7291973622114286",
         "0.8724756419561702",
         "0.6509483245815133"
        ],
        [
         "2000-02-13 00:00:00",
         "-1.0644736643703205",
         "-0.28324555583078287",
         "-0.9265227609376812"
        ],
        [
         "2000-02-14 00:00:00",
         "0.3162879612927937",
         "0.9921529960395481",
         "0.8195964773771641"
        ],
        [
         "2000-02-15 00:00:00",
         "-0.6099606682650527",
         "1.3341077135391",
         "-0.34950772563609284"
        ],
        [
         "2000-02-16 00:00:00",
         "0.04391174673627503",
         "-1.2012608038805537",
         "0.28698860608196447"
        ],
        [
         "2000-02-17 00:00:00",
         "0.14784195480420553",
         "-0.04761205461547767",
         "0.3969959408936785"
        ],
        [
         "2000-02-18 00:00:00",
         "-0.1076969155784969",
         "0.384699032298488",
         "-1.2184912841238698"
        ],
        [
         "2000-02-19 00:00:00",
         "-1.9854583014481235",
         "-0.7890900783395782",
         "0.8196068675031765"
        ]
       ],
       "shape": {
        "columns": 3,
        "rows": 1000
       }
      },
      "text/html": [
       "<div>\n",
       "<style scoped>\n",
       "    .dataframe tbody tr th:only-of-type {\n",
       "        vertical-align: middle;\n",
       "    }\n",
       "\n",
       "    .dataframe tbody tr th {\n",
       "        vertical-align: top;\n",
       "    }\n",
       "\n",
       "    .dataframe thead th {\n",
       "        text-align: right;\n",
       "    }\n",
       "</style>\n",
       "<table border=\"1\" class=\"dataframe\">\n",
       "  <thead>\n",
       "    <tr style=\"text-align: right;\">\n",
       "      <th></th>\n",
       "      <th>A</th>\n",
       "      <th>B</th>\n",
       "      <th>C</th>\n",
       "    </tr>\n",
       "  </thead>\n",
       "  <tbody>\n",
       "    <tr>\n",
       "      <th>2000-01-01</th>\n",
       "      <td>0.633190</td>\n",
       "      <td>1.147015</td>\n",
       "      <td>-0.842614</td>\n",
       "    </tr>\n",
       "    <tr>\n",
       "      <th>2000-01-02</th>\n",
       "      <td>0.499474</td>\n",
       "      <td>0.743566</td>\n",
       "      <td>-1.311359</td>\n",
       "    </tr>\n",
       "    <tr>\n",
       "      <th>2000-01-03</th>\n",
       "      <td>0.136825</td>\n",
       "      <td>1.013284</td>\n",
       "      <td>-1.116945</td>\n",
       "    </tr>\n",
       "    <tr>\n",
       "      <th>2000-01-04</th>\n",
       "      <td>1.508508</td>\n",
       "      <td>-1.028906</td>\n",
       "      <td>0.440537</td>\n",
       "    </tr>\n",
       "    <tr>\n",
       "      <th>2000-01-05</th>\n",
       "      <td>0.431473</td>\n",
       "      <td>0.696373</td>\n",
       "      <td>1.173997</td>\n",
       "    </tr>\n",
       "    <tr>\n",
       "      <th>...</th>\n",
       "      <td>...</td>\n",
       "      <td>...</td>\n",
       "      <td>...</td>\n",
       "    </tr>\n",
       "    <tr>\n",
       "      <th>2002-09-22</th>\n",
       "      <td>-1.259971</td>\n",
       "      <td>1.350057</td>\n",
       "      <td>-1.247810</td>\n",
       "    </tr>\n",
       "    <tr>\n",
       "      <th>2002-09-23</th>\n",
       "      <td>0.338664</td>\n",
       "      <td>0.168216</td>\n",
       "      <td>0.387804</td>\n",
       "    </tr>\n",
       "    <tr>\n",
       "      <th>2002-09-24</th>\n",
       "      <td>2.326011</td>\n",
       "      <td>-1.571197</td>\n",
       "      <td>1.310858</td>\n",
       "    </tr>\n",
       "    <tr>\n",
       "      <th>2002-09-25</th>\n",
       "      <td>1.412808</td>\n",
       "      <td>0.656858</td>\n",
       "      <td>0.831660</td>\n",
       "    </tr>\n",
       "    <tr>\n",
       "      <th>2002-09-26</th>\n",
       "      <td>-0.533826</td>\n",
       "      <td>-0.758493</td>\n",
       "      <td>-2.054754</td>\n",
       "    </tr>\n",
       "  </tbody>\n",
       "</table>\n",
       "<p>1000 rows × 3 columns</p>\n",
       "</div>"
      ],
      "text/plain": [
       "                   A         B         C\n",
       "2000-01-01  0.633190  1.147015 -0.842614\n",
       "2000-01-02  0.499474  0.743566 -1.311359\n",
       "2000-01-03  0.136825  1.013284 -1.116945\n",
       "2000-01-04  1.508508 -1.028906  0.440537\n",
       "2000-01-05  0.431473  0.696373  1.173997\n",
       "...              ...       ...       ...\n",
       "2002-09-22 -1.259971  1.350057 -1.247810\n",
       "2002-09-23  0.338664  0.168216  0.387804\n",
       "2002-09-24  2.326011 -1.571197  1.310858\n",
       "2002-09-25  1.412808  0.656858  0.831660\n",
       "2002-09-26 -0.533826 -0.758493 -2.054754\n",
       "\n",
       "[1000 rows x 3 columns]"
      ]
     },
     "execution_count": 121,
     "metadata": {},
     "output_type": "execute_result"
    }
   ],
   "source": [
    "tsdf = pd.DataFrame(\n",
    "    np.random.randn(1000, 3),\n",
    "    columns=[\"A\", \"B\", \"C\"],\n",
    "    index=pd.date_range(\"1/1/2000\", periods=1000),\n",
    ")\n",
    "tsdf"
   ]
  },
  {
   "cell_type": "code",
   "execution_count": 122,
   "id": "85c92007",
   "metadata": {},
   "outputs": [
    {
     "data": {
      "application/vnd.microsoft.datawrangler.viewer.v0+json": {
       "columns": [
        {
         "name": "index",
         "rawType": "object",
         "type": "string"
        },
        {
         "name": "0",
         "rawType": "datetime64[ns]",
         "type": "datetime"
        }
       ],
       "ref": "e0b96365-07bd-48f9-aa33-75f9a8f11d0b",
       "rows": [
        [
         "A",
         "2002-06-18 00:00:00"
        ],
        [
         "B",
         "2000-05-24 00:00:00"
        ],
        [
         "C",
         "2000-07-03 00:00:00"
        ]
       ],
       "shape": {
        "columns": 1,
        "rows": 3
       }
      },
      "text/plain": [
       "A   2002-06-18\n",
       "B   2000-05-24\n",
       "C   2000-07-03\n",
       "dtype: datetime64[ns]"
      ]
     },
     "execution_count": 122,
     "metadata": {},
     "output_type": "execute_result"
    }
   ],
   "source": [
    "tsdf.apply(lambda x: x.idxmax())"
   ]
  },
  {
   "cell_type": "code",
   "execution_count": 123,
   "id": "08da1dac",
   "metadata": {},
   "outputs": [
    {
     "data": {
      "application/vnd.microsoft.datawrangler.viewer.v0+json": {
       "columns": [
        {
         "name": "index",
         "rawType": "object",
         "type": "string"
        },
        {
         "name": "0",
         "rawType": "datetime64[ns]",
         "type": "datetime"
        }
       ],
       "ref": "fd8f7a31-f6ba-425a-9424-044432e2f2cd",
       "rows": [
        [
         "A",
         "2002-06-18 00:00:00"
        ],
        [
         "B",
         "2000-05-24 00:00:00"
        ],
        [
         "C",
         "2000-07-03 00:00:00"
        ]
       ],
       "shape": {
        "columns": 1,
        "rows": 3
       }
      },
      "text/plain": [
       "A   2002-06-18\n",
       "B   2000-05-24\n",
       "C   2000-07-03\n",
       "dtype: datetime64[ns]"
      ]
     },
     "execution_count": 123,
     "metadata": {},
     "output_type": "execute_result"
    }
   ],
   "source": [
    "tsdf.idxmax(0)"
   ]
  },
  {
   "cell_type": "code",
   "execution_count": 124,
   "id": "1aa0ed5b",
   "metadata": {},
   "outputs": [
    {
     "data": {
      "application/vnd.microsoft.datawrangler.viewer.v0+json": {
       "columns": [
        {
         "name": "index",
         "rawType": "int64",
         "type": "integer"
        },
        {
         "name": "0",
         "rawType": "float64",
         "type": "float"
        },
        {
         "name": "1",
         "rawType": "float64",
         "type": "float"
        }
       ],
       "ref": "e2a6a2cb-e44c-4a95-bc5f-944e508b41d9",
       "rows": [
        [
         "0",
         "1.0",
         "1.0"
        ],
        [
         "1",
         "1.0",
         "1.0"
        ]
       ],
       "shape": {
        "columns": 2,
        "rows": 2
       }
      },
      "text/html": [
       "<div>\n",
       "<style scoped>\n",
       "    .dataframe tbody tr th:only-of-type {\n",
       "        vertical-align: middle;\n",
       "    }\n",
       "\n",
       "    .dataframe tbody tr th {\n",
       "        vertical-align: top;\n",
       "    }\n",
       "\n",
       "    .dataframe thead th {\n",
       "        text-align: right;\n",
       "    }\n",
       "</style>\n",
       "<table border=\"1\" class=\"dataframe\">\n",
       "  <thead>\n",
       "    <tr style=\"text-align: right;\">\n",
       "      <th></th>\n",
       "      <th>0</th>\n",
       "      <th>1</th>\n",
       "    </tr>\n",
       "  </thead>\n",
       "  <tbody>\n",
       "    <tr>\n",
       "      <th>0</th>\n",
       "      <td>1.0</td>\n",
       "      <td>1.0</td>\n",
       "    </tr>\n",
       "    <tr>\n",
       "      <th>1</th>\n",
       "      <td>1.0</td>\n",
       "      <td>1.0</td>\n",
       "    </tr>\n",
       "  </tbody>\n",
       "</table>\n",
       "</div>"
      ],
      "text/plain": [
       "     0    1\n",
       "0  1.0  1.0\n",
       "1  1.0  1.0"
      ]
     },
     "execution_count": 124,
     "metadata": {},
     "output_type": "execute_result"
    }
   ],
   "source": [
    "df_udf = pd.DataFrame(np.ones((2, 2)))\n",
    "df_udf"
   ]
  },
  {
   "cell_type": "code",
   "execution_count": 130,
   "id": "906ed9ba",
   "metadata": {},
   "outputs": [
    {
     "data": {
      "application/vnd.microsoft.datawrangler.viewer.v0+json": {
       "columns": [
        {
         "name": "index",
         "rawType": "datetime64[ns]",
         "type": "datetime"
        },
        {
         "name": "A",
         "rawType": "float64",
         "type": "float"
        },
        {
         "name": "B",
         "rawType": "float64",
         "type": "float"
        },
        {
         "name": "C",
         "rawType": "float64",
         "type": "float"
        }
       ],
       "ref": "893a4f4c-2206-4618-9931-be7416e8c6f6",
       "rows": [
        [
         "2000-01-01 00:00:00",
         "1.3369599718767469",
         "1.5742718286953175",
         "1.4797812329229183"
        ],
        [
         "2000-01-02 00:00:00",
         "-1.5202530427573848",
         "-0.00816853657079038",
         "-1.0877019365539853"
        ],
        [
         "2000-01-03 00:00:00",
         "0.5108935708244724",
         "0.7591827893048773",
         "0.6827811564992086"
        ],
        [
         "2000-01-04 00:00:00",
         "0.3165641527756638",
         "0.5347033769108356",
         "0.6481419393684894"
        ],
        [
         "2000-01-05 00:00:00",
         "0.1222347347268552",
         "0.310223964516794",
         "0.6135027222377701"
        ],
        [
         "2000-01-06 00:00:00",
         "-0.07209468332195335",
         "0.08574455212275245",
         "0.578863505107051"
        ],
        [
         "2000-01-07 00:00:00",
         "-0.266424101370762",
         "-0.13873486027128923",
         "0.5442242879763317"
        ],
        [
         "2000-01-08 00:00:00",
         "-0.46075351941957066",
         "-0.36321427266533085",
         "0.5095850708456126"
        ],
        [
         "2000-01-09 00:00:00",
         "0.0927369544978455",
         "-0.9805884102718597",
         "-0.2547486431283091"
        ],
        [
         "2000-01-10 00:00:00",
         "-0.7061905299760648",
         "0.6415655061633074",
         "0.269556183558689"
        ]
       ],
       "shape": {
        "columns": 3,
        "rows": 10
       }
      },
      "text/html": [
       "<div>\n",
       "<style scoped>\n",
       "    .dataframe tbody tr th:only-of-type {\n",
       "        vertical-align: middle;\n",
       "    }\n",
       "\n",
       "    .dataframe tbody tr th {\n",
       "        vertical-align: top;\n",
       "    }\n",
       "\n",
       "    .dataframe thead th {\n",
       "        text-align: right;\n",
       "    }\n",
       "</style>\n",
       "<table border=\"1\" class=\"dataframe\">\n",
       "  <thead>\n",
       "    <tr style=\"text-align: right;\">\n",
       "      <th></th>\n",
       "      <th>A</th>\n",
       "      <th>B</th>\n",
       "      <th>C</th>\n",
       "    </tr>\n",
       "  </thead>\n",
       "  <tbody>\n",
       "    <tr>\n",
       "      <th>2000-01-01</th>\n",
       "      <td>1.336960</td>\n",
       "      <td>1.574272</td>\n",
       "      <td>1.479781</td>\n",
       "    </tr>\n",
       "    <tr>\n",
       "      <th>2000-01-02</th>\n",
       "      <td>-1.520253</td>\n",
       "      <td>-0.008169</td>\n",
       "      <td>-1.087702</td>\n",
       "    </tr>\n",
       "    <tr>\n",
       "      <th>2000-01-03</th>\n",
       "      <td>0.510894</td>\n",
       "      <td>0.759183</td>\n",
       "      <td>0.682781</td>\n",
       "    </tr>\n",
       "    <tr>\n",
       "      <th>2000-01-04</th>\n",
       "      <td>0.316564</td>\n",
       "      <td>0.534703</td>\n",
       "      <td>0.648142</td>\n",
       "    </tr>\n",
       "    <tr>\n",
       "      <th>2000-01-05</th>\n",
       "      <td>0.122235</td>\n",
       "      <td>0.310224</td>\n",
       "      <td>0.613503</td>\n",
       "    </tr>\n",
       "    <tr>\n",
       "      <th>2000-01-06</th>\n",
       "      <td>-0.072095</td>\n",
       "      <td>0.085745</td>\n",
       "      <td>0.578864</td>\n",
       "    </tr>\n",
       "    <tr>\n",
       "      <th>2000-01-07</th>\n",
       "      <td>-0.266424</td>\n",
       "      <td>-0.138735</td>\n",
       "      <td>0.544224</td>\n",
       "    </tr>\n",
       "    <tr>\n",
       "      <th>2000-01-08</th>\n",
       "      <td>-0.460754</td>\n",
       "      <td>-0.363214</td>\n",
       "      <td>0.509585</td>\n",
       "    </tr>\n",
       "    <tr>\n",
       "      <th>2000-01-09</th>\n",
       "      <td>0.092737</td>\n",
       "      <td>-0.980588</td>\n",
       "      <td>-0.254749</td>\n",
       "    </tr>\n",
       "    <tr>\n",
       "      <th>2000-01-10</th>\n",
       "      <td>-0.706191</td>\n",
       "      <td>0.641566</td>\n",
       "      <td>0.269556</td>\n",
       "    </tr>\n",
       "  </tbody>\n",
       "</table>\n",
       "</div>"
      ],
      "text/plain": [
       "                   A         B         C\n",
       "2000-01-01  1.336960  1.574272  1.479781\n",
       "2000-01-02 -1.520253 -0.008169 -1.087702\n",
       "2000-01-03  0.510894  0.759183  0.682781\n",
       "2000-01-04  0.316564  0.534703  0.648142\n",
       "2000-01-05  0.122235  0.310224  0.613503\n",
       "2000-01-06 -0.072095  0.085745  0.578864\n",
       "2000-01-07 -0.266424 -0.138735  0.544224\n",
       "2000-01-08 -0.460754 -0.363214  0.509585\n",
       "2000-01-09  0.092737 -0.980588 -0.254749\n",
       "2000-01-10 -0.706191  0.641566  0.269556"
      ]
     },
     "execution_count": 130,
     "metadata": {},
     "output_type": "execute_result"
    }
   ],
   "source": [
    "tsdf = pd.DataFrame(\n",
    "    np.random.randn(10, 3),\n",
    "    columns=[\"A\", \"B\", \"C\"],\n",
    "    index=pd.date_range(\"1/1/2000\", periods=10),\n",
    ")\n",
    "tsdf.iloc[3:7] = np.nan\n",
    "tsdf.interpolate()\n",
    "# tsdf.apply(pd.Series.interpolate)"
   ]
  },
  {
   "cell_type": "code",
   "execution_count": 132,
   "id": "bc9930ab",
   "metadata": {},
   "outputs": [
    {
     "data": {
      "application/vnd.microsoft.datawrangler.viewer.v0+json": {
       "columns": [
        {
         "name": "index",
         "rawType": "object",
         "type": "string"
        },
        {
         "name": "0",
         "rawType": "float64",
         "type": "float"
        }
       ],
       "ref": "4f376a24-4af6-4e4b-9d6a-a1f1f139fee2",
       "rows": [
        [
         "A",
         "-0.7466065949539555"
        ],
        [
         "B",
         "1.623048904655521"
        ],
        [
         "C",
         "1.5992530641441343"
        ]
       ],
       "shape": {
        "columns": 1,
        "rows": 3
       }
      },
      "text/plain": [
       "A   -0.746607\n",
       "B    1.623049\n",
       "C    1.599253\n",
       "dtype: float64"
      ]
     },
     "execution_count": 132,
     "metadata": {},
     "output_type": "execute_result"
    }
   ],
   "source": [
    "tsdf.sum(0)"
   ]
  },
  {
   "cell_type": "code",
   "execution_count": 134,
   "id": "52023718",
   "metadata": {},
   "outputs": [
    {
     "data": {
      "application/vnd.microsoft.datawrangler.viewer.v0+json": {
       "columns": [
        {
         "name": "index",
         "rawType": "object",
         "type": "string"
        },
        {
         "name": "A",
         "rawType": "float64",
         "type": "float"
        },
        {
         "name": "B",
         "rawType": "float64",
         "type": "float"
        },
        {
         "name": "C",
         "rawType": "float64",
         "type": "float"
        }
       ],
       "ref": "0329873a-b2eb-4cb9-afbf-3ef530a461ae",
       "rows": [
        [
         "mean",
         "-0.12443443249232593",
         "0.27050815077592016",
         "0.2665421773573557"
        ],
        [
         "median",
         "-0.1840082824608626",
         "0.3166984847962585",
         "0.38957062720215074"
        ],
        [
         "std",
         "0.9986329622238941",
         "0.9078318789620435",
         "0.872926579455721"
        ]
       ],
       "shape": {
        "columns": 3,
        "rows": 3
       }
      },
      "text/html": [
       "<div>\n",
       "<style scoped>\n",
       "    .dataframe tbody tr th:only-of-type {\n",
       "        vertical-align: middle;\n",
       "    }\n",
       "\n",
       "    .dataframe tbody tr th {\n",
       "        vertical-align: top;\n",
       "    }\n",
       "\n",
       "    .dataframe thead th {\n",
       "        text-align: right;\n",
       "    }\n",
       "</style>\n",
       "<table border=\"1\" class=\"dataframe\">\n",
       "  <thead>\n",
       "    <tr style=\"text-align: right;\">\n",
       "      <th></th>\n",
       "      <th>A</th>\n",
       "      <th>B</th>\n",
       "      <th>C</th>\n",
       "    </tr>\n",
       "  </thead>\n",
       "  <tbody>\n",
       "    <tr>\n",
       "      <th>mean</th>\n",
       "      <td>-0.124434</td>\n",
       "      <td>0.270508</td>\n",
       "      <td>0.266542</td>\n",
       "    </tr>\n",
       "    <tr>\n",
       "      <th>median</th>\n",
       "      <td>-0.184008</td>\n",
       "      <td>0.316698</td>\n",
       "      <td>0.389571</td>\n",
       "    </tr>\n",
       "    <tr>\n",
       "      <th>std</th>\n",
       "      <td>0.998633</td>\n",
       "      <td>0.907832</td>\n",
       "      <td>0.872927</td>\n",
       "    </tr>\n",
       "  </tbody>\n",
       "</table>\n",
       "</div>"
      ],
      "text/plain": [
       "               A         B         C\n",
       "mean   -0.124434  0.270508  0.266542\n",
       "median -0.184008  0.316698  0.389571\n",
       "std     0.998633  0.907832  0.872927"
      ]
     },
     "execution_count": 134,
     "metadata": {},
     "output_type": "execute_result"
    }
   ],
   "source": [
    "tsdf.agg(['mean', 'median', 'std'])"
   ]
  },
  {
   "cell_type": "code",
   "execution_count": 135,
   "id": "97ec8a3e",
   "metadata": {},
   "outputs": [
    {
     "data": {
      "application/vnd.microsoft.datawrangler.viewer.v0+json": {
       "columns": [
        {
         "name": "index",
         "rawType": "datetime64[ns]",
         "type": "datetime"
        },
        {
         "name": "A",
         "rawType": "float64",
         "type": "float"
        },
        {
         "name": "B",
         "rawType": "float64",
         "type": "float"
        },
        {
         "name": "C",
         "rawType": "float64",
         "type": "float"
        }
       ],
       "ref": "d42e527c-44b6-4559-8fc2-96300266bb84",
       "rows": [
        [
         "2000-01-01 00:00:00",
         "1.3369599718767469",
         "1.5742718286953175",
         "1.4797812329229183"
        ],
        [
         "2000-01-02 00:00:00",
         "-1.5202530427573848",
         "-0.00816853657079038",
         "-1.0877019365539853"
        ],
        [
         "2000-01-03 00:00:00",
         "0.5108935708244724",
         "0.7591827893048773",
         "0.6827811564992086"
        ],
        [
         "2000-01-04 00:00:00",
         null,
         null,
         null
        ],
        [
         "2000-01-05 00:00:00",
         null,
         null,
         null
        ],
        [
         "2000-01-06 00:00:00",
         null,
         null,
         null
        ],
        [
         "2000-01-07 00:00:00",
         null,
         null,
         null
        ],
        [
         "2000-01-08 00:00:00",
         "-0.46075351941957066",
         "-0.36321427266533085",
         "0.5095850708456126"
        ],
        [
         "2000-01-09 00:00:00",
         "0.0927369544978455",
         "-0.9805884102718597",
         "-0.2547486431283091"
        ],
        [
         "2000-01-10 00:00:00",
         "-0.7061905299760648",
         "0.6415655061633074",
         "0.269556183558689"
        ]
       ],
       "shape": {
        "columns": 3,
        "rows": 10
       }
      },
      "text/html": [
       "<div>\n",
       "<style scoped>\n",
       "    .dataframe tbody tr th:only-of-type {\n",
       "        vertical-align: middle;\n",
       "    }\n",
       "\n",
       "    .dataframe tbody tr th {\n",
       "        vertical-align: top;\n",
       "    }\n",
       "\n",
       "    .dataframe thead th {\n",
       "        text-align: right;\n",
       "    }\n",
       "</style>\n",
       "<table border=\"1\" class=\"dataframe\">\n",
       "  <thead>\n",
       "    <tr style=\"text-align: right;\">\n",
       "      <th></th>\n",
       "      <th>A</th>\n",
       "      <th>B</th>\n",
       "      <th>C</th>\n",
       "    </tr>\n",
       "  </thead>\n",
       "  <tbody>\n",
       "    <tr>\n",
       "      <th>2000-01-01</th>\n",
       "      <td>1.336960</td>\n",
       "      <td>1.574272</td>\n",
       "      <td>1.479781</td>\n",
       "    </tr>\n",
       "    <tr>\n",
       "      <th>2000-01-02</th>\n",
       "      <td>-1.520253</td>\n",
       "      <td>-0.008169</td>\n",
       "      <td>-1.087702</td>\n",
       "    </tr>\n",
       "    <tr>\n",
       "      <th>2000-01-03</th>\n",
       "      <td>0.510894</td>\n",
       "      <td>0.759183</td>\n",
       "      <td>0.682781</td>\n",
       "    </tr>\n",
       "    <tr>\n",
       "      <th>2000-01-04</th>\n",
       "      <td>NaN</td>\n",
       "      <td>NaN</td>\n",
       "      <td>NaN</td>\n",
       "    </tr>\n",
       "    <tr>\n",
       "      <th>2000-01-05</th>\n",
       "      <td>NaN</td>\n",
       "      <td>NaN</td>\n",
       "      <td>NaN</td>\n",
       "    </tr>\n",
       "    <tr>\n",
       "      <th>2000-01-06</th>\n",
       "      <td>NaN</td>\n",
       "      <td>NaN</td>\n",
       "      <td>NaN</td>\n",
       "    </tr>\n",
       "    <tr>\n",
       "      <th>2000-01-07</th>\n",
       "      <td>NaN</td>\n",
       "      <td>NaN</td>\n",
       "      <td>NaN</td>\n",
       "    </tr>\n",
       "    <tr>\n",
       "      <th>2000-01-08</th>\n",
       "      <td>-0.460754</td>\n",
       "      <td>-0.363214</td>\n",
       "      <td>0.509585</td>\n",
       "    </tr>\n",
       "    <tr>\n",
       "      <th>2000-01-09</th>\n",
       "      <td>0.092737</td>\n",
       "      <td>-0.980588</td>\n",
       "      <td>-0.254749</td>\n",
       "    </tr>\n",
       "    <tr>\n",
       "      <th>2000-01-10</th>\n",
       "      <td>-0.706191</td>\n",
       "      <td>0.641566</td>\n",
       "      <td>0.269556</td>\n",
       "    </tr>\n",
       "  </tbody>\n",
       "</table>\n",
       "</div>"
      ],
      "text/plain": [
       "                   A         B         C\n",
       "2000-01-01  1.336960  1.574272  1.479781\n",
       "2000-01-02 -1.520253 -0.008169 -1.087702\n",
       "2000-01-03  0.510894  0.759183  0.682781\n",
       "2000-01-04       NaN       NaN       NaN\n",
       "2000-01-05       NaN       NaN       NaN\n",
       "2000-01-06       NaN       NaN       NaN\n",
       "2000-01-07       NaN       NaN       NaN\n",
       "2000-01-08 -0.460754 -0.363214  0.509585\n",
       "2000-01-09  0.092737 -0.980588 -0.254749\n",
       "2000-01-10 -0.706191  0.641566  0.269556"
      ]
     },
     "execution_count": 135,
     "metadata": {},
     "output_type": "execute_result"
    }
   ],
   "source": [
    "tsdf"
   ]
  },
  {
   "cell_type": "code",
   "execution_count": 136,
   "id": "39c0ae0d",
   "metadata": {},
   "outputs": [
    {
     "data": {
      "application/vnd.microsoft.datawrangler.viewer.v0+json": {
       "columns": [
        {
         "name": "index",
         "rawType": "object",
         "type": "string"
        },
        {
         "name": "0",
         "rawType": "float64",
         "type": "float"
        }
       ],
       "ref": "a0464e44-2e0c-4461-adef-6e9dffa7d336",
       "rows": [
        [
         "A",
         "-0.12443443249232593"
        ],
        [
         "B",
         "0.27050815077592016"
        ],
        [
         "C",
         "0.2665421773573557"
        ]
       ],
       "shape": {
        "columns": 1,
        "rows": 3
       }
      },
      "text/plain": [
       "A   -0.124434\n",
       "B    0.270508\n",
       "C    0.266542\n",
       "dtype: float64"
      ]
     },
     "execution_count": 136,
     "metadata": {},
     "output_type": "execute_result"
    }
   ],
   "source": [
    "# single stat\n",
    "tsdf.mean()"
   ]
  },
  {
   "cell_type": "code",
   "execution_count": 137,
   "id": "4b572130",
   "metadata": {},
   "outputs": [
    {
     "data": {
      "application/vnd.microsoft.datawrangler.viewer.v0+json": {
       "columns": [
        {
         "name": "index",
         "rawType": "object",
         "type": "string"
        },
        {
         "name": "0",
         "rawType": "float64",
         "type": "float"
        }
       ],
       "ref": "e7675190-6a23-4a8d-9414-7b28cf891cd3",
       "rows": [
        [
         "A",
         "-0.12443443249232593"
        ],
        [
         "B",
         "0.3166984847962585"
        ]
       ],
       "shape": {
        "columns": 1,
        "rows": 2
       }
      },
      "text/plain": [
       "A   -0.124434\n",
       "B    0.316698\n",
       "dtype: float64"
      ]
     },
     "execution_count": 137,
     "metadata": {},
     "output_type": "execute_result"
    }
   ],
   "source": [
    "tsdf.agg({\"A\": \"mean\", \"B\": \"median\"})"
   ]
  },
  {
   "cell_type": "code",
   "execution_count": 138,
   "id": "ad0d896b",
   "metadata": {},
   "outputs": [
    {
     "data": {
      "application/vnd.microsoft.datawrangler.viewer.v0+json": {
       "columns": [
        {
         "name": "index",
         "rawType": "datetime64[ns]",
         "type": "datetime"
        },
        {
         "name": "A",
         "rawType": "float64",
         "type": "float"
        },
        {
         "name": "B",
         "rawType": "float64",
         "type": "float"
        },
        {
         "name": "C",
         "rawType": "float64",
         "type": "float"
        }
       ],
       "ref": "182641ea-2e17-4dc8-85b5-0012e95081fd",
       "rows": [
        [
         "2000-01-01 00:00:00",
         "1.3369599718767469",
         "1.5742718286953175",
         "1.4797812329229183"
        ],
        [
         "2000-01-02 00:00:00",
         "1.5202530427573848",
         "0.00816853657079038",
         "1.0877019365539853"
        ],
        [
         "2000-01-03 00:00:00",
         "0.5108935708244724",
         "0.7591827893048773",
         "0.6827811564992086"
        ],
        [
         "2000-01-04 00:00:00",
         null,
         null,
         null
        ],
        [
         "2000-01-05 00:00:00",
         null,
         null,
         null
        ],
        [
         "2000-01-06 00:00:00",
         null,
         null,
         null
        ],
        [
         "2000-01-07 00:00:00",
         null,
         null,
         null
        ],
        [
         "2000-01-08 00:00:00",
         "0.46075351941957066",
         "0.36321427266533085",
         "0.5095850708456126"
        ],
        [
         "2000-01-09 00:00:00",
         "0.0927369544978455",
         "0.9805884102718597",
         "0.2547486431283091"
        ],
        [
         "2000-01-10 00:00:00",
         "0.7061905299760648",
         "0.6415655061633074",
         "0.269556183558689"
        ]
       ],
       "shape": {
        "columns": 3,
        "rows": 10
       }
      },
      "text/html": [
       "<div>\n",
       "<style scoped>\n",
       "    .dataframe tbody tr th:only-of-type {\n",
       "        vertical-align: middle;\n",
       "    }\n",
       "\n",
       "    .dataframe tbody tr th {\n",
       "        vertical-align: top;\n",
       "    }\n",
       "\n",
       "    .dataframe thead th {\n",
       "        text-align: right;\n",
       "    }\n",
       "</style>\n",
       "<table border=\"1\" class=\"dataframe\">\n",
       "  <thead>\n",
       "    <tr style=\"text-align: right;\">\n",
       "      <th></th>\n",
       "      <th>A</th>\n",
       "      <th>B</th>\n",
       "      <th>C</th>\n",
       "    </tr>\n",
       "  </thead>\n",
       "  <tbody>\n",
       "    <tr>\n",
       "      <th>2000-01-01</th>\n",
       "      <td>1.336960</td>\n",
       "      <td>1.574272</td>\n",
       "      <td>1.479781</td>\n",
       "    </tr>\n",
       "    <tr>\n",
       "      <th>2000-01-02</th>\n",
       "      <td>1.520253</td>\n",
       "      <td>0.008169</td>\n",
       "      <td>1.087702</td>\n",
       "    </tr>\n",
       "    <tr>\n",
       "      <th>2000-01-03</th>\n",
       "      <td>0.510894</td>\n",
       "      <td>0.759183</td>\n",
       "      <td>0.682781</td>\n",
       "    </tr>\n",
       "    <tr>\n",
       "      <th>2000-01-04</th>\n",
       "      <td>NaN</td>\n",
       "      <td>NaN</td>\n",
       "      <td>NaN</td>\n",
       "    </tr>\n",
       "    <tr>\n",
       "      <th>2000-01-05</th>\n",
       "      <td>NaN</td>\n",
       "      <td>NaN</td>\n",
       "      <td>NaN</td>\n",
       "    </tr>\n",
       "    <tr>\n",
       "      <th>2000-01-06</th>\n",
       "      <td>NaN</td>\n",
       "      <td>NaN</td>\n",
       "      <td>NaN</td>\n",
       "    </tr>\n",
       "    <tr>\n",
       "      <th>2000-01-07</th>\n",
       "      <td>NaN</td>\n",
       "      <td>NaN</td>\n",
       "      <td>NaN</td>\n",
       "    </tr>\n",
       "    <tr>\n",
       "      <th>2000-01-08</th>\n",
       "      <td>0.460754</td>\n",
       "      <td>0.363214</td>\n",
       "      <td>0.509585</td>\n",
       "    </tr>\n",
       "    <tr>\n",
       "      <th>2000-01-09</th>\n",
       "      <td>0.092737</td>\n",
       "      <td>0.980588</td>\n",
       "      <td>0.254749</td>\n",
       "    </tr>\n",
       "    <tr>\n",
       "      <th>2000-01-10</th>\n",
       "      <td>0.706191</td>\n",
       "      <td>0.641566</td>\n",
       "      <td>0.269556</td>\n",
       "    </tr>\n",
       "  </tbody>\n",
       "</table>\n",
       "</div>"
      ],
      "text/plain": [
       "                   A         B         C\n",
       "2000-01-01  1.336960  1.574272  1.479781\n",
       "2000-01-02  1.520253  0.008169  1.087702\n",
       "2000-01-03  0.510894  0.759183  0.682781\n",
       "2000-01-04       NaN       NaN       NaN\n",
       "2000-01-05       NaN       NaN       NaN\n",
       "2000-01-06       NaN       NaN       NaN\n",
       "2000-01-07       NaN       NaN       NaN\n",
       "2000-01-08  0.460754  0.363214  0.509585\n",
       "2000-01-09  0.092737  0.980588  0.254749\n",
       "2000-01-10  0.706191  0.641566  0.269556"
      ]
     },
     "execution_count": 138,
     "metadata": {},
     "output_type": "execute_result"
    }
   ],
   "source": [
    "tsdf.abs()"
   ]
  },
  {
   "cell_type": "code",
   "execution_count": 139,
   "id": "e74a7430",
   "metadata": {},
   "outputs": [
    {
     "data": {
      "application/vnd.microsoft.datawrangler.viewer.v0+json": {
       "columns": [
        {
         "name": "index",
         "rawType": "datetime64[ns]",
         "type": "datetime"
        },
        {
         "name": "('A', 'absolute')",
         "rawType": "float64",
         "type": "float"
        },
        {
         "name": "('A', '<lambda>')",
         "rawType": "float64",
         "type": "float"
        },
        {
         "name": "('B', 'absolute')",
         "rawType": "float64",
         "type": "float"
        },
        {
         "name": "('B', '<lambda>')",
         "rawType": "float64",
         "type": "float"
        },
        {
         "name": "('C', 'absolute')",
         "rawType": "float64",
         "type": "float"
        },
        {
         "name": "('C', '<lambda>')",
         "rawType": "float64",
         "type": "float"
        }
       ],
       "ref": "bdb46d9a-dc98-4c43-98a6-a26fd90f01e0",
       "rows": [
        [
         "2000-01-01 00:00:00",
         "1.3369599718767469",
         "1.1684799859383734",
         "1.5742718286953175",
         "1.2871359143476586",
         "1.4797812329229183",
         "1.2398906164614591"
        ],
        [
         "2000-01-02 00:00:00",
         "1.5202530427573848",
         "-0.2601265213786924",
         "0.00816853657079038",
         "0.4959157317146048",
         "1.0877019365539853",
         "-0.04385096827699264"
        ],
        [
         "2000-01-03 00:00:00",
         "0.5108935708244724",
         "0.7554467854122362",
         "0.7591827893048773",
         "0.8795913946524386",
         "0.6827811564992086",
         "0.8413905782496043"
        ],
        [
         "2000-01-04 00:00:00",
         null,
         null,
         null,
         null,
         null,
         null
        ],
        [
         "2000-01-05 00:00:00",
         null,
         null,
         null,
         null,
         null,
         null
        ],
        [
         "2000-01-06 00:00:00",
         null,
         null,
         null,
         null,
         null,
         null
        ],
        [
         "2000-01-07 00:00:00",
         null,
         null,
         null,
         null,
         null,
         null
        ],
        [
         "2000-01-08 00:00:00",
         "0.46075351941957066",
         "0.26962324029021467",
         "0.36321427266533085",
         "0.31839286366733455",
         "0.5095850708456126",
         "0.7547925354228062"
        ],
        [
         "2000-01-09 00:00:00",
         "0.0927369544978455",
         "0.5463684772489228",
         "0.9805884102718597",
         "0.009705794864070139",
         "0.2547486431283091",
         "0.3726256784358455"
        ],
        [
         "2000-01-10 00:00:00",
         "0.7061905299760648",
         "0.1469047350119676",
         "0.6415655061633074",
         "0.8207827530816537",
         "0.269556183558689",
         "0.6347780917793445"
        ]
       ],
       "shape": {
        "columns": 6,
        "rows": 10
       }
      },
      "text/html": [
       "<div>\n",
       "<style scoped>\n",
       "    .dataframe tbody tr th:only-of-type {\n",
       "        vertical-align: middle;\n",
       "    }\n",
       "\n",
       "    .dataframe tbody tr th {\n",
       "        vertical-align: top;\n",
       "    }\n",
       "\n",
       "    .dataframe thead tr th {\n",
       "        text-align: left;\n",
       "    }\n",
       "</style>\n",
       "<table border=\"1\" class=\"dataframe\">\n",
       "  <thead>\n",
       "    <tr>\n",
       "      <th></th>\n",
       "      <th colspan=\"2\" halign=\"left\">A</th>\n",
       "      <th colspan=\"2\" halign=\"left\">B</th>\n",
       "      <th colspan=\"2\" halign=\"left\">C</th>\n",
       "    </tr>\n",
       "    <tr>\n",
       "      <th></th>\n",
       "      <th>absolute</th>\n",
       "      <th>&lt;lambda&gt;</th>\n",
       "      <th>absolute</th>\n",
       "      <th>&lt;lambda&gt;</th>\n",
       "      <th>absolute</th>\n",
       "      <th>&lt;lambda&gt;</th>\n",
       "    </tr>\n",
       "  </thead>\n",
       "  <tbody>\n",
       "    <tr>\n",
       "      <th>2000-01-01</th>\n",
       "      <td>1.336960</td>\n",
       "      <td>1.168480</td>\n",
       "      <td>1.574272</td>\n",
       "      <td>1.287136</td>\n",
       "      <td>1.479781</td>\n",
       "      <td>1.239891</td>\n",
       "    </tr>\n",
       "    <tr>\n",
       "      <th>2000-01-02</th>\n",
       "      <td>1.520253</td>\n",
       "      <td>-0.260127</td>\n",
       "      <td>0.008169</td>\n",
       "      <td>0.495916</td>\n",
       "      <td>1.087702</td>\n",
       "      <td>-0.043851</td>\n",
       "    </tr>\n",
       "    <tr>\n",
       "      <th>2000-01-03</th>\n",
       "      <td>0.510894</td>\n",
       "      <td>0.755447</td>\n",
       "      <td>0.759183</td>\n",
       "      <td>0.879591</td>\n",
       "      <td>0.682781</td>\n",
       "      <td>0.841391</td>\n",
       "    </tr>\n",
       "    <tr>\n",
       "      <th>2000-01-04</th>\n",
       "      <td>NaN</td>\n",
       "      <td>NaN</td>\n",
       "      <td>NaN</td>\n",
       "      <td>NaN</td>\n",
       "      <td>NaN</td>\n",
       "      <td>NaN</td>\n",
       "    </tr>\n",
       "    <tr>\n",
       "      <th>2000-01-05</th>\n",
       "      <td>NaN</td>\n",
       "      <td>NaN</td>\n",
       "      <td>NaN</td>\n",
       "      <td>NaN</td>\n",
       "      <td>NaN</td>\n",
       "      <td>NaN</td>\n",
       "    </tr>\n",
       "    <tr>\n",
       "      <th>2000-01-06</th>\n",
       "      <td>NaN</td>\n",
       "      <td>NaN</td>\n",
       "      <td>NaN</td>\n",
       "      <td>NaN</td>\n",
       "      <td>NaN</td>\n",
       "      <td>NaN</td>\n",
       "    </tr>\n",
       "    <tr>\n",
       "      <th>2000-01-07</th>\n",
       "      <td>NaN</td>\n",
       "      <td>NaN</td>\n",
       "      <td>NaN</td>\n",
       "      <td>NaN</td>\n",
       "      <td>NaN</td>\n",
       "      <td>NaN</td>\n",
       "    </tr>\n",
       "    <tr>\n",
       "      <th>2000-01-08</th>\n",
       "      <td>0.460754</td>\n",
       "      <td>0.269623</td>\n",
       "      <td>0.363214</td>\n",
       "      <td>0.318393</td>\n",
       "      <td>0.509585</td>\n",
       "      <td>0.754793</td>\n",
       "    </tr>\n",
       "    <tr>\n",
       "      <th>2000-01-09</th>\n",
       "      <td>0.092737</td>\n",
       "      <td>0.546368</td>\n",
       "      <td>0.980588</td>\n",
       "      <td>0.009706</td>\n",
       "      <td>0.254749</td>\n",
       "      <td>0.372626</td>\n",
       "    </tr>\n",
       "    <tr>\n",
       "      <th>2000-01-10</th>\n",
       "      <td>0.706191</td>\n",
       "      <td>0.146905</td>\n",
       "      <td>0.641566</td>\n",
       "      <td>0.820783</td>\n",
       "      <td>0.269556</td>\n",
       "      <td>0.634778</td>\n",
       "    </tr>\n",
       "  </tbody>\n",
       "</table>\n",
       "</div>"
      ],
      "text/plain": [
       "                   A                   B                   C          \n",
       "            absolute  <lambda>  absolute  <lambda>  absolute  <lambda>\n",
       "2000-01-01  1.336960  1.168480  1.574272  1.287136  1.479781  1.239891\n",
       "2000-01-02  1.520253 -0.260127  0.008169  0.495916  1.087702 -0.043851\n",
       "2000-01-03  0.510894  0.755447  0.759183  0.879591  0.682781  0.841391\n",
       "2000-01-04       NaN       NaN       NaN       NaN       NaN       NaN\n",
       "2000-01-05       NaN       NaN       NaN       NaN       NaN       NaN\n",
       "2000-01-06       NaN       NaN       NaN       NaN       NaN       NaN\n",
       "2000-01-07       NaN       NaN       NaN       NaN       NaN       NaN\n",
       "2000-01-08  0.460754  0.269623  0.363214  0.318393  0.509585  0.754793\n",
       "2000-01-09  0.092737  0.546368  0.980588  0.009706  0.254749  0.372626\n",
       "2000-01-10  0.706191  0.146905  0.641566  0.820783  0.269556  0.634778"
      ]
     },
     "execution_count": 139,
     "metadata": {},
     "output_type": "execute_result"
    }
   ],
   "source": [
    "tsdf.transform([np.abs, lambda x: (x+1)/2])"
   ]
  },
  {
   "cell_type": "code",
   "execution_count": 144,
   "id": "6dd367a6",
   "metadata": {},
   "outputs": [
    {
     "data": {
      "application/vnd.microsoft.datawrangler.viewer.v0+json": {
       "columns": [
        {
         "name": "index",
         "rawType": "datetime64[ns]",
         "type": "datetime"
        },
        {
         "name": "('A', 'absolute')",
         "rawType": "float64",
         "type": "float"
        },
        {
         "name": "('B', 'exp')",
         "rawType": "float64",
         "type": "float"
        },
        {
         "name": "('B', '<lambda>')",
         "rawType": "float64",
         "type": "float"
        }
       ],
       "ref": "b4714796-2621-4689-bcd9-7248df992985",
       "rows": [
        [
         "2000-01-01 00:00:00",
         "1.3369599718767469",
         "4.827225291083227",
         "2.5742718286953172"
        ],
        [
         "2000-01-02 00:00:00",
         "1.5202530427573848",
         "0.9918647352683507",
         "0.9918314634292096"
        ],
        [
         "2000-01-03 00:00:00",
         "0.5108935708244724",
         "2.1365295121118977",
         "1.7591827893048773"
        ],
        [
         "2000-01-04 00:00:00",
         null,
         null,
         null
        ],
        [
         "2000-01-05 00:00:00",
         null,
         null,
         null
        ],
        [
         "2000-01-06 00:00:00",
         null,
         null,
         null
        ],
        [
         "2000-01-07 00:00:00",
         null,
         null,
         null
        ],
        [
         "2000-01-08 00:00:00",
         "0.46075351941957066",
         "0.6954374043070325",
         "0.6367857273346691"
        ],
        [
         "2000-01-09 00:00:00",
         "0.0927369544978455",
         "0.3750903269043029",
         "0.019411589728140277"
        ],
        [
         "2000-01-10 00:00:00",
         "0.7061905299760648",
         "1.8994521569800182",
         "1.6415655061633074"
        ]
       ],
       "shape": {
        "columns": 3,
        "rows": 10
       }
      },
      "text/html": [
       "<div>\n",
       "<style scoped>\n",
       "    .dataframe tbody tr th:only-of-type {\n",
       "        vertical-align: middle;\n",
       "    }\n",
       "\n",
       "    .dataframe tbody tr th {\n",
       "        vertical-align: top;\n",
       "    }\n",
       "\n",
       "    .dataframe thead tr th {\n",
       "        text-align: left;\n",
       "    }\n",
       "</style>\n",
       "<table border=\"1\" class=\"dataframe\">\n",
       "  <thead>\n",
       "    <tr>\n",
       "      <th></th>\n",
       "      <th>A</th>\n",
       "      <th colspan=\"2\" halign=\"left\">B</th>\n",
       "    </tr>\n",
       "    <tr>\n",
       "      <th></th>\n",
       "      <th>absolute</th>\n",
       "      <th>exp</th>\n",
       "      <th>&lt;lambda&gt;</th>\n",
       "    </tr>\n",
       "  </thead>\n",
       "  <tbody>\n",
       "    <tr>\n",
       "      <th>2000-01-01</th>\n",
       "      <td>1.336960</td>\n",
       "      <td>4.827225</td>\n",
       "      <td>2.574272</td>\n",
       "    </tr>\n",
       "    <tr>\n",
       "      <th>2000-01-02</th>\n",
       "      <td>1.520253</td>\n",
       "      <td>0.991865</td>\n",
       "      <td>0.991831</td>\n",
       "    </tr>\n",
       "    <tr>\n",
       "      <th>2000-01-03</th>\n",
       "      <td>0.510894</td>\n",
       "      <td>2.136530</td>\n",
       "      <td>1.759183</td>\n",
       "    </tr>\n",
       "    <tr>\n",
       "      <th>2000-01-04</th>\n",
       "      <td>NaN</td>\n",
       "      <td>NaN</td>\n",
       "      <td>NaN</td>\n",
       "    </tr>\n",
       "    <tr>\n",
       "      <th>2000-01-05</th>\n",
       "      <td>NaN</td>\n",
       "      <td>NaN</td>\n",
       "      <td>NaN</td>\n",
       "    </tr>\n",
       "    <tr>\n",
       "      <th>2000-01-06</th>\n",
       "      <td>NaN</td>\n",
       "      <td>NaN</td>\n",
       "      <td>NaN</td>\n",
       "    </tr>\n",
       "    <tr>\n",
       "      <th>2000-01-07</th>\n",
       "      <td>NaN</td>\n",
       "      <td>NaN</td>\n",
       "      <td>NaN</td>\n",
       "    </tr>\n",
       "    <tr>\n",
       "      <th>2000-01-08</th>\n",
       "      <td>0.460754</td>\n",
       "      <td>0.695437</td>\n",
       "      <td>0.636786</td>\n",
       "    </tr>\n",
       "    <tr>\n",
       "      <th>2000-01-09</th>\n",
       "      <td>0.092737</td>\n",
       "      <td>0.375090</td>\n",
       "      <td>0.019412</td>\n",
       "    </tr>\n",
       "    <tr>\n",
       "      <th>2000-01-10</th>\n",
       "      <td>0.706191</td>\n",
       "      <td>1.899452</td>\n",
       "      <td>1.641566</td>\n",
       "    </tr>\n",
       "  </tbody>\n",
       "</table>\n",
       "</div>"
      ],
      "text/plain": [
       "                   A         B          \n",
       "            absolute       exp  <lambda>\n",
       "2000-01-01  1.336960  4.827225  2.574272\n",
       "2000-01-02  1.520253  0.991865  0.991831\n",
       "2000-01-03  0.510894  2.136530  1.759183\n",
       "2000-01-04       NaN       NaN       NaN\n",
       "2000-01-05       NaN       NaN       NaN\n",
       "2000-01-06       NaN       NaN       NaN\n",
       "2000-01-07       NaN       NaN       NaN\n",
       "2000-01-08  0.460754  0.695437  0.636786\n",
       "2000-01-09  0.092737  0.375090  0.019412\n",
       "2000-01-10  0.706191  1.899452  1.641566"
      ]
     },
     "execution_count": 144,
     "metadata": {},
     "output_type": "execute_result"
    }
   ],
   "source": [
    "tsdf.transform({\"A\": np.abs, \"B\": [np.exp, lambda x: x+1]})"
   ]
  },
  {
   "cell_type": "code",
   "execution_count": 148,
   "id": "5b6d7007",
   "metadata": {},
   "outputs": [
    {
     "data": {
      "application/vnd.microsoft.datawrangler.viewer.v0+json": {
       "columns": [
        {
         "name": "index",
         "rawType": "int64",
         "type": "integer"
        },
        {
         "name": "student",
         "rawType": "object",
         "type": "string"
        },
        {
         "name": "grade",
         "rawType": "object",
         "type": "string"
        },
        {
         "name": "gpd",
         "rawType": "float64",
         "type": "float"
        }
       ],
       "ref": "e001a9a6-d789-46e5-bce6-37d3360e90f6",
       "rows": [
        [
         "0",
         "Alice",
         "A-",
         "3.7"
        ],
        [
         "1",
         "Bob",
         "B+",
         "3.3"
        ],
        [
         "2",
         "Charlie",
         "X",
         "0.0"
        ],
        [
         "3",
         "John",
         "C",
         "2.0"
        ]
       ],
       "shape": {
        "columns": 3,
        "rows": 4
       }
      },
      "text/html": [
       "<div>\n",
       "<style scoped>\n",
       "    .dataframe tbody tr th:only-of-type {\n",
       "        vertical-align: middle;\n",
       "    }\n",
       "\n",
       "    .dataframe tbody tr th {\n",
       "        vertical-align: top;\n",
       "    }\n",
       "\n",
       "    .dataframe thead th {\n",
       "        text-align: right;\n",
       "    }\n",
       "</style>\n",
       "<table border=\"1\" class=\"dataframe\">\n",
       "  <thead>\n",
       "    <tr style=\"text-align: right;\">\n",
       "      <th></th>\n",
       "      <th>student</th>\n",
       "      <th>grade</th>\n",
       "      <th>gpd</th>\n",
       "    </tr>\n",
       "  </thead>\n",
       "  <tbody>\n",
       "    <tr>\n",
       "      <th>0</th>\n",
       "      <td>Alice</td>\n",
       "      <td>A-</td>\n",
       "      <td>3.7</td>\n",
       "    </tr>\n",
       "    <tr>\n",
       "      <th>1</th>\n",
       "      <td>Bob</td>\n",
       "      <td>B+</td>\n",
       "      <td>3.3</td>\n",
       "    </tr>\n",
       "    <tr>\n",
       "      <th>2</th>\n",
       "      <td>Charlie</td>\n",
       "      <td>X</td>\n",
       "      <td>0.0</td>\n",
       "    </tr>\n",
       "    <tr>\n",
       "      <th>3</th>\n",
       "      <td>John</td>\n",
       "      <td>C</td>\n",
       "      <td>2.0</td>\n",
       "    </tr>\n",
       "  </tbody>\n",
       "</table>\n",
       "</div>"
      ],
      "text/plain": [
       "   student grade  gpd\n",
       "0    Alice    A-  3.7\n",
       "1      Bob    B+  3.3\n",
       "2  Charlie     X  0.0\n",
       "3     John     C  2.0"
      ]
     },
     "execution_count": 148,
     "metadata": {},
     "output_type": "execute_result"
    }
   ],
   "source": [
    "# A practical use case of map()\n",
    "# Grade conversion - complex mapping that replace() can't handle easily\n",
    "grade_mapping = {\n",
    "    'A+': 4.0, 'A': 4.0, 'A-': 3.7,\n",
    "    'B+': 3.3, 'B': 3.0, 'B-': 2.7,\n",
    "    'C+': 2.3, 'C': 2.0, 'C-': 1.7,\n",
    "    'D': 1.0, 'F': 0.0\n",
    "}\n",
    "\n",
    "# Default to 0.0 for invalid grades\n",
    "def convert_grade(grade):\n",
    "    return grade_mapping.get(grade, 0.0)\n",
    "\n",
    "df_students = pd.DataFrame({\n",
    "    'student': ['Alice', 'Bob', 'Charlie', 'John'],\n",
    "    'grade': ['A-', 'B+', 'X', 'C']  # Note: 'X' is invalid\n",
    "})\n",
    "\n",
    "df_students['gpd'] = df_students['grade'].map(convert_grade)\n",
    "\n",
    "df_students\n"
   ]
  },
  {
   "cell_type": "code",
   "execution_count": 149,
   "id": "64cd3208",
   "metadata": {},
   "outputs": [
    {
     "data": {
      "application/vnd.microsoft.datawrangler.viewer.v0+json": {
       "columns": [
        {
         "name": "index",
         "rawType": "object",
         "type": "string"
        },
        {
         "name": "0",
         "rawType": "float64",
         "type": "float"
        }
       ],
       "ref": "594f7b36-7c1c-4520-aa9a-d6178acde99e",
       "rows": [
        [
         "a",
         "-0.4572975905017353"
        ],
        [
         "b",
         "1.3019393878513723"
        ],
        [
         "c",
         "-0.1370988544735153"
        ],
        [
         "d",
         "-0.20887064152762946"
        ],
        [
         "e",
         "0.4296144649384774"
        ]
       ],
       "shape": {
        "columns": 1,
        "rows": 5
       }
      },
      "text/plain": [
       "a   -0.457298\n",
       "b    1.301939\n",
       "c   -0.137099\n",
       "d   -0.208871\n",
       "e    0.429614\n",
       "dtype: float64"
      ]
     },
     "execution_count": 149,
     "metadata": {},
     "output_type": "execute_result"
    }
   ],
   "source": [
    "s = pd.Series(np.random.randn(5), index=[\"a\", \"b\", \"c\", \"d\", \"e\"])\n",
    "s"
   ]
  },
  {
   "cell_type": "code",
   "execution_count": 150,
   "id": "9ea06cc0",
   "metadata": {},
   "outputs": [
    {
     "data": {
      "application/vnd.microsoft.datawrangler.viewer.v0+json": {
       "columns": [
        {
         "name": "index",
         "rawType": "object",
         "type": "string"
        },
        {
         "name": "0",
         "rawType": "float64",
         "type": "float"
        }
       ],
       "ref": "4a56b86d-4f4f-48f4-b322-b9aba54a5aea",
       "rows": [
        [
         "b",
         "1.3019393878513723"
        ],
        [
         "c",
         "-0.1370988544735153"
        ],
        [
         "a",
         "-0.4572975905017353"
        ]
       ],
       "shape": {
        "columns": 1,
        "rows": 3
       }
      },
      "text/plain": [
       "b    1.301939\n",
       "c   -0.137099\n",
       "a   -0.457298\n",
       "dtype: float64"
      ]
     },
     "execution_count": 150,
     "metadata": {},
     "output_type": "execute_result"
    }
   ],
   "source": [
    "s.reindex(['b', 'c', 'a'])"
   ]
  },
  {
   "cell_type": "code",
   "execution_count": 151,
   "id": "8797397d",
   "metadata": {},
   "outputs": [
    {
     "data": {
      "application/vnd.microsoft.datawrangler.viewer.v0+json": {
       "columns": [
        {
         "name": "index",
         "rawType": "object",
         "type": "string"
        },
        {
         "name": "one",
         "rawType": "float64",
         "type": "float"
        },
        {
         "name": "two",
         "rawType": "float64",
         "type": "float"
        },
        {
         "name": "three",
         "rawType": "float64",
         "type": "float"
        }
       ],
       "ref": "5332b025-9a9d-4c96-a05d-55aa7ee6683b",
       "rows": [
        [
         "a",
         "-0.5630048723451758",
         "-0.6973664495185574",
         null
        ],
        [
         "b",
         "1.2084689573384333",
         "1.0754820475529203",
         "0.38372477122442256"
        ],
        [
         "c",
         "-1.5997929889457378",
         "-0.9910705050119848",
         "-0.6576757145086247"
        ],
        [
         "d",
         null,
         "0.8313391395623884",
         "0.37445530804131727"
        ]
       ],
       "shape": {
        "columns": 3,
        "rows": 4
       }
      },
      "text/html": [
       "<div>\n",
       "<style scoped>\n",
       "    .dataframe tbody tr th:only-of-type {\n",
       "        vertical-align: middle;\n",
       "    }\n",
       "\n",
       "    .dataframe tbody tr th {\n",
       "        vertical-align: top;\n",
       "    }\n",
       "\n",
       "    .dataframe thead th {\n",
       "        text-align: right;\n",
       "    }\n",
       "</style>\n",
       "<table border=\"1\" class=\"dataframe\">\n",
       "  <thead>\n",
       "    <tr style=\"text-align: right;\">\n",
       "      <th></th>\n",
       "      <th>one</th>\n",
       "      <th>two</th>\n",
       "      <th>three</th>\n",
       "    </tr>\n",
       "  </thead>\n",
       "  <tbody>\n",
       "    <tr>\n",
       "      <th>a</th>\n",
       "      <td>-0.563005</td>\n",
       "      <td>-0.697366</td>\n",
       "      <td>NaN</td>\n",
       "    </tr>\n",
       "    <tr>\n",
       "      <th>b</th>\n",
       "      <td>1.208469</td>\n",
       "      <td>1.075482</td>\n",
       "      <td>0.383725</td>\n",
       "    </tr>\n",
       "    <tr>\n",
       "      <th>c</th>\n",
       "      <td>-1.599793</td>\n",
       "      <td>-0.991071</td>\n",
       "      <td>-0.657676</td>\n",
       "    </tr>\n",
       "    <tr>\n",
       "      <th>d</th>\n",
       "      <td>NaN</td>\n",
       "      <td>0.831339</td>\n",
       "      <td>0.374455</td>\n",
       "    </tr>\n",
       "  </tbody>\n",
       "</table>\n",
       "</div>"
      ],
      "text/plain": [
       "        one       two     three\n",
       "a -0.563005 -0.697366       NaN\n",
       "b  1.208469  1.075482  0.383725\n",
       "c -1.599793 -0.991071 -0.657676\n",
       "d       NaN  0.831339  0.374455"
      ]
     },
     "execution_count": 151,
     "metadata": {},
     "output_type": "execute_result"
    }
   ],
   "source": [
    "df"
   ]
  },
  {
   "cell_type": "code",
   "execution_count": 152,
   "id": "e6bb918f",
   "metadata": {},
   "outputs": [
    {
     "data": {
      "application/vnd.microsoft.datawrangler.viewer.v0+json": {
       "columns": [
        {
         "name": "index",
         "rawType": "object",
         "type": "string"
        },
        {
         "name": "three",
         "rawType": "float64",
         "type": "float"
        },
        {
         "name": "one",
         "rawType": "float64",
         "type": "float"
        }
       ],
       "ref": "2a4fd5e9-799a-455e-a96f-feb0986fa2c1",
       "rows": [
        [
         "b",
         "0.38372477122442256",
         "1.2084689573384333"
        ],
        [
         "c",
         "-0.6576757145086247",
         "-1.5997929889457378"
        ],
        [
         "a",
         null,
         "-0.5630048723451758"
        ]
       ],
       "shape": {
        "columns": 2,
        "rows": 3
       }
      },
      "text/html": [
       "<div>\n",
       "<style scoped>\n",
       "    .dataframe tbody tr th:only-of-type {\n",
       "        vertical-align: middle;\n",
       "    }\n",
       "\n",
       "    .dataframe tbody tr th {\n",
       "        vertical-align: top;\n",
       "    }\n",
       "\n",
       "    .dataframe thead th {\n",
       "        text-align: right;\n",
       "    }\n",
       "</style>\n",
       "<table border=\"1\" class=\"dataframe\">\n",
       "  <thead>\n",
       "    <tr style=\"text-align: right;\">\n",
       "      <th></th>\n",
       "      <th>three</th>\n",
       "      <th>one</th>\n",
       "    </tr>\n",
       "  </thead>\n",
       "  <tbody>\n",
       "    <tr>\n",
       "      <th>b</th>\n",
       "      <td>0.383725</td>\n",
       "      <td>1.208469</td>\n",
       "    </tr>\n",
       "    <tr>\n",
       "      <th>c</th>\n",
       "      <td>-0.657676</td>\n",
       "      <td>-1.599793</td>\n",
       "    </tr>\n",
       "    <tr>\n",
       "      <th>a</th>\n",
       "      <td>NaN</td>\n",
       "      <td>-0.563005</td>\n",
       "    </tr>\n",
       "  </tbody>\n",
       "</table>\n",
       "</div>"
      ],
      "text/plain": [
       "      three       one\n",
       "b  0.383725  1.208469\n",
       "c -0.657676 -1.599793\n",
       "a       NaN -0.563005"
      ]
     },
     "execution_count": 152,
     "metadata": {},
     "output_type": "execute_result"
    }
   ],
   "source": [
    "df.reindex(index=['b', 'c', 'a'], columns=['three', 'one'])"
   ]
  },
  {
   "cell_type": "code",
   "execution_count": 153,
   "id": "deb8e6bd",
   "metadata": {},
   "outputs": [
    {
     "data": {
      "application/vnd.microsoft.datawrangler.viewer.v0+json": {
       "columns": [
        {
         "name": "index",
         "rawType": "object",
         "type": "string"
        },
        {
         "name": "one",
         "rawType": "float64",
         "type": "float"
        },
        {
         "name": "two",
         "rawType": "float64",
         "type": "float"
        }
       ],
       "ref": "3272e5b0-e245-4f77-9b58-7b022d188d19",
       "rows": [
        [
         "a",
         "-0.5630048723451758",
         "-0.6973664495185574"
        ],
        [
         "b",
         "1.2084689573384333",
         "1.0754820475529203"
        ],
        [
         "c",
         "-1.5997929889457378",
         "-0.9910705050119848"
        ]
       ],
       "shape": {
        "columns": 2,
        "rows": 3
       }
      },
      "text/html": [
       "<div>\n",
       "<style scoped>\n",
       "    .dataframe tbody tr th:only-of-type {\n",
       "        vertical-align: middle;\n",
       "    }\n",
       "\n",
       "    .dataframe tbody tr th {\n",
       "        vertical-align: top;\n",
       "    }\n",
       "\n",
       "    .dataframe thead th {\n",
       "        text-align: right;\n",
       "    }\n",
       "</style>\n",
       "<table border=\"1\" class=\"dataframe\">\n",
       "  <thead>\n",
       "    <tr style=\"text-align: right;\">\n",
       "      <th></th>\n",
       "      <th>one</th>\n",
       "      <th>two</th>\n",
       "    </tr>\n",
       "  </thead>\n",
       "  <tbody>\n",
       "    <tr>\n",
       "      <th>a</th>\n",
       "      <td>-0.563005</td>\n",
       "      <td>-0.697366</td>\n",
       "    </tr>\n",
       "    <tr>\n",
       "      <th>b</th>\n",
       "      <td>1.208469</td>\n",
       "      <td>1.075482</td>\n",
       "    </tr>\n",
       "    <tr>\n",
       "      <th>c</th>\n",
       "      <td>-1.599793</td>\n",
       "      <td>-0.991071</td>\n",
       "    </tr>\n",
       "  </tbody>\n",
       "</table>\n",
       "</div>"
      ],
      "text/plain": [
       "        one       two\n",
       "a -0.563005 -0.697366\n",
       "b  1.208469  1.075482\n",
       "c -1.599793 -0.991071"
      ]
     },
     "execution_count": 153,
     "metadata": {},
     "output_type": "execute_result"
    }
   ],
   "source": [
    "df2 = df.reindex([\"a\", \"b\", \"c\"], columns=[\"one\", \"two\"])\n",
    "df2"
   ]
  },
  {
   "cell_type": "code",
   "execution_count": 154,
   "id": "005731fb",
   "metadata": {},
   "outputs": [
    {
     "data": {
      "application/vnd.microsoft.datawrangler.viewer.v0+json": {
       "columns": [
        {
         "name": "index",
         "rawType": "object",
         "type": "string"
        },
        {
         "name": "one",
         "rawType": "float64",
         "type": "float"
        },
        {
         "name": "two",
         "rawType": "float64",
         "type": "float"
        }
       ],
       "ref": "1a03eff5-cb2f-4334-92b9-08f166cc7b9f",
       "rows": [
        [
         "a",
         "-0.5630048723451758",
         "-0.6973664495185574"
        ],
        [
         "b",
         "1.2084689573384333",
         "1.0754820475529203"
        ],
        [
         "c",
         "-1.5997929889457378",
         "-0.9910705050119848"
        ]
       ],
       "shape": {
        "columns": 2,
        "rows": 3
       }
      },
      "text/html": [
       "<div>\n",
       "<style scoped>\n",
       "    .dataframe tbody tr th:only-of-type {\n",
       "        vertical-align: middle;\n",
       "    }\n",
       "\n",
       "    .dataframe tbody tr th {\n",
       "        vertical-align: top;\n",
       "    }\n",
       "\n",
       "    .dataframe thead th {\n",
       "        text-align: right;\n",
       "    }\n",
       "</style>\n",
       "<table border=\"1\" class=\"dataframe\">\n",
       "  <thead>\n",
       "    <tr style=\"text-align: right;\">\n",
       "      <th></th>\n",
       "      <th>one</th>\n",
       "      <th>two</th>\n",
       "    </tr>\n",
       "  </thead>\n",
       "  <tbody>\n",
       "    <tr>\n",
       "      <th>a</th>\n",
       "      <td>-0.563005</td>\n",
       "      <td>-0.697366</td>\n",
       "    </tr>\n",
       "    <tr>\n",
       "      <th>b</th>\n",
       "      <td>1.208469</td>\n",
       "      <td>1.075482</td>\n",
       "    </tr>\n",
       "    <tr>\n",
       "      <th>c</th>\n",
       "      <td>-1.599793</td>\n",
       "      <td>-0.991071</td>\n",
       "    </tr>\n",
       "  </tbody>\n",
       "</table>\n",
       "</div>"
      ],
      "text/plain": [
       "        one       two\n",
       "a -0.563005 -0.697366\n",
       "b  1.208469  1.075482\n",
       "c -1.599793 -0.991071"
      ]
     },
     "execution_count": 154,
     "metadata": {},
     "output_type": "execute_result"
    }
   ],
   "source": [
    "df.reindex_like(df2)"
   ]
  },
  {
   "cell_type": "code",
   "execution_count": 155,
   "id": "cac264a6",
   "metadata": {},
   "outputs": [
    {
     "data": {
      "application/vnd.microsoft.datawrangler.viewer.v0+json": {
       "columns": [
        {
         "name": "index",
         "rawType": "object",
         "type": "string"
        },
        {
         "name": "0",
         "rawType": "float64",
         "type": "float"
        }
       ],
       "ref": "e644d7fc-f8c3-4c47-972a-49e94ca62209",
       "rows": [
        [
         "a",
         "-0.2626951969860149"
        ],
        [
         "b",
         "-1.2438568833784853"
        ],
        [
         "c",
         "1.8538995464115777"
        ],
        [
         "d",
         "0.9121431723355415"
        ],
        [
         "e",
         "0.20168401906431976"
        ]
       ],
       "shape": {
        "columns": 1,
        "rows": 5
       }
      },
      "text/plain": [
       "a   -0.262695\n",
       "b   -1.243857\n",
       "c    1.853900\n",
       "d    0.912143\n",
       "e    0.201684\n",
       "dtype: float64"
      ]
     },
     "execution_count": 155,
     "metadata": {},
     "output_type": "execute_result"
    }
   ],
   "source": [
    "s = pd.Series(np.random.randn(5), index=[\"a\", \"b\", \"c\", \"d\", \"e\"])\n",
    "s1 = s[:4]\n",
    "s2 = s[1:]\n",
    "s"
   ]
  },
  {
   "cell_type": "code",
   "execution_count": 156,
   "id": "ba62b51d",
   "metadata": {},
   "outputs": [
    {
     "data": {
      "application/vnd.microsoft.datawrangler.viewer.v0+json": {
       "columns": [
        {
         "name": "index",
         "rawType": "object",
         "type": "string"
        },
        {
         "name": "0",
         "rawType": "float64",
         "type": "float"
        }
       ],
       "ref": "5598e3a0-355f-4a6c-a92b-416d742b8dc2",
       "rows": [
        [
         "a",
         "-0.2626951969860149"
        ],
        [
         "b",
         "-1.2438568833784853"
        ],
        [
         "c",
         "1.8538995464115777"
        ],
        [
         "d",
         "0.9121431723355415"
        ]
       ],
       "shape": {
        "columns": 1,
        "rows": 4
       }
      },
      "text/plain": [
       "a   -0.262695\n",
       "b   -1.243857\n",
       "c    1.853900\n",
       "d    0.912143\n",
       "dtype: float64"
      ]
     },
     "execution_count": 156,
     "metadata": {},
     "output_type": "execute_result"
    }
   ],
   "source": [
    "s1"
   ]
  },
  {
   "cell_type": "code",
   "execution_count": 157,
   "id": "4724342d",
   "metadata": {},
   "outputs": [
    {
     "data": {
      "application/vnd.microsoft.datawrangler.viewer.v0+json": {
       "columns": [
        {
         "name": "index",
         "rawType": "object",
         "type": "string"
        },
        {
         "name": "0",
         "rawType": "float64",
         "type": "float"
        }
       ],
       "ref": "a2f74d95-a452-4b01-8eea-1d6db05914ac",
       "rows": [
        [
         "b",
         "-1.2438568833784853"
        ],
        [
         "c",
         "1.8538995464115777"
        ],
        [
         "d",
         "0.9121431723355415"
        ],
        [
         "e",
         "0.20168401906431976"
        ]
       ],
       "shape": {
        "columns": 1,
        "rows": 4
       }
      },
      "text/plain": [
       "b   -1.243857\n",
       "c    1.853900\n",
       "d    0.912143\n",
       "e    0.201684\n",
       "dtype: float64"
      ]
     },
     "execution_count": 157,
     "metadata": {},
     "output_type": "execute_result"
    }
   ],
   "source": [
    "s2"
   ]
  },
  {
   "cell_type": "code",
   "execution_count": 162,
   "id": "252b0518",
   "metadata": {},
   "outputs": [
    {
     "data": {
      "application/vnd.microsoft.datawrangler.viewer.v0+json": {
       "columns": [
        {
         "name": "index",
         "rawType": "object",
         "type": "string"
        },
        {
         "name": "0",
         "rawType": "float64",
         "type": "float"
        },
        {
         "name": "1",
         "rawType": "float64",
         "type": "float"
        }
       ],
       "ref": "c4ea636c-f611-454e-889b-8a6d4f819697",
       "rows": [
        [
         "a",
         "-0.2626951969860149",
         null
        ],
        [
         "b",
         "-1.2438568833784853",
         "-1.2438568833784853"
        ],
        [
         "c",
         "1.8538995464115777",
         "1.8538995464115777"
        ],
        [
         "d",
         "0.9121431723355415",
         "0.9121431723355415"
        ],
        [
         "e",
         null,
         "0.20168401906431976"
        ]
       ],
       "shape": {
        "columns": 2,
        "rows": 5
       }
      },
      "text/html": [
       "<div>\n",
       "<style scoped>\n",
       "    .dataframe tbody tr th:only-of-type {\n",
       "        vertical-align: middle;\n",
       "    }\n",
       "\n",
       "    .dataframe tbody tr th {\n",
       "        vertical-align: top;\n",
       "    }\n",
       "\n",
       "    .dataframe thead th {\n",
       "        text-align: right;\n",
       "    }\n",
       "</style>\n",
       "<table border=\"1\" class=\"dataframe\">\n",
       "  <thead>\n",
       "    <tr style=\"text-align: right;\">\n",
       "      <th></th>\n",
       "      <th>0</th>\n",
       "      <th>1</th>\n",
       "    </tr>\n",
       "  </thead>\n",
       "  <tbody>\n",
       "    <tr>\n",
       "      <th>a</th>\n",
       "      <td>-0.262695</td>\n",
       "      <td>NaN</td>\n",
       "    </tr>\n",
       "    <tr>\n",
       "      <th>b</th>\n",
       "      <td>-1.243857</td>\n",
       "      <td>-1.243857</td>\n",
       "    </tr>\n",
       "    <tr>\n",
       "      <th>c</th>\n",
       "      <td>1.853900</td>\n",
       "      <td>1.853900</td>\n",
       "    </tr>\n",
       "    <tr>\n",
       "      <th>d</th>\n",
       "      <td>0.912143</td>\n",
       "      <td>0.912143</td>\n",
       "    </tr>\n",
       "    <tr>\n",
       "      <th>e</th>\n",
       "      <td>NaN</td>\n",
       "      <td>0.201684</td>\n",
       "    </tr>\n",
       "  </tbody>\n",
       "</table>\n",
       "</div>"
      ],
      "text/plain": [
       "          0         1\n",
       "a -0.262695       NaN\n",
       "b -1.243857 -1.243857\n",
       "c  1.853900  1.853900\n",
       "d  0.912143  0.912143\n",
       "e       NaN  0.201684"
      ]
     },
     "execution_count": 162,
     "metadata": {},
     "output_type": "execute_result"
    }
   ],
   "source": [
    "s5 = s1.align(s2)\n",
    "pd.DataFrame(s5).T"
   ]
  },
  {
   "cell_type": "code",
   "execution_count": 163,
   "id": "2604bb6a",
   "metadata": {},
   "outputs": [
    {
     "data": {
      "application/vnd.microsoft.datawrangler.viewer.v0+json": {
       "columns": [
        {
         "name": "index",
         "rawType": "object",
         "type": "string"
        },
        {
         "name": "one",
         "rawType": "float64",
         "type": "float"
        },
        {
         "name": "two",
         "rawType": "float64",
         "type": "float"
        },
        {
         "name": "three",
         "rawType": "float64",
         "type": "float"
        }
       ],
       "ref": "1e8efa23-6aff-4c0f-8f09-09b085a28aeb",
       "rows": [
        [
         "a",
         "-0.5630048723451758",
         "-0.6973664495185574",
         null
        ],
        [
         "b",
         "1.2084689573384333",
         "1.0754820475529203",
         "0.38372477122442256"
        ],
        [
         "c",
         "-1.5997929889457378",
         "-0.9910705050119848",
         "-0.6576757145086247"
        ],
        [
         "d",
         null,
         "0.8313391395623884",
         "0.37445530804131727"
        ]
       ],
       "shape": {
        "columns": 3,
        "rows": 4
       }
      },
      "text/html": [
       "<div>\n",
       "<style scoped>\n",
       "    .dataframe tbody tr th:only-of-type {\n",
       "        vertical-align: middle;\n",
       "    }\n",
       "\n",
       "    .dataframe tbody tr th {\n",
       "        vertical-align: top;\n",
       "    }\n",
       "\n",
       "    .dataframe thead th {\n",
       "        text-align: right;\n",
       "    }\n",
       "</style>\n",
       "<table border=\"1\" class=\"dataframe\">\n",
       "  <thead>\n",
       "    <tr style=\"text-align: right;\">\n",
       "      <th></th>\n",
       "      <th>one</th>\n",
       "      <th>two</th>\n",
       "      <th>three</th>\n",
       "    </tr>\n",
       "  </thead>\n",
       "  <tbody>\n",
       "    <tr>\n",
       "      <th>a</th>\n",
       "      <td>-0.563005</td>\n",
       "      <td>-0.697366</td>\n",
       "      <td>NaN</td>\n",
       "    </tr>\n",
       "    <tr>\n",
       "      <th>b</th>\n",
       "      <td>1.208469</td>\n",
       "      <td>1.075482</td>\n",
       "      <td>0.383725</td>\n",
       "    </tr>\n",
       "    <tr>\n",
       "      <th>c</th>\n",
       "      <td>-1.599793</td>\n",
       "      <td>-0.991071</td>\n",
       "      <td>-0.657676</td>\n",
       "    </tr>\n",
       "    <tr>\n",
       "      <th>d</th>\n",
       "      <td>NaN</td>\n",
       "      <td>0.831339</td>\n",
       "      <td>0.374455</td>\n",
       "    </tr>\n",
       "  </tbody>\n",
       "</table>\n",
       "</div>"
      ],
      "text/plain": [
       "        one       two     three\n",
       "a -0.563005 -0.697366       NaN\n",
       "b  1.208469  1.075482  0.383725\n",
       "c -1.599793 -0.991071 -0.657676\n",
       "d       NaN  0.831339  0.374455"
      ]
     },
     "execution_count": 163,
     "metadata": {},
     "output_type": "execute_result"
    }
   ],
   "source": [
    "df"
   ]
  },
  {
   "cell_type": "code",
   "execution_count": 164,
   "id": "4f59414b",
   "metadata": {},
   "outputs": [
    {
     "data": {
      "application/vnd.microsoft.datawrangler.viewer.v0+json": {
       "columns": [
        {
         "name": "index",
         "rawType": "object",
         "type": "string"
        },
        {
         "name": "one",
         "rawType": "float64",
         "type": "float"
        },
        {
         "name": "two",
         "rawType": "float64",
         "type": "float"
        }
       ],
       "ref": "aad68bfd-b0bd-4ecf-a6fa-f39865cc39ea",
       "rows": [
        [
         "a",
         "-0.5630048723451758",
         "-0.6973664495185574"
        ],
        [
         "b",
         "1.2084689573384333",
         "1.0754820475529203"
        ],
        [
         "c",
         "-1.5997929889457378",
         "-0.9910705050119848"
        ]
       ],
       "shape": {
        "columns": 2,
        "rows": 3
       }
      },
      "text/html": [
       "<div>\n",
       "<style scoped>\n",
       "    .dataframe tbody tr th:only-of-type {\n",
       "        vertical-align: middle;\n",
       "    }\n",
       "\n",
       "    .dataframe tbody tr th {\n",
       "        vertical-align: top;\n",
       "    }\n",
       "\n",
       "    .dataframe thead th {\n",
       "        text-align: right;\n",
       "    }\n",
       "</style>\n",
       "<table border=\"1\" class=\"dataframe\">\n",
       "  <thead>\n",
       "    <tr style=\"text-align: right;\">\n",
       "      <th></th>\n",
       "      <th>one</th>\n",
       "      <th>two</th>\n",
       "    </tr>\n",
       "  </thead>\n",
       "  <tbody>\n",
       "    <tr>\n",
       "      <th>a</th>\n",
       "      <td>-0.563005</td>\n",
       "      <td>-0.697366</td>\n",
       "    </tr>\n",
       "    <tr>\n",
       "      <th>b</th>\n",
       "      <td>1.208469</td>\n",
       "      <td>1.075482</td>\n",
       "    </tr>\n",
       "    <tr>\n",
       "      <th>c</th>\n",
       "      <td>-1.599793</td>\n",
       "      <td>-0.991071</td>\n",
       "    </tr>\n",
       "  </tbody>\n",
       "</table>\n",
       "</div>"
      ],
      "text/plain": [
       "        one       two\n",
       "a -0.563005 -0.697366\n",
       "b  1.208469  1.075482\n",
       "c -1.599793 -0.991071"
      ]
     },
     "execution_count": 164,
     "metadata": {},
     "output_type": "execute_result"
    }
   ],
   "source": [
    "df2"
   ]
  },
  {
   "cell_type": "code",
   "execution_count": 165,
   "id": "51943f13",
   "metadata": {},
   "outputs": [
    {
     "data": {
      "text/plain": [
       "(        one       two\n",
       " a -0.563005 -0.697366\n",
       " b  1.208469  1.075482\n",
       " c -1.599793 -0.991071,\n",
       "         one       two\n",
       " a -0.563005 -0.697366\n",
       " b  1.208469  1.075482\n",
       " c -1.599793 -0.991071)"
      ]
     },
     "execution_count": 165,
     "metadata": {},
     "output_type": "execute_result"
    }
   ],
   "source": [
    "df.align(df2, join=\"inner\")"
   ]
  },
  {
   "cell_type": "code",
   "execution_count": 168,
   "id": "0e231b29",
   "metadata": {},
   "outputs": [
    {
     "data": {
      "text/plain": [
       "np.float64(-0.001)"
      ]
     },
     "execution_count": 168,
     "metadata": {},
     "output_type": "execute_result"
    }
   ],
   "source": [
    "weights = pd.Series({'AAPL': 0.5, 'MSFT': 0.3, 'NVDA': 0.2})\n",
    "returns = pd.Series({'AAPL': 0.01, 'MSFT': -0.02, 'GOOGL': 0.03})\n",
    "w, r = weights.align(returns, join='outer', fill_value=0)\n",
    "port_return = (w * r).sum()\n",
    "port_return"
   ]
  },
  {
   "cell_type": "code",
   "execution_count": 169,
   "id": "9399e3fe",
   "metadata": {},
   "outputs": [
    {
     "data": {
      "application/vnd.microsoft.datawrangler.viewer.v0+json": {
       "columns": [
        {
         "name": "index",
         "rawType": "object",
         "type": "string"
        },
        {
         "name": "AAPL",
         "rawType": "int64",
         "type": "integer"
        }
       ],
       "ref": "d1f7bba4-45bc-4c7d-b570-f29efa872222",
       "rows": [
        [
         "2023-01-01",
         "100"
        ],
        [
         "2023-01-02",
         "105"
        ],
        [
         "2023-01-03",
         "110"
        ]
       ],
       "shape": {
        "columns": 1,
        "rows": 3
       }
      },
      "text/plain": [
       "2023-01-01    100\n",
       "2023-01-02    105\n",
       "2023-01-03    110\n",
       "Name: AAPL, dtype: int64"
      ]
     },
     "execution_count": 169,
     "metadata": {},
     "output_type": "execute_result"
    }
   ],
   "source": [
    "prices_source1 = pd.Series([100, 105, 110], \n",
    "                          index=['2023-01-01', '2023-01-02', '2023-01-03'],\n",
    "                          name='AAPL')\n",
    "prices_source2 = pd.Series([102, 108, 115, 120], \n",
    "                          index=['2023-01-02', '2023-01-03', '2023-01-04', '2023-01-05'],\n",
    "                          name='AAPL')\n",
    "prices_source1"
   ]
  },
  {
   "cell_type": "code",
   "execution_count": 170,
   "id": "fdc1c47e",
   "metadata": {},
   "outputs": [
    {
     "data": {
      "application/vnd.microsoft.datawrangler.viewer.v0+json": {
       "columns": [
        {
         "name": "index",
         "rawType": "object",
         "type": "string"
        },
        {
         "name": "AAPL",
         "rawType": "int64",
         "type": "integer"
        }
       ],
       "ref": "0998ec26-3752-4db1-88e2-2b798c4a2613",
       "rows": [
        [
         "2023-01-02",
         "102"
        ],
        [
         "2023-01-03",
         "108"
        ],
        [
         "2023-01-04",
         "115"
        ],
        [
         "2023-01-05",
         "120"
        ]
       ],
       "shape": {
        "columns": 1,
        "rows": 4
       }
      },
      "text/plain": [
       "2023-01-02    102\n",
       "2023-01-03    108\n",
       "2023-01-04    115\n",
       "2023-01-05    120\n",
       "Name: AAPL, dtype: int64"
      ]
     },
     "execution_count": 170,
     "metadata": {},
     "output_type": "execute_result"
    }
   ],
   "source": [
    "prices_source2"
   ]
  },
  {
   "cell_type": "code",
   "execution_count": 171,
   "id": "02883a8f",
   "metadata": {},
   "outputs": [
    {
     "data": {
      "application/vnd.microsoft.datawrangler.viewer.v0+json": {
       "columns": [
        {
         "name": "index",
         "rawType": "object",
         "type": "string"
        },
        {
         "name": "AAPL",
         "rawType": "float64",
         "type": "float"
        }
       ],
       "ref": "c96db545-dc43-4f98-bc91-058707187c8e",
       "rows": [
        [
         "2023-01-01",
         null
        ],
        [
         "2023-01-02",
         "207.0"
        ],
        [
         "2023-01-03",
         "218.0"
        ],
        [
         "2023-01-04",
         null
        ],
        [
         "2023-01-05",
         null
        ]
       ],
       "shape": {
        "columns": 1,
        "rows": 5
       }
      },
      "text/plain": [
       "2023-01-01      NaN\n",
       "2023-01-02    207.0\n",
       "2023-01-03    218.0\n",
       "2023-01-04      NaN\n",
       "2023-01-05      NaN\n",
       "Name: AAPL, dtype: float64"
      ]
     },
     "execution_count": 171,
     "metadata": {},
     "output_type": "execute_result"
    }
   ],
   "source": [
    "prices_source1 + prices_source2"
   ]
  },
  {
   "cell_type": "code",
   "execution_count": 172,
   "id": "534b6f4e",
   "metadata": {},
   "outputs": [],
   "source": [
    "rng = pd.date_range(\"1/3/2000\", periods=8)\n",
    "ts = pd.Series(np.random.randn(8), index=rng)\n",
    "ts2 = ts.iloc[[2, 5, 1]]"
   ]
  },
  {
   "cell_type": "code",
   "execution_count": 173,
   "id": "7a48e482",
   "metadata": {},
   "outputs": [
    {
     "data": {
      "application/vnd.microsoft.datawrangler.viewer.v0+json": {
       "columns": [
        {
         "name": "index",
         "rawType": "datetime64[ns]",
         "type": "datetime"
        },
        {
         "name": "0",
         "rawType": "float64",
         "type": "float"
        }
       ],
       "ref": "dfbe317c-c475-4ed1-aabf-52b75fefc1a1",
       "rows": [
        [
         "2000-01-03 00:00:00",
         "0.9402170980549341"
        ],
        [
         "2000-01-04 00:00:00",
         "1.019080174632557"
        ],
        [
         "2000-01-05 00:00:00",
         "0.27384074959192184"
        ],
        [
         "2000-01-06 00:00:00",
         "1.8554880359849"
        ],
        [
         "2000-01-07 00:00:00",
         "-2.095734177397145"
        ],
        [
         "2000-01-08 00:00:00",
         "0.2504019506373565"
        ],
        [
         "2000-01-09 00:00:00",
         "1.707419334595214"
        ],
        [
         "2000-01-10 00:00:00",
         "-0.8588049652092709"
        ]
       ],
       "shape": {
        "columns": 1,
        "rows": 8
       }
      },
      "text/plain": [
       "2000-01-03    0.940217\n",
       "2000-01-04    1.019080\n",
       "2000-01-05    0.273841\n",
       "2000-01-06    1.855488\n",
       "2000-01-07   -2.095734\n",
       "2000-01-08    0.250402\n",
       "2000-01-09    1.707419\n",
       "2000-01-10   -0.858805\n",
       "Freq: D, dtype: float64"
      ]
     },
     "execution_count": 173,
     "metadata": {},
     "output_type": "execute_result"
    }
   ],
   "source": [
    "ts"
   ]
  },
  {
   "cell_type": "code",
   "execution_count": 174,
   "id": "275bcc89",
   "metadata": {},
   "outputs": [
    {
     "data": {
      "application/vnd.microsoft.datawrangler.viewer.v0+json": {
       "columns": [
        {
         "name": "index",
         "rawType": "datetime64[ns]",
         "type": "datetime"
        },
        {
         "name": "0",
         "rawType": "float64",
         "type": "float"
        }
       ],
       "ref": "701de4f6-3f62-40d3-aa1a-52c179d364ef",
       "rows": [
        [
         "2000-01-05 00:00:00",
         "0.27384074959192184"
        ],
        [
         "2000-01-08 00:00:00",
         "0.2504019506373565"
        ],
        [
         "2000-01-04 00:00:00",
         "1.019080174632557"
        ]
       ],
       "shape": {
        "columns": 1,
        "rows": 3
       }
      },
      "text/plain": [
       "2000-01-05    0.273841\n",
       "2000-01-08    0.250402\n",
       "2000-01-04    1.019080\n",
       "dtype: float64"
      ]
     },
     "execution_count": 174,
     "metadata": {},
     "output_type": "execute_result"
    }
   ],
   "source": [
    "ts2"
   ]
  },
  {
   "cell_type": "code",
   "execution_count": 177,
   "id": "0a6d3a76",
   "metadata": {},
   "outputs": [
    {
     "data": {
      "application/vnd.microsoft.datawrangler.viewer.v0+json": {
       "columns": [
        {
         "name": "index",
         "rawType": "datetime64[ns]",
         "type": "datetime"
        },
        {
         "name": "0",
         "rawType": "float64",
         "type": "float"
        }
       ],
       "ref": "39481181-5be4-4b14-9550-74adb5e10978",
       "rows": [
        [
         "2000-01-04 00:00:00",
         "1.019080174632557"
        ],
        [
         "2000-01-05 00:00:00",
         "0.27384074959192184"
        ],
        [
         "2000-01-08 00:00:00",
         "0.2504019506373565"
        ]
       ],
       "shape": {
        "columns": 1,
        "rows": 3
       }
      },
      "text/plain": [
       "2000-01-04    1.019080\n",
       "2000-01-05    0.273841\n",
       "2000-01-08    0.250402\n",
       "dtype: float64"
      ]
     },
     "execution_count": 177,
     "metadata": {},
     "output_type": "execute_result"
    }
   ],
   "source": [
    "ts2 = ts2.sort_index()\n",
    "ts2"
   ]
  },
  {
   "cell_type": "code",
   "execution_count": 179,
   "id": "87d3f4cc",
   "metadata": {},
   "outputs": [
    {
     "data": {
      "application/vnd.microsoft.datawrangler.viewer.v0+json": {
       "columns": [
        {
         "name": "index",
         "rawType": "datetime64[ns]",
         "type": "datetime"
        },
        {
         "name": "0",
         "rawType": "float64",
         "type": "float"
        }
       ],
       "ref": "4f45fec2-1b5f-4e4d-8ab1-d4a8df1dbeee",
       "rows": [
        [
         "2000-01-03 00:00:00",
         null
        ],
        [
         "2000-01-04 00:00:00",
         "1.019080174632557"
        ],
        [
         "2000-01-05 00:00:00",
         "0.27384074959192184"
        ],
        [
         "2000-01-06 00:00:00",
         null
        ],
        [
         "2000-01-07 00:00:00",
         null
        ],
        [
         "2000-01-08 00:00:00",
         "0.2504019506373565"
        ],
        [
         "2000-01-09 00:00:00",
         null
        ],
        [
         "2000-01-10 00:00:00",
         null
        ]
       ],
       "shape": {
        "columns": 1,
        "rows": 8
       }
      },
      "text/plain": [
       "2000-01-03         NaN\n",
       "2000-01-04    1.019080\n",
       "2000-01-05    0.273841\n",
       "2000-01-06         NaN\n",
       "2000-01-07         NaN\n",
       "2000-01-08    0.250402\n",
       "2000-01-09         NaN\n",
       "2000-01-10         NaN\n",
       "Freq: D, dtype: float64"
      ]
     },
     "execution_count": 179,
     "metadata": {},
     "output_type": "execute_result"
    }
   ],
   "source": [
    "ts2.reindex(ts.index)"
   ]
  },
  {
   "cell_type": "code",
   "execution_count": 180,
   "id": "c0075942",
   "metadata": {},
   "outputs": [
    {
     "data": {
      "application/vnd.microsoft.datawrangler.viewer.v0+json": {
       "columns": [
        {
         "name": "index",
         "rawType": "datetime64[ns]",
         "type": "datetime"
        },
        {
         "name": "0",
         "rawType": "float64",
         "type": "float"
        }
       ],
       "ref": "ab1cbea8-8536-47a9-83bb-2477bc6ed1e3",
       "rows": [
        [
         "2000-01-03 00:00:00",
         null
        ],
        [
         "2000-01-04 00:00:00",
         "1.019080174632557"
        ],
        [
         "2000-01-05 00:00:00",
         "0.27384074959192184"
        ],
        [
         "2000-01-06 00:00:00",
         "0.27384074959192184"
        ],
        [
         "2000-01-07 00:00:00",
         "0.27384074959192184"
        ],
        [
         "2000-01-08 00:00:00",
         "0.2504019506373565"
        ],
        [
         "2000-01-09 00:00:00",
         "0.2504019506373565"
        ],
        [
         "2000-01-10 00:00:00",
         "0.2504019506373565"
        ]
       ],
       "shape": {
        "columns": 1,
        "rows": 8
       }
      },
      "text/plain": [
       "2000-01-03         NaN\n",
       "2000-01-04    1.019080\n",
       "2000-01-05    0.273841\n",
       "2000-01-06    0.273841\n",
       "2000-01-07    0.273841\n",
       "2000-01-08    0.250402\n",
       "2000-01-09    0.250402\n",
       "2000-01-10    0.250402\n",
       "Freq: D, dtype: float64"
      ]
     },
     "execution_count": 180,
     "metadata": {},
     "output_type": "execute_result"
    }
   ],
   "source": [
    "ts2.reindex(ts.index, method=\"ffill\")"
   ]
  },
  {
   "cell_type": "code",
   "execution_count": 181,
   "id": "1b6087c1",
   "metadata": {},
   "outputs": [
    {
     "data": {
      "application/vnd.microsoft.datawrangler.viewer.v0+json": {
       "columns": [
        {
         "name": "index",
         "rawType": "datetime64[ns]",
         "type": "datetime"
        },
        {
         "name": "0",
         "rawType": "float64",
         "type": "float"
        }
       ],
       "ref": "2c4b4db6-438c-40c7-ab6b-1bc6b5f3a402",
       "rows": [
        [
         "2000-01-03 00:00:00",
         null
        ],
        [
         "2000-01-04 00:00:00",
         "1.019080174632557"
        ],
        [
         "2000-01-05 00:00:00",
         "0.27384074959192184"
        ],
        [
         "2000-01-06 00:00:00",
         "0.27384074959192184"
        ],
        [
         "2000-01-07 00:00:00",
         null
        ],
        [
         "2000-01-08 00:00:00",
         "0.2504019506373565"
        ],
        [
         "2000-01-09 00:00:00",
         "0.2504019506373565"
        ],
        [
         "2000-01-10 00:00:00",
         null
        ]
       ],
       "shape": {
        "columns": 1,
        "rows": 8
       }
      },
      "text/plain": [
       "2000-01-03         NaN\n",
       "2000-01-04    1.019080\n",
       "2000-01-05    0.273841\n",
       "2000-01-06    0.273841\n",
       "2000-01-07         NaN\n",
       "2000-01-08    0.250402\n",
       "2000-01-09    0.250402\n",
       "2000-01-10         NaN\n",
       "Freq: D, dtype: float64"
      ]
     },
     "execution_count": 181,
     "metadata": {},
     "output_type": "execute_result"
    }
   ],
   "source": [
    "ts2.reindex(ts.index, method=\"ffill\", limit=1)"
   ]
  },
  {
   "cell_type": "code",
   "execution_count": 182,
   "id": "a34f0549",
   "metadata": {},
   "outputs": [
    {
     "data": {
      "application/vnd.microsoft.datawrangler.viewer.v0+json": {
       "columns": [
        {
         "name": "index",
         "rawType": "object",
         "type": "string"
        },
        {
         "name": "one",
         "rawType": "float64",
         "type": "float"
        },
        {
         "name": "two",
         "rawType": "float64",
         "type": "float"
        },
        {
         "name": "three",
         "rawType": "float64",
         "type": "float"
        }
       ],
       "ref": "a537dacb-96ad-4f10-9b18-5ab10ca3a7df",
       "rows": [
        [
         "a",
         "-0.5630048723451758",
         "-0.6973664495185574",
         null
        ],
        [
         "b",
         "1.2084689573384333",
         "1.0754820475529203",
         "0.38372477122442256"
        ],
        [
         "c",
         "-1.5997929889457378",
         "-0.9910705050119848",
         "-0.6576757145086247"
        ],
        [
         "d",
         null,
         "0.8313391395623884",
         "0.37445530804131727"
        ]
       ],
       "shape": {
        "columns": 3,
        "rows": 4
       }
      },
      "text/html": [
       "<div>\n",
       "<style scoped>\n",
       "    .dataframe tbody tr th:only-of-type {\n",
       "        vertical-align: middle;\n",
       "    }\n",
       "\n",
       "    .dataframe tbody tr th {\n",
       "        vertical-align: top;\n",
       "    }\n",
       "\n",
       "    .dataframe thead th {\n",
       "        text-align: right;\n",
       "    }\n",
       "</style>\n",
       "<table border=\"1\" class=\"dataframe\">\n",
       "  <thead>\n",
       "    <tr style=\"text-align: right;\">\n",
       "      <th></th>\n",
       "      <th>one</th>\n",
       "      <th>two</th>\n",
       "      <th>three</th>\n",
       "    </tr>\n",
       "  </thead>\n",
       "  <tbody>\n",
       "    <tr>\n",
       "      <th>a</th>\n",
       "      <td>-0.563005</td>\n",
       "      <td>-0.697366</td>\n",
       "      <td>NaN</td>\n",
       "    </tr>\n",
       "    <tr>\n",
       "      <th>b</th>\n",
       "      <td>1.208469</td>\n",
       "      <td>1.075482</td>\n",
       "      <td>0.383725</td>\n",
       "    </tr>\n",
       "    <tr>\n",
       "      <th>c</th>\n",
       "      <td>-1.599793</td>\n",
       "      <td>-0.991071</td>\n",
       "      <td>-0.657676</td>\n",
       "    </tr>\n",
       "    <tr>\n",
       "      <th>d</th>\n",
       "      <td>NaN</td>\n",
       "      <td>0.831339</td>\n",
       "      <td>0.374455</td>\n",
       "    </tr>\n",
       "  </tbody>\n",
       "</table>\n",
       "</div>"
      ],
      "text/plain": [
       "        one       two     three\n",
       "a -0.563005 -0.697366       NaN\n",
       "b  1.208469  1.075482  0.383725\n",
       "c -1.599793 -0.991071 -0.657676\n",
       "d       NaN  0.831339  0.374455"
      ]
     },
     "execution_count": 182,
     "metadata": {},
     "output_type": "execute_result"
    }
   ],
   "source": [
    "df"
   ]
  },
  {
   "cell_type": "code",
   "execution_count": 183,
   "id": "102537b2",
   "metadata": {},
   "outputs": [
    {
     "data": {
      "application/vnd.microsoft.datawrangler.viewer.v0+json": {
       "columns": [
        {
         "name": "index",
         "rawType": "object",
         "type": "string"
        },
        {
         "name": "one",
         "rawType": "float64",
         "type": "float"
        },
        {
         "name": "two",
         "rawType": "float64",
         "type": "float"
        },
        {
         "name": "three",
         "rawType": "float64",
         "type": "float"
        }
       ],
       "ref": "5a6be0be-4943-4147-8392-9f88d047ec87",
       "rows": [
        [
         "b",
         "1.2084689573384333",
         "1.0754820475529203",
         "0.38372477122442256"
        ],
        [
         "d",
         null,
         "0.8313391395623884",
         "0.37445530804131727"
        ]
       ],
       "shape": {
        "columns": 3,
        "rows": 2
       }
      },
      "text/html": [
       "<div>\n",
       "<style scoped>\n",
       "    .dataframe tbody tr th:only-of-type {\n",
       "        vertical-align: middle;\n",
       "    }\n",
       "\n",
       "    .dataframe tbody tr th {\n",
       "        vertical-align: top;\n",
       "    }\n",
       "\n",
       "    .dataframe thead th {\n",
       "        text-align: right;\n",
       "    }\n",
       "</style>\n",
       "<table border=\"1\" class=\"dataframe\">\n",
       "  <thead>\n",
       "    <tr style=\"text-align: right;\">\n",
       "      <th></th>\n",
       "      <th>one</th>\n",
       "      <th>two</th>\n",
       "      <th>three</th>\n",
       "    </tr>\n",
       "  </thead>\n",
       "  <tbody>\n",
       "    <tr>\n",
       "      <th>b</th>\n",
       "      <td>1.208469</td>\n",
       "      <td>1.075482</td>\n",
       "      <td>0.383725</td>\n",
       "    </tr>\n",
       "    <tr>\n",
       "      <th>d</th>\n",
       "      <td>NaN</td>\n",
       "      <td>0.831339</td>\n",
       "      <td>0.374455</td>\n",
       "    </tr>\n",
       "  </tbody>\n",
       "</table>\n",
       "</div>"
      ],
      "text/plain": [
       "        one       two     three\n",
       "b  1.208469  1.075482  0.383725\n",
       "d       NaN  0.831339  0.374455"
      ]
     },
     "execution_count": 183,
     "metadata": {},
     "output_type": "execute_result"
    }
   ],
   "source": [
    "df.drop([\"a\", \"c\"], axis=0)"
   ]
  },
  {
   "cell_type": "code",
   "execution_count": 184,
   "id": "a8143d9c",
   "metadata": {},
   "outputs": [
    {
     "data": {
      "application/vnd.microsoft.datawrangler.viewer.v0+json": {
       "columns": [
        {
         "name": "index",
         "rawType": "object",
         "type": "string"
        },
        {
         "name": "two",
         "rawType": "float64",
         "type": "float"
        }
       ],
       "ref": "ca03a320-7545-4ac0-99e3-0d9dc7be90e4",
       "rows": [
        [
         "a",
         "-0.6973664495185574"
        ],
        [
         "b",
         "1.0754820475529203"
        ],
        [
         "c",
         "-0.9910705050119848"
        ],
        [
         "d",
         "0.8313391395623884"
        ]
       ],
       "shape": {
        "columns": 1,
        "rows": 4
       }
      },
      "text/html": [
       "<div>\n",
       "<style scoped>\n",
       "    .dataframe tbody tr th:only-of-type {\n",
       "        vertical-align: middle;\n",
       "    }\n",
       "\n",
       "    .dataframe tbody tr th {\n",
       "        vertical-align: top;\n",
       "    }\n",
       "\n",
       "    .dataframe thead th {\n",
       "        text-align: right;\n",
       "    }\n",
       "</style>\n",
       "<table border=\"1\" class=\"dataframe\">\n",
       "  <thead>\n",
       "    <tr style=\"text-align: right;\">\n",
       "      <th></th>\n",
       "      <th>two</th>\n",
       "    </tr>\n",
       "  </thead>\n",
       "  <tbody>\n",
       "    <tr>\n",
       "      <th>a</th>\n",
       "      <td>-0.697366</td>\n",
       "    </tr>\n",
       "    <tr>\n",
       "      <th>b</th>\n",
       "      <td>1.075482</td>\n",
       "    </tr>\n",
       "    <tr>\n",
       "      <th>c</th>\n",
       "      <td>-0.991071</td>\n",
       "    </tr>\n",
       "    <tr>\n",
       "      <th>d</th>\n",
       "      <td>0.831339</td>\n",
       "    </tr>\n",
       "  </tbody>\n",
       "</table>\n",
       "</div>"
      ],
      "text/plain": [
       "        two\n",
       "a -0.697366\n",
       "b  1.075482\n",
       "c -0.991071\n",
       "d  0.831339"
      ]
     },
     "execution_count": 184,
     "metadata": {},
     "output_type": "execute_result"
    }
   ],
   "source": [
    "df.drop([\"one\", \"three\"], axis=1)"
   ]
  },
  {
   "cell_type": "code",
   "execution_count": 185,
   "id": "ddbccbba",
   "metadata": {},
   "outputs": [
    {
     "data": {
      "application/vnd.microsoft.datawrangler.viewer.v0+json": {
       "columns": [
        {
         "name": "index",
         "rawType": "object",
         "type": "string"
        },
        {
         "name": "0",
         "rawType": "float64",
         "type": "float"
        }
       ],
       "ref": "e8cb7dcb-0856-4dee-9106-67911290621c",
       "rows": [
        [
         "a",
         "-0.2626951969860149"
        ],
        [
         "b",
         "-1.2438568833784853"
        ],
        [
         "c",
         "1.8538995464115777"
        ],
        [
         "d",
         "0.9121431723355415"
        ],
        [
         "e",
         "0.20168401906431976"
        ]
       ],
       "shape": {
        "columns": 1,
        "rows": 5
       }
      },
      "text/plain": [
       "a   -0.262695\n",
       "b   -1.243857\n",
       "c    1.853900\n",
       "d    0.912143\n",
       "e    0.201684\n",
       "dtype: float64"
      ]
     },
     "execution_count": 185,
     "metadata": {},
     "output_type": "execute_result"
    }
   ],
   "source": [
    "s"
   ]
  },
  {
   "cell_type": "code",
   "execution_count": 186,
   "id": "a1709402",
   "metadata": {},
   "outputs": [
    {
     "data": {
      "application/vnd.microsoft.datawrangler.viewer.v0+json": {
       "columns": [
        {
         "name": "index",
         "rawType": "object",
         "type": "string"
        },
        {
         "name": "0",
         "rawType": "float64",
         "type": "float"
        }
       ],
       "ref": "2fdb2b2d-7ba7-402c-9ae5-3d085103599c",
       "rows": [
        [
         "A",
         "-0.2626951969860149"
        ],
        [
         "B",
         "-1.2438568833784853"
        ],
        [
         "C",
         "1.8538995464115777"
        ],
        [
         "D",
         "0.9121431723355415"
        ],
        [
         "E",
         "0.20168401906431976"
        ]
       ],
       "shape": {
        "columns": 1,
        "rows": 5
       }
      },
      "text/plain": [
       "A   -0.262695\n",
       "B   -1.243857\n",
       "C    1.853900\n",
       "D    0.912143\n",
       "E    0.201684\n",
       "dtype: float64"
      ]
     },
     "execution_count": 186,
     "metadata": {},
     "output_type": "execute_result"
    }
   ],
   "source": [
    "s.rename(str.upper)"
   ]
  },
  {
   "cell_type": "code",
   "execution_count": 187,
   "id": "52a00c30",
   "metadata": {},
   "outputs": [
    {
     "data": {
      "application/vnd.microsoft.datawrangler.viewer.v0+json": {
       "columns": [
        {
         "name": "index",
         "rawType": "object",
         "type": "string"
        },
        {
         "name": "GDP",
         "rawType": "float64",
         "type": "float"
        },
        {
         "name": "Inflation",
         "rawType": "float64",
         "type": "float"
        },
        {
         "name": "Unemployment",
         "rawType": "float64",
         "type": "float"
        }
       ],
       "ref": "6a7112ae-53b8-411a-8386-b5e4eeeba686",
       "rows": [
        [
         "a",
         "-0.5630048723451758",
         "-0.6973664495185574",
         null
        ],
        [
         "b",
         "1.2084689573384333",
         "1.0754820475529203",
         "0.38372477122442256"
        ],
        [
         "c",
         "-1.5997929889457378",
         "-0.9910705050119848",
         "-0.6576757145086247"
        ],
        [
         "d",
         null,
         "0.8313391395623884",
         "0.37445530804131727"
        ]
       ],
       "shape": {
        "columns": 3,
        "rows": 4
       }
      },
      "text/html": [
       "<div>\n",
       "<style scoped>\n",
       "    .dataframe tbody tr th:only-of-type {\n",
       "        vertical-align: middle;\n",
       "    }\n",
       "\n",
       "    .dataframe tbody tr th {\n",
       "        vertical-align: top;\n",
       "    }\n",
       "\n",
       "    .dataframe thead th {\n",
       "        text-align: right;\n",
       "    }\n",
       "</style>\n",
       "<table border=\"1\" class=\"dataframe\">\n",
       "  <thead>\n",
       "    <tr style=\"text-align: right;\">\n",
       "      <th></th>\n",
       "      <th>GDP</th>\n",
       "      <th>Inflation</th>\n",
       "      <th>Unemployment</th>\n",
       "    </tr>\n",
       "  </thead>\n",
       "  <tbody>\n",
       "    <tr>\n",
       "      <th>a</th>\n",
       "      <td>-0.563005</td>\n",
       "      <td>-0.697366</td>\n",
       "      <td>NaN</td>\n",
       "    </tr>\n",
       "    <tr>\n",
       "      <th>b</th>\n",
       "      <td>1.208469</td>\n",
       "      <td>1.075482</td>\n",
       "      <td>0.383725</td>\n",
       "    </tr>\n",
       "    <tr>\n",
       "      <th>c</th>\n",
       "      <td>-1.599793</td>\n",
       "      <td>-0.991071</td>\n",
       "      <td>-0.657676</td>\n",
       "    </tr>\n",
       "    <tr>\n",
       "      <th>d</th>\n",
       "      <td>NaN</td>\n",
       "      <td>0.831339</td>\n",
       "      <td>0.374455</td>\n",
       "    </tr>\n",
       "  </tbody>\n",
       "</table>\n",
       "</div>"
      ],
      "text/plain": [
       "        GDP  Inflation  Unemployment\n",
       "a -0.563005  -0.697366           NaN\n",
       "b  1.208469   1.075482      0.383725\n",
       "c -1.599793  -0.991071     -0.657676\n",
       "d       NaN   0.831339      0.374455"
      ]
     },
     "execution_count": 187,
     "metadata": {},
     "output_type": "execute_result"
    }
   ],
   "source": [
    "df.rename(\n",
    "    columns={\"one\": \"GDP\", \"two\": \"Inflation\", \"three\": \"Unemployment\"}\n",
    ")"
   ]
  },
  {
   "cell_type": "code",
   "execution_count": 190,
   "id": "f408a3b0",
   "metadata": {},
   "outputs": [],
   "source": [
    "s.name = \"GNP\""
   ]
  },
  {
   "cell_type": "code",
   "execution_count": 191,
   "id": "6cedd124",
   "metadata": {},
   "outputs": [
    {
     "data": {
      "application/vnd.microsoft.datawrangler.viewer.v0+json": {
       "columns": [
        {
         "name": "index",
         "rawType": "object",
         "type": "string"
        },
        {
         "name": "GNP",
         "rawType": "float64",
         "type": "float"
        }
       ],
       "ref": "4d5dfb88-83fc-44a0-848e-fde4aa42c868",
       "rows": [
        [
         "a",
         "-0.2626951969860149"
        ],
        [
         "b",
         "-1.2438568833784853"
        ],
        [
         "c",
         "1.8538995464115777"
        ],
        [
         "d",
         "0.9121431723355415"
        ],
        [
         "e",
         "0.20168401906431976"
        ]
       ],
       "shape": {
        "columns": 1,
        "rows": 5
       }
      },
      "text/plain": [
       "a   -0.262695\n",
       "b   -1.243857\n",
       "c    1.853900\n",
       "d    0.912143\n",
       "e    0.201684\n",
       "Name: GNP, dtype: float64"
      ]
     },
     "execution_count": 191,
     "metadata": {},
     "output_type": "execute_result"
    }
   ],
   "source": [
    "s"
   ]
  },
  {
   "cell_type": "code",
   "execution_count": 198,
   "id": "93bfc13b",
   "metadata": {},
   "outputs": [
    {
     "data": {
      "application/vnd.microsoft.datawrangler.viewer.v0+json": {
       "columns": [
        {
         "name": "index",
         "rawType": "object",
         "type": "string"
        },
        {
         "name": "GDP",
         "rawType": "float64",
         "type": "float"
        },
        {
         "name": "two",
         "rawType": "float64",
         "type": "float"
        },
        {
         "name": "three",
         "rawType": "float64",
         "type": "float"
        }
       ],
       "ref": "1b1af821-9186-4629-9b34-fb3ced90e0f2",
       "rows": [
        [
         "a",
         "-0.5630048723451758",
         "-0.6973664495185574",
         null
        ],
        [
         "b",
         "1.2084689573384333",
         "1.0754820475529203",
         "0.38372477122442256"
        ],
        [
         "c",
         "-1.5997929889457378",
         "-0.9910705050119848",
         "-0.6576757145086247"
        ],
        [
         "d",
         null,
         "0.8313391395623884",
         "0.37445530804131727"
        ]
       ],
       "shape": {
        "columns": 3,
        "rows": 4
       }
      },
      "text/html": [
       "<div>\n",
       "<style scoped>\n",
       "    .dataframe tbody tr th:only-of-type {\n",
       "        vertical-align: middle;\n",
       "    }\n",
       "\n",
       "    .dataframe tbody tr th {\n",
       "        vertical-align: top;\n",
       "    }\n",
       "\n",
       "    .dataframe thead th {\n",
       "        text-align: right;\n",
       "    }\n",
       "</style>\n",
       "<table border=\"1\" class=\"dataframe\">\n",
       "  <thead>\n",
       "    <tr style=\"text-align: right;\">\n",
       "      <th></th>\n",
       "      <th>GDP</th>\n",
       "      <th>two</th>\n",
       "      <th>three</th>\n",
       "    </tr>\n",
       "  </thead>\n",
       "  <tbody>\n",
       "    <tr>\n",
       "      <th>a</th>\n",
       "      <td>-0.563005</td>\n",
       "      <td>-0.697366</td>\n",
       "      <td>NaN</td>\n",
       "    </tr>\n",
       "    <tr>\n",
       "      <th>b</th>\n",
       "      <td>1.208469</td>\n",
       "      <td>1.075482</td>\n",
       "      <td>0.383725</td>\n",
       "    </tr>\n",
       "    <tr>\n",
       "      <th>c</th>\n",
       "      <td>-1.599793</td>\n",
       "      <td>-0.991071</td>\n",
       "      <td>-0.657676</td>\n",
       "    </tr>\n",
       "    <tr>\n",
       "      <th>d</th>\n",
       "      <td>NaN</td>\n",
       "      <td>0.831339</td>\n",
       "      <td>0.374455</td>\n",
       "    </tr>\n",
       "  </tbody>\n",
       "</table>\n",
       "</div>"
      ],
      "text/plain": [
       "        GDP       two     three\n",
       "a -0.563005 -0.697366       NaN\n",
       "b  1.208469  1.075482  0.383725\n",
       "c -1.599793 -0.991071 -0.657676\n",
       "d       NaN  0.831339  0.374455"
      ]
     },
     "execution_count": 198,
     "metadata": {},
     "output_type": "execute_result"
    }
   ],
   "source": [
    "df.rename(columns={\"one\": \"GDP\"})"
   ]
  },
  {
   "cell_type": "code",
   "execution_count": 199,
   "id": "b85263c8",
   "metadata": {},
   "outputs": [
    {
     "data": {
      "application/vnd.microsoft.datawrangler.viewer.v0+json": {
       "columns": [
        {
         "name": "index",
         "rawType": "object",
         "type": "string"
        },
        {
         "name": "one",
         "rawType": "float64",
         "type": "float"
        },
        {
         "name": "two",
         "rawType": "float64",
         "type": "float"
        },
        {
         "name": "three",
         "rawType": "float64",
         "type": "float"
        }
       ],
       "ref": "16b417d8-1712-4a79-b2e3-d0e360e199ef",
       "rows": [
        [
         "A",
         "-0.5630048723451758",
         "-0.6973664495185574",
         null
        ],
        [
         "B",
         "1.2084689573384333",
         "1.0754820475529203",
         "0.38372477122442256"
        ],
        [
         "C",
         "-1.5997929889457378",
         "-0.9910705050119848",
         "-0.6576757145086247"
        ],
        [
         "D",
         null,
         "0.8313391395623884",
         "0.37445530804131727"
        ]
       ],
       "shape": {
        "columns": 3,
        "rows": 4
       }
      },
      "text/html": [
       "<div>\n",
       "<style scoped>\n",
       "    .dataframe tbody tr th:only-of-type {\n",
       "        vertical-align: middle;\n",
       "    }\n",
       "\n",
       "    .dataframe tbody tr th {\n",
       "        vertical-align: top;\n",
       "    }\n",
       "\n",
       "    .dataframe thead th {\n",
       "        text-align: right;\n",
       "    }\n",
       "</style>\n",
       "<table border=\"1\" class=\"dataframe\">\n",
       "  <thead>\n",
       "    <tr style=\"text-align: right;\">\n",
       "      <th></th>\n",
       "      <th>one</th>\n",
       "      <th>two</th>\n",
       "      <th>three</th>\n",
       "    </tr>\n",
       "  </thead>\n",
       "  <tbody>\n",
       "    <tr>\n",
       "      <th>A</th>\n",
       "      <td>-0.563005</td>\n",
       "      <td>-0.697366</td>\n",
       "      <td>NaN</td>\n",
       "    </tr>\n",
       "    <tr>\n",
       "      <th>B</th>\n",
       "      <td>1.208469</td>\n",
       "      <td>1.075482</td>\n",
       "      <td>0.383725</td>\n",
       "    </tr>\n",
       "    <tr>\n",
       "      <th>C</th>\n",
       "      <td>-1.599793</td>\n",
       "      <td>-0.991071</td>\n",
       "      <td>-0.657676</td>\n",
       "    </tr>\n",
       "    <tr>\n",
       "      <th>D</th>\n",
       "      <td>NaN</td>\n",
       "      <td>0.831339</td>\n",
       "      <td>0.374455</td>\n",
       "    </tr>\n",
       "  </tbody>\n",
       "</table>\n",
       "</div>"
      ],
      "text/plain": [
       "        one       two     three\n",
       "A -0.563005 -0.697366       NaN\n",
       "B  1.208469  1.075482  0.383725\n",
       "C -1.599793 -0.991071 -0.657676\n",
       "D       NaN  0.831339  0.374455"
      ]
     },
     "execution_count": 199,
     "metadata": {},
     "output_type": "execute_result"
    }
   ],
   "source": [
    "df.rename(index=str.upper)"
   ]
  },
  {
   "cell_type": "code",
   "execution_count": 200,
   "id": "43c3df2d",
   "metadata": {},
   "outputs": [],
   "source": [
    "df5 = pd.DataFrame(\n",
    "    {\"x\": [1, 2, 3, 4, 5, 6], \"y\": [10, 20, 30, 40, 50, 60]},\n",
    "    index=pd.MultiIndex.from_product(\n",
    "        [[\"a\", \"b\", \"c\"], [1, 2]], names=[\"let\", \"num\"]\n",
    "    ),\n",
    ")"
   ]
  },
  {
   "cell_type": "code",
   "execution_count": 210,
   "id": "40b7e040",
   "metadata": {},
   "outputs": [],
   "source": [
    "df5.columns.name = \"Stat\""
   ]
  },
  {
   "cell_type": "code",
   "execution_count": 211,
   "id": "b269967c",
   "metadata": {},
   "outputs": [
    {
     "data": {
      "application/vnd.microsoft.datawrangler.viewer.v0+json": {
       "columns": [
        {
         "name": "('let', 'num')",
         "rawType": "object",
         "type": "unknown"
        },
        {
         "name": "x",
         "rawType": "int64",
         "type": "integer"
        },
        {
         "name": "y",
         "rawType": "int64",
         "type": "integer"
        }
       ],
       "ref": "02f8cbbe-b5d9-44c5-b922-89b693023513",
       "rows": [
        [
         "('a', np.int64(1))",
         "1",
         "10"
        ],
        [
         "('a', np.int64(2))",
         "2",
         "20"
        ],
        [
         "('b', np.int64(1))",
         "3",
         "30"
        ],
        [
         "('b', np.int64(2))",
         "4",
         "40"
        ],
        [
         "('c', np.int64(1))",
         "5",
         "50"
        ],
        [
         "('c', np.int64(2))",
         "6",
         "60"
        ]
       ],
       "shape": {
        "columns": 2,
        "rows": 6
       }
      },
      "text/html": [
       "<div>\n",
       "<style scoped>\n",
       "    .dataframe tbody tr th:only-of-type {\n",
       "        vertical-align: middle;\n",
       "    }\n",
       "\n",
       "    .dataframe tbody tr th {\n",
       "        vertical-align: top;\n",
       "    }\n",
       "\n",
       "    .dataframe thead th {\n",
       "        text-align: right;\n",
       "    }\n",
       "</style>\n",
       "<table border=\"1\" class=\"dataframe\">\n",
       "  <thead>\n",
       "    <tr style=\"text-align: right;\">\n",
       "      <th></th>\n",
       "      <th>Stat</th>\n",
       "      <th>x</th>\n",
       "      <th>y</th>\n",
       "    </tr>\n",
       "    <tr>\n",
       "      <th>let</th>\n",
       "      <th>num</th>\n",
       "      <th></th>\n",
       "      <th></th>\n",
       "    </tr>\n",
       "  </thead>\n",
       "  <tbody>\n",
       "    <tr>\n",
       "      <th rowspan=\"2\" valign=\"top\">a</th>\n",
       "      <th>1</th>\n",
       "      <td>1</td>\n",
       "      <td>10</td>\n",
       "    </tr>\n",
       "    <tr>\n",
       "      <th>2</th>\n",
       "      <td>2</td>\n",
       "      <td>20</td>\n",
       "    </tr>\n",
       "    <tr>\n",
       "      <th rowspan=\"2\" valign=\"top\">b</th>\n",
       "      <th>1</th>\n",
       "      <td>3</td>\n",
       "      <td>30</td>\n",
       "    </tr>\n",
       "    <tr>\n",
       "      <th>2</th>\n",
       "      <td>4</td>\n",
       "      <td>40</td>\n",
       "    </tr>\n",
       "    <tr>\n",
       "      <th rowspan=\"2\" valign=\"top\">c</th>\n",
       "      <th>1</th>\n",
       "      <td>5</td>\n",
       "      <td>50</td>\n",
       "    </tr>\n",
       "    <tr>\n",
       "      <th>2</th>\n",
       "      <td>6</td>\n",
       "      <td>60</td>\n",
       "    </tr>\n",
       "  </tbody>\n",
       "</table>\n",
       "</div>"
      ],
      "text/plain": [
       "Stat     x   y\n",
       "let num       \n",
       "a   1    1  10\n",
       "    2    2  20\n",
       "b   1    3  30\n",
       "    2    4  40\n",
       "c   1    5  50\n",
       "    2    6  60"
      ]
     },
     "execution_count": 211,
     "metadata": {},
     "output_type": "execute_result"
    }
   ],
   "source": [
    "df5"
   ]
  },
  {
   "cell_type": "code",
   "execution_count": 205,
   "id": "54ba0358",
   "metadata": {},
   "outputs": [
    {
     "data": {
      "application/vnd.microsoft.datawrangler.viewer.v0+json": {
       "columns": [
        {
         "name": "('Category', 'num')",
         "rawType": "object",
         "type": "unknown"
        },
        {
         "name": "x",
         "rawType": "int64",
         "type": "integer"
        },
        {
         "name": "y",
         "rawType": "int64",
         "type": "integer"
        }
       ],
       "ref": "3ec7ca77-8155-49ae-984f-cdd3025fbbcc",
       "rows": [
        [
         "('a', np.int64(1))",
         "1",
         "10"
        ],
        [
         "('a', np.int64(2))",
         "2",
         "20"
        ],
        [
         "('b', np.int64(1))",
         "3",
         "30"
        ],
        [
         "('b', np.int64(2))",
         "4",
         "40"
        ],
        [
         "('c', np.int64(1))",
         "5",
         "50"
        ],
        [
         "('c', np.int64(2))",
         "6",
         "60"
        ]
       ],
       "shape": {
        "columns": 2,
        "rows": 6
       }
      },
      "text/html": [
       "<div>\n",
       "<style scoped>\n",
       "    .dataframe tbody tr th:only-of-type {\n",
       "        vertical-align: middle;\n",
       "    }\n",
       "\n",
       "    .dataframe tbody tr th {\n",
       "        vertical-align: top;\n",
       "    }\n",
       "\n",
       "    .dataframe thead th {\n",
       "        text-align: right;\n",
       "    }\n",
       "</style>\n",
       "<table border=\"1\" class=\"dataframe\">\n",
       "  <thead>\n",
       "    <tr style=\"text-align: right;\">\n",
       "      <th></th>\n",
       "      <th></th>\n",
       "      <th>x</th>\n",
       "      <th>y</th>\n",
       "    </tr>\n",
       "    <tr>\n",
       "      <th>Category</th>\n",
       "      <th>num</th>\n",
       "      <th></th>\n",
       "      <th></th>\n",
       "    </tr>\n",
       "  </thead>\n",
       "  <tbody>\n",
       "    <tr>\n",
       "      <th rowspan=\"2\" valign=\"top\">a</th>\n",
       "      <th>1</th>\n",
       "      <td>1</td>\n",
       "      <td>10</td>\n",
       "    </tr>\n",
       "    <tr>\n",
       "      <th>2</th>\n",
       "      <td>2</td>\n",
       "      <td>20</td>\n",
       "    </tr>\n",
       "    <tr>\n",
       "      <th rowspan=\"2\" valign=\"top\">b</th>\n",
       "      <th>1</th>\n",
       "      <td>3</td>\n",
       "      <td>30</td>\n",
       "    </tr>\n",
       "    <tr>\n",
       "      <th>2</th>\n",
       "      <td>4</td>\n",
       "      <td>40</td>\n",
       "    </tr>\n",
       "    <tr>\n",
       "      <th rowspan=\"2\" valign=\"top\">c</th>\n",
       "      <th>1</th>\n",
       "      <td>5</td>\n",
       "      <td>50</td>\n",
       "    </tr>\n",
       "    <tr>\n",
       "      <th>2</th>\n",
       "      <td>6</td>\n",
       "      <td>60</td>\n",
       "    </tr>\n",
       "  </tbody>\n",
       "</table>\n",
       "</div>"
      ],
      "text/plain": [
       "              x   y\n",
       "Category num       \n",
       "a        1    1  10\n",
       "         2    2  20\n",
       "b        1    3  30\n",
       "         2    4  40\n",
       "c        1    5  50\n",
       "         2    6  60"
      ]
     },
     "execution_count": 205,
     "metadata": {},
     "output_type": "execute_result"
    }
   ],
   "source": [
    "df5.rename_axis(index={\"let\": \"Category\"})"
   ]
  },
  {
   "cell_type": "code",
   "execution_count": 207,
   "id": "a3100be1",
   "metadata": {},
   "outputs": [
    {
     "data": {
      "application/vnd.microsoft.datawrangler.viewer.v0+json": {
       "columns": [
        {
         "name": "('let', 'num')",
         "rawType": "object",
         "type": "unknown"
        },
        {
         "name": "GDP",
         "rawType": "int64",
         "type": "integer"
        },
        {
         "name": "y",
         "rawType": "int64",
         "type": "integer"
        }
       ],
       "ref": "825c351f-53e6-4b4d-aaee-035bf92cbdf0",
       "rows": [
        [
         "('a', np.int64(1))",
         "1",
         "10"
        ],
        [
         "('a', np.int64(2))",
         "2",
         "20"
        ],
        [
         "('b', np.int64(1))",
         "3",
         "30"
        ],
        [
         "('b', np.int64(2))",
         "4",
         "40"
        ],
        [
         "('c', np.int64(1))",
         "5",
         "50"
        ],
        [
         "('c', np.int64(2))",
         "6",
         "60"
        ]
       ],
       "shape": {
        "columns": 2,
        "rows": 6
       }
      },
      "text/html": [
       "<div>\n",
       "<style scoped>\n",
       "    .dataframe tbody tr th:only-of-type {\n",
       "        vertical-align: middle;\n",
       "    }\n",
       "\n",
       "    .dataframe tbody tr th {\n",
       "        vertical-align: top;\n",
       "    }\n",
       "\n",
       "    .dataframe thead th {\n",
       "        text-align: right;\n",
       "    }\n",
       "</style>\n",
       "<table border=\"1\" class=\"dataframe\">\n",
       "  <thead>\n",
       "    <tr style=\"text-align: right;\">\n",
       "      <th></th>\n",
       "      <th></th>\n",
       "      <th>GDP</th>\n",
       "      <th>y</th>\n",
       "    </tr>\n",
       "    <tr>\n",
       "      <th>let</th>\n",
       "      <th>num</th>\n",
       "      <th></th>\n",
       "      <th></th>\n",
       "    </tr>\n",
       "  </thead>\n",
       "  <tbody>\n",
       "    <tr>\n",
       "      <th rowspan=\"2\" valign=\"top\">a</th>\n",
       "      <th>1</th>\n",
       "      <td>1</td>\n",
       "      <td>10</td>\n",
       "    </tr>\n",
       "    <tr>\n",
       "      <th>2</th>\n",
       "      <td>2</td>\n",
       "      <td>20</td>\n",
       "    </tr>\n",
       "    <tr>\n",
       "      <th rowspan=\"2\" valign=\"top\">b</th>\n",
       "      <th>1</th>\n",
       "      <td>3</td>\n",
       "      <td>30</td>\n",
       "    </tr>\n",
       "    <tr>\n",
       "      <th>2</th>\n",
       "      <td>4</td>\n",
       "      <td>40</td>\n",
       "    </tr>\n",
       "    <tr>\n",
       "      <th rowspan=\"2\" valign=\"top\">c</th>\n",
       "      <th>1</th>\n",
       "      <td>5</td>\n",
       "      <td>50</td>\n",
       "    </tr>\n",
       "    <tr>\n",
       "      <th>2</th>\n",
       "      <td>6</td>\n",
       "      <td>60</td>\n",
       "    </tr>\n",
       "  </tbody>\n",
       "</table>\n",
       "</div>"
      ],
      "text/plain": [
       "         GDP   y\n",
       "let num         \n",
       "a   1      1  10\n",
       "    2      2  20\n",
       "b   1      3  30\n",
       "    2      4  40\n",
       "c   1      5  50\n",
       "    2      6  60"
      ]
     },
     "execution_count": 207,
     "metadata": {},
     "output_type": "execute_result"
    }
   ],
   "source": [
    "df5.rename(columns={\"x\": \"GDP\"})"
   ]
  },
  {
   "cell_type": "code",
   "execution_count": 208,
   "id": "2ac386bc",
   "metadata": {},
   "outputs": [],
   "source": [
    "df5.columns.name = \"Stat\""
   ]
  },
  {
   "cell_type": "code",
   "execution_count": 209,
   "id": "04edba66",
   "metadata": {},
   "outputs": [
    {
     "data": {
      "application/vnd.microsoft.datawrangler.viewer.v0+json": {
       "columns": [
        {
         "name": "('let', 'num')",
         "rawType": "object",
         "type": "unknown"
        },
        {
         "name": "x",
         "rawType": "int64",
         "type": "integer"
        },
        {
         "name": "y",
         "rawType": "int64",
         "type": "integer"
        }
       ],
       "ref": "d312da15-0afd-477d-b370-654b157de2f1",
       "rows": [
        [
         "('a', np.int64(1))",
         "1",
         "10"
        ],
        [
         "('a', np.int64(2))",
         "2",
         "20"
        ],
        [
         "('b', np.int64(1))",
         "3",
         "30"
        ],
        [
         "('b', np.int64(2))",
         "4",
         "40"
        ],
        [
         "('c', np.int64(1))",
         "5",
         "50"
        ],
        [
         "('c', np.int64(2))",
         "6",
         "60"
        ]
       ],
       "shape": {
        "columns": 2,
        "rows": 6
       }
      },
      "text/html": [
       "<div>\n",
       "<style scoped>\n",
       "    .dataframe tbody tr th:only-of-type {\n",
       "        vertical-align: middle;\n",
       "    }\n",
       "\n",
       "    .dataframe tbody tr th {\n",
       "        vertical-align: top;\n",
       "    }\n",
       "\n",
       "    .dataframe thead th {\n",
       "        text-align: right;\n",
       "    }\n",
       "</style>\n",
       "<table border=\"1\" class=\"dataframe\">\n",
       "  <thead>\n",
       "    <tr style=\"text-align: right;\">\n",
       "      <th></th>\n",
       "      <th>Stat</th>\n",
       "      <th>x</th>\n",
       "      <th>y</th>\n",
       "    </tr>\n",
       "    <tr>\n",
       "      <th>let</th>\n",
       "      <th>num</th>\n",
       "      <th></th>\n",
       "      <th></th>\n",
       "    </tr>\n",
       "  </thead>\n",
       "  <tbody>\n",
       "    <tr>\n",
       "      <th rowspan=\"2\" valign=\"top\">a</th>\n",
       "      <th>1</th>\n",
       "      <td>1</td>\n",
       "      <td>10</td>\n",
       "    </tr>\n",
       "    <tr>\n",
       "      <th>2</th>\n",
       "      <td>2</td>\n",
       "      <td>20</td>\n",
       "    </tr>\n",
       "    <tr>\n",
       "      <th rowspan=\"2\" valign=\"top\">b</th>\n",
       "      <th>1</th>\n",
       "      <td>3</td>\n",
       "      <td>30</td>\n",
       "    </tr>\n",
       "    <tr>\n",
       "      <th>2</th>\n",
       "      <td>4</td>\n",
       "      <td>40</td>\n",
       "    </tr>\n",
       "    <tr>\n",
       "      <th rowspan=\"2\" valign=\"top\">c</th>\n",
       "      <th>1</th>\n",
       "      <td>5</td>\n",
       "      <td>50</td>\n",
       "    </tr>\n",
       "    <tr>\n",
       "      <th>2</th>\n",
       "      <td>6</td>\n",
       "      <td>60</td>\n",
       "    </tr>\n",
       "  </tbody>\n",
       "</table>\n",
       "</div>"
      ],
      "text/plain": [
       "Stat     x   y\n",
       "let num       \n",
       "a   1    1  10\n",
       "    2    2  20\n",
       "b   1    3  30\n",
       "    2    4  40\n",
       "c   1    5  50\n",
       "    2    6  60"
      ]
     },
     "execution_count": 209,
     "metadata": {},
     "output_type": "execute_result"
    }
   ],
   "source": [
    "df5"
   ]
  },
  {
   "cell_type": "code",
   "execution_count": 213,
   "id": "c81222a2",
   "metadata": {},
   "outputs": [
    {
     "data": {
      "application/vnd.microsoft.datawrangler.viewer.v0+json": {
       "columns": [
        {
         "name": "('Category', 'num')",
         "rawType": "object",
         "type": "unknown"
        },
        {
         "name": "x",
         "rawType": "int64",
         "type": "integer"
        },
        {
         "name": "y",
         "rawType": "int64",
         "type": "integer"
        }
       ],
       "ref": "e5d7ac36-4f53-4f3f-80a9-8321ff1b6369",
       "rows": [
        [
         "('a', np.int64(1))",
         "1",
         "10"
        ],
        [
         "('a', np.int64(2))",
         "2",
         "20"
        ],
        [
         "('b', np.int64(1))",
         "3",
         "30"
        ],
        [
         "('b', np.int64(2))",
         "4",
         "40"
        ],
        [
         "('c', np.int64(1))",
         "5",
         "50"
        ],
        [
         "('c', np.int64(2))",
         "6",
         "60"
        ]
       ],
       "shape": {
        "columns": 2,
        "rows": 6
       }
      },
      "text/html": [
       "<div>\n",
       "<style scoped>\n",
       "    .dataframe tbody tr th:only-of-type {\n",
       "        vertical-align: middle;\n",
       "    }\n",
       "\n",
       "    .dataframe tbody tr th {\n",
       "        vertical-align: top;\n",
       "    }\n",
       "\n",
       "    .dataframe thead th {\n",
       "        text-align: right;\n",
       "    }\n",
       "</style>\n",
       "<table border=\"1\" class=\"dataframe\">\n",
       "  <thead>\n",
       "    <tr style=\"text-align: right;\">\n",
       "      <th></th>\n",
       "      <th>Statistics</th>\n",
       "      <th>x</th>\n",
       "      <th>y</th>\n",
       "    </tr>\n",
       "    <tr>\n",
       "      <th>Category</th>\n",
       "      <th>num</th>\n",
       "      <th></th>\n",
       "      <th></th>\n",
       "    </tr>\n",
       "  </thead>\n",
       "  <tbody>\n",
       "    <tr>\n",
       "      <th rowspan=\"2\" valign=\"top\">a</th>\n",
       "      <th>1</th>\n",
       "      <td>1</td>\n",
       "      <td>10</td>\n",
       "    </tr>\n",
       "    <tr>\n",
       "      <th>2</th>\n",
       "      <td>2</td>\n",
       "      <td>20</td>\n",
       "    </tr>\n",
       "    <tr>\n",
       "      <th rowspan=\"2\" valign=\"top\">b</th>\n",
       "      <th>1</th>\n",
       "      <td>3</td>\n",
       "      <td>30</td>\n",
       "    </tr>\n",
       "    <tr>\n",
       "      <th>2</th>\n",
       "      <td>4</td>\n",
       "      <td>40</td>\n",
       "    </tr>\n",
       "    <tr>\n",
       "      <th rowspan=\"2\" valign=\"top\">c</th>\n",
       "      <th>1</th>\n",
       "      <td>5</td>\n",
       "      <td>50</td>\n",
       "    </tr>\n",
       "    <tr>\n",
       "      <th>2</th>\n",
       "      <td>6</td>\n",
       "      <td>60</td>\n",
       "    </tr>\n",
       "  </tbody>\n",
       "</table>\n",
       "</div>"
      ],
      "text/plain": [
       "Statistics    x   y\n",
       "Category num       \n",
       "a        1    1  10\n",
       "         2    2  20\n",
       "b        1    3  30\n",
       "         2    4  40\n",
       "c        1    5  50\n",
       "         2    6  60"
      ]
     },
     "execution_count": 213,
     "metadata": {},
     "output_type": "execute_result"
    }
   ],
   "source": [
    "df5.rename_axis(index={\"let\": \"Category\"},\n",
    "               columns={\"Stat\": \"Statistics\"})"
   ]
  },
  {
   "cell_type": "code",
   "execution_count": 214,
   "id": "6bd7ec5d",
   "metadata": {},
   "outputs": [
    {
     "name": "stdout",
     "output_type": "stream",
     "text": [
      "x\n",
      "y\n"
     ]
    }
   ],
   "source": [
    "for col in df5:\n",
    "    print(col)"
   ]
  },
  {
   "cell_type": "code",
   "execution_count": 215,
   "id": "7c89a84b",
   "metadata": {},
   "outputs": [
    {
     "name": "stdout",
     "output_type": "stream",
     "text": [
      "('a', 1)\n",
      "Stat\n",
      "x     1\n",
      "y    10\n",
      "Name: (a, 1), dtype: int64\n",
      "('a', 2)\n",
      "Stat\n",
      "x     2\n",
      "y    20\n",
      "Name: (a, 2), dtype: int64\n",
      "('b', 1)\n",
      "Stat\n",
      "x     3\n",
      "y    30\n",
      "Name: (b, 1), dtype: int64\n",
      "('b', 2)\n",
      "Stat\n",
      "x     4\n",
      "y    40\n",
      "Name: (b, 2), dtype: int64\n",
      "('c', 1)\n",
      "Stat\n",
      "x     5\n",
      "y    50\n",
      "Name: (c, 1), dtype: int64\n",
      "('c', 2)\n",
      "Stat\n",
      "x     6\n",
      "y    60\n",
      "Name: (c, 2), dtype: int64\n"
     ]
    }
   ],
   "source": [
    "for index, row in df5.iterrows():\n",
    "    print(index, row, sep=\"\\n\")"
   ]
  },
  {
   "cell_type": "code",
   "execution_count": 216,
   "id": "f6f8eda7",
   "metadata": {},
   "outputs": [
    {
     "name": "stdout",
     "output_type": "stream",
     "text": [
      "Pandas(Index=('a', 1), x=1, y=10)\n",
      "Pandas(Index=('a', 2), x=2, y=20)\n",
      "Pandas(Index=('b', 1), x=3, y=30)\n",
      "Pandas(Index=('b', 2), x=4, y=40)\n",
      "Pandas(Index=('c', 1), x=5, y=50)\n",
      "Pandas(Index=('c', 2), x=6, y=60)\n"
     ]
    }
   ],
   "source": [
    "for row in df5.itertuples():\n",
    "    print(row)"
   ]
  },
  {
   "cell_type": "code",
   "execution_count": 222,
   "id": "c9c1ca4d",
   "metadata": {},
   "outputs": [
    {
     "data": {
      "application/vnd.microsoft.datawrangler.viewer.v0+json": {
       "columns": [
        {
         "name": "index",
         "rawType": "datetime64[ns]",
         "type": "datetime"
        },
        {
         "name": "A",
         "rawType": "float64",
         "type": "float"
        },
        {
         "name": "B",
         "rawType": "float64",
         "type": "float"
        },
        {
         "name": "C",
         "rawType": "float64",
         "type": "float"
        }
       ],
       "ref": "815e1249-f56b-4d29-aca8-3bd218efc87f",
       "rows": [
        [
         "2010-01-01 00:00:00",
         "-0.7768308295355729",
         "0.23155314379472786",
         "-2.1251082574862146"
        ],
        [
         "2010-02-01 00:00:00",
         "0.5583513701198841",
         "0.26565431712251975",
         "1.6254832671960233"
        ],
        [
         "2010-03-01 00:00:00",
         "-0.31155821598382094",
         "2.5565273875001657",
         "-0.3983481237418237"
        ],
        [
         "2010-04-01 00:00:00",
         "-0.034045857678639796",
         "-0.29903581927756384",
         "0.9602510640522073"
        ],
        [
         "2010-05-01 00:00:00",
         "-0.4889299977703179",
         "0.7960139015088036",
         "0.6581694472411509"
        ]
       ],
       "shape": {
        "columns": 3,
        "rows": 5
       }
      },
      "text/html": [
       "<div>\n",
       "<style scoped>\n",
       "    .dataframe tbody tr th:only-of-type {\n",
       "        vertical-align: middle;\n",
       "    }\n",
       "\n",
       "    .dataframe tbody tr th {\n",
       "        vertical-align: top;\n",
       "    }\n",
       "\n",
       "    .dataframe thead th {\n",
       "        text-align: right;\n",
       "    }\n",
       "</style>\n",
       "<table border=\"1\" class=\"dataframe\">\n",
       "  <thead>\n",
       "    <tr style=\"text-align: right;\">\n",
       "      <th></th>\n",
       "      <th>A</th>\n",
       "      <th>B</th>\n",
       "      <th>C</th>\n",
       "    </tr>\n",
       "  </thead>\n",
       "  <tbody>\n",
       "    <tr>\n",
       "      <th>2010-01-01</th>\n",
       "      <td>-0.776831</td>\n",
       "      <td>0.231553</td>\n",
       "      <td>-2.125108</td>\n",
       "    </tr>\n",
       "    <tr>\n",
       "      <th>2010-02-01</th>\n",
       "      <td>0.558351</td>\n",
       "      <td>0.265654</td>\n",
       "      <td>1.625483</td>\n",
       "    </tr>\n",
       "    <tr>\n",
       "      <th>2010-03-01</th>\n",
       "      <td>-0.311558</td>\n",
       "      <td>2.556527</td>\n",
       "      <td>-0.398348</td>\n",
       "    </tr>\n",
       "    <tr>\n",
       "      <th>2010-04-01</th>\n",
       "      <td>-0.034046</td>\n",
       "      <td>-0.299036</td>\n",
       "      <td>0.960251</td>\n",
       "    </tr>\n",
       "    <tr>\n",
       "      <th>2010-05-01</th>\n",
       "      <td>-0.488930</td>\n",
       "      <td>0.796014</td>\n",
       "      <td>0.658169</td>\n",
       "    </tr>\n",
       "  </tbody>\n",
       "</table>\n",
       "</div>"
      ],
      "text/plain": [
       "                   A         B         C\n",
       "2010-01-01 -0.776831  0.231553 -2.125108\n",
       "2010-02-01  0.558351  0.265654  1.625483\n",
       "2010-03-01 -0.311558  2.556527 -0.398348\n",
       "2010-04-01 -0.034046 -0.299036  0.960251\n",
       "2010-05-01 -0.488930  0.796014  0.658169"
      ]
     },
     "execution_count": 222,
     "metadata": {},
     "output_type": "execute_result"
    }
   ],
   "source": [
    "index = pd.date_range(\"20100101\", periods=5, freq=\"MS\")\n",
    "df6 = pd.DataFrame(np.random.randn(5,3), index=index, columns=list(\"ABC\"))\n",
    "df6"
   ]
  },
  {
   "cell_type": "code",
   "execution_count": 228,
   "id": "f90c814c",
   "metadata": {},
   "outputs": [],
   "source": [
    "df6['date'] = df6.index"
   ]
  },
  {
   "cell_type": "code",
   "execution_count": 230,
   "id": "92150c8a",
   "metadata": {},
   "outputs": [
    {
     "data": {
      "application/vnd.microsoft.datawrangler.viewer.v0+json": {
       "columns": [
        {
         "name": "index",
         "rawType": "datetime64[ns]",
         "type": "datetime"
        },
        {
         "name": "date",
         "rawType": "int32",
         "type": "integer"
        }
       ],
       "ref": "15b97ca6-9cb2-413f-bfe6-542ce183b363",
       "rows": [
        [
         "2010-01-01 00:00:00",
         "1"
        ],
        [
         "2010-02-01 00:00:00",
         "2"
        ],
        [
         "2010-03-01 00:00:00",
         "3"
        ],
        [
         "2010-04-01 00:00:00",
         "4"
        ],
        [
         "2010-05-01 00:00:00",
         "5"
        ]
       ],
       "shape": {
        "columns": 1,
        "rows": 5
       }
      },
      "text/plain": [
       "2010-01-01    1\n",
       "2010-02-01    2\n",
       "2010-03-01    3\n",
       "2010-04-01    4\n",
       "2010-05-01    5\n",
       "Freq: MS, Name: date, dtype: int32"
      ]
     },
     "execution_count": 230,
     "metadata": {},
     "output_type": "execute_result"
    }
   ],
   "source": [
    "df6[\"date\"].dt.month"
   ]
  },
  {
   "cell_type": "code",
   "execution_count": 231,
   "id": "ca538063",
   "metadata": {},
   "outputs": [
    {
     "data": {
      "application/vnd.microsoft.datawrangler.viewer.v0+json": {
       "columns": [
        {
         "name": "index",
         "rawType": "datetime64[ns]",
         "type": "datetime"
        },
        {
         "name": "A",
         "rawType": "float64",
         "type": "float"
        },
        {
         "name": "B",
         "rawType": "float64",
         "type": "float"
        },
        {
         "name": "C",
         "rawType": "float64",
         "type": "float"
        },
        {
         "name": "date",
         "rawType": "datetime64[ns]",
         "type": "datetime"
        }
       ],
       "ref": "ccaea0a7-a902-412e-a4b0-0c9e66ef75f8",
       "rows": [
        [
         "2010-02-01 00:00:00",
         "0.5583513701198841",
         "0.26565431712251975",
         "1.6254832671960233",
         "2010-02-01 00:00:00"
        ]
       ],
       "shape": {
        "columns": 4,
        "rows": 1
       }
      },
      "text/html": [
       "<div>\n",
       "<style scoped>\n",
       "    .dataframe tbody tr th:only-of-type {\n",
       "        vertical-align: middle;\n",
       "    }\n",
       "\n",
       "    .dataframe tbody tr th {\n",
       "        vertical-align: top;\n",
       "    }\n",
       "\n",
       "    .dataframe thead th {\n",
       "        text-align: right;\n",
       "    }\n",
       "</style>\n",
       "<table border=\"1\" class=\"dataframe\">\n",
       "  <thead>\n",
       "    <tr style=\"text-align: right;\">\n",
       "      <th></th>\n",
       "      <th>A</th>\n",
       "      <th>B</th>\n",
       "      <th>C</th>\n",
       "      <th>date</th>\n",
       "    </tr>\n",
       "  </thead>\n",
       "  <tbody>\n",
       "    <tr>\n",
       "      <th>2010-02-01</th>\n",
       "      <td>0.558351</td>\n",
       "      <td>0.265654</td>\n",
       "      <td>1.625483</td>\n",
       "      <td>2010-02-01</td>\n",
       "    </tr>\n",
       "  </tbody>\n",
       "</table>\n",
       "</div>"
      ],
      "text/plain": [
       "                   A         B         C       date\n",
       "2010-02-01  0.558351  0.265654  1.625483 2010-02-01"
      ]
     },
     "execution_count": 231,
     "metadata": {},
     "output_type": "execute_result"
    }
   ],
   "source": [
    "df6[df6[\"date\"].dt.month == 2]"
   ]
  },
  {
   "cell_type": "code",
   "execution_count": 232,
   "id": "3c051485",
   "metadata": {},
   "outputs": [
    {
     "data": {
      "application/vnd.microsoft.datawrangler.viewer.v0+json": {
       "columns": [
        {
         "name": "index",
         "rawType": "datetime64[ns]",
         "type": "datetime"
        },
        {
         "name": "date",
         "rawType": "object",
         "type": "string"
        }
       ],
       "ref": "46db455f-343a-4b48-8f6b-cd5b2ecb1134",
       "rows": [
        [
         "2010-01-01 00:00:00",
         "2010/0101"
        ],
        [
         "2010-02-01 00:00:00",
         "2010/0201"
        ],
        [
         "2010-03-01 00:00:00",
         "2010/0301"
        ],
        [
         "2010-04-01 00:00:00",
         "2010/0401"
        ],
        [
         "2010-05-01 00:00:00",
         "2010/0501"
        ]
       ],
       "shape": {
        "columns": 1,
        "rows": 5
       }
      },
      "text/plain": [
       "2010-01-01    2010/0101\n",
       "2010-02-01    2010/0201\n",
       "2010-03-01    2010/0301\n",
       "2010-04-01    2010/0401\n",
       "2010-05-01    2010/0501\n",
       "Freq: MS, Name: date, dtype: object"
      ]
     },
     "execution_count": 232,
     "metadata": {},
     "output_type": "execute_result"
    }
   ],
   "source": [
    "df6[\"date\"].dt.strftime(\"%Y/%m%d\")"
   ]
  },
  {
   "cell_type": "code",
   "execution_count": 233,
   "id": "2ea67fef",
   "metadata": {},
   "outputs": [
    {
     "data": {
      "application/vnd.microsoft.datawrangler.viewer.v0+json": {
       "columns": [
        {
         "name": "index",
         "rawType": "object",
         "type": "string"
        },
        {
         "name": "one",
         "rawType": "float64",
         "type": "float"
        },
        {
         "name": "two",
         "rawType": "float64",
         "type": "float"
        },
        {
         "name": "three",
         "rawType": "float64",
         "type": "float"
        }
       ],
       "ref": "5f79eab3-5ad9-4e19-a6ce-c6ed696b1508",
       "rows": [
        [
         "a",
         "-0.5630048723451758",
         "-0.6973664495185574",
         null
        ],
        [
         "b",
         "1.2084689573384333",
         "1.0754820475529203",
         "0.38372477122442256"
        ],
        [
         "c",
         "-1.5997929889457378",
         "-0.9910705050119848",
         "-0.6576757145086247"
        ],
        [
         "d",
         null,
         "0.8313391395623884",
         "0.37445530804131727"
        ]
       ],
       "shape": {
        "columns": 3,
        "rows": 4
       }
      },
      "text/html": [
       "<div>\n",
       "<style scoped>\n",
       "    .dataframe tbody tr th:only-of-type {\n",
       "        vertical-align: middle;\n",
       "    }\n",
       "\n",
       "    .dataframe tbody tr th {\n",
       "        vertical-align: top;\n",
       "    }\n",
       "\n",
       "    .dataframe thead th {\n",
       "        text-align: right;\n",
       "    }\n",
       "</style>\n",
       "<table border=\"1\" class=\"dataframe\">\n",
       "  <thead>\n",
       "    <tr style=\"text-align: right;\">\n",
       "      <th></th>\n",
       "      <th>one</th>\n",
       "      <th>two</th>\n",
       "      <th>three</th>\n",
       "    </tr>\n",
       "  </thead>\n",
       "  <tbody>\n",
       "    <tr>\n",
       "      <th>a</th>\n",
       "      <td>-0.563005</td>\n",
       "      <td>-0.697366</td>\n",
       "      <td>NaN</td>\n",
       "    </tr>\n",
       "    <tr>\n",
       "      <th>b</th>\n",
       "      <td>1.208469</td>\n",
       "      <td>1.075482</td>\n",
       "      <td>0.383725</td>\n",
       "    </tr>\n",
       "    <tr>\n",
       "      <th>c</th>\n",
       "      <td>-1.599793</td>\n",
       "      <td>-0.991071</td>\n",
       "      <td>-0.657676</td>\n",
       "    </tr>\n",
       "    <tr>\n",
       "      <th>d</th>\n",
       "      <td>NaN</td>\n",
       "      <td>0.831339</td>\n",
       "      <td>0.374455</td>\n",
       "    </tr>\n",
       "  </tbody>\n",
       "</table>\n",
       "</div>"
      ],
      "text/plain": [
       "        one       two     three\n",
       "a -0.563005 -0.697366       NaN\n",
       "b  1.208469  1.075482  0.383725\n",
       "c -1.599793 -0.991071 -0.657676\n",
       "d       NaN  0.831339  0.374455"
      ]
     },
     "execution_count": 233,
     "metadata": {},
     "output_type": "execute_result"
    }
   ],
   "source": [
    "df"
   ]
  },
  {
   "cell_type": "code",
   "execution_count": 234,
   "id": "4265fe4c",
   "metadata": {},
   "outputs": [
    {
     "data": {
      "application/vnd.microsoft.datawrangler.viewer.v0+json": {
       "columns": [
        {
         "name": "index",
         "rawType": "object",
         "type": "string"
        },
        {
         "name": "three",
         "rawType": "float64",
         "type": "float"
        },
        {
         "name": "two",
         "rawType": "float64",
         "type": "float"
        },
        {
         "name": "one",
         "rawType": "float64",
         "type": "float"
        }
       ],
       "ref": "268853f5-ea1f-4bff-b01d-e0940bb20086",
       "rows": [
        [
         "a",
         null,
         "-0.6973664495185574",
         "-0.5630048723451758"
        ],
        [
         "d",
         "0.37445530804131727",
         "0.8313391395623884",
         null
        ],
        [
         "c",
         "-0.6576757145086247",
         "-0.9910705050119848",
         "-1.5997929889457378"
        ],
        [
         "b",
         "0.38372477122442256",
         "1.0754820475529203",
         "1.2084689573384333"
        ]
       ],
       "shape": {
        "columns": 3,
        "rows": 4
       }
      },
      "text/html": [
       "<div>\n",
       "<style scoped>\n",
       "    .dataframe tbody tr th:only-of-type {\n",
       "        vertical-align: middle;\n",
       "    }\n",
       "\n",
       "    .dataframe tbody tr th {\n",
       "        vertical-align: top;\n",
       "    }\n",
       "\n",
       "    .dataframe thead th {\n",
       "        text-align: right;\n",
       "    }\n",
       "</style>\n",
       "<table border=\"1\" class=\"dataframe\">\n",
       "  <thead>\n",
       "    <tr style=\"text-align: right;\">\n",
       "      <th></th>\n",
       "      <th>three</th>\n",
       "      <th>two</th>\n",
       "      <th>one</th>\n",
       "    </tr>\n",
       "  </thead>\n",
       "  <tbody>\n",
       "    <tr>\n",
       "      <th>a</th>\n",
       "      <td>NaN</td>\n",
       "      <td>-0.697366</td>\n",
       "      <td>-0.563005</td>\n",
       "    </tr>\n",
       "    <tr>\n",
       "      <th>d</th>\n",
       "      <td>0.374455</td>\n",
       "      <td>0.831339</td>\n",
       "      <td>NaN</td>\n",
       "    </tr>\n",
       "    <tr>\n",
       "      <th>c</th>\n",
       "      <td>-0.657676</td>\n",
       "      <td>-0.991071</td>\n",
       "      <td>-1.599793</td>\n",
       "    </tr>\n",
       "    <tr>\n",
       "      <th>b</th>\n",
       "      <td>0.383725</td>\n",
       "      <td>1.075482</td>\n",
       "      <td>1.208469</td>\n",
       "    </tr>\n",
       "  </tbody>\n",
       "</table>\n",
       "</div>"
      ],
      "text/plain": [
       "      three       two       one\n",
       "a       NaN -0.697366 -0.563005\n",
       "d  0.374455  0.831339       NaN\n",
       "c -0.657676 -0.991071 -1.599793\n",
       "b  0.383725  1.075482  1.208469"
      ]
     },
     "execution_count": 234,
     "metadata": {},
     "output_type": "execute_result"
    }
   ],
   "source": [
    "df7 = df.reindex(\n",
    "    index=[\"a\", \"d\", \"c\", \"b\"], columns=[\"three\", \"two\", \"one\"]\n",
    ")\n",
    "df7"
   ]
  },
  {
   "cell_type": "code",
   "execution_count": 235,
   "id": "3cadc38c",
   "metadata": {},
   "outputs": [
    {
     "data": {
      "application/vnd.microsoft.datawrangler.viewer.v0+json": {
       "columns": [
        {
         "name": "index",
         "rawType": "object",
         "type": "string"
        },
        {
         "name": "three",
         "rawType": "float64",
         "type": "float"
        },
        {
         "name": "two",
         "rawType": "float64",
         "type": "float"
        },
        {
         "name": "one",
         "rawType": "float64",
         "type": "float"
        }
       ],
       "ref": "a7221ea5-e3d4-4c07-b174-6061b6ee83c1",
       "rows": [
        [
         "a",
         null,
         "-0.6973664495185574",
         "-0.5630048723451758"
        ],
        [
         "b",
         "0.38372477122442256",
         "1.0754820475529203",
         "1.2084689573384333"
        ],
        [
         "c",
         "-0.6576757145086247",
         "-0.9910705050119848",
         "-1.5997929889457378"
        ],
        [
         "d",
         "0.37445530804131727",
         "0.8313391395623884",
         null
        ]
       ],
       "shape": {
        "columns": 3,
        "rows": 4
       }
      },
      "text/html": [
       "<div>\n",
       "<style scoped>\n",
       "    .dataframe tbody tr th:only-of-type {\n",
       "        vertical-align: middle;\n",
       "    }\n",
       "\n",
       "    .dataframe tbody tr th {\n",
       "        vertical-align: top;\n",
       "    }\n",
       "\n",
       "    .dataframe thead th {\n",
       "        text-align: right;\n",
       "    }\n",
       "</style>\n",
       "<table border=\"1\" class=\"dataframe\">\n",
       "  <thead>\n",
       "    <tr style=\"text-align: right;\">\n",
       "      <th></th>\n",
       "      <th>three</th>\n",
       "      <th>two</th>\n",
       "      <th>one</th>\n",
       "    </tr>\n",
       "  </thead>\n",
       "  <tbody>\n",
       "    <tr>\n",
       "      <th>a</th>\n",
       "      <td>NaN</td>\n",
       "      <td>-0.697366</td>\n",
       "      <td>-0.563005</td>\n",
       "    </tr>\n",
       "    <tr>\n",
       "      <th>b</th>\n",
       "      <td>0.383725</td>\n",
       "      <td>1.075482</td>\n",
       "      <td>1.208469</td>\n",
       "    </tr>\n",
       "    <tr>\n",
       "      <th>c</th>\n",
       "      <td>-0.657676</td>\n",
       "      <td>-0.991071</td>\n",
       "      <td>-1.599793</td>\n",
       "    </tr>\n",
       "    <tr>\n",
       "      <th>d</th>\n",
       "      <td>0.374455</td>\n",
       "      <td>0.831339</td>\n",
       "      <td>NaN</td>\n",
       "    </tr>\n",
       "  </tbody>\n",
       "</table>\n",
       "</div>"
      ],
      "text/plain": [
       "      three       two       one\n",
       "a       NaN -0.697366 -0.563005\n",
       "b  0.383725  1.075482  1.208469\n",
       "c -0.657676 -0.991071 -1.599793\n",
       "d  0.374455  0.831339       NaN"
      ]
     },
     "execution_count": 235,
     "metadata": {},
     "output_type": "execute_result"
    }
   ],
   "source": [
    "df7.sort_index()"
   ]
  },
  {
   "cell_type": "code",
   "execution_count": 237,
   "id": "8cdcb385",
   "metadata": {},
   "outputs": [
    {
     "data": {
      "application/vnd.microsoft.datawrangler.viewer.v0+json": {
       "columns": [
        {
         "name": "index",
         "rawType": "object",
         "type": "string"
        },
        {
         "name": "one",
         "rawType": "float64",
         "type": "float"
        },
        {
         "name": "three",
         "rawType": "float64",
         "type": "float"
        },
        {
         "name": "two",
         "rawType": "float64",
         "type": "float"
        }
       ],
       "ref": "38f60820-bf3e-4081-a6f7-61efa1ee54dd",
       "rows": [
        [
         "a",
         "-0.5630048723451758",
         null,
         "-0.6973664495185574"
        ],
        [
         "d",
         null,
         "0.37445530804131727",
         "0.8313391395623884"
        ],
        [
         "c",
         "-1.5997929889457378",
         "-0.6576757145086247",
         "-0.9910705050119848"
        ],
        [
         "b",
         "1.2084689573384333",
         "0.38372477122442256",
         "1.0754820475529203"
        ]
       ],
       "shape": {
        "columns": 3,
        "rows": 4
       }
      },
      "text/html": [
       "<div>\n",
       "<style scoped>\n",
       "    .dataframe tbody tr th:only-of-type {\n",
       "        vertical-align: middle;\n",
       "    }\n",
       "\n",
       "    .dataframe tbody tr th {\n",
       "        vertical-align: top;\n",
       "    }\n",
       "\n",
       "    .dataframe thead th {\n",
       "        text-align: right;\n",
       "    }\n",
       "</style>\n",
       "<table border=\"1\" class=\"dataframe\">\n",
       "  <thead>\n",
       "    <tr style=\"text-align: right;\">\n",
       "      <th></th>\n",
       "      <th>one</th>\n",
       "      <th>three</th>\n",
       "      <th>two</th>\n",
       "    </tr>\n",
       "  </thead>\n",
       "  <tbody>\n",
       "    <tr>\n",
       "      <th>a</th>\n",
       "      <td>-0.563005</td>\n",
       "      <td>NaN</td>\n",
       "      <td>-0.697366</td>\n",
       "    </tr>\n",
       "    <tr>\n",
       "      <th>d</th>\n",
       "      <td>NaN</td>\n",
       "      <td>0.374455</td>\n",
       "      <td>0.831339</td>\n",
       "    </tr>\n",
       "    <tr>\n",
       "      <th>c</th>\n",
       "      <td>-1.599793</td>\n",
       "      <td>-0.657676</td>\n",
       "      <td>-0.991071</td>\n",
       "    </tr>\n",
       "    <tr>\n",
       "      <th>b</th>\n",
       "      <td>1.208469</td>\n",
       "      <td>0.383725</td>\n",
       "      <td>1.075482</td>\n",
       "    </tr>\n",
       "  </tbody>\n",
       "</table>\n",
       "</div>"
      ],
      "text/plain": [
       "        one     three       two\n",
       "a -0.563005       NaN -0.697366\n",
       "d       NaN  0.374455  0.831339\n",
       "c -1.599793 -0.657676 -0.991071\n",
       "b  1.208469  0.383725  1.075482"
      ]
     },
     "execution_count": 237,
     "metadata": {},
     "output_type": "execute_result"
    }
   ],
   "source": [
    "df7.sort_index(axis=1)"
   ]
  },
  {
   "cell_type": "code",
   "execution_count": 238,
   "id": "cf389ba0",
   "metadata": {},
   "outputs": [
    {
     "data": {
      "application/vnd.microsoft.datawrangler.viewer.v0+json": {
       "columns": [
        {
         "name": "('let', 'num')",
         "rawType": "object",
         "type": "unknown"
        },
        {
         "name": "x",
         "rawType": "int64",
         "type": "integer"
        },
        {
         "name": "y",
         "rawType": "int64",
         "type": "integer"
        }
       ],
       "ref": "05215d60-766f-4f8c-b98a-3d974e158148",
       "rows": [
        [
         "('a', np.int64(1))",
         "1",
         "10"
        ],
        [
         "('a', np.int64(2))",
         "2",
         "20"
        ],
        [
         "('b', np.int64(1))",
         "3",
         "30"
        ],
        [
         "('b', np.int64(2))",
         "4",
         "40"
        ],
        [
         "('c', np.int64(1))",
         "5",
         "50"
        ],
        [
         "('c', np.int64(2))",
         "6",
         "60"
        ]
       ],
       "shape": {
        "columns": 2,
        "rows": 6
       }
      },
      "text/html": [
       "<div>\n",
       "<style scoped>\n",
       "    .dataframe tbody tr th:only-of-type {\n",
       "        vertical-align: middle;\n",
       "    }\n",
       "\n",
       "    .dataframe tbody tr th {\n",
       "        vertical-align: top;\n",
       "    }\n",
       "\n",
       "    .dataframe thead th {\n",
       "        text-align: right;\n",
       "    }\n",
       "</style>\n",
       "<table border=\"1\" class=\"dataframe\">\n",
       "  <thead>\n",
       "    <tr style=\"text-align: right;\">\n",
       "      <th></th>\n",
       "      <th>Stat</th>\n",
       "      <th>x</th>\n",
       "      <th>y</th>\n",
       "    </tr>\n",
       "    <tr>\n",
       "      <th>let</th>\n",
       "      <th>num</th>\n",
       "      <th></th>\n",
       "      <th></th>\n",
       "    </tr>\n",
       "  </thead>\n",
       "  <tbody>\n",
       "    <tr>\n",
       "      <th rowspan=\"2\" valign=\"top\">a</th>\n",
       "      <th>1</th>\n",
       "      <td>1</td>\n",
       "      <td>10</td>\n",
       "    </tr>\n",
       "    <tr>\n",
       "      <th>2</th>\n",
       "      <td>2</td>\n",
       "      <td>20</td>\n",
       "    </tr>\n",
       "    <tr>\n",
       "      <th rowspan=\"2\" valign=\"top\">b</th>\n",
       "      <th>1</th>\n",
       "      <td>3</td>\n",
       "      <td>30</td>\n",
       "    </tr>\n",
       "    <tr>\n",
       "      <th>2</th>\n",
       "      <td>4</td>\n",
       "      <td>40</td>\n",
       "    </tr>\n",
       "    <tr>\n",
       "      <th rowspan=\"2\" valign=\"top\">c</th>\n",
       "      <th>1</th>\n",
       "      <td>5</td>\n",
       "      <td>50</td>\n",
       "    </tr>\n",
       "    <tr>\n",
       "      <th>2</th>\n",
       "      <td>6</td>\n",
       "      <td>60</td>\n",
       "    </tr>\n",
       "  </tbody>\n",
       "</table>\n",
       "</div>"
      ],
      "text/plain": [
       "Stat     x   y\n",
       "let num       \n",
       "a   1    1  10\n",
       "    2    2  20\n",
       "b   1    3  30\n",
       "    2    4  40\n",
       "c   1    5  50\n",
       "    2    6  60"
      ]
     },
     "execution_count": 238,
     "metadata": {},
     "output_type": "execute_result"
    }
   ],
   "source": [
    "df5"
   ]
  },
  {
   "cell_type": "code",
   "execution_count": 241,
   "id": "f8726b56",
   "metadata": {},
   "outputs": [
    {
     "data": {
      "application/vnd.microsoft.datawrangler.viewer.v0+json": {
       "columns": [
        {
         "name": "('let', 'num')",
         "rawType": "object",
         "type": "unknown"
        },
        {
         "name": "x",
         "rawType": "int64",
         "type": "integer"
        },
        {
         "name": "y",
         "rawType": "int64",
         "type": "integer"
        }
       ],
       "ref": "c3cc7b5c-2bce-4d6d-8be1-9e5d65e525f5",
       "rows": [
        [
         "('a', np.int64(1))",
         "1",
         "10"
        ],
        [
         "('b', np.int64(1))",
         "3",
         "30"
        ],
        [
         "('c', np.int64(1))",
         "5",
         "50"
        ],
        [
         "('a', np.int64(2))",
         "2",
         "20"
        ],
        [
         "('b', np.int64(2))",
         "4",
         "40"
        ],
        [
         "('c', np.int64(2))",
         "6",
         "60"
        ]
       ],
       "shape": {
        "columns": 2,
        "rows": 6
       }
      },
      "text/html": [
       "<div>\n",
       "<style scoped>\n",
       "    .dataframe tbody tr th:only-of-type {\n",
       "        vertical-align: middle;\n",
       "    }\n",
       "\n",
       "    .dataframe tbody tr th {\n",
       "        vertical-align: top;\n",
       "    }\n",
       "\n",
       "    .dataframe thead th {\n",
       "        text-align: right;\n",
       "    }\n",
       "</style>\n",
       "<table border=\"1\" class=\"dataframe\">\n",
       "  <thead>\n",
       "    <tr style=\"text-align: right;\">\n",
       "      <th></th>\n",
       "      <th>Stat</th>\n",
       "      <th>x</th>\n",
       "      <th>y</th>\n",
       "    </tr>\n",
       "    <tr>\n",
       "      <th>let</th>\n",
       "      <th>num</th>\n",
       "      <th></th>\n",
       "      <th></th>\n",
       "    </tr>\n",
       "  </thead>\n",
       "  <tbody>\n",
       "    <tr>\n",
       "      <th>a</th>\n",
       "      <th>1</th>\n",
       "      <td>1</td>\n",
       "      <td>10</td>\n",
       "    </tr>\n",
       "    <tr>\n",
       "      <th>b</th>\n",
       "      <th>1</th>\n",
       "      <td>3</td>\n",
       "      <td>30</td>\n",
       "    </tr>\n",
       "    <tr>\n",
       "      <th>c</th>\n",
       "      <th>1</th>\n",
       "      <td>5</td>\n",
       "      <td>50</td>\n",
       "    </tr>\n",
       "    <tr>\n",
       "      <th>a</th>\n",
       "      <th>2</th>\n",
       "      <td>2</td>\n",
       "      <td>20</td>\n",
       "    </tr>\n",
       "    <tr>\n",
       "      <th>b</th>\n",
       "      <th>2</th>\n",
       "      <td>4</td>\n",
       "      <td>40</td>\n",
       "    </tr>\n",
       "    <tr>\n",
       "      <th>c</th>\n",
       "      <th>2</th>\n",
       "      <td>6</td>\n",
       "      <td>60</td>\n",
       "    </tr>\n",
       "  </tbody>\n",
       "</table>\n",
       "</div>"
      ],
      "text/plain": [
       "Stat     x   y\n",
       "let num       \n",
       "a   1    1  10\n",
       "b   1    3  30\n",
       "c   1    5  50\n",
       "a   2    2  20\n",
       "b   2    4  40\n",
       "c   2    6  60"
      ]
     },
     "execution_count": 241,
     "metadata": {},
     "output_type": "execute_result"
    }
   ],
   "source": [
    "df5.sort_index(level=\"num\")"
   ]
  },
  {
   "cell_type": "code",
   "execution_count": 242,
   "id": "a882dc87",
   "metadata": {},
   "outputs": [
    {
     "data": {
      "application/vnd.microsoft.datawrangler.viewer.v0+json": {
       "columns": [
        {
         "name": "index",
         "rawType": "object",
         "type": "string"
        },
        {
         "name": "three",
         "rawType": "float64",
         "type": "float"
        },
        {
         "name": "two",
         "rawType": "float64",
         "type": "float"
        },
        {
         "name": "one",
         "rawType": "float64",
         "type": "float"
        }
       ],
       "ref": "1771eadb-542b-48eb-b42a-8318dc58e798",
       "rows": [
        [
         "a",
         null,
         "-0.6973664495185574",
         "-0.5630048723451758"
        ],
        [
         "d",
         "0.37445530804131727",
         "0.8313391395623884",
         null
        ],
        [
         "c",
         "-0.6576757145086247",
         "-0.9910705050119848",
         "-1.5997929889457378"
        ],
        [
         "b",
         "0.38372477122442256",
         "1.0754820475529203",
         "1.2084689573384333"
        ]
       ],
       "shape": {
        "columns": 3,
        "rows": 4
       }
      },
      "text/html": [
       "<div>\n",
       "<style scoped>\n",
       "    .dataframe tbody tr th:only-of-type {\n",
       "        vertical-align: middle;\n",
       "    }\n",
       "\n",
       "    .dataframe tbody tr th {\n",
       "        vertical-align: top;\n",
       "    }\n",
       "\n",
       "    .dataframe thead th {\n",
       "        text-align: right;\n",
       "    }\n",
       "</style>\n",
       "<table border=\"1\" class=\"dataframe\">\n",
       "  <thead>\n",
       "    <tr style=\"text-align: right;\">\n",
       "      <th></th>\n",
       "      <th>three</th>\n",
       "      <th>two</th>\n",
       "      <th>one</th>\n",
       "    </tr>\n",
       "  </thead>\n",
       "  <tbody>\n",
       "    <tr>\n",
       "      <th>a</th>\n",
       "      <td>NaN</td>\n",
       "      <td>-0.697366</td>\n",
       "      <td>-0.563005</td>\n",
       "    </tr>\n",
       "    <tr>\n",
       "      <th>d</th>\n",
       "      <td>0.374455</td>\n",
       "      <td>0.831339</td>\n",
       "      <td>NaN</td>\n",
       "    </tr>\n",
       "    <tr>\n",
       "      <th>c</th>\n",
       "      <td>-0.657676</td>\n",
       "      <td>-0.991071</td>\n",
       "      <td>-1.599793</td>\n",
       "    </tr>\n",
       "    <tr>\n",
       "      <th>b</th>\n",
       "      <td>0.383725</td>\n",
       "      <td>1.075482</td>\n",
       "      <td>1.208469</td>\n",
       "    </tr>\n",
       "  </tbody>\n",
       "</table>\n",
       "</div>"
      ],
      "text/plain": [
       "      three       two       one\n",
       "a       NaN -0.697366 -0.563005\n",
       "d  0.374455  0.831339       NaN\n",
       "c -0.657676 -0.991071 -1.599793\n",
       "b  0.383725  1.075482  1.208469"
      ]
     },
     "execution_count": 242,
     "metadata": {},
     "output_type": "execute_result"
    }
   ],
   "source": [
    "df7"
   ]
  },
  {
   "cell_type": "code",
   "execution_count": 245,
   "id": "78a3cb2f",
   "metadata": {},
   "outputs": [
    {
     "data": {
      "application/vnd.microsoft.datawrangler.viewer.v0+json": {
       "columns": [
        {
         "name": "index",
         "rawType": "object",
         "type": "string"
        },
        {
         "name": "three",
         "rawType": "float64",
         "type": "float"
        },
        {
         "name": "two",
         "rawType": "float64",
         "type": "float"
        },
        {
         "name": "one",
         "rawType": "float64",
         "type": "float"
        }
       ],
       "ref": "2ffa68f5-caad-41cd-8e6f-6ee54e4743da",
       "rows": [
        [
         "d",
         "0.37445530804131727",
         "0.8313391395623884",
         null
        ],
        [
         "c",
         "-0.6576757145086247",
         "-0.9910705050119848",
         "-1.5997929889457378"
        ],
        [
         "a",
         null,
         "-0.6973664495185574",
         "-0.5630048723451758"
        ],
        [
         "b",
         "0.38372477122442256",
         "1.0754820475529203",
         "1.2084689573384333"
        ]
       ],
       "shape": {
        "columns": 3,
        "rows": 4
       }
      },
      "text/html": [
       "<div>\n",
       "<style scoped>\n",
       "    .dataframe tbody tr th:only-of-type {\n",
       "        vertical-align: middle;\n",
       "    }\n",
       "\n",
       "    .dataframe tbody tr th {\n",
       "        vertical-align: top;\n",
       "    }\n",
       "\n",
       "    .dataframe thead th {\n",
       "        text-align: right;\n",
       "    }\n",
       "</style>\n",
       "<table border=\"1\" class=\"dataframe\">\n",
       "  <thead>\n",
       "    <tr style=\"text-align: right;\">\n",
       "      <th></th>\n",
       "      <th>three</th>\n",
       "      <th>two</th>\n",
       "      <th>one</th>\n",
       "    </tr>\n",
       "  </thead>\n",
       "  <tbody>\n",
       "    <tr>\n",
       "      <th>d</th>\n",
       "      <td>0.374455</td>\n",
       "      <td>0.831339</td>\n",
       "      <td>NaN</td>\n",
       "    </tr>\n",
       "    <tr>\n",
       "      <th>c</th>\n",
       "      <td>-0.657676</td>\n",
       "      <td>-0.991071</td>\n",
       "      <td>-1.599793</td>\n",
       "    </tr>\n",
       "    <tr>\n",
       "      <th>a</th>\n",
       "      <td>NaN</td>\n",
       "      <td>-0.697366</td>\n",
       "      <td>-0.563005</td>\n",
       "    </tr>\n",
       "    <tr>\n",
       "      <th>b</th>\n",
       "      <td>0.383725</td>\n",
       "      <td>1.075482</td>\n",
       "      <td>1.208469</td>\n",
       "    </tr>\n",
       "  </tbody>\n",
       "</table>\n",
       "</div>"
      ],
      "text/plain": [
       "      three       two       one\n",
       "d  0.374455  0.831339       NaN\n",
       "c -0.657676 -0.991071 -1.599793\n",
       "a       NaN -0.697366 -0.563005\n",
       "b  0.383725  1.075482  1.208469"
      ]
     },
     "execution_count": 245,
     "metadata": {},
     "output_type": "execute_result"
    }
   ],
   "source": [
    "df7.sort_values(by=\"one\", na_position=\"first\")"
   ]
  },
  {
   "cell_type": "code",
   "execution_count": 246,
   "id": "317679a2",
   "metadata": {},
   "outputs": [
    {
     "data": {
      "application/vnd.microsoft.datawrangler.viewer.v0+json": {
       "columns": [
        {
         "name": "('let', 'num')",
         "rawType": "object",
         "type": "unknown"
        },
        {
         "name": "x",
         "rawType": "int64",
         "type": "integer"
        },
        {
         "name": "y",
         "rawType": "int64",
         "type": "integer"
        }
       ],
       "ref": "3762e39e-d1b3-42ad-a2ab-de39d0621b07",
       "rows": [
        [
         "('a', np.int64(1))",
         "1",
         "10"
        ],
        [
         "('b', np.int64(1))",
         "3",
         "30"
        ],
        [
         "('c', np.int64(1))",
         "5",
         "50"
        ],
        [
         "('a', np.int64(2))",
         "2",
         "20"
        ],
        [
         "('b', np.int64(2))",
         "4",
         "40"
        ],
        [
         "('c', np.int64(2))",
         "6",
         "60"
        ]
       ],
       "shape": {
        "columns": 2,
        "rows": 6
       }
      },
      "text/html": [
       "<div>\n",
       "<style scoped>\n",
       "    .dataframe tbody tr th:only-of-type {\n",
       "        vertical-align: middle;\n",
       "    }\n",
       "\n",
       "    .dataframe tbody tr th {\n",
       "        vertical-align: top;\n",
       "    }\n",
       "\n",
       "    .dataframe thead th {\n",
       "        text-align: right;\n",
       "    }\n",
       "</style>\n",
       "<table border=\"1\" class=\"dataframe\">\n",
       "  <thead>\n",
       "    <tr style=\"text-align: right;\">\n",
       "      <th></th>\n",
       "      <th>Stat</th>\n",
       "      <th>x</th>\n",
       "      <th>y</th>\n",
       "    </tr>\n",
       "    <tr>\n",
       "      <th>let</th>\n",
       "      <th>num</th>\n",
       "      <th></th>\n",
       "      <th></th>\n",
       "    </tr>\n",
       "  </thead>\n",
       "  <tbody>\n",
       "    <tr>\n",
       "      <th>a</th>\n",
       "      <th>1</th>\n",
       "      <td>1</td>\n",
       "      <td>10</td>\n",
       "    </tr>\n",
       "    <tr>\n",
       "      <th>b</th>\n",
       "      <th>1</th>\n",
       "      <td>3</td>\n",
       "      <td>30</td>\n",
       "    </tr>\n",
       "    <tr>\n",
       "      <th>c</th>\n",
       "      <th>1</th>\n",
       "      <td>5</td>\n",
       "      <td>50</td>\n",
       "    </tr>\n",
       "    <tr>\n",
       "      <th>a</th>\n",
       "      <th>2</th>\n",
       "      <td>2</td>\n",
       "      <td>20</td>\n",
       "    </tr>\n",
       "    <tr>\n",
       "      <th>b</th>\n",
       "      <th>2</th>\n",
       "      <td>4</td>\n",
       "      <td>40</td>\n",
       "    </tr>\n",
       "    <tr>\n",
       "      <th>c</th>\n",
       "      <th>2</th>\n",
       "      <td>6</td>\n",
       "      <td>60</td>\n",
       "    </tr>\n",
       "  </tbody>\n",
       "</table>\n",
       "</div>"
      ],
      "text/plain": [
       "Stat     x   y\n",
       "let num       \n",
       "a   1    1  10\n",
       "b   1    3  30\n",
       "c   1    5  50\n",
       "a   2    2  20\n",
       "b   2    4  40\n",
       "c   2    6  60"
      ]
     },
     "execution_count": 246,
     "metadata": {},
     "output_type": "execute_result"
    }
   ],
   "source": [
    "df5.sort_values(by=[\"num\", \"x\"])"
   ]
  },
  {
   "cell_type": "code",
   "execution_count": 247,
   "id": "be42f9c7",
   "metadata": {},
   "outputs": [
    {
     "data": {
      "application/vnd.microsoft.datawrangler.viewer.v0+json": {
       "columns": [
        {
         "name": "('let', 'num')",
         "rawType": "object",
         "type": "unknown"
        },
        {
         "name": "x",
         "rawType": "int64",
         "type": "integer"
        },
        {
         "name": "y",
         "rawType": "int64",
         "type": "integer"
        }
       ],
       "ref": "7813503a-a81f-4448-b366-c7923549604f",
       "rows": [
        [
         "('c', np.int64(2))",
         "6",
         "60"
        ],
        [
         "('c', np.int64(1))",
         "5",
         "50"
        ]
       ],
       "shape": {
        "columns": 2,
        "rows": 2
       }
      },
      "text/html": [
       "<div>\n",
       "<style scoped>\n",
       "    .dataframe tbody tr th:only-of-type {\n",
       "        vertical-align: middle;\n",
       "    }\n",
       "\n",
       "    .dataframe tbody tr th {\n",
       "        vertical-align: top;\n",
       "    }\n",
       "\n",
       "    .dataframe thead th {\n",
       "        text-align: right;\n",
       "    }\n",
       "</style>\n",
       "<table border=\"1\" class=\"dataframe\">\n",
       "  <thead>\n",
       "    <tr style=\"text-align: right;\">\n",
       "      <th></th>\n",
       "      <th>Stat</th>\n",
       "      <th>x</th>\n",
       "      <th>y</th>\n",
       "    </tr>\n",
       "    <tr>\n",
       "      <th>let</th>\n",
       "      <th>num</th>\n",
       "      <th></th>\n",
       "      <th></th>\n",
       "    </tr>\n",
       "  </thead>\n",
       "  <tbody>\n",
       "    <tr>\n",
       "      <th rowspan=\"2\" valign=\"top\">c</th>\n",
       "      <th>2</th>\n",
       "      <td>6</td>\n",
       "      <td>60</td>\n",
       "    </tr>\n",
       "    <tr>\n",
       "      <th>1</th>\n",
       "      <td>5</td>\n",
       "      <td>50</td>\n",
       "    </tr>\n",
       "  </tbody>\n",
       "</table>\n",
       "</div>"
      ],
      "text/plain": [
       "Stat     x   y\n",
       "let num       \n",
       "c   2    6  60\n",
       "    1    5  50"
      ]
     },
     "execution_count": 247,
     "metadata": {},
     "output_type": "execute_result"
    }
   ],
   "source": [
    "df5.nlargest(2, \"x\")"
   ]
  },
  {
   "cell_type": "code",
   "execution_count": 248,
   "id": "77b04e73",
   "metadata": {},
   "outputs": [
    {
     "data": {
      "text/plain": [
       "dtype('int64')"
      ]
     },
     "execution_count": 248,
     "metadata": {},
     "output_type": "execute_result"
    }
   ],
   "source": [
    "df5[\"x\"].dtype"
   ]
  },
  {
   "cell_type": "code",
   "execution_count": 252,
   "id": "ea25f622",
   "metadata": {},
   "outputs": [
    {
     "data": {
      "text/plain": [
       "DatetimeIndex(['2016-07-09', '2016-03-02'], dtype='datetime64[ns]', freq=None)"
      ]
     },
     "execution_count": 252,
     "metadata": {},
     "output_type": "execute_result"
    }
   ],
   "source": [
    "import datetime\n",
    "m = [\"2016-07-09\", datetime.datetime(2016, 3, 2)]\n",
    "pd.to_datetime(m)"
   ]
  },
  {
   "cell_type": "code",
   "execution_count": 265,
   "id": "99188c97",
   "metadata": {},
   "outputs": [
    {
     "data": {
      "application/vnd.microsoft.datawrangler.viewer.v0+json": {
       "columns": [
        {
         "name": "index",
         "rawType": "int64",
         "type": "integer"
        },
        {
         "name": "Date1",
         "rawType": "datetime64[ns]",
         "type": "datetime"
        },
        {
         "name": "Date2",
         "rawType": "datetime64[ns]",
         "type": "datetime"
        },
        {
         "name": "GDP",
         "rawType": "float64",
         "type": "float"
        }
       ],
       "ref": "0eb2b47c-171d-481b-9e45-dc7abf3ee671",
       "rows": [
        [
         "0",
         "2016-07-09 00:00:00",
         "2016-03-02 00:00:00",
         "1.2"
        ],
        [
         "1",
         "2016-07-09 00:00:00",
         "2016-03-02 00:00:00",
         "2.3"
        ]
       ],
       "shape": {
        "columns": 3,
        "rows": 2
       }
      },
      "text/html": [
       "<div>\n",
       "<style scoped>\n",
       "    .dataframe tbody tr th:only-of-type {\n",
       "        vertical-align: middle;\n",
       "    }\n",
       "\n",
       "    .dataframe tbody tr th {\n",
       "        vertical-align: top;\n",
       "    }\n",
       "\n",
       "    .dataframe thead th {\n",
       "        text-align: right;\n",
       "    }\n",
       "</style>\n",
       "<table border=\"1\" class=\"dataframe\">\n",
       "  <thead>\n",
       "    <tr style=\"text-align: right;\">\n",
       "      <th></th>\n",
       "      <th>Date1</th>\n",
       "      <th>Date2</th>\n",
       "      <th>GDP</th>\n",
       "    </tr>\n",
       "  </thead>\n",
       "  <tbody>\n",
       "    <tr>\n",
       "      <th>0</th>\n",
       "      <td>2016-07-09</td>\n",
       "      <td>2016-03-02</td>\n",
       "      <td>1.2</td>\n",
       "    </tr>\n",
       "    <tr>\n",
       "      <th>1</th>\n",
       "      <td>2016-07-09</td>\n",
       "      <td>2016-03-02</td>\n",
       "      <td>2.3</td>\n",
       "    </tr>\n",
       "  </tbody>\n",
       "</table>\n",
       "</div>"
      ],
      "text/plain": [
       "       Date1      Date2  GDP\n",
       "0 2016-07-09 2016-03-02  1.2\n",
       "1 2016-07-09 2016-03-02  2.3"
      ]
     },
     "execution_count": 265,
     "metadata": {},
     "output_type": "execute_result"
    }
   ],
   "source": [
    "df7 = pd.DataFrame([[\"2016-07-09\", datetime.datetime(2016, 3, 2)]] * 2, columns=[\"Date1\", \"Date2\"], dtype=\"O\")\n",
    "df7[\"GDP\"] = [1.2, 2.3]\n",
    "df7[[\"Date1\", \"Date2\"]] = df7[[\"Date1\", \"Date2\"]].apply(pd.to_datetime)\n",
    "df7"
   ]
  },
  {
   "cell_type": "code",
   "execution_count": null,
   "id": "7960acf3",
   "metadata": {},
   "outputs": [],
   "source": []
  }
 ],
 "metadata": {
  "kernelspec": {
   "display_name": "Python 3.12 (l5)",
   "language": "python",
   "name": "l5-312"
  },
  "language_info": {
   "codemirror_mode": {
    "name": "ipython",
    "version": 3
   },
   "file_extension": ".py",
   "mimetype": "text/x-python",
   "name": "python",
   "nbconvert_exporter": "python",
   "pygments_lexer": "ipython3",
   "version": "3.13.7"
  }
 },
 "nbformat": 4,
 "nbformat_minor": 5
}
